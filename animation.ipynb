{
 "cells": [
  {
   "cell_type": "code",
   "execution_count": 2,
   "metadata": {},
   "outputs": [
    {
     "name": "stdout",
     "output_type": "stream",
     "text": [
      "Found rosetta database at: /usr/local/lib/python2.7/dist-packages/pyrosetta-2018.11+release.7c7790f-py2.7-linux-x86_64.egg/pyrosetta/database; using it....\n",
      "PyRosetta-4 2017 [Rosetta PyRosetta4.Release.python27.ubuntu 2018.11+release.7c7790f7c7790fbb898f8210b54513b9f9c8a927c3e8d7f 2018-03-14T13:19:04] retrieved from: http://www.pyrosetta.org\n",
      "(C) Copyright Rosetta Commons Member Institutions.\n",
      "Created in JHU by Sergey Lyskov and PyRosetta Team.\n",
      "\n",
      "\u001b[0mcore.init: \u001b[0mChecking for fconfig files in pwd and ./rosetta/flags\n",
      "\n",
      "\u001b[0mcore.init: \u001b[0mRosetta version: PyRosetta4.Release.python27.ubuntu r173 2018.11+release.7c7790f 7c7790fbb898f8210b54513b9f9c8a927c3e8d7f http://www.pyrosetta.org 2018-03-14T13:19:04\n",
      "\u001b[0mcore.init: \u001b[0mcommand: PyRosetta -ex1 -ex2aro -database /usr/local/lib/python2.7/dist-packages/pyrosetta-2018.11+release.7c7790f-py2.7-linux-x86_64.egg/pyrosetta/database\n",
      "\u001b[0mcore.init: \u001b[0m'RNG device' seed mode, using '/dev/urandom', seed=209234815 seed_offset=0 real_seed=209234815\n",
      "\u001b[0mcore.init.random: \u001b[0mRandomGenerator:init: Normal mode, seed=209234815 RG_type=mt19937\n"
     ]
    }
   ],
   "source": [
    "from pyrosetta import *\n",
    "from pyrosetta.rosetta import *\n",
    "init()"
   ]
  },
  {
   "cell_type": "code",
   "execution_count": 3,
   "metadata": {},
   "outputs": [],
   "source": [
    "import math\n",
    "import random\n",
    "import numpy as np\n",
    "import scipy\n",
    "import matplotlib\n",
    "import matplotlib.pyplot as plt\n",
    "from pyrosetta.rosetta.protocols.moves import *\n",
    "from pyrosetta.rosetta.core.id import *"
   ]
  },
  {
   "cell_type": "code",
   "execution_count": 4,
   "metadata": {},
   "outputs": [],
   "source": [
    "def within_360(ang):\n",
    "    \n",
    "    return ang - 360.0*int(ang/360.0)"
   ]
  },
  {
   "cell_type": "code",
   "execution_count": 5,
   "metadata": {},
   "outputs": [],
   "source": [
    "def numpy_hessian(x, h):\n",
    "        \n",
    "    x_grad = np.gradient(x, h)\n",
    "    hessian = np.empty((x.ndim, x.ndim) + x.shape, dtype = x.dtype)\n",
    "    \n",
    "    for k, grad_k in enumerate(x_grad):\n",
    "        tmp_grad = np.gradient(grad_k, h)\n",
    "        for l, grad_kl in enumerate(tmp_grad):\n",
    "            hessian[k, l, :, :] = grad_kl\n",
    "            \n",
    "    return hessian"
   ]
  },
  {
   "cell_type": "code",
   "execution_count": 6,
   "metadata": {},
   "outputs": [],
   "source": [
    "def initialize_pose(seq1, seq2):\n",
    "    \n",
    "    n_residues = len(seq1) + len(seq2)\n",
    "    \n",
    "    dof_dict = {}\n",
    "    \n",
    "    pose = pyrosetta.rosetta.protocols.recces.pose_setup_turner(seq1, seq2)\n",
    "    movemap = MoveMap()\n",
    "    \n",
    "    for ii in range(n_residues-1):\n",
    "    \n",
    "        dof_dict.update({6*ii:TorsionID(ii+2, BB, 1), 6*ii+1:TorsionID(ii+2, BB, 2), 6*ii+2:TorsionID(ii+2, BB, 3),\n",
    "                 6*ii+3:TorsionID(ii+1, BB, 5), 6*ii+4:TorsionID(ii+1, BB, 6)})\n",
    "        \n",
    "        movemap.set(TorsionID(ii+2, BB, 1), True)\n",
    "        movemap.set(TorsionID(ii+2, BB, 2), True)\n",
    "        movemap.set(TorsionID(ii+2, BB, 3), True)\n",
    "        movemap.set(TorsionID(ii+1, BB, 5), True)\n",
    "        movemap.set(TorsionID(ii+1, BB, 6), True)\n",
    "        \n",
    "    for ii in range(n_residues-1):\n",
    "        \n",
    "        dof_dict.update({6*ii+5:TorsionID(ii+1, CHI, 1)})\n",
    "        \n",
    "    dof_dict.update({6*(n_residues-1):TorsionID(n_residues, CHI, 1)})\n",
    "    \n",
    "    movemap.set_chi(True)\n",
    "    \n",
    "    return pose, movemap, dof_dict"
   ]
  },
  {
   "cell_type": "code",
   "execution_count": 7,
   "metadata": {},
   "outputs": [],
   "source": [
    "def find_minimum(pose, sf, movemap):\n",
    "    \n",
    "    \n",
    "    minimum = Pose()\n",
    "    minimum.assign(pose)\n",
    "    #observer = AddPyMOLObserver(minimum, True)\n",
    "    sf(minimum)\n",
    "    n_residues = pose.total_residue()\n",
    "    \n",
    "    movemap = MoveMap()\n",
    "    for ii in range(n_residues-1):\n",
    "        \n",
    "        minimum.set_alpha(  ii+2, random.uniform(0, 360))\n",
    "        minimum.set_beta(   ii+2, random.uniform(0, 360))\n",
    "        minimum.set_gamma(  ii+2, random.uniform(0, 360))\n",
    "        minimum.set_epsilon(ii+1, random.uniform(0, 360))\n",
    "        minimum.set_zeta(   ii+1, random.uniform(0, 360))\n",
    "             \n",
    "    for ii in range(n_residues):\n",
    "        \n",
    "        pose.set_chi(ii+1, random.uniform(0, 360))\n",
    "    '''\n",
    "    minmap = rosetta.core.optimization.MinimizerMap()\n",
    "    minmap.setup(pose, movemap)\n",
    "    sf.setup_for_minimizing(pose, minmap)\n",
    "    multifunc = rosetta.core.optimization.AtomTreeMultifunc(pose, minmap, sf)\n",
    "    num_dofs = minmap.nangles()\n",
    "    print num_dofs\n",
    "    '''\n",
    "    minmover = rosetta.protocols.minimization_packing.MinMover(movemap, sf, 'dfpmin', 1e-5, True)\n",
    "    \n",
    "    minmover.apply(minimum)\n",
    "    \n",
    "    return minimum   "
   ]
  },
  {
   "cell_type": "code",
   "execution_count": 13,
   "metadata": {},
   "outputs": [],
   "source": [
    "pose, movemap, dof_dict = initialize_pose('aa', 'uu')\n",
    "scorefxn = core.scoring.ScoreFunctionFactory.create_score_function('rna/denovo/rna_hires')"
   ]
  },
  {
   "cell_type": "code",
   "execution_count": 14,
   "metadata": {},
   "outputs": [
    {
     "name": "stdout",
     "output_type": "stream",
     "text": [
      "{0: <pyrosetta.rosetta.core.id.TorsionID object at 0x7f46ec587b20>, 1: <pyrosetta.rosetta.core.id.TorsionID object at 0x7f46ec587b90>, 2: <pyrosetta.rosetta.core.id.TorsionID object at 0x7f46ec587c38>, 3: <pyrosetta.rosetta.core.id.TorsionID object at 0x7f46ec587c70>, 4: <pyrosetta.rosetta.core.id.TorsionID object at 0x7f46ec587bc8>, 5: <pyrosetta.rosetta.core.id.TorsionID object at 0x7f46ec587df8>, 6: <pyrosetta.rosetta.core.id.TorsionID object at 0x7f46ec587c00>, 7: <pyrosetta.rosetta.core.id.TorsionID object at 0x7f46ec587ae8>, 8: <pyrosetta.rosetta.core.id.TorsionID object at 0x7f46ec587810>, 9: <pyrosetta.rosetta.core.id.TorsionID object at 0x7f46ec587880>, 10: <pyrosetta.rosetta.core.id.TorsionID object at 0x7f46ec587ca8>, 11: <pyrosetta.rosetta.core.id.TorsionID object at 0x7f46ec587e30>, 12: <pyrosetta.rosetta.core.id.TorsionID object at 0x7f46ec587ce0>, 13: <pyrosetta.rosetta.core.id.TorsionID object at 0x7f46ec587d18>, 14: <pyrosetta.rosetta.core.id.TorsionID object at 0x7f46ec587d50>, 15: <pyrosetta.rosetta.core.id.TorsionID object at 0x7f46ec587d88>, 16: <pyrosetta.rosetta.core.id.TorsionID object at 0x7f46ec587dc0>, 17: <pyrosetta.rosetta.core.id.TorsionID object at 0x7f46ec587e68>, 18: <pyrosetta.rosetta.core.id.TorsionID object at 0x7f46ec587ea0>}\n"
     ]
    }
   ],
   "source": [
    "#pose.assign(find_minimum(pose, scorefxn, movemap))\n",
    "minmover = rosetta.protocols.minimization_packing.MinMover(movemap, scorefxn, 'dfpmin', 1e-5, True)\n",
    "pmm = PyMOLMover()\n",
    "pmm.apply(pose)\n",
    "print dof_dict\n",
    "#minmover.apply(pose)\n",
    "pmm.apply(pose)"
   ]
  },
  {
   "cell_type": "code",
   "execution_count": 18,
   "metadata": {},
   "outputs": [
    {
     "name": "stdout",
     "output_type": "stream",
     "text": [
      "[-64.0, 176.0, 53.0, -150.0, -79.0, 79.0, 176.0, 53.0, -150.0, -79.0, 79.0, 79.0, -64.0, 176.0, 53.0, -150.0, -79.0, 79.0, 79.0]\n",
      "[-64.0, 176.0, 53.0, -150.0, -79.0, 79.0, 176.0, 53.0, -150.0, -79.0, 79.0, 79.0, -64.0, 176.0, 53.0, -150.0, -79.0, 79.0, 79.0]\n"
     ]
    }
   ],
   "source": [
    "import itertools\n",
    "\n",
    "trial = Pose()\n",
    "trial.assign(pose)\n",
    "\n",
    "pose.set_alpha(2, -64)\n",
    "pose.set_beta(2, 176)\n",
    "pose.set_gamma(2, 53)\n",
    "pose.set_epsilon(1, -150)\n",
    "pose.set_zeta(1, -79)\n",
    "pose.set_chi(1, 79)\n",
    "pose.set_chi(2, 79)\n",
    "\n",
    "pose.set_alpha(4, -64)\n",
    "pose.set_beta(4, 176)\n",
    "pose.set_gamma(4, 53)\n",
    "pose.set_epsilon(3, -150)\n",
    "pose.set_zeta(3, -79)\n",
    "pose.set_chi(3, 79)\n",
    "\n",
    "pose.set_chi(4, 79)\n",
    "pmm.apply(pose)\n",
    "h = 0.5\n",
    "h_rad = h*np.pi/180\n",
    "\n",
    "dofs = []\n",
    "dofs.append(pose.alpha(2))\n",
    "dofs.append(pose.beta(2))\n",
    "dofs.append(pose.gamma(2))\n",
    "dofs.append(pose.epsilon(1))\n",
    "dofs.append(pose.zeta(1))\n",
    "dofs.append(pose.chi(1))\n",
    "\n",
    "dofs.append(pose.alpha(3))\n",
    "dofs.append(pose.beta(3))\n",
    "dofs.append(pose.gamma(3))\n",
    "dofs.append(pose.epsilon(2))\n",
    "dofs.append(pose.zeta(2))\n",
    "dofs.append(pose.chi(2))\n",
    "\n",
    "dofs.append(pose.alpha(4))\n",
    "dofs.append(pose.beta(4))\n",
    "dofs.append(pose.gamma(4))\n",
    "dofs.append(pose.epsilon(3))\n",
    "dofs.append(pose.zeta(3))\n",
    "dofs.append(pose.chi(3))\n",
    "dofs.append(pose.chi(4))\n",
    "\n",
    "print dofs\n",
    "hessian = np.zeros((len(dofs), len(dofs)))\n",
    "\n",
    "n_pts = int(4/h + 1)\n",
    "ind = int(n_pts/2)\n",
    "\n",
    "tor_ranges = np.zeros((n_pts, len(dofs)))\n",
    "energy = np.zeros((n_pts, n_pts))\n",
    "\n",
    "for ii, dof in enumerate(dofs):\n",
    "            \n",
    "    tor_ranges[:, ii] = dof + np.arange(-2, 2+h, h)\n",
    "    \n",
    "for pair in list(itertools.combinations(range(len(dofs)), 2)):\n",
    "    \n",
    "    x = tor_ranges[:, pair[0]]\n",
    "    y = tor_ranges[:, pair[1]]\n",
    "\n",
    "    for ii, xx in enumerate(x):\n",
    "        \n",
    "        if ii in [6,7,8,9,10,11]:\n",
    "        \n",
    "            continue\n",
    "            \n",
    "        pose.set_torsion(dof_dict[pair[0]], xx)\n",
    "        \n",
    "        for jj, yy in enumerate(y):\n",
    "       \n",
    "            if ii in [6,7,8,9,10,11]:\n",
    "        \n",
    "                continue\n",
    "            \n",
    "            pose.set_torsion(dof_dict[pair[1]], yy)\n",
    "            \n",
    "            energy[ii, jj] = scorefxn(pose)\n",
    "\n",
    "            pose.set_torsion(dof_dict[pair[1]], dofs[pair[1]])\n",
    "            \n",
    "        pose.set_torsion(dof_dict[pair[0]], dofs[pair[0]])\n",
    "        \n",
    "    hess = numpy_hessian(energy, h)\n",
    "    \n",
    "    d2E_dx2 =  hess[0,0,:,:]\n",
    "    d2E_dy2 =  hess[1,1,:,:]\n",
    "    d2E_dxdy = hess[0,1,:,:]\n",
    "    \n",
    "    if hessian[pair[0], pair[0]] == 0:\n",
    "        \n",
    "        hessian[pair[0], pair[0]] = d2E_dx2[5,5]\n",
    "        \n",
    "    if hessian[pair[1], pair[1]] == 0:\n",
    "        \n",
    "        hessian[pair[1], [pair[1]]] = d2E_dy2[ind, ind]\n",
    "        \n",
    "    hessian[pair[0],pair[1]] = d2E_dxdy[ind, ind]\n",
    "    hessian[pair[1],pair[0]] = d2E_dxdy[ind, ind]\n",
    "    \n",
    "               \n",
    "print dofs                    \n",
    "pmm.apply(pose)\n",
    "    "
   ]
  },
  {
   "cell_type": "code",
   "execution_count": 19,
   "metadata": {},
   "outputs": [],
   "source": [
    "import scipy\n",
    "import scipy.linalg\n",
    "\n",
    "w,v = scipy.linalg.eigh(hessian)"
   ]
  },
  {
   "cell_type": "code",
   "execution_count": 20,
   "metadata": {
    "scrolled": true
   },
   "outputs": [
    {
     "name": "stdout",
     "output_type": "stream",
     "text": [
      "[ -2.62523118e-02  -1.49241193e-02  -9.01142921e-03  -1.04039648e-03\n",
      "  -7.01461081e-04  -1.39485797e-05   6.22487965e-04   9.68105644e-04\n",
      "   1.85945097e-03   8.76376065e-03   1.10057882e-02   2.13421991e-02\n",
      "   3.35328868e-01   1.07832454e+01   1.09589956e+01   1.09589956e+01\n",
      "   1.09589956e+01   1.09589956e+01   1.09735698e+01] [[  7.50931158e-04  -8.70953760e-05   2.84511183e-05  -3.48650062e-06\n",
      "   -8.87244826e-06   2.19473550e-06   1.71672620e-05   4.39521289e-05\n",
      "    2.93365709e-05   4.10780704e-05   3.45473609e-04   4.97984684e-04\n",
      "    1.72797906e-03   9.99998035e-01   0.00000000e+00   0.00000000e+00\n",
      "    0.00000000e+00   0.00000000e+00  -1.71050259e-46]\n",
      " [  1.97006273e-01  -3.94179168e-01   3.66006185e-03   1.33049476e-01\n",
      "   -3.73539073e-02   1.12910403e-01  -4.38163644e-01  -1.35075003e-01\n",
      "    5.66959265e-01   1.60814951e-01  -3.51729774e-01  -2.79977165e-01\n",
      "   -1.19639727e-01   2.75404657e-04   1.03595727e-17  -2.27380250e-17\n",
      "   -2.92987911e-17   8.99662622e-18   6.09786536e-17]\n",
      " [  2.40012682e-01  -1.33009639e-01   2.10600095e-02   1.84915757e-02\n",
      "   -5.68515050e-02   9.75803694e-04   5.24367050e-02  -2.49971336e-01\n",
      "   -6.76821823e-01  -4.58532467e-02  -5.72165070e-01  -2.60137051e-01\n",
      "   -1.46312537e-02   1.91462058e-04  -4.88365538e-17  -2.66151818e-17\n",
      "   -4.51070529e-19   4.15008594e-18  -4.10849956e-17]\n",
      " [  6.88316387e-01   2.49476534e-01   7.16890698e-02   1.83109898e-01\n",
      "    6.54808422e-02   8.19572754e-03   5.08008207e-01   1.18656722e-01\n",
      "    3.01974963e-01  -2.06088939e-01  -8.72599326e-02  -6.04924314e-02\n",
      "    6.22198991e-02  -5.57563173e-04   1.51166462e-17   1.82284067e-17\n",
      "    1.10737239e-17  -3.88186853e-17  -7.21602158e-17]\n",
      " [  4.52975925e-01   5.08956201e-01  -2.39371289e-01  -9.16547639e-03\n",
      "   -7.42825503e-02   3.24129310e-02  -6.09076361e-01  -6.04431618e-02\n",
      "   -1.58995187e-01   1.30446198e-01   1.30091358e-01   1.94533304e-01\n",
      "   -1.16225793e-02  -3.99094058e-04  -6.53304121e-17  -2.82623459e-17\n",
      "   -1.04940586e-17   3.84299395e-17   5.90448436e-17]\n",
      " [  3.48477034e-01  -5.40135542e-01   7.94068593e-02  -2.07660145e-01\n",
      "    2.57029980e-01  -1.29062424e-01  -1.85699086e-01   4.82234747e-01\n",
      "   -1.81938340e-01  -3.27325804e-02   1.45641128e-01   1.72681303e-01\n",
      "    3.20045270e-01  -1.00981163e-03   1.93102606e-17   8.70156194e-18\n",
      "    3.10916914e-17   4.85574328e-17   2.51519953e-17]\n",
      " [  0.00000000e+00   0.00000000e+00   0.00000000e+00  -7.63278329e-17\n",
      "    8.32667268e-17  -1.38777878e-17  -1.11022302e-16   1.11022302e-16\n",
      "   -5.55111512e-17  -2.77555756e-17   0.00000000e+00  -3.46944695e-18\n",
      "    3.81164826e-21   0.00000000e+00  -3.97818402e-06   3.00998948e-05\n",
      "    8.36872650e-05  -9.99999996e-01  -2.80098419e-15]\n",
      " [  0.00000000e+00   0.00000000e+00   0.00000000e+00  -3.46944695e-18\n",
      "   -1.38777878e-17   4.38017678e-17  -9.02056208e-17   0.00000000e+00\n",
      "    5.55111512e-17   0.00000000e+00  -1.38777878e-17   0.00000000e+00\n",
      "    8.27180613e-25   0.00000000e+00  -9.02208073e-01  -1.67844708e-01\n",
      "   -3.97301831e-01  -3.47120620e-05   3.85846280e-13]\n",
      " [ -1.08420217e-19  -6.93889390e-18  -5.55111512e-17  -2.77555756e-17\n",
      "   -1.24900090e-16  -6.24500451e-17   1.66533454e-16   5.55111512e-17\n",
      "    3.12250226e-17  -1.11022302e-16   0.00000000e+00   0.00000000e+00\n",
      "    6.46234854e-27   0.00000000e+00  -3.50560971e-01   8.21998512e-01\n",
      "    4.48804465e-01   6.36958832e-05   2.19428642e-13]\n",
      " [ -3.38813179e-21  -8.67361738e-19  -1.38777878e-17   5.55111512e-17\n",
      "   -2.22044605e-16  -9.71445147e-17   0.00000000e+00   5.55111512e-17\n",
      "   -1.11022302e-16   2.77555756e-17  -3.46944695e-18   2.71050543e-20\n",
      "   -5.04870979e-29   0.00000000e+00   2.51252060e-01   5.44193531e-01\n",
      "   -8.00453497e-01  -5.16071230e-05  -1.53909083e-13]\n",
      " [  2.11758237e-22   1.08420217e-19   1.73472348e-18   5.55111512e-17\n",
      "    0.00000000e+00  -1.38777878e-17  -1.11022302e-16   5.55111512e-17\n",
      "   -2.22044605e-16   3.46944695e-18  -4.33680869e-19   0.00000000e+00\n",
      "   -9.86076132e-32   0.00000000e+00   4.46204373e-13  -3.17523785e-14\n",
      "   -6.68274017e-14  -2.81892565e-15   1.00000000e+00]\n",
      " [ -2.23130816e-01   3.49649089e-01  -8.98263922e-02  -2.89155851e-01\n",
      "    4.09752491e-03  -1.23903523e-01  -1.02402185e-01   6.19624518e-01\n",
      "    1.11871913e-01  -8.77319803e-02  -5.41322349e-01  -1.13955619e-01\n",
      "   -1.61384694e-02   4.46359134e-04   2.52908893e-17   4.31922312e-17\n",
      "    3.84963333e-17   1.05341280e-17   5.27010997e-17]\n",
      " [  3.82860707e-02   1.01531666e-01   9.73247393e-02  -6.42612102e-01\n",
      "    5.35585094e-02   5.48787415e-01   9.65044455e-02  -2.24342057e-01\n",
      "    1.00135930e-01   1.63768532e-01  -2.11633650e-02  -9.40730887e-02\n",
      "    3.94941860e-01  -6.55401533e-04   9.84614980e-17   3.45497576e-17\n",
      "   -5.70280109e-17  -9.54194732e-18   1.59510694e-16]\n",
      " [ -1.31900754e-01   2.17446798e-02  -3.35767672e-01   4.98409256e-01\n",
      "   -1.74525319e-01   2.21764752e-01   2.73080622e-02   2.20592695e-01\n",
      "   -7.17799218e-02   1.99190651e-01   4.59549877e-02  -2.75660952e-01\n",
      "    6.07454768e-01  -8.34315239e-04  -4.88707789e-17  -5.94548479e-17\n",
      "    4.80591518e-17  -2.25383125e-17  -8.90241898e-17]\n",
      " [  2.68908716e-02   1.14616570e-01   8.44491090e-03  -1.77729294e-01\n",
      "    9.46472650e-02  -7.46773563e-01   6.22063207e-02  -2.44874259e-01\n",
      "    1.03306720e-01   3.88571242e-01   4.18591624e-02  -2.67511463e-01\n",
      "    2.98403054e-01  -4.14769073e-04   1.98128092e-16   2.34772604e-17\n",
      "    6.88076308e-18  -4.97812490e-17  -1.50241128e-17]\n",
      " [ -7.98715009e-02   2.08379838e-01   8.11715769e-01   1.95544795e-01\n",
      "   -6.44438285e-02  -1.08055249e-02  -2.95097686e-01   1.26173198e-02\n",
      "   -3.37257217e-02  -2.48080732e-01   6.52782874e-02  -1.84150181e-01\n",
      "    2.46398911e-01  -2.85762734e-04  -2.76438951e-16  -6.83896304e-17\n",
      "   -1.09630539e-16   4.33352055e-17  -9.54713888e-18]\n",
      " [ -1.26912338e-03   2.26069394e-02   3.34351930e-01   1.85642935e-01\n",
      "   -8.56644757e-02   5.52295006e-02   1.40734510e-01   8.57499559e-02\n",
      "   -5.18372969e-03   6.37295037e-01  -3.04587159e-01   5.62511892e-01\n",
      "    1.78881033e-02  -2.44842654e-04   2.18002928e-17  -9.73478349e-17\n",
      "   -4.07106483e-17  -7.16416659e-17  -4.91882219e-17]\n",
      " [ -1.26872344e-01   1.47442027e-01  -3.67954251e-02   2.33392953e-01\n",
      "    9.28786438e-01   1.23426790e-01  -6.60106489e-02  -1.01603974e-01\n",
      "   -2.49338374e-02   4.02603676e-02  -1.07094860e-01  -4.09423028e-03\n",
      "    7.08531056e-03   1.49415157e-04   9.66825170e-17  -6.94181254e-17\n",
      "   -1.02147507e-17   2.95174473e-17  -5.04183806e-17]\n",
      " [  1.06429435e-01   4.54369459e-02   1.68582194e-01  -3.85444918e-02\n",
      "    5.53569364e-02   1.66445523e-01   7.79203809e-02   3.29031712e-01\n",
      "   -1.75346365e-01   4.65815712e-01   3.11958425e-01  -5.12723344e-01\n",
      "   -4.51293797e-01   8.16824011e-04   1.82354195e-17  -6.17987084e-17\n",
      "   -1.20472587e-17  -2.51222284e-17  -8.47477927e-18]]\n"
     ]
    }
   ],
   "source": [
    "print w, v\n",
    "pmm.apply(pose)"
   ]
  },
  {
   "cell_type": "code",
   "execution_count": 40,
   "metadata": {},
   "outputs": [
    {
     "name": "stdout",
     "output_type": "stream",
     "text": [
      "[  3.45473609e-04  -3.51729774e-01  -5.72165070e-01  -8.72599326e-02\n",
      "   1.30091358e-01   1.45641128e-01   0.00000000e+00  -1.38777878e-17\n",
      "   0.00000000e+00  -3.46944695e-18  -4.33680869e-19  -5.41322349e-01\n",
      "  -2.11633650e-02   4.59549877e-02   4.18591624e-02   6.52782874e-02\n",
      "  -3.04587159e-01  -1.07094860e-01   3.11958425e-01]\n",
      "[-15 -14 -13 -12 -11 -10  -9  -8  -7  -6  -5  -4  -3  -2  -1   0   1   2\n",
      "   3   4   5   6   7   8   9  10  11  12  13  14  15  14  13  12  11  10\n",
      "   9   8   7   6   5   4   3   2   1   0  -1  -2  -3  -4  -5  -6  -7  -8\n",
      "  -9 -10 -11 -12 -13 -14 -15]\n"
     ]
    }
   ],
   "source": [
    "K = w[10]\n",
    "mode = v[:,10]\n",
    "print mode\n",
    "observer = AddPyMOLObserver(pose, True)\n",
    "h = np.arange(-15,15,1)\n",
    "h = np.concatenate((np.append(h, 15), h[: :-1]))\n",
    "print h\n",
    "\n",
    "for hh in h:\n",
    "    \n",
    "    dofs_new = dofs+hh*mode\n",
    "    \n",
    "    for jj, dof in enumerate(dofs_new):\n",
    "        \n",
    "        pose.set_torsion(dof_dict[jj], dof)\n",
    "        \n",
    "    scorefxn(pose)\n",
    "        \n"
   ]
  },
  {
   "cell_type": "code",
   "execution_count": 26,
   "metadata": {},
   "outputs": [
    {
     "name": "stdout",
     "output_type": "stream",
     "text": [
      "[-15 -14 -13 -12 -11 -10  -9  -8  -7  -6  -5  -4  -3  -2  -1   0   1   2\n",
      "   3   4   5   6   7   8   9  10  11  12  13  14]\n"
     ]
    }
   ],
   "source": [
    "print h\n"
   ]
  },
  {
   "cell_type": "code",
   "execution_count": 28,
   "metadata": {},
   "outputs": [
    {
     "ename": "AttributeError",
     "evalue": "'numpy.ndarray' object has no attribute 'concatenate'",
     "output_type": "error",
     "traceback": [
      "\u001b[0;31m---------------------------------------------------------------------------\u001b[0m",
      "\u001b[0;31mAttributeError\u001b[0m                            Traceback (most recent call last)",
      "\u001b[0;32m<ipython-input-28-4dfb12937df5>\u001b[0m in \u001b[0;36m<module>\u001b[0;34m()\u001b[0m\n\u001b[0;32m----> 1\u001b[0;31m \u001b[0mh\u001b[0m\u001b[0;34m.\u001b[0m\u001b[0mconcatenate\u001b[0m\u001b[0;34m(\u001b[0m\u001b[0mnp\u001b[0m\u001b[0;34m.\u001b[0m\u001b[0marange\u001b[0m\u001b[0;34m(\u001b[0m\u001b[0;36m15\u001b[0m\u001b[0;34m,\u001b[0m\u001b[0;34m-\u001b[0m\u001b[0;36m15\u001b[0m\u001b[0;34m,\u001b[0m\u001b[0;36m1\u001b[0m\u001b[0;34m)\u001b[0m\u001b[0;34m)\u001b[0m\u001b[0;34m\u001b[0m\u001b[0m\n\u001b[0m",
      "\u001b[0;31mAttributeError\u001b[0m: 'numpy.ndarray' object has no attribute 'concatenate'"
     ]
    }
   ],
   "source": [
    "h.concatenate(np.arange(15,-15,1))"
   ]
  },
  {
   "cell_type": "code",
   "execution_count": 35,
   "metadata": {},
   "outputs": [
    {
     "data": {
      "text/plain": [
       "array([-15, -14, -13, -12, -11, -10,  -9,  -8,  -7,  -6,  -5,  -4,  -3,\n",
       "        -2,  -1,   0,   1,   2,   3,   4,   5,   6,   7,   8,   9,  10,\n",
       "        11,  12,  13,  14,  14,  13,  12,  11,  10,   9,   8,   7,   6,\n",
       "         5,   4,   3,   2,   1,   0,  -1,  -2,  -3,  -4,  -5,  -6,  -7,\n",
       "        -8,  -9, -10, -11, -12, -13, -14, -15])"
      ]
     },
     "execution_count": 35,
     "metadata": {},
     "output_type": "execute_result"
    }
   ],
   "source": [
    "np.concatenate((h, h[ : :-1]))"
   ]
  },
  {
   "cell_type": "code",
   "execution_count": 36,
   "metadata": {},
   "outputs": [
    {
     "data": {
      "text/plain": [
       "array([-15, -14, -13, -12, -11, -10,  -9,  -8,  -7,  -6,  -5,  -4,  -3,\n",
       "        -2,  -1,   0,   1,   2,   3,   4,   5,   6,   7,   8,   9,  10,\n",
       "        11,  12,  13,  14,  15])"
      ]
     },
     "execution_count": 36,
     "metadata": {},
     "output_type": "execute_result"
    }
   ],
   "source": [
    "np.append(h, 15)"
   ]
  },
  {
   "cell_type": "code",
   "execution_count": 37,
   "metadata": {},
   "outputs": [
    {
     "name": "stdout",
     "output_type": "stream",
     "text": [
      "[-15 -14 -13 -12 -11 -10  -9  -8  -7  -6  -5  -4  -3  -2  -1   0   1   2\n",
      "   3   4   5   6   7   8   9  10  11  12  13  14]\n"
     ]
    }
   ],
   "source": [
    "print h\n"
   ]
  },
  {
   "cell_type": "code",
   "execution_count": null,
   "metadata": {},
   "outputs": [],
   "source": []
  }
 ],
 "metadata": {
  "kernelspec": {
   "display_name": "Python 2",
   "language": "python",
   "name": "python2"
  },
  "language_info": {
   "codemirror_mode": {
    "name": "ipython",
    "version": 2
   },
   "file_extension": ".py",
   "mimetype": "text/x-python",
   "name": "python",
   "nbconvert_exporter": "python",
   "pygments_lexer": "ipython2",
   "version": "2.7.12"
  }
 },
 "nbformat": 4,
 "nbformat_minor": 2
}
