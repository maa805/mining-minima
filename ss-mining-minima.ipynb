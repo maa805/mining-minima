{
 "cells": [
  {
   "cell_type": "code",
   "execution_count": 51,
   "metadata": {},
   "outputs": [
    {
     "name": "stdout",
     "output_type": "stream",
     "text": [
      "Found rosetta database at: /usr/local/lib/python2.7/dist-packages/pyrosetta-2018.11+release.7c7790f-py2.7-linux-x86_64.egg/pyrosetta/database; using it....\n",
      "PyRosetta-4 2017 [Rosetta PyRosetta4.Release.python27.ubuntu 2018.11+release.7c7790f7c7790fbb898f8210b54513b9f9c8a927c3e8d7f 2018-03-14T13:19:04] retrieved from: http://www.pyrosetta.org\n",
      "(C) Copyright Rosetta Commons Member Institutions.\n",
      "Created in JHU by Sergey Lyskov and PyRosetta Team.\n",
      "\n",
      "\u001b[0mcore.init: \u001b[0mChecking for fconfig files in pwd and ./rosetta/flags\n",
      "\n",
      "\u001b[0mcore.init: \u001b[0mRosetta version: PyRosetta4.Release.python27.ubuntu r173 2018.11+release.7c7790f 7c7790fbb898f8210b54513b9f9c8a927c3e8d7f http://www.pyrosetta.org 2018-03-14T13:19:04\n",
      "\u001b[0mcore.init: \u001b[0mcommand: PyRosetta -ex1 -ex2aro -database /usr/local/lib/python2.7/dist-packages/pyrosetta-2018.11+release.7c7790f-py2.7-linux-x86_64.egg/pyrosetta/database\n",
      "\u001b[0mcore.init: \u001b[0m'RNG device' seed mode, using '/dev/urandom', seed=624484465 seed_offset=0 real_seed=624484465\n",
      "\u001b[0mcore.init.random: \u001b[0mRandomGenerator:init: Normal mode, seed=624484465 RG_type=mt19937\n"
     ]
    }
   ],
   "source": [
    "from pyrosetta import *\n",
    "from pyrosetta.rosetta import *\n",
    "from pyrosetta.rosetta.core.id import *\n",
    "from pyrosetta.rosetta.core.scoring.constraints import *\n",
    "import pyrosetta.rosetta.protocols.simple_moves\n",
    "from recces.data import *\n",
    "import numpy as np\n",
    "import itertools\n",
    "import scipy\n",
    "import scipy.linalg\n",
    "import matplotlib\n",
    "import matplotlib.pyplot as plt\n",
    "init()\n",
    "#init('-corrections::restore_talaris_behavior')"
   ]
  },
  {
   "cell_type": "code",
   "execution_count": 52,
   "metadata": {},
   "outputs": [],
   "source": [
    "pmm = PyMOLMover()\n",
    "pmm.keep_history(True)\n"
   ]
  },
  {
   "cell_type": "code",
   "execution_count": 53,
   "metadata": {},
   "outputs": [
    {
     "name": "stdout",
     "output_type": "stream",
     "text": [
      "ScoreFunction::show():\n",
      "weights: (fa_atr 0.73) (fa_rep 0.1) (fa_intra_rep 0.0071) (lk_nonpolar 0.25) (fa_elec_rna_phos_phos 4.54) (rna_torsion 4.26) (stack_elec 1.54) (hbond_sc 2.46)\n",
      "energy_method_options: EnergyMethodOptions::show: aa_composition_setup_files: \n",
      "EnergyMethodOptions::show: netcharge_setup_files: \n",
      "EnergyMethodOptions::show: aspartimide_penalty_value: 25\n",
      "EnergyMethodOptions::show: etable_type: FA_STANDARD_DEFAULT\n",
      "analytic_etable_evaluation: 1\n",
      "EnergyMethodOptions::show: method_weights: free_res\n",
      "EnergyMethodOptions::show: unfolded_energies_type: UNFOLDED_SCORE12\n",
      "EnergyMethodOptions::show: split_unfolded_label_type: SPLIT_UNFOLDED_MM\n",
      "EnergyMethodOptions::show: split_unfolded_value_type: SPLIT_UNFOLDED_BOLTZ\n",
      "EnergyMethodOptions::show: atom_vdw_atom_type_set_name: centroid\n",
      "EnergyMethodOptions::show: exclude_protein_protein_fa_elec: false\n",
      "EnergyMethodOptions::show: exclude_RNA_RNA_fa_elec: false\n",
      "EnergyMethodOptions::show: exclude_monomer_fa_elec: false\n",
      "EnergyMethodOptions::show: elec_max_dis: 5.5\n",
      "EnergyMethodOptions::show: elec_min_dis: 1.6\n",
      "EnergyMethodOptions::show: elec_die: 10\n",
      "EnergyMethodOptions::show: elec_no_dis_dep_die: false\n",
      "EnergyMethodOptions::show: elec_sigmoidal_die: true\n",
      "EnergyMethodOptions::show: elec_sigmoidal_D: 80\n",
      "EnergyMethodOptions::show: elec_sigmoidal_D0: 6\n",
      "EnergyMethodOptions::show: elec_sigmoidal_S: 0.4\n",
      "EnergyMethodOptions::show: smooth_fa_elec: true\n",
      "EnergyMethodOptions::show: grpelec_fade_type: false\n",
      "EnergyMethodOptions::show: grpelec_fade_param1: 1\n",
      "EnergyMethodOptions::show: grpelec_fade_param2: 1\n",
      "EnergyMethodOptions::show: grpelec_fade_hbond: 0\n",
      "EnergyMethodOptions::show: grp_cpfxn: 1\n",
      "EnergyMethodOptions::show: elec_group_file: /scoring/score_functions/elec_group_def.dat\n",
      "EnergyMethodOptions::show: grpelec_context_dependent: 0\n",
      "EnergyMethodOptions::show: use_polarization: true\n",
      "EnergyMethodOptions::show: use_gen_kirkwood: true\n",
      "EnergyMethodOptions::show: protein_dielectric: 1\n",
      "EnergyMethodOptions::show: water_dielectric: 78.3\n",
      "EnergyMethodOptions::show: exclude_DNA_DNA: true\n",
      "EnergyMethodOptions::show: exclude_intra_res_protein: true\n",
      "EnergyMethodOptions::show: put_intra_into_total: false\n",
      "EnergyMethodOptions::show: geom_sol_interres_path_distance_cutoff: false\n",
      "EnergyMethodOptions::show: geom_sol_intrares_path_distance_cutoff: true\n",
      "EnergyMethodOptions::show: eval_intrares_elec_ST_only: false\n",
      "EnergyMethodOptions::show: envsmooth_zero_negatives: false\n",
      "EnergyMethodOptions::show: cst_max_seq_sep: 18446744073709551615\n",
      "EnergyMethodOptions::show: pb_bound_tag: bound\n",
      "EnergyMethodOptions::show: pb_unbound_tag: unbound\n",
      "EnergyMethodOptions::show: ordered_wat_penalty: 1.7\n",
      "EnergyMethodOptions::show: ordered_pt_wat_penalty: 2.15037\n",
      "EnergyMethodOptions::show: voids_penalty_energy_containing_cones_cutoff_:6\n",
      "EnergyMethodOptions::show: voids_penalty_energy_cone_distance_cutoff_: 8\n",
      "EnergyMethodOptions::show: voids_penalty_energy_cone_dotproduct_cutoff_: 0.1\n",
      "EnergyMethodOptions::show: voids_penalty_energy_voxel_grid_padding_: 1\n",
      "EnergyMethodOptions::show: voids_penalty_energy_voxel_size_: 0.5\n",
      "EnergyMethodOptions::show: voids_penalty_energy_disabled_except_during_packing_: TRUE\n",
      "EnergyMethodOptions::show: hbnet_bonus_ramping_function_: \"quadratic\"\n",
      "EnergyMethodOptions::show: hbnet_max_network_size_: 0\n",
      "EnergyMethodOptions::show: bond_angle_central_atoms_to_score:\n",
      "EnergyMethodOptions::show: bond_angle_residue_type_param_set: none\n",
      "HBondOptions::show: exclude_DNA_DNA: true\n",
      "HBondOptions::show: exclude_intra_res_protein_: true\n",
      "HBondOptions::show: exclude_intra_res_RNA_: false\n",
      "HBondOptions::show: put_intra_into_total_: false\n",
      "HBondOptions::show: exclude_self_hbonds: true\n",
      "HBondOptions::show: use_hb_env_dep: false\n",
      "HBondOptions::show: use_hb_env_dep_DNA: true\n",
      "HBondOptions::show: smooth_hb_env_dep: true\n",
      "HBondOptions::show: bb_donor_acceptor_check: true\n",
      "HBondOptions::show: decompose_bb_hb_into_pair_energies: false\n",
      "HBondOptions::show: params_database_tag_: ref2015_params\n",
      "HBondOptions::show: use_sp2_chi_penalty_: true\n",
      "HBondOptions::show: sp2_BAH180_rise_: 0.75\n",
      "HBondOptions::show: sp2_outer_width_: 0.357\n",
      "HBondOptions::show: measure_sp3acc_BAH_from_hvy_: true\n",
      "HBondOptions::show: fade_energy_: 1\n",
      "HBondOptions::show: exclude_ether_oxygens_: 0\n",
      "HBondOptions::show: Mbhbond: false \n",
      "HbondOptions::show: mphbond: false\n",
      "HBondOptions::show: hbond_energy_shift: 0\n",
      "HBondOptions::show: water_hybrid_sf: false\n",
      "RNA_EnergyMethodOptions::show: syn_G_potential_bonus: 0\n",
      "RNA_EnergyMethodOptions::show: torsion_potential: RNA11_based_new\n",
      "RNA_EnergyMethodOptions::show: suiteness_bonus: Richardson\n",
      "FreeDOF_Options::show: free_suite_bonus: -1\n",
      "FreeDOF_Options::show: free_2HOprime_bonus: -0.5\n",
      "FreeDOF_Options::show: free_sugar_bonus: -1\n",
      "FreeDOF_Options::show: pack_phosphate_penalty: 0.25\n",
      "FreeDOF_Options::show: free_side_chain_bonus: -0.5\n",
      "\n",
      "\n"
     ]
    }
   ],
   "source": [
    "scorefxn = core.scoring.ScoreFunctionFactory.create_score_function('stepwise/rna/turner')\n",
    "scorefxn_cst = core.scoring.ScoreFunctionFactory.create_score_function('stepwise/rna/turner')\n",
    "scorefxn_cst.set_weight(core.scoring.dihedral_constraint, 1.0)\n",
    "print scorefxn\n",
    "curr_wt = [0.73, 0.1, 0.0071, 0, 4.26, 2.46, 0.25, 0, 1.54, 4.54]"
   ]
  },
  {
   "cell_type": "code",
   "execution_count": 54,
   "metadata": {},
   "outputs": [],
   "source": [
    "def numpy_hessian(x, h):\n",
    "        \n",
    "    x_grad = np.gradient(x, h)\n",
    "    hessian = np.empty((x.ndim, x.ndim) + x.shape, dtype = x.dtype)\n",
    "    \n",
    "    for k, grad_k in enumerate(x_grad):\n",
    "        tmp_grad = np.gradient(grad_k, h)\n",
    "        for l, grad_kl in enumerate(tmp_grad):\n",
    "            hessian[k, l, :, :] = grad_kl\n",
    "            \n",
    "    return hessian"
   ]
  },
  {
   "cell_type": "code",
   "execution_count": 55,
   "metadata": {},
   "outputs": [],
   "source": [
    "def is_pos_def(x):\n",
    "    return np.all(np.linalg.eigvals(x) > 0)"
   ]
  },
  {
   "cell_type": "code",
   "execution_count": 56,
   "metadata": {},
   "outputs": [],
   "source": [
    "def within_360(dof):\n",
    "    \n",
    "    diff = dof/360.0\n",
    "    diff = np.round(diff)\n",
    "    \n",
    "    return dof - 360.0*diff"
   ]
  },
  {
   "cell_type": "code",
   "execution_count": 57,
   "metadata": {},
   "outputs": [],
   "source": [
    "def is_repeat_minimum(new_dofs, dof_lists):\n",
    "    \n",
    "    #dofs_rounded = np.around(new_dofs, decimals=1)\n",
    "    \n",
    "    if len(dof_lists) == 0:\n",
    "        \n",
    "        return False \n",
    "    \n",
    "    for dof_list in dof_lists:\n",
    "        \n",
    "        #dof_list_rounded = np.around(dof_list, decimals=1)\n",
    "\n",
    "        dof_diff = within_360(new_dofs) - within_360(dof_list)\n",
    "        \n",
    "        if np.all(abs(within_360(dof_diff)) < 20.0): return True\n",
    "        else: continue\n",
    "    \n",
    "    return False"
   ]
  },
  {
   "cell_type": "code",
   "execution_count": 58,
   "metadata": {},
   "outputs": [],
   "source": [
    "def chi_minima(base, sugar_pucker, orientation):\n",
    "\n",
    "    if base == 'g' or base == 'a':\n",
    "\n",
    "        if sugar_pucker == 'north':\n",
    "\n",
    "            if orientation == 'anti': return [72.4]\n",
    "            else: return [-110.9, -51.9]\n",
    "\n",
    "        else:\n",
    "\n",
    "            if orientation == 'anti': return [119.0]\n",
    "            else: return [-56.6]\n",
    "            \n",
    "    else:\n",
    "\n",
    "        if sugar_pucker == 'north':\n",
    "\n",
    "            if orientation == 'anti': return [77.3]\n",
    "            else: return [-105.7, -47.2, -12.5]\n",
    "\n",
    "        else:\n",
    "\n",
    "            if orientation == 'anti': return [108.2]\n",
    "            else: return [-65.0]        \n",
    "        \n"
   ]
  },
  {
   "cell_type": "code",
   "execution_count": 59,
   "metadata": {},
   "outputs": [],
   "source": [
    "def initialiize_pose(seq):\n",
    "    \n",
    "    n_residues = len(seq)\n",
    "    dof_dict = {}\n",
    "    \n",
    "    pose = pyrosetta.rosetta.protocols.recces.pose_setup_turner(seq, '')\n",
    "    movemap = MoveMap()\n",
    "    \n",
    "    for ii in range(n_residues-1):\n",
    "           \n",
    "        dof_dict.update({5*ii: TorsionID(ii+1, BB, 5), 5*ii+1: TorsionID(ii+1, BB, 6), 5*ii+2: TorsionID(ii+2, BB, 1), \n",
    "                         5*ii+3: TorsionID(ii+2, BB, 2), 5*ii+4: TorsionID(ii+2, BB, 3)})\n",
    "                        \n",
    "        movemap.set(TorsionID(5*ii+1, BB, 5), True)\n",
    "        movemap.set(TorsionID(5*ii+1, BB, 6), True)\n",
    "        movemap.set(TorsionID(5*ii+2, BB, 1), True)\n",
    "        movemap.set(TorsionID(5*ii+2, BB, 2), True)\n",
    "        movemap.set(TorsionID(5*ii+2, BB, 3), True)\n",
    "    \n",
    "    for ii in range(n_residues):\n",
    "    \n",
    "        dof_dict.update({5*(n_residues-1) + ii: TorsionID(ii+1, CHI, 1)})\n",
    "        movemap.set(TorsionID(ii+1, CHI, 1), True)\n",
    "        \n",
    "    return pose, movemap, dof_dict    \n",
    "    "
   ]
  },
  {
   "cell_type": "code",
   "execution_count": 60,
   "metadata": {},
   "outputs": [],
   "source": [
    "def calculate_hessian(pose, scorefxn, dof_dict):\n",
    "    '''Take a minimized pose and computes the hessian at the base of the corresponding energy well. Returns the hessian matrix\n",
    "    which may subsequently be diagonalized'''\n",
    "\n",
    "    minimum = Pose()\n",
    "    minimum.assign(pose)\n",
    "\n",
    "    h = 0.1\n",
    "    h_rad = h*np.pi/180\n",
    "    E_0 = scorefxn(pose)\n",
    "\n",
    "    dofs = []\n",
    "\n",
    "    for val in dof_dict.itervalues(): dofs.append(pose.torsion(val))\n",
    "    dofs = np.array(dofs)\n",
    "\n",
    "    hessian = np.zeros((len(dofs), len(dofs)))\n",
    "\n",
    "    n_pts = int(1/h + 1)\n",
    "    ind = int(n_pts/2)\n",
    "\n",
    "    tor_ranges = np.zeros((n_pts, len(dofs)))\n",
    "    energy = np.zeros((n_pts, n_pts))\n",
    "\n",
    "    for ii, dof in enumerate(dofs):\n",
    "\n",
    "        tor_ranges[:, ii] = dof + np.arange(-0.5, 0.5+h, h)\n",
    "\n",
    "    for pair in list(itertools.combinations(dof_dict.keys(), 2)):\n",
    "\n",
    "        foo = pair[0]\n",
    "        bar = pair[1]\n",
    "\n",
    "        x = tor_ranges[:, foo]\n",
    "        y = tor_ranges[:, bar]\n",
    "\n",
    "        for ii, xx in enumerate(x):\n",
    "\n",
    "            pose.set_torsion(dof_dict[pair[0]], xx)\n",
    "\n",
    "            for jj, yy in enumerate(y):\n",
    "\n",
    "                pose.set_torsion(dof_dict[pair[1]], yy)\n",
    "\n",
    "                energy[ii, jj] = scorefxn(pose)\n",
    "\n",
    "                pose.set_torsion(dof_dict[pair[1]], dofs[bar])\n",
    "\n",
    "            pose.set_torsion(dof_dict[pair[0]], dofs[foo])\n",
    "\n",
    "        hess = numpy_hessian(energy, h_rad)\n",
    "\n",
    "        d2E_dx2 =  hess[0,0,:,:]\n",
    "        d2E_dy2 =  hess[1,1,:,:]\n",
    "        d2E_dxdy = hess[0,1,:,:]\n",
    "\n",
    "        if hessian[foo, foo] == 0:\n",
    "\n",
    "            hessian[foo, foo] = d2E_dx2[ind, ind]\n",
    "\n",
    "        if hessian[bar, bar] == 0:\n",
    "\n",
    "            hessian[bar, bar] = d2E_dy2[ind, ind]\n",
    "\n",
    "        hessian[foo, bar] = d2E_dxdy[ind, ind]\n",
    "        hessian[bar, foo] = d2E_dxdy[ind, ind]\n",
    "        \n",
    "    return hessian\n"
   ]
  },
  {
   "cell_type": "code",
   "execution_count": 61,
   "metadata": {},
   "outputs": [],
   "source": [
    "def mode_scan(pose, dofs, dof_dict, scorefxn, mode, kT = 1.0, h = 0.5):\n",
    "    \n",
    "    temp = Pose()\n",
    "    temp.assign(pose)\n",
    "    \n",
    "    E_0 = scorefxn(pose)\n",
    "    E = E_0\n",
    "    inc = 0\n",
    "    result = np.array([])\n",
    "    \n",
    "    h = np.arange(-60,61,1)\n",
    "\n",
    "    for hh in h:\n",
    "        \n",
    "        dofs_new = dofs + hh*mode\n",
    "        \n",
    "        for key, val in enumerate(dofs_new):\n",
    "\n",
    "            temp.set_torsion(dof_dict[key], val)\n",
    "            \n",
    "        result = np.append(result, (scorefxn(temp) - E_0)/kT)\n",
    "     \n",
    "\n",
    "    #if np.any(result < 0.0): return 1.0\n",
    "    return np.trapz(np.exp(-result), x=h*np.pi/180.0), result\n"
   ]
  },
  {
   "cell_type": "code",
   "execution_count": 62,
   "metadata": {},
   "outputs": [],
   "source": [
    "def mode_scan_OG(pose, dofs, dof_dict, scorefxn, mode, kT = 1.0, h = 0.5):\n",
    "    \n",
    "    temp = Pose()\n",
    "    temp.assign(pose)\n",
    "    \n",
    "    E_0 = scorefxn(pose)\n",
    "    E = E_0\n",
    "    inc = 0\n",
    "    result = 0.0\n",
    "    \n",
    "    max_inc = int(60/h)\n",
    "\n",
    "    while inc < max_inc:\n",
    "        \n",
    "        inc += 1\n",
    "        result += 0.5*np.exp(-(E-E_0)/kT)\n",
    "        dofs_new = dofs + (60.0)*inc/float(max_inc)*mode\n",
    "        \n",
    "        for key, val in enumerate(dofs_new):\n",
    "\n",
    "            temp.set_torsion(dof_dict[key], val)\n",
    "        \n",
    "        E = scorefxn(temp)\n",
    "        if E < E_0: break\n",
    "        result += 0.5*np.exp(-(E-E_0)/kT)\n",
    "\n",
    "    if inc < max_inc: return 1.0\n",
    "    # Reinitialize pose\n",
    "    temp.assign(pose)\n",
    "    inc = 0\n",
    "    E = E_0\n",
    "    \n",
    "    while inc < max_inc:\n",
    "        \n",
    "        inc += 1\n",
    "        \n",
    "        result += 0.5*np.exp(-(E-E_0)/kT)\n",
    "        dofs_new = dofs + 60.0*inc/float(max_inc)*mode\n",
    "        \n",
    "        for key, val in enumerate(dofs_new):\n",
    "    \n",
    "            temp.set_torsion(dof_dict[key], val)\n",
    "        \n",
    "        E  = scorefxn(temp)\n",
    "        if E < E_0: break\n",
    "        result += 0.5*np.exp(-(E-E_0)/kT)\n",
    "        \n",
    "    result *= h*np.pi/180.0\n",
    "    \n",
    "    if inc < max_inc: return 1.0\n",
    "    return result\n"
   ]
  },
  {
   "cell_type": "code",
   "execution_count": 75,
   "metadata": {},
   "outputs": [],
   "source": [
    "def assay_modes(pose, scorefxn, dof_dict):\n",
    "    \n",
    "    '''this code will assay the normal modes, plotting the corresponding boltzmann weights for both the harmonic approximation\n",
    "    and scanned modes'''\n",
    "\n",
    "\n",
    "    import scipy.integrate\n",
    "    \n",
    "    pose.assign(pose_min)\n",
    "    print scorefxn(pose)\n",
    "\n",
    "    hessian = calculate_hessian(pose, scorefxn, dof_dict)\n",
    "\n",
    "    dofs = []\n",
    "\n",
    "    for val in dof_dict.itervalues(): dofs.append(pose.torsion(val))\n",
    "    dofs = np.array(dofs)\n",
    "\n",
    "    w, v = scipy.linalg.eigh(hessian)\n",
    "\n",
    "\n",
    "\n",
    "    E_min = scorefxn(pose)\n",
    "    kT = 1.0\n",
    "    fig = plt.figure()\n",
    "    for kk, K in enumerate(w):\n",
    "\n",
    "        mode = v[:,kk]\n",
    "        h = np.arange(-80,81,1)\n",
    "        h_plot = h*np.pi/180\n",
    "\n",
    "        bar = []\n",
    "\n",
    "\n",
    "        for hh in h:\n",
    "\n",
    "            dofs_new = dofs+hh*mode\n",
    "\n",
    "            for jj, dof in enumerate(dofs_new):\n",
    "\n",
    "                pose.set_torsion(dof_dict[jj], dof)\n",
    "\n",
    "            pmm.apply(pose)\n",
    "            bar.append((scorefxn(pose)-E_min)/kT)\n",
    "\n",
    "\n",
    "        np.array(bar) \n",
    "        pose.assign(minimum)\n",
    "        plt.subplot(3,3, kk+1)\n",
    "\n",
    "        #plt.plot(h, np.exp(-np.array(bar)))\n",
    "        #plt.plot(h, np.exp(-0.5*K*h_plot**2/kT))\n",
    "        \n",
    "        plt.plot(h, np.array(bar))\n",
    "        plt.plot(h, 0.5*K*h_plot**2/kT)\n",
    "        plt.xticks([])\n",
    "        plt.yticks([])\n",
    "        #plt.xlabel('Displacement along normal coordinate (degrees)')\n",
    "        #plt.ylabel('exp(-(E-E0)/kT)')\n"
   ]
  },
  {
   "cell_type": "code",
   "execution_count": 64,
   "metadata": {},
   "outputs": [],
   "source": [
    "def add_constraints(pose):\n",
    "    pose.add_constraint(\n",
    "        core.scoring.constraints.DihedralConstraint(AtomID(11,2), AtomID(10,2), AtomID(23,2), AtomID(17, 2),\n",
    "        core.scoring.func.CircularSigmoidalFunc(0.5, 6, pose.chi(2))))#CircularHarmonicFunc(pose.chi(2)*np.pi/180., 0.35)))\n",
    "    pose.add_constraint(\n",
    "        core.scoring.constraints.DihedralConstraint(AtomID(11,1), AtomID(10,1), AtomID(23,1), AtomID(17, 1),\n",
    "        core.scoring.func.CircularSigmoidalFunc(0.5, 6, pose.chi(1))))#CircularHarmonicFunc(pose.chi(1)*np.pi/180., 0.35)))\n",
    "    #pose.add_constraint(\n",
    "    #    core.scoring.constraints.DihedralConstraint(AtomID(6,1), AtomID(8,1), AtomID(9,1), AtomID(1,2), \n",
    "    #    core.scoring.func.CircularHarmonicFunc(pose.epsilon(1)*np.pi/180., 0.35)))\n",
    "    #pose.add_constraint(\n",
    "    #    core.scoring.constraints.DihedralConstraint(AtomID(8,1), AtomID(9,1), AtomID(1,2), AtomID(4,2),\n",
    "    #    core.scoring.func.CircularHarmonicFunc(pose.zeta(1)*np.pi/180., 0.35)))\n",
    "    #pose.add_constraint(\n",
    "    #    core.scoring.constraints.DihedralConstraint(AtomID(9,1), AtomID(1,2), AtomID(4,2), AtomID(5,2),\n",
    "    #    core.scoring.func.CircularHarmonicFunc(pose.alpha(2)*np.pi/180., 0.35)))\n",
    "    #pose.add_constraint(\n",
    "    #    core.scoring.constraints.DihedralConstraint(AtomID(1,2), AtomID(4,2), AtomID(5,2), AtomID(6,2),\n",
    "    #    core.scoring.func.CircularHarmonicFunc(pose.beta(2)*np.pi/180., 0.25)))\n",
    "    #pose.add_constraint(\n",
    "    #    core.scoring.constraints.DihedralConstraint(AtomID(4,2), AtomID(5,2), AtomID(6,2), AtomID(8,2),\n",
    "    #    core.scoring.func.CircularHarmonicFunc(pose.gamma(2)*np.pi/180., 0.25)))\n",
    "\n",
    "    return pose"
   ]
  },
  {
   "cell_type": "code",
   "execution_count": 65,
   "metadata": {},
   "outputs": [],
   "source": [
    "def MC_minimization(pose, scorefxn, dof_dict, torsion_list):\n",
    "    \n",
    "    import random\n",
    "    mc = MonteCarlo(pose, scorefxn, 0.5)\n",
    "    \n",
    "    for i in range(100):\n",
    "\n",
    "        dof = random.randint(0, len(torsion_list)-1)\n",
    "        #new_dof = random.uniform(torsion_list[dof] - 30.0, torsion_list[dof] + 30.0)\n",
    "        new_dof = random.gauss(torsion_list[dof], 20.)\n",
    "        pose.set_torsion(dof_dict[dof], new_dof)\n",
    "        mc.boltzmann(pose)\n",
    "    \n",
    "    return mc.lowest_score_pose()\n",
    "    "
   ]
  },
  {
   "cell_type": "code",
   "execution_count": 80,
   "metadata": {},
   "outputs": [
    {
     "name": "stdout",
     "output_type": "stream",
     "text": [
      "[]\n"
     ]
    }
   ],
   "source": [
    "seq = 'gc'\n",
    "\n",
    "# Pucker and orientation of terminal base\n",
    "pucker = 'south'\n",
    "orientation = 'anti'\n",
    "\n",
    "n = len(seq)\n",
    "Z_harm_list = np.array([])\n",
    "mu_list = np.array([])\n",
    "pmm = PyMOLMover()\n",
    "pmm.keep_history(True)\n",
    "dof_lists = []\n",
    "E_list = np.array([])\n",
    "E_min = 0\n",
    "pose_min = Pose()\n",
    "dofs_min = []\n",
    "print dof_lists"
   ]
  },
  {
   "cell_type": "code",
   "execution_count": 82,
   "metadata": {
    "scrolled": true
   },
   "outputs": [
    {
     "name": "stdout",
     "output_type": "stream",
     "text": [
      "\n",
      "5.63872747477602 0.007697914578185285 4.28251670844\n",
      "6.114970454091746 0.000270368408351832 1.70634285824\n",
      "1.5736806243495371 0.00022455540309227091 -5.84795531355\n",
      "6.087111130894029 2.6227195360710156 10.8410755232\n",
      "6.890334974899327 0.009352937309693124 6.50809900625\n",
      "2.073828873070267 0.4641336438269467 2.59738378829\n",
      "\n",
      "6.108894308986664 0.26031866602061154 8.56636008154\n"
     ]
    },
    {
     "ename": "KeyboardInterrupt",
     "evalue": "",
     "output_type": "error",
     "traceback": [
      "\u001b[0;31m---------------------------------------------------------------------------\u001b[0m",
      "\u001b[0;31mKeyboardInterrupt\u001b[0m                         Traceback (most recent call last)",
      "\u001b[0;32m<ipython-input-82-54a2eeedf25b>\u001b[0m in \u001b[0;36m<module>\u001b[0;34m()\u001b[0m\n\u001b[1;32m     70\u001b[0m             \u001b[0mminmover\u001b[0m\u001b[0;34m.\u001b[0m\u001b[0mmin_options\u001b[0m\u001b[0;34m(\u001b[0m\u001b[0;34m)\u001b[0m\u001b[0;34m.\u001b[0m\u001b[0muse_nblist\u001b[0m\u001b[0;34m(\u001b[0m\u001b[0mTrue\u001b[0m\u001b[0;34m)\u001b[0m\u001b[0;34m\u001b[0m\u001b[0m\n\u001b[1;32m     71\u001b[0m             \u001b[0mminmover\u001b[0m\u001b[0;34m.\u001b[0m\u001b[0mmin_options\u001b[0m\u001b[0;34m(\u001b[0m\u001b[0;34m)\u001b[0m\u001b[0;34m.\u001b[0m\u001b[0mnblist_auto_update\u001b[0m\u001b[0;34m(\u001b[0m\u001b[0mTrue\u001b[0m\u001b[0;34m)\u001b[0m\u001b[0;34m\u001b[0m\u001b[0m\n\u001b[0;32m---> 72\u001b[0;31m             \u001b[0mminmover\u001b[0m\u001b[0;34m.\u001b[0m\u001b[0mapply\u001b[0m\u001b[0;34m(\u001b[0m\u001b[0mpose\u001b[0m\u001b[0;34m)\u001b[0m\u001b[0;34m\u001b[0m\u001b[0m\n\u001b[0m\u001b[1;32m     73\u001b[0m \u001b[0;34m\u001b[0m\u001b[0m\n\u001b[1;32m     74\u001b[0m             \u001b[0mpmm\u001b[0m\u001b[0;34m.\u001b[0m\u001b[0mapply\u001b[0m\u001b[0;34m(\u001b[0m\u001b[0mpose\u001b[0m\u001b[0;34m)\u001b[0m\u001b[0;34m\u001b[0m\u001b[0m\n",
      "\u001b[0;31mKeyboardInterrupt\u001b[0m: "
     ]
    }
   ],
   "source": [
    "# Code for any dinucleotide \n",
    "for delta in [81.195, 145.521]:\n",
    "    \n",
    "    for alpha in [-64.3, 66.7, 156.6]:\n",
    "        \n",
    "        pose, movemap, dof_dict = initialiize_pose(seq)\n",
    "        \n",
    "        pose.set_torsion(TorsionID(1, BB, 4), delta)\n",
    "    \n",
    "        if delta == 81.195:\n",
    "\n",
    "            if seq[0] in 'ga': possible_chi = [-110.9, -51.9, 72.4]\n",
    "            else: possible_chi = [-105.7, -47.2, -12.5, 77.3]\n",
    "                    \n",
    "            possible_eps = [-150.4, 16.8, 76.2]\n",
    "\n",
    "        #C2'-endo\n",
    "        else:\n",
    "\n",
    "            if seq[0] in 'ga': possible_chi = [-56.6, 119.0]\n",
    "            else: possible_chi =[-65, 108]\n",
    "                \n",
    "            possible_eps = [-97.4, 0, 75.2]\n",
    "            \n",
    "            pose.set_torsion(TorsionID(1, CHI, 2), -34.825)\n",
    "            pose.set_torsion(TorsionID(1, CHI, 3), 155.987)\n",
    "                \n",
    "        #if pucker == 'north':\n",
    "        \n",
    "            #pose.set_torsion(TorsionID(2, BB, 4), 81.195)\n",
    "            #pose.set_torsion(TorsionID(2, CHI, 2), 35.870)\n",
    "            #pose.set_torsion(TorsionID(2, CHI, 3), 94.856)\n",
    "            \n",
    "        if pucker == 'south':\n",
    "        \n",
    "            # These will set the terminal base pair to C2'-endo (south)\n",
    "            pose.set_torsion(TorsionID(2, BB, 4), 145.521)\n",
    "            pose.set_torsion(TorsionID(2, CHI, 2), -34.79)\n",
    "            pose.set_torsion(TorsionID(2, CHI, 3), 156.00)\n",
    "\n",
    "        if alpha == -64.3: possible_zeta = [-71.8, 167.55]\n",
    "        elif alpha == 66.7: possible_zeta = [-131.6, 79.0]\n",
    "        else: possible_zeta = [-69.5, 56.5]\n",
    "        \n",
    "        possible_chi_2 = chi_minima(seq[-1], pucker, orientation)\n",
    "        torsion_lists = itertools.product(possible_eps, possible_zeta, [alpha], [177.3], [175.8, 53.5, -62.9], possible_chi, \n",
    "                                          possible_chi_2)\n",
    "        \n",
    "        \n",
    "        \n",
    "        for torsion_list in list(torsion_lists):\n",
    "            \n",
    "            pose.set_torsion(TorsionID(1, BB, 5), torsion_list[0])\n",
    "            pose.set_torsion(TorsionID(1, BB, 6), torsion_list[1])\n",
    "            pose.set_torsion(TorsionID(2, BB, 1), torsion_list[2])\n",
    "            pose.set_torsion(TorsionID(2, BB, 2), torsion_list[3])\n",
    "            pose.set_torsion(TorsionID(2, BB, 3), torsion_list[4])\n",
    "            pose.set_torsion(TorsionID(1, CHI, 1), torsion_list[5])\n",
    "            pose.set_torsion(TorsionID(2, CHI, 1), torsion_list[6])\n",
    "\n",
    "            pmm.apply(pose)\n",
    "            \n",
    "            pose = add_constraints(pose)\n",
    "            \n",
    "            pose = MC_minimization(pose, scorefxn, dof_dict, torsion_list)\n",
    "            \n",
    "            minmover = rosetta.protocols.minimization_packing.MinMover(\n",
    "                movemap, scorefxn, 'dfpmin_armijo_nonmonotone', 1.0e-7, True)\n",
    "            minmover.max_iter(1000000)\n",
    "            minmover.min_options().use_nblist(True)\n",
    "            minmover.min_options().nblist_auto_update(True)\n",
    "            minmover.apply(pose)\n",
    "\n",
    "            pmm.apply(pose)\n",
    "            E_min = scorefxn(pose)\n",
    "            \n",
    "            minimum = Pose()\n",
    "            minimum.assign(pose)\n",
    "\n",
    "            dofs = []\n",
    "\n",
    "            for val in dof_dict.itervalues(): dofs.append(pose.torsion(val))\n",
    "            dofs.append(delta)\n",
    "            dofs = np.array(dofs)\n",
    "\n",
    "\n",
    "            if is_repeat_minimum(dofs, dof_lists): continue\n",
    "            dof_lists.append(dofs)\n",
    "                    \n",
    "            hessian = calculate_hessian(pose, scorefxn, dof_dict)\n",
    "            w,v = scipy.linalg.eigh(hessian)\n",
    "\n",
    "            if not np.all(w > 0.):\n",
    "                continue\n",
    "\n",
    "            E_list = np.append(E_list, E_min)\n",
    "            \n",
    "            Z = 1.0\n",
    "            Z_harm = np.sqrt((2*np.pi)**len(w)/scipy.linalg.det(hessian)) \n",
    "            \n",
    "            for kk, K in enumerate(w):\n",
    "\n",
    "                fuck,_ = mode_scan(pose, dofs[:-1], dof_dict, scorefxn, v[:, kk])\n",
    "                \n",
    "                if fuck == 1.0: break\n",
    "                    \n",
    "                Z *= fuck\n",
    "\n",
    "            if kk < 6:\n",
    "                \n",
    "                dof_lists.pop()\n",
    "                E_lists = np.delete(E_list, -1)\n",
    "                E_min = 0\n",
    "                \n",
    "                continue\n",
    "            \n",
    "            if np.all(E_list >= E_min):\n",
    "                \n",
    "                pose_min.assign(minimum)\n",
    "                dofs_min = dofs\n",
    "                \n",
    "            #Z_list = np.append(Z_list, np.exp(-scorefxn(minimum)/0.6163)*Z )\n",
    "            Z_harm_list = np.append(Z_harm_list, np.exp(-scorefxn(minimum))*Z_harm)\n",
    "            mu_list = np.append(mu_list, scorefxn(minimum) - np.log(Z))\n",
    "            print (scorefxn(minimum) - np.log(Z))*0.6163, Z, scorefxn(minimum)\n",
    "            #print -0.6163*np.log(np.sum(np.exp(-mu_list/0.6163))), scorefxn(minimum), np.exp(-(scorefxn(minimum) - np.log(Z))/0.6163)\n",
    "\n",
    "'''\n",
    "# South, anti\n",
    "pose.set_torsion(TorsionID(1, BB, 4), 145.4)\n",
    "pose.set_torsion(TorsionID(1, BB, 5), -97.4)\n",
    "pose.set_torsion(TorsionID(1, CHI, 1), -56.6)\n",
    "pose.set_torsion(TorsionID(1, CHI, 2), -37.2)\n",
    "pose.set_torsion(TorsionID(1, CHI, 3), 155.5)\n",
    "pose.set_torsion(TorsionID(2, BB, 1), 66.7)\n",
    "pose.set_torsion(TorsionID(2, BB, 3), -62.9)\n",
    "pose.set_torsion(TorsionID(2, BB, 4), 145.4)\n",
    "pose.set_torsion(TorsionID(2, CHI, 1), -56.6)\n",
    "pose.set_torsion(TorsionID(2, CHI, 2), -37.2)\n",
    "pose.set_torsion(TorsionID(2, CHI, 3), 155.5)\n",
    "'''"
   ]
  },
  {
   "cell_type": "code",
   "execution_count": 83,
   "metadata": {
    "scrolled": true
   },
   "outputs": [
    {
     "name": "stdout",
     "output_type": "stream",
     "text": [
      "1.2562035073306506\n",
      "1.5252245567715386\n"
     ]
    },
    {
     "ename": "NameError",
     "evalue": "name 'Z_list' is not defined",
     "output_type": "error",
     "traceback": [
      "\u001b[0;31m---------------------------------------------------------------------------\u001b[0m",
      "\u001b[0;31mNameError\u001b[0m                                 Traceback (most recent call last)",
      "\u001b[0;32m<ipython-input-83-59831712b398>\u001b[0m in \u001b[0;36m<module>\u001b[0;34m()\u001b[0m\n\u001b[1;32m      2\u001b[0m \u001b[0;32mprint\u001b[0m \u001b[0;36m0.6163\u001b[0m\u001b[0;34m*\u001b[0m\u001b[0;34m(\u001b[0m\u001b[0;34m-\u001b[0m\u001b[0mscipy\u001b[0m\u001b[0;34m.\u001b[0m\u001b[0mspecial\u001b[0m\u001b[0;34m.\u001b[0m\u001b[0mlogsumexp\u001b[0m\u001b[0;34m(\u001b[0m\u001b[0;34m-\u001b[0m\u001b[0mmu_list\u001b[0m\u001b[0;34m[\u001b[0m\u001b[0;34m:\u001b[0m\u001b[0;34m]\u001b[0m\u001b[0;34m)\u001b[0m\u001b[0;34m)\u001b[0m\u001b[0;34m\u001b[0m\u001b[0m\n\u001b[1;32m      3\u001b[0m \u001b[0;32mprint\u001b[0m \u001b[0;34m-\u001b[0m\u001b[0;36m0.6163\u001b[0m\u001b[0;34m*\u001b[0m\u001b[0mnp\u001b[0m\u001b[0;34m.\u001b[0m\u001b[0mlog\u001b[0m\u001b[0;34m(\u001b[0m\u001b[0mnp\u001b[0m\u001b[0;34m.\u001b[0m\u001b[0msum\u001b[0m\u001b[0;34m(\u001b[0m\u001b[0mZ_harm_list\u001b[0m\u001b[0;34m)\u001b[0m\u001b[0;34m)\u001b[0m\u001b[0;34m\u001b[0m\u001b[0m\n\u001b[0;32m----> 4\u001b[0;31m \u001b[0mfuck\u001b[0m \u001b[0;34m=\u001b[0m \u001b[0mZ_list\u001b[0m\u001b[0;34m*\u001b[0m\u001b[0;34m(\u001b[0m\u001b[0;36m2\u001b[0m\u001b[0;34m*\u001b[0m\u001b[0mnp\u001b[0m\u001b[0;34m.\u001b[0m\u001b[0mpi\u001b[0m\u001b[0;34m/\u001b[0m\u001b[0;36m3\u001b[0m\u001b[0;34m)\u001b[0m\u001b[0;34m**\u001b[0m\u001b[0;36m7\u001b[0m\u001b[0;34m\u001b[0m\u001b[0m\n\u001b[0m\u001b[1;32m      5\u001b[0m \u001b[0;32mprint\u001b[0m \u001b[0;34m-\u001b[0m\u001b[0;36m0.6163\u001b[0m\u001b[0;34m*\u001b[0m\u001b[0mnp\u001b[0m\u001b[0;34m.\u001b[0m\u001b[0mlog\u001b[0m\u001b[0;34m(\u001b[0m\u001b[0mnp\u001b[0m\u001b[0;34m.\u001b[0m\u001b[0msum\u001b[0m\u001b[0;34m(\u001b[0m\u001b[0mfuck\u001b[0m\u001b[0;34m)\u001b[0m\u001b[0;34m)\u001b[0m\u001b[0;34m\u001b[0m\u001b[0m\n\u001b[1;32m      6\u001b[0m \u001b[0;32mprint\u001b[0m \u001b[0;34m-\u001b[0m\u001b[0;36m0.6163\u001b[0m\u001b[0;34m*\u001b[0m\u001b[0mnp\u001b[0m\u001b[0;34m.\u001b[0m\u001b[0mlog\u001b[0m\u001b[0;34m(\u001b[0m\u001b[0mnp\u001b[0m\u001b[0;34m.\u001b[0m\u001b[0msum\u001b[0m\u001b[0;34m(\u001b[0m\u001b[0mZ_list\u001b[0m\u001b[0;34m)\u001b[0m\u001b[0;34m)\u001b[0m\u001b[0;34m\u001b[0m\u001b[0m\n",
      "\u001b[0;31mNameError\u001b[0m: name 'Z_list' is not defined"
     ]
    }
   ],
   "source": [
    "import scipy.special\n",
    "print 0.6163*(-scipy.special.logsumexp(-mu_list[:]))\n",
    "print -0.6163*np.log(np.sum(Z_harm_list))\n",
    "fuck = Z_list*(2*np.pi/3)**7\n",
    "print -0.6163*np.log(np.sum(fuck))\n",
    "print -0.6163*np.log(np.sum(Z_list)) \n",
    "print np.sum(Z_list)\n",
    "print np.sum(Z_list*(2*np.pi/3)**7)\n",
    "print len(Z_list)\n",
    "print -0.6163*np.log(np.sum(Z_list))\n",
    "print np.sum(Z_harm_list)\n",
    "print np.sum(Z_list) \n",
    "print Z_harm_list"
   ]
  },
  {
   "cell_type": "code",
   "execution_count": 84,
   "metadata": {},
   "outputs": [
    {
     "name": "stdout",
     "output_type": "stream",
     "text": [
      "[-139.00541338  173.10772004  -59.80145199  138.5140186    57.66049358\n",
      " -110.72395945  112.45587982   81.195     ]\n",
      "-5.84795531355\n"
     ]
    },
    {
     "data": {
      "image/png": "[encoded data removed]",
      "text/plain": [
       "<Figure size 432x288 with 7 Axes>"
      ]
     },
     "metadata": {},
     "output_type": "display_data"
    }
   ],
   "source": [
    "print dofs\n",
    "assay_modes(pose, scorefxn, dof_dict)"
   ]
  },
  {
   "cell_type": "code",
   "execution_count": 49,
   "metadata": {},
   "outputs": [],
   "source": [
    "from sklearn.cluster import AffinityPropagation\n",
    "af = AffinityPropagation().fit(dof_lists)\n",
    "\n",
    "pose = protocols.recces.pose_setup_turner(seq,'')"
   ]
  },
  {
   "cell_type": "code",
   "execution_count": 50,
   "metadata": {},
   "outputs": [
    {
     "name": "stdout",
     "output_type": "stream",
     "text": [
      "8 3\n"
     ]
    }
   ],
   "source": [
    "print len(dof_lists), len(af.cluster_centers_indices_)"
   ]
  },
  {
   "cell_type": "code",
   "execution_count": null,
   "metadata": {},
   "outputs": [],
   "source": [
    "def set_pucker(pose, idx, pucker='north'):\n",
    "    \n",
    "    if pucker == 'north': return pose\n",
    "    \n",
    "    if pucker =='south':\n",
    "        \n",
    "        pose.set_torsion(TorsionID(idx, BB, 4), 145.521)\n",
    "        pose.set_torsion(TorsionID(idx, CHI, 2), -34.79)\n",
    "        pose.set_torsion(TorsionID(idx, CHI, 3), 156.00)\n",
    "        \n",
    "        return pose"
   ]
  },
  {
   "cell_type": "code",
   "execution_count": 41,
   "metadata": {},
   "outputs": [
    {
     "name": "stderr",
     "output_type": "stream",
     "text": [
      "/home/maa/.local/lib/python2.7/site-packages/ipykernel_launcher.py:16: RuntimeWarning: overflow encountered in double_scalars\n",
      "  app.launch_new_instance()\n"
     ]
    }
   ],
   "source": [
    "cluster_center_indices = af.cluster_centers_indices_\n",
    "shit_list = []\n",
    "\n",
    "for k in cluster_center_indices:\n",
    "    \n",
    "    dofs = dof_lists[k]\n",
    "    for kk, dof in enumerate(dofs): pose.set_torsion(dof_dict[kk], dof)\n",
    "    hessian = calculate_hessian(pose, scorefxn, dof_dict)\n",
    "    pmm.apply(pose)\n",
    "    w,v = scipy.linalg.eigh(hessian)\n",
    "   \n",
    "    shit = 1.0\n",
    "    for kk, K in enumerate(w):\n",
    "        \n",
    "        fuck = mode_scan(pose, dofs, dof_dict, scorefxn, v[:,kk])\n",
    "        shit *= fuck\n",
    "    \n",
    "    shit_list.append(shit)"
   ]
  },
  {
   "cell_type": "code",
   "execution_count": 42,
   "metadata": {},
   "outputs": [
    {
     "name": "stdout",
     "output_type": "stream",
     "text": [
      "[1.5500664848930115, 0.1007467642511247, 0.09945661861583122, 7.088120296095544e+35, inf, 43.09028650480836, 0.01907815267870834, 1.45919983556947, 0.030081473835010333, 0.18468192165534247, 0.08953196370822086, 7.952383976313734e+53, inf, 34052109.47872202, 3.62466377086807, 7.290019313431219e+39, 44940480205.3906, 3.834591523137687e+16, 2.09098130666092, 6248.739562805799, 91751142.89854813, 10783.35318247478, 165849.52718728004, 4400.03466638504]\n"
     ]
    }
   ],
   "source": [
    "print shit_list"
   ]
  },
  {
   "cell_type": "code",
   "execution_count": 224,
   "metadata": {
    "scrolled": true
   },
   "outputs": [
    {
     "name": "stdout",
     "output_type": "stream",
     "text": [
      "-0.9376301833576508\n",
      "north anti -10.668623055975846\n"
     ]
    },
    {
     "data": {
      "image/png": "[encoded data removed]",
      "text/plain": [
       "<Figure size 432x288 with 1 Axes>"
      ]
     },
     "metadata": {},
     "output_type": "display_data"
    }
   ],
   "source": [
    "hist = plt.hist(E_list,bins=9000,range=(-100,800))\n",
    "print -0.6163*np.log(np.sum(np.exp(-mu_list)))\n",
    "\n",
    "print pucker, orientation, min(E_list)"
   ]
  },
  {
   "cell_type": "code",
   "execution_count": 184,
   "metadata": {},
   "outputs": [
    {
     "ename": "NameError",
     "evalue": "name 'configuration_integral' is not defined",
     "output_type": "error",
     "traceback": [
      "\u001b[0;31m---------------------------------------------------------------------------\u001b[0m",
      "\u001b[0;31mNameError\u001b[0m                                 Traceback (most recent call last)",
      "\u001b[0;32m<ipython-input-184-263a50e554a2>\u001b[0m in \u001b[0;36m<module>\u001b[0;34m()\u001b[0m\n\u001b[0;32m----> 1\u001b[0;31m \u001b[0;32mprint\u001b[0m \u001b[0mscorefxn\u001b[0m\u001b[0;34m(\u001b[0m\u001b[0mpose_min\u001b[0m\u001b[0;34m)\u001b[0m \u001b[0;34m-\u001b[0m \u001b[0;36m0.6163\u001b[0m\u001b[0;34m*\u001b[0m\u001b[0mnp\u001b[0m\u001b[0;34m.\u001b[0m\u001b[0mlog\u001b[0m\u001b[0;34m(\u001b[0m\u001b[0mconfiguration_integral\u001b[0m\u001b[0;34m)\u001b[0m\u001b[0;34m\u001b[0m\u001b[0m\n\u001b[0m\u001b[1;32m      2\u001b[0m \u001b[0;32mprint\u001b[0m \u001b[0mconfiguration_integral\u001b[0m\u001b[0;34m\u001b[0m\u001b[0m\n\u001b[1;32m      3\u001b[0m \u001b[0;32mprint\u001b[0m \u001b[0;34m-\u001b[0m\u001b[0;36m0.6163\u001b[0m\u001b[0;34m*\u001b[0m\u001b[0mnp\u001b[0m\u001b[0;34m.\u001b[0m\u001b[0mlog\u001b[0m\u001b[0;34m(\u001b[0m\u001b[0mnp\u001b[0m\u001b[0;34m.\u001b[0m\u001b[0mexp\u001b[0m\u001b[0;34m(\u001b[0m\u001b[0;34m-\u001b[0m\u001b[0mscorefxn\u001b[0m\u001b[0;34m(\u001b[0m\u001b[0mpose_min\u001b[0m\u001b[0;34m)\u001b[0m\u001b[0;34m/\u001b[0m\u001b[0;36m0.6163\u001b[0m\u001b[0;34m)\u001b[0m\u001b[0;34m*\u001b[0m\u001b[0mconfiguration_integral\u001b[0m\u001b[0;34m)\u001b[0m\u001b[0;34m\u001b[0m\u001b[0m\n\u001b[1;32m      4\u001b[0m \u001b[0;32mprint\u001b[0m \u001b[0;34m-\u001b[0m\u001b[0;36m0.6163\u001b[0m\u001b[0;34m*\u001b[0m\u001b[0mscipy\u001b[0m\u001b[0;34m.\u001b[0m\u001b[0mspecial\u001b[0m\u001b[0;34m.\u001b[0m\u001b[0mlogsumexp\u001b[0m\u001b[0;34m(\u001b[0m\u001b[0;34m-\u001b[0m\u001b[0mmu_list\u001b[0m\u001b[0;34m)\u001b[0m\u001b[0;34m\u001b[0m\u001b[0m\n\u001b[1;32m      5\u001b[0m \u001b[0;32mprint\u001b[0m \u001b[0;34m-\u001b[0m\u001b[0;36m0.6163\u001b[0m\u001b[0;34m*\u001b[0m\u001b[0mnp\u001b[0m\u001b[0;34m.\u001b[0m\u001b[0mlog\u001b[0m\u001b[0;34m(\u001b[0m\u001b[0mnp\u001b[0m\u001b[0;34m.\u001b[0m\u001b[0mexp\u001b[0m\u001b[0;34m(\u001b[0m\u001b[0;34m-\u001b[0m\u001b[0mscorefxn\u001b[0m\u001b[0;34m(\u001b[0m\u001b[0mpose_min\u001b[0m\u001b[0;34m)\u001b[0m\u001b[0;34m/\u001b[0m\u001b[0;36m0.6163\u001b[0m\u001b[0;34m)\u001b[0m\u001b[0;34m*\u001b[0m\u001b[0mconfiguration_integral\u001b[0m\u001b[0;34m)\u001b[0m\u001b[0;34m\u001b[0m\u001b[0m\n",
      "\u001b[0;31mNameError\u001b[0m: name 'configuration_integral' is not defined"
     ]
    }
   ],
   "source": [
    "print scorefxn(pose_min) - 0.6163*np.log(configuration_integral)\n",
    "print configuration_integral\n",
    "print -0.6163*np.log(np.exp(-scorefxn(pose_min)/0.6163)*configuration_integral) \n",
    "print -0.6163*scipy.special.logsumexp(-mu_list)\n",
    "print -0.6163*np.log(np.exp(-scorefxn(pose_min)/0.6163)*configuration_integral)\n",
    "print scorefxn(pose_min) - np.log(configuration_integral)\n",
    "print (np.exp(-(scorefxn(pose_min)-np.log(configuration_integral))/0.6163))\n"
   ]
  },
  {
   "cell_type": "code",
   "execution_count": 229,
   "metadata": {},
   "outputs": [
    {
     "name": "stdout",
     "output_type": "stream",
     "text": [
      "\u001b[0mcore.import_pose.import_pose: \u001b[0mFile './../recces_rosetta/results/ag/infile_80/prerun/ag.pdb' automatically determined to be of type PDB\n",
      "-9.99619953834\n",
      "-10.668623056\n"
     ]
    }
   ],
   "source": [
    "pose = pose_from_file('./../recces_rosetta/results/ag/infile_80/prerun/ag.pdb')\n",
    "huh = pose_min\n",
    "print scorefxn(pose)\n",
    "pmm.apply(pose)\n",
    "pose.assign(pose_min)\n",
    "minmover.apply(pose)\n",
    "pmm.apply(pose)\n",
    "hessian = calculate_hessian(pose_min, scorefxn, dof_dict)\n",
    "print scorefxn(pose_min)\n",
    "dofs = []\n",
    "for val in dof_dict.itervalues(): dofs.append(pose.torsion(val))\n",
    "dofs = np.array(dofs)"
   ]
  },
  {
   "cell_type": "code",
   "execution_count": 230,
   "metadata": {},
   "outputs": [
    {
     "name": "stdout",
     "output_type": "stream",
     "text": [
      "-10.668623056\n",
      "-61.9851471746\n"
     ]
    }
   ],
   "source": [
    "w, v = scipy.linalg.eigh(hessian)\n",
    "obs = protocols.moves.AddPyMOLObserver(pose, True)\n",
    "pose.assign(huh)\n",
    "E_min = scorefxn(pose_min)\n",
    "print E_min\n",
    "print pose_min.alpha(2)"
   ]
  },
  {
   "cell_type": "code",
   "execution_count": 416,
   "metadata": {},
   "outputs": [
    {
     "name": "stdout",
     "output_type": "stream",
     "text": [
      "-1.6243333348616762\n"
     ]
    }
   ],
   "source": [
    "print 0.5*np.log(scipy.linalg.det(hessian))- 0.5*len(w)*np.log(2*np.pi) + scorefxn(pose_min)"
   ]
  },
  {
   "cell_type": "code",
   "execution_count": 389,
   "metadata": {
    "scrolled": false
   },
   "outputs": [
    {
     "data": {
      "image/png": "[encoded data removed]",
      "text/plain": [
       "<Figure size 432x288 with 7 Axes>"
      ]
     },
     "metadata": {},
     "output_type": "display_data"
    }
   ],
   "source": [
    "import scipy.integrate\n",
    "\n",
    "Z = 1\n",
    "\n",
    "pose.assign(pose_min)\n",
    "E_min = scorefxn(pose_min)\n",
    "kT = 1.0\n",
    "for kk in range(len(w)):\n",
    " \n",
    "    mode = v[:,kk]\n",
    "    h = np.arange(-60,61,1)\n",
    "    #fuck = h[:-1]\n",
    "    #fuck.reverse()\n",
    "    #h = h+fuck\n",
    "    #h = np.array(h)\n",
    "    h_plot = h*np.pi/180\n",
    "\n",
    "    bar = []\n",
    "\n",
    "\n",
    "    for hh in h:\n",
    "\n",
    "        dofs_new = dofs+hh*mode\n",
    "\n",
    "        for jj, dof in enumerate(dofs_new):\n",
    "\n",
    "            pose.set_torsion(dof_dict[jj], dof)\n",
    "\n",
    "        bar.append((scorefxn(pose)-E_min)/kT)\n",
    "\n",
    "    \n",
    "    Z *= np.trapz(np.exp(-np.array(bar)), x = h_plot)\n",
    "    np.array(bar) \n",
    "    pose.assign(pose_min)\n",
    "    \n",
    "    plt.subplot(3, 3, kk+1)\n",
    "    plt.plot(h, np.exp(-np.array(bar)))\n",
    "    plt.plot(h, np.exp(-0.5*w[kk]*h_plot**2/kT))\n",
    "    plt.xticks([],[])\n",
    "    plt.yticks([],[])\n",
    "    #plt.xlabel('Displacement along normal coordinate (degrees)')\n",
    "    #plt.ylabel('exp(-(E-E0)/kT)')"
   ]
  },
  {
   "cell_type": "code",
   "execution_count": 390,
   "metadata": {
    "scrolled": true
   },
   "outputs": [
    {
     "name": "stdout",
     "output_type": "stream",
     "text": [
      "-0.9317799003971552\n",
      "-10.668623056\n",
      "9.156729659258085\n"
     ]
    }
   ],
   "source": [
    "print (scorefxn(pose_min) - np.log(Z))*0.6163"
   ]
  },
  {
   "cell_type": "code",
   "execution_count": 398,
   "metadata": {},
   "outputs": [
    {
     "name": "stdout",
     "output_type": "stream",
     "text": [
      "No phase space volume applied\n",
      "-0.9492145449075741\n"
     ]
    }
   ],
   "source": [
    "sim = SingleHistSimulation('./../../das-lab/recces_rosetta/results/ag/infile_120/ST/')\n",
    "print 0.6163*(sim.value) - 0.6163*np.log(4*np.pi/3)*7"
   ]
  },
  {
   "cell_type": "code",
   "execution_count": 234,
   "metadata": {},
   "outputs": [
    {
     "name": "stdout",
     "output_type": "stream",
     "text": [
      "-10.668623055975846\n"
     ]
    }
   ],
   "source": [
    "print min(E_list)\n",
    "pmm.apply(pose_min)"
   ]
  },
  {
   "cell_type": "code",
   "execution_count": 192,
   "metadata": {},
   "outputs": [],
   "source": [
    "pmm.apply(pose_min)"
   ]
  },
  {
   "cell_type": "code",
   "execution_count": 193,
   "metadata": {},
   "outputs": [
    {
     "name": "stdout",
     "output_type": "stream",
     "text": [
      "0.0\n"
     ]
    }
   ],
   "source": [
    "pose = protocols.recces.pose_setup_turner('g','')\n",
    "print pose.epsilon(1)"
   ]
  },
  {
   "cell_type": "code",
   "execution_count": null,
   "metadata": {},
   "outputs": [],
   "source": [
    "minmover.tolerance(1e-7)\n",
    "minmover.max_iter(100000)\n",
    "minmover.apply(pose)\n"
   ]
  },
  {
   "cell_type": "code",
   "execution_count": null,
   "metadata": {},
   "outputs": [],
   "source": [
    "print dof_lists"
   ]
  },
  {
   "cell_type": "code",
   "execution_count": 28,
   "metadata": {},
   "outputs": [
    {
     "name": "stdout",
     "output_type": "stream",
     "text": [
      "{0: <pyrosetta.rosetta.core.id.TorsionID object at 0x7f8544988768>, 1: <pyrosetta.rosetta.core.id.TorsionID object at 0x7f8544988810>, 2: <pyrosetta.rosetta.core.id.TorsionID object at 0x7f8544988570>, 3: <pyrosetta.rosetta.core.id.TorsionID object at 0x7f85449885e0>, 4: <pyrosetta.rosetta.core.id.TorsionID object at 0x7f8544988500>, 5: <pyrosetta.rosetta.core.id.TorsionID object at 0x7f85449885a8>, 6: <pyrosetta.rosetta.core.id.TorsionID object at 0x7f8544988068>}\n",
      "-10.0049722639\n"
     ]
    }
   ],
   "source": [
    "print dof_dict\n",
    "from scipy.special import gamma\n",
    "from scipy.special import logsumexp\n",
    "#north_anti_min.assign(pose_min)\n",
    "print scorefxn(pose_min)"
   ]
  },
  {
   "cell_type": "code",
   "execution_count": 65,
   "metadata": {},
   "outputs": [
    {
     "name": "stdout",
     "output_type": "stream",
     "text": [
      "12215866453535.832\n"
     ]
    }
   ],
   "source": [
    "hessian = calculate_hessian(pose_min, scorefxn, dof_dict)\n",
    "print np.linalg.det(hessian)\n",
    "from recces.util import *\n",
    "from recces.data import *\n"
   ]
  },
  {
   "cell_type": "code",
   "execution_count": 420,
   "metadata": {},
   "outputs": [
    {
     "name": "stdout",
     "output_type": "stream",
     "text": [
      "No phase space volume applied\n",
      "-1.8035877596657626\n",
      "-4.12104207805062\n"
     ]
    }
   ],
   "source": [
    "from recces.util import *\n",
    "from recces.data import *\n",
    "sim = SingleHistSimulation('./../recces_rosetta/results/ag/infile_120/ST/', name='')\n",
    "print (sim.value)*0.6163 - 0.6163*np.log(4*np.pi/3)*7\n",
    "print (scorefxn(pose_min) - np.log(Z) - np.log(2*np.pi/3)*7)*0.6163"
   ]
  },
  {
   "cell_type": "code",
   "execution_count": 417,
   "metadata": {},
   "outputs": [
    {
     "name": "stdout",
     "output_type": "stream",
     "text": [
      "-4.190338811928716\n",
      "-1.001076634275251\n",
      "No phase space volume applied\n"
     ]
    }
   ],
   "source": [
    "print (scorefxn(pose_min) + 0.5*np.log(np.linalg.det(hessian)) - 3.5*np.log(2*np.pi))*0.6163 - np.log(2*np.pi/3)*7*0.6163\n",
    "print (scorefxn(pose_min) + 0.5*np.log(np.linalg.det(hessian)) - 3.5*np.log(2*np.pi))*0.6163\n",
    "E_min = scorefxn(pose_min)\n",
    "sim = SingleHistSimulation('./../recces_rosetta/results/ag/infile_120/ST/',name='')\n",
    "\n"
   ]
  },
  {
   "cell_type": "markdown",
   "metadata": {},
   "source": [
    "12/17 \n",
    "Need to figure out why SingleSimulation and SingleHistSimulation are giving different values of the free energy. SingleHistSimulation seems to be agreeing with MM while SingleSimulation is off by 2*log(2)"
   ]
  },
  {
   "cell_type": "code",
   "execution_count": 400,
   "metadata": {},
   "outputs": [],
   "source": [
    "matt_guess = lambda E: (2.0*np.pi)**(len(w)/2)*(E-E_min)**(len(w)/2 - 1)/gamma(len(w)/2)/np.sqrt(np.linalg.det(hessian))*np.heaviside(E-E_min, 0.5)#2*(2*np.pi)**((len(w)-1)/2)*(2*(E-E_min))**(len(w)/2-1)/scipy.misc.factorial2(len(w)-2)/np.sqrt(np.linalg.det(hessian))*np.heaviside(E-E_min,0.5)"
   ]
  },
  {
   "cell_type": "code",
   "execution_count": 408,
   "metadata": {
    "scrolled": false
   },
   "outputs": [
    {
     "data": {
      "text/plain": [
       "Text(0,0.5,'$g(E)e^{\\\\frac{-E}{kT}}$')"
      ]
     },
     "execution_count": 408,
     "metadata": {},
     "output_type": "execute_result"
    },
    {
     "data": {
      "image/png": "[encoded data removed]",
      "text/plain": [
       "<Figure size 432x288 with 1 Axes>"
      ]
     },
     "metadata": {},
     "output_type": "display_data"
    }
   ],
   "source": [
    "plt.plot(hist[1][500:1500], matt_guess(hist[1][500:1500])*np.exp(-hist[1][500:1500])/(4*np.pi/3)**7)\n",
    "#plt.plot(hist[1][500:1500], matt_guess_ns(hist[1][500:1500])*np.exp(-hist[1][500:1500]))\n",
    "#plt.plot(hist[1][500:1500], matt_guess_sa(hist[1][500:1500])*np.exp(-hist[1][500:1500]))\n",
    "#plt.plot(hist[1][500:1500], matt_guess_ss(hist[1][500:1500])*np.exp(-hist[1][500:1500]))\n",
    "plt.plot(sim._dos_scores[500:1500], np.exp(-sim._dos_scores[500:1500])*sim._dos[500:1500])\n",
    "plt.legend(['MM','RECCES'])\n",
    "plt.xlabel('Energy (REU)')\n",
    "plt.ylabel(r'$g(E)e^{\\frac{-E}{kT}}$')"
   ]
  },
  {
   "cell_type": "markdown",
   "metadata": {},
   "source": [
    "12/16\n",
    "\n",
    "Plot log of the density of states. Compare both harmonic approximation with simulated tempering estimation. Consistent with discrepancies in estimated free energies, there appears to be a constant offset of about 2*log(2). Unclear why this is the case. Perhaps has something to do with normalizatiotn and configuration space volume calculated by recces results processing scripts. Will need to alter that code and follow up on this investigation.\n",
    "\n",
    "Pure harmonic approximation with correction for finite phase volume seems to be giving best approximation"
   ]
  },
  {
   "cell_type": "code",
   "execution_count": 422,
   "metadata": {},
   "outputs": [
    {
     "name": "stderr",
     "output_type": "stream",
     "text": [
      "/home/maa/.local/lib/python2.7/site-packages/ipykernel_launcher.py:1: RuntimeWarning: divide by zero encountered in log\n",
      "  \"\"\"Entry point for launching an IPython kernel.\n",
      "/home/maa/.local/lib/python2.7/site-packages/ipykernel_launcher.py:2: RuntimeWarning: divide by zero encountered in log\n",
      "  \n"
     ]
    },
    {
     "data": {
      "text/plain": [
       "[<matplotlib.lines.Line2D at 0x7f85364b0690>]"
      ]
     },
     "execution_count": 422,
     "metadata": {},
     "output_type": "execute_result"
    },
    {
     "data": {
      "image/png": "[encoded data removed]",
      "text/plain": [
       "<Figure size 432x288 with 1 Axes>"
      ]
     },
     "metadata": {},
     "output_type": "display_data"
    }
   ],
   "source": [
    "plt.plot(hist[1][500:1500], np.log(sim._dos[500:1500]))\n",
    "plt.plot(hist[1][500:1500], np.log(matt_guess(hist[1][500:1500]))-np.log(4*np.pi/3)*7)\n"
   ]
  },
  {
   "cell_type": "code",
   "execution_count": 424,
   "metadata": {},
   "outputs": [
    {
     "name": "stdout",
     "output_type": "stream",
     "text": [
      "-1.8538222213906013\n",
      "-1.8035877596657626\n"
     ]
    },
    {
     "name": "stderr",
     "output_type": "stream",
     "text": [
      "/home/maa/.local/lib/python2.7/site-packages/ipykernel_launcher.py:1: DeprecationWarning: `logsumexp` is deprecated!\n",
      "Importing `logsumexp` from scipy.misc is deprecated in scipy 1.0.0. Use `scipy.special.logsumexp` instead.\n",
      "  \"\"\"Entry point for launching an IPython kernel.\n"
     ]
    }
   ],
   "source": [
    "print -0.6163*logsumexp(-hist[1][:], b=matt_guess(hist[1][:]))\n",
    "print sim.value*0.6163 - 0.6163*np.log(4*np.pi/3)*7"
   ]
  },
  {
   "cell_type": "code",
   "execution_count": 252,
   "metadata": {},
   "outputs": [
    {
     "data": {
      "text/plain": [
       "True"
      ]
     },
     "execution_count": 252,
     "metadata": {},
     "output_type": "execute_result"
    }
   ],
   "source": [
    "pose_min.dump_pdb('./../recces_rosetta/results/ag/infile/prerun/ag.pdb')"
   ]
  },
  {
   "cell_type": "code",
   "execution_count": 248,
   "metadata": {},
   "outputs": [
    {
     "name": "stdout",
     "output_type": "stream",
     "text": [
      "81.1757667609 35.8538883447\n"
     ]
    }
   ],
   "source": [
    "print pose.torsion(TorsionID(2, BB, 4)), pose.torsion(TorsionID(1, CHI, 2))"
   ]
  },
  {
   "cell_type": "code",
   "execution_count": null,
   "metadata": {},
   "outputs": [],
   "source": [
    "scorefxn(pose)"
   ]
  },
  {
   "cell_type": "code",
   "execution_count": null,
   "metadata": {},
   "outputs": [],
   "source": [
    "print hist[1]"
   ]
  },
  {
   "cell_type": "code",
   "execution_count": null,
   "metadata": {},
   "outputs": [],
   "source": [
    "print pose.alpha(2), pose.beta(2), pose.gamma(2), pose.delta(1), pose.epsilon(1), pose.zeta(1)"
   ]
  },
  {
   "cell_type": "code",
   "execution_count": null,
   "metadata": {
    "scrolled": true
   },
   "outputs": [],
   "source": [
    "huh = pose_from_file('./../recces_rosetta/results/min.pdb')\n",
    "print huh.torsion(TorsionID(1, CHI, 2)), huh.torsion(TorsionID(1, CHI, 3))"
   ]
  },
  {
   "cell_type": "code",
   "execution_count": null,
   "metadata": {},
   "outputs": [],
   "source": [
    "print \n",
    "pmm.apply(huh)\n",
    "print huh.epsilon(1), huh.zeta(1), huh.alpha(2), huh.beta(2), huh.gamma(1), huh.delta(2), huh.chi(1), huh.chi(2)"
   ]
  },
  {
   "cell_type": "code",
   "execution_count": null,
   "metadata": {},
   "outputs": [],
   "source": [
    "print huh.alpha(2), huh.beta(2), huh.gamma(2), huh.epsilon(1), huh.zeta(1)"
   ]
  },
  {
   "cell_type": "code",
   "execution_count": null,
   "metadata": {},
   "outputs": [],
   "source": [
    "scorefxn(huh)"
   ]
  },
  {
   "cell_type": "code",
   "execution_count": null,
   "metadata": {},
   "outputs": [],
   "source": [
    "pose.set_ring_conformation('north')"
   ]
  },
  {
   "cell_type": "code",
   "execution_count": null,
   "metadata": {},
   "outputs": [],
   "source": [
    "print pose."
   ]
  },
  {
   "cell_type": "code",
   "execution_count": null,
   "metadata": {},
   "outputs": [],
   "source": [
    "pose = pose_from_file('./../../das-lab/recces_rosetta/results/ag/ST/ST_637000.pdb')"
   ]
  },
  {
   "cell_type": "code",
   "execution_count": null,
   "metadata": {},
   "outputs": [],
   "source": [
    "print pose.delta(1), pose.torsion(TorsionID(1, CHI, 2)), pose.torsion(TorsionID(1, CHI, 3))\n",
    "print pose.delta(2), pose.torsion(TorsionID(2, CHI, 2)), pose.torsion(TorsionID(2, CHI, 3))"
   ]
  },
  {
   "cell_type": "code",
   "execution_count": null,
   "metadata": {},
   "outputs": [],
   "source": [
    "# ag/ST/367000, 38000\n",
    "\n",
    "# C2'-endo\n",
    "print 145.521118169, -34.8252844774, 155.978251202\n",
    "\n",
    "# C3'-endo\n",
    "print 81.1950530464, 35.8703398534, 94.8555221911"
   ]
  },
  {
   "cell_type": "code",
   "execution_count": null,
   "metadata": {},
   "outputs": [],
   "source": [
    "pose = protocols.recces.pose_setup_turner('gg','')"
   ]
  },
  {
   "cell_type": "code",
   "execution_count": null,
   "metadata": {},
   "outputs": [],
   "source": [
    "pmm.apply(pose)\n",
    "pose.set_torsion(TorsionID(1, BB, 4), 145.5)\n",
    "pose.set_torsion(TorsionID(1, CHI, 2), -34.8)\n",
    "pose.set_torsion(TorsionID(1, CHI, 3), 155.98)"
   ]
  },
  {
   "cell_type": "code",
   "execution_count": null,
   "metadata": {},
   "outputs": [],
   "source": [
    "pmm.apply(pose)"
   ]
  },
  {
   "cell_type": "code",
   "execution_count": null,
   "metadata": {},
   "outputs": [],
   "source": [
    "pose.set_chi(1, -56.6)"
   ]
  },
  {
   "cell_type": "code",
   "execution_count": null,
   "metadata": {},
   "outputs": [],
   "source": [
    "pmm.apply(pose)"
   ]
  },
  {
   "cell_type": "code",
   "execution_count": null,
   "metadata": {},
   "outputs": [],
   "source": [
    "print -0.6163*(np.log(90260*2+108.954*2) + 7*np.log(2*np.pi/3) + 2*np.log(2))"
   ]
  },
  {
   "cell_type": "code",
   "execution_count": null,
   "metadata": {},
   "outputs": [],
   "source": [
    "pmm.apply(pose_min)"
   ]
  },
  {
   "cell_type": "code",
   "execution_count": null,
   "metadata": {},
   "outputs": [],
   "source": [
    "print scorefxn(pose_min)"
   ]
  },
  {
   "cell_type": "code",
   "execution_count": null,
   "metadata": {},
   "outputs": [],
   "source": [
    "print E_list"
   ]
  },
  {
   "cell_type": "code",
   "execution_count": null,
   "metadata": {},
   "outputs": [],
   "source": [
    "print min(E_list)\n"
   ]
  },
  {
   "cell_type": "code",
   "execution_count": null,
   "metadata": {},
   "outputs": [],
   "source": [
    "print E_min"
   ]
  },
  {
   "cell_type": "code",
   "execution_count": null,
   "metadata": {},
   "outputs": [],
   "source": [
    "print rna_hires(pose_min)"
   ]
  },
  {
   "cell_type": "code",
   "execution_count": null,
   "metadata": {},
   "outputs": [],
   "source": [
    "pmm.apply(pose_min)"
   ]
  },
  {
   "cell_type": "code",
   "execution_count": null,
   "metadata": {},
   "outputs": [],
   "source": [
    "print pose_min.epsilon(1), pose_min.zeta(1), pose_min.alpha(2), pose_min.beta(2), pose_min.gamma(2)\n",
    "print pose_min.delta(1), pose_min.delta(2)"
   ]
  },
  {
   "cell_type": "code",
   "execution_count": null,
   "metadata": {},
   "outputs": [],
   "source": [
    "pose_min.dump_pdb('./../gg_fuck.pdb')"
   ]
  },
  {
   "cell_type": "code",
   "execution_count": null,
   "metadata": {},
   "outputs": [],
   "source": [
    "pose = pose_from_file('./../gg.pdb')\n",
    "pmm.apply(pose)"
   ]
  },
  {
   "cell_type": "code",
   "execution_count": null,
   "metadata": {},
   "outputs": [],
   "source": [
    "options = scorefxn.energy_method_options()\n",
    "print options.hbond_options()\n",
    "options.etable_options().no_lk_polar_desolvation = False\n",
    "scorefxn.set_energy_method_options(options)\n",
    "scorefxn.show(pose)"
   ]
  },
  {
   "cell_type": "code",
   "execution_count": null,
   "metadata": {},
   "outputs": [],
   "source": [
    "pmm.apply(pose)\n"
   ]
  },
  {
   "cell_type": "code",
   "execution_count": null,
   "metadata": {},
   "outputs": [],
   "source": [
    " print 0.6163*(-np.log(2*90206 + 2*108.954) - 7*np.log(2*np.pi/3) - 2*np.log(2))"
   ]
  },
  {
   "cell_type": "code",
   "execution_count": null,
   "metadata": {},
   "outputs": [],
   "source": [
    "print movemap\n"
   ]
  },
  {
   "cell_type": "code",
   "execution_count": null,
   "metadata": {},
   "outputs": [],
   "source": [
    "scorefxn = core.scoring.ScoreFunctionFactory.create_score_function('stepwise/rna/turner')"
   ]
  },
  {
   "cell_type": "code",
   "execution_count": null,
   "metadata": {},
   "outputs": [],
   "source": [
    "print scorefxn"
   ]
  },
  {
   "cell_type": "code",
   "execution_count": null,
   "metadata": {},
   "outputs": [],
   "source": [
    "scorefxn.show(pose_min)"
   ]
  },
  {
   "cell_type": "code",
   "execution_count": null,
   "metadata": {},
   "outputs": [],
   "source": [
    "print pose"
   ]
  },
  {
   "cell_type": "code",
   "execution_count": null,
   "metadata": {},
   "outputs": [],
   "source": [
    "print pose.chi(1)"
   ]
  },
  {
   "cell_type": "code",
   "execution_count": null,
   "metadata": {},
   "outputs": [],
   "source": [
    "N9 = AtomID(1, 19)\n",
    "C1 = AtomID(1, 8)"
   ]
  },
  {
   "cell_type": "code",
   "execution_count": null,
   "metadata": {},
   "outputs": [],
   "source": [
    "pose.conformation().bond_length(C1, N9)"
   ]
  },
  {
   "cell_type": "code",
   "execution_count": null,
   "metadata": {},
   "outputs": [],
   "source": [
    "print pose"
   ]
  },
  {
   "cell_type": "code",
   "execution_count": null,
   "metadata": {},
   "outputs": [],
   "source": [
    "pyrosetta.rosetta.protocols.constraint_generator"
   ]
  },
  {
   "cell_type": "code",
   "execution_count": null,
   "metadata": {},
   "outputs": [],
   "source": [
    "import pyrosetta.rosetta.protocols.moves.ConstraintSetMover()"
   ]
  },
  {
   "cell_type": "code",
   "execution_count": null,
   "metadata": {},
   "outputs": [],
   "source": [
    "fuck = ConstraintSetMover()"
   ]
  },
  {
   "cell_type": "code",
   "execution_count": null,
   "metadata": {},
   "outputs": [],
   "source": [
    "fuck.set_id(TorsionID(1, CHI, 1))"
   ]
  },
  {
   "cell_type": "code",
   "execution_count": null,
   "metadata": {},
   "outputs": [],
   "source": [
    "print pose.residue(1)"
   ]
  },
  {
   "cell_type": "code",
   "execution_count": null,
   "metadata": {},
   "outputs": [],
   "source": [
    "import pyrosetta.rosetta.protocols.simple_moves"
   ]
  },
  {
   "cell_type": "code",
   "execution_count": null,
   "metadata": {},
   "outputs": [],
   "source": [
    "set_constraint = pyrosetta.rosetta.protocols.simple_moves.ConstraintSetMover()"
   ]
  },
  {
   "cell_type": "code",
   "execution_count": null,
   "metadata": {},
   "outputs": [],
   "source": [
    "set_constraint.constraint_file('./cst_file.cst')\n",
    "dihedral_constraint_function = core.scoring.func.CircularHarmonicFunc(pose.chi(2), 0.35)\n",
    "shit = core.scoring.constraints.DihedralConstraint(core.id.AtomID(1,1), core.id.AtomID(1,2), core.id.AtomID(1,3), core.id.AtomID(1,4), dihedral_constraint_function)"
   ]
  },
  {
   "cell_type": "code",
   "execution_count": null,
   "metadata": {},
   "outputs": [],
   "source": [
    "pose = protocols.recces.pose_setup_turner('gg','')\n",
    "pose.dump_pdb('shit.pdb')\n",
    "print core.id.AtomID(23,1)\n",
    "print pose.residue(2).atom(17)"
   ]
  },
  {
   "cell_type": "code",
   "execution_count": null,
   "metadata": {},
   "outputs": [],
   "source": [
    "atom = pose.residue(2).atom_index('C3\\'')\n",
    "print atom"
   ]
  },
  {
   "cell_type": "code",
   "execution_count": null,
   "metadata": {},
   "outputs": [],
   "source": [
    "atom1 = core.id.AtomID(2, 5)"
   ]
  },
  {
   "cell_type": "code",
   "execution_count": null,
   "metadata": {},
   "outputs": [],
   "source": [
    "print pose.conformation().dof_id_from_torsion_id(TorsionID(2, CHI, 1))"
   ]
  },
  {
   "cell_type": "code",
   "execution_count": null,
   "metadata": {},
   "outputs": [],
   "source": [
    "north_anti_min = Pose()\n",
    "north_anti_min.assign(pose_min)"
   ]
  },
  {
   "cell_type": "code",
   "execution_count": null,
   "metadata": {},
   "outputs": [],
   "source": [
    "north_syn_min = Pose()\n",
    "north_syn_min.assign(pose_min)"
   ]
  },
  {
   "cell_type": "code",
   "execution_count": null,
   "metadata": {},
   "outputs": [],
   "source": [
    "south_syn_min = Pose()\n",
    "south_syn_min.assign(pose_min)"
   ]
  },
  {
   "cell_type": "code",
   "execution_count": null,
   "metadata": {},
   "outputs": [],
   "source": [
    "south_anti_min = Pose()\n",
    "south_anti_min.assign(pose_min)"
   ]
  },
  {
   "cell_type": "code",
   "execution_count": null,
   "metadata": {},
   "outputs": [],
   "source": [
    "pose.set_epsilon(1, -145.65)\n",
    "pose.set_zeta(1, -62.90)\n",
    "pose.set_alpha(2, -55.65)\n",
    "pose.set_beta(2, 168.81)\n",
    "pose.set_gamma(2, 65.70)\n",
    "pose.set_chi(1, 67.90)\n",
    "pose.set_chi(2, 113.39)\n",
    "\n",
    "pmm.apply(pose)"
   ]
  },
  {
   "cell_type": "code",
   "execution_count": null,
   "metadata": {},
   "outputs": [],
   "source": [
    "pmm.apply(pose_min)"
   ]
  },
  {
   "cell_type": "code",
   "execution_count": null,
   "metadata": {},
   "outputs": [],
   "source": [
    "pose = protocols.recces.pose_setup_turner('ga','')"
   ]
  },
  {
   "cell_type": "code",
   "execution_count": null,
   "metadata": {},
   "outputs": [],
   "source": [
    "ST_min = pose_from_file('./../gg_fuck.pdb')\n",
    "print scorefxn(pose_min)\n",
    "print scorefxn(ST_min)"
   ]
  },
  {
   "cell_type": "code",
   "execution_count": null,
   "metadata": {},
   "outputs": [],
   "source": [
    "#print ST_min.torsion(TorsionID(2, CHI, 1))\n",
    "#print ST_min.torsion(TorsionID(2, CHI, 2))\n",
    "#print ST_min.torsion(TorsionID(2, CHI, 3))\n",
    "print ST_min.epsilon(1)\n",
    "print ST_min.zeta(1)\n",
    "print ST_min.alpha(2)\n",
    "print ST_min.beta(2)\n",
    "print ST_min.gamma(2)\n",
    "print ST_min.chi(1)\n",
    "print ST_min.chi(2)\n",
    "minmover.apply(ST_min)\n",
    "scorefxn(ST_min)"
   ]
  },
  {
   "cell_type": "code",
   "execution_count": null,
   "metadata": {},
   "outputs": [],
   "source": [
    "pose.set_epsilon(1, -150.4)\n",
    "pose.set_zeta(1, 56.5)\n",
    "pose.set_alpha(2, 156.6)\n",
    "pose.set_beta(2, 177.3)\n",
    "pose.set_gamma(2, 53.5)\n",
    "pose.set_chi(1, 72.4)\n",
    "pose.set_chi(2, 119.0)"
   ]
  },
  {
   "cell_type": "code",
   "execution_count": null,
   "metadata": {},
   "outputs": [],
   "source": [
    "scorefxn(ST_min)"
   ]
  },
  {
   "cell_type": "code",
   "execution_count": null,
   "metadata": {},
   "outputs": [],
   "source": [
    "minmover.apply(ST_min)\n",
    "scorefxn(ST_min)"
   ]
  },
  {
   "cell_type": "code",
   "execution_count": null,
   "metadata": {},
   "outputs": [],
   "source": [
    "print pose.epsilon(1)\n",
    "print pose.zeta(1)\n",
    "print pose.alpha(2)\n",
    "print pose.beta(2)\n",
    "print pose.gamma(2)\n",
    "print pose.chi(1)\n",
    "print pose.chi(2)"
   ]
  },
  {
   "cell_type": "code",
   "execution_count": 264,
   "metadata": {},
   "outputs": [
    {
     "data": {
      "text/plain": [
       "True"
      ]
     },
     "execution_count": 264,
     "metadata": {},
     "output_type": "execute_result"
    }
   ],
   "source": [
    "pose_min.dump_pdb('./../../das-lab/recces_rosetta/results/ag/infile_80/prerun/ag.pdb')"
   ]
  },
  {
   "cell_type": "code",
   "execution_count": 262,
   "metadata": {},
   "outputs": [
    {
     "name": "stdout",
     "output_type": "stream",
     "text": [
      "-10.668623056\n"
     ]
    }
   ],
   "source": [
    "print scorefxn(pose_min)"
   ]
  },
  {
   "cell_type": "markdown",
   "metadata": {},
   "source": [
    "12/17\n",
    "\n",
    "Below is code to run MM on trinucleotides. This is prohibitive to run on a local machine--must figure out how to run on cluster etc. "
   ]
  },
  {
   "cell_type": "code",
   "execution_count": null,
   "metadata": {},
   "outputs": [],
   "source": [
    "seq = 'ggg'\n",
    "\n",
    "# Pucker and orientation of terminal base\n",
    "pucker = 'north'\n",
    "orientation = 'anti'\n",
    "\n",
    "n = len(seq)\n",
    "Z_harm_list = np.array([])\n",
    "mu_list = np.array([])\n",
    "pmm = PyMOLMover()\n",
    "pmm.keep_history(True)\n",
    "dof_lists = []\n",
    "E_list = np.array([])\n",
    "E_min = 0\n",
    "pose_min = Pose()\n",
    "dofs_min = []"
   ]
  },
  {
   "cell_type": "code",
   "execution_count": null,
   "metadata": {
    "scrolled": true
   },
   "outputs": [],
   "source": [
    "# Code for any trinucleotide \n",
    "for delta in [81.195, 145.521]:\n",
    "    \n",
    "    for alpha in [-64.3, 66.7, 156.6]:\n",
    "        \n",
    "        pose, movemap, dof_dict = initialiize_pose(seq)\n",
    "        \n",
    "        pose.set_torsion(TorsionID(1, BB, 4), delta)\n",
    "    \n",
    "        if delta == 81.195:\n",
    "\n",
    "            if seq[0] in 'ga': possible_chi = [-110.9, -51.9, 72.4]\n",
    "            else: possible_chi = [-105.7, -47.2, 77.3]\n",
    "                    \n",
    "            possible_eps = [-150.4, 16.8, 76.2]\n",
    "\n",
    "        #C2'-endo\n",
    "        else:\n",
    "\n",
    "            if seq[0] in 'ga': possible_chi = [-56.6, 119.0]\n",
    "            else: possible_chi =[-65, 108]\n",
    "                \n",
    "            possible_eps = [-97.4, 0, 75.2]\n",
    "            \n",
    "            pose.set_torsion(TorsionID(1, CHI, 2), -34.825)\n",
    "            pose.set_torsion(TorsionID(1, CHI, 3), 155.987)\n",
    "                \n",
    "        #if pucker == 'north':\n",
    "        \n",
    "            #pose.set_torsion(TorsionID(2, BB, 4), 81.195)\n",
    "            #pose.set_torsion(TorsionID(2, CHI, 2), 35.870)\n",
    "            #pose.set_torsion(TorsionID(2, CHI, 3), 94.856)\n",
    "\n",
    "        if alpha == -64.3: possible_zeta = [-71.8, 167.55]\n",
    "        elif alpha == 66.7: possible_zeta = [-131.6, 79.0]\n",
    "        else: possible_zeta = [-69.5, 56.5]\n",
    "        \n",
    "               \n",
    "        for delta_2 in [81.195, 145.521]:\n",
    "        \n",
    "            for alpha_2 in [-64.3, 66.7, 156.6]:\n",
    "                \n",
    "                pose.set_torsion(TorsionID(2, BB, 4), delta_2)\n",
    "                \n",
    "                if delta_2 == 81.195:\n",
    "\n",
    "                    if seq[1] in 'ga': possible_chi_2 = [-110.9, -51.9, 72.4]\n",
    "                    else: possible_chi_2 = [-105.7, -47.2, 77.3]\n",
    "                    \n",
    "                    possible_eps_2 = [-150.4, 16.8, 76.2]\n",
    "                    \n",
    "                else:\n",
    "\n",
    "                    if seq[1] in 'ga': possible_chi_2 = [-56.6, 119.0]\n",
    "                    else: possible_chi_2 =[-65, 108]\n",
    "                \n",
    "                    possible_eps_2= [-97.4, 0, 75.2]\n",
    "            \n",
    "                    pose.set_torsion(TorsionID(2, CHI, 2), -34.825)\n",
    "                    pose.set_torsion(TorsionID(2, CHI, 3), 155.987)\n",
    "\n",
    "                if alpha_2 == -64.3: possible_zeta_2 = [-71.8, 167.55]\n",
    "                elif alpha_2 == 66.7: possible_zeta_2 = [-131.6, 79.0]\n",
    "                else: possible_zeta_2 = [-69.5, 56.5]\n",
    "        \n",
    "\n",
    "                if pucker == 'south':\n",
    "        \n",
    "                    # These will set the terminal base pair to C2'-endo (south)\n",
    "                    pose.set_torsion(TorsionID(3, BB, 4), 145.521)\n",
    "                    pose.set_torsion(TorsionID(3, CHI, 2), -34.79)\n",
    "                    pose.set_torsion(TorsionID(3, CHI, 3), 156.00)\n",
    "                \n",
    "                \n",
    "                possible_chi_3 = chi_minima(seq[-1], pucker, orientation)\n",
    "                \n",
    "                torsion_lists = itertools.product(possible_eps, possible_zeta, [alpha], [177.3], [175.8, 53.5, -62.9],\n",
    "                                                  possible_eps_2, possible_zeta_2, [alpha_2], [177.3], [175.8, 53.5, -62.9],\n",
    "                                                  possible_chi, possible_chi_2, possible_chi_3)\n",
    "\n",
    "                \n",
    "                for torsion_list in list(torsion_lists):\n",
    "\n",
    "                    pose.set_torsion(TorsionID(1, BB, 5), torsion_list[0])\n",
    "                    pose.set_torsion(TorsionID(1, BB, 6), torsion_list[1])\n",
    "                    pose.set_torsion(TorsionID(2, BB, 1), torsion_list[2])\n",
    "                    pose.set_torsion(TorsionID(2, BB, 2), torsion_list[3])\n",
    "                    pose.set_torsion(TorsionID(2, BB, 3), torsion_list[4])\n",
    "                    pose.set_torsion(TorsionID(2, BB, 5), torsion_list[5])\n",
    "                    pose.set_torsion(TorsionID(2, BB, 6), torsion_list[6])\n",
    "                    pose.set_torsion(TorsionID(3, BB, 1), torsion_list[7])\n",
    "                    pose.set_torsion(TorsionID(3, BB, 2), torsion_list[8])\n",
    "                    pose.set_torsion(TorsionID(3, BB, 3), torsion_list[9])\n",
    "                    \n",
    "                    pose.set_torsion(TorsionID(1, CHI, 1), torsion_list[10])\n",
    "                    pose.set_torsion(TorsionID(2, CHI, 1), torsion_list[11])\n",
    "                    pose.set_torsion(TorsionID(3, CHI, 1), torsion_list[12])\n",
    "\n",
    "                    pmm.apply(pose)\n",
    "\n",
    "                    pose = add_constraints(pose)\n",
    "\n",
    "                    #pose = MC_minimization(pose, scorefxn, dof_dict, torsion_list)\n",
    "\n",
    "                    minmover = rosetta.protocols.minimization_packing.MinMover(\n",
    "                        movemap, scorefxn, 'dfpmin_armijo_nonmonotone', 1.0e-7, True)\n",
    "                    minmover.max_iter(1000000)\n",
    "                    minmover.min_options().use_nblist(True)\n",
    "                    minmover.min_options().nblist_auto_update(True)\n",
    "                    minmover.apply(pose)\n",
    "\n",
    "                    pmm.apply(pose)\n",
    "                    E_min = scorefxn(pose)\n",
    "\n",
    "                    minimum = Pose()\n",
    "                    minimum.assign(pose)\n",
    "\n",
    "                    dofs = []\n",
    "\n",
    "                    for val in dof_dict.itervalues(): dofs.append(pose.torsion(val))\n",
    "                    dofs = np.array(dofs)\n",
    "\n",
    "\n",
    "                    #if is_repeat_minimum(dofs, dof_lists): continue\n",
    "\n",
    "                    dof_lists.append(dofs)\n",
    "\n",
    "                    hessian = calculate_hessian(pose, scorefxn, dof_dict)\n",
    "                    w,v = scipy.linalg.eigh(hessian)\n",
    "\n",
    "                    if not np.all(w > 0.):\n",
    "                        continue\n",
    "\n",
    "                    E_list = np.append(E_list, E_min)\n",
    "\n",
    "                    Z = 1.0\n",
    "                    Z_harm = np.sqrt((2*np.pi)**len(w)/scipy.linalg.det(hessian)) \n",
    "\n",
    "                    for kk, K in enumerate(w):\n",
    "\n",
    "                        fuck = mode_scan(pose, dofs, dof_dict, scorefxn, v[:, kk])\n",
    "\n",
    "                        if fuck == 1.0: break\n",
    "\n",
    "                        Z *= fuck\n",
    "\n",
    "                    if kk < 6:\n",
    "\n",
    "                        dof_lists.pop()\n",
    "                        E_lists = np.delete(E_list, -1)\n",
    "                        E_min = 0\n",
    "\n",
    "                        continue\n",
    "\n",
    "                    if np.all(E_list >= E_min):\n",
    "\n",
    "                        pose_min.assign(minimum)\n",
    "                        dofs_min = dofs\n",
    "\n",
    "                    #Z_list = np.append(Z_list, np.exp(-scorefxn(minimum)/0.6163)*Z )\n",
    "                    Z_harm_list = np.append(Z_harm_list, np.exp(-scorefxn(minimum))*Z_harm)\n",
    "                    mu_list = np.append(mu_list, scorefxn(minimum) - np.log(Z))\n",
    "                    print scorefxn(minimum) - np.log(Z), Z, scorefxn(minimum)\n",
    "                    #print -0.6163*np.log(np.sum(np.exp(-mu_list/0.6163))), scorefxn(minimum), np.exp(-(scorefxn(minimum) - np.log(Z))/0.6163)\n",
    "\n",
    "        '''\n",
    "        # South, anti\n",
    "        pose.set_torsion(TorsionID(1, BB, 4), 145.4)\n",
    "        pose.set_torsion(TorsionID(1, BB, 5), -97.4)\n",
    "        pose.set_torsion(TorsionID(1, CHI, 1), -56.6)\n",
    "        pose.set_torsion(TorsionID(1, CHI, 2), -37.2)\n",
    "        pose.set_torsion(TorsionID(1, CHI, 3), 155.5)\n",
    "        pose.set_torsion(TorsionID(2, BB, 1), 66.7)\n",
    "        pose.set_torsion(TorsionID(2, BB, 3), -62.9)\n",
    "        pose.set_torsion(TorsionID(2, BB, 4), 145.4)\n",
    "        pose.set_torsion(TorsionID(2, CHI, 1), -56.6)\n",
    "        pose.set_torsion(TorsionID(2, CHI, 2), -37.2)\n",
    "        pose.set_torsion(TorsionID(2, CHI, 3), 155.5)\n",
    "        '''"
   ]
  },
  {
   "cell_type": "code",
   "execution_count": null,
   "metadata": {},
   "outputs": [],
   "source": [
    "fuck = pose_from_file('./../recces_rosetta/results/gg/infile/prerun/min.pdb')\n",
    "print scorefxn(fuck)\n",
    "\n",
    "shit = pose_from_file('./../recces_rosetta/results/gg/infile/ST/min.pdb')\n",
    "print scorefxn(shit)\n",
    "\n",
    "\n",
    "print scorefxn(pose_min)"
   ]
  },
  {
   "cell_type": "code",
   "execution_count": null,
   "metadata": {},
   "outputs": [],
   "source": [
    "pose_min.set_secstruct(1,'L')\n",
    "pose_min.set_secstruct(2,'L')\n",
    "scorefxn.show(pose_min)\n",
    "scorefxn.show(fuck)\n"
   ]
  },
  {
   "cell_type": "code",
   "execution_count": 205,
   "metadata": {},
   "outputs": [
    {
     "data": {
      "text/plain": [
       "True"
      ]
     },
     "execution_count": 205,
     "metadata": {},
     "output_type": "execute_result"
    }
   ],
   "source": [
    "pose_min.dump_pdb('./../recces_rosetta/results/aa/infile/prerun/aa.pdb')"
   ]
  },
  {
   "cell_type": "code",
   "execution_count": null,
   "metadata": {},
   "outputs": [],
   "source": [
    "print shit.annotated_sequence()"
   ]
  },
  {
   "cell_type": "code",
   "execution_count": null,
   "metadata": {},
   "outputs": [],
   "source": [
    "pose = protocols.recces.pose_setup_turner('gg','')\n"
   ]
  },
  {
   "cell_type": "code",
   "execution_count": null,
   "metadata": {},
   "outputs": [],
   "source": [
    "print pose.fold_tree()\n",
    "pose.set_secstruct(1,'L')\n",
    "pose.set_secstruct(2,'L')\n",
    "print pose.secstruct()\n",
    "pose2 = pose_from_file('./../recces_rosetta/results/gg/infile/ST/min.pdb')"
   ]
  },
  {
   "cell_type": "code",
   "execution_count": null,
   "metadata": {},
   "outputs": [],
   "source": [
    "print pose2.fold_tree().is_cutpoint(1)"
   ]
  },
  {
   "cell_type": "code",
   "execution_count": null,
   "metadata": {},
   "outputs": [],
   "source": [
    "ft = pose.fold_tree()\n",
    "ft.clear()\n",
    "print ft\n",
    "ft.add_edge(1, 2, 1)\n",
    "print ft"
   ]
  },
  {
   "cell_type": "code",
   "execution_count": null,
   "metadata": {},
   "outputs": [],
   "source": [
    "pose2.fold_tree(ft)\n",
    "scorefxn(pose)\n",
    "scorefxn.show(pose2)"
   ]
  },
  {
   "cell_type": "code",
   "execution_count": 160,
   "metadata": {},
   "outputs": [],
   "source": [
    "pmm.apply(pose_min)"
   ]
  },
  {
   "cell_type": "code",
   "execution_count": null,
   "metadata": {},
   "outputs": [],
   "source": [
    "print pose.annotated_sequence()"
   ]
  },
  {
   "cell_type": "code",
   "execution_count": null,
   "metadata": {},
   "outputs": [],
   "source": [
    "pose.dump_pdb('./../recces_rosetta/results/gg/infile/prerun/gg.pdb')"
   ]
  },
  {
   "cell_type": "code",
   "execution_count": null,
   "metadata": {},
   "outputs": [],
   "source": [
    "print scorefxn(pose)"
   ]
  },
  {
   "cell_type": "code",
   "execution_count": 198,
   "metadata": {},
   "outputs": [
    {
     "name": "stdout",
     "output_type": "stream",
     "text": [
      "\u001b[0mcore.import_pose.import_pose: \u001b[0mFile './../recces_rosetta/results/ag/infile/prerun/min.pdb' automatically determined to be of type PDB\n"
     ]
    }
   ],
   "source": [
    "pose = pose_from_file('./../recces_rosetta/results/ag/infile/prerun/min.pdb')"
   ]
  },
  {
   "cell_type": "code",
   "execution_count": 199,
   "metadata": {},
   "outputs": [],
   "source": [
    "pmm.apply(pose)\n",
    "pmm.apply(pose_min)"
   ]
  },
  {
   "cell_type": "code",
   "execution_count": null,
   "metadata": {},
   "outputs": [],
   "source": []
  }
 ],
 "metadata": {
  "kernelspec": {
   "display_name": "Python 2",
   "language": "python",
   "name": "python2"
  },
  "language_info": {
   "codemirror_mode": {
    "name": "ipython",
    "version": 2
   },
   "file_extension": ".py",
   "mimetype": "text/x-python",
   "name": "python",
   "nbconvert_exporter": "python",
   "pygments_lexer": "ipython2",
   "version": "2.7.12"
  }
 },
 "nbformat": 4,
 "nbformat_minor": 2
}
