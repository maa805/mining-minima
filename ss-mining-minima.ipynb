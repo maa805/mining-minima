{
 "cells": [
  {
   "cell_type": "code",
   "execution_count": 1,
   "metadata": {},
   "outputs": [
    {
     "name": "stdout",
     "output_type": "stream",
     "text": [
      "Found rosetta database at: /usr/local/lib/python2.7/dist-packages/pyrosetta-2018.11+release.7c7790f-py2.7-linux-x86_64.egg/pyrosetta/database; using it....\n",
      "PyRosetta-4 2017 [Rosetta PyRosetta4.Release.python27.ubuntu 2018.11+release.7c7790f7c7790fbb898f8210b54513b9f9c8a927c3e8d7f 2018-03-14T13:19:04] retrieved from: http://www.pyrosetta.org\n",
      "(C) Copyright Rosetta Commons Member Institutions.\n",
      "Created in JHU by Sergey Lyskov and PyRosetta Team.\n",
      "\n",
      "\u001b[0mcore.init: \u001b[0mChecking for fconfig files in pwd and ./rosetta/flags\n",
      "\n",
      "\u001b[0mcore.init: \u001b[0mRosetta version: PyRosetta4.Release.python27.ubuntu r173 2018.11+release.7c7790f 7c7790fbb898f8210b54513b9f9c8a927c3e8d7f http://www.pyrosetta.org 2018-03-14T13:19:04\n",
      "\u001b[0mcore.init: \u001b[0mcommand: PyRosetta -ex1 -ex2aro -database /usr/local/lib/python2.7/dist-packages/pyrosetta-2018.11+release.7c7790f-py2.7-linux-x86_64.egg/pyrosetta/database\n",
      "\u001b[0mcore.init: \u001b[0m'RNG device' seed mode, using '/dev/urandom', seed=-372203681 seed_offset=0 real_seed=-372203681\n",
      "\u001b[0mcore.init.random: \u001b[0mRandomGenerator:init: Normal mode, seed=-372203681 RG_type=mt19937\n"
     ]
    }
   ],
   "source": [
    "from pyrosetta import *\n",
    "from pyrosetta.rosetta import *\n",
    "from pyrosetta.rosetta.core.id import *\n",
    "import numpy as np\n",
    "import itertools\n",
    "import scipy\n",
    "import scipy.linalg\n",
    "import matplotlib\n",
    "import matplotlib.pyplot as plt\n",
    "init()"
   ]
  },
  {
   "cell_type": "code",
   "execution_count": 2,
   "metadata": {},
   "outputs": [
    {
     "name": "stdout",
     "output_type": "stream",
     "text": [
      "\u001b[0mcore.chemical.GlobalResidueTypeSet: \u001b[0mFinished initializing fa_standard residue type set.  Created 603 residue types\n",
      "\u001b[0mcore.chemical.GlobalResidueTypeSet: \u001b[0mTotal time to initialize 0.859375 seconds.\n",
      "\u001b[0mcore.scoring.etable: \u001b[0mStarting energy table calculation\n",
      "\u001b[0mcore.scoring.etable: \u001b[0msmooth_etable: changing atr/rep split to bottom of energy well\n",
      "\u001b[0mcore.scoring.etable: \u001b[0msmooth_etable: spline smoothing lj etables (maxdis = 6)\n",
      "\u001b[0mcore.scoring.etable: \u001b[0msmooth_etable: spline smoothing solvation etables (max_dis = 6)\n",
      "\u001b[0mcore.scoring.etable: \u001b[0mFinished calculating energy tables.\n",
      "\u001b[0mbasic.io.database: \u001b[0mDatabase file opened: scoring/score_functions/hbonds/ref2015_params/HBPoly1D.csv\n",
      "\u001b[0mbasic.io.database: \u001b[0mDatabase file opened: scoring/score_functions/hbonds/ref2015_params/HBFadeIntervals.csv\n",
      "\u001b[0mbasic.io.database: \u001b[0mDatabase file opened: scoring/score_functions/hbonds/ref2015_params/HBEval.csv\n",
      "\u001b[0mbasic.io.database: \u001b[0mDatabase file opened: scoring/score_functions/hbonds/ref2015_params/DonStrength.csv\n",
      "\u001b[0mbasic.io.database: \u001b[0mDatabase file opened: scoring/score_functions/hbonds/ref2015_params/AccStrength.csv\n"
     ]
    }
   ],
   "source": [
    "pose = rosetta.protocols.recces.pose_setup_turner('aa','')\n",
    "pmm = PyMOLMover()\n",
    "pmm.keep_history(True)"
   ]
  },
  {
   "cell_type": "code",
   "execution_count": 3,
   "metadata": {},
   "outputs": [],
   "source": [
    "def numpy_hessian(x, h):\n",
    "        \n",
    "    x_grad = np.gradient(x, h)\n",
    "    hessian = np.empty((x.ndim, x.ndim) + x.shape, dtype = x.dtype)\n",
    "    \n",
    "    for k, grad_k in enumerate(x_grad):\n",
    "        tmp_grad = np.gradient(grad_k, h)\n",
    "        for l, grad_kl in enumerate(tmp_grad):\n",
    "            hessian[k, l, :, :] = grad_kl\n",
    "            \n",
    "    return hessian"
   ]
  },
  {
   "cell_type": "code",
   "execution_count": 4,
   "metadata": {},
   "outputs": [],
   "source": [
    "def is_pos_def(x):\n",
    "    return np.all(np.linalg.eigvals(x) > 0)"
   ]
  },
  {
   "cell_type": "code",
   "execution_count": 59,
   "metadata": {},
   "outputs": [],
   "source": [
    "def within_360(dof):\n",
    "    \n",
    "    diff = dof/360.0\n",
    "    return dof - 360.0*diff.astype(int)"
   ]
  },
  {
   "cell_type": "code",
   "execution_count": 62,
   "metadata": {},
   "outputs": [],
   "source": [
    "def is_repeat_minimum(new_dofs, dof_lists):\n",
    "    \n",
    "    #dofs_rounded = np.around(new_dofs, decimals=1)\n",
    "    \n",
    "    if len(dof_lists) == 0:\n",
    "        \n",
    "        return False \n",
    "    \n",
    "    for dof_list in dof_lists:\n",
    "        \n",
    "        #dof_list_rounded = np.around(dof_list, decimals=1)\n",
    "\n",
    "        dof_diff = new_dofs - dof_list\n",
    "        return np.all(abs(within_360(dof_diff)) > 120.0)\n",
    "        \n",
    "        #print truth_vals\n",
    "        #if truth_vals == False:\n",
    "        \n",
    "         #   return False\n",
    "    \n",
    "    return True"
   ]
  },
  {
   "cell_type": "code",
   "execution_count": 255,
   "metadata": {},
   "outputs": [],
   "source": [
    "def possible_chi(base, sugar_pucker, orientation):\n",
    "    \n",
    "    if base in ['g','a', 'G', 'A']:\n",
    "\n",
    "        if sugar_pucker == 'N' or 'north' or 'n':\n",
    "\n",
    "            if orientation == 'anti' or 'A' or 'a': return [72.4]\n",
    "            else: return [-110.9, -51.9]\n",
    "\n",
    "        else:\n",
    "\n",
    "            if orientation == 'anti' or 'A' or 'a': return [119.0]\n",
    "            else: return [-56.6]\n",
    "            \n",
    "    else:\n",
    "\n",
    "        if sugar_pucker == 'N' or 'north' or 'n':\n",
    "\n",
    "            if orientation == 'anti' or 'A' or 'a': return [77.3]\n",
    "            else: return [-105.7, -47.2]\n",
    "\n",
    "        else:\n",
    "\n",
    "            if orientation == 'anti' or 'A' or 'a': return [108.2]\n",
    "            else: return [-65.0]        \n",
    "        \n"
   ]
  },
  {
   "cell_type": "code",
   "execution_count": 122,
   "metadata": {},
   "outputs": [],
   "source": [
    "def initialiize_pose(seq):\n",
    "    \n",
    "    n_residues = len(seq)\n",
    "    print n_residues\n",
    "    dof_dict = {}\n",
    "    \n",
    "    pose = pyrosetta.rosetta.protocols.recces.pose_setup_turner(seq, '')\n",
    "    movemap = MoveMap()\n",
    "    \n",
    "    for ii in range(n_residues-1):\n",
    "           \n",
    "        dof_dict.update({5*ii: TorsionID(ii+1, BB, 5), 5*ii+1: TorsionID(ii+1, BB, 6), 5*ii+2: TorsionID(ii+2, BB, 1), \n",
    "                         5*ii+3: TorsionID(ii+2, BB, 2), 5*ii+4: TorsionID(ii+2, BB, 3)})\n",
    "                        \n",
    "        movemap.set(TorsionID(5*ii+1, BB, 5), True)\n",
    "        movemap.set(TorsionID(5*ii+1, BB, 6), True)\n",
    "        movemap.set(TorsionID(5*ii+2, BB, 1), True)\n",
    "        movemap.set(TorsionID(5*ii+2, BB, 2), True)\n",
    "        movemap.set(TorsionID(5*ii+2, BB, 3), True)\n",
    "    \n",
    "    for ii in range(n_residues):\n",
    "    \n",
    "        dof_dict.update({5*(n_residues-1) + ii: TorsionID(ii+1, CHI, 1)})\n",
    "        movemap.set(TorsionID(ii+1, CHI, 1), True)\n",
    "        \n",
    "    return pose, movemap, dof_dict    \n",
    "    "
   ]
  },
  {
   "cell_type": "code",
   "execution_count": 123,
   "metadata": {},
   "outputs": [],
   "source": [
    "def calculate_hessian(pose, scorefxn, dof_dict):\n",
    "    '''Take a minimized pose and computes the hessian at the base of the corresponding energy well. Returns the hessian matrix\n",
    "    which may subsequently be diagonalized'''\n",
    "\n",
    "    minimum = Pose()\n",
    "    minimum.assign(pose)\n",
    "\n",
    "    h = 0.1\n",
    "    h_rad = h*np.pi/180\n",
    "    E_0 = scorefxn(pose)\n",
    "\n",
    "    dofs = []\n",
    "\n",
    "    for val in dof_dict.itervalues(): dofs.append(pose.torsion(val))\n",
    "    dofs = np.array(dofs)\n",
    "\n",
    "    hessian = np.zeros((len(dofs), len(dofs)))\n",
    "\n",
    "    n_pts = int(1/h + 1)\n",
    "    ind = int(n_pts/2)\n",
    "\n",
    "    tor_ranges = np.zeros((n_pts, len(dofs)))\n",
    "    energy = np.zeros((n_pts, n_pts))\n",
    "\n",
    "    for ii, dof in enumerate(dofs):\n",
    "\n",
    "        tor_ranges[:, ii] = dof + np.arange(-0.5, 0.5+h, h)\n",
    "\n",
    "    for pair in list(itertools.combinations(dof_dict.keys(), 2)):\n",
    "\n",
    "        foo = pair[0]\n",
    "        bar = pair[1]\n",
    "\n",
    "        x = tor_ranges[:, foo]\n",
    "        y = tor_ranges[:, bar]\n",
    "\n",
    "        for ii, xx in enumerate(x):\n",
    "\n",
    "            pose.set_torsion(dof_dict[pair[0]], xx)\n",
    "\n",
    "            for jj, yy in enumerate(y):\n",
    "\n",
    "                pose.set_torsion(dof_dict[pair[1]], yy)\n",
    "\n",
    "                energy[ii, jj] = scorefxn(pose)\n",
    "\n",
    "                pose.set_torsion(dof_dict[pair[1]], dofs[bar])\n",
    "\n",
    "            pose.set_torsion(dof_dict[pair[0]], dofs[foo])\n",
    "\n",
    "        hess = numpy_hessian(energy, h_rad)\n",
    "\n",
    "        d2E_dx2 =  hess[0,0,:,:]\n",
    "        d2E_dy2 =  hess[1,1,:,:]\n",
    "        d2E_dxdy = hess[0,1,:,:]\n",
    "\n",
    "        if hessian[foo, foo] == 0:\n",
    "\n",
    "            hessian[foo, foo] = d2E_dx2[ind, ind]\n",
    "\n",
    "        if hessian[bar, bar] == 0:\n",
    "\n",
    "            hessian[bar, bar] = d2E_dy2[ind, ind]\n",
    "\n",
    "        hessian[foo, bar] = d2E_dxdy[ind, ind]\n",
    "        hessian[bar, foo] = d2E_dxdy[ind, ind]\n",
    "        \n",
    "    return hessian\n"
   ]
  },
  {
   "cell_type": "code",
   "execution_count": 124,
   "metadata": {},
   "outputs": [],
   "source": [
    "def mode_scan(pose, dofs, dof_dict, scorefxn, mode, kT = 1.0, h = 0.5):\n",
    "    \n",
    "    temp = Pose()\n",
    "    temp.assign(pose)\n",
    "    \n",
    "    E_0 = scorefxn(pose)\n",
    "    E = E_0\n",
    "    inc = 0\n",
    "    result = 0.0\n",
    "    \n",
    "    max_inc = int(60/h)\n",
    "\n",
    "    while inc < max_inc:\n",
    "        \n",
    "        inc += 1\n",
    "        result += 0.5*np.exp(-(E-E_0)/kT)\n",
    "        dofs_new = dofs + (60.0)*inc/float(max_inc)*mode\n",
    "        \n",
    "        for key, val in enumerate(dofs_new):\n",
    "\n",
    "            temp.set_torsion(dof_dict[key], val)\n",
    "        \n",
    "        E = scorefxn(temp)\n",
    "        result += 0.5*np.exp(-(E-E_0)/kT)\n",
    "\n",
    "    # Reinitialize pose\n",
    "    temp.assign(pose)\n",
    "    inc = 0\n",
    "    E = E_0\n",
    "    \n",
    "    while inc < max_inc:\n",
    "        \n",
    "        inc += 1\n",
    "        \n",
    "        result += 0.5*np.exp(-(E-E_0)/kT)\n",
    "        dofs_new = dofs + 60.0*inc/float(max_inc)*mode\n",
    "        \n",
    "        for key, val in enumerate(dofs_new):\n",
    "    \n",
    "            temp.set_torsion(dof_dict[key], val)\n",
    "        \n",
    "        E  = scorefxn(temp)\n",
    "        result += 0.5*np.exp(-(E-E_0)/kT)\n",
    "        \n",
    "    result *= h*np.pi/180.0\n",
    "    return result\n"
   ]
  },
  {
   "cell_type": "code",
   "execution_count": 125,
   "metadata": {
    "scrolled": true
   },
   "outputs": [
    {
     "name": "stdout",
     "output_type": "stream",
     "text": [
      "ScoreFunction::show():\n",
      "weights: (fa_atr 0.73) (fa_rep 0.1) (fa_intra_rep 0.0071) (lk_nonpolar 0.25) (fa_elec_rna_phos_phos 4.54) (rna_torsion 4.26) (stack_elec 1.54) (hbond_sc 2.46)\n",
      "energy_method_options: EnergyMethodOptions::show: aa_composition_setup_files: \n",
      "EnergyMethodOptions::show: netcharge_setup_files: \n",
      "EnergyMethodOptions::show: aspartimide_penalty_value: 25\n",
      "EnergyMethodOptions::show: etable_type: FA_STANDARD_DEFAULT\n",
      "analytic_etable_evaluation: 1\n",
      "EnergyMethodOptions::show: method_weights: free_res\n",
      "EnergyMethodOptions::show: unfolded_energies_type: UNFOLDED_SCORE12\n",
      "EnergyMethodOptions::show: split_unfolded_label_type: SPLIT_UNFOLDED_MM\n",
      "EnergyMethodOptions::show: split_unfolded_value_type: SPLIT_UNFOLDED_BOLTZ\n",
      "EnergyMethodOptions::show: atom_vdw_atom_type_set_name: centroid\n",
      "EnergyMethodOptions::show: exclude_protein_protein_fa_elec: false\n",
      "EnergyMethodOptions::show: exclude_RNA_RNA_fa_elec: false\n",
      "EnergyMethodOptions::show: exclude_monomer_fa_elec: false\n",
      "EnergyMethodOptions::show: elec_max_dis: 5.5\n",
      "EnergyMethodOptions::show: elec_min_dis: 1.6\n",
      "EnergyMethodOptions::show: elec_die: 10\n",
      "EnergyMethodOptions::show: elec_no_dis_dep_die: false\n",
      "EnergyMethodOptions::show: elec_sigmoidal_die: true\n",
      "EnergyMethodOptions::show: elec_sigmoidal_D: 80\n",
      "EnergyMethodOptions::show: elec_sigmoidal_D0: 6\n",
      "EnergyMethodOptions::show: elec_sigmoidal_S: 0.4\n",
      "EnergyMethodOptions::show: smooth_fa_elec: true\n",
      "EnergyMethodOptions::show: grpelec_fade_type: false\n",
      "EnergyMethodOptions::show: grpelec_fade_param1: 1\n",
      "EnergyMethodOptions::show: grpelec_fade_param2: 1\n",
      "EnergyMethodOptions::show: grpelec_fade_hbond: 0\n",
      "EnergyMethodOptions::show: grp_cpfxn: 1\n",
      "EnergyMethodOptions::show: elec_group_file: /scoring/score_functions/elec_group_def.dat\n",
      "EnergyMethodOptions::show: grpelec_context_dependent: 0\n",
      "EnergyMethodOptions::show: use_polarization: true\n",
      "EnergyMethodOptions::show: use_gen_kirkwood: true\n",
      "EnergyMethodOptions::show: protein_dielectric: 1\n",
      "EnergyMethodOptions::show: water_dielectric: 78.3\n",
      "EnergyMethodOptions::show: exclude_DNA_DNA: true\n",
      "EnergyMethodOptions::show: exclude_intra_res_protein: true\n",
      "EnergyMethodOptions::show: put_intra_into_total: false\n",
      "EnergyMethodOptions::show: geom_sol_interres_path_distance_cutoff: false\n",
      "EnergyMethodOptions::show: geom_sol_intrares_path_distance_cutoff: true\n",
      "EnergyMethodOptions::show: eval_intrares_elec_ST_only: false\n",
      "EnergyMethodOptions::show: envsmooth_zero_negatives: false\n",
      "EnergyMethodOptions::show: cst_max_seq_sep: 18446744073709551615\n",
      "EnergyMethodOptions::show: pb_bound_tag: bound\n",
      "EnergyMethodOptions::show: pb_unbound_tag: unbound\n",
      "EnergyMethodOptions::show: ordered_wat_penalty: 1.7\n",
      "EnergyMethodOptions::show: ordered_pt_wat_penalty: 2.15037\n",
      "EnergyMethodOptions::show: voids_penalty_energy_containing_cones_cutoff_:6\n",
      "EnergyMethodOptions::show: voids_penalty_energy_cone_distance_cutoff_: 8\n",
      "EnergyMethodOptions::show: voids_penalty_energy_cone_dotproduct_cutoff_: 0.1\n",
      "EnergyMethodOptions::show: voids_penalty_energy_voxel_grid_padding_: 1\n",
      "EnergyMethodOptions::show: voids_penalty_energy_voxel_size_: 0.5\n",
      "EnergyMethodOptions::show: voids_penalty_energy_disabled_except_during_packing_: TRUE\n",
      "EnergyMethodOptions::show: hbnet_bonus_ramping_function_: \"quadratic\"\n",
      "EnergyMethodOptions::show: hbnet_max_network_size_: 0\n",
      "EnergyMethodOptions::show: bond_angle_central_atoms_to_score:\n",
      "EnergyMethodOptions::show: bond_angle_residue_type_param_set: none\n",
      "HBondOptions::show: exclude_DNA_DNA: true\n",
      "HBondOptions::show: exclude_intra_res_protein_: true\n",
      "HBondOptions::show: exclude_intra_res_RNA_: false\n",
      "HBondOptions::show: put_intra_into_total_: false\n",
      "HBondOptions::show: exclude_self_hbonds: true\n",
      "HBondOptions::show: use_hb_env_dep: false\n",
      "HBondOptions::show: use_hb_env_dep_DNA: true\n",
      "HBondOptions::show: smooth_hb_env_dep: true\n",
      "HBondOptions::show: bb_donor_acceptor_check: true\n",
      "HBondOptions::show: decompose_bb_hb_into_pair_energies: false\n",
      "HBondOptions::show: params_database_tag_: ref2015_params\n",
      "HBondOptions::show: use_sp2_chi_penalty_: true\n",
      "HBondOptions::show: sp2_BAH180_rise_: 0.75\n",
      "HBondOptions::show: sp2_outer_width_: 0.357\n",
      "HBondOptions::show: measure_sp3acc_BAH_from_hvy_: true\n",
      "HBondOptions::show: fade_energy_: 1\n",
      "HBondOptions::show: exclude_ether_oxygens_: 0\n",
      "HBondOptions::show: Mbhbond: false \n",
      "HbondOptions::show: mphbond: false\n",
      "HBondOptions::show: hbond_energy_shift: 0\n",
      "HBondOptions::show: water_hybrid_sf: false\n",
      "RNA_EnergyMethodOptions::show: syn_G_potential_bonus: 0\n",
      "RNA_EnergyMethodOptions::show: torsion_potential: RNA11_based_new\n",
      "RNA_EnergyMethodOptions::show: suiteness_bonus: Richardson\n",
      "FreeDOF_Options::show: free_suite_bonus: -1\n",
      "FreeDOF_Options::show: free_2HOprime_bonus: -0.5\n",
      "FreeDOF_Options::show: free_sugar_bonus: -1\n",
      "FreeDOF_Options::show: pack_phosphate_penalty: 0.25\n",
      "FreeDOF_Options::show: free_side_chain_bonus: -0.5\n",
      "\n",
      "\n"
     ]
    }
   ],
   "source": [
    "fuck = core.scoring.ScoreFunctionFactory.create_score_function('stepwise/rna/turner.wts')\n",
    "scorefxn = fuck\n",
    "'''\n",
    "#rna_hires = core.scoring.ScoreFunctionFactory.create_score_function('rna/denovo/rna_hires_recces')\n",
    "#rna_hires.set_weight(core.scoring.geom_sol, 0)\n",
    "#rna_hires.set_weight(core.scoring.ch_bond, 0)\n",
    "#rna_hires.set_weight(core.scoring.rna_sugar_close, 0)\n",
    "rna_hires.set_weight(core.scoring.hbond_lr_bb_sc, 0.)\n",
    "rna_hires.set_weight(core.scoring.hbond_sr_bb_sc, 0.)\n",
    "rna_hires.set_weight(core.scoring.hbond_sc, 0.)\n",
    "rna_hires.set_weight(core.scoring.atom_pair_constraint, 0.)\n",
    "rna_hires.set_weight(core.scoring.fa_atr,0.73)\n",
    "rna_hires.set_weight(core.scoring.fa_rep, 0.10)\n",
    "rna_hires.set_weight(core.scoring.fa_intra_rep, 0.0071) \n",
    "rna_hires.set_weight(core.scoring.lk_nonpolar, 0.25) \n",
    "rna_hires.set_weight(core.scoring.fa_elec_rna_phos_phos, 4.54) \n",
    "rna_hires.set_weight(core.scoring.rna_torsion, 4.26) \n",
    "rna_hires.set_weight(core.scoring.stack_elec, 1.54) \n",
    "rna_hires.set_weight(core.scoring.hbond_sc, 2.46)\n",
    "rna_hires.energy_method_options().rna_options().torsion_potential('RNA11_based_new')\n",
    "rna_hires.energy_method_options().hb_options().\n",
    "scorefxn = rna_hires\n",
    "'''\n",
    "print scorefxn"
   ]
  },
  {
   "cell_type": "code",
   "execution_count": 243,
   "metadata": {},
   "outputs": [],
   "source": [
    "seq = 'gg'\n",
    "n = len(seq)\n",
    "mu_list = []\n",
    "pmm = PyMOLMover()\n",
    "pmm.keep_history(True)\n",
    "E_list = []\n",
    "i = 0\n",
    "dof_lists = []"
   ]
  },
  {
   "cell_type": "code",
   "execution_count": 244,
   "metadata": {
    "scrolled": true
   },
   "outputs": [
    {
     "name": "stdout",
     "output_type": "stream",
     "text": [
      "2\n",
      "{0: <pyrosetta.rosetta.core.id.TorsionID object at 0x7f74ecc8c6c0>, 1: <pyrosetta.rosetta.core.id.TorsionID object at 0x7f74ecc8c378>, 2: <pyrosetta.rosetta.core.id.TorsionID object at 0x7f74ecc8c618>, 3: <pyrosetta.rosetta.core.id.TorsionID object at 0x7f74ecc8c3e8>, 4: <pyrosetta.rosetta.core.id.TorsionID object at 0x7f74ecc8c650>, 5: <pyrosetta.rosetta.core.id.TorsionID object at 0x7f74ecc8c570>, 6: <pyrosetta.rosetta.core.id.TorsionID object at 0x7f74ecc8ca78>}\n",
      "\u001b[0mcore.optimization.LineMinimizer: \u001b[0m\u001b[31m\u001b[1m[ ERROR ]\u001b[0m \u001b[31mInaccurate G! step= 3.8147e-06 Deriv= -1.14039e-05 Finite Diff= 1.48572e-05\u001b[0m\n",
      "5.78487347957\n",
      "\u001b[0mcore.optimization.LineMinimizer: \u001b[0m\u001b[31m\u001b[1m[ ERROR ]\u001b[0m \u001b[31mInaccurate G! step= 3.8147e-06 Deriv= -0.00026879 Finite Diff= 3.73484e-06\u001b[0m\n",
      "4.77659608118\n",
      "2.44183113275\n",
      "\u001b[0mcore.optimization.LineMinimizer: \u001b[0m\u001b[31m\u001b[1m[ ERROR ]\u001b[0m \u001b[31mInaccurate G! step= 3.8147e-06 Deriv= -0.000101737 Finite Diff= 6.02333e-05\u001b[0m\n",
      "2.26189305575\n",
      "-4.89988837994\n",
      "-6.98446976978\n",
      "2.57038030651\n",
      "-1.25777244603\n",
      "4.56946591899\n",
      "0.173506431183\n",
      "\u001b[0mcore.optimization.LineMinimizer: \u001b[0m\u001b[31m\u001b[1m[ ERROR ]\u001b[0m \u001b[31mInaccurate G! step= 3.8147e-06 Deriv= -7.55669e-05 Finite Diff= 5.68875e-06\u001b[0m\n",
      "-2.56637184588\n",
      "-10.5362982354\n",
      "9.8178043029\n",
      "7.54816469255\n",
      "6.23530457154\n",
      "\u001b[0mcore.optimization.LineMinimizer: \u001b[0m\u001b[31m\u001b[1m[ ERROR ]\u001b[0m \u001b[31mInaccurate G! step= 3.8147e-06 Deriv= -0.000522172 Finite Diff= 1.65688e-06\u001b[0m\n",
      "-0.416166721184\n",
      "\u001b[0mcore.optimization.LineMinimizer: \u001b[0m\u001b[31m\u001b[1m[ ERROR ]\u001b[0m \u001b[31mInaccurate G! step= 3.8147e-06 Deriv= -4.04168e-07 Finite Diff= 1.98837e-07\u001b[0m\n",
      "0.455206021869\n",
      "\u001b[0mcore.optimization.LineMinimizer: \u001b[0m\u001b[31m\u001b[1m[ ERROR ]\u001b[0m \u001b[31mInaccurate G! step= 3.8147e-06 Deriv= -1.15141e-06 Finite Diff= 3.37401e-06\u001b[0m\n",
      "-1.81949567558\n",
      "5.44090411239\n",
      "6.46049374154\n",
      "3.40341003562\n",
      "\u001b[0mcore.optimization.LineMinimizer: \u001b[0m\u001b[31m\u001b[1m[ ERROR ]\u001b[0m \u001b[31mInaccurate G! step= 2.98023e-08 Deriv= -0.0085653 Finite Diff= 0.00209254\u001b[0m\n",
      "2.2689288608\n",
      "-7.12011191654\n",
      "-5.77185372518\n",
      "5.11902841418\n",
      "\u001b[0mcore.optimization.LineMinimizer: \u001b[0m\u001b[31m\u001b[1m[ ERROR ]\u001b[0m \u001b[31mInaccurate G! step= 3.8147e-06 Deriv= -0.000222989 Finite Diff= 9.06622e-05\u001b[0m\n",
      "-1.25767883405\n",
      "0.593684054722\n",
      "-1.93580642442\n",
      "-3.51700828609\n",
      "\u001b[0mcore.optimization.LineMinimizer: \u001b[0m\u001b[31m\u001b[1m[ ERROR ]\u001b[0m \u001b[31mInaccurate G! step= 3.8147e-06 Deriv= -0.109894 Finite Diff= -0.00505857\u001b[0m\n",
      "-3.93034719956\n",
      "9.82017769351\n",
      "7.54814798813\n",
      "7.33747985033\n",
      "5.07107090435\n",
      "\u001b[0mcore.optimization.LineMinimizer: \u001b[0m\u001b[31m\u001b[1m[ ERROR ]\u001b[0m \u001b[31mInaccurate G! step= 1.90735e-06 Deriv= -6.14064e-05 Finite Diff= 3.95094e-05\u001b[0m\n",
      "0.455196498457\n",
      "\u001b[0mcore.optimization.LineMinimizer: \u001b[0m\u001b[31m\u001b[1m[ ERROR ]\u001b[0m \u001b[31mInaccurate G! step= 3.8147e-06 Deriv= -1.46474e-05 Finite Diff= 2.14454e-06\u001b[0m\n",
      "-1.81946376004\n",
      "5.78481486885\n",
      "\u001b[0mcore.optimization.LineMinimizer: \u001b[0m\u001b[31m\u001b[1m[ ERROR ]\u001b[0m \u001b[31mInaccurate G! step= 3.8147e-06 Deriv= -0.000140245 Finite Diff= 4.50462e-05\u001b[0m\n",
      "4.77693873677\n",
      "2.44183014737\n",
      "\u001b[0mcore.optimization.LineMinimizer: \u001b[0m\u001b[31m\u001b[1m[ ERROR ]\u001b[0m \u001b[31mInaccurate G! step= 3.8147e-06 Deriv= -4.36081e-05 Finite Diff= -4.25987e-06\u001b[0m\n",
      "2.26588065627\n",
      "-4.89978389951\n",
      "-7.03794186473\n",
      "2.57038217883\n",
      "-1.25778271811\n",
      "4.56946994099\n",
      "4.83768802276\n",
      "-2.56489944804\n",
      "\u001b[0mcore.optimization.LineMinimizer: \u001b[0m\u001b[31m\u001b[1m[ ERROR ]\u001b[0m \u001b[31mInaccurate G! step= 3.8147e-06 Deriv= -0.0033257 Finite Diff= 3.02596e-05\u001b[0m\n",
      "-8.62014112464\n",
      "9.81802653329\n",
      "7.54816612375\n",
      "6.2353029603\n",
      "\u001b[0mcore.optimization.LineMinimizer: \u001b[0m\u001b[31m\u001b[1m[ ERROR ]\u001b[0m \u001b[31mInaccurate G! step= 1.90735e-06 Deriv= -0.0011771 Finite Diff= 0.00023599\u001b[0m\n",
      "-0.415932811411\n",
      "\u001b[0mcore.optimization.LineMinimizer: \u001b[0m\u001b[31m\u001b[1m[ ERROR ]\u001b[0m \u001b[31mInaccurate G! step= 3.8147e-06 Deriv= -1.41878e-05 Finite Diff= 9.66259e-06\u001b[0m\n",
      "0.455206682352\n",
      "-1.81949309088\n",
      "5.44088807962\n",
      "6.46049488117\n",
      "3.40341506043\n",
      "\u001b[0mcore.optimization.LineMinimizer: \u001b[0m\u001b[31m\u001b[1m[ ERROR ]\u001b[0m \u001b[31mInaccurate G! step= 3.8147e-06 Deriv= -8.71334e-05 Finite Diff= 2.10793e-06\u001b[0m\n",
      "2.26157295775\n",
      "-7.12010941805\n",
      "\u001b[0mcore.optimization.LineMinimizer: \u001b[0m\u001b[31m\u001b[1m[ ERROR ]\u001b[0m \u001b[31mInaccurate G! step= 3.8147e-06 Deriv= -6.11847e-08 Finite Diff= 8.37888e-06\u001b[0m\n",
      "-5.77184981488\n",
      "5.11903400415\n",
      "\u001b[0mcore.optimization.LineMinimizer: \u001b[0m\u001b[31m\u001b[1m[ ERROR ]\u001b[0m \u001b[31mInaccurate G! step= 3.8147e-06 Deriv= -0.000438325 Finite Diff= 0.000479966\u001b[0m\n",
      "4.36676970494\n",
      "\u001b[0mcore.optimization.LineMinimizer: \u001b[0m\u001b[31m\u001b[1m[ ERROR ]\u001b[0m \u001b[31mInaccurate G! step= 3.8147e-06 Deriv= -5.35065e-05 Finite Diff= 9.92176e-06\u001b[0m\n",
      "0.595655986047\n",
      "-1.93773675328\n",
      "-3.51700523791\n",
      "-3.93509020911\n",
      "9.82240553277\n",
      "7.54814899425\n",
      "7.33740983165\n",
      "5.07148336366\n",
      "0.455594907876\n",
      "-1.81949595102\n",
      "5.78482313156\n",
      "\u001b[0mcore.optimization.LineMinimizer: \u001b[0m\u001b[31m\u001b[1m[ ERROR ]\u001b[0m \u001b[31mInaccurate G! step= 3.8147e-06 Deriv= -0.000117333 Finite Diff= 2.98629e-06\u001b[0m\n",
      "4.77667025095\n",
      "2.44184336282\n",
      "2.26152587115\n",
      "-4.89989303531\n",
      "\u001b[0mcore.optimization.LineMinimizer: \u001b[0m\u001b[31m\u001b[1m[ ERROR ]\u001b[0m \u001b[31mInaccurate G! step= 3.8147e-06 Deriv= -0.00012002 Finite Diff= 7.89296e-07\u001b[0m\n",
      "-6.97806824554\n",
      "2.57038219479\n",
      "-1.25778618852\n",
      "4.56946414965\n",
      "0.173511129929\n",
      "\u001b[0mcore.optimization.LineMinimizer: \u001b[0m\u001b[31m\u001b[1m[ ERROR ]\u001b[0m \u001b[31mInaccurate G! step= 3.8147e-06 Deriv= -9.0041e-05 Finite Diff= 0.000126576\u001b[0m\n",
      "-2.56659908898\n",
      "\u001b[0mcore.optimization.LineMinimizer: \u001b[0m\u001b[31m\u001b[1m[ ERROR ]\u001b[0m \u001b[31mInaccurate G! step= 3.8147e-06 Deriv= -0.000940018 Finite Diff= 0.000114095\u001b[0m\n",
      "-10.542003766\n",
      "9.81774486697\n",
      "7.54817457116\n",
      "6.23532499877\n",
      "-2.82702874745\n",
      "\u001b[0mcore.optimization.LineMinimizer: \u001b[0m\u001b[31m\u001b[1m[ ERROR ]\u001b[0m \u001b[31mInaccurate G! step= 3.8147e-06 Deriv= -2.42856e-05 Finite Diff= 9.08988e-06\u001b[0m\n",
      "0.455293907264\n",
      "\u001b[0mcore.optimization.LineMinimizer: \u001b[0m\u001b[31m\u001b[1m[ ERROR ]\u001b[0m \u001b[31mInaccurate G! step= 1.90735e-06 Deriv= -1.71464e-05 Finite Diff= 4.9778e-06\u001b[0m\n",
      "-1.81859259134\n",
      "5.44089969159\n",
      "6.46048685306\n",
      "3.40341181887\n",
      "\u001b[0mcore.optimization.LineMinimizer: \u001b[0m\u001b[31m\u001b[1m[ ERROR ]\u001b[0m \u001b[31mInaccurate G! step= 3.8147e-06 Deriv= -0.000106457 Finite Diff= 0.000430525\u001b[0m\n",
      "-7.12011139681\n",
      "-5.7718484809\n",
      "5.11902896135\n",
      "\u001b[0mcore.optimization.LineMinimizer: \u001b[0m\u001b[31m\u001b[1m[ ERROR ]\u001b[0m \u001b[31mInaccurate G! step= 3.8147e-06 Deriv= -5.77142e-05 Finite Diff= 5.44067e-07\u001b[0m\n",
      "-1.25760820506\n",
      "0.593713095897\n",
      "\u001b[0mcore.optimization.LineMinimizer: \u001b[0m\u001b[31m\u001b[1m[ ERROR ]\u001b[0m \u001b[31mInaccurate G! step= 9.53674e-07 Deriv= -3.10562e-05 Finite Diff= 1.6497e-05\u001b[0m\n",
      "-1.93773697433\n",
      "-3.51698976175\n",
      "-3.93512013789\n",
      "9.81765371313\n",
      "7.54813033102\n",
      "7.33732944292\n",
      "5.07105946435\n",
      "0.455614492613\n",
      "-1.81949931463\n",
      "2\n",
      "{0: <pyrosetta.rosetta.core.id.TorsionID object at 0x7f74ecc8c5e0>, 1: <pyrosetta.rosetta.core.id.TorsionID object at 0x7f74ecc8c768>, 2: <pyrosetta.rosetta.core.id.TorsionID object at 0x7f74ecc8c810>, 3: <pyrosetta.rosetta.core.id.TorsionID object at 0x7f74ecc8c928>, 4: <pyrosetta.rosetta.core.id.TorsionID object at 0x7f74ecc8c8b8>, 5: <pyrosetta.rosetta.core.id.TorsionID object at 0x7f74ecc8c6f8>, 6: <pyrosetta.rosetta.core.id.TorsionID object at 0x7f74ecc8cab0>}\n",
      "7.20105161574\n",
      "9.62642952503\n",
      "5.77885847903\n",
      "\u001b[0mcore.optimization.LineMinimizer: \u001b[0m\u001b[31m\u001b[1m[ ERROR ]\u001b[0m \u001b[31mInaccurate G! step= 3.8147e-06 Deriv= -0.00089651 Finite Diff= -5.40521e-05\u001b[0m\n",
      "3.96929047722\n",
      "-2.95812154804\n",
      "-2.48512355152\n",
      "11.6916135737\n",
      "8.42273060644\n",
      "9.29126256223\n",
      "5.84911755129\n",
      "3.42079514114\n",
      "0.141960040189\n",
      "6.08635418206\n",
      "7.91055272786\n",
      "3.86894811321\n",
      "5.81399736011\n",
      "-2.16941239213\n",
      "\u001b[0mcore.optimization.LineMinimizer: \u001b[0m\u001b[31m\u001b[1m[ ERROR ]\u001b[0m \u001b[31mInaccurate G! step= 2.38419e-07 Deriv= -1.15741e-05 Finite Diff= 5.37164e-06\u001b[0m\n",
      "-0.323712941838\n",
      "15.3430712564\n",
      "14.4295231984\n",
      "13.9504748706\n",
      "12.9384289437\n",
      "7.21056479549\n",
      "6.20121523207\n",
      "15.5967903426\n",
      "12.4734952712\n",
      "14.1043992359\n",
      "10.9829350994\n",
      "7.3690718558\n",
      "4.2458284347\n",
      "13.6963451996\n",
      "12.3188491451\n",
      "11.7286338238\n",
      "6.12191182046\n",
      "5.60758898457\n",
      "4.12592842443\n",
      "\u001b[0mcore.optimization.LineMinimizer: \u001b[0m\u001b[31m\u001b[1m[ ERROR ]\u001b[0m \u001b[31mInaccurate G! step= 3.8147e-06 Deriv= -0.00285617 Finite Diff= -0.00023626\u001b[0m\n",
      "9.62557789224\n",
      "5.77886976084\n",
      "\u001b[0mcore.optimization.LineMinimizer: \u001b[0m\u001b[31m\u001b[1m[ ERROR ]\u001b[0m \u001b[31mInaccurate G! step= 3.8147e-06 Deriv= -0.000737136 Finite Diff= -1.69419e-05\u001b[0m\n",
      "3.97414086103\n",
      "-2.95812643713\n",
      "-2.48514313247\n",
      "11.6916148171\n",
      "8.4227596134\n",
      "9.3069221137\n",
      "5.84693517498\n",
      "3.42166422379\n"
     ]
    },
    {
     "name": "stdout",
     "output_type": "stream",
     "text": [
      "0.141947503617\n",
      "6.08617178937\n",
      "7.91056206903\n",
      "3.86894663835\n",
      "5.8175465748\n",
      "-2.16941543242\n",
      "-0.323708500317\n",
      "15.342567325\n",
      "14.4289597861\n",
      "13.9502459603\n",
      "12.9384238796\n",
      "7.21057860191\n",
      "6.20156855888\n",
      "15.5969597006\n",
      "12.4734797358\n",
      "14.1054300797\n",
      "10.9828146192\n",
      "7.37064813216\n",
      "4.24580916723\n",
      "13.6962530362\n",
      "12.3188536051\n",
      "11.7286173906\n",
      "\u001b[0mcore.optimization.LineMinimizer: \u001b[0m\u001b[31m\u001b[1m[ ERROR ]\u001b[0m \u001b[31mInaccurate G! step= 3.8147e-06 Deriv= -3.85527e-07 Finite Diff= 2.61213e-06\u001b[0m\n",
      "6.12187425398\n",
      "5.60746326924\n",
      "4.12593734363\n",
      "\u001b[0mcore.optimization.LineMinimizer: \u001b[0m\u001b[31m\u001b[1m[ ERROR ]\u001b[0m \u001b[31mInaccurate G! step= 3.8147e-06 Deriv= -0.000999051 Finite Diff= 0.00189972\u001b[0m\n",
      "6.86700817227\n",
      "9.64852753172\n",
      "5.77924996668\n",
      "\u001b[0mcore.optimization.LineMinimizer: \u001b[0m\u001b[31m\u001b[1m[ ERROR ]\u001b[0m \u001b[31mInaccurate G! step= 3.8147e-06 Deriv= -2.35452e-05 Finite Diff= 3.34672e-05\u001b[0m\n",
      "3.90640231749\n",
      "-2.95812563122\n",
      "-2.48513544432\n",
      "11.6916209411\n",
      "8.4230398951\n",
      "8.07716389547\n",
      "4.8619061741\n",
      "2.66056187168\n",
      "-6.67104653377\n",
      "6.08616094048\n",
      "7.91055490168\n",
      "3.86895895846\n",
      "5.81401636822\n",
      "-2.16941304802\n",
      "-0.323708231701\n",
      "15.3425660821\n",
      "14.4296786639\n",
      "13.9486157956\n",
      "12.9381556348\n",
      "7.21057465134\n",
      "6.20110294\n",
      "15.5967171411\n",
      "12.4735798575\n",
      "14.1054681197\n",
      "10.9827533728\n",
      "7.36905239595\n",
      "4.24582383003\n",
      "13.696252088\n",
      "12.318851982\n",
      "11.7286410119\n",
      "\u001b[0mcore.optimization.LineMinimizer: \u001b[0m\u001b[31m\u001b[1m[ ERROR ]\u001b[0m \u001b[31mInaccurate G! step= 3.8147e-06 Deriv= -5.10209e-05 Finite Diff= 1.70341e-05\u001b[0m\n",
      "6.12197256606\n",
      "5.60747168127\n",
      "\u001b[0mcore.optimization.LineMinimizer: \u001b[0m\u001b[31m\u001b[1m[ ERROR ]\u001b[0m \u001b[31mInaccurate G! step= 3.8147e-06 Deriv= -4.84313e-08 Finite Diff= 9.70904e-08\u001b[0m\n",
      "4.12593978883\n",
      "2\n",
      "{0: <pyrosetta.rosetta.core.id.TorsionID object at 0x7f74ecc8c308>, 1: <pyrosetta.rosetta.core.id.TorsionID object at 0x7f74ecc8c3e8>, 2: <pyrosetta.rosetta.core.id.TorsionID object at 0x7f74ecc8ca78>, 3: <pyrosetta.rosetta.core.id.TorsionID object at 0x7f74ecc8c5a8>, 4: <pyrosetta.rosetta.core.id.TorsionID object at 0x7f74ecc8c0a0>, 5: <pyrosetta.rosetta.core.id.TorsionID object at 0x7f74ecc8c6c0>, 6: <pyrosetta.rosetta.core.id.TorsionID object at 0x7f74ecc8ca08>}\n",
      "\u001b[0mcore.optimization.LineMinimizer: \u001b[0m\u001b[31m\u001b[1m[ ERROR ]\u001b[0m \u001b[31mInaccurate G! step= 1.90735e-06 Deriv= -1.2253e-05 Finite Diff= 2.87499e-06\u001b[0m\n",
      "12.6472637682\n",
      "10.3733455446\n",
      "\u001b[0mcore.optimization.LineMinimizer: \u001b[0m\u001b[31m\u001b[1m[ ERROR ]\u001b[0m \u001b[31mInaccurate G! step= 3.8147e-06 Deriv= -0.00259782 Finite Diff= 0.000471429\u001b[0m\n",
      "3.79654600531\n",
      "\u001b[0mcore.optimization.LineMinimizer: \u001b[0m\u001b[31m\u001b[1m[ ERROR ]\u001b[0m \u001b[31mInaccurate G! step= 1.90735e-06 Deriv= -0.0115363 Finite Diff= -0.00102573\u001b[0m\n",
      "9.7828385538\n",
      "\u001b[0mcore.optimization.LineMinimizer: \u001b[0m\u001b[31m\u001b[1m[ ERROR ]\u001b[0m \u001b[31mInaccurate G! step= 3.8147e-06 Deriv= -0.000160421 Finite Diff= 1.9885e-05\u001b[0m\n",
      "2.47789466419\n",
      "\u001b[0mcore.optimization.LineMinimizer: \u001b[0m\u001b[31m\u001b[1m[ ERROR ]\u001b[0m \u001b[31mInaccurate G! step= 3.8147e-06 Deriv= -1.9125e-05 Finite Diff= 8.25728e-06\u001b[0m\n",
      "1.84948949349\n",
      "\u001b[0mcore.optimization.LineMinimizer: \u001b[0m\u001b[31m\u001b[1m[ ERROR ]\u001b[0m \u001b[31mInaccurate G! step= 3.8147e-06 Deriv= -1.25507e-05 Finite Diff= 2.33937e-05\u001b[0m\n",
      "3.61364347542\n",
      "\u001b[0mcore.optimization.LineMinimizer: \u001b[0m\u001b[31m\u001b[1m[ ERROR ]\u001b[0m \u001b[31mInaccurate G! step= 3.8147e-06 Deriv= -0.000387359 Finite Diff= -2.20514e-06\u001b[0m\n",
      "3.02822617957\n",
      "8.84693002375\n",
      "10.1584852396\n",
      "\u001b[0mcore.optimization.LineMinimizer: \u001b[0m\u001b[31m\u001b[1m[ ERROR ]\u001b[0m \u001b[31mInaccurate G! step= 3.8147e-06 Deriv= -0.00103177 Finite Diff= 3.86455e-05\u001b[0m\n",
      "\u001b[0mcore.optimization.LineMinimizer: \u001b[0m\u001b[31m\u001b[1m[ ERROR ]\u001b[0m \u001b[31mInaccurate G! step= 3.8147e-06 Deriv= -0.010706 Finite Diff= 0.000457094\u001b[0m\n",
      "-9.77246697538\n",
      "4.3669629421\n",
      "\u001b[0mcore.optimization.LineMinimizer: \u001b[0m\u001b[31m\u001b[1m[ ERROR ]\u001b[0m \u001b[31mInaccurate G! step= 3.8147e-06 Deriv= -2.07474e-07 Finite Diff= 5.82135e-07\u001b[0m\n",
      "1.90281837573\n",
      "5.23850761674\n",
      "\u001b[0mcore.optimization.LineMinimizer: \u001b[0m\u001b[31m\u001b[1m[ ERROR ]\u001b[0m \u001b[31mInaccurate G! step= 3.8147e-06 Deriv= -0.000248541 Finite Diff= 1.19729e-05\u001b[0m\n",
      "1.1178869083\n",
      "\u001b[0mcore.optimization.LineMinimizer: \u001b[0m\u001b[31m\u001b[1m[ ERROR ]\u001b[0m \u001b[31mInaccurate G! step= 3.8147e-06 Deriv= -0.000358191 Finite Diff= 0.000404334\u001b[0m\n",
      "-2.75275191273\n",
      "\u001b[0mcore.optimization.LineMinimizer: \u001b[0m\u001b[31m\u001b[1m[ ERROR ]\u001b[0m \u001b[31mInaccurate G! step= 3.8147e-06 Deriv= -0.000243789 Finite Diff= -8.22707e-06\u001b[0m\n",
      "-6.03824921385\n",
      "17.3373925301\n",
      "15.0650071304\n",
      "15.8511244891\n",
      "13.5786463394\n",
      "9.11029863011\n",
      "6.8374424409\n",
      "14.4424477138\n",
      "12.3629556291\n",
      "12.9249846751\n",
      "10.8821225348\n",
      "6.21882883555\n",
      "4.13865194618\n",
      "7.43381297158\n",
      "7.65598338953\n",
      "9.63339505183\n",
      "2.67444404611\n",
      "\u001b[0mcore.optimization.LineMinimizer: \u001b[0m\u001b[31m\u001b[1m[ ERROR ]\u001b[0m \u001b[31mInaccurate G! step= 1.90735e-06 Deriv= -0.000114078 Finite Diff= 1.32909e-05\u001b[0m\n",
      "\u001b[0mcore.optimization.LineMinimizer: \u001b[0m\u001b[31m\u001b[1m[ ERROR ]\u001b[0m \u001b[31mInaccurate G! step= 1.19209e-07 Deriv= -1.20225e-05 Finite Diff= 1.40369e-05\u001b[0m\n",
      "12.6458588615\n",
      "10.3737540168\n",
      "\u001b[0mcore.optimization.LineMinimizer: \u001b[0m\u001b[31m\u001b[1m[ ERROR ]\u001b[0m \u001b[31mInaccurate G! step= 1.90735e-06 Deriv= -0.000554747 Finite Diff= 0.000295559\u001b[0m\n",
      "3.79458283328\n",
      "9.75007577664\n",
      "\u001b[0mcore.optimization.LineMinimizer: \u001b[0m\u001b[31m\u001b[1m[ ERROR ]\u001b[0m \u001b[31mInaccurate G! step= 3.8147e-06 Deriv= -0.00631303 Finite Diff= 0.00896262\u001b[0m\n",
      "\u001b[0mcore.optimization.LineMinimizer: \u001b[0m\u001b[31m\u001b[1m[ ERROR ]\u001b[0m \u001b[31mInaccurate G! step= 1.90735e-06 Deriv= -0.00119929 Finite Diff= 7.12051e-05\u001b[0m\n",
      "0.666726920806\n",
      "3.61363954145\n",
      "\u001b[0mcore.optimization.LineMinimizer: \u001b[0m\u001b[31m\u001b[1m[ ERROR ]\u001b[0m \u001b[31mInaccurate G! step= 3.8147e-06 Deriv= -3.86454e-05 Finite Diff= 0.00010196\u001b[0m\n",
      "3.01358999904\n",
      "8.84708567587\n",
      "\u001b[0mcore.optimization.LineMinimizer: \u001b[0m\u001b[31m\u001b[1m[ ERROR ]\u001b[0m \u001b[31mInaccurate G! step= 9.53674e-07 Deriv= -1.25077e-05 Finite Diff= 2.32225e-06\u001b[0m\n",
      "0.620354806885\n",
      "\u001b[0mcore.optimization.LineMinimizer: \u001b[0m\u001b[31m\u001b[1m[ ERROR ]\u001b[0m \u001b[31mInaccurate G! step= 3.8147e-06 Deriv= -3.66435e-05 Finite Diff= 0.000182048\u001b[0m\n",
      "-7.62522371665\n",
      "\u001b[0mcore.optimization.LineMinimizer: \u001b[0m\u001b[31m\u001b[1m[ ERROR ]\u001b[0m \u001b[31mInaccurate G! step= 3.8147e-06 Deriv= -0.000385062 Finite Diff= 5.55648e-05\u001b[0m\n",
      "-6.57706914151\n",
      "4.36693021342\n",
      "1.90279426138\n",
      "5.23850584776\n",
      "0.536241566286\n",
      "\u001b[0mcore.optimization.LineMinimizer: \u001b[0m\u001b[31m\u001b[1m[ ERROR ]\u001b[0m \u001b[31mInaccurate G! step= 1.90735e-06 Deriv= -1.84367e-05 Finite Diff= 9.09355e-05\u001b[0m\n",
      "-2.76112519824\n",
      "-6.58491493838\n",
      "16.2839300892\n",
      "10.3735325623\n",
      "15.852392192\n",
      "13.5785956964\n",
      "9.10991854009\n",
      "6.83740147575\n",
      "14.442447442\n",
      "12.3628522051\n",
      "12.92498168\n",
      "10.8821307678\n",
      "6.21876893617\n",
      "4.13865758763\n",
      "7.4338091749\n",
      "\u001b[0mcore.optimization.LineMinimizer: \u001b[0m\u001b[31m\u001b[1m[ ERROR ]\u001b[0m \u001b[31mInaccurate G! step= 3.8147e-06 Deriv= -3.6968e-05 Finite Diff= 9.16864e-06\u001b[0m\n",
      "7.33309829043\n",
      "9.63339391464\n",
      "\u001b[0mcore.optimization.LineMinimizer: \u001b[0m\u001b[31m\u001b[1m[ ERROR ]\u001b[0m \u001b[31mInaccurate G! step= 4.76837e-07 Deriv= -4.49173e-05 Finite Diff= 6.53639e-05\u001b[0m\n",
      "8.41884752742\n",
      "2.67444202641\n",
      "\u001b[0mcore.optimization.LineMinimizer: \u001b[0m\u001b[31m\u001b[1m[ ERROR ]\u001b[0m \u001b[31mInaccurate G! step= 3.8147e-06 Deriv= -0.000320621 Finite Diff= -6.82625e-06\u001b[0m\n",
      "2.04797709566\n",
      "12.6458798616\n",
      "10.3733831079\n",
      "\u001b[0mcore.optimization.LineMinimizer: \u001b[0m\u001b[31m\u001b[1m[ ERROR ]\u001b[0m \u001b[31mInaccurate G! step= 3.8147e-06 Deriv= -0.000232671 Finite Diff= 9.61381e-06\u001b[0m\n",
      "3.79674999934\n",
      "9.75008024366\n",
      "\u001b[0mcore.optimization.LineMinimizer: \u001b[0m\u001b[31m\u001b[1m[ ERROR ]\u001b[0m \u001b[31mInaccurate G! step= 3.8147e-06 Deriv= -0.000173666 Finite Diff= 7.18508e-05\u001b[0m\n",
      "2.47790678475\n",
      "\u001b[0mcore.optimization.LineMinimizer: \u001b[0m\u001b[31m\u001b[1m[ ERROR ]\u001b[0m \u001b[31mInaccurate G! step= 3.8147e-06 Deriv= -3.85383e-05 Finite Diff= 3.05026e-05\u001b[0m\n",
      "1.83617031695\n",
      "3.61362975117\n",
      "\u001b[0mcore.optimization.LineMinimizer: \u001b[0m\u001b[31m\u001b[1m[ ERROR ]\u001b[0m \u001b[31mInaccurate G! step= 3.8147e-06 Deriv= -3.96366e-05 Finite Diff= 5.08951e-05\u001b[0m\n",
      "3.01370239385\n",
      "8.84625929073\n",
      "2.3728482498\n",
      "\u001b[0mcore.optimization.LineMinimizer: \u001b[0m\u001b[31m\u001b[1m[ ERROR ]\u001b[0m \u001b[31mInaccurate G! step= 1.90735e-06 Deriv= -0.000541772 Finite Diff= -4.90169e-05\u001b[0m\n",
      "-7.77940975313\n",
      "\u001b[0mcore.optimization.LineMinimizer: \u001b[0m\u001b[31m\u001b[1m[ ERROR ]\u001b[0m \u001b[31mInaccurate G! step= 3.8147e-06 Deriv= -5.33002e-05 Finite Diff= 9.78943e-05\u001b[0m\n",
      "4.3669359364\n",
      "1.90279798938\n",
      "5.23850831967\n",
      "\u001b[0mcore.optimization.LineMinimizer: \u001b[0m\u001b[31m\u001b[1m[ ERROR ]\u001b[0m \u001b[31mInaccurate G! step= 3.8147e-06 Deriv= -4.14094e-05 Finite Diff= 1.91017e-05\u001b[0m\n",
      "0.53629468696\n",
      "\u001b[0mcore.optimization.LineMinimizer: \u001b[0m\u001b[31m\u001b[1m[ ERROR ]\u001b[0m \u001b[31mInaccurate G! step= 4.76837e-07 Deriv= -0.000946775 Finite Diff= 0.000188559\u001b[0m\n"
     ]
    },
    {
     "name": "stdout",
     "output_type": "stream",
     "text": [
      "-2.75218409299\n",
      "\u001b[0mcore.optimization.LineMinimizer: \u001b[0m\u001b[31m\u001b[1m[ ERROR ]\u001b[0m \u001b[31mInaccurate G! step= 3.8147e-06 Deriv= -4.3967e-05 Finite Diff= 7.1638e-05\u001b[0m\n",
      "-6.20246542262\n",
      "17.3374264431\n",
      "15.0649146264\n",
      "15.8511016265\n",
      "13.5786520934\n",
      "9.10991446887\n",
      "6.83740405449\n",
      "14.4424500431\n",
      "12.3628576242\n",
      "12.9249796692\n",
      "10.8822746715\n",
      "6.2188350571\n",
      "4.13864421788\n",
      "7.43381432019\n",
      "\u001b[0mcore.optimization.LineMinimizer: \u001b[0m\u001b[31m\u001b[1m[ ERROR ]\u001b[0m \u001b[31mInaccurate G! step= 1.90735e-06 Deriv= -0.000377707 Finite Diff= -3.41628e-05\u001b[0m\n",
      "7.65773201541\n",
      "9.63341478041\n",
      "\u001b[0mcore.optimization.LineMinimizer: \u001b[0m\u001b[31m\u001b[1m[ ERROR ]\u001b[0m \u001b[31mInaccurate G! step= 3.8147e-06 Deriv= -0.000275483 Finite Diff= -2.39625e-05\u001b[0m\n",
      "8.41925107404\n",
      "2.67443754295\n",
      "\u001b[0mcore.optimization.LineMinimizer: \u001b[0m\u001b[31m\u001b[1m[ ERROR ]\u001b[0m \u001b[31mInaccurate G! step= 1.90735e-06 Deriv= -3.37699e-05 Finite Diff= 3.91218e-05\u001b[0m\n",
      "2.01174802441\n",
      "2\n",
      "{0: <pyrosetta.rosetta.core.id.TorsionID object at 0x7f74ecc8cab0>, 1: <pyrosetta.rosetta.core.id.TorsionID object at 0x7f74ecc8c768>, 2: <pyrosetta.rosetta.core.id.TorsionID object at 0x7f74ecc8c6f8>, 3: <pyrosetta.rosetta.core.id.TorsionID object at 0x7f74ecc8c5e0>, 4: <pyrosetta.rosetta.core.id.TorsionID object at 0x7f74ecc8c810>, 5: <pyrosetta.rosetta.core.id.TorsionID object at 0x7f74ecc8c8b8>, 6: <pyrosetta.rosetta.core.id.TorsionID object at 0x7f74ecc8c650>}\n",
      "0.340053346892\n",
      "1.44509378552\n",
      "\u001b[0mcore.optimization.LineMinimizer: \u001b[0m\u001b[31m\u001b[1m[ ERROR ]\u001b[0m \u001b[31mInaccurate G! step= 3.8147e-06 Deriv= -0.000530388 Finite Diff= 0.000121675\u001b[0m\n",
      "-4.2991594189\n",
      "-0.777731784219\n",
      "\u001b[0mcore.optimization.LineMinimizer: \u001b[0m\u001b[31m\u001b[1m[ ERROR ]\u001b[0m \u001b[31mInaccurate G! step= 3.8147e-06 Deriv= -0.000100776 Finite Diff= 1.70767e-05\u001b[0m\n",
      "-1.26092224079\n",
      "\u001b[0mcore.optimization.LineMinimizer: \u001b[0m\u001b[31m\u001b[1m[ ERROR ]\u001b[0m \u001b[31mInaccurate G! step= 3.8147e-06 Deriv= -0.000161549 Finite Diff= 0.000433666\u001b[0m\n",
      "-8.0431109619\n",
      "0.842561333274\n",
      "\u001b[0mcore.optimization.LineMinimizer: \u001b[0m\u001b[31m\u001b[1m[ ERROR ]\u001b[0m \u001b[31mInaccurate G! step= 3.8147e-06 Deriv= -0.00165282 Finite Diff= 0.000208941\u001b[0m\n",
      "-9.72814071994\n",
      "4.37085254396\n",
      "2.12241737686\n",
      "2.1027596611\n",
      "-0.145611034646\n",
      "1.43585949942\n",
      "2.17935228349\n",
      "-0.369372290763\n",
      "-2.62348962252\n",
      "-1.55441977669\n",
      "-8.04322555606\n",
      "-0.813902902503\n",
      "-9.755064535\n",
      "4.70132840655\n",
      "2.44363876439\n",
      "0.196101692345\n",
      "-2.06198235369\n",
      "0.340050415158\n",
      "1.44509252349\n",
      "\u001b[0mcore.optimization.LineMinimizer: \u001b[0m\u001b[31m\u001b[1m[ ERROR ]\u001b[0m \u001b[31mInaccurate G! step= 3.8147e-06 Deriv= -0.000113763 Finite Diff= 5.02013e-05\u001b[0m\n",
      "-4.41642233646\n",
      "-0.777726161411\n",
      "-1.26080406284\n",
      "\u001b[0mcore.optimization.LineMinimizer: \u001b[0m\u001b[31m\u001b[1m[ ERROR ]\u001b[0m \u001b[31mInaccurate G! step= 9.53674e-07 Deriv= -0.000165686 Finite Diff= 9.58685e-05\u001b[0m\n",
      "-8.04107548198\n",
      "0.84261220244\n",
      "\u001b[0mcore.optimization.LineMinimizer: \u001b[0m\u001b[31m\u001b[1m[ ERROR ]\u001b[0m \u001b[31mInaccurate G! step= 1.90735e-06 Deriv= -26691 Finite Diff= 2.97059e+06\u001b[0m\n",
      "4.37081756453\n",
      "2.12242252192\n",
      "2.10278107648\n",
      "-0.145612597914\n",
      "1.43585085796\n",
      "2.1793962488\n",
      "-0.369695911177\n",
      "-2.6235224435\n",
      "-1.55442422066\n",
      "-8.04322839038\n",
      "-0.813900573269\n",
      "-9.75512739543\n",
      "4.7012637246\n",
      "2.44362783918\n",
      "0.196106598184\n",
      "-2.06195816583\n",
      "\u001b[0mcore.optimization.LineMinimizer: \u001b[0m\u001b[31m\u001b[1m[ ERROR ]\u001b[0m \u001b[31mInaccurate G! step= 3.8147e-06 Deriv= -1.04201e-05 Finite Diff= 3.52997e-06\u001b[0m\n",
      "0.340101687409\n",
      "1.44509889024\n",
      "\u001b[0mcore.optimization.LineMinimizer: \u001b[0m\u001b[31m\u001b[1m[ ERROR ]\u001b[0m \u001b[31mInaccurate G! step= 3.8147e-06 Deriv= -0.00131275 Finite Diff= 0.000141733\u001b[0m\n",
      "-4.41318805288\n",
      "-0.777726367054\n",
      "\u001b[0mcore.optimization.LineMinimizer: \u001b[0m\u001b[31m\u001b[1m[ ERROR ]\u001b[0m \u001b[31mInaccurate G! step= 3.8147e-06 Deriv= -6.83212e-05 Finite Diff= 5.09593e-05\u001b[0m\n",
      "-1.26077210719\n",
      "\u001b[0mcore.optimization.LineMinimizer: \u001b[0m\u001b[31m\u001b[1m[ ERROR ]\u001b[0m \u001b[31mInaccurate G! step= 3.8147e-06 Deriv= -1.24497e-05 Finite Diff= 4.28548e-05\u001b[0m\n",
      "-8.04322143517\n",
      "0.842598939126\n",
      "\u001b[0mcore.optimization.LineMinimizer: \u001b[0m\u001b[31m\u001b[1m[ ERROR ]\u001b[0m \u001b[31mInaccurate G! step= 3.8147e-06 Deriv= -1.33155e+09 Finite Diff= 7.41421e+06\u001b[0m\n",
      "4.37077845271\n",
      "2.12240280757\n",
      "2.10276298231\n",
      "-0.145612061227\n",
      "1.43585859294\n",
      "2.17939917295\n",
      "-0.369668941028\n",
      "-2.62351786359\n",
      "-1.26097535136\n",
      "-8.04322869338\n",
      "-0.813901768673\n",
      "-9.75512222562\n",
      "4.70124674045\n",
      "2.44357068105\n",
      "0.196149666081\n",
      "-2.06197410578\n",
      "2\n",
      "{0: <pyrosetta.rosetta.core.id.TorsionID object at 0x7f74ecc8c340>, 1: <pyrosetta.rosetta.core.id.TorsionID object at 0x7f74ecc8c730>, 2: <pyrosetta.rosetta.core.id.TorsionID object at 0x7f74ecc8c928>, 3: <pyrosetta.rosetta.core.id.TorsionID object at 0x7f74ecc8c308>, 4: <pyrosetta.rosetta.core.id.TorsionID object at 0x7f74ecc8c378>, 5: <pyrosetta.rosetta.core.id.TorsionID object at 0x7f74ecc8c618>, 6: <pyrosetta.rosetta.core.id.TorsionID object at 0x7f74ecc8c570>}\n",
      "\u001b[0mcore.optimization.LineMinimizer: \u001b[0m\u001b[31m\u001b[1m[ ERROR ]\u001b[0m \u001b[31mInaccurate G! step= 3.8147e-06 Deriv= -0.0002703 Finite Diff= 3.06225e-05\u001b[0m\n",
      "2.73875729642\n",
      "4.54595120552\n",
      "2.98051916339\n",
      "2.27871171442\n",
      "5.58531413903\n",
      "2.42886273765\n",
      "3.31789496607\n",
      "\u001b[0mcore.optimization.LineMinimizer: \u001b[0m\u001b[31m\u001b[1m[ ERROR ]\u001b[0m \u001b[31mInaccurate G! step= 3.8147e-06 Deriv= -0.00171759 Finite Diff= -9.64059e-06\u001b[0m\n",
      "0.161584659836\n",
      "0.460517186412\n",
      "1.79226107668\n",
      "-6.21395367893\n",
      "-4.04127550424\n",
      "10.6600480428\n",
      "9.40712361297\n",
      "8.43076909468\n",
      "7.14295835722\n",
      "10.251102396\n",
      "7.39978121246\n",
      "4.57631865009\n",
      "5.13548234943\n",
      "9.02903442465\n",
      "8.04791715385\n",
      "6.69388192303\n",
      "5.78286511149\n",
      "\u001b[0mcore.optimization.LineMinimizer: \u001b[0m\u001b[31m\u001b[1m[ ERROR ]\u001b[0m \u001b[31mInaccurate G! step= 9.53674e-07 Deriv= -0.000306895 Finite Diff= 0.0012606\u001b[0m\n",
      "\u001b[0mcore.optimization.LineMinimizer: \u001b[0m\u001b[31m\u001b[1m[ ERROR ]\u001b[0m \u001b[31mInaccurate G! step= 2.38419e-07 Deriv= -0.000605501 Finite Diff= -3.32184e-05\u001b[0m\n",
      "4.44754800648\n",
      "\u001b[0mcore.optimization.LineMinimizer: \u001b[0m\u001b[31m\u001b[1m[ ERROR ]\u001b[0m \u001b[31mInaccurate G! step= 3.8147e-06 Deriv= -0.00113729 Finite Diff= 0.000201738\u001b[0m\n",
      "-2.77807281585\n",
      "\u001b[0mcore.optimization.LineMinimizer: \u001b[0m\u001b[31m\u001b[1m[ ERROR ]\u001b[0m \u001b[31mInaccurate G! step= 3.8147e-06 Deriv= -0.000118945 Finite Diff= 0.000498352\u001b[0m\n",
      "-2.18113920648\n",
      "5.58531238986\n",
      "\u001b[0mcore.optimization.LineMinimizer: \u001b[0m\u001b[31m\u001b[1m[ ERROR ]\u001b[0m \u001b[31mInaccurate G! step= 3.8147e-06 Deriv= -0.00162599 Finite Diff= -0.000109439\u001b[0m\n",
      "2.4291692975\n",
      "3.31788295242\n",
      "\u001b[0mcore.optimization.LineMinimizer: \u001b[0m\u001b[31m\u001b[1m[ ERROR ]\u001b[0m \u001b[31mInaccurate G! step= 3.8147e-06 Deriv= -0.000118964 Finite Diff= 8.90387e-06\u001b[0m\n",
      "0.161565410492\n",
      "0.460487731346\n",
      "1.79224802722\n",
      "-6.2139397399\n",
      "-4.04127374526\n",
      "10.6600731722\n",
      "9.40715878561\n",
      "8.43078358148\n",
      "7.14296624163\n",
      "10.2511030362\n",
      "7.40056736769\n",
      "4.57631912994\n",
      "5.13546642197\n",
      "9.02861883599\n",
      "8.04695628598\n",
      "6.69388470123\n",
      "5.7828559202\n",
      "\u001b[0mcore.optimization.LineMinimizer: \u001b[0m\u001b[31m\u001b[1m[ ERROR ]\u001b[0m \u001b[31mInaccurate G! step= 9.53674e-07 Deriv= -0.00274146 Finite Diff= -0.000207334\u001b[0m\n",
      "4.54594580223\n",
      "2.98047498107\n",
      "2.2782469994\n",
      "5.58531471939\n",
      "2.42884960192\n",
      "3.31789081072\n",
      "\u001b[0mcore.optimization.LineMinimizer: \u001b[0m\u001b[31m\u001b[1m[ ERROR ]\u001b[0m \u001b[31mInaccurate G! step= 3.8147e-06 Deriv= -0.001945 Finite Diff= -5.82001e-05\u001b[0m\n",
      "0.161575199666\n",
      "0.460485506247\n",
      "1.79223411266\n",
      "-6.21395111822\n",
      "-4.04126985341\n",
      "10.6600976604\n",
      "9.4071190127\n",
      "8.43077769708\n",
      "7.14296297792\n",
      "10.2510988697\n",
      "7.39990580411\n",
      "4.57631987152\n",
      "5.13549635667\n",
      "9.02785219571\n",
      "8.04703813911\n",
      "6.69387665632\n",
      "5.7828602995\n",
      "2\n",
      "{0: <pyrosetta.rosetta.core.id.TorsionID object at 0x7f74ecc8cab0>, 1: <pyrosetta.rosetta.core.id.TorsionID object at 0x7f74ecc8c0a0>, 2: <pyrosetta.rosetta.core.id.TorsionID object at 0x7f74ecc8c3e8>, 3: <pyrosetta.rosetta.core.id.TorsionID object at 0x7f74ecc8c6c0>, 4: <pyrosetta.rosetta.core.id.TorsionID object at 0x7f74ecc8cae8>, 5: <pyrosetta.rosetta.core.id.TorsionID object at 0x7f74ecc8c458>, 6: <pyrosetta.rosetta.core.id.TorsionID object at 0x7f74ecc8ced8>}\n",
      "7.0265290867\n",
      "4.75416938465\n",
      "4.75847226033\n",
      "2.48616805924\n",
      "1.32904216096\n",
      "0.102321490644\n",
      "-0.922290697198\n",
      "\u001b[0mcore.optimization.LineMinimizer: \u001b[0m\u001b[31m\u001b[1m[ ERROR ]\u001b[0m \u001b[31mInaccurate G! step= 3.8147e-06 Deriv= -1.48927e-05 Finite Diff= 4.47978e-06\u001b[0m\n",
      "-2.03456904826\n",
      "-2.7556863456\n",
      "\u001b[0mcore.optimization.LineMinimizer: \u001b[0m\u001b[31m\u001b[1m[ ERROR ]\u001b[0m \u001b[31mInaccurate G! step= 1.90735e-06 Deriv= -0.000446794 Finite Diff= 3.29786e-05\u001b[0m\n",
      "-5.7187060774\n",
      "\u001b[0mcore.optimization.LineMinimizer: \u001b[0m\u001b[31m\u001b[1m[ ERROR ]\u001b[0m \u001b[31mInaccurate G! step= 3.8147e-06 Deriv= -0.00120223 Finite Diff= 0.00406879\u001b[0m\n",
      "-1.81538543992\n",
      "\u001b[0mcore.optimization.LineMinimizer: \u001b[0m\u001b[31m\u001b[1m[ ERROR ]\u001b[0m \u001b[31mInaccurate G! step= 1.90735e-06 Deriv= -0.0029946 Finite Diff= 0.000193291\u001b[0m\n"
     ]
    },
    {
     "name": "stdout",
     "output_type": "stream",
     "text": [
      "-8.17775536189\n",
      "11.3027236947\n",
      "9.02892122983\n",
      "8.80861271706\n",
      "6.53240755869\n",
      "10.0035547058\n",
      "6.33913471918\n",
      "7.21140199021\n",
      "3.61900370941\n",
      "3.4843447884\n",
      "\u001b[0mcore.optimization.LineMinimizer: \u001b[0m\u001b[31m\u001b[1m[ ERROR ]\u001b[0m \u001b[31mInaccurate G! step= 3.8147e-06 Deriv= -2.55473e-07 Finite Diff= 1.66346e-06\u001b[0m\n",
      "1.61857363567\n",
      "599.001698895\n",
      "-0.625721210914\n",
      "7.02648834783\n",
      "4.75417939121\n",
      "4.75846662605\n",
      "2.48616554561\n",
      "1.32904088785\n",
      "0.102323179012\n",
      "-0.922284280443\n",
      "\u001b[0mcore.optimization.LineMinimizer: \u001b[0m\u001b[31m\u001b[1m[ ERROR ]\u001b[0m \u001b[31mInaccurate G! step= 1.90735e-06 Deriv= -2.66982e-07 Finite Diff= 2.468e-08\u001b[0m\n",
      "-2.03463723687\n",
      "\u001b[0mcore.optimization.LineMinimizer: \u001b[0m\u001b[31m\u001b[1m[ ERROR ]\u001b[0m \u001b[31mInaccurate G! step= 4.76837e-07 Deriv= -7.65836e-05 Finite Diff= 0.000345888\u001b[0m\n",
      "-2.75567081413\n",
      "\u001b[0mcore.optimization.LineMinimizer: \u001b[0m\u001b[31m\u001b[1m[ ERROR ]\u001b[0m \u001b[31mInaccurate G! step= 3.8147e-06 Deriv= -0.000944755 Finite Diff= 0.000414543\u001b[0m\n",
      "-5.71857626243\n",
      "\u001b[0mcore.optimization.LineMinimizer: \u001b[0m\u001b[31m\u001b[1m[ ERROR ]\u001b[0m \u001b[31mInaccurate G! step= 3.8147e-06 Deriv= -0.000952414 Finite Diff= 3.3487e-05\u001b[0m\n",
      "-1.99655261452\n",
      "\u001b[0mcore.optimization.LineMinimizer: \u001b[0m\u001b[31m\u001b[1m[ ERROR ]\u001b[0m \u001b[31mInaccurate G! step= 9.53674e-07 Deriv= -0.000901473 Finite Diff= 0.00204606\u001b[0m\n",
      "-5.67202612352\n",
      "11.3026719078\n",
      "9.02895499438\n",
      "8.8067304092\n",
      "6.53242105947\n",
      "10.0035570169\n",
      "6.33913276953\n",
      "7.21139981305\n",
      "3.61900568321\n",
      "3.48434891925\n",
      "\u001b[0mcore.optimization.LineMinimizer: \u001b[0m\u001b[31m\u001b[1m[ ERROR ]\u001b[0m \u001b[31mInaccurate G! step= 3.8147e-06 Deriv= -7.55475e-05 Finite Diff= 9.32557e-06\u001b[0m\n",
      "1.61857273763\n",
      "599.001697209\n",
      "7.02647850634\n",
      "4.75418141265\n",
      "4.75847768414\n",
      "2.48617435153\n",
      "1.32903766371\n",
      "0.102332132462\n",
      "-0.922003003688\n",
      "-2.03421763616\n",
      "\u001b[0mcore.optimization.LineMinimizer: \u001b[0m\u001b[31m\u001b[1m[ ERROR ]\u001b[0m \u001b[31mInaccurate G! step= 3.8147e-06 Deriv= -1.68612e-06 Finite Diff= 1.06017e-05\u001b[0m\n",
      "-2.75573305019\n",
      "\u001b[0mcore.optimization.LineMinimizer: \u001b[0m\u001b[31m\u001b[1m[ ERROR ]\u001b[0m \u001b[31mInaccurate G! step= 3.8147e-06 Deriv= -4.88485e-05 Finite Diff= 7.35091e-05\u001b[0m\n",
      "-5.71767765072\n",
      "\u001b[0mcore.optimization.LineMinimizer: \u001b[0m\u001b[31m\u001b[1m[ ERROR ]\u001b[0m \u001b[31mInaccurate G! step= 3.8147e-06 Deriv= -0.000462106 Finite Diff= -3.18683e-05\u001b[0m\n",
      "\u001b[0mcore.optimization.LineMinimizer: \u001b[0m\u001b[31m\u001b[1m[ ERROR ]\u001b[0m \u001b[31mInaccurate G! step= 4.76837e-07 Deriv= -0.00767873 Finite Diff= -0.000511609\u001b[0m\n",
      "-8.17604746632\n",
      "11.3034521254\n",
      "9.02894836165\n",
      "8.80671160857\n",
      "6.5324367196\n",
      "10.0035592594\n",
      "6.33913435142\n",
      "7.21140089765\n",
      "3.61900760707\n",
      "3.48434558568\n",
      "\u001b[0mcore.optimization.LineMinimizer: \u001b[0m\u001b[31m\u001b[1m[ ERROR ]\u001b[0m \u001b[31mInaccurate G! step= 3.8147e-06 Deriv= -9.02159e-08 Finite Diff= 1.35088e-06\u001b[0m\n",
      "1.61855475499\n",
      "599.001705264\n",
      "-0.62572687269\n"
     ]
    },
    {
     "data": {
      "text/plain": [
       "'\\n# South, anti\\npose.set_torsion(TorsionID(1, BB, 4), 145.4)\\npose.set_torsion(TorsionID(1, BB, 5), -97.4)\\npose.set_torsion(TorsionID(1, CHI, 1), -56.6)\\npose.set_torsion(TorsionID(1, CHI, 2), -37.2)\\npose.set_torsion(TorsionID(1, CHI, 3), 155.5)\\npose.set_torsion(TorsionID(2, BB, 1), 66.7)\\npose.set_torsion(TorsionID(2, BB, 3), -62.9)\\npose.set_torsion(TorsionID(2, BB, 4), 145.4)\\npose.set_torsion(TorsionID(2, CHI, 1), -56.6)\\npose.set_torsion(TorsionID(2, CHI, 2), -37.2)\\npose.set_torsion(TorsionID(2, CHI, 3), 155.5)\\n'"
      ]
     },
     "execution_count": 244,
     "metadata": {},
     "output_type": "execute_result"
    }
   ],
   "source": [
    "# Code for a purine stacked on a purine\n",
    "\n",
    "for delta in [81.195, 145.521]:\n",
    "    \n",
    "    dof_lists = []\n",
    "    \n",
    "    for alpha in [-64.3, 66.7, 156.6]:\n",
    "        \n",
    "        pose, movemap, dof_dict = initialiize_pose(seq)\n",
    "        \n",
    "        pose.set_torsion(TorsionID(1, BB, 4), delta)\n",
    "    \n",
    "        if delta == 81.195:\n",
    "\n",
    "                pose.set_torsion(TorsionID(1, CHI, 2), 35.870)\n",
    "                pose.set_torsion(TorsionID(1, CHI, 3), 94.856)\n",
    "                possible_chi = [-110.9, -51.9, 72.4]\n",
    "                possible_eps = [-150.4, 16.8, 76.2]\n",
    "\n",
    "        #C2'-endo\n",
    "        else:\n",
    "\n",
    "            possible_chi = [-56.6, 119.0]\n",
    "            possible_eps = [-97.4, 0, 75.2]\n",
    "\n",
    "            for ii in range(len(seq)-1):\n",
    "\n",
    "                pose.set_torsion(TorsionID(ii+1, CHI, 2), -34.825)\n",
    "                pose.set_torsion(TorsionID(ii+1, CHI, 3), 155.987)\n",
    "\n",
    "    \n",
    "        print dof_dict\n",
    "        # These will set the terminal base pair to C2'-endo (south)\n",
    "        pose.set_torsion(TorsionID(n, BB, 4), 145.521)\n",
    "        pose.set_torsion(TorsionID(n, CHI, 2), -34.825)\n",
    "        pose.set_torsion(TorsionID(n, CHI, 3), 155.978)\n",
    "                \n",
    "        if alpha == -64.3: possible_zeta = [-71.8, 167.55]\n",
    "        elif alpha == 66.7: possible_zeta = [-131.6, 79.0]\n",
    "        else: possible_zeta = [-69.5, 56.5]\n",
    "        \n",
    "        \n",
    "        torsion_lists = itertools.product(possible_eps, possible_zeta, [alpha], [177.3], [-62.9, 53.5, 175.8], possible_chi, \n",
    "                                          [-56.6, 119.0])\n",
    "        \n",
    "        \n",
    "        \n",
    "        for torsion_list in list(torsion_lists):\n",
    "            \n",
    "            pose.set_torsion(TorsionID(1, BB, 5), torsion_list[0])\n",
    "            pose.set_torsion(TorsionID(1, BB, 5), torsion_list[1])\n",
    "            pose.set_torsion(TorsionID(2, BB, 1), torsion_list[2])\n",
    "            pose.set_torsion(TorsionID(2, BB, 2), torsion_list[3])\n",
    "            pose.set_torsion(TorsionID(2, BB, 3), torsion_list[4])\n",
    "            pose.set_torsion(TorsionID(1, CHI, 1), torsion_list[5])\n",
    "            pose.set_torsion(TorsionID(2, CHI, 1), torsion_list[6])\n",
    "        \n",
    "            minmover = rosetta.protocols.minimization_packing.MinMover(movemap, scorefxn, 'lbfgs_armijo', 1.0e-7, True)\n",
    "            minmover.max_iter(1000000)\n",
    "            minmover.min_options().use_nblist(True)\n",
    "            minmover.min_options().nblist_auto_update(True)\n",
    "            minmover.apply(pose)\n",
    "            pmm.apply(pose)\n",
    "\n",
    "            E_min = scorefxn(pose)\n",
    "            \n",
    "            \n",
    "            minimum = Pose()\n",
    "            minimum.assign(pose)\n",
    "            \n",
    "            dofs = []\n",
    "\n",
    "            for val in dof_dict.itervalues(): dofs.append(pose.torsion(val))\n",
    "            dofs = np.array(dofs)\n",
    "\n",
    "            if is_repeat_minimum(dofs, dof_lists):\n",
    "                \n",
    "                continue\n",
    "                \n",
    "            dof_lists.append(dofs)\n",
    "                    \n",
    "                    \n",
    "            hessian = calculate_hessian(pose, scorefxn, dof_dict)\n",
    "            w,v = scipy.linalg.eigh(hessian)\n",
    "\n",
    "            if not np.all(w > 0.):\n",
    "                continue\n",
    "\n",
    "            E_list.append(E_min)\n",
    "            Z = 1\n",
    "\n",
    "            print E_min\n",
    "            for kk, K in enumerate(w):\n",
    "\n",
    "                Z *= mode_scan(pose, dofs, dof_dict, scorefxn, v[:,kk])\n",
    "\n",
    "            #mu_list.append(scorefxn(minimum) - 0.6163*np.log(Z))\n",
    "            mu_list = np.append(mu_list, scorefxn(minimum)- 0.6163*(np.log(Z) - 7*np.log(2*np.pi/3)))\n",
    "\n",
    "'''\n",
    "# South, anti\n",
    "pose.set_torsion(TorsionID(1, BB, 4), 145.4)\n",
    "pose.set_torsion(TorsionID(1, BB, 5), -97.4)\n",
    "pose.set_torsion(TorsionID(1, CHI, 1), -56.6)\n",
    "pose.set_torsion(TorsionID(1, CHI, 2), -37.2)\n",
    "pose.set_torsion(TorsionID(1, CHI, 3), 155.5)\n",
    "pose.set_torsion(TorsionID(2, BB, 1), 66.7)\n",
    "pose.set_torsion(TorsionID(2, BB, 3), -62.9)\n",
    "pose.set_torsion(TorsionID(2, BB, 4), 145.4)\n",
    "pose.set_torsion(TorsionID(2, CHI, 1), -56.6)\n",
    "pose.set_torsion(TorsionID(2, CHI, 2), -37.2)\n",
    "pose.set_torsion(TorsionID(2, CHI, 3), 155.5)\n",
    "'''"
   ]
  },
  {
   "cell_type": "code",
   "execution_count": 245,
   "metadata": {
    "scrolled": false
   },
   "outputs": [
    {
     "name": "stdout",
     "output_type": "stream",
     "text": [
      "527\n",
      "-2.5708837065464945\n"
     ]
    }
   ],
   "source": [
    "import scipy.special\n",
    "print len(mu_list)\n",
    "mu_list = np.array(mu_list)\n",
    "print 0.6163*(-scipy.special.logsumexp(-mu_list[:]/0.6163))#  - 7*np.log(2*np.pi/3) - 2*np.log(2))"
   ]
  },
  {
   "cell_type": "code",
   "execution_count": 214,
   "metadata": {},
   "outputs": [
    {
     "data": {
      "image/png": "[encoded data removed]",
      "text/plain": [
       "<Figure size 432x288 with 1 Axes>"
      ]
     },
     "metadata": {},
     "output_type": "display_data"
    }
   ],
   "source": [
    "hist = plt.hist(E_list,bins=9000,range=(-100,800))"
   ]
  },
  {
   "cell_type": "code",
   "execution_count": 215,
   "metadata": {},
   "outputs": [
    {
     "name": "stdout",
     "output_type": "stream",
     "text": [
      "-10.0581193901\n",
      "Inferring sequence from directory name:  ga\n",
      "applying phase space volume for single strand with length  2\n"
     ]
    },
    {
     "data": {
      "text/plain": [
       "[<matplotlib.lines.Line2D at 0x7f74ec932510>]"
      ]
     },
     "execution_count": 215,
     "metadata": {},
     "output_type": "execute_result"
    },
    {
     "data": {
      "image/png": "[encoded data removed]",
      "text/plain": [
       "<Figure size 432x288 with 1 Axes>"
      ]
     },
     "metadata": {},
     "output_type": "display_data"
    }
   ],
   "source": [
    "from scipy.special import logsumexp\n",
    "from recces.data import SingleHistSimulation\n",
    "from recces.util import torsion_volume\n",
    "print min(E_list)\n",
    "sim = SingleHistSimulation('./../recces_rosetta/results/ga/ST/')\n",
    "plt.plot(hist[1][500:1500], hist[0][500:1500]*100)#*np.exp(-hist[1][500:1500])/75)\n",
    "plt.plot(sim._dos_scores[500:1500], sim._dos[500:1500])#*np.exp(-sim._dos_scores[500:1500]))"
   ]
  },
  {
   "cell_type": "code",
   "execution_count": 216,
   "metadata": {},
   "outputs": [
    {
     "name": "stdout",
     "output_type": "stream",
     "text": [
      "-10.1165823616\n"
     ]
    }
   ],
   "source": [
    "pose = protocols.recces.pose_setup_turner('ga','')\n",
    "\n",
    "minmover.apply(pose)\n",
    "pmm.apply(pose)\n",
    "hessian = calculate_hessian(huh, scorefxn, dof_dict)\n",
    "print scorefxn(huh)\n",
    "dofs = []\n",
    "for val in dof_dict.itervalues(): dofs.append(pose.torsion(val))\n",
    "dofs = np.array(dofs)"
   ]
  },
  {
   "cell_type": "code",
   "execution_count": 217,
   "metadata": {},
   "outputs": [
    {
     "name": "stdout",
     "output_type": "stream",
     "text": [
      "-10.1165823616\n"
     ]
    }
   ],
   "source": [
    "w, v = scipy.linalg.eigh(hessian)\n",
    "obs = protocols.moves.AddPyMOLObserver(pose, True)\n",
    "pose.assign(minimum)\n",
    "E_min = scorefxn(huh)\n",
    "print E_min"
   ]
  },
  {
   "cell_type": "code",
   "execution_count": 218,
   "metadata": {},
   "outputs": [
    {
     "name": "stdout",
     "output_type": "stream",
     "text": [
      "-1.2313832816101051\n"
     ]
    }
   ],
   "source": [
    "print scorefxn(huh) - 0.5*len(w)*np.log(2*np.pi) + 0.5*np.log(scipy.linalg.det(hessian))"
   ]
  },
  {
   "cell_type": "code",
   "execution_count": 50,
   "metadata": {
    "scrolled": true
   },
   "outputs": [
    {
     "data": {
      "text/plain": [
       "<Figure size 432x288 with 0 Axes>"
      ]
     },
     "metadata": {},
     "output_type": "display_data"
    }
   ],
   "source": [
    "import scipy.integrate\n",
    "\n",
    "Z = 1\n",
    "\n",
    "#pose.assign(minimum)\n",
    "#E_min = scorefxn(minimum)\n",
    "kT = 1.0\n",
    "fig = plt.figure()\n",
    "for kk in range(len(w)):\n",
    " \n",
    "    mode = v[:,kk]\n",
    "    h = range(-30,31,1)\n",
    "    fuck = h[:-1]\n",
    "    fuck.reverse()\n",
    "    h = h+fuck\n",
    "    h = np.array(h)\n",
    "    h_plot = h*np.pi/180\n",
    "\n",
    "    bar = []\n",
    "\n",
    "\n",
    "    for hh in h:\n",
    "\n",
    "        dofs_new = dofs+hh*mode\n",
    "\n",
    "        for jj, dof in enumerate(dofs_new):\n",
    "\n",
    "            pose.set_torsion(dof_dict[jj], dof)\n",
    "\n",
    "        bar.append((scorefxn(pose)-E_min)/kT)\n",
    "\n",
    "    \n",
    "    Z *= np.trapz(np.exp(-np.array(bar)), dx = np.pi/180.)\n",
    "    #np.array(bar) \n",
    "    #pose.assign(minimum)\n",
    "    #plt.subplot(3, 4, kk+1)\n",
    "    #plt.plot(h, np.exp(-np.array(bar)))\n",
    "    #plt.plot(h, np.exp(-0.5*K*h_plot**2/kT))\n",
    "    #plt.xlabel('Displacement along normal coordinate (degrees)')\n",
    "    #plt.ylabel('exp(-(E-E0)/kT)')"
   ]
  },
  {
   "cell_type": "code",
   "execution_count": 51,
   "metadata": {
    "scrolled": true
   },
   "outputs": [
    {
     "name": "stdout",
     "output_type": "stream",
     "text": [
      "-9.65191278688959\n"
     ]
    }
   ],
   "source": [
    "print scorefxn(huh) - np.log(Z)"
   ]
  },
  {
   "cell_type": "code",
   "execution_count": 281,
   "metadata": {},
   "outputs": [
    {
     "name": "stdout",
     "output_type": "stream",
     "text": [
      "-11.3144552565\n"
     ]
    }
   ],
   "source": [
    "print min(E_list)"
   ]
  },
  {
   "cell_type": "code",
   "execution_count": 74,
   "metadata": {},
   "outputs": [
    {
     "name": "stdout",
     "output_type": "stream",
     "text": [
      "-147.213383076\n"
     ]
    }
   ],
   "source": [
    "print pose.epsilon(1)"
   ]
  },
  {
   "cell_type": "code",
   "execution_count": 446,
   "metadata": {},
   "outputs": [
    {
     "name": "stdout",
     "output_type": "stream",
     "text": [
      "-150.17\n"
     ]
    }
   ],
   "source": [
    "pose = protocols.recces.pose_setup_turner('ga','')\n",
    "print pose.epsilon(1)"
   ]
  },
  {
   "cell_type": "code",
   "execution_count": 456,
   "metadata": {},
   "outputs": [],
   "source": [
    "minmover.tolerance(1e-7)\n",
    "minmover.max_iter(100000)\n",
    "minmover.apply(pose)\n"
   ]
  },
  {
   "cell_type": "code",
   "execution_count": 457,
   "metadata": {},
   "outputs": [],
   "source": [
    "pmm.apply(pose)"
   ]
  },
  {
   "cell_type": "code",
   "execution_count": null,
   "metadata": {},
   "outputs": [],
   "source": [
    "print dof_dict\n",
    "from scipy.special import gamma"
   ]
  },
  {
   "cell_type": "code",
   "execution_count": 54,
   "metadata": {},
   "outputs": [
    {
     "name": "stdout",
     "output_type": "stream",
     "text": [
      "116552482.28438939\n"
     ]
    }
   ],
   "source": [
    "hessian = calculate_hessian(pose, scorefxn, dof_dict)\n",
    "print np.linalg.det(hessian)"
   ]
  },
  {
   "cell_type": "code",
   "execution_count": 55,
   "metadata": {},
   "outputs": [
    {
     "name": "stdout",
     "output_type": "stream",
     "text": [
      "3.357066743696679\n",
      "-10.1165823616\n"
     ]
    }
   ],
   "source": [
    "print scorefxn(pose) + 0.5*np.log(np.linalg.det(hessian)) - 3.5*np.log(2*np.pi)\n",
    "E_min = scorefxn(huh)\n",
    "print E_min"
   ]
  },
  {
   "cell_type": "code",
   "execution_count": 56,
   "metadata": {},
   "outputs": [],
   "source": [
    "matt_guess = lambda E: (2.0*np.pi)**(len(w)/2)*(E-E_min)**(len(w)/2 - 1)/gamma(len(w)/2)/np.sqrt(np.linalg.det(hessian))*np.heaviside(E-E_min, 0.5)#2*(2*np.pi)**((len(w)-1)/2)*(2*(E-E_min))**(len(w)/2-1)/scipy.misc.factorial2(len(w)-2)/np.sqrt(np.linalg.det(hessian))*np.heaviside(E-E_min,0.5)"
   ]
  },
  {
   "cell_type": "code",
   "execution_count": 57,
   "metadata": {},
   "outputs": [
    {
     "ename": "NameError",
     "evalue": "global name 'gamma' is not defined",
     "output_type": "error",
     "traceback": [
      "\u001b[0;31m---------------------------------------------------------------------------\u001b[0m",
      "\u001b[0;31mNameError\u001b[0m                                 Traceback (most recent call last)",
      "\u001b[0;32m<ipython-input-57-cd3ea360cb9a>\u001b[0m in \u001b[0;36m<module>\u001b[0;34m()\u001b[0m\n\u001b[0;32m----> 1\u001b[0;31m \u001b[0mplt\u001b[0m\u001b[0;34m.\u001b[0m\u001b[0mplot\u001b[0m\u001b[0;34m(\u001b[0m\u001b[0mhist\u001b[0m\u001b[0;34m[\u001b[0m\u001b[0;36m1\u001b[0m\u001b[0;34m]\u001b[0m\u001b[0;34m[\u001b[0m\u001b[0;36m500\u001b[0m\u001b[0;34m:\u001b[0m\u001b[0;36m1500\u001b[0m\u001b[0;34m]\u001b[0m\u001b[0;34m,\u001b[0m \u001b[0mmatt_guess\u001b[0m\u001b[0;34m(\u001b[0m\u001b[0mhist\u001b[0m\u001b[0;34m[\u001b[0m\u001b[0;36m1\u001b[0m\u001b[0;34m]\u001b[0m\u001b[0;34m[\u001b[0m\u001b[0;36m500\u001b[0m\u001b[0;34m:\u001b[0m\u001b[0;36m1500\u001b[0m\u001b[0;34m]\u001b[0m\u001b[0;34m)\u001b[0m\u001b[0;34m*\u001b[0m\u001b[0mnp\u001b[0m\u001b[0;34m.\u001b[0m\u001b[0mexp\u001b[0m\u001b[0;34m(\u001b[0m\u001b[0;34m-\u001b[0m\u001b[0mhist\u001b[0m\u001b[0;34m[\u001b[0m\u001b[0;36m1\u001b[0m\u001b[0;34m]\u001b[0m\u001b[0;34m[\u001b[0m\u001b[0;36m500\u001b[0m\u001b[0;34m:\u001b[0m\u001b[0;36m1500\u001b[0m\u001b[0;34m]\u001b[0m\u001b[0;34m)\u001b[0m\u001b[0;34m)\u001b[0m\u001b[0;34m\u001b[0m\u001b[0m\n\u001b[0m\u001b[1;32m      2\u001b[0m \u001b[0mplt\u001b[0m\u001b[0;34m.\u001b[0m\u001b[0mplot\u001b[0m\u001b[0;34m(\u001b[0m\u001b[0msim\u001b[0m\u001b[0;34m.\u001b[0m\u001b[0m_dos_scores\u001b[0m\u001b[0;34m[\u001b[0m\u001b[0;36m500\u001b[0m\u001b[0;34m:\u001b[0m\u001b[0;36m1500\u001b[0m\u001b[0;34m]\u001b[0m\u001b[0;34m,\u001b[0m \u001b[0mnp\u001b[0m\u001b[0;34m.\u001b[0m\u001b[0mexp\u001b[0m\u001b[0;34m(\u001b[0m\u001b[0;34m-\u001b[0m\u001b[0msim\u001b[0m\u001b[0;34m.\u001b[0m\u001b[0m_dos_scores\u001b[0m\u001b[0;34m[\u001b[0m\u001b[0;36m500\u001b[0m\u001b[0;34m:\u001b[0m\u001b[0;36m1500\u001b[0m\u001b[0;34m]\u001b[0m\u001b[0;34m)\u001b[0m\u001b[0;34m*\u001b[0m\u001b[0msim\u001b[0m\u001b[0;34m.\u001b[0m\u001b[0m_dos\u001b[0m\u001b[0;34m[\u001b[0m\u001b[0;36m500\u001b[0m\u001b[0;34m:\u001b[0m\u001b[0;36m1500\u001b[0m\u001b[0;34m]\u001b[0m\u001b[0;34m*\u001b[0m\u001b[0;36m3\u001b[0m\u001b[0;34m)\u001b[0m\u001b[0;34m\u001b[0m\u001b[0m\n",
      "\u001b[0;32m<ipython-input-56-18a27858575a>\u001b[0m in \u001b[0;36m<lambda>\u001b[0;34m(E)\u001b[0m\n\u001b[0;32m----> 1\u001b[0;31m \u001b[0mmatt_guess\u001b[0m \u001b[0;34m=\u001b[0m \u001b[0;32mlambda\u001b[0m \u001b[0mE\u001b[0m\u001b[0;34m:\u001b[0m \u001b[0;34m(\u001b[0m\u001b[0;36m2.0\u001b[0m\u001b[0;34m*\u001b[0m\u001b[0mnp\u001b[0m\u001b[0;34m.\u001b[0m\u001b[0mpi\u001b[0m\u001b[0;34m)\u001b[0m\u001b[0;34m**\u001b[0m\u001b[0;34m(\u001b[0m\u001b[0mlen\u001b[0m\u001b[0;34m(\u001b[0m\u001b[0mw\u001b[0m\u001b[0;34m)\u001b[0m\u001b[0;34m/\u001b[0m\u001b[0;36m2\u001b[0m\u001b[0;34m)\u001b[0m\u001b[0;34m*\u001b[0m\u001b[0;34m(\u001b[0m\u001b[0mE\u001b[0m\u001b[0;34m-\u001b[0m\u001b[0mE_min\u001b[0m\u001b[0;34m)\u001b[0m\u001b[0;34m**\u001b[0m\u001b[0;34m(\u001b[0m\u001b[0mlen\u001b[0m\u001b[0;34m(\u001b[0m\u001b[0mw\u001b[0m\u001b[0;34m)\u001b[0m\u001b[0;34m/\u001b[0m\u001b[0;36m2\u001b[0m \u001b[0;34m-\u001b[0m \u001b[0;36m1\u001b[0m\u001b[0;34m)\u001b[0m\u001b[0;34m/\u001b[0m\u001b[0mgamma\u001b[0m\u001b[0;34m(\u001b[0m\u001b[0mlen\u001b[0m\u001b[0;34m(\u001b[0m\u001b[0mw\u001b[0m\u001b[0;34m)\u001b[0m\u001b[0;34m/\u001b[0m\u001b[0;36m2\u001b[0m\u001b[0;34m)\u001b[0m\u001b[0;34m/\u001b[0m\u001b[0mnp\u001b[0m\u001b[0;34m.\u001b[0m\u001b[0msqrt\u001b[0m\u001b[0;34m(\u001b[0m\u001b[0mnp\u001b[0m\u001b[0;34m.\u001b[0m\u001b[0mlinalg\u001b[0m\u001b[0;34m.\u001b[0m\u001b[0mdet\u001b[0m\u001b[0;34m(\u001b[0m\u001b[0mhessian\u001b[0m\u001b[0;34m)\u001b[0m\u001b[0;34m)\u001b[0m\u001b[0;34m*\u001b[0m\u001b[0mnp\u001b[0m\u001b[0;34m.\u001b[0m\u001b[0mheaviside\u001b[0m\u001b[0;34m(\u001b[0m\u001b[0mE\u001b[0m\u001b[0;34m-\u001b[0m\u001b[0mE_min\u001b[0m\u001b[0;34m,\u001b[0m \u001b[0;36m0.5\u001b[0m\u001b[0;34m)\u001b[0m\u001b[0;31m#2*(2*np.pi)**((len(w)-1)/2)*(2*(E-E_min))**(len(w)/2-1)/scipy.misc.factorial2(len(w)-2)/np.sqrt(np.linalg.det(hessian))*np.heaviside(E-E_min,0.5)\u001b[0m\u001b[0;34m\u001b[0m\u001b[0m\n\u001b[0m",
      "\u001b[0;31mNameError\u001b[0m: global name 'gamma' is not defined"
     ]
    }
   ],
   "source": [
    "plt.plot(hist[1][500:1500], matt_guess(hist[1][500:1500])*np.exp(-hist[1][500:1500]))\n",
    "plt.plot(sim._dos_scores[500:1500], np.exp(-sim._dos_scores[500:1500])*sim._dos[500:1500]*3)"
   ]
  },
  {
   "cell_type": "code",
   "execution_count": 282,
   "metadata": {},
   "outputs": [
    {
     "name": "stdout",
     "output_type": "stream",
     "text": [
      "-77.3430805169\n"
     ]
    }
   ],
   "source": [
    "print pose.zeta(1)"
   ]
  },
  {
   "cell_type": "code",
   "execution_count": 173,
   "metadata": {},
   "outputs": [],
   "source": [
    "pose = rosetta.protocols.recces.pose_setup_turner('gg',''"
   ]
  },
  {
   "cell_type": "code",
   "execution_count": 174,
   "metadata": {},
   "outputs": [
    {
     "name": "stdout",
     "output_type": "stream",
     "text": [
      "81.1757667609 35.8538883447\n"
     ]
    }
   ],
   "source": [
    "print pose.torsion(TorsionID(2, BB, 4)), pose.torsion(TorsionID(1, CHI, 2))"
   ]
  },
  {
   "cell_type": "code",
   "execution_count": 482,
   "metadata": {},
   "outputs": [
    {
     "data": {
      "text/plain": [
       "-11.567710305815666"
      ]
     },
     "execution_count": 482,
     "metadata": {},
     "output_type": "execute_result"
    }
   ],
   "source": [
    "scorefxn(pose)"
   ]
  },
  {
   "cell_type": "code",
   "execution_count": 487,
   "metadata": {},
   "outputs": [
    {
     "name": "stdout",
     "output_type": "stream",
     "text": [
      "PDB file name: ./../../OneDrive/Documents/fuck.pdb\n",
      "Total residues:2\n",
      "Sequence: gg\n",
      "Fold tree:\n",
      "FOLD_TREE  EDGE 1 2 -1 \n"
     ]
    }
   ],
   "source": [
    "print pose"
   ]
  },
  {
   "cell_type": "code",
   "execution_count": 490,
   "metadata": {},
   "outputs": [
    {
     "name": "stdout",
     "output_type": "stream",
     "text": [
      "-63.5353344862 165.161840316 56.4252019168 81.1556157339 -144.424366643 -67.563117667\n"
     ]
    }
   ],
   "source": [
    "print pose.alpha(2), pose.beta(2), pose.gamma(2), pose.delta(1), pose.epsilon(1), pose.zeta(1)"
   ]
  },
  {
   "cell_type": "code",
   "execution_count": 39,
   "metadata": {
    "scrolled": true
   },
   "outputs": [
    {
     "name": "stdout",
     "output_type": "stream",
     "text": [
      "\u001b[0mcore.import_pose.import_pose: \u001b[0mFile './../recces_rosetta/results/min.pdb' automatically determined to be of type PDB\n",
      "35.8338936386 94.9245357198\n"
     ]
    }
   ],
   "source": [
    "huh = pose_from_file('./../recces_rosetta/results/min.pdb')\n",
    "print huh.torsion(TorsionID(1, CHI, 2)), huh.torsion(TorsionID(1, CHI, 3))"
   ]
  },
  {
   "cell_type": "code",
   "execution_count": 35,
   "metadata": {},
   "outputs": [
    {
     "name": "stdout",
     "output_type": "stream",
     "text": [
      "\n",
      "-150.267856926 -74.0033012268 -60.799044942 161.123642633 55.558354 81.1164418812 76.4079790151 77.2593548418\n"
     ]
    }
   ],
   "source": [
    "print \n",
    "pmm.apply(huh)\n",
    "print huh.epsilon(1), huh.zeta(1), huh.alpha(2), huh.beta(2), huh.gamma(1), huh.delta(2), huh.chi(1), huh.chi(2)"
   ]
  },
  {
   "cell_type": "code",
   "execution_count": 496,
   "metadata": {},
   "outputs": [
    {
     "name": "stdout",
     "output_type": "stream",
     "text": [
      "-62.6200774422 166.019239581 55.7637044788 -146.782226207 -66.7916732357\n"
     ]
    }
   ],
   "source": [
    "print huh.alpha(2), huh.beta(2), huh.gamma(2), huh.epsilon(1), huh.zeta(1)"
   ]
  },
  {
   "cell_type": "code",
   "execution_count": 497,
   "metadata": {},
   "outputs": [
    {
     "data": {
      "text/plain": [
       "-11.276060713948727"
      ]
     },
     "execution_count": 497,
     "metadata": {},
     "output_type": "execute_result"
    }
   ],
   "source": [
    "scorefxn(huh)"
   ]
  },
  {
   "cell_type": "code",
   "execution_count": 148,
   "metadata": {},
   "outputs": [
    {
     "ename": "TypeError",
     "evalue": "set_ring_conformation(): incompatible function arguments. The following argument types are supported:\n    1. (self: pyrosetta.rosetta.core.pose.Pose, seqpos: int, ring_num: int, conformer: pyrosetta.rosetta.core.chemical.rings.RingConformer) -> None\n\nInvoked with: <pyrosetta.rosetta.core.pose.Pose object at 0x7f74f35570a0>, 'north'",
     "output_type": "error",
     "traceback": [
      "\u001b[0;31m---------------------------------------------------------------------------\u001b[0m",
      "\u001b[0;31mTypeError\u001b[0m                                 Traceback (most recent call last)",
      "\u001b[0;32m<ipython-input-148-e915b49f1808>\u001b[0m in \u001b[0;36m<module>\u001b[0;34m()\u001b[0m\n\u001b[0;32m----> 1\u001b[0;31m \u001b[0mpose\u001b[0m\u001b[0;34m.\u001b[0m\u001b[0mset_ring_conformation\u001b[0m\u001b[0;34m(\u001b[0m\u001b[0;34m'north'\u001b[0m\u001b[0;34m)\u001b[0m\u001b[0;34m\u001b[0m\u001b[0m\n\u001b[0m",
      "\u001b[0;31mTypeError\u001b[0m: set_ring_conformation(): incompatible function arguments. The following argument types are supported:\n    1. (self: pyrosetta.rosetta.core.pose.Pose, seqpos: int, ring_num: int, conformer: pyrosetta.rosetta.core.chemical.rings.RingConformer) -> None\n\nInvoked with: <pyrosetta.rosetta.core.pose.Pose object at 0x7f74f35570a0>, 'north'"
     ]
    }
   ],
   "source": [
    "pose.set_ring_conformation('north')"
   ]
  },
  {
   "cell_type": "code",
   "execution_count": 158,
   "metadata": {},
   "outputs": [
    {
     "ename": "AttributeError",
     "evalue": "'pyrosetta.rosetta.core.pose.Pose' object has no attribute 'pucker_state'",
     "output_type": "error",
     "traceback": [
      "\u001b[0;31m---------------------------------------------------------------------------\u001b[0m",
      "\u001b[0;31mAttributeError\u001b[0m                            Traceback (most recent call last)",
      "\u001b[0;32m<ipython-input-158-b71813eea20e>\u001b[0m in \u001b[0;36m<module>\u001b[0;34m()\u001b[0m\n\u001b[0;32m----> 1\u001b[0;31m \u001b[0;32mprint\u001b[0m \u001b[0mpose\u001b[0m\u001b[0;34m.\u001b[0m\u001b[0mpucker_state\u001b[0m\u001b[0;34m(\u001b[0m\u001b[0;36m1\u001b[0m\u001b[0;34m)\u001b[0m\u001b[0;34m\u001b[0m\u001b[0m\n\u001b[0m",
      "\u001b[0;31mAttributeError\u001b[0m: 'pyrosetta.rosetta.core.pose.Pose' object has no attribute 'pucker_state'"
     ]
    }
   ],
   "source": [
    "print pose."
   ]
  },
  {
   "cell_type": "code",
   "execution_count": 230,
   "metadata": {},
   "outputs": [
    {
     "name": "stdout",
     "output_type": "stream",
     "text": [
      "\u001b[0mcore.import_pose.import_pose: \u001b[0mFile './../../das-lab/recces_rosetta/results/ag/ST/ST_38000.pdb' automatically determined to be of type PDB\n"
     ]
    }
   ],
   "source": [
    "pose = pose_from_file('./../../das-lab/recces_rosetta/results/ag/ST/ST_637000.pdb')"
   ]
  },
  {
   "cell_type": "code",
   "execution_count": 231,
   "metadata": {},
   "outputs": [
    {
     "name": "stdout",
     "output_type": "stream",
     "text": [
      "81.1337877971 35.8338936386 94.9245357198\n",
      "145.62371869 -34.8376957519 155.917321435\n"
     ]
    }
   ],
   "source": [
    "print pose.delta(1), pose.torsion(TorsionID(1, CHI, 2)), pose.torsion(TorsionID(1, CHI, 3))\n",
    "print pose.delta(2), pose.torsion(TorsionID(2, CHI, 2)), pose.torsion(TorsionID(2, CHI, 3))"
   ]
  },
  {
   "cell_type": "code",
   "execution_count": 233,
   "metadata": {},
   "outputs": [
    {
     "name": "stdout",
     "output_type": "stream",
     "text": [
      "145.521118169 -34.8252844774 155.978251202\n",
      "81.1950530464 35.8703398534 94.8555221911\n"
     ]
    }
   ],
   "source": [
    "# ag/ST/367000, 38000\n",
    "\n",
    "# C2'-endo\n",
    "print 145.521118169, -34.8252844774, 155.978251202\n",
    "\n",
    "# C3'-endo\n",
    "print 81.1950530464, 35.8703398534, 94.8555221911"
   ]
  },
  {
   "cell_type": "code",
   "execution_count": 250,
   "metadata": {},
   "outputs": [],
   "source": [
    "pose = protocols.recces.pose_setup_turner('gg','')"
   ]
  },
  {
   "cell_type": "code",
   "execution_count": 251,
   "metadata": {},
   "outputs": [],
   "source": [
    "pmm.apply(pose)\n",
    "pose.set_torsion(TorsionID(1, BB, 4), 145.5)\n",
    "pose.set_torsion(TorsionID(1, CHI, 2), -34.8)\n",
    "pose.set_torsion(TorsionID(1, CHI, 3), 155.98)"
   ]
  },
  {
   "cell_type": "code",
   "execution_count": 252,
   "metadata": {},
   "outputs": [],
   "source": [
    "pmm.apply(pose)"
   ]
  },
  {
   "cell_type": "code",
   "execution_count": 253,
   "metadata": {},
   "outputs": [],
   "source": [
    "pose.set_chi(1, -56.6)"
   ]
  },
  {
   "cell_type": "code",
   "execution_count": 254,
   "metadata": {},
   "outputs": [],
   "source": [
    "pmm.apply(pose)"
   ]
  },
  {
   "cell_type": "code",
   "execution_count": null,
   "metadata": {},
   "outputs": [],
   "source": []
  }
 ],
 "metadata": {
  "kernelspec": {
   "display_name": "Python 2",
   "language": "python",
   "name": "python2"
  },
  "language_info": {
   "codemirror_mode": {
    "name": "ipython",
    "version": 2
   },
   "file_extension": ".py",
   "mimetype": "text/x-python",
   "name": "python",
   "nbconvert_exporter": "python",
   "pygments_lexer": "ipython2",
   "version": "2.7.12"
  }
 },
 "nbformat": 4,
 "nbformat_minor": 2
}
