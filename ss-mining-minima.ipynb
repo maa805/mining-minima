{
 "cells": [
  {
   "cell_type": "code",
   "execution_count": 653,
   "metadata": {},
   "outputs": [
    {
     "name": "stdout",
     "output_type": "stream",
     "text": [
      "Found rosetta database at: /usr/local/lib/python2.7/dist-packages/pyrosetta-2018.11+release.7c7790f-py2.7-linux-x86_64.egg/pyrosetta/database; using it....\n",
      "PyRosetta-4 2017 [Rosetta PyRosetta4.Release.python27.ubuntu 2018.11+release.7c7790f7c7790fbb898f8210b54513b9f9c8a927c3e8d7f 2018-03-14T13:19:04] retrieved from: http://www.pyrosetta.org\n",
      "(C) Copyright Rosetta Commons Member Institutions.\n",
      "Created in JHU by Sergey Lyskov and PyRosetta Team.\n",
      "\n",
      "\n",
      "\n",
      "\n",
      "\n",
      "\n",
      "\n"
     ]
    }
   ],
   "source": [
    "from pyrosetta import *\n",
    "from pyrosetta.rosetta import *\n",
    "from pyrosetta.rosetta.core.id import *\n",
    "from pyrosetta.rosetta.core.scoring.constraints import *\n",
    "import pyrosetta.rosetta.protocols.simple_moves\n",
    "import numpy as np\n",
    "import itertools\n",
    "import scipy\n",
    "import scipy.linalg\n",
    "import matplotlib\n",
    "import matplotlib.pyplot as plt\n",
    "init('-corrections::restore_talaris_behavior')"
   ]
  },
  {
   "cell_type": "code",
   "execution_count": 654,
   "metadata": {},
   "outputs": [],
   "source": [
    "pmm = PyMOLMover()\n",
    "pmm.keep_history(True)\n"
   ]
  },
  {
   "cell_type": "code",
   "execution_count": 655,
   "metadata": {},
   "outputs": [],
   "source": [
    "scorefxn = core.scoring.ScoreFunctionFactory.create_score_function('stepwise/rna/turner')\n",
    "scorefxn_cst = core.scoring.ScoreFunctionFactory.create_score_function('stepwise/rna/turner')\n",
    "scorefxn_cst.set_weight(core.scoring.dihedral_constraint, 1.0)"
   ]
  },
  {
   "cell_type": "code",
   "execution_count": 656,
   "metadata": {},
   "outputs": [],
   "source": [
    "def numpy_hessian(x, h):\n",
    "        \n",
    "    x_grad = np.gradient(x, h)\n",
    "    hessian = np.empty((x.ndim, x.ndim) + x.shape, dtype = x.dtype)\n",
    "    \n",
    "    for k, grad_k in enumerate(x_grad):\n",
    "        tmp_grad = np.gradient(grad_k, h)\n",
    "        for l, grad_kl in enumerate(tmp_grad):\n",
    "            hessian[k, l, :, :] = grad_kl\n",
    "            \n",
    "    return hessian"
   ]
  },
  {
   "cell_type": "code",
   "execution_count": 490,
   "metadata": {},
   "outputs": [],
   "source": [
    "def is_pos_def(x):\n",
    "    return np.all(np.linalg.eigvals(x) > 0)"
   ]
  },
  {
   "cell_type": "code",
   "execution_count": 491,
   "metadata": {},
   "outputs": [],
   "source": [
    "def within_360(dof):\n",
    "    \n",
    "    diff = dof/360.0\n",
    "    diff = np.round(diff)\n",
    "    \n",
    "    return dof - 360.0*diff"
   ]
  },
  {
   "cell_type": "code",
   "execution_count": 879,
   "metadata": {},
   "outputs": [],
   "source": [
    "def is_repeat_minimum(new_dofs, dof_lists):\n",
    "    \n",
    "    #dofs_rounded = np.around(new_dofs, decimals=1)\n",
    "    \n",
    "    if len(dof_lists) == 0:\n",
    "        \n",
    "        return False \n",
    "    \n",
    "    for dof_list in dof_lists:\n",
    "        \n",
    "        #dof_list_rounded = np.around(dof_list, decimals=1)\n",
    "\n",
    "        dof_diff = within_360(new_dofs) - within_360(dof_list)\n",
    "        \n",
    "        if np.all(abs(within_360(dof_diff)) < 60.0): return True\n",
    "        else: continue\n",
    "    \n",
    "    return False"
   ]
  },
  {
   "cell_type": "code",
   "execution_count": 868,
   "metadata": {},
   "outputs": [],
   "source": [
    "def chi_minima(base, sugar_pucker, orientation):\n",
    "\n",
    "    if base == 'g' or base == 'a':\n",
    "\n",
    "        if sugar_pucker == 'north':\n",
    "\n",
    "            if orientation == 'anti': return [72.4]\n",
    "            else: return [-110.9, -51.9]\n",
    "\n",
    "        else:\n",
    "\n",
    "            if orientation == 'anti': return [119.0]\n",
    "            else: return [-56.6]\n",
    "            \n",
    "    else:\n",
    "\n",
    "        if sugar_pucker == 'north':\n",
    "\n",
    "            if orientation == 'anti': return [77.3]\n",
    "            else: return [-105.7, -47.2]\n",
    "\n",
    "        else:\n",
    "\n",
    "            if orientation == 'anti': return [108.2]\n",
    "            else: return [-65.0]        \n",
    "        \n"
   ]
  },
  {
   "cell_type": "code",
   "execution_count": 869,
   "metadata": {},
   "outputs": [],
   "source": [
    "def initialiize_pose(seq):\n",
    "    \n",
    "    n_residues = len(seq)\n",
    "    dof_dict = {}\n",
    "    \n",
    "    pose = pyrosetta.rosetta.protocols.recces.pose_setup_turner(seq, '')\n",
    "    movemap = MoveMap()\n",
    "    \n",
    "    for ii in range(n_residues-1):\n",
    "           \n",
    "        dof_dict.update({5*ii: TorsionID(ii+1, BB, 5), 5*ii+1: TorsionID(ii+1, BB, 6), 5*ii+2: TorsionID(ii+2, BB, 1), \n",
    "                         5*ii+3: TorsionID(ii+2, BB, 2), 5*ii+4: TorsionID(ii+2, BB, 3)})\n",
    "                        \n",
    "        movemap.set(TorsionID(5*ii+1, BB, 5), True)\n",
    "        movemap.set(TorsionID(5*ii+1, BB, 6), True)\n",
    "        movemap.set(TorsionID(5*ii+2, BB, 1), True)\n",
    "        movemap.set(TorsionID(5*ii+2, BB, 2), True)\n",
    "        movemap.set(TorsionID(5*ii+2, BB, 3), True)\n",
    "    \n",
    "    for ii in range(n_residues):\n",
    "    \n",
    "        dof_dict.update({5*(n_residues-1) + ii: TorsionID(ii+1, CHI, 1)})\n",
    "        movemap.set(TorsionID(ii+1, CHI, 1), True)\n",
    "        \n",
    "    return pose, movemap, dof_dict    \n",
    "    "
   ]
  },
  {
   "cell_type": "code",
   "execution_count": 870,
   "metadata": {},
   "outputs": [],
   "source": [
    "def calculate_hessian(pose, scorefxn, dof_dict):\n",
    "    '''Take a minimized pose and computes the hessian at the base of the corresponding energy well. Returns the hessian matrix\n",
    "    which may subsequently be diagonalized'''\n",
    "\n",
    "    minimum = Pose()\n",
    "    minimum.assign(pose)\n",
    "\n",
    "    h = 0.1\n",
    "    h_rad = h*np.pi/180\n",
    "    E_0 = scorefxn(pose)\n",
    "\n",
    "    dofs = []\n",
    "\n",
    "    for val in dof_dict.itervalues(): dofs.append(pose.torsion(val))\n",
    "    dofs = np.array(dofs)\n",
    "\n",
    "    hessian = np.zeros((len(dofs), len(dofs)))\n",
    "\n",
    "    n_pts = int(1/h + 1)\n",
    "    ind = int(n_pts/2)\n",
    "\n",
    "    tor_ranges = np.zeros((n_pts, len(dofs)))\n",
    "    energy = np.zeros((n_pts, n_pts))\n",
    "\n",
    "    for ii, dof in enumerate(dofs):\n",
    "\n",
    "        tor_ranges[:, ii] = dof + np.arange(-0.5, 0.5+h, h)\n",
    "\n",
    "    for pair in list(itertools.combinations(dof_dict.keys(), 2)):\n",
    "\n",
    "        foo = pair[0]\n",
    "        bar = pair[1]\n",
    "\n",
    "        x = tor_ranges[:, foo]\n",
    "        y = tor_ranges[:, bar]\n",
    "\n",
    "        for ii, xx in enumerate(x):\n",
    "\n",
    "            pose.set_torsion(dof_dict[pair[0]], xx)\n",
    "\n",
    "            for jj, yy in enumerate(y):\n",
    "\n",
    "                pose.set_torsion(dof_dict[pair[1]], yy)\n",
    "\n",
    "                energy[ii, jj] = scorefxn(pose)\n",
    "\n",
    "                pose.set_torsion(dof_dict[pair[1]], dofs[bar])\n",
    "\n",
    "            pose.set_torsion(dof_dict[pair[0]], dofs[foo])\n",
    "\n",
    "        hess = numpy_hessian(energy, h_rad)\n",
    "\n",
    "        d2E_dx2 =  hess[0,0,:,:]\n",
    "        d2E_dy2 =  hess[1,1,:,:]\n",
    "        d2E_dxdy = hess[0,1,:,:]\n",
    "\n",
    "        if hessian[foo, foo] == 0:\n",
    "\n",
    "            hessian[foo, foo] = d2E_dx2[ind, ind]\n",
    "\n",
    "        if hessian[bar, bar] == 0:\n",
    "\n",
    "            hessian[bar, bar] = d2E_dy2[ind, ind]\n",
    "\n",
    "        hessian[foo, bar] = d2E_dxdy[ind, ind]\n",
    "        hessian[bar, foo] = d2E_dxdy[ind, ind]\n",
    "        \n",
    "    return hessian\n"
   ]
  },
  {
   "cell_type": "code",
   "execution_count": 871,
   "metadata": {},
   "outputs": [],
   "source": [
    "def mode_scan(pose, dofs, dof_dict, scorefxn, mode, kT = 1.0, h = 0.5):\n",
    "    \n",
    "    temp = Pose()\n",
    "    temp.assign(pose)\n",
    "    \n",
    "    E_0 = scorefxn(pose)\n",
    "    E = E_0\n",
    "    inc = 0\n",
    "    result = np.array([])\n",
    "    \n",
    "    h = np.arange(-60,61,1)\n",
    "\n",
    "    for hh in h:\n",
    "        \n",
    "        dofs_new = dofs + hh*mode\n",
    "        \n",
    "        for key, val in enumerate(dofs_new):\n",
    "\n",
    "            temp.set_torsion(dof_dict[key], val)\n",
    "            \n",
    "        result = np.append(result, (scorefxn(temp) - E_0)/kT)\n",
    "     \n",
    "\n",
    "    #if np.any(result < 0.0): return 1.0\n",
    "    return np.trapz(np.exp(-result), x=h*np.pi/180.0)\n"
   ]
  },
  {
   "cell_type": "code",
   "execution_count": 872,
   "metadata": {},
   "outputs": [],
   "source": [
    "def mode_scan_OG(pose, dofs, dof_dict, scorefxn, mode, kT = 1.0, h = 0.5):\n",
    "    \n",
    "    temp = Pose()\n",
    "    temp.assign(pose)\n",
    "    \n",
    "    E_0 = scorefxn(pose)\n",
    "    E = E_0\n",
    "    inc = 0\n",
    "    result = 0.0\n",
    "    \n",
    "    max_inc = int(60/h)\n",
    "\n",
    "    while inc < max_inc:\n",
    "        \n",
    "        inc += 1\n",
    "        result += 0.5*np.exp(-(E-E_0)/kT)\n",
    "        dofs_new = dofs + (60.0)*inc/float(max_inc)*mode\n",
    "        \n",
    "        for key, val in enumerate(dofs_new):\n",
    "\n",
    "            temp.set_torsion(dof_dict[key], val)\n",
    "        \n",
    "        E = scorefxn(temp)\n",
    "        if E < E_0: break\n",
    "        result += 0.5*np.exp(-(E-E_0)/kT)\n",
    "\n",
    "    if inc < max_inc: return 1.0\n",
    "    # Reinitialize pose\n",
    "    temp.assign(pose)\n",
    "    inc = 0\n",
    "    E = E_0\n",
    "    \n",
    "    while inc < max_inc:\n",
    "        \n",
    "        inc += 1\n",
    "        \n",
    "        result += 0.5*np.exp(-(E-E_0)/kT)\n",
    "        dofs_new = dofs + 60.0*inc/float(max_inc)*mode\n",
    "        \n",
    "        for key, val in enumerate(dofs_new):\n",
    "    \n",
    "            temp.set_torsion(dof_dict[key], val)\n",
    "        \n",
    "        E  = scorefxn(temp)\n",
    "        if E < E_0: break\n",
    "        result += 0.5*np.exp(-(E-E_0)/kT)\n",
    "        \n",
    "    result *= h*np.pi/180.0\n",
    "    \n",
    "    if inc < max_inc: return 1.0\n",
    "    return result\n"
   ]
  },
  {
   "cell_type": "code",
   "execution_count": 873,
   "metadata": {},
   "outputs": [],
   "source": [
    "def assay_modes(pose, scorefxn, dof_dict):\n",
    "    \n",
    "    '''this code will assay the normal modes, plotting the corresponding boltzmann weights for both the harmonic approximation\n",
    "    and scanned modes'''\n",
    "\n",
    "\n",
    "    import scipy.integrate\n",
    "    \n",
    "    pose.assign(pose_min)\n",
    "    print scorefxn(pose)\n",
    "\n",
    "    hessian = calculate_hessian(pose, scorefxn, dof_dict)\n",
    "\n",
    "    dofs = []\n",
    "\n",
    "    for val in dof_dict.itervalues(): dofs.append(pose.torsion(val))\n",
    "    dofs = np.array(dofs)\n",
    "\n",
    "    w, v = scipy.linalg.eigh(hessian)\n",
    "\n",
    "\n",
    "\n",
    "    E_min = scorefxn(pose)\n",
    "    kT = 1.0\n",
    "    fig = plt.figure()\n",
    "    for kk, K in enumerate(w):\n",
    "\n",
    "        mode = v[:,kk]\n",
    "        h = np.arange(-60,61,1)\n",
    "        h_plot = h*np.pi/180\n",
    "\n",
    "        bar = []\n",
    "\n",
    "\n",
    "        for hh in h:\n",
    "\n",
    "            dofs_new = dofs+hh*mode\n",
    "\n",
    "            for jj, dof in enumerate(dofs_new):\n",
    "\n",
    "                pose.set_torsion(dof_dict[jj], dof)\n",
    "\n",
    "            pmm.apply(pose)\n",
    "            bar.append((scorefxn(pose)-E_min)/kT)\n",
    "\n",
    "\n",
    "        np.array(bar) \n",
    "        pose.assign(minimum)\n",
    "        plt.subplot(10,5, kk+1)\n",
    "        plt.figure()\n",
    "        plt.plot(h, np.exp(-np.array(bar)))\n",
    "        plt.plot(h, np.exp(-0.5*K*h_plot**2/kT))\n",
    "        #plt.xticks([])\n",
    "        #plt.yticks([])\n",
    "        #plt.xlabel('Displacement along normal coordinate (degrees)')\n",
    "        #plt.ylabel('exp(-(E-E0)/kT)')\n"
   ]
  },
  {
   "cell_type": "code",
   "execution_count": 874,
   "metadata": {},
   "outputs": [],
   "source": [
    "def add_constraints(pose):\n",
    "    pose.add_constraint(\n",
    "        core.scoring.constraints.DihedralConstraint(AtomID(11,2), AtomID(10,2), AtomID(23,2), AtomID(17, 2),\n",
    "        core.scoring.func.CircularSigmoidalFunc(0.5, 6, pose.chi(2))))#CircularHarmonicFunc(pose.chi(2)*np.pi/180., 0.35)))\n",
    "    pose.add_constraint(\n",
    "        core.scoring.constraints.DihedralConstraint(AtomID(11,1), AtomID(10,1), AtomID(23,1), AtomID(17, 1),\n",
    "        core.scoring.func.CircularSigmoidalFunc(0.5, 6, pose.chi(1))))#CircularHarmonicFunc(pose.chi(1)*np.pi/180., 0.35)))\n",
    "    #pose.add_constraint(\n",
    "    #    core.scoring.constraints.DihedralConstraint(AtomID(6,1), AtomID(8,1), AtomID(9,1), AtomID(1,2), \n",
    "    #    core.scoring.func.CircularHarmonicFunc(pose.epsilon(1)*np.pi/180., 0.35)))\n",
    "    #pose.add_constraint(\n",
    "    #    core.scoring.constraints.DihedralConstraint(AtomID(8,1), AtomID(9,1), AtomID(1,2), AtomID(4,2),\n",
    "    #    core.scoring.func.CircularHarmonicFunc(pose.zeta(1)*np.pi/180., 0.35)))\n",
    "    #pose.add_constraint(\n",
    "    #    core.scoring.constraints.DihedralConstraint(AtomID(9,1), AtomID(1,2), AtomID(4,2), AtomID(5,2),\n",
    "    #    core.scoring.func.CircularHarmonicFunc(pose.alpha(2)*np.pi/180., 0.35)))\n",
    "    #pose.add_constraint(\n",
    "    #    core.scoring.constraints.DihedralConstraint(AtomID(1,2), AtomID(4,2), AtomID(5,2), AtomID(6,2),\n",
    "    #    core.scoring.func.CircularHarmonicFunc(pose.beta(2)*np.pi/180., 0.25)))\n",
    "    #pose.add_constraint(\n",
    "    #    core.scoring.constraints.DihedralConstraint(AtomID(4,2), AtomID(5,2), AtomID(6,2), AtomID(8,2),\n",
    "    #    core.scoring.func.CircularHarmonicFunc(pose.gamma(2)*np.pi/180., 0.25)))\n",
    "\n",
    "    return pose"
   ]
  },
  {
   "cell_type": "code",
   "execution_count": 875,
   "metadata": {},
   "outputs": [],
   "source": [
    "def MC_minimization(pose, scorefxn, dof_dict, torsion_list):\n",
    "    \n",
    "    import random\n",
    "    mc = MonteCarlo(pose, scorefxn, 0.5)\n",
    "    \n",
    "    for i in range(100):\n",
    "\n",
    "        dof = random.randint(0, 6)\n",
    "        new_dof = random.uniform(torsion_list[dof] - 30.0, torsion_list[dof] + 30.0)\n",
    "        pose.set_torsion(dof_dict[dof], new_dof)\n",
    "        mc.boltzmann(pose)\n",
    "    \n",
    "    return pose\n",
    "    "
   ]
  },
  {
   "cell_type": "code",
   "execution_count": 880,
   "metadata": {},
   "outputs": [],
   "source": [
    "seq = 'gc'\n",
    "\n",
    "# Pucker and orientation of terminal base\n",
    "pucker = 'north'\n",
    "orientation = 'anti'\n",
    "\n",
    "n = len(seq)\n",
    "Z_harm_list = np.array([])\n",
    "mu_list = np.array([])\n",
    "pmm = PyMOLMover()\n",
    "pmm.keep_history(True)\n",
    "dof_lists = []\n",
    "E_list = np.array([])\n",
    "E_min = 0\n",
    "pose_min = Pose()\n",
    "dofs_min = []"
   ]
  },
  {
   "cell_type": "code",
   "execution_count": 881,
   "metadata": {
    "scrolled": true
   },
   "outputs": [
    {
     "name": "stdout",
     "output_type": "stream",
     "text": [
      "9.848868854115644 0.5200484984257436 9.19503564856\n",
      "4.608574068735531 0.010675649646736098 0.0687842038535\n",
      "9.975908558392176 0.00073130349178073 2.75522654745\n",
      "-0.7780401352753685 0.0003919469466235811 -8.62242420285\n",
      "12.221406278614516 0.08811449229538156 9.79228801729\n",
      "6.153738234593439 0.0002687989768593236 -2.06780852106\n",
      "10.438021753693496 2.6527536411515076 11.4136199641\n",
      "10.339209326498063 0.11889628531622447 8.20970560864\n",
      "4.360869791377924 0.3087246207597715 3.18556419699\n",
      "9.530949492400921 2.684351000525767 10.5183884781\n",
      "9.288849487881507 0.14200802740526056 7.33697779593\n",
      "3.4621246385519835 0.3096810788297079 2.28991234953\n",
      "11.956831392521677 2.390872152809242 12.8284896094\n",
      "11.944213537829619 0.08550684327627212 9.48505466991\n",
      "5.8904776559378424 0.27520949660026545 4.60025499041\n",
      "16.625213635098127 0.0580718162567719 13.779138812\n",
      "9.820251112895551 0.013952209652994943 5.5481337277\n",
      "16.742046219744832 0.013416017394279146 12.4307402618\n",
      "9.917870979411573 0.003304963362373529 4.20554108816\n",
      "14.910206787762146 0.0010339994747248127 8.03588577686\n",
      "17.896965578882494 0.010818186454364343 13.3704389488\n",
      "11.473571987599836 0.011112576918671757 6.97389423125\n",
      "16.536899705525745 0.379644590971121 15.5683799547\n",
      "9.742871081356007 0.09030137309924297 7.33826846865\n",
      "15.732292226230992 0.34852490144716325 14.6782466281\n",
      "8.925226388126893 0.0839851499872125 6.44811110649\n",
      "18.080014748888253 0.33437372539568133 16.9845187756\n",
      "11.341063897272097 0.07527186583289146 8.75441505556\n",
      "10.805962886307855 0.02241246266501581 7.00782478044\n",
      "10.85050590144461 0.6494371104305365 10.4188566262\n",
      "4.7148917973230375 0.07824400568398136 2.16696874015\n",
      "9.951050881953897 0.9592495576741794 9.90944687098\n",
      "9.49244171215088 0.06801802961313455 6.80445924457\n",
      "3.5646350528507162 0.1511636666094717 1.67524290854\n",
      "11.21511966732993 1.7619070854384602 11.781516461\n",
      "10.196813210315174 0.22632108216935914 8.7110126399\n",
      "\n",
      "6.994539340448094 0.004709726069454826 1.63641380845\n",
      "\n",
      "13.441473026030899 0.000610608146095938 6.04041788941\n",
      "\n",
      "11.028028964773572 0.00018732572746537896 2.44536736649\n",
      "5.309107213307026 0.02219700763958024 1.50130942311\n",
      "11.541462766464168 0.0004928854275358665 3.92622895703\n",
      "3.4805288990125 0.13279471670271767 1.46157807242\n",
      "10.649271752479299 2.881799517447969 11.7076866839\n",
      "4.6981789335349635 0.2966363941905345 3.48293078135\n",
      "15.388695662016568 1.2759692456891774 15.6324017445\n",
      "8.572532118121758 0.3105499127142212 7.40312147708\n",
      "15.224842589139916 0.7417840823097254 14.9261455168\n",
      "8.416139927444455 0.17907160948645046 6.6961704273\n",
      "16.495616136264463 1.3624647593812695 16.8049115188\n",
      "9.690627281843314 0.3244912592444894 8.56513060257\n",
      "21.983207641028777 0.0016327538391115275 15.5657204232\n",
      "\n",
      "13.884322173042953 0.00011376777472879003 4.80297092205\n",
      "19.718551361633807 0.005150988033265828 14.44998463\n",
      "12.048167542668876 0.0029212005160580315 6.21240693111\n",
      "18.752075433554836 0.18774848573834518 17.0794233799\n",
      "11.994532153386226 0.043179595331946985 8.85214492779\n",
      "17.344570158954213 0.00039226460845032476 9.50099623461\n",
      "\n",
      "16.239533338175615 0.03333791872466749 12.8384735088\n",
      "9.397520848017724 0.005567471015099571 4.20670648308\n",
      "12.365723234053817 0.0005106625979299793 4.78592177019\n",
      "1.9363638364829336 0.0008019219482821309 -5.19213543969\n",
      "12.427080131462395 0.011270545989962215 7.94151762567\n",
      "1.606869866472091 0.000686387845662024 -5.67719785084\n",
      "10.719351316701552 2.31653577131055 11.5594241844\n",
      "10.787530607138121 0.08477028752207685 8.31972042656\n",
      "6.491784809288729 0.019331937954363155 2.54578807481\n",
      "11.73323220833533 0.011986153556881457 7.30922904266\n",
      "4.31376789189455 0.2944145584941594 3.09100144995\n",
      "10.864761461951721 0.00030244703693496606 2.76115708162\n",
      "3.8578915578324606 0.0011710756600321658 -2.89194102715\n",
      "11.42876695799958 2.574669810148863 12.3744882548\n",
      "5.78221227978986 0.2292680305726002 4.30934875911\n",
      "19.478523893103585 0.00213126775572934 13.3274856073\n",
      "16.414216262268816 0.010949806377923817 11.899782757\n",
      "10.18439181026634 0.009470168031453752 5.52478318188\n",
      "18.18881685648685 0.00869181410828399 13.4434432531\n",
      "9.721842971299605 0.010971283816707303 5.20936898954\n",
      "18.03262095985402 0.10886436244303155 15.814968407\n",
      "11.161567096550442 0.027975810060449375 7.58515202793\n",
      "10.380917572002833 0.031182416821243997 6.91301666555\n",
      "17.984119039236887 0.20644652033696104 16.4064051577\n",
      "11.101722373968604 0.05361599325319054 8.17581450015\n",
      "15.813510453414322 0.4373626827788548 14.986517963\n",
      "\n",
      "12.44005994118341 0.0007964871307195457 5.30476035515\n",
      "\n",
      "7.3312177993231815 0.0009815163877093095 0.404805951532\n",
      "\n",
      "11.162860090080871 0.00020227925365875758 2.65699871868\n",
      "\n",
      "7.432096145804151 0.011316961753575367 2.95064350725\n",
      "\n",
      "5.3868618722427755 0.0015652198462867194 -1.07286711575\n",
      "\n",
      "\n",
      "11.771025845498542 1140321.7105060853 25.7178468283\n",
      "\n",
      "\n",
      "3.3080341058432428 0.2811536147542997 2.03918001855\n",
      "6.311297026343521 0.3128908082692164 5.14939602167\n",
      "7.904247983035935 0.003310356288868423 2.19354852779\n",
      "\n",
      "8.714602055183262 0.00022469073251350628 0.313816431739\n",
      "16.589058080441767 0.0011348112380117712 9.80776912844\n",
      "\n",
      "12.083482736759088 0.0005083592703799133 4.49916060156\n"
     ]
    },
    {
     "data": {
      "text/plain": [
       "'\\n# South, anti\\npose.set_torsion(TorsionID(1, BB, 4), 145.4)\\npose.set_torsion(TorsionID(1, BB, 5), -97.4)\\npose.set_torsion(TorsionID(1, CHI, 1), -56.6)\\npose.set_torsion(TorsionID(1, CHI, 2), -37.2)\\npose.set_torsion(TorsionID(1, CHI, 3), 155.5)\\npose.set_torsion(TorsionID(2, BB, 1), 66.7)\\npose.set_torsion(TorsionID(2, BB, 3), -62.9)\\npose.set_torsion(TorsionID(2, BB, 4), 145.4)\\npose.set_torsion(TorsionID(2, CHI, 1), -56.6)\\npose.set_torsion(TorsionID(2, CHI, 2), -37.2)\\npose.set_torsion(TorsionID(2, CHI, 3), 155.5)\\n'"
      ]
     },
     "execution_count": 881,
     "metadata": {},
     "output_type": "execute_result"
    }
   ],
   "source": [
    "# Code for any dinucleotide \n",
    "for delta in [81.195, 145.521]:\n",
    "    \n",
    "    for alpha in [-64.3, 66.7, 156.6]:\n",
    "        \n",
    "        pose, movemap, dof_dict = initialiize_pose(seq)\n",
    "        \n",
    "        pose.set_torsion(TorsionID(1, BB, 4), delta)\n",
    "    \n",
    "        if delta == 81.195:\n",
    "\n",
    "            if seq[0] in 'ga': possible_chi = [-110.9, -51.9, 72.4]\n",
    "            else: possible_chi = [-105.7, -47.2, 77.3]\n",
    "                    \n",
    "            possible_eps = [-150.4, 16.8, 76.2]\n",
    "\n",
    "        #C2'-endo\n",
    "        else:\n",
    "\n",
    "            if seq[0] in 'ga': possible_chi = [-56.6, 119.0]\n",
    "            else: possible_chi =[-65, 108]\n",
    "                \n",
    "            possible_eps = [-97.4, 0, 75.2]\n",
    "            \n",
    "            pose.set_torsion(TorsionID(1, CHI, 2), -34.825)\n",
    "            pose.set_torsion(TorsionID(1, CHI, 3), 155.987)\n",
    "                \n",
    "        #if pucker == 'north':\n",
    "        \n",
    "            #pose.set_torsion(TorsionID(2, BB, 4), 81.195)\n",
    "            #pose.set_torsion(TorsionID(2, CHI, 2), 35.870)\n",
    "            #pose.set_torsion(TorsionID(2, CHI, 3), 94.856)\n",
    "            \n",
    "        if pucker == 'south':\n",
    "        \n",
    "            # These will set the terminal base pair to C2'-endo (south)\n",
    "            pose.set_torsion(TorsionID(2, BB, 4), 145.521)\n",
    "            pose.set_torsion(TorsionID(2, CHI, 2), -34.79)\n",
    "            pose.set_torsion(TorsionID(2, CHI, 3), 156.00)\n",
    "\n",
    "        if alpha == -64.3: possible_zeta = [-71.8, 167.55]\n",
    "        elif alpha == 66.7: possible_zeta = [-131.6, 79.0]\n",
    "        else: possible_zeta = [-69.5, 56.5]\n",
    "        \n",
    "        possible_chi_2 = chi_minima(seq[-1], pucker, orientation)\n",
    "        torsion_lists = itertools.product(possible_eps, possible_zeta, [alpha], [177.3], [175.8, 53.5, -62.9], possible_chi, \n",
    "                                          possible_chi_2)\n",
    "        \n",
    "        \n",
    "        \n",
    "        for torsion_list in list(torsion_lists):\n",
    "            \n",
    "            pose.set_torsion(TorsionID(1, BB, 5), torsion_list[0])\n",
    "            pose.set_torsion(TorsionID(1, BB, 6), torsion_list[1])\n",
    "            pose.set_torsion(TorsionID(2, BB, 1), torsion_list[2])\n",
    "            pose.set_torsion(TorsionID(2, BB, 2), torsion_list[3])\n",
    "            pose.set_torsion(TorsionID(2, BB, 3), torsion_list[4])\n",
    "            pose.set_torsion(TorsionID(1, CHI, 1), torsion_list[5])\n",
    "            pose.set_torsion(TorsionID(2, CHI, 1), torsion_list[6])\n",
    "\n",
    "            pmm.apply(pose)\n",
    "            \n",
    "            pose = add_constraints(pose)\n",
    "            \n",
    "            pose = MC_minimization(pose, scorefxn, dof_dict, torsion_list)\n",
    "            \n",
    "            minmover = rosetta.protocols.minimization_packing.MinMover(\n",
    "                movemap, scorefxn, 'dfpmin_armijo_nonmonotone', 1.0e-7, True)\n",
    "            minmover.max_iter(1000000)\n",
    "            minmover.min_options().use_nblist(True)\n",
    "            minmover.min_options().nblist_auto_update(True)\n",
    "            minmover.apply(pose)\n",
    "\n",
    "            pmm.apply(pose)\n",
    "            E_min = scorefxn(pose)\n",
    "            \n",
    "            minimum = Pose()\n",
    "            minimum.assign(pose)\n",
    "\n",
    "            dofs = []\n",
    "\n",
    "            for val in dof_dict.itervalues(): dofs.append(pose.torsion(val))\n",
    "            dofs = np.array(dofs)\n",
    "\n",
    "\n",
    "            if is_repeat_minimum(dofs, dof_lists): continue\n",
    "        \n",
    "            dof_lists.append(dofs)\n",
    "                    \n",
    "            hessian = calculate_hessian(pose, scorefxn, dof_dict)\n",
    "            w,v = scipy.linalg.eigh(hessian)\n",
    "\n",
    "            if not np.all(w > 0.):\n",
    "                continue\n",
    "\n",
    "            E_list = np.append(E_list, E_min)\n",
    "            \n",
    "            Z = 1.0\n",
    "            Z_harm = np.sqrt((2*np.pi)**len(w)/scipy.linalg.det(hessian)) \n",
    "            \n",
    "            for kk, K in enumerate(w):\n",
    "\n",
    "                fuck = mode_scan(pose, dofs, dof_dict, scorefxn, v[:, kk])\n",
    "                \n",
    "                if fuck == 1.0: break\n",
    "                    \n",
    "                Z *= fuck\n",
    "\n",
    "            if kk < 6:\n",
    "                \n",
    "                dof_lists.pop()\n",
    "                E_lists = np.delete(E_list, -1)\n",
    "                E_min = 0\n",
    "                \n",
    "                continue\n",
    "            \n",
    "            if np.all(E_list >= E_min):\n",
    "                \n",
    "                pose_min.assign(minimum)\n",
    "                dofs_min = dofs\n",
    "                \n",
    "            #Z_list = np.append(Z_list, np.exp(-scorefxn(minimum)/0.6163)*Z )\n",
    "            Z_harm_list = np.append(Z_harm_list, np.exp(-scorefxn(minimum))*Z_harm)\n",
    "            mu_list = np.append(mu_list, scorefxn(minimum) - np.log(Z))\n",
    "            print scorefxn(minimum) - np.log(Z), Z, scorefxn(minimum)\n",
    "            #print -0.6163*np.log(np.sum(np.exp(-mu_list/0.6163))), scorefxn(minimum), np.exp(-(scorefxn(minimum) - np.log(Z))/0.6163)\n",
    "\n",
    "'''\n",
    "# South, anti\n",
    "pose.set_torsion(TorsionID(1, BB, 4), 145.4)\n",
    "pose.set_torsion(TorsionID(1, BB, 5), -97.4)\n",
    "pose.set_torsion(TorsionID(1, CHI, 1), -56.6)\n",
    "pose.set_torsion(TorsionID(1, CHI, 2), -37.2)\n",
    "pose.set_torsion(TorsionID(1, CHI, 3), 155.5)\n",
    "pose.set_torsion(TorsionID(2, BB, 1), 66.7)\n",
    "pose.set_torsion(TorsionID(2, BB, 3), -62.9)\n",
    "pose.set_torsion(TorsionID(2, BB, 4), 145.4)\n",
    "pose.set_torsion(TorsionID(2, CHI, 1), -56.6)\n",
    "pose.set_torsion(TorsionID(2, CHI, 2), -37.2)\n",
    "pose.set_torsion(TorsionID(2, CHI, 3), 155.5)\n",
    "'''"
   ]
  },
  {
   "cell_type": "code",
   "execution_count": 882,
   "metadata": {
    "scrolled": true
   },
   "outputs": [
    {
     "name": "stdout",
     "output_type": "stream",
     "text": [
      "-0.6233583213728926\n",
      "-0.5653629766764225\n",
      "inf\n",
      "inf\n",
      "0.0\n",
      "0.0\n",
      "0\n",
      "inf\n",
      "2.50265027050891\n",
      "0.0\n",
      "[2.68542595e-06 8.12835268e-04 3.07485112e-05 2.17630655e+00\n",
      " 5.81795317e-07 1.56878736e-03 6.08331018e-07 1.54833440e-05\n",
      " 3.45237343e-03 1.63556166e-06 2.48179736e-05 7.78516788e-03\n",
      " 1.58282034e-07 3.22993587e-06 8.82274059e-04 1.17682269e-08\n",
      " 5.45338206e-05 9.48440888e-09 4.36463268e-05 1.86221625e-07\n",
      " 1.62774767e-08 1.01976309e-05 4.59205217e-09 2.13352306e-05\n",
      " 9.54311923e-09 4.43212671e-05 1.17173437e-09 5.49699091e-06\n",
      " 1.18776180e-05 1.92979226e-06 1.11935807e-02 4.63828614e-06\n",
      " 3.89481254e-05 3.74105828e-02 9.23550562e-07 6.05511680e-06\n",
      " 2.27515244e-04 1.71066753e-06 1.67378595e-05 1.10016928e-03\n",
      " 1.27054381e-05 1.38252159e-02 8.13552123e-07 3.11901603e-03\n",
      " 8.61394635e-09 4.21185360e-05 1.32963878e-08 5.81493777e-05\n",
      " 3.12674337e-09 1.36715599e-05 1.42503318e-10 7.02985070e-07\n",
      " 8.58303193e-10 4.29202545e-06 4.77784231e-10 2.28619541e-06\n",
      " 2.47159824e-08 3.38526693e-08 1.07347005e-04 1.24716725e-06\n",
      " 8.79065966e-02 5.11245920e-06 1.00277337e-01 5.07849463e-07\n",
      " 1.18198268e-05 1.07440760e-03 2.67658921e-06 6.16474357e-03\n",
      " 1.47967589e-05 2.91000342e-02 2.56006050e-07 1.13744735e-03\n",
      " 1.23834643e-09 6.16982183e-08 4.85222438e-05 6.54476669e-09\n",
      " 5.21208305e-05 2.74850646e-09 1.28485945e-05 2.40798858e-05\n",
      " 1.65738325e-09 8.44154307e-06 6.33507727e-09 3.51673915e-06\n",
      " 4.73353840e-04 1.59929006e-05 2.27783459e-04 4.39915624e-03\n",
      " 2.96032471e-15 1.25858410e-02 3.52995530e-04 2.52095377e-04\n",
      " 2.22492061e-04 3.50185623e-08 5.14983066e-06]\n"
     ]
    },
    {
     "name": "stderr",
     "output_type": "stream",
     "text": [
      "/home/maa/.local/lib/python2.7/site-packages/ipykernel_launcher.py:5: RuntimeWarning: divide by zero encountered in log\n",
      "  \"\"\"\n",
      "/home/maa/.local/lib/python2.7/site-packages/ipykernel_launcher.py:6: RuntimeWarning: divide by zero encountered in log\n",
      "  \n",
      "/home/maa/.local/lib/python2.7/site-packages/ipykernel_launcher.py:10: RuntimeWarning: divide by zero encountered in log\n",
      "  # Remove the CWD from sys.path while we load stuff.\n"
     ]
    }
   ],
   "source": [
    "import scipy.special\n",
    "print 0.6163*(-scipy.special.logsumexp(-mu_list[:]))\n",
    "print -0.6163*np.log(np.sum(Z_harm_list))\n",
    "fuck = Z_list*(2*np.pi/3)**7\n",
    "print -0.6163*np.log(np.sum(fuck))\n",
    "print -0.6163*np.log(np.sum(Z_list)) \n",
    "print np.sum(Z_list)\n",
    "print np.sum(Z_list*(2*np.pi/3)**7)\n",
    "print len(Z_list)\n",
    "print -0.6163*np.log(np.sum(Z_list))\n",
    "print np.sum(Z_harm_list)\n",
    "print np.sum(Z_list) \n",
    "print Z_harm_list"
   ]
  },
  {
   "cell_type": "code",
   "execution_count": 883,
   "metadata": {
    "scrolled": true
   },
   "outputs": [
    {
     "name": "stdout",
     "output_type": "stream",
     "text": [
      "-0.623358321372893\n",
      "north anti\n"
     ]
    }
   ],
   "source": [
    "#hist = plt.hist(E_list,bins=9000,range=(-100,800))\n",
    "print -0.6163*np.log(np.sum(np.exp(-mu_list)))\n",
    "\n",
    "print pucker, orientation"
   ]
  },
  {
   "cell_type": "code",
   "execution_count": 827,
   "metadata": {},
   "outputs": [
    {
     "name": "stdout",
     "output_type": "stream",
     "text": [
      "-6.532844149973429\n",
      "Inferring sequence from directory name:  gg\n",
      "applying phase space volume for single strand with length  2\n"
     ]
    },
    {
     "ename": "NameError",
     "evalue": "name 'hist' is not defined",
     "output_type": "error",
     "traceback": [
      "\u001b[0;31m---------------------------------------------------------------------------\u001b[0m",
      "\u001b[0;31mNameError\u001b[0m                                 Traceback (most recent call last)",
      "\u001b[0;32m<ipython-input-827-a0c23b52d02e>\u001b[0m in \u001b[0;36m<module>\u001b[0;34m()\u001b[0m\n\u001b[1;32m      4\u001b[0m \u001b[0;32mprint\u001b[0m \u001b[0mmin\u001b[0m\u001b[0;34m(\u001b[0m\u001b[0mE_list\u001b[0m\u001b[0;34m)\u001b[0m\u001b[0;34m\u001b[0m\u001b[0m\n\u001b[1;32m      5\u001b[0m \u001b[0msim\u001b[0m \u001b[0;34m=\u001b[0m \u001b[0mSingleHistSimulation\u001b[0m\u001b[0;34m(\u001b[0m\u001b[0;34m'./../recces_rosetta/results/gg/ST/'\u001b[0m\u001b[0;34m)\u001b[0m\u001b[0;34m\u001b[0m\u001b[0m\n\u001b[0;32m----> 6\u001b[0;31m \u001b[0mplt\u001b[0m\u001b[0;34m.\u001b[0m\u001b[0mplot\u001b[0m\u001b[0;34m(\u001b[0m\u001b[0mhist\u001b[0m\u001b[0;34m[\u001b[0m\u001b[0;36m1\u001b[0m\u001b[0;34m]\u001b[0m\u001b[0;34m[\u001b[0m\u001b[0;36m500\u001b[0m\u001b[0;34m:\u001b[0m\u001b[0;36m1500\u001b[0m\u001b[0;34m]\u001b[0m\u001b[0;34m,\u001b[0m \u001b[0mhist\u001b[0m\u001b[0;34m[\u001b[0m\u001b[0;36m0\u001b[0m\u001b[0;34m]\u001b[0m\u001b[0;34m[\u001b[0m\u001b[0;36m500\u001b[0m\u001b[0;34m:\u001b[0m\u001b[0;36m1500\u001b[0m\u001b[0;34m]\u001b[0m\u001b[0;34m*\u001b[0m\u001b[0;36m100\u001b[0m\u001b[0;34m)\u001b[0m\u001b[0;31m#*np.exp(-hist[1][500:1500])/75)\u001b[0m\u001b[0;34m\u001b[0m\u001b[0m\n\u001b[0m\u001b[1;32m      7\u001b[0m \u001b[0mplt\u001b[0m\u001b[0;34m.\u001b[0m\u001b[0mplot\u001b[0m\u001b[0;34m(\u001b[0m\u001b[0msim\u001b[0m\u001b[0;34m.\u001b[0m\u001b[0m_dos_scores\u001b[0m\u001b[0;34m[\u001b[0m\u001b[0;36m500\u001b[0m\u001b[0;34m:\u001b[0m\u001b[0;36m1500\u001b[0m\u001b[0;34m]\u001b[0m\u001b[0;34m,\u001b[0m \u001b[0msim\u001b[0m\u001b[0;34m.\u001b[0m\u001b[0m_dos\u001b[0m\u001b[0;34m[\u001b[0m\u001b[0;36m500\u001b[0m\u001b[0;34m:\u001b[0m\u001b[0;36m1500\u001b[0m\u001b[0;34m]\u001b[0m\u001b[0;34m)\u001b[0m\u001b[0;31m#*np.exp(-sim._dos_scores[500:1500]))\u001b[0m\u001b[0;34m\u001b[0m\u001b[0m\n",
      "\u001b[0;31mNameError\u001b[0m: name 'hist' is not defined"
     ]
    }
   ],
   "source": [
    "from scipy.special import logsumexp\n",
    "from recces.data import SingleHistSimulation\n",
    "from recces.util import torsion_volume\n",
    "print min(E_list)\n",
    "sim = SingleHistSimulation('./../recces_rosetta/results/gg/ST/')\n",
    "plt.plot(hist[1][500:1500], hist[0][500:1500]*100)#*np.exp(-hist[1][500:1500])/75)\n",
    "plt.plot(sim._dos_scores[500:1500], sim._dos[500:1500])#*np.exp(-sim._dos_scores[500:1500]))"
   ]
  },
  {
   "cell_type": "code",
   "execution_count": null,
   "metadata": {
    "scrolled": false
   },
   "outputs": [],
   "source": [
    "'''this code will assay the normal modes, plotting the corresponding boltzmann weights for both the harmonic approximation\n",
    "and scanned modes'''\n",
    "\n",
    "\n",
    "pose.assign(pose_min)\n",
    "print pose_min\n",
    "print scorefxn(pose)\n",
    "\n",
    "hessian = calculate_hessian(pose, scorefxn, dof_dict)\n",
    "\n",
    "dofs = []\n",
    "configuration_integral = 1.0\n",
    "\n",
    "for val in dof_dict.itervalues(): dofs.append(pose.torsion(val))\n",
    "dofs = np.array(dofs)\n",
    " \n",
    "w, v = scipy.linalg.eigh(hessian)\n",
    "\n",
    "import scipy.integrate\n",
    "\n",
    "E_min = scorefxn(pose)\n",
    "kT = 1.0\n",
    "fig = plt.figure()\n",
    "for kk, K in enumerate(w):\n",
    " \n",
    "    mode = v[:,kk]\n",
    "    h = np.arange(-60,61,1)\n",
    "    h_plot = h*np.pi/180.0\n",
    "\n",
    "    bar = []\n",
    "\n",
    "\n",
    "    for hh in h:\n",
    "\n",
    "        dofs_new = dofs+hh*mode\n",
    "\n",
    "        for jj, dof in enumerate(dofs_new):\n",
    "\n",
    "            pose.set_torsion(dof_dict[jj], dof)\n",
    "\n",
    "        pmm.apply(pose)\n",
    "        bar.append((scorefxn(pose)-E_min)/kT)\n",
    "        \n",
    "\n",
    "    np.array(bar) \n",
    "    configuration_integral *= np.trapz(np.exp(-np.array(bar)), x=h_plot[:])\n",
    "    print np.trapz(np.exp(-np.array(bar)), x=h_plot[:])\n",
    "    pose.assign(pose_min)\n",
    "    #plt.subplot(10,5, kk+1)\n",
    "    plt.figure()\n",
    "    plt.plot(h, np.exp(-np.array(bar)))\n",
    "    plt.plot(h, np.exp(-0.5*K*h_plot**2/kT))\n",
    "    #plt.xticks([])\n",
    "    #plt.yticks([])\n",
    "    #plt.xlabel('Displacement along normal coordinate (degrees)')\n",
    "    #plt.ylabel('exp(-(E-E0)/kT)')\n"
   ]
  },
  {
   "cell_type": "code",
   "execution_count": 325,
   "metadata": {},
   "outputs": [
    {
     "name": "stdout",
     "output_type": "stream",
     "text": [
      "-4.42531654399566\n",
      "0.00021986977826110677\n",
      "-4.42531654399566\n",
      "-2.7323508653852295\n",
      "-4.42531654399566\n",
      "-1.1936128466449976\n",
      "6.936102206922783\n",
      "\n"
     ]
    }
   ],
   "source": [
    "print scorefxn(pose_min) - 0.6163*np.log(configuration_integral)\n",
    "print configuration_integral\n",
    "print -0.6163*np.log(np.exp(-scorefxn(pose_min)/0.6163)*configuration_integral) \n",
    "print -0.6163*scipy.special.logsumexp(-mu_list)\n",
    "print -0.6163*np.log(np.exp(-scorefxn(pose_min)/0.6163)*configuration_integral)\n",
    "print scorefxn(pose_min) - np.log(configuration_integral)\n",
    "print (np.exp(-(scorefxn(pose_min)-np.log(configuration_integral))/0.6163))\n",
    "print"
   ]
  },
  {
   "cell_type": "code",
   "execution_count": 442,
   "metadata": {},
   "outputs": [
    {
     "name": "stdout",
     "output_type": "stream",
     "text": [
      "\n",
      "-9.62295504174\n"
     ]
    }
   ],
   "source": [
    "pose = pose_from_file('./../gg_fuck.pdb')\n",
    "huh = pose\n",
    "minmover.apply(pose)\n",
    "pmm.apply(pose)\n",
    "hessian = calculate_hessian(pose_min, scorefxn, dof_dict)\n",
    "print scorefxn(huh)\n",
    "dofs = []\n",
    "for val in dof_dict.itervalues(): dofs.append(pose.torsion(val))\n",
    "dofs = np.array(dofs)"
   ]
  },
  {
   "cell_type": "code",
   "execution_count": 38,
   "metadata": {},
   "outputs": [
    {
     "ename": "NameError",
     "evalue": "name 'huh' is not defined",
     "output_type": "error",
     "traceback": [
      "\u001b[0;31m---------------------------------------------------------------------------\u001b[0m",
      "\u001b[0;31mNameError\u001b[0m                                 Traceback (most recent call last)",
      "\u001b[0;32m<ipython-input-38-e1d03163f529>\u001b[0m in \u001b[0;36m<module>\u001b[0;34m()\u001b[0m\n\u001b[1;32m      1\u001b[0m \u001b[0mw\u001b[0m\u001b[0;34m,\u001b[0m \u001b[0mv\u001b[0m \u001b[0;34m=\u001b[0m \u001b[0mscipy\u001b[0m\u001b[0;34m.\u001b[0m\u001b[0mlinalg\u001b[0m\u001b[0;34m.\u001b[0m\u001b[0meigh\u001b[0m\u001b[0;34m(\u001b[0m\u001b[0mhessian\u001b[0m\u001b[0;34m)\u001b[0m\u001b[0;34m\u001b[0m\u001b[0m\n\u001b[1;32m      2\u001b[0m \u001b[0mobs\u001b[0m \u001b[0;34m=\u001b[0m \u001b[0mprotocols\u001b[0m\u001b[0;34m.\u001b[0m\u001b[0mmoves\u001b[0m\u001b[0;34m.\u001b[0m\u001b[0mAddPyMOLObserver\u001b[0m\u001b[0;34m(\u001b[0m\u001b[0mpose\u001b[0m\u001b[0;34m,\u001b[0m \u001b[0mTrue\u001b[0m\u001b[0;34m)\u001b[0m\u001b[0;34m\u001b[0m\u001b[0m\n\u001b[0;32m----> 3\u001b[0;31m \u001b[0mpose\u001b[0m\u001b[0;34m.\u001b[0m\u001b[0massign\u001b[0m\u001b[0;34m(\u001b[0m\u001b[0mhuh\u001b[0m\u001b[0;34m)\u001b[0m\u001b[0;34m\u001b[0m\u001b[0m\n\u001b[0m\u001b[1;32m      4\u001b[0m \u001b[0mE_min\u001b[0m \u001b[0;34m=\u001b[0m \u001b[0mscorefxn\u001b[0m\u001b[0;34m(\u001b[0m\u001b[0mhuh\u001b[0m\u001b[0;34m)\u001b[0m\u001b[0;34m\u001b[0m\u001b[0m\n\u001b[1;32m      5\u001b[0m \u001b[0;32mprint\u001b[0m \u001b[0mE_min\u001b[0m\u001b[0;34m\u001b[0m\u001b[0m\n",
      "\u001b[0;31mNameError\u001b[0m: name 'huh' is not defined"
     ]
    }
   ],
   "source": [
    "w, v = scipy.linalg.eigh(hessian)\n",
    "obs = protocols.moves.AddPyMOLObserver(pose, True)\n",
    "pose.assign(huh)\n",
    "E_min = scorefxn(huh)\n",
    "print E_min"
   ]
  },
  {
   "cell_type": "code",
   "execution_count": null,
   "metadata": {},
   "outputs": [],
   "source": [
    "print scorefxn(huh)- 0.5*len(w)*np.log(2*np.pi) + 0.5*np.log(scipy.linalg.det(hessian))"
   ]
  },
  {
   "cell_type": "code",
   "execution_count": null,
   "metadata": {
    "scrolled": true
   },
   "outputs": [],
   "source": [
    "import scipy.integrate\n",
    "\n",
    "Z = 1\n",
    "\n",
    "pose.assign(pose_min)\n",
    "#E_min = scorefxn(minimum)\n",
    "kT = 1.0\n",
    "for kk in range(len(w)):\n",
    " \n",
    "    mode = v[:,kk]\n",
    "    h = np.arange(-30,31,1)\n",
    "    #fuck = h[:-1]\n",
    "    #fuck.reverse()\n",
    "    #h = h+fuck\n",
    "    #h = np.array(h)\n",
    "    h_plot = h*np.pi/180\n",
    "\n",
    "    bar = []\n",
    "\n",
    "\n",
    "    for hh in h:\n",
    "\n",
    "        dofs_new = dofs+hh*mode\n",
    "\n",
    "        for jj, dof in enumerate(dofs_new):\n",
    "\n",
    "            pose.set_torsion(dof_dict[jj], dof)\n",
    "\n",
    "        bar.append((scorefxn(pose)-E_min)/kT)\n",
    "\n",
    "    \n",
    "    Z *= np.trapz(np.exp(-np.array(bar)), dx = np.pi/180.)\n",
    "    np.array(bar) \n",
    "    pose.assign(minimum)\n",
    "    plt.figure()\n",
    "    #plt.subplot(3, 4, kk+1)\n",
    "    plt.plot(h, np.exp(-np.array(bar)))\n",
    "   # plt.plot(h, np.exp(-0.5*w[kk]*h_plot**2/kT))\n",
    "    plt.xlabel('Displacement along normal coordinate (degrees)')\n",
    "    plt.ylabel('exp(-(E-E0)/kT)')"
   ]
  },
  {
   "cell_type": "code",
   "execution_count": null,
   "metadata": {
    "scrolled": true
   },
   "outputs": [],
   "source": [
    "print scorefxn(huh) - np.log(Z)"
   ]
  },
  {
   "cell_type": "code",
   "execution_count": null,
   "metadata": {},
   "outputs": [],
   "source": [
    "print min(E_list)"
   ]
  },
  {
   "cell_type": "code",
   "execution_count": null,
   "metadata": {},
   "outputs": [],
   "source": [
    "print pose.epsilon(1)"
   ]
  },
  {
   "cell_type": "code",
   "execution_count": null,
   "metadata": {},
   "outputs": [],
   "source": [
    "pose = protocols.recces.pose_setup_turner('g','')\n",
    "print pose.epsilon(1)"
   ]
  },
  {
   "cell_type": "code",
   "execution_count": null,
   "metadata": {},
   "outputs": [],
   "source": [
    "minmover.tolerance(1e-7)\n",
    "minmover.max_iter(100000)\n",
    "minmover.apply(pose)\n"
   ]
  },
  {
   "cell_type": "code",
   "execution_count": null,
   "metadata": {},
   "outputs": [],
   "source": [
    "print dof_lists"
   ]
  },
  {
   "cell_type": "code",
   "execution_count": null,
   "metadata": {},
   "outputs": [],
   "source": [
    "print dof_dict\n",
    "from scipy.special import gamma\n",
    "from scipy.special import logsumexp\n",
    "south_syn_min.assign(pose_min)\n",
    "print scorefxn(pose_min)"
   ]
  },
  {
   "cell_type": "code",
   "execution_count": null,
   "metadata": {},
   "outputs": [],
   "source": [
    "hessian_ss = calculate_hessian(south_anti_min, scorefxn, dof_dict)\n",
    "print np.linalg.det(hessian)"
   ]
  },
  {
   "cell_type": "code",
   "execution_count": null,
   "metadata": {},
   "outputs": [],
   "source": [
    "print scorefxn(pose_min) + 0.5*np.log(np.linalg.det(hessian)) - 3.5*np.log(2*np.pi)\n",
    "E_min = scorefxn(pose_min)\n",
    "E_min_na = scorefxn(north_anti_min)\n",
    "E_min_ns = scorefxn(north_syn_min)\n",
    "E_min_sa = scorefxn(south_anti_min)\n",
    "E_min_ss = scorefxn(south_syn_min)\n",
    "print E_min_na, E_min_ns, E_min_sa, E_min_ss\n"
   ]
  },
  {
   "cell_type": "code",
   "execution_count": null,
   "metadata": {},
   "outputs": [],
   "source": [
    "matt_guess = lambda E: (2.0*np.pi)**(len(w)/2)*(E-E_min)**(len(w)/2 - 1)/gamma(len(w)/2)/np.sqrt(np.linalg.det(hessian))*np.heaviside(E-E_min, 0.5)#2*(2*np.pi)**((len(w)-1)/2)*(2*(E-E_min))**(len(w)/2-1)/scipy.misc.factorial2(len(w)-2)/np.sqrt(np.linalg.det(hessian))*np.heaviside(E-E_min,0.5)\n",
    "matt_guess_na = lambda E: (2.0*np.pi)**(len(w)/2)*(E-E_min_na)**(len(w)/2 - 1)/gamma(len(w)/2)/np.sqrt(np.linalg.det(hessian_na))*np.heaviside(E-E_min_na, 0.5)#2*(2*np.pi)**((len(w)-1)/2)*(2*(E-E_min))**(len(w)/2-1)/scipy.misc.factorial2(len(w)-2)/np.sqrt(np.linalg.det(hessian))*np.heaviside(E-E_min,0.5)\n",
    "matt_guess_ns = lambda E: (2.0*np.pi)**(len(w)/2)*(E-E_min_ns)**(len(w)/2 - 1)/gamma(len(w)/2)/np.sqrt(np.linalg.det(hessian_ns))*np.heaviside(E-E_min_ns, 0.5)#2*(2*np.pi)**((len(w)-1)/2)*(2*(E-E_min))**(len(w)/2-1)/scipy.misc.factorial2(len(w)-2)/np.sqrt(np.linalg.det(hessian))*np.heaviside(E-E_min,0.5)\n",
    "matt_guess_sa = lambda E: (2.0*np.pi)**(len(w)/2)*(E-E_min_sa)**(len(w)/2 - 1)/gamma(len(w)/2)/np.sqrt(np.linalg.det(hessian_sa))*np.heaviside(E-E_min_sa, 0.5)#2*(2*np.pi)**((len(w)-1)/2)*(2*(E-E_min))**(len(w)/2-1)/scipy.misc.factorial2(len(w)-2)/np.sqrt(np.linalg.det(hessian))*np.heaviside(E-E_min,0.5)\n",
    "matt_guess_ss = lambda E: (2.0*np.pi)**(len(w)/2)*(E-E_min_ss)**(len(w)/2 - 1)/gamma(len(w)/2)/np.sqrt(np.linalg.det(hessian_ss))*np.heaviside(E-E_min_ss, 0.5)#2*(2*np.pi)**((len(w)-1)/2)*(2*(E-E_min))**(len(w)/2-1)/scipy.misc.factorial2(len(w)-2)/np.sqrt(np.linalg.det(hessian))*np.heaviside(E-E_min,0.5)"
   ]
  },
  {
   "cell_type": "code",
   "execution_count": null,
   "metadata": {},
   "outputs": [],
   "source": [
    "plt.plot(hist[1][500:1500], matt_guess_na(hist[1][500:1500])*np.exp(-hist[1][500:1500]))\n",
    "plt.plot(hist[1][500:1500], matt_guess_ns(hist[1][500:1500])*np.exp(-hist[1][500:1500]))\n",
    "plt.plot(hist[1][500:1500], matt_guess_sa(hist[1][500:1500])*np.exp(-hist[1][500:1500]))\n",
    "plt.plot(hist[1][500:1500], matt_guess_ss(hist[1][500:1500])*np.exp(-hist[1][500:1500]))\n",
    "plt.plot(sim._dos_scores[500:1500], np.exp(-sim._dos_scores[500:1500])*sim._dos[500:1500])\n",
    "plt.legend(['NA','NS','SA','SS','RECCES'])"
   ]
  },
  {
   "cell_type": "code",
   "execution_count": null,
   "metadata": {},
   "outputs": [],
   "source": [
    "print -0.6163*logsumexp(-hist[1][:], b=matt_guess_na(hist[1][:])) -0.6163*logsumexp(-hist[1][:], b=matt_guess_ns(hist[1][:])) -0.6163*logsumexp(-hist[1][:], b=matt_guess_sa(hist[1][:])) -0.6163*logsumexp(-hist[1][:], b=matt_guess_ss(hist[1][:]))\n"
   ]
  },
  {
   "cell_type": "code",
   "execution_count": null,
   "metadata": {},
   "outputs": [],
   "source": [
    "pose = rosetta.protocols.recces.pose_setup_turner('gg',''"
   ]
  },
  {
   "cell_type": "code",
   "execution_count": null,
   "metadata": {},
   "outputs": [],
   "source": [
    "print pose.torsion(TorsionID(2, BB, 4)), pose.torsion(TorsionID(1, CHI, 2))"
   ]
  },
  {
   "cell_type": "code",
   "execution_count": null,
   "metadata": {},
   "outputs": [],
   "source": [
    "scorefxn(pose)"
   ]
  },
  {
   "cell_type": "code",
   "execution_count": null,
   "metadata": {},
   "outputs": [],
   "source": [
    "print pose"
   ]
  },
  {
   "cell_type": "code",
   "execution_count": null,
   "metadata": {},
   "outputs": [],
   "source": [
    "print pose.alpha(2), pose.beta(2), pose.gamma(2), pose.delta(1), pose.epsilon(1), pose.zeta(1)"
   ]
  },
  {
   "cell_type": "code",
   "execution_count": null,
   "metadata": {
    "scrolled": true
   },
   "outputs": [],
   "source": [
    "huh = pose_from_file('./../recces_rosetta/results/min.pdb')\n",
    "print huh.torsion(TorsionID(1, CHI, 2)), huh.torsion(TorsionID(1, CHI, 3))"
   ]
  },
  {
   "cell_type": "code",
   "execution_count": null,
   "metadata": {},
   "outputs": [],
   "source": [
    "print \n",
    "pmm.apply(huh)\n",
    "print huh.epsilon(1), huh.zeta(1), huh.alpha(2), huh.beta(2), huh.gamma(1), huh.delta(2), huh.chi(1), huh.chi(2)"
   ]
  },
  {
   "cell_type": "code",
   "execution_count": null,
   "metadata": {},
   "outputs": [],
   "source": [
    "print huh.alpha(2), huh.beta(2), huh.gamma(2), huh.epsilon(1), huh.zeta(1)"
   ]
  },
  {
   "cell_type": "code",
   "execution_count": null,
   "metadata": {},
   "outputs": [],
   "source": [
    "scorefxn(huh)"
   ]
  },
  {
   "cell_type": "code",
   "execution_count": null,
   "metadata": {},
   "outputs": [],
   "source": [
    "pose.set_ring_conformation('north')"
   ]
  },
  {
   "cell_type": "code",
   "execution_count": null,
   "metadata": {},
   "outputs": [],
   "source": [
    "print pose."
   ]
  },
  {
   "cell_type": "code",
   "execution_count": null,
   "metadata": {},
   "outputs": [],
   "source": [
    "pose = pose_from_file('./../../das-lab/recces_rosetta/results/ag/ST/ST_637000.pdb')"
   ]
  },
  {
   "cell_type": "code",
   "execution_count": null,
   "metadata": {},
   "outputs": [],
   "source": [
    "print pose.delta(1), pose.torsion(TorsionID(1, CHI, 2)), pose.torsion(TorsionID(1, CHI, 3))\n",
    "print pose.delta(2), pose.torsion(TorsionID(2, CHI, 2)), pose.torsion(TorsionID(2, CHI, 3))"
   ]
  },
  {
   "cell_type": "code",
   "execution_count": null,
   "metadata": {},
   "outputs": [],
   "source": [
    "# ag/ST/367000, 38000\n",
    "\n",
    "# C2'-endo\n",
    "print 145.521118169, -34.8252844774, 155.978251202\n",
    "\n",
    "# C3'-endo\n",
    "print 81.1950530464, 35.8703398534, 94.8555221911"
   ]
  },
  {
   "cell_type": "code",
   "execution_count": null,
   "metadata": {},
   "outputs": [],
   "source": [
    "pose = protocols.recces.pose_setup_turner('gg','')"
   ]
  },
  {
   "cell_type": "code",
   "execution_count": null,
   "metadata": {},
   "outputs": [],
   "source": [
    "pmm.apply(pose)\n",
    "pose.set_torsion(TorsionID(1, BB, 4), 145.5)\n",
    "pose.set_torsion(TorsionID(1, CHI, 2), -34.8)\n",
    "pose.set_torsion(TorsionID(1, CHI, 3), 155.98)"
   ]
  },
  {
   "cell_type": "code",
   "execution_count": null,
   "metadata": {},
   "outputs": [],
   "source": [
    "pmm.apply(pose)"
   ]
  },
  {
   "cell_type": "code",
   "execution_count": null,
   "metadata": {},
   "outputs": [],
   "source": [
    "pose.set_chi(1, -56.6)"
   ]
  },
  {
   "cell_type": "code",
   "execution_count": null,
   "metadata": {},
   "outputs": [],
   "source": [
    "pmm.apply(pose)"
   ]
  },
  {
   "cell_type": "code",
   "execution_count": null,
   "metadata": {},
   "outputs": [],
   "source": [
    "print -0.6163*(np.log(90260*2+108.954*2) + 7*np.log(2*np.pi/3) + 2*np.log(2))"
   ]
  },
  {
   "cell_type": "code",
   "execution_count": null,
   "metadata": {},
   "outputs": [],
   "source": [
    "pmm.apply(pose_min)"
   ]
  },
  {
   "cell_type": "code",
   "execution_count": null,
   "metadata": {},
   "outputs": [],
   "source": [
    "print scorefxn(pose_min)"
   ]
  },
  {
   "cell_type": "code",
   "execution_count": null,
   "metadata": {},
   "outputs": [],
   "source": [
    "print E_list"
   ]
  },
  {
   "cell_type": "code",
   "execution_count": null,
   "metadata": {},
   "outputs": [],
   "source": [
    "print min(E_list)\n"
   ]
  },
  {
   "cell_type": "code",
   "execution_count": null,
   "metadata": {},
   "outputs": [],
   "source": [
    "print E_min"
   ]
  },
  {
   "cell_type": "code",
   "execution_count": null,
   "metadata": {},
   "outputs": [],
   "source": [
    "print rna_hires(pose_min)"
   ]
  },
  {
   "cell_type": "code",
   "execution_count": null,
   "metadata": {},
   "outputs": [],
   "source": [
    "pmm.apply(pose_min)"
   ]
  },
  {
   "cell_type": "code",
   "execution_count": null,
   "metadata": {},
   "outputs": [],
   "source": [
    "print pose_min.epsilon(1), pose_min.zeta(1), pose_min.alpha(2), pose_min.beta(2), pose_min.gamma(2)\n",
    "print pose_min.delta(1), pose_min.delta(2)"
   ]
  },
  {
   "cell_type": "code",
   "execution_count": null,
   "metadata": {},
   "outputs": [],
   "source": [
    "pose_min.dump_pdb('./../gg_fuck.pdb')"
   ]
  },
  {
   "cell_type": "code",
   "execution_count": null,
   "metadata": {},
   "outputs": [],
   "source": [
    "pose = pose_from_file('./../gg.pdb')\n",
    "pmm.apply(pose)"
   ]
  },
  {
   "cell_type": "code",
   "execution_count": null,
   "metadata": {},
   "outputs": [],
   "source": [
    "options = scorefxn.energy_method_options()\n",
    "print options.hbond_options()\n",
    "options.etable_options().no_lk_polar_desolvation = False\n",
    "scorefxn.set_energy_method_options(options)\n",
    "scorefxn.show(pose)"
   ]
  },
  {
   "cell_type": "code",
   "execution_count": null,
   "metadata": {},
   "outputs": [],
   "source": [
    "pmm.apply(pose)\n"
   ]
  },
  {
   "cell_type": "code",
   "execution_count": null,
   "metadata": {},
   "outputs": [],
   "source": [
    " print 0.6163*(-np.log(2*90206 + 2*108.954) - 7*np.log(2*np.pi/3) - 2*np.log(2))"
   ]
  },
  {
   "cell_type": "code",
   "execution_count": null,
   "metadata": {},
   "outputs": [],
   "source": [
    "print movemap\n"
   ]
  },
  {
   "cell_type": "code",
   "execution_count": null,
   "metadata": {},
   "outputs": [],
   "source": [
    "scorefxn = core.scoring.ScoreFunctionFactory.create_score_function('stepwise/rna/turner')"
   ]
  },
  {
   "cell_type": "code",
   "execution_count": null,
   "metadata": {},
   "outputs": [],
   "source": [
    "print scorefxn"
   ]
  },
  {
   "cell_type": "code",
   "execution_count": null,
   "metadata": {},
   "outputs": [],
   "source": [
    "scorefxn.show(pose_min)"
   ]
  },
  {
   "cell_type": "code",
   "execution_count": null,
   "metadata": {},
   "outputs": [],
   "source": [
    "print pose"
   ]
  },
  {
   "cell_type": "code",
   "execution_count": null,
   "metadata": {},
   "outputs": [],
   "source": [
    "print pose.chi(1)"
   ]
  },
  {
   "cell_type": "code",
   "execution_count": null,
   "metadata": {},
   "outputs": [],
   "source": [
    "N9 = AtomID(1, 19)\n",
    "C1 = AtomID(1, 8)"
   ]
  },
  {
   "cell_type": "code",
   "execution_count": null,
   "metadata": {},
   "outputs": [],
   "source": [
    "pose.conformation().bond_length(C1, N9)"
   ]
  },
  {
   "cell_type": "code",
   "execution_count": null,
   "metadata": {},
   "outputs": [],
   "source": [
    "print pose"
   ]
  },
  {
   "cell_type": "code",
   "execution_count": null,
   "metadata": {},
   "outputs": [],
   "source": [
    "pyrosetta.rosetta.protocols.constraint_generator"
   ]
  },
  {
   "cell_type": "code",
   "execution_count": null,
   "metadata": {},
   "outputs": [],
   "source": [
    "import pyrosetta.rosetta.protocols.moves.ConstraintSetMover()"
   ]
  },
  {
   "cell_type": "code",
   "execution_count": null,
   "metadata": {},
   "outputs": [],
   "source": [
    "fuck = ConstraintSetMover()"
   ]
  },
  {
   "cell_type": "code",
   "execution_count": null,
   "metadata": {},
   "outputs": [],
   "source": [
    "fuck.set_id(TorsionID(1, CHI, 1))"
   ]
  },
  {
   "cell_type": "code",
   "execution_count": null,
   "metadata": {},
   "outputs": [],
   "source": [
    "print pose.residue(1)"
   ]
  },
  {
   "cell_type": "code",
   "execution_count": null,
   "metadata": {},
   "outputs": [],
   "source": [
    "import pyrosetta.rosetta.protocols.simple_moves"
   ]
  },
  {
   "cell_type": "code",
   "execution_count": null,
   "metadata": {},
   "outputs": [],
   "source": [
    "set_constraint = pyrosetta.rosetta.protocols.simple_moves.ConstraintSetMover()"
   ]
  },
  {
   "cell_type": "code",
   "execution_count": null,
   "metadata": {},
   "outputs": [],
   "source": [
    "set_constraint.constraint_file('./cst_file.cst')\n",
    "dihedral_constraint_function = core.scoring.func.CircularHarmonicFunc(pose.chi(2), 0.35)\n",
    "shit = core.scoring.constraints.DihedralConstraint(core.id.AtomID(1,1), core.id.AtomID(1,2), core.id.AtomID(1,3), core.id.AtomID(1,4), dihedral_constraint_function)"
   ]
  },
  {
   "cell_type": "code",
   "execution_count": null,
   "metadata": {},
   "outputs": [],
   "source": [
    "pose = protocols.recces.pose_setup_turner('gg','')\n",
    "pose.dump_pdb('shit.pdb')\n",
    "print core.id.AtomID(23,1)\n",
    "print pose.residue(2).atom(17)"
   ]
  },
  {
   "cell_type": "code",
   "execution_count": null,
   "metadata": {},
   "outputs": [],
   "source": [
    "atom = pose.residue(2).atom_index('C3\\'')\n",
    "print atom"
   ]
  },
  {
   "cell_type": "code",
   "execution_count": null,
   "metadata": {},
   "outputs": [],
   "source": [
    "atom1 = core.id.AtomID(2, 5)"
   ]
  },
  {
   "cell_type": "code",
   "execution_count": null,
   "metadata": {},
   "outputs": [],
   "source": [
    "print pose.conformation().dof_id_from_torsion_id(TorsionID(2, CHI, 1))"
   ]
  },
  {
   "cell_type": "code",
   "execution_count": null,
   "metadata": {},
   "outputs": [],
   "source": [
    "north_anti_min = Pose()\n",
    "north_anti_min.assign(pose_min)"
   ]
  },
  {
   "cell_type": "code",
   "execution_count": null,
   "metadata": {},
   "outputs": [],
   "source": [
    "north_syn_min = Pose()\n",
    "north_syn_min.assign(pose_min)"
   ]
  },
  {
   "cell_type": "code",
   "execution_count": null,
   "metadata": {},
   "outputs": [],
   "source": [
    "south_syn_min = Pose()\n",
    "south_syn_min.assign(pose_min)"
   ]
  },
  {
   "cell_type": "code",
   "execution_count": null,
   "metadata": {},
   "outputs": [],
   "source": [
    "south_anti_min = Pose()\n",
    "south_anti_min.assign(pose_min)"
   ]
  },
  {
   "cell_type": "code",
   "execution_count": null,
   "metadata": {},
   "outputs": [],
   "source": [
    "pose.set_epsilon(1, -145.65)\n",
    "pose.set_zeta(1, -62.90)\n",
    "pose.set_alpha(2, -55.65)\n",
    "pose.set_beta(2, 168.81)\n",
    "pose.set_gamma(2, 65.70)\n",
    "pose.set_chi(1, 67.90)\n",
    "pose.set_chi(2, 113.39)\n",
    "\n",
    "pmm.apply(pose)"
   ]
  },
  {
   "cell_type": "code",
   "execution_count": null,
   "metadata": {},
   "outputs": [],
   "source": [
    "pmm.apply(pose_min)"
   ]
  },
  {
   "cell_type": "code",
   "execution_count": null,
   "metadata": {},
   "outputs": [],
   "source": [
    "pose = protocols.recces.pose_setup_turner('ga','')"
   ]
  },
  {
   "cell_type": "code",
   "execution_count": 170,
   "metadata": {},
   "outputs": [
    {
     "name": "stdout",
     "output_type": "stream",
     "text": [
      "\u001b[0mcore.import_pose.import_pose: \u001b[0mFile './../gg_fuck.pdb' automatically determined to be of type PDB\n",
      "-8.87862835747\n",
      "-9.62295503538\n"
     ]
    }
   ],
   "source": [
    "ST_min = pose_from_file('./../gg_fuck.pdb')\n",
    "print scorefxn(pose_min)\n",
    "print scorefxn(ST_min)"
   ]
  },
  {
   "cell_type": "code",
   "execution_count": 225,
   "metadata": {},
   "outputs": [
    {
     "name": "stdout",
     "output_type": "stream",
     "text": [
      "-140.883216456\n",
      "22.138404465\n",
      "150.567962919\n",
      "177.062269576\n",
      "51.4570578344\n",
      "77.9525786908\n",
      "118.885984783\n"
     ]
    },
    {
     "data": {
      "text/plain": [
       "-9.622955054302551"
      ]
     },
     "execution_count": 225,
     "metadata": {},
     "output_type": "execute_result"
    }
   ],
   "source": [
    "#print ST_min.torsion(TorsionID(2, CHI, 1))\n",
    "#print ST_min.torsion(TorsionID(2, CHI, 2))\n",
    "#print ST_min.torsion(TorsionID(2, CHI, 3))\n",
    "print ST_min.epsilon(1)\n",
    "print ST_min.zeta(1)\n",
    "print ST_min.alpha(2)\n",
    "print ST_min.beta(2)\n",
    "print ST_min.gamma(2)\n",
    "print ST_min.chi(1)\n",
    "print ST_min.chi(2)\n",
    "minmover.apply(ST_min)\n",
    "scorefxn(ST_min)"
   ]
  },
  {
   "cell_type": "code",
   "execution_count": 221,
   "metadata": {},
   "outputs": [],
   "source": [
    "pose.set_epsilon(1, -150.4)\n",
    "pose.set_zeta(1, 56.5)\n",
    "pose.set_alpha(2, 156.6)\n",
    "pose.set_beta(2, 177.3)\n",
    "pose.set_gamma(2, 53.5)\n",
    "pose.set_chi(1, 72.4)\n",
    "pose.set_chi(2, 119.0)"
   ]
  },
  {
   "cell_type": "code",
   "execution_count": 237,
   "metadata": {},
   "outputs": [
    {
     "data": {
      "text/plain": [
       "-9.622955054302551"
      ]
     },
     "execution_count": 237,
     "metadata": {},
     "output_type": "execute_result"
    }
   ],
   "source": [
    "scorefxn(ST_min)"
   ]
  },
  {
   "cell_type": "code",
   "execution_count": 239,
   "metadata": {},
   "outputs": [
    {
     "data": {
      "text/plain": [
       "-9.622955066752619"
      ]
     },
     "execution_count": 239,
     "metadata": {},
     "output_type": "execute_result"
    }
   ],
   "source": [
    "minmover.apply(ST_min)\n",
    "scorefxn(ST_min)"
   ]
  },
  {
   "cell_type": "code",
   "execution_count": 236,
   "metadata": {},
   "outputs": [
    {
     "name": "stdout",
     "output_type": "stream",
     "text": [
      "-151.195497333\n",
      "38.3005665217\n",
      "160.463746881\n",
      "176.53024886\n",
      "53.500002256\n",
      "120.199920903\n",
      "113.615720013\n"
     ]
    }
   ],
   "source": [
    "print pose.epsilon(1)\n",
    "print pose.zeta(1)\n",
    "print pose.alpha(2)\n",
    "print pose.beta(2)\n",
    "print pose.gamma(2)\n",
    "print pose.chi(1)\n",
    "print pose.chi(2)"
   ]
  },
  {
   "cell_type": "code",
   "execution_count": 406,
   "metadata": {},
   "outputs": [
    {
     "data": {
      "text/plain": [
       "True"
      ]
     },
     "execution_count": 406,
     "metadata": {},
     "output_type": "execute_result"
    }
   ],
   "source": [
    "pose_min.dump_pdb('./../../das-lab/ga.pdb')"
   ]
  },
  {
   "cell_type": "code",
   "execution_count": 722,
   "metadata": {},
   "outputs": [],
   "source": [
    "pmm.apply(pose_min)"
   ]
  },
  {
   "cell_type": "code",
   "execution_count": null,
   "metadata": {},
   "outputs": [],
   "source": []
  }
 ],
 "metadata": {
  "kernelspec": {
   "display_name": "Python 2",
   "language": "python",
   "name": "python2"
  },
  "language_info": {
   "codemirror_mode": {
    "name": "ipython",
    "version": 2
   },
   "file_extension": ".py",
   "mimetype": "text/x-python",
   "name": "python",
   "nbconvert_exporter": "python",
   "pygments_lexer": "ipython2",
   "version": "2.7.12"
  }
 },
 "nbformat": 4,
 "nbformat_minor": 2
}
