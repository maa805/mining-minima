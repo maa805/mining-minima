{
 "cells": [
  {
   "cell_type": "code",
   "execution_count": 1,
   "metadata": {},
   "outputs": [
    {
     "name": "stdout",
     "output_type": "stream",
     "text": [
      "Found rosetta database at: /usr/local/lib/python2.7/dist-packages/pyrosetta-2018.11+release.7c7790f-py2.7-linux-x86_64.egg/pyrosetta/database; using it....\n",
      "PyRosetta-4 2017 [Rosetta PyRosetta4.Release.python27.ubuntu 2018.11+release.7c7790f7c7790fbb898f8210b54513b9f9c8a927c3e8d7f 2018-03-14T13:19:04] retrieved from: http://www.pyrosetta.org\n",
      "(C) Copyright Rosetta Commons Member Institutions.\n",
      "Created in JHU by Sergey Lyskov and PyRosetta Team.\n",
      "\n",
      "\u001b[0mcore.init: \u001b[0mChecking for fconfig files in pwd and ./rosetta/flags\n",
      "\n",
      "\u001b[0mcore.init: \u001b[0mRosetta version: PyRosetta4.Release.python27.ubuntu r173 2018.11+release.7c7790f 7c7790fbb898f8210b54513b9f9c8a927c3e8d7f http://www.pyrosetta.org 2018-03-14T13:19:04\n",
      "\u001b[0mcore.init: \u001b[0mcommand: PyRosetta -ex1 -ex2aro -database /usr/local/lib/python2.7/dist-packages/pyrosetta-2018.11+release.7c7790f-py2.7-linux-x86_64.egg/pyrosetta/database\n",
      "\u001b[0mcore.init: \u001b[0m'RNG device' seed mode, using '/dev/urandom', seed=125290798 seed_offset=0 real_seed=125290798\n",
      "\u001b[0mcore.init.random: \u001b[0mRandomGenerator:init: Normal mode, seed=125290798 RG_type=mt19937\n"
     ]
    }
   ],
   "source": [
    "from pyrosetta import *\n",
    "from pyrosetta.rosetta import *\n",
    "from pyrosetta.rosetta.core.id import *\n",
    "import numpy as np\n",
    "import itertools\n",
    "import scipy\n",
    "import scipy.linalg\n",
    "import matplotlib\n",
    "import matplotlib.pyplot as plt\n",
    "init()"
   ]
  },
  {
   "cell_type": "code",
   "execution_count": 2,
   "metadata": {},
   "outputs": [
    {
     "name": "stdout",
     "output_type": "stream",
     "text": [
      "\u001b[0mcore.chemical.GlobalResidueTypeSet: \u001b[0mFinished initializing fa_standard residue type set.  Created 603 residue types\n",
      "\u001b[0mcore.chemical.GlobalResidueTypeSet: \u001b[0mTotal time to initialize 0.859375 seconds.\n",
      "\u001b[0mcore.scoring.etable: \u001b[0mStarting energy table calculation\n",
      "\u001b[0mcore.scoring.etable: \u001b[0msmooth_etable: changing atr/rep split to bottom of energy well\n",
      "\u001b[0mcore.scoring.etable: \u001b[0msmooth_etable: spline smoothing lj etables (maxdis = 6)\n",
      "\u001b[0mcore.scoring.etable: \u001b[0msmooth_etable: spline smoothing solvation etables (max_dis = 6)\n",
      "\u001b[0mcore.scoring.etable: \u001b[0mFinished calculating energy tables.\n",
      "\u001b[0mbasic.io.database: \u001b[0mDatabase file opened: scoring/score_functions/hbonds/ref2015_params/HBPoly1D.csv\n",
      "\u001b[0mbasic.io.database: \u001b[0mDatabase file opened: scoring/score_functions/hbonds/ref2015_params/HBFadeIntervals.csv\n",
      "\u001b[0mbasic.io.database: \u001b[0mDatabase file opened: scoring/score_functions/hbonds/ref2015_params/HBEval.csv\n",
      "\u001b[0mbasic.io.database: \u001b[0mDatabase file opened: scoring/score_functions/hbonds/ref2015_params/DonStrength.csv\n",
      "\u001b[0mbasic.io.database: \u001b[0mDatabase file opened: scoring/score_functions/hbonds/ref2015_params/AccStrength.csv\n"
     ]
    }
   ],
   "source": [
    "pose = rosetta.protocols.recces.pose_setup_turner('aa','')\n",
    "pmm = PyMOLMover()\n",
    "pmm.keep_history(True)"
   ]
  },
  {
   "cell_type": "code",
   "execution_count": 3,
   "metadata": {},
   "outputs": [],
   "source": [
    "def numpy_hessian(x, h):\n",
    "        \n",
    "    x_grad = np.gradient(x, h)\n",
    "    hessian = np.empty((x.ndim, x.ndim) + x.shape, dtype = x.dtype)\n",
    "    \n",
    "    for k, grad_k in enumerate(x_grad):\n",
    "        tmp_grad = np.gradient(grad_k, h)\n",
    "        for l, grad_kl in enumerate(tmp_grad):\n",
    "            hessian[k, l, :, :] = grad_kl\n",
    "            \n",
    "    return hessian"
   ]
  },
  {
   "cell_type": "code",
   "execution_count": 11,
   "metadata": {},
   "outputs": [],
   "source": [
    "def is_pos_def(x):\n",
    "    return np.all(np.linalg.eigvals(x) > 0)"
   ]
  },
  {
   "cell_type": "code",
   "execution_count": 171,
   "metadata": {},
   "outputs": [],
   "source": [
    "def is_repeat_minimum(new_dofs, dof_lists):\n",
    "    \n",
    "    dofs_rounded = np.around(new_dofs, decimals=1)\n",
    "    \n",
    "    if len(dof_lists) == 0:\n",
    "        \n",
    "        return False \n",
    "    \n",
    "    for dof_list in dof_lists:\n",
    "        \n",
    "        dof_list_rounded = np.around(dof_list, decimals=1)\n",
    "\n",
    "        return np.all(abs(dof_list_rounded - dofs_rounded) < 60.0)\n",
    "        \n",
    "        #print truth_vals\n",
    "        #if truth_vals == False:\n",
    "        \n",
    "         #   return False\n",
    "    \n",
    "    return True"
   ]
  },
  {
   "cell_type": "code",
   "execution_count": 172,
   "metadata": {},
   "outputs": [],
   "source": [
    "def initialiize_pose(seq):\n",
    "    \n",
    "    n_residues = len(seq)\n",
    "    \n",
    "    dof_dict = {}\n",
    "    \n",
    "    pose = pyrosetta.rosetta.protocols.recces.pose_setup_turner(seq, '')\n",
    "    movemap = MoveMap()\n",
    "    \n",
    "    for ii in range(n_residues-1):\n",
    "            \n",
    "        dof_dict.update({0: TorsionID(1, BB, 4), 1: TorsionID(1, BB, 5), 2: TorsionID(1, BB, 6), 3: TorsionID(1, CHI, 1),\n",
    "                         4: TorsionID(2, BB, 1), 5: TorsionID(2, BB, 2), 6: TorsionID(2, BB, 3), 7:TorsionID(2, CHI, 1)})\n",
    "\n",
    "        movemap.set(TorsionID(1, BB, 4), True)\n",
    "        movemap.set(TorsionID(1, BB, 5), True)\n",
    "        movemap.set(TorsionID(1, BB, 6), True)\n",
    "        movemap.set(TorsionID(2, BB, 1), True)\n",
    "        movemap.set(TorsionID(2, BB, 2), True)\n",
    "        movemap.set(TorsionID(2, BB, 3), True)\n",
    "        \n",
    "    movemap.set_chi(True)\n",
    "        \n",
    "    return pose, movemap, dof_dict    \n",
    "    "
   ]
  },
  {
   "cell_type": "code",
   "execution_count": 5,
   "metadata": {},
   "outputs": [],
   "source": [
    "def calculate_hessian(pose, scorefxn, dof_dict):\n",
    "    '''Take a minimized pose and computes the hessian at the base of the corresponding energy well. Returns the hessian matrix\n",
    "    which may subsequently be diagonalized'''\n",
    "\n",
    "    minimum = Pose()\n",
    "    minimum.assign(pose)\n",
    "\n",
    "    h = 0.1\n",
    "    h_rad = h*np.pi/180\n",
    "    E_0 = scorefxn(pose)\n",
    "\n",
    "    dofs = []\n",
    "\n",
    "    for val in dof_dict.itervalues(): dofs.append(pose.torsion(val))\n",
    "    dofs = np.array(dofs)\n",
    "\n",
    "    hessian = np.zeros((len(dofs), len(dofs)))\n",
    "\n",
    "    n_pts = int(1/h + 1)\n",
    "    ind = int(n_pts/2)\n",
    "\n",
    "    tor_ranges = np.zeros((n_pts, len(dofs)))\n",
    "    energy = np.zeros((n_pts, n_pts))\n",
    "\n",
    "    for ii, dof in enumerate(dofs):\n",
    "\n",
    "        tor_ranges[:, ii] = dof + np.arange(-0.5, 0.5+h, h)\n",
    "\n",
    "    for pair in list(itertools.combinations(dof_dict.keys(), 2)):\n",
    "\n",
    "        foo = pair[0]\n",
    "        bar = pair[1]\n",
    "\n",
    "        x = tor_ranges[:, foo]\n",
    "        y = tor_ranges[:, bar]\n",
    "\n",
    "        for ii, xx in enumerate(x):\n",
    "\n",
    "            pose.set_torsion(dof_dict[pair[0]], xx)\n",
    "\n",
    "            for jj, yy in enumerate(y):\n",
    "\n",
    "                pose.set_torsion(dof_dict[pair[1]], yy)\n",
    "\n",
    "                energy[ii, jj] = scorefxn(pose)\n",
    "\n",
    "                pose.set_torsion(dof_dict[pair[1]], dofs[bar])\n",
    "\n",
    "            pose.set_torsion(dof_dict[pair[0]], dofs[foo])\n",
    "\n",
    "        hess = numpy_hessian(energy, h_rad)\n",
    "\n",
    "        d2E_dx2 =  hess[0,0,:,:]\n",
    "        d2E_dy2 =  hess[1,1,:,:]\n",
    "        d2E_dxdy = hess[0,1,:,:]\n",
    "\n",
    "        if hessian[foo, foo] == 0:\n",
    "\n",
    "            hessian[foo, foo] = d2E_dx2[ind, ind]\n",
    "\n",
    "        if hessian[bar, bar] == 0:\n",
    "\n",
    "            hessian[bar, bar] = d2E_dy2[ind, ind]\n",
    "\n",
    "        hessian[foo, bar] = d2E_dxdy[ind, ind]\n",
    "        hessian[bar, foo] = d2E_dxdy[ind, ind]\n",
    "        \n",
    "    return hessian\n"
   ]
  },
  {
   "cell_type": "code",
   "execution_count": 6,
   "metadata": {},
   "outputs": [],
   "source": [
    "def mode_scan(pose, dofs, dof_dict, scorefxn, mode, kT = 1.0, h = 0.5):\n",
    "    \n",
    "    temp = Pose()\n",
    "    temp.assign(pose)\n",
    "    \n",
    "    E_0 = scorefxn(pose)\n",
    "    E = E_0\n",
    "    inc = 0\n",
    "    result = 0.0\n",
    "    \n",
    "    max_inc = int(60/h)\n",
    "\n",
    "    while inc < max_inc:\n",
    "        \n",
    "        inc += 1\n",
    "        result += 0.5*np.exp(-(E-E_0)/kT)\n",
    "        dofs_new = dofs + (60.0)*inc/float(max_inc)*mode\n",
    "        \n",
    "        for key, val in enumerate(dofs_new):\n",
    "\n",
    "            temp.set_torsion(dof_dict[key], val)\n",
    "        \n",
    "        E = scorefxn(temp)\n",
    "        result += 0.5*np.exp(-(E-E_0)/kT)\n",
    "\n",
    "    # Reinitialize pose\n",
    "    temp.assign(pose)\n",
    "    inc = 0\n",
    "    E = E_0\n",
    "    \n",
    "    while inc < max_inc:\n",
    "        \n",
    "        inc += 1\n",
    "        \n",
    "        result += 0.5*np.exp(-(E-E_0)/kT)\n",
    "        dofs_new = dofs + 60.0*inc/float(max_inc)*mode\n",
    "        \n",
    "        for key, val in enumerate(dofs_new):\n",
    "    \n",
    "            temp.set_torsion(dof_dict[key], val)\n",
    "        \n",
    "        E  = scorefxn(temp)\n",
    "        result += 0.5*np.exp(-(E-E_0)/kT)\n",
    "        \n",
    "    result *= h*np.pi/180.0\n",
    "    return result\n"
   ]
  },
  {
   "cell_type": "code",
   "execution_count": 7,
   "metadata": {},
   "outputs": [
    {
     "name": "stdout",
     "output_type": "stream",
     "text": [
      "\u001b[0mcore.scoring.etable: \u001b[0mStarting energy table calculation\n",
      "\u001b[0mcore.scoring.etable: \u001b[0msmooth_etable: changing atr/rep split to bottom of energy well\n",
      "\u001b[0mcore.scoring.etable: \u001b[0msmooth_etable: spline smoothing lj etables (maxdis = 6)\n",
      "\u001b[0mcore.scoring.etable: \u001b[0msmooth_etable: spline smoothing solvation etables (max_dis = 6)\n",
      "\u001b[0mcore.scoring.etable: \u001b[0mFinished calculating energy tables.\n",
      "\u001b[0mbasic.io.database: \u001b[0mDatabase file opened: scoring/score_functions/carbon_hbond/ch_o_bond_potential.dat\n"
     ]
    }
   ],
   "source": [
    "rna_hires = protocols.rna.denovo.get_rna_hires_scorefxn()\n",
    "#rna_hires = core.scoring.ScoreFunctionFactory.create_score_function('rna/denovo/rna_hires_recces')\n",
    "#rna_hires.set_weight(core.scoring.geom_sol, 0)\n",
    "#rna_hires.set_weight(core.scoring.ch_bond, 0)\n",
    "#rna_hires.set_weight(core.scoring.rna_sugar_close, 0)\n",
    "rna_hires.set_weight(core.scoring.ch_bond, 0.)\n",
    "rna_hires.set_weight(core.scoring.rna_sugar_close, 0.)\n",
    "rna_hires.set_weight(core.scoring.hbond_lr_bb_sc, 0.)\n",
    "rna_hires.set_weight(core.scoring.hbond_sr_bb_sc, 0.)\n",
    "rna_hires.set_weight(core.scoring.hbond_sc, 0.)\n",
    "rna_hires.set_weight(core.scoring.geom_sol, 0.)\n",
    "rna_hires.set_weight(core.scoring.atom_pair_constraint, 0.)\n",
    "rna_hires.set_weight(core.scoring.fa_atr,0.73)\n",
    "rna_hires.set_weight(core.scoring.fa_rep, 0.10)\n",
    "rna_hires.set_weight(core.scoring.fa_intra_rep, 0.0071) \n",
    "rna_hires.set_weight(core.scoring.lk_nonpolar, 0.25) \n",
    "rna_hires.set_weight(core.scoring.fa_elec_rna_phos_phos, 4.54) \n",
    "rna_hires.set_weight(core.scoring.rna_torsion, 4.26) \n",
    "rna_hires.set_weight(core.scoring.stack_elec, 1.54) \n",
    "rna_hires.set_weight(core.scoring.hbond_sc, 2.46)\n",
    "scorefxn = rna_hires"
   ]
  },
  {
   "cell_type": "code",
   "execution_count": 224,
   "metadata": {},
   "outputs": [],
   "source": [
    "seq = 'ga'\n",
    "n = len(seq)\n",
    "mu_list = []\n",
    "pmm = PyMOLMover()\n",
    "pmm.keep_history(True)\n",
    "E_list = []\n",
    "i = 0\n",
    "dof_lists = []"
   ]
  },
  {
   "cell_type": "code",
   "execution_count": 225,
   "metadata": {
    "scrolled": true
   },
   "outputs": [
    {
     "name": "stdout",
     "output_type": "stream",
     "text": [
      "\u001b[0mcore.optimization.LineMinimizer: \u001b[0m\u001b[31m\u001b[1m[ ERROR ]\u001b[0m \u001b[31mInaccurate G! step= 1.90735e-06 Deriv= -2.30989e-05 Finite Diff= 9.81342e-05\u001b[0m\n",
      "\u001b[0mcore.optimization.LineMinimizer: \u001b[0m\u001b[31m\u001b[1m[ ERROR ]\u001b[0m \u001b[31mInaccurate G! step= 3.8147e-06 Deriv= -0.0012555 Finite Diff= -8.26257e-05\u001b[0m\n",
      "\u001b[0mcore.optimization.LineMinimizer: \u001b[0m\u001b[31m\u001b[1m[ ERROR ]\u001b[0m \u001b[31mInaccurate G! step= 3.8147e-06 Deriv= -2.67858e-05 Finite Diff= 3.92096e-05\u001b[0m\n",
      "\u001b[0mcore.optimization.LineMinimizer: \u001b[0m\u001b[31m\u001b[1m[ ERROR ]\u001b[0m \u001b[31mInaccurate G! step= 3.8147e-06 Deriv= -3.73256e-05 Finite Diff= 0.000407484\u001b[0m\n",
      "\u001b[0mcore.optimization.LineMinimizer: \u001b[0m\u001b[31m\u001b[1m[ ERROR ]\u001b[0m \u001b[31mInaccurate G! step= 1.90735e-06 Deriv= -0.00404055 Finite Diff= -0.000221478\u001b[0m\n",
      "\u001b[0mcore.optimization.LineMinimizer: \u001b[0m\u001b[31m\u001b[1m[ ERROR ]\u001b[0m \u001b[31mInaccurate G! step= 1.90735e-06 Deriv= -0.00744434 Finite Diff= 0.000208018\u001b[0m\n",
      "\u001b[0mcore.optimization.LineMinimizer: \u001b[0m\u001b[31m\u001b[1m[ ERROR ]\u001b[0m \u001b[31mInaccurate G! step= 1.90735e-06 Deriv= -9.66369e-05 Finite Diff= 5.81434e-05\u001b[0m\n",
      "\u001b[0mcore.optimization.LineMinimizer: \u001b[0m\u001b[31m\u001b[1m[ ERROR ]\u001b[0m \u001b[31mInaccurate G! step= 1.90735e-06 Deriv= -0.000477274 Finite Diff= 0.000376552\u001b[0m\n",
      "\u001b[0mcore.optimization.LineMinimizer: \u001b[0m\u001b[31m\u001b[1m[ ERROR ]\u001b[0m \u001b[31mInaccurate G! step= 3.8147e-06 Deriv= -0.000244269 Finite Diff= 0.000130387\u001b[0m\n",
      "\u001b[0mcore.optimization.LineMinimizer: \u001b[0m\u001b[31m\u001b[1m[ ERROR ]\u001b[0m \u001b[31mInaccurate G! step= 1.90735e-06 Deriv= -6.70439e-05 Finite Diff= 2.42013e-05\u001b[0m\n",
      "\u001b[0mcore.optimization.LineMinimizer: \u001b[0m\u001b[31m\u001b[1m[ ERROR ]\u001b[0m \u001b[31mInaccurate G! step= 4.76837e-07 Deriv= -0.000309673 Finite Diff= -2.78987e-05\u001b[0m\n",
      "\u001b[0mcore.optimization.LineMinimizer: \u001b[0m\u001b[31m\u001b[1m[ ERROR ]\u001b[0m \u001b[31mInaccurate G! step= 1.90735e-06 Deriv= -6.13106e-05 Finite Diff= -3.00264e-06\u001b[0m\n",
      "\u001b[0mcore.optimization.LineMinimizer: \u001b[0m\u001b[31m\u001b[1m[ ERROR ]\u001b[0m \u001b[31mInaccurate G! step= 3.8147e-06 Deriv= -0.000333077 Finite Diff= -2.87695e-05\u001b[0m\n",
      "\u001b[0mcore.optimization.LineMinimizer: \u001b[0m\u001b[31m\u001b[1m[ ERROR ]\u001b[0m \u001b[31mInaccurate G! step= 3.8147e-06 Deriv= -1.02048e-05 Finite Diff= 5.11354e-07\u001b[0m\n",
      "\u001b[0mcore.optimization.LineMinimizer: \u001b[0m\u001b[31m\u001b[1m[ ERROR ]\u001b[0m \u001b[31mInaccurate G! step= 4.76837e-07 Deriv= -0.00658384 Finite Diff= -0.000576492\u001b[0m\n",
      "\u001b[0mcore.optimization.LineMinimizer: \u001b[0m\u001b[31m\u001b[1m[ ERROR ]\u001b[0m \u001b[31mInaccurate G! step= 1.90735e-06 Deriv= -0.000121076 Finite Diff= -9.69041e-06\u001b[0m\n",
      "\u001b[0mcore.optimization.LineMinimizer: \u001b[0m\u001b[31m\u001b[1m[ ERROR ]\u001b[0m \u001b[31mInaccurate G! step= 3.8147e-06 Deriv= -0.000805626 Finite Diff= 0.000219807\u001b[0m\n",
      "\u001b[0mcore.optimization.LineMinimizer: \u001b[0m\u001b[31m\u001b[1m[ ERROR ]\u001b[0m \u001b[31mInaccurate G! step= 3.8147e-06 Deriv= -0.00203901 Finite Diff= -0.000202693\u001b[0m\n",
      "\u001b[0mcore.optimization.LineMinimizer: \u001b[0m\u001b[31m\u001b[1m[ ERROR ]\u001b[0m \u001b[31mInaccurate G! step= 3.8147e-06 Deriv= -0.00224155 Finite Diff= 0.000559208\u001b[0m\n",
      "\u001b[0mcore.optimization.LineMinimizer: \u001b[0m\u001b[31m\u001b[1m[ ERROR ]\u001b[0m \u001b[31mInaccurate G! step= 5.96046e-08 Deriv= -0.00021859 Finite Diff= -1.62832e-05\u001b[0m\n",
      "\u001b[0mcore.optimization.LineMinimizer: \u001b[0m\u001b[31m\u001b[1m[ ERROR ]\u001b[0m \u001b[31mInaccurate G! step= 3.8147e-06 Deriv= -0.000387132 Finite Diff= -2.6013e-05\u001b[0m\n",
      "\u001b[0mcore.optimization.LineMinimizer: \u001b[0m\u001b[31m\u001b[1m[ ERROR ]\u001b[0m \u001b[31mInaccurate G! step= 3.8147e-06 Deriv= -1.79941e-05 Finite Diff= -1.4992e-06\u001b[0m\n",
      "\u001b[0mcore.optimization.LineMinimizer: \u001b[0m\u001b[31m\u001b[1m[ ERROR ]\u001b[0m \u001b[31mInaccurate G! step= 3.8147e-06 Deriv= -1.38712e-05 Finite Diff= 3.75819e-05\u001b[0m\n",
      "\u001b[0mcore.optimization.LineMinimizer: \u001b[0m\u001b[31m\u001b[1m[ ERROR ]\u001b[0m \u001b[31mInaccurate G! step= 4.76837e-07 Deriv= -0.000958457 Finite Diff= -1.61268e-05\u001b[0m\n",
      "\u001b[0mcore.optimization.LineMinimizer: \u001b[0m\u001b[31m\u001b[1m[ ERROR ]\u001b[0m \u001b[31mInaccurate G! step= 1.90735e-06 Deriv= -0.0157032 Finite Diff= -0.000995337\u001b[0m\n",
      "\u001b[0mcore.optimization.LineMinimizer: \u001b[0m\u001b[31m\u001b[1m[ ERROR ]\u001b[0m \u001b[31mInaccurate G! step= 1.90735e-06 Deriv= -0.000854568 Finite Diff= 0.000432391\u001b[0m\n",
      "\u001b[0mcore.optimization.LineMinimizer: \u001b[0m\u001b[31m\u001b[1m[ ERROR ]\u001b[0m \u001b[31mInaccurate G! step= 2.38419e-07 Deriv= -9.61634e-05 Finite Diff= 4.711e-05\u001b[0m\n",
      "\u001b[0mcore.optimization.LineMinimizer: \u001b[0m\u001b[31m\u001b[1m[ ERROR ]\u001b[0m \u001b[31mInaccurate G! step= 1.90735e-06 Deriv= -0.000167868 Finite Diff= 9.56235e-06\u001b[0m\n",
      "\u001b[0mcore.optimization.LineMinimizer: \u001b[0m\u001b[31m\u001b[1m[ ERROR ]\u001b[0m \u001b[31mInaccurate G! step= 1.90735e-06 Deriv= -1.63421e-05 Finite Diff= 1.1526e-05\u001b[0m\n",
      "\u001b[0mcore.optimization.LineMinimizer: \u001b[0m\u001b[31m\u001b[1m[ ERROR ]\u001b[0m \u001b[31mInaccurate G! step= 3.8147e-06 Deriv= -5.22519e-05 Finite Diff= 1.56637e-05\u001b[0m\n",
      "\u001b[0mcore.optimization.LineMinimizer: \u001b[0m\u001b[31m\u001b[1m[ ERROR ]\u001b[0m \u001b[31mInaccurate G! step= 4.76837e-07 Deriv= -2.19308e-05 Finite Diff= 4.82174e-05\u001b[0m\n",
      "\u001b[0mcore.optimization.LineMinimizer: \u001b[0m\u001b[31m\u001b[1m[ ERROR ]\u001b[0m \u001b[31mInaccurate G! step= 3.8147e-06 Deriv= -0.0028212 Finite Diff= 0.00106324\u001b[0m\n",
      "\u001b[0mcore.optimization.LineMinimizer: \u001b[0m\u001b[31m\u001b[1m[ ERROR ]\u001b[0m \u001b[31mInaccurate G! step= 3.8147e-06 Deriv= -0.00261979 Finite Diff= 0.00133675\u001b[0m\n",
      "\u001b[0mcore.optimization.LineMinimizer: \u001b[0m\u001b[31m\u001b[1m[ ERROR ]\u001b[0m \u001b[31mInaccurate G! step= 1.90735e-06 Deriv= -0.00411894 Finite Diff= -0.000105884\u001b[0m\n",
      "\u001b[0mcore.optimization.LineMinimizer: \u001b[0m\u001b[31m\u001b[1m[ ERROR ]\u001b[0m \u001b[31mInaccurate G! step= 3.8147e-06 Deriv= -0.000124092 Finite Diff= 1.39186e-06\u001b[0m\n",
      "\u001b[0mcore.optimization.LineMinimizer: \u001b[0m\u001b[31m\u001b[1m[ ERROR ]\u001b[0m \u001b[31mInaccurate G! step= 1.90735e-06 Deriv= -0.000374058 Finite Diff= 0.000723033\u001b[0m\n",
      "\u001b[0mcore.optimization.LineMinimizer: \u001b[0m\u001b[31m\u001b[1m[ ERROR ]\u001b[0m \u001b[31mInaccurate G! step= 1.90735e-06 Deriv= -0.00171035 Finite Diff= 0.000177651\u001b[0m\n",
      "\u001b[0mcore.optimization.LineMinimizer: \u001b[0m\u001b[31m\u001b[1m[ ERROR ]\u001b[0m \u001b[31mInaccurate G! step= 1.90735e-06 Deriv= -3.87178e-05 Finite Diff= 9.78936e-06\u001b[0m\n",
      "\u001b[0mcore.optimization.LineMinimizer: \u001b[0m\u001b[31m\u001b[1m[ ERROR ]\u001b[0m \u001b[31mInaccurate G! step= 3.8147e-06 Deriv= -6.85219e-05 Finite Diff= 4.48474e-05\u001b[0m\n",
      "\u001b[0mcore.optimization.LineMinimizer: \u001b[0m\u001b[31m\u001b[1m[ ERROR ]\u001b[0m \u001b[31mInaccurate G! step= 3.8147e-06 Deriv= -1.57786e-05 Finite Diff= 1.47143e-06\u001b[0m\n",
      "\u001b[0mcore.optimization.LineMinimizer: \u001b[0m\u001b[31m\u001b[1m[ ERROR ]\u001b[0m \u001b[31mInaccurate G! step= 3.8147e-06 Deriv= -0.000811312 Finite Diff= 1.23184e-05\u001b[0m\n",
      "\u001b[0mcore.optimization.LineMinimizer: \u001b[0m\u001b[31m\u001b[1m[ ERROR ]\u001b[0m \u001b[31mInaccurate G! step= 4.76837e-07 Deriv= -5.98387e-05 Finite Diff= 0.000110332\u001b[0m\n",
      "\u001b[0mcore.optimization.LineMinimizer: \u001b[0m\u001b[31m\u001b[1m[ ERROR ]\u001b[0m \u001b[31mInaccurate G! step= 5.96046e-08 Deriv= -0.0290796 Finite Diff= 0.000236247\u001b[0m\n",
      "\u001b[0mcore.optimization.LineMinimizer: \u001b[0m\u001b[31m\u001b[1m[ ERROR ]\u001b[0m \u001b[31mInaccurate G! step= 9.53674e-07 Deriv= -0.0406723 Finite Diff= 0.00645371\u001b[0m\n",
      "\u001b[0mcore.optimization.LineMinimizer: \u001b[0m\u001b[31m\u001b[1m[ ERROR ]\u001b[0m \u001b[31mInaccurate G! step= 3.8147e-06 Deriv= -0.0132437 Finite Diff= -0.000619097\u001b[0m\n",
      "\u001b[0mcore.optimization.LineMinimizer: \u001b[0m\u001b[31m\u001b[1m[ ERROR ]\u001b[0m \u001b[31mInaccurate G! step= 4.76837e-07 Deriv= -0.000476068 Finite Diff= -4.28287e-05\u001b[0m\n",
      "\u001b[0mcore.optimization.LineMinimizer: \u001b[0m\u001b[31m\u001b[1m[ ERROR ]\u001b[0m \u001b[31mInaccurate G! step= 1.90735e-06 Deriv= -0.00271093 Finite Diff= 0.000697344\u001b[0m\n",
      "\u001b[0mcore.optimization.LineMinimizer: \u001b[0m\u001b[31m\u001b[1m[ ERROR ]\u001b[0m \u001b[31mInaccurate G! step= 3.8147e-06 Deriv= -0.00041031 Finite Diff= 0.000180701\u001b[0m\n",
      "\u001b[0mcore.optimization.LineMinimizer: \u001b[0m\u001b[31m\u001b[1m[ ERROR ]\u001b[0m \u001b[31mInaccurate G! step= 9.53674e-07 Deriv= -5.60705e-05 Finite Diff= 4.05125e-05\u001b[0m\n",
      "\u001b[0mcore.optimization.LineMinimizer: \u001b[0m\u001b[31m\u001b[1m[ ERROR ]\u001b[0m \u001b[31mInaccurate G! step= 3.8147e-06 Deriv= -4.74793e-05 Finite Diff= 2.67756e-05\u001b[0m\n",
      "\u001b[0mcore.optimization.LineMinimizer: \u001b[0m\u001b[31m\u001b[1m[ ERROR ]\u001b[0m \u001b[31mInaccurate G! step= 4.76837e-07 Deriv= -6.32122e-05 Finite Diff= -6.15837e-06\u001b[0m\n",
      "\u001b[0mcore.optimization.LineMinimizer: \u001b[0m\u001b[31m\u001b[1m[ ERROR ]\u001b[0m \u001b[31mInaccurate G! step= 4.76837e-07 Deriv= -2.20732e-05 Finite Diff= 4.14047e-05\u001b[0m\n",
      "\u001b[0mcore.optimization.LineMinimizer: \u001b[0m\u001b[31m\u001b[1m[ ERROR ]\u001b[0m \u001b[31mInaccurate G! step= 1.19209e-07 Deriv= -8.74883e-05 Finite Diff= 5.72242e-05\u001b[0m\n",
      "\u001b[0mcore.optimization.LineMinimizer: \u001b[0m\u001b[31m\u001b[1m[ ERROR ]\u001b[0m \u001b[31mInaccurate G! step= 3.8147e-06 Deriv= -2.18855 Finite Diff= -0.2156\u001b[0m\n",
      "\u001b[0mcore.optimization.LineMinimizer: \u001b[0m\u001b[31m\u001b[1m[ ERROR ]\u001b[0m \u001b[31mInaccurate G! step= 3.8147e-06 Deriv= -0.000445065 Finite Diff= -1.46984e-05\u001b[0m\n"
     ]
    },
    {
     "name": "stdout",
     "output_type": "stream",
     "text": [
      "\u001b[0mcore.optimization.LineMinimizer: \u001b[0m\u001b[31m\u001b[1m[ ERROR ]\u001b[0m \u001b[31mInaccurate G! step= 2.98023e-08 Deriv= -0.00872759 Finite Diff= -0.000857502\u001b[0m\n",
      "\u001b[0mcore.optimization.LineMinimizer: \u001b[0m\u001b[31m\u001b[1m[ ERROR ]\u001b[0m \u001b[31mInaccurate G! step= 1.19209e-07 Deriv= -2.82962e-05 Finite Diff= -1.78814e-06\u001b[0m\n",
      "\u001b[0mcore.optimization.LineMinimizer: \u001b[0m\u001b[31m\u001b[1m[ ERROR ]\u001b[0m \u001b[31mInaccurate G! step= 1.90735e-06 Deriv= -0.0002544 Finite Diff= 0.000105936\u001b[0m\n",
      "\u001b[0mcore.optimization.LineMinimizer: \u001b[0m\u001b[31m\u001b[1m[ ERROR ]\u001b[0m \u001b[31mInaccurate G! step= 5.96046e-08 Deriv= -0.00251923 Finite Diff= 0.00110707\u001b[0m\n",
      "\u001b[0mcore.optimization.LineMinimizer: \u001b[0m\u001b[31m\u001b[1m[ ERROR ]\u001b[0m \u001b[31mInaccurate G! step= 3.8147e-06 Deriv= -0.000722136 Finite Diff= 9.62443e-05\u001b[0m\n",
      "\u001b[0mcore.optimization.LineMinimizer: \u001b[0m\u001b[31m\u001b[1m[ ERROR ]\u001b[0m \u001b[31mInaccurate G! step= 9.53674e-07 Deriv= -2.89581e-05 Finite Diff= 1.06355e-05\u001b[0m\n",
      "\u001b[0mcore.optimization.LineMinimizer: \u001b[0m\u001b[31m\u001b[1m[ ERROR ]\u001b[0m \u001b[31mInaccurate G! step= 3.8147e-06 Deriv= -0.00237491 Finite Diff= -0.000120967\u001b[0m\n",
      "\u001b[0mcore.optimization.LineMinimizer: \u001b[0m\u001b[31m\u001b[1m[ ERROR ]\u001b[0m \u001b[31mInaccurate G! step= 9.53674e-07 Deriv= -0.00202449 Finite Diff= 0.000110457\u001b[0m\n",
      "\u001b[0mcore.optimization.LineMinimizer: \u001b[0m\u001b[31m\u001b[1m[ ERROR ]\u001b[0m \u001b[31mInaccurate G! step= 1.19209e-07 Deriv= -0.00337018 Finite Diff= 0.00019918\u001b[0m\n",
      "\u001b[0mcore.optimization.LineMinimizer: \u001b[0m\u001b[31m\u001b[1m[ ERROR ]\u001b[0m \u001b[31mInaccurate G! step= 3.8147e-06 Deriv= -2.5251e-05 Finite Diff= 5.38379e-05\u001b[0m\n",
      "\u001b[0mcore.optimization.LineMinimizer: \u001b[0m\u001b[31m\u001b[1m[ ERROR ]\u001b[0m \u001b[31mInaccurate G! step= 3.8147e-06 Deriv= -0.00033948 Finite Diff= 0.000507814\u001b[0m\n",
      "\u001b[0mcore.optimization.LineMinimizer: \u001b[0m\u001b[31m\u001b[1m[ ERROR ]\u001b[0m \u001b[31mInaccurate G! step= 1.90735e-06 Deriv= -0.00475027 Finite Diff= 8.90989e-05\u001b[0m\n",
      "\u001b[0mcore.optimization.LineMinimizer: \u001b[0m\u001b[31m\u001b[1m[ ERROR ]\u001b[0m \u001b[31mInaccurate G! step= 3.8147e-06 Deriv= -0.000452897 Finite Diff= 0.000110205\u001b[0m\n",
      "\u001b[0mcore.optimization.LineMinimizer: \u001b[0m\u001b[31m\u001b[1m[ ERROR ]\u001b[0m \u001b[31mInaccurate G! step= 3.8147e-06 Deriv= -0.000387914 Finite Diff= 8.94901e-05\u001b[0m\n",
      "\u001b[0mcore.optimization.LineMinimizer: \u001b[0m\u001b[31m\u001b[1m[ ERROR ]\u001b[0m \u001b[31mInaccurate G! step= 3.8147e-06 Deriv= -5.10576e-05 Finite Diff= 2.45534e-05\u001b[0m\n",
      "\u001b[0mcore.optimization.LineMinimizer: \u001b[0m\u001b[31m\u001b[1m[ ERROR ]\u001b[0m \u001b[31mInaccurate G! step= 1.90735e-06 Deriv= -0.0122834 Finite Diff= 0.00117147\u001b[0m\n",
      "\u001b[0mcore.optimization.LineMinimizer: \u001b[0m\u001b[31m\u001b[1m[ ERROR ]\u001b[0m \u001b[31mInaccurate G! step= 3.8147e-06 Deriv= -5.53244e-05 Finite Diff= 2.67755e-07\u001b[0m\n",
      "\u001b[0mcore.optimization.LineMinimizer: \u001b[0m\u001b[31m\u001b[1m[ ERROR ]\u001b[0m \u001b[31mInaccurate G! step= 3.8147e-06 Deriv= -0.000628113 Finite Diff= 0.000482626\u001b[0m\n",
      "\u001b[0mcore.optimization.LineMinimizer: \u001b[0m\u001b[31m\u001b[1m[ ERROR ]\u001b[0m \u001b[31mInaccurate G! step= 3.8147e-06 Deriv= -6.37725e-05 Finite Diff= 2.41417e-05\u001b[0m\n",
      "\u001b[0mcore.optimization.LineMinimizer: \u001b[0m\u001b[31m\u001b[1m[ ERROR ]\u001b[0m \u001b[31mInaccurate G! step= 3.8147e-06 Deriv= -0.000282795 Finite Diff= 8.51182e-06\u001b[0m\n",
      "\u001b[0mcore.optimization.LineMinimizer: \u001b[0m\u001b[31m\u001b[1m[ ERROR ]\u001b[0m \u001b[31mInaccurate G! step= 3.8147e-06 Deriv= -5.75765e-05 Finite Diff= 1.03214e-05\u001b[0m\n",
      "\u001b[0mcore.optimization.LineMinimizer: \u001b[0m\u001b[31m\u001b[1m[ ERROR ]\u001b[0m \u001b[31mInaccurate G! step= 3.8147e-06 Deriv= -0.000176978 Finite Diff= 3.12906e-05\u001b[0m\n",
      "\u001b[0mcore.optimization.LineMinimizer: \u001b[0m\u001b[31m\u001b[1m[ ERROR ]\u001b[0m \u001b[31mInaccurate G! step= 1.90735e-06 Deriv= -1.39997e-05 Finite Diff= -1.04506e-06\u001b[0m\n",
      "\u001b[0mcore.optimization.LineMinimizer: \u001b[0m\u001b[31m\u001b[1m[ ERROR ]\u001b[0m \u001b[31mInaccurate G! step= 3.8147e-06 Deriv= -0.0195491 Finite Diff= 0.00170167\u001b[0m\n",
      "\u001b[0mcore.optimization.LineMinimizer: \u001b[0m\u001b[31m\u001b[1m[ ERROR ]\u001b[0m \u001b[31mInaccurate G! step= 4.76837e-07 Deriv= -0.00277365 Finite Diff= 0.00525555\u001b[0m\n",
      "\u001b[0mcore.optimization.LineMinimizer: \u001b[0m\u001b[31m\u001b[1m[ ERROR ]\u001b[0m \u001b[31mInaccurate G! step= 4.76837e-07 Deriv= -0.000500961 Finite Diff= 0.000152929\u001b[0m\n",
      "\u001b[0mcore.optimization.LineMinimizer: \u001b[0m\u001b[31m\u001b[1m[ ERROR ]\u001b[0m \u001b[31mInaccurate G! step= 3.8147e-06 Deriv= -2.18121e+06 Finite Diff= 1.18526e+07\u001b[0m\n",
      "\u001b[0mcore.optimization.LineMinimizer: \u001b[0m\u001b[31m\u001b[1m[ ERROR ]\u001b[0m \u001b[31mInaccurate G! step= 1.90735e-06 Deriv= -5.24533e-05 Finite Diff= 9.23942e-05\u001b[0m\n",
      "\u001b[0mcore.optimization.LineMinimizer: \u001b[0m\u001b[31m\u001b[1m[ ERROR ]\u001b[0m \u001b[31mInaccurate G! step= 3.8147e-06 Deriv= -0.000195481 Finite Diff= -2.59187e-06\u001b[0m\n",
      "\u001b[0mcore.optimization.LineMinimizer: \u001b[0m\u001b[31m\u001b[1m[ ERROR ]\u001b[0m \u001b[31mInaccurate G! step= 1.90735e-06 Deriv= -6.01697e-05 Finite Diff= 3.89852e-06\u001b[0m\n",
      "\u001b[0mcore.optimization.LineMinimizer: \u001b[0m\u001b[31m\u001b[1m[ ERROR ]\u001b[0m \u001b[31mInaccurate G! step= 3.8147e-06 Deriv= -0.0118759 Finite Diff= -0.000496857\u001b[0m\n",
      "\u001b[0mcore.optimization.LineMinimizer: \u001b[0m\u001b[31m\u001b[1m[ ERROR ]\u001b[0m \u001b[31mInaccurate G! step= 1.90735e-06 Deriv= -0.000747402 Finite Diff= 5.06639e-06\u001b[0m\n",
      "\u001b[0mcore.optimization.LineMinimizer: \u001b[0m\u001b[31m\u001b[1m[ ERROR ]\u001b[0m \u001b[31mInaccurate G! step= 3.8147e-06 Deriv= -0.050823 Finite Diff= 0.0490715\u001b[0m\n",
      "\u001b[0mcore.optimization.LineMinimizer: \u001b[0m\u001b[31m\u001b[1m[ ERROR ]\u001b[0m \u001b[31mInaccurate G! step= 3.8147e-06 Deriv= -0.000161939 Finite Diff= 5.18244e-05\u001b[0m\n",
      "\u001b[0mcore.optimization.LineMinimizer: \u001b[0m\u001b[31m\u001b[1m[ ERROR ]\u001b[0m \u001b[31mInaccurate G! step= 3.8147e-06 Deriv= -0.000497661 Finite Diff= -2.00905e-05\u001b[0m\n",
      "\u001b[0mcore.optimization.LineMinimizer: \u001b[0m\u001b[31m\u001b[1m[ ERROR ]\u001b[0m \u001b[31mInaccurate G! step= 3.8147e-06 Deriv= -0.00803658 Finite Diff= 0.000723202\u001b[0m\n",
      "\u001b[0mcore.optimization.LineMinimizer: \u001b[0m\u001b[31m\u001b[1m[ ERROR ]\u001b[0m \u001b[31mInaccurate G! step= 9.53674e-07 Deriv= -0.000388785 Finite Diff= 2.06847e-06\u001b[0m\n",
      "\u001b[0mcore.optimization.LineMinimizer: \u001b[0m\u001b[31m\u001b[1m[ ERROR ]\u001b[0m \u001b[31mInaccurate G! step= 3.8147e-06 Deriv= -0.000199844 Finite Diff= 2.94636e-05\u001b[0m\n",
      "\u001b[0mcore.optimization.LineMinimizer: \u001b[0m\u001b[31m\u001b[1m[ ERROR ]\u001b[0m \u001b[31mInaccurate G! step= 3.8147e-06 Deriv= -0.000135248 Finite Diff= 2.80386e-05\u001b[0m\n",
      "\u001b[0mcore.optimization.LineMinimizer: \u001b[0m\u001b[31m\u001b[1m[ ERROR ]\u001b[0m \u001b[31mInaccurate G! step= 7.45058e-09 Deriv= -0.000401339 Finite Diff= 0.00733852\u001b[0m\n",
      "\u001b[0mcore.optimization.LineMinimizer: \u001b[0m\u001b[31m\u001b[1m[ ERROR ]\u001b[0m \u001b[31mInaccurate G! step= 3.8147e-06 Deriv= -0.000764515 Finite Diff= -7.99773e-06\u001b[0m\n",
      "\u001b[0mcore.optimization.LineMinimizer: \u001b[0m\u001b[31m\u001b[1m[ ERROR ]\u001b[0m \u001b[31mInaccurate G! step= 1.19209e-07 Deriv= -0.00873103 Finite Diff= 0.00713567\u001b[0m\n",
      "\u001b[0mcore.optimization.LineMinimizer: \u001b[0m\u001b[31m\u001b[1m[ ERROR ]\u001b[0m \u001b[31mInaccurate G! step= 2.38419e-07 Deriv= -0.620499 Finite Diff= -0.0586987\u001b[0m\n",
      "\u001b[0mcore.optimization.LineMinimizer: \u001b[0m\u001b[31m\u001b[1m[ ERROR ]\u001b[0m \u001b[31mInaccurate G! step= 7.45058e-09 Deriv= -0.000271256 Finite Diff= 0.00024569\u001b[0m\n",
      "\u001b[0mcore.optimization.LineMinimizer: \u001b[0m\u001b[31m\u001b[1m[ ERROR ]\u001b[0m \u001b[31mInaccurate G! step= 3.8147e-06 Deriv= -0.00250699 Finite Diff= 0.000560004\u001b[0m\n",
      "\u001b[0mcore.optimization.LineMinimizer: \u001b[0m\u001b[31m\u001b[1m[ ERROR ]\u001b[0m \u001b[31mInaccurate G! step= 1.90735e-06 Deriv= -7.42261e-05 Finite Diff= -3.11388e-06\u001b[0m\n",
      "\u001b[0mcore.optimization.LineMinimizer: \u001b[0m\u001b[31m\u001b[1m[ ERROR ]\u001b[0m \u001b[31mInaccurate G! step= 4.76837e-07 Deriv= -1.21027e-05 Finite Diff= 2.29618e-06\u001b[0m\n",
      "\u001b[0mcore.optimization.LineMinimizer: \u001b[0m\u001b[31m\u001b[1m[ ERROR ]\u001b[0m \u001b[31mInaccurate G! step= 9.53674e-07 Deriv= -4.22502e-05 Finite Diff= 3.11993e-06\u001b[0m\n",
      "\u001b[0mcore.optimization.LineMinimizer: \u001b[0m\u001b[31m\u001b[1m[ ERROR ]\u001b[0m \u001b[31mInaccurate G! step= 1.90735e-06 Deriv= -0.00019504 Finite Diff= -1.15521e-05\u001b[0m\n",
      "\u001b[0mcore.optimization.LineMinimizer: \u001b[0m\u001b[31m\u001b[1m[ ERROR ]\u001b[0m \u001b[31mInaccurate G! step= 4.76837e-07 Deriv= -0.000859934 Finite Diff= 9.83495e-05\u001b[0m\n",
      "\u001b[0mcore.optimization.LineMinimizer: \u001b[0m\u001b[31m\u001b[1m[ ERROR ]\u001b[0m \u001b[31mInaccurate G! step= 2.38419e-07 Deriv= -0.00578569 Finite Diff= -0.000394971\u001b[0m\n",
      "\u001b[0mcore.optimization.LineMinimizer: \u001b[0m\u001b[31m\u001b[1m[ ERROR ]\u001b[0m \u001b[31mInaccurate G! step= 2.38419e-07 Deriv= -0.000277275 Finite Diff= 4.8751e-05\u001b[0m\n",
      "\u001b[0mcore.optimization.LineMinimizer: \u001b[0m\u001b[31m\u001b[1m[ ERROR ]\u001b[0m \u001b[31mInaccurate G! step= 1.90735e-06 Deriv= -1.75598e-05 Finite Diff= 3.42121e-06\u001b[0m\n",
      "\u001b[0mcore.optimization.LineMinimizer: \u001b[0m\u001b[31m\u001b[1m[ ERROR ]\u001b[0m \u001b[31mInaccurate G! step= 3.8147e-06 Deriv= -0.000926635 Finite Diff= -5.35839e-05\u001b[0m\n",
      "\u001b[0mcore.optimization.LineMinimizer: \u001b[0m\u001b[31m\u001b[1m[ ERROR ]\u001b[0m \u001b[31mInaccurate G! step= 3.8147e-06 Deriv= -0.00118994 Finite Diff= 0.000325823\u001b[0m\n"
     ]
    },
    {
     "name": "stdout",
     "output_type": "stream",
     "text": [
      "\u001b[0mcore.optimization.LineMinimizer: \u001b[0m\u001b[31m\u001b[1m[ ERROR ]\u001b[0m \u001b[31mInaccurate G! step= 4.76837e-07 Deriv= -0.00418272 Finite Diff= -0.000225242\u001b[0m\n",
      "\u001b[0mcore.optimization.LineMinimizer: \u001b[0m\u001b[31m\u001b[1m[ ERROR ]\u001b[0m \u001b[31mInaccurate G! step= 3.8147e-06 Deriv= -7.93203e-05 Finite Diff= 8.45292e-06\u001b[0m\n",
      "\u001b[0mcore.optimization.LineMinimizer: \u001b[0m\u001b[31m\u001b[1m[ ERROR ]\u001b[0m \u001b[31mInaccurate G! step= 4.76837e-07 Deriv= -0.000381295 Finite Diff= -1.55233e-05\u001b[0m\n",
      "\u001b[0mcore.optimization.LineMinimizer: \u001b[0m\u001b[31m\u001b[1m[ ERROR ]\u001b[0m \u001b[31mInaccurate G! step= 1.90735e-06 Deriv= -0.000444839 Finite Diff= 4.28884e-05\u001b[0m\n",
      "\u001b[0mcore.optimization.LineMinimizer: \u001b[0m\u001b[31m\u001b[1m[ ERROR ]\u001b[0m \u001b[31mInaccurate G! step= 3.8147e-06 Deriv= -0.000115249 Finite Diff= 9.96981e-06\u001b[0m\n",
      "\u001b[0mcore.optimization.LineMinimizer: \u001b[0m\u001b[31m\u001b[1m[ ERROR ]\u001b[0m \u001b[31mInaccurate G! step= 3.8147e-06 Deriv= -0.000739298 Finite Diff= -3.99264e-05\u001b[0m\n",
      "\u001b[0mcore.optimization.LineMinimizer: \u001b[0m\u001b[31m\u001b[1m[ ERROR ]\u001b[0m \u001b[31mInaccurate G! step= 1.90735e-06 Deriv= -0.000209763 Finite Diff= -2.08206e-05\u001b[0m\n",
      "\u001b[0mcore.optimization.LineMinimizer: \u001b[0m\u001b[31m\u001b[1m[ ERROR ]\u001b[0m \u001b[31mInaccurate G! step= 3.8147e-06 Deriv= -0.000560513 Finite Diff= -2.68067e-05\u001b[0m\n",
      "\u001b[0mcore.optimization.LineMinimizer: \u001b[0m\u001b[31m\u001b[1m[ ERROR ]\u001b[0m \u001b[31mInaccurate G! step= 9.53674e-07 Deriv= -0.000138522 Finite Diff= 2.56533e-05\u001b[0m\n",
      "\u001b[0mcore.optimization.LineMinimizer: \u001b[0m\u001b[31m\u001b[1m[ ERROR ]\u001b[0m \u001b[31mInaccurate G! step= 1.90735e-06 Deriv= -1.94378e-05 Finite Diff= 1.68215e-05\u001b[0m\n",
      "\u001b[0mcore.optimization.LineMinimizer: \u001b[0m\u001b[31m\u001b[1m[ ERROR ]\u001b[0m \u001b[31mInaccurate G! step= 1.90735e-06 Deriv= -0.0021489 Finite Diff= 0.000233265\u001b[0m\n",
      "\u001b[0mcore.optimization.LineMinimizer: \u001b[0m\u001b[31m\u001b[1m[ ERROR ]\u001b[0m \u001b[31mInaccurate G! step= 3.8147e-06 Deriv= -0.000181092 Finite Diff= 3.1314e-05\u001b[0m\n",
      "\u001b[0mcore.optimization.LineMinimizer: \u001b[0m\u001b[31m\u001b[1m[ ERROR ]\u001b[0m \u001b[31mInaccurate G! step= 3.8147e-06 Deriv= -9106.82 Finite Diff= 9223.27\u001b[0m\n",
      "\u001b[0mcore.optimization.LineMinimizer: \u001b[0m\u001b[31m\u001b[1m[ ERROR ]\u001b[0m \u001b[31mInaccurate G! step= 1.90735e-06 Deriv= -3.80469e-05 Finite Diff= 3.62355e-05\u001b[0m\n",
      "\u001b[0mcore.optimization.LineMinimizer: \u001b[0m\u001b[31m\u001b[1m[ ERROR ]\u001b[0m \u001b[31mInaccurate G! step= 3.8147e-06 Deriv= -9.80569e-05 Finite Diff= -1.82242e-06\u001b[0m\n",
      "\u001b[0mcore.optimization.LineMinimizer: \u001b[0m\u001b[31m\u001b[1m[ ERROR ]\u001b[0m \u001b[31mInaccurate G! step= 9.53674e-07 Deriv= -3.74799e-05 Finite Diff= 4.57279e-05\u001b[0m\n",
      "\u001b[0mcore.optimization.LineMinimizer: \u001b[0m\u001b[31m\u001b[1m[ ERROR ]\u001b[0m \u001b[31mInaccurate G! step= 2.38419e-07 Deriv= -0.00026854 Finite Diff= 2.53227e-05\u001b[0m\n",
      "\u001b[0mcore.optimization.LineMinimizer: \u001b[0m\u001b[31m\u001b[1m[ ERROR ]\u001b[0m \u001b[31mInaccurate G! step= 3.8147e-06 Deriv= -0.000524182 Finite Diff= 1.55721e-05\u001b[0m\n",
      "\u001b[0mcore.optimization.LineMinimizer: \u001b[0m\u001b[31m\u001b[1m[ ERROR ]\u001b[0m \u001b[31mInaccurate G! step= 1.90735e-06 Deriv= -0.00104918 Finite Diff= 5.71739e-06\u001b[0m\n",
      "\u001b[0mcore.optimization.LineMinimizer: \u001b[0m\u001b[31m\u001b[1m[ ERROR ]\u001b[0m \u001b[31mInaccurate G! step= 3.8147e-06 Deriv= -0.000700775 Finite Diff= 0.000445632\u001b[0m\n",
      "\u001b[0mcore.optimization.LineMinimizer: \u001b[0m\u001b[31m\u001b[1m[ ERROR ]\u001b[0m \u001b[31mInaccurate G! step= 4.76837e-07 Deriv= -0.000791788 Finite Diff= 0.000369422\u001b[0m\n",
      "\u001b[0mcore.optimization.LineMinimizer: \u001b[0m\u001b[31m\u001b[1m[ ERROR ]\u001b[0m \u001b[31mInaccurate G! step= 9.53674e-07 Deriv= -0.000317042 Finite Diff= 4.94383e-05\u001b[0m\n",
      "\u001b[0mcore.optimization.LineMinimizer: \u001b[0m\u001b[31m\u001b[1m[ ERROR ]\u001b[0m \u001b[31mInaccurate G! step= 2.38419e-07 Deriv= -0.000656441 Finite Diff= 0.000239272\u001b[0m\n",
      "\u001b[0mcore.optimization.LineMinimizer: \u001b[0m\u001b[31m\u001b[1m[ ERROR ]\u001b[0m \u001b[31mInaccurate G! step= 9.53674e-07 Deriv= -0.00138039 Finite Diff= 0.00193039\u001b[0m\n",
      "\u001b[0mcore.optimization.LineMinimizer: \u001b[0m\u001b[31m\u001b[1m[ ERROR ]\u001b[0m \u001b[31mInaccurate G! step= 3.8147e-06 Deriv= -0.000502948 Finite Diff= 3.93239e-05\u001b[0m\n",
      "\u001b[0mcore.optimization.LineMinimizer: \u001b[0m\u001b[31m\u001b[1m[ ERROR ]\u001b[0m \u001b[31mInaccurate G! step= 3.8147e-06 Deriv= -0.000505456 Finite Diff= 3.48487e-05\u001b[0m\n",
      "\u001b[0mcore.optimization.LineMinimizer: \u001b[0m\u001b[31m\u001b[1m[ ERROR ]\u001b[0m \u001b[31mInaccurate G! step= 3.8147e-06 Deriv= -0.0151256 Finite Diff= 0.00102435\u001b[0m\n",
      "\u001b[0mcore.optimization.LineMinimizer: \u001b[0m\u001b[31m\u001b[1m[ ERROR ]\u001b[0m \u001b[31mInaccurate G! step= 1.90735e-06 Deriv= -0.000378194 Finite Diff= 2.98567e-05\u001b[0m\n",
      "\u001b[0mcore.optimization.LineMinimizer: \u001b[0m\u001b[31m\u001b[1m[ ERROR ]\u001b[0m \u001b[31mInaccurate G! step= 1.90735e-06 Deriv= -0.00011846 Finite Diff= -2.3949e-06\u001b[0m\n",
      "\u001b[0mcore.optimization.LineMinimizer: \u001b[0m\u001b[31m\u001b[1m[ ERROR ]\u001b[0m \u001b[31mInaccurate G! step= 2.38419e-07 Deriv= -0.00042332 Finite Diff= 0.000111554\u001b[0m\n",
      "\u001b[0mcore.optimization.LineMinimizer: \u001b[0m\u001b[31m\u001b[1m[ ERROR ]\u001b[0m \u001b[31mInaccurate G! step= 1.90735e-06 Deriv= -0.00780085 Finite Diff= -0.00065837\u001b[0m\n",
      "\u001b[0mcore.optimization.LineMinimizer: \u001b[0m\u001b[31m\u001b[1m[ ERROR ]\u001b[0m \u001b[31mInaccurate G! step= 5.96046e-08 Deriv= -7.81691e-05 Finite Diff= 5.99399e-05\u001b[0m\n",
      "\u001b[0mcore.optimization.LineMinimizer: \u001b[0m\u001b[31m\u001b[1m[ ERROR ]\u001b[0m \u001b[31mInaccurate G! step= 1.19209e-07 Deriv= -0.000599144 Finite Diff= 5.90831e-06\u001b[0m\n",
      "\u001b[0mcore.optimization.LineMinimizer: \u001b[0m\u001b[31m\u001b[1m[ ERROR ]\u001b[0m \u001b[31mInaccurate G! step= 9.53674e-07 Deriv= -1.15846e-05 Finite Diff= 2.75839e-05\u001b[0m\n",
      "\u001b[0mcore.optimization.LineMinimizer: \u001b[0m\u001b[31m\u001b[1m[ ERROR ]\u001b[0m \u001b[31mInaccurate G! step= 2.38419e-07 Deriv= -0.0125791 Finite Diff= 0.000375016\u001b[0m\n",
      "\u001b[0mcore.optimization.LineMinimizer: \u001b[0m\u001b[31m\u001b[1m[ ERROR ]\u001b[0m \u001b[31mInaccurate G! step= 3.8147e-06 Deriv= -1.34664e-05 Finite Diff= 1.56227e-05\u001b[0m\n",
      "\u001b[0mcore.optimization.LineMinimizer: \u001b[0m\u001b[31m\u001b[1m[ ERROR ]\u001b[0m \u001b[31mInaccurate G! step= 9.53674e-07 Deriv= -0.000282203 Finite Diff= 0.000229187\u001b[0m\n",
      "\u001b[0mcore.optimization.LineMinimizer: \u001b[0m\u001b[31m\u001b[1m[ ERROR ]\u001b[0m \u001b[31mInaccurate G! step= 1.90735e-06 Deriv= -4.95443e-05 Finite Diff= 1.4876e-05\u001b[0m\n",
      "\u001b[0mcore.optimization.LineMinimizer: \u001b[0m\u001b[31m\u001b[1m[ ERROR ]\u001b[0m \u001b[31mInaccurate G! step= 3.8147e-06 Deriv= -5.03062e-05 Finite Diff= 7.20703e-05\u001b[0m\n",
      "\u001b[0mcore.optimization.LineMinimizer: \u001b[0m\u001b[31m\u001b[1m[ ERROR ]\u001b[0m \u001b[31mInaccurate G! step= 1.90735e-06 Deriv= -0.000481166 Finite Diff= 0.000276084\u001b[0m\n",
      "\u001b[0mcore.optimization.LineMinimizer: \u001b[0m\u001b[31m\u001b[1m[ ERROR ]\u001b[0m \u001b[31mInaccurate G! step= 2.38419e-07 Deriv= -0.00226053 Finite Diff= -7.55116e-05\u001b[0m\n",
      "\u001b[0mcore.optimization.LineMinimizer: \u001b[0m\u001b[31m\u001b[1m[ ERROR ]\u001b[0m \u001b[31mInaccurate G! step= 3.8147e-06 Deriv= -0.000315521 Finite Diff= -9.22475e-06\u001b[0m\n",
      "\u001b[0mcore.optimization.LineMinimizer: \u001b[0m\u001b[31m\u001b[1m[ ERROR ]\u001b[0m \u001b[31mInaccurate G! step= 4.76837e-07 Deriv= -0.000116666 Finite Diff= -9.70624e-06\u001b[0m\n",
      "\u001b[0mcore.optimization.LineMinimizer: \u001b[0m\u001b[31m\u001b[1m[ ERROR ]\u001b[0m \u001b[31mInaccurate G! step= 3.8147e-06 Deriv= -0.000119726 Finite Diff= 8.72805e-05\u001b[0m\n",
      "\u001b[0mcore.optimization.LineMinimizer: \u001b[0m\u001b[31m\u001b[1m[ ERROR ]\u001b[0m \u001b[31mInaccurate G! step= 3.8147e-06 Deriv= -4.52138e-05 Finite Diff= 1.5205e-05\u001b[0m\n",
      "\u001b[0mcore.optimization.LineMinimizer: \u001b[0m\u001b[31m\u001b[1m[ ERROR ]\u001b[0m \u001b[31mInaccurate G! step= 9.53674e-07 Deriv= -0.0124781 Finite Diff= 0.0741939\u001b[0m\n",
      "\u001b[0mcore.optimization.LineMinimizer: \u001b[0m\u001b[31m\u001b[1m[ ERROR ]\u001b[0m \u001b[31mInaccurate G! step= 3.8147e-06 Deriv= -7.84616e-05 Finite Diff= 0.00259076\u001b[0m\n",
      "\u001b[0mcore.optimization.LineMinimizer: \u001b[0m\u001b[31m\u001b[1m[ ERROR ]\u001b[0m \u001b[31mInaccurate G! step= 1.90735e-06 Deriv= -1.14382e-05 Finite Diff= 7.44173e-06\u001b[0m\n",
      "\u001b[0mcore.optimization.LineMinimizer: \u001b[0m\u001b[31m\u001b[1m[ ERROR ]\u001b[0m \u001b[31mInaccurate G! step= 3.8147e-06 Deriv= -0.000762266 Finite Diff= -3.60635e-05\u001b[0m\n",
      "\u001b[0mcore.optimization.LineMinimizer: \u001b[0m\u001b[31m\u001b[1m[ ERROR ]\u001b[0m \u001b[31mInaccurate G! step= 7.45058e-09 Deriv= -2.18557e+07 Finite Diff= 1.45335e+07\u001b[0m\n",
      "\u001b[0mcore.optimization.LineMinimizer: \u001b[0m\u001b[31m\u001b[1m[ ERROR ]\u001b[0m \u001b[31mInaccurate G! step= 3.8147e-06 Deriv= -5.07828e-05 Finite Diff= 3.50743e-05\u001b[0m\n",
      "\u001b[0mcore.optimization.LineMinimizer: \u001b[0m\u001b[31m\u001b[1m[ ERROR ]\u001b[0m \u001b[31mInaccurate G! step= 3.8147e-06 Deriv= -0.000632695 Finite Diff= 0.000860235\u001b[0m\n",
      "\u001b[0mcore.optimization.LineMinimizer: \u001b[0m\u001b[31m\u001b[1m[ ERROR ]\u001b[0m \u001b[31mInaccurate G! step= 3.8147e-06 Deriv= -0.00093617 Finite Diff= 0.000159974\u001b[0m\n",
      "\u001b[0mcore.optimization.LineMinimizer: \u001b[0m\u001b[31m\u001b[1m[ ERROR ]\u001b[0m \u001b[31mInaccurate G! step= 3.8147e-06 Deriv= -2.75777e-05 Finite Diff= 0.000121089\u001b[0m\n",
      "\u001b[0mcore.optimization.LineMinimizer: \u001b[0m\u001b[31m\u001b[1m[ ERROR ]\u001b[0m \u001b[31mInaccurate G! step= 3.8147e-06 Deriv= -0.000125062 Finite Diff= -5.27676e-06\u001b[0m\n"
     ]
    },
    {
     "name": "stdout",
     "output_type": "stream",
     "text": [
      "\u001b[0mcore.optimization.LineMinimizer: \u001b[0m\u001b[31m\u001b[1m[ ERROR ]\u001b[0m \u001b[31mInaccurate G! step= 3.8147e-06 Deriv= -6.56871e-05 Finite Diff= 1.72295e-06\u001b[0m\n"
     ]
    },
    {
     "data": {
      "text/plain": [
       "'\\n# South, anti\\npose.set_torsion(TorsionID(1, BB, 4), 145.4)\\npose.set_torsion(TorsionID(1, BB, 5), -97.4)\\npose.set_torsion(TorsionID(1, CHI, 1), -56.6)\\npose.set_torsion(TorsionID(1, CHI, 2), -37.2)\\npose.set_torsion(TorsionID(1, CHI, 3), 155.5)\\npose.set_torsion(TorsionID(2, BB, 1), 66.7)\\npose.set_torsion(TorsionID(2, BB, 3), -62.9)\\npose.set_torsion(TorsionID(2, BB, 4), 145.4)\\npose.set_torsion(TorsionID(2, CHI, 1), -56.6)\\npose.set_torsion(TorsionID(2, CHI, 2), -37.2)\\npose.set_torsion(TorsionID(2, CHI, 3), 155.5)\\n'"
      ]
     },
     "execution_count": 225,
     "metadata": {},
     "output_type": "execute_result"
    }
   ],
   "source": [
    "# Code for a purine stacked on a purine\n",
    "\n",
    "for delta in [84.4, 145.4]:\n",
    "    \n",
    "    for alpha in [-64.3, 66.7, 156.6]:\n",
    "        \n",
    "        pose, movemap, dof_dict = initialiize_pose(seq)\n",
    "        \n",
    "        # These will set the terminal base pair to C2'-endo (south)\n",
    "        #pose.set_torsion(TorsionID(n, BB, 4), 145.5)\n",
    "        #pose.set_torsion(TorsionID(n, CHI, 2), -37.2)\n",
    "        #pose.set_torsion(TorsionID(n, CHI, 3), 155.5)\n",
    "        \n",
    "        # C3'-endo\n",
    "        if delta == 84.4:\n",
    "            \n",
    "            possible_chi = [-110.9, -51.9, 72.4]\n",
    "            possible_eps = [-150.4, 16.8, 76.2]\n",
    "            \n",
    "        #C2'-endo\n",
    "        else:\n",
    "            \n",
    "            possible_chi = [-56.6, 119.0]\n",
    "            possible_eps = [-97.4, 0, 75.2]\n",
    "            \n",
    "            for ii in range(len(seq)-1):\n",
    "                \n",
    "                pose.set_torsion(TorsionID(ii+1, CHI, 2), -37.2)\n",
    "                pose.set_torsion(TorsionID(ii+1, CHI, 3), 155.5)\n",
    "                \n",
    "        if alpha == -64.3: possible_zeta = [-71.8, 167.55]\n",
    "        elif alpha == 66.7: possible_zeta = [-69.5, 56.5]\n",
    "        else: possible_zeta = [-131.6, 79.]\n",
    "        \n",
    "        \n",
    "        torsion_lists = itertools.product([delta], possible_eps, possible_zeta, possible_chi, [alpha], [177.3], \n",
    "                                          [-62.9, 53.5, 175.8],[-56.6, 119.0])\n",
    "        \n",
    "        \n",
    "        \n",
    "        for torsion_list in list(torsion_lists):\n",
    "            \n",
    "            pose.set_torsion(TorsionID(1, BB, 4), torsion_list[0])\n",
    "            pose.set_torsion(TorsionID(1, BB, 5), torsion_list[1])\n",
    "            pose.set_torsion(TorsionID(1, BB, 5), torsion_list[2])\n",
    "            pose.set_torsion(TorsionID(1, CHI, 1), torsion_list[3])\n",
    "            pose.set_torsion(TorsionID(2, BB, 1), torsion_list[4])\n",
    "            pose.set_torsion(TorsionID(2, BB, 2), torsion_list[5])\n",
    "            pose.set_torsion(TorsionID(2, BB, 3), torsion_list[6])\n",
    "            pose.set_torsion(TorsionID(2, CHI, 1), torsion_list[7])\n",
    "        \n",
    "            minmover = rosetta.protocols.minimization_packing.MinMover(movemap, scorefxn, 'lbfgs_armijo', 1.0e-7, True)\n",
    "            minmover.max_iter(1000000)\n",
    "            minmover.min_options().use_nblist(True)\n",
    "            minmover.min_options().nblist_auto_update(True)\n",
    "            minmover.apply(pose)\n",
    "            pmm.apply(pose)\n",
    "\n",
    "            E_min = scorefxn(pose)\n",
    "            \n",
    "            \n",
    "            minimum = Pose()\n",
    "            minimum.assign(pose)\n",
    "            \n",
    "            dofs = []\n",
    "\n",
    "            for val in dof_dict.itervalues(): dofs.append(pose.torsion(val))\n",
    "            dofs = np.array(dofs)\n",
    "\n",
    "            if is_repeat_minimum(dofs, dof_lists):\n",
    "                \n",
    "                continue\n",
    "                \n",
    "            dof_lists.append(dofs)\n",
    "                    \n",
    "                    \n",
    "            hessian = calculate_hessian(pose, scorefxn, dof_dict)\n",
    "            w,v = scipy.linalg.eigh(hessian)\n",
    "\n",
    "            if not np.all(w > 0.):\n",
    "                continue\n",
    "\n",
    "                        \n",
    "            #for E in E_list: \n",
    "            #    \n",
    "            #    if abs(E-E_min) < 0.01: \n",
    "            #        i = 1\n",
    "            #        break\n",
    "            #        \n",
    "            #if i == 1: \n",
    "            #    i = 0\n",
    "            #    continue\n",
    "            \n",
    "\n",
    "            E_list.append(E_min)\n",
    "            Z = 1\n",
    "\n",
    "            for kk, K in enumerate(w):\n",
    "\n",
    "                Z *= mode_scan(pose, dofs, dof_dict, scorefxn, v[:,kk])\n",
    "\n",
    "            #mu_list.append(scorefxn(minimum) - 0.6163*np.log(Z))\n",
    "            mu_list = np.append(mu_list, scorefxn(minimum)- 0.6163*np.log(Z))\n",
    "\n",
    "'''\n",
    "# South, anti\n",
    "pose.set_torsion(TorsionID(1, BB, 4), 145.4)\n",
    "pose.set_torsion(TorsionID(1, BB, 5), -97.4)\n",
    "pose.set_torsion(TorsionID(1, CHI, 1), -56.6)\n",
    "pose.set_torsion(TorsionID(1, CHI, 2), -37.2)\n",
    "pose.set_torsion(TorsionID(1, CHI, 3), 155.5)\n",
    "pose.set_torsion(TorsionID(2, BB, 1), 66.7)\n",
    "pose.set_torsion(TorsionID(2, BB, 3), -62.9)\n",
    "pose.set_torsion(TorsionID(2, BB, 4), 145.4)\n",
    "pose.set_torsion(TorsionID(2, CHI, 1), -56.6)\n",
    "pose.set_torsion(TorsionID(2, CHI, 2), -37.2)\n",
    "pose.set_torsion(TorsionID(2, CHI, 3), 155.5)\n",
    "'''"
   ]
  },
  {
   "cell_type": "code",
   "execution_count": 226,
   "metadata": {
    "scrolled": true
   },
   "outputs": [
    {
     "name": "stdout",
     "output_type": "stream",
     "text": [
      "499\n",
      "-11.031204744410637\n"
     ]
    }
   ],
   "source": [
    "import scipy.special\n",
    "print len(mu_list)\n",
    "mu_list = np.array(mu_list)\n",
    "print 0.6163*(-scipy.special.logsumexp(-mu_list[:]/0.6163) - 8*np.log(2*np.pi/3) - 2*np.log(2))"
   ]
  },
  {
   "cell_type": "code",
   "execution_count": 192,
   "metadata": {},
   "outputs": [
    {
     "data": {
      "image/png": "[encoded data removed]",
      "text/plain": [
       "<Figure size 432x288 with 1 Axes>"
      ]
     },
     "metadata": {},
     "output_type": "display_data"
    }
   ],
   "source": [
    "hist = plt.hist(E_list,bins=9000,range=(-100,800))"
   ]
  },
  {
   "cell_type": "code",
   "execution_count": 212,
   "metadata": {},
   "outputs": [
    {
     "name": "stdout",
     "output_type": "stream",
     "text": [
      "-10.4302911865\n",
      "Inferring sequence from directory name:  gu\n",
      "applying phase space volume for single strand with length  2\n"
     ]
    },
    {
     "data": {
      "text/plain": [
       "[<matplotlib.lines.Line2D at 0x7f9ffa5f5bd0>]"
      ]
     },
     "execution_count": 212,
     "metadata": {},
     "output_type": "execute_result"
    },
    {
     "data": {
      "image/png": "[encoded data removed]",
      "text/plain": [
       "<Figure size 432x288 with 1 Axes>"
      ]
     },
     "metadata": {},
     "output_type": "display_data"
    }
   ],
   "source": [
    "from scipy.special import logsumexp\n",
    "from recces.data import SingleHistSimulation\n",
    "from recces.util import torsion_volume\n",
    "print min(E_list)\n",
    "sim = SingleHistSimulation('./../recces_rosetta/results/gu/ST/')\n",
    "plt.plot(hist[1][500:1500], hist[0][500:1500]*1000)\n",
    "plt.plot(sim._dos_scores[500:1500], sim._dos[500:1500])"
   ]
  },
  {
   "cell_type": "code",
   "execution_count": 210,
   "metadata": {},
   "outputs": [],
   "source": [
    "minmover.apply(pose)\n",
    "pmm.apply(pose)\n",
    "hessian = calculate_hessian(pose, scorefxn, dof_dict)\n",
    "\n",
    "dofs = []\n",
    "for val in dof_dict.itervalues(): dofs.append(pose.torsion(val))\n",
    "dofs = np.array(dofs)"
   ]
  },
  {
   "cell_type": "code",
   "execution_count": 212,
   "metadata": {},
   "outputs": [],
   "source": [
    "w, v = scipy.linalg.eigh(hessian)\n",
    "obs = protocols.moves.AddPyMOLObserver(pose, True)\n",
    "pose.assign(minimum)\n",
    "E_min = scorefxn(minimum)"
   ]
  },
  {
   "cell_type": "code",
   "execution_count": 213,
   "metadata": {},
   "outputs": [
    {
     "name": "stdout",
     "output_type": "stream",
     "text": [
      "4.635484102907595\n"
     ]
    }
   ],
   "source": [
    "print scorefxn(minimum) - 0.5*len(w)*np.log(2*np.pi) + 0.5*np.log(scipy.linalg.det(hessian))"
   ]
  },
  {
   "cell_type": "code",
   "execution_count": 214,
   "metadata": {
    "scrolled": true
   },
   "outputs": [
    {
     "data": {
      "text/plain": [
       "<Figure size 432x288 with 0 Axes>"
      ]
     },
     "metadata": {},
     "output_type": "display_data"
    }
   ],
   "source": [
    "import scipy.integrate\n",
    "\n",
    "Z = 1\n",
    "\n",
    "#pose.assign(minimum)\n",
    "#E_min = scorefxn(minimum)\n",
    "kT = 1.0\n",
    "fig = plt.figure()\n",
    "for kk in range(1):\n",
    " \n",
    "    mode = v[:,kk]\n",
    "    h = range(-30,31,1)\n",
    "    fuck = h[:-1]\n",
    "    fuck.reverse()\n",
    "    h = h+fuck\n",
    "    h = np.array(h)\n",
    "    h_plot = h*np.pi/180\n",
    "\n",
    "    bar = []\n",
    "\n",
    "\n",
    "    for hh in h:\n",
    "\n",
    "        dofs_new = dofs+hh*mode\n",
    "\n",
    "        for jj, dof in enumerate(dofs_new):\n",
    "\n",
    "            pose.set_torsion(dof_dict[jj], dof)\n",
    "\n",
    "        bar.append((scorefxn(pose)-E_min)/kT)\n",
    "\n",
    "    \n",
    "    #Z *= np.trapz(np.exp(-np.array(bar)), dx = np.pi/180.)\n",
    "    #np.array(bar) \n",
    "    #pose.assign(minimum)\n",
    "    #plt.subplot(3, 4, kk+1)\n",
    "    #plt.plot(h, np.exp(-np.array(bar)))\n",
    "    #plt.plot(h, np.exp(-0.5*K*h_plot**2/kT))\n",
    "    #plt.xlabel('Displacement along normal coordinate (degrees)')\n",
    "    #plt.ylabel('exp(-(E-E0)/kT)')"
   ]
  },
  {
   "cell_type": "code",
   "execution_count": 204,
   "metadata": {
    "scrolled": true
   },
   "outputs": [
    {
     "name": "stdout",
     "output_type": "stream",
     "text": [
      "4.718522734400645\n"
     ]
    }
   ],
   "source": [
    "print scorefxn(minimum) - np.log(Z)"
   ]
  },
  {
   "cell_type": "code",
   "execution_count": 73,
   "metadata": {},
   "outputs": [
    {
     "name": "stdout",
     "output_type": "stream",
     "text": [
      "[[ 3.13398455e-03  8.64420677e-03  3.68804885e-03  2.97168791e-03\n",
      "   9.99834374e-01 -1.20069209e-02 -9.02758608e-05  8.94317886e-03\n",
      "  -3.03893335e-04]\n",
      " [ 7.43672169e-01  1.37788517e-01 -8.06782577e-02 -2.98502580e-01\n",
      "   6.08882793e-04 -1.87663655e-02  1.37118851e-01 -3.67554660e-01\n",
      "  -4.22022160e-01]\n",
      " [-1.54162211e-01  4.42909860e-01  1.51487364e-01 -1.31756584e-01\n",
      "   4.55793204e-03  5.67249130e-01 -6.09307571e-01 -1.52130848e-01\n",
      "  -1.53508267e-01]\n",
      " [-2.92181809e-01 -5.83755716e-01 -3.17967688e-01 -6.20706248e-01\n",
      "   1.29391515e-02  1.56828418e-01 -8.18034693e-02 -2.34042435e-01\n",
      "  -3.53428109e-02]\n",
      " [ 2.29178072e-01 -6.02057891e-01  3.71256541e-01  2.48971232e-01\n",
      "   4.19662050e-04  5.97411537e-02 -3.69144112e-01  2.81502867e-01\n",
      "  -4.07560048e-01]\n",
      " [-4.92517350e-01  1.76142167e-01  3.56104228e-01 -1.84902970e-01\n",
      "  -3.96887658e-03 -2.53554658e-01  3.05557534e-01  1.61272659e-03\n",
      "  -6.38535468e-01]\n",
      " [-3.45880774e-02  1.77312089e-01 -7.05950039e-01  4.09670280e-02\n",
      "  -5.79687831e-03 -2.21008995e-01 -2.72380658e-01  4.54239725e-01\n",
      "  -3.71371517e-01]\n",
      " [-2.30916207e-03  5.02161038e-02  1.70076098e-01 -1.52718261e-01\n",
      "  -6.91946026e-03 -7.32409065e-01 -5.46732383e-01 -2.76142257e-01\n",
      "   1.83255294e-01]\n",
      " [ 2.03735344e-01  1.28602957e-01  2.78374872e-01 -6.22153026e-01\n",
      "  -6.72651104e-03 -3.15366872e-03  2.25961168e-02  6.51973310e-01\n",
      "   2.27489031e-01]]\n"
     ]
    }
   ],
   "source": [
    "print v\n"
   ]
  },
  {
   "cell_type": "code",
   "execution_count": 74,
   "metadata": {},
   "outputs": [
    {
     "name": "stdout",
     "output_type": "stream",
     "text": [
      "-147.213383076\n"
     ]
    }
   ],
   "source": [
    "print pose.epsilon(1)"
   ]
  },
  {
   "cell_type": "code",
   "execution_count": null,
   "metadata": {},
   "outputs": [],
   "source": []
  }
 ],
 "metadata": {
  "kernelspec": {
   "display_name": "Python 2",
   "language": "python",
   "name": "python2"
  },
  "language_info": {
   "codemirror_mode": {
    "name": "ipython",
    "version": 2
   },
   "file_extension": ".py",
   "mimetype": "text/x-python",
   "name": "python",
   "nbconvert_exporter": "python",
   "pygments_lexer": "ipython2",
   "version": "2.7.12"
  }
 },
 "nbformat": 4,
 "nbformat_minor": 2
}
