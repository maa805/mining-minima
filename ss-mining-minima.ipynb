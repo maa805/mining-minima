{
 "cells": [
  {
   "cell_type": "code",
   "execution_count": 1,
   "metadata": {},
   "outputs": [
    {
     "name": "stdout",
     "output_type": "stream",
     "text": [
      "Found rosetta database at: /usr/local/lib/python2.7/dist-packages/pyrosetta-2018.11+release.7c7790f-py2.7-linux-x86_64.egg/pyrosetta/database; using it....\n",
      "PyRosetta-4 2017 [Rosetta PyRosetta4.Release.python27.ubuntu 2018.11+release.7c7790f7c7790fbb898f8210b54513b9f9c8a927c3e8d7f 2018-03-14T13:19:04] retrieved from: http://www.pyrosetta.org\n",
      "(C) Copyright Rosetta Commons Member Institutions.\n",
      "Created in JHU by Sergey Lyskov and PyRosetta Team.\n",
      "\n",
      "\u001b[0mcore.init: \u001b[0mChecking for fconfig files in pwd and ./rosetta/flags\n",
      "\n",
      "\u001b[0mcore.init: \u001b[0mRosetta version: PyRosetta4.Release.python27.ubuntu r173 2018.11+release.7c7790f 7c7790fbb898f8210b54513b9f9c8a927c3e8d7f http://www.pyrosetta.org 2018-03-14T13:19:04\n",
      "\u001b[0mcore.init: \u001b[0mcommand: PyRosetta -ex1 -ex2aro -database /usr/local/lib/python2.7/dist-packages/pyrosetta-2018.11+release.7c7790f-py2.7-linux-x86_64.egg/pyrosetta/database\n",
      "\u001b[0mcore.init: \u001b[0m'RNG device' seed mode, using '/dev/urandom', seed=-1062490597 seed_offset=0 real_seed=-1062490597\n",
      "\u001b[0mcore.init.random: \u001b[0mRandomGenerator:init: Normal mode, seed=-1062490597 RG_type=mt19937\n"
     ]
    }
   ],
   "source": [
    "from pyrosetta import *\n",
    "from pyrosetta.rosetta import *\n",
    "from pyrosetta.rosetta.core.id import *\n",
    "from pyrosetta.rosetta.core.scoring.constraints import *\n",
    "import pyrosetta.rosetta.protocols.simple_moves\n",
    "from recces.data import *\n",
    "import numpy as np\n",
    "import itertools\n",
    "import scipy\n",
    "import scipy.linalg\n",
    "import matplotlib\n",
    "import matplotlib.pyplot as plt\n",
    "init()\n",
    "#init('-corrections::restore_talaris_behavior')"
   ]
  },
  {
   "cell_type": "code",
   "execution_count": 2,
   "metadata": {},
   "outputs": [],
   "source": [
    "pmm = PyMOLMover()\n",
    "pmm.keep_history(True)\n"
   ]
  },
  {
   "cell_type": "code",
   "execution_count": 3,
   "metadata": {},
   "outputs": [
    {
     "name": "stdout",
     "output_type": "stream",
     "text": [
      "\u001b[0mcore.scoring.etable: \u001b[0mStarting energy table calculation\n",
      "\u001b[0mcore.scoring.etable: \u001b[0msmooth_etable: changing atr/rep split to bottom of energy well\n",
      "\u001b[0mcore.scoring.etable: \u001b[0msmooth_etable: spline smoothing lj etables (maxdis = 6)\n",
      "\u001b[0mcore.scoring.etable: \u001b[0msmooth_etable: spline smoothing solvation etables (max_dis = 6)\n",
      "\u001b[0mcore.scoring.etable: \u001b[0mFinished calculating energy tables.\n",
      "\u001b[0mbasic.io.database: \u001b[0mDatabase file opened: scoring/score_functions/hbonds/ref2015_params/HBPoly1D.csv\n",
      "\u001b[0mbasic.io.database: \u001b[0mDatabase file opened: scoring/score_functions/hbonds/ref2015_params/HBFadeIntervals.csv\n",
      "\u001b[0mbasic.io.database: \u001b[0mDatabase file opened: scoring/score_functions/hbonds/ref2015_params/HBEval.csv\n",
      "\u001b[0mbasic.io.database: \u001b[0mDatabase file opened: scoring/score_functions/hbonds/ref2015_params/DonStrength.csv\n",
      "\u001b[0mbasic.io.database: \u001b[0mDatabase file opened: scoring/score_functions/hbonds/ref2015_params/AccStrength.csv\n",
      "ScoreFunction::show():\n",
      "weights: (fa_atr 0.73) (fa_rep 0.1) (fa_intra_rep 0.0071) (lk_nonpolar 0.25) (fa_elec_rna_phos_phos 4.54) (rna_torsion 4.26) (stack_elec 1.54) (hbond_sc 2.46)\n",
      "energy_method_options: EnergyMethodOptions::show: aa_composition_setup_files: \n",
      "EnergyMethodOptions::show: netcharge_setup_files: \n",
      "EnergyMethodOptions::show: aspartimide_penalty_value: 25\n",
      "EnergyMethodOptions::show: etable_type: FA_STANDARD_DEFAULT\n",
      "analytic_etable_evaluation: 1\n",
      "EnergyMethodOptions::show: method_weights: free_res\n",
      "EnergyMethodOptions::show: unfolded_energies_type: UNFOLDED_SCORE12\n",
      "EnergyMethodOptions::show: split_unfolded_label_type: SPLIT_UNFOLDED_MM\n",
      "EnergyMethodOptions::show: split_unfolded_value_type: SPLIT_UNFOLDED_BOLTZ\n",
      "EnergyMethodOptions::show: atom_vdw_atom_type_set_name: centroid\n",
      "EnergyMethodOptions::show: exclude_protein_protein_fa_elec: false\n",
      "EnergyMethodOptions::show: exclude_RNA_RNA_fa_elec: false\n",
      "EnergyMethodOptions::show: exclude_monomer_fa_elec: false\n",
      "EnergyMethodOptions::show: elec_max_dis: 5.5\n",
      "EnergyMethodOptions::show: elec_min_dis: 1.6\n",
      "EnergyMethodOptions::show: elec_die: 10\n",
      "EnergyMethodOptions::show: elec_no_dis_dep_die: false\n",
      "EnergyMethodOptions::show: elec_sigmoidal_die: true\n",
      "EnergyMethodOptions::show: elec_sigmoidal_D: 80\n",
      "EnergyMethodOptions::show: elec_sigmoidal_D0: 6\n",
      "EnergyMethodOptions::show: elec_sigmoidal_S: 0.4\n",
      "EnergyMethodOptions::show: smooth_fa_elec: true\n",
      "EnergyMethodOptions::show: grpelec_fade_type: false\n",
      "EnergyMethodOptions::show: grpelec_fade_param1: 1\n",
      "EnergyMethodOptions::show: grpelec_fade_param2: 1\n",
      "EnergyMethodOptions::show: grpelec_fade_hbond: 0\n",
      "EnergyMethodOptions::show: grp_cpfxn: 1\n",
      "EnergyMethodOptions::show: elec_group_file: /scoring/score_functions/elec_group_def.dat\n",
      "EnergyMethodOptions::show: grpelec_context_dependent: 0\n",
      "EnergyMethodOptions::show: use_polarization: true\n",
      "EnergyMethodOptions::show: use_gen_kirkwood: true\n",
      "EnergyMethodOptions::show: protein_dielectric: 1\n",
      "EnergyMethodOptions::show: water_dielectric: 78.3\n",
      "EnergyMethodOptions::show: exclude_DNA_DNA: true\n",
      "EnergyMethodOptions::show: exclude_intra_res_protein: true\n",
      "EnergyMethodOptions::show: put_intra_into_total: false\n",
      "EnergyMethodOptions::show: geom_sol_interres_path_distance_cutoff: false\n",
      "EnergyMethodOptions::show: geom_sol_intrares_path_distance_cutoff: true\n",
      "EnergyMethodOptions::show: eval_intrares_elec_ST_only: false\n",
      "EnergyMethodOptions::show: envsmooth_zero_negatives: false\n",
      "EnergyMethodOptions::show: cst_max_seq_sep: 18446744073709551615\n",
      "EnergyMethodOptions::show: pb_bound_tag: bound\n",
      "EnergyMethodOptions::show: pb_unbound_tag: unbound\n",
      "EnergyMethodOptions::show: ordered_wat_penalty: 1.7\n",
      "EnergyMethodOptions::show: ordered_pt_wat_penalty: 2.15037\n",
      "EnergyMethodOptions::show: voids_penalty_energy_containing_cones_cutoff_:6\n",
      "EnergyMethodOptions::show: voids_penalty_energy_cone_distance_cutoff_: 8\n",
      "EnergyMethodOptions::show: voids_penalty_energy_cone_dotproduct_cutoff_: 0.1\n",
      "EnergyMethodOptions::show: voids_penalty_energy_voxel_grid_padding_: 1\n",
      "EnergyMethodOptions::show: voids_penalty_energy_voxel_size_: 0.5\n",
      "EnergyMethodOptions::show: voids_penalty_energy_disabled_except_during_packing_: TRUE\n",
      "EnergyMethodOptions::show: hbnet_bonus_ramping_function_: \"quadratic\"\n",
      "EnergyMethodOptions::show: hbnet_max_network_size_: 0\n",
      "EnergyMethodOptions::show: bond_angle_central_atoms_to_score:\n",
      "EnergyMethodOptions::show: bond_angle_residue_type_param_set: none\n",
      "HBondOptions::show: exclude_DNA_DNA: true\n",
      "HBondOptions::show: exclude_intra_res_protein_: true\n",
      "HBondOptions::show: exclude_intra_res_RNA_: false\n",
      "HBondOptions::show: put_intra_into_total_: false\n",
      "HBondOptions::show: exclude_self_hbonds: true\n",
      "HBondOptions::show: use_hb_env_dep: false\n",
      "HBondOptions::show: use_hb_env_dep_DNA: true\n",
      "HBondOptions::show: smooth_hb_env_dep: true\n",
      "HBondOptions::show: bb_donor_acceptor_check: true\n",
      "HBondOptions::show: decompose_bb_hb_into_pair_energies: false\n",
      "HBondOptions::show: params_database_tag_: ref2015_params\n",
      "HBondOptions::show: use_sp2_chi_penalty_: true\n",
      "HBondOptions::show: sp2_BAH180_rise_: 0.75\n",
      "HBondOptions::show: sp2_outer_width_: 0.357\n",
      "HBondOptions::show: measure_sp3acc_BAH_from_hvy_: true\n",
      "HBondOptions::show: fade_energy_: 1\n",
      "HBondOptions::show: exclude_ether_oxygens_: 0\n",
      "HBondOptions::show: Mbhbond: false \n",
      "HbondOptions::show: mphbond: false\n",
      "HBondOptions::show: hbond_energy_shift: 0\n",
      "HBondOptions::show: water_hybrid_sf: false\n",
      "RNA_EnergyMethodOptions::show: syn_G_potential_bonus: 0\n",
      "RNA_EnergyMethodOptions::show: torsion_potential: RNA11_based_new\n",
      "RNA_EnergyMethodOptions::show: suiteness_bonus: Richardson\n",
      "FreeDOF_Options::show: free_suite_bonus: -1\n",
      "FreeDOF_Options::show: free_2HOprime_bonus: -0.5\n",
      "FreeDOF_Options::show: free_sugar_bonus: -1\n",
      "FreeDOF_Options::show: pack_phosphate_penalty: 0.25\n",
      "FreeDOF_Options::show: free_side_chain_bonus: -0.5\n",
      "\n",
      "\n"
     ]
    }
   ],
   "source": [
    "scorefxn = core.scoring.ScoreFunctionFactory.create_score_function('stepwise/rna/turner')\n",
    "scorefxn_cst = core.scoring.ScoreFunctionFactory.create_score_function('stepwise/rna/turner')\n",
    "scorefxn_cst.set_weight(core.scoring.dihedral_constraint, 1.0)\n",
    "print scorefxn\n",
    "curr_wt = [0.73, 0.1, 0.0071, 0, 4.26, 2.46, 0.25, 0, 1.54, 4.54]"
   ]
  },
  {
   "cell_type": "code",
   "execution_count": 4,
   "metadata": {},
   "outputs": [],
   "source": [
    "def numpy_hessian(x, h):\n",
    "        \n",
    "    x_grad = np.gradient(x, h)\n",
    "    hessian = np.empty((x.ndim, x.ndim) + x.shape, dtype = x.dtype)\n",
    "    \n",
    "    for k, grad_k in enumerate(x_grad):\n",
    "        tmp_grad = np.gradient(grad_k, h)\n",
    "        for l, grad_kl in enumerate(tmp_grad):\n",
    "            hessian[k, l, :, :] = grad_kl\n",
    "            \n",
    "    return hessian"
   ]
  },
  {
   "cell_type": "code",
   "execution_count": 5,
   "metadata": {},
   "outputs": [],
   "source": [
    "def is_pos_def(x):\n",
    "    return np.all(np.linalg.eigvals(x) > 0)"
   ]
  },
  {
   "cell_type": "code",
   "execution_count": 6,
   "metadata": {},
   "outputs": [],
   "source": [
    "def within_360(dof):\n",
    "    \n",
    "    diff = dof/360.0\n",
    "    diff = np.round(diff)\n",
    "    \n",
    "    return dof - 360.0*diff"
   ]
  },
  {
   "cell_type": "code",
   "execution_count": 7,
   "metadata": {},
   "outputs": [],
   "source": [
    "def is_repeat_minimum(new_dofs, dof_lists):\n",
    "    \n",
    "    #dofs_rounded = np.around(new_dofs, decimals=1)\n",
    "    \n",
    "    if len(dof_lists) == 0:\n",
    "        \n",
    "        return False \n",
    "    \n",
    "    for dof_list in dof_lists:\n",
    "        \n",
    "        #dof_list_rounded = np.around(dof_list, decimals=1)\n",
    "\n",
    "        dof_diff = within_360(new_dofs) - within_360(dof_list)\n",
    "        \n",
    "        if np.all(abs(within_360(dof_diff)) < 20.0): return True\n",
    "        else: continue\n",
    "    \n",
    "    return False"
   ]
  },
  {
   "cell_type": "code",
   "execution_count": 8,
   "metadata": {},
   "outputs": [],
   "source": [
    "def chi_minima(base, sugar_pucker, orientation):\n",
    "\n",
    "    if base == 'g' or base == 'a':\n",
    "\n",
    "        if sugar_pucker == 'north':\n",
    "\n",
    "            if orientation == 'anti': return [72.4]\n",
    "            else: return [-110.9, -51.9]\n",
    "\n",
    "        else:\n",
    "\n",
    "            if orientation == 'anti': return [119.0]\n",
    "            else: return [-56.6]\n",
    "            \n",
    "    else:\n",
    "\n",
    "        if sugar_pucker == 'north':\n",
    "\n",
    "            if orientation == 'anti': return [77.3]\n",
    "            else: return [-105.7, -47.2, -12.5]\n",
    "\n",
    "        else:\n",
    "\n",
    "            if orientation == 'anti': return [108.2]\n",
    "            else: return [-65.0]        \n",
    "        \n"
   ]
  },
  {
   "cell_type": "code",
   "execution_count": 9,
   "metadata": {},
   "outputs": [],
   "source": [
    "def initialiize_pose(seq):\n",
    "    \n",
    "    n_residues = len(seq)\n",
    "    dof_dict = {}\n",
    "    \n",
    "    pose = pyrosetta.rosetta.protocols.recces.pose_setup_turner(seq, '')\n",
    "    movemap = MoveMap()\n",
    "    \n",
    "    for ii in range(n_residues-1):\n",
    "           \n",
    "        dof_dict.update({5*ii: TorsionID(ii+1, BB, 5), 5*ii+1: TorsionID(ii+1, BB, 6), 5*ii+2: TorsionID(ii+2, BB, 1), \n",
    "                         5*ii+3: TorsionID(ii+2, BB, 2), 5*ii+4: TorsionID(ii+2, BB, 3)})\n",
    "                        \n",
    "        movemap.set(TorsionID(5*ii+1, BB, 5), True)\n",
    "        movemap.set(TorsionID(5*ii+1, BB, 6), True)\n",
    "        movemap.set(TorsionID(5*ii+2, BB, 1), True)\n",
    "        movemap.set(TorsionID(5*ii+2, BB, 2), True)\n",
    "        movemap.set(TorsionID(5*ii+2, BB, 3), True)\n",
    "    \n",
    "    for ii in range(n_residues):\n",
    "    \n",
    "        dof_dict.update({5*(n_residues-1) + ii: TorsionID(ii+1, CHI, 1)})\n",
    "        movemap.set(TorsionID(ii+1, CHI, 1), True)\n",
    "        \n",
    "    return pose, movemap, dof_dict    \n",
    "    "
   ]
  },
  {
   "cell_type": "code",
   "execution_count": 10,
   "metadata": {},
   "outputs": [],
   "source": [
    "def calculate_hessian(pose, scorefxn, dof_dict):\n",
    "    '''Take a minimized pose and computes the hessian at the base of the corresponding energy well. Returns the hessian matrix\n",
    "    which may subsequently be diagonalized'''\n",
    "\n",
    "    minimum = Pose()\n",
    "    minimum.assign(pose)\n",
    "\n",
    "    h = 0.1\n",
    "    h_rad = h*np.pi/180\n",
    "    E_0 = scorefxn(pose)\n",
    "\n",
    "    dofs = []\n",
    "\n",
    "    for val in dof_dict.itervalues(): dofs.append(pose.torsion(val))\n",
    "    dofs = np.array(dofs)\n",
    "\n",
    "    hessian = np.zeros((len(dofs), len(dofs)))\n",
    "\n",
    "    n_pts = int(1/h + 1)\n",
    "    ind = int(n_pts/2)\n",
    "\n",
    "    tor_ranges = np.zeros((n_pts, len(dofs)))\n",
    "    energy = np.zeros((n_pts, n_pts))\n",
    "\n",
    "    for ii, dof in enumerate(dofs):\n",
    "\n",
    "        tor_ranges[:, ii] = dof + np.arange(-0.5, 0.5+h, h)\n",
    "\n",
    "    for pair in list(itertools.combinations(dof_dict.keys(), 2)):\n",
    "\n",
    "        foo = pair[0]\n",
    "        bar = pair[1]\n",
    "\n",
    "        x = tor_ranges[:, foo]\n",
    "        y = tor_ranges[:, bar]\n",
    "\n",
    "        for ii, xx in enumerate(x):\n",
    "\n",
    "            pose.set_torsion(dof_dict[pair[0]], xx)\n",
    "\n",
    "            for jj, yy in enumerate(y):\n",
    "\n",
    "                pose.set_torsion(dof_dict[pair[1]], yy)\n",
    "\n",
    "                energy[ii, jj] = scorefxn(pose)\n",
    "\n",
    "                pose.set_torsion(dof_dict[pair[1]], dofs[bar])\n",
    "\n",
    "            pose.set_torsion(dof_dict[pair[0]], dofs[foo])\n",
    "\n",
    "        hess = numpy_hessian(energy, h_rad)\n",
    "\n",
    "        d2E_dx2 =  hess[0,0,:,:]\n",
    "        d2E_dy2 =  hess[1,1,:,:]\n",
    "        d2E_dxdy = hess[0,1,:,:]\n",
    "\n",
    "        if hessian[foo, foo] == 0:\n",
    "\n",
    "            hessian[foo, foo] = d2E_dx2[ind, ind]\n",
    "\n",
    "        if hessian[bar, bar] == 0:\n",
    "\n",
    "            hessian[bar, bar] = d2E_dy2[ind, ind]\n",
    "\n",
    "        hessian[foo, bar] = d2E_dxdy[ind, ind]\n",
    "        hessian[bar, foo] = d2E_dxdy[ind, ind]\n",
    "        \n",
    "    return hessian\n"
   ]
  },
  {
   "cell_type": "code",
   "execution_count": 11,
   "metadata": {},
   "outputs": [],
   "source": [
    "def mode_scan(pose, dofs, dof_dict, scorefxn, mode, kT = 1.0, h = 0.5):\n",
    "    \n",
    "    temp = Pose()\n",
    "    temp.assign(pose)\n",
    "    \n",
    "    E_0 = scorefxn(pose)\n",
    "    E = E_0\n",
    "    inc = 0\n",
    "    result = np.array([])\n",
    "    \n",
    "    h = np.arange(-60,61,1)\n",
    "\n",
    "    for hh in h:\n",
    "        \n",
    "        dofs_new = dofs + hh*mode\n",
    "        \n",
    "        for key, val in enumerate(dofs_new):\n",
    "\n",
    "            temp.set_torsion(dof_dict[key], val)\n",
    "            \n",
    "        result = np.append(result, (scorefxn(temp) - E_0)/kT)\n",
    "     \n",
    "\n",
    "    #if np.any(result < 0.0): return 1.0\n",
    "    return np.trapz(np.exp(-result), x=h*np.pi/180.0)\n"
   ]
  },
  {
   "cell_type": "code",
   "execution_count": 12,
   "metadata": {},
   "outputs": [],
   "source": [
    "def mode_scan_OG(pose, dofs, dof_dict, scorefxn, mode, kT = 1.0, h = 0.5):\n",
    "    \n",
    "    temp = Pose()\n",
    "    temp.assign(pose)\n",
    "    \n",
    "    E_0 = scorefxn(pose)\n",
    "    E = E_0\n",
    "    inc = 0\n",
    "    result = 0.0\n",
    "    \n",
    "    max_inc = int(60/h)\n",
    "\n",
    "    while inc < max_inc:\n",
    "        \n",
    "        inc += 1\n",
    "        result += 0.5*np.exp(-(E-E_0)/kT)\n",
    "        dofs_new = dofs + (60.0)*inc/float(max_inc)*mode\n",
    "        \n",
    "        for key, val in enumerate(dofs_new):\n",
    "\n",
    "            temp.set_torsion(dof_dict[key], val)\n",
    "        \n",
    "        E = scorefxn(temp)\n",
    "        if E < E_0: break\n",
    "        result += 0.5*np.exp(-(E-E_0)/kT)\n",
    "\n",
    "    if inc < max_inc: return 1.0\n",
    "    # Reinitialize pose\n",
    "    temp.assign(pose)\n",
    "    inc = 0\n",
    "    E = E_0\n",
    "    \n",
    "    while inc < max_inc:\n",
    "        \n",
    "        inc += 1\n",
    "        \n",
    "        result += 0.5*np.exp(-(E-E_0)/kT)\n",
    "        dofs_new = dofs + 60.0*inc/float(max_inc)*mode\n",
    "        \n",
    "        for key, val in enumerate(dofs_new):\n",
    "    \n",
    "            temp.set_torsion(dof_dict[key], val)\n",
    "        \n",
    "        E  = scorefxn(temp)\n",
    "        if E < E_0: break\n",
    "        result += 0.5*np.exp(-(E-E_0)/kT)\n",
    "        \n",
    "    result *= h*np.pi/180.0\n",
    "    \n",
    "    if inc < max_inc: return 1.0\n",
    "    return result\n"
   ]
  },
  {
   "cell_type": "code",
   "execution_count": 13,
   "metadata": {},
   "outputs": [],
   "source": [
    "def assay_modes(pose, scorefxn, dof_dict):\n",
    "    \n",
    "    '''this code will assay the normal modes, plotting the corresponding boltzmann weights for both the harmonic approximation\n",
    "    and scanned modes'''\n",
    "\n",
    "\n",
    "    import scipy.integrate\n",
    "    \n",
    "    pose.assign(pose_min)\n",
    "    print scorefxn(pose)\n",
    "\n",
    "    hessian = calculate_hessian(pose, scorefxn, dof_dict)\n",
    "\n",
    "    dofs = []\n",
    "\n",
    "    for val in dof_dict.itervalues(): dofs.append(pose.torsion(val))\n",
    "    dofs = np.array(dofs)\n",
    "\n",
    "    w, v = scipy.linalg.eigh(hessian)\n",
    "\n",
    "\n",
    "\n",
    "    E_min = scorefxn(pose)\n",
    "    kT = 1.0\n",
    "    fig = plt.figure()\n",
    "    for kk, K in enumerate(w):\n",
    "\n",
    "        mode = v[:,kk]\n",
    "        h = np.arange(-60,61,1)\n",
    "        h_plot = h*np.pi/180\n",
    "\n",
    "        bar = []\n",
    "\n",
    "\n",
    "        for hh in h:\n",
    "\n",
    "            dofs_new = dofs+hh*mode\n",
    "\n",
    "            for jj, dof in enumerate(dofs_new):\n",
    "\n",
    "                pose.set_torsion(dof_dict[jj], dof)\n",
    "\n",
    "            pmm.apply(pose)\n",
    "            bar.append((scorefxn(pose)-E_min)/kT)\n",
    "\n",
    "\n",
    "        np.array(bar) \n",
    "        pose.assign(minimum)\n",
    "        plt.subplot(10,5, kk+1)\n",
    "        plt.figure()\n",
    "        plt.plot(h, np.exp(-np.array(bar)))\n",
    "        plt.plot(h, np.exp(-0.5*K*h_plot**2/kT))\n",
    "        #plt.xticks([])\n",
    "        #plt.yticks([])\n",
    "        #plt.xlabel('Displacement along normal coordinate (degrees)')\n",
    "        #plt.ylabel('exp(-(E-E0)/kT)')\n"
   ]
  },
  {
   "cell_type": "code",
   "execution_count": 14,
   "metadata": {},
   "outputs": [],
   "source": [
    "def add_constraints(pose):\n",
    "    pose.add_constraint(\n",
    "        core.scoring.constraints.DihedralConstraint(AtomID(11,2), AtomID(10,2), AtomID(23,2), AtomID(17, 2),\n",
    "        core.scoring.func.CircularSigmoidalFunc(0.5, 6, pose.chi(2))))#CircularHarmonicFunc(pose.chi(2)*np.pi/180., 0.35)))\n",
    "    pose.add_constraint(\n",
    "        core.scoring.constraints.DihedralConstraint(AtomID(11,1), AtomID(10,1), AtomID(23,1), AtomID(17, 1),\n",
    "        core.scoring.func.CircularSigmoidalFunc(0.5, 6, pose.chi(1))))#CircularHarmonicFunc(pose.chi(1)*np.pi/180., 0.35)))\n",
    "    #pose.add_constraint(\n",
    "    #    core.scoring.constraints.DihedralConstraint(AtomID(6,1), AtomID(8,1), AtomID(9,1), AtomID(1,2), \n",
    "    #    core.scoring.func.CircularHarmonicFunc(pose.epsilon(1)*np.pi/180., 0.35)))\n",
    "    #pose.add_constraint(\n",
    "    #    core.scoring.constraints.DihedralConstraint(AtomID(8,1), AtomID(9,1), AtomID(1,2), AtomID(4,2),\n",
    "    #    core.scoring.func.CircularHarmonicFunc(pose.zeta(1)*np.pi/180., 0.35)))\n",
    "    #pose.add_constraint(\n",
    "    #    core.scoring.constraints.DihedralConstraint(AtomID(9,1), AtomID(1,2), AtomID(4,2), AtomID(5,2),\n",
    "    #    core.scoring.func.CircularHarmonicFunc(pose.alpha(2)*np.pi/180., 0.35)))\n",
    "    #pose.add_constraint(\n",
    "    #    core.scoring.constraints.DihedralConstraint(AtomID(1,2), AtomID(4,2), AtomID(5,2), AtomID(6,2),\n",
    "    #    core.scoring.func.CircularHarmonicFunc(pose.beta(2)*np.pi/180., 0.25)))\n",
    "    #pose.add_constraint(\n",
    "    #    core.scoring.constraints.DihedralConstraint(AtomID(4,2), AtomID(5,2), AtomID(6,2), AtomID(8,2),\n",
    "    #    core.scoring.func.CircularHarmonicFunc(pose.gamma(2)*np.pi/180., 0.25)))\n",
    "\n",
    "    return pose"
   ]
  },
  {
   "cell_type": "code",
   "execution_count": 15,
   "metadata": {},
   "outputs": [],
   "source": [
    "def MC_minimization(pose, scorefxn, dof_dict, torsion_list):\n",
    "    \n",
    "    import random\n",
    "    mc = MonteCarlo(pose, scorefxn, 0.5)\n",
    "    \n",
    "    for i in range(100):\n",
    "\n",
    "        dof = random.randint(0, len(torsion_list)-1)\n",
    "        #new_dof = random.uniform(torsion_list[dof] - 30.0, torsion_list[dof] + 30.0)\n",
    "        new_dof = random.gauss(torsion_list[dof], 20.)\n",
    "        pose.set_torsion(dof_dict[dof], new_dof)\n",
    "        mc.boltzmann(pose)\n",
    "    \n",
    "    return mc.lowest_score_pose()\n",
    "    "
   ]
  },
  {
   "cell_type": "code",
   "execution_count": 74,
   "metadata": {},
   "outputs": [],
   "source": [
    "seq = 'gc'\n",
    "\n",
    "# Pucker and orientation of terminal base\n",
    "pucker = 'south'\n",
    "orientation = 'anti'\n",
    "\n",
    "n = len(seq)\n",
    "Z_harm_list = np.array([])\n",
    "mu_list = np.array([])\n",
    "pmm = PyMOLMover()\n",
    "pmm.keep_history(True)\n",
    "dof_lists = []\n",
    "E_list = np.array([])\n",
    "E_min = 0\n",
    "pose_min = Pose()\n",
    "dofs_min = []"
   ]
  },
  {
   "cell_type": "code",
   "execution_count": 75,
   "metadata": {
    "scrolled": true
   },
   "outputs": [
    {
     "name": "stdout",
     "output_type": "stream",
     "text": [
      "6.722687041534743 0.03532410028726898 7.56495076307\n",
      "5.105543994047114 0.04089428610544971 5.08742133354\n",
      "2.549122432764141 0.0026405527544107773 -1.80059560878\n",
      "\n",
      "4.781965295220626 0.0002858518703439957 -0.400884950847\n",
      "4.2894820030878416 0.0005310102322399703 -0.580674094205\n",
      "-1.7141842440695971 0.00016904856967247256 -11.466736536\n",
      "\n",
      "5.636205254587707 0.007729508308424566 4.28251998244\n",
      "6.114883261807195 0.0002704084028416714 1.70634929618\n",
      "1.5747283734150794 0.00022417157629799406 -5.84796598701\n",
      "6.087111130894029 2.6227195360710156 10.8410755232\n",
      "\n",
      "6.521593489286031 0.01702368682301864 6.50869935763\n",
      "2.073828873070267 0.4641336438269467 2.59738378829\n",
      "6.290824441728866 0.19377778370517298 8.56636297982\n",
      "\n",
      "6.347360995653893 0.00858897262568091 5.5418654934\n",
      "\n",
      "2.2202599931015516 0.03204872025816085 0.162065649368\n",
      "\n",
      "8.45398107604964 0.0001744440796247122 5.06340841462\n",
      "\n",
      "7.96201823406605 0.0014939377379971676 6.41272265701\n",
      "\n",
      "4.016120255210181 0.012143724005350758 2.1055593324\n",
      "9.76458102461041 0.06405015296772801 13.0957875365\n",
      "9.522920883683108 0.02097237158108484 11.5872125936\n",
      "5.448422832526894 0.01884082683266012 4.86880768065\n",
      "9.887087466106022 0.018259724609695067 12.0395961995\n",
      "9.616173922761208 0.006351111568920483 10.5439476221\n",
      "-1.714269741900026 0.00016907639949176445 -11.466710651\n",
      "11.12635217132579 0.021748878601513002 14.2252746638\n",
      "\n",
      "5.674523253162004 0.0006413397002757331 1.85545298474\n",
      "6.7730344388772865 0.006861351604360266 6.00798275594\n",
      "10.599679091835029 0.0708773776161459 14.5520911968\n",
      "\n",
      "5.835450094465585 0.002216531494226371 3.35671028218\n",
      "6.3106460249132965 0.019712744231908445 6.31307849537\n",
      "\n",
      "9.903218936169868 0.004519042443964741 10.6693732328\n",
      "\n",
      "9.993528870353604 0.003899030204390238 10.668336638\n",
      "\n",
      "5.761867045569361 0.019937958798616276 5.4339972356\n",
      "\n",
      "12.523211427150306 0.002952771356558271 14.4949814734\n",
      "\n",
      "11.17001226642209 0.001123524648256608 11.333025494\n",
      "\n",
      "7.405383239017677 0.0006084615536711817 4.61129732094\n",
      "6.632552182204237 0.04088581209461238 7.56491681755\n",
      "5.113512710722541 0.04036896693025954 5.0874222601\n",
      "\n",
      "2.5487241802486595 0.002642357605252306 -1.80055852888\n",
      "9.171947842606196 0.006567312779452599 9.85662731199\n",
      "9.572259422379457 0.0064597391825977684 10.4896516459\n",
      "5.495758537628952 0.005824329593729287 3.77163169846\n",
      "8.867127068053374 0.03247635069537821 10.9604366864\n",
      "8.616223606768283 0.011981065527736345 9.55613951915\n",
      "4.627670648569744 0.009828385453033255 2.88631486546\n",
      "9.253229962504372 0.14768345809527456 13.1014810261\n",
      "9.229247566532038 0.15353352192331995 13.1014152569\n",
      "5.172671566821316 0.1320908925402247 6.36884153658\n",
      "\n",
      "9.382178128951352 0.01831097830986005 11.2231401686\n",
      "9.425216304538791 0.01708156038449853 11.2234720811\n",
      "5.302750694091103 0.016423648540527726 4.49513817464\n",
      "10.071563707944227 0.5067668523575485 15.6622780883\n",
      "9.784630163962657 0.18058456718341692 14.1648517651\n",
      "5.774752896443101 0.1441442998198493 7.4330951298\n",
      "6.399731333843401 0.004939167929204781 5.07355864604\n",
      "\n",
      "6.025719747016965 0.002719786331591874 3.87004897183\n",
      "2.688753037343025 0.004650858702052285 -1.00796929064\n",
      "5.225834224954618 0.07291987720714593 5.8609735432\n",
      "5.819948043260877 0.010307939018352556 4.8685276574\n",
      "1.6327599836569924 0.08262294800549104 0.155826332246\n",
      "6.996443988743964 0.12369163167285209 9.26237123152\n",
      "5.684733492011631 0.0006308182849371368 1.85547855086\n",
      "3.5897735775408863 0.00030853873499554464 -2.25894536758\n",
      "8.092823647338601 0.004388364297278745 7.70250689107\n",
      "\n",
      "4.410666479096752 0.00010873412054730026 -1.96991746067\n",
      "0.8031152203643813 0.011890755953306605 -3.128870155\n",
      "6.102502465268608 0.002322346926134726 3.83666052421\n",
      "5.863752346271758 0.005780828317714208 4.36123652701\n",
      "-1.1171749457158058 0.00013318851323199985 -10.736457917\n",
      "6.146142184551212 2.367806789549318 10.8346108593\n",
      "7.136678490738215 0.008721335929694905 6.83789462985\n",
      "2.7397484104809764 0.16127781158278645 2.62085165449\n",
      "\n",
      "5.6110228834029146 0.0009489983145255553 2.14426590058\n",
      "10.203862287258188 0.0008672509318376862 9.50646600495\n",
      "3.1886469923049443 0.0001325593837936477 -3.75462458056\n",
      "9.046622288985715 0.7830704238031447 14.4343936707\n",
      "8.852359813120124 0.23939396085140335 12.9340739524\n",
      "\n",
      "1.630674803382705 0.08290303964074146 0.155827212077\n",
      "\n",
      "6.972074271254789 0.1286825376391467 9.26238605507\n",
      "9.787454682243338 0.41071460261031423 14.9911341815\n",
      "\n",
      "2.9303046283993748 0.004129412833648829 -0.73494760726\n",
      "8.295070077985171 0.0002719937161213639 5.24973632377\n",
      "8.042766684755044 0.0004314332889606982 5.30168620095\n",
      "\n",
      "5.602758610291661 2.7903448022084676e-05 -1.39580035294\n",
      "10.9618090882046 0.0037307919254613345 12.1953476204\n",
      "10.729537504690297 0.0012096599232497183 10.6921856486\n",
      "6.658018520380622 0.0010735668006685954 3.96644160467\n",
      "11.319012518469446 0.07319679344480769 15.7514721404\n",
      "11.06421967777138 0.02467063694395831 14.2505108757\n",
      "6.986156551466841 0.022142940856653835 7.52540609722\n",
      "\n",
      "10.765607424993476 0.0031078301305439695 11.6942977214\n",
      "10.204634584441935 0.0008661667009954254 9.50646814895\n",
      "5.70102315174301 0.004177501523321777 3.7723607148\n",
      "8.876257897318046 0.14779971140804316 12.4905981482\n",
      "8.649479980815965 0.04758523074254536 10.9892957631\n",
      "4.573312388191785 0.04220646600994173 4.2554126498\n",
      "9.887153215788132 0.041756389839339485 12.8668575803\n",
      "9.858310718128719 0.043748797339390535 12.8666697691\n",
      "5.770750773649772 0.03951490838138434 6.13246448794\n",
      "8.295660957644518 0.00027173299834553374 5.24973607399\n",
      "7.9928534405360985 0.00034696951505083936 5.00282167684\n",
      "1.7227391969916193 0.00013096534577934646 -6.14528460931\n",
      "8.932411543582456 0.01115288700399858 9.9975526237\n",
      "8.423363324252405 0.007202970823051601 8.7343730714\n",
      "3.363755331659519 0.00028010033244430486 -2.72237902557\n",
      "9.595645829617062 0.14127532949484595 13.6127198473\n",
      "9.38672383178326 0.042826494275787955 12.0801721128\n",
      "5.563599670601305 0.02156816695913607 5.1908843725\n",
      "5.167007682124278 0.00032364111562805346 0.348041083891\n",
      "5.166756104947013 0.000323772673604731 0.348039288986\n",
      "0.807896680585694 0.00037296440807013887 -6.58314539487\n",
      "6.0006148305242695 0.016847377325785253 5.65295574938\n",
      "\n",
      "4.776949994690533 0.0003831867897017467 -0.115973878214\n",
      "0.5113281679042097 0.000439949655635129 -6.89917612404\n",
      "6.112211616233657 1.6044179241553975 10.3903524858\n",
      "\n",
      "5.778740274187869 0.00046859377968840293 1.71073108756\n",
      "1.5217868530244352 0.5396450368829432 1.85238696089\n",
      "5.831370157949228 0.00032481633332875795 1.42965126395\n",
      "1.6294940041498864 0.6174058048162814 2.16176604953\n",
      "5.017063837684971 0.00015324459400594878 -0.642855694789\n",
      "\n",
      "6.43928071673175 0.0005393550670890907 2.92315288192\n",
      "1.0070309438043026 0.0007595886587310206 -5.54873879318\n",
      "6.678180949002916 0.011893026751529546 6.40412256491\n",
      "7.457623109166015 0.0028861362611032537 6.25280124836\n",
      "2.6472539560584734 0.49152010359266196 3.58514583596\n",
      "\n",
      "10.957152021542134 8.861061608721196e-05 8.44766699562\n",
      "9.588262248111512 0.0015882986116311497 9.11269205831\n",
      "5.008685626299639 0.003218584621193087 2.38821161807\n",
      "\n",
      "6.7252977956143445 0.0012299735773830122 4.21161416582\n",
      "6.742143354435556 0.030195737631787675 7.43965562955\n",
      "5.500496950898385 0.008107061815232824 4.11001179268\n",
      "10.522773734956253 0.13604514600192147 15.0793410889\n",
      "10.24107283326098 0.04845367608347481 13.5898784588\n",
      "6.147159588195233 0.04404149981648706 6.85167465126\n",
      "\n",
      "10.314780091769943 0.011310234802804985 12.2545746956\n",
      "9.807071792683457 0.008397774927866206 11.1330328436\n",
      "\n",
      "4.940544464982247 0.0001269387969055869 -0.95534523085\n",
      "11.465587980403702 0.0009915654599945598 11.6876815653\n",
      "10.402643822235566 0.00120168823507909 10.15516057\n",
      "6.303731361275812 0.0011232898669197838 3.43685527507\n",
      "10.90010432757991 0.05087060879635437 14.7078911177\n",
      "10.700155709508318 0.015641109249332107 13.2040745388\n",
      "6.400704561522103 0.02007794941988852 6.47756307949\n",
      "9.530140524990513 0.004886956560161659 10.1422908823\n",
      "5.101368100239655 0.00037568609106735827 0.390653887299\n",
      "5.076350583857893 0.00029922746165275075 0.122510900361\n",
      "8.188728432053662 0.015144349740499382 9.09679163845\n",
      "9.019499385888661 0.00687529952406751 9.6550969937\n",
      "\n",
      "3.9765072861613895 0.004322708877000086 1.00835363448\n",
      "6.141661598392925 1.5295387262946694 10.3903428036\n",
      "9.563773793205646 0.05028769552695165 12.5280544621\n",
      "6.127035828251861 0.014337734281443781 5.69678456774\n",
      "8.917018551601796 0.0006254844747221188 7.09164900573\n",
      "8.91490165410472 0.0006276401902918112 7.0916547045\n"
     ]
    },
    {
     "name": "stdout",
     "output_type": "stream",
     "text": [
      "2.914985552392386 2.0145704077370947 5.43022189697\n",
      "10.057479156609535 0.003454736479425941 10.6511198283\n",
      "8.602925007832344 0.005480706720594049 8.75246791865\n",
      "1.0057504795821237 0.0007611731068410043 -5.54873270041\n",
      "10.073676526523935 0.1341524465582959 14.3366320926\n",
      "9.978011169785635 0.0375260077904509 12.907464205\n",
      "5.014782340133339 0.0006318020128089862 0.769983153962\n",
      "2.750464438106088 0.09754350451209468 2.13540939808\n",
      "0.931754128858806 0.1931163765526772 -0.132610704311\n",
      "\n",
      "3.130567188056846 0.00015682235809137677 -3.68078111818\n",
      "\n",
      "1.061153531034753 0.0030431900426948536 -4.07303566694\n",
      "3.8486613441722803 0.006324165976653777 1.18140845129\n",
      "1.8548256413370874 0.0170148631018479 -1.06405315173\n",
      "4.132400232965979 0.08222823267139959 4.2069198559\n",
      "2.3316047582413013 0.15813375389693662 1.93891611683\n",
      "\n",
      "4.249730818107868 0.0011234501867580951 0.104204635831\n",
      "2.438322850955744 0.0025023734354529662 -2.03412611988\n",
      "\n",
      "5.0263643464852255 0.0023802946264007874 2.1151794374\n",
      "\n",
      "1.954521031061489 0.0005000288691911776 -4.42946547398\n",
      "6.277797484770827 0.03258228422555849 6.76228227087\n",
      "4.4873458986026185 0.06281143892842683 4.51348836585\n",
      "6.461818944904226 0.006950780891344937 5.51595828963\n",
      "4.661051917747571 0.013627599535505748 3.2673012991\n",
      "6.846793062644016 0.018516111383760463 7.12039928543\n",
      "5.041083841510107 0.036572931246571884 4.87114720061\n",
      "7.3947534762293206 0.014163411131942574 7.74153312146\n",
      "\n",
      "4.970360502492659 0.0002726237769653554 -0.142578451605\n",
      "\n",
      "6.802480063912282 0.0131429800129704 6.7057441543\n",
      "\n",
      "8.291259443109315 0.0010338284160452348 6.57879837527\n",
      "\n",
      "5.640118069205807 0.00022380252464700008 0.74683240753\n",
      "8.391786349211134 0.004186764573035499 8.14057140321\n",
      "\n",
      "7.465716836493889 0.0006049633630433949 4.70342796678\n",
      "\n",
      "8.511001869614866 0.00016976625675863805 5.12874787993\n",
      "\n",
      "4.7300995744000955 1.7732818964974533e-05 -3.26509820348\n",
      "10.11542458894036 0.0003820561516171175 8.54320742942\n",
      "5.039576088584228 0.03666471828007853 4.87120729575\n",
      "7.015047737375009 0.17877975734321516 9.66092043652\n",
      "4.742631329967413 0.7414739332145176 7.396213837\n",
      "7.380818311453624 0.011316085452821511 7.49448535909\n",
      "5.570771653095287 0.021987776712055453 5.22178975298\n",
      "7.4801061991198425 0.24232602897072042 10.7196473773\n",
      "5.492992917972529 0.6333621774397379 8.45614275877\n",
      "3.3918624277285754 0.012884588884142022 1.15186651322\n",
      "1.762526562224111 0.006105258303371109 -2.23875322787\n",
      "\n",
      "3.2153472374177787 0.062169501798913306 2.43928798321\n",
      "1.3882665129045912 0.12483835769240019 0.171846850233\n",
      "3.735467354268865 0.20792683353437447 4.49054951385\n",
      "2.374058152355482 0.19797732130211337 2.23251168357\n",
      "\n",
      "3.8328344551016427 0.0011712515293438443 -0.530577347929\n",
      "\n",
      "1.8468889419115782 0.0003610700367361183 -4.92970172638\n",
      "3.2049498379816788 0.0329781379827632 1.7883976061\n",
      "1.41188870004449 0.06262578378085558 -0.479666797338\n",
      "4.118888913552747 0.10445172332768907 4.42422285342\n",
      "2.3164403892417966 0.20141978597715066 2.15626061698\n",
      "3.3883902356844406 0.012957251236634054 1.15185621706\n",
      "3.474979449634326 0.0003851398675897425 -2.22344959248\n",
      "6.589481632228264 0.03753151250954406 7.40942893217\n",
      "\n",
      "1.3906679299746558 0.12436983377996744 0.17198325207\n",
      "3.724458721289505 0.21166776811073337 4.49051871358\n",
      "2.388301005660038 0.19345270275319615 2.23250251079\n",
      "\n",
      "7.124154075445895 0.0012530705491241492 4.87739723326\n",
      "1.8473425426878793 0.00036076451903739885 -4.92981222337\n",
      "3.2111555347279426 0.032646336637855065 1.78835467715\n",
      "1.413883522777327 0.0624227265066963 -0.479677683979\n",
      "4.1911133146558015 0.09290075543119489 4.42421997511\n",
      "0.8466120715968903 0.0006514286745199703 -5.9626414105\n",
      "\n",
      "7.642904157124069 0.003959529297630148 6.86964223767\n",
      "5.82329385062998 0.007914072010977468 4.60968458424\n",
      "6.591463476323634 0.037193381358123376 7.40359455673\n",
      "\n",
      "4.7341110336181975 0.07909410295999023 5.14438723345\n",
      "7.831917804155608 0.036127240340245774 9.38725521816\n",
      "6.006994625430673 0.07254112046165702 7.12326610135\n",
      "\n",
      "7.120948995463315 0.0012595487391009893 4.87735324881\n",
      "\n",
      "5.335429074071055 0.0019370122198840067 2.41058608238\n",
      "\n",
      "6.514337066404707 0.00027564604448532547 2.37368178392\n",
      "\n",
      "4.477499557594881 0.0002529268691953254 -1.01728026522\n",
      "8.113354264328505 0.008318343049008527 8.37532611305\n",
      "4.136433726032448 0.001046478138083997 -0.150603787167\n",
      "\n",
      "2.85829482115226 0.0002206369542676472 -3.78116163631\n",
      "\n",
      "1.0821053378065764 0.000439966240344314 -5.97300315304\n",
      "\n",
      "2.9449774844538177 0.008785406259061601 0.043817108825\n",
      "\n",
      "1.748815032809912 0.002460924902794527 -3.16961452983\n",
      "3.6860977210140438 0.29729897369112096 4.76799504015\n",
      "1.7789616605543201 0.6794187537972056 2.50000138122\n",
      "\n",
      "3.8330505982261003 0.0011708457492110938 -0.530573147096\n",
      "1.8469565248730022 0.000360989072348883 -4.92981632691\n",
      "\n",
      "3.5231158532816225 0.0011738773633989375 -1.03088314475\n",
      "1.9490323020205318 0.012016483680737338 -1.25900261998\n",
      "4.467928615103192 0.15364262684189542 5.37647424095\n",
      "2.6317819174999517 0.3129463968156338 3.10857019499\n",
      "6.739657385192286 0.0005788751499573001 3.48125269813\n",
      "\n",
      "5.177383916213561 0.0003276631489836338 0.377228282044\n",
      "6.218594641041082 0.009806026464233756 5.46544897164\n",
      "4.392865797852643 0.020012511290049224 3.21640667609\n",
      "7.54595304843465 0.03278663763183014 8.82622657613\n",
      "5.721518607660509 0.06681970928627937 6.57790110297\n",
      "\n",
      "6.805631305459525 0.001825311160740221 4.73672001076\n",
      "5.571778538581855 0.000761090803031315 1.85993420915\n",
      "3.882189167423373 0.0015365821893667487 -0.179007330663\n",
      "1.8067678218173098 0.12772084439416428 0.873728600698\n",
      "8.072145599596897 0.003111592146252814 7.32513295107\n",
      "6.247358195165378 0.00626470499085383 5.06405468024\n",
      "\n",
      "7.83440745331006 0.00048423358272646613 5.07905984843\n",
      "\n",
      "5.1855041096314896 0.0003234786442687935 0.37755099874\n",
      "8.566213215544405 0.0004019029586574777 6.08012119153\n",
      "6.520594545758604 0.000721397042563549 3.34590715855\n",
      "7.543064466122521 0.0329385325225685 8.82616173238\n",
      "6.733393736474433 0.012024302382652797 6.50468764241\n",
      "6.697774172602732 0.06692249876754064 8.16349723706\n",
      "5.895702227455409 0.0024779200970191343 3.56595052755\n",
      "\n",
      "3.51323310228964 0.0011930011045681913 -1.03075894861\n",
      "\n",
      "2.0266165400456724 0.010524066964864163 -1.26573011134\n",
      "8.310482050412574 0.003765360949149893 7.9025636224\n",
      "6.720408321865537 0.0007671000291152264 3.73154981478\n"
     ]
    },
    {
     "data": {
      "text/plain": [
       "'\\n# South, anti\\npose.set_torsion(TorsionID(1, BB, 4), 145.4)\\npose.set_torsion(TorsionID(1, BB, 5), -97.4)\\npose.set_torsion(TorsionID(1, CHI, 1), -56.6)\\npose.set_torsion(TorsionID(1, CHI, 2), -37.2)\\npose.set_torsion(TorsionID(1, CHI, 3), 155.5)\\npose.set_torsion(TorsionID(2, BB, 1), 66.7)\\npose.set_torsion(TorsionID(2, BB, 3), -62.9)\\npose.set_torsion(TorsionID(2, BB, 4), 145.4)\\npose.set_torsion(TorsionID(2, CHI, 1), -56.6)\\npose.set_torsion(TorsionID(2, CHI, 2), -37.2)\\npose.set_torsion(TorsionID(2, CHI, 3), 155.5)\\n'"
      ]
     },
     "execution_count": 75,
     "metadata": {},
     "output_type": "execute_result"
    }
   ],
   "source": [
    "# Code for any dinucleotide \n",
    "for delta in [81.195, 145.521]:\n",
    "    \n",
    "    for alpha in [-64.3, 66.7, 156.6]:\n",
    "        \n",
    "        pose, movemap, dof_dict = initialiize_pose(seq)\n",
    "        \n",
    "        pose.set_torsion(TorsionID(1, BB, 4), delta)\n",
    "    \n",
    "        if delta == 81.195:\n",
    "\n",
    "            if seq[0] in 'ga': possible_chi = [-110.9, -51.9, 72.4]\n",
    "            else: possible_chi = [-105.7, -47.2, -12.5, 77.3]\n",
    "                    \n",
    "            possible_eps = [-150.4, 16.8, 76.2]\n",
    "\n",
    "        #C2'-endo\n",
    "        else:\n",
    "\n",
    "            if seq[0] in 'ga': possible_chi = [-56.6, 119.0]\n",
    "            else: possible_chi =[-65, 108]\n",
    "                \n",
    "            possible_eps = [-97.4, 0, 75.2]\n",
    "            \n",
    "            pose.set_torsion(TorsionID(1, CHI, 2), -34.825)\n",
    "            pose.set_torsion(TorsionID(1, CHI, 3), 155.987)\n",
    "                \n",
    "        #if pucker == 'north':\n",
    "        \n",
    "            #pose.set_torsion(TorsionID(2, BB, 4), 81.195)\n",
    "            #pose.set_torsion(TorsionID(2, CHI, 2), 35.870)\n",
    "            #pose.set_torsion(TorsionID(2, CHI, 3), 94.856)\n",
    "            \n",
    "        if pucker == 'south':\n",
    "        \n",
    "            # These will set the terminal base pair to C2'-endo (south)\n",
    "            pose.set_torsion(TorsionID(2, BB, 4), 145.521)\n",
    "            pose.set_torsion(TorsionID(2, CHI, 2), -34.79)\n",
    "            pose.set_torsion(TorsionID(2, CHI, 3), 156.00)\n",
    "\n",
    "        if alpha == -64.3: possible_zeta = [-71.8, 167.55]\n",
    "        elif alpha == 66.7: possible_zeta = [-131.6, 79.0]\n",
    "        else: possible_zeta = [-69.5, 56.5]\n",
    "        \n",
    "        possible_chi_2 = chi_minima(seq[-1], pucker, orientation)\n",
    "        torsion_lists = itertools.product(possible_eps, possible_zeta, [alpha], [177.3], [175.8, 53.5, -62.9], possible_chi, \n",
    "                                          possible_chi_2)\n",
    "        \n",
    "        \n",
    "        \n",
    "        for torsion_list in list(torsion_lists):\n",
    "            \n",
    "            pose.set_torsion(TorsionID(1, BB, 5), torsion_list[0])\n",
    "            pose.set_torsion(TorsionID(1, BB, 6), torsion_list[1])\n",
    "            pose.set_torsion(TorsionID(2, BB, 1), torsion_list[2])\n",
    "            pose.set_torsion(TorsionID(2, BB, 2), torsion_list[3])\n",
    "            pose.set_torsion(TorsionID(2, BB, 3), torsion_list[4])\n",
    "            pose.set_torsion(TorsionID(1, CHI, 1), torsion_list[5])\n",
    "            pose.set_torsion(TorsionID(2, CHI, 1), torsion_list[6])\n",
    "\n",
    "            pmm.apply(pose)\n",
    "            \n",
    "            pose = add_constraints(pose)\n",
    "            \n",
    "            pose = MC_minimization(pose, scorefxn, dof_dict, torsion_list)\n",
    "            \n",
    "            minmover = rosetta.protocols.minimization_packing.MinMover(\n",
    "                movemap, scorefxn, 'dfpmin_armijo_nonmonotone', 1.0e-7, True)\n",
    "            minmover.max_iter(1000000)\n",
    "            minmover.min_options().use_nblist(True)\n",
    "            minmover.min_options().nblist_auto_update(True)\n",
    "            minmover.apply(pose)\n",
    "\n",
    "            pmm.apply(pose)\n",
    "            E_min = scorefxn(pose)\n",
    "            \n",
    "            minimum = Pose()\n",
    "            minimum.assign(pose)\n",
    "\n",
    "            dofs = []\n",
    "\n",
    "            for val in dof_dict.itervalues(): dofs.append(pose.torsion(val))\n",
    "            dofs.append(delta)\n",
    "            dofs = np.array(dofs)\n",
    "\n",
    "\n",
    "            if is_repeat_minimum(dofs, dof_lists): continue\n",
    "            dof_lists.append(dof_list)\n",
    "                    \n",
    "            hessian = calculate_hessian(pose, scorefxn, dof_dict)\n",
    "            w,v = scipy.linalg.eigh(hessian)\n",
    "\n",
    "            if not np.all(w > 0.):\n",
    "                continue\n",
    "\n",
    "            E_list = np.append(E_list, E_min)\n",
    "            \n",
    "            Z = 1.0\n",
    "            Z_harm = np.sqrt((2*np.pi)**len(w)/scipy.linalg.det(hessian)) \n",
    "            \n",
    "            for kk, K in enumerate(w):\n",
    "\n",
    "                fuck = mode_scan(pose, dofs[:-1], dof_dict, scorefxn, v[:, kk])\n",
    "                \n",
    "                if fuck == 1.0: break\n",
    "                    \n",
    "                Z *= fuck\n",
    "\n",
    "            if kk < 6:\n",
    "                \n",
    "                dof_lists.pop()\n",
    "                E_lists = np.delete(E_list, -1)\n",
    "                E_min = 0\n",
    "                \n",
    "                continue\n",
    "            \n",
    "            if np.all(E_list >= E_min):\n",
    "                \n",
    "                pose_min.assign(minimum)\n",
    "                dofs_min = dofs\n",
    "                \n",
    "            #Z_list = np.append(Z_list, np.exp(-scorefxn(minimum)/0.6163)*Z )\n",
    "            Z_harm_list = np.append(Z_harm_list, np.exp(-scorefxn(minimum))*Z_harm)\n",
    "            mu_list = np.append(mu_list, scorefxn(minimum) - np.log(Z))\n",
    "            print (scorefxn(minimum) - np.log(Z))*0.6163, Z, scorefxn(minimum)\n",
    "            #print -0.6163*np.log(np.sum(np.exp(-mu_list/0.6163))), scorefxn(minimum), np.exp(-(scorefxn(minimum) - np.log(Z))/0.6163)\n",
    "\n",
    "'''\n",
    "# South, anti\n",
    "pose.set_torsion(TorsionID(1, BB, 4), 145.4)\n",
    "pose.set_torsion(TorsionID(1, BB, 5), -97.4)\n",
    "pose.set_torsion(TorsionID(1, CHI, 1), -56.6)\n",
    "pose.set_torsion(TorsionID(1, CHI, 2), -37.2)\n",
    "pose.set_torsion(TorsionID(1, CHI, 3), 155.5)\n",
    "pose.set_torsion(TorsionID(2, BB, 1), 66.7)\n",
    "pose.set_torsion(TorsionID(2, BB, 3), -62.9)\n",
    "pose.set_torsion(TorsionID(2, BB, 4), 145.4)\n",
    "pose.set_torsion(TorsionID(2, CHI, 1), -56.6)\n",
    "pose.set_torsion(TorsionID(2, CHI, 2), -37.2)\n",
    "pose.set_torsion(TorsionID(2, CHI, 3), 155.5)\n",
    "'''"
   ]
  },
  {
   "cell_type": "code",
   "execution_count": 76,
   "metadata": {
    "scrolled": true
   },
   "outputs": [
    {
     "name": "stdout",
     "output_type": "stream",
     "text": [
      "-2.3092996606798346\n",
      "-2.557621562771781\n"
     ]
    },
    {
     "ename": "NameError",
     "evalue": "name 'Z_list' is not defined",
     "output_type": "error",
     "traceback": [
      "\u001b[0;31m---------------------------------------------------------------------------\u001b[0m",
      "\u001b[0;31mNameError\u001b[0m                                 Traceback (most recent call last)",
      "\u001b[0;32m<ipython-input-76-59831712b398>\u001b[0m in \u001b[0;36m<module>\u001b[0;34m()\u001b[0m\n\u001b[1;32m      2\u001b[0m \u001b[0;32mprint\u001b[0m \u001b[0;36m0.6163\u001b[0m\u001b[0;34m*\u001b[0m\u001b[0;34m(\u001b[0m\u001b[0;34m-\u001b[0m\u001b[0mscipy\u001b[0m\u001b[0;34m.\u001b[0m\u001b[0mspecial\u001b[0m\u001b[0;34m.\u001b[0m\u001b[0mlogsumexp\u001b[0m\u001b[0;34m(\u001b[0m\u001b[0;34m-\u001b[0m\u001b[0mmu_list\u001b[0m\u001b[0;34m[\u001b[0m\u001b[0;34m:\u001b[0m\u001b[0;34m]\u001b[0m\u001b[0;34m)\u001b[0m\u001b[0;34m)\u001b[0m\u001b[0;34m\u001b[0m\u001b[0m\n\u001b[1;32m      3\u001b[0m \u001b[0;32mprint\u001b[0m \u001b[0;34m-\u001b[0m\u001b[0;36m0.6163\u001b[0m\u001b[0;34m*\u001b[0m\u001b[0mnp\u001b[0m\u001b[0;34m.\u001b[0m\u001b[0mlog\u001b[0m\u001b[0;34m(\u001b[0m\u001b[0mnp\u001b[0m\u001b[0;34m.\u001b[0m\u001b[0msum\u001b[0m\u001b[0;34m(\u001b[0m\u001b[0mZ_harm_list\u001b[0m\u001b[0;34m)\u001b[0m\u001b[0;34m)\u001b[0m\u001b[0;34m\u001b[0m\u001b[0m\n\u001b[0;32m----> 4\u001b[0;31m \u001b[0mfuck\u001b[0m \u001b[0;34m=\u001b[0m \u001b[0mZ_list\u001b[0m\u001b[0;34m*\u001b[0m\u001b[0;34m(\u001b[0m\u001b[0;36m2\u001b[0m\u001b[0;34m*\u001b[0m\u001b[0mnp\u001b[0m\u001b[0;34m.\u001b[0m\u001b[0mpi\u001b[0m\u001b[0;34m/\u001b[0m\u001b[0;36m3\u001b[0m\u001b[0;34m)\u001b[0m\u001b[0;34m**\u001b[0m\u001b[0;36m7\u001b[0m\u001b[0;34m\u001b[0m\u001b[0m\n\u001b[0m\u001b[1;32m      5\u001b[0m \u001b[0;32mprint\u001b[0m \u001b[0;34m-\u001b[0m\u001b[0;36m0.6163\u001b[0m\u001b[0;34m*\u001b[0m\u001b[0mnp\u001b[0m\u001b[0;34m.\u001b[0m\u001b[0mlog\u001b[0m\u001b[0;34m(\u001b[0m\u001b[0mnp\u001b[0m\u001b[0;34m.\u001b[0m\u001b[0msum\u001b[0m\u001b[0;34m(\u001b[0m\u001b[0mfuck\u001b[0m\u001b[0;34m)\u001b[0m\u001b[0;34m)\u001b[0m\u001b[0;34m\u001b[0m\u001b[0m\n\u001b[1;32m      6\u001b[0m \u001b[0;32mprint\u001b[0m \u001b[0;34m-\u001b[0m\u001b[0;36m0.6163\u001b[0m\u001b[0;34m*\u001b[0m\u001b[0mnp\u001b[0m\u001b[0;34m.\u001b[0m\u001b[0mlog\u001b[0m\u001b[0;34m(\u001b[0m\u001b[0mnp\u001b[0m\u001b[0;34m.\u001b[0m\u001b[0msum\u001b[0m\u001b[0;34m(\u001b[0m\u001b[0mZ_list\u001b[0m\u001b[0;34m)\u001b[0m\u001b[0;34m)\u001b[0m\u001b[0;34m\u001b[0m\u001b[0m\n",
      "\u001b[0;31mNameError\u001b[0m: name 'Z_list' is not defined"
     ]
    }
   ],
   "source": [
    "import scipy.special\n",
    "print 0.6163*(-scipy.special.logsumexp(-mu_list[:]))\n",
    "print -0.6163*np.log(np.sum(Z_harm_list))\n",
    "fuck = Z_list*(2*np.pi/3)**7\n",
    "print -0.6163*np.log(np.sum(fuck))\n",
    "print -0.6163*np.log(np.sum(Z_list)) \n",
    "print np.sum(Z_list)\n",
    "print np.sum(Z_list*(2*np.pi/3)**7)\n",
    "print len(Z_list)\n",
    "print -0.6163*np.log(np.sum(Z_list))\n",
    "print np.sum(Z_harm_list)\n",
    "print np.sum(Z_list) \n",
    "print Z_harm_list"
   ]
  },
  {
   "cell_type": "code",
   "execution_count": 77,
   "metadata": {},
   "outputs": [],
   "source": [
    "from sklearn.cluster import AffinityPropagation\n",
    "af = AffinityPropagation().fit(dof_lists)\n",
    "\n",
    "pose = protocols.recces.pose_setup_turner(seq,'')"
   ]
  },
  {
   "cell_type": "code",
   "execution_count": 78,
   "metadata": {},
   "outputs": [
    {
     "name": "stdout",
     "output_type": "stream",
     "text": [
      "270 270\n"
     ]
    }
   ],
   "source": [
    "print len(dof_lists), len(af.cluster_centers_indices_)"
   ]
  },
  {
   "cell_type": "code",
   "execution_count": null,
   "metadata": {},
   "outputs": [],
   "source": [
    "def set_pucker(pose, idx, pucker='north'):\n",
    "    \n",
    "    if pucker == 'north': return pose\n",
    "    \n",
    "    if pucker =='south':\n",
    "        \n",
    "        pose.set_torsion(TorsionID(idx, BB, 4), 145.521)\n",
    "        pose.set_torsion(TorsionID(idx, CHI, 2), -34.79)\n",
    "        pose.set_torsion(TorsionID(idx, CHI, 3), 156.00)\n",
    "        \n",
    "        return pose"
   ]
  },
  {
   "cell_type": "code",
   "execution_count": 41,
   "metadata": {},
   "outputs": [
    {
     "name": "stderr",
     "output_type": "stream",
     "text": [
      "/home/maa/.local/lib/python2.7/site-packages/ipykernel_launcher.py:16: RuntimeWarning: overflow encountered in double_scalars\n",
      "  app.launch_new_instance()\n"
     ]
    }
   ],
   "source": [
    "cluster_center_indices = af.cluster_centers_indices_\n",
    "shit_list = []\n",
    "\n",
    "for k in cluster_center_indices:\n",
    "    \n",
    "    dofs = dof_lists[k]\n",
    "    for kk, dof in enumerate(dofs): pose.set_torsion(dof_dict[kk], dof)\n",
    "    hessian = calculate_hessian(pose, scorefxn, dof_dict)\n",
    "    pmm.apply(pose)\n",
    "    w,v = scipy.linalg.eigh(hessian)\n",
    "   \n",
    "    shit = 1.0\n",
    "    for kk, K in enumerate(w):\n",
    "        \n",
    "        fuck = mode_scan(pose, dofs, dof_dict, scorefxn, v[:,kk])\n",
    "        shit *= fuck\n",
    "    \n",
    "    shit_list.append(shit)"
   ]
  },
  {
   "cell_type": "code",
   "execution_count": 42,
   "metadata": {},
   "outputs": [
    {
     "name": "stdout",
     "output_type": "stream",
     "text": [
      "[1.5500664848930115, 0.1007467642511247, 0.09945661861583122, 7.088120296095544e+35, inf, 43.09028650480836, 0.01907815267870834, 1.45919983556947, 0.030081473835010333, 0.18468192165534247, 0.08953196370822086, 7.952383976313734e+53, inf, 34052109.47872202, 3.62466377086807, 7.290019313431219e+39, 44940480205.3906, 3.834591523137687e+16, 2.09098130666092, 6248.739562805799, 91751142.89854813, 10783.35318247478, 165849.52718728004, 4400.03466638504]\n"
     ]
    }
   ],
   "source": [
    "print shit_list"
   ]
  },
  {
   "cell_type": "code",
   "execution_count": 224,
   "metadata": {
    "scrolled": true
   },
   "outputs": [
    {
     "name": "stdout",
     "output_type": "stream",
     "text": [
      "-0.9376301833576508\n",
      "north anti -10.668623055975846\n"
     ]
    },
    {
     "data": {
      "image/png": "[encoded data removed]",
      "text/plain": [
       "<Figure size 432x288 with 1 Axes>"
      ]
     },
     "metadata": {},
     "output_type": "display_data"
    }
   ],
   "source": [
    "hist = plt.hist(E_list,bins=9000,range=(-100,800))\n",
    "print -0.6163*np.log(np.sum(np.exp(-mu_list)))\n",
    "\n",
    "print pucker, orientation, min(E_list)"
   ]
  },
  {
   "cell_type": "code",
   "execution_count": 184,
   "metadata": {},
   "outputs": [
    {
     "ename": "NameError",
     "evalue": "name 'configuration_integral' is not defined",
     "output_type": "error",
     "traceback": [
      "\u001b[0;31m---------------------------------------------------------------------------\u001b[0m",
      "\u001b[0;31mNameError\u001b[0m                                 Traceback (most recent call last)",
      "\u001b[0;32m<ipython-input-184-263a50e554a2>\u001b[0m in \u001b[0;36m<module>\u001b[0;34m()\u001b[0m\n\u001b[0;32m----> 1\u001b[0;31m \u001b[0;32mprint\u001b[0m \u001b[0mscorefxn\u001b[0m\u001b[0;34m(\u001b[0m\u001b[0mpose_min\u001b[0m\u001b[0;34m)\u001b[0m \u001b[0;34m-\u001b[0m \u001b[0;36m0.6163\u001b[0m\u001b[0;34m*\u001b[0m\u001b[0mnp\u001b[0m\u001b[0;34m.\u001b[0m\u001b[0mlog\u001b[0m\u001b[0;34m(\u001b[0m\u001b[0mconfiguration_integral\u001b[0m\u001b[0;34m)\u001b[0m\u001b[0;34m\u001b[0m\u001b[0m\n\u001b[0m\u001b[1;32m      2\u001b[0m \u001b[0;32mprint\u001b[0m \u001b[0mconfiguration_integral\u001b[0m\u001b[0;34m\u001b[0m\u001b[0m\n\u001b[1;32m      3\u001b[0m \u001b[0;32mprint\u001b[0m \u001b[0;34m-\u001b[0m\u001b[0;36m0.6163\u001b[0m\u001b[0;34m*\u001b[0m\u001b[0mnp\u001b[0m\u001b[0;34m.\u001b[0m\u001b[0mlog\u001b[0m\u001b[0;34m(\u001b[0m\u001b[0mnp\u001b[0m\u001b[0;34m.\u001b[0m\u001b[0mexp\u001b[0m\u001b[0;34m(\u001b[0m\u001b[0;34m-\u001b[0m\u001b[0mscorefxn\u001b[0m\u001b[0;34m(\u001b[0m\u001b[0mpose_min\u001b[0m\u001b[0;34m)\u001b[0m\u001b[0;34m/\u001b[0m\u001b[0;36m0.6163\u001b[0m\u001b[0;34m)\u001b[0m\u001b[0;34m*\u001b[0m\u001b[0mconfiguration_integral\u001b[0m\u001b[0;34m)\u001b[0m\u001b[0;34m\u001b[0m\u001b[0m\n\u001b[1;32m      4\u001b[0m \u001b[0;32mprint\u001b[0m \u001b[0;34m-\u001b[0m\u001b[0;36m0.6163\u001b[0m\u001b[0;34m*\u001b[0m\u001b[0mscipy\u001b[0m\u001b[0;34m.\u001b[0m\u001b[0mspecial\u001b[0m\u001b[0;34m.\u001b[0m\u001b[0mlogsumexp\u001b[0m\u001b[0;34m(\u001b[0m\u001b[0;34m-\u001b[0m\u001b[0mmu_list\u001b[0m\u001b[0;34m)\u001b[0m\u001b[0;34m\u001b[0m\u001b[0m\n\u001b[1;32m      5\u001b[0m \u001b[0;32mprint\u001b[0m \u001b[0;34m-\u001b[0m\u001b[0;36m0.6163\u001b[0m\u001b[0;34m*\u001b[0m\u001b[0mnp\u001b[0m\u001b[0;34m.\u001b[0m\u001b[0mlog\u001b[0m\u001b[0;34m(\u001b[0m\u001b[0mnp\u001b[0m\u001b[0;34m.\u001b[0m\u001b[0mexp\u001b[0m\u001b[0;34m(\u001b[0m\u001b[0;34m-\u001b[0m\u001b[0mscorefxn\u001b[0m\u001b[0;34m(\u001b[0m\u001b[0mpose_min\u001b[0m\u001b[0;34m)\u001b[0m\u001b[0;34m/\u001b[0m\u001b[0;36m0.6163\u001b[0m\u001b[0;34m)\u001b[0m\u001b[0;34m*\u001b[0m\u001b[0mconfiguration_integral\u001b[0m\u001b[0;34m)\u001b[0m\u001b[0;34m\u001b[0m\u001b[0m\n",
      "\u001b[0;31mNameError\u001b[0m: name 'configuration_integral' is not defined"
     ]
    }
   ],
   "source": [
    "print scorefxn(pose_min) - 0.6163*np.log(configuration_integral)\n",
    "print configuration_integral\n",
    "print -0.6163*np.log(np.exp(-scorefxn(pose_min)/0.6163)*configuration_integral) \n",
    "print -0.6163*scipy.special.logsumexp(-mu_list)\n",
    "print -0.6163*np.log(np.exp(-scorefxn(pose_min)/0.6163)*configuration_integral)\n",
    "print scorefxn(pose_min) - np.log(configuration_integral)\n",
    "print (np.exp(-(scorefxn(pose_min)-np.log(configuration_integral))/0.6163))\n"
   ]
  },
  {
   "cell_type": "code",
   "execution_count": 229,
   "metadata": {},
   "outputs": [
    {
     "name": "stdout",
     "output_type": "stream",
     "text": [
      "\u001b[0mcore.import_pose.import_pose: \u001b[0mFile './../recces_rosetta/results/ag/infile_80/prerun/ag.pdb' automatically determined to be of type PDB\n",
      "-9.99619953834\n",
      "-10.668623056\n"
     ]
    }
   ],
   "source": [
    "pose = pose_from_file('./../recces_rosetta/results/ag/infile_80/prerun/ag.pdb')\n",
    "huh = pose_min\n",
    "print scorefxn(pose)\n",
    "pmm.apply(pose)\n",
    "pose.assign(pose_min)\n",
    "minmover.apply(pose)\n",
    "pmm.apply(pose)\n",
    "hessian = calculate_hessian(pose_min, scorefxn, dof_dict)\n",
    "print scorefxn(pose_min)\n",
    "dofs = []\n",
    "for val in dof_dict.itervalues(): dofs.append(pose.torsion(val))\n",
    "dofs = np.array(dofs)"
   ]
  },
  {
   "cell_type": "code",
   "execution_count": 230,
   "metadata": {},
   "outputs": [
    {
     "name": "stdout",
     "output_type": "stream",
     "text": [
      "-10.668623056\n",
      "-61.9851471746\n"
     ]
    }
   ],
   "source": [
    "w, v = scipy.linalg.eigh(hessian)\n",
    "obs = protocols.moves.AddPyMOLObserver(pose, True)\n",
    "pose.assign(huh)\n",
    "E_min = scorefxn(pose_min)\n",
    "print E_min\n",
    "print pose_min.alpha(2)"
   ]
  },
  {
   "cell_type": "code",
   "execution_count": 416,
   "metadata": {},
   "outputs": [
    {
     "name": "stdout",
     "output_type": "stream",
     "text": [
      "-1.6243333348616762\n"
     ]
    }
   ],
   "source": [
    "print 0.5*np.log(scipy.linalg.det(hessian))- 0.5*len(w)*np.log(2*np.pi) + scorefxn(pose_min)"
   ]
  },
  {
   "cell_type": "code",
   "execution_count": 389,
   "metadata": {
    "scrolled": false
   },
   "outputs": [
    {
     "data": {
      "image/png": "[encoded data removed]",
      "text/plain": [
       "<Figure size 432x288 with 7 Axes>"
      ]
     },
     "metadata": {},
     "output_type": "display_data"
    }
   ],
   "source": [
    "import scipy.integrate\n",
    "\n",
    "Z = 1\n",
    "\n",
    "pose.assign(pose_min)\n",
    "E_min = scorefxn(pose_min)\n",
    "kT = 1.0\n",
    "for kk in range(len(w)):\n",
    " \n",
    "    mode = v[:,kk]\n",
    "    h = np.arange(-60,61,1)\n",
    "    #fuck = h[:-1]\n",
    "    #fuck.reverse()\n",
    "    #h = h+fuck\n",
    "    #h = np.array(h)\n",
    "    h_plot = h*np.pi/180\n",
    "\n",
    "    bar = []\n",
    "\n",
    "\n",
    "    for hh in h:\n",
    "\n",
    "        dofs_new = dofs+hh*mode\n",
    "\n",
    "        for jj, dof in enumerate(dofs_new):\n",
    "\n",
    "            pose.set_torsion(dof_dict[jj], dof)\n",
    "\n",
    "        bar.append((scorefxn(pose)-E_min)/kT)\n",
    "\n",
    "    \n",
    "    Z *= np.trapz(np.exp(-np.array(bar)), x = h_plot)\n",
    "    np.array(bar) \n",
    "    pose.assign(pose_min)\n",
    "    \n",
    "    plt.subplot(3, 3, kk+1)\n",
    "    plt.plot(h, np.exp(-np.array(bar)))\n",
    "    plt.plot(h, np.exp(-0.5*w[kk]*h_plot**2/kT))\n",
    "    plt.xticks([],[])\n",
    "    plt.yticks([],[])\n",
    "    #plt.xlabel('Displacement along normal coordinate (degrees)')\n",
    "    #plt.ylabel('exp(-(E-E0)/kT)')"
   ]
  },
  {
   "cell_type": "code",
   "execution_count": 390,
   "metadata": {
    "scrolled": true
   },
   "outputs": [
    {
     "name": "stdout",
     "output_type": "stream",
     "text": [
      "-0.9317799003971552\n",
      "-10.668623056\n",
      "9.156729659258085\n"
     ]
    }
   ],
   "source": [
    "print (scorefxn(pose_min) - np.log(Z))*0.6163"
   ]
  },
  {
   "cell_type": "code",
   "execution_count": 398,
   "metadata": {},
   "outputs": [
    {
     "name": "stdout",
     "output_type": "stream",
     "text": [
      "No phase space volume applied\n",
      "-0.9492145449075741\n"
     ]
    }
   ],
   "source": [
    "sim = SingleHistSimulation('./../../das-lab/recces_rosetta/results/ag/infile_120/ST/')\n",
    "print 0.6163*(sim.value) - 0.6163*np.log(4*np.pi/3)*7"
   ]
  },
  {
   "cell_type": "code",
   "execution_count": 234,
   "metadata": {},
   "outputs": [
    {
     "name": "stdout",
     "output_type": "stream",
     "text": [
      "-10.668623055975846\n"
     ]
    }
   ],
   "source": [
    "print min(E_list)\n",
    "pmm.apply(pose_min)"
   ]
  },
  {
   "cell_type": "code",
   "execution_count": 192,
   "metadata": {},
   "outputs": [],
   "source": [
    "pmm.apply(pose_min)"
   ]
  },
  {
   "cell_type": "code",
   "execution_count": 193,
   "metadata": {},
   "outputs": [
    {
     "name": "stdout",
     "output_type": "stream",
     "text": [
      "0.0\n"
     ]
    }
   ],
   "source": [
    "pose = protocols.recces.pose_setup_turner('g','')\n",
    "print pose.epsilon(1)"
   ]
  },
  {
   "cell_type": "code",
   "execution_count": null,
   "metadata": {},
   "outputs": [],
   "source": [
    "minmover.tolerance(1e-7)\n",
    "minmover.max_iter(100000)\n",
    "minmover.apply(pose)\n"
   ]
  },
  {
   "cell_type": "code",
   "execution_count": null,
   "metadata": {},
   "outputs": [],
   "source": [
    "print dof_lists"
   ]
  },
  {
   "cell_type": "code",
   "execution_count": 28,
   "metadata": {},
   "outputs": [
    {
     "name": "stdout",
     "output_type": "stream",
     "text": [
      "{0: <pyrosetta.rosetta.core.id.TorsionID object at 0x7f8544988768>, 1: <pyrosetta.rosetta.core.id.TorsionID object at 0x7f8544988810>, 2: <pyrosetta.rosetta.core.id.TorsionID object at 0x7f8544988570>, 3: <pyrosetta.rosetta.core.id.TorsionID object at 0x7f85449885e0>, 4: <pyrosetta.rosetta.core.id.TorsionID object at 0x7f8544988500>, 5: <pyrosetta.rosetta.core.id.TorsionID object at 0x7f85449885a8>, 6: <pyrosetta.rosetta.core.id.TorsionID object at 0x7f8544988068>}\n",
      "-10.0049722639\n"
     ]
    }
   ],
   "source": [
    "print dof_dict\n",
    "from scipy.special import gamma\n",
    "from scipy.special import logsumexp\n",
    "#north_anti_min.assign(pose_min)\n",
    "print scorefxn(pose_min)"
   ]
  },
  {
   "cell_type": "code",
   "execution_count": 65,
   "metadata": {},
   "outputs": [
    {
     "name": "stdout",
     "output_type": "stream",
     "text": [
      "12215866453535.832\n"
     ]
    }
   ],
   "source": [
    "hessian = calculate_hessian(pose_min, scorefxn, dof_dict)\n",
    "print np.linalg.det(hessian)\n",
    "from recces.util import *\n",
    "from recces.data import *\n"
   ]
  },
  {
   "cell_type": "code",
   "execution_count": 420,
   "metadata": {},
   "outputs": [
    {
     "name": "stdout",
     "output_type": "stream",
     "text": [
      "No phase space volume applied\n",
      "-1.8035877596657626\n",
      "-4.12104207805062\n"
     ]
    }
   ],
   "source": [
    "from recces.util import *\n",
    "from recces.data import *\n",
    "sim = SingleHistSimulation('./../recces_rosetta/results/ag/infile_120/ST/', name='')\n",
    "print (sim.value)*0.6163 - 0.6163*np.log(4*np.pi/3)*7\n",
    "print (scorefxn(pose_min) - np.log(Z) - np.log(2*np.pi/3)*7)*0.6163"
   ]
  },
  {
   "cell_type": "code",
   "execution_count": 417,
   "metadata": {},
   "outputs": [
    {
     "name": "stdout",
     "output_type": "stream",
     "text": [
      "-4.190338811928716\n",
      "-1.001076634275251\n",
      "No phase space volume applied\n"
     ]
    }
   ],
   "source": [
    "print (scorefxn(pose_min) + 0.5*np.log(np.linalg.det(hessian)) - 3.5*np.log(2*np.pi))*0.6163 - np.log(2*np.pi/3)*7*0.6163\n",
    "print (scorefxn(pose_min) + 0.5*np.log(np.linalg.det(hessian)) - 3.5*np.log(2*np.pi))*0.6163\n",
    "E_min = scorefxn(pose_min)\n",
    "sim = SingleHistSimulation('./../recces_rosetta/results/ag/infile_120/ST/',name='')\n",
    "\n"
   ]
  },
  {
   "cell_type": "markdown",
   "metadata": {},
   "source": [
    "12/17 \n",
    "Need to figure out why SingleSimulation and SingleHistSimulation are giving different values of the free energy. SingleHistSimulation seems to be agreeing with MM while SingleSimulation is off by 2*log(2)"
   ]
  },
  {
   "cell_type": "code",
   "execution_count": 400,
   "metadata": {},
   "outputs": [],
   "source": [
    "matt_guess = lambda E: (2.0*np.pi)**(len(w)/2)*(E-E_min)**(len(w)/2 - 1)/gamma(len(w)/2)/np.sqrt(np.linalg.det(hessian))*np.heaviside(E-E_min, 0.5)#2*(2*np.pi)**((len(w)-1)/2)*(2*(E-E_min))**(len(w)/2-1)/scipy.misc.factorial2(len(w)-2)/np.sqrt(np.linalg.det(hessian))*np.heaviside(E-E_min,0.5)"
   ]
  },
  {
   "cell_type": "code",
   "execution_count": 408,
   "metadata": {
    "scrolled": false
   },
   "outputs": [
    {
     "data": {
      "text/plain": [
       "Text(0,0.5,'$g(E)e^{\\\\frac{-E}{kT}}$')"
      ]
     },
     "execution_count": 408,
     "metadata": {},
     "output_type": "execute_result"
    },
    {
     "data": {
      "image/png": "[encoded data removed]",
      "text/plain": [
       "<Figure size 432x288 with 1 Axes>"
      ]
     },
     "metadata": {},
     "output_type": "display_data"
    }
   ],
   "source": [
    "plt.plot(hist[1][500:1500], matt_guess(hist[1][500:1500])*np.exp(-hist[1][500:1500])/(4*np.pi/3)**7)\n",
    "#plt.plot(hist[1][500:1500], matt_guess_ns(hist[1][500:1500])*np.exp(-hist[1][500:1500]))\n",
    "#plt.plot(hist[1][500:1500], matt_guess_sa(hist[1][500:1500])*np.exp(-hist[1][500:1500]))\n",
    "#plt.plot(hist[1][500:1500], matt_guess_ss(hist[1][500:1500])*np.exp(-hist[1][500:1500]))\n",
    "plt.plot(sim._dos_scores[500:1500], np.exp(-sim._dos_scores[500:1500])*sim._dos[500:1500])\n",
    "plt.legend(['MM','RECCES'])\n",
    "plt.xlabel('Energy (REU)')\n",
    "plt.ylabel(r'$g(E)e^{\\frac{-E}{kT}}$')"
   ]
  },
  {
   "cell_type": "markdown",
   "metadata": {},
   "source": [
    "12/16\n",
    "\n",
    "Plot log of the density of states. Compare both harmonic approximation with simulated tempering estimation. Consistent with discrepancies in estimated free energies, there appears to be a constant offset of about 2*log(2). Unclear why this is the case. Perhaps has something to do with normalizatiotn and configuration space volume calculated by recces results processing scripts. Will need to alter that code and follow up on this investigation.\n",
    "\n",
    "Pure harmonic approximation with correction for finite phase volume seems to be giving best approximation"
   ]
  },
  {
   "cell_type": "code",
   "execution_count": 422,
   "metadata": {},
   "outputs": [
    {
     "name": "stderr",
     "output_type": "stream",
     "text": [
      "/home/maa/.local/lib/python2.7/site-packages/ipykernel_launcher.py:1: RuntimeWarning: divide by zero encountered in log\n",
      "  \"\"\"Entry point for launching an IPython kernel.\n",
      "/home/maa/.local/lib/python2.7/site-packages/ipykernel_launcher.py:2: RuntimeWarning: divide by zero encountered in log\n",
      "  \n"
     ]
    },
    {
     "data": {
      "text/plain": [
       "[<matplotlib.lines.Line2D at 0x7f85364b0690>]"
      ]
     },
     "execution_count": 422,
     "metadata": {},
     "output_type": "execute_result"
    },
    {
     "data": {
      "image/png": "[encoded data removed]",
      "text/plain": [
       "<Figure size 432x288 with 1 Axes>"
      ]
     },
     "metadata": {},
     "output_type": "display_data"
    }
   ],
   "source": [
    "plt.plot(hist[1][500:1500], np.log(sim._dos[500:1500]))\n",
    "plt.plot(hist[1][500:1500], np.log(matt_guess(hist[1][500:1500]))-np.log(4*np.pi/3)*7)\n"
   ]
  },
  {
   "cell_type": "code",
   "execution_count": 424,
   "metadata": {},
   "outputs": [
    {
     "name": "stdout",
     "output_type": "stream",
     "text": [
      "-1.8538222213906013\n",
      "-1.8035877596657626\n"
     ]
    },
    {
     "name": "stderr",
     "output_type": "stream",
     "text": [
      "/home/maa/.local/lib/python2.7/site-packages/ipykernel_launcher.py:1: DeprecationWarning: `logsumexp` is deprecated!\n",
      "Importing `logsumexp` from scipy.misc is deprecated in scipy 1.0.0. Use `scipy.special.logsumexp` instead.\n",
      "  \"\"\"Entry point for launching an IPython kernel.\n"
     ]
    }
   ],
   "source": [
    "print -0.6163*logsumexp(-hist[1][:], b=matt_guess(hist[1][:]))\n",
    "print sim.value*0.6163 - 0.6163*np.log(4*np.pi/3)*7"
   ]
  },
  {
   "cell_type": "code",
   "execution_count": 252,
   "metadata": {},
   "outputs": [
    {
     "data": {
      "text/plain": [
       "True"
      ]
     },
     "execution_count": 252,
     "metadata": {},
     "output_type": "execute_result"
    }
   ],
   "source": [
    "pose_min.dump_pdb('./../recces_rosetta/results/ag/infile/prerun/ag.pdb')"
   ]
  },
  {
   "cell_type": "code",
   "execution_count": 248,
   "metadata": {},
   "outputs": [
    {
     "name": "stdout",
     "output_type": "stream",
     "text": [
      "81.1757667609 35.8538883447\n"
     ]
    }
   ],
   "source": [
    "print pose.torsion(TorsionID(2, BB, 4)), pose.torsion(TorsionID(1, CHI, 2))"
   ]
  },
  {
   "cell_type": "code",
   "execution_count": null,
   "metadata": {},
   "outputs": [],
   "source": [
    "scorefxn(pose)"
   ]
  },
  {
   "cell_type": "code",
   "execution_count": null,
   "metadata": {},
   "outputs": [],
   "source": [
    "print hist[1]"
   ]
  },
  {
   "cell_type": "code",
   "execution_count": null,
   "metadata": {},
   "outputs": [],
   "source": [
    "print pose.alpha(2), pose.beta(2), pose.gamma(2), pose.delta(1), pose.epsilon(1), pose.zeta(1)"
   ]
  },
  {
   "cell_type": "code",
   "execution_count": null,
   "metadata": {
    "scrolled": true
   },
   "outputs": [],
   "source": [
    "huh = pose_from_file('./../recces_rosetta/results/min.pdb')\n",
    "print huh.torsion(TorsionID(1, CHI, 2)), huh.torsion(TorsionID(1, CHI, 3))"
   ]
  },
  {
   "cell_type": "code",
   "execution_count": null,
   "metadata": {},
   "outputs": [],
   "source": [
    "print \n",
    "pmm.apply(huh)\n",
    "print huh.epsilon(1), huh.zeta(1), huh.alpha(2), huh.beta(2), huh.gamma(1), huh.delta(2), huh.chi(1), huh.chi(2)"
   ]
  },
  {
   "cell_type": "code",
   "execution_count": null,
   "metadata": {},
   "outputs": [],
   "source": [
    "print huh.alpha(2), huh.beta(2), huh.gamma(2), huh.epsilon(1), huh.zeta(1)"
   ]
  },
  {
   "cell_type": "code",
   "execution_count": null,
   "metadata": {},
   "outputs": [],
   "source": [
    "scorefxn(huh)"
   ]
  },
  {
   "cell_type": "code",
   "execution_count": null,
   "metadata": {},
   "outputs": [],
   "source": [
    "pose.set_ring_conformation('north')"
   ]
  },
  {
   "cell_type": "code",
   "execution_count": null,
   "metadata": {},
   "outputs": [],
   "source": [
    "print pose."
   ]
  },
  {
   "cell_type": "code",
   "execution_count": null,
   "metadata": {},
   "outputs": [],
   "source": [
    "pose = pose_from_file('./../../das-lab/recces_rosetta/results/ag/ST/ST_637000.pdb')"
   ]
  },
  {
   "cell_type": "code",
   "execution_count": null,
   "metadata": {},
   "outputs": [],
   "source": [
    "print pose.delta(1), pose.torsion(TorsionID(1, CHI, 2)), pose.torsion(TorsionID(1, CHI, 3))\n",
    "print pose.delta(2), pose.torsion(TorsionID(2, CHI, 2)), pose.torsion(TorsionID(2, CHI, 3))"
   ]
  },
  {
   "cell_type": "code",
   "execution_count": null,
   "metadata": {},
   "outputs": [],
   "source": [
    "# ag/ST/367000, 38000\n",
    "\n",
    "# C2'-endo\n",
    "print 145.521118169, -34.8252844774, 155.978251202\n",
    "\n",
    "# C3'-endo\n",
    "print 81.1950530464, 35.8703398534, 94.8555221911"
   ]
  },
  {
   "cell_type": "code",
   "execution_count": null,
   "metadata": {},
   "outputs": [],
   "source": [
    "pose = protocols.recces.pose_setup_turner('gg','')"
   ]
  },
  {
   "cell_type": "code",
   "execution_count": null,
   "metadata": {},
   "outputs": [],
   "source": [
    "pmm.apply(pose)\n",
    "pose.set_torsion(TorsionID(1, BB, 4), 145.5)\n",
    "pose.set_torsion(TorsionID(1, CHI, 2), -34.8)\n",
    "pose.set_torsion(TorsionID(1, CHI, 3), 155.98)"
   ]
  },
  {
   "cell_type": "code",
   "execution_count": null,
   "metadata": {},
   "outputs": [],
   "source": [
    "pmm.apply(pose)"
   ]
  },
  {
   "cell_type": "code",
   "execution_count": null,
   "metadata": {},
   "outputs": [],
   "source": [
    "pose.set_chi(1, -56.6)"
   ]
  },
  {
   "cell_type": "code",
   "execution_count": null,
   "metadata": {},
   "outputs": [],
   "source": [
    "pmm.apply(pose)"
   ]
  },
  {
   "cell_type": "code",
   "execution_count": null,
   "metadata": {},
   "outputs": [],
   "source": [
    "print -0.6163*(np.log(90260*2+108.954*2) + 7*np.log(2*np.pi/3) + 2*np.log(2))"
   ]
  },
  {
   "cell_type": "code",
   "execution_count": null,
   "metadata": {},
   "outputs": [],
   "source": [
    "pmm.apply(pose_min)"
   ]
  },
  {
   "cell_type": "code",
   "execution_count": null,
   "metadata": {},
   "outputs": [],
   "source": [
    "print scorefxn(pose_min)"
   ]
  },
  {
   "cell_type": "code",
   "execution_count": null,
   "metadata": {},
   "outputs": [],
   "source": [
    "print E_list"
   ]
  },
  {
   "cell_type": "code",
   "execution_count": null,
   "metadata": {},
   "outputs": [],
   "source": [
    "print min(E_list)\n"
   ]
  },
  {
   "cell_type": "code",
   "execution_count": null,
   "metadata": {},
   "outputs": [],
   "source": [
    "print E_min"
   ]
  },
  {
   "cell_type": "code",
   "execution_count": null,
   "metadata": {},
   "outputs": [],
   "source": [
    "print rna_hires(pose_min)"
   ]
  },
  {
   "cell_type": "code",
   "execution_count": null,
   "metadata": {},
   "outputs": [],
   "source": [
    "pmm.apply(pose_min)"
   ]
  },
  {
   "cell_type": "code",
   "execution_count": null,
   "metadata": {},
   "outputs": [],
   "source": [
    "print pose_min.epsilon(1), pose_min.zeta(1), pose_min.alpha(2), pose_min.beta(2), pose_min.gamma(2)\n",
    "print pose_min.delta(1), pose_min.delta(2)"
   ]
  },
  {
   "cell_type": "code",
   "execution_count": null,
   "metadata": {},
   "outputs": [],
   "source": [
    "pose_min.dump_pdb('./../gg_fuck.pdb')"
   ]
  },
  {
   "cell_type": "code",
   "execution_count": null,
   "metadata": {},
   "outputs": [],
   "source": [
    "pose = pose_from_file('./../gg.pdb')\n",
    "pmm.apply(pose)"
   ]
  },
  {
   "cell_type": "code",
   "execution_count": null,
   "metadata": {},
   "outputs": [],
   "source": [
    "options = scorefxn.energy_method_options()\n",
    "print options.hbond_options()\n",
    "options.etable_options().no_lk_polar_desolvation = False\n",
    "scorefxn.set_energy_method_options(options)\n",
    "scorefxn.show(pose)"
   ]
  },
  {
   "cell_type": "code",
   "execution_count": null,
   "metadata": {},
   "outputs": [],
   "source": [
    "pmm.apply(pose)\n"
   ]
  },
  {
   "cell_type": "code",
   "execution_count": null,
   "metadata": {},
   "outputs": [],
   "source": [
    " print 0.6163*(-np.log(2*90206 + 2*108.954) - 7*np.log(2*np.pi/3) - 2*np.log(2))"
   ]
  },
  {
   "cell_type": "code",
   "execution_count": null,
   "metadata": {},
   "outputs": [],
   "source": [
    "print movemap\n"
   ]
  },
  {
   "cell_type": "code",
   "execution_count": null,
   "metadata": {},
   "outputs": [],
   "source": [
    "scorefxn = core.scoring.ScoreFunctionFactory.create_score_function('stepwise/rna/turner')"
   ]
  },
  {
   "cell_type": "code",
   "execution_count": null,
   "metadata": {},
   "outputs": [],
   "source": [
    "print scorefxn"
   ]
  },
  {
   "cell_type": "code",
   "execution_count": null,
   "metadata": {},
   "outputs": [],
   "source": [
    "scorefxn.show(pose_min)"
   ]
  },
  {
   "cell_type": "code",
   "execution_count": null,
   "metadata": {},
   "outputs": [],
   "source": [
    "print pose"
   ]
  },
  {
   "cell_type": "code",
   "execution_count": null,
   "metadata": {},
   "outputs": [],
   "source": [
    "print pose.chi(1)"
   ]
  },
  {
   "cell_type": "code",
   "execution_count": null,
   "metadata": {},
   "outputs": [],
   "source": [
    "N9 = AtomID(1, 19)\n",
    "C1 = AtomID(1, 8)"
   ]
  },
  {
   "cell_type": "code",
   "execution_count": null,
   "metadata": {},
   "outputs": [],
   "source": [
    "pose.conformation().bond_length(C1, N9)"
   ]
  },
  {
   "cell_type": "code",
   "execution_count": null,
   "metadata": {},
   "outputs": [],
   "source": [
    "print pose"
   ]
  },
  {
   "cell_type": "code",
   "execution_count": null,
   "metadata": {},
   "outputs": [],
   "source": [
    "pyrosetta.rosetta.protocols.constraint_generator"
   ]
  },
  {
   "cell_type": "code",
   "execution_count": null,
   "metadata": {},
   "outputs": [],
   "source": [
    "import pyrosetta.rosetta.protocols.moves.ConstraintSetMover()"
   ]
  },
  {
   "cell_type": "code",
   "execution_count": null,
   "metadata": {},
   "outputs": [],
   "source": [
    "fuck = ConstraintSetMover()"
   ]
  },
  {
   "cell_type": "code",
   "execution_count": null,
   "metadata": {},
   "outputs": [],
   "source": [
    "fuck.set_id(TorsionID(1, CHI, 1))"
   ]
  },
  {
   "cell_type": "code",
   "execution_count": null,
   "metadata": {},
   "outputs": [],
   "source": [
    "print pose.residue(1)"
   ]
  },
  {
   "cell_type": "code",
   "execution_count": null,
   "metadata": {},
   "outputs": [],
   "source": [
    "import pyrosetta.rosetta.protocols.simple_moves"
   ]
  },
  {
   "cell_type": "code",
   "execution_count": null,
   "metadata": {},
   "outputs": [],
   "source": [
    "set_constraint = pyrosetta.rosetta.protocols.simple_moves.ConstraintSetMover()"
   ]
  },
  {
   "cell_type": "code",
   "execution_count": null,
   "metadata": {},
   "outputs": [],
   "source": [
    "set_constraint.constraint_file('./cst_file.cst')\n",
    "dihedral_constraint_function = core.scoring.func.CircularHarmonicFunc(pose.chi(2), 0.35)\n",
    "shit = core.scoring.constraints.DihedralConstraint(core.id.AtomID(1,1), core.id.AtomID(1,2), core.id.AtomID(1,3), core.id.AtomID(1,4), dihedral_constraint_function)"
   ]
  },
  {
   "cell_type": "code",
   "execution_count": null,
   "metadata": {},
   "outputs": [],
   "source": [
    "pose = protocols.recces.pose_setup_turner('gg','')\n",
    "pose.dump_pdb('shit.pdb')\n",
    "print core.id.AtomID(23,1)\n",
    "print pose.residue(2).atom(17)"
   ]
  },
  {
   "cell_type": "code",
   "execution_count": null,
   "metadata": {},
   "outputs": [],
   "source": [
    "atom = pose.residue(2).atom_index('C3\\'')\n",
    "print atom"
   ]
  },
  {
   "cell_type": "code",
   "execution_count": null,
   "metadata": {},
   "outputs": [],
   "source": [
    "atom1 = core.id.AtomID(2, 5)"
   ]
  },
  {
   "cell_type": "code",
   "execution_count": null,
   "metadata": {},
   "outputs": [],
   "source": [
    "print pose.conformation().dof_id_from_torsion_id(TorsionID(2, CHI, 1))"
   ]
  },
  {
   "cell_type": "code",
   "execution_count": null,
   "metadata": {},
   "outputs": [],
   "source": [
    "north_anti_min = Pose()\n",
    "north_anti_min.assign(pose_min)"
   ]
  },
  {
   "cell_type": "code",
   "execution_count": null,
   "metadata": {},
   "outputs": [],
   "source": [
    "north_syn_min = Pose()\n",
    "north_syn_min.assign(pose_min)"
   ]
  },
  {
   "cell_type": "code",
   "execution_count": null,
   "metadata": {},
   "outputs": [],
   "source": [
    "south_syn_min = Pose()\n",
    "south_syn_min.assign(pose_min)"
   ]
  },
  {
   "cell_type": "code",
   "execution_count": null,
   "metadata": {},
   "outputs": [],
   "source": [
    "south_anti_min = Pose()\n",
    "south_anti_min.assign(pose_min)"
   ]
  },
  {
   "cell_type": "code",
   "execution_count": null,
   "metadata": {},
   "outputs": [],
   "source": [
    "pose.set_epsilon(1, -145.65)\n",
    "pose.set_zeta(1, -62.90)\n",
    "pose.set_alpha(2, -55.65)\n",
    "pose.set_beta(2, 168.81)\n",
    "pose.set_gamma(2, 65.70)\n",
    "pose.set_chi(1, 67.90)\n",
    "pose.set_chi(2, 113.39)\n",
    "\n",
    "pmm.apply(pose)"
   ]
  },
  {
   "cell_type": "code",
   "execution_count": null,
   "metadata": {},
   "outputs": [],
   "source": [
    "pmm.apply(pose_min)"
   ]
  },
  {
   "cell_type": "code",
   "execution_count": null,
   "metadata": {},
   "outputs": [],
   "source": [
    "pose = protocols.recces.pose_setup_turner('ga','')"
   ]
  },
  {
   "cell_type": "code",
   "execution_count": null,
   "metadata": {},
   "outputs": [],
   "source": [
    "ST_min = pose_from_file('./../gg_fuck.pdb')\n",
    "print scorefxn(pose_min)\n",
    "print scorefxn(ST_min)"
   ]
  },
  {
   "cell_type": "code",
   "execution_count": null,
   "metadata": {},
   "outputs": [],
   "source": [
    "#print ST_min.torsion(TorsionID(2, CHI, 1))\n",
    "#print ST_min.torsion(TorsionID(2, CHI, 2))\n",
    "#print ST_min.torsion(TorsionID(2, CHI, 3))\n",
    "print ST_min.epsilon(1)\n",
    "print ST_min.zeta(1)\n",
    "print ST_min.alpha(2)\n",
    "print ST_min.beta(2)\n",
    "print ST_min.gamma(2)\n",
    "print ST_min.chi(1)\n",
    "print ST_min.chi(2)\n",
    "minmover.apply(ST_min)\n",
    "scorefxn(ST_min)"
   ]
  },
  {
   "cell_type": "code",
   "execution_count": null,
   "metadata": {},
   "outputs": [],
   "source": [
    "pose.set_epsilon(1, -150.4)\n",
    "pose.set_zeta(1, 56.5)\n",
    "pose.set_alpha(2, 156.6)\n",
    "pose.set_beta(2, 177.3)\n",
    "pose.set_gamma(2, 53.5)\n",
    "pose.set_chi(1, 72.4)\n",
    "pose.set_chi(2, 119.0)"
   ]
  },
  {
   "cell_type": "code",
   "execution_count": null,
   "metadata": {},
   "outputs": [],
   "source": [
    "scorefxn(ST_min)"
   ]
  },
  {
   "cell_type": "code",
   "execution_count": null,
   "metadata": {},
   "outputs": [],
   "source": [
    "minmover.apply(ST_min)\n",
    "scorefxn(ST_min)"
   ]
  },
  {
   "cell_type": "code",
   "execution_count": null,
   "metadata": {},
   "outputs": [],
   "source": [
    "print pose.epsilon(1)\n",
    "print pose.zeta(1)\n",
    "print pose.alpha(2)\n",
    "print pose.beta(2)\n",
    "print pose.gamma(2)\n",
    "print pose.chi(1)\n",
    "print pose.chi(2)"
   ]
  },
  {
   "cell_type": "code",
   "execution_count": 264,
   "metadata": {},
   "outputs": [
    {
     "data": {
      "text/plain": [
       "True"
      ]
     },
     "execution_count": 264,
     "metadata": {},
     "output_type": "execute_result"
    }
   ],
   "source": [
    "pose_min.dump_pdb('./../../das-lab/recces_rosetta/results/ag/infile_80/prerun/ag.pdb')"
   ]
  },
  {
   "cell_type": "code",
   "execution_count": 262,
   "metadata": {},
   "outputs": [
    {
     "name": "stdout",
     "output_type": "stream",
     "text": [
      "-10.668623056\n"
     ]
    }
   ],
   "source": [
    "print scorefxn(pose_min)"
   ]
  },
  {
   "cell_type": "markdown",
   "metadata": {},
   "source": [
    "12/17\n",
    "\n",
    "Below is code to run MM on trinucleotides. This is prohibitive to run on a local machine--must figure out how to run on cluster etc. "
   ]
  },
  {
   "cell_type": "code",
   "execution_count": null,
   "metadata": {},
   "outputs": [],
   "source": [
    "seq = 'ggg'\n",
    "\n",
    "# Pucker and orientation of terminal base\n",
    "pucker = 'north'\n",
    "orientation = 'anti'\n",
    "\n",
    "n = len(seq)\n",
    "Z_harm_list = np.array([])\n",
    "mu_list = np.array([])\n",
    "pmm = PyMOLMover()\n",
    "pmm.keep_history(True)\n",
    "dof_lists = []\n",
    "E_list = np.array([])\n",
    "E_min = 0\n",
    "pose_min = Pose()\n",
    "dofs_min = []"
   ]
  },
  {
   "cell_type": "code",
   "execution_count": null,
   "metadata": {
    "scrolled": true
   },
   "outputs": [],
   "source": [
    "# Code for any trinucleotide \n",
    "for delta in [81.195, 145.521]:\n",
    "    \n",
    "    for alpha in [-64.3, 66.7, 156.6]:\n",
    "        \n",
    "        pose, movemap, dof_dict = initialiize_pose(seq)\n",
    "        \n",
    "        pose.set_torsion(TorsionID(1, BB, 4), delta)\n",
    "    \n",
    "        if delta == 81.195:\n",
    "\n",
    "            if seq[0] in 'ga': possible_chi = [-110.9, -51.9, 72.4]\n",
    "            else: possible_chi = [-105.7, -47.2, 77.3]\n",
    "                    \n",
    "            possible_eps = [-150.4, 16.8, 76.2]\n",
    "\n",
    "        #C2'-endo\n",
    "        else:\n",
    "\n",
    "            if seq[0] in 'ga': possible_chi = [-56.6, 119.0]\n",
    "            else: possible_chi =[-65, 108]\n",
    "                \n",
    "            possible_eps = [-97.4, 0, 75.2]\n",
    "            \n",
    "            pose.set_torsion(TorsionID(1, CHI, 2), -34.825)\n",
    "            pose.set_torsion(TorsionID(1, CHI, 3), 155.987)\n",
    "                \n",
    "        #if pucker == 'north':\n",
    "        \n",
    "            #pose.set_torsion(TorsionID(2, BB, 4), 81.195)\n",
    "            #pose.set_torsion(TorsionID(2, CHI, 2), 35.870)\n",
    "            #pose.set_torsion(TorsionID(2, CHI, 3), 94.856)\n",
    "\n",
    "        if alpha == -64.3: possible_zeta = [-71.8, 167.55]\n",
    "        elif alpha == 66.7: possible_zeta = [-131.6, 79.0]\n",
    "        else: possible_zeta = [-69.5, 56.5]\n",
    "        \n",
    "               \n",
    "        for delta_2 in [81.195, 145.521]:\n",
    "        \n",
    "            for alpha_2 in [-64.3, 66.7, 156.6]:\n",
    "                \n",
    "                pose.set_torsion(TorsionID(2, BB, 4), delta_2)\n",
    "                \n",
    "                if delta_2 == 81.195:\n",
    "\n",
    "                    if seq[1] in 'ga': possible_chi_2 = [-110.9, -51.9, 72.4]\n",
    "                    else: possible_chi_2 = [-105.7, -47.2, 77.3]\n",
    "                    \n",
    "                    possible_eps_2 = [-150.4, 16.8, 76.2]\n",
    "                    \n",
    "                else:\n",
    "\n",
    "                    if seq[1] in 'ga': possible_chi_2 = [-56.6, 119.0]\n",
    "                    else: possible_chi_2 =[-65, 108]\n",
    "                \n",
    "                    possible_eps_2= [-97.4, 0, 75.2]\n",
    "            \n",
    "                    pose.set_torsion(TorsionID(2, CHI, 2), -34.825)\n",
    "                    pose.set_torsion(TorsionID(2, CHI, 3), 155.987)\n",
    "\n",
    "                if alpha_2 == -64.3: possible_zeta_2 = [-71.8, 167.55]\n",
    "                elif alpha_2 == 66.7: possible_zeta_2 = [-131.6, 79.0]\n",
    "                else: possible_zeta_2 = [-69.5, 56.5]\n",
    "        \n",
    "\n",
    "                if pucker == 'south':\n",
    "        \n",
    "                    # These will set the terminal base pair to C2'-endo (south)\n",
    "                    pose.set_torsion(TorsionID(3, BB, 4), 145.521)\n",
    "                    pose.set_torsion(TorsionID(3, CHI, 2), -34.79)\n",
    "                    pose.set_torsion(TorsionID(3, CHI, 3), 156.00)\n",
    "                \n",
    "                \n",
    "                possible_chi_3 = chi_minima(seq[-1], pucker, orientation)\n",
    "                \n",
    "                torsion_lists = itertools.product(possible_eps, possible_zeta, [alpha], [177.3], [175.8, 53.5, -62.9],\n",
    "                                                  possible_eps_2, possible_zeta_2, [alpha_2], [177.3], [175.8, 53.5, -62.9],\n",
    "                                                  possible_chi, possible_chi_2, possible_chi_3)\n",
    "\n",
    "                \n",
    "                for torsion_list in list(torsion_lists):\n",
    "\n",
    "                    pose.set_torsion(TorsionID(1, BB, 5), torsion_list[0])\n",
    "                    pose.set_torsion(TorsionID(1, BB, 6), torsion_list[1])\n",
    "                    pose.set_torsion(TorsionID(2, BB, 1), torsion_list[2])\n",
    "                    pose.set_torsion(TorsionID(2, BB, 2), torsion_list[3])\n",
    "                    pose.set_torsion(TorsionID(2, BB, 3), torsion_list[4])\n",
    "                    pose.set_torsion(TorsionID(2, BB, 5), torsion_list[5])\n",
    "                    pose.set_torsion(TorsionID(2, BB, 6), torsion_list[6])\n",
    "                    pose.set_torsion(TorsionID(3, BB, 1), torsion_list[7])\n",
    "                    pose.set_torsion(TorsionID(3, BB, 2), torsion_list[8])\n",
    "                    pose.set_torsion(TorsionID(3, BB, 3), torsion_list[9])\n",
    "                    \n",
    "                    pose.set_torsion(TorsionID(1, CHI, 1), torsion_list[10])\n",
    "                    pose.set_torsion(TorsionID(2, CHI, 1), torsion_list[11])\n",
    "                    pose.set_torsion(TorsionID(3, CHI, 1), torsion_list[12])\n",
    "\n",
    "                    pmm.apply(pose)\n",
    "\n",
    "                    pose = add_constraints(pose)\n",
    "\n",
    "                    #pose = MC_minimization(pose, scorefxn, dof_dict, torsion_list)\n",
    "\n",
    "                    minmover = rosetta.protocols.minimization_packing.MinMover(\n",
    "                        movemap, scorefxn, 'dfpmin_armijo_nonmonotone', 1.0e-7, True)\n",
    "                    minmover.max_iter(1000000)\n",
    "                    minmover.min_options().use_nblist(True)\n",
    "                    minmover.min_options().nblist_auto_update(True)\n",
    "                    minmover.apply(pose)\n",
    "\n",
    "                    pmm.apply(pose)\n",
    "                    E_min = scorefxn(pose)\n",
    "\n",
    "                    minimum = Pose()\n",
    "                    minimum.assign(pose)\n",
    "\n",
    "                    dofs = []\n",
    "\n",
    "                    for val in dof_dict.itervalues(): dofs.append(pose.torsion(val))\n",
    "                    dofs = np.array(dofs)\n",
    "\n",
    "\n",
    "                    #if is_repeat_minimum(dofs, dof_lists): continue\n",
    "\n",
    "                    dof_lists.append(dofs)\n",
    "\n",
    "                    hessian = calculate_hessian(pose, scorefxn, dof_dict)\n",
    "                    w,v = scipy.linalg.eigh(hessian)\n",
    "\n",
    "                    if not np.all(w > 0.):\n",
    "                        continue\n",
    "\n",
    "                    E_list = np.append(E_list, E_min)\n",
    "\n",
    "                    Z = 1.0\n",
    "                    Z_harm = np.sqrt((2*np.pi)**len(w)/scipy.linalg.det(hessian)) \n",
    "\n",
    "                    for kk, K in enumerate(w):\n",
    "\n",
    "                        fuck = mode_scan(pose, dofs, dof_dict, scorefxn, v[:, kk])\n",
    "\n",
    "                        if fuck == 1.0: break\n",
    "\n",
    "                        Z *= fuck\n",
    "\n",
    "                    if kk < 6:\n",
    "\n",
    "                        dof_lists.pop()\n",
    "                        E_lists = np.delete(E_list, -1)\n",
    "                        E_min = 0\n",
    "\n",
    "                        continue\n",
    "\n",
    "                    if np.all(E_list >= E_min):\n",
    "\n",
    "                        pose_min.assign(minimum)\n",
    "                        dofs_min = dofs\n",
    "\n",
    "                    #Z_list = np.append(Z_list, np.exp(-scorefxn(minimum)/0.6163)*Z )\n",
    "                    Z_harm_list = np.append(Z_harm_list, np.exp(-scorefxn(minimum))*Z_harm)\n",
    "                    mu_list = np.append(mu_list, scorefxn(minimum) - np.log(Z))\n",
    "                    print scorefxn(minimum) - np.log(Z), Z, scorefxn(minimum)\n",
    "                    #print -0.6163*np.log(np.sum(np.exp(-mu_list/0.6163))), scorefxn(minimum), np.exp(-(scorefxn(minimum) - np.log(Z))/0.6163)\n",
    "\n",
    "        '''\n",
    "        # South, anti\n",
    "        pose.set_torsion(TorsionID(1, BB, 4), 145.4)\n",
    "        pose.set_torsion(TorsionID(1, BB, 5), -97.4)\n",
    "        pose.set_torsion(TorsionID(1, CHI, 1), -56.6)\n",
    "        pose.set_torsion(TorsionID(1, CHI, 2), -37.2)\n",
    "        pose.set_torsion(TorsionID(1, CHI, 3), 155.5)\n",
    "        pose.set_torsion(TorsionID(2, BB, 1), 66.7)\n",
    "        pose.set_torsion(TorsionID(2, BB, 3), -62.9)\n",
    "        pose.set_torsion(TorsionID(2, BB, 4), 145.4)\n",
    "        pose.set_torsion(TorsionID(2, CHI, 1), -56.6)\n",
    "        pose.set_torsion(TorsionID(2, CHI, 2), -37.2)\n",
    "        pose.set_torsion(TorsionID(2, CHI, 3), 155.5)\n",
    "        '''"
   ]
  },
  {
   "cell_type": "code",
   "execution_count": null,
   "metadata": {},
   "outputs": [],
   "source": [
    "fuck = pose_from_file('./../recces_rosetta/results/gg/infile/prerun/min.pdb')\n",
    "print scorefxn(fuck)\n",
    "\n",
    "shit = pose_from_file('./../recces_rosetta/results/gg/infile/ST/min.pdb')\n",
    "print scorefxn(shit)\n",
    "\n",
    "\n",
    "print scorefxn(pose_min)"
   ]
  },
  {
   "cell_type": "code",
   "execution_count": null,
   "metadata": {},
   "outputs": [],
   "source": [
    "pose_min.set_secstruct(1,'L')\n",
    "pose_min.set_secstruct(2,'L')\n",
    "scorefxn.show(pose_min)\n",
    "scorefxn.show(fuck)\n"
   ]
  },
  {
   "cell_type": "code",
   "execution_count": 205,
   "metadata": {},
   "outputs": [
    {
     "data": {
      "text/plain": [
       "True"
      ]
     },
     "execution_count": 205,
     "metadata": {},
     "output_type": "execute_result"
    }
   ],
   "source": [
    "pose_min.dump_pdb('./../recces_rosetta/results/aa/infile/prerun/aa.pdb')"
   ]
  },
  {
   "cell_type": "code",
   "execution_count": null,
   "metadata": {},
   "outputs": [],
   "source": [
    "print shit.annotated_sequence()"
   ]
  },
  {
   "cell_type": "code",
   "execution_count": null,
   "metadata": {},
   "outputs": [],
   "source": [
    "pose = protocols.recces.pose_setup_turner('gg','')\n"
   ]
  },
  {
   "cell_type": "code",
   "execution_count": null,
   "metadata": {},
   "outputs": [],
   "source": [
    "print pose.fold_tree()\n",
    "pose.set_secstruct(1,'L')\n",
    "pose.set_secstruct(2,'L')\n",
    "print pose.secstruct()\n",
    "pose2 = pose_from_file('./../recces_rosetta/results/gg/infile/ST/min.pdb')"
   ]
  },
  {
   "cell_type": "code",
   "execution_count": null,
   "metadata": {},
   "outputs": [],
   "source": [
    "print pose2.fold_tree().is_cutpoint(1)"
   ]
  },
  {
   "cell_type": "code",
   "execution_count": null,
   "metadata": {},
   "outputs": [],
   "source": [
    "ft = pose.fold_tree()\n",
    "ft.clear()\n",
    "print ft\n",
    "ft.add_edge(1, 2, 1)\n",
    "print ft"
   ]
  },
  {
   "cell_type": "code",
   "execution_count": null,
   "metadata": {},
   "outputs": [],
   "source": [
    "pose2.fold_tree(ft)\n",
    "scorefxn(pose)\n",
    "scorefxn.show(pose2)"
   ]
  },
  {
   "cell_type": "code",
   "execution_count": 160,
   "metadata": {},
   "outputs": [],
   "source": [
    "pmm.apply(pose_min)"
   ]
  },
  {
   "cell_type": "code",
   "execution_count": null,
   "metadata": {},
   "outputs": [],
   "source": [
    "print pose.annotated_sequence()"
   ]
  },
  {
   "cell_type": "code",
   "execution_count": null,
   "metadata": {},
   "outputs": [],
   "source": [
    "pose.dump_pdb('./../recces_rosetta/results/gg/infile/prerun/gg.pdb')"
   ]
  },
  {
   "cell_type": "code",
   "execution_count": null,
   "metadata": {},
   "outputs": [],
   "source": [
    "print scorefxn(pose)"
   ]
  },
  {
   "cell_type": "code",
   "execution_count": 198,
   "metadata": {},
   "outputs": [
    {
     "name": "stdout",
     "output_type": "stream",
     "text": [
      "\u001b[0mcore.import_pose.import_pose: \u001b[0mFile './../recces_rosetta/results/ag/infile/prerun/min.pdb' automatically determined to be of type PDB\n"
     ]
    }
   ],
   "source": [
    "pose = pose_from_file('./../recces_rosetta/results/ag/infile/prerun/min.pdb')"
   ]
  },
  {
   "cell_type": "code",
   "execution_count": 199,
   "metadata": {},
   "outputs": [],
   "source": [
    "pmm.apply(pose)\n",
    "pmm.apply(pose_min)"
   ]
  },
  {
   "cell_type": "code",
   "execution_count": null,
   "metadata": {},
   "outputs": [],
   "source": []
  }
 ],
 "metadata": {
  "kernelspec": {
   "display_name": "Python 2",
   "language": "python",
   "name": "python2"
  },
  "language_info": {
   "codemirror_mode": {
    "name": "ipython",
    "version": 2
   },
   "file_extension": ".py",
   "mimetype": "text/x-python",
   "name": "python",
   "nbconvert_exporter": "python",
   "pygments_lexer": "ipython2",
   "version": "2.7.12"
  }
 },
 "nbformat": 4,
 "nbformat_minor": 2
}
