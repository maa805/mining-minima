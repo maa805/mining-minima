{
 "cells": [
  {
   "cell_type": "code",
   "execution_count": 33,
   "metadata": {
    "scrolled": true
   },
   "outputs": [
    {
     "name": "stdout",
     "output_type": "stream",
     "text": [
      "Found rosetta database at: /usr/local/lib/python2.7/dist-packages/pyrosetta-2018.11+release.7c7790f-py2.7-linux-x86_64.egg/pyrosetta/database; using it....\n",
      "PyRosetta-4 2017 [Rosetta PyRosetta4.Release.python27.ubuntu 2018.11+release.7c7790f7c7790fbb898f8210b54513b9f9c8a927c3e8d7f 2018-03-14T13:19:04] retrieved from: http://www.pyrosetta.org\n",
      "(C) Copyright Rosetta Commons Member Institutions.\n",
      "Created in JHU by Sergey Lyskov and PyRosetta Team.\n",
      "\n",
      "\n",
      "\n",
      "\n",
      "\n",
      "\n",
      "\n"
     ]
    }
   ],
   "source": [
    "from pyrosetta import *\n",
    "from pyrosetta.rosetta import *\n",
    "from pyrosetta.rosetta.protocols.simple_moves import *\n",
    "init()\n",
    "import math\n",
    "import random\n",
    "import numpy as np\n",
    "from pyrosetta.rosetta.core.id import *"
   ]
  },
  {
   "cell_type": "code",
   "execution_count": 2,
   "metadata": {},
   "outputs": [],
   "source": [
    "def find_minimum(pose, sf):\n",
    "    \n",
    "    minimum = Pose()\n",
    "    total_residue = pose.total_residue()\n",
    "\n",
    "    # Random starting config\n",
    "    for i in range(1, total_residue+1):\n",
    "        \n",
    "        pose.set_phi(i, random.uniform(-180.0,180.0))\n",
    "        pose.set_psi(i, random.uniform(-180.0,180.0))\n",
    "    \n",
    "    move_map = MoveMap()\n",
    "    move_map.set_bb(True)\n",
    "   \n",
    "    # Find local minimum\n",
    "    min_mover = pyrosetta.rosetta.protocols.minimization_packing.MinMover()\n",
    "    min_mover.score_function(sf)\n",
    "    min_mover.movemap(move_map)\n",
    "    min_mover.min_type('dfpmin_armijo_nonmonotone')\n",
    "    min_mover.apply(pose)\n",
    "    \n",
    "    pose.set_phi(1, pose.phi(1)-360.0*round(pose.phi(1)/360.0))\n",
    "    pose.set_psi(1, pose.psi(1)-360.0*round(pose.psi(1)/360.0))\n",
    "\n",
    "    minimum.assign(pose)\n",
    "    print minimum.phi(1), minimum.psi(1)\n",
    "    return minimum"
   ]
  },
  {
   "cell_type": "code",
   "execution_count": 3,
   "metadata": {},
   "outputs": [],
   "source": [
    "def mine_minimum(pose, sf, phi_min, psi_min, E_cutoff):\n",
    "\n",
    "    def testMin(E_curr, E_min):\n",
    "        if E_curr < E_min-0.05:\n",
    "            return True\n",
    "        else:\n",
    "            return False\n",
    "    \n",
    "    phi_list = []\n",
    "    psi_list = []\n",
    "    total_residue = pose.total_residue()\n",
    "    tor_range = 0.5\n",
    "    E_min = sf(pose)\n",
    "    E_ceil = E_min + E_cutoff\n",
    "    E_curr = E_ceil\n",
    "    E_old = E_min\n",
    "    phi_new = phi_min\n",
    "    psi_new = psi_min\n",
    "    \n",
    "    for i in range(1, total_residue+1):\n",
    "        \n",
    "        new = Pose()\n",
    "        new.assign(pose)\n",
    "        \n",
    "        while E_curr <= E_ceil and phi_new > -180:\n",
    "            \n",
    "            new.set_phi(i, new.phi(i)-tor_range)\n",
    "            E_curr = sf(new)\n",
    "            if testMin(E_curr, E_old):\n",
    "                break\n",
    "                \n",
    "            E_old = E_curr\n",
    "            phi_new = new.phi(1)\n",
    "        \n",
    "        \n",
    "        phi_list.append(phi_new)\n",
    "        new.assign(pose)\n",
    "        phi_new = phi_min\n",
    "        E_curr = E_ceil\n",
    "        E_old = E_min\n",
    "        \n",
    "        while E_curr <= E_ceil and phi_new < 180:\n",
    "            \n",
    "            new.set_phi(i, new.phi(i)+tor_range)\n",
    "            E_curr = sf(new)\n",
    "            if testMin(E_curr, E_old):\n",
    "                break\n",
    "            E_old = E_curr\n",
    "            phi_new = new.phi(1)\n",
    "        \n",
    "        phi_list.append(phi_new)\n",
    "        new.assign(pose)\n",
    "        phi_new = phi_min\n",
    "        E_curr = E_ceil\n",
    "        E_old = E_min\n",
    "        \n",
    "        while E_curr <= E_ceil and psi_new > -180:\n",
    "            \n",
    "            new.set_psi(i, new.psi(i) - tor_range)\n",
    "            E_curr = sf(new)\n",
    "            if testMin(E_curr, E_old):\n",
    "                break\n",
    "            E_old = E_curr\n",
    "            psi_new = new.psi(1)\n",
    "\n",
    "        psi_list.append(psi_new)\n",
    "        new.assign(pose)\n",
    "        psi_new = psi_min\n",
    "        E_curr = E_ceil\n",
    "        E_old = E_min\n",
    "        \n",
    "        while E_curr <= E_ceil and psi_new < 180:\n",
    "            \n",
    "            new.set_psi(i, new.psi(i) + tor_range)\n",
    "            E_curr = sf(new)\n",
    "            if testMin(E_curr, E_old):\n",
    "                break\n",
    "            E_old = E_curr\n",
    "            psi_new = new.psi(1)\n",
    "              \n",
    "        psi_list.append(psi_new)\n",
    "        new.assign(pose)\n",
    "        psi_new = psi_min\n",
    "        E_curr = E_ceil\n",
    "        E_old = E_min\n",
    "\n",
    "    return phi_list, psi_list"
   ]
  },
  {
   "cell_type": "code",
   "execution_count": 4,
   "metadata": {},
   "outputs": [],
   "source": [
    "def mc_integration(pose, sf, kT, phi_list, psi_list, N = 10000):\n",
    "    \n",
    "    total_residue = pose.total_residue()\n",
    "    pose_rand = Pose()\n",
    "    pose_rand.assign(pose)\n",
    "    \n",
    "    V = 1.0\n",
    "\n",
    "    boltzmann = 0\n",
    "    \n",
    "    # Calculate configuration space volume\n",
    "    for j in range(1, total_residue+1):\n",
    "        \n",
    "        phi_min = phi_list[2*j - 2]\n",
    "        phi_max = phi_list[2*j - 1]\n",
    "        psi_min = psi_list[2*j - 2]\n",
    "        psi_max = psi_list[2*j - 1] \n",
    "        \n",
    "        \n",
    "        V *= ((phi_max-phi_min)*math.pi/180.0)*((psi_max-psi_min)*math.pi/180.0)\n",
    "       \n",
    "    # Integrate over all backbone torsions\n",
    "    for i in range(0,N):\n",
    "        \n",
    "        for j in range(1, total_residue+1):\n",
    "            \n",
    "            phi_min = phi_list[2*j - 2]\n",
    "            phi_max = phi_list[2*j - 1]\n",
    "            psi_min = psi_list[2*j - 2]\n",
    "            psi_max = psi_list[2*j - 1]            \n",
    "            pose_rand.set_phi(j, random.uniform(phi_min, phi_max))\n",
    "            pose_rand.set_psi(j, random.uniform(psi_min, psi_max))\n",
    "\n",
    "            boltzmann += math.exp(-sf(pose_rand)/kT)\n",
    "            \n",
    "    boltzmann = boltzmann/N\n",
    "    return -kT*math.log(boltzmann*V), V"
   ]
  },
  {
   "cell_type": "code",
   "execution_count": 5,
   "metadata": {},
   "outputs": [],
   "source": [
    "def check_overlap(trial_phis, trial_psis, phi_list, psi_list):\n",
    "    \n",
    "    trial_phi_min = trial_phis[0]\n",
    "    trial_phi_max = trial_phis[1]\n",
    "    trial_psi_min = trial_psis[0]\n",
    "    trial_psi_max = trial_psis[1]\n",
    "        \n",
    "    phi_min = phi_list[0]\n",
    "    phi_max = phi_list[1]\n",
    "    psi_min = psi_list[0]\n",
    "    psi_max = psi_list[1]\n",
    "    \n",
    "    if trial_phi_min > phi_max or phi_min > trial_phi_max:\n",
    "        return False\n",
    "        \n",
    "    if trial_psi_max < psi_min or psi_max < trial_psi_min:\n",
    "        return False\n",
    " \n",
    "    return True\n",
    "    "
   ]
  },
  {
   "cell_type": "code",
   "execution_count": 6,
   "metadata": {},
   "outputs": [],
   "source": [
    "def check_minimum(pose, phi_lists, psi_lists):\n",
    "    \n",
    "    phi_min = pose.phi(1)\n",
    "    psi_min = pose.psi(1)\n",
    "    \n",
    "    for i in range(0, len(phi_lists)):\n",
    "        \n",
    "        phi_list = phi_lists[i]\n",
    "        psi_list = psi_lists[i]\n",
    "        \n",
    "        if phi_min > phi_list[0] and phi_min < phi_list[1] and psi_min > psi_list[0] and psi_min < psi_list[1]:\n",
    "            \n",
    "            return True\n",
    "        \n",
    "    return False\n",
    "    "
   ]
  },
  {
   "cell_type": "code",
   "execution_count": 22,
   "metadata": {},
   "outputs": [],
   "source": [
    "\n",
    "pose = pose_from_sequence('a[ALA:C_methylamidated]') \n",
    "pmm = PyMOLMover()\n",
    "pmm.apply(pose)"
   ]
  },
  {
   "cell_type": "code",
   "execution_count": 23,
   "metadata": {
    "scrolled": true
   },
   "outputs": [
    {
     "name": "stdout",
     "output_type": "stream",
     "text": [
      "\u001b[0mcore.scoring.ScoreFunctionFactory: \u001b[0mSCOREFUNCTION: \u001b[32mref2015\u001b[0m\n",
      "\u001b[0mcore.scoring.etable: \u001b[0mStarting energy table calculation\n",
      "\u001b[0mcore.scoring.etable: \u001b[0msmooth_etable: changing atr/rep split to bottom of energy well\n",
      "\u001b[0mcore.scoring.etable: \u001b[0msmooth_etable: spline smoothing lj etables (maxdis = 6)\n",
      "\u001b[0mcore.scoring.etable: \u001b[0msmooth_etable: spline smoothing solvation etables (max_dis = 6)\n",
      "\u001b[0mcore.scoring.etable: \u001b[0mFinished calculating energy tables.\n",
      "\n",
      "\n",
      "\n",
      "\n",
      "\n",
      "\n",
      "\n",
      "\n",
      "\n",
      "\n",
      "\n",
      "\n",
      "\n",
      "\n",
      "\n",
      "\n",
      "\n",
      "\n",
      "\n",
      "\n",
      "\n",
      "\n",
      "\n",
      "\n",
      "\n",
      "\n",
      "\n",
      "\n",
      "\n",
      "\n",
      "\n",
      "\n"
     ]
    },
    {
     "ename": "KeyboardInterrupt",
     "evalue": "",
     "output_type": "error",
     "traceback": [
      "\u001b[0;31m---------------------------------------------------------------------------\u001b[0m",
      "\u001b[0;31mKeyboardInterrupt\u001b[0m                         Traceback (most recent call last)",
      "\u001b[0;32m<ipython-input-23-b00f88830901>\u001b[0m in \u001b[0;36m<module>\u001b[0;34m()\u001b[0m\n\u001b[1;32m     30\u001b[0m \u001b[0;34m\u001b[0m\u001b[0m\n\u001b[1;32m     31\u001b[0m         \u001b[0;31m# Find a local minimum\u001b[0m\u001b[0;34m\u001b[0m\u001b[0;34m\u001b[0m\u001b[0m\n\u001b[0;32m---> 32\u001b[0;31m         \u001b[0mminimum\u001b[0m\u001b[0;34m.\u001b[0m\u001b[0massign\u001b[0m\u001b[0;34m(\u001b[0m\u001b[0mfind_minimum\u001b[0m\u001b[0;34m(\u001b[0m\u001b[0mpose_original\u001b[0m\u001b[0;34m,\u001b[0m \u001b[0mscorefxn\u001b[0m\u001b[0;34m)\u001b[0m\u001b[0;34m)\u001b[0m\u001b[0;34m\u001b[0m\u001b[0m\n\u001b[0m\u001b[1;32m     33\u001b[0m         \u001b[0mminima\u001b[0m\u001b[0;34m.\u001b[0m\u001b[0mappend\u001b[0m\u001b[0;34m(\u001b[0m\u001b[0mminimum\u001b[0m\u001b[0;34m)\u001b[0m\u001b[0;34m\u001b[0m\u001b[0m\n\u001b[1;32m     34\u001b[0m \u001b[0;34m\u001b[0m\u001b[0m\n",
      "\u001b[0;32m<ipython-input-2-6248350ff66f>\u001b[0m in \u001b[0;36mfind_minimum\u001b[0;34m(pose, sf)\u001b[0m\n\u001b[1;32m     18\u001b[0m     \u001b[0mmin_mover\u001b[0m\u001b[0;34m.\u001b[0m\u001b[0mmovemap\u001b[0m\u001b[0;34m(\u001b[0m\u001b[0mmove_map\u001b[0m\u001b[0;34m)\u001b[0m\u001b[0;34m\u001b[0m\u001b[0m\n\u001b[1;32m     19\u001b[0m     \u001b[0mmin_mover\u001b[0m\u001b[0;34m.\u001b[0m\u001b[0mmin_type\u001b[0m\u001b[0;34m(\u001b[0m\u001b[0;34m'dfpmin_armijo_nonmonotone'\u001b[0m\u001b[0;34m)\u001b[0m\u001b[0;34m\u001b[0m\u001b[0m\n\u001b[0;32m---> 20\u001b[0;31m     \u001b[0mmin_mover\u001b[0m\u001b[0;34m.\u001b[0m\u001b[0mapply\u001b[0m\u001b[0;34m(\u001b[0m\u001b[0mpose\u001b[0m\u001b[0;34m)\u001b[0m\u001b[0;34m\u001b[0m\u001b[0m\n\u001b[0m\u001b[1;32m     21\u001b[0m \u001b[0;34m\u001b[0m\u001b[0m\n\u001b[1;32m     22\u001b[0m     \u001b[0mpose\u001b[0m\u001b[0;34m.\u001b[0m\u001b[0mset_phi\u001b[0m\u001b[0;34m(\u001b[0m\u001b[0;36m1\u001b[0m\u001b[0;34m,\u001b[0m \u001b[0mpose\u001b[0m\u001b[0;34m.\u001b[0m\u001b[0mphi\u001b[0m\u001b[0;34m(\u001b[0m\u001b[0;36m1\u001b[0m\u001b[0;34m)\u001b[0m\u001b[0;34m-\u001b[0m\u001b[0;36m360.0\u001b[0m\u001b[0;34m*\u001b[0m\u001b[0mround\u001b[0m\u001b[0;34m(\u001b[0m\u001b[0mpose\u001b[0m\u001b[0;34m.\u001b[0m\u001b[0mphi\u001b[0m\u001b[0;34m(\u001b[0m\u001b[0;36m1\u001b[0m\u001b[0;34m)\u001b[0m\u001b[0;34m/\u001b[0m\u001b[0;36m360.0\u001b[0m\u001b[0;34m)\u001b[0m\u001b[0;34m)\u001b[0m\u001b[0;34m\u001b[0m\u001b[0m\n",
      "\u001b[0;31mKeyboardInterrupt\u001b[0m: "
     ]
    }
   ],
   "source": [
    "energies = []\n",
    "\n",
    "for i in range(0,1):\n",
    "    \n",
    "\n",
    "    # Simulate alanine dipeptide\n",
    "    scorefxn = get_fa_scorefxn()\n",
    "    pose_original = pose_from_file('alanine-dipeptide-implicit.pdb')\n",
    "\n",
    "    # initialize parameters\n",
    "    free_energy = 0.0 \n",
    "    minima = []\n",
    "    phi_lists = []\n",
    "    psi_lists = []\n",
    "    As = []\n",
    "    E_old = 0.0\n",
    "    ind = 0\n",
    "    config = 0.0\n",
    "    minimum = Pose()\n",
    "    count = 0\n",
    "    count_new = count\n",
    "    kT = 1.0\n",
    "    V_tot = (2*math.pi)**2\n",
    "    V_sampled = 0\n",
    "\n",
    "    # Simulate until convergence criterion is met\n",
    "    while True and ind < 10000:\n",
    "    \n",
    "        ind += 1\n",
    "    \n",
    "        # Find a local minimum\n",
    "        minimum.assign(find_minimum(pose_original, scorefxn))   \n",
    "        minima.append(minimum)\n",
    "    \n",
    "        # Check that minimum isn't in well already found\n",
    "        if len(minima) > 1 and check_minimum(minimum, phi_lists, psi_lists):\n",
    "            minima.pop()\n",
    "            continue\n",
    "    \n",
    "        # mine minimum for extent of well\n",
    "        phi_list, psi_list = mine_minimum(minimum, scorefxn, minimum.phi(1), minimum.psi(1), 0.5)\n",
    "        phi_lists.append(phi_list)\n",
    "        psi_lists.append(psi_list)\n",
    "    \n",
    "        # Check that old minimum hasn't been found again \n",
    "        if len(minima) > 1:\n",
    "        \n",
    "            for i in range(0, len(minima)-1):\n",
    "            \n",
    "                if check_overlap(phi_list, psi_list, phi_lists[i], psi_lists[i]):\n",
    "                \n",
    "                \n",
    "                    count_new += 1\n",
    "                    minima.pop()\n",
    "        \n",
    "                    phi_lists.pop()\n",
    "                    psi_lists.pop()\n",
    "                \n",
    "                    break\n",
    "    \n",
    "        if count_new > count:\n",
    "        \n",
    "            count = count_new\n",
    "        \n",
    "            continue\n",
    "    \n",
    "        # Integrate over well \n",
    "        A_j, V = mc_integration(minimum, scorefxn, 1.0, phi_list, psi_list)\n",
    "    \n",
    "        # Update Free Energy and volume sampled\n",
    "        As.append(A_j)\n",
    "        free_energy = -np.log(np.sum(np.exp(-np.array(As)/kT)))\n",
    "        V_sampled += V\n",
    "        print free_energy, ind, V_sampled/V_tot, phi_list, psi_list\n",
    "    \n",
    "        # Check convergence criterion \n",
    "        if abs(free_energy - E_old) < 0.01 or V_sampled/V_tot > 0.8:\n",
    "            print free_energy\n",
    "            break\n",
    "        \n",
    "        E_old = free_energy\n",
    "    \n",
    "    energies.append(free_energy)\n"
   ]
  },
  {
   "cell_type": "code",
   "execution_count": 36,
   "metadata": {},
   "outputs": [],
   "source": [
    "pmm.apply(pose_original)\n",
    "pose = Pose()\n",
    "pose.assign(pose_original)\n",
    "phi = np.linspace(-180, 180, 361)\n",
    "psi = np.linspace(-180, 180, 361)\n",
    "\n",
    "energy = np.zeros((361, 361))\n",
    "\n",
    "for ii, x in enumerate(phi):\n",
    "    \n",
    "    pose.set_torsion(TorsionID(1, BB, 2), x)\n",
    "    for jj, y in enumerate(psi):\n",
    "        \n",
    "        pose.set_torsion(TorsionID(1, BB, 3), y)\n",
    "        pmm.apply(pose)\n",
    "        energy[ii, jj] = scorefxn(pose)\n",
    "        "
   ]
  },
  {
   "cell_type": "code",
   "execution_count": 40,
   "metadata": {},
   "outputs": [
    {
     "name": "stdout",
     "output_type": "stream",
     "text": [
      "ScoreFunction::show():\n",
      "weights: (fa_atr 1) (fa_rep 0.55) (fa_sol 1) (fa_intra_rep 0.005) (fa_intra_sol_xover4 1) (lk_ball_wtd 1) (fa_elec 1) (pro_close 1.25) (hbond_sr_bb 1) (hbond_lr_bb 1) (hbond_bb_sc 1) (hbond_sc 1) (dslf_fa13 1.25) (omega 0.4) (fa_dun 0.7) (p_aa_pp 0.6) (yhh_planarity 0.625) (ref 1) (rama_prepro 0.45)\n",
      "energy_method_options: EnergyMethodOptions::show: aa_composition_setup_files: \n",
      "EnergyMethodOptions::show: netcharge_setup_files: \n",
      "EnergyMethodOptions::show: aspartimide_penalty_value: 25\n",
      "EnergyMethodOptions::show: etable_type: FA_STANDARD_DEFAULT\n",
      "analytic_etable_evaluation: 1\n",
      "EnergyMethodOptions::show: method_weights: ref 1.32468 3.25479 -2.14574 -2.72453 1.21829 0.79816 -0.30065 2.30374 -0.71458 1.66147 1.65735 -1.34026 -1.64321 -1.45095 -0.09474 -0.28969 1.15175 2.64269 2.26099 0.58223\n",
      "EnergyMethodOptions::show: method_weights: free_res\n",
      "EnergyMethodOptions::show: unfolded_energies_type: UNFOLDED_SCORE12\n",
      "EnergyMethodOptions::show: split_unfolded_label_type: SPLIT_UNFOLDED_MM\n",
      "EnergyMethodOptions::show: split_unfolded_value_type: SPLIT_UNFOLDED_BOLTZ\n",
      "EnergyMethodOptions::show: atom_vdw_atom_type_set_name: centroid\n",
      "EnergyMethodOptions::show: exclude_protein_protein_fa_elec: false\n",
      "EnergyMethodOptions::show: exclude_RNA_RNA_fa_elec: false\n",
      "EnergyMethodOptions::show: exclude_monomer_fa_elec: false\n",
      "EnergyMethodOptions::show: elec_max_dis: 5.5\n",
      "EnergyMethodOptions::show: elec_min_dis: 1.6\n",
      "EnergyMethodOptions::show: elec_die: 10\n",
      "EnergyMethodOptions::show: elec_no_dis_dep_die: false\n",
      "EnergyMethodOptions::show: elec_sigmoidal_die: true\n",
      "EnergyMethodOptions::show: elec_sigmoidal_D: 80\n",
      "EnergyMethodOptions::show: elec_sigmoidal_D0: 6\n",
      "EnergyMethodOptions::show: elec_sigmoidal_S: 0.4\n",
      "EnergyMethodOptions::show: smooth_fa_elec: true\n",
      "EnergyMethodOptions::show: grpelec_fade_type: false\n",
      "EnergyMethodOptions::show: grpelec_fade_param1: 1\n",
      "EnergyMethodOptions::show: grpelec_fade_param2: 1\n",
      "EnergyMethodOptions::show: grpelec_fade_hbond: 0\n",
      "EnergyMethodOptions::show: grp_cpfxn: 1\n",
      "EnergyMethodOptions::show: elec_group_file: /scoring/score_functions/elec_group_def.dat\n",
      "EnergyMethodOptions::show: grpelec_context_dependent: 0\n",
      "EnergyMethodOptions::show: use_polarization: true\n",
      "EnergyMethodOptions::show: use_gen_kirkwood: true\n",
      "EnergyMethodOptions::show: protein_dielectric: 1\n",
      "EnergyMethodOptions::show: water_dielectric: 78.3\n",
      "EnergyMethodOptions::show: exclude_DNA_DNA: true\n",
      "EnergyMethodOptions::show: exclude_intra_res_protein: false\n",
      "EnergyMethodOptions::show: put_intra_into_total: false\n",
      "EnergyMethodOptions::show: geom_sol_interres_path_distance_cutoff: false\n",
      "EnergyMethodOptions::show: geom_sol_intrares_path_distance_cutoff: true\n",
      "EnergyMethodOptions::show: eval_intrares_elec_ST_only: false\n",
      "EnergyMethodOptions::show: envsmooth_zero_negatives: false\n",
      "EnergyMethodOptions::show: cst_max_seq_sep: 18446744073709551615\n",
      "EnergyMethodOptions::show: pb_bound_tag: bound\n",
      "EnergyMethodOptions::show: pb_unbound_tag: unbound\n",
      "EnergyMethodOptions::show: ordered_wat_penalty: 1.7\n",
      "EnergyMethodOptions::show: ordered_pt_wat_penalty: 2.15037\n",
      "EnergyMethodOptions::show: voids_penalty_energy_containing_cones_cutoff_:6\n",
      "EnergyMethodOptions::show: voids_penalty_energy_cone_distance_cutoff_: 8\n",
      "EnergyMethodOptions::show: voids_penalty_energy_cone_dotproduct_cutoff_: 0.1\n",
      "EnergyMethodOptions::show: voids_penalty_energy_voxel_grid_padding_: 1\n",
      "EnergyMethodOptions::show: voids_penalty_energy_voxel_size_: 0.5\n",
      "EnergyMethodOptions::show: voids_penalty_energy_disabled_except_during_packing_: TRUE\n",
      "EnergyMethodOptions::show: hbnet_bonus_ramping_function_: \"quadratic\"\n",
      "EnergyMethodOptions::show: hbnet_max_network_size_: 0\n",
      "EnergyMethodOptions::show: bond_angle_central_atoms_to_score:\n",
      "EnergyMethodOptions::show: bond_angle_residue_type_param_set: none\n",
      "HBondOptions::show: exclude_DNA_DNA: true\n",
      "HBondOptions::show: exclude_intra_res_protein_: false\n",
      "HBondOptions::show: exclude_intra_res_RNA_: false\n",
      "HBondOptions::show: put_intra_into_total_: false\n",
      "HBondOptions::show: exclude_self_hbonds: true\n",
      "HBondOptions::show: use_hb_env_dep: false\n",
      "HBondOptions::show: use_hb_env_dep_DNA: true\n",
      "HBondOptions::show: smooth_hb_env_dep: true\n",
      "HBondOptions::show: bb_donor_acceptor_check: true\n",
      "HBondOptions::show: decompose_bb_hb_into_pair_energies: false\n",
      "HBondOptions::show: params_database_tag_: ref2015_params\n",
      "HBondOptions::show: use_sp2_chi_penalty_: true\n",
      "HBondOptions::show: sp2_BAH180_rise_: 0.75\n",
      "HBondOptions::show: sp2_outer_width_: 0.357\n",
      "HBondOptions::show: measure_sp3acc_BAH_from_hvy_: true\n",
      "HBondOptions::show: fade_energy_: 1\n",
      "HBondOptions::show: exclude_ether_oxygens_: 0\n",
      "HBondOptions::show: Mbhbond: false \n",
      "HbondOptions::show: mphbond: false\n",
      "HBondOptions::show: hbond_energy_shift: 0\n",
      "HBondOptions::show: water_hybrid_sf: false\n",
      "RNA_EnergyMethodOptions::show: syn_G_potential_bonus: 0\n",
      "RNA_EnergyMethodOptions::show: torsion_potential: ps_04282011\n",
      "RNA_EnergyMethodOptions::show: suiteness_bonus: Richardson\n",
      "FreeDOF_Options::show: free_suite_bonus: -1\n",
      "FreeDOF_Options::show: free_2HOprime_bonus: -0.5\n",
      "FreeDOF_Options::show: free_sugar_bonus: -1\n",
      "FreeDOF_Options::show: pack_phosphate_penalty: 0.25\n",
      "FreeDOF_Options::show: free_side_chain_bonus: -0.5\n",
      "\n",
      "\n"
     ]
    }
   ],
   "source": [
    "print scorefxn"
   ]
  },
  {
   "cell_type": "code",
   "execution_count": 37,
   "metadata": {},
   "outputs": [],
   "source": [
    "import matplotlib as mpl\n",
    "import matplotlib.pyplot as plt"
   ]
  },
  {
   "cell_type": "code",
   "execution_count": 39,
   "metadata": {},
   "outputs": [
    {
     "data": {
      "text/plain": [
       "<matplotlib.contour.QuadContourSet at 0x7f1af95c2d50>"
      ]
     },
     "execution_count": 39,
     "metadata": {},
     "output_type": "execute_result"
    },
    {
     "data": {
      "image/png": "[encoded data removed]",
      "text/plain": [
       "<Figure size 432x288 with 1 Axes>"
      ]
     },
     "metadata": {},
     "output_type": "display_data"
    }
   ],
   "source": [
    "plt.contour(phi, psi, energy)"
   ]
  },
  {
   "cell_type": "code",
   "execution_count": 10,
   "metadata": {},
   "outputs": [
    {
     "data": {
      "text/plain": [
       "(array([  5.,   8.,  27.,  24.,  16.,   7.,   9.,   2.,   1.,   1.]),\n",
       " array([-1.82706618, -1.76975011, -1.71243403, -1.65511795, -1.59780187,\n",
       "        -1.5404858 , -1.48316972, -1.42585364, -1.36853756, -1.31122149,\n",
       "        -1.25390541]),\n",
       " <a list of 10 Patch objects>)"
      ]
     },
     "execution_count": 10,
     "metadata": {},
     "output_type": "execute_result"
    },
    {
     "data": {
      "image/png": "[encoded data removed]",
      "text/plain": [
       "<Figure size 432x288 with 1 Axes>"
      ]
     },
     "metadata": {},
     "output_type": "display_data"
    }
   ],
   "source": [
    "plt.hist(energies, 10)"
   ]
  },
  {
   "cell_type": "code",
   "execution_count": 11,
   "metadata": {},
   "outputs": [],
   "source": [
    "energies = np.array(energies)"
   ]
  },
  {
   "cell_type": "code",
   "execution_count": 12,
   "metadata": {},
   "outputs": [
    {
     "name": "stdout",
     "output_type": "stream",
     "text": [
      "-1.61778298829 0.1007974746\n"
     ]
    }
   ],
   "source": [
    "print np.mean(energies), np.std(energies)"
   ]
  },
  {
   "cell_type": "code",
   "execution_count": 15,
   "metadata": {},
   "outputs": [
    {
     "data": {
      "image/png": "[encoded data removed]",
      "text/plain": [
       "<Figure size 432x288 with 1 Axes>"
      ]
     },
     "metadata": {},
     "output_type": "display_data"
    }
   ],
   "source": [
    "(n, bins, patches) = plt.hist(energies)"
   ]
  }
 ],
 "metadata": {
  "kernelspec": {
   "display_name": "Python 2",
   "language": "python",
   "name": "python2"
  },
  "language_info": {
   "codemirror_mode": {
    "name": "ipython",
    "version": 2
   },
   "file_extension": ".py",
   "mimetype": "text/x-python",
   "name": "python",
   "nbconvert_exporter": "python",
   "pygments_lexer": "ipython2",
   "version": "2.7.12"
  }
 },
 "nbformat": 4,
 "nbformat_minor": 2
}
