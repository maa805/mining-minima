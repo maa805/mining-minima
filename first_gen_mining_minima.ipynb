{
 "cells": [
  {
   "cell_type": "code",
   "execution_count": 1,
   "metadata": {
    "scrolled": true
   },
   "outputs": [
    {
     "name": "stdout",
     "output_type": "stream",
     "text": [
      "Found rosetta database at: /usr/local/lib/python2.7/dist-packages/pyrosetta-2018.11+release.7c7790f-py2.7-linux-x86_64.egg/pyrosetta/database; using it....\n",
      "PyRosetta-4 2017 [Rosetta PyRosetta4.Release.python27.ubuntu 2018.11+release.7c7790f7c7790fbb898f8210b54513b9f9c8a927c3e8d7f 2018-03-14T13:19:04] retrieved from: http://www.pyrosetta.org\n",
      "(C) Copyright Rosetta Commons Member Institutions.\n",
      "Created in JHU by Sergey Lyskov and PyRosetta Team.\n",
      "\n",
      "\u001b[0mcore.init: \u001b[0mChecking for fconfig files in pwd and ./rosetta/flags\n",
      "\n",
      "\u001b[0mcore.init: \u001b[0mRosetta version: PyRosetta4.Release.python27.ubuntu r173 2018.11+release.7c7790f 7c7790fbb898f8210b54513b9f9c8a927c3e8d7f http://www.pyrosetta.org 2018-03-14T13:19:04\n",
      "\u001b[0mcore.init: \u001b[0mcommand: PyRosetta -ex1 -ex2aro -database /usr/local/lib/python2.7/dist-packages/pyrosetta-2018.11+release.7c7790f-py2.7-linux-x86_64.egg/pyrosetta/database\n",
      "\u001b[0mcore.init: \u001b[0m'RNG device' seed mode, using '/dev/urandom', seed=-1600102372 seed_offset=0 real_seed=-1600102372\n",
      "\u001b[0mcore.init.random: \u001b[0mRandomGenerator:init: Normal mode, seed=-1600102372 RG_type=mt19937\n"
     ]
    }
   ],
   "source": [
    "from pyrosetta import *\n",
    "from pyrosetta.rosetta import *\n",
    "from pyrosetta.rosetta.protocols.simple_moves import *\n",
    "init()\n",
    "import math\n",
    "import random\n",
    "import numpy as np"
   ]
  },
  {
   "cell_type": "code",
   "execution_count": 2,
   "metadata": {},
   "outputs": [],
   "source": [
    "def find_minimum(pose, sf):\n",
    "    \n",
    "    minimum = Pose()\n",
    "    total_residue = pose.total_residue()\n",
    "\n",
    "    # Random starting config\n",
    "    for i in range(1, total_residue+1):\n",
    "        \n",
    "        pose.set_phi(i, random.uniform(-180.0,180.0))\n",
    "        pose.set_psi(i, random.uniform(-180.0,180.0))\n",
    "    \n",
    "    move_map = MoveMap()\n",
    "    move_map.set_bb(True)\n",
    "   \n",
    "    # Find local minimum\n",
    "    min_mover = pyrosetta.rosetta.protocols.minimization_packing.MinMover()\n",
    "    min_mover.score_function(sf)\n",
    "    min_mover.movemap(move_map)\n",
    "    min_mover.min_type('dfpmin_armijo_nonmonotone')\n",
    "    min_mover.apply(pose)\n",
    "    \n",
    "    pose.set_phi(1, pose.phi(1)-360.0*round(pose.phi(1)/360.0))\n",
    "    pose.set_psi(1, pose.psi(1)-360.0*round(pose.psi(1)/360.0))\n",
    "\n",
    "    minimum.assign(pose)\n",
    "    print minimum.phi(1), minimum.psi(1)\n",
    "    return minimum"
   ]
  },
  {
   "cell_type": "code",
   "execution_count": 3,
   "metadata": {},
   "outputs": [],
   "source": [
    "def mine_minimum(pose, sf, phi_min, psi_min, E_cutoff):\n",
    "\n",
    "    def testMin(E_curr, E_min):\n",
    "        if E_curr < E_min-0.05:\n",
    "            return True\n",
    "        else:\n",
    "            return False\n",
    "    \n",
    "    phi_list = []\n",
    "    psi_list = []\n",
    "    total_residue = pose.total_residue()\n",
    "    tor_range = 0.5\n",
    "    E_min = sf(pose)\n",
    "    E_ceil = E_min + E_cutoff\n",
    "    E_curr = E_ceil\n",
    "    E_old = E_min\n",
    "    phi_new = phi_min\n",
    "    psi_new = psi_min\n",
    "    \n",
    "    for i in range(1, total_residue+1):\n",
    "        \n",
    "        new = Pose()\n",
    "        new.assign(pose)\n",
    "        \n",
    "        while E_curr <= E_ceil and phi_new > -180:\n",
    "            \n",
    "            new.set_phi(i, new.phi(i)-tor_range)\n",
    "            E_curr = sf(new)\n",
    "            if testMin(E_curr, E_old):\n",
    "                break\n",
    "                \n",
    "            E_old = E_curr\n",
    "            phi_new = new.phi(1)\n",
    "        \n",
    "        \n",
    "        phi_list.append(phi_new)\n",
    "        new.assign(pose)\n",
    "        phi_new = phi_min\n",
    "        E_curr = E_ceil\n",
    "        E_old = E_min\n",
    "        \n",
    "        while E_curr <= E_ceil and phi_new < 180:\n",
    "            \n",
    "            new.set_phi(i, new.phi(i)+tor_range)\n",
    "            E_curr = sf(new)\n",
    "            if testMin(E_curr, E_old):\n",
    "                break\n",
    "            E_old = E_curr\n",
    "            phi_new = new.phi(1)\n",
    "        \n",
    "        phi_list.append(phi_new)\n",
    "        new.assign(pose)\n",
    "        phi_new = phi_min\n",
    "        E_curr = E_ceil\n",
    "        E_old = E_min\n",
    "        \n",
    "        while E_curr <= E_ceil and psi_new > -180:\n",
    "            \n",
    "            new.set_psi(i, new.psi(i) - tor_range)\n",
    "            E_curr = sf(new)\n",
    "            if testMin(E_curr, E_old):\n",
    "                break\n",
    "            E_old = E_curr\n",
    "            psi_new = new.psi(1)\n",
    "\n",
    "        psi_list.append(psi_new)\n",
    "        new.assign(pose)\n",
    "        psi_new = psi_min\n",
    "        E_curr = E_ceil\n",
    "        E_old = E_min\n",
    "        \n",
    "        while E_curr <= E_ceil and psi_new < 180:\n",
    "            \n",
    "            new.set_psi(i, new.psi(i) + tor_range)\n",
    "            E_curr = sf(new)\n",
    "            if testMin(E_curr, E_old):\n",
    "                break\n",
    "            E_old = E_curr\n",
    "            psi_new = new.psi(1)\n",
    "              \n",
    "        psi_list.append(psi_new)\n",
    "        new.assign(pose)\n",
    "        psi_new = psi_min\n",
    "        E_curr = E_ceil\n",
    "        E_old = E_min\n",
    "\n",
    "    return phi_list, psi_list"
   ]
  },
  {
   "cell_type": "code",
   "execution_count": 4,
   "metadata": {},
   "outputs": [],
   "source": [
    "def mc_integration(pose, sf, kT, phi_list, psi_list, N = 10000):\n",
    "    \n",
    "    total_residue = pose.total_residue()\n",
    "    pose_rand = Pose()\n",
    "    pose_rand.assign(pose)\n",
    "    \n",
    "    V = 1.0\n",
    "\n",
    "    boltzmann = 0\n",
    "    \n",
    "    # Calculate configuration space volume\n",
    "    for j in range(1, total_residue+1):\n",
    "        \n",
    "        phi_min = phi_list[2*j - 2]\n",
    "        phi_max = phi_list[2*j - 1]\n",
    "        psi_min = psi_list[2*j - 2]\n",
    "        psi_max = psi_list[2*j - 1] \n",
    "        \n",
    "        \n",
    "        V *= ((phi_max-phi_min)*math.pi/180.0)*((psi_max-psi_min)*math.pi/180.0)\n",
    "       \n",
    "    # Integrate over all backbone torsions\n",
    "    for i in range(0,N):\n",
    "        \n",
    "        for j in range(1, total_residue+1):\n",
    "            \n",
    "            phi_min = phi_list[2*j - 2]\n",
    "            phi_max = phi_list[2*j - 1]\n",
    "            psi_min = psi_list[2*j - 2]\n",
    "            psi_max = psi_list[2*j - 1]            \n",
    "            pose_rand.set_phi(j, random.uniform(phi_min, phi_max))\n",
    "            pose_rand.set_psi(j, random.uniform(psi_min, psi_max))\n",
    "\n",
    "            boltzmann += math.exp(-sf(pose_rand)/kT)\n",
    "            \n",
    "    boltzmann = boltzmann/N\n",
    "    return -kT*math.log(boltzmann*V), V"
   ]
  },
  {
   "cell_type": "code",
   "execution_count": 5,
   "metadata": {},
   "outputs": [],
   "source": [
    "def check_overlap(trial_phis, trial_psis, phi_list, psi_list):\n",
    "    \n",
    "    trial_phi_min = trial_phis[0]\n",
    "    trial_phi_max = trial_phis[1]\n",
    "    trial_psi_min = trial_psis[0]\n",
    "    trial_psi_max = trial_psis[1]\n",
    "        \n",
    "    phi_min = phi_list[0]\n",
    "    phi_max = phi_list[1]\n",
    "    psi_min = psi_list[0]\n",
    "    psi_max = psi_list[1]\n",
    "    \n",
    "    if trial_phi_min > phi_max or phi_min > trial_phi_max:\n",
    "        return False\n",
    "        \n",
    "    if trial_psi_max < psi_min or psi_max < trial_psi_min:\n",
    "        return False\n",
    " \n",
    "    return True\n",
    "    "
   ]
  },
  {
   "cell_type": "code",
   "execution_count": 6,
   "metadata": {},
   "outputs": [],
   "source": [
    "def check_minimum(pose, phi_lists, psi_lists):\n",
    "    \n",
    "    phi_min = pose.phi(1)\n",
    "    psi_min = pose.psi(1)\n",
    "    \n",
    "    for i in range(0, len(phi_lists)):\n",
    "        \n",
    "        phi_list = phi_lists[i]\n",
    "        psi_list = psi_lists[i]\n",
    "        \n",
    "        if phi_min > phi_list[0] and phi_min < phi_list[1] and psi_min > psi_list[0] and psi_min < psi_list[1]:\n",
    "            \n",
    "            return True\n",
    "        \n",
    "    return False\n",
    "    "
   ]
  },
  {
   "cell_type": "code",
   "execution_count": 7,
   "metadata": {
    "scrolled": true
   },
   "outputs": [
    {
     "name": "stdout",
     "output_type": "stream",
     "text": [
      "\u001b[0mcore.scoring.ScoreFunctionFactory: \u001b[0mSCOREFUNCTION: \u001b[32mref2015\u001b[0m\n",
      "\u001b[0mcore.scoring.etable: \u001b[0mStarting energy table calculation\n",
      "\u001b[0mcore.scoring.etable: \u001b[0msmooth_etable: changing atr/rep split to bottom of energy well\n",
      "\u001b[0mcore.scoring.etable: \u001b[0msmooth_etable: spline smoothing lj etables (maxdis = 6)\n",
      "\u001b[0mcore.scoring.etable: \u001b[0msmooth_etable: spline smoothing solvation etables (max_dis = 6)\n",
      "\u001b[0mcore.scoring.etable: \u001b[0mFinished calculating energy tables.\n",
      "\u001b[0mbasic.io.database: \u001b[0mDatabase file opened: scoring/score_functions/hbonds/ref2015_params/HBPoly1D.csv\n",
      "\u001b[0mbasic.io.database: \u001b[0mDatabase file opened: scoring/score_functions/hbonds/ref2015_params/HBFadeIntervals.csv\n",
      "\u001b[0mbasic.io.database: \u001b[0mDatabase file opened: scoring/score_functions/hbonds/ref2015_params/HBEval.csv\n",
      "\u001b[0mbasic.io.database: \u001b[0mDatabase file opened: scoring/score_functions/hbonds/ref2015_params/DonStrength.csv\n",
      "\u001b[0mbasic.io.database: \u001b[0mDatabase file opened: scoring/score_functions/hbonds/ref2015_params/AccStrength.csv\n",
      "\u001b[0mcore.chemical.GlobalResidueTypeSet: \u001b[0mFinished initializing fa_standard residue type set.  Created 603 residue types\n",
      "\u001b[0mcore.chemical.GlobalResidueTypeSet: \u001b[0mTotal time to initialize 0.625 seconds.\n",
      "\u001b[0mbasic.io.database: \u001b[0mDatabase file opened: scoring/score_functions/rama/fd/all.ramaProb\n",
      "\u001b[0mbasic.io.database: \u001b[0mDatabase file opened: scoring/score_functions/rama/fd/prepro.ramaProb\n",
      "\u001b[0mbasic.io.database: \u001b[0mDatabase file opened: scoring/score_functions/omega/omega_ppdep.all.txt\n",
      "\u001b[0mbasic.io.database: \u001b[0mDatabase file opened: scoring/score_functions/omega/omega_ppdep.gly.txt\n",
      "\u001b[0mbasic.io.database: \u001b[0mDatabase file opened: scoring/score_functions/omega/omega_ppdep.pro.txt\n",
      "\u001b[0mbasic.io.database: \u001b[0mDatabase file opened: scoring/score_functions/omega/omega_ppdep.valile.txt\n",
      "\u001b[0mbasic.io.database: \u001b[0mDatabase file opened: scoring/score_functions/P_AA_pp/P_AA\n",
      "\u001b[0mbasic.io.database: \u001b[0mDatabase file opened: scoring/score_functions/P_AA_pp/P_AA_n\n",
      "\u001b[0mcore.scoring.P_AA: \u001b[0mshapovalov_lib::shap_p_aa_pp_smooth_level of 1( aka low_smooth ) got activated.\n",
      "\u001b[0mbasic.io.database: \u001b[0mDatabase file opened: scoring/score_functions/P_AA_pp/shapovalov/10deg/kappa131/a20.prop\n",
      "\u001b[0mcore.import_pose.import_pose: \u001b[0mFile 'alanine-dipeptide-implicit.pdb' automatically determined to be of type PDB\n",
      "\u001b[0mcore.io.pose_from_sfr.PoseFromSFRBuilder: \u001b[0mRenaming atom 1HH3 as 1HP2\n",
      "\u001b[0mcore.io.pose_from_sfr.PoseFromSFRBuilder: \u001b[0mRenaming atom  CH3 as  CP2\n",
      "\u001b[0mcore.io.pose_from_sfr.PoseFromSFRBuilder: \u001b[0mRenaming atom 2HH3 as 2HP2\n",
      "\u001b[0mcore.io.pose_from_sfr.PoseFromSFRBuilder: \u001b[0mRenaming atom 3HH3 as 3HP2\n",
      "\u001b[0mcore.io.pose_from_sfr.PoseFromSFRBuilder: \u001b[0mRenaming atom  C   as  CO\n",
      "\u001b[0mcore.io.pose_from_sfr.PoseFromSFRBuilder: \u001b[0mRenaming atom  O   as  OP1\n",
      "\u001b[0mcore.io.pose_from_sfr.PoseFromSFRBuilder: \u001b[0mRenaming atom  N   as  NM\n",
      "\u001b[0mcore.io.pose_from_sfr.PoseFromSFRBuilder: \u001b[0m\u001b[1m[ WARNING ]\u001b[0m discarding 4 atoms at position 2 in file alanine-dipeptide-implicit.pdb. Best match rsd_type:  ALA:MethylatedCtermProteinFull:AcetylatedNtermProteinFull\n",
      "\u001b[0mcore.conformation.Conformation: \u001b[0m\u001b[1m[ WARNING ]\u001b[0m missing heavyatom:  CN  on residue ALA:MethylatedCtermProteinFull:AcetylatedNtermProteinFull 1\n",
      "\u001b[0mcore.io.pose_from_sfr.PoseFromSFRBuilder: \u001b[0m\u001b[1m[ WARNING ]\u001b[0m can't find pose atom for file-residue 1 atom  CH3 (trying to store temperature in PDBInfo)\n",
      "\u001b[0mcore.io.pose_from_sfr.PoseFromSFRBuilder: \u001b[0m\u001b[1m[ WARNING ]\u001b[0m can't find pose atom for file-residue 1 atom 1HH3 (trying to store temperature in PDBInfo)\n",
      "\u001b[0mcore.io.pose_from_sfr.PoseFromSFRBuilder: \u001b[0m\u001b[1m[ WARNING ]\u001b[0m can't find pose atom for file-residue 1 atom 2HH3 (trying to store temperature in PDBInfo)\n",
      "\u001b[0mcore.io.pose_from_sfr.PoseFromSFRBuilder: \u001b[0m\u001b[1m[ WARNING ]\u001b[0m can't find pose atom for file-residue 1 atom 3HH3 (trying to store temperature in PDBInfo)\n",
      "\u001b[0mcore.pack.dunbrack.RotamerLibrary: \u001b[0mshapovalov_lib_fixes_enable option is true.\n",
      "\u001b[0mcore.pack.dunbrack.RotamerLibrary: \u001b[0mshapovalov_lib::shap_dun10_smooth_level of 1( aka lowest_smooth ) got activated.\n",
      "\u001b[0mcore.pack.dunbrack.RotamerLibrary: \u001b[0mBinary rotamer library selected: /usr/local/lib/python2.7/dist-packages/pyrosetta-2018.11+release.7c7790f-py2.7-linux-x86_64.egg/pyrosetta/database/rotamer/shapovalov/StpDwn_0-0-0/Dunbrack10.lib.bin\n",
      "\u001b[0mcore.pack.dunbrack.RotamerLibrary: \u001b[0mUsing Dunbrack library binary file '/usr/local/lib/python2.7/dist-packages/pyrosetta-2018.11+release.7c7790f-py2.7-linux-x86_64.egg/pyrosetta/database/rotamer/shapovalov/StpDwn_0-0-0/Dunbrack10.lib.bin'.\n",
      "\u001b[0mcore.pack.dunbrack.RotamerLibrary: \u001b[0mDunbrack 2010 library took 0.296875 seconds to load from binary\n",
      "44.2638210709 96.8341809871\n",
      "-0.977376744847 1 0.471487268519 [-180.23617892911554, 180.26382107088446] [10.834180987143256, 180.33418098714327]\n",
      "95.4590901381 -36.9727730815\n",
      "75.6031766304 -51.7029999674\n",
      "173.336206582 147.034776792\n",
      "114.875384114 -163.167994109\n",
      "-1.69629581138 5 0.827536651235 [-180.1246158857628, 180.3753841142372] [-180.1679941089888, -52.16799410898881]\n",
      "-1.69629581138\n"
     ]
    }
   ],
   "source": [
    "energies = []\n",
    "\n",
    "for i in range(0,1):\n",
    "    \n",
    "\n",
    "    # Simulate alanine dipeptide\n",
    "    scorefxn = get_fa_scorefxn()\n",
    "    pose_original = pose_from_file('alanine-dipeptide-implicit.pdb')\n",
    "\n",
    "    # initialize parameters\n",
    "    free_energy = 0.0 \n",
    "    minima = []\n",
    "    phi_lists = []\n",
    "    psi_lists = []\n",
    "    As = []\n",
    "    E_old = 0.0\n",
    "    ind = 0\n",
    "    config = 0.0\n",
    "    minimum = Pose()\n",
    "    count = 0\n",
    "    count_new = count\n",
    "    kT = 1.0\n",
    "    V_tot = (2*math.pi)**2\n",
    "    V_sampled = 0\n",
    "\n",
    "    # Simulate until convergence criterion is met\n",
    "    while True and ind < 10000:\n",
    "    \n",
    "        ind += 1\n",
    "    \n",
    "        # Find a local minimum\n",
    "        minimum.assign(find_minimum(pose_original, scorefxn))   \n",
    "        minima.append(minimum)\n",
    "    \n",
    "        # Check that minimum isn't in well already found\n",
    "        if len(minima) > 1 and check_minimum(minimum, phi_lists, psi_lists):\n",
    "            minima.pop()\n",
    "            continue\n",
    "    \n",
    "        # mine minimum for extent of well\n",
    "        phi_list, psi_list = mine_minimum(minimum, scorefxn, minimum.phi(1), minimum.psi(1), 0.5)\n",
    "        phi_lists.append(phi_list)\n",
    "        psi_lists.append(psi_list)\n",
    "    \n",
    "        # Check that old minimum hasn't been found again \n",
    "        if len(minima) > 1:\n",
    "        \n",
    "            for i in range(0, len(minima)-1):\n",
    "            \n",
    "                if check_overlap(phi_list, psi_list, phi_lists[i], psi_lists[i]):\n",
    "                \n",
    "                \n",
    "                    count_new += 1\n",
    "                    minima.pop()\n",
    "        \n",
    "                    phi_lists.pop()\n",
    "                    psi_lists.pop()\n",
    "                \n",
    "                    break\n",
    "    \n",
    "        if count_new > count:\n",
    "        \n",
    "            count = count_new\n",
    "        \n",
    "            continue\n",
    "    \n",
    "        # Integrate over well \n",
    "        A_j, V = mc_integration(minimum, scorefxn, 1.0, phi_list, psi_list)\n",
    "    \n",
    "        # Update Free Energy and volume sampled\n",
    "        As.append(A_j)\n",
    "        free_energy = -np.log(np.sum(np.exp(-np.array(As)/kT)))\n",
    "        V_sampled += V\n",
    "        print free_energy, ind, V_sampled/V_tot, phi_list, psi_list\n",
    "    \n",
    "        # Check convergence criterion \n",
    "        if abs(free_energy - E_old) < 0.01 or V_sampled/V_tot > 0.8:\n",
    "            print free_energy\n",
    "            break\n",
    "        \n",
    "        E_old = free_energy\n",
    "    \n",
    "    energies.append(free_energy)\n"
   ]
  },
  {
   "cell_type": "code",
   "execution_count": 9,
   "metadata": {},
   "outputs": [],
   "source": [
    "import matplotlib as mpl\n",
    "import matplotlib.pyplot as plt"
   ]
  },
  {
   "cell_type": "code",
   "execution_count": 10,
   "metadata": {},
   "outputs": [
    {
     "data": {
      "text/plain": [
       "(array([  5.,   8.,  27.,  24.,  16.,   7.,   9.,   2.,   1.,   1.]),\n",
       " array([-1.82706618, -1.76975011, -1.71243403, -1.65511795, -1.59780187,\n",
       "        -1.5404858 , -1.48316972, -1.42585364, -1.36853756, -1.31122149,\n",
       "        -1.25390541]),\n",
       " <a list of 10 Patch objects>)"
      ]
     },
     "execution_count": 10,
     "metadata": {},
     "output_type": "execute_result"
    },
    {
     "data": {
      "image/png": "[encoded data removed]",
      "text/plain": [
       "<Figure size 432x288 with 1 Axes>"
      ]
     },
     "metadata": {},
     "output_type": "display_data"
    }
   ],
   "source": [
    "plt.hist(energies, 10)"
   ]
  },
  {
   "cell_type": "code",
   "execution_count": 11,
   "metadata": {},
   "outputs": [],
   "source": [
    "energies = np.array(energies)"
   ]
  },
  {
   "cell_type": "code",
   "execution_count": 12,
   "metadata": {},
   "outputs": [
    {
     "name": "stdout",
     "output_type": "stream",
     "text": [
      "-1.61778298829 0.1007974746\n"
     ]
    }
   ],
   "source": [
    "print np.mean(energies), np.std(energies)"
   ]
  },
  {
   "cell_type": "code",
   "execution_count": 15,
   "metadata": {},
   "outputs": [
    {
     "data": {
      "image/png": "[encoded data removed]",
      "text/plain": [
       "<Figure size 432x288 with 1 Axes>"
      ]
     },
     "metadata": {},
     "output_type": "display_data"
    }
   ],
   "source": [
    "(n, bins, patches) = plt.hist(energies)"
   ]
  }
 ],
 "metadata": {
  "kernelspec": {
   "display_name": "Python 2",
   "language": "python",
   "name": "python2"
  },
  "language_info": {
   "codemirror_mode": {
    "name": "ipython",
    "version": 2
   },
   "file_extension": ".py",
   "mimetype": "text/x-python",
   "name": "python",
   "nbconvert_exporter": "python",
   "pygments_lexer": "ipython2",
   "version": "2.7.12"
  }
 },
 "nbformat": 4,
 "nbformat_minor": 2
}
