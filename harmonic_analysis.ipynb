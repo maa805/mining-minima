{
 "cells": [
  {
   "cell_type": "code",
   "execution_count": 1,
   "metadata": {
    "scrolled": true
   },
   "outputs": [
    {
     "name": "stdout",
     "output_type": "stream",
     "text": [
      "Found rosetta database at: /usr/local/lib/python2.7/dist-packages/pyrosetta-2018.11+release.7c7790f-py2.7-linux-x86_64.egg/pyrosetta/database; using it....\n",
      "PyRosetta-4 2017 [Rosetta PyRosetta4.Release.python27.ubuntu 2018.11+release.7c7790f7c7790fbb898f8210b54513b9f9c8a927c3e8d7f 2018-03-14T13:19:04] retrieved from: http://www.pyrosetta.org\n",
      "(C) Copyright Rosetta Commons Member Institutions.\n",
      "Created in JHU by Sergey Lyskov and PyRosetta Team.\n",
      "\n",
      "\u001b[0mcore.init: \u001b[0mChecking for fconfig files in pwd and ./rosetta/flags\n",
      "\n",
      "\u001b[0mcore.init: \u001b[0mRosetta version: PyRosetta4.Release.python27.ubuntu r173 2018.11+release.7c7790f 7c7790fbb898f8210b54513b9f9c8a927c3e8d7f http://www.pyrosetta.org 2018-03-14T13:19:04\n",
      "\u001b[0mcore.init: \u001b[0mcommand: PyRosetta -ex1 -ex2aro -database /usr/local/lib/python2.7/dist-packages/pyrosetta-2018.11+release.7c7790f-py2.7-linux-x86_64.egg/pyrosetta/database\n",
      "\u001b[0mcore.init: \u001b[0m'RNG device' seed mode, using '/dev/urandom', seed=114640436 seed_offset=0 real_seed=114640436\n",
      "\u001b[0mcore.init.random: \u001b[0mRandomGenerator:init: Normal mode, seed=114640436 RG_type=mt19937\n"
     ]
    }
   ],
   "source": [
    "from pyrosetta import *\n",
    "from pyrosetta.rosetta import *\n",
    "init()"
   ]
  },
  {
   "cell_type": "code",
   "execution_count": 2,
   "metadata": {},
   "outputs": [],
   "source": [
    "import numpy as np\n",
    "import scipy\n",
    "import matplotlib as mpl\n",
    "import matplotlib.pyplot as plt\n",
    "import random\n",
    "import math"
   ]
  },
  {
   "cell_type": "code",
   "execution_count": 3,
   "metadata": {},
   "outputs": [],
   "source": [
    "def get_energy_landscape(pose, scorefxn, h = 5):\n",
    "    \n",
    "    N = int(360/h + 1)\n",
    "    residues = pose.total_residue()\n",
    "    Es = np.zeros((N,N))\n",
    "    \n",
    "    for res in range(0, residues):\n",
    "        \n",
    "        phis = np.arange(-180,180+h,h)\n",
    "        psis = np.arange(-180,180+h,h)\n",
    "\n",
    "    for i in range(0,len(phis)):\n",
    "    \n",
    "        phi = phis[i]\n",
    "        pose.set_psi(1, phi)\n",
    "    \n",
    "        for j in range(0,len(psis)):\n",
    "            psi = psis[j]\n",
    "            pose.set_omega(1, psi)\n",
    "            E = scorefxn(pose)\n",
    "        \n",
    "            Es[i,j] = E\n",
    "\n",
    "    return Es, phis, psis"
   ]
  },
  {
   "cell_type": "code",
   "execution_count": 4,
   "metadata": {},
   "outputs": [],
   "source": [
    "def numerical_hessian(Es, h = 5):\n",
    "    \n",
    "    N = int(360/h + 1)\n",
    "    d2E_dphi2 = np.zeros((N,N))\n",
    "    d2E_dpsi2 = np.zeros((N,N))\n",
    "    d2E_dphidpsi = np.zeros((N,N))\n",
    "    r = h*np.pi/180\n",
    "    \n",
    "    for i in range(0, len(phis)):\n",
    "\n",
    "        for j in range(0, len(psis)):\n",
    "        \n",
    "            if j == 0:\n",
    "            \n",
    "                d2E_dpsi2[i,j] = (Es[i,N-1] - 2*Es[i,j] + Es[i,j+1])/r**2\n",
    "            \n",
    "            elif j == N-1:\n",
    "            \n",
    "                d2E_dpsi2[i,j] = (Es[i,j-1] - 2*Es[i,j] + Es[i,0])/r**2\n",
    "        \n",
    "            else:\n",
    "            \n",
    "                d2E_dpsi2[i,j] = (Es[i,j-1] - 2*Es[i,j] + Es[i,j+1])/r**2\n",
    "        \n",
    "    for j in range(0, len(phis)):\n",
    "\n",
    "        for i in range(0, len(psis)):            \n",
    "            if i == N-1:\n",
    "            \n",
    "                d2E_dphi2[i,j] = (Es[i-1,j] - 2*Es[i,j] + Es[0,j])/r**2\n",
    "        \n",
    "            else:\n",
    "            \n",
    "                d2E_dphi2[i,j] = (Es[i-1,j] - 2*Es[i,j] + Es[i+1,j])/r**2\n",
    "            \n",
    "    for i in range(0, len(phis)):\n",
    "    \n",
    "        for j in range(0, len(psis)):\n",
    "        \n",
    "            if j == 0:\n",
    "            \n",
    "                if i == 0:\n",
    "                \n",
    "                    d2E_dphidpsi[i,j] = Es[i+1,j+1] - Es[i+1,N-1] - Es[N-1,j+1] + Es[N-1,N-1]\n",
    "            \n",
    "                elif i == N-1:\n",
    "                \n",
    "                    d2E_dphidpsi[i,j] = Es[0,j+1] - Es[0,N-1] - Es[i-1,j+1] + Es[i-1,N-1]\n",
    "                \n",
    "                else:\n",
    "                \n",
    "                    d2E_dphidpsi[i,j] = Es[i+1,j+1] - Es[i+1,N-1] - Es[i-1,j+1] + Es[i-1,N-1]\n",
    "                \n",
    "            elif j == N-1:\n",
    "            \n",
    "                if i == 0:\n",
    "                \n",
    "                    d2E_dphidpsi[i,j] = Es[i+1,0] - Es[i+1,N-1] - Es[i-1,0] + Es[i-1,N-1]\n",
    "            \n",
    "                elif i == N-1:\n",
    "                \n",
    "                    d2E_dphidpsi[i,j] = Es[0,0] - Es[0,j-1] - Es[i-1,0] + Es[i-1,j-1]\n",
    "                \n",
    "                else:\n",
    "                \n",
    "                    d2E_dphidpsi[i,j] = Es[i+1,0] - Es[i+1,j-1] - Es[i-1,0] + Es[i-1,j-1]\n",
    "                \n",
    "            else:\n",
    "            \n",
    "                if i == 0:\n",
    "                \n",
    "                    d2E_dphidpsi[i,j] = Es[i+1,j+1] - Es[i+1,j-1] - Es[i-1,j+1] + Es[i-1,j-1]\n",
    "                \n",
    "                elif i == N-1:\n",
    "                \n",
    "                    d2E_dphidpsi[i,j] = Es[0,j+1] - Es[0,j-1] - Es[i-1,j+1] + Es[i-1,j-1]\n",
    "                \n",
    "                else:\n",
    "                \n",
    "                    d2E_dphidpsi[i,j] = Es[i+1,j+1] - Es[i+1,j-1] - Es[i-1,j+1] + Es[i-1,j-1]\n",
    "                    \n",
    "    return d2E_dphi2, d2E_dpsi2, d2E_dphidpsi/4/r**2\n",
    "                "
   ]
  },
  {
   "cell_type": "code",
   "execution_count": 5,
   "metadata": {},
   "outputs": [],
   "source": [
    "def find_minimum(pose, sf):\n",
    "    \n",
    "    minimum = Pose()\n",
    "    total_residue = pose.total_residue()\n",
    "\n",
    "    # Random starting config\n",
    "    for i in range(1, total_residue+1):\n",
    "        \n",
    "        pose.set_psi(i, random.uniform(-180.0,180.0))\n",
    "        pose.set_omega(i, random.uniform(-180.0,180.0))\n",
    "    \n",
    "    move_map = MoveMap()\n",
    "    move_map.set(TorsionID(1, BB, 2), True)\n",
    "    move_map.set(TorsionID(1, BB, 3), True)\n",
    "\n",
    "    # Find local minimum\n",
    "    min_mover = pyrosetta.rosetta.protocols.minimization_packing.MinMover()\n",
    "    min_mover.score_function(sf)\n",
    "    min_mover.movemap(move_map)\n",
    "    min_mover.tolerance(1e-5)\n",
    "    #min_mover.min_type('dfpmin_armijo_nonmonotone')\n",
    "    min_mover.apply(pose)\n",
    "    \n",
    "    pose.set_psi(1, pose.psi(1)-360.0*round(pose.psi(1)/360.0))\n",
    "    pose.set_omega(1, pose.omega(1)-360.0*round(pose.omega(1)/360.0))\n",
    "\n",
    "    minimum.assign(pose)\n",
    "    # print minimum.phi(1), minimum.psi(1)\n",
    "    return minimum"
   ]
  },
  {
   "cell_type": "code",
   "execution_count": 7,
   "metadata": {},
   "outputs": [],
   "source": [
    "def check_minimum(pose, phi_lists, psi_lists):\n",
    "    \n",
    "    phi_min = pose.psi(1)\n",
    "    psi_min = pose.omega(1)\n",
    "    \n",
    "    for i in range(0, len(phi_lists)):\n",
    "        \n",
    "        phi_list = phi_lists[i]\n",
    "        psi_list = psi_lists[i]\n",
    "        \n",
    "        if phi_min > phi_list[0] and phi_min < phi_list[1] and psi_min > psi_list[0] and psi_min < psi_list[1]:\n",
    "            \n",
    "            return True\n",
    "        \n",
    "    return False\n",
    "    "
   ]
  },
  {
   "cell_type": "code",
   "execution_count": 8,
   "metadata": {},
   "outputs": [],
   "source": [
    "def check_overlap(trial_phis, trial_psis, phi_list, psi_list):\n",
    "    \n",
    "    trial_phi_min = trial_phis[0]\n",
    "    trial_phi_max = trial_phis[1]\n",
    "    trial_psi_min = trial_psis[0]\n",
    "    trial_psi_max = trial_psis[1]\n",
    "        \n",
    "    phi_min = phi_list[0]\n",
    "    phi_max = phi_list[1]\n",
    "    psi_min = psi_list[0]\n",
    "    psi_max = psi_list[1]\n",
    "    \n",
    "    if trial_phi_min > phi_max or phi_min > trial_phi_max:\n",
    "        return False\n",
    "        \n",
    "    if trial_psi_max < psi_min or psi_max < trial_psi_min:\n",
    "        return False\n",
    " \n",
    "    return True\n",
    "    "
   ]
  },
  {
   "cell_type": "code",
   "execution_count": 89,
   "metadata": {},
   "outputs": [],
   "source": [
    "def mode_scan(pose, sf, mode, K, kT = 1.0, h = 5.0):\n",
    "    \n",
    "    result = 0\n",
    "    trial = Pose()\n",
    "    inc = 0\n",
    "    max_inc = int(60/h)\n",
    "    \n",
    "    E_0 = sf(pose)\n",
    "    seed = Pose()\n",
    "    seed.assign(pose)\n",
    "    seed_energy = 0\n",
    "    \n",
    "    V = 1\n",
    "    \n",
    "    trial.assign(pose)\n",
    "    #obs = pyrosetta.rosetta.protocols.moves.AddPyMOLObserver(trial, True)\n",
    "    trial_energy = sf(pose)\n",
    "    cutoff = 0.2\n",
    "    \n",
    "    phi = pose.psi(1)\n",
    "    psi = pose.omega(1)\n",
    "    \n",
    "    # deform along positive direction\n",
    "    while inc < max_inc:\n",
    "        \n",
    "        inc += 1\n",
    "        \n",
    "        result += 0.5*np.exp(-(trial_energy-E_0)/kT)\n",
    "        \n",
    "        trial.set_psi(1, trial.psi(1) - mode[0]*h)\n",
    "        trial.set_omega(1, trial.omega(1) - mode[1]*h)\n",
    "        \n",
    "        seed_energy = sf(trial)\n",
    "        if abs(seed_energy-E_0) > cutoff or seed_energy < E_0:\n",
    "            break\n",
    "            \n",
    "        if seed_energy < trial_energy:\n",
    "            \n",
    "            seed.assign(trial)\n",
    "            \n",
    "        trial_energy = seed_energy \n",
    "        result += 0.5*np.exp(-(trial_energy-E_0)/kT)\n",
    "\n",
    "    phi_min = trial.psi(1)\n",
    "    psi_min = trial.omega(1)\n",
    "    \n",
    "    trial.assign(pose)\n",
    "    trial_energy = sf(pose)\n",
    "    \n",
    "    inc = 0\n",
    "    \n",
    "    # deform along opposite direction\n",
    "    while inc < max_inc:\n",
    "        \n",
    "        inc +=1 \n",
    "        \n",
    "        result += 0.5*np.exp(-(trial_energy-E_0)/kT)\n",
    "        \n",
    "        trial.set_psi(1, trial.psi(1) + mode[0]*h)\n",
    "        trial.set_omega(1, trial.omega(1) + mode[1]*h)\n",
    "        \n",
    "        seed_energy = sf(trial)\n",
    "        if abs(seed_energy-E_0) > cutoff or seed_energy < E_0:\n",
    "            break\n",
    "            \n",
    "        if seed_energy < sf(seed):\n",
    "            \n",
    "            seed.assign(trial)\n",
    "                \n",
    "        trial_energy = seed_energy \n",
    "        result += 0.5*np.exp(-(trial_energy-E_0)/kT)\n",
    "        \n",
    "    result *= h*np.pi/180\n",
    "    phi_max = trial.psi(1)\n",
    "    psi_max = trial.omega(1)\n",
    "    #seed.assign(trial)\n",
    "    V = abs(phi_min-phi_max)*abs(psi_min-psi_max)*np.pi**2/180.0/180.0\n",
    "    \n",
    "    #A = -np.log(V*result)\n",
    "    \n",
    "    return result, V, seed\n",
    "            \n",
    "        "
   ]
  },
  {
   "cell_type": "code",
   "execution_count": 30,
   "metadata": {},
   "outputs": [],
   "source": [
    "def harmonic_integral(K, kT):\n",
    "    \n",
    "    return"
   ]
  },
  {
   "cell_type": "code",
   "execution_count": 104,
   "metadata": {},
   "outputs": [
    {
     "name": "stdout",
     "output_type": "stream",
     "text": [
      "\u001b[0mcore.scoring.ScoreFunctionFactory: \u001b[0mSCOREFUNCTION: \u001b[32mref2015\u001b[0m\n",
      "\u001b[0mcore.import_pose.import_pose: \u001b[0mFile 'alanine-dipeptide-implicit.pdb' automatically determined to be of type PDB\n",
      "\u001b[0mcore.io.pose_from_sfr.PoseFromSFRBuilder: \u001b[0mRenaming atom 1HH3 as 1HP2\n",
      "\u001b[0mcore.io.pose_from_sfr.PoseFromSFRBuilder: \u001b[0mRenaming atom  CH3 as  CP2\n",
      "\u001b[0mcore.io.pose_from_sfr.PoseFromSFRBuilder: \u001b[0mRenaming atom 2HH3 as 2HP2\n",
      "\u001b[0mcore.io.pose_from_sfr.PoseFromSFRBuilder: \u001b[0mRenaming atom 3HH3 as 3HP2\n",
      "\u001b[0mcore.io.pose_from_sfr.PoseFromSFRBuilder: \u001b[0mRenaming atom  C   as  CO\n",
      "\u001b[0mcore.io.pose_from_sfr.PoseFromSFRBuilder: \u001b[0mRenaming atom  O   as  OP1\n",
      "\u001b[0mcore.io.pose_from_sfr.PoseFromSFRBuilder: \u001b[0mRenaming atom  N   as  NM\n",
      "\u001b[0mcore.io.pose_from_sfr.PoseFromSFRBuilder: \u001b[0m\u001b[1m[ WARNING ]\u001b[0m discarding 4 atoms at position 2 in file alanine-dipeptide-implicit.pdb. Best match rsd_type:  ALA:MethylatedCtermProteinFull:AcetylatedNtermProteinFull\n",
      "\u001b[0mcore.conformation.Conformation: \u001b[0m\u001b[1m[ WARNING ]\u001b[0m missing heavyatom:  CN  on residue ALA:MethylatedCtermProteinFull:AcetylatedNtermProteinFull 1\n",
      "\u001b[0mcore.io.pose_from_sfr.PoseFromSFRBuilder: \u001b[0m\u001b[1m[ WARNING ]\u001b[0m can't find pose atom for file-residue 1 atom  CH3 (trying to store temperature in PDBInfo)\n",
      "\u001b[0mcore.io.pose_from_sfr.PoseFromSFRBuilder: \u001b[0m\u001b[1m[ WARNING ]\u001b[0m can't find pose atom for file-residue 1 atom 1HH3 (trying to store temperature in PDBInfo)\n",
      "\u001b[0mcore.io.pose_from_sfr.PoseFromSFRBuilder: \u001b[0m\u001b[1m[ WARNING ]\u001b[0m can't find pose atom for file-residue 1 atom 2HH3 (trying to store temperature in PDBInfo)\n",
      "\u001b[0mcore.io.pose_from_sfr.PoseFromSFRBuilder: \u001b[0m\u001b[1m[ WARNING ]\u001b[0m can't find pose atom for file-residue 1 atom 3HH3 (trying to store temperature in PDBInfo)\n"
     ]
    },
    {
     "data": {
      "text/plain": [
       "<matplotlib.colorbar.Colorbar at 0x7fa8f6d36e90>"
      ]
     },
     "execution_count": 104,
     "metadata": {},
     "output_type": "execute_result"
    },
    {
     "data": {
      "image/png": "[encoded data removed]",
      "text/plain": [
       "<Figure size 432x288 with 2 Axes>"
      ]
     },
     "metadata": {},
     "output_type": "display_data"
    }
   ],
   "source": [
    "import scipy.interpolate\n",
    "import matplotlib\n",
    "import matplotlib.pyplot as plt\n",
    "\n",
    "scorefxn = get_fa_scorefxn()\n",
    "pose = pose_from_pdb('alanine-dipeptide-implicit.pdb')\n",
    "\n",
    "h = 5\n",
    "energy, phis, psis = get_energy_landscape(pose, scorefxn, h)\n",
    "d2E_dphi2, d2E_dpsi2, d2E_dphidpsi = numerical_hessian(energy, h)\n",
    "\n",
    "dphi2_fxn = scipy.interpolate.RectBivariateSpline(phis, psis, d2E_dphi2)\n",
    "dpsi2_fxn = scipy.interpolate.RectBivariateSpline(phis, psis, d2E_dpsi2)\n",
    "dphidpsi_fxn = scipy.interpolate.RectBivariateSpline(phis, psis, d2E_dphidpsi)\n",
    "\n",
    "plt.contour(phis, psis, energy)\n",
    "plt.colorbar()"
   ]
  },
  {
   "cell_type": "code",
   "execution_count": null,
   "metadata": {
    "scrolled": true
   },
   "outputs": [],
   "source": [
    "from pyrosetta.rosetta.core.id import *\n",
    "\n",
    "energies = np.zeros((2, 100))\n",
    "\n",
    "for foo in range(0, 100):\n",
    "\n",
    "    ind = 0\n",
    "    count = 0\n",
    "    count_new = count\n",
    "\n",
    "    minima = []\n",
    "    phi_lists = []\n",
    "    psi_lists = []\n",
    "    A = 0\n",
    "    Z = 1\n",
    "    V = 1\n",
    "    A_old = A\n",
    "    V_tot = (2*np.pi)**2\n",
    "    V_sampled = 0\n",
    "\n",
    "    seed = Pose()\n",
    "\n",
    "    while True and ind < 15000:\n",
    "\n",
    "        ind +=1\n",
    "        Z = 1\n",
    "        minimum = Pose()\n",
    "\n",
    "        if seed:\n",
    "\n",
    "            move_map = MoveMap()\n",
    "            move_map.set(TorsionID(1, BB, 2), True)\n",
    "            move_map.set(TorsionID(1, BB, 3), True)\n",
    "\n",
    "            # Find local minimum\n",
    "            min_mover = pyrosetta.rosetta.protocols.minimization_packing.MinMover()\n",
    "            min_mover.score_function(scorefxn)\n",
    "            min_mover.movemap(move_map)\n",
    "            #min_mover.min_type('dfpmin_armijo_nonmonotone')\n",
    "            seed.set_psi(1, seed.psi(1)+random.uniform(-30,30))\n",
    "            seed.set_omega(1, seed.omega(1)+random.uniform(-30,30))\n",
    "            min_mover.apply(seed)\n",
    "\n",
    "            seed.set_psi(1, seed.psi(1)-360.0*round(seed.psi(1)/360.0))\n",
    "            seed.set_omega(1, seed.omega(1)-360.0*round(seed.omega(1)/360.0))\n",
    "\n",
    "            minimum.assign(seed)\n",
    "            seed = Pose()\n",
    "\n",
    "        else:\n",
    "\n",
    "            minimum.assign(find_minimum(pose, scorefxn))\n",
    "\n",
    "        phi = minimum.psi(1)\n",
    "        psi = minimum.omega(1)\n",
    "\n",
    "        minima.append(minimum)\n",
    "\n",
    "\n",
    "        # Check that minimum isn't in well already found\n",
    "        if len(minima) > 1 and check_minimum(minimum, phi_lists, psi_lists):\n",
    "            minima.pop()\n",
    "            continue\n",
    "        \n",
    "        \n",
    "        phi_min = max(phi-60, -180)\n",
    "        phi_max = min(phi+60, 180)\n",
    "        psi_min = max(psi-60, -180)\n",
    "        psi_max = min(psi+60, 180)\n",
    "        \n",
    "        phi_list = [phi_min, phi_max]\n",
    "        psi_list = [psi_min, psi_max]\n",
    "        \n",
    "        phi_lists.append(phi_list)\n",
    "        psi_lists.append(psi_list)\n",
    "        \n",
    "        # Check that old minimum hasn't been found again \n",
    "        if len(minima) > 1:\n",
    "\n",
    "            for i in range(0, len(minima)-1):\n",
    "\n",
    "                if check_overlap(phi_list, psi_list, phi_lists[i], psi_lists[i]):\n",
    "\n",
    "\n",
    "                    count_new += 1\n",
    "                    minima.pop()\n",
    "\n",
    "                    phi_lists.pop()\n",
    "                    psi_lists.pop()\n",
    "\n",
    "                    break\n",
    "\n",
    "        if count_new > count:\n",
    "\n",
    "            count = count_new\n",
    "\n",
    "            continue\n",
    "\n",
    "        hess = np.zeros((2,2))\n",
    "\n",
    "        # Calculate hessian at base of well\n",
    "        hess[0,0] = dphi2_fxn(phi, psi)\n",
    "        hess[0,1] = dphidpsi_fxn(phi, psi)\n",
    "        hess[1,0] = hess[0,1]\n",
    "        hess[1,1] = dpsi2_fxn(phi, psi)\n",
    "\n",
    "        # Diagonalization of hessian\n",
    "        w, v = scipy.linalg.eigh(hess)\n",
    "\n",
    "        # Discard wells with non-positive definite hessian \n",
    "        if w[0]*w[1] < 0 or (w[0] < 0 and w[1] < 0):\n",
    "            minima.pop()\n",
    "            phi_lists.pop()\n",
    "            psi_lists.pop()\n",
    "            continue\n",
    "\n",
    "        print phi, psi\n",
    "        from scipy.special import erf\n",
    "        for i in range(0,len(w)):\n",
    "\n",
    "            K = w[i]\n",
    "\n",
    "            # Mode scan for soft degrees of freedom\n",
    "            if K < 10.0:\n",
    "\n",
    "                Z_j, V_j, seed = mode_scan(minimum, scorefxn, v[:,i], K, 1.0, 0.5)\n",
    "                sig = np.sqrt(1.0/K)\n",
    "                interval = min(2*sig, np.pi/3)         \n",
    "                Z *= Z_j\n",
    "\n",
    "                print Z\n",
    "\n",
    "            # Harmonic integration\n",
    "            else:\n",
    "\n",
    "                sig = np.sqrt(1.0/K)\n",
    "                interval = min(3*sig, np.pi/3)         \n",
    "                Z *= np.sqrt(2*np.pi)*sig*scipy.special.erf(interval/np.sqrt(2/K))\n",
    "\n",
    "        A += Z\n",
    "        Z = 1\n",
    "            \n",
    "        V_sampled += abs(phi_list[1]-phi_list[0])*abs(psi_list[1]-psi_list[0])*np.pi**2/180/180\n",
    "        print w\n",
    "        print phi_list, psi_list\n",
    "        print -np.log(A)\n",
    "        print len(minima)\n",
    "\n",
    "        # check convergence criterion\n",
    "        if abs(A_old-A)/A_old < 0.001:\n",
    "            \n",
    "            break\n",
    "            \n",
    "        A_old = A\n",
    "\n",
    "    print -np.log(A)\n",
    "    \n",
    "    energies[0, foo] = len(minima)\n",
    "    energies[1, foo] = -np.log(A)"
   ]
  },
  {
   "cell_type": "code",
   "execution_count": 91,
   "metadata": {},
   "outputs": [],
   "source": [
    "import matplotlib as mpl\n",
    "import matplotlib.pyplot as plt"
   ]
  },
  {
   "cell_type": "code",
   "execution_count": 92,
   "metadata": {},
   "outputs": [
    {
     "data": {
      "text/plain": [
       "Text(0,0.5,'Count')"
      ]
     },
     "execution_count": 92,
     "metadata": {},
     "output_type": "execute_result"
    },
    {
     "data": {
      "image/png": "[encoded data removed]",
      "text/plain": [
       "<Figure size 432x288 with 1 Axes>"
      ]
     },
     "metadata": {},
     "output_type": "display_data"
    }
   ],
   "source": [
    "plt.hist(energies[1,:], 10)\n",
    "plt.xlabel('Torsional Free Energy')\n",
    "plt.ylabel('Count')"
   ]
  },
  {
   "cell_type": "code",
   "execution_count": 93,
   "metadata": {},
   "outputs": [
    {
     "name": "stdout",
     "output_type": "stream",
     "text": [
      "-1.62582872731 4.27309345874\n"
     ]
    }
   ],
   "source": [
    "print np.mean(energies[1,:]), np.std(energies)"
   ]
  },
  {
   "cell_type": "code",
   "execution_count": 100,
   "metadata": {
    "scrolled": true
   },
   "outputs": [
    {
     "name": "stdout",
     "output_type": "stream",
     "text": [
      "[[ 7.          7.          7.          7.          7.          7.          7.\n",
      "   7.          7.          7.          7.          7.          7.          7.\n",
      "   7.          7.          7.          7.          7.          7.          7.\n",
      "   7.          7.          7.          7.          7.          7.          7.\n",
      "   7.          7.          7.          7.          7.          7.          7.\n",
      "   7.          7.          7.          7.          7.          7.          7.\n",
      "   7.          7.        ]\n",
      " [-1.55165912 -1.53939631 -1.56420911 -1.48160061 -1.61835336 -1.8526572\n",
      "  -1.64921338 -1.69128307 -1.77952376 -1.54141712 -1.60011847 -1.72493718\n",
      "  -1.78480317 -1.90721709 -1.61045099 -1.64441994 -1.56636994 -1.73518944\n",
      "  -1.73520494 -1.6476336  -1.85536189 -1.6431259  -1.65314049 -1.7019795\n",
      "  -1.63773089 -1.71147695 -1.65193501 -1.65845555 -1.53318158 -1.64675978\n",
      "  -1.72756869 -1.74419156 -1.55514578 -1.61130928 -1.54460379 -1.51938739\n",
      "  -1.62036756 -1.50423042 -1.58715137 -1.75758267 -1.66963349 -1.90960828\n",
      "  -1.89589094 -1.60417359]]\n"
     ]
    },
    {
     "data": {
      "text/plain": [
       "(array([  3.,   2.,   1.,   3.,   6.,   4.,  11.,   3.,   8.,   3.]),\n",
       " array([-1.90960828, -1.86680752, -1.82400675, -1.78120598, -1.73840521,\n",
       "        -1.69560445, -1.65280368, -1.61000291, -1.56720214, -1.52440138,\n",
       "        -1.48160061]),\n",
       " <a list of 10 Patch objects>)"
      ]
     },
     "execution_count": 100,
     "metadata": {},
     "output_type": "execute_result"
    },
    {
     "data": {
      "image/png": "[encoded data removed]",
      "text/plain": [
       "<Figure size 432x288 with 1 Axes>"
      ]
     },
     "metadata": {},
     "output_type": "display_data"
    }
   ],
   "source": [
    "b = energies[0,:] == 7\n",
    "indices = np.stack((b,b))\n",
    "sampled_energies = energies[indices]\n",
    "sampled_energies = sampled_energies.reshape((2,len(sampled_energies)/2))\n",
    "print sampled_energies\n",
    "plt.hist(sampled_energies[1,:], 10)"
   ]
  },
  {
   "cell_type": "code",
   "execution_count": 101,
   "metadata": {},
   "outputs": [
    {
     "name": "stdout",
     "output_type": "stream",
     "text": [
      "-1.66294659417 0.108949521552\n"
     ]
    }
   ],
   "source": [
    "print np.average(sampled_energies[1,:]), np.std(sampled_energies[1,:])"
   ]
  },
  {
   "cell_type": "code",
   "execution_count": null,
   "metadata": {},
   "outputs": [],
   "source": []
  }
 ],
 "metadata": {
  "kernelspec": {
   "display_name": "Python 2",
   "language": "python",
   "name": "python2"
  },
  "language_info": {
   "codemirror_mode": {
    "name": "ipython",
    "version": 2
   },
   "file_extension": ".py",
   "mimetype": "text/x-python",
   "name": "python",
   "nbconvert_exporter": "python",
   "pygments_lexer": "ipython2",
   "version": "2.7.12"
  }
 },
 "nbformat": 4,
 "nbformat_minor": 2
}
