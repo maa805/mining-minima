{
 "cells": [
  {
   "cell_type": "code",
   "execution_count": 28,
   "metadata": {
    "scrolled": true
   },
   "outputs": [
    {
     "name": "stdout",
     "output_type": "stream",
     "text": [
      "Found rosetta database at: /usr/local/lib/python2.7/dist-packages/pyrosetta-2018.11+release.7c7790f-py2.7-linux-x86_64.egg/pyrosetta/database; using it....\n",
      "PyRosetta-4 2017 [Rosetta PyRosetta4.Release.python27.ubuntu 2018.11+release.7c7790f7c7790fbb898f8210b54513b9f9c8a927c3e8d7f 2018-03-14T13:19:04] retrieved from: http://www.pyrosetta.org\n",
      "(C) Copyright Rosetta Commons Member Institutions.\n",
      "Created in JHU by Sergey Lyskov and PyRosetta Team.\n",
      "\n",
      "\u001b[0mcore.init: \u001b[0mChecking for fconfig files in pwd and ./rosetta/flags\n",
      "\n",
      "\u001b[0mcore.init: \u001b[0mRosetta version: PyRosetta4.Release.python27.ubuntu r173 2018.11+release.7c7790f 7c7790fbb898f8210b54513b9f9c8a927c3e8d7f http://www.pyrosetta.org 2018-03-14T13:19:04\n",
      "\u001b[0mcore.init: \u001b[0mcommand: PyRosetta -ex1 -ex2aro -database /usr/local/lib/python2.7/dist-packages/pyrosetta-2018.11+release.7c7790f-py2.7-linux-x86_64.egg/pyrosetta/database\n",
      "\u001b[0mcore.init: \u001b[0m'RNG device' seed mode, using '/dev/urandom', seed=1631641098 seed_offset=0 real_seed=1631641098\n",
      "\u001b[0mcore.init.random: \u001b[0mRandomGenerator:init: Normal mode, seed=1631641098 RG_type=mt19937\n"
     ]
    }
   ],
   "source": [
    "from pyrosetta import *\n",
    "from pyrosetta.rosetta import *\n",
    "init()"
   ]
  },
  {
   "cell_type": "code",
   "execution_count": 29,
   "metadata": {},
   "outputs": [],
   "source": [
    "def numerical_hessian(Es, h = 5):\n",
    "    \n",
    "    N = int(360/h + 1)\n",
    "    d2E_dphi2 = np.zeros((N,N))\n",
    "    d2E_dpsi2 = np.zeros((N,N))\n",
    "    d2E_dphidpsi = np.zeros((N,N))\n",
    "    r = h*np.pi/180\n",
    "    \n",
    "    for i in range(0, len(phis)):\n",
    "\n",
    "        for j in range(0, len(psis)):\n",
    "            \n",
    "            if j == N-1:\n",
    "            \n",
    "                d2E_dpsi2[i,j] = (Es[i,j-1] - 2*Es[i,j] + Es[i,0])/r**2\n",
    "        \n",
    "            else:\n",
    "            \n",
    "                d2E_dpsi2[i,j] = (Es[i,j-1] - 2*Es[i,j] + Es[i,j+1])/r**2\n",
    "        \n",
    "    for j in range(0, len(phis)):\n",
    "\n",
    "        for i in range(0, len(psis)):            \n",
    "            if i == N-1:\n",
    "            \n",
    "                d2E_dphi2[i,j] = (Es[i-1,j] - 2*Es[i,j] + Es[0,j])/r**2\n",
    "        \n",
    "            else:\n",
    "            \n",
    "                d2E_dphi2[i,j] = (Es[i-1,j] - 2*Es[i,j] + Es[i+1,j])/r**2\n",
    "            \n",
    "    for i in range(0, len(phis)):\n",
    "    \n",
    "        for j in range(0, len(psis)):\n",
    "        \n",
    "            if j == 0:\n",
    "            \n",
    "                if i == 0:\n",
    "                \n",
    "                    d2E_dphidpsi[i,j] = Es[i+1,j+1] - Es[i+1,N-1] - Es[N-1,j+1] + Es[N-1,N-1]\n",
    "            \n",
    "                elif i == N-1:\n",
    "                \n",
    "                    d2E_dphidpsi[i,j] = Es[0,j+1] - Es[0,N-1] - Es[i-1,j+1] + Es[i-1,N-1]\n",
    "                \n",
    "                else:\n",
    "                \n",
    "                    d2E_dphidpsi[i,j] = Es[i+1,j+1] - Es[i+1,N-1] - Es[i-1,j+1] + Es[i-1,N-1]\n",
    "                \n",
    "            elif j == N-1:\n",
    "            \n",
    "                if i == 0:\n",
    "                \n",
    "                    d2E_dphidpsi[i,j] = Es[i+1,0] - Es[i+1,N-1] - Es[i-1,0] + Es[i-1,N-1]\n",
    "            \n",
    "                elif i == N-1:\n",
    "                \n",
    "                    d2E_dphidpsi[i,j] = Es[0,0] - Es[0,j-1] - Es[i-1,0] + Es[i-1,j-1]\n",
    "                \n",
    "                else:\n",
    "                \n",
    "                    d2E_dphidpsi[i,j] = Es[i+1,0] - Es[i+1,j-1] - Es[i-1,0] + Es[i-1,j-1]\n",
    "                \n",
    "            else:\n",
    "            \n",
    "                if i == 0:\n",
    "                \n",
    "                    d2E_dphidpsi[i,j] = Es[i+1,j+1] - Es[i+1,j-1] - Es[N-1,j+1] + Es[N-1,j-1]\n",
    "                \n",
    "                elif i == N-1:\n",
    "                \n",
    "                    d2E_dphidpsi[i,j] = Es[0,j+1] - Es[0,j-1] - Es[i-1,j+1] + Es[i-1,j-1]\n",
    "                \n",
    "                else:\n",
    "                \n",
    "                    d2E_dphidpsi[i,j] = Es[i+1,j+1] - Es[i+1,j-1] - Es[i-1,j+1] + Es[i-1,j-1]\n",
    "                    \n",
    "    return d2E_dphi2, d2E_dpsi2, d2E_dphidpsi/4/r**2"
   ]
  },
  {
   "cell_type": "code",
   "execution_count": 30,
   "metadata": {},
   "outputs": [],
   "source": [
    "def get_energy_landscape(pose, scorefxn, h = 5):\n",
    "    \n",
    "    N = int(360/h + 1)\n",
    "    residues = pose.total_residue()\n",
    "    Es = np.zeros((N,N))\n",
    "    \n",
    "    for res in range(0, residues):\n",
    "        \n",
    "        phis = np.arange(-180,180+h,h)\n",
    "        psis = np.arange(-180,180+h,h)\n",
    "\n",
    "    for i in range(0,len(phis)):\n",
    "    \n",
    "        phi = phis[i]\n",
    "        pose.set_psi(1, phi)\n",
    "    \n",
    "        for j in range(0,len(psis)):\n",
    "            psi = psis[j]\n",
    "            pose.set_omega(1, psi)\n",
    "            E = scorefxn(pose)\n",
    "        \n",
    "            Es[i,j] = E\n",
    "\n",
    "    return Es, phis, psis"
   ]
  },
  {
   "cell_type": "code",
   "execution_count": 31,
   "metadata": {},
   "outputs": [
    {
     "name": "stdout",
     "output_type": "stream",
     "text": [
      "\u001b[0mcore.scoring.ScoreFunctionFactory: \u001b[0mSCOREFUNCTION: \u001b[32mref2015\u001b[0m\n",
      "\u001b[0mcore.import_pose.import_pose: \u001b[0mFile 'alanine-dipeptide-implicit.pdb' automatically determined to be of type PDB\n",
      "\u001b[0mcore.io.pose_from_sfr.PoseFromSFRBuilder: \u001b[0mRenaming atom 1HH3 as 1HP2\n",
      "\u001b[0mcore.io.pose_from_sfr.PoseFromSFRBuilder: \u001b[0mRenaming atom  CH3 as  CP2\n",
      "\u001b[0mcore.io.pose_from_sfr.PoseFromSFRBuilder: \u001b[0mRenaming atom 2HH3 as 2HP2\n",
      "\u001b[0mcore.io.pose_from_sfr.PoseFromSFRBuilder: \u001b[0mRenaming atom 3HH3 as 3HP2\n",
      "\u001b[0mcore.io.pose_from_sfr.PoseFromSFRBuilder: \u001b[0mRenaming atom  C   as  CO\n",
      "\u001b[0mcore.io.pose_from_sfr.PoseFromSFRBuilder: \u001b[0mRenaming atom  O   as  OP1\n",
      "\u001b[0mcore.io.pose_from_sfr.PoseFromSFRBuilder: \u001b[0mRenaming atom  N   as  NM\n",
      "\u001b[0mcore.io.pose_from_sfr.PoseFromSFRBuilder: \u001b[0m\u001b[1m[ WARNING ]\u001b[0m discarding 4 atoms at position 2 in file alanine-dipeptide-implicit.pdb. Best match rsd_type:  ALA:MethylatedCtermProteinFull:AcetylatedNtermProteinFull\n",
      "\u001b[0mcore.conformation.Conformation: \u001b[0m\u001b[1m[ WARNING ]\u001b[0m missing heavyatom:  CN  on residue ALA:MethylatedCtermProteinFull:AcetylatedNtermProteinFull 1\n",
      "\u001b[0mcore.io.pose_from_sfr.PoseFromSFRBuilder: \u001b[0m\u001b[1m[ WARNING ]\u001b[0m can't find pose atom for file-residue 1 atom  CH3 (trying to store temperature in PDBInfo)\n",
      "\u001b[0mcore.io.pose_from_sfr.PoseFromSFRBuilder: \u001b[0m\u001b[1m[ WARNING ]\u001b[0m can't find pose atom for file-residue 1 atom 1HH3 (trying to store temperature in PDBInfo)\n",
      "\u001b[0mcore.io.pose_from_sfr.PoseFromSFRBuilder: \u001b[0m\u001b[1m[ WARNING ]\u001b[0m can't find pose atom for file-residue 1 atom 2HH3 (trying to store temperature in PDBInfo)\n",
      "\u001b[0mcore.io.pose_from_sfr.PoseFromSFRBuilder: \u001b[0m\u001b[1m[ WARNING ]\u001b[0m can't find pose atom for file-residue 1 atom 3HH3 (trying to store temperature in PDBInfo)\n"
     ]
    }
   ],
   "source": [
    "import numpy as np\n",
    "import scipy.interpolate\n",
    "import random\n",
    "\n",
    "scorefxn = get_fa_scorefxn()\n",
    "pose = pose_from_pdb('alanine-dipeptide-implicit.pdb')\n",
    "\n",
    "h = 5\n",
    "energy, phis, psis = get_energy_landscape(pose, scorefxn, h)\n",
    "d2E_dphi2, d2E_dpsi2, d2E_dphidpsi = numerical_hessian(energy, h)\n",
    "\n",
    "dphi2_fxn = scipy.interpolate.RectBivariateSpline(phis, psis, d2E_dphi2)\n",
    "dpsi2_fxn = scipy.interpolate.RectBivariateSpline(phis, psis, d2E_dpsi2)\n",
    "dphidpsis_fxn = scipy.interpolate.RectBivariateSpline(phis, psis, d2E_dphidpsi)"
   ]
  },
  {
   "cell_type": "code",
   "execution_count": 33,
   "metadata": {},
   "outputs": [
    {
     "ename": "RuntimeError",
     "evalue": "\n\nFile: /home/benchmark/T/rosetta.Glass/_commits_/main/source/src/core/pose/Pose.cc:962\n[ ERROR ] UtilityExitException\nERROR: Pose::set_psi( Size const seqpos, Real const setting ): variable seqpos is out of range!\n\n",
     "output_type": "error",
     "traceback": [
      "\u001b[0;31m---------------------------------------------------------------------------\u001b[0m",
      "\u001b[0;31mRuntimeError\u001b[0m                              Traceback (most recent call last)",
      "\u001b[0;32m<ipython-input-33-53e52e473618>\u001b[0m in \u001b[0;36m<module>\u001b[0;34m()\u001b[0m\n\u001b[1;32m      5\u001b[0m \u001b[0;34m\u001b[0m\u001b[0m\n\u001b[1;32m      6\u001b[0m \u001b[0;31m# Set coordinates of minimum to examine\u001b[0m\u001b[0;34m\u001b[0m\u001b[0;34m\u001b[0m\u001b[0m\n\u001b[0;32m----> 7\u001b[0;31m \u001b[0mminimum\u001b[0m\u001b[0;34m.\u001b[0m\u001b[0mset_psi\u001b[0m\u001b[0;34m(\u001b[0m\u001b[0;36m1\u001b[0m\u001b[0;34m,\u001b[0m \u001b[0;36m163.655\u001b[0m\u001b[0;34m)\u001b[0m\u001b[0;34m\u001b[0m\u001b[0m\n\u001b[0m\u001b[1;32m      8\u001b[0m \u001b[0mminimum\u001b[0m\u001b[0;34m.\u001b[0m\u001b[0mset_omega\u001b[0m\u001b[0;34m(\u001b[0m\u001b[0;36m1\u001b[0m\u001b[0;34m,\u001b[0m \u001b[0;34m-\u001b[0m\u001b[0;36m98.03\u001b[0m\u001b[0;34m)\u001b[0m\u001b[0;34m\u001b[0m\u001b[0m\n\u001b[1;32m      9\u001b[0m \u001b[0;34m\u001b[0m\u001b[0m\n",
      "\u001b[0;31mRuntimeError\u001b[0m: \n\nFile: /home/benchmark/T/rosetta.Glass/_commits_/main/source/src/core/pose/Pose.cc:962\n[ ERROR ] UtilityExitException\nERROR: Pose::set_psi( Size const seqpos, Real const setting ): variable seqpos is out of range!\n\n"
     ]
    }
   ],
   "source": [
    "from rosetta.protocols.moves import *\n",
    "from scipy.special import erf\n",
    "\n",
    "minimum = Pose()\n",
    "\n",
    "# Set coordinates of minimum to examine\n",
    "minimum.set_psi(1, 163.655)\n",
    "minimum.set_omega(1, -98.03)\n",
    "\n",
    "trial = Pose()\n",
    "trial.assign(minimum)\n",
    "\n",
    "seed = Pose()\n",
    "seed_energy = 0\n",
    "\n",
    "\n",
    "observer = AddPyMOLObserver(trial, True)\n",
    "\n",
    "\n",
    "phi = minimum.psi(1)\n",
    "psi = minimum.omega(1)\n",
    "\n",
    "trial_energy = scorefxn(minimum)\n",
    "cutoff = scorefxn(minimum) + 0.1\n",
    "\n",
    "\n",
    "print phi, psi, trial_energy\n",
    "\n",
    "\n",
    "hess = np.zeros((2,2))\n",
    "\n",
    "hess[0,0] = dphi2_fxn(phi, psi)\n",
    "hess[0,1] = dphidpsis_fxn(phi, psi)\n",
    "hess[1,0] = hess[0,1]\n",
    "hess[1,1] = dpsi2_fxn(phi, psi)\n",
    "\n",
    "w,v = scipy.linalg.eigh(hess)\n",
    "\n",
    "Z = 1\n",
    "V = 1\n",
    "Q = 1\n",
    "\n",
    "inc = 0\n",
    "\n",
    "print w,v \n",
    "\n",
    "result = 0\n",
    "\n",
    "h = 5\n",
    "\n",
    "for k in range(0, len(w)):\n",
    "    \n",
    "    mode = v[:,k]\n",
    "    K = w[k]\n",
    "    \n",
    "    while inc < 11:\n",
    "        \n",
    "        inc += 1\n",
    "        \n",
    "        result += 0.5*np.exp(-trial_energy)\n",
    "\n",
    "        trial.set_psi(1, trial.psi(1) - mode[0]*h)\n",
    "        trial.set_omega(1, trial.omega(1) - mode[1]*h)\n",
    "        \n",
    "        seed_energy = scorefxn(trial)\n",
    "        if seed_energy > cutoff:\n",
    "            break\n",
    "            \n",
    "        if seed_energy < trial_energy:\n",
    "            \n",
    "            seed.assign(trial)\n",
    "            \n",
    "        trial_energy = seed_energy \n",
    "        result += 0.5*np.exp(-trial_energy)\n",
    "\n",
    "    phi_min = trial.psi(1)\n",
    "    psi_min = trial.omega(1)\n",
    "\n",
    "    trial.assign(minimum)\n",
    "    trial_energy = scorefxn(minimum)\n",
    "    \n",
    "    inc = 0\n",
    "\n",
    "    while inc < 11:\n",
    "    \n",
    "        inc += 1\n",
    "        \n",
    "        result += 0.5*np.exp(-trial_energy)\n",
    "\n",
    "        trial.set_psi(1, trial.psi(1) + mode[0]*h)\n",
    "        trial.set_omega(1, trial.omega(1) + mode[1]*h)\n",
    "\n",
    "        seed_energy = scorefxn(trial)\n",
    "        if seed_energy > cutoff:\n",
    "            break\n",
    "            \n",
    "        if seed_energy < trial_energy:\n",
    "            \n",
    "            seed.assign(trial)\n",
    "            \n",
    "        trial_energy = seed_energy \n",
    "        result += 0.5*np.exp(-trial_energy)\n",
    "\n",
    "    result *= h*np.pi/180\n",
    "    phi_max = trial.psi(1)\n",
    "    psi_max = trial.omega(1)\n",
    "    \n",
    "    trial.assign(minimum)\n",
    "    trial_energy = scorefxn(minimum)\n",
    "    \n",
    "    sig = np.sqrt(1.0/K)\n",
    "    interval = min(6*sig, 2*np.pi/3)\n",
    "    \n",
    "    Q *= np.sqrt(2.0*np.pi)*sig*erf(interval/np.sqrt(2.0/K))\n",
    "    \n",
    "    #V *= np.pi/3\n",
    "    #V *= np.sqrt(abs(phi_min-phi_max)*abs(psi_min-psi_max))*np.pi/180\n",
    "\n",
    "\n",
    "    Z *= result\n",
    "    result = 0\n",
    "\n",
    "A = -np.log(Z)\n",
    "print Z, A\n",
    "print Q, -np.log(Q)\n",
    "print "
   ]
  },
  {
   "cell_type": "code",
   "execution_count": 26,
   "metadata": {},
   "outputs": [
    {
     "name": "stdout",
     "output_type": "stream",
     "text": [
      "[-60 -55 -50 -45 -40 -35 -30 -25 -20 -15 -10  -5   0   5  10  15  20  25\n",
      "  30  35  40  45  50  55  60]\n",
      "[-0.99983922  0.01793163]\n"
     ]
    },
    {
     "data": {
      "image/png": "[encoded data removed]",
      "text/plain": [
       "<Figure size 432x288 with 1 Axes>"
      ]
     },
     "metadata": {},
     "output_type": "display_data"
    }
   ],
   "source": [
    "x = np.arange(-60,65,5)\n",
    "print x\n",
    "trial = Pose()\n",
    "trial.assign(minimum)\n",
    "\n",
    "E_0 = scorefxn(minimum)\n",
    "\n",
    "harmonic = []\n",
    "foo = []\n",
    "\n",
    "mode = v[:,1]\n",
    "K = w[1]\n",
    "\n",
    "for xx in x:\n",
    "    \n",
    "    trial.set_psi(1, minimum.psi(1) + xx*mode[0])\n",
    "    trial.set_omega(1, minimum.omega(1) + xx*mode[1])\n",
    "    \n",
    "    foo.append(scorefxn(trial)-E_0)\n",
    "    harmonic.append((K*(xx*np.pi/180)**2))\n",
    "    \n",
    "plt.plot(x, harmonic)\n",
    "plt.plot(x, foo)\n",
    "print mode"
   ]
  },
  {
   "cell_type": "code",
   "execution_count": 172,
   "metadata": {},
   "outputs": [
    {
     "name": "stdout",
     "output_type": "stream",
     "text": [
      "0.38688591007\n"
     ]
    }
   ],
   "source": [
    "from scipy.special import erf\n",
    "\n",
    "Z = 1\n",
    "V = 1\n",
    "\n",
    "# Harmonic appoximation and so on and so forth \n",
    "for i in range(0, len(w)):\n",
    "    \n",
    "    K = w[i]\n",
    "    sig = np.sqrt(1.0/K)\n",
    "    interval = min(6*sig, 2*np.pi/3)\n",
    "    Z *= np.sqrt(2.0*np.pi)*sig*erf(interval/np.sqrt(2.0/K))\n",
    "    #V *= np.pi/3\n",
    "    \n",
    "print Z\n",
    "    \n"
   ]
  },
  {
   "cell_type": "code",
   "execution_count": 9,
   "metadata": {},
   "outputs": [
    {
     "name": "stdout",
     "output_type": "stream",
     "text": [
      "182.797922628 130.955884042\n"
     ]
    }
   ],
   "source": [
    "print seed.psi(1), seed.omega(1)"
   ]
  },
  {
   "cell_type": "code",
   "execution_count": 14,
   "metadata": {},
   "outputs": [
    {
     "name": "stdout",
     "output_type": "stream",
     "text": [
      "-1.90688476694\n"
     ]
    }
   ],
   "source": [
    "print -np.log(np.exp(1.313758)+np.exp(0.399378)+np.exp(0.419407))"
   ]
  },
  {
   "cell_type": "code",
   "execution_count": 67,
   "metadata": {},
   "outputs": [
    {
     "name": "stdout",
     "output_type": "stream",
     "text": [
      "0.216853617292\n"
     ]
    }
   ],
   "source": [
    "print Z"
   ]
  },
  {
   "cell_type": "code",
   "execution_count": 68,
   "metadata": {},
   "outputs": [
    {
     "data": {
      "text/plain": [
       "-1.5285327277592589"
      ]
     },
     "execution_count": 68,
     "metadata": {},
     "output_type": "execute_result"
    }
   ],
   "source": [
    "np.log(Z)"
   ]
  },
  {
   "cell_type": "code",
   "execution_count": null,
   "metadata": {},
   "outputs": [],
   "source": []
  }
 ],
 "metadata": {
  "kernelspec": {
   "display_name": "Python 2",
   "language": "python",
   "name": "python2"
  },
  "language_info": {
   "codemirror_mode": {
    "name": "ipython",
    "version": 2
   },
   "file_extension": ".py",
   "mimetype": "text/x-python",
   "name": "python",
   "nbconvert_exporter": "python",
   "pygments_lexer": "ipython2",
   "version": "2.7.12"
  }
 },
 "nbformat": 4,
 "nbformat_minor": 2
}
