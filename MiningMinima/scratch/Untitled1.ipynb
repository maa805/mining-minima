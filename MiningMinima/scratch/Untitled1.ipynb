{
 "cells": [
  {
   "cell_type": "code",
   "execution_count": 1,
   "metadata": {},
   "outputs": [
    {
     "name": "stdout",
     "output_type": "stream",
     "text": [
      "Found rosetta database at: /usr/local/lib/python2.7/dist-packages/pyrosetta-2018.11+release.7c7790f-py2.7-linux-x86_64.egg/pyrosetta/database; using it....\n",
      "PyRosetta-4 2017 [Rosetta PyRosetta4.Release.python27.ubuntu 2018.11+release.7c7790f7c7790fbb898f8210b54513b9f9c8a927c3e8d7f 2018-03-14T13:19:04] retrieved from: http://www.pyrosetta.org\n",
      "(C) Copyright Rosetta Commons Member Institutions.\n",
      "Created in JHU by Sergey Lyskov and PyRosetta Team.\n",
      "\n",
      "\u001b[0mcore.init: \u001b[0mChecking for fconfig files in pwd and ./rosetta/flags\n",
      "\n",
      "\u001b[0mcore.init: \u001b[0mRosetta version: PyRosetta4.Release.python27.ubuntu r173 2018.11+release.7c7790f 7c7790fbb898f8210b54513b9f9c8a927c3e8d7f http://www.pyrosetta.org 2018-03-14T13:19:04\n",
      "\u001b[0mcore.init: \u001b[0mcommand: PyRosetta -ex1 -ex2aro -database /usr/local/lib/python2.7/dist-packages/pyrosetta-2018.11+release.7c7790f-py2.7-linux-x86_64.egg/pyrosetta/database\n",
      "\u001b[0mcore.init: \u001b[0m'RNG device' seed mode, using '/dev/urandom', seed=-1087671716 seed_offset=0 real_seed=-1087671716\n",
      "\u001b[0mcore.init.random: \u001b[0mRandomGenerator:init: Normal mode, seed=-1087671716 RG_type=mt19937\n",
      "Found rosetta database at: /usr/local/lib/python2.7/dist-packages/pyrosetta-2018.11+release.7c7790f-py2.7-linux-x86_64.egg/pyrosetta/database; using it....\n",
      "PyRosetta-4 2017 [Rosetta PyRosetta4.Release.python27.ubuntu 2018.11+release.7c7790f7c7790fbb898f8210b54513b9f9c8a927c3e8d7f 2018-03-14T13:19:04] retrieved from: http://www.pyrosetta.org\n",
      "(C) Copyright Rosetta Commons Member Institutions.\n",
      "Created in JHU by Sergey Lyskov and PyRosetta Team.\n",
      "\n",
      "\u001b[0mcore.init: \u001b[0mChecking for fconfig files in pwd and ./rosetta/flags\n",
      "\n",
      "\u001b[0mcore.init: \u001b[0mRosetta version: PyRosetta4.Release.python27.ubuntu r173 2018.11+release.7c7790f 7c7790fbb898f8210b54513b9f9c8a927c3e8d7f http://www.pyrosetta.org 2018-03-14T13:19:04\n",
      "\u001b[0mcore.init: \u001b[0mcommand: PyRosetta -ex1 -ex2aro -database /usr/local/lib/python2.7/dist-packages/pyrosetta-2018.11+release.7c7790f-py2.7-linux-x86_64.egg/pyrosetta/database\n",
      "\u001b[0mcore.init: \u001b[0m'RNG device' seed mode, using '/dev/urandom', seed=-1677259327 seed_offset=0 real_seed=-1677259327\n",
      "\u001b[0mcore.init.random: \u001b[0mRandomGenerator:init: Normal mode, seed=-1677259327 RG_type=mt19937\n",
      "Found rosetta database at: /usr/local/lib/python2.7/dist-packages/pyrosetta-2018.11+release.7c7790f-py2.7-linux-x86_64.egg/pyrosetta/database; using it....\n",
      "PyRosetta-4 2017 [Rosetta PyRosetta4.Release.python27.ubuntu 2018.11+release.7c7790f7c7790fbb898f8210b54513b9f9c8a927c3e8d7f 2018-03-14T13:19:04] retrieved from: http://www.pyrosetta.org\n",
      "(C) Copyright Rosetta Commons Member Institutions.\n",
      "Created in JHU by Sergey Lyskov and PyRosetta Team.\n",
      "\n",
      "\u001b[0mcore.init: \u001b[0mChecking for fconfig files in pwd and ./rosetta/flags\n",
      "\n",
      "\u001b[0mcore.init: \u001b[0mRosetta version: PyRosetta4.Release.python27.ubuntu r173 2018.11+release.7c7790f 7c7790fbb898f8210b54513b9f9c8a927c3e8d7f http://www.pyrosetta.org 2018-03-14T13:19:04\n",
      "\u001b[0mcore.init: \u001b[0mcommand: PyRosetta -ex1 -ex2aro -database /usr/local/lib/python2.7/dist-packages/pyrosetta-2018.11+release.7c7790f-py2.7-linux-x86_64.egg/pyrosetta/database\n",
      "\u001b[0mcore.init: \u001b[0m'RNG device' seed mode, using '/dev/urandom', seed=1675452322 seed_offset=0 real_seed=1675452322\n",
      "\u001b[0mcore.init.random: \u001b[0mRandomGenerator:init: Normal mode, seed=1675452322 RG_type=mt19937\n",
      "Found rosetta database at: /usr/local/lib/python2.7/dist-packages/pyrosetta-2018.11+release.7c7790f-py2.7-linux-x86_64.egg/pyrosetta/database; using it....\n",
      "PyRosetta-4 2017 [Rosetta PyRosetta4.Release.python27.ubuntu 2018.11+release.7c7790f7c7790fbb898f8210b54513b9f9c8a927c3e8d7f 2018-03-14T13:19:04] retrieved from: http://www.pyrosetta.org\n",
      "(C) Copyright Rosetta Commons Member Institutions.\n",
      "Created in JHU by Sergey Lyskov and PyRosetta Team.\n",
      "\n",
      "\u001b[0mcore.init: \u001b[0mChecking for fconfig files in pwd and ./rosetta/flags\n",
      "\n",
      "\u001b[0mcore.init: \u001b[0mRosetta version: PyRosetta4.Release.python27.ubuntu r173 2018.11+release.7c7790f 7c7790fbb898f8210b54513b9f9c8a927c3e8d7f http://www.pyrosetta.org 2018-03-14T13:19:04\n",
      "\u001b[0mcore.init: \u001b[0mcommand: PyRosetta -ex1 -ex2aro -database /usr/local/lib/python2.7/dist-packages/pyrosetta-2018.11+release.7c7790f-py2.7-linux-x86_64.egg/pyrosetta/database\n",
      "\u001b[0mcore.init: \u001b[0m'RNG device' seed mode, using '/dev/urandom', seed=-446918061 seed_offset=0 real_seed=-446918061\n",
      "\u001b[0mcore.init.random: \u001b[0mRandomGenerator:init: Normal mode, seed=-446918061 RG_type=mt19937\n"
     ]
    }
   ],
   "source": [
    "import matplotlib as mpl\n",
    "import matplotlib.pyplot as plt\n",
    "from MiningMinima import *\n",
    "from recces.data import *"
   ]
  },
  {
   "cell_type": "code",
   "execution_count": 57,
   "metadata": {},
   "outputs": [
    {
     "name": "stdout",
     "output_type": "stream",
     "text": [
      "\u001b[0mcore.import_pose.import_pose: \u001b[0mFile 'S_0.pdb' automatically determined to be of type PDB\n",
      "{0: <pyrosetta.rosetta.core.id.TorsionID object at 0x7f2ca0270ea0>, 1: <pyrosetta.rosetta.core.id.TorsionID object at 0x7f2ca02708f0>, 2: <pyrosetta.rosetta.core.id.TorsionID object at 0x7f2ca0270fb8>, 3: <pyrosetta.rosetta.core.id.TorsionID object at 0x7f2cb0f18500>, 4: <pyrosetta.rosetta.core.id.TorsionID object at 0x7f2cb0f182d0>, 5: <pyrosetta.rosetta.core.id.TorsionID object at 0x7f2cb0f18180>, 6: <pyrosetta.rosetta.core.id.TorsionID object at 0x7f2cb0f181f0>, 7: <pyrosetta.rosetta.core.id.TorsionID object at 0x7f2cb0f18298>, 8: <pyrosetta.rosetta.core.id.TorsionID object at 0x7f2ca02dcce0>, 9: <pyrosetta.rosetta.core.id.TorsionID object at 0x7f2ca02dca08>, 10: <pyrosetta.rosetta.core.id.TorsionID object at 0x7f2ca02dc490>, 11: <pyrosetta.rosetta.core.id.TorsionID object at 0x7f2ca02dc458>, 12: <pyrosetta.rosetta.core.id.TorsionID object at 0x7f2ca02dc9d0>, 13: <pyrosetta.rosetta.core.id.TorsionID object at 0x7f2cb0eff9d0>}\n"
     ]
    }
   ],
   "source": [
    "fuck = MiningMinima(infile='S_0.pdb')"
   ]
  },
  {
   "cell_type": "code",
   "execution_count": 58,
   "metadata": {},
   "outputs": [],
   "source": [
    "pmm = PyMOLMover()\n",
    "pmm.keep_history(True)"
   ]
  },
  {
   "cell_type": "code",
   "execution_count": 59,
   "metadata": {},
   "outputs": [],
   "source": [
    "pmm.apply(fuck.input_pose)"
   ]
  },
  {
   "cell_type": "code",
   "execution_count": 60,
   "metadata": {},
   "outputs": [],
   "source": [
    "pmm.apply(fuck.min_pose)\n"
   ]
  },
  {
   "cell_type": "code",
   "execution_count": 87,
   "metadata": {},
   "outputs": [],
   "source": [
    "pose = Pose()\n",
    "pose.assign(fuck.min_pose)\n",
    "\n",
    "ensemble = fuck.harmonic_ensemble()\n",
    "for i in range(200):\n",
    "    \n",
    "    dofs = ensemble[i,:]\n",
    "    for key in fuck.dof_dict: pose.set_torsion(fuck.dof_dict[key], dofs[key]) \n",
    "    pmm.apply(pose)\n",
    "    "
   ]
  },
  {
   "cell_type": "code",
   "execution_count": 117,
   "metadata": {},
   "outputs": [
    {
     "name": "stdout",
     "output_type": "stream",
     "text": [
      "[-14. -13. -12. -11. -10.  -9.  -8.  -7.  -6.  -5.  -4.  -3.  -2.  -1.\n",
      "   0.   1.   2.   3.   4.   5.   6.   7.   8.   9.  10.  11.  12.  13.\n",
      "  14.]\n",
      "[-15. -14. -13. -12. -11. -10.  -9.  -8.  -7.  -6.  -5.  -4.  -3.  -2.\n",
      "  -1.   0.   1.   2.   3.   4.   5.   6.   7.   8.   9.  10.  11.  12.\n",
      "  13.  14.  15.  14.  13.  12.  11.  10.   9.   8.   7.   6.   5.   4.\n",
      "   3.   2.   1.   0.  -1.  -2.  -3.  -4.  -5.  -6.  -7.  -8.  -9. -10.\n",
      " -11. -12. -13. -14.]\n"
     ]
    }
   ],
   "source": [
    "shit = np.linspace(-15,15, 31)\n",
    "short = np.linspace(-14,14,29)\n",
    "print short\n",
    "shit = np.concatenate((shit, short[::-1]))\n",
    "print shit"
   ]
  },
  {
   "cell_type": "code",
   "execution_count": 118,
   "metadata": {},
   "outputs": [],
   "source": [
    "pose.assign(fuck.min_pose)\n",
    "pmm.apply(pose)\n",
    "\n",
    "mn_dofs = []\n"
   ]
  },
  {
   "cell_type": "code",
   "execution_count": 120,
   "metadata": {},
   "outputs": [],
   "source": [
    "pose.assign(fuck.min_pose)\n",
    "mode = fuck.modes[0,:]\n",
    "\n",
    "for x in shit:\n",
    "    \n",
    "    \n",
    "    for key in fuck.dof_dict: pose.set_torsion(fuck.dof_dict[key], fuck.min_pose.torsion(fuck.dof_dict[key])+mode[key]*x)\n",
    "    pmm.apply(pose)"
   ]
  },
  {
   "cell_type": "code",
   "execution_count": 108,
   "metadata": {},
   "outputs": [
    {
     "name": "stdout",
     "output_type": "stream",
     "text": [
      "[ 0.48057389 -0.32502746  0.10236699  0.10074031 -0.11122385  0.05265055\n",
      " -0.09994493  0.43726407  0.14290249 -0.02887599 -0.19539807  0.07670687\n",
      "  0.07441919 -0.5963129 ]\n",
      "FOLD_TREE  EDGE 1 2 -1  JEDGE 1 4 1  C4   C2   END  EDGE 4 3 -1 \n"
     ]
    }
   ],
   "source": [
    "print fuck.modes[0,:]\n",
    "\n",
    "print fuck2.input_pose.fold_tree()\n",
    "fuck.input_pose.fold_tree(fuck2.input_pose.fold_tree())"
   ]
  },
  {
   "cell_type": "code",
   "execution_count": 83,
   "metadata": {},
   "outputs": [
    {
     "data": {
      "text/plain": [
       "(-19.070800997532867, -19.52413189554006)"
      ]
     },
     "execution_count": 83,
     "metadata": {},
     "output_type": "execute_result"
    }
   ],
   "source": [
    "fuck2.input_pose.sequence()\n",
    "fuck2.anharmonic_free_energy, fuck2.harmonic_free_energy"
   ]
  },
  {
   "cell_type": "code",
   "execution_count": 84,
   "metadata": {},
   "outputs": [
    {
     "data": {
      "text/plain": [
       "(-9.107148210135943, -9.659337519389581)"
      ]
     },
     "execution_count": 84,
     "metadata": {},
     "output_type": "execute_result"
    }
   ],
   "source": [
    "fuck.anharmonic_free_energy, fuck.harmonic_free_energy"
   ]
  },
  {
   "cell_type": "code",
   "execution_count": 67,
   "metadata": {},
   "outputs": [
    {
     "data": {
      "text/plain": [
       "4"
      ]
     },
     "execution_count": 67,
     "metadata": {},
     "output_type": "execute_result"
    }
   ],
   "source": [
    "len(fuck.input_pose.sequence())"
   ]
  },
  {
   "cell_type": "code",
   "execution_count": 74,
   "metadata": {},
   "outputs": [
    {
     "name": "stdout",
     "output_type": "stream",
     "text": [
      "{0: <pyrosetta.rosetta.core.id.TorsionID object at 0x7f2ca0270c38>, 1: <pyrosetta.rosetta.core.id.TorsionID object at 0x7f2ca0270d88>, 2: <pyrosetta.rosetta.core.id.TorsionID object at 0x7f2ca0270dc0>, 3: <pyrosetta.rosetta.core.id.TorsionID object at 0x7f2ca0270df8>, 4: <pyrosetta.rosetta.core.id.TorsionID object at 0x7f2ca0270e30>, 5: <pyrosetta.rosetta.core.id.TorsionID object at 0x7f2ca0270110>, 6: <pyrosetta.rosetta.core.id.TorsionID object at 0x7f2ca0270bc8>, 7: <pyrosetta.rosetta.core.id.TorsionID object at 0x7f2ca0270c00>, 8: <pyrosetta.rosetta.core.id.TorsionID object at 0x7f2ca0270b58>, 9: <pyrosetta.rosetta.core.id.TorsionID object at 0x7f2ca0270b20>}\n",
      "{0: <pyrosetta.rosetta.core.id.TorsionID object at 0x7f2ca0270c38>, 1: <pyrosetta.rosetta.core.id.TorsionID object at 0x7f2ca0270d88>, 2: <pyrosetta.rosetta.core.id.TorsionID object at 0x7f2ca0270dc0>, 3: <pyrosetta.rosetta.core.id.TorsionID object at 0x7f2ca0270df8>, 4: <pyrosetta.rosetta.core.id.TorsionID object at 0x7f2ca0270e30>, 5: <pyrosetta.rosetta.core.id.TorsionID object at 0x7f2ca0270110>, 6: <pyrosetta.rosetta.core.id.TorsionID object at 0x7f2ca0270bc8>, 7: <pyrosetta.rosetta.core.id.TorsionID object at 0x7f2ca0270c00>, 8: <pyrosetta.rosetta.core.id.TorsionID object at 0x7f2ca0270b58>, 9: <pyrosetta.rosetta.core.id.TorsionID object at 0x7f2ca0270b20>, 10: <pyrosetta.rosetta.core.id.TorsionID object at 0x7f2c9dd5e110>, 11: <pyrosetta.rosetta.core.id.TorsionID object at 0x7f2c9dd5e228>, 12: <pyrosetta.rosetta.core.id.TorsionID object at 0x7f2c9dd5e148>, 13: <pyrosetta.rosetta.core.id.TorsionID object at 0x7f2c9dd5e1f0>}\n"
     ]
    }
   ],
   "source": [
    "fuck2 = MiningMinima(seq1 = 'aa', seq2='uu')"
   ]
  },
  {
   "cell_type": "code",
   "execution_count": null,
   "metadata": {},
   "outputs": [],
   "source": [
    "fuck2."
   ]
  }
 ],
 "metadata": {
  "kernelspec": {
   "display_name": "Python 2",
   "language": "python",
   "name": "python2"
  },
  "language_info": {
   "codemirror_mode": {
    "name": "ipython",
    "version": 2
   },
   "file_extension": ".py",
   "mimetype": "text/x-python",
   "name": "python",
   "nbconvert_exporter": "python",
   "pygments_lexer": "ipython2",
   "version": "2.7.12"
  }
 },
 "nbformat": 4,
 "nbformat_minor": 2
}
