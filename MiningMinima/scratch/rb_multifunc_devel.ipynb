{
 "cells": [
  {
   "cell_type": "code",
   "execution_count": 1,
   "metadata": {
    "scrolled": true
   },
   "outputs": [
    {
     "name": "stdout",
     "output_type": "stream",
     "text": [
      "PyRosetta-4 2019 [Rosetta PyRosetta4.Release.python27.ubuntu 2019.33+release.1e60c63beb532fd475f0f704d68d462b8af2a977 2019-08-09T15:19:57] retrieved from: http://www.pyrosetta.org\n",
      "(C) Copyright Rosetta Commons Member Institutions. Created in JHU by Sergey Lyskov and PyRosetta Team.\n",
      "\u001b[0mcore.init: \u001b[0mChecking for fconfig files in pwd and ./rosetta/flags\n",
      "\u001b[0mcore.init: \u001b[0mRosetta version: PyRosetta4.Release.python27.ubuntu r230 2019.33+release.1e60c63beb5 1e60c63beb532fd475f0f704d68d462b8af2a977 http://www.pyrosetta.org 2019-08-09T15:19:57\n",
      "\u001b[0mcore.init: \u001b[0mcommand: PyRosetta -ex1 -ex2aro -database /usr/local/lib/python2.7/dist-packages/pyrosetta-2019.33+release.1e60c63beb5-py2.7-linux-x86_64.egg/pyrosetta/database\n",
      "\u001b[0mbasic.random.init_random_generator: \u001b[0m'RNG device' seed mode, using '/dev/urandom', seed=-17297806 seed_offset=0 real_seed=-17297806\n",
      "\u001b[0mbasic.random.init_random_generator: \u001b[0mRandomGenerator:init: Normal mode, seed=-17297806 RG_type=mt19937\n"
     ]
    }
   ],
   "source": [
    "from pyrosetta import *\n",
    "from pyrosetta.rosetta import *\n",
    "from MiningMinima import *"
   ]
  },
  {
   "cell_type": "markdown",
   "metadata": {},
   "source": [
    "# Developing subroutines to integrate over rigid body dofs"
   ]
  },
  {
   "cell_type": "markdown",
   "metadata": {},
   "source": [
    "## Initialize stuff"
   ]
  },
  {
   "cell_type": "markdown",
   "metadata": {},
   "source": [
    "### What the fuck is the stub? Need to refresh memory of all this rb nonsense\n",
    "\n",
    "### kill me\n",
    "### kill me\n",
    "### kill me"
   ]
  },
  {
   "cell_type": "code",
   "execution_count": 61,
   "metadata": {},
   "outputs": [],
   "source": [
    "from pyrosetta.rosetta.core.id import *\n",
    "\n",
    "seq1, seq2 = 'g', 'c'\n",
    "min_pose = protocols.recces.pose_setup_turner(seq1, seq2)\n",
    "n_res = len(seq1) + len(seq2)\n",
    "\n",
    "start_res = min_pose.residue(1)\n",
    "end_res = min_pose.residue(n_res)\n",
    "\n",
    "# set fold tree using usual chi torsion atoms\n",
    "ft = FoldTree(n_res)\n",
    "ft.new_jump(1, n_res, n_res/2)\n",
    "ft.set_jump_atoms(1, min_pose.residue(1).atom_name(min_pose.residue(1).chi_atoms(1)[4]),\n",
    "   min_pose.residue(n_res).atom_name(min_pose.residue(n_res).chi_atoms(1)[4]))\n",
    "min_pose.fold_tree(ft)\n",
    "stored_upstream_stub = min_pose.conformation().upstream_jump_stub(1)\n",
    "\n",
    "# set jump dofs in movemap\n",
    "movemap = MoveMap()\n",
    "movemap.set_jump(1, True)\n",
    "active_jump = min_pose.jump(1)\n",
    "active_jump.set_rb_center(1, stored_upstream_stub, core.chemical.rna.get_rna_base_centroid(end_res))\n",
    "# get scorefxn\n",
    "scorefxn = core.scoring.ScoreFunctionFactory.create_score_function('stepwise/rna/turner_new')"
   ]
  },
  {
   "cell_type": "markdown",
   "metadata": {},
   "source": [
    "## Set up multifunc and minimize"
   ]
  },
  {
   "cell_type": "code",
   "execution_count": 62,
   "metadata": {},
   "outputs": [],
   "source": [
    "def array_to_vector1(dofs):\n",
    "    vector_of_dofs = Vector1(list(dofs))\n",
    "    return vector_of_dofs"
   ]
  },
  {
   "cell_type": "code",
   "execution_count": 63,
   "metadata": {},
   "outputs": [],
   "source": [
    "# taken from MiningMinima class\n",
    "def set_up_multifunc(pose, movemap, scorefxn):\n",
    "    min_map = core.optimization.MinimizerMap()\n",
    "    min_map.setup(pose, movemap)\n",
    "    start_score = scorefxn(pose)\n",
    "    pose.energies().set_use_nblist(pose, min_map.domain_map(), True)\n",
    "    multifunc = core.optimization.AtomTreeMultifunc(pose, min_map, scorefxn)\n",
    "    scorefxn.setup_for_minimizing(pose, min_map)\n",
    "    scorefxn.setup_for_derivatives(pose)\n",
    "  \n",
    "    return multifunc, min_map"
   ]
  },
  {
   "cell_type": "code",
   "execution_count": 64,
   "metadata": {},
   "outputs": [],
   "source": [
    "multifunc, min_map = set_up_multifunc(min_pose, movemap, scorefxn)\n",
    "min_dofs = Vector1([0.0]*min_map.nangles())\n",
    "min_map.copy_dofs_from_pose(min_pose,min_dofs)\n",
    "start_func_val = multifunc(min_dofs)\n",
    "theta = Vector1(list(min_dofs))\n",
    "dE_dtheta = Vector1(list(min_dofs))\n",
    "multifunc.dfunc(theta, dE_dtheta)"
   ]
  },
  {
   "cell_type": "code",
   "execution_count": 65,
   "metadata": {},
   "outputs": [],
   "source": [
    "min_options = core.optimization.MinimizerOptions(\n",
    "    'linmin_iterated', 1e-15, True, False, False)\n",
    "min_options.nblist_auto_update(True)\n",
    "min_options.max_iter(1000000000)\n",
    "minimizer = core.optimization.Minimizer(multifunc, min_options)"
   ]
  },
  {
   "cell_type": "code",
   "execution_count": 66,
   "metadata": {},
   "outputs": [],
   "source": [
    "min_dofs = Vector1(list(theta))\n",
    "minimizer.run(min_dofs)\n",
    "min_map.reset_jump_rb_deltas(min_pose, array_to_vector1(min_dofs))\n",
    "min_map.copy_dofs_to_pose(min_pose, min_dofs)\n"
   ]
  },
  {
   "cell_type": "code",
   "execution_count": 75,
   "metadata": {},
   "outputs": [],
   "source": [
    "pmm = PyMOLMover()\n",
    "pmm.keep_history(True)\n",
    "min_dofs = np.array(min_dofs)\n",
    "new_dofs = np.array(min_dofs)\n",
    "\n"
   ]
  },
  {
   "cell_type": "code",
   "execution_count": 76,
   "metadata": {},
   "outputs": [],
   "source": [
    "hessian = hessian_at_min(min_dofs, multifunc)\n",
    "for ii, do in enumerate(min_map.dof_nodes()):\n",
    "    hessian[ii] *= min_map.torsion_scale_factor(do)"
   ]
  },
  {
   "cell_type": "code",
   "execution_count": 77,
   "metadata": {},
   "outputs": [],
   "source": [
    "from numpy.linalg import eigh"
   ]
  },
  {
   "cell_type": "code",
   "execution_count": 78,
   "metadata": {},
   "outputs": [
    {
     "name": "stdout",
     "output_type": "stream",
     "text": [
      "[ -3.54114423e+01  -8.52583181e+00   7.24855315e-02   2.69381850e+01\n",
      "   1.29840819e+02   2.74357623e+02]\n"
     ]
    }
   ],
   "source": [
    "[eigenvalues, modes] = eigh(hessian)\n",
    "print eigenvalues"
   ]
  },
  {
   "cell_type": "code",
   "execution_count": 79,
   "metadata": {},
   "outputs": [],
   "source": [
    "pmm = PyMOLMover()\n",
    "pmm.keep_history(True)\n",
    "pmm.apply(min_pose)"
   ]
  },
  {
   "cell_type": "code",
   "execution_count": 80,
   "metadata": {},
   "outputs": [],
   "source": [
    "def mode_scan(min_dofs, multifunc, mode, limit=np.pi/3, dx=0.005):\n",
    "    # convert to np array for useful indexing\n",
    "    min_dofs = np.array(min_dofs)\n",
    "    displacement_array = np.linspace(-limit, limit, int(2*limit/dx)+1)\n",
    "    result = np.zeros_like(displacement_array)\n",
    "    \n",
    "    new_dofs = np.array(min_dofs)\n",
    "    for ii, displacement in enumerate(displacement_array):\n",
    "        new_dofs = min_dofs[:] + displacement*mode*180./np.pi # dofs are in degrees\n",
    "        min_map.copy_dofs_to_pose(min_pose, array_to_vector1(new_dofs))\n",
    "        pmm.apply(min_pose)\n",
    "        result[ii] = multifunc(array_to_vector1(new_dofs))\n",
    " \n",
    "    return result\n",
    " \n",
    "def compute_total_partition(min_dofs, multifunc, modes, eigenvalues, limit=np.pi/3, dx=0.005):\n",
    "    from scipy.special import erf\n",
    "    \n",
    "    total_log_partition = 0.\n",
    "    total_log_harmonic = 0.\n",
    "    scans = tuple()\n",
    "    xx = np.linspace(-limit, limit, int(2*limit/dx)+1)\n",
    "    min_energy = multifunc(array_to_vector1(min_dofs))\n",
    "\n",
    "    for ii, mode in enumerate(modes.T):      # columns of array are eigenvectors\n",
    "        result = mode_scan(min_dofs, multifunc, mode, limit=limit, dx=dx)\n",
    "        result -= min_energy                 # energy is relative to base of well\n",
    "        scans = scans + (result,)\n",
    "        total_log_partition += np.log(np.trapz(np.exp(-result),dx=dx))\n",
    "        total_log_harmonic += np.log(np.sqrt(2*np.pi/eigenvalues[ii]) # see Gilson et al. PNAS 2003\n",
    "            *erf(2*limit/np.sqrt(2/eigenvalues[ii])))\n",
    "\n",
    "    return total_log_partition, total_log_harmonic, scans"
   ]
  },
  {
   "cell_type": "code",
   "execution_count": 81,
   "metadata": {
    "scrolled": true
   },
   "outputs": [
    {
     "name": "stdout",
     "output_type": "stream",
     "text": [
      "nan\n"
     ]
    },
    {
     "name": "stderr",
     "output_type": "stream",
     "text": [
      "/home/maa/.local/lib/python2.7/site-packages/ipykernel_launcher.py:1: RuntimeWarning: invalid value encountered in log\n",
      "  \"\"\"Entry point for launching an IPython kernel.\n"
     ]
    }
   ],
   "source": [
    "print multifunc(array_to_vector1(min_dofs)) + 0.5*np.log(np.linalg.det(hessian)) - 3*np.log(2*np.pi) + np.log(8*np.pi**2) - np.log(6.022e-4) "
   ]
  },
  {
   "cell_type": "code",
   "execution_count": 82,
   "metadata": {
    "scrolled": true
   },
   "outputs": [
    {
     "name": "stderr",
     "output_type": "stream",
     "text": [
      "/home/maa/.local/lib/python2.7/site-packages/ipykernel_launcher.py:30: RuntimeWarning: invalid value encountered in sqrt\n",
      "/home/maa/.local/lib/python2.7/site-packages/ipykernel_launcher.py:31: RuntimeWarning: invalid value encountered in sqrt\n"
     ]
    }
   ],
   "source": [
    "total_partition, total_harmonic, mode_scans = compute_total_partition(min_dofs, multifunc, modes, eigenvalues, limit=np.pi/3)"
   ]
  },
  {
   "cell_type": "code",
   "execution_count": 83,
   "metadata": {},
   "outputs": [],
   "source": [
    "import matplotlib as mpl\n",
    "import matplotlib.pyplot as plt"
   ]
  },
  {
   "cell_type": "code",
   "execution_count": 84,
   "metadata": {
    "scrolled": false
   },
   "outputs": [
    {
     "data": {
      "text/plain": [
       "<matplotlib.legend.Legend at 0x7f3a407a0cd0>"
      ]
     },
     "execution_count": 84,
     "metadata": {},
     "output_type": "execute_result"
    },
    {
     "data": {
      "image/png": "[encoded data removed]",
      "text/plain": [
       "<matplotlib.figure.Figure at 0x7f3a436a9750>"
      ]
     },
     "metadata": {
      "needs_background": "light"
     },
     "output_type": "display_data"
    }
   ],
   "source": [
    "xx = np.linspace(-np.pi/3,np.pi/3,int(2*np.pi/3/0.005)+1)\n",
    "fig, ax = plt.subplots(ncols=3,nrows=2,figsize=(12,6))\n",
    "for ii, scan in enumerate(mode_scans):\n",
    "    #if eigenvalues[ii] < 0: continue\n",
    "    curr_ax = ax.flatten()[ii]\n",
    "    curr_ax.plot(xx,np.exp(-scan))\n",
    "    if eigenvalues[ii] < 0: continue\n",
    "    #curr_ax.plot(xx,np.exp(-naive_mode_scans[ii]))\n",
    "    curr_ax.plot(xx,np.exp(-eigenvalues[ii]*xx**2))\n",
    "\n",
    "# turn off unused subplots\n",
    "for jj in range(ii+1,6):\n",
    "    curr_ax = ax.flatten()[jj]\n",
    "    curr_ax.axis('off')\n",
    "    \n",
    "fig.legend(('scan','harmonic'),bbox_to_anchor=(1,1))"
   ]
  },
  {
   "cell_type": "markdown",
   "metadata": {},
   "source": [
    "## Expression for the dissociation constant in terms of molecular partition function "
   ]
  },
  {
   "cell_type": "markdown",
   "metadata": {},
   "source": [
    "The dissociation constant is given by \n",
    "\n",
    "$$ K_{\\text{d}} = \\frac{p_{\\text{unbound}}}{p_{\\text{bound}}} = \\frac{8\\pi^2V}{\\int_V e^{-\\beta E} dr}$$\n",
    "\n",
    "Denote the integral in the denominator as $Z$. \n",
    "And since $\\Delta G_{\\text{init}}$ is given by $kT \\ln K_{\\text{d}}$:\n",
    "\n",
    "$$\\Delta G_{\\text{init}} = -kT \\ln Z + kT \\ln 8\\pi ^2V $$\n",
    "\n",
    "N.B. The volume is defined in terms of the reference concentration: $V = \\frac{1}{C°} \\rightarrow kT \\ln 8\\pi^2V=kT\\ln 8\\pi^2 -kT\\ln{\\text{6.022e-4}}$"
   ]
  },
  {
   "cell_type": "code",
   "execution_count": 85,
   "metadata": {},
   "outputs": [
    {
     "data": {
      "text/plain": [
       "8.3360745709513075"
      ]
     },
     "execution_count": 85,
     "metadata": {},
     "output_type": "execute_result"
    }
   ],
   "source": [
    "multifunc(array_to_vector1(min_dofs)) - total_partition + np.log(8*np.pi**2) - np.log(6.022e-4)"
   ]
  },
  {
   "cell_type": "code",
   "execution_count": null,
   "metadata": {},
   "outputs": [],
   "source": []
  },
  {
   "cell_type": "code",
   "execution_count": null,
   "metadata": {},
   "outputs": [],
   "source": []
  },
  {
   "cell_type": "code",
   "execution_count": null,
   "metadata": {},
   "outputs": [],
   "source": []
  }
 ],
 "metadata": {
  "kernelspec": {
   "display_name": "Python 2",
   "language": "python",
   "name": "python2"
  },
  "language_info": {
   "codemirror_mode": {
    "name": "ipython",
    "version": 2
   },
   "file_extension": ".py",
   "mimetype": "text/x-python",
   "name": "python",
   "nbconvert_exporter": "python",
   "pygments_lexer": "ipython2",
   "version": "2.7.15+"
  }
 },
 "nbformat": 4,
 "nbformat_minor": 2
}
