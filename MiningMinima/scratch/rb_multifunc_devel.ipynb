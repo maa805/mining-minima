{
 "cells": [
  {
   "cell_type": "code",
   "execution_count": 246,
   "metadata": {
    "scrolled": true
   },
   "outputs": [],
   "source": [
    "from pyrosetta import *\n",
    "from pyrosetta.rosetta import *\n",
    "from MiningMinima import *"
   ]
  },
  {
   "cell_type": "markdown",
   "metadata": {},
   "source": [
    "# Developing subroutines to integrate over rigid body dofs"
   ]
  },
  {
   "cell_type": "markdown",
   "metadata": {},
   "source": [
    "## Initialize stuff"
   ]
  },
  {
   "cell_type": "code",
   "execution_count": 263,
   "metadata": {},
   "outputs": [],
   "source": [
    "seq1, seq2 = 'u',  'a'\n",
    "pose = protocols.recces.pose_setup_turner(seq1, seq2)\n",
    "n_res = len(seq1) + len(seq2)\n",
    "\n",
    "# set fold tree using usual chi torsion atoms\n",
    "ft = FoldTree(n_res)\n",
    "ft.new_jump(1, n_res, n_res/2)\n",
    "ft.set_jump_atoms(1, pose.residue(1).atom_name(pose.residue(1).chi_atoms(1)[4]),\n",
    "    pose.residue(n_res).atom_name(pose.residue(n_res).chi_atoms(1)[4]))\n",
    "pose.fold_tree(ft)\n",
    "\n",
    "# set jump dofs in movemap\n",
    "movemap = MoveMap()\n",
    "movemap.set_jump(1, True)\n",
    "active_jump = pose.jump(1)\n",
    "\n",
    "# get scorefxn\n",
    "scorefxn = core.scoring.ScoreFunctionFactory.create_score_function('stepwise/rna/turner')"
   ]
  },
  {
   "cell_type": "code",
   "execution_count": 264,
   "metadata": {},
   "outputs": [],
   "source": [
    "pmm = PyMOLMover()\n",
    "pmm.apply(pose)"
   ]
  },
  {
   "cell_type": "markdown",
   "metadata": {},
   "source": [
    "## Set up multifunc and minimize"
   ]
  },
  {
   "cell_type": "code",
   "execution_count": 265,
   "metadata": {},
   "outputs": [],
   "source": [
    "def array_to_vector1(dofs):\n",
    "    vector_of_dofs = Vector1(list(dofs))\n",
    "    return vector_of_dofs"
   ]
  },
  {
   "cell_type": "code",
   "execution_count": 266,
   "metadata": {},
   "outputs": [],
   "source": [
    "# taken from MiningMinima class\n",
    "def set_up_multifunc(pose, movemap, scorefxn):\n",
    "    # set up minimizer map\n",
    "    min_map = core.optimization.MinimizerMap()\n",
    "    min_map.setup(pose, movemap)\n",
    "\n",
    "    start_score = scorefxn(pose)\n",
    "    pose.energies().set_use_nblist(pose, min_map.domain_map(), True)\n",
    "    multifunc = core.optimization.AtomTreeMultifunc(pose, min_map, scorefxn)\n",
    "    scorefxn.setup_for_minimizing(pose, min_map)\n",
    "    scorefxn.setup_for_derivatives(pose)\n",
    "\n",
    "    min_map = min_map\n",
    "    multifunc = multifunc\n",
    "    \n",
    "    return multifunc, min_map"
   ]
  },
  {
   "cell_type": "code",
   "execution_count": 267,
   "metadata": {},
   "outputs": [],
   "source": [
    "multifunc, min_map = set_up_multifunc(pose, movemap, scorefxn)\n",
    "min_dofs = Vector1([0.0]*min_map.nangles())\n",
    "min_map.copy_dofs_from_pose(pose,min_dofs)\n",
    "start_func_val = multifunc(min_dofs)\n",
    "theta = Vector1(list(min_dofs))\n",
    "dE_dtheta = Vector1(list(min_dofs))\n",
    "multifunc.dfunc(theta,dE_dtheta)"
   ]
  },
  {
   "cell_type": "code",
   "execution_count": 268,
   "metadata": {},
   "outputs": [],
   "source": [
    "min_options = core.optimization.MinimizerOptions(\n",
    "    'lbfgs_armijo_nonmonotone', 1e-15, True, False, False)\n",
    "min_options.nblist_auto_update(True)\n",
    "minimizer = core.optimization.Minimizer(multifunc, min_options)"
   ]
  },
  {
   "cell_type": "code",
   "execution_count": 269,
   "metadata": {},
   "outputs": [],
   "source": [
    "min_dofs = Vector1(list(theta))\n",
    "minimizer.run(min_dofs)\n",
    "min_map.copy_dofs_to_pose(pose, min_dofs)\n",
    "pmm.apply(pose)"
   ]
  },
  {
   "cell_type": "code",
   "execution_count": 270,
   "metadata": {},
   "outputs": [],
   "source": [
    "pmm.keep_history(True)\n",
    "min_dofs = np.array(min_dofs)\n",
    "new_dofs = np.array(min_dofs)"
   ]
  },
  {
   "cell_type": "code",
   "execution_count": 271,
   "metadata": {},
   "outputs": [],
   "source": [
    "hessian = hessian_at_min(min_dofs, multifunc)"
   ]
  },
  {
   "cell_type": "code",
   "execution_count": 272,
   "metadata": {},
   "outputs": [],
   "source": [
    "from numpy.linalg import eigh"
   ]
  },
  {
   "cell_type": "code",
   "execution_count": 273,
   "metadata": {},
   "outputs": [],
   "source": [
    "[eigenvalues, modes] = eigh(hessian)"
   ]
  },
  {
   "cell_type": "code",
   "execution_count": 274,
   "metadata": {},
   "outputs": [
    {
     "name": "stdout",
     "output_type": "stream",
     "text": [
      "      6.234588052111575     0.08855427053947298    0.006925434051985979\n"
     ]
    }
   ],
   "source": [
    "print active_jump.get_translation()"
   ]
  },
  {
   "cell_type": "code",
   "execution_count": 275,
   "metadata": {},
   "outputs": [],
   "source": [
    "min_map.reset_jump_rb_deltas(pose, array_to_vector1(new_dofs))"
   ]
  },
  {
   "cell_type": "code",
   "execution_count": 276,
   "metadata": {},
   "outputs": [],
   "source": [
    "total_partition, total_harmonic, mode_scans = compute_total_partition(min_dofs, multifunc, modes, eigenvalues, limit=np.pi)"
   ]
  },
  {
   "cell_type": "code",
   "execution_count": 277,
   "metadata": {},
   "outputs": [
    {
     "name": "stdout",
     "output_type": "stream",
     "text": [
      "1.98059933864\n"
     ]
    }
   ],
   "source": [
    "print multifunc(array_to_vector1(min_dofs)) + 0.5*np.log(np.linalg.det(hessian)) - 3*np.log(2*np.pi)"
   ]
  },
  {
   "cell_type": "markdown",
   "metadata": {},
   "source": [
    "## Expression for the dissociation constant in terms of molecular partition function "
   ]
  },
  {
   "cell_type": "markdown",
   "metadata": {},
   "source": [
    "The dissociation constant is given by \n",
    "\n",
    "$$ K_{\\text{d}} = \\frac{P_{\\text{unbound}}}{P_{\\text{bound}}} = \\frac{8\\pi^2V}{\\int_V e^{-\\beta E} dr}$$\n",
    "\n",
    "Denote the integral in the denominator as $Z$. \n",
    "And since $\\Delta G_{\\text{init}}$ is given by $kT \\ln K_{\\text{d}}$:\n",
    "\n",
    "$$\\Delta G_{\\text{init}} = -kT \\ln Z + kT \\ln 8\\pi ^2V $$\n",
    "\n",
    "N.B. The volume is defined in terms of the reference concentration: $V = \\frac{1}{C°} \\rightarrow kT \\ln 8\\pi^2V=kT\\ln 8\\pi^2 -kT\\ln{\\text{6.022e-4}}$"
   ]
  },
  {
   "cell_type": "code",
   "execution_count": 278,
   "metadata": {},
   "outputs": [
    {
     "data": {
      "text/plain": [
       "7.7382854563610106"
      ]
     },
     "execution_count": 278,
     "metadata": {},
     "output_type": "execute_result"
    }
   ],
   "source": [
    "multifunc(array_to_vector1(min_dofs)) - total_partition + np.log(8*np.pi**2) - np.log(6.022e-4)"
   ]
  },
  {
   "cell_type": "code",
   "execution_count": null,
   "metadata": {},
   "outputs": [],
   "source": []
  }
 ],
 "metadata": {
  "kernelspec": {
   "display_name": "Python 2",
   "language": "python",
   "name": "python2"
  },
  "language_info": {
   "codemirror_mode": {
    "name": "ipython",
    "version": 2
   },
   "file_extension": ".py",
   "mimetype": "text/x-python",
   "name": "python",
   "nbconvert_exporter": "python",
   "pygments_lexer": "ipython2",
   "version": "2.7.15+"
  }
 },
 "nbformat": 4,
 "nbformat_minor": 2
}
