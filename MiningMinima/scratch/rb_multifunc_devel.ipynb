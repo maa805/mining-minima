{
 "cells": [
  {
   "cell_type": "code",
   "execution_count": 67,
   "metadata": {
    "scrolled": true
   },
   "outputs": [],
   "source": [
    "from pyrosetta import *\n",
    "from pyrosetta.rosetta import *\n",
    "from MiningMinima import *"
   ]
  },
  {
   "cell_type": "markdown",
   "metadata": {},
   "source": [
    "# Developing subroutines to integrate over rigid body dofs"
   ]
  },
  {
   "cell_type": "markdown",
   "metadata": {},
   "source": [
    "## Initialize stuff"
   ]
  },
  {
   "cell_type": "code",
   "execution_count": 107,
   "metadata": {},
   "outputs": [],
   "source": [
    "seq1, seq2 = 'g', 'c'\n",
    "pose = protocols.recces.pose_setup_turner(seq1, seq2)\n",
    "n_res = len(seq1) + len(seq2)\n",
    "\n",
    "# set fold tree using usual chi torsion atoms\n",
    "ft = FoldTree(n_res)\n",
    "ft.new_jump(1, n_res, n_res/2)\n",
    "ft.set_jump_atoms(1, pose.residue(1).atom_name(pose.residue(1).chi_atoms(1)[4]),\n",
    "    pose.residue(n_res).atom_name(pose.residue(n_res).chi_atoms(1)[4]))\n",
    "pose.fold_tree(ft)\n",
    "\n",
    "# set jump dofs in movemap\n",
    "movemap = MoveMap()\n",
    "movemap.set_jump(1, True)\n",
    "\n",
    "# get scorefxn\n",
    "scorefxn = core.scoring.ScoreFunctionFactory.create_score_function('stepwise/rna/turner_new')"
   ]
  },
  {
   "cell_type": "code",
   "execution_count": 108,
   "metadata": {},
   "outputs": [],
   "source": [
    "pmm = PyMOLMover()\n",
    "pmm.apply(pose)"
   ]
  },
  {
   "cell_type": "markdown",
   "metadata": {},
   "source": [
    "## Set up multifunc and minimize"
   ]
  },
  {
   "cell_type": "code",
   "execution_count": 140,
   "metadata": {},
   "outputs": [],
   "source": [
    "# taken from MiningMinima class\n",
    "def set_up_multifunc(pose, movemap, scorefxn):\n",
    "    # set up minimizer map\n",
    "    min_map = core.optimization.MinimizerMap()\n",
    "    min_map.setup(pose, movemap)\n",
    "\n",
    "    start_score = scorefxn(pose)\n",
    "    pose.energies().set_use_nblist(pose, min_map.domain_map(), True)\n",
    "    multifunc = core.optimization.AtomTreeMultifunc(pose, min_map, scorefxn)\n",
    "    scorefxn.setup_for_minimizing(pose, min_map)\n",
    "    scorefxn.setup_for_derivatives(pose)\n",
    "\n",
    "    min_map = min_map\n",
    "    multifunc = multifunc\n",
    "    \n",
    "    return multifunc, min_map"
   ]
  },
  {
   "cell_type": "code",
   "execution_count": 141,
   "metadata": {},
   "outputs": [],
   "source": [
    "multifunc, min_map = set_up_multifunc(pose, movemap, scorefxn)\n",
    "min_dofs = Vector1([0.0]*min_map.nangles())\n",
    "min_map.copy_dofs_from_pose(pose,min_dofs)\n",
    "start_func_val = multifunc(min_dofs)\n",
    "theta = Vector1(list(min_dofs))\n",
    "dE_dtheta = Vector1(list(min_dofs))\n",
    "multifunc.dfunc(theta,dE_dtheta)"
   ]
  },
  {
   "cell_type": "code",
   "execution_count": 168,
   "metadata": {},
   "outputs": [],
   "source": [
    "min_options = core.optimization.MinimizerOptions(\n",
    "    'lbfgs_armijo_nonmonotone', 1e-15, True, False, False)\n",
    "min_options.nblist_auto_update(True)\n",
    "minimizer = core.optimization.Minimizer(multifunc, min_options)"
   ]
  },
  {
   "cell_type": "code",
   "execution_count": 169,
   "metadata": {},
   "outputs": [
    {
     "name": "stdout",
     "output_type": "stream",
     "text": [
      "\u001b[0mcore.optimization.LineMinimizer: \u001b[0m\u001b[31m\u001b[1m[ ERROR ]\u001b[0m \u001b[31mInaccurate G! step= 3.72529e-09 Deriv= -1.67008e-08 Finite Diff= 0.0140457\u001b[0m\n"
     ]
    },
    {
     "data": {
      "text/plain": [
       "-13.371328465939765"
      ]
     },
     "execution_count": 169,
     "metadata": {},
     "output_type": "execute_result"
    }
   ],
   "source": [
    "min_dofs = Vector1(list(theta))\n",
    "minimizer.run(min_dofs)"
   ]
  },
  {
   "cell_type": "code",
   "execution_count": 170,
   "metadata": {},
   "outputs": [],
   "source": [
    "min_map.copy_dofs_to_pose(pose, min_dofs)\n",
    "pmm.apply(pose)"
   ]
  },
  {
   "cell_type": "code",
   "execution_count": 173,
   "metadata": {},
   "outputs": [
    {
     "name": "stdout",
     "output_type": "stream",
     "text": [
      "[  7.1598544   16.0415942   17.90825238   1.35448238   0.58155587\n",
      "  -1.64427993]\n"
     ]
    }
   ],
   "source": [
    "pmm.keep_history(True)\n",
    "min_dofs = np.array(min_dofs)\n",
    "new_dofs = np.array(min_dofs)\n",
    "print new_dofs"
   ]
  },
  {
   "cell_type": "code",
   "execution_count": 181,
   "metadata": {},
   "outputs": [],
   "source": [
    "new_dofs[0] += 10\n",
    "min_map.copy_dofs_to_pose(pose, Vector1(list(new_dofs)))\n",
    "pmm.apply(pose)"
   ]
  },
  {
   "cell_type": "code",
   "execution_count": 183,
   "metadata": {},
   "outputs": [
    {
     "name": "stdout",
     "output_type": "stream",
     "text": [
      "[ 37.1598544   16.0415942   17.90825238   1.35448238   0.58155587\n",
      "  -1.64427993]\n",
      "[  7.1598544   16.0415942   17.90825238   1.35448238   0.58155587\n",
      "  -1.64427993]\n"
     ]
    }
   ],
   "source": [
    "print new_dofs\n",
    "print min_dofs"
   ]
  },
  {
   "cell_type": "code",
   "execution_count": null,
   "metadata": {},
   "outputs": [],
   "source": []
  },
  {
   "cell_type": "code",
   "execution_count": null,
   "metadata": {},
   "outputs": [],
   "source": []
  }
 ],
 "metadata": {
  "kernelspec": {
   "display_name": "Python 2",
   "language": "python",
   "name": "python2"
  },
  "language_info": {
   "codemirror_mode": {
    "name": "ipython",
    "version": 2
   },
   "file_extension": ".py",
   "mimetype": "text/x-python",
   "name": "python",
   "nbconvert_exporter": "python",
   "pygments_lexer": "ipython2",
   "version": "2.7.15+"
  }
 },
 "nbformat": 4,
 "nbformat_minor": 2
}
