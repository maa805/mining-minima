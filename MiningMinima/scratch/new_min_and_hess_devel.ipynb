{
 "cells": [
  {
   "cell_type": "code",
   "execution_count": 75,
   "metadata": {
    "scrolled": true
   },
   "outputs": [],
   "source": [
    "import matplotlib as mpl\n",
    "import matplotlib.pyplot as plt\n",
    "from MiningMinima import *"
   ]
  },
  {
   "cell_type": "markdown",
   "metadata": {},
   "source": [
    "# Developing subroutine to extract function derivative evaluations"
   ]
  },
  {
   "cell_type": "code",
   "execution_count": 76,
   "metadata": {
    "scrolled": true
   },
   "outputs": [],
   "source": [
    "# use mm object to get stuff \n",
    "seq1, seq2 = 'gg', 'cc'\n",
    "mm_sim = MiningMinima(seq1,seq2)"
   ]
  },
  {
   "cell_type": "code",
   "execution_count": 77,
   "metadata": {},
   "outputs": [],
   "source": [
    "mm_sim.multifunc.dfunc(theta, dE_dtheta)"
   ]
  },
  {
   "cell_type": "code",
   "execution_count": 78,
   "metadata": {},
   "outputs": [
    {
     "name": "stdout",
     "output_type": "stream",
     "text": [
      "vector1_double[0.0789342, -0.105804, 0.884873, 0.557242, 2.73597, 0.376245, 0.573104, 0.711411, -2.00864, 2.52009, 1.04075, 2.19686, 1.91306, 0.225052]\n"
     ]
    }
   ],
   "source": [
    "print dE_dtheta"
   ]
  },
  {
   "cell_type": "code",
   "execution_count": 79,
   "metadata": {},
   "outputs": [
    {
     "name": "stdout",
     "output_type": "stream",
     "text": [
      "\u001b[0mcore.optimization.LineMinimizer: \u001b[0m\u001b[31m\u001b[1m[ ERROR ]\u001b[0m \u001b[31mInaccurate G! step= 3.8147e-06 Deriv= -0.00165123 Finite Diff= 0.000842093\u001b[0m\n",
      "\u001b[0mcore.optimization.LineMinimizer: \u001b[0m\u001b[31m\u001b[1m[ ERROR ]\u001b[0m \u001b[31mInaccurate G! step= 3.8147e-06 Deriv= -0.000950802 Finite Diff= 0.000551747\u001b[0m\n",
      "\u001b[0mcore.optimization.LineMinimizer: \u001b[0m\u001b[31m\u001b[1m[ ERROR ]\u001b[0m \u001b[31mInaccurate G! step= 3.8147e-08 Deriv= -0.00171508 Finite Diff= 0.00283821\u001b[0m\n",
      "\u001b[0mcore.optimization.LineMinimizer: \u001b[0m\u001b[31m\u001b[1m[ ERROR ]\u001b[0m \u001b[31mInaccurate G! step= 3.8147e-08 Deriv= -0.00171508 Finite Diff= 0.00283821\u001b[0m\n",
      "\u001b[0mcore.optimization.LineMinimizer: \u001b[0m\u001b[31m\u001b[1m[ ERROR ]\u001b[0m \u001b[31mInaccurate G! step= 3.8147e-08 Deriv= -0.00171508 Finite Diff= 0.00283821\u001b[0m\n",
      "\u001b[0mcore.optimization.LineMinimizer: \u001b[0m\u001b[31m\u001b[1m[ ERROR ]\u001b[0m \u001b[31mInaccurate G! step= 3.8147e-08 Deriv= -0.00171508 Finite Diff= 0.00283821\u001b[0m\n",
      "\u001b[0mcore.optimization.LineMinimizer: \u001b[0m\u001b[31m\u001b[1m[ ERROR ]\u001b[0m \u001b[31mInaccurate G! step= 3.8147e-08 Deriv= -0.00171508 Finite Diff= 0.00283821\u001b[0m\n",
      "\u001b[0mcore.optimization.LineMinimizer: \u001b[0m\u001b[31m\u001b[1m[ ERROR ]\u001b[0m \u001b[31mInaccurate G! step= 3.8147e-08 Deriv= -0.00171508 Finite Diff= 0.00283821\u001b[0m\n",
      "\u001b[0mcore.optimization.LineMinimizer: \u001b[0m\u001b[31m\u001b[1m[ ERROR ]\u001b[0m \u001b[31mInaccurate G! step= 3.8147e-08 Deriv= -0.00171508 Finite Diff= 0.00283821\u001b[0m\n",
      "\u001b[0mcore.optimization.LineMinimizer: \u001b[0m\u001b[31m\u001b[1m[ ERROR ]\u001b[0m \u001b[31mInaccurate G! step= 3.8147e-08 Deriv= -0.00171508 Finite Diff= 0.00283821\u001b[0m\n",
      "vector1_double[0.0789342, -0.105804, 0.884873, 0.557242, 2.73597, 0.376245, 0.573104, 0.711411, -2.00864, 2.52009, 1.04075, 2.19686, 1.91306, 0.225052]\n"
     ]
    }
   ],
   "source": [
    "# get pose and scorefxn \n",
    "pose = protocols.recces.pose_setup_turner(seq1=seq1,seq2=seq2)\n",
    "scorefxn = core.scoring.ScoreFunctionFactory.create_score_function('stepwise/rna/turner')\n",
    "\n",
    "# set up movemap -- for now just get from the MM object -- and min map\n",
    "movemap = MoveMap()\n",
    "movemap.assign(mm_sim.movemap)  \n",
    "min_map = core.optimization.MinimizerMap()\n",
    "min_map.setup(pose,movemap)\n",
    "\n",
    "# set up min options\n",
    "min_options = core.optimization.MinimizerOptions(\n",
    "    'lbfgs_armijo_nonmonotone',1e-15,True,False,False)\n",
    "\n",
    "# get scorefunction ready for minimization\n",
    "start_score = scorefxn(pose)\n",
    "pose.energies().set_use_nblist(pose,min_map.domain_map(),True)\n",
    "multifunc = core.optimization.AtomTreeMultifunc(pose,min_map,scorefxn)\n",
    "scorefxn.setup_for_minimizing(pose,min_map) # this is the key command\n",
    "scorefxn.setup_for_derivatives(pose)\n",
    "\n",
    "min_dofs = Vector1([0.0]*min_map.nangles())\n",
    "min_map.copy_dofs_from_pose(pose,dofs)\n",
    "start_func_val = multifunc(dofs)\n",
    "theta = Vector1(list(dofs))\n",
    "dE_dtheta = Vector1(list(dofs))\n",
    "multifunc.dfunc(theta,dE_dtheta)\n",
    "\n",
    "# set up minimizer and run\n",
    "minimizer = core.optimization.Minimizer(multifunc,min_options)\n",
    "for _ in range(10): minimizer.run(min_dofs)\n",
    "print dE_dtheta"
   ]
  },
  {
   "cell_type": "code",
   "execution_count": 80,
   "metadata": {},
   "outputs": [],
   "source": [
    "multifunc.dfunc(min_dofs, dE_dtheta)"
   ]
  },
  {
   "cell_type": "code",
   "execution_count": 81,
   "metadata": {},
   "outputs": [
    {
     "data": {
      "text/plain": [
       "vector1_double[-0.0072055, 0.0011113, -0.00637397, -0.000672916, 0.00512927, -0.00778806, 0.00515116, -0.00264715, 0.013912, -0.00632006, 0.00957629, 0.000986995, -0.0342373, -0.00140702]"
      ]
     },
     "execution_count": 81,
     "metadata": {},
     "output_type": "execute_result"
    }
   ],
   "source": [
    "dE_dtheta"
   ]
  },
  {
   "cell_type": "code",
   "execution_count": 90,
   "metadata": {},
   "outputs": [],
   "source": [
    "def hessian_at_min(min_dofs,multifunc,h=0.001):\n",
    "    min_dofs = np.array(min_dofs) # take advantage of indexing\n",
    "    n_dofs = len(min_dofs)\n",
    "    hessian = np.zeros((n_dofs,n_dofs))\n",
    "    plus = Vector1([0.0]*n_dofs)\n",
    "    minus = Vector1(list(plus))\n",
    "    \n",
    "    for ii in range(n_dofs):\n",
    "        new_dofs = min_dofs[:]\n",
    "        new_dofs[ii] += h\n",
    "        multifunc.dfunc(Vector1(list(new_dofs)),plus)\n",
    "        new_dofs[ii] -= 2.*h\n",
    "        multifunc.dfunc(Vector1(list(new_dofs)),minus)\n",
    "        row = (np.array(plus) - np.array(minus))/2./h\n",
    "        hessian[ii] = row\n",
    "    return hessian"
   ]
  },
  {
   "cell_type": "code",
   "execution_count": 91,
   "metadata": {},
   "outputs": [],
   "source": [
    "hessian = hessian_at_min(min_dofs,multifunc)"
   ]
  },
  {
   "cell_type": "code",
   "execution_count": 93,
   "metadata": {},
   "outputs": [
    {
     "name": "stdout",
     "output_type": "stream",
     "text": [
      "[-1.25760359e-03  0.00000000e+00  2.68996844e-02  4.28671908e-06\n",
      "  1.23075332e-02  7.84373086e-07  3.56395071e-02  2.32459884e-06\n",
      "  8.52037899e-04  5.28784098e-05  4.20220810e-02  3.61279833e-04\n",
      "  2.55349995e-02  5.99082385e-03]\n",
      "[-1.31568462e-03  0.00000000e+00  2.68996844e-02  4.28695604e-06\n",
      "  1.23079584e-02  7.84496839e-07  3.56367748e-02  2.32357515e-06\n",
      "  8.46981307e-04  5.29698109e-05  4.20093297e-02  3.61275996e-04\n",
      "  2.55322746e-02  5.99313046e-03]\n"
     ]
    }
   ],
   "source": [
    "print hessian[2]\n",
    "print hessian[:,2]"
   ]
  },
  {
   "cell_type": "code",
   "execution_count": 94,
   "metadata": {},
   "outputs": [],
   "source": [
    "import scipy"
   ]
  },
  {
   "cell_type": "code",
   "execution_count": 95,
   "metadata": {},
   "outputs": [
    {
     "data": {
      "text/plain": [
       "(array([-0.00374227, -0.00158845,  0.00078649,  0.00211434,  0.00241571,\n",
       "         0.00481307,  0.00567802,  0.01215556,  0.01809889,  0.035964  ,\n",
       "         0.04060072,  0.11866644,  0.21183975,  0.52283002]),\n",
       " array([[ 2.15602576e-01,  9.43348995e-01, -2.23078083e-01,\n",
       "          7.70828351e-03, -1.07012400e-02, -2.30940117e-02,\n",
       "          1.13959642e-01, -1.43249992e-03,  3.54396923e-03,\n",
       "         -7.91948954e-03, -1.63660034e-03, -2.62101321e-04,\n",
       "          7.53219129e-03, -3.67325330e-03],\n",
       "        [-7.43810089e-03, -5.55830787e-03, -8.53670017e-04,\n",
       "         -3.56342566e-01, -8.26523171e-01, -2.29614204e-01,\n",
       "         -3.78995071e-02, -4.09113291e-03,  1.35597549e-01,\n",
       "          1.03932629e-01,  1.99041160e-03,  3.26226962e-01,\n",
       "          5.14550348e-05,  4.25852518e-06],\n",
       "        [ 3.63776010e-01,  1.02505444e-01,  6.56256927e-01,\n",
       "         -2.12225539e-04, -1.80807954e-03,  2.24589546e-02,\n",
       "         -2.19044074e-01,  4.24958919e-01,  1.99530270e-02,\n",
       "         -2.38707450e-02,  3.16487468e-01,  6.38183266e-05,\n",
       "         -3.09696406e-01,  1.90857379e-02],\n",
       "        [ 1.26653053e-02, -1.00699893e-02, -1.24393325e-02,\n",
       "          6.56232541e-01, -1.25998574e-01,  1.23918274e-01,\n",
       "          8.98447348e-03,  2.05292295e-02, -3.22721173e-01,\n",
       "         -9.62049997e-02, -2.70075214e-03,  6.50996938e-01,\n",
       "          2.60918899e-04, -1.37188124e-04],\n",
       "        [-3.93935801e-02, -1.42720967e-01, -3.40565059e-01,\n",
       "         -7.86585248e-03, -8.93695501e-04, -7.01686091e-02,\n",
       "          5.91085268e-01,  6.73733037e-01,  3.60793823e-02,\n",
       "         -1.28482150e-02,  1.93541546e-01,  5.87868390e-04,\n",
       "         -1.15214542e-01, -4.01265930e-02],\n",
       "        [-1.05808963e-03,  3.34482529e-03,  1.21828521e-03,\n",
       "          2.74746681e-02, -4.26515391e-01,  7.86086875e-01,\n",
       "          9.47134439e-02,  1.02260792e-02, -2.08829301e-01,\n",
       "         -7.37561249e-02, -1.21216688e-03, -3.75841803e-01,\n",
       "         -1.18774228e-04,  1.36048310e-05],\n",
       "        [-5.37429832e-04, -2.62726634e-03, -3.45510557e-03,\n",
       "          3.24035404e-04, -3.17293459e-04, -4.82295392e-03,\n",
       "          4.49763119e-02,  5.96669996e-03,  2.06324613e-03,\n",
       "          1.37295780e-02, -6.46991608e-01,  2.20881163e-04,\n",
       "         -7.11530120e-01, -2.69875667e-01],\n",
       "        [-8.39160633e-03,  1.45853819e-02,  1.51081560e-02,\n",
       "         -6.50477540e-01,  3.12872042e-01,  3.39985862e-01,\n",
       "          5.93328479e-02, -4.41049472e-03, -2.36498390e-01,\n",
       "         -2.30636558e-01, -4.63721650e-03,  5.00202129e-01,\n",
       "          1.38549096e-04, -1.32998666e-04],\n",
       "        [-2.50986985e-01,  8.24697041e-02,  3.73776529e-01,\n",
       "          2.25683340e-02, -1.18183873e-02, -6.64564519e-02,\n",
       "          4.95541839e-01, -3.83585179e-01, -1.69794159e-02,\n",
       "          7.43202225e-03,  3.21497753e-01,  9.86665245e-05,\n",
       "         -6.30985801e-02, -5.33895906e-01],\n",
       "        [-6.35199319e-04, -5.40202308e-03, -2.90387568e-03,\n",
       "         -1.00851487e-01, -1.13451297e-01, -4.24035255e-01,\n",
       "         -4.56228729e-02,  3.13131829e-02, -7.94081400e-01,\n",
       "         -2.94216878e-01, -8.13162316e-03, -2.77230613e-01,\n",
       "         -3.29484777e-04, -1.32239995e-04],\n",
       "        [-1.75888656e-01, -1.40215159e-02, -4.35628903e-01,\n",
       "         -7.03603575e-03,  7.46335985e-03,  4.64608623e-02,\n",
       "         -3.52867123e-01, -1.77214062e-01, -1.13567210e-02,\n",
       "         -1.15543665e-02,  5.75527242e-01,  2.94008875e-04,\n",
       "         -5.37579417e-01, -2.06006487e-02],\n",
       "        [ 1.28374011e-02, -1.72671673e-02, -7.32056641e-03,\n",
       "          8.49378887e-02, -8.90379890e-02, -5.37911357e-02,\n",
       "          3.04711529e-03, -4.64925376e-02,  3.80419022e-01,\n",
       "         -9.12562030e-01, -1.81130401e-02, -3.81959326e-02,\n",
       "          7.20354345e-04, -1.13975569e-03],\n",
       "        [-2.96101591e-01,  8.46953158e-02,  2.26402185e-01,\n",
       "          1.66711082e-02, -7.63284446e-03, -4.47769120e-02,\n",
       "          3.33698315e-01, -1.82841519e-01, -6.31534471e-03,\n",
       "          3.91080306e-03,  2.01106580e-04,  5.26248543e-04,\n",
       "         -2.81839559e-01,  7.92008097e-01],\n",
       "        [ 7.98480110e-01, -2.53681733e-01, -1.49599143e-01,\n",
       "         -1.26203432e-02, -2.86902149e-03, -3.36831846e-02,\n",
       "          3.00163116e-01, -3.87012067e-01, -2.15745306e-02,\n",
       "          2.80401171e-02,  9.35716172e-02, -1.77290591e-03,\n",
       "         -1.09884358e-01,  1.11498066e-01]]))"
      ]
     },
     "execution_count": 95,
     "metadata": {},
     "output_type": "execute_result"
    }
   ],
   "source": [
    "scipy.linalg.eigh(hessian)"
   ]
  },
  {
   "cell_type": "markdown",
   "metadata": {},
   "source": [
    "# Developing subroutine to calculate hessian from derivative evaluations"
   ]
  },
  {
   "cell_type": "code",
   "execution_count": null,
   "metadata": {
    "scrolled": true
   },
   "outputs": [],
   "source": [
    "sims = ['aaa_uuu', 'aa_uu', 'cc_gg', 'ccc_ggg', 'cc_gg', 'gaa_uuc', 'gac_guc', 'gag_cuc', 'gau_auc', 'ga_uc', 'gcc_ggc', 'gcg_cgc', 'gga_ucc', 'gg_cc', 'ggc_gcc', 'ggg_ccc', 'ggu_acc', 'gu_ac', 'guc_gac', 'guu_aac']\n",
    "\n",
    "harmonic_E = []\n",
    "RECCES_E = []\n",
    "DOS_E = []\n",
    "\n",
    "E = np.linspace(-100,800,9001)\n",
    "\n",
    "for sim in sims:\n",
    "    \n",
    "    seqs = sim.split('_')\n",
    "    seq1 = seqs[0]\n",
    "    seq2 = seqs[1]\n",
    "    \n",
    "    fuck = MiningMinima(seq1, seq2)\n",
    "    \n",
    "    hist = SingleHistSimulation('./../../../recces_rosetta/results/'+sim+'/ST/')\n",
    "    \n",
    "    harmonic_E.append(fuck.harmonic_free_energy)\n",
    "    RECCES_E.append(hist.value)\n",
    "    DOS_E.append(-scipy.special.logsumexp(-E, b=fuck.dos(E)))"
   ]
  },
  {
   "cell_type": "code",
   "execution_count": null,
   "metadata": {},
   "outputs": [],
   "source": [
    "print RECCES_E\n",
    "print harmonic_E\n",
    "print DOS_E\n",
    "plt.scatter(RECCES_E, DOS_E)\n",
    "plt.plot([-45,-15],[-45,-15])"
   ]
  },
  {
   "cell_type": "code",
   "execution_count": null,
   "metadata": {},
   "outputs": [],
   "source": [
    "from recces.util import *\n",
    "from recces.data import *"
   ]
  },
  {
   "cell_type": "code",
   "execution_count": null,
   "metadata": {},
   "outputs": [],
   "source": [
    "sim = SingleHistSimulation('./../../../recces_rosetta/results/'+seq1+'_'+seq2+'/ST/')"
   ]
  },
  {
   "cell_type": "code",
   "execution_count": null,
   "metadata": {},
   "outputs": [],
   "source": [
    "print sim.value\n",
    "-np.log(np.trapz(sim._dos, dx=0.1))\n",
    "'guu_acc'.split('_')"
   ]
  },
  {
   "cell_type": "code",
   "execution_count": null,
   "metadata": {
    "scrolled": true
   },
   "outputs": [],
   "source": [
    "import matplotlib as mpl\n",
    "import matplotlib.pyplot as plt\n",
    "import scipy\n",
    "\n",
    "E = np.linspace(-100,100,2001)\n",
    "\n",
    "plt.plot(E, fuck.dos(E)*np.exp(-E))\n",
    "plt.plot(sim._dos_scores[:2000], sim._dos[:2000]*np.exp(-sim._dos_scores[:2000]))\n",
    "plt.xlabel('energy (REU)')\n",
    "plt.ylabel('$g(E)e^{-E/kT}$')\n",
    "plt.legend(('MM', 'RECCES'))\n",
    "print -scipy.special.logsumexp(-E, b=fuck.dos(E)), sim.value, fuck.harmonic_free_energy"
   ]
  },
  {
   "cell_type": "code",
   "execution_count": null,
   "metadata": {},
   "outputs": [],
   "source": [
    "print fuck.anharmonic_free_energy\n",
    "print fuck.harmonic_free_energy"
   ]
  },
  {
   "cell_type": "code",
   "execution_count": null,
   "metadata": {},
   "outputs": [],
   "source": [
    "\n",
    "print fuck.modes[:,0]\n",
    "pmm.apply(fuck.min_pose)"
   ]
  },
  {
   "cell_type": "code",
   "execution_count": null,
   "metadata": {},
   "outputs": [],
   "source": [
    "n_struct = 200\n",
    "\n",
    "ensemble = fuck.harmonic_ensemble(n_struct = n_struct)\n",
    "#print ensemble[2,:]-min_dofs\n",
    "#print np.sqrt(H)/np.sqrt((2*np.pi)**fuck.n_dofs)*np.exp(-np.dot(fuck.eigenvalues, ((min_dofs-ensemble[0,:])*np.pi/180)**2)/2)"
   ]
  },
  {
   "cell_type": "code",
   "execution_count": null,
   "metadata": {},
   "outputs": [],
   "source": [
    "pose = Pose()\n",
    "pose.assign(fuck.min_pose)\n",
    "\n",
    "hist_min = -100\n",
    "hist_max = 100\n",
    "delE = 0.1\n",
    "\n",
    "hist_scores = np.linspace(hist_min, hist_max, int((hist_max-hist_min)/delE)+1)\n",
    "\n",
    "hist = np.zeros_like(hist_scores)\n",
    "\n",
    "for i in range(n_struct):\n",
    "    \n",
    "    dofs = ensemble[i,:]\n",
    "    \n",
    "    for key in fuck.dof_dict: pose.set_torsion(fuck.dof_dict[key], dofs[key])\n",
    "        \n",
    "    energy = fuck.scorefxn(pose)\n",
    "    \n",
    "    if energy < hist_max+delE:\n",
    "             \n",
    "        hist_idx = math.floor((energy-hist_min)/delE)\n",
    "        hist_idx = int(hist_idx)\n",
    "        hist[hist_idx] += 1\n"
   ]
  },
  {
   "cell_type": "code",
   "execution_count": null,
   "metadata": {},
   "outputs": [],
   "source": [
    "shit = hist*np.exp(hist_scores)/np.sum(hist)\n",
    "shit = shit/np.sum(shit)\n",
    "print -scipy.special.logsumexp(-hist_scores, b = shit)\n",
    "plt.plot(hist_scores, shit*np.exp(-hist_scores)/torsion_volume(seq1, seq2))\n",
    "plt.plot(sim._dos_scores[:2000], sim._dos[:2000]*np.exp(-sim._dos_scores[:2000]))"
   ]
  },
  {
   "cell_type": "code",
   "execution_count": null,
   "metadata": {},
   "outputs": [],
   "source": [
    "pose = Pose()\n",
    "pose_new = Pose()\n",
    "pose.assign(fuck.min_pose)\n",
    "for key in fuck.dof_dict: pose.set_torsion(fuck.dof_dict[key],ensemble[0,:][key])\n",
    "\n",
    "pose_new.assign(pose)\n",
    "\n",
    "E_0 = fuck.scorefxn(fuck.min_pose)\n",
    "energy = E_0\n",
    "\n",
    "min_dofs = [fuck.min_pose.torsion(fuck.dof_dict[key]) for key in fuck.dof_dict]\n",
    "curr_dofs = min_dofs\n",
    "print min_dofs\n",
    "\n",
    "Z = 0\n",
    "H = np.product(fuck.eigenvalues)\n",
    "\n",
    "for j in range(1,n_struct):\n",
    "    \n",
    "    trial_move = ensemble[j, :]\n",
    "     \n",
    "    for key in fuck.dof_dict: pose_new.set_torsion(fuck.dof_dict[key], trial_move[key]) \n",
    "\n",
    "    energy_new = fuck.scorefxn(pose_new)\n",
    "    \n",
    "    if np.exp(-(energy_new-energy)) > np.random.random():\n",
    "        \n",
    "        energy = energy_new\n",
    "        pose.assign(pose_new)\n",
    "        curr_dofs = trial_move\n",
    "        \n",
    "    \n",
    "\n",
    "        #p = np.sqrt(H/(2*np.pi)**fuck.n_dofs)*np.exp(-np.dot(fuck.eigenvalues, ((trial_move-min_dofs)*(np.pi/180)**2)**2)/2)\n",
    "    if energy < hist_max+delE:\n",
    "             \n",
    "        hist_idx = math.floor((energy-hist_min)/delE)\n",
    "        hist_idx = int(hist_idx)\n",
    "        hist[hist_idx] += 1\n",
    "\n",
    "    "
   ]
  },
  {
   "cell_type": "code",
   "execution_count": null,
   "metadata": {},
   "outputs": [],
   "source": [
    "#plt.plot(hist_scores, hist)\n",
    "shit = hist/np.sum(hist)\n",
    "shit = shit*np.exp(hist_scores)\n",
    "shit = shit/np.sum(shit)\n",
    "#plt.plot(hist_scores, shit)\n",
    "plt.plot(hist_scores, hist/np.sum(hist))\n",
    "print -np.log(np.exp(-E_0)*(0.25)**fuck.n_dofs/0.35)\n"
   ]
  },
  {
   "cell_type": "code",
   "execution_count": null,
   "metadata": {
    "scrolled": true
   },
   "outputs": [],
   "source": [
    "print ensemble\n",
    "pmm = PyMOLMover()\n",
    "pmm.keep_history(True)\n",
    "print ensemble[1,:]"
   ]
  },
  {
   "cell_type": "code",
   "execution_count": null,
   "metadata": {},
   "outputs": [],
   "source": [
    "pose = Pose()\n",
    "pose.assign(fuck.min_pose)\n",
    "\n",
    "for i in range(200):\n",
    "    \n",
    "    dofs = ensemble[i,:]\n",
    "    for key in fuck.dof_dict: pose.set_torsion(fuck.dof_dict[key], dofs[key]) \n",
    "    pmm.apply(pose)\n",
    "    "
   ]
  },
  {
   "cell_type": "code",
   "execution_count": null,
   "metadata": {},
   "outputs": [],
   "source": [
    "print np.cov(ensemble)"
   ]
  },
  {
   "cell_type": "code",
   "execution_count": null,
   "metadata": {},
   "outputs": [],
   "source": [
    "w,v = np.linalg.eigh(np.cov(ensemble.T))\n",
    "print fuck.eigenvalues"
   ]
  },
  {
   "cell_type": "code",
   "execution_count": null,
   "metadata": {},
   "outputs": [],
   "source": [
    "print 1/w*180*180/np.pi/np.pi"
   ]
  },
  {
   "cell_type": "code",
   "execution_count": null,
   "metadata": {},
   "outputs": [],
   "source": [
    "\n",
    "print fuck.min_energy - 0.5*fuck.n_dofs*np.log(2*np.pi) + 0.5*np.log(np.prod(1/w))"
   ]
  },
  {
   "cell_type": "code",
   "execution_count": null,
   "metadata": {},
   "outputs": [],
   "source": [
    "print fuck.anharmonic_free_energy"
   ]
  },
  {
   "cell_type": "code",
   "execution_count": null,
   "metadata": {},
   "outputs": [],
   "source": [
    "print fuck.min_pose"
   ]
  },
  {
   "cell_type": "code",
   "execution_count": null,
   "metadata": {},
   "outputs": [],
   "source": [
    "mu = np.zeros(fuck.n_dofs)"
   ]
  },
  {
   "cell_type": "code",
   "execution_count": null,
   "metadata": {},
   "outputs": [],
   "source": [
    "print mu"
   ]
  },
  {
   "cell_type": "code",
   "execution_count": null,
   "metadata": {},
   "outputs": [],
   "source": [
    "mu = [fuck.min_pose.torsion(fuck.dof_dict[key]) for key in fuck.dof_dict]"
   ]
  },
  {
   "cell_type": "code",
   "execution_count": null,
   "metadata": {},
   "outputs": [],
   "source": [
    "print mu\n",
    "bitch = np.linalg.inv(fuck.hessian)"
   ]
  },
  {
   "cell_type": "code",
   "execution_count": null,
   "metadata": {},
   "outputs": [],
   "source": [
    "shit = np.random.multivariate_normal(mu, bitch, size=(2000))"
   ]
  },
  {
   "cell_type": "code",
   "execution_count": null,
   "metadata": {},
   "outputs": [],
   "source": [
    "print shit[0,:]"
   ]
  },
  {
   "cell_type": "code",
   "execution_count": null,
   "metadata": {},
   "outputs": [],
   "source": [
    "random_struct = np.zeros((fuck.n_dofs, 2000))\n",
    "\n",
    "for j in range(2000):\n",
    "    \n",
    "    random_struct[:,j] = np.random.multivariate_normal(mu, bitch)"
   ]
  },
  {
   "cell_type": "code",
   "execution_count": null,
   "metadata": {},
   "outputs": [],
   "source": [
    "print random_struct"
   ]
  },
  {
   "cell_type": "code",
   "execution_count": null,
   "metadata": {},
   "outputs": [],
   "source": [
    "print np.cov(random_struct)"
   ]
  },
  {
   "cell_type": "code",
   "execution_count": null,
   "metadata": {},
   "outputs": [],
   "source": [
    "w,v = np.linalg.eigh(np.cov(random_struct))"
   ]
  },
  {
   "cell_type": "code",
   "execution_count": null,
   "metadata": {},
   "outputs": [],
   "source": [
    "print 1/w\n"
   ]
  },
  {
   "cell_type": "code",
   "execution_count": null,
   "metadata": {},
   "outputs": [],
   "source": [
    "cu_ag = MiningMinima('cuc', 'gag')"
   ]
  },
  {
   "cell_type": "code",
   "execution_count": null,
   "metadata": {},
   "outputs": [],
   "source": [
    "cu_ag.harmonic_free_energy"
   ]
  },
  {
   "cell_type": "code",
   "execution_count": null,
   "metadata": {},
   "outputs": [],
   "source": [
    "ensemble = cu_ag.harmonic_ensemble()"
   ]
  },
  {
   "cell_type": "code",
   "execution_count": null,
   "metadata": {},
   "outputs": [],
   "source": [
    "cu_ag.eigenvalues"
   ]
  },
  {
   "cell_type": "code",
   "execution_count": null,
   "metadata": {},
   "outputs": [],
   "source": [
    "np.diag(1/cu_ag.eigenvalues)"
   ]
  },
  {
   "cell_type": "code",
   "execution_count": null,
   "metadata": {},
   "outputs": [],
   "source": [
    "np.matmul( np.matmul( cu_ag.modes, np.diag(1/cu_ag.eigenvalues)), cu_ag.modes.T)"
   ]
  },
  {
   "cell_type": "code",
   "execution_count": null,
   "metadata": {},
   "outputs": [],
   "source": [
    "np.linalg.inv(cu_ag.hessian)"
   ]
  }
 ],
 "metadata": {
  "kernelspec": {
   "display_name": "Python 2",
   "language": "python",
   "name": "python2"
  },
  "language_info": {
   "codemirror_mode": {
    "name": "ipython",
    "version": 2
   },
   "file_extension": ".py",
   "mimetype": "text/x-python",
   "name": "python",
   "nbconvert_exporter": "python",
   "pygments_lexer": "ipython2",
   "version": "2.7.15+"
  }
 },
 "nbformat": 4,
 "nbformat_minor": 2
}
