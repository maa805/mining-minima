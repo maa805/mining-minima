{
 "cells": [
  {
   "cell_type": "code",
   "execution_count": 1,
   "metadata": {
    "scrolled": true
   },
   "outputs": [
    {
     "name": "stdout",
     "output_type": "stream",
     "text": [
      "PyRosetta-4 2019 [Rosetta PyRosetta4.Release.python27.linux 2019.33+release.1e60c63beb532fd475f0f704d68d462b8af2a977 2019-08-09T15:19:57] retrieved from: http://www.pyrosetta.org\n",
      "(C) Copyright Rosetta Commons Member Institutions. Created in JHU by Sergey Lyskov and PyRosetta Team.\n",
      "\u001b[0mcore.init: \u001b[0mChecking for fconfig files in pwd and ./rosetta/flags\n",
      "\u001b[0mcore.init: \u001b[0mRosetta version: PyRosetta4.Release.python27.linux r230 2019.33+release.1e60c63 1e60c63beb532fd475f0f704d68d462b8af2a977 http://www.pyrosetta.org 2019-08-09T15:19:57\n",
      "\u001b[0mcore.init: \u001b[0mcommand: PyRosetta -ex1 -ex2aro -database /usr/local/lib/python2.7/dist-packages/pyrosetta-2019.33+release.1e60c63-py2.7-linux-x86_64.egg/pyrosetta/database\n",
      "\u001b[0mbasic.random.init_random_generator: \u001b[0m'RNG device' seed mode, using '/dev/urandom', seed=1727206943 seed_offset=0 real_seed=1727206943\n",
      "\u001b[0mbasic.random.init_random_generator: \u001b[0mRandomGenerator:init: Normal mode, seed=1727206943 RG_type=mt19937\n",
      "PyRosetta-4 2019 [Rosetta PyRosetta4.Release.python27.linux 2019.33+release.1e60c63beb532fd475f0f704d68d462b8af2a977 2019-08-09T15:19:57] retrieved from: http://www.pyrosetta.org\n",
      "(C) Copyright Rosetta Commons Member Institutions. Created in JHU by Sergey Lyskov and PyRosetta Team.\n",
      "\u001b[0mcore.init: \u001b[0mChecking for fconfig files in pwd and ./rosetta/flags\n",
      "\u001b[0mcore.init: \u001b[0mRosetta version: PyRosetta4.Release.python27.linux r230 2019.33+release.1e60c63 1e60c63beb532fd475f0f704d68d462b8af2a977 http://www.pyrosetta.org 2019-08-09T15:19:57\n",
      "\u001b[0mcore.init: \u001b[0mcommand: PyRosetta -ex1 -ex2aro -database /usr/local/lib/python2.7/dist-packages/pyrosetta-2019.33+release.1e60c63-py2.7-linux-x86_64.egg/pyrosetta/database\n",
      "\u001b[0mbasic.random.init_random_generator: \u001b[0m'RNG device' seed mode, using '/dev/urandom', seed=1821431767 seed_offset=0 real_seed=1821431767\n",
      "\u001b[0mbasic.random.init_random_generator: \u001b[0mRandomGenerator:init: Normal mode, seed=1821431767 RG_type=mt19937\n"
     ]
    }
   ],
   "source": [
    "import matplotlib as mpl\n",
    "import matplotlib.pyplot as plt\n",
    "from MiningMinima import *"
   ]
  },
  {
   "cell_type": "markdown",
   "metadata": {},
   "source": [
    "# Developing subroutine to extract function derivative evaluations"
   ]
  },
  {
   "cell_type": "code",
   "execution_count": 219,
   "metadata": {
    "scrolled": true
   },
   "outputs": [
    {
     "name": "stdout",
     "output_type": "stream",
     "text": [
      "True\n",
      "True\n",
      "\u001b[0mcore.scoring.methods.LK_PolarNonPolarEnergy: \u001b[0mlk_nonpolar eval_residue_pair_derivatives() appears off -- set your minimizer to use_nblist and *also* nblist_auto_update to use eval_atom_derivative instead.\n",
      "\u001b[0mcore.scoring.methods.LK_PolarNonPolarEnergy: \u001b[0mlk_nonpolar eval_residue_pair_derivatives() appears off -- set your minimizer to use_nblist and *also* nblist_auto_update to use eval_atom_derivative instead.\n",
      "\u001b[0mcore.scoring.methods.LK_PolarNonPolarEnergy: \u001b[0mlk_nonpolar eval_residue_pair_derivatives() appears off -- set your minimizer to use_nblist and *also* nblist_auto_update to use eval_atom_derivative instead.\n",
      "\u001b[0mcore.scoring.methods.LK_PolarNonPolarEnergy: \u001b[0mlk_nonpolar eval_residue_pair_derivatives() appears off -- set your minimizer to use_nblist and *also* nblist_auto_update to use eval_atom_derivative instead.\n",
      "\u001b[0mcore.scoring.methods.LK_PolarNonPolarEnergy: \u001b[0mlk_nonpolar eval_residue_pair_derivatives() appears off -- set your minimizer to use_nblist and *also* nblist_auto_update to use eval_atom_derivative instead.\n",
      "\u001b[0mcore.scoring.methods.LK_PolarNonPolarEnergy: \u001b[0mlk_nonpolar eval_residue_pair_derivatives() appears off -- set your minimizer to use_nblist and *also* nblist_auto_update to use eval_atom_derivative instead.\n",
      "\u001b[0mcore.scoring.methods.LK_PolarNonPolarEnergy: \u001b[0mlk_nonpolar eval_residue_pair_derivatives() appears off -- set your minimizer to use_nblist and *also* nblist_auto_update to use eval_atom_derivative instead.\n",
      "\u001b[0mcore.scoring.methods.LK_PolarNonPolarEnergy: \u001b[0mlk_nonpolar eval_residue_pair_derivatives() appears off -- set your minimizer to use_nblist and *also* nblist_auto_update to use eval_atom_derivative instead.\n",
      "\u001b[0mcore.scoring.methods.LK_PolarNonPolarEnergy: \u001b[0mlk_nonpolar eval_residue_pair_derivatives() appears off -- set your minimizer to use_nblist and *also* nblist_auto_update to use eval_atom_derivative instead.\n",
      "\u001b[0mcore.scoring.methods.LK_PolarNonPolarEnergy: \u001b[0mlk_nonpolar eval_residue_pair_derivatives() appears off -- set your minimizer to use_nblist and *also* nblist_auto_update to use eval_atom_derivative instead.\n",
      "\u001b[0mcore.scoring.methods.LK_PolarNonPolarEnergy: \u001b[0mlk_nonpolar eval_residue_pair_derivatives() appears off -- set your minimizer to use_nblist and *also* nblist_auto_update to use eval_atom_derivative instead.\n",
      "\u001b[0mcore.scoring.methods.LK_PolarNonPolarEnergy: \u001b[0mlk_nonpolar eval_residue_pair_derivatives() appears off -- set your minimizer to use_nblist and *also* nblist_auto_update to use eval_atom_derivative instead.\n",
      "\u001b[0mcore.scoring.methods.LK_PolarNonPolarEnergy: \u001b[0mlk_nonpolar eval_residue_pair_derivatives() appears off -- set your minimizer to use_nblist and *also* nblist_auto_update to use eval_atom_derivative instead.\n",
      "\u001b[0mcore.scoring.methods.LK_PolarNonPolarEnergy: \u001b[0mlk_nonpolar eval_residue_pair_derivatives() appears off -- set your minimizer to use_nblist and *also* nblist_auto_update to use eval_atom_derivative instead.\n",
      "\u001b[0mcore.scoring.methods.LK_PolarNonPolarEnergy: \u001b[0mlk_nonpolar eval_residue_pair_derivatives() appears off -- set your minimizer to use_nblist and *also* nblist_auto_update to use eval_atom_derivative instead.\n",
      "\u001b[0mcore.scoring.methods.LK_PolarNonPolarEnergy: \u001b[0mlk_nonpolar eval_residue_pair_derivatives() appears off -- set your minimizer to use_nblist and *also* nblist_auto_update to use eval_atom_derivative instead.\n",
      "\u001b[0mcore.scoring.methods.LK_PolarNonPolarEnergy: \u001b[0mlk_nonpolar eval_residue_pair_derivatives() appears off -- set your minimizer to use_nblist and *also* nblist_auto_update to use eval_atom_derivative instead.\n",
      "\u001b[0mcore.scoring.methods.LK_PolarNonPolarEnergy: \u001b[0mlk_nonpolar eval_residue_pair_derivatives() appears off -- set your minimizer to use_nblist and *also* nblist_auto_update to use eval_atom_derivative instead.\n",
      "\u001b[0mcore.scoring.methods.LK_PolarNonPolarEnergy: \u001b[0mlk_nonpolar eval_residue_pair_derivatives() appears off -- set your minimizer to use_nblist and *also* nblist_auto_update to use eval_atom_derivative instead.\n",
      "\u001b[0mcore.scoring.methods.LK_PolarNonPolarEnergy: \u001b[0mlk_nonpolar eval_residue_pair_derivatives() appears off -- set your minimizer to use_nblist and *also* nblist_auto_update to use eval_atom_derivative instead.\n",
      "\u001b[0mcore.scoring.methods.LK_PolarNonPolarEnergy: \u001b[0mlk_nonpolar eval_residue_pair_derivatives() appears off -- set your minimizer to use_nblist and *also* nblist_auto_update to use eval_atom_derivative instead.\n",
      "\u001b[0mcore.scoring.methods.LK_PolarNonPolarEnergy: \u001b[0mlk_nonpolar eval_residue_pair_derivatives() appears off -- set your minimizer to use_nblist and *also* nblist_auto_update to use eval_atom_derivative instead.\n",
      "\u001b[0mcore.scoring.methods.LK_PolarNonPolarEnergy: \u001b[0mlk_nonpolar eval_residue_pair_derivatives() appears off -- set your minimizer to use_nblist and *also* nblist_auto_update to use eval_atom_derivative instead.\n",
      "\u001b[0mcore.scoring.methods.LK_PolarNonPolarEnergy: \u001b[0mlk_nonpolar eval_residue_pair_derivatives() appears off -- set your minimizer to use_nblist and *also* nblist_auto_update to use eval_atom_derivative instead.\n",
      "\u001b[0mcore.scoring.methods.LK_PolarNonPolarEnergy: \u001b[0mlk_nonpolar eval_residue_pair_derivatives() appears off -- set your minimizer to use_nblist and *also* nblist_auto_update to use eval_atom_derivative instead.\n",
      "\u001b[0mcore.scoring.methods.LK_PolarNonPolarEnergy: \u001b[0mlk_nonpolar eval_residue_pair_derivatives() appears off -- set your minimizer to use_nblist and *also* nblist_auto_update to use eval_atom_derivative instead.\n",
      "\u001b[0mcore.scoring.methods.LK_PolarNonPolarEnergy: \u001b[0mlk_nonpolar eval_residue_pair_derivatives() appears off -- set your minimizer to use_nblist and *also* nblist_auto_update to use eval_atom_derivative instead.\n",
      "\u001b[0mcore.scoring.methods.LK_PolarNonPolarEnergy: \u001b[0mlk_nonpolar eval_residue_pair_derivatives() appears off -- set your minimizer to use_nblist and *also* nblist_auto_update to use eval_atom_derivative instead.\n",
      "\u001b[0mcore.scoring.methods.LK_PolarNonPolarEnergy: \u001b[0mlk_nonpolar eval_residue_pair_derivatives() appears off -- set your minimizer to use_nblist and *also* nblist_auto_update to use eval_atom_derivative instead.\n",
      "\u001b[0mcore.scoring.methods.LK_PolarNonPolarEnergy: \u001b[0mlk_nonpolar eval_residue_pair_derivatives() appears off -- set your minimizer to use_nblist and *also* nblist_auto_update to use eval_atom_derivative instead.\n",
      "\u001b[0mcore.scoring.methods.LK_PolarNonPolarEnergy: \u001b[0mlk_nonpolar eval_residue_pair_derivatives() appears off -- set your minimizer to use_nblist and *also* nblist_auto_update to use eval_atom_derivative instead.\n",
      "\u001b[0mcore.scoring.methods.LK_PolarNonPolarEnergy: \u001b[0mlk_nonpolar eval_residue_pair_derivatives() appears off -- set your minimizer to use_nblist and *also* nblist_auto_update to use eval_atom_derivative instead.\n",
      "\u001b[0mcore.scoring.methods.LK_PolarNonPolarEnergy: \u001b[0mlk_nonpolar eval_residue_pair_derivatives() appears off -- set your minimizer to use_nblist and *also* nblist_auto_update to use eval_atom_derivative instead.\n",
      "\u001b[0mcore.scoring.methods.LK_PolarNonPolarEnergy: \u001b[0mlk_nonpolar eval_residue_pair_derivatives() appears off -- set your minimizer to use_nblist and *also* nblist_auto_update to use eval_atom_derivative instead.\n",
      "\u001b[0mcore.scoring.methods.LK_PolarNonPolarEnergy: \u001b[0mlk_nonpolar eval_residue_pair_derivatives() appears off -- set your minimizer to use_nblist and *also* nblist_auto_update to use eval_atom_derivative instead.\n",
      "\u001b[0mcore.scoring.methods.LK_PolarNonPolarEnergy: \u001b[0mlk_nonpolar eval_residue_pair_derivatives() appears off -- set your minimizer to use_nblist and *also* nblist_auto_update to use eval_atom_derivative instead.\n",
      "\u001b[0mcore.scoring.methods.LK_PolarNonPolarEnergy: \u001b[0mlk_nonpolar eval_residue_pair_derivatives() appears off -- set your minimizer to use_nblist and *also* nblist_auto_update to use eval_atom_derivative instead.\n",
      "\u001b[0mcore.scoring.methods.LK_PolarNonPolarEnergy: \u001b[0mlk_nonpolar eval_residue_pair_derivatives() appears off -- set your minimizer to use_nblist and *also* nblist_auto_update to use eval_atom_derivative instead.\n",
      "\u001b[0mcore.scoring.methods.LK_PolarNonPolarEnergy: \u001b[0mlk_nonpolar eval_residue_pair_derivatives() appears off -- set your minimizer to use_nblist and *also* nblist_auto_update to use eval_atom_derivative instead.\n"
     ]
    },
    {
     "name": "stdout",
     "output_type": "stream",
     "text": [
      "\u001b[0mcore.scoring.methods.LK_PolarNonPolarEnergy: \u001b[0mlk_nonpolar eval_residue_pair_derivatives() appears off -- set your minimizer to use_nblist and *also* nblist_auto_update to use eval_atom_derivative instead.\n",
      "\u001b[0mcore.scoring.methods.LK_PolarNonPolarEnergy: \u001b[0mlk_nonpolar eval_residue_pair_derivatives() appears off -- set your minimizer to use_nblist and *also* nblist_auto_update to use eval_atom_derivative instead.\n",
      "\u001b[0mcore.scoring.methods.LK_PolarNonPolarEnergy: \u001b[0mlk_nonpolar eval_residue_pair_derivatives() appears off -- set your minimizer to use_nblist and *also* nblist_auto_update to use eval_atom_derivative instead.\n",
      "\u001b[0mcore.scoring.methods.LK_PolarNonPolarEnergy: \u001b[0mlk_nonpolar eval_residue_pair_derivatives() appears off -- set your minimizer to use_nblist and *also* nblist_auto_update to use eval_atom_derivative instead.\n",
      "\u001b[0mcore.scoring.methods.LK_PolarNonPolarEnergy: \u001b[0mlk_nonpolar eval_residue_pair_derivatives() appears off -- set your minimizer to use_nblist and *also* nblist_auto_update to use eval_atom_derivative instead.\n",
      "\u001b[0mcore.scoring.methods.LK_PolarNonPolarEnergy: \u001b[0mlk_nonpolar eval_residue_pair_derivatives() appears off -- set your minimizer to use_nblist and *also* nblist_auto_update to use eval_atom_derivative instead.\n",
      "\u001b[0mcore.scoring.methods.LK_PolarNonPolarEnergy: \u001b[0mlk_nonpolar eval_residue_pair_derivatives() appears off -- set your minimizer to use_nblist and *also* nblist_auto_update to use eval_atom_derivative instead.\n",
      "\u001b[0mcore.scoring.methods.LK_PolarNonPolarEnergy: \u001b[0mlk_nonpolar eval_residue_pair_derivatives() appears off -- set your minimizer to use_nblist and *also* nblist_auto_update to use eval_atom_derivative instead.\n",
      "\u001b[0mcore.scoring.methods.LK_PolarNonPolarEnergy: \u001b[0mlk_nonpolar eval_residue_pair_derivatives() appears off -- set your minimizer to use_nblist and *also* nblist_auto_update to use eval_atom_derivative instead.\n",
      "\u001b[0mcore.scoring.methods.LK_PolarNonPolarEnergy: \u001b[0mlk_nonpolar eval_residue_pair_derivatives() appears off -- set your minimizer to use_nblist and *also* nblist_auto_update to use eval_atom_derivative instead.\n",
      "\u001b[0mcore.scoring.methods.LK_PolarNonPolarEnergy: \u001b[0mlk_nonpolar eval_residue_pair_derivatives() appears off -- set your minimizer to use_nblist and *also* nblist_auto_update to use eval_atom_derivative instead.\n",
      "\u001b[0mcore.scoring.methods.LK_PolarNonPolarEnergy: \u001b[0mlk_nonpolar eval_residue_pair_derivatives() appears off -- set your minimizer to use_nblist and *also* nblist_auto_update to use eval_atom_derivative instead.\n",
      "\u001b[0mcore.scoring.methods.LK_PolarNonPolarEnergy: \u001b[0mlk_nonpolar eval_residue_pair_derivatives() appears off -- set your minimizer to use_nblist and *also* nblist_auto_update to use eval_atom_derivative instead.\n",
      "\u001b[0mcore.scoring.methods.LK_PolarNonPolarEnergy: \u001b[0mlk_nonpolar eval_residue_pair_derivatives() appears off -- set your minimizer to use_nblist and *also* nblist_auto_update to use eval_atom_derivative instead.\n",
      "\u001b[0mcore.scoring.methods.LK_PolarNonPolarEnergy: \u001b[0mlk_nonpolar eval_residue_pair_derivatives() appears off -- set your minimizer to use_nblist and *also* nblist_auto_update to use eval_atom_derivative instead.\n",
      "\u001b[0mcore.scoring.methods.LK_PolarNonPolarEnergy: \u001b[0mlk_nonpolar eval_residue_pair_derivatives() appears off -- set your minimizer to use_nblist and *also* nblist_auto_update to use eval_atom_derivative instead.\n",
      "\u001b[0mcore.scoring.methods.LK_PolarNonPolarEnergy: \u001b[0mlk_nonpolar eval_residue_pair_derivatives() appears off -- set your minimizer to use_nblist and *also* nblist_auto_update to use eval_atom_derivative instead.\n",
      "\u001b[0mcore.scoring.methods.LK_PolarNonPolarEnergy: \u001b[0mlk_nonpolar eval_residue_pair_derivatives() appears off -- set your minimizer to use_nblist and *also* nblist_auto_update to use eval_atom_derivative instead.\n",
      "\u001b[0mcore.scoring.methods.LK_PolarNonPolarEnergy: \u001b[0mlk_nonpolar eval_residue_pair_derivatives() appears off -- set your minimizer to use_nblist and *also* nblist_auto_update to use eval_atom_derivative instead.\n",
      "\u001b[0mcore.scoring.methods.LK_PolarNonPolarEnergy: \u001b[0mlk_nonpolar eval_residue_pair_derivatives() appears off -- set your minimizer to use_nblist and *also* nblist_auto_update to use eval_atom_derivative instead.\n",
      "\u001b[0mcore.scoring.methods.LK_PolarNonPolarEnergy: \u001b[0mlk_nonpolar eval_residue_pair_derivatives() appears off -- set your minimizer to use_nblist and *also* nblist_auto_update to use eval_atom_derivative instead.\n",
      "\u001b[0mcore.scoring.methods.LK_PolarNonPolarEnergy: \u001b[0mlk_nonpolar eval_residue_pair_derivatives() appears off -- set your minimizer to use_nblist and *also* nblist_auto_update to use eval_atom_derivative instead.\n",
      "\u001b[0mcore.scoring.methods.LK_PolarNonPolarEnergy: \u001b[0mlk_nonpolar eval_residue_pair_derivatives() appears off -- set your minimizer to use_nblist and *also* nblist_auto_update to use eval_atom_derivative instead.\n",
      "\u001b[0mcore.scoring.methods.LK_PolarNonPolarEnergy: \u001b[0mlk_nonpolar eval_residue_pair_derivatives() appears off -- set your minimizer to use_nblist and *also* nblist_auto_update to use eval_atom_derivative instead.\n",
      "\u001b[0mcore.scoring.methods.LK_PolarNonPolarEnergy: \u001b[0mlk_nonpolar eval_residue_pair_derivatives() appears off -- set your minimizer to use_nblist and *also* nblist_auto_update to use eval_atom_derivative instead.\n",
      "\u001b[0mcore.scoring.methods.LK_PolarNonPolarEnergy: \u001b[0mlk_nonpolar eval_residue_pair_derivatives() appears off -- set your minimizer to use_nblist and *also* nblist_auto_update to use eval_atom_derivative instead.\n",
      "\u001b[0mcore.scoring.methods.LK_PolarNonPolarEnergy: \u001b[0mlk_nonpolar eval_residue_pair_derivatives() appears off -- set your minimizer to use_nblist and *also* nblist_auto_update to use eval_atom_derivative instead.\n",
      "\u001b[0mcore.scoring.methods.LK_PolarNonPolarEnergy: \u001b[0mlk_nonpolar eval_residue_pair_derivatives() appears off -- set your minimizer to use_nblist and *also* nblist_auto_update to use eval_atom_derivative instead.\n",
      "\u001b[0mcore.scoring.methods.LK_PolarNonPolarEnergy: \u001b[0mlk_nonpolar eval_residue_pair_derivatives() appears off -- set your minimizer to use_nblist and *also* nblist_auto_update to use eval_atom_derivative instead.\n",
      "\u001b[0mcore.scoring.methods.LK_PolarNonPolarEnergy: \u001b[0mlk_nonpolar eval_residue_pair_derivatives() appears off -- set your minimizer to use_nblist and *also* nblist_auto_update to use eval_atom_derivative instead.\n",
      "\u001b[0mcore.scoring.methods.LK_PolarNonPolarEnergy: \u001b[0mlk_nonpolar eval_residue_pair_derivatives() appears off -- set your minimizer to use_nblist and *also* nblist_auto_update to use eval_atom_derivative instead.\n",
      "\u001b[0mcore.scoring.methods.LK_PolarNonPolarEnergy: \u001b[0mlk_nonpolar eval_residue_pair_derivatives() appears off -- set your minimizer to use_nblist and *also* nblist_auto_update to use eval_atom_derivative instead.\n",
      "\u001b[0mcore.scoring.methods.LK_PolarNonPolarEnergy: \u001b[0mlk_nonpolar eval_residue_pair_derivatives() appears off -- set your minimizer to use_nblist and *also* nblist_auto_update to use eval_atom_derivative instead.\n",
      "\u001b[0mcore.scoring.methods.LK_PolarNonPolarEnergy: \u001b[0mlk_nonpolar eval_residue_pair_derivatives() appears off -- set your minimizer to use_nblist and *also* nblist_auto_update to use eval_atom_derivative instead.\n",
      "\u001b[0mcore.scoring.methods.LK_PolarNonPolarEnergy: \u001b[0mlk_nonpolar eval_residue_pair_derivatives() appears off -- set your minimizer to use_nblist and *also* nblist_auto_update to use eval_atom_derivative instead.\n",
      "\u001b[0mcore.scoring.methods.LK_PolarNonPolarEnergy: \u001b[0mlk_nonpolar eval_residue_pair_derivatives() appears off -- set your minimizer to use_nblist and *also* nblist_auto_update to use eval_atom_derivative instead.\n",
      "\u001b[0mcore.scoring.methods.LK_PolarNonPolarEnergy: \u001b[0mlk_nonpolar eval_residue_pair_derivatives() appears off -- set your minimizer to use_nblist and *also* nblist_auto_update to use eval_atom_derivative instead.\n",
      "\u001b[0mcore.scoring.methods.LK_PolarNonPolarEnergy: \u001b[0mlk_nonpolar eval_residue_pair_derivatives() appears off -- set your minimizer to use_nblist and *also* nblist_auto_update to use eval_atom_derivative instead.\n",
      "\u001b[0mcore.scoring.methods.LK_PolarNonPolarEnergy: \u001b[0mlk_nonpolar eval_residue_pair_derivatives() appears off -- set your minimizer to use_nblist and *also* nblist_auto_update to use eval_atom_derivative instead.\n"
     ]
    },
    {
     "name": "stdout",
     "output_type": "stream",
     "text": [
      "\u001b[0mcore.scoring.methods.LK_PolarNonPolarEnergy: \u001b[0mlk_nonpolar eval_residue_pair_derivatives() appears off -- set your minimizer to use_nblist and *also* nblist_auto_update to use eval_atom_derivative instead.\n",
      "\u001b[0mcore.scoring.methods.LK_PolarNonPolarEnergy: \u001b[0mlk_nonpolar eval_residue_pair_derivatives() appears off -- set your minimizer to use_nblist and *also* nblist_auto_update to use eval_atom_derivative instead.\n",
      "\u001b[0mcore.scoring.methods.LK_PolarNonPolarEnergy: \u001b[0mlk_nonpolar eval_residue_pair_derivatives() appears off -- set your minimizer to use_nblist and *also* nblist_auto_update to use eval_atom_derivative instead.\n",
      "\u001b[0mcore.scoring.methods.LK_PolarNonPolarEnergy: \u001b[0mlk_nonpolar eval_residue_pair_derivatives() appears off -- set your minimizer to use_nblist and *also* nblist_auto_update to use eval_atom_derivative instead.\n",
      "\u001b[0mcore.scoring.methods.LK_PolarNonPolarEnergy: \u001b[0mlk_nonpolar eval_residue_pair_derivatives() appears off -- set your minimizer to use_nblist and *also* nblist_auto_update to use eval_atom_derivative instead.\n",
      "\u001b[0mcore.scoring.methods.LK_PolarNonPolarEnergy: \u001b[0mlk_nonpolar eval_residue_pair_derivatives() appears off -- set your minimizer to use_nblist and *also* nblist_auto_update to use eval_atom_derivative instead.\n",
      "\u001b[0mcore.scoring.methods.LK_PolarNonPolarEnergy: \u001b[0mlk_nonpolar eval_residue_pair_derivatives() appears off -- set your minimizer to use_nblist and *also* nblist_auto_update to use eval_atom_derivative instead.\n",
      "\u001b[0mcore.scoring.methods.LK_PolarNonPolarEnergy: \u001b[0mlk_nonpolar eval_residue_pair_derivatives() appears off -- set your minimizer to use_nblist and *also* nblist_auto_update to use eval_atom_derivative instead.\n",
      "\u001b[0mcore.scoring.methods.LK_PolarNonPolarEnergy: \u001b[0mlk_nonpolar eval_residue_pair_derivatives() appears off -- set your minimizer to use_nblist and *also* nblist_auto_update to use eval_atom_derivative instead.\n",
      "\u001b[0mcore.scoring.methods.LK_PolarNonPolarEnergy: \u001b[0mlk_nonpolar eval_residue_pair_derivatives() appears off -- set your minimizer to use_nblist and *also* nblist_auto_update to use eval_atom_derivative instead.\n",
      "\u001b[0mcore.scoring.methods.LK_PolarNonPolarEnergy: \u001b[0mlk_nonpolar eval_residue_pair_derivatives() appears off -- set your minimizer to use_nblist and *also* nblist_auto_update to use eval_atom_derivative instead.\n",
      "\u001b[0mcore.scoring.methods.LK_PolarNonPolarEnergy: \u001b[0mlk_nonpolar eval_residue_pair_derivatives() appears off -- set your minimizer to use_nblist and *also* nblist_auto_update to use eval_atom_derivative instead.\n",
      "\u001b[0mcore.scoring.methods.LK_PolarNonPolarEnergy: \u001b[0mlk_nonpolar eval_residue_pair_derivatives() appears off -- set your minimizer to use_nblist and *also* nblist_auto_update to use eval_atom_derivative instead.\n",
      "\u001b[0mcore.scoring.methods.LK_PolarNonPolarEnergy: \u001b[0mlk_nonpolar eval_residue_pair_derivatives() appears off -- set your minimizer to use_nblist and *also* nblist_auto_update to use eval_atom_derivative instead.\n",
      "\u001b[0mcore.scoring.methods.LK_PolarNonPolarEnergy: \u001b[0mlk_nonpolar eval_residue_pair_derivatives() appears off -- set your minimizer to use_nblist and *also* nblist_auto_update to use eval_atom_derivative instead.\n",
      "\u001b[0mcore.scoring.methods.LK_PolarNonPolarEnergy: \u001b[0mlk_nonpolar eval_residue_pair_derivatives() appears off -- set your minimizer to use_nblist and *also* nblist_auto_update to use eval_atom_derivative instead.\n",
      "\u001b[0mcore.scoring.methods.LK_PolarNonPolarEnergy: \u001b[0mlk_nonpolar eval_residue_pair_derivatives() appears off -- set your minimizer to use_nblist and *also* nblist_auto_update to use eval_atom_derivative instead.\n",
      "\u001b[0mcore.scoring.methods.LK_PolarNonPolarEnergy: \u001b[0mlk_nonpolar eval_residue_pair_derivatives() appears off -- set your minimizer to use_nblist and *also* nblist_auto_update to use eval_atom_derivative instead.\n",
      "\u001b[0mcore.scoring.methods.LK_PolarNonPolarEnergy: \u001b[0mlk_nonpolar eval_residue_pair_derivatives() appears off -- set your minimizer to use_nblist and *also* nblist_auto_update to use eval_atom_derivative instead.\n",
      "\u001b[0mcore.scoring.methods.LK_PolarNonPolarEnergy: \u001b[0mlk_nonpolar eval_residue_pair_derivatives() appears off -- set your minimizer to use_nblist and *also* nblist_auto_update to use eval_atom_derivative instead.\n",
      "\u001b[0mcore.scoring.methods.LK_PolarNonPolarEnergy: \u001b[0mlk_nonpolar eval_residue_pair_derivatives() appears off -- set your minimizer to use_nblist and *also* nblist_auto_update to use eval_atom_derivative instead.\n",
      "\u001b[0mcore.scoring.methods.LK_PolarNonPolarEnergy: \u001b[0mlk_nonpolar eval_residue_pair_derivatives() appears off -- set your minimizer to use_nblist and *also* nblist_auto_update to use eval_atom_derivative instead.\n",
      "\u001b[0mcore.scoring.methods.LK_PolarNonPolarEnergy: \u001b[0mlk_nonpolar eval_residue_pair_derivatives() appears off -- set your minimizer to use_nblist and *also* nblist_auto_update to use eval_atom_derivative instead.\n",
      "\u001b[0mcore.scoring.methods.LK_PolarNonPolarEnergy: \u001b[0mlk_nonpolar eval_residue_pair_derivatives() appears off -- set your minimizer to use_nblist and *also* nblist_auto_update to use eval_atom_derivative instead.\n",
      "\u001b[0mcore.scoring.methods.LK_PolarNonPolarEnergy: \u001b[0mlk_nonpolar eval_residue_pair_derivatives() appears off -- set your minimizer to use_nblist and *also* nblist_auto_update to use eval_atom_derivative instead.\n",
      "\u001b[0mcore.scoring.methods.LK_PolarNonPolarEnergy: \u001b[0mlk_nonpolar eval_residue_pair_derivatives() appears off -- set your minimizer to use_nblist and *also* nblist_auto_update to use eval_atom_derivative instead.\n",
      "\u001b[0mcore.scoring.methods.LK_PolarNonPolarEnergy: \u001b[0mlk_nonpolar eval_residue_pair_derivatives() appears off -- set your minimizer to use_nblist and *also* nblist_auto_update to use eval_atom_derivative instead.\n",
      "\u001b[0mcore.scoring.methods.LK_PolarNonPolarEnergy: \u001b[0mlk_nonpolar eval_residue_pair_derivatives() appears off -- set your minimizer to use_nblist and *also* nblist_auto_update to use eval_atom_derivative instead.\n",
      "\u001b[0mcore.scoring.methods.LK_PolarNonPolarEnergy: \u001b[0mlk_nonpolar eval_residue_pair_derivatives() appears off -- set your minimizer to use_nblist and *also* nblist_auto_update to use eval_atom_derivative instead.\n",
      "\u001b[0mcore.scoring.methods.LK_PolarNonPolarEnergy: \u001b[0mlk_nonpolar eval_residue_pair_derivatives() appears off -- set your minimizer to use_nblist and *also* nblist_auto_update to use eval_atom_derivative instead.\n",
      "\u001b[0mcore.scoring.methods.LK_PolarNonPolarEnergy: \u001b[0mlk_nonpolar eval_residue_pair_derivatives() appears off -- set your minimizer to use_nblist and *also* nblist_auto_update to use eval_atom_derivative instead.\n",
      "\u001b[0mcore.scoring.methods.LK_PolarNonPolarEnergy: \u001b[0mlk_nonpolar eval_residue_pair_derivatives() appears off -- set your minimizer to use_nblist and *also* nblist_auto_update to use eval_atom_derivative instead.\n",
      "\u001b[0mcore.scoring.methods.LK_PolarNonPolarEnergy: \u001b[0mlk_nonpolar eval_residue_pair_derivatives() appears off -- set your minimizer to use_nblist and *also* nblist_auto_update to use eval_atom_derivative instead.\n",
      "\u001b[0mcore.scoring.methods.LK_PolarNonPolarEnergy: \u001b[0mlk_nonpolar eval_residue_pair_derivatives() appears off -- set your minimizer to use_nblist and *also* nblist_auto_update to use eval_atom_derivative instead.\n",
      "\u001b[0mcore.scoring.methods.LK_PolarNonPolarEnergy: \u001b[0mlk_nonpolar eval_residue_pair_derivatives() appears off -- set your minimizer to use_nblist and *also* nblist_auto_update to use eval_atom_derivative instead.\n",
      "\u001b[0mcore.scoring.methods.LK_PolarNonPolarEnergy: \u001b[0mlk_nonpolar eval_residue_pair_derivatives() appears off -- set your minimizer to use_nblist and *also* nblist_auto_update to use eval_atom_derivative instead.\n",
      "\u001b[0mcore.scoring.methods.LK_PolarNonPolarEnergy: \u001b[0mlk_nonpolar eval_residue_pair_derivatives() appears off -- set your minimizer to use_nblist and *also* nblist_auto_update to use eval_atom_derivative instead.\n",
      "\u001b[0mcore.scoring.methods.LK_PolarNonPolarEnergy: \u001b[0mlk_nonpolar eval_residue_pair_derivatives() appears off -- set your minimizer to use_nblist and *also* nblist_auto_update to use eval_atom_derivative instead.\n",
      "\u001b[0mcore.scoring.methods.LK_PolarNonPolarEnergy: \u001b[0mlk_nonpolar eval_residue_pair_derivatives() appears off -- set your minimizer to use_nblist and *also* nblist_auto_update to use eval_atom_derivative instead.\n"
     ]
    },
    {
     "name": "stdout",
     "output_type": "stream",
     "text": [
      "\u001b[0mcore.scoring.methods.LK_PolarNonPolarEnergy: \u001b[0mlk_nonpolar eval_residue_pair_derivatives() appears off -- set your minimizer to use_nblist and *also* nblist_auto_update to use eval_atom_derivative instead.\n",
      "\u001b[0mcore.scoring.methods.LK_PolarNonPolarEnergy: \u001b[0mlk_nonpolar eval_residue_pair_derivatives() appears off -- set your minimizer to use_nblist and *also* nblist_auto_update to use eval_atom_derivative instead.\n",
      "\u001b[0mcore.scoring.methods.LK_PolarNonPolarEnergy: \u001b[0mlk_nonpolar eval_residue_pair_derivatives() appears off -- set your minimizer to use_nblist and *also* nblist_auto_update to use eval_atom_derivative instead.\n",
      "\u001b[0mcore.scoring.methods.LK_PolarNonPolarEnergy: \u001b[0mlk_nonpolar eval_residue_pair_derivatives() appears off -- set your minimizer to use_nblist and *also* nblist_auto_update to use eval_atom_derivative instead.\n",
      "\u001b[0mcore.scoring.methods.LK_PolarNonPolarEnergy: \u001b[0mlk_nonpolar eval_residue_pair_derivatives() appears off -- set your minimizer to use_nblist and *also* nblist_auto_update to use eval_atom_derivative instead.\n",
      "\u001b[0mcore.scoring.methods.LK_PolarNonPolarEnergy: \u001b[0mlk_nonpolar eval_residue_pair_derivatives() appears off -- set your minimizer to use_nblist and *also* nblist_auto_update to use eval_atom_derivative instead.\n",
      "\u001b[0mcore.scoring.methods.LK_PolarNonPolarEnergy: \u001b[0mlk_nonpolar eval_residue_pair_derivatives() appears off -- set your minimizer to use_nblist and *also* nblist_auto_update to use eval_atom_derivative instead.\n",
      "\u001b[0mcore.scoring.methods.LK_PolarNonPolarEnergy: \u001b[0mlk_nonpolar eval_residue_pair_derivatives() appears off -- set your minimizer to use_nblist and *also* nblist_auto_update to use eval_atom_derivative instead.\n",
      "\u001b[0mcore.scoring.methods.LK_PolarNonPolarEnergy: \u001b[0mlk_nonpolar eval_residue_pair_derivatives() appears off -- set your minimizer to use_nblist and *also* nblist_auto_update to use eval_atom_derivative instead.\n",
      "\u001b[0mcore.scoring.methods.LK_PolarNonPolarEnergy: \u001b[0mlk_nonpolar eval_residue_pair_derivatives() appears off -- set your minimizer to use_nblist and *also* nblist_auto_update to use eval_atom_derivative instead.\n",
      "\u001b[0mcore.scoring.methods.LK_PolarNonPolarEnergy: \u001b[0mlk_nonpolar eval_residue_pair_derivatives() appears off -- set your minimizer to use_nblist and *also* nblist_auto_update to use eval_atom_derivative instead.\n",
      "\u001b[0mcore.scoring.methods.LK_PolarNonPolarEnergy: \u001b[0mlk_nonpolar eval_residue_pair_derivatives() appears off -- set your minimizer to use_nblist and *also* nblist_auto_update to use eval_atom_derivative instead.\n",
      "\u001b[0mcore.scoring.methods.LK_PolarNonPolarEnergy: \u001b[0mlk_nonpolar eval_residue_pair_derivatives() appears off -- set your minimizer to use_nblist and *also* nblist_auto_update to use eval_atom_derivative instead.\n",
      "\u001b[0mcore.scoring.methods.LK_PolarNonPolarEnergy: \u001b[0mlk_nonpolar eval_residue_pair_derivatives() appears off -- set your minimizer to use_nblist and *also* nblist_auto_update to use eval_atom_derivative instead.\n",
      "\u001b[0mcore.scoring.methods.LK_PolarNonPolarEnergy: \u001b[0mlk_nonpolar eval_residue_pair_derivatives() appears off -- set your minimizer to use_nblist and *also* nblist_auto_update to use eval_atom_derivative instead.\n",
      "\u001b[0mcore.scoring.methods.LK_PolarNonPolarEnergy: \u001b[0mlk_nonpolar eval_residue_pair_derivatives() appears off -- set your minimizer to use_nblist and *also* nblist_auto_update to use eval_atom_derivative instead.\n",
      "\u001b[0mcore.scoring.methods.LK_PolarNonPolarEnergy: \u001b[0mlk_nonpolar eval_residue_pair_derivatives() appears off -- set your minimizer to use_nblist and *also* nblist_auto_update to use eval_atom_derivative instead.\n",
      "\u001b[0mcore.scoring.methods.LK_PolarNonPolarEnergy: \u001b[0mlk_nonpolar eval_residue_pair_derivatives() appears off -- set your minimizer to use_nblist and *also* nblist_auto_update to use eval_atom_derivative instead.\n",
      "\u001b[0mcore.scoring.methods.LK_PolarNonPolarEnergy: \u001b[0mlk_nonpolar eval_residue_pair_derivatives() appears off -- set your minimizer to use_nblist and *also* nblist_auto_update to use eval_atom_derivative instead.\n",
      "\u001b[0mcore.scoring.methods.LK_PolarNonPolarEnergy: \u001b[0mlk_nonpolar eval_residue_pair_derivatives() appears off -- set your minimizer to use_nblist and *also* nblist_auto_update to use eval_atom_derivative instead.\n",
      "\u001b[0mcore.scoring.methods.LK_PolarNonPolarEnergy: \u001b[0mlk_nonpolar eval_residue_pair_derivatives() appears off -- set your minimizer to use_nblist and *also* nblist_auto_update to use eval_atom_derivative instead.\n",
      "\u001b[0mcore.scoring.methods.LK_PolarNonPolarEnergy: \u001b[0mlk_nonpolar eval_residue_pair_derivatives() appears off -- set your minimizer to use_nblist and *also* nblist_auto_update to use eval_atom_derivative instead.\n",
      "\u001b[0mcore.scoring.methods.LK_PolarNonPolarEnergy: \u001b[0mlk_nonpolar eval_residue_pair_derivatives() appears off -- set your minimizer to use_nblist and *also* nblist_auto_update to use eval_atom_derivative instead.\n",
      "\u001b[0mcore.scoring.methods.LK_PolarNonPolarEnergy: \u001b[0mlk_nonpolar eval_residue_pair_derivatives() appears off -- set your minimizer to use_nblist and *also* nblist_auto_update to use eval_atom_derivative instead.\n",
      "\u001b[0mcore.scoring.methods.LK_PolarNonPolarEnergy: \u001b[0mlk_nonpolar eval_residue_pair_derivatives() appears off -- set your minimizer to use_nblist and *also* nblist_auto_update to use eval_atom_derivative instead.\n",
      "\u001b[0mcore.scoring.methods.LK_PolarNonPolarEnergy: \u001b[0mlk_nonpolar eval_residue_pair_derivatives() appears off -- set your minimizer to use_nblist and *also* nblist_auto_update to use eval_atom_derivative instead.\n",
      "\u001b[0mcore.scoring.methods.LK_PolarNonPolarEnergy: \u001b[0mlk_nonpolar eval_residue_pair_derivatives() appears off -- set your minimizer to use_nblist and *also* nblist_auto_update to use eval_atom_derivative instead.\n",
      "\u001b[0mcore.scoring.methods.LK_PolarNonPolarEnergy: \u001b[0mlk_nonpolar eval_residue_pair_derivatives() appears off -- set your minimizer to use_nblist and *also* nblist_auto_update to use eval_atom_derivative instead.\n",
      "\u001b[0mcore.scoring.methods.LK_PolarNonPolarEnergy: \u001b[0mlk_nonpolar eval_residue_pair_derivatives() appears off -- set your minimizer to use_nblist and *also* nblist_auto_update to use eval_atom_derivative instead.\n",
      "\u001b[0mcore.scoring.methods.LK_PolarNonPolarEnergy: \u001b[0mlk_nonpolar eval_residue_pair_derivatives() appears off -- set your minimizer to use_nblist and *also* nblist_auto_update to use eval_atom_derivative instead.\n",
      "\u001b[0mcore.scoring.methods.LK_PolarNonPolarEnergy: \u001b[0mlk_nonpolar eval_residue_pair_derivatives() appears off -- set your minimizer to use_nblist and *also* nblist_auto_update to use eval_atom_derivative instead.\n",
      "\u001b[0mcore.scoring.methods.LK_PolarNonPolarEnergy: \u001b[0mlk_nonpolar eval_residue_pair_derivatives() appears off -- set your minimizer to use_nblist and *also* nblist_auto_update to use eval_atom_derivative instead.\n",
      "\u001b[0mcore.scoring.methods.LK_PolarNonPolarEnergy: \u001b[0mlk_nonpolar eval_residue_pair_derivatives() appears off -- set your minimizer to use_nblist and *also* nblist_auto_update to use eval_atom_derivative instead.\n",
      "\u001b[0mcore.scoring.methods.LK_PolarNonPolarEnergy: \u001b[0mlk_nonpolar eval_residue_pair_derivatives() appears off -- set your minimizer to use_nblist and *also* nblist_auto_update to use eval_atom_derivative instead.\n",
      "\u001b[0mcore.scoring.methods.LK_PolarNonPolarEnergy: \u001b[0mlk_nonpolar eval_residue_pair_derivatives() appears off -- set your minimizer to use_nblist and *also* nblist_auto_update to use eval_atom_derivative instead.\n",
      "\u001b[0mcore.scoring.methods.LK_PolarNonPolarEnergy: \u001b[0mlk_nonpolar eval_residue_pair_derivatives() appears off -- set your minimizer to use_nblist and *also* nblist_auto_update to use eval_atom_derivative instead.\n",
      "\u001b[0mcore.scoring.methods.LK_PolarNonPolarEnergy: \u001b[0mlk_nonpolar eval_residue_pair_derivatives() appears off -- set your minimizer to use_nblist and *also* nblist_auto_update to use eval_atom_derivative instead.\n",
      "\u001b[0mcore.scoring.methods.LK_PolarNonPolarEnergy: \u001b[0mlk_nonpolar eval_residue_pair_derivatives() appears off -- set your minimizer to use_nblist and *also* nblist_auto_update to use eval_atom_derivative instead.\n",
      "\u001b[0mcore.scoring.methods.LK_PolarNonPolarEnergy: \u001b[0mlk_nonpolar eval_residue_pair_derivatives() appears off -- set your minimizer to use_nblist and *also* nblist_auto_update to use eval_atom_derivative instead.\n"
     ]
    },
    {
     "name": "stdout",
     "output_type": "stream",
     "text": [
      "\u001b[0mcore.optimization.LineMinimizer: \u001b[0m\u001b[31m\u001b[1m[ ERROR ]\u001b[0m \u001b[31mInaccurate G! step= 3.8147e-06 Deriv= -0.00288208 Finite Diff= 0.0101321\u001b[0m\n",
      "\u001b[0mcore.scoring.methods.LK_PolarNonPolarEnergy: \u001b[0mlk_nonpolar eval_residue_pair_derivatives() appears off -- set your minimizer to use_nblist and *also* nblist_auto_update to use eval_atom_derivative instead.\n",
      "\u001b[0mcore.scoring.methods.LK_PolarNonPolarEnergy: \u001b[0mlk_nonpolar eval_residue_pair_derivatives() appears off -- set your minimizer to use_nblist and *also* nblist_auto_update to use eval_atom_derivative instead.\n",
      "\u001b[0mcore.scoring.methods.LK_PolarNonPolarEnergy: \u001b[0mlk_nonpolar eval_residue_pair_derivatives() appears off -- set your minimizer to use_nblist and *also* nblist_auto_update to use eval_atom_derivative instead.\n",
      "\u001b[0mcore.scoring.methods.LK_PolarNonPolarEnergy: \u001b[0mlk_nonpolar eval_residue_pair_derivatives() appears off -- set your minimizer to use_nblist and *also* nblist_auto_update to use eval_atom_derivative instead.\n",
      "\u001b[0mcore.scoring.methods.LK_PolarNonPolarEnergy: \u001b[0mlk_nonpolar eval_residue_pair_derivatives() appears off -- set your minimizer to use_nblist and *also* nblist_auto_update to use eval_atom_derivative instead.\n",
      "\u001b[0mcore.scoring.methods.LK_PolarNonPolarEnergy: \u001b[0mlk_nonpolar eval_residue_pair_derivatives() appears off -- set your minimizer to use_nblist and *also* nblist_auto_update to use eval_atom_derivative instead.\n",
      "\u001b[0mcore.scoring.methods.LK_PolarNonPolarEnergy: \u001b[0mlk_nonpolar eval_residue_pair_derivatives() appears off -- set your minimizer to use_nblist and *also* nblist_auto_update to use eval_atom_derivative instead.\n",
      "\u001b[0mcore.scoring.methods.LK_PolarNonPolarEnergy: \u001b[0mlk_nonpolar eval_residue_pair_derivatives() appears off -- set your minimizer to use_nblist and *also* nblist_auto_update to use eval_atom_derivative instead.\n",
      "\u001b[0mcore.scoring.methods.LK_PolarNonPolarEnergy: \u001b[0mlk_nonpolar eval_residue_pair_derivatives() appears off -- set your minimizer to use_nblist and *also* nblist_auto_update to use eval_atom_derivative instead.\n",
      "\u001b[0mcore.scoring.methods.LK_PolarNonPolarEnergy: \u001b[0mlk_nonpolar eval_residue_pair_derivatives() appears off -- set your minimizer to use_nblist and *also* nblist_auto_update to use eval_atom_derivative instead.\n",
      "\u001b[0mcore.scoring.methods.LK_PolarNonPolarEnergy: \u001b[0mlk_nonpolar eval_residue_pair_derivatives() appears off -- set your minimizer to use_nblist and *also* nblist_auto_update to use eval_atom_derivative instead.\n",
      "\u001b[0mcore.scoring.methods.LK_PolarNonPolarEnergy: \u001b[0mlk_nonpolar eval_residue_pair_derivatives() appears off -- set your minimizer to use_nblist and *also* nblist_auto_update to use eval_atom_derivative instead.\n",
      "\u001b[0mcore.scoring.methods.LK_PolarNonPolarEnergy: \u001b[0mlk_nonpolar eval_residue_pair_derivatives() appears off -- set your minimizer to use_nblist and *also* nblist_auto_update to use eval_atom_derivative instead.\n",
      "\u001b[0mcore.scoring.methods.LK_PolarNonPolarEnergy: \u001b[0mlk_nonpolar eval_residue_pair_derivatives() appears off -- set your minimizer to use_nblist and *also* nblist_auto_update to use eval_atom_derivative instead.\n",
      "\u001b[0mcore.scoring.methods.LK_PolarNonPolarEnergy: \u001b[0mlk_nonpolar eval_residue_pair_derivatives() appears off -- set your minimizer to use_nblist and *also* nblist_auto_update to use eval_atom_derivative instead.\n",
      "\u001b[0mcore.scoring.methods.LK_PolarNonPolarEnergy: \u001b[0mlk_nonpolar eval_residue_pair_derivatives() appears off -- set your minimizer to use_nblist and *also* nblist_auto_update to use eval_atom_derivative instead.\n",
      "\u001b[0mcore.scoring.methods.LK_PolarNonPolarEnergy: \u001b[0mlk_nonpolar eval_residue_pair_derivatives() appears off -- set your minimizer to use_nblist and *also* nblist_auto_update to use eval_atom_derivative instead.\n",
      "\u001b[0mcore.scoring.methods.LK_PolarNonPolarEnergy: \u001b[0mlk_nonpolar eval_residue_pair_derivatives() appears off -- set your minimizer to use_nblist and *also* nblist_auto_update to use eval_atom_derivative instead.\n",
      "\u001b[0mcore.scoring.methods.LK_PolarNonPolarEnergy: \u001b[0mlk_nonpolar eval_residue_pair_derivatives() appears off -- set your minimizer to use_nblist and *also* nblist_auto_update to use eval_atom_derivative instead.\n",
      "\u001b[0mcore.scoring.methods.LK_PolarNonPolarEnergy: \u001b[0mlk_nonpolar eval_residue_pair_derivatives() appears off -- set your minimizer to use_nblist and *also* nblist_auto_update to use eval_atom_derivative instead.\n",
      "\u001b[0mcore.scoring.methods.LK_PolarNonPolarEnergy: \u001b[0mlk_nonpolar eval_residue_pair_derivatives() appears off -- set your minimizer to use_nblist and *also* nblist_auto_update to use eval_atom_derivative instead.\n",
      "\u001b[0mcore.scoring.methods.LK_PolarNonPolarEnergy: \u001b[0mlk_nonpolar eval_residue_pair_derivatives() appears off -- set your minimizer to use_nblist and *also* nblist_auto_update to use eval_atom_derivative instead.\n",
      "\u001b[0mcore.scoring.methods.LK_PolarNonPolarEnergy: \u001b[0mlk_nonpolar eval_residue_pair_derivatives() appears off -- set your minimizer to use_nblist and *also* nblist_auto_update to use eval_atom_derivative instead.\n",
      "\u001b[0mcore.scoring.methods.LK_PolarNonPolarEnergy: \u001b[0mlk_nonpolar eval_residue_pair_derivatives() appears off -- set your minimizer to use_nblist and *also* nblist_auto_update to use eval_atom_derivative instead.\n",
      "\u001b[0mcore.scoring.methods.LK_PolarNonPolarEnergy: \u001b[0mlk_nonpolar eval_residue_pair_derivatives() appears off -- set your minimizer to use_nblist and *also* nblist_auto_update to use eval_atom_derivative instead.\n",
      "\u001b[0mcore.scoring.methods.LK_PolarNonPolarEnergy: \u001b[0mlk_nonpolar eval_residue_pair_derivatives() appears off -- set your minimizer to use_nblist and *also* nblist_auto_update to use eval_atom_derivative instead.\n",
      "\u001b[0mcore.scoring.methods.LK_PolarNonPolarEnergy: \u001b[0mlk_nonpolar eval_residue_pair_derivatives() appears off -- set your minimizer to use_nblist and *also* nblist_auto_update to use eval_atom_derivative instead.\n",
      "\u001b[0mcore.scoring.methods.LK_PolarNonPolarEnergy: \u001b[0mlk_nonpolar eval_residue_pair_derivatives() appears off -- set your minimizer to use_nblist and *also* nblist_auto_update to use eval_atom_derivative instead.\n",
      "\u001b[0mcore.scoring.methods.LK_PolarNonPolarEnergy: \u001b[0mlk_nonpolar eval_residue_pair_derivatives() appears off -- set your minimizer to use_nblist and *also* nblist_auto_update to use eval_atom_derivative instead.\n",
      "\u001b[0mcore.scoring.methods.LK_PolarNonPolarEnergy: \u001b[0mlk_nonpolar eval_residue_pair_derivatives() appears off -- set your minimizer to use_nblist and *also* nblist_auto_update to use eval_atom_derivative instead.\n",
      "\u001b[0mcore.scoring.methods.LK_PolarNonPolarEnergy: \u001b[0mlk_nonpolar eval_residue_pair_derivatives() appears off -- set your minimizer to use_nblist and *also* nblist_auto_update to use eval_atom_derivative instead.\n",
      "\u001b[0mcore.scoring.methods.LK_PolarNonPolarEnergy: \u001b[0mlk_nonpolar eval_residue_pair_derivatives() appears off -- set your minimizer to use_nblist and *also* nblist_auto_update to use eval_atom_derivative instead.\n",
      "\u001b[0mcore.scoring.methods.LK_PolarNonPolarEnergy: \u001b[0mlk_nonpolar eval_residue_pair_derivatives() appears off -- set your minimizer to use_nblist and *also* nblist_auto_update to use eval_atom_derivative instead.\n",
      "\u001b[0mcore.scoring.methods.LK_PolarNonPolarEnergy: \u001b[0mlk_nonpolar eval_residue_pair_derivatives() appears off -- set your minimizer to use_nblist and *also* nblist_auto_update to use eval_atom_derivative instead.\n",
      "\u001b[0mcore.scoring.methods.LK_PolarNonPolarEnergy: \u001b[0mlk_nonpolar eval_residue_pair_derivatives() appears off -- set your minimizer to use_nblist and *also* nblist_auto_update to use eval_atom_derivative instead.\n",
      "\u001b[0mcore.scoring.methods.LK_PolarNonPolarEnergy: \u001b[0mlk_nonpolar eval_residue_pair_derivatives() appears off -- set your minimizer to use_nblist and *also* nblist_auto_update to use eval_atom_derivative instead.\n",
      "\u001b[0mcore.scoring.methods.LK_PolarNonPolarEnergy: \u001b[0mlk_nonpolar eval_residue_pair_derivatives() appears off -- set your minimizer to use_nblist and *also* nblist_auto_update to use eval_atom_derivative instead.\n",
      "\u001b[0mcore.scoring.methods.LK_PolarNonPolarEnergy: \u001b[0mlk_nonpolar eval_residue_pair_derivatives() appears off -- set your minimizer to use_nblist and *also* nblist_auto_update to use eval_atom_derivative instead.\n"
     ]
    },
    {
     "name": "stdout",
     "output_type": "stream",
     "text": [
      "\u001b[0mcore.scoring.methods.LK_PolarNonPolarEnergy: \u001b[0mlk_nonpolar eval_residue_pair_derivatives() appears off -- set your minimizer to use_nblist and *also* nblist_auto_update to use eval_atom_derivative instead.\n",
      "\u001b[0mcore.scoring.methods.LK_PolarNonPolarEnergy: \u001b[0mlk_nonpolar eval_residue_pair_derivatives() appears off -- set your minimizer to use_nblist and *also* nblist_auto_update to use eval_atom_derivative instead.\n",
      "\u001b[0mcore.scoring.methods.LK_PolarNonPolarEnergy: \u001b[0mlk_nonpolar eval_residue_pair_derivatives() appears off -- set your minimizer to use_nblist and *also* nblist_auto_update to use eval_atom_derivative instead.\n",
      "\u001b[0mcore.scoring.methods.LK_PolarNonPolarEnergy: \u001b[0mlk_nonpolar eval_residue_pair_derivatives() appears off -- set your minimizer to use_nblist and *also* nblist_auto_update to use eval_atom_derivative instead.\n",
      "\u001b[0mcore.scoring.methods.LK_PolarNonPolarEnergy: \u001b[0mlk_nonpolar eval_residue_pair_derivatives() appears off -- set your minimizer to use_nblist and *also* nblist_auto_update to use eval_atom_derivative instead.\n",
      "\u001b[0mcore.scoring.methods.LK_PolarNonPolarEnergy: \u001b[0mlk_nonpolar eval_residue_pair_derivatives() appears off -- set your minimizer to use_nblist and *also* nblist_auto_update to use eval_atom_derivative instead.\n",
      "\u001b[0mcore.scoring.methods.LK_PolarNonPolarEnergy: \u001b[0mlk_nonpolar eval_residue_pair_derivatives() appears off -- set your minimizer to use_nblist and *also* nblist_auto_update to use eval_atom_derivative instead.\n",
      "\u001b[0mcore.scoring.methods.LK_PolarNonPolarEnergy: \u001b[0mlk_nonpolar eval_residue_pair_derivatives() appears off -- set your minimizer to use_nblist and *also* nblist_auto_update to use eval_atom_derivative instead.\n",
      "\u001b[0mcore.scoring.methods.LK_PolarNonPolarEnergy: \u001b[0mlk_nonpolar eval_residue_pair_derivatives() appears off -- set your minimizer to use_nblist and *also* nblist_auto_update to use eval_atom_derivative instead.\n",
      "\u001b[0mcore.scoring.methods.LK_PolarNonPolarEnergy: \u001b[0mlk_nonpolar eval_residue_pair_derivatives() appears off -- set your minimizer to use_nblist and *also* nblist_auto_update to use eval_atom_derivative instead.\n",
      "\u001b[0mcore.scoring.methods.LK_PolarNonPolarEnergy: \u001b[0mlk_nonpolar eval_residue_pair_derivatives() appears off -- set your minimizer to use_nblist and *also* nblist_auto_update to use eval_atom_derivative instead.\n",
      "\u001b[0mcore.scoring.methods.LK_PolarNonPolarEnergy: \u001b[0mlk_nonpolar eval_residue_pair_derivatives() appears off -- set your minimizer to use_nblist and *also* nblist_auto_update to use eval_atom_derivative instead.\n",
      "\u001b[0mcore.scoring.methods.LK_PolarNonPolarEnergy: \u001b[0mlk_nonpolar eval_residue_pair_derivatives() appears off -- set your minimizer to use_nblist and *also* nblist_auto_update to use eval_atom_derivative instead.\n",
      "\u001b[0mcore.scoring.methods.LK_PolarNonPolarEnergy: \u001b[0mlk_nonpolar eval_residue_pair_derivatives() appears off -- set your minimizer to use_nblist and *also* nblist_auto_update to use eval_atom_derivative instead.\n",
      "\u001b[0mcore.scoring.methods.LK_PolarNonPolarEnergy: \u001b[0mlk_nonpolar eval_residue_pair_derivatives() appears off -- set your minimizer to use_nblist and *also* nblist_auto_update to use eval_atom_derivative instead.\n",
      "\u001b[0mcore.scoring.methods.LK_PolarNonPolarEnergy: \u001b[0mlk_nonpolar eval_residue_pair_derivatives() appears off -- set your minimizer to use_nblist and *also* nblist_auto_update to use eval_atom_derivative instead.\n",
      "\u001b[0mcore.scoring.methods.LK_PolarNonPolarEnergy: \u001b[0mlk_nonpolar eval_residue_pair_derivatives() appears off -- set your minimizer to use_nblist and *also* nblist_auto_update to use eval_atom_derivative instead.\n",
      "\u001b[0mcore.scoring.methods.LK_PolarNonPolarEnergy: \u001b[0mlk_nonpolar eval_residue_pair_derivatives() appears off -- set your minimizer to use_nblist and *also* nblist_auto_update to use eval_atom_derivative instead.\n",
      "\u001b[0mcore.scoring.methods.LK_PolarNonPolarEnergy: \u001b[0mlk_nonpolar eval_residue_pair_derivatives() appears off -- set your minimizer to use_nblist and *also* nblist_auto_update to use eval_atom_derivative instead.\n",
      "\u001b[0mcore.scoring.methods.LK_PolarNonPolarEnergy: \u001b[0mlk_nonpolar eval_residue_pair_derivatives() appears off -- set your minimizer to use_nblist and *also* nblist_auto_update to use eval_atom_derivative instead.\n",
      "\u001b[0mcore.scoring.methods.LK_PolarNonPolarEnergy: \u001b[0mlk_nonpolar eval_residue_pair_derivatives() appears off -- set your minimizer to use_nblist and *also* nblist_auto_update to use eval_atom_derivative instead.\n",
      "\u001b[0mcore.scoring.methods.LK_PolarNonPolarEnergy: \u001b[0mlk_nonpolar eval_residue_pair_derivatives() appears off -- set your minimizer to use_nblist and *also* nblist_auto_update to use eval_atom_derivative instead.\n",
      "\u001b[0mcore.scoring.methods.LK_PolarNonPolarEnergy: \u001b[0mlk_nonpolar eval_residue_pair_derivatives() appears off -- set your minimizer to use_nblist and *also* nblist_auto_update to use eval_atom_derivative instead.\n",
      "\u001b[0mcore.scoring.methods.LK_PolarNonPolarEnergy: \u001b[0mlk_nonpolar eval_residue_pair_derivatives() appears off -- set your minimizer to use_nblist and *also* nblist_auto_update to use eval_atom_derivative instead.\n",
      "\u001b[0mcore.scoring.methods.LK_PolarNonPolarEnergy: \u001b[0mlk_nonpolar eval_residue_pair_derivatives() appears off -- set your minimizer to use_nblist and *also* nblist_auto_update to use eval_atom_derivative instead.\n",
      "\u001b[0mcore.scoring.methods.LK_PolarNonPolarEnergy: \u001b[0mlk_nonpolar eval_residue_pair_derivatives() appears off -- set your minimizer to use_nblist and *also* nblist_auto_update to use eval_atom_derivative instead.\n",
      "\u001b[0mcore.scoring.methods.LK_PolarNonPolarEnergy: \u001b[0mlk_nonpolar eval_residue_pair_derivatives() appears off -- set your minimizer to use_nblist and *also* nblist_auto_update to use eval_atom_derivative instead.\n",
      "\u001b[0mcore.scoring.methods.LK_PolarNonPolarEnergy: \u001b[0mlk_nonpolar eval_residue_pair_derivatives() appears off -- set your minimizer to use_nblist and *also* nblist_auto_update to use eval_atom_derivative instead.\n",
      "\u001b[0mcore.scoring.methods.LK_PolarNonPolarEnergy: \u001b[0mlk_nonpolar eval_residue_pair_derivatives() appears off -- set your minimizer to use_nblist and *also* nblist_auto_update to use eval_atom_derivative instead.\n",
      "\u001b[0mcore.scoring.methods.LK_PolarNonPolarEnergy: \u001b[0mlk_nonpolar eval_residue_pair_derivatives() appears off -- set your minimizer to use_nblist and *also* nblist_auto_update to use eval_atom_derivative instead.\n",
      "\u001b[0mcore.scoring.methods.LK_PolarNonPolarEnergy: \u001b[0mlk_nonpolar eval_residue_pair_derivatives() appears off -- set your minimizer to use_nblist and *also* nblist_auto_update to use eval_atom_derivative instead.\n",
      "\u001b[0mcore.scoring.methods.LK_PolarNonPolarEnergy: \u001b[0mlk_nonpolar eval_residue_pair_derivatives() appears off -- set your minimizer to use_nblist and *also* nblist_auto_update to use eval_atom_derivative instead.\n",
      "\u001b[0mcore.scoring.methods.LK_PolarNonPolarEnergy: \u001b[0mlk_nonpolar eval_residue_pair_derivatives() appears off -- set your minimizer to use_nblist and *also* nblist_auto_update to use eval_atom_derivative instead.\n",
      "\u001b[0mcore.scoring.methods.LK_PolarNonPolarEnergy: \u001b[0mlk_nonpolar eval_residue_pair_derivatives() appears off -- set your minimizer to use_nblist and *also* nblist_auto_update to use eval_atom_derivative instead.\n",
      "\u001b[0mcore.scoring.methods.LK_PolarNonPolarEnergy: \u001b[0mlk_nonpolar eval_residue_pair_derivatives() appears off -- set your minimizer to use_nblist and *also* nblist_auto_update to use eval_atom_derivative instead.\n",
      "\u001b[0mcore.scoring.methods.LK_PolarNonPolarEnergy: \u001b[0mlk_nonpolar eval_residue_pair_derivatives() appears off -- set your minimizer to use_nblist and *also* nblist_auto_update to use eval_atom_derivative instead.\n",
      "\u001b[0mcore.scoring.methods.LK_PolarNonPolarEnergy: \u001b[0mlk_nonpolar eval_residue_pair_derivatives() appears off -- set your minimizer to use_nblist and *also* nblist_auto_update to use eval_atom_derivative instead.\n",
      "\u001b[0mcore.scoring.methods.LK_PolarNonPolarEnergy: \u001b[0mlk_nonpolar eval_residue_pair_derivatives() appears off -- set your minimizer to use_nblist and *also* nblist_auto_update to use eval_atom_derivative instead.\n",
      "\u001b[0mcore.scoring.methods.LK_PolarNonPolarEnergy: \u001b[0mlk_nonpolar eval_residue_pair_derivatives() appears off -- set your minimizer to use_nblist and *also* nblist_auto_update to use eval_atom_derivative instead.\n"
     ]
    },
    {
     "name": "stdout",
     "output_type": "stream",
     "text": [
      "\u001b[0mcore.scoring.methods.LK_PolarNonPolarEnergy: \u001b[0mlk_nonpolar eval_residue_pair_derivatives() appears off -- set your minimizer to use_nblist and *also* nblist_auto_update to use eval_atom_derivative instead.\n",
      "\u001b[0mcore.scoring.methods.LK_PolarNonPolarEnergy: \u001b[0mlk_nonpolar eval_residue_pair_derivatives() appears off -- set your minimizer to use_nblist and *also* nblist_auto_update to use eval_atom_derivative instead.\n",
      "\u001b[0mcore.scoring.methods.LK_PolarNonPolarEnergy: \u001b[0mlk_nonpolar eval_residue_pair_derivatives() appears off -- set your minimizer to use_nblist and *also* nblist_auto_update to use eval_atom_derivative instead.\n",
      "\u001b[0mcore.scoring.methods.LK_PolarNonPolarEnergy: \u001b[0mlk_nonpolar eval_residue_pair_derivatives() appears off -- set your minimizer to use_nblist and *also* nblist_auto_update to use eval_atom_derivative instead.\n",
      "\u001b[0mcore.scoring.methods.LK_PolarNonPolarEnergy: \u001b[0mlk_nonpolar eval_residue_pair_derivatives() appears off -- set your minimizer to use_nblist and *also* nblist_auto_update to use eval_atom_derivative instead.\n",
      "\u001b[0mcore.scoring.methods.LK_PolarNonPolarEnergy: \u001b[0mlk_nonpolar eval_residue_pair_derivatives() appears off -- set your minimizer to use_nblist and *also* nblist_auto_update to use eval_atom_derivative instead.\n",
      "\u001b[0mcore.scoring.methods.LK_PolarNonPolarEnergy: \u001b[0mlk_nonpolar eval_residue_pair_derivatives() appears off -- set your minimizer to use_nblist and *also* nblist_auto_update to use eval_atom_derivative instead.\n",
      "\u001b[0mcore.scoring.methods.LK_PolarNonPolarEnergy: \u001b[0mlk_nonpolar eval_residue_pair_derivatives() appears off -- set your minimizer to use_nblist and *also* nblist_auto_update to use eval_atom_derivative instead.\n",
      "\u001b[0mcore.scoring.methods.LK_PolarNonPolarEnergy: \u001b[0mlk_nonpolar eval_residue_pair_derivatives() appears off -- set your minimizer to use_nblist and *also* nblist_auto_update to use eval_atom_derivative instead.\n",
      "\u001b[0mcore.scoring.methods.LK_PolarNonPolarEnergy: \u001b[0mlk_nonpolar eval_residue_pair_derivatives() appears off -- set your minimizer to use_nblist and *also* nblist_auto_update to use eval_atom_derivative instead.\n",
      "\u001b[0mcore.scoring.methods.LK_PolarNonPolarEnergy: \u001b[0mlk_nonpolar eval_residue_pair_derivatives() appears off -- set your minimizer to use_nblist and *also* nblist_auto_update to use eval_atom_derivative instead.\n",
      "\u001b[0mcore.scoring.methods.LK_PolarNonPolarEnergy: \u001b[0mlk_nonpolar eval_residue_pair_derivatives() appears off -- set your minimizer to use_nblist and *also* nblist_auto_update to use eval_atom_derivative instead.\n",
      "\u001b[0mcore.scoring.methods.LK_PolarNonPolarEnergy: \u001b[0mlk_nonpolar eval_residue_pair_derivatives() appears off -- set your minimizer to use_nblist and *also* nblist_auto_update to use eval_atom_derivative instead.\n",
      "\u001b[0mcore.scoring.methods.LK_PolarNonPolarEnergy: \u001b[0mlk_nonpolar eval_residue_pair_derivatives() appears off -- set your minimizer to use_nblist and *also* nblist_auto_update to use eval_atom_derivative instead.\n",
      "\u001b[0mcore.scoring.methods.LK_PolarNonPolarEnergy: \u001b[0mlk_nonpolar eval_residue_pair_derivatives() appears off -- set your minimizer to use_nblist and *also* nblist_auto_update to use eval_atom_derivative instead.\n",
      "\u001b[0mcore.scoring.methods.LK_PolarNonPolarEnergy: \u001b[0mlk_nonpolar eval_residue_pair_derivatives() appears off -- set your minimizer to use_nblist and *also* nblist_auto_update to use eval_atom_derivative instead.\n",
      "\u001b[0mcore.scoring.methods.LK_PolarNonPolarEnergy: \u001b[0mlk_nonpolar eval_residue_pair_derivatives() appears off -- set your minimizer to use_nblist and *also* nblist_auto_update to use eval_atom_derivative instead.\n",
      "\u001b[0mcore.scoring.methods.LK_PolarNonPolarEnergy: \u001b[0mlk_nonpolar eval_residue_pair_derivatives() appears off -- set your minimizer to use_nblist and *also* nblist_auto_update to use eval_atom_derivative instead.\n",
      "\u001b[0mcore.scoring.methods.LK_PolarNonPolarEnergy: \u001b[0mlk_nonpolar eval_residue_pair_derivatives() appears off -- set your minimizer to use_nblist and *also* nblist_auto_update to use eval_atom_derivative instead.\n",
      "\u001b[0mcore.scoring.methods.LK_PolarNonPolarEnergy: \u001b[0mlk_nonpolar eval_residue_pair_derivatives() appears off -- set your minimizer to use_nblist and *also* nblist_auto_update to use eval_atom_derivative instead.\n",
      "\u001b[0mcore.scoring.methods.LK_PolarNonPolarEnergy: \u001b[0mlk_nonpolar eval_residue_pair_derivatives() appears off -- set your minimizer to use_nblist and *also* nblist_auto_update to use eval_atom_derivative instead.\n",
      "\u001b[0mcore.scoring.methods.LK_PolarNonPolarEnergy: \u001b[0mlk_nonpolar eval_residue_pair_derivatives() appears off -- set your minimizer to use_nblist and *also* nblist_auto_update to use eval_atom_derivative instead.\n",
      "\u001b[0mcore.scoring.methods.LK_PolarNonPolarEnergy: \u001b[0mlk_nonpolar eval_residue_pair_derivatives() appears off -- set your minimizer to use_nblist and *also* nblist_auto_update to use eval_atom_derivative instead.\n",
      "\u001b[0mcore.scoring.methods.LK_PolarNonPolarEnergy: \u001b[0mlk_nonpolar eval_residue_pair_derivatives() appears off -- set your minimizer to use_nblist and *also* nblist_auto_update to use eval_atom_derivative instead.\n",
      "\u001b[0mcore.scoring.methods.LK_PolarNonPolarEnergy: \u001b[0mlk_nonpolar eval_residue_pair_derivatives() appears off -- set your minimizer to use_nblist and *also* nblist_auto_update to use eval_atom_derivative instead.\n",
      "\u001b[0mcore.scoring.methods.LK_PolarNonPolarEnergy: \u001b[0mlk_nonpolar eval_residue_pair_derivatives() appears off -- set your minimizer to use_nblist and *also* nblist_auto_update to use eval_atom_derivative instead.\n",
      "\u001b[0mcore.scoring.methods.LK_PolarNonPolarEnergy: \u001b[0mlk_nonpolar eval_residue_pair_derivatives() appears off -- set your minimizer to use_nblist and *also* nblist_auto_update to use eval_atom_derivative instead.\n",
      "\u001b[0mcore.scoring.methods.LK_PolarNonPolarEnergy: \u001b[0mlk_nonpolar eval_residue_pair_derivatives() appears off -- set your minimizer to use_nblist and *also* nblist_auto_update to use eval_atom_derivative instead.\n",
      "\u001b[0mcore.scoring.methods.LK_PolarNonPolarEnergy: \u001b[0mlk_nonpolar eval_residue_pair_derivatives() appears off -- set your minimizer to use_nblist and *also* nblist_auto_update to use eval_atom_derivative instead.\n",
      "\u001b[0mcore.scoring.methods.LK_PolarNonPolarEnergy: \u001b[0mlk_nonpolar eval_residue_pair_derivatives() appears off -- set your minimizer to use_nblist and *also* nblist_auto_update to use eval_atom_derivative instead.\n",
      "\u001b[0mcore.scoring.methods.LK_PolarNonPolarEnergy: \u001b[0mlk_nonpolar eval_residue_pair_derivatives() appears off -- set your minimizer to use_nblist and *also* nblist_auto_update to use eval_atom_derivative instead.\n",
      "\u001b[0mcore.scoring.methods.LK_PolarNonPolarEnergy: \u001b[0mlk_nonpolar eval_residue_pair_derivatives() appears off -- set your minimizer to use_nblist and *also* nblist_auto_update to use eval_atom_derivative instead.\n",
      "\u001b[0mcore.scoring.methods.LK_PolarNonPolarEnergy: \u001b[0mlk_nonpolar eval_residue_pair_derivatives() appears off -- set your minimizer to use_nblist and *also* nblist_auto_update to use eval_atom_derivative instead.\n",
      "\u001b[0mcore.scoring.methods.LK_PolarNonPolarEnergy: \u001b[0mlk_nonpolar eval_residue_pair_derivatives() appears off -- set your minimizer to use_nblist and *also* nblist_auto_update to use eval_atom_derivative instead.\n",
      "\u001b[0mcore.scoring.methods.LK_PolarNonPolarEnergy: \u001b[0mlk_nonpolar eval_residue_pair_derivatives() appears off -- set your minimizer to use_nblist and *also* nblist_auto_update to use eval_atom_derivative instead.\n",
      "\u001b[0mcore.scoring.methods.LK_PolarNonPolarEnergy: \u001b[0mlk_nonpolar eval_residue_pair_derivatives() appears off -- set your minimizer to use_nblist and *also* nblist_auto_update to use eval_atom_derivative instead.\n",
      "\u001b[0mcore.scoring.methods.LK_PolarNonPolarEnergy: \u001b[0mlk_nonpolar eval_residue_pair_derivatives() appears off -- set your minimizer to use_nblist and *also* nblist_auto_update to use eval_atom_derivative instead.\n",
      "\u001b[0mcore.scoring.methods.LK_PolarNonPolarEnergy: \u001b[0mlk_nonpolar eval_residue_pair_derivatives() appears off -- set your minimizer to use_nblist and *also* nblist_auto_update to use eval_atom_derivative instead.\n",
      "\u001b[0mcore.scoring.methods.LK_PolarNonPolarEnergy: \u001b[0mlk_nonpolar eval_residue_pair_derivatives() appears off -- set your minimizer to use_nblist and *also* nblist_auto_update to use eval_atom_derivative instead.\n"
     ]
    },
    {
     "name": "stdout",
     "output_type": "stream",
     "text": [
      "\u001b[0mcore.scoring.methods.LK_PolarNonPolarEnergy: \u001b[0mlk_nonpolar eval_residue_pair_derivatives() appears off -- set your minimizer to use_nblist and *also* nblist_auto_update to use eval_atom_derivative instead.\n",
      "\u001b[0mcore.scoring.methods.LK_PolarNonPolarEnergy: \u001b[0mlk_nonpolar eval_residue_pair_derivatives() appears off -- set your minimizer to use_nblist and *also* nblist_auto_update to use eval_atom_derivative instead.\n",
      "\u001b[0mcore.scoring.methods.LK_PolarNonPolarEnergy: \u001b[0mlk_nonpolar eval_residue_pair_derivatives() appears off -- set your minimizer to use_nblist and *also* nblist_auto_update to use eval_atom_derivative instead.\n",
      "\u001b[0mcore.scoring.methods.LK_PolarNonPolarEnergy: \u001b[0mlk_nonpolar eval_residue_pair_derivatives() appears off -- set your minimizer to use_nblist and *also* nblist_auto_update to use eval_atom_derivative instead.\n",
      "\u001b[0mcore.scoring.methods.LK_PolarNonPolarEnergy: \u001b[0mlk_nonpolar eval_residue_pair_derivatives() appears off -- set your minimizer to use_nblist and *also* nblist_auto_update to use eval_atom_derivative instead.\n",
      "\u001b[0mcore.scoring.methods.LK_PolarNonPolarEnergy: \u001b[0mlk_nonpolar eval_residue_pair_derivatives() appears off -- set your minimizer to use_nblist and *also* nblist_auto_update to use eval_atom_derivative instead.\n",
      "\u001b[0mcore.scoring.methods.LK_PolarNonPolarEnergy: \u001b[0mlk_nonpolar eval_residue_pair_derivatives() appears off -- set your minimizer to use_nblist and *also* nblist_auto_update to use eval_atom_derivative instead.\n",
      "\u001b[0mcore.scoring.methods.LK_PolarNonPolarEnergy: \u001b[0mlk_nonpolar eval_residue_pair_derivatives() appears off -- set your minimizer to use_nblist and *also* nblist_auto_update to use eval_atom_derivative instead.\n",
      "\u001b[0mcore.scoring.methods.LK_PolarNonPolarEnergy: \u001b[0mlk_nonpolar eval_residue_pair_derivatives() appears off -- set your minimizer to use_nblist and *also* nblist_auto_update to use eval_atom_derivative instead.\n",
      "\u001b[0mcore.scoring.methods.LK_PolarNonPolarEnergy: \u001b[0mlk_nonpolar eval_residue_pair_derivatives() appears off -- set your minimizer to use_nblist and *also* nblist_auto_update to use eval_atom_derivative instead.\n",
      "\u001b[0mcore.scoring.methods.LK_PolarNonPolarEnergy: \u001b[0mlk_nonpolar eval_residue_pair_derivatives() appears off -- set your minimizer to use_nblist and *also* nblist_auto_update to use eval_atom_derivative instead.\n",
      "\u001b[0mcore.scoring.methods.LK_PolarNonPolarEnergy: \u001b[0mlk_nonpolar eval_residue_pair_derivatives() appears off -- set your minimizer to use_nblist and *also* nblist_auto_update to use eval_atom_derivative instead.\n",
      "\u001b[0mcore.scoring.methods.LK_PolarNonPolarEnergy: \u001b[0mlk_nonpolar eval_residue_pair_derivatives() appears off -- set your minimizer to use_nblist and *also* nblist_auto_update to use eval_atom_derivative instead.\n",
      "\u001b[0mcore.scoring.methods.LK_PolarNonPolarEnergy: \u001b[0mlk_nonpolar eval_residue_pair_derivatives() appears off -- set your minimizer to use_nblist and *also* nblist_auto_update to use eval_atom_derivative instead.\n",
      "\u001b[0mcore.scoring.methods.LK_PolarNonPolarEnergy: \u001b[0mlk_nonpolar eval_residue_pair_derivatives() appears off -- set your minimizer to use_nblist and *also* nblist_auto_update to use eval_atom_derivative instead.\n",
      "\u001b[0mcore.scoring.methods.LK_PolarNonPolarEnergy: \u001b[0mlk_nonpolar eval_residue_pair_derivatives() appears off -- set your minimizer to use_nblist and *also* nblist_auto_update to use eval_atom_derivative instead.\n",
      "\u001b[0mcore.scoring.methods.LK_PolarNonPolarEnergy: \u001b[0mlk_nonpolar eval_residue_pair_derivatives() appears off -- set your minimizer to use_nblist and *also* nblist_auto_update to use eval_atom_derivative instead.\n",
      "\u001b[0mcore.scoring.methods.LK_PolarNonPolarEnergy: \u001b[0mlk_nonpolar eval_residue_pair_derivatives() appears off -- set your minimizer to use_nblist and *also* nblist_auto_update to use eval_atom_derivative instead.\n",
      "\u001b[0mcore.scoring.methods.LK_PolarNonPolarEnergy: \u001b[0mlk_nonpolar eval_residue_pair_derivatives() appears off -- set your minimizer to use_nblist and *also* nblist_auto_update to use eval_atom_derivative instead.\n",
      "\u001b[0mcore.scoring.methods.LK_PolarNonPolarEnergy: \u001b[0mlk_nonpolar eval_residue_pair_derivatives() appears off -- set your minimizer to use_nblist and *also* nblist_auto_update to use eval_atom_derivative instead.\n",
      "\u001b[0mcore.scoring.methods.LK_PolarNonPolarEnergy: \u001b[0mlk_nonpolar eval_residue_pair_derivatives() appears off -- set your minimizer to use_nblist and *also* nblist_auto_update to use eval_atom_derivative instead.\n",
      "\u001b[0mcore.scoring.methods.LK_PolarNonPolarEnergy: \u001b[0mlk_nonpolar eval_residue_pair_derivatives() appears off -- set your minimizer to use_nblist and *also* nblist_auto_update to use eval_atom_derivative instead.\n",
      "\u001b[0mcore.scoring.methods.LK_PolarNonPolarEnergy: \u001b[0mlk_nonpolar eval_residue_pair_derivatives() appears off -- set your minimizer to use_nblist and *also* nblist_auto_update to use eval_atom_derivative instead.\n",
      "\u001b[0mcore.scoring.methods.LK_PolarNonPolarEnergy: \u001b[0mlk_nonpolar eval_residue_pair_derivatives() appears off -- set your minimizer to use_nblist and *also* nblist_auto_update to use eval_atom_derivative instead.\n",
      "\u001b[0mcore.scoring.methods.LK_PolarNonPolarEnergy: \u001b[0mlk_nonpolar eval_residue_pair_derivatives() appears off -- set your minimizer to use_nblist and *also* nblist_auto_update to use eval_atom_derivative instead.\n",
      "\u001b[0mcore.scoring.methods.LK_PolarNonPolarEnergy: \u001b[0mlk_nonpolar eval_residue_pair_derivatives() appears off -- set your minimizer to use_nblist and *also* nblist_auto_update to use eval_atom_derivative instead.\n",
      "\u001b[0mcore.scoring.methods.LK_PolarNonPolarEnergy: \u001b[0mlk_nonpolar eval_residue_pair_derivatives() appears off -- set your minimizer to use_nblist and *also* nblist_auto_update to use eval_atom_derivative instead.\n",
      "\u001b[0mcore.scoring.methods.LK_PolarNonPolarEnergy: \u001b[0mlk_nonpolar eval_residue_pair_derivatives() appears off -- set your minimizer to use_nblist and *also* nblist_auto_update to use eval_atom_derivative instead.\n",
      "\u001b[0mcore.scoring.methods.LK_PolarNonPolarEnergy: \u001b[0mlk_nonpolar eval_residue_pair_derivatives() appears off -- set your minimizer to use_nblist and *also* nblist_auto_update to use eval_atom_derivative instead.\n",
      "\u001b[0mcore.scoring.methods.LK_PolarNonPolarEnergy: \u001b[0mlk_nonpolar eval_residue_pair_derivatives() appears off -- set your minimizer to use_nblist and *also* nblist_auto_update to use eval_atom_derivative instead.\n",
      "\u001b[0mcore.scoring.methods.LK_PolarNonPolarEnergy: \u001b[0mlk_nonpolar eval_residue_pair_derivatives() appears off -- set your minimizer to use_nblist and *also* nblist_auto_update to use eval_atom_derivative instead.\n",
      "\u001b[0mcore.scoring.methods.LK_PolarNonPolarEnergy: \u001b[0mlk_nonpolar eval_residue_pair_derivatives() appears off -- set your minimizer to use_nblist and *also* nblist_auto_update to use eval_atom_derivative instead.\n",
      "\u001b[0mcore.scoring.methods.LK_PolarNonPolarEnergy: \u001b[0mlk_nonpolar eval_residue_pair_derivatives() appears off -- set your minimizer to use_nblist and *also* nblist_auto_update to use eval_atom_derivative instead.\n",
      "\u001b[0mcore.scoring.methods.LK_PolarNonPolarEnergy: \u001b[0mlk_nonpolar eval_residue_pair_derivatives() appears off -- set your minimizer to use_nblist and *also* nblist_auto_update to use eval_atom_derivative instead.\n",
      "\u001b[0mcore.scoring.methods.LK_PolarNonPolarEnergy: \u001b[0mlk_nonpolar eval_residue_pair_derivatives() appears off -- set your minimizer to use_nblist and *also* nblist_auto_update to use eval_atom_derivative instead.\n",
      "\u001b[0mcore.scoring.methods.LK_PolarNonPolarEnergy: \u001b[0mlk_nonpolar eval_residue_pair_derivatives() appears off -- set your minimizer to use_nblist and *also* nblist_auto_update to use eval_atom_derivative instead.\n",
      "\u001b[0mcore.scoring.methods.LK_PolarNonPolarEnergy: \u001b[0mlk_nonpolar eval_residue_pair_derivatives() appears off -- set your minimizer to use_nblist and *also* nblist_auto_update to use eval_atom_derivative instead.\n",
      "\u001b[0mcore.scoring.methods.LK_PolarNonPolarEnergy: \u001b[0mlk_nonpolar eval_residue_pair_derivatives() appears off -- set your minimizer to use_nblist and *also* nblist_auto_update to use eval_atom_derivative instead.\n",
      "\u001b[0mcore.scoring.methods.LK_PolarNonPolarEnergy: \u001b[0mlk_nonpolar eval_residue_pair_derivatives() appears off -- set your minimizer to use_nblist and *also* nblist_auto_update to use eval_atom_derivative instead.\n"
     ]
    },
    {
     "name": "stdout",
     "output_type": "stream",
     "text": [
      "\u001b[0mcore.scoring.methods.LK_PolarNonPolarEnergy: \u001b[0mlk_nonpolar eval_residue_pair_derivatives() appears off -- set your minimizer to use_nblist and *also* nblist_auto_update to use eval_atom_derivative instead.\n",
      "\u001b[0mcore.scoring.methods.LK_PolarNonPolarEnergy: \u001b[0mlk_nonpolar eval_residue_pair_derivatives() appears off -- set your minimizer to use_nblist and *also* nblist_auto_update to use eval_atom_derivative instead.\n",
      "\u001b[0mcore.scoring.methods.LK_PolarNonPolarEnergy: \u001b[0mlk_nonpolar eval_residue_pair_derivatives() appears off -- set your minimizer to use_nblist and *also* nblist_auto_update to use eval_atom_derivative instead.\n",
      "\u001b[0mcore.scoring.methods.LK_PolarNonPolarEnergy: \u001b[0mlk_nonpolar eval_residue_pair_derivatives() appears off -- set your minimizer to use_nblist and *also* nblist_auto_update to use eval_atom_derivative instead.\n",
      "\u001b[0mcore.scoring.methods.LK_PolarNonPolarEnergy: \u001b[0mlk_nonpolar eval_residue_pair_derivatives() appears off -- set your minimizer to use_nblist and *also* nblist_auto_update to use eval_atom_derivative instead.\n",
      "\u001b[0mcore.scoring.methods.LK_PolarNonPolarEnergy: \u001b[0mlk_nonpolar eval_residue_pair_derivatives() appears off -- set your minimizer to use_nblist and *also* nblist_auto_update to use eval_atom_derivative instead.\n",
      "\u001b[0mcore.scoring.methods.LK_PolarNonPolarEnergy: \u001b[0mlk_nonpolar eval_residue_pair_derivatives() appears off -- set your minimizer to use_nblist and *also* nblist_auto_update to use eval_atom_derivative instead.\n",
      "\u001b[0mcore.scoring.methods.LK_PolarNonPolarEnergy: \u001b[0mlk_nonpolar eval_residue_pair_derivatives() appears off -- set your minimizer to use_nblist and *also* nblist_auto_update to use eval_atom_derivative instead.\n",
      "\u001b[0mcore.scoring.methods.LK_PolarNonPolarEnergy: \u001b[0mlk_nonpolar eval_residue_pair_derivatives() appears off -- set your minimizer to use_nblist and *also* nblist_auto_update to use eval_atom_derivative instead.\n",
      "\u001b[0mcore.scoring.methods.LK_PolarNonPolarEnergy: \u001b[0mlk_nonpolar eval_residue_pair_derivatives() appears off -- set your minimizer to use_nblist and *also* nblist_auto_update to use eval_atom_derivative instead.\n",
      "\u001b[0mcore.scoring.methods.LK_PolarNonPolarEnergy: \u001b[0mlk_nonpolar eval_residue_pair_derivatives() appears off -- set your minimizer to use_nblist and *also* nblist_auto_update to use eval_atom_derivative instead.\n",
      "\u001b[0mcore.scoring.methods.LK_PolarNonPolarEnergy: \u001b[0mlk_nonpolar eval_residue_pair_derivatives() appears off -- set your minimizer to use_nblist and *also* nblist_auto_update to use eval_atom_derivative instead.\n",
      "\u001b[0mcore.scoring.methods.LK_PolarNonPolarEnergy: \u001b[0mlk_nonpolar eval_residue_pair_derivatives() appears off -- set your minimizer to use_nblist and *also* nblist_auto_update to use eval_atom_derivative instead.\n"
     ]
    }
   ],
   "source": [
    "# use mm object to get stuff \n",
    "seq1, seq2 = 'gg', 'cc'\n",
    "mm_sim = MiningMinima(seq1,seq2, scorefxn='stepwise/rna/turner_new')"
   ]
  },
  {
   "cell_type": "code",
   "execution_count": 220,
   "metadata": {},
   "outputs": [
    {
     "name": "stdout",
     "output_type": "stream",
     "text": [
      "[[  1.38398464   1.96591134   1.80426689  -2.74227829  -1.61563866\n",
      "   -3.69264274   2.08609355  -2.91637536   4.91907221  -3.02114284\n",
      "    1.93027584  -4.46794811  -2.12612221  -1.978537  ]\n",
      " [  1.95350367   5.67021439   2.88706848  -7.25609182  -1.92324287\n",
      "  -10.39593104   3.32365782  -7.5099727    7.21402149  -3.63130846\n",
      "    3.13335788  -8.79218499  -2.9525159   -5.87811893]\n",
      " [  1.85724389   2.90907049   8.30670539  -3.72895681   9.23351707\n",
      "   -6.86342982   6.8373463   -3.56836708   3.54033781   5.71420045\n",
      "    7.86515507   1.4160041    0.90769548  -0.8082754 ]\n",
      " [ -2.71658632  -7.44022594  -3.68585069  14.583799     3.89479746\n",
      "   18.85218655  -5.79871218  14.33202656 -12.04474277   4.64725799\n",
      "   -5.28990521  13.73476127   5.29406134   8.49958642]\n",
      " [ -1.52527629  -1.93463771   9.27862956   3.89650095  28.99951138\n",
      "    1.24320631   3.2731747    5.07547978 -18.0134942   25.2699224\n",
      "    5.63405707  21.91300617  10.44874955   6.01079498]\n",
      " [ -3.66006351 -10.55369408  -6.79272436  18.70511582   1.25083852\n",
      "   26.83304473  -9.97770464  18.42972302 -15.92009973  -1.10755639\n",
      "   -9.27206835  13.0299591    6.86896929  10.15706922]\n",
      " [  2.10967834   3.39365889   6.82678125  -5.86962775   3.20248305\n",
      "  -10.09249785  10.74519218  -6.00641164  11.9069617    6.82142767\n",
      "   10.65212923   1.98680007  -3.2265318    0.58387556]\n",
      " [ -2.8919067   -7.68370846  -3.52181686  14.30998255   5.07822737\n",
      "   18.55378034  -5.9346653   14.35574679 -13.22025803   5.95442567\n",
      "   -5.29547724  14.37247815   5.92285072   8.4234845 ]\n",
      " [  4.92021134   7.29397917   3.48782478 -12.15591042 -18.11621814\n",
      "  -16.07626825  11.8914873  -13.33020064  31.21470958 -13.67298454\n",
      "   10.07986116 -18.2935136  -13.09861423  -5.78308139]\n",
      " [ -3.01404402  -3.60540332   5.73715582   4.60424999  25.35776772\n",
      "   -1.12868068   6.78861153   5.92250091 -13.77721605  41.15107318\n",
      "    7.72639287  35.5559414    7.22639387  11.54095637]\n",
      " [  1.93989249   3.20954128   7.86009899  -5.34102777   5.60870015\n",
      "   -9.37818084  10.59149113  -5.35116634  10.0178853    7.74674637\n",
      "   11.0476232    2.90366857  -1.40101421   0.55265139]\n",
      " [ -4.44573739  -8.7762516    1.46259883  13.56980818  21.98768488\n",
      "   12.89348339   2.02748382  14.22186352 -18.30843353  35.59267962\n",
      "    2.95399642  39.27631502   8.76658894  17.23340683]\n",
      " [ -2.19831474  -2.97431209   0.90812767   5.38426823  10.54946742\n",
      "    6.96264984  -3.39479052   6.00889636 -13.27419615   7.17175621\n",
      "   -1.59893221   8.74677904   8.47422734   2.23129274]\n",
      " [ -1.9643641   -5.81718587  -0.81059417   8.3509419    5.97609434\n",
      "    9.93961705   0.66414141   8.27325246  -5.69864933  11.66098513\n",
      "    0.62600285  17.25379004   2.21113521  10.96226009]]\n"
     ]
    }
   ],
   "source": [
    "print mm_sim.hessian"
   ]
  },
  {
   "cell_type": "code",
   "execution_count": 221,
   "metadata": {},
   "outputs": [
    {
     "name": "stdout",
     "output_type": "stream",
     "text": [
      "\u001b[0mcore.optimization.LineMinimizer: \u001b[0m\u001b[31m\u001b[1m[ ERROR ]\u001b[0m \u001b[31mInaccurate G! step= 4.76837e-07 Deriv= -7.07846e-05 Finite Diff= 0.000269696\u001b[0m\n",
      "vector1_double[0.0860098, -0.00741226, 1.07981, 0.214826, 3.56782, -0.141619, 0.626423, 0.494983, -2.718, 3.31294, 1.14846, 2.47191, 2.32863, -0.027299]\n"
     ]
    }
   ],
   "source": [
    "# get pose and scorefxn \n",
    "pose = protocols.recces.pose_setup_turner(seq1=seq1,seq2=seq2)\n",
    "scorefxn = core.scoring.ScoreFunctionFactory.create_score_function('stepwise/rna/turner_new')\n",
    "\n",
    "# set up movemap -- for now just get from the MM object -- and min map\n",
    "movemap = MoveMap()\n",
    "movemap.assign(mm_sim.movemap)  \n",
    "min_map = core.optimization.MinimizerMap()\n",
    "min_map.setup(pose,movemap)\n",
    "\n",
    "# set up min options\n",
    "min_options = core.optimization.MinimizerOptions(\n",
    "    'lbfgs_armijo_nonmonotone',1e-15,True,False,False)\n",
    "min_options.nblist_auto_update(True)\n",
    "# get scorefunction ready for minimization\n",
    "start_score = scorefxn(pose)\n",
    "pose.energies().set_use_nblist(pose,min_map.domain_map(),True)\n",
    "multifunc = core.optimization.AtomTreeMultifunc(pose,min_map,scorefxn)\n",
    "scorefxn.setup_for_minimizing(pose,min_map) # this is the key command\n",
    "scorefxn.setup_for_derivatives(pose)\n",
    "\n",
    "min_dofs = Vector1([0.0]*min_map.nangles())\n",
    "min_map.copy_dofs_from_pose(pose,min_dofs)\n",
    "start_func_val = multifunc(min_dofs)\n",
    "theta = Vector1(list(min_dofs))\n",
    "dE_dtheta = Vector1(list(min_dofs))\n",
    "multifunc.dfunc(theta,dE_dtheta)\n",
    "\n",
    "# set up minimizer and run\n",
    "minimizer = core.optimization.Minimizer(multifunc,min_options)\n",
    "for _ in range(1): minimizer.run(min_dofs)\n",
    "print dE_dtheta"
   ]
  },
  {
   "cell_type": "code",
   "execution_count": 222,
   "metadata": {},
   "outputs": [],
   "source": [
    "multifunc.dfunc(min_dofs, dE_dtheta)"
   ]
  },
  {
   "cell_type": "code",
   "execution_count": 223,
   "metadata": {},
   "outputs": [
    {
     "data": {
      "text/plain": [
       "-41.702988596478015"
      ]
     },
     "execution_count": 223,
     "metadata": {},
     "output_type": "execute_result"
    }
   ],
   "source": [
    "multifunc(min_dofs)"
   ]
  },
  {
   "cell_type": "markdown",
   "metadata": {},
   "source": [
    "# Developing subroutine to calculate hessian from derivative evaluations"
   ]
  },
  {
   "cell_type": "code",
   "execution_count": 224,
   "metadata": {},
   "outputs": [],
   "source": [
    "def hessian_at_min(min_dofs,multifunc,h=1e-3):\n",
    "    min_dofs = np.array(min_dofs) # take advantage of numpy array indexing\n",
    "    n_dofs = len(min_dofs)\n",
    "    hessian = np.zeros((n_dofs,n_dofs))\n",
    "    plus = Vector1([0.0]*n_dofs)\n",
    "    minus = Vector1(list(plus))\n",
    "    \n",
    "    for ii in range(n_dofs):\n",
    "        new_dofs = min_dofs[:]\n",
    "        new_dofs[ii] += h*180./np.pi\n",
    "        multifunc.dfunc(Vector1(list(new_dofs)),plus)\n",
    "        new_dofs[ii] -= 2.*h*180/np.pi\n",
    "        multifunc.dfunc(Vector1(list(new_dofs)),minus)\n",
    "        row = (np.array(plus) - np.array(minus))/2./h\n",
    "        hessian[ii] = row # need to figure out conversion\n",
    "    return 0.5*(hessian + hessian.T) # enforce symmetry"
   ]
  },
  {
   "cell_type": "code",
   "execution_count": 225,
   "metadata": {
    "scrolled": true
   },
   "outputs": [
    {
     "name": "stdout",
     "output_type": "stream",
     "text": [
      "\u001b[0mcore.optimization.LineMinimizer: \u001b[0m\u001b[31m\u001b[1m[ ERROR ]\u001b[0m \u001b[31mInaccurate G! step= 1.90735e-06 Deriv= -0.000478678 Finite Diff= 0.000156473\u001b[0m\n",
      "-41.7032990722\n",
      "\u001b[0mcore.optimization.LineMinimizer: \u001b[0m\u001b[31m\u001b[1m[ ERROR ]\u001b[0m \u001b[31mInaccurate G! step= 7.45058e-09 Deriv= -7.94523e-07 Finite Diff= 0.029088\u001b[0m\n",
      "-41.7036391278\n",
      "\u001b[0mcore.optimization.LineMinimizer: \u001b[0m\u001b[31m\u001b[1m[ ERROR ]\u001b[0m \u001b[31mInaccurate G! step= 3.8147e-08 Deriv= -7.94523e-07 Finite Diff= 0.00619367\u001b[0m\n",
      "-41.7036391278\n",
      "\u001b[0mcore.optimization.LineMinimizer: \u001b[0m\u001b[31m\u001b[1m[ ERROR ]\u001b[0m \u001b[31mInaccurate G! step= 3.8147e-08 Deriv= -7.94523e-07 Finite Diff= 0.00619367\u001b[0m\n",
      "-41.7036391278\n",
      "\u001b[0mcore.optimization.LineMinimizer: \u001b[0m\u001b[31m\u001b[1m[ ERROR ]\u001b[0m \u001b[31mInaccurate G! step= 3.8147e-08 Deriv= -7.94523e-07 Finite Diff= 0.00619367\u001b[0m\n",
      "-41.7036391278\n",
      "\u001b[0mcore.optimization.LineMinimizer: \u001b[0m\u001b[31m\u001b[1m[ ERROR ]\u001b[0m \u001b[31mInaccurate G! step= 3.8147e-08 Deriv= -7.94523e-07 Finite Diff= 0.00619367\u001b[0m\n",
      "-41.7036391278\n",
      "\u001b[0mcore.optimization.LineMinimizer: \u001b[0m\u001b[31m\u001b[1m[ ERROR ]\u001b[0m \u001b[31mInaccurate G! step= 3.8147e-08 Deriv= -7.94523e-07 Finite Diff= 0.00619367\u001b[0m\n",
      "-41.7036391278\n",
      "\u001b[0mcore.optimization.LineMinimizer: \u001b[0m\u001b[31m\u001b[1m[ ERROR ]\u001b[0m \u001b[31mInaccurate G! step= 3.8147e-08 Deriv= -7.94523e-07 Finite Diff= 0.00619367\u001b[0m\n",
      "-41.7036391278\n",
      "\u001b[0mcore.optimization.LineMinimizer: \u001b[0m\u001b[31m\u001b[1m[ ERROR ]\u001b[0m \u001b[31mInaccurate G! step= 3.8147e-08 Deriv= -7.94523e-07 Finite Diff= 0.00619367\u001b[0m\n",
      "-41.7036391278\n",
      "\u001b[0mcore.optimization.LineMinimizer: \u001b[0m\u001b[31m\u001b[1m[ ERROR ]\u001b[0m \u001b[31mInaccurate G! step= 3.8147e-08 Deriv= -7.94523e-07 Finite Diff= 0.00619367\u001b[0m\n",
      "-41.7036391278\n"
     ]
    }
   ],
   "source": [
    "for _ in range(10):\n",
    "    minimizer.run(min_dofs)\n",
    "    print multifunc(min_dofs)"
   ]
  },
  {
   "cell_type": "code",
   "execution_count": 226,
   "metadata": {},
   "outputs": [],
   "source": [
    "hessian = hessian_at_min(min_dofs,multifunc)"
   ]
  },
  {
   "cell_type": "code",
   "execution_count": 227,
   "metadata": {},
   "outputs": [
    {
     "name": "stdout",
     "output_type": "stream",
     "text": [
      "[[  1.41749672   0.9376575    1.23914402  -1.49565753  -0.9629456\n",
      "   -1.76811371   1.18040255  -1.57799005   3.25328351  -2.62046219\n",
      "    0.91655537  -3.00722253  -1.62044168  -0.88339009]\n",
      " [  0.9376575    4.15447049   2.10632039  -4.44231447  -0.14168755\n",
      "   -6.37037312   2.13868624  -4.63027969   4.01971525  -2.00794421\n",
      "    2.00742283  -5.03390378  -1.65060875  -3.54989584]\n",
      " [  1.23914402   2.10632039   7.65876433  -3.38763072  10.07659884\n",
      "   -5.9532606    6.6084831   -3.31818024   2.46402786   5.56288778\n",
      "    7.80492979   1.75914488   0.63059314  -0.39493342]\n",
      " [ -1.49565753  -4.44231447  -3.38763072  13.62390402   0.19830021\n",
      "   16.16048982  -4.21943793  12.76484882  -7.10110337   2.69069321\n",
      "   -3.87221645  10.47265262   3.050357     6.36974501]\n",
      " [ -0.9629456   -0.14168755  10.07659884   0.19830021  30.36575501\n",
      "   -3.32160476   6.18135516   0.96902539 -16.03950089  24.98661317\n",
      "   10.27386546  18.72643703   9.76173838   2.92103432]\n",
      " [ -1.76811371  -6.37037312  -5.9532606   16.16048982  -3.32160476\n",
      "   22.53314904  -8.36769078  15.88039249  -9.9381803   -4.43382574\n",
      "   -7.77084067   7.1952333    4.16517035   6.16934596]\n",
      " [  1.18040255   2.13868624   6.6084831   -4.21943793   6.18135516\n",
      "   -8.36769078   9.96568774  -4.67670143   8.49280602   8.59475336\n",
      "    9.86994146   4.07487791  -1.74022834   1.24422138]\n",
      " [ -1.57799005  -4.63027969  -3.31818024  12.76484882   0.96902539\n",
      "   15.88039249  -4.67670143  12.63827826  -8.30183505   2.52979396\n",
      "   -4.07452021   9.83439243   3.67701032   5.81314296]\n",
      " [  3.25328351   4.01971525   2.46402786  -7.10110337 -16.03950089\n",
      "   -9.9381803    8.49280602  -8.30183505  26.60783728 -12.29221209\n",
      "    5.16873367 -13.61745709 -11.69771232  -1.98532797]\n",
      " [ -2.62046219  -2.00794421   5.56288778   2.69069321  24.98661317\n",
      "   -4.43382574   8.59475336   2.52979396 -12.29221209  40.14610013\n",
      "   10.76058302  32.05802089   7.6771238    8.55231991]\n",
      " [  0.91655537   2.00742283   7.80492979  -3.87221645  10.27386546\n",
      "   -7.77084067   9.86994146  -4.07452021   5.16873367  10.76058302\n",
      "   11.16287651   5.84970649   0.75934827   1.07974739]\n",
      " [ -3.00722253  -5.03390378   1.75914488  10.47265262  18.72643703\n",
      "    7.1952333    4.07487791   9.83439243 -13.61745709  32.05802089\n",
      "    5.84970649  32.11042647   7.65339112  11.65681136]\n",
      " [ -1.62044168  -1.65060875   0.63059314   3.050357     9.76173838\n",
      "    4.16517035  -1.74022834   3.67701032 -11.69771232   7.6771238\n",
      "    0.75934827   7.65339112   8.34098772   0.7757432 ]\n",
      " [ -0.88339009  -3.54989584  -0.39493342   6.36974501   2.92103432\n",
      "    6.16934596   1.24422138   5.81314296  -1.98532797   8.55231991\n",
      "    1.07974739  11.65681136   0.7757432    7.82810264]]\n"
     ]
    }
   ],
   "source": [
    "print hessian"
   ]
  },
  {
   "cell_type": "code",
   "execution_count": 228,
   "metadata": {},
   "outputs": [],
   "source": [
    "from scipy.linalg import eigh"
   ]
  },
  {
   "cell_type": "code",
   "execution_count": 229,
   "metadata": {},
   "outputs": [],
   "source": [
    "[eigenvalues, modes] = eigh(hessian)"
   ]
  },
  {
   "cell_type": "code",
   "execution_count": 230,
   "metadata": {},
   "outputs": [
    {
     "name": "stdout",
     "output_type": "stream",
     "text": [
      "[  0.17115089   0.20587797   0.23706024   0.30339605   0.40551815\n",
      "   0.6657016    0.71615123   1.15716991   3.04328206   3.502052\n",
      "  14.39823054  27.98055693  68.9235585  106.84413027]\n"
     ]
    }
   ],
   "source": [
    "print eigenvalues"
   ]
  },
  {
   "cell_type": "code",
   "execution_count": 231,
   "metadata": {},
   "outputs": [
    {
     "name": "stdout",
     "output_type": "stream",
     "text": [
      "57.2957795131\n",
      "57.2957795131\n",
      "57.2957795131\n",
      "57.2957795131\n",
      "57.2957795131\n",
      "57.2957795131\n",
      "57.2957795131\n",
      "57.2957795131\n",
      "57.2957795131\n",
      "57.2957795131\n",
      "57.2957795131\n",
      "57.2957795131\n",
      "57.2957795131\n",
      "57.2957795131\n"
     ]
    }
   ],
   "source": [
    "for do in min_map.dof_nodes():\n",
    "    print min_map.torsion_scale_factor(do)"
   ]
  },
  {
   "cell_type": "code",
   "execution_count": 232,
   "metadata": {},
   "outputs": [],
   "source": [
    "pseudo_det = 1.\n",
    "for eigen in eigenvalues:\n",
    "    if eigen > 0:\n",
    "        pseudo_det *= eigen\n",
    "    "
   ]
  },
  {
   "cell_type": "code",
   "execution_count": 233,
   "metadata": {},
   "outputs": [
    {
     "name": "stdout",
     "output_type": "stream",
     "text": [
      "[  0.17115089   0.20587797   0.23706024   0.30339605   0.40551815\n",
      "   0.6657016    0.71615123   1.15716991   3.04328206   3.502052\n",
      "  14.39823054  27.98055693  68.9235585  106.84413027]\n"
     ]
    }
   ],
   "source": [
    "print eigenvalues"
   ]
  },
  {
   "cell_type": "code",
   "execution_count": 234,
   "metadata": {},
   "outputs": [
    {
     "data": {
      "text/plain": [
       "-49.67175794030226"
      ]
     },
     "execution_count": 234,
     "metadata": {},
     "output_type": "execute_result"
    }
   ],
   "source": [
    "multifunc(min_dofs) + 0.5*np.log(pseudo_det) - 0.5*min_map.nangles()*np.log(2*np.pi)"
   ]
  },
  {
   "cell_type": "markdown",
   "metadata": {},
   "source": [
    "# Developing subroutine to mode scan using AtomTreeMultifunc"
   ]
  },
  {
   "cell_type": "code",
   "execution_count": 235,
   "metadata": {},
   "outputs": [],
   "source": [
    "from scipy.special import erf"
   ]
  },
  {
   "cell_type": "code",
   "execution_count": 236,
   "metadata": {},
   "outputs": [],
   "source": [
    "def mode_scan(min_dofs, multifunc, mode, limit=np.pi/3, dx=0.005):\n",
    "    # convert to np array for useful indexing\n",
    "    min_dofs = np.array(min_dofs)\n",
    "    delta_array = np.linspace(-limit, limit, int(2*limit/dx))\n",
    "    \n",
    "    # intialize result\n",
    "    result = np.zeros_like(delta_array)\n",
    "    \n",
    "    # evaluate using multifunc \n",
    "    for ii, delta in enumerate(delta_array):\n",
    "        new_dofs = min_dofs[:] + delta*mode*180/np.pi\n",
    "        result[ii] = multifunc(Vector1(list(new_dofs)))\n",
    "    \n",
    "    return result    \n",
    "    \n",
    "    "
   ]
  },
  {
   "cell_type": "code",
   "execution_count": 237,
   "metadata": {
    "scrolled": true
   },
   "outputs": [],
   "source": [
    "def compute_total_partition(min_dofs, multifunc, modes, limit=np.pi/3, dx=0.005):\n",
    "    # initialize output\n",
    "    total_log_partition = 0 \n",
    "    total_log_harmonic = 0\n",
    "    scans = tuple()\n",
    "    \n",
    "    for ii, mode in enumerate(modes.T): # columns of array are eigenvectors\n",
    "        if eigenvalues[ii] < 0: continue\n",
    "        result = mode_scan(min_dofs, multifunc, mode, limit=limit, dx=dx)\n",
    "        result -= multifunc(min_dofs)\n",
    "        scans = scans + (result,)\n",
    "        total_log_partition += np.log(np.trapz(np.exp(-result),dx=dx))\n",
    "        total_log_harmonic += np.log(np.sqrt(2.0*np.pi/eigenvalues[ii])*erf(np.sqrt(2.0*eigenvalues[ii])*2.*limit/4.0))\n",
    "    scans = np.row_stack(scans)\n",
    "    return total_log_partition, total_log_harmonic, scans"
   ]
  },
  {
   "cell_type": "code",
   "execution_count": 238,
   "metadata": {},
   "outputs": [],
   "source": [
    "total_log_partition, total_log_harmonic, mode_scans = compute_total_partition(min_dofs, multifunc, modes)"
   ]
  },
  {
   "cell_type": "code",
   "execution_count": 239,
   "metadata": {
    "scrolled": true
   },
   "outputs": [
    {
     "data": {
      "image/png": "[encoded data removed]",
      "text/plain": [
       "<matplotlib.figure.Figure at 0x7f7f92ef86d0>"
      ]
     },
     "metadata": {
      "needs_background": "light"
     },
     "output_type": "display_data"
    }
   ],
   "source": [
    "xx = np.linspace(-np.pi/3,np.pi/3,int(2*np.pi/3/0.005))\n",
    "fig, ax = plt.subplots(ncols=5,nrows=6,figsize=(12,12))\n",
    "for ii, scan in enumerate(mode_scans):\n",
    "    if eigenvalues[ii] < 0: continue\n",
    "    curr_ax = ax.flatten()[ii]\n",
    "    curr_ax.plot(xx,np.exp(-scan))\n",
    "    curr_ax.plot(xx,np.exp(-eigenvalues[ii]*(180./np.pi)**1*xx**2))"
   ]
  },
  {
   "cell_type": "code",
   "execution_count": 240,
   "metadata": {},
   "outputs": [],
   "source": [
    "from numpy.linalg import det\n",
    "from numpy import heaviside\n",
    "\n",
    "from scipy.special import logsumexp\n",
    "from scipy.special import gamma"
   ]
  },
  {
   "cell_type": "code",
   "execution_count": 241,
   "metadata": {},
   "outputs": [],
   "source": [
    "n = min_map.nangles()\n",
    "min_E = multifunc(min_dofs)\n",
    "dos = lambda E: (2.0*np.pi)**(n/2.)*(E-min_E)**(n/2.-1)/gamma(n/2.)/np.sqrt(pseudo_det)*heaviside(E-min_E,0.5)"
   ]
  },
  {
   "cell_type": "code",
   "execution_count": 252,
   "metadata": {},
   "outputs": [
    {
     "data": {
      "text/plain": [
       "-20.62041079384439"
      ]
     },
     "execution_count": 252,
     "metadata": {},
     "output_type": "execute_result"
    }
   ],
   "source": [
    "E = np.linspace(-100,800,9001)\n",
    "-logsumexp(-(E-min_E), b=dos(E)) - np.log(2*np.pi/3)*n"
   ]
  },
  {
   "cell_type": "code",
   "execution_count": 246,
   "metadata": {},
   "outputs": [
    {
     "name": "stdout",
     "output_type": "stream",
     "text": [
      "14\n"
     ]
    }
   ],
   "source": [
    "print n"
   ]
  },
  {
   "cell_type": "code",
   "execution_count": 248,
   "metadata": {},
   "outputs": [
    {
     "data": {
      "text/plain": [
       "-20.027009388209073"
      ]
     },
     "execution_count": 248,
     "metadata": {},
     "output_type": "execute_result"
    }
   ],
   "source": [
    "multifunc(min_dofs) - total_log_partition"
   ]
  },
  {
   "cell_type": "code",
   "execution_count": null,
   "metadata": {
    "scrolled": true
   },
   "outputs": [],
   "source": [
    "sims = ['aaa_uuu', 'aa_uu', 'cc_gg', 'ccc_ggg', 'cc_gg', 'gaa_uuc', 'gac_guc', 'gag_cuc', 'gau_auc', 'ga_uc', 'gcc_ggc', 'gcg_cgc', 'gga_ucc', 'gg_cc', 'ggc_gcc', 'ggg_ccc', 'ggu_acc', 'gu_ac', 'guc_gac', 'guu_aac']\n",
    "\n",
    "harmonic_E = []\n",
    "RECCES_E = []\n",
    "DOS_E = []\n",
    "\n",
    "E = np.linspace(-100,800,9001)\n",
    "\n",
    "for sim in sims:\n",
    "    \n",
    "    seqs = sim.split('_')\n",
    "    seq1 = seqs[0]\n",
    "    seq2 = seqs[1]\n",
    "    \n",
    "    fuck = MiningMinima(seq1, seq2)\n",
    "    \n",
    "    hist = SingleHistSimulation('./../../../recces_rosetta/results/'+sim+'/ST/')\n",
    "    \n",
    "    harmonic_E.append(fuck.harmonic_free_energy)\n",
    "    RECCES_E.append(hist.value)\n",
    "    DOS_E.append(-scipy.special.logsumexp(-E, b=fuck.dos(E)))"
   ]
  },
  {
   "cell_type": "code",
   "execution_count": null,
   "metadata": {},
   "outputs": [],
   "source": [
    "print RECCES_E\n",
    "print harmonic_E\n",
    "print DOS_E\n",
    "plt.scatter(RECCES_E, DOS_E)\n",
    "plt.plot([-45,-15],[-45,-15])"
   ]
  },
  {
   "cell_type": "code",
   "execution_count": null,
   "metadata": {},
   "outputs": [],
   "source": [
    "from recces.util import *\n",
    "from recces.data import *"
   ]
  },
  {
   "cell_type": "code",
   "execution_count": null,
   "metadata": {},
   "outputs": [],
   "source": [
    "sim = SingleHistSimulation('./../../../recces_rosetta/results/'+seq1+'_'+seq2+'/ST/')"
   ]
  },
  {
   "cell_type": "code",
   "execution_count": null,
   "metadata": {},
   "outputs": [],
   "source": [
    "print sim.value\n",
    "-np.log(np.trapz(sim._dos, dx=0.1))\n",
    "'guu_acc'.split('_')"
   ]
  },
  {
   "cell_type": "code",
   "execution_count": null,
   "metadata": {
    "scrolled": true
   },
   "outputs": [],
   "source": [
    "import matplotlib as mpl\n",
    "import matplotlib.pyplot as plt\n",
    "import scipy\n",
    "\n",
    "E = np.linspace(-100,100,2001)\n",
    "\n",
    "plt.plot(E, fuck.dos(E)*np.exp(-E))\n",
    "plt.plot(sim._dos_scores[:2000], sim._dos[:2000]*np.exp(-sim._dos_scores[:2000]))\n",
    "plt.xlabel('energy (REU)')\n",
    "plt.ylabel('$g(E)e^{-E/kT}$')\n",
    "plt.legend(('MM', 'RECCES'))\n",
    "print -scipy.special.logsumexp(-E, b=fuck.dos(E)), sim.value, fuck.harmonic_free_energy"
   ]
  },
  {
   "cell_type": "code",
   "execution_count": null,
   "metadata": {},
   "outputs": [],
   "source": [
    "print fuck.anharmonic_free_energy\n",
    "print fuck.harmonic_free_energy"
   ]
  },
  {
   "cell_type": "code",
   "execution_count": null,
   "metadata": {},
   "outputs": [],
   "source": [
    "\n",
    "print fuck.modes[:,0]\n",
    "pmm.apply(fuck.min_pose)"
   ]
  },
  {
   "cell_type": "code",
   "execution_count": null,
   "metadata": {},
   "outputs": [],
   "source": [
    "n_struct = 200\n",
    "\n",
    "ensemble = fuck.harmonic_ensemble(n_struct = n_struct)\n",
    "#print ensemble[2,:]-min_dofs\n",
    "#print np.sqrt(H)/np.sqrt((2*np.pi)**fuck.n_dofs)*np.exp(-np.dot(fuck.eigenvalues, ((min_dofs-ensemble[0,:])*np.pi/180)**2)/2)"
   ]
  },
  {
   "cell_type": "code",
   "execution_count": null,
   "metadata": {},
   "outputs": [],
   "source": [
    "pose = Pose()\n",
    "pose.assign(fuck.min_pose)\n",
    "\n",
    "hist_min = -100\n",
    "hist_max = 100\n",
    "delE = 0.1\n",
    "\n",
    "hist_scores = np.linspace(hist_min, hist_max, int((hist_max-hist_min)/delE)+1)\n",
    "\n",
    "hist = np.zeros_like(hist_scores)\n",
    "\n",
    "for i in range(n_struct):\n",
    "    \n",
    "    dofs = ensemble[i,:]\n",
    "    \n",
    "    for key in fuck.dof_dict: pose.set_torsion(fuck.dof_dict[key], dofs[key])\n",
    "        \n",
    "    energy = fuck.scorefxn(pose)\n",
    "    \n",
    "    if energy < hist_max+delE:\n",
    "             \n",
    "        hist_idx = math.floor((energy-hist_min)/delE)\n",
    "        hist_idx = int(hist_idx)\n",
    "        hist[hist_idx] += 1\n"
   ]
  },
  {
   "cell_type": "code",
   "execution_count": null,
   "metadata": {},
   "outputs": [],
   "source": [
    "shit = hist*np.exp(hist_scores)/np.sum(hist)\n",
    "shit = shit/np.sum(shit)\n",
    "print -scipy.special.logsumexp(-hist_scores, b = shit)\n",
    "plt.plot(hist_scores, shit*np.exp(-hist_scores)/torsion_volume(seq1, seq2))\n",
    "plt.plot(sim._dos_scores[:2000], sim._dos[:2000]*np.exp(-sim._dos_scores[:2000]))"
   ]
  },
  {
   "cell_type": "code",
   "execution_count": null,
   "metadata": {},
   "outputs": [],
   "source": [
    "pose = Pose()\n",
    "pose_new = Pose()\n",
    "pose.assign(fuck.min_pose)\n",
    "for key in fuck.dof_dict: pose.set_torsion(fuck.dof_dict[key],ensemble[0,:][key])\n",
    "\n",
    "pose_new.assign(pose)\n",
    "\n",
    "E_0 = fuck.scorefxn(fuck.min_pose)\n",
    "energy = E_0\n",
    "\n",
    "min_dofs = [fuck.min_pose.torsion(fuck.dof_dict[key]) for key in fuck.dof_dict]\n",
    "curr_dofs = min_dofs\n",
    "print min_dofs\n",
    "\n",
    "Z = 0\n",
    "H = np.product(fuck.eigenvalues)\n",
    "\n",
    "for j in range(1,n_struct):\n",
    "    \n",
    "    trial_move = ensemble[j, :]\n",
    "     \n",
    "    for key in fuck.dof_dict: pose_new.set_torsion(fuck.dof_dict[key], trial_move[key]) \n",
    "\n",
    "    energy_new = fuck.scorefxn(pose_new)\n",
    "    \n",
    "    if np.exp(-(energy_new-energy)) > np.random.random():\n",
    "        \n",
    "        energy = energy_new\n",
    "        pose.assign(pose_new)\n",
    "        curr_dofs = trial_move\n",
    "        \n",
    "    \n",
    "\n",
    "        #p = np.sqrt(H/(2*np.pi)**fuck.n_dofs)*np.exp(-np.dot(fuck.eigenvalues, ((trial_move-min_dofs)*(np.pi/180)**2)**2)/2)\n",
    "    if energy < hist_max+delE:\n",
    "             \n",
    "        hist_idx = math.floor((energy-hist_min)/delE)\n",
    "        hist_idx = int(hist_idx)\n",
    "        hist[hist_idx] += 1\n",
    "\n",
    "    "
   ]
  },
  {
   "cell_type": "code",
   "execution_count": null,
   "metadata": {},
   "outputs": [],
   "source": [
    "#plt.plot(hist_scores, hist)\n",
    "shit = hist/np.sum(hist)\n",
    "shit = shit*np.exp(hist_scores)\n",
    "shit = shit/np.sum(shit)\n",
    "#plt.plot(hist_scores, shit)\n",
    "plt.plot(hist_scores, hist/np.sum(hist))\n",
    "print -np.log(np.exp(-E_0)*(0.25)**fuck.n_dofs/0.35)\n"
   ]
  },
  {
   "cell_type": "code",
   "execution_count": null,
   "metadata": {
    "scrolled": true
   },
   "outputs": [],
   "source": [
    "print ensemble\n",
    "pmm = PyMOLMover()\n",
    "pmm.keep_history(True)\n",
    "print ensemble[1,:]"
   ]
  },
  {
   "cell_type": "code",
   "execution_count": null,
   "metadata": {},
   "outputs": [],
   "source": [
    "pose = Pose()\n",
    "pose.assign(fuck.min_pose)\n",
    "\n",
    "for i in range(200):\n",
    "    \n",
    "    dofs = ensemble[i,:]\n",
    "    for key in fuck.dof_dict: pose.set_torsion(fuck.dof_dict[key], dofs[key]) \n",
    "    pmm.apply(pose)\n",
    "    "
   ]
  },
  {
   "cell_type": "code",
   "execution_count": null,
   "metadata": {},
   "outputs": [],
   "source": [
    "print np.cov(ensemble)"
   ]
  },
  {
   "cell_type": "code",
   "execution_count": null,
   "metadata": {},
   "outputs": [],
   "source": [
    "w,v = np.linalg.eigh(np.cov(ensemble.T))\n",
    "print fuck.eigenvalues"
   ]
  },
  {
   "cell_type": "code",
   "execution_count": null,
   "metadata": {},
   "outputs": [],
   "source": [
    "print 1/w*180*180/np.pi/np.pi"
   ]
  },
  {
   "cell_type": "code",
   "execution_count": null,
   "metadata": {},
   "outputs": [],
   "source": [
    "\n",
    "print fuck.min_energy - 0.5*fuck.n_dofs*np.log(2*np.pi) + 0.5*np.log(np.prod(1/w))"
   ]
  },
  {
   "cell_type": "code",
   "execution_count": null,
   "metadata": {},
   "outputs": [],
   "source": [
    "print fuck.anharmonic_free_energy"
   ]
  },
  {
   "cell_type": "code",
   "execution_count": null,
   "metadata": {},
   "outputs": [],
   "source": [
    "print fuck.min_pose"
   ]
  },
  {
   "cell_type": "code",
   "execution_count": null,
   "metadata": {},
   "outputs": [],
   "source": [
    "mu = np.zeros(fuck.n_dofs)"
   ]
  },
  {
   "cell_type": "code",
   "execution_count": null,
   "metadata": {},
   "outputs": [],
   "source": [
    "print mu"
   ]
  },
  {
   "cell_type": "code",
   "execution_count": null,
   "metadata": {},
   "outputs": [],
   "source": [
    "mu = [fuck.min_pose.torsion(fuck.dof_dict[key]) for key in fuck.dof_dict]"
   ]
  },
  {
   "cell_type": "code",
   "execution_count": null,
   "metadata": {},
   "outputs": [],
   "source": [
    "print mu\n",
    "bitch = np.linalg.inv(fuck.hessian)"
   ]
  },
  {
   "cell_type": "code",
   "execution_count": null,
   "metadata": {},
   "outputs": [],
   "source": [
    "shit = np.random.multivariate_normal(mu, bitch, size=(2000))"
   ]
  },
  {
   "cell_type": "code",
   "execution_count": null,
   "metadata": {},
   "outputs": [],
   "source": [
    "print shit[0,:]"
   ]
  },
  {
   "cell_type": "code",
   "execution_count": null,
   "metadata": {},
   "outputs": [],
   "source": [
    "random_struct = np.zeros((fuck.n_dofs, 2000))\n",
    "\n",
    "for j in range(2000):\n",
    "    \n",
    "    random_struct[:,j] = np.random.multivariate_normal(mu, bitch)"
   ]
  },
  {
   "cell_type": "code",
   "execution_count": null,
   "metadata": {},
   "outputs": [],
   "source": [
    "print random_struct"
   ]
  },
  {
   "cell_type": "code",
   "execution_count": null,
   "metadata": {},
   "outputs": [],
   "source": [
    "print np.cov(random_struct)"
   ]
  },
  {
   "cell_type": "code",
   "execution_count": null,
   "metadata": {},
   "outputs": [],
   "source": [
    "w,v = np.linalg.eigh(np.cov(random_struct))"
   ]
  },
  {
   "cell_type": "code",
   "execution_count": null,
   "metadata": {},
   "outputs": [],
   "source": [
    "print 1/w\n"
   ]
  },
  {
   "cell_type": "code",
   "execution_count": null,
   "metadata": {},
   "outputs": [],
   "source": [
    "cu_ag = MiningMinima('cuc', 'gag')"
   ]
  },
  {
   "cell_type": "code",
   "execution_count": null,
   "metadata": {},
   "outputs": [],
   "source": [
    "cu_ag.harmonic_free_energy"
   ]
  },
  {
   "cell_type": "code",
   "execution_count": null,
   "metadata": {},
   "outputs": [],
   "source": [
    "ensemble = cu_ag.harmonic_ensemble()"
   ]
  },
  {
   "cell_type": "code",
   "execution_count": null,
   "metadata": {},
   "outputs": [],
   "source": [
    "cu_ag.eigenvalues"
   ]
  },
  {
   "cell_type": "code",
   "execution_count": null,
   "metadata": {},
   "outputs": [],
   "source": [
    "np.diag(1/cu_ag.eigenvalues)"
   ]
  },
  {
   "cell_type": "code",
   "execution_count": null,
   "metadata": {},
   "outputs": [],
   "source": [
    "np.matmul( np.matmul( cu_ag.modes, np.diag(1/cu_ag.eigenvalues)), cu_ag.modes.T)"
   ]
  },
  {
   "cell_type": "code",
   "execution_count": null,
   "metadata": {},
   "outputs": [],
   "source": [
    "np.linalg.inv(cu_ag.hessian)"
   ]
  },
  {
   "cell_type": "code",
   "execution_count": null,
   "metadata": {},
   "outputs": [],
   "source": []
  }
 ],
 "metadata": {
  "kernelspec": {
   "display_name": "Python 2",
   "language": "python",
   "name": "python2"
  },
  "language_info": {
   "codemirror_mode": {
    "name": "ipython",
    "version": 2
   },
   "file_extension": ".py",
   "mimetype": "text/x-python",
   "name": "python",
   "nbconvert_exporter": "python",
   "pygments_lexer": "ipython2",
   "version": "2.7.15+"
  }
 },
 "nbformat": 4,
 "nbformat_minor": 2
}
