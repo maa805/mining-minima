{
 "cells": [
  {
   "cell_type": "code",
   "execution_count": 2,
   "metadata": {
    "scrolled": true
   },
   "outputs": [
    {
     "name": "stdout",
     "output_type": "stream",
     "text": [
      "PyRosetta-4 2019 [Rosetta PyRosetta4.Release.python27.ubuntu 2019.33+release.1e60c63beb532fd475f0f704d68d462b8af2a977 2019-08-09T15:19:57] retrieved from: http://www.pyrosetta.org\n",
      "(C) Copyright Rosetta Commons Member Institutions. Created in JHU by Sergey Lyskov and PyRosetta Team.\n",
      "\u001b[0mcore.init: \u001b[0mChecking for fconfig files in pwd and ./rosetta/flags\n",
      "\u001b[0mcore.init: \u001b[0mRosetta version: PyRosetta4.Release.python27.ubuntu r230 2019.33+release.1e60c63beb5 1e60c63beb532fd475f0f704d68d462b8af2a977 http://www.pyrosetta.org 2019-08-09T15:19:57\n",
      "\u001b[0mcore.init: \u001b[0mcommand: PyRosetta -ex1 -ex2aro -database /usr/local/lib/python2.7/dist-packages/pyrosetta-2019.33+release.1e60c63beb5-py2.7-linux-x86_64.egg/pyrosetta/database\n",
      "\u001b[0mbasic.random.init_random_generator: \u001b[0m'RNG device' seed mode, using '/dev/urandom', seed=24610373 seed_offset=0 real_seed=24610373\n",
      "\u001b[0mbasic.random.init_random_generator: \u001b[0mRandomGenerator:init: Normal mode, seed=24610373 RG_type=mt19937\n"
     ]
    }
   ],
   "source": [
    "import matplotlib as mpl\n",
    "import matplotlib.pyplot as plt\n",
    "from MiningMinima import *\n",
    "from calc_hessian_at_min import *\n",
    "import numpy as np\n",
    "import scipy\n",
    "import matplotlib as mpl\n",
    "import matplotlib.pyplot as plt\n",
    "import seaborn as sns"
   ]
  },
  {
   "cell_type": "code",
   "execution_count": 3,
   "metadata": {},
   "outputs": [
    {
     "data": {
      "image/png": "[encoded data removed]",
      "text/plain": [
       "<matplotlib.figure.Figure at 0x7f5a2536d350>"
      ]
     },
     "metadata": {},
     "output_type": "display_data"
    }
   ],
   "source": [
    "sns.set()\n",
    "palette = 'Set2'\n",
    "sns.palplot(sns.color_palette(palette))\n",
    "sns.set_palette(sns.color_palette(palette))\n",
    "sns.set_style('whitegrid')\n",
    "sns.set_context('notebook')"
   ]
  },
  {
   "cell_type": "markdown",
   "metadata": {},
   "source": [
    "### Some useful parameters for later on"
   ]
  },
  {
   "cell_type": "code",
   "execution_count": 4,
   "metadata": {},
   "outputs": [],
   "source": [
    "limit = np.pi/3\n",
    "dx = 0.001\n",
    "F = np.linspace(-100, 800, 9001)\n",
    "dF = 0.1"
   ]
  },
  {
   "cell_type": "markdown",
   "metadata": {},
   "source": [
    "### Developing subroutine to extract function derivative evaluations"
   ]
  },
  {
   "cell_type": "code",
   "execution_count": 954,
   "metadata": {
    "scrolled": true
   },
   "outputs": [
    {
     "name": "stdout",
     "output_type": "stream",
     "text": [
      "\u001b[0mcore.import_pose.import_pose: \u001b[0mFile '/mnt/c/Users/maadr/all_canonical_reweight/gga_ucc/ST/min.pdb' automatically determined to be of type PDB\n",
      "\u001b[0mcore.optimization.LineMinimizer: \u001b[0m\u001b[31m\u001b[1m[ ERROR ]\u001b[0m \u001b[31mInaccurate G! step= 1.90735e-06 Deriv= -0.000157609 Finite Diff= 0.000466406\u001b[0m\n"
     ]
    }
   ],
   "source": [
    "# use mm object to get stuff \n",
    "seq1, seq2 = 'gga', 'ucc'\n",
    "mm_sim = MiningMinima(infile='/mnt/c/Users/maadr/all_canonical_reweight/gga_ucc/ST/min.pdb', scorefxn='stepwise/rna/turner_new')"
   ]
  },
  {
   "cell_type": "code",
   "execution_count": 955,
   "metadata": {},
   "outputs": [
    {
     "name": "stdout",
     "output_type": "stream",
     "text": [
      "[5.05024854e-03 4.62620482e+00 6.60113398e+00 9.46885607e+00\n",
      " 1.12786111e+01 1.25425835e+01 1.89308132e+01 2.41275004e+01\n",
      " 3.02013779e+01 4.59838994e+01 5.81964255e+01 7.17116844e+01\n",
      " 7.62975014e+01 1.25975164e+02 1.46200541e+02 1.79284255e+02\n",
      " 2.93097335e+02 3.40878114e+02 9.08125289e+02 1.14637273e+03\n",
      " 1.37633003e+03 1.89624592e+03 5.57138064e+03 9.63094610e+03\n",
      " 1.60075080e+04 2.59457538e+04]\n"
     ]
    }
   ],
   "source": [
    "print mm_sim.eigenvalues"
   ]
  },
  {
   "cell_type": "code",
   "execution_count": 956,
   "metadata": {},
   "outputs": [
    {
     "data": {
      "text/plain": [
       "-24.857591562240763"
      ]
     },
     "execution_count": 956,
     "metadata": {},
     "output_type": "execute_result"
    }
   ],
   "source": [
    "mm_sim.min_energy - mm_sim.total_log_harmonic"
   ]
  },
  {
   "cell_type": "code",
   "execution_count": 957,
   "metadata": {},
   "outputs": [
    {
     "name": "stdout",
     "output_type": "stream",
     "text": [
      "\u001b[0mcore.optimization.LineMinimizer: \u001b[0m\u001b[31m\u001b[1m[ ERROR ]\u001b[0m \u001b[31mInaccurate G! step= 7.45058e-09 Deriv= -1.95589e-05 Finite Diff= 0.0116234\u001b[0m\n",
      "vector1_double[0.204236, 0.818335, 1.82066, -1.05552, 5.38445, -1.89297, 1.37709, -0.579835, -3.73109, 4.83277, 2.35129, 0.0289665, 2.56135, 0.0817805, 1.30417, -5.63551, 11.4594, -5.25188, 6.94324, -4.80557, -5.98501, 10.7529, 8.76755, 9.14961, 7.52379, 2.10211]\n"
     ]
    }
   ],
   "source": [
    "# get pose and scorefxn \n",
    "pose = protocols.recces.pose_setup_turner(seq1=seq1, seq2=seq2)\n",
    "scorefxn = mm_sim.scorefxn\n",
    "\n",
    "# set up movemap -- for now just get from the MM object -- and min map\n",
    "movemap = MoveMap()\n",
    "movemap.assign(mm_sim.movemap)  \n",
    "min_map = core.optimization.MinimizerMap()\n",
    "min_map.setup(pose, movemap)\n",
    "n = min_map.nangles()\n",
    "\n",
    "# set up min options\n",
    "min_options = core.optimization.MinimizerOptions(\n",
    "    'lbfgs_armijo_nonmonotone', 1e-30, True, False, False)\n",
    "min_options.nblist_auto_update(True)\n",
    "min_options.max_iter(1000000000)\n",
    "# get scorefunction ready for minimization\n",
    "start_score = scorefxn(pose)\n",
    "pose.energies().set_use_nblist(pose,min_map.domain_map(), True)\n",
    "multifunc = core.optimization.AtomTreeMultifunc(pose, min_map, scorefxn)\n",
    "scorefxn.setup_for_minimizing(pose, min_map) # this is the key command\n",
    "scorefxn.setup_for_derivatives(pose)\n",
    "\n",
    "min_dofs = Vector1([0.0]*min_map.nangles())\n",
    "min_map.copy_dofs_from_pose(pose,min_dofs)\n",
    "start_func_val = multifunc(min_dofs)\n",
    "theta = Vector1(list(min_dofs))\n",
    "dE_dtheta = Vector1(list(min_dofs))\n",
    "multifunc.dfunc(theta,dE_dtheta)\n",
    "\n",
    "# set up minimizer and run\n",
    "minimizer = core.optimization.Minimizer(multifunc, min_options)\n",
    "for _ in range(1): minimizer.run(min_dofs)\n",
    "print dE_dtheta"
   ]
  },
  {
   "cell_type": "code",
   "execution_count": 958,
   "metadata": {},
   "outputs": [],
   "source": [
    "min_options = core.optimization.MinimizerOptions(\n",
    "    'dfpmin', 1e-30, True, False, False)\n",
    "min_options.nblist_auto_update(True)\n",
    "min_options.max_iter(100000000)\n",
    "dfp_minimizer = core.optimization.Minimizer(multifunc, min_options)"
   ]
  },
  {
   "cell_type": "code",
   "execution_count": 959,
   "metadata": {},
   "outputs": [
    {
     "data": {
      "text/plain": [
       "-65.11110761724218"
      ]
     },
     "execution_count": 959,
     "metadata": {},
     "output_type": "execute_result"
    }
   ],
   "source": [
    "multifunc(min_dofs)"
   ]
  },
  {
   "cell_type": "code",
   "execution_count": 960,
   "metadata": {},
   "outputs": [
    {
     "data": {
      "text/plain": [
       "-65.17830429916899"
      ]
     },
     "execution_count": 960,
     "metadata": {},
     "output_type": "execute_result"
    }
   ],
   "source": [
    "mm_sim.multifunc(Vector1(list(mm_sim.min_dofs)))"
   ]
  },
  {
   "cell_type": "markdown",
   "metadata": {},
   "source": [
    "# Developing subroutine to calculate hessian from derivative evaluations"
   ]
  },
  {
   "cell_type": "code",
   "execution_count": 961,
   "metadata": {},
   "outputs": [],
   "source": [
    "def hessian_at_min(min_dofs, multifunc, h=1.5e-5):\n",
    "    min_dofs = np.array(min_dofs) # take advantage of numpy array indexing\n",
    "    n_dofs = len(min_dofs)\n",
    "    hessian = np.zeros((n_dofs,n_dofs))\n",
    "    plus = Vector1([0.0]*n_dofs)\n",
    "    plusplus = Vector1(list(plus))\n",
    "    minus = Vector1(list(plus))\n",
    "    minusminus = Vector1(list(minus))\n",
    "    naught = Vector1(list(minus))\n",
    "    \n",
    "    \n",
    "    for ii in range(n_dofs):\n",
    "        new_dofs = np.array(min_dofs)\n",
    "        #multifunc.dfunc(Vector1(list(new_dofs)), naught)\n",
    "        #new_dofs[ii] -= 4*h*180./np.pi\n",
    "        #multifunc.dfunc(Vector1(list(new_dofs)),plusplus)\n",
    "        new_dofs[ii] += h*180./np.pi\n",
    "        multifunc.dfunc(Vector1(list(new_dofs)), plus)\n",
    "        new_dofs[ii] -= 2*h*180./np.pi\n",
    "        multifunc.dfunc(Vector1(list(new_dofs)), minus)\n",
    "        #new_dofs[ii] += h*180./np.pi\n",
    "        #multifunc.dfunc(Vector1(list(new_dofs)), minusminus)\n",
    "        row = (np.array(plus) - np.array(minus))/h/4.\n",
    "        hessian[ii] += row\n",
    "    \n",
    "    for ii in range(n_dofs):\n",
    "        new_dofs = np.array(min_dofs)\n",
    "        #multifunc.dfunc(Vector1(list(new_dofs)), naught)\n",
    "        #new_dofs[ii] -= 4*h*180./np.pi\n",
    "        #multifunc.dfunc(Vector1(list(new_dofs)),plusplus)\n",
    "        new_dofs[ii] += h*180./np.pi\n",
    "        multifunc.dfunc(Vector1(list(new_dofs)), plus)\n",
    "        new_dofs[ii] -= 2*h*180./np.pi\n",
    "        multifunc.dfunc(Vector1(list(new_dofs)), minus)\n",
    "        #new_dofs[ii] += h*180./np.pi\n",
    "        #multifunc.dfunc(Vector1(list(new_dofs)), minusminus)\n",
    "        row = (np.array(plus) - np.array(minus))/h/4.\n",
    "        hessian[:,ii] += row\n",
    "    \n",
    "    \n",
    "    return 0.5*(hessian + hessian.T) # enforce symmetry"
   ]
  },
  {
   "cell_type": "code",
   "execution_count": 962,
   "metadata": {},
   "outputs": [],
   "source": [
    "def hessian_naive(min_dofs, multifunc, h=1e-7):\n",
    "    \n",
    "    min_dofs = np.array(min_dofs)\n",
    "    new_dofs = np.array(list(min_dofs))\n",
    "    n_dofs = len(min_dofs)\n",
    "    hessian_at_min = np.zeros((n_dofs, n_dofs))\n",
    "    \n",
    "    n_pts = 9\n",
    "    ind = int(n_pts/2)\n",
    "    \n",
    "    tor_ranges = np.zeros((n_pts, n_dofs))\n",
    "    energy = np.zeros((n_pts,n_pts))\n",
    "    \n",
    "    for ii in range(n_dofs):\n",
    "        tor_ranges[:,ii] = min_dofs[ii] + np.linspace(-ind*h, ind*h, n_pts)*180./np.pi\n",
    "\n",
    "    for pair in list(itertools.combinations(range(n_dofs), 2)):\n",
    "        x_torsion = pair[0]\n",
    "        y_torsion = pair[1]\n",
    "        x = tor_ranges[:,x_torsion]\n",
    "        y = tor_ranges[:,y_torsion]\n",
    "\n",
    "        for ii, xx in enumerate(x):\n",
    "            new_dofs[x_torsion] = xx\n",
    "\n",
    "            for jj, yy in enumerate(y):\n",
    "                new_dofs[y_torsion] = yy\n",
    "                energy[ii,jj] = multifunc(Vector1(list(new_dofs)))\n",
    "                new_dofs[y_torsion] = min_dofs[y_torsion]\n",
    "                \n",
    "            new_dofs[x_torsion] = min_dofs[x_torsion]\n",
    "        \n",
    "        hess = numpy_hessian(energy, h)\n",
    "        d2E_dx2 =  hess[0,0,:,:]\n",
    "        d2E_dy2 =  hess[1,1,:,:]\n",
    "        d2E_dxdy = hess[0,1,:,:]\n",
    "        \n",
    "        if hessian_at_min[x_torsion, x_torsion] == 0:\n",
    "            hessian_at_min[x_torsion, x_torsion] = d2E_dx2[ind,ind]\n",
    "        if hessian_at_min[y_torsion, y_torsion] == 0:\n",
    "            hessian_at_min[y_torsion, y_torsion] = d2E_dy2[ind,ind]\n",
    "        \n",
    "        hessian_at_min[x_torsion,y_torsion] = d2E_dxdy[ind,ind]\n",
    "        hessian_at_min[y_torsion,x_torsion] = d2E_dxdy[ind,ind]\n",
    "\n",
    "    return hessian_at_min"
   ]
  },
  {
   "cell_type": "code",
   "execution_count": 963,
   "metadata": {
    "scrolled": true
   },
   "outputs": [
    {
     "name": "stdout",
     "output_type": "stream",
     "text": [
      "\u001b[0mcore.optimization.LineMinimizer: \u001b[0m\u001b[31m\u001b[1m[ ERROR ]\u001b[0m \u001b[31mInaccurate G! step= 7.45058e-09 Deriv= -2.77978e-06 Finite Diff= 0.0247822\u001b[0m\n",
      "-65.2156749822\n",
      "\u001b[0mcore.optimization.LineMinimizer: \u001b[0m\u001b[31m\u001b[1m[ ERROR ]\u001b[0m \u001b[31mInaccurate G! step= 3.8147e-08 Deriv= -2.77978e-06 Finite Diff= 0.00341795\u001b[0m\n",
      "-65.2156749822\n",
      "\u001b[0mcore.optimization.LineMinimizer: \u001b[0m\u001b[31m\u001b[1m[ ERROR ]\u001b[0m \u001b[31mInaccurate G! step= 3.8147e-08 Deriv= -2.77978e-06 Finite Diff= 0.00341795\u001b[0m\n",
      "-65.2156749822\n",
      "\u001b[0mcore.optimization.LineMinimizer: \u001b[0m\u001b[31m\u001b[1m[ ERROR ]\u001b[0m \u001b[31mInaccurate G! step= 3.8147e-08 Deriv= -2.77978e-06 Finite Diff= 0.00341795\u001b[0m\n",
      "-65.2156749822\n",
      "\u001b[0mcore.optimization.LineMinimizer: \u001b[0m\u001b[31m\u001b[1m[ ERROR ]\u001b[0m \u001b[31mInaccurate G! step= 3.8147e-08 Deriv= -2.77978e-06 Finite Diff= 0.00341795\u001b[0m\n",
      "-65.2156749822\n",
      "\u001b[0mcore.optimization.LineMinimizer: \u001b[0m\u001b[31m\u001b[1m[ ERROR ]\u001b[0m \u001b[31mInaccurate G! step= 3.8147e-08 Deriv= -2.77978e-06 Finite Diff= 0.00341795\u001b[0m\n",
      "-65.2156749822\n",
      "\u001b[0mcore.optimization.LineMinimizer: \u001b[0m\u001b[31m\u001b[1m[ ERROR ]\u001b[0m \u001b[31mInaccurate G! step= 3.8147e-08 Deriv= -2.77978e-06 Finite Diff= 0.00341795\u001b[0m\n",
      "-65.2156749822\n",
      "\u001b[0mcore.optimization.LineMinimizer: \u001b[0m\u001b[31m\u001b[1m[ ERROR ]\u001b[0m \u001b[31mInaccurate G! step= 3.8147e-08 Deriv= -2.77978e-06 Finite Diff= 0.00341795\u001b[0m\n",
      "-65.2156749822\n",
      "\u001b[0mcore.optimization.LineMinimizer: \u001b[0m\u001b[31m\u001b[1m[ ERROR ]\u001b[0m \u001b[31mInaccurate G! step= 3.8147e-08 Deriv= -2.77978e-06 Finite Diff= 0.00341795\u001b[0m\n",
      "-65.2156749822\n",
      "\u001b[0mcore.optimization.LineMinimizer: \u001b[0m\u001b[31m\u001b[1m[ ERROR ]\u001b[0m \u001b[31mInaccurate G! step= 3.8147e-08 Deriv= -2.77978e-06 Finite Diff= 0.00341795\u001b[0m\n",
      "-65.2156749822\n"
     ]
    }
   ],
   "source": [
    "min_dofs = Vector1(list(mm_sim.min_dofs))\n",
    "\n",
    "for _ in range(10):\n",
    "    minimizer.run(min_dofs)\n",
    "    print multifunc(min_dofs)"
   ]
  },
  {
   "cell_type": "code",
   "execution_count": 964,
   "metadata": {},
   "outputs": [],
   "source": [
    "def min_func(dofs, multifunc):\n",
    "    dofs = Vector1(list(dofs))\n",
    "    dE_dtheta = Vector1(list(dofs))\n",
    "    energy = multifunc(dofs)\n",
    "    return energy\n",
    "\n",
    "def fprime(dofs, multifunc):\n",
    "    dofs = Vector1(list(dofs))\n",
    "    dE_dtheta = Vector1(list(dofs))\n",
    "    multifunc.dfunc(dofs, dE_dtheta)\n",
    "    dE_dtheta = np.array(dE_dtheta)\n",
    "    return dE_dtheta*1.0e5"
   ]
  },
  {
   "cell_type": "code",
   "execution_count": 965,
   "metadata": {},
   "outputs": [],
   "source": [
    "multifunc.dfunc(min_dofs, dE_dtheta)"
   ]
  },
  {
   "cell_type": "code",
   "execution_count": 966,
   "metadata": {},
   "outputs": [
    {
     "name": "stdout",
     "output_type": "stream",
     "text": [
      "vector1_double[0.000242221, -0.000236282, -0.000151515, -0.000510603, 0.000108966, 2.80298e-05, 3.34385e-06, -0.000138913, -0.000152818, 0.000132396, 0.000134447, 0.000213369, 0.000810768, 0.000297578, -0.000507955, -0.00022876, 0.000668401, -0.000213569, 0.000351698, -0.00029678, 8.29828e-05, -0.000181183, 0.000107375, 3.80293e-06, -0.000590139, -0.000291974]\n"
     ]
    }
   ],
   "source": [
    "print dE_dtheta\n"
   ]
  },
  {
   "cell_type": "code",
   "execution_count": 967,
   "metadata": {},
   "outputs": [],
   "source": [
    "from scipy.optimize import minimize"
   ]
  },
  {
   "cell_type": "code",
   "execution_count": 968,
   "metadata": {},
   "outputs": [],
   "source": [
    "result = minimize(min_func, x0=np.array(min_dofs), args=(multifunc,), jac=fprime, method='L-BFGS-B', tol=1e-16,)"
   ]
  },
  {
   "cell_type": "code",
   "execution_count": 969,
   "metadata": {},
   "outputs": [
    {
     "name": "stdout",
     "output_type": "stream",
     "text": [
      "[  71.80355791   68.1440972  -147.9346938    31.01445791  -75.38106108\n",
      " -157.20776105  -66.90170249  -79.90699635  173.5704956   -61.53608069\n",
      "   51.59891496   87.47999313 -143.85405244   72.82941505 -149.58369716\n",
      "   56.66839392  -78.19709175  171.12878539  -67.56938586  -65.72151791\n",
      "  176.11187108  -73.46631476   54.74840107  101.09819278   83.29066532\n",
      "   62.49741888]\n",
      "ABNORMAL_TERMINATION_IN_LNSRCH\n",
      "21\n"
     ]
    }
   ],
   "source": [
    "print result.x\n",
    "print result.message\n",
    "print result.nfev"
   ]
  },
  {
   "cell_type": "code",
   "execution_count": 970,
   "metadata": {},
   "outputs": [],
   "source": [
    "result = minimize(min_func, x0=np.array(result.x), args=(multifunc,), method='Nelder-Mead', options={'maxfev': 100000}, tol=1.5e-8)"
   ]
  },
  {
   "cell_type": "code",
   "execution_count": 971,
   "metadata": {},
   "outputs": [
    {
     "name": "stdout",
     "output_type": "stream",
     "text": [
      "[  72.21415683   68.28723029 -148.26404889   31.02695836  -75.21154601\n",
      " -157.19411483  -66.73635922  -79.91339745  173.4669016   -61.51251343\n",
      "   51.60032752   87.79228283 -143.92235515   72.88253351 -149.56304853\n",
      "   56.50000021  -78.1723324   171.23846753  -67.71593551  -65.61751641\n",
      "  176.20637255  -73.40607791   54.70014193  101.08188465   83.29199444\n",
      "   62.53452564]\n",
      "Optimization terminated successfully.\n",
      "19359\n"
     ]
    }
   ],
   "source": [
    "print result.x\n",
    "print result.message\n",
    "print result.nfev"
   ]
  },
  {
   "cell_type": "code",
   "execution_count": 972,
   "metadata": {},
   "outputs": [],
   "source": [
    "min_dofs = Vector1(list(result.x))"
   ]
  },
  {
   "cell_type": "code",
   "execution_count": 973,
   "metadata": {},
   "outputs": [
    {
     "name": "stdout",
     "output_type": "stream",
     "text": [
      "-65.2180061854\n"
     ]
    }
   ],
   "source": [
    "print multifunc(min_dofs)"
   ]
  },
  {
   "cell_type": "code",
   "execution_count": 974,
   "metadata": {},
   "outputs": [
    {
     "data": {
      "image/png": "[encoded data removed]",
      "text/plain": [
       "<matplotlib.figure.Figure at 0x7f5a00980dd0>"
      ]
     },
     "metadata": {},
     "output_type": "display_data"
    }
   ],
   "source": [
    "h = np.linspace(-2e-4,2e-4,101)\n",
    "dh = h[1]-h[0]\n",
    "out = np.zeros_like(h)\n",
    "for jj in range(0,5):\n",
    "    for ii, hh in enumerate(h):\n",
    "        new_dofs = np.array(min_dofs)\n",
    "        new_dofs[jj] += hh*180./np.pi\n",
    "        out[ii] =  multifunc(Vector1(list(new_dofs)))\n",
    "    plt.plot(h, out)"
   ]
  },
  {
   "cell_type": "code",
   "execution_count": 975,
   "metadata": {},
   "outputs": [],
   "source": [
    "min_map.copy_dofs_to_pose(pose, Vector1(list(min_dofs)))"
   ]
  },
  {
   "cell_type": "code",
   "execution_count": 976,
   "metadata": {},
   "outputs": [],
   "source": [
    "hessian = hessian_at_min(min_dofs, multifunc)\n",
    "#hessian2 = hessian_naive(min_dofs, multifunc)\n",
    "#hessian2 = 0.5*(hessian2 + hessian2.T) # enforce symmetry \n",
    "for ii, do in enumerate(min_map.dof_nodes()):\n",
    "    hessian[ii] *= min_map.torsion_scale_factor(do)"
   ]
  },
  {
   "cell_type": "code",
   "execution_count": 977,
   "metadata": {},
   "outputs": [
    {
     "name": "stdout",
     "output_type": "stream",
     "text": [
      "[[ 1.17244971e+02  1.57175615e+02  1.41908377e+02 -2.84259613e+02\n",
      "   1.32788659e+02 -3.16594971e+02  1.73527361e+02 -2.11319083e+02\n",
      "   3.00741444e+01 -1.08710121e+02  2.37023674e+02  5.09990960e+00\n",
      "  -2.69369511e+02  1.40325354e+00  4.43051658e+01 -4.52309605e+02\n",
      "   2.88270600e+02 -4.25372996e+02  2.60733398e+02 -4.53502787e+02\n",
      "  -1.20041199e+02 -3.42309641e+01  3.54826643e+02 -1.70692135e+02\n",
      "   2.97816971e+02 -1.58420679e+02]\n",
      " [ 1.57175615e+02  3.06743637e+02  2.23569289e+02 -5.73285632e+02\n",
      "   2.98785385e+02 -5.83420383e+02  2.20446672e+02 -4.27050767e+02\n",
      "  -8.27158300e+01 -2.87316174e+02  3.23637144e+02  1.85252371e+01\n",
      "  -5.26458339e+02  1.78110505e+01  9.20241101e+01 -8.14041210e+02\n",
      "   5.72327380e+02 -7.51698273e+02  4.63265723e+02 -8.21992926e+02\n",
      "  -2.63488619e+02 -1.14697448e+02  6.40072252e+02 -3.44679826e+02\n",
      "   5.71043324e+02 -2.94930875e+02]\n",
      " [ 1.41908377e+02  2.23569289e+02  5.19858546e+02 -3.87903480e+02\n",
      "   7.97954108e+02 -5.97136096e+02  5.87481581e+02 -3.63627423e+02\n",
      "  -1.37615565e+01  2.51135005e+02  6.99337663e+02  4.44842170e+01\n",
      "  -1.55394013e+02 -1.65293207e+00  2.34916196e+02 -1.08126698e+03\n",
      "   9.01347608e+02 -8.93589211e+02  1.01263040e+03 -9.85306496e+02\n",
      "  -1.39937482e+01  4.36182184e+02  1.17882893e+03  2.25542311e+02\n",
      "   4.70934646e+02  7.44128847e+01]\n",
      " [-2.84259613e+02 -5.73285632e+02 -3.87903480e+02  2.49261559e+03\n",
      "  -5.39807883e+02  2.31937161e+03 -3.51851299e+02  2.00880305e+03\n",
      "   2.18495467e+02  1.09306977e+03 -5.50547442e+02 -5.08330193e+01\n",
      "   1.74636776e+03  2.87837385e+02 -1.87007337e+02  1.52098773e+03\n",
      "  -1.14413087e+03  1.37620193e+03 -8.07546292e+02  1.55574781e+03\n",
      "   6.24436676e+02  3.83544242e+02 -1.16790201e+03  7.94172886e+02\n",
      "  -1.17839763e+03  6.39429545e+02]\n",
      " [ 1.32788659e+02  2.98785385e+02  7.97954108e+02 -5.39807883e+02\n",
      "   1.62389415e+03 -7.72854747e+02  7.03048086e+02 -4.77597081e+02\n",
      "  -5.07688966e+02  4.93745562e+02  8.15887629e+02 -1.84189990e+01\n",
      "  -1.04867345e+02 -7.46256244e+00  4.77615881e+02 -1.74466990e+03\n",
      "   1.87157052e+03 -1.38505724e+03  1.80246552e+03 -1.54494953e+03\n",
      "  -1.91984082e+02  1.01069013e+03  2.08165117e+03  7.15716524e+02\n",
      "   8.71907877e+02  3.33110864e+02]\n",
      " [-3.16594971e+02 -5.83420383e+02 -5.97136096e+02  2.31937161e+03\n",
      "  -7.72854747e+02  3.26151326e+03 -9.17204095e+02  2.34708787e+03\n",
      "  -2.16204950e+02 -1.47026330e+02 -1.09673109e+03 -5.87042170e+01\n",
      "   1.25803636e+03  3.12597544e+02 -1.41395195e+02  2.02606829e+03\n",
      "  -6.84778778e+02  1.77525677e+03 -1.43369003e+03  1.96228556e+03\n",
      "  -2.64999107e+02 -1.81257851e+01 -1.73772498e+03  4.47472415e+02\n",
      "  -7.05822053e+02  3.87661045e+02]\n",
      " [ 1.73527361e+02  2.20446672e+02  5.87481581e+02 -3.51851299e+02\n",
      "   7.03048086e+02 -9.17204095e+02  1.11168774e+03 -5.18341341e+02\n",
      "   5.39507584e+02  6.53601374e+02  1.24779989e+03  6.30327053e+01\n",
      "   3.79666632e+01  2.32451344e+00  1.72056937e+02 -1.33459658e+03\n",
      "   5.15532894e+02 -1.08460709e+03  1.28402918e+03 -1.19983869e+03\n",
      "   5.05088540e+02  5.28833721e+02  1.41795137e+03  3.00191181e+02\n",
      "   1.84817686e+02  1.48677158e+02]\n",
      " [-2.11319083e+02 -4.27050767e+02 -3.63627423e+02  2.00880305e+03\n",
      "  -4.77597081e+02  2.34708787e+03 -5.18341341e+02  1.87895087e+03\n",
      "  -5.98098589e+01  3.54986437e+02 -6.49437264e+02 -4.26630449e+01\n",
      "   1.15319311e+03  2.56440140e+02 -1.02447601e+02  1.32409513e+03\n",
      "  -5.63623457e+02  1.15339566e+03 -8.60861822e+02  1.30600572e+03\n",
      "   1.22762891e+01  1.39232337e+02 -1.09233526e+03  4.41407337e+02\n",
      "  -6.08924415e+02  3.50018605e+02]\n",
      " [ 3.00741444e+01 -8.27158300e+01 -1.37615565e+01  2.18495467e+02\n",
      "  -5.07688966e+02 -2.16204950e+02  5.39507584e+02 -5.98098589e+01\n",
      "   9.46571768e+02  4.09204075e+02  5.52162055e+02  8.95418759e+01\n",
      "   2.86795249e+02  6.60028043e+00 -1.82642917e+02  1.75639362e+02\n",
      "  -1.07083679e+03  1.46596255e+02 -1.48103998e+02  1.67846750e+02\n",
      "   8.05858998e+02 -1.97024131e+02 -2.80228754e+02 -1.39837993e+02\n",
      "  -6.82241845e+02 -4.68180107e+00]\n",
      " [-1.08710121e+02 -2.87316174e+02  2.51135005e+02  1.09306977e+03\n",
      "   4.93745562e+02 -1.47026330e+02  6.53601374e+02  3.54986437e+02\n",
      "   4.09204075e+02  2.13022807e+03  5.57235007e+02 -3.24106140e+01\n",
      "   1.45601706e+03  1.79383881e+01  6.32116716e+00 -1.70999097e+02\n",
      "  -4.68160057e+02  7.57343866e+00  8.02661437e+02  3.69537146e+01\n",
      "   1.20441985e+03  1.07636630e+03  6.18875901e+02  1.20484240e+03\n",
      "  -8.98852454e+02  8.40621677e+02]\n",
      " [ 2.37023674e+02  3.23637144e+02  6.99337663e+02 -5.50547442e+02\n",
      "   8.15887629e+02 -1.09673109e+03  1.24779989e+03 -6.49437264e+02\n",
      "   5.52162055e+02  5.57235007e+02  2.48123061e+03  8.68888146e+01\n",
      "  -1.46063636e+02  3.13067389e+00  2.06990180e+02 -1.64125665e+03\n",
      "   7.98152519e+02 -1.36380894e+03  1.47429531e+03 -1.50369944e+03\n",
      "   3.59639172e+02  5.37179916e+02  1.67925810e+03  2.23404855e+02\n",
      "   4.33180899e+02  6.29724347e+01]\n",
      " [ 5.09990960e+00  1.85252371e+01  4.44842170e+01 -5.08330193e+01\n",
      "  -1.84189990e+01 -5.87042170e+01  6.30327053e+01 -4.26630449e+01\n",
      "   8.95418759e+01 -3.24106140e+01  8.68888146e+01  2.36905621e+02\n",
      "  -5.16750520e+01  2.97565490e+02  1.49112930e+02 -4.44867022e+02\n",
      "  -2.63361432e+02 -5.98521313e+02  2.36493120e+02 -4.89234199e+02\n",
      "   5.13650042e+02 -3.29873635e+02  2.60496480e+02 -6.21417130e+02\n",
      "  -1.53207540e+02 -4.00684770e+02]\n",
      " [-2.69369511e+02 -5.26458339e+02 -1.55394013e+02  1.74636776e+03\n",
      "  -1.04867345e+02  1.25803636e+03  3.79666632e+01  1.15319311e+03\n",
      "   2.86795249e+02  1.45601706e+03 -1.46063636e+02 -5.16750520e+01\n",
      "   1.70088027e+03  1.50030204e+02 -1.08803320e+02  9.74835227e+02\n",
      "  -9.30855026e+02  1.01434973e+03 -1.81780407e+02  1.10619399e+03\n",
      "   9.30914155e+02  7.30762910e+02 -5.08529331e+02  1.11489287e+03\n",
      "  -1.19539903e+03  8.53468803e+02]\n",
      " [ 1.40325354e+00  1.78110505e+01 -1.65293207e+00  2.87837385e+02\n",
      "  -7.46256244e+00  3.12597544e+02  2.32451344e+00  2.56440140e+02\n",
      "   6.60028043e+00  1.79383881e+01  3.13067389e+00  2.97565490e+02\n",
      "   1.50030204e+02  8.33873271e+02  2.50425188e+02 -8.40746660e+02\n",
      "  -4.44653855e+02 -1.18290454e+03  3.67897361e+02 -9.36986727e+02\n",
      "   8.55797491e+02 -6.08777374e+02  4.03313008e+02 -1.22131364e+03\n",
      "  -2.60680844e+02 -8.56579726e+02]\n",
      " [ 4.43051658e+01  9.20241101e+01  2.34916196e+02 -1.87007337e+02\n",
      "   4.77615881e+02 -1.41395195e+02  1.72056937e+02 -1.02447601e+02\n",
      "  -1.82642917e+02  6.32116716e+00  2.06990180e+02  1.49112930e+02\n",
      "  -1.08803320e+02  2.50425188e+02  6.37124667e+02 -7.22724399e+02\n",
      "   1.11163330e+03 -8.39863760e+02  8.72157422e+02 -6.59822010e+02\n",
      "   3.64082364e+01  4.84041868e+02  1.02277618e+03  4.91341451e+01\n",
      "   3.99778515e+02 -1.47960520e+02]\n",
      " [-4.52309605e+02 -8.14041210e+02 -1.08126698e+03  1.52098773e+03\n",
      "  -1.74466990e+03  2.02606829e+03 -1.33459658e+03  1.32409513e+03\n",
      "   1.75639362e+02 -1.70999097e+02 -1.64125665e+03 -4.44867022e+02\n",
      "   9.74835227e+02 -8.40746660e+02 -7.22724399e+02  5.87069332e+03\n",
      "  -1.33753352e+03  4.85458585e+03 -3.19225692e+03  4.81978891e+03\n",
      "  -1.27115489e+03  1.79277142e+02 -3.74368243e+03  1.89130012e+03\n",
      "  -1.00186284e+03  1.40509992e+03]\n",
      " [ 2.88270600e+02  5.72327380e+02  9.01347608e+02 -1.14413087e+03\n",
      "   1.87157052e+03 -6.84778778e+02  5.15532894e+02 -5.63623457e+02\n",
      "  -1.07083679e+03 -4.68160057e+02  7.98152519e+02 -2.63361432e+02\n",
      "  -9.30855026e+02 -4.44653855e+02  1.11163330e+03 -1.33753352e+03\n",
      "   5.39217548e+03 -9.64369925e+02  1.82728054e+03 -9.86433652e+02\n",
      "  -3.19838551e+03  2.76033700e+03  2.45787331e+03  2.32006050e+03\n",
      "   3.00025902e+03  6.60769683e+02]\n",
      " [-4.25372996e+02 -7.51698273e+02 -8.93589211e+02  1.37620193e+03\n",
      "  -1.38505724e+03  1.77525677e+03 -1.08460709e+03  1.15339566e+03\n",
      "   1.46596255e+02  7.57343866e+00 -1.36380894e+03 -5.98521313e+02\n",
      "   1.01434973e+03 -1.18290454e+03 -8.39863760e+02  4.85458585e+03\n",
      "  -9.64369925e+02  5.12491118e+03 -2.97181364e+03  4.78548930e+03\n",
      "  -1.57507019e+03  4.15627584e+02 -3.48690523e+03  2.47475028e+03\n",
      "  -7.80488578e+02  1.90070618e+03]\n",
      " [ 2.60733398e+02  4.63265723e+02  1.01263040e+03 -8.07546292e+02\n",
      "   1.80246552e+03 -1.43369003e+03  1.28402918e+03 -8.60861822e+02\n",
      "  -1.48103998e+02  8.02661437e+02  1.47429531e+03  2.36493120e+02\n",
      "  -1.81780407e+02  3.67897361e+02  8.72157422e+02 -3.19225692e+03\n",
      "   1.82728054e+03 -2.97181364e+03  3.17101044e+03 -2.91836822e+03\n",
      "   1.11690632e+03  1.35612817e+03  3.54401501e+03  4.35520079e+02\n",
      "   6.65791278e+02  5.84745873e+01]\n",
      " [-4.53502787e+02 -8.21992926e+02 -9.85306496e+02  1.55574781e+03\n",
      "  -1.54494953e+03  1.96228556e+03 -1.19983869e+03  1.30600572e+03\n",
      "   1.67846750e+02  3.69537146e+01 -1.50369944e+03 -4.89234199e+02\n",
      "   1.10619399e+03 -9.36986727e+02 -6.59822010e+02  4.81978891e+03\n",
      "  -9.86433652e+02  4.78548930e+03 -2.91836822e+03  4.76965886e+03\n",
      "  -1.34524185e+03  7.30776577e+02 -3.45976070e+03  2.40588334e+03\n",
      "  -9.24175441e+02  1.65876342e+03]\n",
      " [-1.20041199e+02 -2.63488619e+02 -1.39937482e+01  6.24436676e+02\n",
      "  -1.91984082e+02 -2.64999107e+02  5.05088540e+02  1.22762891e+01\n",
      "   8.05858998e+02  1.20441985e+03  3.59639172e+02  5.13650042e+02\n",
      "   9.30914155e+02  8.55797491e+02  3.64082364e+01 -1.27115489e+03\n",
      "  -3.19838551e+03 -1.57507019e+03  1.11690632e+03 -1.34524185e+03\n",
      "   4.11330509e+03 -1.18123010e+03  8.00357010e+02 -1.64146148e+03\n",
      "  -2.41747349e+03 -4.79885060e+02]\n",
      " [-3.42309641e+01 -1.14697448e+02  4.36182184e+02  3.83544242e+02\n",
      "   1.01069013e+03 -1.81257851e+01  5.28833721e+02  1.39232337e+02\n",
      "  -1.97024131e+02  1.07636630e+03  5.37179916e+02 -3.29873635e+02\n",
      "   7.30762910e+02 -6.08777374e+02  4.84041868e+02  1.79277142e+02\n",
      "   2.76033700e+03  4.15627584e+02  1.35612817e+03  7.30776577e+02\n",
      "  -1.18123010e+03  4.17057394e+03  1.42217655e+03  4.14306582e+03\n",
      "   8.04259926e+02  1.86479435e+03]\n",
      " [ 3.54826643e+02  6.40072252e+02  1.17882893e+03 -1.16790201e+03\n",
      "   2.08165117e+03 -1.73772498e+03  1.41795137e+03 -1.09233526e+03\n",
      "  -2.80228754e+02  6.18875901e+02  1.67925810e+03  2.60496480e+02\n",
      "  -5.08529331e+02  4.03313008e+02  1.02277618e+03 -3.74368243e+03\n",
      "   2.45787331e+03 -3.48690523e+03  3.54401501e+03 -3.45976070e+03\n",
      "   8.00357010e+02  1.42217655e+03  5.10634052e+03  3.09555362e+02\n",
      "   1.20185508e+03 -1.36155355e+02]\n",
      " [-1.70692135e+02 -3.44679826e+02  2.25542311e+02  7.94172886e+02\n",
      "   7.15716524e+02  4.47472415e+02  3.00191181e+02  4.41407337e+02\n",
      "  -1.39837993e+02  1.20484240e+03  2.23404855e+02 -6.21417130e+02\n",
      "   1.11489287e+03 -1.22131364e+03  4.91341451e+01  1.89130012e+03\n",
      "   2.32006050e+03  2.47475028e+03  4.35520079e+02  2.40588334e+03\n",
      "  -1.64146148e+03  4.14306582e+03  3.09555362e+02  5.22548255e+03\n",
      "   4.71308221e+02  2.90099758e+03]\n",
      " [ 2.97816971e+02  5.71043324e+02  4.70934646e+02 -1.17839763e+03\n",
      "   8.71907877e+02 -7.05822053e+02  1.84817686e+02 -6.08924415e+02\n",
      "  -6.82241845e+02 -8.98852454e+02  4.33180899e+02 -1.53207540e+02\n",
      "  -1.19539903e+03 -2.60680844e+02  3.99778515e+02 -1.00186284e+03\n",
      "   3.00025902e+03 -7.80488578e+02  6.65791278e+02 -9.24175441e+02\n",
      "  -2.41747349e+03  8.04259926e+02  1.20185508e+03  4.71308221e+02\n",
      "   2.37534926e+03 -2.34629838e+02]\n",
      " [-1.58420679e+02 -2.94930875e+02  7.44128847e+01  6.39429545e+02\n",
      "   3.33110864e+02  3.87661045e+02  1.48677158e+02  3.50018605e+02\n",
      "  -4.68180107e+00  8.40621677e+02  6.29724347e+01 -4.00684770e+02\n",
      "   8.53468803e+02 -8.56579726e+02 -1.47960520e+02  1.40509992e+03\n",
      "   6.60769683e+02  1.90070618e+03  5.84745873e+01  1.65876342e+03\n",
      "  -4.79885060e+02  1.86479435e+03 -1.36155355e+02  2.90099758e+03\n",
      "  -2.34629838e+02  1.98538143e+03]]\n"
     ]
    },
    {
     "ename": "NameError",
     "evalue": "name 'hessian2' is not defined",
     "output_type": "error",
     "traceback": [
      "\u001b[0;31m---------------------------------------------------------------------------\u001b[0m",
      "\u001b[0;31mNameError\u001b[0m                                 Traceback (most recent call last)",
      "\u001b[0;32m<ipython-input-977-b37e20e1dbc9>\u001b[0m in \u001b[0;36m<module>\u001b[0;34m()\u001b[0m\n\u001b[1;32m      1\u001b[0m \u001b[0;32mprint\u001b[0m \u001b[0mhessian\u001b[0m\u001b[0;34m\u001b[0m\u001b[0;34m\u001b[0m\u001b[0m\n\u001b[0;32m----> 2\u001b[0;31m \u001b[0;32mprint\u001b[0m \u001b[0mhessian2\u001b[0m\u001b[0;34m\u001b[0m\u001b[0;34m\u001b[0m\u001b[0m\n\u001b[0m",
      "\u001b[0;31mNameError\u001b[0m: name 'hessian2' is not defined"
     ]
    }
   ],
   "source": [
    "print hessian\n",
    "print hessian2"
   ]
  },
  {
   "cell_type": "code",
   "execution_count": 978,
   "metadata": {},
   "outputs": [],
   "source": [
    "from scipy.linalg import eigh"
   ]
  },
  {
   "cell_type": "code",
   "execution_count": 979,
   "metadata": {},
   "outputs": [],
   "source": [
    "hessian_pert = hessian + np.random.rand(min_map.nangles(), min_map.nangles())\n",
    "eigenvalues, modes = scipy.linalg.eigh(hessian)\n",
    "#eig2, mode2 = eigh(0.5*(hessian2+hessian2.T))"
   ]
  },
  {
   "cell_type": "code",
   "execution_count": 980,
   "metadata": {},
   "outputs": [
    {
     "name": "stdout",
     "output_type": "stream",
     "text": [
      "[1.31985044e+00 1.77182490e+00 3.32894340e+00 3.84823370e+00\n",
      " 5.52043579e+00 1.55131289e+01 2.03718643e+01 3.60490169e+01\n",
      " 3.90762617e+01 4.63688236e+01 8.89807716e+01 1.07473645e+02\n",
      " 1.59203192e+02 2.03160909e+02 2.75901701e+02 4.79483743e+02\n",
      " 5.46916643e+02 7.68096644e+02 1.09457359e+03 1.35546537e+03\n",
      " 1.49542373e+03 2.25179970e+03 5.29997842e+03 9.93218641e+03\n",
      " 1.62691264e+04 2.70832659e+04]\n"
     ]
    }
   ],
   "source": [
    "print eigenvalues\n",
    "#print eig2"
   ]
  },
  {
   "cell_type": "code",
   "execution_count": 981,
   "metadata": {},
   "outputs": [
    {
     "name": "stdout",
     "output_type": "stream",
     "text": [
      "[1.31985044e+00 1.77182490e+00 3.32894340e+00 3.84823370e+00\n",
      " 5.52043579e+00 1.55131289e+01 2.03718643e+01 3.60490169e+01\n",
      " 3.90762617e+01 4.63688236e+01 8.89807716e+01 1.07473645e+02\n",
      " 1.59203192e+02 2.03160909e+02 2.75901701e+02 4.79483743e+02\n",
      " 5.46916643e+02 7.68096644e+02 1.09457359e+03 1.35546537e+03\n",
      " 1.49542373e+03 2.25179970e+03 5.29997842e+03 9.93218641e+03\n",
      " 1.62691264e+04 2.70832659e+04]\n"
     ]
    },
    {
     "ename": "NameError",
     "evalue": "name 'eig2' is not defined",
     "output_type": "error",
     "traceback": [
      "\u001b[0;31m---------------------------------------------------------------------------\u001b[0m",
      "\u001b[0;31mNameError\u001b[0m                                 Traceback (most recent call last)",
      "\u001b[0;32m<ipython-input-981-69461c18254d>\u001b[0m in \u001b[0;36m<module>\u001b[0;34m()\u001b[0m\n\u001b[1;32m      1\u001b[0m \u001b[0;32mprint\u001b[0m \u001b[0meigenvalues\u001b[0m\u001b[0;34m\u001b[0m\u001b[0;34m\u001b[0m\u001b[0m\n\u001b[0;32m----> 2\u001b[0;31m \u001b[0;32mprint\u001b[0m \u001b[0meig2\u001b[0m\u001b[0;34m\u001b[0m\u001b[0;34m\u001b[0m\u001b[0m\n\u001b[0m",
      "\u001b[0;31mNameError\u001b[0m: name 'eig2' is not defined"
     ]
    }
   ],
   "source": [
    "print eigenvalues\n",
    "print eig2"
   ]
  },
  {
   "cell_type": "code",
   "execution_count": 982,
   "metadata": {},
   "outputs": [],
   "source": [
    "fuck, shit, hell = scipy.linalg.svd(hessian)"
   ]
  },
  {
   "cell_type": "code",
   "execution_count": 983,
   "metadata": {},
   "outputs": [
    {
     "data": {
      "text/plain": [
       "66.58214508041789"
      ]
     },
     "execution_count": 983,
     "metadata": {},
     "output_type": "execute_result"
    }
   ],
   "source": [
    "0.5*np.log(np.product(shit))\n"
   ]
  },
  {
   "cell_type": "code",
   "execution_count": 984,
   "metadata": {},
   "outputs": [],
   "source": [
    "pseudo_det = 1.\n",
    "n = 0\n",
    "for ii, eigen in enumerate(eigenvalues):\n",
    "    if eigen > 0:\n",
    "        pseudo_det *= eigen\n",
    "        n += 1 "
   ]
  },
  {
   "cell_type": "code",
   "execution_count": 985,
   "metadata": {},
   "outputs": [
    {
     "name": "stdout",
     "output_type": "stream",
     "text": [
      "-22.528262968286363\n"
     ]
    }
   ],
   "source": [
    "print multifunc(min_dofs) + 0.5*np.log(np.product(pseudo_det)) - 0.5*np.log(2*np.pi)*n"
   ]
  },
  {
   "cell_type": "code",
   "execution_count": 986,
   "metadata": {},
   "outputs": [
    {
     "data": {
      "text/plain": [
       "[<matplotlib.lines.Line2D at 0x7f59fdc4f0d0>]"
      ]
     },
     "execution_count": 986,
     "metadata": {},
     "output_type": "execute_result"
    },
    {
     "data": {
      "image/png": "[encoded data removed]",
      "text/plain": [
       "<matplotlib.figure.Figure at 0x7f59fe8d03d0>"
      ]
     },
     "metadata": {},
     "output_type": "display_data"
    }
   ],
   "source": [
    "plt.plot(range(len(eigenvalues[:5])), eigenvalues[:5],'.')\n",
    "#plt.xlabel('index')\n",
    "#plt.ylabel('eigenvalue')\n",
    "#plt.legend(('new', 'old'))"
   ]
  },
  {
   "cell_type": "markdown",
   "metadata": {},
   "source": [
    "# Developing subroutine to mode scan using AtomTreeMultifunc"
   ]
  },
  {
   "cell_type": "code",
   "execution_count": 987,
   "metadata": {},
   "outputs": [],
   "source": [
    "pmm = PyMOLMover()\n",
    "pmm.keep_history(True)"
   ]
  },
  {
   "cell_type": "code",
   "execution_count": 988,
   "metadata": {},
   "outputs": [],
   "source": [
    "from scipy.special import erf"
   ]
  },
  {
   "cell_type": "code",
   "execution_count": 989,
   "metadata": {},
   "outputs": [],
   "source": [
    "def mode_scan(min_dofs, multifunc, mode, limit=np.pi/3, dx=0.005):\n",
    "    # convert to np array for useful indexing\n",
    "    min_dofs = np.array(min_dofs)\n",
    "    delta_array = np.linspace(-limit, limit, int(2*limit/dx)+1)\n",
    "    \n",
    "    # initialize result\n",
    "    result = np.zeros_like(delta_array)\n",
    "    \n",
    "    # evaluate using multifunc \n",
    "    for ii, delta in enumerate(delta_array):\n",
    "        result[ii] = pert_eval(delta, min_dofs, mode, multifunc)\n",
    "    \n",
    "    return result    \n",
    "    \n",
    "def pert_eval(pert, min_dofs, mode, multifunc):\n",
    "    new_dofs = min_dofs[:] + mode*pert*180./np.pi\n",
    "    return multifunc(array_to_vector1(new_dofs))"
   ]
  },
  {
   "cell_type": "code",
   "execution_count": 990,
   "metadata": {
    "scrolled": true
   },
   "outputs": [],
   "source": [
    "def compute_total_partition(min_dofs, multifunc, modes, limit=np.pi, dx=0.005):\n",
    "    # initialize output\n",
    "    total_log_partition = 0 \n",
    "    total_log_harmonic = 0\n",
    "    scans = tuple()\n",
    "    xx = np.linspace(-limit, limit, int(2*limit/dx)+1)\n",
    "    \n",
    "    for ii, mode in enumerate(modes.T): # columns of array are eigenvectors\n",
    "        if eigenvalues[ii] < 0: continue\n",
    "        result = mode_scan(min_dofs, multifunc, mode, limit=limit, dx=dx)\n",
    "        result -= multifunc(min_dofs)\n",
    "        scans = scans + (result,)\n",
    "        total_log_partition += np.log(np.trapz(np.exp(-result),dx=dx))\n",
    "        #total_log_harmonic += np.log(np.trapz(np.exp(-eigenvalues[ii]*xx**2),dx=dx))\n",
    "        total_log_harmonic += np.log( np.sqrt(2*np.pi/eigenvalues[ii])*(erf(2*np.pi/np.sqrt(2/eigenvalues[ii]))))\n",
    "    \n",
    "    return total_log_partition, total_log_harmonic, np.row_stack(scans)"
   ]
  },
  {
   "cell_type": "code",
   "execution_count": 991,
   "metadata": {},
   "outputs": [],
   "source": [
    "limit = np.pi/3\n",
    "dx = 0.005\n",
    "total_log_partition, total_log_harmonic, mode_scans = compute_total_partition(min_dofs, multifunc, modes, limit=limit, dx=dx)"
   ]
  },
  {
   "cell_type": "code",
   "execution_count": 992,
   "metadata": {},
   "outputs": [
    {
     "data": {
      "image/png": "[encoded data removed]",
      "text/plain": [
       "<matplotlib.figure.Figure at 0x7f5a0d72cad0>"
      ]
     },
     "metadata": {},
     "output_type": "display_data"
    }
   ],
   "source": [
    "palette = 'Set2'\n",
    "sns.palplot(sns.color_palette(palette))\n",
    "sns.set_palette(sns.color_palette(palette))\n",
    "sns.set_style('whitegrid')\n",
    "sns.set_context('notebook')"
   ]
  },
  {
   "cell_type": "code",
   "execution_count": 993,
   "metadata": {},
   "outputs": [
    {
     "data": {
      "text/plain": [
       "<matplotlib.legend.Legend at 0x7f59f7f35b50>"
      ]
     },
     "execution_count": 993,
     "metadata": {},
     "output_type": "execute_result"
    },
    {
     "data": {
      "image/png": "[encoded data removed]",
      "text/plain": [
       "<matplotlib.figure.Figure at 0x7f59f90c2610>"
      ]
     },
     "metadata": {},
     "output_type": "display_data"
    }
   ],
   "source": [
    "xx = np.linspace(-limit,limit,int(2*limit/dx)+1)\n",
    "fig, ax = plt.subplots(ncols=6,nrows=5,figsize=(18,9))\n",
    "for ii, scan in enumerate(mode_scans):\n",
    "    curr_ax = ax.flatten()[ii]\n",
    "    curr_ax.fill(xx,np.exp(-scan), alpha=0.6)\n",
    "    curr_ax.fill(xx,np.exp(-eigenvalues[ii]*xx**2), alpha=0.6)\n",
    "\n",
    "# turn off unused subplots\n",
    "for jj in range(ii+1,30):\n",
    "    curr_ax = ax.flatten()[jj]\n",
    "    curr_ax.axis('off')\n",
    "    \n",
    "for axis in ax.flatten():\n",
    "    axis.set_xticks([])\n",
    "    \n",
    "\n",
    "fig.legend(('scan', 'harmonic'))"
   ]
  },
  {
   "cell_type": "code",
   "execution_count": 994,
   "metadata": {},
   "outputs": [],
   "source": [
    "from numpy.linalg import det\n",
    "from numpy import heaviside\n",
    "from scipy.special import logsumexp, gamma"
   ]
  },
  {
   "cell_type": "code",
   "execution_count": 997,
   "metadata": {},
   "outputs": [
    {
     "data": {
      "text/plain": [
       "(-22.528262968285844, -18.579354509148743)"
      ]
     },
     "execution_count": 997,
     "metadata": {},
     "output_type": "execute_result"
    }
   ],
   "source": [
    "multifunc(min_dofs) - total_log_harmonic, multifunc(min_dofs) - total_log_partition "
   ]
  },
  {
   "cell_type": "code",
   "execution_count": 998,
   "metadata": {},
   "outputs": [],
   "source": [
    "pmm = PyMOLMover()\n",
    "pmm.keep_history(True)\n",
    "pmm.apply(pose)\n",
    "h = np.arange(-30,31)\n",
    "h = np.append(h,h[-2:0:-1])\n",
    "\n",
    "new_dofs = np.array(min_dofs)\n",
    "for hh in h:\n",
    "    new_dofs = min_dofs + hh*modes[0]\n",
    "    min_map.copy_dofs_to_pose(pose, array_to_vector1(new_dofs))\n",
    "    pmm.apply(pose)"
   ]
  },
  {
   "cell_type": "code",
   "execution_count": 999,
   "metadata": {},
   "outputs": [],
   "source": [
    "min_map.copy_dofs_to_pose(pose, array_to_vector1(min_dofs))"
   ]
  },
  {
   "cell_type": "code",
   "execution_count": 1000,
   "metadata": {},
   "outputs": [],
   "source": [
    "min_E = multifunc(min_dofs)\n",
    "dos = lambda E: (2.0*np.pi)**(n/2.)*(E-min_E)**(n/2. - 1)/gamma(n/2.)/np.sqrt(pseudo_det)*heaviside(E-min_E,0.5)"
   ]
  },
  {
   "cell_type": "code",
   "execution_count": 1001,
   "metadata": {},
   "outputs": [
    {
     "data": {
      "text/plain": [
       "[<matplotlib.lines.Line2D at 0x7f59f7638850>]"
      ]
     },
     "execution_count": 1001,
     "metadata": {},
     "output_type": "execute_result"
    },
    {
     "data": {
      "image/png": "[encoded data removed]",
      "text/plain": [
       "<matplotlib.figure.Figure at 0x7f59f77b9650>"
      ]
     },
     "metadata": {},
     "output_type": "display_data"
    }
   ],
   "source": [
    "plt.plot(E, dos(E)*np.exp(-E))"
   ]
  },
  {
   "cell_type": "code",
   "execution_count": 1002,
   "metadata": {},
   "outputs": [
    {
     "name": "stdout",
     "output_type": "stream",
     "text": [
      "-22.52826296828688\n"
     ]
    }
   ],
   "source": [
    "E = np.linspace(-100, 800, 90001)\n",
    "dE = E[1]-E[0]\n",
    "F = np.linspace(-100,800,9001) \n",
    "dF = F[1]-F[0]\n",
    "print -logsumexp(-E, b=dos(E)*dE)"
   ]
  },
  {
   "cell_type": "code",
   "execution_count": 1003,
   "metadata": {},
   "outputs": [],
   "source": [
    "h = np.linspace(-limit, limit, int(2*limit/0.005) + 1)"
   ]
  },
  {
   "cell_type": "code",
   "execution_count": 1004,
   "metadata": {
    "scrolled": true
   },
   "outputs": [
    {
     "name": "stdout",
     "output_type": "stream",
     "text": [
      "[1.44737797e+00 1.43356060e+00 1.41980950e+00 1.40612467e+00\n",
      " 1.39250610e+00 1.37895381e+00 1.36546779e+00 1.35204805e+00\n",
      " 1.33869457e+00 1.32540736e+00 1.31218642e+00 1.29903175e+00\n",
      " 1.28594335e+00 1.27292123e+00 1.25996537e+00 1.24707578e+00\n",
      " 1.23425247e+00 1.22149542e+00 1.20880465e+00 1.19618014e+00\n",
      " 1.18362191e+00 1.17112994e+00 1.15870425e+00 1.14634482e+00\n",
      " 1.13405167e+00 1.12182479e+00 1.10966417e+00 1.09756983e+00\n",
      " 1.08554176e+00 1.07357996e+00 1.06168443e+00 1.04985517e+00\n",
      " 1.03809218e+00 1.02639546e+00 1.01476501e+00 1.00320083e+00\n",
      " 9.91702920e-01 9.80271282e-01 9.68905914e-01 9.57606816e-01\n",
      " 9.46373988e-01 9.35207431e-01 9.24107145e-01 9.13073129e-01\n",
      " 9.02105383e-01 8.91203907e-01 8.80368702e-01 8.69599767e-01\n",
      " 8.58897103e-01 8.48260709e-01 8.37690585e-01 8.27186732e-01\n",
      " 8.16749149e-01 8.06377836e-01 7.96072794e-01 7.85834022e-01\n",
      " 7.75661521e-01 7.65555290e-01 7.55515329e-01 7.45541639e-01\n",
      " 7.35634219e-01 7.25793069e-01 7.16018190e-01 7.06309581e-01\n",
      " 6.96667242e-01 6.87091174e-01 6.77581376e-01 6.68137849e-01\n",
      " 6.58760592e-01 6.49449605e-01 6.40204889e-01 6.31026443e-01\n",
      " 6.21914267e-01 6.12868362e-01 6.03888727e-01 5.94975363e-01\n",
      " 5.86128269e-01 5.77347445e-01 5.68632892e-01 5.59984609e-01\n",
      " 5.51402596e-01 5.42886854e-01 5.34437382e-01 5.26054180e-01\n",
      " 5.17737249e-01 5.09486588e-01 5.01302198e-01 4.93184078e-01\n",
      " 4.85132228e-01 4.77146649e-01 4.69227340e-01 4.61374301e-01\n",
      " 4.53587533e-01 4.45867035e-01 4.38212808e-01 4.30624850e-01\n",
      " 4.23103164e-01 4.15647747e-01 4.08258601e-01 4.00935726e-01\n",
      " 3.93679120e-01 3.86488785e-01 3.79364721e-01 3.72306927e-01\n",
      " 3.65315403e-01 3.58390149e-01 3.51531166e-01 3.44738454e-01\n",
      " 3.38012011e-01 3.31351839e-01 3.24757938e-01 3.18230307e-01\n",
      " 3.11768946e-01 3.05373855e-01 2.99045035e-01 2.92782485e-01\n",
      " 2.86586206e-01 2.80456197e-01 2.74392458e-01 2.68394990e-01\n",
      " 2.62463792e-01 2.56598864e-01 2.50800207e-01 2.45067820e-01\n",
      " 2.39401704e-01 2.33801858e-01 2.28268282e-01 2.22800977e-01\n",
      " 2.17399942e-01 2.12065177e-01 2.06796683e-01 2.01594459e-01\n",
      " 1.96458506e-01 1.91388822e-01 1.86385410e-01 1.81448267e-01\n",
      " 1.76577395e-01 1.71772794e-01 1.67034462e-01 1.62362401e-01\n",
      " 1.57756611e-01 1.53217091e-01 1.48743841e-01 1.44336861e-01\n",
      " 1.39996152e-01 1.35721713e-01 1.31513545e-01 1.27371647e-01\n",
      " 1.23296019e-01 1.19286662e-01 1.15343575e-01 1.11466759e-01\n",
      " 1.07656213e-01 1.03911937e-01 1.00233931e-01 9.66221964e-02\n",
      " 9.30767317e-02 8.95975374e-02 8.61846134e-02 8.28379598e-02\n",
      " 7.95575766e-02 7.63434638e-02 7.31956213e-02 7.01140492e-02\n",
      " 6.70987475e-02 6.41497161e-02 6.12669551e-02 5.84504645e-02\n",
      " 5.57002442e-02 5.30162943e-02 5.03986148e-02 4.78472056e-02\n",
      " 4.53620668e-02 4.29431984e-02 4.05906003e-02 3.83042726e-02\n",
      " 3.60842153e-02 3.39304284e-02 3.18429118e-02 2.98216655e-02\n",
      " 2.78666897e-02 2.59779842e-02 2.41555491e-02 2.23993843e-02\n",
      " 2.07094900e-02 1.90858659e-02 1.75285123e-02 1.60374290e-02\n",
      " 1.46126161e-02 1.32540736e-02 1.19618014e-02 1.07357996e-02\n",
      " 9.57606816e-03 8.48260709e-03 7.45541639e-03 6.49449605e-03\n",
      " 5.59984609e-03 4.77146649e-03 4.00935726e-03 3.31351839e-03\n",
      " 2.68394990e-03 2.12065177e-03 1.62362401e-03 1.19286662e-03\n",
      " 8.28379598e-04 5.30162943e-04 2.98216655e-04 1.32540736e-04\n",
      " 3.31351839e-05 0.00000000e+00 3.31351839e-05 1.32540736e-04\n",
      " 2.98216655e-04 5.30162943e-04 8.28379598e-04 1.19286662e-03\n",
      " 1.62362401e-03 2.12065177e-03 2.68394990e-03 3.31351839e-03\n",
      " 4.00935726e-03 4.77146649e-03 5.59984609e-03 6.49449605e-03\n",
      " 7.45541639e-03 8.48260709e-03 9.57606816e-03 1.07357996e-02\n",
      " 1.19618014e-02 1.32540736e-02 1.46126161e-02 1.60374290e-02\n",
      " 1.75285123e-02 1.90858659e-02 2.07094900e-02 2.23993843e-02\n",
      " 2.41555491e-02 2.59779842e-02 2.78666897e-02 2.98216655e-02\n",
      " 3.18429118e-02 3.39304284e-02 3.60842153e-02 3.83042726e-02\n",
      " 4.05906003e-02 4.29431984e-02 4.53620668e-02 4.78472056e-02\n",
      " 5.03986148e-02 5.30162943e-02 5.57002442e-02 5.84504645e-02\n",
      " 6.12669551e-02 6.41497161e-02 6.70987475e-02 7.01140492e-02\n",
      " 7.31956213e-02 7.63434638e-02 7.95575766e-02 8.28379598e-02\n",
      " 8.61846134e-02 8.95975374e-02 9.30767317e-02 9.66221964e-02\n",
      " 1.00233931e-01 1.03911937e-01 1.07656213e-01 1.11466759e-01\n",
      " 1.15343575e-01 1.19286662e-01 1.23296019e-01 1.27371647e-01\n",
      " 1.31513545e-01 1.35721713e-01 1.39996152e-01 1.44336861e-01\n",
      " 1.48743841e-01 1.53217091e-01 1.57756611e-01 1.62362401e-01\n",
      " 1.67034462e-01 1.71772794e-01 1.76577395e-01 1.81448267e-01\n",
      " 1.86385410e-01 1.91388822e-01 1.96458506e-01 2.01594459e-01\n",
      " 2.06796683e-01 2.12065177e-01 2.17399942e-01 2.22800977e-01\n",
      " 2.28268282e-01 2.33801858e-01 2.39401704e-01 2.45067820e-01\n",
      " 2.50800207e-01 2.56598864e-01 2.62463792e-01 2.68394990e-01\n",
      " 2.74392458e-01 2.80456197e-01 2.86586206e-01 2.92782485e-01\n",
      " 2.99045035e-01 3.05373855e-01 3.11768946e-01 3.18230307e-01\n",
      " 3.24757938e-01 3.31351839e-01 3.38012011e-01 3.44738454e-01\n",
      " 3.51531166e-01 3.58390149e-01 3.65315403e-01 3.72306927e-01\n",
      " 3.79364721e-01 3.86488785e-01 3.93679120e-01 4.00935726e-01\n",
      " 4.08258601e-01 4.15647747e-01 4.23103164e-01 4.30624850e-01\n",
      " 4.38212808e-01 4.45867035e-01 4.53587533e-01 4.61374301e-01\n",
      " 4.69227340e-01 4.77146649e-01 4.85132228e-01 4.93184078e-01\n",
      " 5.01302198e-01 5.09486588e-01 5.17737249e-01 5.26054180e-01\n",
      " 5.34437382e-01 5.42886854e-01 5.51402596e-01 5.59984609e-01\n",
      " 5.68632892e-01 5.77347445e-01 5.86128269e-01 5.94975363e-01\n",
      " 6.03888727e-01 6.12868362e-01 6.21914267e-01 6.31026443e-01\n",
      " 6.40204889e-01 6.49449605e-01 6.58760592e-01 6.68137849e-01\n",
      " 6.77581376e-01 6.87091174e-01 6.96667242e-01 7.06309581e-01\n",
      " 7.16018190e-01 7.25793069e-01 7.35634219e-01 7.45541639e-01\n",
      " 7.55515329e-01 7.65555290e-01 7.75661521e-01 7.85834022e-01\n",
      " 7.96072794e-01 8.06377836e-01 8.16749149e-01 8.27186732e-01\n",
      " 8.37690585e-01 8.48260709e-01 8.58897103e-01 8.69599767e-01\n",
      " 8.80368702e-01 8.91203907e-01 9.02105383e-01 9.13073129e-01\n",
      " 9.24107145e-01 9.35207431e-01 9.46373988e-01 9.57606816e-01\n",
      " 9.68905914e-01 9.80271282e-01 9.91702920e-01 1.00320083e+00\n",
      " 1.01476501e+00 1.02639546e+00 1.03809218e+00 1.04985517e+00\n",
      " 1.06168443e+00 1.07357996e+00 1.08554176e+00 1.09756983e+00\n",
      " 1.10966417e+00 1.12182479e+00 1.13405167e+00 1.14634482e+00\n",
      " 1.15870425e+00 1.17112994e+00 1.18362191e+00 1.19618014e+00\n",
      " 1.20880465e+00 1.22149542e+00 1.23425247e+00 1.24707578e+00\n",
      " 1.25996537e+00 1.27292123e+00 1.28594335e+00 1.29903175e+00\n",
      " 1.31218642e+00 1.32540736e+00 1.33869457e+00 1.35204805e+00\n",
      " 1.36546779e+00 1.37895381e+00 1.39250610e+00 1.40612467e+00\n",
      " 1.41980950e+00 1.43356060e+00 1.44737797e+00]\n"
     ]
    }
   ],
   "source": [
    "print h**2*eigenvalues[0]"
   ]
  },
  {
   "cell_type": "code",
   "execution_count": 1005,
   "metadata": {},
   "outputs": [
    {
     "data": {
      "text/plain": [
       "419"
      ]
     },
     "execution_count": 1005,
     "metadata": {},
     "output_type": "execute_result"
    }
   ],
   "source": [
    "len(mode_scans[0])"
   ]
  },
  {
   "cell_type": "code",
   "execution_count": 1006,
   "metadata": {
    "scrolled": true
   },
   "outputs": [],
   "source": [
    "def calculate_anharmonicitiy(mm_sim):\n",
    "    w = list([])\n",
    "    h = np.linspace(-limit, limit, int(2*limit/dx)+1)\n",
    "    dh = h[1]-h[0]\n",
    "    \n",
    "    mode_scans = mm_sim.mode_scans\n",
    "    eigenvalues = mm_sim.eigenvalues\n",
    "    for ii in range(mm_sim.n_dofs):\n",
    "        w_anharmonic = np.trapz(h**2*np.exp(-mode_scans[ii]), dx=h[1]-h[0])/np.trapz(np.exp(-mode_scans[ii]), dx=dh)\n",
    "        w_harmonic = np.trapz(np.exp(-0.5*eigenvalues[ii]*h**2)*h**2,dx=h[1]-h[0])/np.trapz(np.exp(-0.5*eigenvalues[ii]*h**2), dx=h[1]-h[0])\n",
    "        w.append(w_anharmonic/w_harmonic)\n",
    "\n",
    "    return w"
   ]
  },
  {
   "cell_type": "code",
   "execution_count": 945,
   "metadata": {
    "scrolled": true
   },
   "outputs": [
    {
     "ename": "AttributeError",
     "evalue": "'numpy.ndarray' object has no attribute 'mode_scans'",
     "output_type": "error",
     "traceback": [
      "\u001b[0;31m---------------------------------------------------------------------------\u001b[0m",
      "\u001b[0;31mAttributeError\u001b[0m                            Traceback (most recent call last)",
      "\u001b[0;32m<ipython-input-945-d601a9440b6c>\u001b[0m in \u001b[0;36m<module>\u001b[0;34m()\u001b[0m\n\u001b[0;32m----> 1\u001b[0;31m \u001b[0mcalculate_anharmonicitiy\u001b[0m\u001b[0;34m(\u001b[0m\u001b[0mfuck\u001b[0m\u001b[0;34m)\u001b[0m\u001b[0;34m\u001b[0m\u001b[0;34m\u001b[0m\u001b[0m\n\u001b[0m",
      "\u001b[0;32m<ipython-input-944-d82c71490b8a>\u001b[0m in \u001b[0;36mcalculate_anharmonicitiy\u001b[0;34m(mm_sim)\u001b[0m\n\u001b[1;32m      4\u001b[0m     \u001b[0mdh\u001b[0m \u001b[0;34m=\u001b[0m \u001b[0mh\u001b[0m\u001b[0;34m[\u001b[0m\u001b[0;36m1\u001b[0m\u001b[0;34m]\u001b[0m\u001b[0;34m-\u001b[0m\u001b[0mh\u001b[0m\u001b[0;34m[\u001b[0m\u001b[0;36m0\u001b[0m\u001b[0;34m]\u001b[0m\u001b[0;34m\u001b[0m\u001b[0;34m\u001b[0m\u001b[0m\n\u001b[1;32m      5\u001b[0m \u001b[0;34m\u001b[0m\u001b[0m\n\u001b[0;32m----> 6\u001b[0;31m     \u001b[0mmode_scans\u001b[0m \u001b[0;34m=\u001b[0m \u001b[0mmm_sim\u001b[0m\u001b[0;34m.\u001b[0m\u001b[0mmode_scans\u001b[0m\u001b[0;34m\u001b[0m\u001b[0;34m\u001b[0m\u001b[0m\n\u001b[0m\u001b[1;32m      7\u001b[0m     \u001b[0meigenvalues\u001b[0m \u001b[0;34m=\u001b[0m \u001b[0mmm_sim\u001b[0m\u001b[0;34m.\u001b[0m\u001b[0meigenvalues\u001b[0m\u001b[0;34m\u001b[0m\u001b[0;34m\u001b[0m\u001b[0m\n\u001b[1;32m      8\u001b[0m     \u001b[0;32mfor\u001b[0m \u001b[0mii\u001b[0m \u001b[0;32min\u001b[0m \u001b[0mrange\u001b[0m\u001b[0;34m(\u001b[0m\u001b[0mmm_sim\u001b[0m\u001b[0;34m.\u001b[0m\u001b[0mn_dofs\u001b[0m\u001b[0;34m)\u001b[0m\u001b[0;34m:\u001b[0m\u001b[0;34m\u001b[0m\u001b[0;34m\u001b[0m\u001b[0m\n",
      "\u001b[0;31mAttributeError\u001b[0m: 'numpy.ndarray' object has no attribute 'mode_scans'"
     ]
    }
   ],
   "source": [
    "calculate_anharmonicitiy(fuck)"
   ]
  },
  {
   "cell_type": "code",
   "execution_count": 1007,
   "metadata": {},
   "outputs": [
    {
     "data": {
      "text/plain": [
       "1.0471975511965976"
      ]
     },
     "execution_count": 1007,
     "metadata": {},
     "output_type": "execute_result"
    }
   ],
   "source": [
    "limit"
   ]
  },
  {
   "cell_type": "code",
   "execution_count": 1011,
   "metadata": {},
   "outputs": [
    {
     "data": {
      "text/plain": [
       "[<matplotlib.lines.Line2D at 0x7f59f5cc6410>]"
      ]
     },
     "execution_count": 1011,
     "metadata": {},
     "output_type": "execute_result"
    },
    {
     "data": {
      "image/png": "[encoded data removed]",
      "text/plain": [
       "<matplotlib.figure.Figure at 0x7f59f75fd250>"
      ]
     },
     "metadata": {},
     "output_type": "display_data"
    }
   ],
   "source": [
    "plt.plot(h,mode_scans[0])"
   ]
  },
  {
   "cell_type": "code",
   "execution_count": 1012,
   "metadata": {},
   "outputs": [
    {
     "data": {
      "text/plain": [
       "array([ 1.98066653e+01,  1.96753796e+01,  1.95432578e+01,  1.94103481e+01,\n",
       "        1.92767187e+01,  1.91424304e+01,  1.90074626e+01,  1.88717748e+01,\n",
       "        1.87353554e+01,  1.85981783e+01,  1.84602674e+01,  1.83216477e+01,\n",
       "        1.81823747e+01,  1.80425675e+01,  1.79023248e+01,  1.77616986e+01,\n",
       "        1.76206939e+01,  1.74793310e+01,  1.73376324e+01,  1.71956164e+01,\n",
       "        1.70532835e+01,  1.69106102e+01,  1.67676330e+01,  1.66244346e+01,\n",
       "        1.64810265e+01,  1.63374915e+01,  1.61938909e+01,  1.60503689e+01,\n",
       "        1.59069847e+01,  1.57637117e+01,  1.56205533e+01,  1.54775231e+01,\n",
       "        1.53346159e+01,  1.51918694e+01,  1.50492634e+01,  1.49067521e+01,\n",
       "        1.47643224e+01,  1.46219297e+01,  1.44795758e+01,  1.43372984e+01,\n",
       "        1.41951095e+01,  1.40529297e+01,  1.39107932e+01,  1.37687691e+01,\n",
       "        1.36242630e+01,  1.34680143e+01,  1.32998108e+01,  1.31203408e+01,\n",
       "        1.29303328e+01,  1.27303746e+01,  1.25210679e+01,  1.23030593e+01,\n",
       "        1.20775880e+01,  1.18508735e+01,  1.16245623e+01,  1.13988602e+01,\n",
       "        1.11738953e+01,  1.09497833e+01,  1.07266723e+01,  1.05046805e+01,\n",
       "        1.02839147e+01,  1.00644561e+01,  9.84673664e+00,  9.63145161e+00,\n",
       "        9.41862204e+00,  9.20825278e+00,  9.00036098e+00,  8.79496569e+00,\n",
       "        8.59205086e+00,  8.39161203e+00,  8.19364588e+00,  7.99814709e+00,\n",
       "        7.80520729e+00,  7.61492741e+00,  7.42728624e+00,  7.24229614e+00,\n",
       "        7.05993511e+00,  6.88017156e+00,  6.70305299e+00,  6.52857807e+00,\n",
       "        6.35676254e+00,  6.18763220e+00,  6.02151372e+00,  5.85856780e+00,\n",
       "        5.69879335e+00,  5.54217428e+00,  5.38870517e+00,  5.23832881e+00,\n",
       "        5.09101283e+00,  4.94675777e+00,  4.80550945e+00,  4.66723694e+00,\n",
       "        4.53193454e+00,  4.39960914e+00,  4.27021724e+00,  4.14369784e+00,\n",
       "        4.02004640e+00,  3.89921928e+00,  3.78118368e+00,  3.66590917e+00,\n",
       "        3.55334899e+00,  3.44347742e+00,  3.33624345e+00,  3.23161067e+00,\n",
       "        3.12956099e+00,  3.02997548e+00,  2.93283281e+00,  2.83810150e+00,\n",
       "        2.74574242e+00,  2.65571530e+00,  2.56799122e+00,  2.48254140e+00,\n",
       "        2.39931113e+00,  2.31827590e+00,  2.23942069e+00,  2.16269620e+00,\n",
       "        2.08804699e+00,  2.01546135e+00,  1.94485999e+00,  1.87619572e+00,\n",
       "        1.80942890e+00,  1.74451362e+00,  1.68142252e+00,  1.62014566e+00,\n",
       "        1.56065291e+00,  1.50289170e+00,  1.44682829e+00,  1.39243199e+00,\n",
       "        1.33966333e+00,  1.28846566e+00,  1.23883225e+00,  1.19071564e+00,\n",
       "        1.14407704e+00,  1.09890478e+00,  1.05514325e+00,  1.01276937e+00,\n",
       "        9.71748158e-01,  9.32052115e-01,  8.93641088e-01,  8.56474150e-01,\n",
       "        8.20513249e-01,  7.85771634e-01,  7.52185052e-01,  7.19742960e-01,\n",
       "        6.88397635e-01,  6.58122027e-01,  6.28900167e-01,  6.00722035e-01,\n",
       "        5.73561155e-01,  5.47396768e-01,  5.22185326e-01,  4.97890912e-01,\n",
       "        4.74501086e-01,  4.52005042e-01,  4.30361119e-01,  4.09533292e-01,\n",
       "        3.89494576e-01,  3.70188847e-01,  3.51581740e-01,  3.33699988e-01,\n",
       "        3.16500616e-01,  2.99950578e-01,  2.84066254e-01,  2.68830865e-01,\n",
       "        2.54188494e-01,  2.40146931e-01,  2.26665808e-01,  2.13762659e-01,\n",
       "        2.01393689e-01,  1.89565871e-01,  1.78262449e-01,  1.67453379e-01,\n",
       "        1.57115258e-01,  1.47268601e-01,  1.37844315e-01,  1.28849321e-01,\n",
       "        1.20278625e-01,  1.12112574e-01,  1.04330465e-01,  9.69100632e-02,\n",
       "        8.98576702e-02,  8.31267872e-02,  7.67171290e-02,  7.06655747e-02,\n",
       "        6.49143156e-02,  5.94751175e-02,  5.43347978e-02,  4.94626912e-02,\n",
       "        4.48594312e-02,  4.05142929e-02,  3.64327256e-02,  3.25913569e-02,\n",
       "        2.89910659e-02,  2.56437663e-02,  2.25364488e-02,  1.96381434e-02,\n",
       "        1.69579063e-02,  1.44939580e-02,  1.22296255e-02,  1.01637098e-02,\n",
       "        8.30006791e-03,  6.62140024e-03,  5.13333634e-03,  3.83564394e-03,\n",
       "        2.73989391e-03,  1.81932031e-03,  1.08629442e-03,  5.43976896e-04,\n",
       "        1.83079376e-04,  0.00000000e+00, -7.47276739e-06,  1.72311479e-04,\n",
       "        5.50800595e-04,  1.07520042e-03,  1.75382814e-03,  2.61310083e-03,\n",
       "        3.62017546e-03,  4.78499649e-03,  6.11783229e-03,  7.61039995e-03,\n",
       "        9.25827110e-03,  1.10588394e-02,  1.30538233e-02,  1.52180610e-02,\n",
       "        1.75530962e-02,  2.00762644e-02,  2.27723268e-02,  2.56480882e-02,\n",
       "        2.87373411e-02,  3.20269427e-02,  3.55303505e-02,  3.92395895e-02,\n",
       "        4.31827626e-02,  4.73475115e-02,  5.17451294e-02,  5.63934036e-02,\n",
       "        6.13044101e-02,  6.64908555e-02,  7.19874457e-02,  7.78055785e-02,\n",
       "        8.39454460e-02,  9.04272553e-02,  9.72884345e-02,  1.04503168e-01,\n",
       "        1.12086530e-01,  1.20085206e-01,  1.28520147e-01,  1.37353894e-01,\n",
       "        1.46628123e-01,  1.56357297e-01,  1.66525603e-01,  1.77172427e-01,\n",
       "        1.88335676e-01,  1.99999822e-01,  2.12202738e-01,  2.24936010e-01,\n",
       "        2.38239985e-01,  2.52123429e-01,  2.66596797e-01,  2.81672291e-01,\n",
       "        2.97416535e-01,  3.13795301e-01,  3.30848312e-01,  3.48598731e-01,\n",
       "        3.67062540e-01,  3.86247342e-01,  4.06186860e-01,  4.26903871e-01,\n",
       "        4.48431029e-01,  4.70753463e-01,  4.93913781e-01,  5.17913837e-01,\n",
       "        5.42830220e-01,  5.68661733e-01,  5.95422821e-01,  6.23179824e-01,\n",
       "        6.51909039e-01,  6.81645599e-01,  7.12442264e-01,  7.44270009e-01,\n",
       "        7.77186460e-01,  8.11230999e-01,  8.46406777e-01,  8.82749136e-01,\n",
       "        9.20288572e-01,  9.59037873e-01,  9.99022851e-01,  1.04028297e+00,\n",
       "        1.08284393e+00,  1.12672320e+00,  1.17197887e+00,  1.21864688e+00,\n",
       "        1.26668589e+00,  1.31608639e+00,  1.36688906e+00,  1.41909145e+00,\n",
       "        1.47272777e+00,  1.52783786e+00,  1.58448605e+00,  1.64266084e+00,\n",
       "        1.70237854e+00,  1.76371274e+00,  1.82666368e+00,  1.89125573e+00,\n",
       "        1.95755982e+00,  2.02558712e+00,  2.09533828e+00,  2.16685107e+00,\n",
       "        2.24015815e+00,  2.31526597e+00,  2.39220711e+00,  2.47101230e+00,\n",
       "        2.55170088e+00,  2.63429028e+00,  2.71883257e+00,  2.80535985e+00,\n",
       "        2.89388918e+00,  2.98446866e+00,  3.07714782e+00,  3.17194658e+00,\n",
       "        3.26891797e+00,  3.36808077e+00,  3.46949340e+00,  3.57315936e+00,\n",
       "        3.67912137e+00,  3.78742913e+00,  3.89810288e+00,  4.01119342e+00,\n",
       "        4.12673673e+00,  4.25122252e+00,  4.37186528e+00,  4.49501150e+00,\n",
       "        4.62066213e+00,  4.74885943e+00,  4.87958980e+00,  5.01289866e+00,\n",
       "        5.14879395e+00,  5.28728847e+00,  5.42835860e+00,  5.57202728e+00,\n",
       "        5.71828789e+00,  5.86717097e+00,  6.01866853e+00,  6.17282052e+00,\n",
       "        6.32962032e+00,  6.48908479e+00,  6.65120965e+00,  6.81569852e+00,\n",
       "        6.98241652e+00,  7.15140067e+00,  7.32265606e+00,  7.49623600e+00,\n",
       "        7.67212724e+00,  7.85036060e+00,  8.03091877e+00,  8.21378390e+00,\n",
       "        8.39895674e+00,  8.58643628e+00,  8.77614602e+00,  8.96808603e+00,\n",
       "        9.16225497e+00,  9.35863082e+00,  9.55576386e+00,  9.74744097e+00,\n",
       "        9.93265432e+00,  1.01110003e+01,  1.02820792e+01,  1.04455164e+01,\n",
       "        1.06008667e+01,  1.07477000e+01,  1.08867672e+01,  1.10255290e+01,\n",
       "        1.11653898e+01,  1.13063512e+01,  1.14483619e+01,  1.15913903e+01,\n",
       "        1.17354554e+01,  1.18805737e+01,  1.20267154e+01,  1.21738756e+01,\n",
       "        1.23220662e+01,  1.24712847e+01,  1.26215144e+01,  1.27727290e+01,\n",
       "        1.29249065e+01,  1.30780488e+01,  1.32321709e+01,  1.33873817e+01,\n",
       "        1.35435885e+01,  1.36986619e+01,  1.38515914e+01,  1.40021105e+01,\n",
       "        1.41499494e+01,  1.42948246e+01,  1.44364264e+01,  1.45744176e+01,\n",
       "        1.47085167e+01,  1.48383971e+01,  1.49637890e+01,  1.50843542e+01,\n",
       "        1.51997097e+01,  1.53123724e+01,  1.54248785e+01,  1.55372121e+01,\n",
       "        1.56491250e+01,  1.57600694e+01,  1.58699909e+01,  1.59788558e+01,\n",
       "        1.60867390e+01,  1.61937172e+01,  1.62997520e+01,  1.64047689e+01,\n",
       "        1.65087535e+01,  1.66117127e+01,  1.67136667e+01,  1.68145734e+01,\n",
       "        1.69144256e+01,  1.70132531e+01,  1.71110907e+01])"
      ]
     },
     "execution_count": 1012,
     "metadata": {},
     "output_type": "execute_result"
    }
   ],
   "source": [
    "mm_sim.mode_scans[0]"
   ]
  },
  {
   "cell_type": "code",
   "execution_count": 1013,
   "metadata": {},
   "outputs": [],
   "source": [
    "w = calculate_anharmonicitiy(mm_sim)"
   ]
  },
  {
   "cell_type": "code",
   "execution_count": 1014,
   "metadata": {},
   "outputs": [
    {
     "data": {
      "text/plain": [
       "[<matplotlib.lines.Line2D at 0x7f59f5cab5d0>]"
      ]
     },
     "execution_count": 1014,
     "metadata": {},
     "output_type": "execute_result"
    },
    {
     "data": {
      "image/png": "[encoded data removed]",
      "text/plain": [
       "<matplotlib.figure.Figure at 0x7f59f5c6e9d0>"
      ]
     },
     "metadata": {},
     "output_type": "display_data"
    }
   ],
   "source": [
    "plt.plot(np.log(mm_sim.eigenvalues), w, '.')"
   ]
  },
  {
   "cell_type": "code",
   "execution_count": 1015,
   "metadata": {},
   "outputs": [],
   "source": [
    "from recces.data import *\n",
    "from recces.util import *"
   ]
  },
  {
   "cell_type": "code",
   "execution_count": 1016,
   "metadata": {},
   "outputs": [
    {
     "data": {
      "text/plain": [
       "-24.830848061280417"
      ]
     },
     "execution_count": 1016,
     "metadata": {},
     "output_type": "execute_result"
    }
   ],
   "source": [
    "-np.log(np.trapz(dos(F)*np.exp(-F), dx=dF)) + np.log(dF)"
   ]
  },
  {
   "cell_type": "code",
   "execution_count": 1017,
   "metadata": {
    "scrolled": true
   },
   "outputs": [
    {
     "name": "stdout",
     "output_type": "stream",
     "text": [
      "Inferring sequence from directory name:  gga_ucc\n",
      "applying phase space volume for two strand with helix length  3  and dangle length  0\n"
     ]
    }
   ],
   "source": [
    "#plt.plot(E, (2*np.pi/3)**(mm_sim.n_dofs)*dos(E)*np.exp(-E)*0.01)\n",
    "#plt.plot(F, dos(F)*np.exp(-F))\n",
    "sim = SingleHistSimulation('/mnt/c/Users/maadr/all_canonical_reweight/'+'_'.join((seq1, seq2)))\n",
    "                      # [0.1,0.118,0.01,0.299,3.61,3.03,0.639,0.033,3.15,2.97])\n",
    "#plt.plot(sim._dos_scores, sim._dos*np.exp(-sim._dos)*np.exp(-sim._dos_scores))"
   ]
  },
  {
   "cell_type": "code",
   "execution_count": 1018,
   "metadata": {},
   "outputs": [],
   "source": [
    "pmm = PyMOLMover()\n",
    "pmm.keep_history(True)"
   ]
  },
  {
   "cell_type": "code",
   "execution_count": 1020,
   "metadata": {},
   "outputs": [
    {
     "data": {
      "text/plain": [
       "-28.07509722476422"
      ]
     },
     "execution_count": 1020,
     "metadata": {},
     "output_type": "execute_result"
    }
   ],
   "source": [
    "sim.value"
   ]
  },
  {
   "cell_type": "code",
   "execution_count": null,
   "metadata": {},
   "outputs": [],
   "source": [
    "def estimate_dos(min_dofs, modes, eigenvalues, multifunc, n=100000):\n",
    "    # intial parameters\n",
    "    E = np.linspace(-100,800,9001)\n",
    "    dE = E[1]-E[0]\n",
    "    g = np.zeros_like(E)\n",
    "    \n",
    "    min_dofs = np.array(min_dofs)\n",
    "    \n",
    "    for ii in range(n):\n",
    "        mode_idx = np.random.randint(5)\n",
    "        new_dofs = min_dofs + np.random.uniform(-60,60)*modes[mode_idx]\n",
    "        energy = multifunc(array_to_vector1(new_dofs))\n",
    "        min_map.copy_dofs_to_pose(pose, array_to_vector1(new_dofs))\n",
    "        if energy > 800:\n",
    "            g[-1] += 1\n",
    "        else: \n",
    "            bin_idx = int((energy+100)/dE)\n",
    "            g[bin_idx] += 1\n",
    "            \n",
    "        if ii % 1000 == 0:\n",
    "            pmm.apply(pose)\n",
    "    \n",
    "    return g/n"
   ]
  },
  {
   "cell_type": "code",
   "execution_count": null,
   "metadata": {
    "scrolled": true
   },
   "outputs": [],
   "source": [
    "dos = estimate_dos(min_dofs, modes, eigenvalues, multifunc)"
   ]
  },
  {
   "cell_type": "code",
   "execution_count": null,
   "metadata": {},
   "outputs": [],
   "source": [
    "hist = SingleHistSimulation('/mnt/c/Users/maadr/all_canonical_reweight/'+seq1+'_'+seq2+'/ST')"
   ]
  },
  {
   "cell_type": "code",
   "execution_count": null,
   "metadata": {},
   "outputs": [],
   "source": [
    "sim.value"
   ]
  },
  {
   "cell_type": "code",
   "execution_count": null,
   "metadata": {},
   "outputs": [],
   "source": [
    "print E, dos\n",
    "plt.plot(E[:2000], dos[:2000])\n",
    "plt.plot(E[:2000], hist._dos[:2000]/10000000)\n",
    "-logsumexp(-E,b=dos)"
   ]
  },
  {
   "cell_type": "code",
   "execution_count": null,
   "metadata": {
    "scrolled": true
   },
   "outputs": [],
   "source": [
    "limit = np.pi/3\n",
    "dx = 0.005\n",
    "\n",
    "\n",
    "sims = ['gaa_uuc', 'gac_guc', 'gag_cuc', 'gau_auc', 'ga_uc', 'gcc_ggc', 'gcg_cgc', 'gga_ucc', 'gg_cc', 'ggc_gcc', 'ggg_ccc', 'ggu_acc', 'gu_ac', 'guc_gac', 'guu_aac']\n",
    "F = np.linspace(-100,800,9001)\n",
    "dF = 0.1\n",
    "anharmonic_E = []\n",
    "#harmonic_E = []\n",
    "RECCES_E = []\n",
    "DOS_E = []\n",
    "w_dict = {}\n",
    "sim_dict = {}\n",
    "\n",
    "E = np.linspace(-100,800,9001)\n",
    "\n",
    "for sim in sims:\n",
    "    \n",
    "    seqs = sim.split('_')\n",
    "    seq1 = seqs[0]\n",
    "    seq2 = seqs[1]\n",
    "    \n",
    "    fuck = MiningMinima(seq1, seq2, scorefxn='stepwise/rna/turner_new')\n",
    "    sim_dict[sim] = fuck\n",
    "    hist = SingleHistSimulation('/mnt/c/Users/maadr/all_canonical_reweight/'+sim+'/ST/')\n",
    "    \n",
    "    anharmonic_E.append(fuck.min_energy- fuck.total_log_partition  + np.log(dF))\n",
    "    RECCES_E.append(hist.value)\n",
    "    DOS_E.append(-logsumexp(-F,b=fuck.dos(F)*dF) + np.log(dF)) \n",
    "    print fuck.eigenvalues\n",
    "    print sim, anharmonic_E[-1], DOS_E[-1], RECCES_E[-1]\n",
    "    w_dict[sim] = calculate_anharmonicitiy(fuck)"
   ]
  },
  {
   "cell_type": "code",
   "execution_count": null,
   "metadata": {
    "scrolled": true
   },
   "outputs": [],
   "source": [
    "fig, ax = plt.subplots(nrows=3, ncols=5, figsize=(12,12))\n",
    "for ii, sim in enumerate(sims):\n",
    "    n_mods = len(w_dict[sim])\n",
    "    \n",
    "    curr_ax = ax.flatten()[ii]\n",
    "    curr_ax.plot([0, np.log10(np.max(sim_dict[sim].eigenvalues))], [1, 1], 'k--')\n",
    "    curr_ax.scatter(np.log10(sim_dict[sim].eigenvalues), w_dict[sim])\n",
    "    curr_ax.set(title=sim)    \n",
    "    curr_ax.set(xlim=(0, np.log10(np.max(sim_dict[sim].eigenvalues))), ylim=(0,1.6))\n",
    "    \n",
    "fig.text(0.5, 0.08, 'log10(eigenvalue)', ha='center', va='center',\n",
    "         fontproperties=mpl.font_manager.FontProperties(size=14))\n",
    "fig.text(0.06, 0.5, 'anharmonicity', ha='center', va='center', rotation='vertical', \n",
    "         fontproperties=mpl.font_manager.FontProperties(size=14))"
   ]
  },
  {
   "cell_type": "code",
   "execution_count": null,
   "metadata": {},
   "outputs": [],
   "source": [
    "fig, ax = plt.subplots(nrows=3, ncols=5, figsize=(12,12))\n",
    "for ii, sim in enumerate(sims):\n",
    "    eigenvalues = sim_dict[sim].eigenvalues\n",
    "    harmonic_energies = -np.log( np.sqrt(2*np.pi/eigenvalues)*(erf(2*limit/np.sqrt(2/sim_dict[sim].eigenvalues))))\n",
    "    anharmonic_energies = -np.log(np.trapz(np.exp(-sim_dict[sim].mode_scans), dx=dx))\n",
    "    curr_ax = ax.flatten()[ii]\n",
    "    curr_ax.scatter(np.log(eigenvalues), np.abs(harmonic_energies-anharmonic_energies))\n",
    "    curr_ax.plot([0, np.max(np.log(eigenvalues))], [0, 0], 'k--')\n",
    "    curr_ax.set(title=sim, xlim=(0, np.log(max(eigenvalues))), ylim=(-0.1,0.5) )   \n",
    "fig.text(0.5, 0.001, 'log10(eigenvalue)', ha='center', va='center',\n",
    "         fontproperties=mpl.font_manager.FontProperties(size=14))\n",
    "fig.text(0.001, 0.5, '$\\Delta$E (kT)', ha='center', va='center', rotation='vertical', \n",
    "         fontproperties=mpl.font_manager.FontProperties(size=14))\n",
    "fig.tight_layout()"
   ]
  },
  {
   "cell_type": "code",
   "execution_count": null,
   "metadata": {
    "scrolled": true
   },
   "outputs": [],
   "source": [
    "fig, ax = plt.subplots(nrows=1, ncols=2, figsize=(12,6))\n",
    "norm = plt.Normalize(0,5)\n",
    "\n",
    "harm = np.array(DOS_E)*KT_IN_KCAL\n",
    "recces = np.array(RECCES_E)*KT_IN_KCAL\n",
    "anharm = np.array(anharmonic_E)*KT_IN_KCAL\n",
    "\n",
    "sc = ax[0].scatter(recces, anharm, c=np.abs(recces-anharm), norm=norm)\n",
    "ax[1].scatter(recces, harm, c=np.abs(recces-harm), norm=norm)\n",
    "for axis in ax:\n",
    "    axis.set(xlim=(-30, -5), ylim=(-30, -5))\n",
    "    axis.plot([-30,-5],[-30,-5], 'k--')\n",
    "\n",
    "cbaxes = fig.add_axes([0.94, 0.1, 0.03, 0.8]) \n",
    "fig.colorbar(sc, cax=cbaxes)\n",
    "fig.text(0.5, 0.04, 'RECCES free energy (kcal/mol)', ha='center', va='center')\n",
    "fig.text(0.06, 0.5, 'estimated free energy (kcal/mol)', ha='center', va='center', rotation='vertical')\n",
    "print np.sqrt(np.mean((recces-anharm)**2))\n",
    "print np.sqrt(np.mean((recces-harm)**2))\n",
    "\n"
   ]
  },
  {
   "cell_type": "code",
   "execution_count": null,
   "metadata": {},
   "outputs": [],
   "source": [
    "from recces.util import *\n",
    "from recces.data import *"
   ]
  },
  {
   "cell_type": "code",
   "execution_count": null,
   "metadata": {},
   "outputs": [],
   "source": [
    "sim = SingleHistSimulation('./../../../recces_rosetta/results/'+seq1+'_'+seq2+'/ST/')"
   ]
  },
  {
   "cell_type": "code",
   "execution_count": null,
   "metadata": {},
   "outputs": [],
   "source": [
    "print sim.value\n",
    "-np.log(np.trapz(sim._dos, dx=0.1))\n",
    "'guu_acc'.split('_')"
   ]
  },
  {
   "cell_type": "code",
   "execution_count": null,
   "metadata": {
    "scrolled": true
   },
   "outputs": [],
   "source": [
    "import matplotlib as mpl\n",
    "import matplotlib.pyplot as plt\n",
    "import scipy\n",
    "\n",
    "E = np.linspace(-100,100,2001)\n",
    "\n",
    "plt.plot(E, fuck.dos(E)*np.exp(-E))\n",
    "plt.plot(sim._dos_scores[:2000], sim._dos[:2000]*np.exp(-sim._dos_scores[:2000]))\n",
    "plt.xlabel('energy (REU)')\n",
    "plt.ylabel('$g(E)e^{-E/kT}$')\n",
    "plt.legend(('MM', 'RECCES'))\n",
    "print -scipy.special.logsumexp(-E, b=fuck.dos(E)), sim.value, fuck.harmonic_free_energy"
   ]
  },
  {
   "cell_type": "code",
   "execution_count": null,
   "metadata": {},
   "outputs": [],
   "source": [
    "print fuck.anharmonic_free_energy\n",
    "print fuck.harmonic_free_energy"
   ]
  },
  {
   "cell_type": "code",
   "execution_count": null,
   "metadata": {},
   "outputs": [],
   "source": [
    "\n",
    "print fuck.modes[:,0]\n",
    "pmm.apply(fuck.min_pose)"
   ]
  },
  {
   "cell_type": "code",
   "execution_count": null,
   "metadata": {},
   "outputs": [],
   "source": [
    "n_struct = 200\n",
    "\n",
    "ensemble = fuck.harmonic_ensemble(n_struct = n_struct)\n",
    "#print ensemble[2,:]-min_dofs\n",
    "#print np.sqrt(H)/np.sqrt((2*np.pi)**fuck.n_dofs)*np.exp(-np.dot(fuck.eigenvalues, ((min_dofs-ensemble[0,:])*np.pi/180)**2)/2)"
   ]
  },
  {
   "cell_type": "code",
   "execution_count": null,
   "metadata": {},
   "outputs": [],
   "source": [
    "pose = Pose()\n",
    "pose.assign(fuck.min_pose)\n",
    "\n",
    "hist_min = -100\n",
    "hist_max = 100\n",
    "delE = 0.1\n",
    "\n",
    "hist_scores = np.linspace(hist_min, hist_max, int((hist_max-hist_min)/delE)+1)\n",
    "\n",
    "hist = np.zeros_like(hist_scores)\n",
    "\n",
    "for i in range(n_struct):\n",
    "    \n",
    "    dofs = ensemble[i,:]\n",
    "    \n",
    "    for key in fuck.dof_dict: pose.set_torsion(fuck.dof_dict[key], dofs[key])\n",
    "        \n",
    "    energy = fuck.scorefxn(pose)\n",
    "    \n",
    "    if energy < hist_max+delE:\n",
    "             \n",
    "        hist_idx = math.floor((energy-hist_min)/delE)\n",
    "        hist_idx = int(hist_idx)\n",
    "        hist[hist_idx] += 1\n"
   ]
  },
  {
   "cell_type": "code",
   "execution_count": null,
   "metadata": {},
   "outputs": [],
   "source": [
    "shit = hist*np.exp(hist_scores)/np.sum(hist)\n",
    "shit = shit/np.sum(shit)\n",
    "print -scipy.special.logsumexp(-hist_scores, b = shit)\n",
    "plt.plot(hist_scores, shit*np.exp(-hist_scores)/torsion_volume(seq1, seq2))\n",
    "plt.plot(sim._dos_scores[:2000], sim._dos[:2000]*np.exp(-sim._dos_scores[:2000]))"
   ]
  },
  {
   "cell_type": "code",
   "execution_count": null,
   "metadata": {},
   "outputs": [],
   "source": [
    "pose = Pose()\n",
    "pose_new = Pose()\n",
    "pose.assign(fuck.min_pose)\n",
    "for key in fuck.dof_dict: pose.set_torsion(fuck.dof_dict[key],ensemble[0,:][key])\n",
    "\n",
    "pose_new.assign(pose)\n",
    "\n",
    "E_0 = fuck.scorefxn(fuck.min_pose)\n",
    "energy = E_0\n",
    "\n",
    "min_dofs = [fuck.min_pose.torsion(fuck.dof_dict[key]) for key in fuck.dof_dict]\n",
    "curr_dofs = min_dofs\n",
    "print min_dofs\n",
    "\n",
    "Z = 0\n",
    "H = np.product(fuck.eigenvalues)\n",
    "\n",
    "for j in range(1,n_struct):\n",
    "    \n",
    "    trial_move = ensemble[j, :]\n",
    "     \n",
    "    for key in fuck.dof_dict: pose_new.set_torsion(fuck.dof_dict[key], trial_move[key]) \n",
    "\n",
    "    energy_new = fuck.scorefxn(pose_new)\n",
    "    \n",
    "    if np.exp(-(energy_new-energy)) > np.random.random():\n",
    "        \n",
    "        energy = energy_new\n",
    "        pose.assign(pose_new)\n",
    "        curr_dofs = trial_move\n",
    "        \n",
    "    \n",
    "\n",
    "        #p = np.sqrt(H/(2*np.pi)**fuck.n_dofs)*np.exp(-np.dot(fuck.eigenvalues, ((trial_move-min_dofs)*(np.pi/180)**2)**2)/2)\n",
    "    if energy < hist_max+delE:\n",
    "             \n",
    "        hist_idx = math.floor((energy-hist_min)/delE)\n",
    "        hist_idx = int(hist_idx)\n",
    "        hist[hist_idx] += 1\n",
    "\n",
    "    "
   ]
  },
  {
   "cell_type": "code",
   "execution_count": null,
   "metadata": {},
   "outputs": [],
   "source": [
    "#plt.plot(hist_scores, hist)\n",
    "shit = hist/np.sum(hist)\n",
    "shit = shit*np.exp(hist_scores)\n",
    "shit = shit/np.sum(shit)\n",
    "#plt.plot(hist_scores, shit)\n",
    "plt.plot(hist_scores, hist/np.sum(hist))\n",
    "print -np.log(np.exp(-E_0)*(0.25)**fuck.n_dofs/0.35)\n"
   ]
  },
  {
   "cell_type": "code",
   "execution_count": null,
   "metadata": {
    "scrolled": true
   },
   "outputs": [],
   "source": [
    "print ensemble\n",
    "pmm = PyMOLMover()\n",
    "pmm.keep_history(True)\n",
    "print ensemble[1,:]"
   ]
  },
  {
   "cell_type": "code",
   "execution_count": null,
   "metadata": {},
   "outputs": [],
   "source": [
    "pose = Pose()\n",
    "pose.assign(fuck.min_pose)\n",
    "\n",
    "for i in range(200):\n",
    "    \n",
    "    dofs = ensemble[i,:]\n",
    "    for key in fuck.dof_dict: pose.set_torsion(fuck.dof_dict[key], dofs[key]) \n",
    "    pmm.apply(pose)\n",
    "    "
   ]
  },
  {
   "cell_type": "code",
   "execution_count": null,
   "metadata": {},
   "outputs": [],
   "source": [
    "print np.cov(ensemble)"
   ]
  },
  {
   "cell_type": "code",
   "execution_count": null,
   "metadata": {},
   "outputs": [],
   "source": [
    "w,v = np.linalg.eigh(np.cov(ensemble.T))\n",
    "print fuck.eigenvalues"
   ]
  },
  {
   "cell_type": "code",
   "execution_count": null,
   "metadata": {},
   "outputs": [],
   "source": [
    "print 1/w*180*180/np.pi/np.pi"
   ]
  },
  {
   "cell_type": "code",
   "execution_count": null,
   "metadata": {},
   "outputs": [],
   "source": [
    "\n",
    "print fuck.min_energy - 0.5*fuck.n_dofs*np.log(2*np.pi) + 0.5*np.log(np.prod(1/w))"
   ]
  },
  {
   "cell_type": "code",
   "execution_count": null,
   "metadata": {},
   "outputs": [],
   "source": [
    "print fuck.anharmonic_free_energy"
   ]
  },
  {
   "cell_type": "code",
   "execution_count": null,
   "metadata": {},
   "outputs": [],
   "source": [
    "print fuck.min_pose"
   ]
  },
  {
   "cell_type": "code",
   "execution_count": null,
   "metadata": {},
   "outputs": [],
   "source": [
    "mu = np.zeros(fuck.n_dofs)"
   ]
  },
  {
   "cell_type": "code",
   "execution_count": null,
   "metadata": {},
   "outputs": [],
   "source": [
    "print mu"
   ]
  },
  {
   "cell_type": "code",
   "execution_count": null,
   "metadata": {},
   "outputs": [],
   "source": [
    "mu = [fuck.min_pose.torsion(fuck.dof_dict[key]) for key in fuck.dof_dict]"
   ]
  },
  {
   "cell_type": "code",
   "execution_count": null,
   "metadata": {},
   "outputs": [],
   "source": [
    "print mu\n",
    "bitch = np.linalg.inv(fuck.hessian)"
   ]
  },
  {
   "cell_type": "code",
   "execution_count": null,
   "metadata": {},
   "outputs": [],
   "source": [
    "shit = np.random.multivariate_normal(mu, bitch, size=(2000))"
   ]
  },
  {
   "cell_type": "code",
   "execution_count": null,
   "metadata": {},
   "outputs": [],
   "source": [
    "print shit[0,:]"
   ]
  },
  {
   "cell_type": "code",
   "execution_count": null,
   "metadata": {},
   "outputs": [],
   "source": [
    "random_struct = np.zeros((fuck.n_dofs, 2000))\n",
    "\n",
    "for j in range(2000):\n",
    "    \n",
    "    random_struct[:,j] = np.random.multivariate_normal(mu, bitch)"
   ]
  },
  {
   "cell_type": "code",
   "execution_count": null,
   "metadata": {},
   "outputs": [],
   "source": [
    "print random_struct"
   ]
  },
  {
   "cell_type": "code",
   "execution_count": null,
   "metadata": {},
   "outputs": [],
   "source": [
    "print np.cov(random_struct)"
   ]
  },
  {
   "cell_type": "code",
   "execution_count": null,
   "metadata": {},
   "outputs": [],
   "source": [
    "w,v = np.linalg.eigh(np.cov(random_struct))"
   ]
  },
  {
   "cell_type": "code",
   "execution_count": null,
   "metadata": {},
   "outputs": [],
   "source": [
    "print 1/w\n"
   ]
  },
  {
   "cell_type": "code",
   "execution_count": null,
   "metadata": {},
   "outputs": [],
   "source": [
    "cu_ag = MiningMinima('cuc', 'gag')"
   ]
  },
  {
   "cell_type": "code",
   "execution_count": null,
   "metadata": {},
   "outputs": [],
   "source": [
    "cu_ag.harmonic_free_energy"
   ]
  },
  {
   "cell_type": "code",
   "execution_count": null,
   "metadata": {},
   "outputs": [],
   "source": [
    "ensemble = cu_ag.harmonic_ensemble()"
   ]
  },
  {
   "cell_type": "code",
   "execution_count": null,
   "metadata": {},
   "outputs": [],
   "source": [
    "cu_ag.eigenvalues"
   ]
  },
  {
   "cell_type": "code",
   "execution_count": null,
   "metadata": {},
   "outputs": [],
   "source": [
    "np.diag(1/cu_ag.eigenvalues)"
   ]
  },
  {
   "cell_type": "code",
   "execution_count": null,
   "metadata": {},
   "outputs": [],
   "source": [
    "np.matmul( np.matmul( cu_ag.modes, np.diag(1/cu_ag.eigenvalues)), cu_ag.modes.T)"
   ]
  },
  {
   "cell_type": "code",
   "execution_count": null,
   "metadata": {},
   "outputs": [],
   "source": [
    "np.linalg.inv(cu_ag.hessian)"
   ]
  },
  {
   "cell_type": "code",
   "execution_count": null,
   "metadata": {},
   "outputs": [],
   "source": []
  }
 ],
 "metadata": {
  "kernelspec": {
   "display_name": "Python 2",
   "language": "python",
   "name": "python2"
  },
  "language_info": {
   "codemirror_mode": {
    "name": "ipython",
    "version": 2
   },
   "file_extension": ".py",
   "mimetype": "text/x-python",
   "name": "python",
   "nbconvert_exporter": "python",
   "pygments_lexer": "ipython2",
   "version": "2.7.15+"
  }
 },
 "nbformat": 4,
 "nbformat_minor": 2
}
