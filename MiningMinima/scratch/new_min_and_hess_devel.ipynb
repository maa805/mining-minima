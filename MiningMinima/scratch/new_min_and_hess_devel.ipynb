{
 "cells": [
  {
   "cell_type": "code",
   "execution_count": 374,
   "metadata": {
    "scrolled": true
   },
   "outputs": [],
   "source": [
    "import matplotlib as mpl\n",
    "import matplotlib.pyplot as plt\n",
    "from MiningMinima import *"
   ]
  },
  {
   "cell_type": "markdown",
   "metadata": {},
   "source": [
    "# Developing subroutine to extract function derivative evaluations"
   ]
  },
  {
   "cell_type": "code",
   "execution_count": 375,
   "metadata": {
    "scrolled": true
   },
   "outputs": [],
   "source": [
    "# use mm object to get stuff \n",
    "seq1, seq2 = 'gg', 'cc'\n",
    "mm_sim = MiningMinima(seq1,seq2)"
   ]
  },
  {
   "cell_type": "code",
   "execution_count": 376,
   "metadata": {},
   "outputs": [],
   "source": [
    "mm_sim.multifunc.dfunc(theta, dE_dtheta)"
   ]
  },
  {
   "cell_type": "code",
   "execution_count": 377,
   "metadata": {},
   "outputs": [
    {
     "name": "stdout",
     "output_type": "stream",
     "text": [
      "vector1_double[0.0789342, -0.105804, 0.884873, 0.557242, 2.73597, 0.376245, 0.573104, 0.711411, -2.00864, 2.52009, 1.04075, 2.19686, 1.91306, 0.225052]\n"
     ]
    }
   ],
   "source": [
    "print dE_dtheta"
   ]
  },
  {
   "cell_type": "code",
   "execution_count": 378,
   "metadata": {},
   "outputs": [
    {
     "name": "stdout",
     "output_type": "stream",
     "text": [
      "\u001b[0mcore.optimization.LineMinimizer: \u001b[0m\u001b[31m\u001b[1m[ ERROR ]\u001b[0m \u001b[31mInaccurate G! step= 4.76837e-07 Deriv= -7.07846e-05 Finite Diff= 0.000269696\u001b[0m\n",
      "\u001b[0mcore.optimization.LineMinimizer: \u001b[0m\u001b[31m\u001b[1m[ ERROR ]\u001b[0m \u001b[31mInaccurate G! step= 1.90735e-06 Deriv= -0.000478678 Finite Diff= 0.000156473\u001b[0m\n",
      "\u001b[0mcore.optimization.LineMinimizer: \u001b[0m\u001b[31m\u001b[1m[ ERROR ]\u001b[0m \u001b[31mInaccurate G! step= 7.45058e-09 Deriv= -7.94523e-07 Finite Diff= 0.029088\u001b[0m\n",
      "\u001b[0mcore.optimization.LineMinimizer: \u001b[0m\u001b[31m\u001b[1m[ ERROR ]\u001b[0m \u001b[31mInaccurate G! step= 3.8147e-08 Deriv= -7.94523e-07 Finite Diff= 0.00619367\u001b[0m\n",
      "\u001b[0mcore.optimization.LineMinimizer: \u001b[0m\u001b[31m\u001b[1m[ ERROR ]\u001b[0m \u001b[31mInaccurate G! step= 3.8147e-08 Deriv= -7.94523e-07 Finite Diff= 0.00619367\u001b[0m\n",
      "\u001b[0mcore.optimization.LineMinimizer: \u001b[0m\u001b[31m\u001b[1m[ ERROR ]\u001b[0m \u001b[31mInaccurate G! step= 3.8147e-08 Deriv= -7.94523e-07 Finite Diff= 0.00619367\u001b[0m\n",
      "\u001b[0mcore.optimization.LineMinimizer: \u001b[0m\u001b[31m\u001b[1m[ ERROR ]\u001b[0m \u001b[31mInaccurate G! step= 3.8147e-08 Deriv= -7.94523e-07 Finite Diff= 0.00619367\u001b[0m\n",
      "\u001b[0mcore.optimization.LineMinimizer: \u001b[0m\u001b[31m\u001b[1m[ ERROR ]\u001b[0m \u001b[31mInaccurate G! step= 3.8147e-08 Deriv= -7.94523e-07 Finite Diff= 0.00619367\u001b[0m\n",
      "\u001b[0mcore.optimization.LineMinimizer: \u001b[0m\u001b[31m\u001b[1m[ ERROR ]\u001b[0m \u001b[31mInaccurate G! step= 3.8147e-08 Deriv= -7.94523e-07 Finite Diff= 0.00619367\u001b[0m\n",
      "\u001b[0mcore.optimization.LineMinimizer: \u001b[0m\u001b[31m\u001b[1m[ ERROR ]\u001b[0m \u001b[31mInaccurate G! step= 3.8147e-08 Deriv= -7.94523e-07 Finite Diff= 0.00619367\u001b[0m\n",
      "vector1_double[0.0860098, -0.00741226, 1.07981, 0.214826, 3.56782, -0.141619, 0.626423, 0.494983, -2.718, 3.31294, 1.14846, 2.47191, 2.32863, -0.027299]\n"
     ]
    }
   ],
   "source": [
    "# get pose and scorefxn \n",
    "pose = protocols.recces.pose_setup_turner(seq1=seq1,seq2=seq2)\n",
    "scorefxn = core.scoring.ScoreFunctionFactory.create_score_function('stepwise/rna/turner_new')\n",
    "\n",
    "# set up movemap -- for now just get from the MM object -- and min map\n",
    "movemap = MoveMap()\n",
    "movemap.assign(mm_sim.movemap)  \n",
    "min_map = core.optimization.MinimizerMap()\n",
    "min_map.setup(pose,movemap)\n",
    "\n",
    "# set up min options\n",
    "min_options = core.optimization.MinimizerOptions(\n",
    "    'lbfgs_armijo_nonmonotone',1e-15,True,False,False)\n",
    "\n",
    "# get scorefunction ready for minimization\n",
    "start_score = scorefxn(pose)\n",
    "pose.energies().set_use_nblist(pose,min_map.domain_map(),True)\n",
    "multifunc = core.optimization.AtomTreeMultifunc(pose,min_map,scorefxn)\n",
    "scorefxn.setup_for_minimizing(pose,min_map) # this is the key command\n",
    "scorefxn.setup_for_derivatives(pose)\n",
    "\n",
    "min_dofs = Vector1([0.0]*min_map.nangles())\n",
    "min_map.copy_dofs_from_pose(pose,min_dofs)\n",
    "start_func_val = multifunc(min_dofs)\n",
    "theta = Vector1(list(min_dofs))\n",
    "dE_dtheta = Vector1(list(min_dofs))\n",
    "multifunc.dfunc(theta,dE_dtheta)\n",
    "\n",
    "# set up minimizer and run\n",
    "minimizer = core.optimization.Minimizer(multifunc,min_options)\n",
    "for _ in range(10): minimizer.run(min_dofs)\n",
    "print dE_dtheta"
   ]
  },
  {
   "cell_type": "code",
   "execution_count": 362,
   "metadata": {},
   "outputs": [],
   "source": [
    "multifunc.dfunc(min_dofs, dE_dtheta)"
   ]
  },
  {
   "cell_type": "code",
   "execution_count": 363,
   "metadata": {},
   "outputs": [
    {
     "data": {
      "text/plain": [
       "vector1_double[0.000256151, -0.000524317, 5.53975e-05, -0.000277307, 0.000177263, -0.000191802, -3.91371e-05, -0.000107799, -0.00015844, 2.08362e-05, -0.000179215, -0.000100009, 8.31817e-05, 0.000467006]"
      ]
     },
     "execution_count": 363,
     "metadata": {},
     "output_type": "execute_result"
    }
   ],
   "source": [
    "dE_dtheta"
   ]
  },
  {
   "cell_type": "markdown",
   "metadata": {},
   "source": [
    "# Developing subroutine to calculate hessian from derivative evaluations"
   ]
  },
  {
   "cell_type": "code",
   "execution_count": 379,
   "metadata": {},
   "outputs": [],
   "source": [
    "def hessian_at_min(min_dofs,multifunc,h=1e-6):\n",
    "    min_dofs = np.array(min_dofs) # take advantage of numpy array indexing\n",
    "    n_dofs = len(min_dofs)\n",
    "    hessian = np.zeros((n_dofs,n_dofs))\n",
    "    plus = Vector1([0.0]*n_dofs)\n",
    "    minus = Vector1(list(plus))\n",
    "    \n",
    "    for ii in range(n_dofs):\n",
    "        new_dofs = min_dofs[:]\n",
    "        new_dofs[ii] += h*180./np.pi\n",
    "        multifunc.dfunc(Vector1(list(new_dofs)),plus)\n",
    "        new_dofs[ii] -= 2.*h*180/np.pi\n",
    "        multifunc.dfunc(Vector1(list(new_dofs)),minus)\n",
    "        row = (np.array(plus) - np.array(minus))/2./h\n",
    "        hessian[ii] = row*(np.pi/180)**1 # need to figure out conversion\n",
    "    return hessian"
   ]
  },
  {
   "cell_type": "code",
   "execution_count": 380,
   "metadata": {},
   "outputs": [
    {
     "name": "stdout",
     "output_type": "stream",
     "text": [
      "\u001b[0mcore.optimization.LineMinimizer: \u001b[0m\u001b[31m\u001b[1m[ ERROR ]\u001b[0m \u001b[31mInaccurate G! step= 3.8147e-08 Deriv= -7.94523e-07 Finite Diff= 0.00619367\u001b[0m\n",
      "\u001b[0mcore.optimization.LineMinimizer: \u001b[0m\u001b[31m\u001b[1m[ ERROR ]\u001b[0m \u001b[31mInaccurate G! step= 3.8147e-08 Deriv= -7.94523e-07 Finite Diff= 0.00619367\u001b[0m\n",
      "\u001b[0mcore.optimization.LineMinimizer: \u001b[0m\u001b[31m\u001b[1m[ ERROR ]\u001b[0m \u001b[31mInaccurate G! step= 3.8147e-08 Deriv= -7.94523e-07 Finite Diff= 0.00619367\u001b[0m\n",
      "\u001b[0mcore.optimization.LineMinimizer: \u001b[0m\u001b[31m\u001b[1m[ ERROR ]\u001b[0m \u001b[31mInaccurate G! step= 3.8147e-08 Deriv= -7.94523e-07 Finite Diff= 0.00619367\u001b[0m\n",
      "\u001b[0mcore.optimization.LineMinimizer: \u001b[0m\u001b[31m\u001b[1m[ ERROR ]\u001b[0m \u001b[31mInaccurate G! step= 3.8147e-08 Deriv= -7.94523e-07 Finite Diff= 0.00619367\u001b[0m\n",
      "\u001b[0mcore.optimization.LineMinimizer: \u001b[0m\u001b[31m\u001b[1m[ ERROR ]\u001b[0m \u001b[31mInaccurate G! step= 3.8147e-08 Deriv= -7.94523e-07 Finite Diff= 0.00619367\u001b[0m\n",
      "\u001b[0mcore.optimization.LineMinimizer: \u001b[0m\u001b[31m\u001b[1m[ ERROR ]\u001b[0m \u001b[31mInaccurate G! step= 3.8147e-08 Deriv= -7.94523e-07 Finite Diff= 0.00619367\u001b[0m\n",
      "\u001b[0mcore.optimization.LineMinimizer: \u001b[0m\u001b[31m\u001b[1m[ ERROR ]\u001b[0m \u001b[31mInaccurate G! step= 3.8147e-08 Deriv= -7.94523e-07 Finite Diff= 0.00619367\u001b[0m\n",
      "\u001b[0mcore.optimization.LineMinimizer: \u001b[0m\u001b[31m\u001b[1m[ ERROR ]\u001b[0m \u001b[31mInaccurate G! step= 3.8147e-08 Deriv= -7.94523e-07 Finite Diff= 0.00619367\u001b[0m\n",
      "\u001b[0mcore.optimization.LineMinimizer: \u001b[0m\u001b[31m\u001b[1m[ ERROR ]\u001b[0m \u001b[31mInaccurate G! step= 3.8147e-08 Deriv= -7.94523e-07 Finite Diff= 0.00619367\u001b[0m\n"
     ]
    }
   ],
   "source": [
    "for _ in range(10):\n",
    "    minimizer.run(min_dofs)"
   ]
  },
  {
   "cell_type": "code",
   "execution_count": 381,
   "metadata": {},
   "outputs": [],
   "source": [
    "hessian = hessian_at_min(min_dofs,multifunc)"
   ]
  },
  {
   "cell_type": "code",
   "execution_count": 382,
   "metadata": {},
   "outputs": [],
   "source": [
    "from scipy.linalg import eigh"
   ]
  },
  {
   "cell_type": "code",
   "execution_count": 383,
   "metadata": {},
   "outputs": [],
   "source": [
    "[eigenvalues, modes] = eigh(hessian)"
   ]
  },
  {
   "cell_type": "code",
   "execution_count": 384,
   "metadata": {},
   "outputs": [],
   "source": [
    "pseudo_det = 1.\n",
    "for eigen in eigenvalues:\n",
    "    if eigen > 0:\n",
    "        pseudo_det *= eigen\n",
    "    "
   ]
  },
  {
   "cell_type": "code",
   "execution_count": 385,
   "metadata": {},
   "outputs": [
    {
     "data": {
      "text/plain": [
       "-81.24878712827854"
      ]
     },
     "execution_count": 385,
     "metadata": {},
     "output_type": "execute_result"
    }
   ],
   "source": [
    "multifunc(min_dofs) + 0.5*np.log(pseudo_det) - 0.5*min_map.nangles()*np.log(2*np.pi)"
   ]
  },
  {
   "cell_type": "markdown",
   "metadata": {},
   "source": [
    "# Developing subroutine to mode scan using AtomTreeMultifunc"
   ]
  },
  {
   "cell_type": "code",
   "execution_count": 386,
   "metadata": {},
   "outputs": [],
   "source": [
    "def mode_scan(min_dofs, multifunc, mode, limit=np.pi/3, dx=0.005):\n",
    "    min_dofs = np.array(min_dofs)\n",
    "    delta_array = np.linspace(-limit, limit, int(2*limit/dx))\n",
    "    \n",
    "    result = np.zeros_like(delta_array)\n",
    "    \n",
    "    for ii, delta in enumerate(delta_array):\n",
    "        new_dofs = min_dofs[:] + delta*mode*180/np.pi\n",
    "        result[ii] = multifunc(Vector1(list(new_dofs)))\n",
    "    \n",
    "    return result    \n",
    "    \n",
    "    "
   ]
  },
  {
   "cell_type": "code",
   "execution_count": 393,
   "metadata": {
    "scrolled": true
   },
   "outputs": [],
   "source": [
    "total_log_partition = 0 \n",
    "dx = 0.005\n",
    "for mode in modes.T: # columns of array are eigenvectors\n",
    "    result = mode_scan(min_dofs, multifunc, mode, limit=4*np.pi/3, dx=dx)\n",
    "    result -= multifunc(min_dofs)\n",
    "    total_log_partition += np.log(np.trapz(np.exp(-result),dx=dx))\n",
    "    "
   ]
  },
  {
   "cell_type": "code",
   "execution_count": 394,
   "metadata": {},
   "outputs": [
    {
     "data": {
      "text/plain": [
       "-20.168257390802886"
      ]
     },
     "execution_count": 394,
     "metadata": {},
     "output_type": "execute_result"
    }
   ],
   "source": [
    "multifunc(min_dofs) - total_log_partition"
   ]
  },
  {
   "cell_type": "code",
   "execution_count": null,
   "metadata": {
    "scrolled": true
   },
   "outputs": [],
   "source": [
    "sims = ['aaa_uuu', 'aa_uu', 'cc_gg', 'ccc_ggg', 'cc_gg', 'gaa_uuc', 'gac_guc', 'gag_cuc', 'gau_auc', 'ga_uc', 'gcc_ggc', 'gcg_cgc', 'gga_ucc', 'gg_cc', 'ggc_gcc', 'ggg_ccc', 'ggu_acc', 'gu_ac', 'guc_gac', 'guu_aac']\n",
    "\n",
    "harmonic_E = []\n",
    "RECCES_E = []\n",
    "DOS_E = []\n",
    "\n",
    "E = np.linspace(-100,800,9001)\n",
    "\n",
    "for sim in sims:\n",
    "    \n",
    "    seqs = sim.split('_')\n",
    "    seq1 = seqs[0]\n",
    "    seq2 = seqs[1]\n",
    "    \n",
    "    fuck = MiningMinima(seq1, seq2)\n",
    "    \n",
    "    hist = SingleHistSimulation('./../../../recces_rosetta/results/'+sim+'/ST/')\n",
    "    \n",
    "    harmonic_E.append(fuck.harmonic_free_energy)\n",
    "    RECCES_E.append(hist.value)\n",
    "    DOS_E.append(-scipy.special.logsumexp(-E, b=fuck.dos(E)))"
   ]
  },
  {
   "cell_type": "code",
   "execution_count": null,
   "metadata": {},
   "outputs": [],
   "source": [
    "print RECCES_E\n",
    "print harmonic_E\n",
    "print DOS_E\n",
    "plt.scatter(RECCES_E, DOS_E)\n",
    "plt.plot([-45,-15],[-45,-15])"
   ]
  },
  {
   "cell_type": "code",
   "execution_count": null,
   "metadata": {},
   "outputs": [],
   "source": [
    "from recces.util import *\n",
    "from recces.data import *"
   ]
  },
  {
   "cell_type": "code",
   "execution_count": null,
   "metadata": {},
   "outputs": [],
   "source": [
    "sim = SingleHistSimulation('./../../../recces_rosetta/results/'+seq1+'_'+seq2+'/ST/')"
   ]
  },
  {
   "cell_type": "code",
   "execution_count": null,
   "metadata": {},
   "outputs": [],
   "source": [
    "print sim.value\n",
    "-np.log(np.trapz(sim._dos, dx=0.1))\n",
    "'guu_acc'.split('_')"
   ]
  },
  {
   "cell_type": "code",
   "execution_count": null,
   "metadata": {
    "scrolled": true
   },
   "outputs": [],
   "source": [
    "import matplotlib as mpl\n",
    "import matplotlib.pyplot as plt\n",
    "import scipy\n",
    "\n",
    "E = np.linspace(-100,100,2001)\n",
    "\n",
    "plt.plot(E, fuck.dos(E)*np.exp(-E))\n",
    "plt.plot(sim._dos_scores[:2000], sim._dos[:2000]*np.exp(-sim._dos_scores[:2000]))\n",
    "plt.xlabel('energy (REU)')\n",
    "plt.ylabel('$g(E)e^{-E/kT}$')\n",
    "plt.legend(('MM', 'RECCES'))\n",
    "print -scipy.special.logsumexp(-E, b=fuck.dos(E)), sim.value, fuck.harmonic_free_energy"
   ]
  },
  {
   "cell_type": "code",
   "execution_count": null,
   "metadata": {},
   "outputs": [],
   "source": [
    "print fuck.anharmonic_free_energy\n",
    "print fuck.harmonic_free_energy"
   ]
  },
  {
   "cell_type": "code",
   "execution_count": null,
   "metadata": {},
   "outputs": [],
   "source": [
    "\n",
    "print fuck.modes[:,0]\n",
    "pmm.apply(fuck.min_pose)"
   ]
  },
  {
   "cell_type": "code",
   "execution_count": null,
   "metadata": {},
   "outputs": [],
   "source": [
    "n_struct = 200\n",
    "\n",
    "ensemble = fuck.harmonic_ensemble(n_struct = n_struct)\n",
    "#print ensemble[2,:]-min_dofs\n",
    "#print np.sqrt(H)/np.sqrt((2*np.pi)**fuck.n_dofs)*np.exp(-np.dot(fuck.eigenvalues, ((min_dofs-ensemble[0,:])*np.pi/180)**2)/2)"
   ]
  },
  {
   "cell_type": "code",
   "execution_count": null,
   "metadata": {},
   "outputs": [],
   "source": [
    "pose = Pose()\n",
    "pose.assign(fuck.min_pose)\n",
    "\n",
    "hist_min = -100\n",
    "hist_max = 100\n",
    "delE = 0.1\n",
    "\n",
    "hist_scores = np.linspace(hist_min, hist_max, int((hist_max-hist_min)/delE)+1)\n",
    "\n",
    "hist = np.zeros_like(hist_scores)\n",
    "\n",
    "for i in range(n_struct):\n",
    "    \n",
    "    dofs = ensemble[i,:]\n",
    "    \n",
    "    for key in fuck.dof_dict: pose.set_torsion(fuck.dof_dict[key], dofs[key])\n",
    "        \n",
    "    energy = fuck.scorefxn(pose)\n",
    "    \n",
    "    if energy < hist_max+delE:\n",
    "             \n",
    "        hist_idx = math.floor((energy-hist_min)/delE)\n",
    "        hist_idx = int(hist_idx)\n",
    "        hist[hist_idx] += 1\n"
   ]
  },
  {
   "cell_type": "code",
   "execution_count": null,
   "metadata": {},
   "outputs": [],
   "source": [
    "shit = hist*np.exp(hist_scores)/np.sum(hist)\n",
    "shit = shit/np.sum(shit)\n",
    "print -scipy.special.logsumexp(-hist_scores, b = shit)\n",
    "plt.plot(hist_scores, shit*np.exp(-hist_scores)/torsion_volume(seq1, seq2))\n",
    "plt.plot(sim._dos_scores[:2000], sim._dos[:2000]*np.exp(-sim._dos_scores[:2000]))"
   ]
  },
  {
   "cell_type": "code",
   "execution_count": null,
   "metadata": {},
   "outputs": [],
   "source": [
    "pose = Pose()\n",
    "pose_new = Pose()\n",
    "pose.assign(fuck.min_pose)\n",
    "for key in fuck.dof_dict: pose.set_torsion(fuck.dof_dict[key],ensemble[0,:][key])\n",
    "\n",
    "pose_new.assign(pose)\n",
    "\n",
    "E_0 = fuck.scorefxn(fuck.min_pose)\n",
    "energy = E_0\n",
    "\n",
    "min_dofs = [fuck.min_pose.torsion(fuck.dof_dict[key]) for key in fuck.dof_dict]\n",
    "curr_dofs = min_dofs\n",
    "print min_dofs\n",
    "\n",
    "Z = 0\n",
    "H = np.product(fuck.eigenvalues)\n",
    "\n",
    "for j in range(1,n_struct):\n",
    "    \n",
    "    trial_move = ensemble[j, :]\n",
    "     \n",
    "    for key in fuck.dof_dict: pose_new.set_torsion(fuck.dof_dict[key], trial_move[key]) \n",
    "\n",
    "    energy_new = fuck.scorefxn(pose_new)\n",
    "    \n",
    "    if np.exp(-(energy_new-energy)) > np.random.random():\n",
    "        \n",
    "        energy = energy_new\n",
    "        pose.assign(pose_new)\n",
    "        curr_dofs = trial_move\n",
    "        \n",
    "    \n",
    "\n",
    "        #p = np.sqrt(H/(2*np.pi)**fuck.n_dofs)*np.exp(-np.dot(fuck.eigenvalues, ((trial_move-min_dofs)*(np.pi/180)**2)**2)/2)\n",
    "    if energy < hist_max+delE:\n",
    "             \n",
    "        hist_idx = math.floor((energy-hist_min)/delE)\n",
    "        hist_idx = int(hist_idx)\n",
    "        hist[hist_idx] += 1\n",
    "\n",
    "    "
   ]
  },
  {
   "cell_type": "code",
   "execution_count": null,
   "metadata": {},
   "outputs": [],
   "source": [
    "#plt.plot(hist_scores, hist)\n",
    "shit = hist/np.sum(hist)\n",
    "shit = shit*np.exp(hist_scores)\n",
    "shit = shit/np.sum(shit)\n",
    "#plt.plot(hist_scores, shit)\n",
    "plt.plot(hist_scores, hist/np.sum(hist))\n",
    "print -np.log(np.exp(-E_0)*(0.25)**fuck.n_dofs/0.35)\n"
   ]
  },
  {
   "cell_type": "code",
   "execution_count": null,
   "metadata": {
    "scrolled": true
   },
   "outputs": [],
   "source": [
    "print ensemble\n",
    "pmm = PyMOLMover()\n",
    "pmm.keep_history(True)\n",
    "print ensemble[1,:]"
   ]
  },
  {
   "cell_type": "code",
   "execution_count": null,
   "metadata": {},
   "outputs": [],
   "source": [
    "pose = Pose()\n",
    "pose.assign(fuck.min_pose)\n",
    "\n",
    "for i in range(200):\n",
    "    \n",
    "    dofs = ensemble[i,:]\n",
    "    for key in fuck.dof_dict: pose.set_torsion(fuck.dof_dict[key], dofs[key]) \n",
    "    pmm.apply(pose)\n",
    "    "
   ]
  },
  {
   "cell_type": "code",
   "execution_count": null,
   "metadata": {},
   "outputs": [],
   "source": [
    "print np.cov(ensemble)"
   ]
  },
  {
   "cell_type": "code",
   "execution_count": null,
   "metadata": {},
   "outputs": [],
   "source": [
    "w,v = np.linalg.eigh(np.cov(ensemble.T))\n",
    "print fuck.eigenvalues"
   ]
  },
  {
   "cell_type": "code",
   "execution_count": null,
   "metadata": {},
   "outputs": [],
   "source": [
    "print 1/w*180*180/np.pi/np.pi"
   ]
  },
  {
   "cell_type": "code",
   "execution_count": null,
   "metadata": {},
   "outputs": [],
   "source": [
    "\n",
    "print fuck.min_energy - 0.5*fuck.n_dofs*np.log(2*np.pi) + 0.5*np.log(np.prod(1/w))"
   ]
  },
  {
   "cell_type": "code",
   "execution_count": null,
   "metadata": {},
   "outputs": [],
   "source": [
    "print fuck.anharmonic_free_energy"
   ]
  },
  {
   "cell_type": "code",
   "execution_count": null,
   "metadata": {},
   "outputs": [],
   "source": [
    "print fuck.min_pose"
   ]
  },
  {
   "cell_type": "code",
   "execution_count": null,
   "metadata": {},
   "outputs": [],
   "source": [
    "mu = np.zeros(fuck.n_dofs)"
   ]
  },
  {
   "cell_type": "code",
   "execution_count": null,
   "metadata": {},
   "outputs": [],
   "source": [
    "print mu"
   ]
  },
  {
   "cell_type": "code",
   "execution_count": null,
   "metadata": {},
   "outputs": [],
   "source": [
    "mu = [fuck.min_pose.torsion(fuck.dof_dict[key]) for key in fuck.dof_dict]"
   ]
  },
  {
   "cell_type": "code",
   "execution_count": null,
   "metadata": {},
   "outputs": [],
   "source": [
    "print mu\n",
    "bitch = np.linalg.inv(fuck.hessian)"
   ]
  },
  {
   "cell_type": "code",
   "execution_count": null,
   "metadata": {},
   "outputs": [],
   "source": [
    "shit = np.random.multivariate_normal(mu, bitch, size=(2000))"
   ]
  },
  {
   "cell_type": "code",
   "execution_count": null,
   "metadata": {},
   "outputs": [],
   "source": [
    "print shit[0,:]"
   ]
  },
  {
   "cell_type": "code",
   "execution_count": null,
   "metadata": {},
   "outputs": [],
   "source": [
    "random_struct = np.zeros((fuck.n_dofs, 2000))\n",
    "\n",
    "for j in range(2000):\n",
    "    \n",
    "    random_struct[:,j] = np.random.multivariate_normal(mu, bitch)"
   ]
  },
  {
   "cell_type": "code",
   "execution_count": null,
   "metadata": {},
   "outputs": [],
   "source": [
    "print random_struct"
   ]
  },
  {
   "cell_type": "code",
   "execution_count": null,
   "metadata": {},
   "outputs": [],
   "source": [
    "print np.cov(random_struct)"
   ]
  },
  {
   "cell_type": "code",
   "execution_count": null,
   "metadata": {},
   "outputs": [],
   "source": [
    "w,v = np.linalg.eigh(np.cov(random_struct))"
   ]
  },
  {
   "cell_type": "code",
   "execution_count": null,
   "metadata": {},
   "outputs": [],
   "source": [
    "print 1/w\n"
   ]
  },
  {
   "cell_type": "code",
   "execution_count": null,
   "metadata": {},
   "outputs": [],
   "source": [
    "cu_ag = MiningMinima('cuc', 'gag')"
   ]
  },
  {
   "cell_type": "code",
   "execution_count": null,
   "metadata": {},
   "outputs": [],
   "source": [
    "cu_ag.harmonic_free_energy"
   ]
  },
  {
   "cell_type": "code",
   "execution_count": null,
   "metadata": {},
   "outputs": [],
   "source": [
    "ensemble = cu_ag.harmonic_ensemble()"
   ]
  },
  {
   "cell_type": "code",
   "execution_count": null,
   "metadata": {},
   "outputs": [],
   "source": [
    "cu_ag.eigenvalues"
   ]
  },
  {
   "cell_type": "code",
   "execution_count": null,
   "metadata": {},
   "outputs": [],
   "source": [
    "np.diag(1/cu_ag.eigenvalues)"
   ]
  },
  {
   "cell_type": "code",
   "execution_count": null,
   "metadata": {},
   "outputs": [],
   "source": [
    "np.matmul( np.matmul( cu_ag.modes, np.diag(1/cu_ag.eigenvalues)), cu_ag.modes.T)"
   ]
  },
  {
   "cell_type": "code",
   "execution_count": null,
   "metadata": {},
   "outputs": [],
   "source": [
    "np.linalg.inv(cu_ag.hessian)"
   ]
  }
 ],
 "metadata": {
  "kernelspec": {
   "display_name": "Python 2",
   "language": "python",
   "name": "python2"
  },
  "language_info": {
   "codemirror_mode": {
    "name": "ipython",
    "version": 2
   },
   "file_extension": ".py",
   "mimetype": "text/x-python",
   "name": "python",
   "nbconvert_exporter": "python",
   "pygments_lexer": "ipython2",
   "version": "2.7.15+"
  }
 },
 "nbformat": 4,
 "nbformat_minor": 2
}
