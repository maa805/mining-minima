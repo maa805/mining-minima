{
 "cells": [
  {
   "cell_type": "code",
   "execution_count": 2,
   "metadata": {
    "scrolled": true
   },
   "outputs": [],
   "source": [
    "import matplotlib as mpl\n",
    "import matplotlib.pyplot as plt\n",
    "from MiningMinima import *"
   ]
  },
  {
   "cell_type": "markdown",
   "metadata": {},
   "source": [
    "# Developing subroutine to extract function derivative evaluations"
   ]
  },
  {
   "cell_type": "code",
   "execution_count": 3,
   "metadata": {
    "scrolled": true
   },
   "outputs": [
    {
     "name": "stdout",
     "output_type": "stream",
     "text": [
      "\u001b[0mcore.chemical.GlobalResidueTypeSet: \u001b[0mFinished initializing fa_standard residue type set.  Created 980 residue types\n",
      "\u001b[0mcore.chemical.GlobalResidueTypeSet: \u001b[0mTotal time to initialize 1.14062 seconds.\n",
      "\u001b[0mcore.scoring.etable: \u001b[0mStarting energy table calculation\n",
      "\u001b[0mcore.scoring.etable: \u001b[0msmooth_etable: changing atr/rep split to bottom of energy well\n",
      "\u001b[0mcore.scoring.etable: \u001b[0msmooth_etable: spline smoothing lj etables (maxdis = 6)\n",
      "\u001b[0mcore.scoring.etable: \u001b[0msmooth_etable: spline smoothing solvation etables (max_dis = 6)\n",
      "\u001b[0mcore.scoring.etable: \u001b[0mFinished calculating energy tables.\n",
      "\u001b[0mbasic.io.database: \u001b[0mDatabase file opened: scoring/score_functions/hbonds/ref2015_params/HBPoly1D.csv\n",
      "\u001b[0mbasic.io.database: \u001b[0mDatabase file opened: scoring/score_functions/hbonds/ref2015_params/HBFadeIntervals.csv\n",
      "\u001b[0mbasic.io.database: \u001b[0mDatabase file opened: scoring/score_functions/hbonds/ref2015_params/HBEval.csv\n",
      "\u001b[0mbasic.io.database: \u001b[0mDatabase file opened: scoring/score_functions/hbonds/ref2015_params/DonStrength.csv\n",
      "\u001b[0mbasic.io.database: \u001b[0mDatabase file opened: scoring/score_functions/hbonds/ref2015_params/AccStrength.csv\n",
      "True\n",
      "True\n",
      "\u001b[0mcore.scoring.methods.LK_PolarNonPolarEnergy: \u001b[0mlk_nonpolar eval_residue_pair_derivatives() appears off -- set your minimizer to use_nblist and *also* nblist_auto_update to use eval_atom_derivative instead.\n",
      "\u001b[0mcore.scoring.methods.LK_PolarNonPolarEnergy: \u001b[0mlk_nonpolar eval_residue_pair_derivatives() appears off -- set your minimizer to use_nblist and *also* nblist_auto_update to use eval_atom_derivative instead.\n",
      "\u001b[0mcore.scoring.methods.LK_PolarNonPolarEnergy: \u001b[0mlk_nonpolar eval_residue_pair_derivatives() appears off -- set your minimizer to use_nblist and *also* nblist_auto_update to use eval_atom_derivative instead.\n",
      "\u001b[0mcore.scoring.methods.LK_PolarNonPolarEnergy: \u001b[0mlk_nonpolar eval_residue_pair_derivatives() appears off -- set your minimizer to use_nblist and *also* nblist_auto_update to use eval_atom_derivative instead.\n",
      "\u001b[0mcore.scoring.methods.LK_PolarNonPolarEnergy: \u001b[0mlk_nonpolar eval_residue_pair_derivatives() appears off -- set your minimizer to use_nblist and *also* nblist_auto_update to use eval_atom_derivative instead.\n",
      "\u001b[0mcore.scoring.methods.LK_PolarNonPolarEnergy: \u001b[0mlk_nonpolar eval_residue_pair_derivatives() appears off -- set your minimizer to use_nblist and *also* nblist_auto_update to use eval_atom_derivative instead.\n",
      "\u001b[0mcore.scoring.methods.LK_PolarNonPolarEnergy: \u001b[0mlk_nonpolar eval_residue_pair_derivatives() appears off -- set your minimizer to use_nblist and *also* nblist_auto_update to use eval_atom_derivative instead.\n",
      "\u001b[0mcore.scoring.methods.LK_PolarNonPolarEnergy: \u001b[0mlk_nonpolar eval_residue_pair_derivatives() appears off -- set your minimizer to use_nblist and *also* nblist_auto_update to use eval_atom_derivative instead.\n",
      "\u001b[0mcore.scoring.methods.LK_PolarNonPolarEnergy: \u001b[0mlk_nonpolar eval_residue_pair_derivatives() appears off -- set your minimizer to use_nblist and *also* nblist_auto_update to use eval_atom_derivative instead.\n",
      "\u001b[0mcore.scoring.methods.LK_PolarNonPolarEnergy: \u001b[0mlk_nonpolar eval_residue_pair_derivatives() appears off -- set your minimizer to use_nblist and *also* nblist_auto_update to use eval_atom_derivative instead.\n",
      "\u001b[0mcore.scoring.methods.LK_PolarNonPolarEnergy: \u001b[0mlk_nonpolar eval_residue_pair_derivatives() appears off -- set your minimizer to use_nblist and *also* nblist_auto_update to use eval_atom_derivative instead.\n",
      "\u001b[0mcore.scoring.methods.LK_PolarNonPolarEnergy: \u001b[0mlk_nonpolar eval_residue_pair_derivatives() appears off -- set your minimizer to use_nblist and *also* nblist_auto_update to use eval_atom_derivative instead.\n",
      "\u001b[0mcore.scoring.methods.LK_PolarNonPolarEnergy: \u001b[0mlk_nonpolar eval_residue_pair_derivatives() appears off -- set your minimizer to use_nblist and *also* nblist_auto_update to use eval_atom_derivative instead.\n",
      "\u001b[0mcore.scoring.methods.LK_PolarNonPolarEnergy: \u001b[0mlk_nonpolar eval_residue_pair_derivatives() appears off -- set your minimizer to use_nblist and *also* nblist_auto_update to use eval_atom_derivative instead.\n",
      "\u001b[0mcore.scoring.methods.LK_PolarNonPolarEnergy: \u001b[0mlk_nonpolar eval_residue_pair_derivatives() appears off -- set your minimizer to use_nblist and *also* nblist_auto_update to use eval_atom_derivative instead.\n",
      "\u001b[0mcore.scoring.methods.LK_PolarNonPolarEnergy: \u001b[0mlk_nonpolar eval_residue_pair_derivatives() appears off -- set your minimizer to use_nblist and *also* nblist_auto_update to use eval_atom_derivative instead.\n",
      "\u001b[0mcore.scoring.methods.LK_PolarNonPolarEnergy: \u001b[0mlk_nonpolar eval_residue_pair_derivatives() appears off -- set your minimizer to use_nblist and *also* nblist_auto_update to use eval_atom_derivative instead.\n",
      "\u001b[0mcore.scoring.methods.LK_PolarNonPolarEnergy: \u001b[0mlk_nonpolar eval_residue_pair_derivatives() appears off -- set your minimizer to use_nblist and *also* nblist_auto_update to use eval_atom_derivative instead.\n",
      "\u001b[0mcore.scoring.methods.LK_PolarNonPolarEnergy: \u001b[0mlk_nonpolar eval_residue_pair_derivatives() appears off -- set your minimizer to use_nblist and *also* nblist_auto_update to use eval_atom_derivative instead.\n",
      "\u001b[0mcore.scoring.methods.LK_PolarNonPolarEnergy: \u001b[0mlk_nonpolar eval_residue_pair_derivatives() appears off -- set your minimizer to use_nblist and *also* nblist_auto_update to use eval_atom_derivative instead.\n",
      "\u001b[0mcore.scoring.methods.LK_PolarNonPolarEnergy: \u001b[0mlk_nonpolar eval_residue_pair_derivatives() appears off -- set your minimizer to use_nblist and *also* nblist_auto_update to use eval_atom_derivative instead.\n",
      "\u001b[0mcore.scoring.methods.LK_PolarNonPolarEnergy: \u001b[0mlk_nonpolar eval_residue_pair_derivatives() appears off -- set your minimizer to use_nblist and *also* nblist_auto_update to use eval_atom_derivative instead.\n",
      "\u001b[0mcore.scoring.methods.LK_PolarNonPolarEnergy: \u001b[0mlk_nonpolar eval_residue_pair_derivatives() appears off -- set your minimizer to use_nblist and *also* nblist_auto_update to use eval_atom_derivative instead.\n",
      "\u001b[0mcore.scoring.methods.LK_PolarNonPolarEnergy: \u001b[0mlk_nonpolar eval_residue_pair_derivatives() appears off -- set your minimizer to use_nblist and *also* nblist_auto_update to use eval_atom_derivative instead.\n",
      "\u001b[0mcore.scoring.methods.LK_PolarNonPolarEnergy: \u001b[0mlk_nonpolar eval_residue_pair_derivatives() appears off -- set your minimizer to use_nblist and *also* nblist_auto_update to use eval_atom_derivative instead.\n",
      "\u001b[0mcore.scoring.methods.LK_PolarNonPolarEnergy: \u001b[0mlk_nonpolar eval_residue_pair_derivatives() appears off -- set your minimizer to use_nblist and *also* nblist_auto_update to use eval_atom_derivative instead.\n",
      "\u001b[0mcore.scoring.methods.LK_PolarNonPolarEnergy: \u001b[0mlk_nonpolar eval_residue_pair_derivatives() appears off -- set your minimizer to use_nblist and *also* nblist_auto_update to use eval_atom_derivative instead.\n",
      "\u001b[0mcore.scoring.methods.LK_PolarNonPolarEnergy: \u001b[0mlk_nonpolar eval_residue_pair_derivatives() appears off -- set your minimizer to use_nblist and *also* nblist_auto_update to use eval_atom_derivative instead.\n",
      "\u001b[0mcore.scoring.methods.LK_PolarNonPolarEnergy: \u001b[0mlk_nonpolar eval_residue_pair_derivatives() appears off -- set your minimizer to use_nblist and *also* nblist_auto_update to use eval_atom_derivative instead.\n",
      "\u001b[0mcore.scoring.methods.LK_PolarNonPolarEnergy: \u001b[0mlk_nonpolar eval_residue_pair_derivatives() appears off -- set your minimizer to use_nblist and *also* nblist_auto_update to use eval_atom_derivative instead.\n",
      "\u001b[0mcore.scoring.methods.LK_PolarNonPolarEnergy: \u001b[0mlk_nonpolar eval_residue_pair_derivatives() appears off -- set your minimizer to use_nblist and *also* nblist_auto_update to use eval_atom_derivative instead.\n",
      "\u001b[0mcore.scoring.methods.LK_PolarNonPolarEnergy: \u001b[0mlk_nonpolar eval_residue_pair_derivatives() appears off -- set your minimizer to use_nblist and *also* nblist_auto_update to use eval_atom_derivative instead.\n",
      "\u001b[0mcore.scoring.methods.LK_PolarNonPolarEnergy: \u001b[0mlk_nonpolar eval_residue_pair_derivatives() appears off -- set your minimizer to use_nblist and *also* nblist_auto_update to use eval_atom_derivative instead.\n",
      "\u001b[0mcore.scoring.methods.LK_PolarNonPolarEnergy: \u001b[0mlk_nonpolar eval_residue_pair_derivatives() appears off -- set your minimizer to use_nblist and *also* nblist_auto_update to use eval_atom_derivative instead.\n"
     ]
    },
    {
     "name": "stdout",
     "output_type": "stream",
     "text": [
      "\u001b[0mcore.scoring.methods.LK_PolarNonPolarEnergy: \u001b[0mlk_nonpolar eval_residue_pair_derivatives() appears off -- set your minimizer to use_nblist and *also* nblist_auto_update to use eval_atom_derivative instead.\n",
      "\u001b[0mcore.scoring.methods.LK_PolarNonPolarEnergy: \u001b[0mlk_nonpolar eval_residue_pair_derivatives() appears off -- set your minimizer to use_nblist and *also* nblist_auto_update to use eval_atom_derivative instead.\n",
      "\u001b[0mcore.scoring.methods.LK_PolarNonPolarEnergy: \u001b[0mlk_nonpolar eval_residue_pair_derivatives() appears off -- set your minimizer to use_nblist and *also* nblist_auto_update to use eval_atom_derivative instead.\n",
      "\u001b[0mcore.scoring.methods.LK_PolarNonPolarEnergy: \u001b[0mlk_nonpolar eval_residue_pair_derivatives() appears off -- set your minimizer to use_nblist and *also* nblist_auto_update to use eval_atom_derivative instead.\n",
      "\u001b[0mcore.scoring.methods.LK_PolarNonPolarEnergy: \u001b[0mlk_nonpolar eval_residue_pair_derivatives() appears off -- set your minimizer to use_nblist and *also* nblist_auto_update to use eval_atom_derivative instead.\n",
      "\u001b[0mcore.scoring.methods.LK_PolarNonPolarEnergy: \u001b[0mlk_nonpolar eval_residue_pair_derivatives() appears off -- set your minimizer to use_nblist and *also* nblist_auto_update to use eval_atom_derivative instead.\n",
      "\u001b[0mcore.scoring.methods.LK_PolarNonPolarEnergy: \u001b[0mlk_nonpolar eval_residue_pair_derivatives() appears off -- set your minimizer to use_nblist and *also* nblist_auto_update to use eval_atom_derivative instead.\n",
      "\u001b[0mcore.scoring.methods.LK_PolarNonPolarEnergy: \u001b[0mlk_nonpolar eval_residue_pair_derivatives() appears off -- set your minimizer to use_nblist and *also* nblist_auto_update to use eval_atom_derivative instead.\n",
      "\u001b[0mcore.scoring.methods.LK_PolarNonPolarEnergy: \u001b[0mlk_nonpolar eval_residue_pair_derivatives() appears off -- set your minimizer to use_nblist and *also* nblist_auto_update to use eval_atom_derivative instead.\n",
      "\u001b[0mcore.scoring.methods.LK_PolarNonPolarEnergy: \u001b[0mlk_nonpolar eval_residue_pair_derivatives() appears off -- set your minimizer to use_nblist and *also* nblist_auto_update to use eval_atom_derivative instead.\n",
      "\u001b[0mcore.scoring.methods.LK_PolarNonPolarEnergy: \u001b[0mlk_nonpolar eval_residue_pair_derivatives() appears off -- set your minimizer to use_nblist and *also* nblist_auto_update to use eval_atom_derivative instead.\n",
      "\u001b[0mcore.scoring.methods.LK_PolarNonPolarEnergy: \u001b[0mlk_nonpolar eval_residue_pair_derivatives() appears off -- set your minimizer to use_nblist and *also* nblist_auto_update to use eval_atom_derivative instead.\n",
      "\u001b[0mcore.scoring.methods.LK_PolarNonPolarEnergy: \u001b[0mlk_nonpolar eval_residue_pair_derivatives() appears off -- set your minimizer to use_nblist and *also* nblist_auto_update to use eval_atom_derivative instead.\n",
      "\u001b[0mcore.scoring.methods.LK_PolarNonPolarEnergy: \u001b[0mlk_nonpolar eval_residue_pair_derivatives() appears off -- set your minimizer to use_nblist and *also* nblist_auto_update to use eval_atom_derivative instead.\n",
      "\u001b[0mcore.scoring.methods.LK_PolarNonPolarEnergy: \u001b[0mlk_nonpolar eval_residue_pair_derivatives() appears off -- set your minimizer to use_nblist and *also* nblist_auto_update to use eval_atom_derivative instead.\n",
      "\u001b[0mcore.scoring.methods.LK_PolarNonPolarEnergy: \u001b[0mlk_nonpolar eval_residue_pair_derivatives() appears off -- set your minimizer to use_nblist and *also* nblist_auto_update to use eval_atom_derivative instead.\n",
      "\u001b[0mcore.scoring.methods.LK_PolarNonPolarEnergy: \u001b[0mlk_nonpolar eval_residue_pair_derivatives() appears off -- set your minimizer to use_nblist and *also* nblist_auto_update to use eval_atom_derivative instead.\n",
      "\u001b[0mcore.scoring.methods.LK_PolarNonPolarEnergy: \u001b[0mlk_nonpolar eval_residue_pair_derivatives() appears off -- set your minimizer to use_nblist and *also* nblist_auto_update to use eval_atom_derivative instead.\n",
      "\u001b[0mcore.scoring.methods.LK_PolarNonPolarEnergy: \u001b[0mlk_nonpolar eval_residue_pair_derivatives() appears off -- set your minimizer to use_nblist and *also* nblist_auto_update to use eval_atom_derivative instead.\n",
      "\u001b[0mcore.scoring.methods.LK_PolarNonPolarEnergy: \u001b[0mlk_nonpolar eval_residue_pair_derivatives() appears off -- set your minimizer to use_nblist and *also* nblist_auto_update to use eval_atom_derivative instead.\n",
      "\u001b[0mcore.scoring.methods.LK_PolarNonPolarEnergy: \u001b[0mlk_nonpolar eval_residue_pair_derivatives() appears off -- set your minimizer to use_nblist and *also* nblist_auto_update to use eval_atom_derivative instead.\n",
      "\u001b[0mcore.scoring.methods.LK_PolarNonPolarEnergy: \u001b[0mlk_nonpolar eval_residue_pair_derivatives() appears off -- set your minimizer to use_nblist and *also* nblist_auto_update to use eval_atom_derivative instead.\n",
      "\u001b[0mcore.scoring.methods.LK_PolarNonPolarEnergy: \u001b[0mlk_nonpolar eval_residue_pair_derivatives() appears off -- set your minimizer to use_nblist and *also* nblist_auto_update to use eval_atom_derivative instead.\n",
      "\u001b[0mcore.scoring.methods.LK_PolarNonPolarEnergy: \u001b[0mlk_nonpolar eval_residue_pair_derivatives() appears off -- set your minimizer to use_nblist and *also* nblist_auto_update to use eval_atom_derivative instead.\n",
      "\u001b[0mcore.scoring.methods.LK_PolarNonPolarEnergy: \u001b[0mlk_nonpolar eval_residue_pair_derivatives() appears off -- set your minimizer to use_nblist and *also* nblist_auto_update to use eval_atom_derivative instead.\n",
      "\u001b[0mcore.scoring.methods.LK_PolarNonPolarEnergy: \u001b[0mlk_nonpolar eval_residue_pair_derivatives() appears off -- set your minimizer to use_nblist and *also* nblist_auto_update to use eval_atom_derivative instead.\n",
      "\u001b[0mcore.scoring.methods.LK_PolarNonPolarEnergy: \u001b[0mlk_nonpolar eval_residue_pair_derivatives() appears off -- set your minimizer to use_nblist and *also* nblist_auto_update to use eval_atom_derivative instead.\n",
      "\u001b[0mcore.scoring.methods.LK_PolarNonPolarEnergy: \u001b[0mlk_nonpolar eval_residue_pair_derivatives() appears off -- set your minimizer to use_nblist and *also* nblist_auto_update to use eval_atom_derivative instead.\n",
      "\u001b[0mcore.scoring.methods.LK_PolarNonPolarEnergy: \u001b[0mlk_nonpolar eval_residue_pair_derivatives() appears off -- set your minimizer to use_nblist and *also* nblist_auto_update to use eval_atom_derivative instead.\n",
      "\u001b[0mcore.scoring.methods.LK_PolarNonPolarEnergy: \u001b[0mlk_nonpolar eval_residue_pair_derivatives() appears off -- set your minimizer to use_nblist and *also* nblist_auto_update to use eval_atom_derivative instead.\n",
      "\u001b[0mcore.scoring.methods.LK_PolarNonPolarEnergy: \u001b[0mlk_nonpolar eval_residue_pair_derivatives() appears off -- set your minimizer to use_nblist and *also* nblist_auto_update to use eval_atom_derivative instead.\n",
      "\u001b[0mcore.scoring.methods.LK_PolarNonPolarEnergy: \u001b[0mlk_nonpolar eval_residue_pair_derivatives() appears off -- set your minimizer to use_nblist and *also* nblist_auto_update to use eval_atom_derivative instead.\n",
      "\u001b[0mcore.scoring.methods.LK_PolarNonPolarEnergy: \u001b[0mlk_nonpolar eval_residue_pair_derivatives() appears off -- set your minimizer to use_nblist and *also* nblist_auto_update to use eval_atom_derivative instead.\n",
      "\u001b[0mcore.scoring.methods.LK_PolarNonPolarEnergy: \u001b[0mlk_nonpolar eval_residue_pair_derivatives() appears off -- set your minimizer to use_nblist and *also* nblist_auto_update to use eval_atom_derivative instead.\n",
      "\u001b[0mcore.scoring.methods.LK_PolarNonPolarEnergy: \u001b[0mlk_nonpolar eval_residue_pair_derivatives() appears off -- set your minimizer to use_nblist and *also* nblist_auto_update to use eval_atom_derivative instead.\n",
      "\u001b[0mcore.scoring.methods.LK_PolarNonPolarEnergy: \u001b[0mlk_nonpolar eval_residue_pair_derivatives() appears off -- set your minimizer to use_nblist and *also* nblist_auto_update to use eval_atom_derivative instead.\n",
      "\u001b[0mcore.scoring.methods.LK_PolarNonPolarEnergy: \u001b[0mlk_nonpolar eval_residue_pair_derivatives() appears off -- set your minimizer to use_nblist and *also* nblist_auto_update to use eval_atom_derivative instead.\n",
      "\u001b[0mcore.scoring.methods.LK_PolarNonPolarEnergy: \u001b[0mlk_nonpolar eval_residue_pair_derivatives() appears off -- set your minimizer to use_nblist and *also* nblist_auto_update to use eval_atom_derivative instead.\n",
      "\u001b[0mcore.scoring.methods.LK_PolarNonPolarEnergy: \u001b[0mlk_nonpolar eval_residue_pair_derivatives() appears off -- set your minimizer to use_nblist and *also* nblist_auto_update to use eval_atom_derivative instead.\n"
     ]
    },
    {
     "name": "stdout",
     "output_type": "stream",
     "text": [
      "\u001b[0mcore.scoring.methods.LK_PolarNonPolarEnergy: \u001b[0mlk_nonpolar eval_residue_pair_derivatives() appears off -- set your minimizer to use_nblist and *also* nblist_auto_update to use eval_atom_derivative instead.\n",
      "\u001b[0mcore.scoring.methods.LK_PolarNonPolarEnergy: \u001b[0mlk_nonpolar eval_residue_pair_derivatives() appears off -- set your minimizer to use_nblist and *also* nblist_auto_update to use eval_atom_derivative instead.\n",
      "\u001b[0mcore.scoring.methods.LK_PolarNonPolarEnergy: \u001b[0mlk_nonpolar eval_residue_pair_derivatives() appears off -- set your minimizer to use_nblist and *also* nblist_auto_update to use eval_atom_derivative instead.\n",
      "\u001b[0mcore.scoring.methods.LK_PolarNonPolarEnergy: \u001b[0mlk_nonpolar eval_residue_pair_derivatives() appears off -- set your minimizer to use_nblist and *also* nblist_auto_update to use eval_atom_derivative instead.\n",
      "\u001b[0mcore.scoring.methods.LK_PolarNonPolarEnergy: \u001b[0mlk_nonpolar eval_residue_pair_derivatives() appears off -- set your minimizer to use_nblist and *also* nblist_auto_update to use eval_atom_derivative instead.\n",
      "\u001b[0mcore.scoring.methods.LK_PolarNonPolarEnergy: \u001b[0mlk_nonpolar eval_residue_pair_derivatives() appears off -- set your minimizer to use_nblist and *also* nblist_auto_update to use eval_atom_derivative instead.\n",
      "\u001b[0mcore.scoring.methods.LK_PolarNonPolarEnergy: \u001b[0mlk_nonpolar eval_residue_pair_derivatives() appears off -- set your minimizer to use_nblist and *also* nblist_auto_update to use eval_atom_derivative instead.\n",
      "\u001b[0mcore.scoring.methods.LK_PolarNonPolarEnergy: \u001b[0mlk_nonpolar eval_residue_pair_derivatives() appears off -- set your minimizer to use_nblist and *also* nblist_auto_update to use eval_atom_derivative instead.\n",
      "\u001b[0mcore.scoring.methods.LK_PolarNonPolarEnergy: \u001b[0mlk_nonpolar eval_residue_pair_derivatives() appears off -- set your minimizer to use_nblist and *also* nblist_auto_update to use eval_atom_derivative instead.\n",
      "\u001b[0mcore.scoring.methods.LK_PolarNonPolarEnergy: \u001b[0mlk_nonpolar eval_residue_pair_derivatives() appears off -- set your minimizer to use_nblist and *also* nblist_auto_update to use eval_atom_derivative instead.\n",
      "\u001b[0mcore.scoring.methods.LK_PolarNonPolarEnergy: \u001b[0mlk_nonpolar eval_residue_pair_derivatives() appears off -- set your minimizer to use_nblist and *also* nblist_auto_update to use eval_atom_derivative instead.\n",
      "\u001b[0mcore.scoring.methods.LK_PolarNonPolarEnergy: \u001b[0mlk_nonpolar eval_residue_pair_derivatives() appears off -- set your minimizer to use_nblist and *also* nblist_auto_update to use eval_atom_derivative instead.\n",
      "\u001b[0mcore.scoring.methods.LK_PolarNonPolarEnergy: \u001b[0mlk_nonpolar eval_residue_pair_derivatives() appears off -- set your minimizer to use_nblist and *also* nblist_auto_update to use eval_atom_derivative instead.\n",
      "\u001b[0mcore.scoring.methods.LK_PolarNonPolarEnergy: \u001b[0mlk_nonpolar eval_residue_pair_derivatives() appears off -- set your minimizer to use_nblist and *also* nblist_auto_update to use eval_atom_derivative instead.\n",
      "\u001b[0mcore.scoring.methods.LK_PolarNonPolarEnergy: \u001b[0mlk_nonpolar eval_residue_pair_derivatives() appears off -- set your minimizer to use_nblist and *also* nblist_auto_update to use eval_atom_derivative instead.\n",
      "\u001b[0mcore.scoring.methods.LK_PolarNonPolarEnergy: \u001b[0mlk_nonpolar eval_residue_pair_derivatives() appears off -- set your minimizer to use_nblist and *also* nblist_auto_update to use eval_atom_derivative instead.\n",
      "\u001b[0mcore.scoring.methods.LK_PolarNonPolarEnergy: \u001b[0mlk_nonpolar eval_residue_pair_derivatives() appears off -- set your minimizer to use_nblist and *also* nblist_auto_update to use eval_atom_derivative instead.\n",
      "\u001b[0mcore.scoring.methods.LK_PolarNonPolarEnergy: \u001b[0mlk_nonpolar eval_residue_pair_derivatives() appears off -- set your minimizer to use_nblist and *also* nblist_auto_update to use eval_atom_derivative instead.\n",
      "\u001b[0mcore.scoring.methods.LK_PolarNonPolarEnergy: \u001b[0mlk_nonpolar eval_residue_pair_derivatives() appears off -- set your minimizer to use_nblist and *also* nblist_auto_update to use eval_atom_derivative instead.\n",
      "\u001b[0mcore.scoring.methods.LK_PolarNonPolarEnergy: \u001b[0mlk_nonpolar eval_residue_pair_derivatives() appears off -- set your minimizer to use_nblist and *also* nblist_auto_update to use eval_atom_derivative instead.\n",
      "\u001b[0mcore.scoring.methods.LK_PolarNonPolarEnergy: \u001b[0mlk_nonpolar eval_residue_pair_derivatives() appears off -- set your minimizer to use_nblist and *also* nblist_auto_update to use eval_atom_derivative instead.\n",
      "\u001b[0mcore.scoring.methods.LK_PolarNonPolarEnergy: \u001b[0mlk_nonpolar eval_residue_pair_derivatives() appears off -- set your minimizer to use_nblist and *also* nblist_auto_update to use eval_atom_derivative instead.\n",
      "\u001b[0mcore.scoring.methods.LK_PolarNonPolarEnergy: \u001b[0mlk_nonpolar eval_residue_pair_derivatives() appears off -- set your minimizer to use_nblist and *also* nblist_auto_update to use eval_atom_derivative instead.\n",
      "\u001b[0mcore.scoring.methods.LK_PolarNonPolarEnergy: \u001b[0mlk_nonpolar eval_residue_pair_derivatives() appears off -- set your minimizer to use_nblist and *also* nblist_auto_update to use eval_atom_derivative instead.\n",
      "\u001b[0mcore.scoring.methods.LK_PolarNonPolarEnergy: \u001b[0mlk_nonpolar eval_residue_pair_derivatives() appears off -- set your minimizer to use_nblist and *also* nblist_auto_update to use eval_atom_derivative instead.\n",
      "\u001b[0mcore.scoring.methods.LK_PolarNonPolarEnergy: \u001b[0mlk_nonpolar eval_residue_pair_derivatives() appears off -- set your minimizer to use_nblist and *also* nblist_auto_update to use eval_atom_derivative instead.\n",
      "\u001b[0mcore.scoring.methods.LK_PolarNonPolarEnergy: \u001b[0mlk_nonpolar eval_residue_pair_derivatives() appears off -- set your minimizer to use_nblist and *also* nblist_auto_update to use eval_atom_derivative instead.\n",
      "\u001b[0mcore.scoring.methods.LK_PolarNonPolarEnergy: \u001b[0mlk_nonpolar eval_residue_pair_derivatives() appears off -- set your minimizer to use_nblist and *also* nblist_auto_update to use eval_atom_derivative instead.\n",
      "\u001b[0mcore.scoring.methods.LK_PolarNonPolarEnergy: \u001b[0mlk_nonpolar eval_residue_pair_derivatives() appears off -- set your minimizer to use_nblist and *also* nblist_auto_update to use eval_atom_derivative instead.\n",
      "\u001b[0mcore.scoring.methods.LK_PolarNonPolarEnergy: \u001b[0mlk_nonpolar eval_residue_pair_derivatives() appears off -- set your minimizer to use_nblist and *also* nblist_auto_update to use eval_atom_derivative instead.\n",
      "\u001b[0mcore.scoring.methods.LK_PolarNonPolarEnergy: \u001b[0mlk_nonpolar eval_residue_pair_derivatives() appears off -- set your minimizer to use_nblist and *also* nblist_auto_update to use eval_atom_derivative instead.\n",
      "\u001b[0mcore.scoring.methods.LK_PolarNonPolarEnergy: \u001b[0mlk_nonpolar eval_residue_pair_derivatives() appears off -- set your minimizer to use_nblist and *also* nblist_auto_update to use eval_atom_derivative instead.\n",
      "\u001b[0mcore.scoring.methods.LK_PolarNonPolarEnergy: \u001b[0mlk_nonpolar eval_residue_pair_derivatives() appears off -- set your minimizer to use_nblist and *also* nblist_auto_update to use eval_atom_derivative instead.\n",
      "\u001b[0mcore.scoring.methods.LK_PolarNonPolarEnergy: \u001b[0mlk_nonpolar eval_residue_pair_derivatives() appears off -- set your minimizer to use_nblist and *also* nblist_auto_update to use eval_atom_derivative instead.\n",
      "\u001b[0mcore.scoring.methods.LK_PolarNonPolarEnergy: \u001b[0mlk_nonpolar eval_residue_pair_derivatives() appears off -- set your minimizer to use_nblist and *also* nblist_auto_update to use eval_atom_derivative instead.\n",
      "\u001b[0mcore.scoring.methods.LK_PolarNonPolarEnergy: \u001b[0mlk_nonpolar eval_residue_pair_derivatives() appears off -- set your minimizer to use_nblist and *also* nblist_auto_update to use eval_atom_derivative instead.\n",
      "\u001b[0mcore.scoring.methods.LK_PolarNonPolarEnergy: \u001b[0mlk_nonpolar eval_residue_pair_derivatives() appears off -- set your minimizer to use_nblist and *also* nblist_auto_update to use eval_atom_derivative instead.\n",
      "\u001b[0mcore.scoring.methods.LK_PolarNonPolarEnergy: \u001b[0mlk_nonpolar eval_residue_pair_derivatives() appears off -- set your minimizer to use_nblist and *also* nblist_auto_update to use eval_atom_derivative instead.\n",
      "\u001b[0mcore.scoring.methods.LK_PolarNonPolarEnergy: \u001b[0mlk_nonpolar eval_residue_pair_derivatives() appears off -- set your minimizer to use_nblist and *also* nblist_auto_update to use eval_atom_derivative instead.\n"
     ]
    },
    {
     "name": "stdout",
     "output_type": "stream",
     "text": [
      "\u001b[0mcore.scoring.methods.LK_PolarNonPolarEnergy: \u001b[0mlk_nonpolar eval_residue_pair_derivatives() appears off -- set your minimizer to use_nblist and *also* nblist_auto_update to use eval_atom_derivative instead.\n",
      "\u001b[0mcore.scoring.methods.LK_PolarNonPolarEnergy: \u001b[0mlk_nonpolar eval_residue_pair_derivatives() appears off -- set your minimizer to use_nblist and *also* nblist_auto_update to use eval_atom_derivative instead.\n",
      "\u001b[0mcore.scoring.methods.LK_PolarNonPolarEnergy: \u001b[0mlk_nonpolar eval_residue_pair_derivatives() appears off -- set your minimizer to use_nblist and *also* nblist_auto_update to use eval_atom_derivative instead.\n",
      "\u001b[0mcore.scoring.methods.LK_PolarNonPolarEnergy: \u001b[0mlk_nonpolar eval_residue_pair_derivatives() appears off -- set your minimizer to use_nblist and *also* nblist_auto_update to use eval_atom_derivative instead.\n",
      "\u001b[0mcore.scoring.methods.LK_PolarNonPolarEnergy: \u001b[0mlk_nonpolar eval_residue_pair_derivatives() appears off -- set your minimizer to use_nblist and *also* nblist_auto_update to use eval_atom_derivative instead.\n",
      "\u001b[0mcore.scoring.methods.LK_PolarNonPolarEnergy: \u001b[0mlk_nonpolar eval_residue_pair_derivatives() appears off -- set your minimizer to use_nblist and *also* nblist_auto_update to use eval_atom_derivative instead.\n",
      "\u001b[0mcore.scoring.methods.LK_PolarNonPolarEnergy: \u001b[0mlk_nonpolar eval_residue_pair_derivatives() appears off -- set your minimizer to use_nblist and *also* nblist_auto_update to use eval_atom_derivative instead.\n",
      "\u001b[0mcore.scoring.methods.LK_PolarNonPolarEnergy: \u001b[0mlk_nonpolar eval_residue_pair_derivatives() appears off -- set your minimizer to use_nblist and *also* nblist_auto_update to use eval_atom_derivative instead.\n",
      "\u001b[0mcore.scoring.methods.LK_PolarNonPolarEnergy: \u001b[0mlk_nonpolar eval_residue_pair_derivatives() appears off -- set your minimizer to use_nblist and *also* nblist_auto_update to use eval_atom_derivative instead.\n",
      "\u001b[0mcore.scoring.methods.LK_PolarNonPolarEnergy: \u001b[0mlk_nonpolar eval_residue_pair_derivatives() appears off -- set your minimizer to use_nblist and *also* nblist_auto_update to use eval_atom_derivative instead.\n",
      "\u001b[0mcore.scoring.methods.LK_PolarNonPolarEnergy: \u001b[0mlk_nonpolar eval_residue_pair_derivatives() appears off -- set your minimizer to use_nblist and *also* nblist_auto_update to use eval_atom_derivative instead.\n",
      "\u001b[0mcore.scoring.methods.LK_PolarNonPolarEnergy: \u001b[0mlk_nonpolar eval_residue_pair_derivatives() appears off -- set your minimizer to use_nblist and *also* nblist_auto_update to use eval_atom_derivative instead.\n",
      "\u001b[0mcore.scoring.methods.LK_PolarNonPolarEnergy: \u001b[0mlk_nonpolar eval_residue_pair_derivatives() appears off -- set your minimizer to use_nblist and *also* nblist_auto_update to use eval_atom_derivative instead.\n",
      "\u001b[0mcore.scoring.methods.LK_PolarNonPolarEnergy: \u001b[0mlk_nonpolar eval_residue_pair_derivatives() appears off -- set your minimizer to use_nblist and *also* nblist_auto_update to use eval_atom_derivative instead.\n",
      "\u001b[0mcore.scoring.methods.LK_PolarNonPolarEnergy: \u001b[0mlk_nonpolar eval_residue_pair_derivatives() appears off -- set your minimizer to use_nblist and *also* nblist_auto_update to use eval_atom_derivative instead.\n",
      "\u001b[0mcore.scoring.methods.LK_PolarNonPolarEnergy: \u001b[0mlk_nonpolar eval_residue_pair_derivatives() appears off -- set your minimizer to use_nblist and *also* nblist_auto_update to use eval_atom_derivative instead.\n",
      "\u001b[0mcore.scoring.methods.LK_PolarNonPolarEnergy: \u001b[0mlk_nonpolar eval_residue_pair_derivatives() appears off -- set your minimizer to use_nblist and *also* nblist_auto_update to use eval_atom_derivative instead.\n",
      "\u001b[0mcore.scoring.methods.LK_PolarNonPolarEnergy: \u001b[0mlk_nonpolar eval_residue_pair_derivatives() appears off -- set your minimizer to use_nblist and *also* nblist_auto_update to use eval_atom_derivative instead.\n",
      "\u001b[0mcore.scoring.methods.LK_PolarNonPolarEnergy: \u001b[0mlk_nonpolar eval_residue_pair_derivatives() appears off -- set your minimizer to use_nblist and *also* nblist_auto_update to use eval_atom_derivative instead.\n",
      "\u001b[0mcore.scoring.methods.LK_PolarNonPolarEnergy: \u001b[0mlk_nonpolar eval_residue_pair_derivatives() appears off -- set your minimizer to use_nblist and *also* nblist_auto_update to use eval_atom_derivative instead.\n",
      "\u001b[0mcore.scoring.methods.LK_PolarNonPolarEnergy: \u001b[0mlk_nonpolar eval_residue_pair_derivatives() appears off -- set your minimizer to use_nblist and *also* nblist_auto_update to use eval_atom_derivative instead.\n",
      "\u001b[0mcore.scoring.methods.LK_PolarNonPolarEnergy: \u001b[0mlk_nonpolar eval_residue_pair_derivatives() appears off -- set your minimizer to use_nblist and *also* nblist_auto_update to use eval_atom_derivative instead.\n",
      "\u001b[0mcore.scoring.methods.LK_PolarNonPolarEnergy: \u001b[0mlk_nonpolar eval_residue_pair_derivatives() appears off -- set your minimizer to use_nblist and *also* nblist_auto_update to use eval_atom_derivative instead.\n",
      "\u001b[0mcore.scoring.methods.LK_PolarNonPolarEnergy: \u001b[0mlk_nonpolar eval_residue_pair_derivatives() appears off -- set your minimizer to use_nblist and *also* nblist_auto_update to use eval_atom_derivative instead.\n",
      "\u001b[0mcore.scoring.methods.LK_PolarNonPolarEnergy: \u001b[0mlk_nonpolar eval_residue_pair_derivatives() appears off -- set your minimizer to use_nblist and *also* nblist_auto_update to use eval_atom_derivative instead.\n",
      "\u001b[0mcore.scoring.methods.LK_PolarNonPolarEnergy: \u001b[0mlk_nonpolar eval_residue_pair_derivatives() appears off -- set your minimizer to use_nblist and *also* nblist_auto_update to use eval_atom_derivative instead.\n",
      "\u001b[0mcore.scoring.methods.LK_PolarNonPolarEnergy: \u001b[0mlk_nonpolar eval_residue_pair_derivatives() appears off -- set your minimizer to use_nblist and *also* nblist_auto_update to use eval_atom_derivative instead.\n",
      "\u001b[0mcore.scoring.methods.LK_PolarNonPolarEnergy: \u001b[0mlk_nonpolar eval_residue_pair_derivatives() appears off -- set your minimizer to use_nblist and *also* nblist_auto_update to use eval_atom_derivative instead.\n",
      "\u001b[0mcore.scoring.methods.LK_PolarNonPolarEnergy: \u001b[0mlk_nonpolar eval_residue_pair_derivatives() appears off -- set your minimizer to use_nblist and *also* nblist_auto_update to use eval_atom_derivative instead.\n",
      "\u001b[0mcore.scoring.methods.LK_PolarNonPolarEnergy: \u001b[0mlk_nonpolar eval_residue_pair_derivatives() appears off -- set your minimizer to use_nblist and *also* nblist_auto_update to use eval_atom_derivative instead.\n",
      "\u001b[0mcore.scoring.methods.LK_PolarNonPolarEnergy: \u001b[0mlk_nonpolar eval_residue_pair_derivatives() appears off -- set your minimizer to use_nblist and *also* nblist_auto_update to use eval_atom_derivative instead.\n",
      "\u001b[0mcore.scoring.methods.LK_PolarNonPolarEnergy: \u001b[0mlk_nonpolar eval_residue_pair_derivatives() appears off -- set your minimizer to use_nblist and *also* nblist_auto_update to use eval_atom_derivative instead.\n",
      "\u001b[0mcore.scoring.methods.LK_PolarNonPolarEnergy: \u001b[0mlk_nonpolar eval_residue_pair_derivatives() appears off -- set your minimizer to use_nblist and *also* nblist_auto_update to use eval_atom_derivative instead.\n",
      "\u001b[0mcore.scoring.methods.LK_PolarNonPolarEnergy: \u001b[0mlk_nonpolar eval_residue_pair_derivatives() appears off -- set your minimizer to use_nblist and *also* nblist_auto_update to use eval_atom_derivative instead.\n",
      "\u001b[0mcore.scoring.methods.LK_PolarNonPolarEnergy: \u001b[0mlk_nonpolar eval_residue_pair_derivatives() appears off -- set your minimizer to use_nblist and *also* nblist_auto_update to use eval_atom_derivative instead.\n",
      "\u001b[0mcore.scoring.methods.LK_PolarNonPolarEnergy: \u001b[0mlk_nonpolar eval_residue_pair_derivatives() appears off -- set your minimizer to use_nblist and *also* nblist_auto_update to use eval_atom_derivative instead.\n",
      "\u001b[0mcore.scoring.methods.LK_PolarNonPolarEnergy: \u001b[0mlk_nonpolar eval_residue_pair_derivatives() appears off -- set your minimizer to use_nblist and *also* nblist_auto_update to use eval_atom_derivative instead.\n",
      "\u001b[0mcore.scoring.methods.LK_PolarNonPolarEnergy: \u001b[0mlk_nonpolar eval_residue_pair_derivatives() appears off -- set your minimizer to use_nblist and *also* nblist_auto_update to use eval_atom_derivative instead.\n",
      "\u001b[0mcore.scoring.methods.LK_PolarNonPolarEnergy: \u001b[0mlk_nonpolar eval_residue_pair_derivatives() appears off -- set your minimizer to use_nblist and *also* nblist_auto_update to use eval_atom_derivative instead.\n"
     ]
    },
    {
     "name": "stdout",
     "output_type": "stream",
     "text": [
      "\u001b[0mcore.scoring.methods.LK_PolarNonPolarEnergy: \u001b[0mlk_nonpolar eval_residue_pair_derivatives() appears off -- set your minimizer to use_nblist and *also* nblist_auto_update to use eval_atom_derivative instead.\n",
      "\u001b[0mcore.scoring.methods.LK_PolarNonPolarEnergy: \u001b[0mlk_nonpolar eval_residue_pair_derivatives() appears off -- set your minimizer to use_nblist and *also* nblist_auto_update to use eval_atom_derivative instead.\n",
      "\u001b[0mcore.scoring.methods.LK_PolarNonPolarEnergy: \u001b[0mlk_nonpolar eval_residue_pair_derivatives() appears off -- set your minimizer to use_nblist and *also* nblist_auto_update to use eval_atom_derivative instead.\n",
      "\u001b[0mcore.scoring.methods.LK_PolarNonPolarEnergy: \u001b[0mlk_nonpolar eval_residue_pair_derivatives() appears off -- set your minimizer to use_nblist and *also* nblist_auto_update to use eval_atom_derivative instead.\n",
      "\u001b[0mcore.scoring.methods.LK_PolarNonPolarEnergy: \u001b[0mlk_nonpolar eval_residue_pair_derivatives() appears off -- set your minimizer to use_nblist and *also* nblist_auto_update to use eval_atom_derivative instead.\n",
      "\u001b[0mcore.scoring.methods.LK_PolarNonPolarEnergy: \u001b[0mlk_nonpolar eval_residue_pair_derivatives() appears off -- set your minimizer to use_nblist and *also* nblist_auto_update to use eval_atom_derivative instead.\n",
      "\u001b[0mcore.scoring.methods.LK_PolarNonPolarEnergy: \u001b[0mlk_nonpolar eval_residue_pair_derivatives() appears off -- set your minimizer to use_nblist and *also* nblist_auto_update to use eval_atom_derivative instead.\n",
      "\u001b[0mcore.scoring.methods.LK_PolarNonPolarEnergy: \u001b[0mlk_nonpolar eval_residue_pair_derivatives() appears off -- set your minimizer to use_nblist and *also* nblist_auto_update to use eval_atom_derivative instead.\n",
      "\u001b[0mcore.scoring.methods.LK_PolarNonPolarEnergy: \u001b[0mlk_nonpolar eval_residue_pair_derivatives() appears off -- set your minimizer to use_nblist and *also* nblist_auto_update to use eval_atom_derivative instead.\n",
      "\u001b[0mcore.scoring.methods.LK_PolarNonPolarEnergy: \u001b[0mlk_nonpolar eval_residue_pair_derivatives() appears off -- set your minimizer to use_nblist and *also* nblist_auto_update to use eval_atom_derivative instead.\n",
      "\u001b[0mcore.scoring.methods.LK_PolarNonPolarEnergy: \u001b[0mlk_nonpolar eval_residue_pair_derivatives() appears off -- set your minimizer to use_nblist and *also* nblist_auto_update to use eval_atom_derivative instead.\n",
      "\u001b[0mcore.scoring.methods.LK_PolarNonPolarEnergy: \u001b[0mlk_nonpolar eval_residue_pair_derivatives() appears off -- set your minimizer to use_nblist and *also* nblist_auto_update to use eval_atom_derivative instead.\n",
      "\u001b[0mcore.scoring.methods.LK_PolarNonPolarEnergy: \u001b[0mlk_nonpolar eval_residue_pair_derivatives() appears off -- set your minimizer to use_nblist and *also* nblist_auto_update to use eval_atom_derivative instead.\n",
      "\u001b[0mcore.scoring.methods.LK_PolarNonPolarEnergy: \u001b[0mlk_nonpolar eval_residue_pair_derivatives() appears off -- set your minimizer to use_nblist and *also* nblist_auto_update to use eval_atom_derivative instead.\n",
      "\u001b[0mcore.scoring.methods.LK_PolarNonPolarEnergy: \u001b[0mlk_nonpolar eval_residue_pair_derivatives() appears off -- set your minimizer to use_nblist and *also* nblist_auto_update to use eval_atom_derivative instead.\n",
      "\u001b[0mcore.scoring.methods.LK_PolarNonPolarEnergy: \u001b[0mlk_nonpolar eval_residue_pair_derivatives() appears off -- set your minimizer to use_nblist and *also* nblist_auto_update to use eval_atom_derivative instead.\n",
      "\u001b[0mcore.scoring.methods.LK_PolarNonPolarEnergy: \u001b[0mlk_nonpolar eval_residue_pair_derivatives() appears off -- set your minimizer to use_nblist and *also* nblist_auto_update to use eval_atom_derivative instead.\n",
      "\u001b[0mcore.scoring.methods.LK_PolarNonPolarEnergy: \u001b[0mlk_nonpolar eval_residue_pair_derivatives() appears off -- set your minimizer to use_nblist and *also* nblist_auto_update to use eval_atom_derivative instead.\n",
      "\u001b[0mcore.scoring.methods.LK_PolarNonPolarEnergy: \u001b[0mlk_nonpolar eval_residue_pair_derivatives() appears off -- set your minimizer to use_nblist and *also* nblist_auto_update to use eval_atom_derivative instead.\n",
      "\u001b[0mcore.scoring.methods.LK_PolarNonPolarEnergy: \u001b[0mlk_nonpolar eval_residue_pair_derivatives() appears off -- set your minimizer to use_nblist and *also* nblist_auto_update to use eval_atom_derivative instead.\n",
      "\u001b[0mcore.scoring.methods.LK_PolarNonPolarEnergy: \u001b[0mlk_nonpolar eval_residue_pair_derivatives() appears off -- set your minimizer to use_nblist and *also* nblist_auto_update to use eval_atom_derivative instead.\n",
      "\u001b[0mcore.scoring.methods.LK_PolarNonPolarEnergy: \u001b[0mlk_nonpolar eval_residue_pair_derivatives() appears off -- set your minimizer to use_nblist and *also* nblist_auto_update to use eval_atom_derivative instead.\n",
      "\u001b[0mcore.scoring.methods.LK_PolarNonPolarEnergy: \u001b[0mlk_nonpolar eval_residue_pair_derivatives() appears off -- set your minimizer to use_nblist and *also* nblist_auto_update to use eval_atom_derivative instead.\n",
      "\u001b[0mcore.scoring.methods.LK_PolarNonPolarEnergy: \u001b[0mlk_nonpolar eval_residue_pair_derivatives() appears off -- set your minimizer to use_nblist and *also* nblist_auto_update to use eval_atom_derivative instead.\n",
      "\u001b[0mcore.scoring.methods.LK_PolarNonPolarEnergy: \u001b[0mlk_nonpolar eval_residue_pair_derivatives() appears off -- set your minimizer to use_nblist and *also* nblist_auto_update to use eval_atom_derivative instead.\n",
      "\u001b[0mcore.scoring.methods.LK_PolarNonPolarEnergy: \u001b[0mlk_nonpolar eval_residue_pair_derivatives() appears off -- set your minimizer to use_nblist and *also* nblist_auto_update to use eval_atom_derivative instead.\n",
      "\u001b[0mcore.scoring.methods.LK_PolarNonPolarEnergy: \u001b[0mlk_nonpolar eval_residue_pair_derivatives() appears off -- set your minimizer to use_nblist and *also* nblist_auto_update to use eval_atom_derivative instead.\n",
      "\u001b[0mcore.scoring.methods.LK_PolarNonPolarEnergy: \u001b[0mlk_nonpolar eval_residue_pair_derivatives() appears off -- set your minimizer to use_nblist and *also* nblist_auto_update to use eval_atom_derivative instead.\n",
      "\u001b[0mcore.scoring.methods.LK_PolarNonPolarEnergy: \u001b[0mlk_nonpolar eval_residue_pair_derivatives() appears off -- set your minimizer to use_nblist and *also* nblist_auto_update to use eval_atom_derivative instead.\n",
      "\u001b[0mcore.scoring.methods.LK_PolarNonPolarEnergy: \u001b[0mlk_nonpolar eval_residue_pair_derivatives() appears off -- set your minimizer to use_nblist and *also* nblist_auto_update to use eval_atom_derivative instead.\n",
      "\u001b[0mcore.scoring.methods.LK_PolarNonPolarEnergy: \u001b[0mlk_nonpolar eval_residue_pair_derivatives() appears off -- set your minimizer to use_nblist and *also* nblist_auto_update to use eval_atom_derivative instead.\n",
      "\u001b[0mcore.scoring.methods.LK_PolarNonPolarEnergy: \u001b[0mlk_nonpolar eval_residue_pair_derivatives() appears off -- set your minimizer to use_nblist and *also* nblist_auto_update to use eval_atom_derivative instead.\n",
      "\u001b[0mcore.scoring.methods.LK_PolarNonPolarEnergy: \u001b[0mlk_nonpolar eval_residue_pair_derivatives() appears off -- set your minimizer to use_nblist and *also* nblist_auto_update to use eval_atom_derivative instead.\n",
      "\u001b[0mcore.scoring.methods.LK_PolarNonPolarEnergy: \u001b[0mlk_nonpolar eval_residue_pair_derivatives() appears off -- set your minimizer to use_nblist and *also* nblist_auto_update to use eval_atom_derivative instead.\n",
      "\u001b[0mcore.scoring.methods.LK_PolarNonPolarEnergy: \u001b[0mlk_nonpolar eval_residue_pair_derivatives() appears off -- set your minimizer to use_nblist and *also* nblist_auto_update to use eval_atom_derivative instead.\n",
      "\u001b[0mcore.scoring.methods.LK_PolarNonPolarEnergy: \u001b[0mlk_nonpolar eval_residue_pair_derivatives() appears off -- set your minimizer to use_nblist and *also* nblist_auto_update to use eval_atom_derivative instead.\n",
      "\u001b[0mcore.scoring.methods.LK_PolarNonPolarEnergy: \u001b[0mlk_nonpolar eval_residue_pair_derivatives() appears off -- set your minimizer to use_nblist and *also* nblist_auto_update to use eval_atom_derivative instead.\n",
      "\u001b[0mcore.scoring.methods.LK_PolarNonPolarEnergy: \u001b[0mlk_nonpolar eval_residue_pair_derivatives() appears off -- set your minimizer to use_nblist and *also* nblist_auto_update to use eval_atom_derivative instead.\n",
      "\u001b[0mcore.scoring.methods.LK_PolarNonPolarEnergy: \u001b[0mlk_nonpolar eval_residue_pair_derivatives() appears off -- set your minimizer to use_nblist and *also* nblist_auto_update to use eval_atom_derivative instead.\n"
     ]
    },
    {
     "name": "stdout",
     "output_type": "stream",
     "text": [
      "\u001b[0mcore.scoring.methods.LK_PolarNonPolarEnergy: \u001b[0mlk_nonpolar eval_residue_pair_derivatives() appears off -- set your minimizer to use_nblist and *also* nblist_auto_update to use eval_atom_derivative instead.\n",
      "\u001b[0mcore.scoring.methods.LK_PolarNonPolarEnergy: \u001b[0mlk_nonpolar eval_residue_pair_derivatives() appears off -- set your minimizer to use_nblist and *also* nblist_auto_update to use eval_atom_derivative instead.\n",
      "\u001b[0mcore.scoring.methods.LK_PolarNonPolarEnergy: \u001b[0mlk_nonpolar eval_residue_pair_derivatives() appears off -- set your minimizer to use_nblist and *also* nblist_auto_update to use eval_atom_derivative instead.\n",
      "\u001b[0mcore.scoring.methods.LK_PolarNonPolarEnergy: \u001b[0mlk_nonpolar eval_residue_pair_derivatives() appears off -- set your minimizer to use_nblist and *also* nblist_auto_update to use eval_atom_derivative instead.\n",
      "\u001b[0mcore.scoring.methods.LK_PolarNonPolarEnergy: \u001b[0mlk_nonpolar eval_residue_pair_derivatives() appears off -- set your minimizer to use_nblist and *also* nblist_auto_update to use eval_atom_derivative instead.\n",
      "\u001b[0mcore.scoring.methods.LK_PolarNonPolarEnergy: \u001b[0mlk_nonpolar eval_residue_pair_derivatives() appears off -- set your minimizer to use_nblist and *also* nblist_auto_update to use eval_atom_derivative instead.\n",
      "\u001b[0mcore.scoring.methods.LK_PolarNonPolarEnergy: \u001b[0mlk_nonpolar eval_residue_pair_derivatives() appears off -- set your minimizer to use_nblist and *also* nblist_auto_update to use eval_atom_derivative instead.\n",
      "\u001b[0mcore.scoring.methods.LK_PolarNonPolarEnergy: \u001b[0mlk_nonpolar eval_residue_pair_derivatives() appears off -- set your minimizer to use_nblist and *also* nblist_auto_update to use eval_atom_derivative instead.\n",
      "\u001b[0mcore.scoring.methods.LK_PolarNonPolarEnergy: \u001b[0mlk_nonpolar eval_residue_pair_derivatives() appears off -- set your minimizer to use_nblist and *also* nblist_auto_update to use eval_atom_derivative instead.\n",
      "\u001b[0mcore.scoring.methods.LK_PolarNonPolarEnergy: \u001b[0mlk_nonpolar eval_residue_pair_derivatives() appears off -- set your minimizer to use_nblist and *also* nblist_auto_update to use eval_atom_derivative instead.\n",
      "\u001b[0mcore.scoring.methods.LK_PolarNonPolarEnergy: \u001b[0mlk_nonpolar eval_residue_pair_derivatives() appears off -- set your minimizer to use_nblist and *also* nblist_auto_update to use eval_atom_derivative instead.\n",
      "\u001b[0mcore.scoring.methods.LK_PolarNonPolarEnergy: \u001b[0mlk_nonpolar eval_residue_pair_derivatives() appears off -- set your minimizer to use_nblist and *also* nblist_auto_update to use eval_atom_derivative instead.\n",
      "\u001b[0mcore.scoring.methods.LK_PolarNonPolarEnergy: \u001b[0mlk_nonpolar eval_residue_pair_derivatives() appears off -- set your minimizer to use_nblist and *also* nblist_auto_update to use eval_atom_derivative instead.\n",
      "\u001b[0mcore.scoring.methods.LK_PolarNonPolarEnergy: \u001b[0mlk_nonpolar eval_residue_pair_derivatives() appears off -- set your minimizer to use_nblist and *also* nblist_auto_update to use eval_atom_derivative instead.\n",
      "\u001b[0mcore.scoring.methods.LK_PolarNonPolarEnergy: \u001b[0mlk_nonpolar eval_residue_pair_derivatives() appears off -- set your minimizer to use_nblist and *also* nblist_auto_update to use eval_atom_derivative instead.\n",
      "\u001b[0mcore.scoring.methods.LK_PolarNonPolarEnergy: \u001b[0mlk_nonpolar eval_residue_pair_derivatives() appears off -- set your minimizer to use_nblist and *also* nblist_auto_update to use eval_atom_derivative instead.\n",
      "\u001b[0mcore.scoring.methods.LK_PolarNonPolarEnergy: \u001b[0mlk_nonpolar eval_residue_pair_derivatives() appears off -- set your minimizer to use_nblist and *also* nblist_auto_update to use eval_atom_derivative instead.\n",
      "\u001b[0mcore.scoring.methods.LK_PolarNonPolarEnergy: \u001b[0mlk_nonpolar eval_residue_pair_derivatives() appears off -- set your minimizer to use_nblist and *also* nblist_auto_update to use eval_atom_derivative instead.\n",
      "\u001b[0mcore.scoring.methods.LK_PolarNonPolarEnergy: \u001b[0mlk_nonpolar eval_residue_pair_derivatives() appears off -- set your minimizer to use_nblist and *also* nblist_auto_update to use eval_atom_derivative instead.\n",
      "\u001b[0mcore.scoring.methods.LK_PolarNonPolarEnergy: \u001b[0mlk_nonpolar eval_residue_pair_derivatives() appears off -- set your minimizer to use_nblist and *also* nblist_auto_update to use eval_atom_derivative instead.\n",
      "\u001b[0mcore.scoring.methods.LK_PolarNonPolarEnergy: \u001b[0mlk_nonpolar eval_residue_pair_derivatives() appears off -- set your minimizer to use_nblist and *also* nblist_auto_update to use eval_atom_derivative instead.\n",
      "\u001b[0mcore.scoring.methods.LK_PolarNonPolarEnergy: \u001b[0mlk_nonpolar eval_residue_pair_derivatives() appears off -- set your minimizer to use_nblist and *also* nblist_auto_update to use eval_atom_derivative instead.\n",
      "\u001b[0mcore.scoring.methods.LK_PolarNonPolarEnergy: \u001b[0mlk_nonpolar eval_residue_pair_derivatives() appears off -- set your minimizer to use_nblist and *also* nblist_auto_update to use eval_atom_derivative instead.\n",
      "\u001b[0mcore.scoring.methods.LK_PolarNonPolarEnergy: \u001b[0mlk_nonpolar eval_residue_pair_derivatives() appears off -- set your minimizer to use_nblist and *also* nblist_auto_update to use eval_atom_derivative instead.\n",
      "\u001b[0mcore.scoring.methods.LK_PolarNonPolarEnergy: \u001b[0mlk_nonpolar eval_residue_pair_derivatives() appears off -- set your minimizer to use_nblist and *also* nblist_auto_update to use eval_atom_derivative instead.\n",
      "\u001b[0mcore.scoring.methods.LK_PolarNonPolarEnergy: \u001b[0mlk_nonpolar eval_residue_pair_derivatives() appears off -- set your minimizer to use_nblist and *also* nblist_auto_update to use eval_atom_derivative instead.\n",
      "\u001b[0mcore.scoring.methods.LK_PolarNonPolarEnergy: \u001b[0mlk_nonpolar eval_residue_pair_derivatives() appears off -- set your minimizer to use_nblist and *also* nblist_auto_update to use eval_atom_derivative instead.\n",
      "\u001b[0mcore.scoring.methods.LK_PolarNonPolarEnergy: \u001b[0mlk_nonpolar eval_residue_pair_derivatives() appears off -- set your minimizer to use_nblist and *also* nblist_auto_update to use eval_atom_derivative instead.\n",
      "\u001b[0mcore.scoring.methods.LK_PolarNonPolarEnergy: \u001b[0mlk_nonpolar eval_residue_pair_derivatives() appears off -- set your minimizer to use_nblist and *also* nblist_auto_update to use eval_atom_derivative instead.\n",
      "\u001b[0mcore.scoring.methods.LK_PolarNonPolarEnergy: \u001b[0mlk_nonpolar eval_residue_pair_derivatives() appears off -- set your minimizer to use_nblist and *also* nblist_auto_update to use eval_atom_derivative instead.\n",
      "\u001b[0mcore.scoring.methods.LK_PolarNonPolarEnergy: \u001b[0mlk_nonpolar eval_residue_pair_derivatives() appears off -- set your minimizer to use_nblist and *also* nblist_auto_update to use eval_atom_derivative instead.\n",
      "\u001b[0mcore.scoring.methods.LK_PolarNonPolarEnergy: \u001b[0mlk_nonpolar eval_residue_pair_derivatives() appears off -- set your minimizer to use_nblist and *also* nblist_auto_update to use eval_atom_derivative instead.\n",
      "\u001b[0mcore.scoring.methods.LK_PolarNonPolarEnergy: \u001b[0mlk_nonpolar eval_residue_pair_derivatives() appears off -- set your minimizer to use_nblist and *also* nblist_auto_update to use eval_atom_derivative instead.\n",
      "\u001b[0mcore.scoring.methods.LK_PolarNonPolarEnergy: \u001b[0mlk_nonpolar eval_residue_pair_derivatives() appears off -- set your minimizer to use_nblist and *also* nblist_auto_update to use eval_atom_derivative instead.\n",
      "\u001b[0mcore.scoring.methods.LK_PolarNonPolarEnergy: \u001b[0mlk_nonpolar eval_residue_pair_derivatives() appears off -- set your minimizer to use_nblist and *also* nblist_auto_update to use eval_atom_derivative instead.\n",
      "\u001b[0mcore.scoring.methods.LK_PolarNonPolarEnergy: \u001b[0mlk_nonpolar eval_residue_pair_derivatives() appears off -- set your minimizer to use_nblist and *also* nblist_auto_update to use eval_atom_derivative instead.\n",
      "\u001b[0mcore.scoring.methods.LK_PolarNonPolarEnergy: \u001b[0mlk_nonpolar eval_residue_pair_derivatives() appears off -- set your minimizer to use_nblist and *also* nblist_auto_update to use eval_atom_derivative instead.\n",
      "\u001b[0mcore.scoring.methods.LK_PolarNonPolarEnergy: \u001b[0mlk_nonpolar eval_residue_pair_derivatives() appears off -- set your minimizer to use_nblist and *also* nblist_auto_update to use eval_atom_derivative instead.\n",
      "\u001b[0mcore.scoring.methods.LK_PolarNonPolarEnergy: \u001b[0mlk_nonpolar eval_residue_pair_derivatives() appears off -- set your minimizer to use_nblist and *also* nblist_auto_update to use eval_atom_derivative instead.\n"
     ]
    },
    {
     "name": "stdout",
     "output_type": "stream",
     "text": [
      "\u001b[0mcore.scoring.methods.LK_PolarNonPolarEnergy: \u001b[0mlk_nonpolar eval_residue_pair_derivatives() appears off -- set your minimizer to use_nblist and *also* nblist_auto_update to use eval_atom_derivative instead.\n",
      "\u001b[0mcore.scoring.methods.LK_PolarNonPolarEnergy: \u001b[0mlk_nonpolar eval_residue_pair_derivatives() appears off -- set your minimizer to use_nblist and *also* nblist_auto_update to use eval_atom_derivative instead.\n",
      "\u001b[0mcore.scoring.methods.LK_PolarNonPolarEnergy: \u001b[0mlk_nonpolar eval_residue_pair_derivatives() appears off -- set your minimizer to use_nblist and *also* nblist_auto_update to use eval_atom_derivative instead.\n",
      "\u001b[0mcore.scoring.methods.LK_PolarNonPolarEnergy: \u001b[0mlk_nonpolar eval_residue_pair_derivatives() appears off -- set your minimizer to use_nblist and *also* nblist_auto_update to use eval_atom_derivative instead.\n",
      "\u001b[0mcore.scoring.methods.LK_PolarNonPolarEnergy: \u001b[0mlk_nonpolar eval_residue_pair_derivatives() appears off -- set your minimizer to use_nblist and *also* nblist_auto_update to use eval_atom_derivative instead.\n",
      "\u001b[0mcore.scoring.methods.LK_PolarNonPolarEnergy: \u001b[0mlk_nonpolar eval_residue_pair_derivatives() appears off -- set your minimizer to use_nblist and *also* nblist_auto_update to use eval_atom_derivative instead.\n",
      "\u001b[0mcore.scoring.methods.LK_PolarNonPolarEnergy: \u001b[0mlk_nonpolar eval_residue_pair_derivatives() appears off -- set your minimizer to use_nblist and *also* nblist_auto_update to use eval_atom_derivative instead.\n",
      "\u001b[0mcore.scoring.methods.LK_PolarNonPolarEnergy: \u001b[0mlk_nonpolar eval_residue_pair_derivatives() appears off -- set your minimizer to use_nblist and *also* nblist_auto_update to use eval_atom_derivative instead.\n",
      "\u001b[0mcore.scoring.methods.LK_PolarNonPolarEnergy: \u001b[0mlk_nonpolar eval_residue_pair_derivatives() appears off -- set your minimizer to use_nblist and *also* nblist_auto_update to use eval_atom_derivative instead.\n",
      "\u001b[0mcore.scoring.methods.LK_PolarNonPolarEnergy: \u001b[0mlk_nonpolar eval_residue_pair_derivatives() appears off -- set your minimizer to use_nblist and *also* nblist_auto_update to use eval_atom_derivative instead.\n",
      "\u001b[0mcore.scoring.methods.LK_PolarNonPolarEnergy: \u001b[0mlk_nonpolar eval_residue_pair_derivatives() appears off -- set your minimizer to use_nblist and *also* nblist_auto_update to use eval_atom_derivative instead.\n",
      "\u001b[0mcore.scoring.methods.LK_PolarNonPolarEnergy: \u001b[0mlk_nonpolar eval_residue_pair_derivatives() appears off -- set your minimizer to use_nblist and *also* nblist_auto_update to use eval_atom_derivative instead.\n",
      "\u001b[0mcore.scoring.methods.LK_PolarNonPolarEnergy: \u001b[0mlk_nonpolar eval_residue_pair_derivatives() appears off -- set your minimizer to use_nblist and *also* nblist_auto_update to use eval_atom_derivative instead.\n",
      "\u001b[0mcore.scoring.methods.LK_PolarNonPolarEnergy: \u001b[0mlk_nonpolar eval_residue_pair_derivatives() appears off -- set your minimizer to use_nblist and *also* nblist_auto_update to use eval_atom_derivative instead.\n",
      "\u001b[0mcore.scoring.methods.LK_PolarNonPolarEnergy: \u001b[0mlk_nonpolar eval_residue_pair_derivatives() appears off -- set your minimizer to use_nblist and *also* nblist_auto_update to use eval_atom_derivative instead.\n",
      "\u001b[0mcore.scoring.methods.LK_PolarNonPolarEnergy: \u001b[0mlk_nonpolar eval_residue_pair_derivatives() appears off -- set your minimizer to use_nblist and *also* nblist_auto_update to use eval_atom_derivative instead.\n",
      "\u001b[0mcore.scoring.methods.LK_PolarNonPolarEnergy: \u001b[0mlk_nonpolar eval_residue_pair_derivatives() appears off -- set your minimizer to use_nblist and *also* nblist_auto_update to use eval_atom_derivative instead.\n",
      "\u001b[0mcore.scoring.methods.LK_PolarNonPolarEnergy: \u001b[0mlk_nonpolar eval_residue_pair_derivatives() appears off -- set your minimizer to use_nblist and *also* nblist_auto_update to use eval_atom_derivative instead.\n",
      "\u001b[0mcore.scoring.methods.LK_PolarNonPolarEnergy: \u001b[0mlk_nonpolar eval_residue_pair_derivatives() appears off -- set your minimizer to use_nblist and *also* nblist_auto_update to use eval_atom_derivative instead.\n",
      "\u001b[0mcore.scoring.methods.LK_PolarNonPolarEnergy: \u001b[0mlk_nonpolar eval_residue_pair_derivatives() appears off -- set your minimizer to use_nblist and *also* nblist_auto_update to use eval_atom_derivative instead.\n",
      "\u001b[0mcore.scoring.methods.LK_PolarNonPolarEnergy: \u001b[0mlk_nonpolar eval_residue_pair_derivatives() appears off -- set your minimizer to use_nblist and *also* nblist_auto_update to use eval_atom_derivative instead.\n",
      "\u001b[0mcore.scoring.methods.LK_PolarNonPolarEnergy: \u001b[0mlk_nonpolar eval_residue_pair_derivatives() appears off -- set your minimizer to use_nblist and *also* nblist_auto_update to use eval_atom_derivative instead.\n",
      "\u001b[0mcore.scoring.methods.LK_PolarNonPolarEnergy: \u001b[0mlk_nonpolar eval_residue_pair_derivatives() appears off -- set your minimizer to use_nblist and *also* nblist_auto_update to use eval_atom_derivative instead.\n",
      "\u001b[0mcore.scoring.methods.LK_PolarNonPolarEnergy: \u001b[0mlk_nonpolar eval_residue_pair_derivatives() appears off -- set your minimizer to use_nblist and *also* nblist_auto_update to use eval_atom_derivative instead.\n",
      "\u001b[0mcore.scoring.methods.LK_PolarNonPolarEnergy: \u001b[0mlk_nonpolar eval_residue_pair_derivatives() appears off -- set your minimizer to use_nblist and *also* nblist_auto_update to use eval_atom_derivative instead.\n",
      "\u001b[0mcore.scoring.methods.LK_PolarNonPolarEnergy: \u001b[0mlk_nonpolar eval_residue_pair_derivatives() appears off -- set your minimizer to use_nblist and *also* nblist_auto_update to use eval_atom_derivative instead.\n",
      "\u001b[0mcore.scoring.methods.LK_PolarNonPolarEnergy: \u001b[0mlk_nonpolar eval_residue_pair_derivatives() appears off -- set your minimizer to use_nblist and *also* nblist_auto_update to use eval_atom_derivative instead.\n",
      "\u001b[0mcore.scoring.methods.LK_PolarNonPolarEnergy: \u001b[0mlk_nonpolar eval_residue_pair_derivatives() appears off -- set your minimizer to use_nblist and *also* nblist_auto_update to use eval_atom_derivative instead.\n",
      "\u001b[0mcore.scoring.methods.LK_PolarNonPolarEnergy: \u001b[0mlk_nonpolar eval_residue_pair_derivatives() appears off -- set your minimizer to use_nblist and *also* nblist_auto_update to use eval_atom_derivative instead.\n",
      "\u001b[0mcore.scoring.methods.LK_PolarNonPolarEnergy: \u001b[0mlk_nonpolar eval_residue_pair_derivatives() appears off -- set your minimizer to use_nblist and *also* nblist_auto_update to use eval_atom_derivative instead.\n",
      "\u001b[0mcore.scoring.methods.LK_PolarNonPolarEnergy: \u001b[0mlk_nonpolar eval_residue_pair_derivatives() appears off -- set your minimizer to use_nblist and *also* nblist_auto_update to use eval_atom_derivative instead.\n",
      "\u001b[0mcore.scoring.methods.LK_PolarNonPolarEnergy: \u001b[0mlk_nonpolar eval_residue_pair_derivatives() appears off -- set your minimizer to use_nblist and *also* nblist_auto_update to use eval_atom_derivative instead.\n",
      "\u001b[0mcore.scoring.methods.LK_PolarNonPolarEnergy: \u001b[0mlk_nonpolar eval_residue_pair_derivatives() appears off -- set your minimizer to use_nblist and *also* nblist_auto_update to use eval_atom_derivative instead.\n",
      "\u001b[0mcore.scoring.methods.LK_PolarNonPolarEnergy: \u001b[0mlk_nonpolar eval_residue_pair_derivatives() appears off -- set your minimizer to use_nblist and *also* nblist_auto_update to use eval_atom_derivative instead.\n",
      "\u001b[0mcore.scoring.methods.LK_PolarNonPolarEnergy: \u001b[0mlk_nonpolar eval_residue_pair_derivatives() appears off -- set your minimizer to use_nblist and *also* nblist_auto_update to use eval_atom_derivative instead.\n",
      "\u001b[0mcore.scoring.methods.LK_PolarNonPolarEnergy: \u001b[0mlk_nonpolar eval_residue_pair_derivatives() appears off -- set your minimizer to use_nblist and *also* nblist_auto_update to use eval_atom_derivative instead.\n",
      "\u001b[0mcore.scoring.methods.LK_PolarNonPolarEnergy: \u001b[0mlk_nonpolar eval_residue_pair_derivatives() appears off -- set your minimizer to use_nblist and *also* nblist_auto_update to use eval_atom_derivative instead.\n",
      "\u001b[0mcore.scoring.methods.LK_PolarNonPolarEnergy: \u001b[0mlk_nonpolar eval_residue_pair_derivatives() appears off -- set your minimizer to use_nblist and *also* nblist_auto_update to use eval_atom_derivative instead.\n",
      "\u001b[0mcore.scoring.methods.LK_PolarNonPolarEnergy: \u001b[0mlk_nonpolar eval_residue_pair_derivatives() appears off -- set your minimizer to use_nblist and *also* nblist_auto_update to use eval_atom_derivative instead.\n"
     ]
    },
    {
     "name": "stdout",
     "output_type": "stream",
     "text": [
      "\u001b[0mcore.scoring.methods.LK_PolarNonPolarEnergy: \u001b[0mlk_nonpolar eval_residue_pair_derivatives() appears off -- set your minimizer to use_nblist and *also* nblist_auto_update to use eval_atom_derivative instead.\n",
      "\u001b[0mcore.scoring.methods.LK_PolarNonPolarEnergy: \u001b[0mlk_nonpolar eval_residue_pair_derivatives() appears off -- set your minimizer to use_nblist and *also* nblist_auto_update to use eval_atom_derivative instead.\n",
      "\u001b[0mcore.scoring.methods.LK_PolarNonPolarEnergy: \u001b[0mlk_nonpolar eval_residue_pair_derivatives() appears off -- set your minimizer to use_nblist and *also* nblist_auto_update to use eval_atom_derivative instead.\n",
      "\u001b[0mcore.scoring.methods.LK_PolarNonPolarEnergy: \u001b[0mlk_nonpolar eval_residue_pair_derivatives() appears off -- set your minimizer to use_nblist and *also* nblist_auto_update to use eval_atom_derivative instead.\n",
      "\u001b[0mcore.scoring.methods.LK_PolarNonPolarEnergy: \u001b[0mlk_nonpolar eval_residue_pair_derivatives() appears off -- set your minimizer to use_nblist and *also* nblist_auto_update to use eval_atom_derivative instead.\n",
      "\u001b[0mcore.scoring.methods.LK_PolarNonPolarEnergy: \u001b[0mlk_nonpolar eval_residue_pair_derivatives() appears off -- set your minimizer to use_nblist and *also* nblist_auto_update to use eval_atom_derivative instead.\n",
      "\u001b[0mcore.scoring.methods.LK_PolarNonPolarEnergy: \u001b[0mlk_nonpolar eval_residue_pair_derivatives() appears off -- set your minimizer to use_nblist and *also* nblist_auto_update to use eval_atom_derivative instead.\n",
      "\u001b[0mcore.scoring.methods.LK_PolarNonPolarEnergy: \u001b[0mlk_nonpolar eval_residue_pair_derivatives() appears off -- set your minimizer to use_nblist and *also* nblist_auto_update to use eval_atom_derivative instead.\n",
      "\u001b[0mcore.scoring.methods.LK_PolarNonPolarEnergy: \u001b[0mlk_nonpolar eval_residue_pair_derivatives() appears off -- set your minimizer to use_nblist and *also* nblist_auto_update to use eval_atom_derivative instead.\n",
      "\u001b[0mcore.scoring.methods.LK_PolarNonPolarEnergy: \u001b[0mlk_nonpolar eval_residue_pair_derivatives() appears off -- set your minimizer to use_nblist and *also* nblist_auto_update to use eval_atom_derivative instead.\n",
      "\u001b[0mcore.scoring.methods.LK_PolarNonPolarEnergy: \u001b[0mlk_nonpolar eval_residue_pair_derivatives() appears off -- set your minimizer to use_nblist and *also* nblist_auto_update to use eval_atom_derivative instead.\n",
      "\u001b[0mcore.scoring.methods.LK_PolarNonPolarEnergy: \u001b[0mlk_nonpolar eval_residue_pair_derivatives() appears off -- set your minimizer to use_nblist and *also* nblist_auto_update to use eval_atom_derivative instead.\n",
      "\u001b[0mcore.scoring.methods.LK_PolarNonPolarEnergy: \u001b[0mlk_nonpolar eval_residue_pair_derivatives() appears off -- set your minimizer to use_nblist and *also* nblist_auto_update to use eval_atom_derivative instead.\n",
      "\u001b[0mcore.scoring.methods.LK_PolarNonPolarEnergy: \u001b[0mlk_nonpolar eval_residue_pair_derivatives() appears off -- set your minimizer to use_nblist and *also* nblist_auto_update to use eval_atom_derivative instead.\n",
      "\u001b[0mcore.scoring.methods.LK_PolarNonPolarEnergy: \u001b[0mlk_nonpolar eval_residue_pair_derivatives() appears off -- set your minimizer to use_nblist and *also* nblist_auto_update to use eval_atom_derivative instead.\n",
      "\u001b[0mcore.scoring.methods.LK_PolarNonPolarEnergy: \u001b[0mlk_nonpolar eval_residue_pair_derivatives() appears off -- set your minimizer to use_nblist and *also* nblist_auto_update to use eval_atom_derivative instead.\n",
      "\u001b[0mcore.scoring.methods.LK_PolarNonPolarEnergy: \u001b[0mlk_nonpolar eval_residue_pair_derivatives() appears off -- set your minimizer to use_nblist and *also* nblist_auto_update to use eval_atom_derivative instead.\n",
      "\u001b[0mcore.scoring.methods.LK_PolarNonPolarEnergy: \u001b[0mlk_nonpolar eval_residue_pair_derivatives() appears off -- set your minimizer to use_nblist and *also* nblist_auto_update to use eval_atom_derivative instead.\n",
      "\u001b[0mcore.scoring.methods.LK_PolarNonPolarEnergy: \u001b[0mlk_nonpolar eval_residue_pair_derivatives() appears off -- set your minimizer to use_nblist and *also* nblist_auto_update to use eval_atom_derivative instead.\n",
      "\u001b[0mcore.scoring.methods.LK_PolarNonPolarEnergy: \u001b[0mlk_nonpolar eval_residue_pair_derivatives() appears off -- set your minimizer to use_nblist and *also* nblist_auto_update to use eval_atom_derivative instead.\n",
      "\u001b[0mcore.scoring.methods.LK_PolarNonPolarEnergy: \u001b[0mlk_nonpolar eval_residue_pair_derivatives() appears off -- set your minimizer to use_nblist and *also* nblist_auto_update to use eval_atom_derivative instead.\n",
      "\u001b[0mcore.scoring.methods.LK_PolarNonPolarEnergy: \u001b[0mlk_nonpolar eval_residue_pair_derivatives() appears off -- set your minimizer to use_nblist and *also* nblist_auto_update to use eval_atom_derivative instead.\n",
      "\u001b[0mcore.scoring.methods.LK_PolarNonPolarEnergy: \u001b[0mlk_nonpolar eval_residue_pair_derivatives() appears off -- set your minimizer to use_nblist and *also* nblist_auto_update to use eval_atom_derivative instead.\n",
      "\u001b[0mcore.scoring.methods.LK_PolarNonPolarEnergy: \u001b[0mlk_nonpolar eval_residue_pair_derivatives() appears off -- set your minimizer to use_nblist and *also* nblist_auto_update to use eval_atom_derivative instead.\n",
      "\u001b[0mcore.scoring.methods.LK_PolarNonPolarEnergy: \u001b[0mlk_nonpolar eval_residue_pair_derivatives() appears off -- set your minimizer to use_nblist and *also* nblist_auto_update to use eval_atom_derivative instead.\n",
      "\u001b[0mcore.scoring.methods.LK_PolarNonPolarEnergy: \u001b[0mlk_nonpolar eval_residue_pair_derivatives() appears off -- set your minimizer to use_nblist and *also* nblist_auto_update to use eval_atom_derivative instead.\n",
      "\u001b[0mcore.scoring.methods.LK_PolarNonPolarEnergy: \u001b[0mlk_nonpolar eval_residue_pair_derivatives() appears off -- set your minimizer to use_nblist and *also* nblist_auto_update to use eval_atom_derivative instead.\n",
      "\u001b[0mcore.scoring.methods.LK_PolarNonPolarEnergy: \u001b[0mlk_nonpolar eval_residue_pair_derivatives() appears off -- set your minimizer to use_nblist and *also* nblist_auto_update to use eval_atom_derivative instead.\n",
      "\u001b[0mcore.scoring.methods.LK_PolarNonPolarEnergy: \u001b[0mlk_nonpolar eval_residue_pair_derivatives() appears off -- set your minimizer to use_nblist and *also* nblist_auto_update to use eval_atom_derivative instead.\n",
      "\u001b[0mcore.scoring.methods.LK_PolarNonPolarEnergy: \u001b[0mlk_nonpolar eval_residue_pair_derivatives() appears off -- set your minimizer to use_nblist and *also* nblist_auto_update to use eval_atom_derivative instead.\n",
      "\u001b[0mcore.scoring.methods.LK_PolarNonPolarEnergy: \u001b[0mlk_nonpolar eval_residue_pair_derivatives() appears off -- set your minimizer to use_nblist and *also* nblist_auto_update to use eval_atom_derivative instead.\n",
      "\u001b[0mcore.scoring.methods.LK_PolarNonPolarEnergy: \u001b[0mlk_nonpolar eval_residue_pair_derivatives() appears off -- set your minimizer to use_nblist and *also* nblist_auto_update to use eval_atom_derivative instead.\n",
      "\u001b[0mcore.scoring.methods.LK_PolarNonPolarEnergy: \u001b[0mlk_nonpolar eval_residue_pair_derivatives() appears off -- set your minimizer to use_nblist and *also* nblist_auto_update to use eval_atom_derivative instead.\n",
      "\u001b[0mcore.scoring.methods.LK_PolarNonPolarEnergy: \u001b[0mlk_nonpolar eval_residue_pair_derivatives() appears off -- set your minimizer to use_nblist and *also* nblist_auto_update to use eval_atom_derivative instead.\n",
      "\u001b[0mcore.scoring.methods.LK_PolarNonPolarEnergy: \u001b[0mlk_nonpolar eval_residue_pair_derivatives() appears off -- set your minimizer to use_nblist and *also* nblist_auto_update to use eval_atom_derivative instead.\n",
      "\u001b[0mcore.scoring.methods.LK_PolarNonPolarEnergy: \u001b[0mlk_nonpolar eval_residue_pair_derivatives() appears off -- set your minimizer to use_nblist and *also* nblist_auto_update to use eval_atom_derivative instead.\n",
      "\u001b[0mcore.scoring.methods.LK_PolarNonPolarEnergy: \u001b[0mlk_nonpolar eval_residue_pair_derivatives() appears off -- set your minimizer to use_nblist and *also* nblist_auto_update to use eval_atom_derivative instead.\n",
      "\u001b[0mcore.scoring.methods.LK_PolarNonPolarEnergy: \u001b[0mlk_nonpolar eval_residue_pair_derivatives() appears off -- set your minimizer to use_nblist and *also* nblist_auto_update to use eval_atom_derivative instead.\n",
      "\u001b[0mcore.scoring.methods.LK_PolarNonPolarEnergy: \u001b[0mlk_nonpolar eval_residue_pair_derivatives() appears off -- set your minimizer to use_nblist and *also* nblist_auto_update to use eval_atom_derivative instead.\n"
     ]
    },
    {
     "name": "stdout",
     "output_type": "stream",
     "text": [
      "\u001b[0mcore.scoring.methods.LK_PolarNonPolarEnergy: \u001b[0mlk_nonpolar eval_residue_pair_derivatives() appears off -- set your minimizer to use_nblist and *also* nblist_auto_update to use eval_atom_derivative instead.\n",
      "\u001b[0mcore.scoring.methods.LK_PolarNonPolarEnergy: \u001b[0mlk_nonpolar eval_residue_pair_derivatives() appears off -- set your minimizer to use_nblist and *also* nblist_auto_update to use eval_atom_derivative instead.\n",
      "\u001b[0mcore.scoring.methods.LK_PolarNonPolarEnergy: \u001b[0mlk_nonpolar eval_residue_pair_derivatives() appears off -- set your minimizer to use_nblist and *also* nblist_auto_update to use eval_atom_derivative instead.\n",
      "\u001b[0mcore.scoring.methods.LK_PolarNonPolarEnergy: \u001b[0mlk_nonpolar eval_residue_pair_derivatives() appears off -- set your minimizer to use_nblist and *also* nblist_auto_update to use eval_atom_derivative instead.\n",
      "\u001b[0mcore.scoring.methods.LK_PolarNonPolarEnergy: \u001b[0mlk_nonpolar eval_residue_pair_derivatives() appears off -- set your minimizer to use_nblist and *also* nblist_auto_update to use eval_atom_derivative instead.\n",
      "\u001b[0mcore.scoring.methods.LK_PolarNonPolarEnergy: \u001b[0mlk_nonpolar eval_residue_pair_derivatives() appears off -- set your minimizer to use_nblist and *also* nblist_auto_update to use eval_atom_derivative instead.\n",
      "\u001b[0mcore.scoring.methods.LK_PolarNonPolarEnergy: \u001b[0mlk_nonpolar eval_residue_pair_derivatives() appears off -- set your minimizer to use_nblist and *also* nblist_auto_update to use eval_atom_derivative instead.\n",
      "\u001b[0mcore.scoring.methods.LK_PolarNonPolarEnergy: \u001b[0mlk_nonpolar eval_residue_pair_derivatives() appears off -- set your minimizer to use_nblist and *also* nblist_auto_update to use eval_atom_derivative instead.\n",
      "\u001b[0mcore.scoring.methods.LK_PolarNonPolarEnergy: \u001b[0mlk_nonpolar eval_residue_pair_derivatives() appears off -- set your minimizer to use_nblist and *also* nblist_auto_update to use eval_atom_derivative instead.\n",
      "\u001b[0mcore.scoring.methods.LK_PolarNonPolarEnergy: \u001b[0mlk_nonpolar eval_residue_pair_derivatives() appears off -- set your minimizer to use_nblist and *also* nblist_auto_update to use eval_atom_derivative instead.\n",
      "\u001b[0mcore.scoring.methods.LK_PolarNonPolarEnergy: \u001b[0mlk_nonpolar eval_residue_pair_derivatives() appears off -- set your minimizer to use_nblist and *also* nblist_auto_update to use eval_atom_derivative instead.\n",
      "\u001b[0mcore.scoring.methods.LK_PolarNonPolarEnergy: \u001b[0mlk_nonpolar eval_residue_pair_derivatives() appears off -- set your minimizer to use_nblist and *also* nblist_auto_update to use eval_atom_derivative instead.\n",
      "\u001b[0mcore.scoring.methods.LK_PolarNonPolarEnergy: \u001b[0mlk_nonpolar eval_residue_pair_derivatives() appears off -- set your minimizer to use_nblist and *also* nblist_auto_update to use eval_atom_derivative instead.\n",
      "\u001b[0mcore.scoring.methods.LK_PolarNonPolarEnergy: \u001b[0mlk_nonpolar eval_residue_pair_derivatives() appears off -- set your minimizer to use_nblist and *also* nblist_auto_update to use eval_atom_derivative instead.\n",
      "\u001b[0mcore.scoring.methods.LK_PolarNonPolarEnergy: \u001b[0mlk_nonpolar eval_residue_pair_derivatives() appears off -- set your minimizer to use_nblist and *also* nblist_auto_update to use eval_atom_derivative instead.\n",
      "\u001b[0mcore.scoring.methods.LK_PolarNonPolarEnergy: \u001b[0mlk_nonpolar eval_residue_pair_derivatives() appears off -- set your minimizer to use_nblist and *also* nblist_auto_update to use eval_atom_derivative instead.\n",
      "\u001b[0mcore.scoring.methods.LK_PolarNonPolarEnergy: \u001b[0mlk_nonpolar eval_residue_pair_derivatives() appears off -- set your minimizer to use_nblist and *also* nblist_auto_update to use eval_atom_derivative instead.\n",
      "\u001b[0mcore.scoring.methods.LK_PolarNonPolarEnergy: \u001b[0mlk_nonpolar eval_residue_pair_derivatives() appears off -- set your minimizer to use_nblist and *also* nblist_auto_update to use eval_atom_derivative instead.\n",
      "\u001b[0mcore.scoring.methods.LK_PolarNonPolarEnergy: \u001b[0mlk_nonpolar eval_residue_pair_derivatives() appears off -- set your minimizer to use_nblist and *also* nblist_auto_update to use eval_atom_derivative instead.\n",
      "\u001b[0mcore.scoring.methods.LK_PolarNonPolarEnergy: \u001b[0mlk_nonpolar eval_residue_pair_derivatives() appears off -- set your minimizer to use_nblist and *also* nblist_auto_update to use eval_atom_derivative instead.\n",
      "\u001b[0mcore.scoring.methods.LK_PolarNonPolarEnergy: \u001b[0mlk_nonpolar eval_residue_pair_derivatives() appears off -- set your minimizer to use_nblist and *also* nblist_auto_update to use eval_atom_derivative instead.\n",
      "\u001b[0mcore.scoring.methods.LK_PolarNonPolarEnergy: \u001b[0mlk_nonpolar eval_residue_pair_derivatives() appears off -- set your minimizer to use_nblist and *also* nblist_auto_update to use eval_atom_derivative instead.\n",
      "\u001b[0mcore.scoring.methods.LK_PolarNonPolarEnergy: \u001b[0mlk_nonpolar eval_residue_pair_derivatives() appears off -- set your minimizer to use_nblist and *also* nblist_auto_update to use eval_atom_derivative instead.\n",
      "\u001b[0mcore.scoring.methods.LK_PolarNonPolarEnergy: \u001b[0mlk_nonpolar eval_residue_pair_derivatives() appears off -- set your minimizer to use_nblist and *also* nblist_auto_update to use eval_atom_derivative instead.\n",
      "\u001b[0mcore.scoring.methods.LK_PolarNonPolarEnergy: \u001b[0mlk_nonpolar eval_residue_pair_derivatives() appears off -- set your minimizer to use_nblist and *also* nblist_auto_update to use eval_atom_derivative instead.\n",
      "\u001b[0mcore.scoring.methods.LK_PolarNonPolarEnergy: \u001b[0mlk_nonpolar eval_residue_pair_derivatives() appears off -- set your minimizer to use_nblist and *also* nblist_auto_update to use eval_atom_derivative instead.\n",
      "\u001b[0mcore.scoring.methods.LK_PolarNonPolarEnergy: \u001b[0mlk_nonpolar eval_residue_pair_derivatives() appears off -- set your minimizer to use_nblist and *also* nblist_auto_update to use eval_atom_derivative instead.\n",
      "\u001b[0mcore.scoring.methods.LK_PolarNonPolarEnergy: \u001b[0mlk_nonpolar eval_residue_pair_derivatives() appears off -- set your minimizer to use_nblist and *also* nblist_auto_update to use eval_atom_derivative instead.\n",
      "\u001b[0mcore.scoring.methods.LK_PolarNonPolarEnergy: \u001b[0mlk_nonpolar eval_residue_pair_derivatives() appears off -- set your minimizer to use_nblist and *also* nblist_auto_update to use eval_atom_derivative instead.\n",
      "\u001b[0mcore.scoring.methods.LK_PolarNonPolarEnergy: \u001b[0mlk_nonpolar eval_residue_pair_derivatives() appears off -- set your minimizer to use_nblist and *also* nblist_auto_update to use eval_atom_derivative instead.\n",
      "\u001b[0mcore.scoring.methods.LK_PolarNonPolarEnergy: \u001b[0mlk_nonpolar eval_residue_pair_derivatives() appears off -- set your minimizer to use_nblist and *also* nblist_auto_update to use eval_atom_derivative instead.\n",
      "\u001b[0mcore.scoring.methods.LK_PolarNonPolarEnergy: \u001b[0mlk_nonpolar eval_residue_pair_derivatives() appears off -- set your minimizer to use_nblist and *also* nblist_auto_update to use eval_atom_derivative instead.\n",
      "\u001b[0mcore.scoring.methods.LK_PolarNonPolarEnergy: \u001b[0mlk_nonpolar eval_residue_pair_derivatives() appears off -- set your minimizer to use_nblist and *also* nblist_auto_update to use eval_atom_derivative instead.\n",
      "\u001b[0mcore.scoring.methods.LK_PolarNonPolarEnergy: \u001b[0mlk_nonpolar eval_residue_pair_derivatives() appears off -- set your minimizer to use_nblist and *also* nblist_auto_update to use eval_atom_derivative instead.\n",
      "\u001b[0mcore.scoring.methods.LK_PolarNonPolarEnergy: \u001b[0mlk_nonpolar eval_residue_pair_derivatives() appears off -- set your minimizer to use_nblist and *also* nblist_auto_update to use eval_atom_derivative instead.\n",
      "\u001b[0mcore.scoring.methods.LK_PolarNonPolarEnergy: \u001b[0mlk_nonpolar eval_residue_pair_derivatives() appears off -- set your minimizer to use_nblist and *also* nblist_auto_update to use eval_atom_derivative instead.\n",
      "\u001b[0mcore.scoring.methods.LK_PolarNonPolarEnergy: \u001b[0mlk_nonpolar eval_residue_pair_derivatives() appears off -- set your minimizer to use_nblist and *also* nblist_auto_update to use eval_atom_derivative instead.\n",
      "\u001b[0mcore.scoring.methods.LK_PolarNonPolarEnergy: \u001b[0mlk_nonpolar eval_residue_pair_derivatives() appears off -- set your minimizer to use_nblist and *also* nblist_auto_update to use eval_atom_derivative instead.\n",
      "\u001b[0mcore.scoring.methods.LK_PolarNonPolarEnergy: \u001b[0mlk_nonpolar eval_residue_pair_derivatives() appears off -- set your minimizer to use_nblist and *also* nblist_auto_update to use eval_atom_derivative instead.\n"
     ]
    },
    {
     "name": "stdout",
     "output_type": "stream",
     "text": [
      "\u001b[0mcore.scoring.methods.LK_PolarNonPolarEnergy: \u001b[0mlk_nonpolar eval_residue_pair_derivatives() appears off -- set your minimizer to use_nblist and *also* nblist_auto_update to use eval_atom_derivative instead.\n",
      "\u001b[0mcore.scoring.methods.LK_PolarNonPolarEnergy: \u001b[0mlk_nonpolar eval_residue_pair_derivatives() appears off -- set your minimizer to use_nblist and *also* nblist_auto_update to use eval_atom_derivative instead.\n",
      "\u001b[0mcore.scoring.methods.LK_PolarNonPolarEnergy: \u001b[0mlk_nonpolar eval_residue_pair_derivatives() appears off -- set your minimizer to use_nblist and *also* nblist_auto_update to use eval_atom_derivative instead.\n",
      "\u001b[0mcore.scoring.methods.LK_PolarNonPolarEnergy: \u001b[0mlk_nonpolar eval_residue_pair_derivatives() appears off -- set your minimizer to use_nblist and *also* nblist_auto_update to use eval_atom_derivative instead.\n",
      "\u001b[0mcore.scoring.methods.LK_PolarNonPolarEnergy: \u001b[0mlk_nonpolar eval_residue_pair_derivatives() appears off -- set your minimizer to use_nblist and *also* nblist_auto_update to use eval_atom_derivative instead.\n",
      "\u001b[0mcore.scoring.methods.LK_PolarNonPolarEnergy: \u001b[0mlk_nonpolar eval_residue_pair_derivatives() appears off -- set your minimizer to use_nblist and *also* nblist_auto_update to use eval_atom_derivative instead.\n",
      "\u001b[0mcore.scoring.methods.LK_PolarNonPolarEnergy: \u001b[0mlk_nonpolar eval_residue_pair_derivatives() appears off -- set your minimizer to use_nblist and *also* nblist_auto_update to use eval_atom_derivative instead.\n",
      "\u001b[0mcore.scoring.methods.LK_PolarNonPolarEnergy: \u001b[0mlk_nonpolar eval_residue_pair_derivatives() appears off -- set your minimizer to use_nblist and *also* nblist_auto_update to use eval_atom_derivative instead.\n",
      "\u001b[0mcore.scoring.methods.LK_PolarNonPolarEnergy: \u001b[0mlk_nonpolar eval_residue_pair_derivatives() appears off -- set your minimizer to use_nblist and *also* nblist_auto_update to use eval_atom_derivative instead.\n",
      "\u001b[0mcore.scoring.methods.LK_PolarNonPolarEnergy: \u001b[0mlk_nonpolar eval_residue_pair_derivatives() appears off -- set your minimizer to use_nblist and *also* nblist_auto_update to use eval_atom_derivative instead.\n",
      "\u001b[0mcore.scoring.methods.LK_PolarNonPolarEnergy: \u001b[0mlk_nonpolar eval_residue_pair_derivatives() appears off -- set your minimizer to use_nblist and *also* nblist_auto_update to use eval_atom_derivative instead.\n",
      "\u001b[0mcore.scoring.methods.LK_PolarNonPolarEnergy: \u001b[0mlk_nonpolar eval_residue_pair_derivatives() appears off -- set your minimizer to use_nblist and *also* nblist_auto_update to use eval_atom_derivative instead.\n",
      "\u001b[0mcore.scoring.methods.LK_PolarNonPolarEnergy: \u001b[0mlk_nonpolar eval_residue_pair_derivatives() appears off -- set your minimizer to use_nblist and *also* nblist_auto_update to use eval_atom_derivative instead.\n",
      "\u001b[0mcore.scoring.methods.LK_PolarNonPolarEnergy: \u001b[0mlk_nonpolar eval_residue_pair_derivatives() appears off -- set your minimizer to use_nblist and *also* nblist_auto_update to use eval_atom_derivative instead.\n",
      "\u001b[0mcore.scoring.methods.LK_PolarNonPolarEnergy: \u001b[0mlk_nonpolar eval_residue_pair_derivatives() appears off -- set your minimizer to use_nblist and *also* nblist_auto_update to use eval_atom_derivative instead.\n",
      "\u001b[0mcore.scoring.methods.LK_PolarNonPolarEnergy: \u001b[0mlk_nonpolar eval_residue_pair_derivatives() appears off -- set your minimizer to use_nblist and *also* nblist_auto_update to use eval_atom_derivative instead.\n",
      "\u001b[0mcore.scoring.methods.LK_PolarNonPolarEnergy: \u001b[0mlk_nonpolar eval_residue_pair_derivatives() appears off -- set your minimizer to use_nblist and *also* nblist_auto_update to use eval_atom_derivative instead.\n",
      "\u001b[0mcore.scoring.methods.LK_PolarNonPolarEnergy: \u001b[0mlk_nonpolar eval_residue_pair_derivatives() appears off -- set your minimizer to use_nblist and *also* nblist_auto_update to use eval_atom_derivative instead.\n",
      "\u001b[0mcore.scoring.methods.LK_PolarNonPolarEnergy: \u001b[0mlk_nonpolar eval_residue_pair_derivatives() appears off -- set your minimizer to use_nblist and *also* nblist_auto_update to use eval_atom_derivative instead.\n",
      "\u001b[0mcore.scoring.methods.LK_PolarNonPolarEnergy: \u001b[0mlk_nonpolar eval_residue_pair_derivatives() appears off -- set your minimizer to use_nblist and *also* nblist_auto_update to use eval_atom_derivative instead.\n",
      "\u001b[0mcore.scoring.methods.LK_PolarNonPolarEnergy: \u001b[0mlk_nonpolar eval_residue_pair_derivatives() appears off -- set your minimizer to use_nblist and *also* nblist_auto_update to use eval_atom_derivative instead.\n",
      "\u001b[0mcore.scoring.methods.LK_PolarNonPolarEnergy: \u001b[0mlk_nonpolar eval_residue_pair_derivatives() appears off -- set your minimizer to use_nblist and *also* nblist_auto_update to use eval_atom_derivative instead.\n",
      "\u001b[0mcore.scoring.methods.LK_PolarNonPolarEnergy: \u001b[0mlk_nonpolar eval_residue_pair_derivatives() appears off -- set your minimizer to use_nblist and *also* nblist_auto_update to use eval_atom_derivative instead.\n",
      "\u001b[0mcore.scoring.methods.LK_PolarNonPolarEnergy: \u001b[0mlk_nonpolar eval_residue_pair_derivatives() appears off -- set your minimizer to use_nblist and *also* nblist_auto_update to use eval_atom_derivative instead.\n",
      "\u001b[0mcore.scoring.methods.LK_PolarNonPolarEnergy: \u001b[0mlk_nonpolar eval_residue_pair_derivatives() appears off -- set your minimizer to use_nblist and *also* nblist_auto_update to use eval_atom_derivative instead.\n",
      "\u001b[0mcore.scoring.methods.LK_PolarNonPolarEnergy: \u001b[0mlk_nonpolar eval_residue_pair_derivatives() appears off -- set your minimizer to use_nblist and *also* nblist_auto_update to use eval_atom_derivative instead.\n",
      "\u001b[0mcore.scoring.methods.LK_PolarNonPolarEnergy: \u001b[0mlk_nonpolar eval_residue_pair_derivatives() appears off -- set your minimizer to use_nblist and *also* nblist_auto_update to use eval_atom_derivative instead.\n",
      "\u001b[0mcore.scoring.methods.LK_PolarNonPolarEnergy: \u001b[0mlk_nonpolar eval_residue_pair_derivatives() appears off -- set your minimizer to use_nblist and *also* nblist_auto_update to use eval_atom_derivative instead.\n",
      "\u001b[0mcore.scoring.methods.LK_PolarNonPolarEnergy: \u001b[0mlk_nonpolar eval_residue_pair_derivatives() appears off -- set your minimizer to use_nblist and *also* nblist_auto_update to use eval_atom_derivative instead.\n",
      "\u001b[0mcore.scoring.methods.LK_PolarNonPolarEnergy: \u001b[0mlk_nonpolar eval_residue_pair_derivatives() appears off -- set your minimizer to use_nblist and *also* nblist_auto_update to use eval_atom_derivative instead.\n",
      "\u001b[0mcore.scoring.methods.LK_PolarNonPolarEnergy: \u001b[0mlk_nonpolar eval_residue_pair_derivatives() appears off -- set your minimizer to use_nblist and *also* nblist_auto_update to use eval_atom_derivative instead.\n",
      "\u001b[0mcore.scoring.methods.LK_PolarNonPolarEnergy: \u001b[0mlk_nonpolar eval_residue_pair_derivatives() appears off -- set your minimizer to use_nblist and *also* nblist_auto_update to use eval_atom_derivative instead.\n",
      "\u001b[0mcore.scoring.methods.LK_PolarNonPolarEnergy: \u001b[0mlk_nonpolar eval_residue_pair_derivatives() appears off -- set your minimizer to use_nblist and *also* nblist_auto_update to use eval_atom_derivative instead.\n",
      "\u001b[0mcore.scoring.methods.LK_PolarNonPolarEnergy: \u001b[0mlk_nonpolar eval_residue_pair_derivatives() appears off -- set your minimizer to use_nblist and *also* nblist_auto_update to use eval_atom_derivative instead.\n",
      "\u001b[0mcore.scoring.methods.LK_PolarNonPolarEnergy: \u001b[0mlk_nonpolar eval_residue_pair_derivatives() appears off -- set your minimizer to use_nblist and *also* nblist_auto_update to use eval_atom_derivative instead.\n",
      "\u001b[0mcore.scoring.methods.LK_PolarNonPolarEnergy: \u001b[0mlk_nonpolar eval_residue_pair_derivatives() appears off -- set your minimizer to use_nblist and *also* nblist_auto_update to use eval_atom_derivative instead.\n",
      "\u001b[0mcore.scoring.methods.LK_PolarNonPolarEnergy: \u001b[0mlk_nonpolar eval_residue_pair_derivatives() appears off -- set your minimizer to use_nblist and *also* nblist_auto_update to use eval_atom_derivative instead.\n",
      "\u001b[0mcore.scoring.methods.LK_PolarNonPolarEnergy: \u001b[0mlk_nonpolar eval_residue_pair_derivatives() appears off -- set your minimizer to use_nblist and *also* nblist_auto_update to use eval_atom_derivative instead.\n",
      "\u001b[0mcore.scoring.methods.LK_PolarNonPolarEnergy: \u001b[0mlk_nonpolar eval_residue_pair_derivatives() appears off -- set your minimizer to use_nblist and *also* nblist_auto_update to use eval_atom_derivative instead.\n"
     ]
    },
    {
     "name": "stdout",
     "output_type": "stream",
     "text": [
      "\u001b[0mcore.scoring.methods.LK_PolarNonPolarEnergy: \u001b[0mlk_nonpolar eval_residue_pair_derivatives() appears off -- set your minimizer to use_nblist and *also* nblist_auto_update to use eval_atom_derivative instead.\n",
      "\u001b[0mcore.scoring.methods.LK_PolarNonPolarEnergy: \u001b[0mlk_nonpolar eval_residue_pair_derivatives() appears off -- set your minimizer to use_nblist and *also* nblist_auto_update to use eval_atom_derivative instead.\n",
      "\u001b[0mcore.scoring.methods.LK_PolarNonPolarEnergy: \u001b[0mlk_nonpolar eval_residue_pair_derivatives() appears off -- set your minimizer to use_nblist and *also* nblist_auto_update to use eval_atom_derivative instead.\n",
      "\u001b[0mcore.scoring.methods.LK_PolarNonPolarEnergy: \u001b[0mlk_nonpolar eval_residue_pair_derivatives() appears off -- set your minimizer to use_nblist and *also* nblist_auto_update to use eval_atom_derivative instead.\n",
      "\u001b[0mcore.scoring.methods.LK_PolarNonPolarEnergy: \u001b[0mlk_nonpolar eval_residue_pair_derivatives() appears off -- set your minimizer to use_nblist and *also* nblist_auto_update to use eval_atom_derivative instead.\n",
      "\u001b[0mcore.scoring.methods.LK_PolarNonPolarEnergy: \u001b[0mlk_nonpolar eval_residue_pair_derivatives() appears off -- set your minimizer to use_nblist and *also* nblist_auto_update to use eval_atom_derivative instead.\n",
      "\u001b[0mcore.scoring.methods.LK_PolarNonPolarEnergy: \u001b[0mlk_nonpolar eval_residue_pair_derivatives() appears off -- set your minimizer to use_nblist and *also* nblist_auto_update to use eval_atom_derivative instead.\n",
      "\u001b[0mcore.scoring.methods.LK_PolarNonPolarEnergy: \u001b[0mlk_nonpolar eval_residue_pair_derivatives() appears off -- set your minimizer to use_nblist and *also* nblist_auto_update to use eval_atom_derivative instead.\n",
      "\u001b[0mcore.scoring.methods.LK_PolarNonPolarEnergy: \u001b[0mlk_nonpolar eval_residue_pair_derivatives() appears off -- set your minimizer to use_nblist and *also* nblist_auto_update to use eval_atom_derivative instead.\n",
      "\u001b[0mcore.scoring.methods.LK_PolarNonPolarEnergy: \u001b[0mlk_nonpolar eval_residue_pair_derivatives() appears off -- set your minimizer to use_nblist and *also* nblist_auto_update to use eval_atom_derivative instead.\n",
      "\u001b[0mcore.scoring.methods.LK_PolarNonPolarEnergy: \u001b[0mlk_nonpolar eval_residue_pair_derivatives() appears off -- set your minimizer to use_nblist and *also* nblist_auto_update to use eval_atom_derivative instead.\n",
      "\u001b[0mcore.scoring.methods.LK_PolarNonPolarEnergy: \u001b[0mlk_nonpolar eval_residue_pair_derivatives() appears off -- set your minimizer to use_nblist and *also* nblist_auto_update to use eval_atom_derivative instead.\n",
      "\u001b[0mcore.scoring.methods.LK_PolarNonPolarEnergy: \u001b[0mlk_nonpolar eval_residue_pair_derivatives() appears off -- set your minimizer to use_nblist and *also* nblist_auto_update to use eval_atom_derivative instead.\n",
      "\u001b[0mcore.scoring.methods.LK_PolarNonPolarEnergy: \u001b[0mlk_nonpolar eval_residue_pair_derivatives() appears off -- set your minimizer to use_nblist and *also* nblist_auto_update to use eval_atom_derivative instead.\n",
      "\u001b[0mcore.scoring.methods.LK_PolarNonPolarEnergy: \u001b[0mlk_nonpolar eval_residue_pair_derivatives() appears off -- set your minimizer to use_nblist and *also* nblist_auto_update to use eval_atom_derivative instead.\n",
      "\u001b[0mcore.scoring.methods.LK_PolarNonPolarEnergy: \u001b[0mlk_nonpolar eval_residue_pair_derivatives() appears off -- set your minimizer to use_nblist and *also* nblist_auto_update to use eval_atom_derivative instead.\n",
      "\u001b[0mcore.scoring.methods.LK_PolarNonPolarEnergy: \u001b[0mlk_nonpolar eval_residue_pair_derivatives() appears off -- set your minimizer to use_nblist and *also* nblist_auto_update to use eval_atom_derivative instead.\n",
      "\u001b[0mcore.scoring.methods.LK_PolarNonPolarEnergy: \u001b[0mlk_nonpolar eval_residue_pair_derivatives() appears off -- set your minimizer to use_nblist and *also* nblist_auto_update to use eval_atom_derivative instead.\n",
      "\u001b[0mcore.scoring.methods.LK_PolarNonPolarEnergy: \u001b[0mlk_nonpolar eval_residue_pair_derivatives() appears off -- set your minimizer to use_nblist and *also* nblist_auto_update to use eval_atom_derivative instead.\n",
      "\u001b[0mcore.scoring.methods.LK_PolarNonPolarEnergy: \u001b[0mlk_nonpolar eval_residue_pair_derivatives() appears off -- set your minimizer to use_nblist and *also* nblist_auto_update to use eval_atom_derivative instead.\n",
      "\u001b[0mcore.optimization.LineMinimizer: \u001b[0m\u001b[31m\u001b[1m[ ERROR ]\u001b[0m \u001b[31mInaccurate G! step= 3.8147e-06 Deriv= -0.0167731 Finite Diff= 0.00459794\u001b[0m\n"
     ]
    }
   ],
   "source": [
    "# use mm object to get stuff \n",
    "seq1, seq2 = 'ggg', 'ccc'\n",
    "mm_sim = MiningMinima(seq1,seq2, scorefxn='stepwise/rna/turner_new')"
   ]
  },
  {
   "cell_type": "code",
   "execution_count": 4,
   "metadata": {},
   "outputs": [
    {
     "name": "stdout",
     "output_type": "stream",
     "text": [
      "\u001b[0mcore.optimization.LineMinimizer: \u001b[0m\u001b[31m\u001b[1m[ ERROR ]\u001b[0m \u001b[31mInaccurate G! step= 1.90735e-06 Deriv= -3.47044e-06 Finite Diff= 2.03922e-05\u001b[0m\n",
      "vector1_double[0.733753, 4.10644, 7.70832, -4.93451, 19.7845, -8.96724, 5.77871, -3.44832, -11.7533, 17.1117, 8.97916, 0.0312379, 8.09524, 0.0557364, 2.78862, -21.0374, 30.2567, -18.9912, 23.9611, -18.8199, -11.1358, 27.9895, 28.7536, 24.1804, 18.4639, 7.10192]\n"
     ]
    }
   ],
   "source": [
    "# get pose and scorefxn \n",
    "pose = protocols.recces.pose_setup_turner(seq1=seq1,seq2=seq2)\n",
    "scorefxn = core.scoring.ScoreFunctionFactory.create_score_function('stepwise/rna/turner_new')\n",
    "\n",
    "# set up movemap -- for now just get from the MM object -- and min map\n",
    "movemap = MoveMap()\n",
    "movemap.assign(mm_sim.movemap)  \n",
    "min_map = core.optimization.MinimizerMap()\n",
    "min_map.setup(pose,movemap)\n",
    "\n",
    "# set up min options\n",
    "min_options = core.optimization.MinimizerOptions(\n",
    "    'lbfgs_armijo_nonmonotone',1e-15,True,False,False)\n",
    "min_options.nblist_auto_update(True)\n",
    "# get scorefunction ready for minimization\n",
    "start_score = scorefxn(pose)\n",
    "pose.energies().set_use_nblist(pose,min_map.domain_map(),True)\n",
    "multifunc = core.optimization.AtomTreeMultifunc(pose,min_map,scorefxn)\n",
    "scorefxn.setup_for_minimizing(pose,min_map) # this is the key command\n",
    "scorefxn.setup_for_derivatives(pose)\n",
    "\n",
    "min_dofs = Vector1([0.0]*min_map.nangles())\n",
    "min_map.copy_dofs_from_pose(pose,min_dofs)\n",
    "start_func_val = multifunc(min_dofs)\n",
    "theta = Vector1(list(min_dofs))\n",
    "dE_dtheta = Vector1(list(min_dofs))\n",
    "multifunc.dfunc(theta,dE_dtheta)\n",
    "\n",
    "# set up minimizer and run\n",
    "minimizer = core.optimization.Minimizer(multifunc,min_options)\n",
    "for _ in range(1): minimizer.run(min_dofs)\n",
    "print dE_dtheta"
   ]
  },
  {
   "cell_type": "code",
   "execution_count": 5,
   "metadata": {},
   "outputs": [],
   "source": [
    "multifunc.dfunc(min_dofs, dE_dtheta)"
   ]
  },
  {
   "cell_type": "code",
   "execution_count": 6,
   "metadata": {},
   "outputs": [
    {
     "data": {
      "text/plain": [
       "-69.70048182584812"
      ]
     },
     "execution_count": 6,
     "metadata": {},
     "output_type": "execute_result"
    }
   ],
   "source": [
    "multifunc(min_dofs)"
   ]
  },
  {
   "cell_type": "markdown",
   "metadata": {},
   "source": [
    "# Developing subroutine to calculate hessian from derivative evaluations"
   ]
  },
  {
   "cell_type": "code",
   "execution_count": 7,
   "metadata": {},
   "outputs": [],
   "source": [
    "def hessian_at_min(min_dofs,multifunc,h=1e-3):\n",
    "    min_dofs = np.array(min_dofs) # take advantage of numpy array indexing\n",
    "    n_dofs = len(min_dofs)\n",
    "    hessian = np.zeros((n_dofs,n_dofs))\n",
    "    plus = Vector1([0.0]*n_dofs)\n",
    "    minus = Vector1(list(plus))\n",
    "    \n",
    "    for ii in range(n_dofs):\n",
    "        new_dofs = min_dofs[:]\n",
    "        new_dofs[ii] += h*180./np.pi\n",
    "        multifunc.dfunc(Vector1(list(new_dofs)),plus)\n",
    "        new_dofs[ii] -= 2.*h*180/np.pi\n",
    "        multifunc.dfunc(Vector1(list(new_dofs)),minus)\n",
    "        row = (np.array(plus) - np.array(minus))/2./h\n",
    "        hessian[ii] = row # need to figure out conversion\n",
    "    return hessian"
   ]
  },
  {
   "cell_type": "code",
   "execution_count": 8,
   "metadata": {
    "scrolled": true
   },
   "outputs": [
    {
     "name": "stdout",
     "output_type": "stream",
     "text": [
      "\u001b[0mcore.optimization.LineMinimizer: \u001b[0m\u001b[31m\u001b[1m[ ERROR ]\u001b[0m \u001b[31mInaccurate G! step= 3.8147e-08 Deriv= -3.47044e-06 Finite Diff= 0.00213124\u001b[0m\n",
      "-69.7004818258\n",
      "\u001b[0mcore.optimization.LineMinimizer: \u001b[0m\u001b[31m\u001b[1m[ ERROR ]\u001b[0m \u001b[31mInaccurate G! step= 3.8147e-08 Deriv= -3.47044e-06 Finite Diff= 0.00213124\u001b[0m\n",
      "-69.7004818258\n",
      "\u001b[0mcore.optimization.LineMinimizer: \u001b[0m\u001b[31m\u001b[1m[ ERROR ]\u001b[0m \u001b[31mInaccurate G! step= 3.8147e-08 Deriv= -3.47044e-06 Finite Diff= 0.00213124\u001b[0m\n",
      "-69.7004818258\n",
      "\u001b[0mcore.optimization.LineMinimizer: \u001b[0m\u001b[31m\u001b[1m[ ERROR ]\u001b[0m \u001b[31mInaccurate G! step= 3.8147e-08 Deriv= -3.47044e-06 Finite Diff= 0.00213124\u001b[0m\n",
      "-69.7004818258\n",
      "\u001b[0mcore.optimization.LineMinimizer: \u001b[0m\u001b[31m\u001b[1m[ ERROR ]\u001b[0m \u001b[31mInaccurate G! step= 3.8147e-08 Deriv= -3.47044e-06 Finite Diff= 0.00213124\u001b[0m\n",
      "-69.7004818258\n",
      "\u001b[0mcore.optimization.LineMinimizer: \u001b[0m\u001b[31m\u001b[1m[ ERROR ]\u001b[0m \u001b[31mInaccurate G! step= 3.8147e-08 Deriv= -3.47044e-06 Finite Diff= 0.00213124\u001b[0m\n",
      "-69.7004818258\n",
      "\u001b[0mcore.optimization.LineMinimizer: \u001b[0m\u001b[31m\u001b[1m[ ERROR ]\u001b[0m \u001b[31mInaccurate G! step= 3.8147e-08 Deriv= -3.47044e-06 Finite Diff= 0.00213124\u001b[0m\n",
      "-69.7004818258\n",
      "\u001b[0mcore.optimization.LineMinimizer: \u001b[0m\u001b[31m\u001b[1m[ ERROR ]\u001b[0m \u001b[31mInaccurate G! step= 3.8147e-08 Deriv= -3.47044e-06 Finite Diff= 0.00213124\u001b[0m\n",
      "-69.7004818258\n",
      "\u001b[0mcore.optimization.LineMinimizer: \u001b[0m\u001b[31m\u001b[1m[ ERROR ]\u001b[0m \u001b[31mInaccurate G! step= 3.8147e-08 Deriv= -3.47044e-06 Finite Diff= 0.00213124\u001b[0m\n",
      "-69.7004818258\n",
      "\u001b[0mcore.optimization.LineMinimizer: \u001b[0m\u001b[31m\u001b[1m[ ERROR ]\u001b[0m \u001b[31mInaccurate G! step= 3.8147e-08 Deriv= -3.47044e-06 Finite Diff= 0.00213124\u001b[0m\n",
      "-69.7004818258\n"
     ]
    }
   ],
   "source": [
    "for _ in range(10):\n",
    "    minimizer.run(min_dofs)\n",
    "    print multifunc(min_dofs)"
   ]
  },
  {
   "cell_type": "code",
   "execution_count": 9,
   "metadata": {},
   "outputs": [],
   "source": [
    "hessian = hessian_at_min(min_dofs,multifunc)"
   ]
  },
  {
   "cell_type": "code",
   "execution_count": 10,
   "metadata": {},
   "outputs": [],
   "source": [
    "from scipy.linalg import eigh"
   ]
  },
  {
   "cell_type": "code",
   "execution_count": 11,
   "metadata": {},
   "outputs": [],
   "source": [
    "[eigenvalues, modes] = eigh(hessian)"
   ]
  },
  {
   "cell_type": "code",
   "execution_count": 12,
   "metadata": {},
   "outputs": [
    {
     "name": "stdout",
     "output_type": "stream",
     "text": [
      "57.2957795131\n",
      "57.2957795131\n",
      "57.2957795131\n",
      "57.2957795131\n",
      "57.2957795131\n",
      "57.2957795131\n",
      "57.2957795131\n",
      "57.2957795131\n",
      "57.2957795131\n",
      "57.2957795131\n",
      "57.2957795131\n",
      "57.2957795131\n",
      "57.2957795131\n",
      "57.2957795131\n",
      "57.2957795131\n",
      "57.2957795131\n",
      "57.2957795131\n",
      "57.2957795131\n",
      "57.2957795131\n",
      "57.2957795131\n",
      "57.2957795131\n",
      "57.2957795131\n",
      "57.2957795131\n",
      "57.2957795131\n",
      "57.2957795131\n",
      "57.2957795131\n"
     ]
    }
   ],
   "source": [
    "for do in min_map.dof_nodes():\n",
    "    print min_map.torsion_scale_factor(do)"
   ]
  },
  {
   "cell_type": "code",
   "execution_count": 13,
   "metadata": {},
   "outputs": [],
   "source": [
    "pseudo_det = 1.\n",
    "for eigen in eigenvalues:\n",
    "    if eigen > 0:\n",
    "        pseudo_det *= eigen\n",
    "    "
   ]
  },
  {
   "cell_type": "code",
   "execution_count": 14,
   "metadata": {},
   "outputs": [
    {
     "name": "stdout",
     "output_type": "stream",
     "text": [
      "[-5.39534667e-01 -3.36728375e-01 -4.22939896e-02  1.19569038e-01\n",
      "  1.96669385e-01  2.57164414e-01  3.47289719e-01  4.72863873e-01\n",
      "  4.95657219e-01  7.32030987e-01  8.41120006e-01  1.04077786e+00\n",
      "  1.36999519e+00  1.71880947e+00  2.01822879e+00  3.02427795e+00\n",
      "  3.97216341e+00  5.78126118e+00  7.16428073e+00  1.71138314e+01\n",
      "  2.22264950e+01  2.68634502e+01  6.81769714e+01  1.03561715e+02\n",
      "  2.81460148e+02  4.78924550e+02]\n"
     ]
    }
   ],
   "source": [
    "print eigenvalues"
   ]
  },
  {
   "cell_type": "code",
   "execution_count": 30,
   "metadata": {},
   "outputs": [
    {
     "data": {
      "text/plain": [
       "-78.78658978387557"
      ]
     },
     "execution_count": 30,
     "metadata": {},
     "output_type": "execute_result"
    }
   ],
   "source": [
    "multifunc(min_dofs) + 0.5*np.log(pseudo_det) - 0.5*min_map.nangles()*np.log(2*np.pi)"
   ]
  },
  {
   "cell_type": "markdown",
   "metadata": {},
   "source": [
    "# Developing subroutine to mode scan using AtomTreeMultifunc"
   ]
  },
  {
   "cell_type": "code",
   "execution_count": 31,
   "metadata": {},
   "outputs": [],
   "source": [
    "from scipy.special import erf"
   ]
  },
  {
   "cell_type": "code",
   "execution_count": 16,
   "metadata": {},
   "outputs": [],
   "source": [
    "def mode_scan(min_dofs, multifunc, mode, limit=np.pi/3, dx=0.005):\n",
    "    # convert to np array for useful indexing\n",
    "    min_dofs = np.array(min_dofs)\n",
    "    delta_array = np.linspace(-limit, limit, int(2*limit/dx))\n",
    "    \n",
    "    # intialize result\n",
    "    result = np.zeros_like(delta_array)\n",
    "    \n",
    "    # evaluate using multifunc \n",
    "    for ii, delta in enumerate(delta_array):\n",
    "        new_dofs = min_dofs[:] + delta*mode*180/np.pi\n",
    "        result[ii] = multifunc(Vector1(list(new_dofs)))\n",
    "    \n",
    "    return result    \n",
    "    \n",
    "    "
   ]
  },
  {
   "cell_type": "code",
   "execution_count": 17,
   "metadata": {
    "scrolled": true
   },
   "outputs": [],
   "source": [
    "def compute_total_partition(min_dofs, multifunc, modes, limit=np.pi/3, dx=0.005):\n",
    "    # initialize output\n",
    "    total_log_partition = 0 \n",
    "    total_log_harmonic = 0\n",
    "    scans = tuple()\n",
    "    \n",
    "    for ii, mode in enumerate(modes.T): # columns of array are eigenvectors\n",
    "        if eigenvalues[ii] < 0: continue\n",
    "        result = mode_scan(min_dofs, multifunc, mode, limit=limit, dx=dx)\n",
    "        result -= multifunc(min_dofs)\n",
    "        scans = scans + (result,)\n",
    "        total_log_partition += np.log(np.trapz(np.exp(-result),dx=dx))\n",
    "        total_log_harmonic += \n",
    "    scans = np.row_stack(scans)\n",
    "    return total_log_partition, scans"
   ]
  },
  {
   "cell_type": "code",
   "execution_count": 18,
   "metadata": {},
   "outputs": [],
   "source": [
    "total_log_partition, mode_scans = compute_total_partition(min_dofs, multifunc, modes)"
   ]
  },
  {
   "cell_type": "code",
   "execution_count": 19,
   "metadata": {
    "scrolled": true
   },
   "outputs": [
    {
     "ename": "IndexError",
     "evalue": "index 16 is out of bounds for axis 0 with size 16",
     "output_type": "error",
     "traceback": [
      "\u001b[0;31m---------------------------------------------------------------------------\u001b[0m",
      "\u001b[0;31mIndexError\u001b[0m                                Traceback (most recent call last)",
      "\u001b[0;32m<ipython-input-19-929cd2da2c4a>\u001b[0m in \u001b[0;36m<module>\u001b[0;34m()\u001b[0m\n\u001b[1;32m      2\u001b[0m \u001b[0mfig\u001b[0m\u001b[0;34m,\u001b[0m \u001b[0max\u001b[0m \u001b[0;34m=\u001b[0m \u001b[0mplt\u001b[0m\u001b[0;34m.\u001b[0m\u001b[0msubplots\u001b[0m\u001b[0;34m(\u001b[0m\u001b[0mncols\u001b[0m\u001b[0;34m=\u001b[0m\u001b[0;36m4\u001b[0m\u001b[0;34m,\u001b[0m\u001b[0mnrows\u001b[0m\u001b[0;34m=\u001b[0m\u001b[0;36m4\u001b[0m\u001b[0;34m,\u001b[0m\u001b[0mfigsize\u001b[0m\u001b[0;34m=\u001b[0m\u001b[0;34m(\u001b[0m\u001b[0;36m12\u001b[0m\u001b[0;34m,\u001b[0m\u001b[0;36m12\u001b[0m\u001b[0;34m)\u001b[0m\u001b[0;34m)\u001b[0m\u001b[0;34m\u001b[0m\u001b[0;34m\u001b[0m\u001b[0m\n\u001b[1;32m      3\u001b[0m \u001b[0;32mfor\u001b[0m \u001b[0mii\u001b[0m\u001b[0;34m,\u001b[0m \u001b[0mscan\u001b[0m \u001b[0;32min\u001b[0m \u001b[0menumerate\u001b[0m\u001b[0;34m(\u001b[0m\u001b[0mmode_scans\u001b[0m\u001b[0;34m)\u001b[0m\u001b[0;34m:\u001b[0m\u001b[0;34m\u001b[0m\u001b[0;34m\u001b[0m\u001b[0m\n\u001b[0;32m----> 4\u001b[0;31m     \u001b[0mcurr_ax\u001b[0m \u001b[0;34m=\u001b[0m \u001b[0max\u001b[0m\u001b[0;34m.\u001b[0m\u001b[0mflatten\u001b[0m\u001b[0;34m(\u001b[0m\u001b[0;34m)\u001b[0m\u001b[0;34m[\u001b[0m\u001b[0mii\u001b[0m\u001b[0;34m]\u001b[0m\u001b[0;34m\u001b[0m\u001b[0;34m\u001b[0m\u001b[0m\n\u001b[0m\u001b[1;32m      5\u001b[0m     \u001b[0mcurr_ax\u001b[0m\u001b[0;34m.\u001b[0m\u001b[0mplot\u001b[0m\u001b[0;34m(\u001b[0m\u001b[0mxx\u001b[0m\u001b[0;34m,\u001b[0m\u001b[0mnp\u001b[0m\u001b[0;34m.\u001b[0m\u001b[0mexp\u001b[0m\u001b[0;34m(\u001b[0m\u001b[0;34m-\u001b[0m\u001b[0mscan\u001b[0m\u001b[0;34m)\u001b[0m\u001b[0;34m)\u001b[0m\u001b[0;34m\u001b[0m\u001b[0;34m\u001b[0m\u001b[0m\n\u001b[1;32m      6\u001b[0m     \u001b[0mcurr_ax\u001b[0m\u001b[0;34m.\u001b[0m\u001b[0mplot\u001b[0m\u001b[0;34m(\u001b[0m\u001b[0mxx\u001b[0m\u001b[0;34m,\u001b[0m\u001b[0mnp\u001b[0m\u001b[0;34m.\u001b[0m\u001b[0mexp\u001b[0m\u001b[0;34m(\u001b[0m\u001b[0;34m-\u001b[0m\u001b[0meigenvalues\u001b[0m\u001b[0;34m[\u001b[0m\u001b[0mii\u001b[0m\u001b[0;34m]\u001b[0m\u001b[0;34m*\u001b[0m\u001b[0;34m(\u001b[0m\u001b[0;36m180.\u001b[0m\u001b[0;34m/\u001b[0m\u001b[0mnp\u001b[0m\u001b[0;34m.\u001b[0m\u001b[0mpi\u001b[0m\u001b[0;34m)\u001b[0m\u001b[0;34m**\u001b[0m\u001b[0;36m1\u001b[0m\u001b[0;34m*\u001b[0m\u001b[0mxx\u001b[0m\u001b[0;34m**\u001b[0m\u001b[0;36m2\u001b[0m\u001b[0;34m)\u001b[0m\u001b[0;34m)\u001b[0m\u001b[0;34m\u001b[0m\u001b[0;34m\u001b[0m\u001b[0m\n",
      "\u001b[0;31mIndexError\u001b[0m: index 16 is out of bounds for axis 0 with size 16"
     ]
    },
    {
     "data": {
      "image/png": "[encoded data removed]",
      "text/plain": [
       "<matplotlib.figure.Figure at 0x7f95c8c66150>"
      ]
     },
     "metadata": {
      "needs_background": "light"
     },
     "output_type": "display_data"
    }
   ],
   "source": [
    "xx = np.linspace(-np.pi/3,np.pi/3,int(2*np.pi/3/0.005))\n",
    "fig, ax = plt.subplots(ncols=4,nrows=4,figsize=(12,12))\n",
    "for ii, scan in enumerate(mode_scans):\n",
    "    curr_ax = ax.flatten()[ii]\n",
    "    curr_ax.plot(xx,np.exp(-scan))\n",
    "    curr_ax.plot(xx,np.exp(-eigenvalues[ii]*(180./np.pi)**1*xx**2))"
   ]
  },
  {
   "cell_type": "code",
   "execution_count": 20,
   "metadata": {},
   "outputs": [],
   "source": [
    "from numpy.linalg import det\n",
    "from numpy import heaviside\n",
    "from scipy.special import logsumexp\n",
    "from scipy.special import gamma"
   ]
  },
  {
   "cell_type": "code",
   "execution_count": 21,
   "metadata": {},
   "outputs": [],
   "source": [
    "n = min_map.nangles()\n",
    "min_E = multifunc(min_dofs)\n",
    "dos = lambda E: (2.0*np.pi)**(n/2.)*(E-min_E)**(n/2.-1)/gamma(n/2.)/np.sqrt(pseudo_det)*heaviside(E-min_E,0.5)"
   ]
  },
  {
   "cell_type": "code",
   "execution_count": 22,
   "metadata": {},
   "outputs": [
    {
     "data": {
      "text/plain": [
       "-81.08917487686963"
      ]
     },
     "execution_count": 22,
     "metadata": {},
     "output_type": "execute_result"
    }
   ],
   "source": [
    "E = np.linspace(-100,800,9001)\n",
    "-logsumexp(-E,b=dos(E)) "
   ]
  },
  {
   "cell_type": "code",
   "execution_count": 23,
   "metadata": {},
   "outputs": [
    {
     "name": "stdout",
     "output_type": "stream",
     "text": [
      "26\n"
     ]
    }
   ],
   "source": [
    "print n"
   ]
  },
  {
   "cell_type": "code",
   "execution_count": 24,
   "metadata": {},
   "outputs": [
    {
     "data": {
      "text/plain": [
       "-28.202368781773103"
      ]
     },
     "execution_count": 24,
     "metadata": {},
     "output_type": "execute_result"
    }
   ],
   "source": [
    "multifunc(min_dofs) - total_log_partition"
   ]
  },
  {
   "cell_type": "code",
   "execution_count": 25,
   "metadata": {
    "scrolled": true
   },
   "outputs": [
    {
     "name": "stdout",
     "output_type": "stream",
     "text": [
      "True\n",
      "True\n",
      "\u001b[0mcore.scoring.methods.LK_PolarNonPolarEnergy: \u001b[0mlk_nonpolar eval_residue_pair_derivatives() appears off -- set your minimizer to use_nblist and *also* nblist_auto_update to use eval_atom_derivative instead.\n",
      "\u001b[0mcore.scoring.methods.LK_PolarNonPolarEnergy: \u001b[0mlk_nonpolar eval_residue_pair_derivatives() appears off -- set your minimizer to use_nblist and *also* nblist_auto_update to use eval_atom_derivative instead.\n",
      "\u001b[0mcore.scoring.methods.LK_PolarNonPolarEnergy: \u001b[0mlk_nonpolar eval_residue_pair_derivatives() appears off -- set your minimizer to use_nblist and *also* nblist_auto_update to use eval_atom_derivative instead.\n",
      "\u001b[0mcore.scoring.methods.LK_PolarNonPolarEnergy: \u001b[0mlk_nonpolar eval_residue_pair_derivatives() appears off -- set your minimizer to use_nblist and *also* nblist_auto_update to use eval_atom_derivative instead.\n",
      "\u001b[0mcore.scoring.methods.LK_PolarNonPolarEnergy: \u001b[0mlk_nonpolar eval_residue_pair_derivatives() appears off -- set your minimizer to use_nblist and *also* nblist_auto_update to use eval_atom_derivative instead.\n",
      "\u001b[0mcore.scoring.methods.LK_PolarNonPolarEnergy: \u001b[0mlk_nonpolar eval_residue_pair_derivatives() appears off -- set your minimizer to use_nblist and *also* nblist_auto_update to use eval_atom_derivative instead.\n",
      "\u001b[0mcore.scoring.methods.LK_PolarNonPolarEnergy: \u001b[0mlk_nonpolar eval_residue_pair_derivatives() appears off -- set your minimizer to use_nblist and *also* nblist_auto_update to use eval_atom_derivative instead.\n",
      "\u001b[0mcore.scoring.methods.LK_PolarNonPolarEnergy: \u001b[0mlk_nonpolar eval_residue_pair_derivatives() appears off -- set your minimizer to use_nblist and *also* nblist_auto_update to use eval_atom_derivative instead.\n",
      "\u001b[0mcore.scoring.methods.LK_PolarNonPolarEnergy: \u001b[0mlk_nonpolar eval_residue_pair_derivatives() appears off -- set your minimizer to use_nblist and *also* nblist_auto_update to use eval_atom_derivative instead.\n",
      "\u001b[0mcore.scoring.methods.LK_PolarNonPolarEnergy: \u001b[0mlk_nonpolar eval_residue_pair_derivatives() appears off -- set your minimizer to use_nblist and *also* nblist_auto_update to use eval_atom_derivative instead.\n",
      "\u001b[0mcore.scoring.methods.LK_PolarNonPolarEnergy: \u001b[0mlk_nonpolar eval_residue_pair_derivatives() appears off -- set your minimizer to use_nblist and *also* nblist_auto_update to use eval_atom_derivative instead.\n",
      "\u001b[0mcore.scoring.methods.LK_PolarNonPolarEnergy: \u001b[0mlk_nonpolar eval_residue_pair_derivatives() appears off -- set your minimizer to use_nblist and *also* nblist_auto_update to use eval_atom_derivative instead.\n",
      "\u001b[0mcore.scoring.methods.LK_PolarNonPolarEnergy: \u001b[0mlk_nonpolar eval_residue_pair_derivatives() appears off -- set your minimizer to use_nblist and *also* nblist_auto_update to use eval_atom_derivative instead.\n",
      "\u001b[0mcore.scoring.methods.LK_PolarNonPolarEnergy: \u001b[0mlk_nonpolar eval_residue_pair_derivatives() appears off -- set your minimizer to use_nblist and *also* nblist_auto_update to use eval_atom_derivative instead.\n",
      "\u001b[0mcore.scoring.methods.LK_PolarNonPolarEnergy: \u001b[0mlk_nonpolar eval_residue_pair_derivatives() appears off -- set your minimizer to use_nblist and *also* nblist_auto_update to use eval_atom_derivative instead.\n",
      "\u001b[0mcore.scoring.methods.LK_PolarNonPolarEnergy: \u001b[0mlk_nonpolar eval_residue_pair_derivatives() appears off -- set your minimizer to use_nblist and *also* nblist_auto_update to use eval_atom_derivative instead.\n",
      "\u001b[0mcore.scoring.methods.LK_PolarNonPolarEnergy: \u001b[0mlk_nonpolar eval_residue_pair_derivatives() appears off -- set your minimizer to use_nblist and *also* nblist_auto_update to use eval_atom_derivative instead.\n",
      "\u001b[0mcore.scoring.methods.LK_PolarNonPolarEnergy: \u001b[0mlk_nonpolar eval_residue_pair_derivatives() appears off -- set your minimizer to use_nblist and *also* nblist_auto_update to use eval_atom_derivative instead.\n",
      "\u001b[0mcore.scoring.methods.LK_PolarNonPolarEnergy: \u001b[0mlk_nonpolar eval_residue_pair_derivatives() appears off -- set your minimizer to use_nblist and *also* nblist_auto_update to use eval_atom_derivative instead.\n",
      "\u001b[0mcore.scoring.methods.LK_PolarNonPolarEnergy: \u001b[0mlk_nonpolar eval_residue_pair_derivatives() appears off -- set your minimizer to use_nblist and *also* nblist_auto_update to use eval_atom_derivative instead.\n",
      "\u001b[0mcore.scoring.methods.LK_PolarNonPolarEnergy: \u001b[0mlk_nonpolar eval_residue_pair_derivatives() appears off -- set your minimizer to use_nblist and *also* nblist_auto_update to use eval_atom_derivative instead.\n",
      "\u001b[0mcore.scoring.methods.LK_PolarNonPolarEnergy: \u001b[0mlk_nonpolar eval_residue_pair_derivatives() appears off -- set your minimizer to use_nblist and *also* nblist_auto_update to use eval_atom_derivative instead.\n",
      "\u001b[0mcore.scoring.methods.LK_PolarNonPolarEnergy: \u001b[0mlk_nonpolar eval_residue_pair_derivatives() appears off -- set your minimizer to use_nblist and *also* nblist_auto_update to use eval_atom_derivative instead.\n",
      "\u001b[0mcore.scoring.methods.LK_PolarNonPolarEnergy: \u001b[0mlk_nonpolar eval_residue_pair_derivatives() appears off -- set your minimizer to use_nblist and *also* nblist_auto_update to use eval_atom_derivative instead.\n",
      "\u001b[0mcore.scoring.methods.LK_PolarNonPolarEnergy: \u001b[0mlk_nonpolar eval_residue_pair_derivatives() appears off -- set your minimizer to use_nblist and *also* nblist_auto_update to use eval_atom_derivative instead.\n",
      "\u001b[0mcore.scoring.methods.LK_PolarNonPolarEnergy: \u001b[0mlk_nonpolar eval_residue_pair_derivatives() appears off -- set your minimizer to use_nblist and *also* nblist_auto_update to use eval_atom_derivative instead.\n",
      "\u001b[0mcore.scoring.methods.LK_PolarNonPolarEnergy: \u001b[0mlk_nonpolar eval_residue_pair_derivatives() appears off -- set your minimizer to use_nblist and *also* nblist_auto_update to use eval_atom_derivative instead.\n",
      "\u001b[0mcore.scoring.methods.LK_PolarNonPolarEnergy: \u001b[0mlk_nonpolar eval_residue_pair_derivatives() appears off -- set your minimizer to use_nblist and *also* nblist_auto_update to use eval_atom_derivative instead.\n",
      "\u001b[0mcore.scoring.methods.LK_PolarNonPolarEnergy: \u001b[0mlk_nonpolar eval_residue_pair_derivatives() appears off -- set your minimizer to use_nblist and *also* nblist_auto_update to use eval_atom_derivative instead.\n",
      "\u001b[0mcore.scoring.methods.LK_PolarNonPolarEnergy: \u001b[0mlk_nonpolar eval_residue_pair_derivatives() appears off -- set your minimizer to use_nblist and *also* nblist_auto_update to use eval_atom_derivative instead.\n",
      "\u001b[0mcore.scoring.methods.LK_PolarNonPolarEnergy: \u001b[0mlk_nonpolar eval_residue_pair_derivatives() appears off -- set your minimizer to use_nblist and *also* nblist_auto_update to use eval_atom_derivative instead.\n",
      "\u001b[0mcore.scoring.methods.LK_PolarNonPolarEnergy: \u001b[0mlk_nonpolar eval_residue_pair_derivatives() appears off -- set your minimizer to use_nblist and *also* nblist_auto_update to use eval_atom_derivative instead.\n",
      "\u001b[0mcore.scoring.methods.LK_PolarNonPolarEnergy: \u001b[0mlk_nonpolar eval_residue_pair_derivatives() appears off -- set your minimizer to use_nblist and *also* nblist_auto_update to use eval_atom_derivative instead.\n",
      "\u001b[0mcore.scoring.methods.LK_PolarNonPolarEnergy: \u001b[0mlk_nonpolar eval_residue_pair_derivatives() appears off -- set your minimizer to use_nblist and *also* nblist_auto_update to use eval_atom_derivative instead.\n",
      "\u001b[0mcore.scoring.methods.LK_PolarNonPolarEnergy: \u001b[0mlk_nonpolar eval_residue_pair_derivatives() appears off -- set your minimizer to use_nblist and *also* nblist_auto_update to use eval_atom_derivative instead.\n",
      "\u001b[0mcore.scoring.methods.LK_PolarNonPolarEnergy: \u001b[0mlk_nonpolar eval_residue_pair_derivatives() appears off -- set your minimizer to use_nblist and *also* nblist_auto_update to use eval_atom_derivative instead.\n",
      "\u001b[0mcore.scoring.methods.LK_PolarNonPolarEnergy: \u001b[0mlk_nonpolar eval_residue_pair_derivatives() appears off -- set your minimizer to use_nblist and *also* nblist_auto_update to use eval_atom_derivative instead.\n",
      "\u001b[0mcore.scoring.methods.LK_PolarNonPolarEnergy: \u001b[0mlk_nonpolar eval_residue_pair_derivatives() appears off -- set your minimizer to use_nblist and *also* nblist_auto_update to use eval_atom_derivative instead.\n",
      "\u001b[0mcore.scoring.methods.LK_PolarNonPolarEnergy: \u001b[0mlk_nonpolar eval_residue_pair_derivatives() appears off -- set your minimizer to use_nblist and *also* nblist_auto_update to use eval_atom_derivative instead.\n"
     ]
    },
    {
     "name": "stdout",
     "output_type": "stream",
     "text": [
      "\u001b[0mcore.scoring.methods.LK_PolarNonPolarEnergy: \u001b[0mlk_nonpolar eval_residue_pair_derivatives() appears off -- set your minimizer to use_nblist and *also* nblist_auto_update to use eval_atom_derivative instead.\n",
      "\u001b[0mcore.scoring.methods.LK_PolarNonPolarEnergy: \u001b[0mlk_nonpolar eval_residue_pair_derivatives() appears off -- set your minimizer to use_nblist and *also* nblist_auto_update to use eval_atom_derivative instead.\n",
      "\u001b[0mcore.scoring.methods.LK_PolarNonPolarEnergy: \u001b[0mlk_nonpolar eval_residue_pair_derivatives() appears off -- set your minimizer to use_nblist and *also* nblist_auto_update to use eval_atom_derivative instead.\n",
      "\u001b[0mcore.scoring.methods.LK_PolarNonPolarEnergy: \u001b[0mlk_nonpolar eval_residue_pair_derivatives() appears off -- set your minimizer to use_nblist and *also* nblist_auto_update to use eval_atom_derivative instead.\n",
      "\u001b[0mcore.scoring.methods.LK_PolarNonPolarEnergy: \u001b[0mlk_nonpolar eval_residue_pair_derivatives() appears off -- set your minimizer to use_nblist and *also* nblist_auto_update to use eval_atom_derivative instead.\n",
      "\u001b[0mcore.scoring.methods.LK_PolarNonPolarEnergy: \u001b[0mlk_nonpolar eval_residue_pair_derivatives() appears off -- set your minimizer to use_nblist and *also* nblist_auto_update to use eval_atom_derivative instead.\n",
      "\u001b[0mcore.scoring.methods.LK_PolarNonPolarEnergy: \u001b[0mlk_nonpolar eval_residue_pair_derivatives() appears off -- set your minimizer to use_nblist and *also* nblist_auto_update to use eval_atom_derivative instead.\n",
      "\u001b[0mcore.scoring.methods.LK_PolarNonPolarEnergy: \u001b[0mlk_nonpolar eval_residue_pair_derivatives() appears off -- set your minimizer to use_nblist and *also* nblist_auto_update to use eval_atom_derivative instead.\n",
      "\u001b[0mcore.scoring.methods.LK_PolarNonPolarEnergy: \u001b[0mlk_nonpolar eval_residue_pair_derivatives() appears off -- set your minimizer to use_nblist and *also* nblist_auto_update to use eval_atom_derivative instead.\n",
      "\u001b[0mcore.scoring.methods.LK_PolarNonPolarEnergy: \u001b[0mlk_nonpolar eval_residue_pair_derivatives() appears off -- set your minimizer to use_nblist and *also* nblist_auto_update to use eval_atom_derivative instead.\n",
      "\u001b[0mcore.scoring.methods.LK_PolarNonPolarEnergy: \u001b[0mlk_nonpolar eval_residue_pair_derivatives() appears off -- set your minimizer to use_nblist and *also* nblist_auto_update to use eval_atom_derivative instead.\n",
      "\u001b[0mcore.scoring.methods.LK_PolarNonPolarEnergy: \u001b[0mlk_nonpolar eval_residue_pair_derivatives() appears off -- set your minimizer to use_nblist and *also* nblist_auto_update to use eval_atom_derivative instead.\n",
      "\u001b[0mcore.scoring.methods.LK_PolarNonPolarEnergy: \u001b[0mlk_nonpolar eval_residue_pair_derivatives() appears off -- set your minimizer to use_nblist and *also* nblist_auto_update to use eval_atom_derivative instead.\n",
      "\u001b[0mcore.scoring.methods.LK_PolarNonPolarEnergy: \u001b[0mlk_nonpolar eval_residue_pair_derivatives() appears off -- set your minimizer to use_nblist and *also* nblist_auto_update to use eval_atom_derivative instead.\n",
      "\u001b[0mcore.scoring.methods.LK_PolarNonPolarEnergy: \u001b[0mlk_nonpolar eval_residue_pair_derivatives() appears off -- set your minimizer to use_nblist and *also* nblist_auto_update to use eval_atom_derivative instead.\n",
      "\u001b[0mcore.scoring.methods.LK_PolarNonPolarEnergy: \u001b[0mlk_nonpolar eval_residue_pair_derivatives() appears off -- set your minimizer to use_nblist and *also* nblist_auto_update to use eval_atom_derivative instead.\n",
      "\u001b[0mcore.scoring.methods.LK_PolarNonPolarEnergy: \u001b[0mlk_nonpolar eval_residue_pair_derivatives() appears off -- set your minimizer to use_nblist and *also* nblist_auto_update to use eval_atom_derivative instead.\n",
      "\u001b[0mcore.scoring.methods.LK_PolarNonPolarEnergy: \u001b[0mlk_nonpolar eval_residue_pair_derivatives() appears off -- set your minimizer to use_nblist and *also* nblist_auto_update to use eval_atom_derivative instead.\n",
      "\u001b[0mcore.scoring.methods.LK_PolarNonPolarEnergy: \u001b[0mlk_nonpolar eval_residue_pair_derivatives() appears off -- set your minimizer to use_nblist and *also* nblist_auto_update to use eval_atom_derivative instead.\n",
      "\u001b[0mcore.scoring.methods.LK_PolarNonPolarEnergy: \u001b[0mlk_nonpolar eval_residue_pair_derivatives() appears off -- set your minimizer to use_nblist and *also* nblist_auto_update to use eval_atom_derivative instead.\n",
      "\u001b[0mcore.scoring.methods.LK_PolarNonPolarEnergy: \u001b[0mlk_nonpolar eval_residue_pair_derivatives() appears off -- set your minimizer to use_nblist and *also* nblist_auto_update to use eval_atom_derivative instead.\n",
      "\u001b[0mcore.scoring.methods.LK_PolarNonPolarEnergy: \u001b[0mlk_nonpolar eval_residue_pair_derivatives() appears off -- set your minimizer to use_nblist and *also* nblist_auto_update to use eval_atom_derivative instead.\n",
      "\u001b[0mcore.scoring.methods.LK_PolarNonPolarEnergy: \u001b[0mlk_nonpolar eval_residue_pair_derivatives() appears off -- set your minimizer to use_nblist and *also* nblist_auto_update to use eval_atom_derivative instead.\n",
      "\u001b[0mcore.scoring.methods.LK_PolarNonPolarEnergy: \u001b[0mlk_nonpolar eval_residue_pair_derivatives() appears off -- set your minimizer to use_nblist and *also* nblist_auto_update to use eval_atom_derivative instead.\n",
      "\u001b[0mcore.scoring.methods.LK_PolarNonPolarEnergy: \u001b[0mlk_nonpolar eval_residue_pair_derivatives() appears off -- set your minimizer to use_nblist and *also* nblist_auto_update to use eval_atom_derivative instead.\n",
      "\u001b[0mcore.scoring.methods.LK_PolarNonPolarEnergy: \u001b[0mlk_nonpolar eval_residue_pair_derivatives() appears off -- set your minimizer to use_nblist and *also* nblist_auto_update to use eval_atom_derivative instead.\n",
      "\u001b[0mcore.scoring.methods.LK_PolarNonPolarEnergy: \u001b[0mlk_nonpolar eval_residue_pair_derivatives() appears off -- set your minimizer to use_nblist and *also* nblist_auto_update to use eval_atom_derivative instead.\n",
      "\u001b[0mcore.scoring.methods.LK_PolarNonPolarEnergy: \u001b[0mlk_nonpolar eval_residue_pair_derivatives() appears off -- set your minimizer to use_nblist and *also* nblist_auto_update to use eval_atom_derivative instead.\n",
      "\u001b[0mcore.scoring.methods.LK_PolarNonPolarEnergy: \u001b[0mlk_nonpolar eval_residue_pair_derivatives() appears off -- set your minimizer to use_nblist and *also* nblist_auto_update to use eval_atom_derivative instead.\n",
      "\u001b[0mcore.scoring.methods.LK_PolarNonPolarEnergy: \u001b[0mlk_nonpolar eval_residue_pair_derivatives() appears off -- set your minimizer to use_nblist and *also* nblist_auto_update to use eval_atom_derivative instead.\n",
      "\u001b[0mcore.scoring.methods.LK_PolarNonPolarEnergy: \u001b[0mlk_nonpolar eval_residue_pair_derivatives() appears off -- set your minimizer to use_nblist and *also* nblist_auto_update to use eval_atom_derivative instead.\n",
      "\u001b[0mcore.scoring.methods.LK_PolarNonPolarEnergy: \u001b[0mlk_nonpolar eval_residue_pair_derivatives() appears off -- set your minimizer to use_nblist and *also* nblist_auto_update to use eval_atom_derivative instead.\n",
      "\u001b[0mcore.scoring.methods.LK_PolarNonPolarEnergy: \u001b[0mlk_nonpolar eval_residue_pair_derivatives() appears off -- set your minimizer to use_nblist and *also* nblist_auto_update to use eval_atom_derivative instead.\n",
      "\u001b[0mcore.scoring.methods.LK_PolarNonPolarEnergy: \u001b[0mlk_nonpolar eval_residue_pair_derivatives() appears off -- set your minimizer to use_nblist and *also* nblist_auto_update to use eval_atom_derivative instead.\n",
      "\u001b[0mcore.scoring.methods.LK_PolarNonPolarEnergy: \u001b[0mlk_nonpolar eval_residue_pair_derivatives() appears off -- set your minimizer to use_nblist and *also* nblist_auto_update to use eval_atom_derivative instead.\n",
      "\u001b[0mcore.scoring.methods.LK_PolarNonPolarEnergy: \u001b[0mlk_nonpolar eval_residue_pair_derivatives() appears off -- set your minimizer to use_nblist and *also* nblist_auto_update to use eval_atom_derivative instead.\n",
      "\u001b[0mcore.scoring.methods.LK_PolarNonPolarEnergy: \u001b[0mlk_nonpolar eval_residue_pair_derivatives() appears off -- set your minimizer to use_nblist and *also* nblist_auto_update to use eval_atom_derivative instead.\n",
      "\u001b[0mcore.scoring.methods.LK_PolarNonPolarEnergy: \u001b[0mlk_nonpolar eval_residue_pair_derivatives() appears off -- set your minimizer to use_nblist and *also* nblist_auto_update to use eval_atom_derivative instead.\n",
      "\u001b[0mcore.scoring.methods.LK_PolarNonPolarEnergy: \u001b[0mlk_nonpolar eval_residue_pair_derivatives() appears off -- set your minimizer to use_nblist and *also* nblist_auto_update to use eval_atom_derivative instead.\n"
     ]
    },
    {
     "name": "stdout",
     "output_type": "stream",
     "text": [
      "\u001b[0mcore.scoring.methods.LK_PolarNonPolarEnergy: \u001b[0mlk_nonpolar eval_residue_pair_derivatives() appears off -- set your minimizer to use_nblist and *also* nblist_auto_update to use eval_atom_derivative instead.\n",
      "\u001b[0mcore.scoring.methods.LK_PolarNonPolarEnergy: \u001b[0mlk_nonpolar eval_residue_pair_derivatives() appears off -- set your minimizer to use_nblist and *also* nblist_auto_update to use eval_atom_derivative instead.\n",
      "\u001b[0mcore.scoring.methods.LK_PolarNonPolarEnergy: \u001b[0mlk_nonpolar eval_residue_pair_derivatives() appears off -- set your minimizer to use_nblist and *also* nblist_auto_update to use eval_atom_derivative instead.\n",
      "\u001b[0mcore.scoring.methods.LK_PolarNonPolarEnergy: \u001b[0mlk_nonpolar eval_residue_pair_derivatives() appears off -- set your minimizer to use_nblist and *also* nblist_auto_update to use eval_atom_derivative instead.\n",
      "\u001b[0mcore.scoring.methods.LK_PolarNonPolarEnergy: \u001b[0mlk_nonpolar eval_residue_pair_derivatives() appears off -- set your minimizer to use_nblist and *also* nblist_auto_update to use eval_atom_derivative instead.\n",
      "\u001b[0mcore.scoring.methods.LK_PolarNonPolarEnergy: \u001b[0mlk_nonpolar eval_residue_pair_derivatives() appears off -- set your minimizer to use_nblist and *also* nblist_auto_update to use eval_atom_derivative instead.\n",
      "\u001b[0mcore.scoring.methods.LK_PolarNonPolarEnergy: \u001b[0mlk_nonpolar eval_residue_pair_derivatives() appears off -- set your minimizer to use_nblist and *also* nblist_auto_update to use eval_atom_derivative instead.\n",
      "\u001b[0mcore.scoring.methods.LK_PolarNonPolarEnergy: \u001b[0mlk_nonpolar eval_residue_pair_derivatives() appears off -- set your minimizer to use_nblist and *also* nblist_auto_update to use eval_atom_derivative instead.\n",
      "\u001b[0mcore.scoring.methods.LK_PolarNonPolarEnergy: \u001b[0mlk_nonpolar eval_residue_pair_derivatives() appears off -- set your minimizer to use_nblist and *also* nblist_auto_update to use eval_atom_derivative instead.\n",
      "\u001b[0mcore.scoring.methods.LK_PolarNonPolarEnergy: \u001b[0mlk_nonpolar eval_residue_pair_derivatives() appears off -- set your minimizer to use_nblist and *also* nblist_auto_update to use eval_atom_derivative instead.\n",
      "\u001b[0mcore.scoring.methods.LK_PolarNonPolarEnergy: \u001b[0mlk_nonpolar eval_residue_pair_derivatives() appears off -- set your minimizer to use_nblist and *also* nblist_auto_update to use eval_atom_derivative instead.\n",
      "\u001b[0mcore.scoring.methods.LK_PolarNonPolarEnergy: \u001b[0mlk_nonpolar eval_residue_pair_derivatives() appears off -- set your minimizer to use_nblist and *also* nblist_auto_update to use eval_atom_derivative instead.\n",
      "\u001b[0mcore.scoring.methods.LK_PolarNonPolarEnergy: \u001b[0mlk_nonpolar eval_residue_pair_derivatives() appears off -- set your minimizer to use_nblist and *also* nblist_auto_update to use eval_atom_derivative instead.\n",
      "\u001b[0mcore.scoring.methods.LK_PolarNonPolarEnergy: \u001b[0mlk_nonpolar eval_residue_pair_derivatives() appears off -- set your minimizer to use_nblist and *also* nblist_auto_update to use eval_atom_derivative instead.\n",
      "\u001b[0mcore.scoring.methods.LK_PolarNonPolarEnergy: \u001b[0mlk_nonpolar eval_residue_pair_derivatives() appears off -- set your minimizer to use_nblist and *also* nblist_auto_update to use eval_atom_derivative instead.\n",
      "\u001b[0mcore.scoring.methods.LK_PolarNonPolarEnergy: \u001b[0mlk_nonpolar eval_residue_pair_derivatives() appears off -- set your minimizer to use_nblist and *also* nblist_auto_update to use eval_atom_derivative instead.\n",
      "\u001b[0mcore.scoring.methods.LK_PolarNonPolarEnergy: \u001b[0mlk_nonpolar eval_residue_pair_derivatives() appears off -- set your minimizer to use_nblist and *also* nblist_auto_update to use eval_atom_derivative instead.\n",
      "\u001b[0mcore.scoring.methods.LK_PolarNonPolarEnergy: \u001b[0mlk_nonpolar eval_residue_pair_derivatives() appears off -- set your minimizer to use_nblist and *also* nblist_auto_update to use eval_atom_derivative instead.\n",
      "\u001b[0mcore.scoring.methods.LK_PolarNonPolarEnergy: \u001b[0mlk_nonpolar eval_residue_pair_derivatives() appears off -- set your minimizer to use_nblist and *also* nblist_auto_update to use eval_atom_derivative instead.\n",
      "\u001b[0mcore.scoring.methods.LK_PolarNonPolarEnergy: \u001b[0mlk_nonpolar eval_residue_pair_derivatives() appears off -- set your minimizer to use_nblist and *also* nblist_auto_update to use eval_atom_derivative instead.\n",
      "\u001b[0mcore.scoring.methods.LK_PolarNonPolarEnergy: \u001b[0mlk_nonpolar eval_residue_pair_derivatives() appears off -- set your minimizer to use_nblist and *also* nblist_auto_update to use eval_atom_derivative instead.\n",
      "\u001b[0mcore.scoring.methods.LK_PolarNonPolarEnergy: \u001b[0mlk_nonpolar eval_residue_pair_derivatives() appears off -- set your minimizer to use_nblist and *also* nblist_auto_update to use eval_atom_derivative instead.\n",
      "\u001b[0mcore.scoring.methods.LK_PolarNonPolarEnergy: \u001b[0mlk_nonpolar eval_residue_pair_derivatives() appears off -- set your minimizer to use_nblist and *also* nblist_auto_update to use eval_atom_derivative instead.\n",
      "\u001b[0mcore.scoring.methods.LK_PolarNonPolarEnergy: \u001b[0mlk_nonpolar eval_residue_pair_derivatives() appears off -- set your minimizer to use_nblist and *also* nblist_auto_update to use eval_atom_derivative instead.\n",
      "\u001b[0mcore.scoring.methods.LK_PolarNonPolarEnergy: \u001b[0mlk_nonpolar eval_residue_pair_derivatives() appears off -- set your minimizer to use_nblist and *also* nblist_auto_update to use eval_atom_derivative instead.\n",
      "\u001b[0mcore.scoring.methods.LK_PolarNonPolarEnergy: \u001b[0mlk_nonpolar eval_residue_pair_derivatives() appears off -- set your minimizer to use_nblist and *also* nblist_auto_update to use eval_atom_derivative instead.\n",
      "\u001b[0mcore.scoring.methods.LK_PolarNonPolarEnergy: \u001b[0mlk_nonpolar eval_residue_pair_derivatives() appears off -- set your minimizer to use_nblist and *also* nblist_auto_update to use eval_atom_derivative instead.\n",
      "\u001b[0mcore.scoring.methods.LK_PolarNonPolarEnergy: \u001b[0mlk_nonpolar eval_residue_pair_derivatives() appears off -- set your minimizer to use_nblist and *also* nblist_auto_update to use eval_atom_derivative instead.\n",
      "\u001b[0mcore.scoring.methods.LK_PolarNonPolarEnergy: \u001b[0mlk_nonpolar eval_residue_pair_derivatives() appears off -- set your minimizer to use_nblist and *also* nblist_auto_update to use eval_atom_derivative instead.\n",
      "\u001b[0mcore.scoring.methods.LK_PolarNonPolarEnergy: \u001b[0mlk_nonpolar eval_residue_pair_derivatives() appears off -- set your minimizer to use_nblist and *also* nblist_auto_update to use eval_atom_derivative instead.\n",
      "\u001b[0mcore.scoring.methods.LK_PolarNonPolarEnergy: \u001b[0mlk_nonpolar eval_residue_pair_derivatives() appears off -- set your minimizer to use_nblist and *also* nblist_auto_update to use eval_atom_derivative instead.\n",
      "\u001b[0mcore.scoring.methods.LK_PolarNonPolarEnergy: \u001b[0mlk_nonpolar eval_residue_pair_derivatives() appears off -- set your minimizer to use_nblist and *also* nblist_auto_update to use eval_atom_derivative instead.\n",
      "\u001b[0mcore.scoring.methods.LK_PolarNonPolarEnergy: \u001b[0mlk_nonpolar eval_residue_pair_derivatives() appears off -- set your minimizer to use_nblist and *also* nblist_auto_update to use eval_atom_derivative instead.\n",
      "\u001b[0mcore.scoring.methods.LK_PolarNonPolarEnergy: \u001b[0mlk_nonpolar eval_residue_pair_derivatives() appears off -- set your minimizer to use_nblist and *also* nblist_auto_update to use eval_atom_derivative instead.\n",
      "\u001b[0mcore.scoring.methods.LK_PolarNonPolarEnergy: \u001b[0mlk_nonpolar eval_residue_pair_derivatives() appears off -- set your minimizer to use_nblist and *also* nblist_auto_update to use eval_atom_derivative instead.\n",
      "\u001b[0mcore.scoring.methods.LK_PolarNonPolarEnergy: \u001b[0mlk_nonpolar eval_residue_pair_derivatives() appears off -- set your minimizer to use_nblist and *also* nblist_auto_update to use eval_atom_derivative instead.\n",
      "\u001b[0mcore.scoring.methods.LK_PolarNonPolarEnergy: \u001b[0mlk_nonpolar eval_residue_pair_derivatives() appears off -- set your minimizer to use_nblist and *also* nblist_auto_update to use eval_atom_derivative instead.\n",
      "\u001b[0mcore.scoring.methods.LK_PolarNonPolarEnergy: \u001b[0mlk_nonpolar eval_residue_pair_derivatives() appears off -- set your minimizer to use_nblist and *also* nblist_auto_update to use eval_atom_derivative instead.\n",
      "\u001b[0mcore.scoring.methods.LK_PolarNonPolarEnergy: \u001b[0mlk_nonpolar eval_residue_pair_derivatives() appears off -- set your minimizer to use_nblist and *also* nblist_auto_update to use eval_atom_derivative instead.\n"
     ]
    },
    {
     "name": "stdout",
     "output_type": "stream",
     "text": [
      "\u001b[0mcore.scoring.methods.LK_PolarNonPolarEnergy: \u001b[0mlk_nonpolar eval_residue_pair_derivatives() appears off -- set your minimizer to use_nblist and *also* nblist_auto_update to use eval_atom_derivative instead.\n",
      "\u001b[0mcore.scoring.methods.LK_PolarNonPolarEnergy: \u001b[0mlk_nonpolar eval_residue_pair_derivatives() appears off -- set your minimizer to use_nblist and *also* nblist_auto_update to use eval_atom_derivative instead.\n",
      "\u001b[0mcore.scoring.methods.LK_PolarNonPolarEnergy: \u001b[0mlk_nonpolar eval_residue_pair_derivatives() appears off -- set your minimizer to use_nblist and *also* nblist_auto_update to use eval_atom_derivative instead.\n",
      "\u001b[0mcore.scoring.methods.LK_PolarNonPolarEnergy: \u001b[0mlk_nonpolar eval_residue_pair_derivatives() appears off -- set your minimizer to use_nblist and *also* nblist_auto_update to use eval_atom_derivative instead.\n",
      "\u001b[0mcore.scoring.methods.LK_PolarNonPolarEnergy: \u001b[0mlk_nonpolar eval_residue_pair_derivatives() appears off -- set your minimizer to use_nblist and *also* nblist_auto_update to use eval_atom_derivative instead.\n",
      "\u001b[0mcore.scoring.methods.LK_PolarNonPolarEnergy: \u001b[0mlk_nonpolar eval_residue_pair_derivatives() appears off -- set your minimizer to use_nblist and *also* nblist_auto_update to use eval_atom_derivative instead.\n",
      "\u001b[0mcore.scoring.methods.LK_PolarNonPolarEnergy: \u001b[0mlk_nonpolar eval_residue_pair_derivatives() appears off -- set your minimizer to use_nblist and *also* nblist_auto_update to use eval_atom_derivative instead.\n",
      "\u001b[0mcore.scoring.methods.LK_PolarNonPolarEnergy: \u001b[0mlk_nonpolar eval_residue_pair_derivatives() appears off -- set your minimizer to use_nblist and *also* nblist_auto_update to use eval_atom_derivative instead.\n",
      "\u001b[0mcore.scoring.methods.LK_PolarNonPolarEnergy: \u001b[0mlk_nonpolar eval_residue_pair_derivatives() appears off -- set your minimizer to use_nblist and *also* nblist_auto_update to use eval_atom_derivative instead.\n",
      "\u001b[0mcore.scoring.methods.LK_PolarNonPolarEnergy: \u001b[0mlk_nonpolar eval_residue_pair_derivatives() appears off -- set your minimizer to use_nblist and *also* nblist_auto_update to use eval_atom_derivative instead.\n",
      "\u001b[0mcore.scoring.methods.LK_PolarNonPolarEnergy: \u001b[0mlk_nonpolar eval_residue_pair_derivatives() appears off -- set your minimizer to use_nblist and *also* nblist_auto_update to use eval_atom_derivative instead.\n",
      "\u001b[0mcore.scoring.methods.LK_PolarNonPolarEnergy: \u001b[0mlk_nonpolar eval_residue_pair_derivatives() appears off -- set your minimizer to use_nblist and *also* nblist_auto_update to use eval_atom_derivative instead.\n",
      "\u001b[0mcore.scoring.methods.LK_PolarNonPolarEnergy: \u001b[0mlk_nonpolar eval_residue_pair_derivatives() appears off -- set your minimizer to use_nblist and *also* nblist_auto_update to use eval_atom_derivative instead.\n",
      "\u001b[0mcore.scoring.methods.LK_PolarNonPolarEnergy: \u001b[0mlk_nonpolar eval_residue_pair_derivatives() appears off -- set your minimizer to use_nblist and *also* nblist_auto_update to use eval_atom_derivative instead.\n",
      "\u001b[0mcore.scoring.methods.LK_PolarNonPolarEnergy: \u001b[0mlk_nonpolar eval_residue_pair_derivatives() appears off -- set your minimizer to use_nblist and *also* nblist_auto_update to use eval_atom_derivative instead.\n",
      "\u001b[0mcore.scoring.methods.LK_PolarNonPolarEnergy: \u001b[0mlk_nonpolar eval_residue_pair_derivatives() appears off -- set your minimizer to use_nblist and *also* nblist_auto_update to use eval_atom_derivative instead.\n",
      "\u001b[0mcore.scoring.methods.LK_PolarNonPolarEnergy: \u001b[0mlk_nonpolar eval_residue_pair_derivatives() appears off -- set your minimizer to use_nblist and *also* nblist_auto_update to use eval_atom_derivative instead.\n",
      "\u001b[0mcore.scoring.methods.LK_PolarNonPolarEnergy: \u001b[0mlk_nonpolar eval_residue_pair_derivatives() appears off -- set your minimizer to use_nblist and *also* nblist_auto_update to use eval_atom_derivative instead.\n",
      "\u001b[0mcore.scoring.methods.LK_PolarNonPolarEnergy: \u001b[0mlk_nonpolar eval_residue_pair_derivatives() appears off -- set your minimizer to use_nblist and *also* nblist_auto_update to use eval_atom_derivative instead.\n",
      "\u001b[0mcore.scoring.methods.LK_PolarNonPolarEnergy: \u001b[0mlk_nonpolar eval_residue_pair_derivatives() appears off -- set your minimizer to use_nblist and *also* nblist_auto_update to use eval_atom_derivative instead.\n",
      "\u001b[0mcore.scoring.methods.LK_PolarNonPolarEnergy: \u001b[0mlk_nonpolar eval_residue_pair_derivatives() appears off -- set your minimizer to use_nblist and *also* nblist_auto_update to use eval_atom_derivative instead.\n",
      "\u001b[0mcore.scoring.methods.LK_PolarNonPolarEnergy: \u001b[0mlk_nonpolar eval_residue_pair_derivatives() appears off -- set your minimizer to use_nblist and *also* nblist_auto_update to use eval_atom_derivative instead.\n",
      "\u001b[0mcore.scoring.methods.LK_PolarNonPolarEnergy: \u001b[0mlk_nonpolar eval_residue_pair_derivatives() appears off -- set your minimizer to use_nblist and *also* nblist_auto_update to use eval_atom_derivative instead.\n",
      "\u001b[0mcore.scoring.methods.LK_PolarNonPolarEnergy: \u001b[0mlk_nonpolar eval_residue_pair_derivatives() appears off -- set your minimizer to use_nblist and *also* nblist_auto_update to use eval_atom_derivative instead.\n",
      "\u001b[0mcore.scoring.methods.LK_PolarNonPolarEnergy: \u001b[0mlk_nonpolar eval_residue_pair_derivatives() appears off -- set your minimizer to use_nblist and *also* nblist_auto_update to use eval_atom_derivative instead.\n",
      "\u001b[0mcore.scoring.methods.LK_PolarNonPolarEnergy: \u001b[0mlk_nonpolar eval_residue_pair_derivatives() appears off -- set your minimizer to use_nblist and *also* nblist_auto_update to use eval_atom_derivative instead.\n",
      "\u001b[0mcore.scoring.methods.LK_PolarNonPolarEnergy: \u001b[0mlk_nonpolar eval_residue_pair_derivatives() appears off -- set your minimizer to use_nblist and *also* nblist_auto_update to use eval_atom_derivative instead.\n",
      "\u001b[0mcore.scoring.methods.LK_PolarNonPolarEnergy: \u001b[0mlk_nonpolar eval_residue_pair_derivatives() appears off -- set your minimizer to use_nblist and *also* nblist_auto_update to use eval_atom_derivative instead.\n",
      "\u001b[0mcore.scoring.methods.LK_PolarNonPolarEnergy: \u001b[0mlk_nonpolar eval_residue_pair_derivatives() appears off -- set your minimizer to use_nblist and *also* nblist_auto_update to use eval_atom_derivative instead.\n",
      "\u001b[0mcore.scoring.methods.LK_PolarNonPolarEnergy: \u001b[0mlk_nonpolar eval_residue_pair_derivatives() appears off -- set your minimizer to use_nblist and *also* nblist_auto_update to use eval_atom_derivative instead.\n",
      "\u001b[0mcore.scoring.methods.LK_PolarNonPolarEnergy: \u001b[0mlk_nonpolar eval_residue_pair_derivatives() appears off -- set your minimizer to use_nblist and *also* nblist_auto_update to use eval_atom_derivative instead.\n",
      "\u001b[0mcore.scoring.methods.LK_PolarNonPolarEnergy: \u001b[0mlk_nonpolar eval_residue_pair_derivatives() appears off -- set your minimizer to use_nblist and *also* nblist_auto_update to use eval_atom_derivative instead.\n",
      "\u001b[0mcore.scoring.methods.LK_PolarNonPolarEnergy: \u001b[0mlk_nonpolar eval_residue_pair_derivatives() appears off -- set your minimizer to use_nblist and *also* nblist_auto_update to use eval_atom_derivative instead.\n",
      "\u001b[0mcore.scoring.methods.LK_PolarNonPolarEnergy: \u001b[0mlk_nonpolar eval_residue_pair_derivatives() appears off -- set your minimizer to use_nblist and *also* nblist_auto_update to use eval_atom_derivative instead.\n",
      "\u001b[0mcore.scoring.methods.LK_PolarNonPolarEnergy: \u001b[0mlk_nonpolar eval_residue_pair_derivatives() appears off -- set your minimizer to use_nblist and *also* nblist_auto_update to use eval_atom_derivative instead.\n",
      "\u001b[0mcore.scoring.methods.LK_PolarNonPolarEnergy: \u001b[0mlk_nonpolar eval_residue_pair_derivatives() appears off -- set your minimizer to use_nblist and *also* nblist_auto_update to use eval_atom_derivative instead.\n",
      "\u001b[0mcore.scoring.methods.LK_PolarNonPolarEnergy: \u001b[0mlk_nonpolar eval_residue_pair_derivatives() appears off -- set your minimizer to use_nblist and *also* nblist_auto_update to use eval_atom_derivative instead.\n",
      "\u001b[0mcore.scoring.methods.LK_PolarNonPolarEnergy: \u001b[0mlk_nonpolar eval_residue_pair_derivatives() appears off -- set your minimizer to use_nblist and *also* nblist_auto_update to use eval_atom_derivative instead.\n",
      "\u001b[0mcore.scoring.methods.LK_PolarNonPolarEnergy: \u001b[0mlk_nonpolar eval_residue_pair_derivatives() appears off -- set your minimizer to use_nblist and *also* nblist_auto_update to use eval_atom_derivative instead.\n"
     ]
    },
    {
     "name": "stdout",
     "output_type": "stream",
     "text": [
      "\u001b[0mcore.scoring.methods.LK_PolarNonPolarEnergy: \u001b[0mlk_nonpolar eval_residue_pair_derivatives() appears off -- set your minimizer to use_nblist and *also* nblist_auto_update to use eval_atom_derivative instead.\n",
      "\u001b[0mcore.scoring.methods.LK_PolarNonPolarEnergy: \u001b[0mlk_nonpolar eval_residue_pair_derivatives() appears off -- set your minimizer to use_nblist and *also* nblist_auto_update to use eval_atom_derivative instead.\n",
      "\u001b[0mcore.scoring.methods.LK_PolarNonPolarEnergy: \u001b[0mlk_nonpolar eval_residue_pair_derivatives() appears off -- set your minimizer to use_nblist and *also* nblist_auto_update to use eval_atom_derivative instead.\n",
      "\u001b[0mcore.scoring.methods.LK_PolarNonPolarEnergy: \u001b[0mlk_nonpolar eval_residue_pair_derivatives() appears off -- set your minimizer to use_nblist and *also* nblist_auto_update to use eval_atom_derivative instead.\n",
      "\u001b[0mcore.scoring.methods.LK_PolarNonPolarEnergy: \u001b[0mlk_nonpolar eval_residue_pair_derivatives() appears off -- set your minimizer to use_nblist and *also* nblist_auto_update to use eval_atom_derivative instead.\n",
      "\u001b[0mcore.scoring.methods.LK_PolarNonPolarEnergy: \u001b[0mlk_nonpolar eval_residue_pair_derivatives() appears off -- set your minimizer to use_nblist and *also* nblist_auto_update to use eval_atom_derivative instead.\n",
      "\u001b[0mcore.scoring.methods.LK_PolarNonPolarEnergy: \u001b[0mlk_nonpolar eval_residue_pair_derivatives() appears off -- set your minimizer to use_nblist and *also* nblist_auto_update to use eval_atom_derivative instead.\n",
      "\u001b[0mcore.scoring.methods.LK_PolarNonPolarEnergy: \u001b[0mlk_nonpolar eval_residue_pair_derivatives() appears off -- set your minimizer to use_nblist and *also* nblist_auto_update to use eval_atom_derivative instead.\n",
      "\u001b[0mcore.scoring.methods.LK_PolarNonPolarEnergy: \u001b[0mlk_nonpolar eval_residue_pair_derivatives() appears off -- set your minimizer to use_nblist and *also* nblist_auto_update to use eval_atom_derivative instead.\n",
      "\u001b[0mcore.scoring.methods.LK_PolarNonPolarEnergy: \u001b[0mlk_nonpolar eval_residue_pair_derivatives() appears off -- set your minimizer to use_nblist and *also* nblist_auto_update to use eval_atom_derivative instead.\n",
      "\u001b[0mcore.scoring.methods.LK_PolarNonPolarEnergy: \u001b[0mlk_nonpolar eval_residue_pair_derivatives() appears off -- set your minimizer to use_nblist and *also* nblist_auto_update to use eval_atom_derivative instead.\n",
      "\u001b[0mcore.scoring.methods.LK_PolarNonPolarEnergy: \u001b[0mlk_nonpolar eval_residue_pair_derivatives() appears off -- set your minimizer to use_nblist and *also* nblist_auto_update to use eval_atom_derivative instead.\n",
      "\u001b[0mcore.scoring.methods.LK_PolarNonPolarEnergy: \u001b[0mlk_nonpolar eval_residue_pair_derivatives() appears off -- set your minimizer to use_nblist and *also* nblist_auto_update to use eval_atom_derivative instead.\n",
      "\u001b[0mcore.scoring.methods.LK_PolarNonPolarEnergy: \u001b[0mlk_nonpolar eval_residue_pair_derivatives() appears off -- set your minimizer to use_nblist and *also* nblist_auto_update to use eval_atom_derivative instead.\n",
      "\u001b[0mcore.scoring.methods.LK_PolarNonPolarEnergy: \u001b[0mlk_nonpolar eval_residue_pair_derivatives() appears off -- set your minimizer to use_nblist and *also* nblist_auto_update to use eval_atom_derivative instead.\n",
      "\u001b[0mcore.scoring.methods.LK_PolarNonPolarEnergy: \u001b[0mlk_nonpolar eval_residue_pair_derivatives() appears off -- set your minimizer to use_nblist and *also* nblist_auto_update to use eval_atom_derivative instead.\n",
      "\u001b[0mcore.scoring.methods.LK_PolarNonPolarEnergy: \u001b[0mlk_nonpolar eval_residue_pair_derivatives() appears off -- set your minimizer to use_nblist and *also* nblist_auto_update to use eval_atom_derivative instead.\n",
      "\u001b[0mcore.scoring.methods.LK_PolarNonPolarEnergy: \u001b[0mlk_nonpolar eval_residue_pair_derivatives() appears off -- set your minimizer to use_nblist and *also* nblist_auto_update to use eval_atom_derivative instead.\n",
      "\u001b[0mcore.scoring.methods.LK_PolarNonPolarEnergy: \u001b[0mlk_nonpolar eval_residue_pair_derivatives() appears off -- set your minimizer to use_nblist and *also* nblist_auto_update to use eval_atom_derivative instead.\n",
      "\u001b[0mcore.scoring.methods.LK_PolarNonPolarEnergy: \u001b[0mlk_nonpolar eval_residue_pair_derivatives() appears off -- set your minimizer to use_nblist and *also* nblist_auto_update to use eval_atom_derivative instead.\n",
      "\u001b[0mcore.scoring.methods.LK_PolarNonPolarEnergy: \u001b[0mlk_nonpolar eval_residue_pair_derivatives() appears off -- set your minimizer to use_nblist and *also* nblist_auto_update to use eval_atom_derivative instead.\n",
      "\u001b[0mcore.scoring.methods.LK_PolarNonPolarEnergy: \u001b[0mlk_nonpolar eval_residue_pair_derivatives() appears off -- set your minimizer to use_nblist and *also* nblist_auto_update to use eval_atom_derivative instead.\n",
      "\u001b[0mcore.scoring.methods.LK_PolarNonPolarEnergy: \u001b[0mlk_nonpolar eval_residue_pair_derivatives() appears off -- set your minimizer to use_nblist and *also* nblist_auto_update to use eval_atom_derivative instead.\n",
      "\u001b[0mcore.scoring.methods.LK_PolarNonPolarEnergy: \u001b[0mlk_nonpolar eval_residue_pair_derivatives() appears off -- set your minimizer to use_nblist and *also* nblist_auto_update to use eval_atom_derivative instead.\n",
      "\u001b[0mcore.scoring.methods.LK_PolarNonPolarEnergy: \u001b[0mlk_nonpolar eval_residue_pair_derivatives() appears off -- set your minimizer to use_nblist and *also* nblist_auto_update to use eval_atom_derivative instead.\n",
      "\u001b[0mcore.scoring.methods.LK_PolarNonPolarEnergy: \u001b[0mlk_nonpolar eval_residue_pair_derivatives() appears off -- set your minimizer to use_nblist and *also* nblist_auto_update to use eval_atom_derivative instead.\n",
      "\u001b[0mcore.scoring.methods.LK_PolarNonPolarEnergy: \u001b[0mlk_nonpolar eval_residue_pair_derivatives() appears off -- set your minimizer to use_nblist and *also* nblist_auto_update to use eval_atom_derivative instead.\n",
      "\u001b[0mcore.scoring.methods.LK_PolarNonPolarEnergy: \u001b[0mlk_nonpolar eval_residue_pair_derivatives() appears off -- set your minimizer to use_nblist and *also* nblist_auto_update to use eval_atom_derivative instead.\n",
      "\u001b[0mcore.scoring.methods.LK_PolarNonPolarEnergy: \u001b[0mlk_nonpolar eval_residue_pair_derivatives() appears off -- set your minimizer to use_nblist and *also* nblist_auto_update to use eval_atom_derivative instead.\n",
      "\u001b[0mcore.scoring.methods.LK_PolarNonPolarEnergy: \u001b[0mlk_nonpolar eval_residue_pair_derivatives() appears off -- set your minimizer to use_nblist and *also* nblist_auto_update to use eval_atom_derivative instead.\n",
      "\u001b[0mcore.scoring.methods.LK_PolarNonPolarEnergy: \u001b[0mlk_nonpolar eval_residue_pair_derivatives() appears off -- set your minimizer to use_nblist and *also* nblist_auto_update to use eval_atom_derivative instead.\n",
      "\u001b[0mcore.scoring.methods.LK_PolarNonPolarEnergy: \u001b[0mlk_nonpolar eval_residue_pair_derivatives() appears off -- set your minimizer to use_nblist and *also* nblist_auto_update to use eval_atom_derivative instead.\n",
      "\u001b[0mcore.scoring.methods.LK_PolarNonPolarEnergy: \u001b[0mlk_nonpolar eval_residue_pair_derivatives() appears off -- set your minimizer to use_nblist and *also* nblist_auto_update to use eval_atom_derivative instead.\n",
      "\u001b[0mcore.scoring.methods.LK_PolarNonPolarEnergy: \u001b[0mlk_nonpolar eval_residue_pair_derivatives() appears off -- set your minimizer to use_nblist and *also* nblist_auto_update to use eval_atom_derivative instead.\n",
      "\u001b[0mcore.scoring.methods.LK_PolarNonPolarEnergy: \u001b[0mlk_nonpolar eval_residue_pair_derivatives() appears off -- set your minimizer to use_nblist and *also* nblist_auto_update to use eval_atom_derivative instead.\n",
      "\u001b[0mcore.scoring.methods.LK_PolarNonPolarEnergy: \u001b[0mlk_nonpolar eval_residue_pair_derivatives() appears off -- set your minimizer to use_nblist and *also* nblist_auto_update to use eval_atom_derivative instead.\n",
      "\u001b[0mcore.scoring.methods.LK_PolarNonPolarEnergy: \u001b[0mlk_nonpolar eval_residue_pair_derivatives() appears off -- set your minimizer to use_nblist and *also* nblist_auto_update to use eval_atom_derivative instead.\n",
      "\u001b[0mcore.scoring.methods.LK_PolarNonPolarEnergy: \u001b[0mlk_nonpolar eval_residue_pair_derivatives() appears off -- set your minimizer to use_nblist and *also* nblist_auto_update to use eval_atom_derivative instead.\n",
      "\u001b[0mcore.scoring.methods.LK_PolarNonPolarEnergy: \u001b[0mlk_nonpolar eval_residue_pair_derivatives() appears off -- set your minimizer to use_nblist and *also* nblist_auto_update to use eval_atom_derivative instead.\n"
     ]
    },
    {
     "name": "stdout",
     "output_type": "stream",
     "text": [
      "\u001b[0mcore.scoring.methods.LK_PolarNonPolarEnergy: \u001b[0mlk_nonpolar eval_residue_pair_derivatives() appears off -- set your minimizer to use_nblist and *also* nblist_auto_update to use eval_atom_derivative instead.\n",
      "\u001b[0mcore.scoring.methods.LK_PolarNonPolarEnergy: \u001b[0mlk_nonpolar eval_residue_pair_derivatives() appears off -- set your minimizer to use_nblist and *also* nblist_auto_update to use eval_atom_derivative instead.\n",
      "\u001b[0mcore.scoring.methods.LK_PolarNonPolarEnergy: \u001b[0mlk_nonpolar eval_residue_pair_derivatives() appears off -- set your minimizer to use_nblist and *also* nblist_auto_update to use eval_atom_derivative instead.\n",
      "\u001b[0mcore.scoring.methods.LK_PolarNonPolarEnergy: \u001b[0mlk_nonpolar eval_residue_pair_derivatives() appears off -- set your minimizer to use_nblist and *also* nblist_auto_update to use eval_atom_derivative instead.\n",
      "\u001b[0mcore.scoring.methods.LK_PolarNonPolarEnergy: \u001b[0mlk_nonpolar eval_residue_pair_derivatives() appears off -- set your minimizer to use_nblist and *also* nblist_auto_update to use eval_atom_derivative instead.\n",
      "\u001b[0mcore.scoring.methods.LK_PolarNonPolarEnergy: \u001b[0mlk_nonpolar eval_residue_pair_derivatives() appears off -- set your minimizer to use_nblist and *also* nblist_auto_update to use eval_atom_derivative instead.\n",
      "\u001b[0mcore.scoring.methods.LK_PolarNonPolarEnergy: \u001b[0mlk_nonpolar eval_residue_pair_derivatives() appears off -- set your minimizer to use_nblist and *also* nblist_auto_update to use eval_atom_derivative instead.\n",
      "\u001b[0mcore.scoring.methods.LK_PolarNonPolarEnergy: \u001b[0mlk_nonpolar eval_residue_pair_derivatives() appears off -- set your minimizer to use_nblist and *also* nblist_auto_update to use eval_atom_derivative instead.\n",
      "\u001b[0mcore.scoring.methods.LK_PolarNonPolarEnergy: \u001b[0mlk_nonpolar eval_residue_pair_derivatives() appears off -- set your minimizer to use_nblist and *also* nblist_auto_update to use eval_atom_derivative instead.\n",
      "\u001b[0mcore.scoring.methods.LK_PolarNonPolarEnergy: \u001b[0mlk_nonpolar eval_residue_pair_derivatives() appears off -- set your minimizer to use_nblist and *also* nblist_auto_update to use eval_atom_derivative instead.\n",
      "\u001b[0mcore.scoring.methods.LK_PolarNonPolarEnergy: \u001b[0mlk_nonpolar eval_residue_pair_derivatives() appears off -- set your minimizer to use_nblist and *also* nblist_auto_update to use eval_atom_derivative instead.\n",
      "\u001b[0mcore.scoring.methods.LK_PolarNonPolarEnergy: \u001b[0mlk_nonpolar eval_residue_pair_derivatives() appears off -- set your minimizer to use_nblist and *also* nblist_auto_update to use eval_atom_derivative instead.\n",
      "\u001b[0mcore.scoring.methods.LK_PolarNonPolarEnergy: \u001b[0mlk_nonpolar eval_residue_pair_derivatives() appears off -- set your minimizer to use_nblist and *also* nblist_auto_update to use eval_atom_derivative instead.\n",
      "\u001b[0mcore.scoring.methods.LK_PolarNonPolarEnergy: \u001b[0mlk_nonpolar eval_residue_pair_derivatives() appears off -- set your minimizer to use_nblist and *also* nblist_auto_update to use eval_atom_derivative instead.\n",
      "\u001b[0mcore.scoring.methods.LK_PolarNonPolarEnergy: \u001b[0mlk_nonpolar eval_residue_pair_derivatives() appears off -- set your minimizer to use_nblist and *also* nblist_auto_update to use eval_atom_derivative instead.\n",
      "\u001b[0mcore.scoring.methods.LK_PolarNonPolarEnergy: \u001b[0mlk_nonpolar eval_residue_pair_derivatives() appears off -- set your minimizer to use_nblist and *also* nblist_auto_update to use eval_atom_derivative instead.\n",
      "\u001b[0mcore.scoring.methods.LK_PolarNonPolarEnergy: \u001b[0mlk_nonpolar eval_residue_pair_derivatives() appears off -- set your minimizer to use_nblist and *also* nblist_auto_update to use eval_atom_derivative instead.\n",
      "\u001b[0mcore.scoring.methods.LK_PolarNonPolarEnergy: \u001b[0mlk_nonpolar eval_residue_pair_derivatives() appears off -- set your minimizer to use_nblist and *also* nblist_auto_update to use eval_atom_derivative instead.\n",
      "\u001b[0mcore.scoring.methods.LK_PolarNonPolarEnergy: \u001b[0mlk_nonpolar eval_residue_pair_derivatives() appears off -- set your minimizer to use_nblist and *also* nblist_auto_update to use eval_atom_derivative instead.\n",
      "\u001b[0mcore.scoring.methods.LK_PolarNonPolarEnergy: \u001b[0mlk_nonpolar eval_residue_pair_derivatives() appears off -- set your minimizer to use_nblist and *also* nblist_auto_update to use eval_atom_derivative instead.\n",
      "\u001b[0mcore.scoring.methods.LK_PolarNonPolarEnergy: \u001b[0mlk_nonpolar eval_residue_pair_derivatives() appears off -- set your minimizer to use_nblist and *also* nblist_auto_update to use eval_atom_derivative instead.\n",
      "\u001b[0mcore.scoring.methods.LK_PolarNonPolarEnergy: \u001b[0mlk_nonpolar eval_residue_pair_derivatives() appears off -- set your minimizer to use_nblist and *also* nblist_auto_update to use eval_atom_derivative instead.\n",
      "\u001b[0mcore.scoring.methods.LK_PolarNonPolarEnergy: \u001b[0mlk_nonpolar eval_residue_pair_derivatives() appears off -- set your minimizer to use_nblist and *also* nblist_auto_update to use eval_atom_derivative instead.\n",
      "\u001b[0mcore.scoring.methods.LK_PolarNonPolarEnergy: \u001b[0mlk_nonpolar eval_residue_pair_derivatives() appears off -- set your minimizer to use_nblist and *also* nblist_auto_update to use eval_atom_derivative instead.\n",
      "\u001b[0mcore.scoring.methods.LK_PolarNonPolarEnergy: \u001b[0mlk_nonpolar eval_residue_pair_derivatives() appears off -- set your minimizer to use_nblist and *also* nblist_auto_update to use eval_atom_derivative instead.\n",
      "\u001b[0mcore.scoring.methods.LK_PolarNonPolarEnergy: \u001b[0mlk_nonpolar eval_residue_pair_derivatives() appears off -- set your minimizer to use_nblist and *also* nblist_auto_update to use eval_atom_derivative instead.\n",
      "\u001b[0mcore.scoring.methods.LK_PolarNonPolarEnergy: \u001b[0mlk_nonpolar eval_residue_pair_derivatives() appears off -- set your minimizer to use_nblist and *also* nblist_auto_update to use eval_atom_derivative instead.\n",
      "\u001b[0mcore.scoring.methods.LK_PolarNonPolarEnergy: \u001b[0mlk_nonpolar eval_residue_pair_derivatives() appears off -- set your minimizer to use_nblist and *also* nblist_auto_update to use eval_atom_derivative instead.\n",
      "\u001b[0mcore.scoring.methods.LK_PolarNonPolarEnergy: \u001b[0mlk_nonpolar eval_residue_pair_derivatives() appears off -- set your minimizer to use_nblist and *also* nblist_auto_update to use eval_atom_derivative instead.\n",
      "\u001b[0mcore.scoring.methods.LK_PolarNonPolarEnergy: \u001b[0mlk_nonpolar eval_residue_pair_derivatives() appears off -- set your minimizer to use_nblist and *also* nblist_auto_update to use eval_atom_derivative instead.\n",
      "\u001b[0mcore.scoring.methods.LK_PolarNonPolarEnergy: \u001b[0mlk_nonpolar eval_residue_pair_derivatives() appears off -- set your minimizer to use_nblist and *also* nblist_auto_update to use eval_atom_derivative instead.\n",
      "\u001b[0mcore.scoring.methods.LK_PolarNonPolarEnergy: \u001b[0mlk_nonpolar eval_residue_pair_derivatives() appears off -- set your minimizer to use_nblist and *also* nblist_auto_update to use eval_atom_derivative instead.\n",
      "\u001b[0mcore.scoring.methods.LK_PolarNonPolarEnergy: \u001b[0mlk_nonpolar eval_residue_pair_derivatives() appears off -- set your minimizer to use_nblist and *also* nblist_auto_update to use eval_atom_derivative instead.\n",
      "\u001b[0mcore.scoring.methods.LK_PolarNonPolarEnergy: \u001b[0mlk_nonpolar eval_residue_pair_derivatives() appears off -- set your minimizer to use_nblist and *also* nblist_auto_update to use eval_atom_derivative instead.\n",
      "\u001b[0mcore.scoring.methods.LK_PolarNonPolarEnergy: \u001b[0mlk_nonpolar eval_residue_pair_derivatives() appears off -- set your minimizer to use_nblist and *also* nblist_auto_update to use eval_atom_derivative instead.\n",
      "\u001b[0mcore.scoring.methods.LK_PolarNonPolarEnergy: \u001b[0mlk_nonpolar eval_residue_pair_derivatives() appears off -- set your minimizer to use_nblist and *also* nblist_auto_update to use eval_atom_derivative instead.\n",
      "\u001b[0mcore.scoring.methods.LK_PolarNonPolarEnergy: \u001b[0mlk_nonpolar eval_residue_pair_derivatives() appears off -- set your minimizer to use_nblist and *also* nblist_auto_update to use eval_atom_derivative instead.\n",
      "\u001b[0mcore.scoring.methods.LK_PolarNonPolarEnergy: \u001b[0mlk_nonpolar eval_residue_pair_derivatives() appears off -- set your minimizer to use_nblist and *also* nblist_auto_update to use eval_atom_derivative instead.\n",
      "\u001b[0mcore.scoring.methods.LK_PolarNonPolarEnergy: \u001b[0mlk_nonpolar eval_residue_pair_derivatives() appears off -- set your minimizer to use_nblist and *also* nblist_auto_update to use eval_atom_derivative instead.\n"
     ]
    },
    {
     "name": "stdout",
     "output_type": "stream",
     "text": [
      "\u001b[0mcore.scoring.methods.LK_PolarNonPolarEnergy: \u001b[0mlk_nonpolar eval_residue_pair_derivatives() appears off -- set your minimizer to use_nblist and *also* nblist_auto_update to use eval_atom_derivative instead.\n",
      "\u001b[0mcore.scoring.methods.LK_PolarNonPolarEnergy: \u001b[0mlk_nonpolar eval_residue_pair_derivatives() appears off -- set your minimizer to use_nblist and *also* nblist_auto_update to use eval_atom_derivative instead.\n",
      "\u001b[0mcore.scoring.methods.LK_PolarNonPolarEnergy: \u001b[0mlk_nonpolar eval_residue_pair_derivatives() appears off -- set your minimizer to use_nblist and *also* nblist_auto_update to use eval_atom_derivative instead.\n",
      "\u001b[0mcore.scoring.methods.LK_PolarNonPolarEnergy: \u001b[0mlk_nonpolar eval_residue_pair_derivatives() appears off -- set your minimizer to use_nblist and *also* nblist_auto_update to use eval_atom_derivative instead.\n",
      "\u001b[0mcore.scoring.methods.LK_PolarNonPolarEnergy: \u001b[0mlk_nonpolar eval_residue_pair_derivatives() appears off -- set your minimizer to use_nblist and *also* nblist_auto_update to use eval_atom_derivative instead.\n",
      "\u001b[0mcore.scoring.methods.LK_PolarNonPolarEnergy: \u001b[0mlk_nonpolar eval_residue_pair_derivatives() appears off -- set your minimizer to use_nblist and *also* nblist_auto_update to use eval_atom_derivative instead.\n",
      "\u001b[0mcore.scoring.methods.LK_PolarNonPolarEnergy: \u001b[0mlk_nonpolar eval_residue_pair_derivatives() appears off -- set your minimizer to use_nblist and *also* nblist_auto_update to use eval_atom_derivative instead.\n",
      "\u001b[0mcore.scoring.methods.LK_PolarNonPolarEnergy: \u001b[0mlk_nonpolar eval_residue_pair_derivatives() appears off -- set your minimizer to use_nblist and *also* nblist_auto_update to use eval_atom_derivative instead.\n",
      "\u001b[0mcore.scoring.methods.LK_PolarNonPolarEnergy: \u001b[0mlk_nonpolar eval_residue_pair_derivatives() appears off -- set your minimizer to use_nblist and *also* nblist_auto_update to use eval_atom_derivative instead.\n",
      "\u001b[0mcore.scoring.methods.LK_PolarNonPolarEnergy: \u001b[0mlk_nonpolar eval_residue_pair_derivatives() appears off -- set your minimizer to use_nblist and *also* nblist_auto_update to use eval_atom_derivative instead.\n",
      "\u001b[0mcore.scoring.methods.LK_PolarNonPolarEnergy: \u001b[0mlk_nonpolar eval_residue_pair_derivatives() appears off -- set your minimizer to use_nblist and *also* nblist_auto_update to use eval_atom_derivative instead.\n",
      "\u001b[0mcore.scoring.methods.LK_PolarNonPolarEnergy: \u001b[0mlk_nonpolar eval_residue_pair_derivatives() appears off -- set your minimizer to use_nblist and *also* nblist_auto_update to use eval_atom_derivative instead.\n",
      "\u001b[0mcore.scoring.methods.LK_PolarNonPolarEnergy: \u001b[0mlk_nonpolar eval_residue_pair_derivatives() appears off -- set your minimizer to use_nblist and *also* nblist_auto_update to use eval_atom_derivative instead.\n",
      "\u001b[0mcore.scoring.methods.LK_PolarNonPolarEnergy: \u001b[0mlk_nonpolar eval_residue_pair_derivatives() appears off -- set your minimizer to use_nblist and *also* nblist_auto_update to use eval_atom_derivative instead.\n",
      "\u001b[0mcore.scoring.methods.LK_PolarNonPolarEnergy: \u001b[0mlk_nonpolar eval_residue_pair_derivatives() appears off -- set your minimizer to use_nblist and *also* nblist_auto_update to use eval_atom_derivative instead.\n",
      "\u001b[0mcore.scoring.methods.LK_PolarNonPolarEnergy: \u001b[0mlk_nonpolar eval_residue_pair_derivatives() appears off -- set your minimizer to use_nblist and *also* nblist_auto_update to use eval_atom_derivative instead.\n",
      "\u001b[0mcore.scoring.methods.LK_PolarNonPolarEnergy: \u001b[0mlk_nonpolar eval_residue_pair_derivatives() appears off -- set your minimizer to use_nblist and *also* nblist_auto_update to use eval_atom_derivative instead.\n",
      "\u001b[0mcore.scoring.methods.LK_PolarNonPolarEnergy: \u001b[0mlk_nonpolar eval_residue_pair_derivatives() appears off -- set your minimizer to use_nblist and *also* nblist_auto_update to use eval_atom_derivative instead.\n",
      "\u001b[0mcore.scoring.methods.LK_PolarNonPolarEnergy: \u001b[0mlk_nonpolar eval_residue_pair_derivatives() appears off -- set your minimizer to use_nblist and *also* nblist_auto_update to use eval_atom_derivative instead.\n",
      "\u001b[0mcore.scoring.methods.LK_PolarNonPolarEnergy: \u001b[0mlk_nonpolar eval_residue_pair_derivatives() appears off -- set your minimizer to use_nblist and *also* nblist_auto_update to use eval_atom_derivative instead.\n",
      "\u001b[0mcore.scoring.methods.LK_PolarNonPolarEnergy: \u001b[0mlk_nonpolar eval_residue_pair_derivatives() appears off -- set your minimizer to use_nblist and *also* nblist_auto_update to use eval_atom_derivative instead.\n",
      "\u001b[0mcore.scoring.methods.LK_PolarNonPolarEnergy: \u001b[0mlk_nonpolar eval_residue_pair_derivatives() appears off -- set your minimizer to use_nblist and *also* nblist_auto_update to use eval_atom_derivative instead.\n",
      "\u001b[0mcore.scoring.methods.LK_PolarNonPolarEnergy: \u001b[0mlk_nonpolar eval_residue_pair_derivatives() appears off -- set your minimizer to use_nblist and *also* nblist_auto_update to use eval_atom_derivative instead.\n",
      "\u001b[0mcore.scoring.methods.LK_PolarNonPolarEnergy: \u001b[0mlk_nonpolar eval_residue_pair_derivatives() appears off -- set your minimizer to use_nblist and *also* nblist_auto_update to use eval_atom_derivative instead.\n",
      "\u001b[0mcore.scoring.methods.LK_PolarNonPolarEnergy: \u001b[0mlk_nonpolar eval_residue_pair_derivatives() appears off -- set your minimizer to use_nblist and *also* nblist_auto_update to use eval_atom_derivative instead.\n",
      "\u001b[0mcore.scoring.methods.LK_PolarNonPolarEnergy: \u001b[0mlk_nonpolar eval_residue_pair_derivatives() appears off -- set your minimizer to use_nblist and *also* nblist_auto_update to use eval_atom_derivative instead.\n",
      "\u001b[0mcore.scoring.methods.LK_PolarNonPolarEnergy: \u001b[0mlk_nonpolar eval_residue_pair_derivatives() appears off -- set your minimizer to use_nblist and *also* nblist_auto_update to use eval_atom_derivative instead.\n",
      "\u001b[0mcore.scoring.methods.LK_PolarNonPolarEnergy: \u001b[0mlk_nonpolar eval_residue_pair_derivatives() appears off -- set your minimizer to use_nblist and *also* nblist_auto_update to use eval_atom_derivative instead.\n",
      "\u001b[0mcore.scoring.methods.LK_PolarNonPolarEnergy: \u001b[0mlk_nonpolar eval_residue_pair_derivatives() appears off -- set your minimizer to use_nblist and *also* nblist_auto_update to use eval_atom_derivative instead.\n",
      "\u001b[0mcore.scoring.methods.LK_PolarNonPolarEnergy: \u001b[0mlk_nonpolar eval_residue_pair_derivatives() appears off -- set your minimizer to use_nblist and *also* nblist_auto_update to use eval_atom_derivative instead.\n",
      "\u001b[0mcore.scoring.methods.LK_PolarNonPolarEnergy: \u001b[0mlk_nonpolar eval_residue_pair_derivatives() appears off -- set your minimizer to use_nblist and *also* nblist_auto_update to use eval_atom_derivative instead.\n",
      "\u001b[0mcore.scoring.methods.LK_PolarNonPolarEnergy: \u001b[0mlk_nonpolar eval_residue_pair_derivatives() appears off -- set your minimizer to use_nblist and *also* nblist_auto_update to use eval_atom_derivative instead.\n",
      "\u001b[0mcore.scoring.methods.LK_PolarNonPolarEnergy: \u001b[0mlk_nonpolar eval_residue_pair_derivatives() appears off -- set your minimizer to use_nblist and *also* nblist_auto_update to use eval_atom_derivative instead.\n",
      "\u001b[0mcore.scoring.methods.LK_PolarNonPolarEnergy: \u001b[0mlk_nonpolar eval_residue_pair_derivatives() appears off -- set your minimizer to use_nblist and *also* nblist_auto_update to use eval_atom_derivative instead.\n",
      "\u001b[0mcore.scoring.methods.LK_PolarNonPolarEnergy: \u001b[0mlk_nonpolar eval_residue_pair_derivatives() appears off -- set your minimizer to use_nblist and *also* nblist_auto_update to use eval_atom_derivative instead.\n",
      "\u001b[0mcore.scoring.methods.LK_PolarNonPolarEnergy: \u001b[0mlk_nonpolar eval_residue_pair_derivatives() appears off -- set your minimizer to use_nblist and *also* nblist_auto_update to use eval_atom_derivative instead.\n",
      "\u001b[0mcore.scoring.methods.LK_PolarNonPolarEnergy: \u001b[0mlk_nonpolar eval_residue_pair_derivatives() appears off -- set your minimizer to use_nblist and *also* nblist_auto_update to use eval_atom_derivative instead.\n",
      "\u001b[0mcore.scoring.methods.LK_PolarNonPolarEnergy: \u001b[0mlk_nonpolar eval_residue_pair_derivatives() appears off -- set your minimizer to use_nblist and *also* nblist_auto_update to use eval_atom_derivative instead.\n",
      "\u001b[0mcore.scoring.methods.LK_PolarNonPolarEnergy: \u001b[0mlk_nonpolar eval_residue_pair_derivatives() appears off -- set your minimizer to use_nblist and *also* nblist_auto_update to use eval_atom_derivative instead.\n"
     ]
    },
    {
     "name": "stdout",
     "output_type": "stream",
     "text": [
      "\u001b[0mcore.scoring.methods.LK_PolarNonPolarEnergy: \u001b[0mlk_nonpolar eval_residue_pair_derivatives() appears off -- set your minimizer to use_nblist and *also* nblist_auto_update to use eval_atom_derivative instead.\n",
      "\u001b[0mcore.scoring.methods.LK_PolarNonPolarEnergy: \u001b[0mlk_nonpolar eval_residue_pair_derivatives() appears off -- set your minimizer to use_nblist and *also* nblist_auto_update to use eval_atom_derivative instead.\n",
      "\u001b[0mcore.scoring.methods.LK_PolarNonPolarEnergy: \u001b[0mlk_nonpolar eval_residue_pair_derivatives() appears off -- set your minimizer to use_nblist and *also* nblist_auto_update to use eval_atom_derivative instead.\n",
      "\u001b[0mcore.scoring.methods.LK_PolarNonPolarEnergy: \u001b[0mlk_nonpolar eval_residue_pair_derivatives() appears off -- set your minimizer to use_nblist and *also* nblist_auto_update to use eval_atom_derivative instead.\n",
      "\u001b[0mcore.scoring.methods.LK_PolarNonPolarEnergy: \u001b[0mlk_nonpolar eval_residue_pair_derivatives() appears off -- set your minimizer to use_nblist and *also* nblist_auto_update to use eval_atom_derivative instead.\n",
      "\u001b[0mcore.scoring.methods.LK_PolarNonPolarEnergy: \u001b[0mlk_nonpolar eval_residue_pair_derivatives() appears off -- set your minimizer to use_nblist and *also* nblist_auto_update to use eval_atom_derivative instead.\n",
      "\u001b[0mcore.scoring.methods.LK_PolarNonPolarEnergy: \u001b[0mlk_nonpolar eval_residue_pair_derivatives() appears off -- set your minimizer to use_nblist and *also* nblist_auto_update to use eval_atom_derivative instead.\n",
      "\u001b[0mcore.scoring.methods.LK_PolarNonPolarEnergy: \u001b[0mlk_nonpolar eval_residue_pair_derivatives() appears off -- set your minimizer to use_nblist and *also* nblist_auto_update to use eval_atom_derivative instead.\n",
      "\u001b[0mcore.scoring.methods.LK_PolarNonPolarEnergy: \u001b[0mlk_nonpolar eval_residue_pair_derivatives() appears off -- set your minimizer to use_nblist and *also* nblist_auto_update to use eval_atom_derivative instead.\n",
      "\u001b[0mcore.scoring.methods.LK_PolarNonPolarEnergy: \u001b[0mlk_nonpolar eval_residue_pair_derivatives() appears off -- set your minimizer to use_nblist and *also* nblist_auto_update to use eval_atom_derivative instead.\n",
      "\u001b[0mcore.scoring.methods.LK_PolarNonPolarEnergy: \u001b[0mlk_nonpolar eval_residue_pair_derivatives() appears off -- set your minimizer to use_nblist and *also* nblist_auto_update to use eval_atom_derivative instead.\n",
      "\u001b[0mcore.scoring.methods.LK_PolarNonPolarEnergy: \u001b[0mlk_nonpolar eval_residue_pair_derivatives() appears off -- set your minimizer to use_nblist and *also* nblist_auto_update to use eval_atom_derivative instead.\n",
      "\u001b[0mcore.scoring.methods.LK_PolarNonPolarEnergy: \u001b[0mlk_nonpolar eval_residue_pair_derivatives() appears off -- set your minimizer to use_nblist and *also* nblist_auto_update to use eval_atom_derivative instead.\n",
      "\u001b[0mcore.scoring.methods.LK_PolarNonPolarEnergy: \u001b[0mlk_nonpolar eval_residue_pair_derivatives() appears off -- set your minimizer to use_nblist and *also* nblist_auto_update to use eval_atom_derivative instead.\n",
      "\u001b[0mcore.scoring.methods.LK_PolarNonPolarEnergy: \u001b[0mlk_nonpolar eval_residue_pair_derivatives() appears off -- set your minimizer to use_nblist and *also* nblist_auto_update to use eval_atom_derivative instead.\n",
      "\u001b[0mcore.scoring.methods.LK_PolarNonPolarEnergy: \u001b[0mlk_nonpolar eval_residue_pair_derivatives() appears off -- set your minimizer to use_nblist and *also* nblist_auto_update to use eval_atom_derivative instead.\n",
      "\u001b[0mcore.scoring.methods.LK_PolarNonPolarEnergy: \u001b[0mlk_nonpolar eval_residue_pair_derivatives() appears off -- set your minimizer to use_nblist and *also* nblist_auto_update to use eval_atom_derivative instead.\n",
      "\u001b[0mcore.scoring.methods.LK_PolarNonPolarEnergy: \u001b[0mlk_nonpolar eval_residue_pair_derivatives() appears off -- set your minimizer to use_nblist and *also* nblist_auto_update to use eval_atom_derivative instead.\n",
      "\u001b[0mcore.scoring.methods.LK_PolarNonPolarEnergy: \u001b[0mlk_nonpolar eval_residue_pair_derivatives() appears off -- set your minimizer to use_nblist and *also* nblist_auto_update to use eval_atom_derivative instead.\n",
      "\u001b[0mcore.scoring.methods.LK_PolarNonPolarEnergy: \u001b[0mlk_nonpolar eval_residue_pair_derivatives() appears off -- set your minimizer to use_nblist and *also* nblist_auto_update to use eval_atom_derivative instead.\n",
      "\u001b[0mcore.scoring.methods.LK_PolarNonPolarEnergy: \u001b[0mlk_nonpolar eval_residue_pair_derivatives() appears off -- set your minimizer to use_nblist and *also* nblist_auto_update to use eval_atom_derivative instead.\n",
      "\u001b[0mcore.scoring.methods.LK_PolarNonPolarEnergy: \u001b[0mlk_nonpolar eval_residue_pair_derivatives() appears off -- set your minimizer to use_nblist and *also* nblist_auto_update to use eval_atom_derivative instead.\n",
      "\u001b[0mcore.scoring.methods.LK_PolarNonPolarEnergy: \u001b[0mlk_nonpolar eval_residue_pair_derivatives() appears off -- set your minimizer to use_nblist and *also* nblist_auto_update to use eval_atom_derivative instead.\n",
      "\u001b[0mcore.scoring.methods.LK_PolarNonPolarEnergy: \u001b[0mlk_nonpolar eval_residue_pair_derivatives() appears off -- set your minimizer to use_nblist and *also* nblist_auto_update to use eval_atom_derivative instead.\n",
      "\u001b[0mcore.scoring.methods.LK_PolarNonPolarEnergy: \u001b[0mlk_nonpolar eval_residue_pair_derivatives() appears off -- set your minimizer to use_nblist and *also* nblist_auto_update to use eval_atom_derivative instead.\n",
      "\u001b[0mcore.scoring.methods.LK_PolarNonPolarEnergy: \u001b[0mlk_nonpolar eval_residue_pair_derivatives() appears off -- set your minimizer to use_nblist and *also* nblist_auto_update to use eval_atom_derivative instead.\n",
      "\u001b[0mcore.scoring.methods.LK_PolarNonPolarEnergy: \u001b[0mlk_nonpolar eval_residue_pair_derivatives() appears off -- set your minimizer to use_nblist and *also* nblist_auto_update to use eval_atom_derivative instead.\n",
      "\u001b[0mcore.scoring.methods.LK_PolarNonPolarEnergy: \u001b[0mlk_nonpolar eval_residue_pair_derivatives() appears off -- set your minimizer to use_nblist and *also* nblist_auto_update to use eval_atom_derivative instead.\n",
      "\u001b[0mcore.scoring.methods.LK_PolarNonPolarEnergy: \u001b[0mlk_nonpolar eval_residue_pair_derivatives() appears off -- set your minimizer to use_nblist and *also* nblist_auto_update to use eval_atom_derivative instead.\n",
      "\u001b[0mcore.scoring.methods.LK_PolarNonPolarEnergy: \u001b[0mlk_nonpolar eval_residue_pair_derivatives() appears off -- set your minimizer to use_nblist and *also* nblist_auto_update to use eval_atom_derivative instead.\n",
      "\u001b[0mcore.scoring.methods.LK_PolarNonPolarEnergy: \u001b[0mlk_nonpolar eval_residue_pair_derivatives() appears off -- set your minimizer to use_nblist and *also* nblist_auto_update to use eval_atom_derivative instead.\n",
      "\u001b[0mcore.scoring.methods.LK_PolarNonPolarEnergy: \u001b[0mlk_nonpolar eval_residue_pair_derivatives() appears off -- set your minimizer to use_nblist and *also* nblist_auto_update to use eval_atom_derivative instead.\n",
      "\u001b[0mcore.scoring.methods.LK_PolarNonPolarEnergy: \u001b[0mlk_nonpolar eval_residue_pair_derivatives() appears off -- set your minimizer to use_nblist and *also* nblist_auto_update to use eval_atom_derivative instead.\n",
      "\u001b[0mcore.scoring.methods.LK_PolarNonPolarEnergy: \u001b[0mlk_nonpolar eval_residue_pair_derivatives() appears off -- set your minimizer to use_nblist and *also* nblist_auto_update to use eval_atom_derivative instead.\n",
      "\u001b[0mcore.scoring.methods.LK_PolarNonPolarEnergy: \u001b[0mlk_nonpolar eval_residue_pair_derivatives() appears off -- set your minimizer to use_nblist and *also* nblist_auto_update to use eval_atom_derivative instead.\n",
      "\u001b[0mcore.scoring.methods.LK_PolarNonPolarEnergy: \u001b[0mlk_nonpolar eval_residue_pair_derivatives() appears off -- set your minimizer to use_nblist and *also* nblist_auto_update to use eval_atom_derivative instead.\n",
      "\u001b[0mcore.scoring.methods.LK_PolarNonPolarEnergy: \u001b[0mlk_nonpolar eval_residue_pair_derivatives() appears off -- set your minimizer to use_nblist and *also* nblist_auto_update to use eval_atom_derivative instead.\n",
      "\u001b[0mcore.scoring.methods.LK_PolarNonPolarEnergy: \u001b[0mlk_nonpolar eval_residue_pair_derivatives() appears off -- set your minimizer to use_nblist and *also* nblist_auto_update to use eval_atom_derivative instead.\n",
      "\u001b[0mcore.scoring.methods.LK_PolarNonPolarEnergy: \u001b[0mlk_nonpolar eval_residue_pair_derivatives() appears off -- set your minimizer to use_nblist and *also* nblist_auto_update to use eval_atom_derivative instead.\n"
     ]
    },
    {
     "name": "stdout",
     "output_type": "stream",
     "text": [
      "\u001b[0mcore.scoring.methods.LK_PolarNonPolarEnergy: \u001b[0mlk_nonpolar eval_residue_pair_derivatives() appears off -- set your minimizer to use_nblist and *also* nblist_auto_update to use eval_atom_derivative instead.\n",
      "\u001b[0mcore.scoring.methods.LK_PolarNonPolarEnergy: \u001b[0mlk_nonpolar eval_residue_pair_derivatives() appears off -- set your minimizer to use_nblist and *also* nblist_auto_update to use eval_atom_derivative instead.\n",
      "\u001b[0mcore.scoring.methods.LK_PolarNonPolarEnergy: \u001b[0mlk_nonpolar eval_residue_pair_derivatives() appears off -- set your minimizer to use_nblist and *also* nblist_auto_update to use eval_atom_derivative instead.\n",
      "\u001b[0mcore.scoring.methods.LK_PolarNonPolarEnergy: \u001b[0mlk_nonpolar eval_residue_pair_derivatives() appears off -- set your minimizer to use_nblist and *also* nblist_auto_update to use eval_atom_derivative instead.\n",
      "\u001b[0mcore.scoring.methods.LK_PolarNonPolarEnergy: \u001b[0mlk_nonpolar eval_residue_pair_derivatives() appears off -- set your minimizer to use_nblist and *also* nblist_auto_update to use eval_atom_derivative instead.\n",
      "\u001b[0mcore.scoring.methods.LK_PolarNonPolarEnergy: \u001b[0mlk_nonpolar eval_residue_pair_derivatives() appears off -- set your minimizer to use_nblist and *also* nblist_auto_update to use eval_atom_derivative instead.\n",
      "\u001b[0mcore.scoring.methods.LK_PolarNonPolarEnergy: \u001b[0mlk_nonpolar eval_residue_pair_derivatives() appears off -- set your minimizer to use_nblist and *also* nblist_auto_update to use eval_atom_derivative instead.\n",
      "\u001b[0mcore.scoring.methods.LK_PolarNonPolarEnergy: \u001b[0mlk_nonpolar eval_residue_pair_derivatives() appears off -- set your minimizer to use_nblist and *also* nblist_auto_update to use eval_atom_derivative instead.\n",
      "\u001b[0mcore.scoring.methods.LK_PolarNonPolarEnergy: \u001b[0mlk_nonpolar eval_residue_pair_derivatives() appears off -- set your minimizer to use_nblist and *also* nblist_auto_update to use eval_atom_derivative instead.\n",
      "\u001b[0mcore.scoring.methods.LK_PolarNonPolarEnergy: \u001b[0mlk_nonpolar eval_residue_pair_derivatives() appears off -- set your minimizer to use_nblist and *also* nblist_auto_update to use eval_atom_derivative instead.\n",
      "\u001b[0mcore.scoring.methods.LK_PolarNonPolarEnergy: \u001b[0mlk_nonpolar eval_residue_pair_derivatives() appears off -- set your minimizer to use_nblist and *also* nblist_auto_update to use eval_atom_derivative instead.\n",
      "\u001b[0mcore.scoring.methods.LK_PolarNonPolarEnergy: \u001b[0mlk_nonpolar eval_residue_pair_derivatives() appears off -- set your minimizer to use_nblist and *also* nblist_auto_update to use eval_atom_derivative instead.\n",
      "\u001b[0mcore.scoring.methods.LK_PolarNonPolarEnergy: \u001b[0mlk_nonpolar eval_residue_pair_derivatives() appears off -- set your minimizer to use_nblist and *also* nblist_auto_update to use eval_atom_derivative instead.\n",
      "\u001b[0mcore.scoring.methods.LK_PolarNonPolarEnergy: \u001b[0mlk_nonpolar eval_residue_pair_derivatives() appears off -- set your minimizer to use_nblist and *also* nblist_auto_update to use eval_atom_derivative instead.\n",
      "\u001b[0mcore.scoring.methods.LK_PolarNonPolarEnergy: \u001b[0mlk_nonpolar eval_residue_pair_derivatives() appears off -- set your minimizer to use_nblist and *also* nblist_auto_update to use eval_atom_derivative instead.\n",
      "\u001b[0mcore.scoring.methods.LK_PolarNonPolarEnergy: \u001b[0mlk_nonpolar eval_residue_pair_derivatives() appears off -- set your minimizer to use_nblist and *also* nblist_auto_update to use eval_atom_derivative instead.\n",
      "\u001b[0mcore.scoring.methods.LK_PolarNonPolarEnergy: \u001b[0mlk_nonpolar eval_residue_pair_derivatives() appears off -- set your minimizer to use_nblist and *also* nblist_auto_update to use eval_atom_derivative instead.\n",
      "\u001b[0mcore.scoring.methods.LK_PolarNonPolarEnergy: \u001b[0mlk_nonpolar eval_residue_pair_derivatives() appears off -- set your minimizer to use_nblist and *also* nblist_auto_update to use eval_atom_derivative instead.\n",
      "\u001b[0mcore.scoring.methods.LK_PolarNonPolarEnergy: \u001b[0mlk_nonpolar eval_residue_pair_derivatives() appears off -- set your minimizer to use_nblist and *also* nblist_auto_update to use eval_atom_derivative instead.\n",
      "\u001b[0mcore.scoring.methods.LK_PolarNonPolarEnergy: \u001b[0mlk_nonpolar eval_residue_pair_derivatives() appears off -- set your minimizer to use_nblist and *also* nblist_auto_update to use eval_atom_derivative instead.\n",
      "\u001b[0mcore.scoring.methods.LK_PolarNonPolarEnergy: \u001b[0mlk_nonpolar eval_residue_pair_derivatives() appears off -- set your minimizer to use_nblist and *also* nblist_auto_update to use eval_atom_derivative instead.\n",
      "\u001b[0mcore.scoring.methods.LK_PolarNonPolarEnergy: \u001b[0mlk_nonpolar eval_residue_pair_derivatives() appears off -- set your minimizer to use_nblist and *also* nblist_auto_update to use eval_atom_derivative instead.\n",
      "\u001b[0mcore.scoring.methods.LK_PolarNonPolarEnergy: \u001b[0mlk_nonpolar eval_residue_pair_derivatives() appears off -- set your minimizer to use_nblist and *also* nblist_auto_update to use eval_atom_derivative instead.\n",
      "\u001b[0mcore.scoring.methods.LK_PolarNonPolarEnergy: \u001b[0mlk_nonpolar eval_residue_pair_derivatives() appears off -- set your minimizer to use_nblist and *also* nblist_auto_update to use eval_atom_derivative instead.\n",
      "\u001b[0mcore.scoring.methods.LK_PolarNonPolarEnergy: \u001b[0mlk_nonpolar eval_residue_pair_derivatives() appears off -- set your minimizer to use_nblist and *also* nblist_auto_update to use eval_atom_derivative instead.\n",
      "\u001b[0mcore.scoring.methods.LK_PolarNonPolarEnergy: \u001b[0mlk_nonpolar eval_residue_pair_derivatives() appears off -- set your minimizer to use_nblist and *also* nblist_auto_update to use eval_atom_derivative instead.\n",
      "\u001b[0mcore.scoring.methods.LK_PolarNonPolarEnergy: \u001b[0mlk_nonpolar eval_residue_pair_derivatives() appears off -- set your minimizer to use_nblist and *also* nblist_auto_update to use eval_atom_derivative instead.\n",
      "\u001b[0mcore.scoring.methods.LK_PolarNonPolarEnergy: \u001b[0mlk_nonpolar eval_residue_pair_derivatives() appears off -- set your minimizer to use_nblist and *also* nblist_auto_update to use eval_atom_derivative instead.\n",
      "\u001b[0mcore.scoring.methods.LK_PolarNonPolarEnergy: \u001b[0mlk_nonpolar eval_residue_pair_derivatives() appears off -- set your minimizer to use_nblist and *also* nblist_auto_update to use eval_atom_derivative instead.\n",
      "\u001b[0mcore.scoring.methods.LK_PolarNonPolarEnergy: \u001b[0mlk_nonpolar eval_residue_pair_derivatives() appears off -- set your minimizer to use_nblist and *also* nblist_auto_update to use eval_atom_derivative instead.\n",
      "\u001b[0mcore.scoring.methods.LK_PolarNonPolarEnergy: \u001b[0mlk_nonpolar eval_residue_pair_derivatives() appears off -- set your minimizer to use_nblist and *also* nblist_auto_update to use eval_atom_derivative instead.\n",
      "\u001b[0mcore.scoring.methods.LK_PolarNonPolarEnergy: \u001b[0mlk_nonpolar eval_residue_pair_derivatives() appears off -- set your minimizer to use_nblist and *also* nblist_auto_update to use eval_atom_derivative instead.\n",
      "\u001b[0mcore.scoring.methods.LK_PolarNonPolarEnergy: \u001b[0mlk_nonpolar eval_residue_pair_derivatives() appears off -- set your minimizer to use_nblist and *also* nblist_auto_update to use eval_atom_derivative instead.\n",
      "\u001b[0mcore.scoring.methods.LK_PolarNonPolarEnergy: \u001b[0mlk_nonpolar eval_residue_pair_derivatives() appears off -- set your minimizer to use_nblist and *also* nblist_auto_update to use eval_atom_derivative instead.\n",
      "\u001b[0mcore.scoring.methods.LK_PolarNonPolarEnergy: \u001b[0mlk_nonpolar eval_residue_pair_derivatives() appears off -- set your minimizer to use_nblist and *also* nblist_auto_update to use eval_atom_derivative instead.\n",
      "\u001b[0mcore.scoring.methods.LK_PolarNonPolarEnergy: \u001b[0mlk_nonpolar eval_residue_pair_derivatives() appears off -- set your minimizer to use_nblist and *also* nblist_auto_update to use eval_atom_derivative instead.\n",
      "\u001b[0mcore.scoring.methods.LK_PolarNonPolarEnergy: \u001b[0mlk_nonpolar eval_residue_pair_derivatives() appears off -- set your minimizer to use_nblist and *also* nblist_auto_update to use eval_atom_derivative instead.\n",
      "\u001b[0mcore.scoring.methods.LK_PolarNonPolarEnergy: \u001b[0mlk_nonpolar eval_residue_pair_derivatives() appears off -- set your minimizer to use_nblist and *also* nblist_auto_update to use eval_atom_derivative instead.\n",
      "\u001b[0mcore.scoring.methods.LK_PolarNonPolarEnergy: \u001b[0mlk_nonpolar eval_residue_pair_derivatives() appears off -- set your minimizer to use_nblist and *also* nblist_auto_update to use eval_atom_derivative instead.\n"
     ]
    },
    {
     "name": "stdout",
     "output_type": "stream",
     "text": [
      "\u001b[0mcore.scoring.methods.LK_PolarNonPolarEnergy: \u001b[0mlk_nonpolar eval_residue_pair_derivatives() appears off -- set your minimizer to use_nblist and *also* nblist_auto_update to use eval_atom_derivative instead.\n",
      "\u001b[0mcore.scoring.methods.LK_PolarNonPolarEnergy: \u001b[0mlk_nonpolar eval_residue_pair_derivatives() appears off -- set your minimizer to use_nblist and *also* nblist_auto_update to use eval_atom_derivative instead.\n",
      "\u001b[0mcore.scoring.methods.LK_PolarNonPolarEnergy: \u001b[0mlk_nonpolar eval_residue_pair_derivatives() appears off -- set your minimizer to use_nblist and *also* nblist_auto_update to use eval_atom_derivative instead.\n",
      "\u001b[0mcore.scoring.methods.LK_PolarNonPolarEnergy: \u001b[0mlk_nonpolar eval_residue_pair_derivatives() appears off -- set your minimizer to use_nblist and *also* nblist_auto_update to use eval_atom_derivative instead.\n",
      "\u001b[0mcore.scoring.methods.LK_PolarNonPolarEnergy: \u001b[0mlk_nonpolar eval_residue_pair_derivatives() appears off -- set your minimizer to use_nblist and *also* nblist_auto_update to use eval_atom_derivative instead.\n",
      "\u001b[0mcore.scoring.methods.LK_PolarNonPolarEnergy: \u001b[0mlk_nonpolar eval_residue_pair_derivatives() appears off -- set your minimizer to use_nblist and *also* nblist_auto_update to use eval_atom_derivative instead.\n",
      "\u001b[0mcore.scoring.methods.LK_PolarNonPolarEnergy: \u001b[0mlk_nonpolar eval_residue_pair_derivatives() appears off -- set your minimizer to use_nblist and *also* nblist_auto_update to use eval_atom_derivative instead.\n",
      "\u001b[0mcore.scoring.methods.LK_PolarNonPolarEnergy: \u001b[0mlk_nonpolar eval_residue_pair_derivatives() appears off -- set your minimizer to use_nblist and *also* nblist_auto_update to use eval_atom_derivative instead.\n",
      "\u001b[0mcore.scoring.methods.LK_PolarNonPolarEnergy: \u001b[0mlk_nonpolar eval_residue_pair_derivatives() appears off -- set your minimizer to use_nblist and *also* nblist_auto_update to use eval_atom_derivative instead.\n",
      "\u001b[0mcore.scoring.methods.LK_PolarNonPolarEnergy: \u001b[0mlk_nonpolar eval_residue_pair_derivatives() appears off -- set your minimizer to use_nblist and *also* nblist_auto_update to use eval_atom_derivative instead.\n",
      "\u001b[0mcore.scoring.methods.LK_PolarNonPolarEnergy: \u001b[0mlk_nonpolar eval_residue_pair_derivatives() appears off -- set your minimizer to use_nblist and *also* nblist_auto_update to use eval_atom_derivative instead.\n",
      "\u001b[0mcore.scoring.methods.LK_PolarNonPolarEnergy: \u001b[0mlk_nonpolar eval_residue_pair_derivatives() appears off -- set your minimizer to use_nblist and *also* nblist_auto_update to use eval_atom_derivative instead.\n",
      "\u001b[0mcore.scoring.methods.LK_PolarNonPolarEnergy: \u001b[0mlk_nonpolar eval_residue_pair_derivatives() appears off -- set your minimizer to use_nblist and *also* nblist_auto_update to use eval_atom_derivative instead.\n",
      "\u001b[0mcore.scoring.methods.LK_PolarNonPolarEnergy: \u001b[0mlk_nonpolar eval_residue_pair_derivatives() appears off -- set your minimizer to use_nblist and *also* nblist_auto_update to use eval_atom_derivative instead.\n",
      "\u001b[0mcore.scoring.methods.LK_PolarNonPolarEnergy: \u001b[0mlk_nonpolar eval_residue_pair_derivatives() appears off -- set your minimizer to use_nblist and *also* nblist_auto_update to use eval_atom_derivative instead.\n",
      "\u001b[0mcore.scoring.methods.LK_PolarNonPolarEnergy: \u001b[0mlk_nonpolar eval_residue_pair_derivatives() appears off -- set your minimizer to use_nblist and *also* nblist_auto_update to use eval_atom_derivative instead.\n",
      "\u001b[0mcore.scoring.methods.LK_PolarNonPolarEnergy: \u001b[0mlk_nonpolar eval_residue_pair_derivatives() appears off -- set your minimizer to use_nblist and *also* nblist_auto_update to use eval_atom_derivative instead.\n",
      "\u001b[0mcore.scoring.methods.LK_PolarNonPolarEnergy: \u001b[0mlk_nonpolar eval_residue_pair_derivatives() appears off -- set your minimizer to use_nblist and *also* nblist_auto_update to use eval_atom_derivative instead.\n",
      "\u001b[0mcore.scoring.methods.LK_PolarNonPolarEnergy: \u001b[0mlk_nonpolar eval_residue_pair_derivatives() appears off -- set your minimizer to use_nblist and *also* nblist_auto_update to use eval_atom_derivative instead.\n",
      "\u001b[0mcore.scoring.methods.LK_PolarNonPolarEnergy: \u001b[0mlk_nonpolar eval_residue_pair_derivatives() appears off -- set your minimizer to use_nblist and *also* nblist_auto_update to use eval_atom_derivative instead.\n",
      "\u001b[0mcore.scoring.methods.LK_PolarNonPolarEnergy: \u001b[0mlk_nonpolar eval_residue_pair_derivatives() appears off -- set your minimizer to use_nblist and *also* nblist_auto_update to use eval_atom_derivative instead.\n",
      "\u001b[0mcore.scoring.methods.LK_PolarNonPolarEnergy: \u001b[0mlk_nonpolar eval_residue_pair_derivatives() appears off -- set your minimizer to use_nblist and *also* nblist_auto_update to use eval_atom_derivative instead.\n",
      "\u001b[0mcore.scoring.methods.LK_PolarNonPolarEnergy: \u001b[0mlk_nonpolar eval_residue_pair_derivatives() appears off -- set your minimizer to use_nblist and *also* nblist_auto_update to use eval_atom_derivative instead.\n",
      "\u001b[0mcore.scoring.methods.LK_PolarNonPolarEnergy: \u001b[0mlk_nonpolar eval_residue_pair_derivatives() appears off -- set your minimizer to use_nblist and *also* nblist_auto_update to use eval_atom_derivative instead.\n",
      "\u001b[0mcore.scoring.methods.LK_PolarNonPolarEnergy: \u001b[0mlk_nonpolar eval_residue_pair_derivatives() appears off -- set your minimizer to use_nblist and *also* nblist_auto_update to use eval_atom_derivative instead.\n",
      "\u001b[0mcore.scoring.methods.LK_PolarNonPolarEnergy: \u001b[0mlk_nonpolar eval_residue_pair_derivatives() appears off -- set your minimizer to use_nblist and *also* nblist_auto_update to use eval_atom_derivative instead.\n",
      "\u001b[0mcore.scoring.methods.LK_PolarNonPolarEnergy: \u001b[0mlk_nonpolar eval_residue_pair_derivatives() appears off -- set your minimizer to use_nblist and *also* nblist_auto_update to use eval_atom_derivative instead.\n",
      "\u001b[0mcore.scoring.methods.LK_PolarNonPolarEnergy: \u001b[0mlk_nonpolar eval_residue_pair_derivatives() appears off -- set your minimizer to use_nblist and *also* nblist_auto_update to use eval_atom_derivative instead.\n",
      "\u001b[0mcore.scoring.methods.LK_PolarNonPolarEnergy: \u001b[0mlk_nonpolar eval_residue_pair_derivatives() appears off -- set your minimizer to use_nblist and *also* nblist_auto_update to use eval_atom_derivative instead.\n",
      "\u001b[0mcore.scoring.methods.LK_PolarNonPolarEnergy: \u001b[0mlk_nonpolar eval_residue_pair_derivatives() appears off -- set your minimizer to use_nblist and *also* nblist_auto_update to use eval_atom_derivative instead.\n",
      "\u001b[0mcore.scoring.methods.LK_PolarNonPolarEnergy: \u001b[0mlk_nonpolar eval_residue_pair_derivatives() appears off -- set your minimizer to use_nblist and *also* nblist_auto_update to use eval_atom_derivative instead.\n",
      "\u001b[0mcore.scoring.methods.LK_PolarNonPolarEnergy: \u001b[0mlk_nonpolar eval_residue_pair_derivatives() appears off -- set your minimizer to use_nblist and *also* nblist_auto_update to use eval_atom_derivative instead.\n",
      "\u001b[0mcore.scoring.methods.LK_PolarNonPolarEnergy: \u001b[0mlk_nonpolar eval_residue_pair_derivatives() appears off -- set your minimizer to use_nblist and *also* nblist_auto_update to use eval_atom_derivative instead.\n",
      "\u001b[0mcore.scoring.methods.LK_PolarNonPolarEnergy: \u001b[0mlk_nonpolar eval_residue_pair_derivatives() appears off -- set your minimizer to use_nblist and *also* nblist_auto_update to use eval_atom_derivative instead.\n",
      "\u001b[0mcore.scoring.methods.LK_PolarNonPolarEnergy: \u001b[0mlk_nonpolar eval_residue_pair_derivatives() appears off -- set your minimizer to use_nblist and *also* nblist_auto_update to use eval_atom_derivative instead.\n",
      "\u001b[0mcore.scoring.methods.LK_PolarNonPolarEnergy: \u001b[0mlk_nonpolar eval_residue_pair_derivatives() appears off -- set your minimizer to use_nblist and *also* nblist_auto_update to use eval_atom_derivative instead.\n",
      "\u001b[0mcore.scoring.methods.LK_PolarNonPolarEnergy: \u001b[0mlk_nonpolar eval_residue_pair_derivatives() appears off -- set your minimizer to use_nblist and *also* nblist_auto_update to use eval_atom_derivative instead.\n",
      "\u001b[0mcore.scoring.methods.LK_PolarNonPolarEnergy: \u001b[0mlk_nonpolar eval_residue_pair_derivatives() appears off -- set your minimizer to use_nblist and *also* nblist_auto_update to use eval_atom_derivative instead.\n",
      "\u001b[0mcore.scoring.methods.LK_PolarNonPolarEnergy: \u001b[0mlk_nonpolar eval_residue_pair_derivatives() appears off -- set your minimizer to use_nblist and *also* nblist_auto_update to use eval_atom_derivative instead.\n"
     ]
    },
    {
     "name": "stdout",
     "output_type": "stream",
     "text": [
      "\u001b[0mcore.scoring.methods.LK_PolarNonPolarEnergy: \u001b[0mlk_nonpolar eval_residue_pair_derivatives() appears off -- set your minimizer to use_nblist and *also* nblist_auto_update to use eval_atom_derivative instead.\n",
      "\u001b[0mcore.scoring.methods.LK_PolarNonPolarEnergy: \u001b[0mlk_nonpolar eval_residue_pair_derivatives() appears off -- set your minimizer to use_nblist and *also* nblist_auto_update to use eval_atom_derivative instead.\n",
      "\u001b[0mcore.scoring.methods.LK_PolarNonPolarEnergy: \u001b[0mlk_nonpolar eval_residue_pair_derivatives() appears off -- set your minimizer to use_nblist and *also* nblist_auto_update to use eval_atom_derivative instead.\n",
      "\u001b[0mcore.scoring.methods.LK_PolarNonPolarEnergy: \u001b[0mlk_nonpolar eval_residue_pair_derivatives() appears off -- set your minimizer to use_nblist and *also* nblist_auto_update to use eval_atom_derivative instead.\n",
      "\u001b[0mcore.scoring.methods.LK_PolarNonPolarEnergy: \u001b[0mlk_nonpolar eval_residue_pair_derivatives() appears off -- set your minimizer to use_nblist and *also* nblist_auto_update to use eval_atom_derivative instead.\n",
      "\u001b[0mcore.scoring.methods.LK_PolarNonPolarEnergy: \u001b[0mlk_nonpolar eval_residue_pair_derivatives() appears off -- set your minimizer to use_nblist and *also* nblist_auto_update to use eval_atom_derivative instead.\n",
      "\u001b[0mcore.scoring.methods.LK_PolarNonPolarEnergy: \u001b[0mlk_nonpolar eval_residue_pair_derivatives() appears off -- set your minimizer to use_nblist and *also* nblist_auto_update to use eval_atom_derivative instead.\n",
      "\u001b[0mcore.scoring.methods.LK_PolarNonPolarEnergy: \u001b[0mlk_nonpolar eval_residue_pair_derivatives() appears off -- set your minimizer to use_nblist and *also* nblist_auto_update to use eval_atom_derivative instead.\n",
      "\u001b[0mcore.scoring.methods.LK_PolarNonPolarEnergy: \u001b[0mlk_nonpolar eval_residue_pair_derivatives() appears off -- set your minimizer to use_nblist and *also* nblist_auto_update to use eval_atom_derivative instead.\n",
      "\u001b[0mcore.scoring.methods.LK_PolarNonPolarEnergy: \u001b[0mlk_nonpolar eval_residue_pair_derivatives() appears off -- set your minimizer to use_nblist and *also* nblist_auto_update to use eval_atom_derivative instead.\n",
      "\u001b[0mcore.scoring.methods.LK_PolarNonPolarEnergy: \u001b[0mlk_nonpolar eval_residue_pair_derivatives() appears off -- set your minimizer to use_nblist and *also* nblist_auto_update to use eval_atom_derivative instead.\n",
      "\u001b[0mcore.scoring.methods.LK_PolarNonPolarEnergy: \u001b[0mlk_nonpolar eval_residue_pair_derivatives() appears off -- set your minimizer to use_nblist and *also* nblist_auto_update to use eval_atom_derivative instead.\n",
      "\u001b[0mcore.scoring.methods.LK_PolarNonPolarEnergy: \u001b[0mlk_nonpolar eval_residue_pair_derivatives() appears off -- set your minimizer to use_nblist and *also* nblist_auto_update to use eval_atom_derivative instead.\n",
      "\u001b[0mcore.scoring.methods.LK_PolarNonPolarEnergy: \u001b[0mlk_nonpolar eval_residue_pair_derivatives() appears off -- set your minimizer to use_nblist and *also* nblist_auto_update to use eval_atom_derivative instead.\n",
      "\u001b[0mcore.scoring.methods.LK_PolarNonPolarEnergy: \u001b[0mlk_nonpolar eval_residue_pair_derivatives() appears off -- set your minimizer to use_nblist and *also* nblist_auto_update to use eval_atom_derivative instead.\n",
      "\u001b[0mcore.scoring.methods.LK_PolarNonPolarEnergy: \u001b[0mlk_nonpolar eval_residue_pair_derivatives() appears off -- set your minimizer to use_nblist and *also* nblist_auto_update to use eval_atom_derivative instead.\n",
      "\u001b[0mcore.scoring.methods.LK_PolarNonPolarEnergy: \u001b[0mlk_nonpolar eval_residue_pair_derivatives() appears off -- set your minimizer to use_nblist and *also* nblist_auto_update to use eval_atom_derivative instead.\n",
      "\u001b[0mcore.scoring.methods.LK_PolarNonPolarEnergy: \u001b[0mlk_nonpolar eval_residue_pair_derivatives() appears off -- set your minimizer to use_nblist and *also* nblist_auto_update to use eval_atom_derivative instead.\n",
      "\u001b[0mcore.scoring.methods.LK_PolarNonPolarEnergy: \u001b[0mlk_nonpolar eval_residue_pair_derivatives() appears off -- set your minimizer to use_nblist and *also* nblist_auto_update to use eval_atom_derivative instead.\n",
      "\u001b[0mcore.scoring.methods.LK_PolarNonPolarEnergy: \u001b[0mlk_nonpolar eval_residue_pair_derivatives() appears off -- set your minimizer to use_nblist and *also* nblist_auto_update to use eval_atom_derivative instead.\n",
      "\u001b[0mcore.scoring.methods.LK_PolarNonPolarEnergy: \u001b[0mlk_nonpolar eval_residue_pair_derivatives() appears off -- set your minimizer to use_nblist and *also* nblist_auto_update to use eval_atom_derivative instead.\n",
      "\u001b[0mcore.scoring.methods.LK_PolarNonPolarEnergy: \u001b[0mlk_nonpolar eval_residue_pair_derivatives() appears off -- set your minimizer to use_nblist and *also* nblist_auto_update to use eval_atom_derivative instead.\n",
      "\u001b[0mcore.scoring.methods.LK_PolarNonPolarEnergy: \u001b[0mlk_nonpolar eval_residue_pair_derivatives() appears off -- set your minimizer to use_nblist and *also* nblist_auto_update to use eval_atom_derivative instead.\n",
      "\u001b[0mcore.scoring.methods.LK_PolarNonPolarEnergy: \u001b[0mlk_nonpolar eval_residue_pair_derivatives() appears off -- set your minimizer to use_nblist and *also* nblist_auto_update to use eval_atom_derivative instead.\n",
      "\u001b[0mcore.scoring.methods.LK_PolarNonPolarEnergy: \u001b[0mlk_nonpolar eval_residue_pair_derivatives() appears off -- set your minimizer to use_nblist and *also* nblist_auto_update to use eval_atom_derivative instead.\n",
      "\u001b[0mcore.scoring.methods.LK_PolarNonPolarEnergy: \u001b[0mlk_nonpolar eval_residue_pair_derivatives() appears off -- set your minimizer to use_nblist and *also* nblist_auto_update to use eval_atom_derivative instead.\n",
      "\u001b[0mcore.scoring.methods.LK_PolarNonPolarEnergy: \u001b[0mlk_nonpolar eval_residue_pair_derivatives() appears off -- set your minimizer to use_nblist and *also* nblist_auto_update to use eval_atom_derivative instead.\n",
      "\u001b[0mcore.scoring.methods.LK_PolarNonPolarEnergy: \u001b[0mlk_nonpolar eval_residue_pair_derivatives() appears off -- set your minimizer to use_nblist and *also* nblist_auto_update to use eval_atom_derivative instead.\n",
      "\u001b[0mcore.scoring.methods.LK_PolarNonPolarEnergy: \u001b[0mlk_nonpolar eval_residue_pair_derivatives() appears off -- set your minimizer to use_nblist and *also* nblist_auto_update to use eval_atom_derivative instead.\n",
      "\u001b[0mcore.scoring.methods.LK_PolarNonPolarEnergy: \u001b[0mlk_nonpolar eval_residue_pair_derivatives() appears off -- set your minimizer to use_nblist and *also* nblist_auto_update to use eval_atom_derivative instead.\n",
      "\u001b[0mcore.scoring.methods.LK_PolarNonPolarEnergy: \u001b[0mlk_nonpolar eval_residue_pair_derivatives() appears off -- set your minimizer to use_nblist and *also* nblist_auto_update to use eval_atom_derivative instead.\n",
      "\u001b[0mcore.scoring.methods.LK_PolarNonPolarEnergy: \u001b[0mlk_nonpolar eval_residue_pair_derivatives() appears off -- set your minimizer to use_nblist and *also* nblist_auto_update to use eval_atom_derivative instead.\n",
      "\u001b[0mcore.scoring.methods.LK_PolarNonPolarEnergy: \u001b[0mlk_nonpolar eval_residue_pair_derivatives() appears off -- set your minimizer to use_nblist and *also* nblist_auto_update to use eval_atom_derivative instead.\n",
      "\u001b[0mcore.scoring.methods.LK_PolarNonPolarEnergy: \u001b[0mlk_nonpolar eval_residue_pair_derivatives() appears off -- set your minimizer to use_nblist and *also* nblist_auto_update to use eval_atom_derivative instead.\n",
      "\u001b[0mcore.scoring.methods.LK_PolarNonPolarEnergy: \u001b[0mlk_nonpolar eval_residue_pair_derivatives() appears off -- set your minimizer to use_nblist and *also* nblist_auto_update to use eval_atom_derivative instead.\n",
      "\u001b[0mcore.scoring.methods.LK_PolarNonPolarEnergy: \u001b[0mlk_nonpolar eval_residue_pair_derivatives() appears off -- set your minimizer to use_nblist and *also* nblist_auto_update to use eval_atom_derivative instead.\n",
      "\u001b[0mcore.scoring.methods.LK_PolarNonPolarEnergy: \u001b[0mlk_nonpolar eval_residue_pair_derivatives() appears off -- set your minimizer to use_nblist and *also* nblist_auto_update to use eval_atom_derivative instead.\n",
      "\u001b[0mcore.scoring.methods.LK_PolarNonPolarEnergy: \u001b[0mlk_nonpolar eval_residue_pair_derivatives() appears off -- set your minimizer to use_nblist and *also* nblist_auto_update to use eval_atom_derivative instead.\n",
      "\u001b[0mcore.scoring.methods.LK_PolarNonPolarEnergy: \u001b[0mlk_nonpolar eval_residue_pair_derivatives() appears off -- set your minimizer to use_nblist and *also* nblist_auto_update to use eval_atom_derivative instead.\n"
     ]
    },
    {
     "name": "stdout",
     "output_type": "stream",
     "text": [
      "\u001b[0mcore.scoring.methods.LK_PolarNonPolarEnergy: \u001b[0mlk_nonpolar eval_residue_pair_derivatives() appears off -- set your minimizer to use_nblist and *also* nblist_auto_update to use eval_atom_derivative instead.\n",
      "\u001b[0mcore.scoring.methods.LK_PolarNonPolarEnergy: \u001b[0mlk_nonpolar eval_residue_pair_derivatives() appears off -- set your minimizer to use_nblist and *also* nblist_auto_update to use eval_atom_derivative instead.\n",
      "\u001b[0mcore.scoring.methods.LK_PolarNonPolarEnergy: \u001b[0mlk_nonpolar eval_residue_pair_derivatives() appears off -- set your minimizer to use_nblist and *also* nblist_auto_update to use eval_atom_derivative instead.\n",
      "\u001b[0mcore.scoring.methods.LK_PolarNonPolarEnergy: \u001b[0mlk_nonpolar eval_residue_pair_derivatives() appears off -- set your minimizer to use_nblist and *also* nblist_auto_update to use eval_atom_derivative instead.\n",
      "\u001b[0mcore.scoring.methods.LK_PolarNonPolarEnergy: \u001b[0mlk_nonpolar eval_residue_pair_derivatives() appears off -- set your minimizer to use_nblist and *also* nblist_auto_update to use eval_atom_derivative instead.\n",
      "\u001b[0mcore.scoring.methods.LK_PolarNonPolarEnergy: \u001b[0mlk_nonpolar eval_residue_pair_derivatives() appears off -- set your minimizer to use_nblist and *also* nblist_auto_update to use eval_atom_derivative instead.\n",
      "\u001b[0mcore.scoring.methods.LK_PolarNonPolarEnergy: \u001b[0mlk_nonpolar eval_residue_pair_derivatives() appears off -- set your minimizer to use_nblist and *also* nblist_auto_update to use eval_atom_derivative instead.\n",
      "\u001b[0mcore.scoring.methods.LK_PolarNonPolarEnergy: \u001b[0mlk_nonpolar eval_residue_pair_derivatives() appears off -- set your minimizer to use_nblist and *also* nblist_auto_update to use eval_atom_derivative instead.\n",
      "\u001b[0mcore.scoring.methods.LK_PolarNonPolarEnergy: \u001b[0mlk_nonpolar eval_residue_pair_derivatives() appears off -- set your minimizer to use_nblist and *also* nblist_auto_update to use eval_atom_derivative instead.\n",
      "\u001b[0mcore.scoring.methods.LK_PolarNonPolarEnergy: \u001b[0mlk_nonpolar eval_residue_pair_derivatives() appears off -- set your minimizer to use_nblist and *also* nblist_auto_update to use eval_atom_derivative instead.\n",
      "\u001b[0mcore.scoring.methods.LK_PolarNonPolarEnergy: \u001b[0mlk_nonpolar eval_residue_pair_derivatives() appears off -- set your minimizer to use_nblist and *also* nblist_auto_update to use eval_atom_derivative instead.\n",
      "\u001b[0mcore.scoring.methods.LK_PolarNonPolarEnergy: \u001b[0mlk_nonpolar eval_residue_pair_derivatives() appears off -- set your minimizer to use_nblist and *also* nblist_auto_update to use eval_atom_derivative instead.\n",
      "\u001b[0mcore.scoring.methods.LK_PolarNonPolarEnergy: \u001b[0mlk_nonpolar eval_residue_pair_derivatives() appears off -- set your minimizer to use_nblist and *also* nblist_auto_update to use eval_atom_derivative instead.\n",
      "\u001b[0mcore.scoring.methods.LK_PolarNonPolarEnergy: \u001b[0mlk_nonpolar eval_residue_pair_derivatives() appears off -- set your minimizer to use_nblist and *also* nblist_auto_update to use eval_atom_derivative instead.\n",
      "\u001b[0mcore.scoring.methods.LK_PolarNonPolarEnergy: \u001b[0mlk_nonpolar eval_residue_pair_derivatives() appears off -- set your minimizer to use_nblist and *also* nblist_auto_update to use eval_atom_derivative instead.\n",
      "\u001b[0mcore.scoring.methods.LK_PolarNonPolarEnergy: \u001b[0mlk_nonpolar eval_residue_pair_derivatives() appears off -- set your minimizer to use_nblist and *also* nblist_auto_update to use eval_atom_derivative instead.\n",
      "\u001b[0mcore.scoring.methods.LK_PolarNonPolarEnergy: \u001b[0mlk_nonpolar eval_residue_pair_derivatives() appears off -- set your minimizer to use_nblist and *also* nblist_auto_update to use eval_atom_derivative instead.\n",
      "\u001b[0mcore.scoring.methods.LK_PolarNonPolarEnergy: \u001b[0mlk_nonpolar eval_residue_pair_derivatives() appears off -- set your minimizer to use_nblist and *also* nblist_auto_update to use eval_atom_derivative instead.\n",
      "\u001b[0mcore.scoring.methods.LK_PolarNonPolarEnergy: \u001b[0mlk_nonpolar eval_residue_pair_derivatives() appears off -- set your minimizer to use_nblist and *also* nblist_auto_update to use eval_atom_derivative instead.\n",
      "\u001b[0mcore.scoring.methods.LK_PolarNonPolarEnergy: \u001b[0mlk_nonpolar eval_residue_pair_derivatives() appears off -- set your minimizer to use_nblist and *also* nblist_auto_update to use eval_atom_derivative instead.\n",
      "\u001b[0mcore.scoring.methods.LK_PolarNonPolarEnergy: \u001b[0mlk_nonpolar eval_residue_pair_derivatives() appears off -- set your minimizer to use_nblist and *also* nblist_auto_update to use eval_atom_derivative instead.\n",
      "\u001b[0mcore.scoring.methods.LK_PolarNonPolarEnergy: \u001b[0mlk_nonpolar eval_residue_pair_derivatives() appears off -- set your minimizer to use_nblist and *also* nblist_auto_update to use eval_atom_derivative instead.\n",
      "\u001b[0mcore.scoring.methods.LK_PolarNonPolarEnergy: \u001b[0mlk_nonpolar eval_residue_pair_derivatives() appears off -- set your minimizer to use_nblist and *also* nblist_auto_update to use eval_atom_derivative instead.\n",
      "\u001b[0mcore.scoring.methods.LK_PolarNonPolarEnergy: \u001b[0mlk_nonpolar eval_residue_pair_derivatives() appears off -- set your minimizer to use_nblist and *also* nblist_auto_update to use eval_atom_derivative instead.\n",
      "\u001b[0mcore.scoring.methods.LK_PolarNonPolarEnergy: \u001b[0mlk_nonpolar eval_residue_pair_derivatives() appears off -- set your minimizer to use_nblist and *also* nblist_auto_update to use eval_atom_derivative instead.\n",
      "\u001b[0mcore.scoring.methods.LK_PolarNonPolarEnergy: \u001b[0mlk_nonpolar eval_residue_pair_derivatives() appears off -- set your minimizer to use_nblist and *also* nblist_auto_update to use eval_atom_derivative instead.\n",
      "\u001b[0mcore.scoring.methods.LK_PolarNonPolarEnergy: \u001b[0mlk_nonpolar eval_residue_pair_derivatives() appears off -- set your minimizer to use_nblist and *also* nblist_auto_update to use eval_atom_derivative instead.\n",
      "\u001b[0mcore.scoring.methods.LK_PolarNonPolarEnergy: \u001b[0mlk_nonpolar eval_residue_pair_derivatives() appears off -- set your minimizer to use_nblist and *also* nblist_auto_update to use eval_atom_derivative instead.\n",
      "\u001b[0mcore.scoring.methods.LK_PolarNonPolarEnergy: \u001b[0mlk_nonpolar eval_residue_pair_derivatives() appears off -- set your minimizer to use_nblist and *also* nblist_auto_update to use eval_atom_derivative instead.\n",
      "\u001b[0mcore.scoring.methods.LK_PolarNonPolarEnergy: \u001b[0mlk_nonpolar eval_residue_pair_derivatives() appears off -- set your minimizer to use_nblist and *also* nblist_auto_update to use eval_atom_derivative instead.\n",
      "\u001b[0mcore.scoring.methods.LK_PolarNonPolarEnergy: \u001b[0mlk_nonpolar eval_residue_pair_derivatives() appears off -- set your minimizer to use_nblist and *also* nblist_auto_update to use eval_atom_derivative instead.\n",
      "\u001b[0mcore.scoring.methods.LK_PolarNonPolarEnergy: \u001b[0mlk_nonpolar eval_residue_pair_derivatives() appears off -- set your minimizer to use_nblist and *also* nblist_auto_update to use eval_atom_derivative instead.\n",
      "\u001b[0mcore.scoring.methods.LK_PolarNonPolarEnergy: \u001b[0mlk_nonpolar eval_residue_pair_derivatives() appears off -- set your minimizer to use_nblist and *also* nblist_auto_update to use eval_atom_derivative instead.\n",
      "\u001b[0mcore.scoring.methods.LK_PolarNonPolarEnergy: \u001b[0mlk_nonpolar eval_residue_pair_derivatives() appears off -- set your minimizer to use_nblist and *also* nblist_auto_update to use eval_atom_derivative instead.\n",
      "\u001b[0mcore.scoring.methods.LK_PolarNonPolarEnergy: \u001b[0mlk_nonpolar eval_residue_pair_derivatives() appears off -- set your minimizer to use_nblist and *also* nblist_auto_update to use eval_atom_derivative instead.\n",
      "\u001b[0mcore.scoring.methods.LK_PolarNonPolarEnergy: \u001b[0mlk_nonpolar eval_residue_pair_derivatives() appears off -- set your minimizer to use_nblist and *also* nblist_auto_update to use eval_atom_derivative instead.\n",
      "\u001b[0mcore.scoring.methods.LK_PolarNonPolarEnergy: \u001b[0mlk_nonpolar eval_residue_pair_derivatives() appears off -- set your minimizer to use_nblist and *also* nblist_auto_update to use eval_atom_derivative instead.\n",
      "\u001b[0mcore.scoring.methods.LK_PolarNonPolarEnergy: \u001b[0mlk_nonpolar eval_residue_pair_derivatives() appears off -- set your minimizer to use_nblist and *also* nblist_auto_update to use eval_atom_derivative instead.\n",
      "\u001b[0mcore.scoring.methods.LK_PolarNonPolarEnergy: \u001b[0mlk_nonpolar eval_residue_pair_derivatives() appears off -- set your minimizer to use_nblist and *also* nblist_auto_update to use eval_atom_derivative instead.\n"
     ]
    },
    {
     "name": "stdout",
     "output_type": "stream",
     "text": [
      "\u001b[0mcore.scoring.methods.LK_PolarNonPolarEnergy: \u001b[0mlk_nonpolar eval_residue_pair_derivatives() appears off -- set your minimizer to use_nblist and *also* nblist_auto_update to use eval_atom_derivative instead.\n",
      "\u001b[0mcore.scoring.methods.LK_PolarNonPolarEnergy: \u001b[0mlk_nonpolar eval_residue_pair_derivatives() appears off -- set your minimizer to use_nblist and *also* nblist_auto_update to use eval_atom_derivative instead.\n",
      "\u001b[0mcore.scoring.methods.LK_PolarNonPolarEnergy: \u001b[0mlk_nonpolar eval_residue_pair_derivatives() appears off -- set your minimizer to use_nblist and *also* nblist_auto_update to use eval_atom_derivative instead.\n",
      "\u001b[0mcore.scoring.methods.LK_PolarNonPolarEnergy: \u001b[0mlk_nonpolar eval_residue_pair_derivatives() appears off -- set your minimizer to use_nblist and *also* nblist_auto_update to use eval_atom_derivative instead.\n",
      "\u001b[0mcore.scoring.methods.LK_PolarNonPolarEnergy: \u001b[0mlk_nonpolar eval_residue_pair_derivatives() appears off -- set your minimizer to use_nblist and *also* nblist_auto_update to use eval_atom_derivative instead.\n",
      "\u001b[0mcore.scoring.methods.LK_PolarNonPolarEnergy: \u001b[0mlk_nonpolar eval_residue_pair_derivatives() appears off -- set your minimizer to use_nblist and *also* nblist_auto_update to use eval_atom_derivative instead.\n",
      "\u001b[0mcore.scoring.methods.LK_PolarNonPolarEnergy: \u001b[0mlk_nonpolar eval_residue_pair_derivatives() appears off -- set your minimizer to use_nblist and *also* nblist_auto_update to use eval_atom_derivative instead.\n",
      "\u001b[0mcore.scoring.methods.LK_PolarNonPolarEnergy: \u001b[0mlk_nonpolar eval_residue_pair_derivatives() appears off -- set your minimizer to use_nblist and *also* nblist_auto_update to use eval_atom_derivative instead.\n",
      "\u001b[0mcore.scoring.methods.LK_PolarNonPolarEnergy: \u001b[0mlk_nonpolar eval_residue_pair_derivatives() appears off -- set your minimizer to use_nblist and *also* nblist_auto_update to use eval_atom_derivative instead.\n",
      "\u001b[0mcore.scoring.methods.LK_PolarNonPolarEnergy: \u001b[0mlk_nonpolar eval_residue_pair_derivatives() appears off -- set your minimizer to use_nblist and *also* nblist_auto_update to use eval_atom_derivative instead.\n",
      "\u001b[0mcore.scoring.methods.LK_PolarNonPolarEnergy: \u001b[0mlk_nonpolar eval_residue_pair_derivatives() appears off -- set your minimizer to use_nblist and *also* nblist_auto_update to use eval_atom_derivative instead.\n",
      "\u001b[0mcore.scoring.methods.LK_PolarNonPolarEnergy: \u001b[0mlk_nonpolar eval_residue_pair_derivatives() appears off -- set your minimizer to use_nblist and *also* nblist_auto_update to use eval_atom_derivative instead.\n",
      "\u001b[0mcore.scoring.methods.LK_PolarNonPolarEnergy: \u001b[0mlk_nonpolar eval_residue_pair_derivatives() appears off -- set your minimizer to use_nblist and *also* nblist_auto_update to use eval_atom_derivative instead.\n",
      "\u001b[0mcore.scoring.methods.LK_PolarNonPolarEnergy: \u001b[0mlk_nonpolar eval_residue_pair_derivatives() appears off -- set your minimizer to use_nblist and *also* nblist_auto_update to use eval_atom_derivative instead.\n",
      "\u001b[0mcore.scoring.methods.LK_PolarNonPolarEnergy: \u001b[0mlk_nonpolar eval_residue_pair_derivatives() appears off -- set your minimizer to use_nblist and *also* nblist_auto_update to use eval_atom_derivative instead.\n",
      "\u001b[0mcore.scoring.methods.LK_PolarNonPolarEnergy: \u001b[0mlk_nonpolar eval_residue_pair_derivatives() appears off -- set your minimizer to use_nblist and *also* nblist_auto_update to use eval_atom_derivative instead.\n",
      "\u001b[0mcore.scoring.methods.LK_PolarNonPolarEnergy: \u001b[0mlk_nonpolar eval_residue_pair_derivatives() appears off -- set your minimizer to use_nblist and *also* nblist_auto_update to use eval_atom_derivative instead.\n",
      "\u001b[0mcore.scoring.methods.LK_PolarNonPolarEnergy: \u001b[0mlk_nonpolar eval_residue_pair_derivatives() appears off -- set your minimizer to use_nblist and *also* nblist_auto_update to use eval_atom_derivative instead.\n",
      "\u001b[0mcore.scoring.methods.LK_PolarNonPolarEnergy: \u001b[0mlk_nonpolar eval_residue_pair_derivatives() appears off -- set your minimizer to use_nblist and *also* nblist_auto_update to use eval_atom_derivative instead.\n",
      "\u001b[0mcore.scoring.methods.LK_PolarNonPolarEnergy: \u001b[0mlk_nonpolar eval_residue_pair_derivatives() appears off -- set your minimizer to use_nblist and *also* nblist_auto_update to use eval_atom_derivative instead.\n",
      "\u001b[0mcore.scoring.methods.LK_PolarNonPolarEnergy: \u001b[0mlk_nonpolar eval_residue_pair_derivatives() appears off -- set your minimizer to use_nblist and *also* nblist_auto_update to use eval_atom_derivative instead.\n",
      "\u001b[0mcore.scoring.methods.LK_PolarNonPolarEnergy: \u001b[0mlk_nonpolar eval_residue_pair_derivatives() appears off -- set your minimizer to use_nblist and *also* nblist_auto_update to use eval_atom_derivative instead.\n",
      "\u001b[0mcore.scoring.methods.LK_PolarNonPolarEnergy: \u001b[0mlk_nonpolar eval_residue_pair_derivatives() appears off -- set your minimizer to use_nblist and *also* nblist_auto_update to use eval_atom_derivative instead.\n",
      "\u001b[0mcore.scoring.methods.LK_PolarNonPolarEnergy: \u001b[0mlk_nonpolar eval_residue_pair_derivatives() appears off -- set your minimizer to use_nblist and *also* nblist_auto_update to use eval_atom_derivative instead.\n",
      "\u001b[0mcore.scoring.methods.LK_PolarNonPolarEnergy: \u001b[0mlk_nonpolar eval_residue_pair_derivatives() appears off -- set your minimizer to use_nblist and *also* nblist_auto_update to use eval_atom_derivative instead.\n",
      "\u001b[0mcore.scoring.methods.LK_PolarNonPolarEnergy: \u001b[0mlk_nonpolar eval_residue_pair_derivatives() appears off -- set your minimizer to use_nblist and *also* nblist_auto_update to use eval_atom_derivative instead.\n",
      "\u001b[0mcore.scoring.methods.LK_PolarNonPolarEnergy: \u001b[0mlk_nonpolar eval_residue_pair_derivatives() appears off -- set your minimizer to use_nblist and *also* nblist_auto_update to use eval_atom_derivative instead.\n",
      "\u001b[0mcore.scoring.methods.LK_PolarNonPolarEnergy: \u001b[0mlk_nonpolar eval_residue_pair_derivatives() appears off -- set your minimizer to use_nblist and *also* nblist_auto_update to use eval_atom_derivative instead.\n",
      "\u001b[0mcore.scoring.methods.LK_PolarNonPolarEnergy: \u001b[0mlk_nonpolar eval_residue_pair_derivatives() appears off -- set your minimizer to use_nblist and *also* nblist_auto_update to use eval_atom_derivative instead.\n",
      "\u001b[0mcore.scoring.methods.LK_PolarNonPolarEnergy: \u001b[0mlk_nonpolar eval_residue_pair_derivatives() appears off -- set your minimizer to use_nblist and *also* nblist_auto_update to use eval_atom_derivative instead.\n",
      "\u001b[0mcore.scoring.methods.LK_PolarNonPolarEnergy: \u001b[0mlk_nonpolar eval_residue_pair_derivatives() appears off -- set your minimizer to use_nblist and *also* nblist_auto_update to use eval_atom_derivative instead.\n",
      "\u001b[0mcore.scoring.methods.LK_PolarNonPolarEnergy: \u001b[0mlk_nonpolar eval_residue_pair_derivatives() appears off -- set your minimizer to use_nblist and *also* nblist_auto_update to use eval_atom_derivative instead.\n",
      "\u001b[0mcore.scoring.methods.LK_PolarNonPolarEnergy: \u001b[0mlk_nonpolar eval_residue_pair_derivatives() appears off -- set your minimizer to use_nblist and *also* nblist_auto_update to use eval_atom_derivative instead.\n",
      "\u001b[0mcore.scoring.methods.LK_PolarNonPolarEnergy: \u001b[0mlk_nonpolar eval_residue_pair_derivatives() appears off -- set your minimizer to use_nblist and *also* nblist_auto_update to use eval_atom_derivative instead.\n",
      "\u001b[0mcore.scoring.methods.LK_PolarNonPolarEnergy: \u001b[0mlk_nonpolar eval_residue_pair_derivatives() appears off -- set your minimizer to use_nblist and *also* nblist_auto_update to use eval_atom_derivative instead.\n",
      "\u001b[0mcore.scoring.methods.LK_PolarNonPolarEnergy: \u001b[0mlk_nonpolar eval_residue_pair_derivatives() appears off -- set your minimizer to use_nblist and *also* nblist_auto_update to use eval_atom_derivative instead.\n",
      "\u001b[0mcore.scoring.methods.LK_PolarNonPolarEnergy: \u001b[0mlk_nonpolar eval_residue_pair_derivatives() appears off -- set your minimizer to use_nblist and *also* nblist_auto_update to use eval_atom_derivative instead.\n",
      "\u001b[0mcore.scoring.methods.LK_PolarNonPolarEnergy: \u001b[0mlk_nonpolar eval_residue_pair_derivatives() appears off -- set your minimizer to use_nblist and *also* nblist_auto_update to use eval_atom_derivative instead.\n",
      "\u001b[0mcore.scoring.methods.LK_PolarNonPolarEnergy: \u001b[0mlk_nonpolar eval_residue_pair_derivatives() appears off -- set your minimizer to use_nblist and *also* nblist_auto_update to use eval_atom_derivative instead.\n"
     ]
    },
    {
     "name": "stdout",
     "output_type": "stream",
     "text": [
      "\u001b[0mcore.scoring.methods.LK_PolarNonPolarEnergy: \u001b[0mlk_nonpolar eval_residue_pair_derivatives() appears off -- set your minimizer to use_nblist and *also* nblist_auto_update to use eval_atom_derivative instead.\n",
      "\u001b[0mcore.scoring.methods.LK_PolarNonPolarEnergy: \u001b[0mlk_nonpolar eval_residue_pair_derivatives() appears off -- set your minimizer to use_nblist and *also* nblist_auto_update to use eval_atom_derivative instead.\n",
      "\u001b[0mcore.scoring.methods.LK_PolarNonPolarEnergy: \u001b[0mlk_nonpolar eval_residue_pair_derivatives() appears off -- set your minimizer to use_nblist and *also* nblist_auto_update to use eval_atom_derivative instead.\n",
      "\u001b[0mcore.optimization.LineMinimizer: \u001b[0m\u001b[31m\u001b[1m[ ERROR ]\u001b[0m \u001b[31mInaccurate G! step= 3.8147e-06 Deriv= -0.0120258 Finite Diff= 0.000799604\u001b[0m\n"
     ]
    },
    {
     "ename": "NameError",
     "evalue": "name 'SingleHistSimulation' is not defined",
     "output_type": "error",
     "traceback": [
      "\u001b[0;31m---------------------------------------------------------------------------\u001b[0m",
      "\u001b[0;31mNameError\u001b[0m                                 Traceback (most recent call last)",
      "\u001b[0;32m<ipython-input-25-07efc7c45c08>\u001b[0m in \u001b[0;36m<module>\u001b[0;34m()\u001b[0m\n\u001b[1;32m     15\u001b[0m     \u001b[0mfuck\u001b[0m \u001b[0;34m=\u001b[0m \u001b[0mMiningMinima\u001b[0m\u001b[0;34m(\u001b[0m\u001b[0mseq1\u001b[0m\u001b[0;34m,\u001b[0m \u001b[0mseq2\u001b[0m\u001b[0;34m)\u001b[0m\u001b[0;34m\u001b[0m\u001b[0;34m\u001b[0m\u001b[0m\n\u001b[1;32m     16\u001b[0m \u001b[0;34m\u001b[0m\u001b[0m\n\u001b[0;32m---> 17\u001b[0;31m     \u001b[0mhist\u001b[0m \u001b[0;34m=\u001b[0m \u001b[0mSingleHistSimulation\u001b[0m\u001b[0;34m(\u001b[0m\u001b[0;34m'./../../../recces_rosetta/results/'\u001b[0m\u001b[0;34m+\u001b[0m\u001b[0msim\u001b[0m\u001b[0;34m+\u001b[0m\u001b[0;34m'/ST/'\u001b[0m\u001b[0;34m)\u001b[0m\u001b[0;34m\u001b[0m\u001b[0;34m\u001b[0m\u001b[0m\n\u001b[0m\u001b[1;32m     18\u001b[0m \u001b[0;34m\u001b[0m\u001b[0m\n\u001b[1;32m     19\u001b[0m     \u001b[0mharmonic_E\u001b[0m\u001b[0;34m.\u001b[0m\u001b[0mappend\u001b[0m\u001b[0;34m(\u001b[0m\u001b[0mfuck\u001b[0m\u001b[0;34m.\u001b[0m\u001b[0mharmonic_free_energy\u001b[0m\u001b[0;34m)\u001b[0m\u001b[0;34m\u001b[0m\u001b[0;34m\u001b[0m\u001b[0m\n",
      "\u001b[0;31mNameError\u001b[0m: name 'SingleHistSimulation' is not defined"
     ]
    }
   ],
   "source": [
    "sims = ['aaa_uuu', 'aa_uu', 'cc_gg', 'ccc_ggg', 'cc_gg', 'gaa_uuc', 'gac_guc', 'gag_cuc', 'gau_auc', 'ga_uc', 'gcc_ggc', 'gcg_cgc', 'gga_ucc', 'gg_cc', 'ggc_gcc', 'ggg_ccc', 'ggu_acc', 'gu_ac', 'guc_gac', 'guu_aac']\n",
    "\n",
    "harmonic_E = []\n",
    "RECCES_E = []\n",
    "DOS_E = []\n",
    "\n",
    "E = np.linspace(-100,800,9001)\n",
    "\n",
    "for sim in sims:\n",
    "    \n",
    "    seqs = sim.split('_')\n",
    "    seq1 = seqs[0]\n",
    "    seq2 = seqs[1]\n",
    "    \n",
    "    fuck = MiningMinima(seq1, seq2)\n",
    "    \n",
    "    hist = SingleHistSimulation('./../../../recces_rosetta/results/'+sim+'/ST/')\n",
    "    \n",
    "    harmonic_E.append(fuck.harmonic_free_energy)\n",
    "    RECCES_E.append(hist.value)\n",
    "    DOS_E.append(-scipy.special.logsumexp(-E, b=fuck.dos(E)))"
   ]
  },
  {
   "cell_type": "code",
   "execution_count": null,
   "metadata": {},
   "outputs": [],
   "source": [
    "print RECCES_E\n",
    "print harmonic_E\n",
    "print DOS_E\n",
    "plt.scatter(RECCES_E, DOS_E)\n",
    "plt.plot([-45,-15],[-45,-15])"
   ]
  },
  {
   "cell_type": "code",
   "execution_count": null,
   "metadata": {},
   "outputs": [],
   "source": [
    "from recces.util import *\n",
    "from recces.data import *"
   ]
  },
  {
   "cell_type": "code",
   "execution_count": null,
   "metadata": {},
   "outputs": [],
   "source": [
    "sim = SingleHistSimulation('./../../../recces_rosetta/results/'+seq1+'_'+seq2+'/ST/')"
   ]
  },
  {
   "cell_type": "code",
   "execution_count": null,
   "metadata": {},
   "outputs": [],
   "source": [
    "print sim.value\n",
    "-np.log(np.trapz(sim._dos, dx=0.1))\n",
    "'guu_acc'.split('_')"
   ]
  },
  {
   "cell_type": "code",
   "execution_count": null,
   "metadata": {
    "scrolled": true
   },
   "outputs": [],
   "source": [
    "import matplotlib as mpl\n",
    "import matplotlib.pyplot as plt\n",
    "import scipy\n",
    "\n",
    "E = np.linspace(-100,100,2001)\n",
    "\n",
    "plt.plot(E, fuck.dos(E)*np.exp(-E))\n",
    "plt.plot(sim._dos_scores[:2000], sim._dos[:2000]*np.exp(-sim._dos_scores[:2000]))\n",
    "plt.xlabel('energy (REU)')\n",
    "plt.ylabel('$g(E)e^{-E/kT}$')\n",
    "plt.legend(('MM', 'RECCES'))\n",
    "print -scipy.special.logsumexp(-E, b=fuck.dos(E)), sim.value, fuck.harmonic_free_energy"
   ]
  },
  {
   "cell_type": "code",
   "execution_count": null,
   "metadata": {},
   "outputs": [],
   "source": [
    "print fuck.anharmonic_free_energy\n",
    "print fuck.harmonic_free_energy"
   ]
  },
  {
   "cell_type": "code",
   "execution_count": null,
   "metadata": {},
   "outputs": [],
   "source": [
    "\n",
    "print fuck.modes[:,0]\n",
    "pmm.apply(fuck.min_pose)"
   ]
  },
  {
   "cell_type": "code",
   "execution_count": null,
   "metadata": {},
   "outputs": [],
   "source": [
    "n_struct = 200\n",
    "\n",
    "ensemble = fuck.harmonic_ensemble(n_struct = n_struct)\n",
    "#print ensemble[2,:]-min_dofs\n",
    "#print np.sqrt(H)/np.sqrt((2*np.pi)**fuck.n_dofs)*np.exp(-np.dot(fuck.eigenvalues, ((min_dofs-ensemble[0,:])*np.pi/180)**2)/2)"
   ]
  },
  {
   "cell_type": "code",
   "execution_count": null,
   "metadata": {},
   "outputs": [],
   "source": [
    "pose = Pose()\n",
    "pose.assign(fuck.min_pose)\n",
    "\n",
    "hist_min = -100\n",
    "hist_max = 100\n",
    "delE = 0.1\n",
    "\n",
    "hist_scores = np.linspace(hist_min, hist_max, int((hist_max-hist_min)/delE)+1)\n",
    "\n",
    "hist = np.zeros_like(hist_scores)\n",
    "\n",
    "for i in range(n_struct):\n",
    "    \n",
    "    dofs = ensemble[i,:]\n",
    "    \n",
    "    for key in fuck.dof_dict: pose.set_torsion(fuck.dof_dict[key], dofs[key])\n",
    "        \n",
    "    energy = fuck.scorefxn(pose)\n",
    "    \n",
    "    if energy < hist_max+delE:\n",
    "             \n",
    "        hist_idx = math.floor((energy-hist_min)/delE)\n",
    "        hist_idx = int(hist_idx)\n",
    "        hist[hist_idx] += 1\n"
   ]
  },
  {
   "cell_type": "code",
   "execution_count": null,
   "metadata": {},
   "outputs": [],
   "source": [
    "shit = hist*np.exp(hist_scores)/np.sum(hist)\n",
    "shit = shit/np.sum(shit)\n",
    "print -scipy.special.logsumexp(-hist_scores, b = shit)\n",
    "plt.plot(hist_scores, shit*np.exp(-hist_scores)/torsion_volume(seq1, seq2))\n",
    "plt.plot(sim._dos_scores[:2000], sim._dos[:2000]*np.exp(-sim._dos_scores[:2000]))"
   ]
  },
  {
   "cell_type": "code",
   "execution_count": null,
   "metadata": {},
   "outputs": [],
   "source": [
    "pose = Pose()\n",
    "pose_new = Pose()\n",
    "pose.assign(fuck.min_pose)\n",
    "for key in fuck.dof_dict: pose.set_torsion(fuck.dof_dict[key],ensemble[0,:][key])\n",
    "\n",
    "pose_new.assign(pose)\n",
    "\n",
    "E_0 = fuck.scorefxn(fuck.min_pose)\n",
    "energy = E_0\n",
    "\n",
    "min_dofs = [fuck.min_pose.torsion(fuck.dof_dict[key]) for key in fuck.dof_dict]\n",
    "curr_dofs = min_dofs\n",
    "print min_dofs\n",
    "\n",
    "Z = 0\n",
    "H = np.product(fuck.eigenvalues)\n",
    "\n",
    "for j in range(1,n_struct):\n",
    "    \n",
    "    trial_move = ensemble[j, :]\n",
    "     \n",
    "    for key in fuck.dof_dict: pose_new.set_torsion(fuck.dof_dict[key], trial_move[key]) \n",
    "\n",
    "    energy_new = fuck.scorefxn(pose_new)\n",
    "    \n",
    "    if np.exp(-(energy_new-energy)) > np.random.random():\n",
    "        \n",
    "        energy = energy_new\n",
    "        pose.assign(pose_new)\n",
    "        curr_dofs = trial_move\n",
    "        \n",
    "    \n",
    "\n",
    "        #p = np.sqrt(H/(2*np.pi)**fuck.n_dofs)*np.exp(-np.dot(fuck.eigenvalues, ((trial_move-min_dofs)*(np.pi/180)**2)**2)/2)\n",
    "    if energy < hist_max+delE:\n",
    "             \n",
    "        hist_idx = math.floor((energy-hist_min)/delE)\n",
    "        hist_idx = int(hist_idx)\n",
    "        hist[hist_idx] += 1\n",
    "\n",
    "    "
   ]
  },
  {
   "cell_type": "code",
   "execution_count": null,
   "metadata": {},
   "outputs": [],
   "source": [
    "#plt.plot(hist_scores, hist)\n",
    "shit = hist/np.sum(hist)\n",
    "shit = shit*np.exp(hist_scores)\n",
    "shit = shit/np.sum(shit)\n",
    "#plt.plot(hist_scores, shit)\n",
    "plt.plot(hist_scores, hist/np.sum(hist))\n",
    "print -np.log(np.exp(-E_0)*(0.25)**fuck.n_dofs/0.35)\n"
   ]
  },
  {
   "cell_type": "code",
   "execution_count": null,
   "metadata": {
    "scrolled": true
   },
   "outputs": [],
   "source": [
    "print ensemble\n",
    "pmm = PyMOLMover()\n",
    "pmm.keep_history(True)\n",
    "print ensemble[1,:]"
   ]
  },
  {
   "cell_type": "code",
   "execution_count": null,
   "metadata": {},
   "outputs": [],
   "source": [
    "pose = Pose()\n",
    "pose.assign(fuck.min_pose)\n",
    "\n",
    "for i in range(200):\n",
    "    \n",
    "    dofs = ensemble[i,:]\n",
    "    for key in fuck.dof_dict: pose.set_torsion(fuck.dof_dict[key], dofs[key]) \n",
    "    pmm.apply(pose)\n",
    "    "
   ]
  },
  {
   "cell_type": "code",
   "execution_count": null,
   "metadata": {},
   "outputs": [],
   "source": [
    "print np.cov(ensemble)"
   ]
  },
  {
   "cell_type": "code",
   "execution_count": null,
   "metadata": {},
   "outputs": [],
   "source": [
    "w,v = np.linalg.eigh(np.cov(ensemble.T))\n",
    "print fuck.eigenvalues"
   ]
  },
  {
   "cell_type": "code",
   "execution_count": null,
   "metadata": {},
   "outputs": [],
   "source": [
    "print 1/w*180*180/np.pi/np.pi"
   ]
  },
  {
   "cell_type": "code",
   "execution_count": null,
   "metadata": {},
   "outputs": [],
   "source": [
    "\n",
    "print fuck.min_energy - 0.5*fuck.n_dofs*np.log(2*np.pi) + 0.5*np.log(np.prod(1/w))"
   ]
  },
  {
   "cell_type": "code",
   "execution_count": null,
   "metadata": {},
   "outputs": [],
   "source": [
    "print fuck.anharmonic_free_energy"
   ]
  },
  {
   "cell_type": "code",
   "execution_count": null,
   "metadata": {},
   "outputs": [],
   "source": [
    "print fuck.min_pose"
   ]
  },
  {
   "cell_type": "code",
   "execution_count": null,
   "metadata": {},
   "outputs": [],
   "source": [
    "mu = np.zeros(fuck.n_dofs)"
   ]
  },
  {
   "cell_type": "code",
   "execution_count": null,
   "metadata": {},
   "outputs": [],
   "source": [
    "print mu"
   ]
  },
  {
   "cell_type": "code",
   "execution_count": null,
   "metadata": {},
   "outputs": [],
   "source": [
    "mu = [fuck.min_pose.torsion(fuck.dof_dict[key]) for key in fuck.dof_dict]"
   ]
  },
  {
   "cell_type": "code",
   "execution_count": null,
   "metadata": {},
   "outputs": [],
   "source": [
    "print mu\n",
    "bitch = np.linalg.inv(fuck.hessian)"
   ]
  },
  {
   "cell_type": "code",
   "execution_count": null,
   "metadata": {},
   "outputs": [],
   "source": [
    "shit = np.random.multivariate_normal(mu, bitch, size=(2000))"
   ]
  },
  {
   "cell_type": "code",
   "execution_count": null,
   "metadata": {},
   "outputs": [],
   "source": [
    "print shit[0,:]"
   ]
  },
  {
   "cell_type": "code",
   "execution_count": null,
   "metadata": {},
   "outputs": [],
   "source": [
    "random_struct = np.zeros((fuck.n_dofs, 2000))\n",
    "\n",
    "for j in range(2000):\n",
    "    \n",
    "    random_struct[:,j] = np.random.multivariate_normal(mu, bitch)"
   ]
  },
  {
   "cell_type": "code",
   "execution_count": null,
   "metadata": {},
   "outputs": [],
   "source": [
    "print random_struct"
   ]
  },
  {
   "cell_type": "code",
   "execution_count": null,
   "metadata": {},
   "outputs": [],
   "source": [
    "print np.cov(random_struct)"
   ]
  },
  {
   "cell_type": "code",
   "execution_count": null,
   "metadata": {},
   "outputs": [],
   "source": [
    "w,v = np.linalg.eigh(np.cov(random_struct))"
   ]
  },
  {
   "cell_type": "code",
   "execution_count": null,
   "metadata": {},
   "outputs": [],
   "source": [
    "print 1/w\n"
   ]
  },
  {
   "cell_type": "code",
   "execution_count": null,
   "metadata": {},
   "outputs": [],
   "source": [
    "cu_ag = MiningMinima('cuc', 'gag')"
   ]
  },
  {
   "cell_type": "code",
   "execution_count": null,
   "metadata": {},
   "outputs": [],
   "source": [
    "cu_ag.harmonic_free_energy"
   ]
  },
  {
   "cell_type": "code",
   "execution_count": null,
   "metadata": {},
   "outputs": [],
   "source": [
    "ensemble = cu_ag.harmonic_ensemble()"
   ]
  },
  {
   "cell_type": "code",
   "execution_count": null,
   "metadata": {},
   "outputs": [],
   "source": [
    "cu_ag.eigenvalues"
   ]
  },
  {
   "cell_type": "code",
   "execution_count": null,
   "metadata": {},
   "outputs": [],
   "source": [
    "np.diag(1/cu_ag.eigenvalues)"
   ]
  },
  {
   "cell_type": "code",
   "execution_count": null,
   "metadata": {},
   "outputs": [],
   "source": [
    "np.matmul( np.matmul( cu_ag.modes, np.diag(1/cu_ag.eigenvalues)), cu_ag.modes.T)"
   ]
  },
  {
   "cell_type": "code",
   "execution_count": null,
   "metadata": {},
   "outputs": [],
   "source": [
    "np.linalg.inv(cu_ag.hessian)"
   ]
  },
  {
   "cell_type": "code",
   "execution_count": null,
   "metadata": {},
   "outputs": [],
   "source": []
  }
 ],
 "metadata": {
  "kernelspec": {
   "display_name": "Python 2",
   "language": "python",
   "name": "python2"
  },
  "language_info": {
   "codemirror_mode": {
    "name": "ipython",
    "version": 2
   },
   "file_extension": ".py",
   "mimetype": "text/x-python",
   "name": "python",
   "nbconvert_exporter": "python",
   "pygments_lexer": "ipython2",
   "version": "2.7.15+"
  }
 },
 "nbformat": 4,
 "nbformat_minor": 2
}
