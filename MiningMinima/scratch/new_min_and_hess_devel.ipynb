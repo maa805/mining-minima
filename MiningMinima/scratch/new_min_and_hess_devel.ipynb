{
 "cells": [
  {
   "cell_type": "code",
   "execution_count": 1,
   "metadata": {
    "scrolled": true
   },
   "outputs": [
    {
     "name": "stdout",
     "output_type": "stream",
     "text": [
      "PyRosetta-4 2019 [Rosetta PyRosetta4.Release.python27.ubuntu 2019.33+release.1e60c63beb532fd475f0f704d68d462b8af2a977 2019-08-09T15:19:57] retrieved from: http://www.pyrosetta.org\n",
      "(C) Copyright Rosetta Commons Member Institutions. Created in JHU by Sergey Lyskov and PyRosetta Team.\n",
      "\u001b[0mcore.init: \u001b[0mChecking for fconfig files in pwd and ./rosetta/flags\n",
      "\u001b[0mcore.init: \u001b[0mRosetta version: PyRosetta4.Release.python27.ubuntu r230 2019.33+release.1e60c63beb5 1e60c63beb532fd475f0f704d68d462b8af2a977 http://www.pyrosetta.org 2019-08-09T15:19:57\n",
      "\u001b[0mcore.init: \u001b[0mcommand: PyRosetta -ex1 -ex2aro -database /usr/local/lib/python2.7/dist-packages/pyrosetta-2019.33+release.1e60c63beb5-py2.7-linux-x86_64.egg/pyrosetta/database\n",
      "\u001b[0mbasic.random.init_random_generator: \u001b[0m'RNG device' seed mode, using '/dev/urandom', seed=-1399000646 seed_offset=0 real_seed=-1399000646\n",
      "\u001b[0mbasic.random.init_random_generator: \u001b[0mRandomGenerator:init: Normal mode, seed=-1399000646 RG_type=mt19937\n"
     ]
    }
   ],
   "source": [
    "import matplotlib as mpl\n",
    "import matplotlib.pyplot as plt\n",
    "from MiningMinima import *\n",
    "from calc_hessian_at_min import *\n",
    "from minimization import *\n",
    "import numpy as np\n",
    "import scipy\n",
    "import matplotlib as mpl\n",
    "import matplotlib.pyplot as plt\n",
    "import seaborn as sns"
   ]
  },
  {
   "cell_type": "code",
   "execution_count": 2,
   "metadata": {},
   "outputs": [
    {
     "data": {
      "image/png": "[encoded data removed]",
      "text/plain": [
       "<matplotlib.figure.Figure at 0x7ffccce2f510>"
      ]
     },
     "metadata": {},
     "output_type": "display_data"
    }
   ],
   "source": [
    "sns.set()\n",
    "palette = 'Set2'\n",
    "sns.palplot(sns.color_palette(palette))\n",
    "sns.set_palette(sns.color_palette(palette))\n",
    "sns.set_style('whitegrid')\n",
    "sns.set_context('talk')"
   ]
  },
  {
   "cell_type": "markdown",
   "metadata": {},
   "source": [
    "### Some useful parameters for later on"
   ]
  },
  {
   "cell_type": "markdown",
   "metadata": {},
   "source": [
    "fa_atr                      0.69\n",
    "fa_rep                      0.11\n",
    "fa_intra_rep                0.0068\n",
    "rna_torsion                 6.13\n",
    "hbond_sc                    2.99\n",
    "fa_sol                      0\n",
    "lk_ball\t\t                0.68\n",
    "stack_elec                  2.29\n",
    "fa_elec_rna_phos_phos       9.53"
   ]
  },
  {
   "cell_type": "code",
   "execution_count": 4,
   "metadata": {
    "collapsed": true
   },
   "outputs": [],
   "source": [
    "limit = np.pi/3\n",
    "dx = 0.005\n",
    "F = np.linspace(-100, 800, 9001)\n",
    "dF = 0.1\n",
    "rna_min_based = [0.69,0.11,0.0068,6.13,2.99,0,0.68,2.29,9.53]"
   ]
  },
  {
   "cell_type": "code",
   "execution_count": 5,
   "metadata": {
    "collapsed": true
   },
   "outputs": [],
   "source": [
    "from recces.data import _get_duplex_seqs\n",
    "from recces.util import DG_CANONICAL, DG_DANGLING"
   ]
  },
  {
   "cell_type": "code",
   "execution_count": 5,
   "metadata": {
    "collapsed": true
   },
   "outputs": [],
   "source": [
    "pos, neg = _get_duplex_seqs('ga', 'uc')"
   ]
  },
  {
   "cell_type": "code",
   "execution_count": 6,
   "metadata": {},
   "outputs": [
    {
     "name": "stdout",
     "output_type": "stream",
     "text": [
      "(('gga_ucc', 'gg', 'cc'), ('gg_cc', 'gga', 'ucc'))\n"
     ]
    }
   ],
   "source": [
    "print(pos,neg)"
   ]
  },
  {
   "cell_type": "code",
   "execution_count": 9,
   "metadata": {
    "collapsed": true
   },
   "outputs": [],
   "source": [
    "def dg_mm(seq1, seq2):\n",
    "    # get relevant simulations\n",
    "    pos, neg = _get_duplex_seqs(seq1, seq2)\n",
    "\n",
    "    dG = 0.\n",
    "\n",
    "    for ii, sim in enumerate(pos):\n",
    "        if ii == 0:\n",
    "            dG += sim_dict[sim].anharmonic_free_energy - 0.5*np.log(2*np.pi/3)*sim_dict[sim].n_dofs\n",
    "        else:\n",
    "            dG += SingleSimulation('/scratch/users/maa805/recces_rosetta/results/rna_min/{}/ST/'.format(sim), rna_min_based).value\n",
    "\n",
    "    for ii, sim in enumerate(neg):\n",
    "        if ii == 0: \n",
    "            dG -= sim_dict[sim].anharmonic_free_energy - 0.5*np.log(2*np.pi/3)*sim_dict[sim].n_dofs\n",
    "        else: \n",
    "            dG -= SingleSimulation('/scratch/users/maa805/recces_rosetta/results/rna_min/{}/ST/'.format(sim), rna_min_based).value\n",
    "\n",
    "    return dG"
   ]
  },
  {
   "cell_type": "code",
   "execution_count": 16,
   "metadata": {
    "collapsed": true
   },
   "outputs": [],
   "source": [
    "del fuck_dict"
   ]
  },
  {
   "cell_type": "code",
   "execution_count": 17,
   "metadata": {},
   "outputs": [
    {
     "name": "stdout",
     "output_type": "stream",
     "text": [
      "Inferring sequence from directory name:  gc\n",
      "Created:  hist_list.txt\n",
      "applying phase space volume for single strand with length  2\n",
      "Inferring sequence from directory name:  gc\n",
      "Created:  hist_list.txt\n",
      "applying phase space volume for single strand with length  2\n",
      "Inferring sequence from directory name:  gcg\n",
      "Created:  hist_list.txt\n",
      "applying phase space volume for single strand with length  3\n",
      "Inferring sequence from directory name:  cgc\n",
      "Created:  hist_list.txt\n",
      "applying phase space volume for single strand with length  3\n",
      "Inferring sequence from directory name:  gc\n",
      "Created:  hist_list.txt\n",
      "applying phase space volume for single strand with length  2\n",
      "Inferring sequence from directory name:  gc\n",
      "Created:  hist_list.txt\n",
      "applying phase space volume for single strand with length  2\n",
      "Inferring sequence from directory name:  gcc\n",
      "Created:  hist_list.txt\n",
      "applying phase space volume for single strand with length  3\n",
      "Inferring sequence from directory name:  ggc\n",
      "Created:  hist_list.txt\n",
      "applying phase space volume for single strand with length  3\n",
      "Inferring sequence from directory name:  ga\n",
      "Created:  hist_list.txt\n",
      "applying phase space volume for single strand with length  2\n",
      "Inferring sequence from directory name:  uc\n",
      "Created:  hist_list.txt\n",
      "applying phase space volume for single strand with length  2\n",
      "Inferring sequence from directory name:  gau\n",
      "Created:  hist_list.txt\n",
      "applying phase space volume for single strand with length  3\n",
      "Inferring sequence from directory name:  auc\n",
      "Created:  hist_list.txt\n",
      "applying phase space volume for single strand with length  3\n",
      "Inferring sequence from directory name:  gu\n",
      "Created:  hist_list.txt\n",
      "applying phase space volume for single strand with length  2\n",
      "Inferring sequence from directory name:  ac\n",
      "Created:  hist_list.txt\n",
      "applying phase space volume for single strand with length  2\n",
      "Inferring sequence from directory name:  gua\n",
      "Created:  hist_list.txt\n",
      "applying phase space volume for single strand with length  3\n",
      "Inferring sequence from directory name:  uac\n",
      "Created:  hist_list.txt\n",
      "applying phase space volume for single strand with length  3\n",
      "Inferring sequence from directory name:  ga\n",
      "Created:  hist_list.txt\n",
      "applying phase space volume for single strand with length  2\n",
      "Inferring sequence from directory name:  uc\n",
      "Created:  hist_list.txt\n",
      "applying phase space volume for single strand with length  2\n",
      "Inferring sequence from directory name:  gac\n",
      "Created:  hist_list.txt\n",
      "applying phase space volume for single strand with length  3\n",
      "Inferring sequence from directory name:  guc\n",
      "Created:  hist_list.txt\n",
      "applying phase space volume for single strand with length  3\n",
      "Inferring sequence from directory name:  gg\n",
      "Created:  hist_list.txt\n",
      "applying phase space volume for single strand with length  2\n",
      "Inferring sequence from directory name:  cc\n",
      "Created:  hist_list.txt\n",
      "applying phase space volume for single strand with length  2\n",
      "Inferring sequence from directory name:  ggc\n",
      "Created:  hist_list.txt\n",
      "applying phase space volume for single strand with length  3\n",
      "Inferring sequence from directory name:  gcc\n",
      "Created:  hist_list.txt\n",
      "applying phase space volume for single strand with length  3\n",
      "Inferring sequence from directory name:  ga\n",
      "Created:  hist_list.txt\n",
      "applying phase space volume for single strand with length  2\n",
      "Inferring sequence from directory name:  uc\n",
      "Created:  hist_list.txt\n",
      "applying phase space volume for single strand with length  2\n",
      "Inferring sequence from directory name:  gaa\n",
      "Created:  hist_list.txt\n",
      "applying phase space volume for single strand with length  3\n",
      "Inferring sequence from directory name:  uuc\n",
      "Created:  hist_list.txt\n",
      "applying phase space volume for single strand with length  3\n",
      "Inferring sequence from directory name:  gu\n",
      "Created:  hist_list.txt\n",
      "applying phase space volume for single strand with length  2\n",
      "Inferring sequence from directory name:  ac\n",
      "Created:  hist_list.txt\n",
      "applying phase space volume for single strand with length  2\n",
      "Inferring sequence from directory name:  guc\n",
      "Created:  hist_list.txt\n",
      "applying phase space volume for single strand with length  3\n",
      "Inferring sequence from directory name:  gac\n",
      "Created:  hist_list.txt\n",
      "applying phase space volume for single strand with length  3\n",
      "Inferring sequence from directory name:  gu\n",
      "Created:  hist_list.txt\n",
      "applying phase space volume for single strand with length  2\n",
      "Inferring sequence from directory name:  ac\n",
      "Created:  hist_list.txt\n",
      "applying phase space volume for single strand with length  2\n",
      "Inferring sequence from directory name:  gug\n",
      "Created:  hist_list.txt\n",
      "applying phase space volume for single strand with length  3\n",
      "Inferring sequence from directory name:  cac\n",
      "Created:  hist_list.txt\n",
      "applying phase space volume for single strand with length  3\n",
      "Inferring sequence from directory name:  ga\n",
      "Created:  hist_list.txt\n",
      "applying phase space volume for single strand with length  2\n",
      "Inferring sequence from directory name:  uc\n",
      "Created:  hist_list.txt\n",
      "applying phase space volume for single strand with length  2\n",
      "Inferring sequence from directory name:  gag\n",
      "Created:  hist_list.txt\n",
      "applying phase space volume for single strand with length  3\n",
      "Inferring sequence from directory name:  cuc\n",
      "Created:  hist_list.txt\n",
      "applying phase space volume for single strand with length  3\n"
     ]
    }
   ],
   "source": [
    "fuck_dict = {}\n",
    "for key in DG_CANONICAL.iterkeys():\n",
    "    seq1, seq2 = key\n",
    "    fuck_dict[key] = dg_mm(seq1, seq2)*KT_IN_KCAL\n"
   ]
  },
  {
   "cell_type": "code",
   "execution_count": 18,
   "metadata": {
    "collapsed": true
   },
   "outputs": [],
   "source": [
    "recces_vals = []\n",
    "mm_vals = []\n",
    "\n",
    "for key in fuck_dict.iterkeys():\n",
    "    mm_vals.append(fuck_dict[key]*KT_IN_KCAL)\n",
    "    recces_vals.append(DG_CANONICAL[key])\n",
    "    \n",
    "recces_vals = np.array(recces_vals)\n",
    "mm_vals = np.array(mm_vals)"
   ]
  },
  {
   "cell_type": "code",
   "execution_count": 21,
   "metadata": {},
   "outputs": [
    {
     "data": {
      "image/png": "[encoded data removed]",
      "text/plain": [
       "<Figure size 432x432 with 2 Axes>"
      ]
     },
     "metadata": {},
     "output_type": "display_data"
    }
   ],
   "source": [
    "norm = plt.Normalize(0,1.5)\n",
    "fig, ax = plt.subplots(nrows=1, ncols=1, figsize=(6,6))\n",
    "sc = ax.scatter(recces_vals, mm_vals, c=np.abs(recces_vals-mm_vals), norm=norm)\n",
    "ax.plot([-5, 1],[-5,1], 'k--')\n",
    "ax.set_xlim((-5,1))\n",
    "ax.set_ylim((-5,1))\n",
    "ax.set_xlabel('Expt $\\Delta$G (kcal/mol)')\n",
    "ax.set_ylabel('MM $\\Delta$G (kcal/mol)')\n",
    "cbaxes = fig.add_axes([0.94, 0.1, 0.03, 0.8]) \n",
    "fig.colorbar(sc, cax=cbaxes)\n",
    "plt.show()"
   ]
  },
  {
   "cell_type": "code",
   "execution_count": 22,
   "metadata": {},
   "outputs": [
    {
     "data": {
      "text/plain": [
       "0.699526822715701"
      ]
     },
     "execution_count": 22,
     "metadata": {},
     "output_type": "execute_result"
    }
   ],
   "source": [
    "np.sqrt(np.mean((recces_vals-mm_vals)**2))"
   ]
  },
  {
   "cell_type": "code",
   "execution_count": null,
   "metadata": {
    "collapsed": true
   },
   "outputs": [],
   "source": [
    "print recces_vals - mm_vals"
   ]
  },
  {
   "cell_type": "code",
   "execution_count": 7,
   "metadata": {
    "collapsed": true,
    "scrolled": true
   },
   "outputs": [],
   "source": [
    "from recces.data import SingleHistSimulation, SingleSimulation\n",
    "\n",
    "def calculate_anharmonicitiy(mm_sim):\n",
    "    w = list([])\n",
    "    h = np.linspace(-limit, limit, int(2*limit/dx)+1)\n",
    "    dh = h[1]-h[0]\n",
    "    \n",
    "    mode_scans = mm_sim.mode_scans\n",
    "    eigenvalues = mm_sim.eigenvalues\n",
    "    for ii in range(mm_sim.n_dofs):\n",
    "        w_anharmonic = np.trapz(h**2*np.exp(-mode_scans[ii]), dx=h[1]-h[0])/np.trapz(np.exp(-mode_scans[ii]), dx=dh)\n",
    "        w_harmonic = np.trapz(np.exp(-0.5*eigenvalues[ii]*h**2)*h**2,dx=h[1]-h[0])/np.trapz(np.exp(-0.5*eigenvalues[ii]*h**2), dx=h[1]-h[0])\n",
    "        w.append(w_anharmonic/w_harmonic)\n",
    "\n",
    "    return w"
   ]
  },
  {
   "cell_type": "code",
   "execution_count": 9,
   "metadata": {
    "scrolled": true
   },
   "outputs": [
    {
     "name": "stdout",
     "output_type": "stream",
     "text": [
      " gaa_uuc\n",
      "-64.12116430897395\n",
      "1e+99\n",
      "-64.12116626933054\n",
      "1.960356598829094e-06\n",
      "-64.12116705332355\n",
      "7.839930020736574e-07\n",
      "-64.12116749599971\n",
      "4.426761677223112e-07\n",
      "-64.12116883424638\n",
      "1.3382466619304978e-06\n",
      "-64.12116884032753\n",
      "6.081151582293387e-09\n",
      "-64.12116884203817\n",
      "1.7106458471971564e-09\n",
      "-64.12116884313755\n",
      "1.0993801424774574e-09\n",
      "Minimization complete\n",
      "[3.95034520e+00 1.13856821e+01 2.92472687e+01 3.39251001e+01\n",
      " 3.87307882e+01 4.41854375e+01 4.95248984e+01 7.21305102e+01\n",
      " 1.12136020e+02 1.18719387e+02 1.30159855e+02 1.41744254e+02\n",
      " 1.58828434e+02 1.79289528e+02 3.36450110e+02 3.65593980e+02\n",
      " 4.05552111e+02 4.29457319e+02 6.39834691e+02 9.98867449e+02\n",
      " 1.22594469e+03 1.65213899e+03 3.05484836e+03 4.84285306e+03\n",
      " 1.13455428e+04 1.52769241e+04]\n",
      "gaa_uuc -18.10021609633118 -18.783383090628153 gac_guc\n",
      "\u001b[0mcore.optimization.LineMinimizer: \u001b[0m\u001b[31m\u001b[1m[ ERROR ]\u001b[0m \u001b[31mInaccurate G! step= 3.8147e-08 Deriv= -2.46227e-06 Finite Diff= 0.000307709\u001b[0m\n",
      "\u001b[0mcore.optimization.LineMinimizer: \u001b[0m\u001b[31m\u001b[1m[ ERROR ]\u001b[0m \u001b[31mInaccurate G! step= 3.8147e-08 Deriv= -2.46227e-06 Finite Diff= 0.000307709\u001b[0m\n",
      "\u001b[0mcore.optimization.LineMinimizer: \u001b[0m\u001b[31m\u001b[1m[ ERROR ]\u001b[0m \u001b[31mInaccurate G! step= 3.8147e-08 Deriv= -2.46227e-06 Finite Diff= 0.000307709\u001b[0m\n",
      "\u001b[0mcore.optimization.LineMinimizer: \u001b[0m\u001b[31m\u001b[1m[ ERROR ]\u001b[0m \u001b[31mInaccurate G! step= 3.8147e-08 Deriv= -2.46227e-06 Finite Diff= 0.000307709\u001b[0m\n",
      "\u001b[0mcore.optimization.LineMinimizer: \u001b[0m\u001b[31m\u001b[1m[ ERROR ]\u001b[0m \u001b[31mInaccurate G! step= 3.8147e-08 Deriv= -2.46227e-06 Finite Diff= 0.000307709\u001b[0m\n",
      "\u001b[0mcore.optimization.LineMinimizer: \u001b[0m\u001b[31m\u001b[1m[ ERROR ]\u001b[0m \u001b[31mInaccurate G! step= 3.8147e-08 Deriv= -2.46227e-06 Finite Diff= 0.000307709\u001b[0m\n",
      "\u001b[0mcore.optimization.LineMinimizer: \u001b[0m\u001b[31m\u001b[1m[ ERROR ]\u001b[0m \u001b[31mInaccurate G! step= 3.8147e-08 Deriv= -2.46227e-06 Finite Diff= 0.000307709\u001b[0m\n",
      "-67.21063726726815\n",
      "1e+99\n",
      "-67.21064357127477\n",
      "6.304006618051972e-06\n",
      "-67.21064442554041\n",
      "8.542656360077672e-07\n",
      "-67.2106449010767\n",
      "4.755362965624954e-07\n",
      "-67.21064492336629\n",
      "2.228958351224719e-08\n",
      "-67.21064492633846\n",
      "2.9721718419750687e-09\n",
      "-67.21064492894448\n",
      "2.606014959383174e-09\n",
      "-67.2106449306589\n",
      "1.7144259345514001e-09\n",
      "-67.21064493247033\n",
      "1.811429228837369e-09\n",
      "-67.2106449340433\n",
      "1.5729710867162794e-09\n",
      "-67.21064493513231\n",
      "1.08900621853536e-09\n",
      "Minimization complete\n",
      "[   21.51328879    31.2165733     34.22772873    37.07782319\n",
      "    55.04290429    66.19184357    71.90659691    83.89189765\n",
      "    95.55765132   101.85471948   128.17504638   150.62852066\n",
      "   163.44782459   256.79218305   342.75922238   402.94885928\n",
      "   411.20368052   501.07739685   718.81547872   908.06568525\n",
      "  1314.90743831  1626.74639681  2526.34663404  7420.18478388\n",
      "  9407.65956792 15610.75410831]\n",
      "gac_guc -20.464381392404974 -19.482570083105276 gag_cuc\n",
      "\u001b[0mcore.optimization.LineMinimizer: \u001b[0m\u001b[31m\u001b[1m[ ERROR ]\u001b[0m \u001b[31mInaccurate G! step= 3.8147e-08 Deriv= -8.56295e-07 Finite Diff= 0.00614226\u001b[0m\n",
      "\u001b[0mcore.optimization.LineMinimizer: \u001b[0m\u001b[31m\u001b[1m[ ERROR ]\u001b[0m \u001b[31mInaccurate G! step= 3.8147e-08 Deriv= -8.56295e-07 Finite Diff= 0.00614226\u001b[0m\n",
      "\u001b[0mcore.optimization.LineMinimizer: \u001b[0m\u001b[31m\u001b[1m[ ERROR ]\u001b[0m \u001b[31mInaccurate G! step= 3.8147e-08 Deriv= -8.56295e-07 Finite Diff= 0.00614226\u001b[0m\n",
      "\u001b[0mcore.optimization.LineMinimizer: \u001b[0m\u001b[31m\u001b[1m[ ERROR ]\u001b[0m \u001b[31mInaccurate G! step= 3.8147e-08 Deriv= -8.56295e-07 Finite Diff= 0.00614226\u001b[0m\n",
      "\u001b[0mcore.optimization.LineMinimizer: \u001b[0m\u001b[31m\u001b[1m[ ERROR ]\u001b[0m \u001b[31mInaccurate G! step= 3.8147e-08 Deriv= -8.56295e-07 Finite Diff= 0.00614226\u001b[0m\n"
     ]
    },
    {
     "ename": "KeyboardInterrupt",
     "evalue": "",
     "output_type": "error",
     "traceback": [
      "\u001b[0;31m---------------------------------------------------------------------------\u001b[0m",
      "\u001b[0;31mKeyboardInterrupt\u001b[0m                         Traceback (most recent call last)",
      "\u001b[0;32m<ipython-input-9-d1941f09234a>\u001b[0m in \u001b[0;36m<module>\u001b[0;34m()\u001b[0m\n\u001b[1;32m     27\u001b[0m     \u001b[0mseq2\u001b[0m \u001b[0;34m=\u001b[0m \u001b[0mseqs\u001b[0m\u001b[0;34m[\u001b[0m\u001b[0;36m1\u001b[0m\u001b[0;34m]\u001b[0m\u001b[0;34m\u001b[0m\u001b[0;34m\u001b[0m\u001b[0m\n\u001b[1;32m     28\u001b[0m \u001b[0;34m\u001b[0m\u001b[0m\n\u001b[0;32m---> 29\u001b[0;31m     \u001b[0mfuck\u001b[0m \u001b[0;34m=\u001b[0m \u001b[0mMiningMinima\u001b[0m\u001b[0;34m(\u001b[0m\u001b[0mseq1\u001b[0m\u001b[0;34m,\u001b[0m \u001b[0mseq2\u001b[0m\u001b[0;34m,\u001b[0m \u001b[0mscorefxn\u001b[0m\u001b[0;34m=\u001b[0m\u001b[0;34m'rna_min_based_turner.wts'\u001b[0m\u001b[0;34m)\u001b[0m\u001b[0;34m\u001b[0m\u001b[0;34m\u001b[0m\u001b[0m\n\u001b[0m\u001b[1;32m     30\u001b[0m     \u001b[0msim_dict\u001b[0m\u001b[0;34m[\u001b[0m\u001b[0msim\u001b[0m\u001b[0;34m]\u001b[0m \u001b[0;34m=\u001b[0m \u001b[0mfuck\u001b[0m\u001b[0;34m\u001b[0m\u001b[0;34m\u001b[0m\u001b[0m\n\u001b[1;32m     31\u001b[0m     \u001b[0;31m#hist = SingleSimulation('/scratch/users/maa805/recces_rosetta/results/rna_min//'+sim+'/ST/', rna_min_based)\u001b[0m\u001b[0;34m\u001b[0m\u001b[0;34m\u001b[0m\u001b[0;34m\u001b[0m\u001b[0m\n",
      "\u001b[0;32m/mnt/c/Users/maadr/OneDrive/das-lab/mining-minima/MiningMinima/scratch/MiningMinima.py\u001b[0m in \u001b[0;36m__init__\u001b[0;34m(self, seq1, seq2, infile, scorefxn, kt)\u001b[0m\n\u001b[1;32m     39\u001b[0m \u001b[0;34m\u001b[0m\u001b[0m\n\u001b[1;32m     40\u001b[0m         \u001b[0;31m# perform gradient-free minimization to reduce numerical errors\u001b[0m\u001b[0;34m\u001b[0m\u001b[0;34m\u001b[0m\u001b[0;34m\u001b[0m\u001b[0m\n\u001b[0;32m---> 41\u001b[0;31m         \u001b[0mself\u001b[0m\u001b[0;34m.\u001b[0m\u001b[0mgradient_free_minimize\u001b[0m\u001b[0;34m(\u001b[0m\u001b[0mn_cycles\u001b[0m\u001b[0;34m=\u001b[0m\u001b[0;36m100\u001b[0m\u001b[0;34m)\u001b[0m\u001b[0;34m\u001b[0m\u001b[0;34m\u001b[0m\u001b[0m\n\u001b[0m\u001b[1;32m     42\u001b[0m \u001b[0;34m\u001b[0m\u001b[0m\n\u001b[1;32m     43\u001b[0m         \u001b[0;31m# Calculate hessian at base of minimum and normal modes\u001b[0m\u001b[0;34m\u001b[0m\u001b[0;34m\u001b[0m\u001b[0;34m\u001b[0m\u001b[0m\n",
      "\u001b[0;32m/mnt/c/Users/maadr/OneDrive/das-lab/mining-minima/MiningMinima/scratch/MiningMinima.py\u001b[0m in \u001b[0;36mgradient_free_minimize\u001b[0;34m(self, n_cycles)\u001b[0m\n\u001b[1;32m    189\u001b[0m         \u001b[0;32mwhile\u001b[0m \u001b[0mabs\u001b[0m\u001b[0;34m(\u001b[0m\u001b[0mold_energy\u001b[0m\u001b[0;34m-\u001b[0m\u001b[0mnew_energy\u001b[0m\u001b[0;34m)\u001b[0m \u001b[0;34m>\u001b[0m \u001b[0;36m1.5e-9\u001b[0m \u001b[0;32mand\u001b[0m \u001b[0mpowell_count\u001b[0m \u001b[0;34m<\u001b[0m \u001b[0mn_cycles\u001b[0m\u001b[0;34m:\u001b[0m\u001b[0;34m\u001b[0m\u001b[0;34m\u001b[0m\u001b[0m\n\u001b[1;32m    190\u001b[0m             \u001b[0mold_energy\u001b[0m \u001b[0;34m=\u001b[0m \u001b[0mnew_energy\u001b[0m\u001b[0;34m\u001b[0m\u001b[0;34m\u001b[0m\u001b[0m\n\u001b[0;32m--> 191\u001b[0;31m             \u001b[0mmin_dofs\u001b[0m\u001b[0;34m,\u001b[0m \u001b[0mnew_energy\u001b[0m \u001b[0;34m=\u001b[0m \u001b[0mpowell_minimize\u001b[0m\u001b[0;34m(\u001b[0m\u001b[0mmin_dofs\u001b[0m\u001b[0;34m,\u001b[0m \u001b[0mself\u001b[0m\u001b[0;34m.\u001b[0m\u001b[0mmultifunc\u001b[0m\u001b[0;34m,\u001b[0m \u001b[0mself\u001b[0m\u001b[0;34m.\u001b[0m\u001b[0mn_dofs\u001b[0m\u001b[0;34m)\u001b[0m\u001b[0;34m\u001b[0m\u001b[0;34m\u001b[0m\u001b[0m\n\u001b[0m\u001b[1;32m    192\u001b[0m             \u001b[0mpowell_count\u001b[0m \u001b[0;34m+=\u001b[0m \u001b[0;36m1\u001b[0m\u001b[0;34m\u001b[0m\u001b[0;34m\u001b[0m\u001b[0m\n\u001b[1;32m    193\u001b[0m             \u001b[0;32mprint\u001b[0m \u001b[0mnew_energy\u001b[0m\u001b[0;34m\u001b[0m\u001b[0;34m\u001b[0m\u001b[0m\n",
      "\u001b[0;32m/mnt/c/Users/maadr/OneDrive/das-lab/mining-minima/MiningMinima/scratch/MiningMinima.py\u001b[0m in \u001b[0;36mpowell_minimize\u001b[0;34m(start_dofs, multifunc, ndofs)\u001b[0m\n\u001b[1;32m    227\u001b[0m     \u001b[0mndofs\u001b[0m \u001b[0;34m=\u001b[0m \u001b[0mlen\u001b[0m\u001b[0;34m(\u001b[0m\u001b[0mstart_dofs\u001b[0m\u001b[0;34m)\u001b[0m\u001b[0;34m\u001b[0m\u001b[0;34m\u001b[0m\u001b[0m\n\u001b[1;32m    228\u001b[0m     result = minimize(min_func, x0=np.array(start_dofs), args=(multifunc,), method='Powell',\n\u001b[0;32m--> 229\u001b[0;31m                       options={'maxfev': ndofs*1000}, tol=1.5e-10)\n\u001b[0m\u001b[1;32m    230\u001b[0m     \u001b[0;32mreturn\u001b[0m \u001b[0mresult\u001b[0m\u001b[0;34m.\u001b[0m\u001b[0mx\u001b[0m\u001b[0;34m,\u001b[0m \u001b[0mresult\u001b[0m\u001b[0;34m.\u001b[0m\u001b[0mfun\u001b[0m \u001b[0;31m# return min_dofs (x) and funciton value (fun)\u001b[0m\u001b[0;34m\u001b[0m\u001b[0;34m\u001b[0m\u001b[0m\n\u001b[1;32m    231\u001b[0m \u001b[0;34m\u001b[0m\u001b[0m\n",
      "\u001b[0;32m/usr/lib/python2.7/dist-packages/scipy/optimize/_minimize.pyc\u001b[0m in \u001b[0;36mminimize\u001b[0;34m(fun, x0, args, method, jac, hess, hessp, bounds, constraints, tol, callback, options)\u001b[0m\n\u001b[1;32m    438\u001b[0m         \u001b[0;32mreturn\u001b[0m \u001b[0m_minimize_neldermead\u001b[0m\u001b[0;34m(\u001b[0m\u001b[0mfun\u001b[0m\u001b[0;34m,\u001b[0m \u001b[0mx0\u001b[0m\u001b[0;34m,\u001b[0m \u001b[0margs\u001b[0m\u001b[0;34m,\u001b[0m \u001b[0mcallback\u001b[0m\u001b[0;34m,\u001b[0m \u001b[0;34m**\u001b[0m\u001b[0moptions\u001b[0m\u001b[0;34m)\u001b[0m\u001b[0;34m\u001b[0m\u001b[0;34m\u001b[0m\u001b[0m\n\u001b[1;32m    439\u001b[0m     \u001b[0;32melif\u001b[0m \u001b[0mmeth\u001b[0m \u001b[0;34m==\u001b[0m \u001b[0;34m'powell'\u001b[0m\u001b[0;34m:\u001b[0m\u001b[0;34m\u001b[0m\u001b[0;34m\u001b[0m\u001b[0m\n\u001b[0;32m--> 440\u001b[0;31m         \u001b[0;32mreturn\u001b[0m \u001b[0m_minimize_powell\u001b[0m\u001b[0;34m(\u001b[0m\u001b[0mfun\u001b[0m\u001b[0;34m,\u001b[0m \u001b[0mx0\u001b[0m\u001b[0;34m,\u001b[0m \u001b[0margs\u001b[0m\u001b[0;34m,\u001b[0m \u001b[0mcallback\u001b[0m\u001b[0;34m,\u001b[0m \u001b[0;34m**\u001b[0m\u001b[0moptions\u001b[0m\u001b[0;34m)\u001b[0m\u001b[0;34m\u001b[0m\u001b[0;34m\u001b[0m\u001b[0m\n\u001b[0m\u001b[1;32m    441\u001b[0m     \u001b[0;32melif\u001b[0m \u001b[0mmeth\u001b[0m \u001b[0;34m==\u001b[0m \u001b[0;34m'cg'\u001b[0m\u001b[0;34m:\u001b[0m\u001b[0;34m\u001b[0m\u001b[0;34m\u001b[0m\u001b[0m\n\u001b[1;32m    442\u001b[0m         \u001b[0;32mreturn\u001b[0m \u001b[0m_minimize_cg\u001b[0m\u001b[0;34m(\u001b[0m\u001b[0mfun\u001b[0m\u001b[0;34m,\u001b[0m \u001b[0mx0\u001b[0m\u001b[0;34m,\u001b[0m \u001b[0margs\u001b[0m\u001b[0;34m,\u001b[0m \u001b[0mjac\u001b[0m\u001b[0;34m,\u001b[0m \u001b[0mcallback\u001b[0m\u001b[0;34m,\u001b[0m \u001b[0;34m**\u001b[0m\u001b[0moptions\u001b[0m\u001b[0;34m)\u001b[0m\u001b[0;34m\u001b[0m\u001b[0;34m\u001b[0m\u001b[0m\n",
      "\u001b[0;32m/usr/lib/python2.7/dist-packages/scipy/optimize/optimize.pyc\u001b[0m in \u001b[0;36m_minimize_powell\u001b[0;34m(func, x0, args, callback, xtol, ftol, maxiter, maxfev, disp, direc, return_all, **unknown_options)\u001b[0m\n\u001b[1;32m   2436\u001b[0m             \u001b[0mfx2\u001b[0m \u001b[0;34m=\u001b[0m \u001b[0mfval\u001b[0m\u001b[0;34m\u001b[0m\u001b[0;34m\u001b[0m\u001b[0m\n\u001b[1;32m   2437\u001b[0m             fval, x, direc1 = _linesearch_powell(func, x, direc1,\n\u001b[0;32m-> 2438\u001b[0;31m                                                  tol=xtol * 100)\n\u001b[0m\u001b[1;32m   2439\u001b[0m             \u001b[0;32mif\u001b[0m \u001b[0;34m(\u001b[0m\u001b[0mfx2\u001b[0m \u001b[0;34m-\u001b[0m \u001b[0mfval\u001b[0m\u001b[0;34m)\u001b[0m \u001b[0;34m>\u001b[0m \u001b[0mdelta\u001b[0m\u001b[0;34m:\u001b[0m\u001b[0;34m\u001b[0m\u001b[0;34m\u001b[0m\u001b[0m\n\u001b[1;32m   2440\u001b[0m                 \u001b[0mdelta\u001b[0m \u001b[0;34m=\u001b[0m \u001b[0mfx2\u001b[0m \u001b[0;34m-\u001b[0m \u001b[0mfval\u001b[0m\u001b[0;34m\u001b[0m\u001b[0;34m\u001b[0m\u001b[0m\n",
      "\u001b[0;32m/usr/lib/python2.7/dist-packages/scipy/optimize/optimize.pyc\u001b[0m in \u001b[0;36m_linesearch_powell\u001b[0;34m(func, p, xi, tol)\u001b[0m\n\u001b[1;32m   2244\u001b[0m     \u001b[0;32mdef\u001b[0m \u001b[0mmyfunc\u001b[0m\u001b[0;34m(\u001b[0m\u001b[0malpha\u001b[0m\u001b[0;34m)\u001b[0m\u001b[0;34m:\u001b[0m\u001b[0;34m\u001b[0m\u001b[0;34m\u001b[0m\u001b[0m\n\u001b[1;32m   2245\u001b[0m         \u001b[0;32mreturn\u001b[0m \u001b[0mfunc\u001b[0m\u001b[0;34m(\u001b[0m\u001b[0mp\u001b[0m \u001b[0;34m+\u001b[0m \u001b[0malpha\u001b[0m\u001b[0;34m*\u001b[0m\u001b[0mxi\u001b[0m\u001b[0;34m)\u001b[0m\u001b[0;34m\u001b[0m\u001b[0;34m\u001b[0m\u001b[0m\n\u001b[0;32m-> 2246\u001b[0;31m     \u001b[0malpha_min\u001b[0m\u001b[0;34m,\u001b[0m \u001b[0mfret\u001b[0m\u001b[0;34m,\u001b[0m \u001b[0miter\u001b[0m\u001b[0;34m,\u001b[0m \u001b[0mnum\u001b[0m \u001b[0;34m=\u001b[0m \u001b[0mbrent\u001b[0m\u001b[0;34m(\u001b[0m\u001b[0mmyfunc\u001b[0m\u001b[0;34m,\u001b[0m \u001b[0mfull_output\u001b[0m\u001b[0;34m=\u001b[0m\u001b[0;36m1\u001b[0m\u001b[0;34m,\u001b[0m \u001b[0mtol\u001b[0m\u001b[0;34m=\u001b[0m\u001b[0mtol\u001b[0m\u001b[0;34m)\u001b[0m\u001b[0;34m\u001b[0m\u001b[0;34m\u001b[0m\u001b[0m\n\u001b[0m\u001b[1;32m   2247\u001b[0m     \u001b[0mxi\u001b[0m \u001b[0;34m=\u001b[0m \u001b[0malpha_min\u001b[0m\u001b[0;34m*\u001b[0m\u001b[0mxi\u001b[0m\u001b[0;34m\u001b[0m\u001b[0;34m\u001b[0m\u001b[0m\n\u001b[1;32m   2248\u001b[0m     \u001b[0;32mreturn\u001b[0m \u001b[0msqueeze\u001b[0m\u001b[0;34m(\u001b[0m\u001b[0mfret\u001b[0m\u001b[0;34m)\u001b[0m\u001b[0;34m,\u001b[0m \u001b[0mp\u001b[0m \u001b[0;34m+\u001b[0m \u001b[0mxi\u001b[0m\u001b[0;34m,\u001b[0m \u001b[0mxi\u001b[0m\u001b[0;34m\u001b[0m\u001b[0;34m\u001b[0m\u001b[0m\n",
      "\u001b[0;32m/usr/lib/python2.7/dist-packages/scipy/optimize/optimize.pyc\u001b[0m in \u001b[0;36mbrent\u001b[0;34m(func, args, brack, tol, full_output, maxiter)\u001b[0m\n\u001b[1;32m   1975\u001b[0m     options = {'xtol': tol,\n\u001b[1;32m   1976\u001b[0m                'maxiter': maxiter}\n\u001b[0;32m-> 1977\u001b[0;31m     \u001b[0mres\u001b[0m \u001b[0;34m=\u001b[0m \u001b[0m_minimize_scalar_brent\u001b[0m\u001b[0;34m(\u001b[0m\u001b[0mfunc\u001b[0m\u001b[0;34m,\u001b[0m \u001b[0mbrack\u001b[0m\u001b[0;34m,\u001b[0m \u001b[0margs\u001b[0m\u001b[0;34m,\u001b[0m \u001b[0;34m**\u001b[0m\u001b[0moptions\u001b[0m\u001b[0;34m)\u001b[0m\u001b[0;34m\u001b[0m\u001b[0;34m\u001b[0m\u001b[0m\n\u001b[0m\u001b[1;32m   1978\u001b[0m     \u001b[0;32mif\u001b[0m \u001b[0mfull_output\u001b[0m\u001b[0;34m:\u001b[0m\u001b[0;34m\u001b[0m\u001b[0;34m\u001b[0m\u001b[0m\n\u001b[1;32m   1979\u001b[0m         \u001b[0;32mreturn\u001b[0m \u001b[0mres\u001b[0m\u001b[0;34m[\u001b[0m\u001b[0;34m'x'\u001b[0m\u001b[0;34m]\u001b[0m\u001b[0;34m,\u001b[0m \u001b[0mres\u001b[0m\u001b[0;34m[\u001b[0m\u001b[0;34m'fun'\u001b[0m\u001b[0;34m]\u001b[0m\u001b[0;34m,\u001b[0m \u001b[0mres\u001b[0m\u001b[0;34m[\u001b[0m\u001b[0;34m'nit'\u001b[0m\u001b[0;34m]\u001b[0m\u001b[0;34m,\u001b[0m \u001b[0mres\u001b[0m\u001b[0;34m[\u001b[0m\u001b[0;34m'nfev'\u001b[0m\u001b[0;34m]\u001b[0m\u001b[0;34m\u001b[0m\u001b[0;34m\u001b[0m\u001b[0m\n",
      "\u001b[0;32m/usr/lib/python2.7/dist-packages/scipy/optimize/optimize.pyc\u001b[0m in \u001b[0;36m_minimize_scalar_brent\u001b[0;34m(func, brack, args, xtol, maxiter, **unknown_options)\u001b[0m\n\u001b[1;32m   2007\u001b[0m                   full_output=True, maxiter=maxiter)\n\u001b[1;32m   2008\u001b[0m     \u001b[0mbrent\u001b[0m\u001b[0;34m.\u001b[0m\u001b[0mset_bracket\u001b[0m\u001b[0;34m(\u001b[0m\u001b[0mbrack\u001b[0m\u001b[0;34m)\u001b[0m\u001b[0;34m\u001b[0m\u001b[0;34m\u001b[0m\u001b[0m\n\u001b[0;32m-> 2009\u001b[0;31m     \u001b[0mbrent\u001b[0m\u001b[0;34m.\u001b[0m\u001b[0moptimize\u001b[0m\u001b[0;34m(\u001b[0m\u001b[0;34m)\u001b[0m\u001b[0;34m\u001b[0m\u001b[0;34m\u001b[0m\u001b[0m\n\u001b[0m\u001b[1;32m   2010\u001b[0m     \u001b[0mx\u001b[0m\u001b[0;34m,\u001b[0m \u001b[0mfval\u001b[0m\u001b[0;34m,\u001b[0m \u001b[0mnit\u001b[0m\u001b[0;34m,\u001b[0m \u001b[0mnfev\u001b[0m \u001b[0;34m=\u001b[0m \u001b[0mbrent\u001b[0m\u001b[0;34m.\u001b[0m\u001b[0mget_result\u001b[0m\u001b[0;34m(\u001b[0m\u001b[0mfull_output\u001b[0m\u001b[0;34m=\u001b[0m\u001b[0mTrue\u001b[0m\u001b[0;34m)\u001b[0m\u001b[0;34m\u001b[0m\u001b[0;34m\u001b[0m\u001b[0m\n\u001b[1;32m   2011\u001b[0m     return OptimizeResult(fun=fval, x=x, nit=nit, nfev=nfev,\n",
      "\u001b[0;32m/usr/lib/python2.7/dist-packages/scipy/optimize/optimize.pyc\u001b[0m in \u001b[0;36moptimize\u001b[0;34m(self)\u001b[0m\n\u001b[1;32m   1831\u001b[0m         \u001b[0miter\u001b[0m \u001b[0;34m=\u001b[0m \u001b[0;36m0\u001b[0m\u001b[0;34m\u001b[0m\u001b[0;34m\u001b[0m\u001b[0m\n\u001b[1;32m   1832\u001b[0m         \u001b[0;32mwhile\u001b[0m \u001b[0;34m(\u001b[0m\u001b[0miter\u001b[0m \u001b[0;34m<\u001b[0m \u001b[0mself\u001b[0m\u001b[0;34m.\u001b[0m\u001b[0mmaxiter\u001b[0m\u001b[0;34m)\u001b[0m\u001b[0;34m:\u001b[0m\u001b[0;34m\u001b[0m\u001b[0;34m\u001b[0m\u001b[0m\n\u001b[0;32m-> 1833\u001b[0;31m             \u001b[0mtol1\u001b[0m \u001b[0;34m=\u001b[0m \u001b[0mself\u001b[0m\u001b[0;34m.\u001b[0m\u001b[0mtol\u001b[0m \u001b[0;34m*\u001b[0m \u001b[0mnumpy\u001b[0m\u001b[0;34m.\u001b[0m\u001b[0mabs\u001b[0m\u001b[0;34m(\u001b[0m\u001b[0mx\u001b[0m\u001b[0;34m)\u001b[0m \u001b[0;34m+\u001b[0m \u001b[0m_mintol\u001b[0m\u001b[0;34m\u001b[0m\u001b[0;34m\u001b[0m\u001b[0m\n\u001b[0m\u001b[1;32m   1834\u001b[0m             \u001b[0mtol2\u001b[0m \u001b[0;34m=\u001b[0m \u001b[0;36m2.0\u001b[0m \u001b[0;34m*\u001b[0m \u001b[0mtol1\u001b[0m\u001b[0;34m\u001b[0m\u001b[0;34m\u001b[0m\u001b[0m\n\u001b[1;32m   1835\u001b[0m             \u001b[0mxmid\u001b[0m \u001b[0;34m=\u001b[0m \u001b[0;36m0.5\u001b[0m \u001b[0;34m*\u001b[0m \u001b[0;34m(\u001b[0m\u001b[0ma\u001b[0m \u001b[0;34m+\u001b[0m \u001b[0mb\u001b[0m\u001b[0;34m)\u001b[0m\u001b[0;34m\u001b[0m\u001b[0;34m\u001b[0m\u001b[0m\n",
      "\u001b[0;31mKeyboardInterrupt\u001b[0m: "
     ]
    }
   ],
   "source": [
    "from scipy.special import logsumexp\n",
    "limit = np.pi/3\n",
    "dx = 0.005\n",
    "F = np.linspace(-100,800,9001)\n",
    "dF = 0.1\n",
    "\n",
    "sims = ['gaa_uuc', 'gac_guc', 'gag_cuc', 'gau_auc', \n",
    "        'gca_ugc', 'gcc_ggc', 'gcg_cgc', 'gcu_agc',\n",
    "        'gga_ucc', 'ggc_gcc', 'ggg_ccc', 'ggu_acc',\n",
    "        'gua_uac', 'guc_gac', 'gug_cac', 'guu_aac',\n",
    "        'ga_uc', 'gc_gc', 'gg_cc', 'gu_ac']\n",
    "F = np.linspace(-100,800,9001)\n",
    "dF = 0.1\n",
    "anharmonic_E = []\n",
    "#harmonic_E = []\n",
    "RECCES_E = []\n",
    "DOS_E = []\n",
    "recces_dict = {}\n",
    "sim_dict = {}\n",
    "\n",
    "E = np.linspace(-100,800,9001)\n",
    "\n",
    "for sim in sims:\n",
    "    print sim\n",
    "    seqs = sim.split('_')\n",
    "    seq1 = seqs[0]\n",
    "    seq2 = seqs[1]\n",
    "    \n",
    "    fuck = MiningMinima(seq1, seq2, scorefxn='rna_min_based_turner.wts')\n",
    "    sim_dict[sim] = fuck\n",
    "    #hist = SingleSimulation('/scratch/users/maa805/recces_rosetta/results/rna_min//'+sim+'/ST/', rna_min_based)\n",
    "    \n",
    "    anharmonic_E.append(fuck.min_energy - fuck.total_log_partition )#- np.log(2*limit)*0.5*fuck.n_dofs + 0*len(seq1)*np.log(2*np.pi/3))\n",
    "        \n",
    "    #RECCES_E.append(hist.value)\n",
    "    DOS_E.append(-logsumexp(-F,b=fuck.dos(F)*dF) + np.log(dF))# - np.log(2*limit)*1.0*fuck.n_dofs + 0*np.log(2*np.pi/3)*len(seq1)) \n",
    "    print fuck.eigenvalues\n",
    "    print sim, anharmonic_E[-1], DOS_E[-1], #RECCES_E[-1]\n",
    "    #w_dict[sim] = calculate_anharmonicitiy(fuck)"
   ]
  },
  {
   "cell_type": "code",
   "execution_count": 7,
   "metadata": {},
   "outputs": [
    {
     "name": "stdout",
     "output_type": "stream",
     "text": [
      "-18.10021609633118\n"
     ]
    }
   ],
   "source": [
    "print fuck.anharmonic_free_energy"
   ]
  },
  {
   "cell_type": "code",
   "execution_count": null,
   "metadata": {
    "collapsed": true
   },
   "outputs": [],
   "source": [
    "def recompute_hessian(mm_sim, h):\n",
    "    mm_sim.hessian = hessian_at_min(mm_sim.min_dofs, mm_sim.multifunc)\n",
    "    for ii, node in enumerate(mm_sim.min_map.dof_nodes()):\n",
    "        mm_sim.hessian[ii] *= mm_sim.min_map.torsion_scale_factor(node)\n",
    "    mm_sim.eigenvalues, mm_sim.modes = np.linalg.eigh(mm_sim.hessian)\n",
    "    mm_sim.calc_anharmonic_free_energy()\n",
    "    return mm_sim"
   ]
  },
  {
   "cell_type": "code",
   "execution_count": null,
   "metadata": {
    "collapsed": true
   },
   "outputs": [],
   "source": [
    "mm_sim = sim_dict['gac_guc']\n",
    "recompute_hessian(mm_sim, h=1.5e-7)"
   ]
  },
  {
   "cell_type": "code",
   "execution_count": null,
   "metadata": {
    "collapsed": true
   },
   "outputs": [],
   "source": [
    "mm_sim.anharmonic_free_energy - mm_sim.n_dofs*np.log(2*np.pi/3)*0.5"
   ]
  },
  {
   "cell_type": "code",
   "execution_count": null,
   "metadata": {
    "collapsed": true
   },
   "outputs": [],
   "source": [
    "sim_dict['gaa_uuc'].anharmonic_free_energy- 0.5*np.log(2*np.pi/3)*sim_dict['gaa_uuc'].n_dofs"
   ]
  },
  {
   "cell_type": "code",
   "execution_count": null,
   "metadata": {
    "collapsed": true
   },
   "outputs": [],
   "source": [
    "for key in sim_dict.iterkeys():\n",
    "    seq1, se2 = key.split('_')\n",
    "    sim = SingleSimulation('/scratch/users/maa805/recces_rosetta/results/rna_min/'+key+'/ST/',rna_min_based)\n",
    "    print key, sim_dict[key].anharmonic_free_energy - 0.5*np.log(2*np.pi/3)*sim_dict[key].n_dofs, sim.value\n"
   ]
  },
  {
   "cell_type": "code",
   "execution_count": 1,
   "metadata": {},
   "outputs": [
    {
     "ename": "NameError",
     "evalue": "name 'plt' is not defined",
     "output_type": "error",
     "traceback": [
      "\u001b[0;31m\u001b[0m",
      "\u001b[0;31mNameError\u001b[0mTraceback (most recent call last)",
      "\u001b[0;32m<ipython-input-1-b08fddb738c6>\u001b[0m in \u001b[0;36m<module>\u001b[0;34m()\u001b[0m\n\u001b[0;32m----> 1\u001b[0;31m \u001b[0mfig\u001b[0m\u001b[0;34m,\u001b[0m \u001b[0max\u001b[0m \u001b[0;34m=\u001b[0m \u001b[0mplt\u001b[0m\u001b[0;34m.\u001b[0m\u001b[0msubplots\u001b[0m\u001b[0;34m(\u001b[0m\u001b[0mnrows\u001b[0m\u001b[0;34m=\u001b[0m\u001b[0;36m1\u001b[0m\u001b[0;34m,\u001b[0m \u001b[0mncols\u001b[0m\u001b[0;34m=\u001b[0m\u001b[0;36m2\u001b[0m\u001b[0;34m,\u001b[0m \u001b[0mfigsize\u001b[0m\u001b[0;34m=\u001b[0m\u001b[0;34m(\u001b[0m\u001b[0;36m12\u001b[0m\u001b[0;34m,\u001b[0m\u001b[0;36m6\u001b[0m\u001b[0;34m)\u001b[0m\u001b[0;34m)\u001b[0m\u001b[0;34m\u001b[0m\u001b[0m\n\u001b[0m\u001b[1;32m      2\u001b[0m \u001b[0mnorm\u001b[0m \u001b[0;34m=\u001b[0m \u001b[0mplt\u001b[0m\u001b[0;34m.\u001b[0m\u001b[0mNormalize\u001b[0m\u001b[0;34m(\u001b[0m\u001b[0;36m0\u001b[0m\u001b[0;34m,\u001b[0m\u001b[0;36m3.5\u001b[0m\u001b[0;34m)\u001b[0m\u001b[0;34m\u001b[0m\u001b[0m\n\u001b[1;32m      3\u001b[0m \u001b[0;34m\u001b[0m\u001b[0m\n\u001b[1;32m      4\u001b[0m \u001b[0mharm\u001b[0m \u001b[0;34m=\u001b[0m \u001b[0mnp\u001b[0m\u001b[0;34m.\u001b[0m\u001b[0marray\u001b[0m\u001b[0;34m(\u001b[0m\u001b[0mDOS_E\u001b[0m\u001b[0;34m)\u001b[0m\u001b[0;34m*\u001b[0m\u001b[0mKT_IN_KCAL\u001b[0m\u001b[0;34m\u001b[0m\u001b[0m\n\u001b[1;32m      5\u001b[0m \u001b[0mrecces\u001b[0m \u001b[0;34m=\u001b[0m \u001b[0mnp\u001b[0m\u001b[0;34m.\u001b[0m\u001b[0marray\u001b[0m\u001b[0;34m(\u001b[0m\u001b[0mRECCES_E\u001b[0m\u001b[0;34m)\u001b[0m\u001b[0;34m*\u001b[0m\u001b[0mKT_IN_KCAL\u001b[0m\u001b[0;34m\u001b[0m\u001b[0m\n",
      "\u001b[0;31mNameError\u001b[0m: name 'plt' is not defined"
     ]
    }
   ],
   "source": [
    "fig, ax = plt.subplots(nrows=1, ncols=2, figsize=(12,6))\n",
    "norm = plt.Normalize(0,3.5)\n",
    "\n",
    "harm = np.array(DOS_E)*KT_IN_KCAL\n",
    "recces = np.array(RECCES_E)*KT_IN_KCAL\n",
    "anharm = np.array(anharmonic_E)*KT_IN_KCAL\n",
    "\n",
    "sc = ax[0].scatter(recces, anharm, c=np.abs(recces-anharm), norm=norm)\n",
    "ax[1].scatter(recces, harm, c=np.abs(recces-harm), norm=norm)\n",
    "for axis in ax:\n",
    "    axis.set(xlim=(-30, -5), ylim=(-30, -5))\n",
    "    axis.plot([-30,-5],[-30,-5], 'k--')\n",
    "\n",
    "cbaxes = fig.add_axes([0.94, 0.1, 0.03, 0.8]) \n",
    "fig.colorbar(sc, cax=cbaxes)\n",
    "fig.text(0.5, 0.04, 'RECCES free energy (kcal/mol)', ha='center', va='center')\n",
    "fig.text(0.06, 0.5, 'estimated free energy (kcal/mol)', ha='center', va='center', rotation='vertical')\n",
    "print np.sqrt(np.mean((recces-anharm)**2))\n",
    "print np.sqrt(np.mean((recces-harm)**2))\n",
    "\n",
    "fig.savefig('/mnt/c/Users/maadr/OneDrive/das-lab/flash-slides/20190927/mm_rna_min_e5')\n"
   ]
  },
  {
   "cell_type": "code",
   "execution_count": null,
   "metadata": {
    "collapsed": true
   },
   "outputs": [],
   "source": [
    "dE = []\n",
    "for ii, val in enumerate(harm):\n",
    "    if np.isnan(val):\n",
    "        continue\n",
    "    else:\n",
    "        dE.append(val - recces[ii])\n",
    "print np.sqrt(np.mean(np.array(dE)**2))        "
   ]
  },
  {
   "cell_type": "markdown",
   "metadata": {},
   "source": [
    "### Developing subroutine to extract gradient evaluations"
   ]
  },
  {
   "cell_type": "code",
   "execution_count": null,
   "metadata": {
    "collapsed": true,
    "scrolled": true
   },
   "outputs": [],
   "source": [
    "# use mm object to get stuff \n",
    "seq1, seq2 = 'ggc', 'gcc'\n",
    "mm_sim = MiningMinima(seq1=seq1, seq2=seq2, scorefxn='stepwise/rna/rna_min_based_turner')"
   ]
  },
  {
   "cell_type": "code",
   "execution_count": null,
   "metadata": {
    "collapsed": true
   },
   "outputs": [],
   "source": [
    "print mm_sim.eigenvalues"
   ]
  },
  {
   "cell_type": "code",
   "execution_count": null,
   "metadata": {
    "collapsed": true
   },
   "outputs": [],
   "source": [
    "print mm_sim.min_energy - mm_sim.total_log_partition #- 0.5*np.log(2*np.pi/3)*mm_sim.n_dofs\n",
    "mm_sim.calc_harmonic_free_energy()\n",
    "print mm_sim.harmonic_free_energy"
   ]
  },
  {
   "cell_type": "code",
   "execution_count": null,
   "metadata": {
    "collapsed": true
   },
   "outputs": [],
   "source": [
    "# get pose and scorefxn \n",
    "#pose = protocols.recces.pose_setup_turner(seq1=seq1, seq2=seq2)\n",
    "scorefxn = mm_sim.scorefxn\n",
    "# set up movemap -- for now just get from the MM object -- and min map\n",
    "movemap = MoveMap()\n",
    "movemap.assign(mm_sim.movemap)  \n",
    "min_map = core.optimization.MinimizerMap()\n",
    "min_map.setup(pose, movemap)\n",
    "n = min_map.nangles()\n",
    "\n",
    "# set up min options\n",
    "min_options = core.optimization.MinimizerOptions(\n",
    "    'lbfgs_armijo_nonmonotone_atol', 1.5e-9, True, False, False)\n",
    "min_options.nblist_auto_update(True)\n",
    "min_options.max_iter(10000)\n",
    "# get scorefunction ready for minimization\n",
    "start_score = scorefxn(pose)\n",
    "pose.energies().set_use_nblist(pose,min_map.domain_map(), True)\n",
    "multifunc = core.optimization.AtomTreeMultifunc(pose, min_map, scorefxn)\n",
    "scorefxn.setup_for_minimizing(pose, min_map) # this is the key command\n",
    "scorefxn.setup_for_derivatives(pose)\n",
    "\n",
    "min_dofs = Vector1([0.0]*min_map.nangles())\n",
    "min_map.copy_dofs_from_pose(pose,min_dofs)\n",
    "start_func_val = multifunc(min_dofs)\n",
    "theta = Vector1(list(min_dofs))\n",
    "dE_dtheta = Vector1(list(min_dofs))\n",
    "multifunc.dfunc(theta,dE_dtheta)\n",
    "\n",
    "# set up minimizer and run\n",
    "minimizer = core.optimization.Minimizer(multifunc, min_options)\n",
    "for _ in range(1): minimizer.run(min_dofs)\n",
    "print dE_dtheta"
   ]
  },
  {
   "cell_type": "code",
   "execution_count": null,
   "metadata": {
    "collapsed": true
   },
   "outputs": [],
   "source": [
    "multifunc(min_dofs)"
   ]
  },
  {
   "cell_type": "code",
   "execution_count": null,
   "metadata": {
    "collapsed": true
   },
   "outputs": [],
   "source": [
    "E = multifunc(min_dofs)\n",
    "multifunc.dfunc(min_dofs, dE_dtheta)\n",
    "\n",
    "eps = 1.5e-5\n",
    "numerical_derivs = []\n",
    "for i in range(mm_sim.n_dofs):\n",
    "    x_pert = Vector1(list(min_dofs))\n",
    "    x_pert[i+1] += eps\n",
    "    E_pert = multifunc(x_pert)\n",
    "    numerical_derivs.append((E_pert-E)/eps)\n",
    "    print dE_dtheta[i+1], numerical_derivs[-1]\n"
   ]
  },
  {
   "cell_type": "markdown",
   "metadata": {},
   "source": [
    "# Developing subroutine to calculate hessian from derivative evaluations"
   ]
  },
  {
   "cell_type": "code",
   "execution_count": null,
   "metadata": {
    "collapsed": true
   },
   "outputs": [],
   "source": [
    "min_map.copy_dofs_to_pose(pose, min_dofs)\n",
    "print min_dofs\n",
    "for key in mm_sim.dof_dict.iterkeys():\n",
    "    print mm_sim.dof_dict[key], pose.torsion(mm_sim.dof_dict[key])"
   ]
  },
  {
   "cell_type": "code",
   "execution_count": null,
   "metadata": {
    "collapsed": true
   },
   "outputs": [],
   "source": []
  },
  {
   "cell_type": "markdown",
   "metadata": {},
   "source": [
    "### see https://v8doc.sas.com/sashtml/ormp/chap5/sect28.htm for details on implementation"
   ]
  },
  {
   "cell_type": "code",
   "execution_count": null,
   "metadata": {
    "collapsed": true
   },
   "outputs": [],
   "source": [
    "def hessian_at_min(min_dofs, multifunc, h=1.5e-5):\n",
    "    min_dofs = np.array(min_dofs) # take advantage of numpy array indexing\n",
    "    n_dofs = len(min_dofs)\n",
    "    hessian = np.zeros((n_dofs,n_dofs))\n",
    "    plus = Vector1([0.0]*n_dofs)\n",
    "    plusplus = Vector1(list(plus))\n",
    "    minus = Vector1(list(plus))\n",
    "    minusminus = Vector1(list(minus))\n",
    "    naught = Vector1(list(minus))\n",
    "    \n",
    "    \n",
    "    for ii in range(n_dofs):\n",
    "        new_dofs = np.array(min_dofs)\n",
    "        #multifunc.dfunc(Vector1(list(new_dofs)), naught)\n",
    "        #new_dofs[ii] -= 4*h*180./np.pi\n",
    "        #multifunc.dfunc(Vector1(list(new_dofs)),plusplus)\n",
    "        new_dofs[ii] += h*180./np.pi\n",
    "        multifunc.dfunc(Vector1(list(new_dofs)), plus)\n",
    "        new_dofs[ii] -= 2*h*180./np.pi\n",
    "        multifunc.dfunc(Vector1(list(new_dofs)), minus)\n",
    "        #new_dofs[ii] += h*180./np.pi\n",
    "        #multifunc.dfunc(Vector1(list(new_dofs)), minusminus)\n",
    "        row = (np.array(plus) - np.array(minus))/h/4.\n",
    "        hessian[ii] += row\n",
    "    \n",
    "    for ii in range(n_dofs):\n",
    "        new_dofs = np.array(min_dofs)\n",
    "        #multifunc.dfunc(Vector1(list(new_dofs)), naught)\n",
    "        #new_dofs[ii] -= 4*h*180./np.pi\n",
    "        #multifunc.dfunc(Vector1(list(new_dofs)),plusplus)\n",
    "        new_dofs[ii] += h*180./np.pi\n",
    "        multifunc.dfunc(Vector1(list(new_dofs)), plus)\n",
    "        new_dofs[ii] -= 2*h*180./np.pi\n",
    "        multifunc.dfunc(Vector1(list(new_dofs)), minus)\n",
    "        #new_dofs[ii] += h*180./np.pi\n",
    "        #multifunc.dfunc(Vector1(list(new_dofs)), minusminus)\n",
    "        row = (np.array(plus) - np.array(minus))/h/4.\n",
    "        hessian[:,ii] += row\n",
    "    \n",
    "    \n",
    "    return 0.5*(hessian + hessian.T) # enforce symmetry"
   ]
  },
  {
   "cell_type": "code",
   "execution_count": null,
   "metadata": {
    "collapsed": true
   },
   "outputs": [],
   "source": [
    "def hessian_naive(min_dofs, multifunc, h=1e-7):\n",
    "    \n",
    "    min_dofs = np.array(min_dofs)\n",
    "    new_dofs = np.array(list(min_dofs))\n",
    "    n_dofs = len(min_dofs)\n",
    "    hessian_at_min = np.zeros((n_dofs, n_dofs))\n",
    "    \n",
    "    n_pts = 9\n",
    "    ind = int(n_pts/2)\n",
    "    \n",
    "    tor_ranges = np.zeros((n_pts, n_dofs))\n",
    "    energy = np.zeros((n_pts,n_pts))\n",
    "    \n",
    "    for ii in range(n_dofs):\n",
    "        tor_ranges[:,ii] = min_dofs[ii] + np.linspace(-ind*h, ind*h, n_pts)*180./np.pi\n",
    "\n",
    "    for pair in list(itertools.combinations(range(n_dofs), 2)):\n",
    "        x_torsion = pair[0]\n",
    "        y_torsion = pair[1]\n",
    "        x = tor_ranges[:,x_torsion]\n",
    "        y = tor_ranges[:,y_torsion]\n",
    "\n",
    "        for ii, xx in enumerate(x):\n",
    "            new_dofs[x_torsion] = xx\n",
    "\n",
    "            for jj, yy in enumerate(y):\n",
    "                new_dofs[y_torsion] = yy\n",
    "                energy[ii,jj] = multifunc(Vector1(list(new_dofs)))\n",
    "                new_dofs[y_torsion] = min_dofs[y_torsion]\n",
    "                \n",
    "            new_dofs[x_torsion] = min_dofs[x_torsion]\n",
    "        \n",
    "        hess = numpy_hessian(energy, h)\n",
    "        d2E_dx2 =  hess[0,0,:,:]\n",
    "        d2E_dy2 =  hess[1,1,:,:]\n",
    "        d2E_dxdy = hess[0,1,:,:]\n",
    "        \n",
    "        if hessian_at_min[x_torsion, x_torsion] == 0:\n",
    "            hessian_at_min[x_torsion, x_torsion] = d2E_dx2[ind,ind]\n",
    "        if hessian_at_min[y_torsion, y_torsion] == 0:\n",
    "            hessian_at_min[y_torsion, y_torsion] = d2E_dy2[ind,ind]\n",
    "        \n",
    "        hessian_at_min[x_torsion,y_torsion] = d2E_dxdy[ind,ind]\n",
    "        hessian_at_min[y_torsion,x_torsion] = d2E_dxdy[ind,ind]\n",
    "\n",
    "    return hessian_at_min"
   ]
  },
  {
   "cell_type": "code",
   "execution_count": null,
   "metadata": {
    "collapsed": true
   },
   "outputs": [],
   "source": [
    "min_options = core.optimization.MinimizerOptions(\n",
    "    'lbfgs_armijo_nonmonotone_atol', 1.5e-9, True, False, False)\n",
    "min_options.nblist_auto_update(True)\n",
    "min_options.max_iter(1000000)\n",
    "minimizer = core.optimization.Minimizer(multifunc, min_options)"
   ]
  },
  {
   "cell_type": "code",
   "execution_count": null,
   "metadata": {
    "collapsed": true,
    "scrolled": true
   },
   "outputs": [],
   "source": [
    "min_dofs = Vector1(list(min_dofs))\n",
    "\n",
    "for _ in range(1):\n",
    "    minimizer.run(min_dofs)\n",
    "\n",
    "    print multifunc(min_dofs)\n",
    "    "
   ]
  },
  {
   "cell_type": "code",
   "execution_count": null,
   "metadata": {
    "collapsed": true
   },
   "outputs": [],
   "source": [
    "def min_func(dofs, multifunc):\n",
    "    dofs = Vector1(list(dofs))\n",
    "    dE_dtheta = Vector1(list(dofs))\n",
    "    energy = multifunc(dofs)\n",
    "    return energy\n",
    "\n",
    "def fprime(dofs, multifunc):\n",
    "    dofs = Vector1(list(dofs))\n",
    "    dE_dtheta = Vector1(list(dofs))\n",
    "    multifunc.dfunc(dofs, dE_dtheta)\n",
    "    dE_dtheta = np.array(dE_dtheta)\n",
    "    return dE_dtheta"
   ]
  },
  {
   "cell_type": "code",
   "execution_count": null,
   "metadata": {
    "collapsed": true
   },
   "outputs": [],
   "source": [
    "print min_dofs\n",
    "print dE_dtheta\n",
    "print multifunc.dump(min_dofs, dE_dtheta)\n",
    "print min_dofs, dE_dtheta"
   ]
  },
  {
   "cell_type": "code",
   "execution_count": null,
   "metadata": {
    "collapsed": true
   },
   "outputs": [],
   "source": [
    "print dE_dtheta\n"
   ]
  },
  {
   "cell_type": "code",
   "execution_count": null,
   "metadata": {
    "collapsed": true
   },
   "outputs": [],
   "source": [
    "from scipy.optimize import minimize"
   ]
  },
  {
   "cell_type": "code",
   "execution_count": null,
   "metadata": {
    "collapsed": true
   },
   "outputs": [],
   "source": [
    "result = minimize(min_func, x0=np.array(min_dofs), args=(multifunc,), method='Powell', \n",
    "                  tol=1.5e-10, options={'maxfev': 5000*mm_sim.n_dofs})"
   ]
  },
  {
   "cell_type": "code",
   "execution_count": null,
   "metadata": {
    "collapsed": true
   },
   "outputs": [],
   "source": [
    "print result.fun\n",
    "print result.x\n",
    "print result.message\n",
    "print result.nfev\n",
    "print result.success"
   ]
  },
  {
   "cell_type": "code",
   "execution_count": null,
   "metadata": {
    "collapsed": true
   },
   "outputs": [],
   "source": [
    "min_dofs = Vector1(list(result.x))"
   ]
  },
  {
   "cell_type": "code",
   "execution_count": null,
   "metadata": {
    "collapsed": true,
    "scrolled": true
   },
   "outputs": [],
   "source": [
    "multifunc.dfunc(min_dofs, dE_dtheta)\n",
    "print min_dofs\n",
    "print dE_dtheta"
   ]
  },
  {
   "cell_type": "code",
   "execution_count": null,
   "metadata": {
    "collapsed": true
   },
   "outputs": [],
   "source": [
    "h = np.linspace(-2e-5,2e-5,101)\n",
    "dh = h[1]-h[0]\n",
    "out = np.zeros_like(h)\n",
    "for jj in range(5):\n",
    "    for ii, hh in enumerate(h):\n",
    "        new_dofs = np.array(min_dofs)\n",
    "        new_dofs[jj] += hh*180./np.pi\n",
    "        multifunc.dfunc(Vector1(list(new_dofs)), dE_dtheta)\n",
    "        out[ii] = multifunc(Vector1(list(new_dofs)))\n",
    "    plt.plot(h, out)"
   ]
  },
  {
   "cell_type": "code",
   "execution_count": null,
   "metadata": {
    "collapsed": true
   },
   "outputs": [],
   "source": [
    "min_map.copy_dofs_to_pose(pose, Vector1(list(min_dofs)))"
   ]
  },
  {
   "cell_type": "code",
   "execution_count": null,
   "metadata": {
    "collapsed": true
   },
   "outputs": [],
   "source": [
    "hessian = hessian_at_min(min_dofs, multifunc)\n",
    "#hessian2 = hessian_naive(min_dofs, multifunc)\n",
    "#hessian2 = 0.5*(hessian2 + hessian2.T) # enforce symmetry \n",
    "for ii, do in enumerate(min_map.dof_nodes()):\n",
    "    hessian[ii] *= min_map.torsion_scale_factor(do)"
   ]
  },
  {
   "cell_type": "code",
   "execution_count": null,
   "metadata": {
    "collapsed": true
   },
   "outputs": [],
   "source": [
    "print hessian"
   ]
  },
  {
   "cell_type": "code",
   "execution_count": null,
   "metadata": {
    "collapsed": true
   },
   "outputs": [],
   "source": [
    "from scipy.linalg import eigh"
   ]
  },
  {
   "cell_type": "code",
   "execution_count": null,
   "metadata": {
    "collapsed": true
   },
   "outputs": [],
   "source": [
    "hessian_pert = hessian + np.random.rand(min_map.nangles(), min_map.nangles())\n",
    "eigenvalues, modes = scipy.linalg.eigh(hessian)\n",
    "#eig2, mode2 = eigh(0.5*(hessian2+hessian2.T))"
   ]
  },
  {
   "cell_type": "code",
   "execution_count": null,
   "metadata": {
    "collapsed": true
   },
   "outputs": [],
   "source": [
    "print eigenvalues\n",
    "#print eig2"
   ]
  },
  {
   "cell_type": "code",
   "execution_count": null,
   "metadata": {
    "collapsed": true
   },
   "outputs": [],
   "source": [
    "fuck = np.array(dE_dtheta)\n",
    "min_dofs[1] += 1.5e-5\n",
    "multifunc.dfunc(min_dofs, dE_dtheta)\n",
    "fuck2 = np.array(dE_dtheta)\n",
    "print (fuck2-fuck)/1.5e-5"
   ]
  },
  {
   "cell_type": "code",
   "execution_count": null,
   "metadata": {
    "collapsed": true
   },
   "outputs": [],
   "source": [
    "print min_dofs"
   ]
  },
  {
   "cell_type": "code",
   "execution_count": null,
   "metadata": {
    "collapsed": true
   },
   "outputs": [],
   "source": [
    "print eigenvalues\n",
    "print eig2"
   ]
  },
  {
   "cell_type": "code",
   "execution_count": null,
   "metadata": {
    "collapsed": true
   },
   "outputs": [],
   "source": [
    "fuck, shit, hell = scipy.linalg.svd(hessian)"
   ]
  },
  {
   "cell_type": "code",
   "execution_count": null,
   "metadata": {
    "collapsed": true
   },
   "outputs": [],
   "source": [
    "0.5*np.log(np.product(shit))\n"
   ]
  },
  {
   "cell_type": "code",
   "execution_count": null,
   "metadata": {
    "collapsed": true
   },
   "outputs": [],
   "source": [
    "pseudo_det = 1.\n",
    "n = 0\n",
    "for ii, eigen in enumerate(eigenvalues):\n",
    "    if eigen > 0:\n",
    "        pseudo_det *= eigen\n",
    "        n += 1 "
   ]
  },
  {
   "cell_type": "code",
   "execution_count": null,
   "metadata": {
    "collapsed": true
   },
   "outputs": [],
   "source": [
    "print multifunc(min_dofs) + 0.5*np.log(np.product(pseudo_det)) - 0.5*np.log(2*np.pi)*n - 0.5*n*np.log(2*np.pi/3)"
   ]
  },
  {
   "cell_type": "code",
   "execution_count": null,
   "metadata": {
    "collapsed": true
   },
   "outputs": [],
   "source": [
    "plt.semilogy(range(len(eigenvalues[:])), eigenvalues[:],'.')\n",
    "#plt.xlabel('index')\n",
    "#plt.ylabel('eigenvalue')\n",
    "#plt.legend(('new', 'old'))"
   ]
  },
  {
   "cell_type": "markdown",
   "metadata": {},
   "source": [
    "# Developing subroutine to mode scan using AtomTreeMultifunc"
   ]
  },
  {
   "cell_type": "code",
   "execution_count": null,
   "metadata": {
    "collapsed": true
   },
   "outputs": [],
   "source": [
    "pmm = PyMOLMover()\n",
    "pmm.keep_history(True)"
   ]
  },
  {
   "cell_type": "code",
   "execution_count": null,
   "metadata": {
    "collapsed": true
   },
   "outputs": [],
   "source": [
    "from scipy.special import erf"
   ]
  },
  {
   "cell_type": "code",
   "execution_count": null,
   "metadata": {
    "collapsed": true
   },
   "outputs": [],
   "source": [
    "def mode_scan(min_dofs, multifunc, mode, limit=np.pi/3, dx=0.005):\n",
    "    # convert to np array for useful indexing\n",
    "    min_dofs = np.array(min_dofs)\n",
    "    delta_array = np.linspace(-limit, limit, int(2*limit/dx)+1)\n",
    "    \n",
    "    # initialize result\n",
    "    result = np.zeros_like(delta_array)\n",
    "    \n",
    "    # evaluate using multifunc \n",
    "    for ii, delta in enumerate(delta_array):\n",
    "        result[ii] = pert_eval(delta, min_dofs, mode, multifunc)\n",
    "    \n",
    "    return result    \n",
    "    \n",
    "def pert_eval(pert, min_dofs, mode, multifunc):\n",
    "    new_dofs = min_dofs[:] + mode*pert*180./np.pi\n",
    "    return multifunc(array_to_vector1(new_dofs))"
   ]
  },
  {
   "cell_type": "code",
   "execution_count": null,
   "metadata": {
    "collapsed": true,
    "scrolled": true
   },
   "outputs": [],
   "source": [
    "def compute_total_partition(min_dofs, multifunc, modes, limit=np.pi, dx=0.005):\n",
    "    # initialize output\n",
    "    total_log_partition = 0 \n",
    "    total_log_harmonic = 0\n",
    "    scans = tuple()\n",
    "    xx = np.linspace(-limit, limit, int(2*limit/dx)+1)\n",
    "    \n",
    "    for ii, mode in enumerate(modes.T): # columns of array are eigenvectors\n",
    "        if eigenvalues[ii] < 0: continue\n",
    "        result = mode_scan(min_dofs, multifunc, mode, limit=limit, dx=dx)\n",
    "        result -= multifunc(min_dofs)\n",
    "        scans = scans + (result,)\n",
    "        total_log_partition += np.log(np.trapz(np.exp(-result),dx=dx))\n",
    "        #total_log_harmonic += np.log(np.trapz(np.exp(-eigenvalues[ii]*xx**2),dx=dx))\n",
    "        total_log_harmonic += np.log( np.sqrt(2*np.pi/eigenvalues[ii])*(erf(2*limit/np.sqrt(2/eigenvalues[ii]))))\n",
    "    \n",
    "    return total_log_partition, total_log_harmonic, np.row_stack(scans)"
   ]
  },
  {
   "cell_type": "code",
   "execution_count": null,
   "metadata": {
    "collapsed": true
   },
   "outputs": [],
   "source": [
    "limit = np.pi/3\n",
    "dx = 0.005\n",
    "total_log_partition, total_log_harmonic, mode_scans = compute_total_partition(min_dofs, multifunc, modes, limit=limit, dx=dx)"
   ]
  },
  {
   "cell_type": "code",
   "execution_count": null,
   "metadata": {
    "collapsed": true
   },
   "outputs": [],
   "source": [
    "palette = 'Set2'\n",
    "sns.palplot(sns.color_palette(palette))\n",
    "sns.set_palette(sns.color_palette(palette))\n",
    "sns.set_style('whitegrid')\n",
    "sns.set_context('notebook')"
   ]
  },
  {
   "cell_type": "code",
   "execution_count": null,
   "metadata": {
    "collapsed": true,
    "scrolled": true
   },
   "outputs": [],
   "source": [
    "xx = np.linspace(-limit,limit,int(2*limit/dx)+1)\n",
    "fig, ax = plt.subplots(ncols=6,nrows=5,figsize=(18,9))\n",
    "for ii, scan in enumerate(mode_scans):\n",
    "    curr_ax = ax.flatten()[ii]\n",
    "    curr_ax.fill(xx,np.exp(-scan), alpha=0.6)\n",
    "    curr_ax.fill(xx,np.exp(-eigenvalues[ii]*xx**2), alpha=0.6)\n",
    "\n",
    "# turn off unused subplots\n",
    "for jj in range(ii+1,30):\n",
    "    curr_ax = ax.flatten()[jj]\n",
    "    curr_ax.axis('off')\n",
    "    \n",
    "for axis in ax.flatten():\n",
    "    axis.set_xticks([])\n",
    "    \n",
    "\n",
    "fig.legend(('scan', 'harmonic'))"
   ]
  },
  {
   "cell_type": "code",
   "execution_count": null,
   "metadata": {
    "collapsed": true
   },
   "outputs": [],
   "source": [
    "from numpy.linalg import det\n",
    "from numpy import heaviside\n",
    "from scipy.special import logsumexp, gamma"
   ]
  },
  {
   "cell_type": "code",
   "execution_count": null,
   "metadata": {
    "collapsed": true
   },
   "outputs": [],
   "source": [
    "multifunc(min_dofs) - total_log_harmonic - np.log(2*np.pi/3)*mm_sim.n_dofs*0.5 , multifunc(min_dofs) - total_log_partition - np.log(2*np.pi/3)*mm_sim.n_dofs*0.5 + np.log(2*np.pi/3)*6"
   ]
  },
  {
   "cell_type": "code",
   "execution_count": null,
   "metadata": {
    "collapsed": true
   },
   "outputs": [],
   "source": [
    "pmm = PyMOLMover()\n",
    "pmm.keep_history(True)\n",
    "pmm.apply(pose)\n",
    "h = np.arange(-30,31)\n",
    "h = np.append(h,h[-2:0:-1])\n",
    "\n",
    "new_dofs = np.array(min_dofs)\n",
    "for hh in h:\n",
    "    new_dofs = min_dofs + hh*modes[0]\n",
    "    min_map.copy_dofs_to_pose(pose, array_to_vector1(new_dofs))\n",
    "    pmm.apply(pose)"
   ]
  },
  {
   "cell_type": "code",
   "execution_count": null,
   "metadata": {
    "collapsed": true
   },
   "outputs": [],
   "source": [
    "min_map.copy_dofs_to_pose(pose, array_to_vector1(min_dofs))"
   ]
  },
  {
   "cell_type": "code",
   "execution_count": null,
   "metadata": {
    "collapsed": true
   },
   "outputs": [],
   "source": [
    "min_E = multifunc(min_dofs)\n",
    "dos = lambda E: (2.0*np.pi)**(n/2.)*(E-min_E)**(n/2. - 1)/gamma(n/2.)/np.sqrt(pseudo_det)*heaviside(E-min_E,0.5)"
   ]
  },
  {
   "cell_type": "code",
   "execution_count": null,
   "metadata": {
    "collapsed": true
   },
   "outputs": [],
   "source": [
    "plt.plot(E, dos(E)*np.exp(-E))"
   ]
  },
  {
   "cell_type": "code",
   "execution_count": null,
   "metadata": {
    "collapsed": true
   },
   "outputs": [],
   "source": [
    "E = np.linspace(-100, 800, 90001)\n",
    "dE = E[1]-E[0]\n",
    "F = np.linspace(-100,800,9001) \n",
    "dF = F[1]-F[0]\n",
    "print -logsumexp(-E, b=dos(E)*dE)"
   ]
  },
  {
   "cell_type": "code",
   "execution_count": null,
   "metadata": {
    "collapsed": true
   },
   "outputs": [],
   "source": [
    "h = np.linspace(-limit, limit, int(2*limit/0.005) + 1)"
   ]
  },
  {
   "cell_type": "code",
   "execution_count": null,
   "metadata": {
    "collapsed": true
   },
   "outputs": [],
   "source": [
    "plt.plot(h,mode_scans[0])"
   ]
  },
  {
   "cell_type": "code",
   "execution_count": null,
   "metadata": {
    "collapsed": true
   },
   "outputs": [],
   "source": [
    "mm_sim.mode_scans[0]"
   ]
  },
  {
   "cell_type": "code",
   "execution_count": null,
   "metadata": {
    "collapsed": true
   },
   "outputs": [],
   "source": [
    "w = calculate_anharmonicitiy(mm_sim)"
   ]
  },
  {
   "cell_type": "code",
   "execution_count": null,
   "metadata": {
    "collapsed": true
   },
   "outputs": [],
   "source": [
    "plt.plot(np.log(mm_sim.eigenvalues), w, '.')"
   ]
  },
  {
   "cell_type": "code",
   "execution_count": null,
   "metadata": {
    "collapsed": true
   },
   "outputs": [],
   "source": [
    "from recces.data import *\n",
    "from recces.util import *"
   ]
  },
  {
   "cell_type": "code",
   "execution_count": null,
   "metadata": {
    "collapsed": true
   },
   "outputs": [],
   "source": [
    "-np.log(np.trapz(dos(F)*np.exp(-F), dx=dF)) + np.log(dF)"
   ]
  },
  {
   "cell_type": "code",
   "execution_count": null,
   "metadata": {
    "collapsed": true,
    "scrolled": true
   },
   "outputs": [],
   "source": [
    "#plt.plot(E, (2*np.pi/3)**(mm_sim.n_dofs)*dos(E)*np.exp(-E)*0.01)\n",
    "#plt.plot(F, dos(F)*np.exp(-F))\n",
    "sim = SingleHistSimulation('/mnt/c/Users/maadr/all_canonical_reweight/%s_%s' % (seq1, seq2))\n",
    "                      # [0.1,0.118,0.01,0.299,3.61,3.03,0.639,0.033,3.15,2.97])\n",
    "#plt.plot(sim._dos_scores, sim._dos*np.exp(-sim._dos)*np.exp(-sim._dos_scores))"
   ]
  },
  {
   "cell_type": "code",
   "execution_count": null,
   "metadata": {
    "collapsed": true
   },
   "outputs": [],
   "source": [
    "pmm = PyMOLMover()\n",
    "pmm.keep_history(True)"
   ]
  },
  {
   "cell_type": "code",
   "execution_count": null,
   "metadata": {
    "collapsed": true
   },
   "outputs": [],
   "source": [
    "sim.value "
   ]
  },
  {
   "cell_type": "code",
   "execution_count": null,
   "metadata": {
    "collapsed": true
   },
   "outputs": [],
   "source": [
    "def estimate_dos(min_dofs, modes, eigenvalues, multifunc, n=100000):\n",
    "    # intial parameters\n",
    "    E = np.linspace(-100,800,9001)\n",
    "    dE = E[1]-E[0]\n",
    "    g = np.zeros_like(E)\n",
    "    \n",
    "    min_dofs = np.array(min_dofs)\n",
    "    \n",
    "    for ii in range(n):\n",
    "        mode_idx = np.random.randint(5)\n",
    "        new_dofs = min_dofs + np.random.uniform(-60,60)*modes[mode_idx]\n",
    "        energy = multifunc(array_to_vector1(new_dofs))\n",
    "        min_map.copy_dofs_to_pose(pose, array_to_vector1(new_dofs))\n",
    "        if energy > 800:\n",
    "            g[-1] += 1\n",
    "        else: \n",
    "            bin_idx = int((energy+100)/dE)\n",
    "            g[bin_idx] += 1\n",
    "            \n",
    "        if ii % 1000 == 0:\n",
    "            pmm.apply(pose)\n",
    "    \n",
    "    return g/n"
   ]
  },
  {
   "cell_type": "code",
   "execution_count": null,
   "metadata": {
    "collapsed": true,
    "scrolled": true
   },
   "outputs": [],
   "source": [
    "dos = estimate_dos(min_dofs, modes, eigenvalues, multifunc)"
   ]
  },
  {
   "cell_type": "code",
   "execution_count": null,
   "metadata": {
    "collapsed": true
   },
   "outputs": [],
   "source": [
    "hist = SingleHistSimulation('/mnt/c/Users/maadr/all_canonical_reweight/'+seq1+'_'+seq2+'/ST')"
   ]
  },
  {
   "cell_type": "code",
   "execution_count": null,
   "metadata": {
    "collapsed": true
   },
   "outputs": [],
   "source": [
    "sim.value"
   ]
  },
  {
   "cell_type": "code",
   "execution_count": null,
   "metadata": {
    "collapsed": true
   },
   "outputs": [],
   "source": [
    "print E, dos\n",
    "plt.plot(E[:2000], dos[:2000])\n",
    "plt.plot(E[:2000], hist._dos[:2000]/10000000)\n",
    "-logsumexp(-E,b=dos)"
   ]
  },
  {
   "cell_type": "code",
   "execution_count": null,
   "metadata": {
    "collapsed": true,
    "scrolled": true
   },
   "outputs": [],
   "source": [
    "fig, ax = plt.subplots(nrows=3, ncols=5, figsize=(12,12))\n",
    "for ii, sim in enumerate(sims):\n",
    "    n_mods = len(w_dict[sim])\n",
    "    \n",
    "    curr_ax = ax.flatten()[ii]\n",
    "    curr_ax.plot([0, np.log10(np.max(sim_dict[sim].eigenvalues))], [1, 1], 'k--')\n",
    "    curr_ax.scatter(np.log10(sim_dict[sim].eigenvalues), w_dict[sim])\n",
    "    curr_ax.set(title=sim)    \n",
    "    curr_ax.set(xlim=(0, np.log10(np.max(sim_dict[sim].eigenvalues))), ylim=(0,1.6))\n",
    "    \n",
    "fig.text(0.5, 0.08, 'log10(eigenvalue)', ha='center', va='center',\n",
    "         fontproperties=mpl.font_manager.FontProperties(size=14))\n",
    "fig.text(0.06, 0.5, 'anharmonicity', ha='center', va='center', rotation='vertical', \n",
    "         fontproperties=mpl.font_manager.FontProperties(size=14))"
   ]
  },
  {
   "cell_type": "code",
   "execution_count": null,
   "metadata": {
    "collapsed": true
   },
   "outputs": [],
   "source": [
    "fig, ax = plt.subplots(nrows=3, ncols=5, figsize=(12,12))\n",
    "for ii, sim in enumerate(sims):\n",
    "    eigenvalues = sim_dict[sim].eigenvalues\n",
    "    harmonic_energies = -np.log( np.sqrt(2*np.pi/eigenvalues)*(erf(2*limit/np.sqrt(2/sim_dict[sim].eigenvalues))))\n",
    "    anharmonic_energies = -np.log(np.trapz(np.exp(-sim_dict[sim].mode_scans), dx=dx))\n",
    "    curr_ax = ax.flatten()[ii]\n",
    "    curr_ax.scatter(np.log(eigenvalues), np.abs(harmonic_energies-anharmonic_energies))\n",
    "    curr_ax.plot([0, np.max(np.log(eigenvalues))], [0, 0], 'k--')\n",
    "    curr_ax.set(title=sim, xlim=(0, np.log(max(eigenvalues))), ylim=(-0.1,0.5) )   \n",
    "fig.text(0.5, 0.001, 'log10(eigenvalue)', ha='center', va='center',\n",
    "         fontproperties=mpl.font_manager.FontProperties(size=14))\n",
    "fig.text(0.001, 0.5, '$\\Delta$E (kT)', ha='center', va='center', rotation='vertical', \n",
    "         fontproperties=mpl.font_manager.FontProperties(size=14))\n",
    "fig.tight_layout()"
   ]
  },
  {
   "cell_type": "code",
   "execution_count": null,
   "metadata": {
    "collapsed": true,
    "scrolled": false
   },
   "outputs": [],
   "source": [
    "fig, ax = plt.subplots(nrows=1, ncols=2, figsize=(12,6))\n",
    "norm = plt.Normalize(0,6)\n",
    "\n",
    "harm = np.array(DOS_E)*KT_IN_KCAL\n",
    "recces = np.array(RECCES_E)*KT_IN_KCAL\n",
    "anharm = np.array(anharmonic_E)*KT_IN_KCAL\n",
    "\n",
    "sc = ax[0].scatter(recces, anharm, c=np.abs(recces-anharm), norm=norm)\n",
    "ax[1].scatter(recces, harm, c=np.abs(recces-harm), norm=norm)\n",
    "for axis in ax:\n",
    "    axis.set(xlim=(-30, -5), ylim=(-30, -5))\n",
    "    axis.plot([-30,-5],[-30,-5], 'k--')\n",
    "\n",
    "cbaxes = fig.add_axes([0.94, 0.1, 0.03, 0.8]) \n",
    "fig.colorbar(sc, cax=cbaxes)\n",
    "fig.text(0.5, 0.04, 'RECCES free energy (kcal/mol)', ha='center', va='center')\n",
    "fig.text(0.06, 0.5, 'estimated free energy (kcal/mol)', ha='center', va='center', rotation='vertical')\n",
    "print np.sqrt(np.mean((recces-anharm)**2))\n",
    "print np.sqrt(np.mean((recces-harm)**2))\n",
    "\n",
    "\n"
   ]
  },
  {
   "cell_type": "code",
   "execution_count": null,
   "metadata": {
    "collapsed": true,
    "scrolled": true
   },
   "outputs": [],
   "source": [
    "print anharm"
   ]
  },
  {
   "cell_type": "code",
   "execution_count": null,
   "metadata": {
    "collapsed": true
   },
   "outputs": [],
   "source": [
    "print np.sqrt(np.mean(np.array(dE)**2))"
   ]
  },
  {
   "cell_type": "code",
   "execution_count": null,
   "metadata": {
    "collapsed": true
   },
   "outputs": [],
   "source": [
    "from recces.util import *\n",
    "from recces.data import *"
   ]
  },
  {
   "cell_type": "code",
   "execution_count": null,
   "metadata": {
    "collapsed": true
   },
   "outputs": [],
   "source": [
    "sim = SingleHistSimulation('./../../../recces_rosetta/results/'+seq1+'_'+seq2+'/ST/')"
   ]
  },
  {
   "cell_type": "code",
   "execution_count": null,
   "metadata": {
    "collapsed": true
   },
   "outputs": [],
   "source": [
    "print sim.value\n",
    "-np.log(np.trapz(sim._dos, dx=0.1))\n",
    "'guu_acc'.split('_')"
   ]
  },
  {
   "cell_type": "code",
   "execution_count": null,
   "metadata": {
    "collapsed": true,
    "scrolled": true
   },
   "outputs": [],
   "source": [
    "import matplotlib as mpl\n",
    "import matplotlib.pyplot as plt\n",
    "import scipy\n",
    "\n",
    "E = np.linspace(-100,100,2001)\n",
    "\n",
    "plt.plot(E, fuck.dos(E)*np.exp(-E))\n",
    "plt.plot(sim._dos_scores[:2000], sim._dos[:2000]*np.exp(-sim._dos_scores[:2000]))\n",
    "plt.xlabel('energy (REU)')\n",
    "plt.ylabel('$g(E)e^{-E/kT}$')\n",
    "plt.legend(('MM', 'RECCES'))\n",
    "print -scipy.special.logsumexp(-E, b=fuck.dos(E)), sim.value, fuck.harmonic_free_energy"
   ]
  },
  {
   "cell_type": "code",
   "execution_count": null,
   "metadata": {
    "collapsed": true
   },
   "outputs": [],
   "source": [
    "print fuck.anharmonic_free_energy\n",
    "print fuck.harmonic_free_energy"
   ]
  },
  {
   "cell_type": "code",
   "execution_count": null,
   "metadata": {
    "collapsed": true
   },
   "outputs": [],
   "source": [
    "\n",
    "print fuck.modes[:,0]\n",
    "pmm.apply(fuck.min_pose)"
   ]
  },
  {
   "cell_type": "code",
   "execution_count": null,
   "metadata": {
    "collapsed": true
   },
   "outputs": [],
   "source": [
    "n_struct = 200\n",
    "\n",
    "ensemble = fuck.harmonic_ensemble(n_struct = n_struct)\n",
    "#print ensemble[2,:]-min_dofs\n",
    "#print np.sqrt(H)/np.sqrt((2*np.pi)**fuck.n_dofs)*np.exp(-np.dot(fuck.eigenvalues, ((min_dofs-ensemble[0,:])*np.pi/180)**2)/2)"
   ]
  },
  {
   "cell_type": "code",
   "execution_count": null,
   "metadata": {
    "collapsed": true
   },
   "outputs": [],
   "source": [
    "pose = Pose()\n",
    "pose.assign(fuck.min_pose)\n",
    "\n",
    "hist_min = -100\n",
    "hist_max = 100\n",
    "delE = 0.1\n",
    "\n",
    "hist_scores = np.linspace(hist_min, hist_max, int((hist_max-hist_min)/delE)+1)\n",
    "\n",
    "hist = np.zeros_like(hist_scores)\n",
    "\n",
    "for i in range(n_struct):\n",
    "    \n",
    "    dofs = ensemble[i,:]\n",
    "    \n",
    "    for key in fuck.dof_dict: pose.set_torsion(fuck.dof_dict[key], dofs[key])\n",
    "        \n",
    "    energy = fuck.scorefxn(pose)\n",
    "    \n",
    "    if energy < hist_max+delE:\n",
    "             \n",
    "        hist_idx = math.floor((energy-hist_min)/delE)\n",
    "        hist_idx = int(hist_idx)\n",
    "        hist[hist_idx] += 1\n"
   ]
  },
  {
   "cell_type": "code",
   "execution_count": null,
   "metadata": {
    "collapsed": true
   },
   "outputs": [],
   "source": [
    "shit = hist*np.exp(hist_scores)/np.sum(hist)\n",
    "shit = shit/np.sum(shit)\n",
    "print -scipy.special.logsumexp(-hist_scores, b = shit)\n",
    "plt.plot(hist_scores, shit*np.exp(-hist_scores)/torsion_volume(seq1, seq2))\n",
    "plt.plot(sim._dos_scores[:2000], sim._dos[:2000]*np.exp(-sim._dos_scores[:2000]))"
   ]
  },
  {
   "cell_type": "code",
   "execution_count": null,
   "metadata": {
    "collapsed": true
   },
   "outputs": [],
   "source": [
    "pose = Pose()\n",
    "pose_new = Pose()\n",
    "pose.assign(fuck.min_pose)\n",
    "for key in fuck.dof_dict: pose.set_torsion(fuck.dof_dict[key],ensemble[0,:][key])\n",
    "\n",
    "pose_new.assign(pose)\n",
    "\n",
    "E_0 = fuck.scorefxn(fuck.min_pose)\n",
    "energy = E_0\n",
    "\n",
    "min_dofs = [fuck.min_pose.torsion(fuck.dof_dict[key]) for key in fuck.dof_dict]\n",
    "curr_dofs = min_dofs\n",
    "print min_dofs\n",
    "\n",
    "Z = 0\n",
    "H = np.product(fuck.eigenvalues)\n",
    "\n",
    "for j in range(1,n_struct):\n",
    "    \n",
    "    trial_move = ensemble[j, :]\n",
    "     \n",
    "    for key in fuck.dof_dict: pose_new.set_torsion(fuck.dof_dict[key], trial_move[key]) \n",
    "\n",
    "    energy_new = fuck.scorefxn(pose_new)\n",
    "    \n",
    "    if np.exp(-(energy_new-energy)) > np.random.random():\n",
    "        \n",
    "        energy = energy_new\n",
    "        pose.assign(pose_new)\n",
    "        curr_dofs = trial_move\n",
    "        \n",
    "    \n",
    "\n",
    "        #p = np.sqrt(H/(2*np.pi)**fuck.n_dofs)*np.exp(-np.dot(fuck.eigenvalues, ((trial_move-min_dofs)*(np.pi/180)**2)**2)/2)\n",
    "    if energy < hist_max+delE:\n",
    "             \n",
    "        hist_idx = math.floor((energy-hist_min)/delE)\n",
    "        hist_idx = int(hist_idx)\n",
    "        hist[hist_idx] += 1\n",
    "\n",
    "    "
   ]
  },
  {
   "cell_type": "code",
   "execution_count": null,
   "metadata": {
    "collapsed": true
   },
   "outputs": [],
   "source": [
    "#plt.plot(hist_scores, hist)\n",
    "shit = hist/np.sum(hist)\n",
    "shit = shit*np.exp(hist_scores)\n",
    "shit = shit/np.sum(shit)\n",
    "#plt.plot(hist_scores, shit)\n",
    "plt.plot(hist_scores, hist/np.sum(hist))\n",
    "print -np.log(np.exp(-E_0)*(0.25)**fuck.n_dofs/0.35)\n"
   ]
  },
  {
   "cell_type": "code",
   "execution_count": null,
   "metadata": {
    "collapsed": true,
    "scrolled": true
   },
   "outputs": [],
   "source": [
    "print ensemble\n",
    "pmm = PyMOLMover()\n",
    "pmm.keep_history(True)\n",
    "print ensemble[1,:]"
   ]
  },
  {
   "cell_type": "code",
   "execution_count": null,
   "metadata": {
    "collapsed": true
   },
   "outputs": [],
   "source": [
    "pose = Pose()\n",
    "pose.assign(fuck.min_pose)\n",
    "\n",
    "for i in range(200):\n",
    "    \n",
    "    dofs = ensemble[i,:]\n",
    "    for key in fuck.dof_dict: pose.set_torsion(fuck.dof_dict[key], dofs[key]) \n",
    "    pmm.apply(pose)\n",
    "    "
   ]
  },
  {
   "cell_type": "code",
   "execution_count": null,
   "metadata": {
    "collapsed": true
   },
   "outputs": [],
   "source": [
    "print np.cov(ensemble)"
   ]
  },
  {
   "cell_type": "code",
   "execution_count": null,
   "metadata": {
    "collapsed": true
   },
   "outputs": [],
   "source": [
    "w,v = np.linalg.eigh(np.cov(ensemble.T))\n",
    "print fuck.eigenvalues"
   ]
  },
  {
   "cell_type": "code",
   "execution_count": null,
   "metadata": {
    "collapsed": true
   },
   "outputs": [],
   "source": [
    "print 1/w*180*180/np.pi/np.pi"
   ]
  },
  {
   "cell_type": "code",
   "execution_count": null,
   "metadata": {
    "collapsed": true
   },
   "outputs": [],
   "source": [
    "\n",
    "print fuck.min_energy - 0.5*fuck.n_dofs*np.log(2*np.pi) + 0.5*np.log(np.prod(1/w))"
   ]
  },
  {
   "cell_type": "code",
   "execution_count": null,
   "metadata": {
    "collapsed": true
   },
   "outputs": [],
   "source": [
    "print fuck.anharmonic_free_energy"
   ]
  },
  {
   "cell_type": "code",
   "execution_count": null,
   "metadata": {
    "collapsed": true
   },
   "outputs": [],
   "source": [
    "print fuck.min_pose"
   ]
  },
  {
   "cell_type": "code",
   "execution_count": null,
   "metadata": {
    "collapsed": true
   },
   "outputs": [],
   "source": [
    "mu = np.zeros(fuck.n_dofs)"
   ]
  },
  {
   "cell_type": "code",
   "execution_count": null,
   "metadata": {
    "collapsed": true
   },
   "outputs": [],
   "source": [
    "print mu"
   ]
  },
  {
   "cell_type": "code",
   "execution_count": null,
   "metadata": {
    "collapsed": true
   },
   "outputs": [],
   "source": [
    "mu = [fuck.min_pose.torsion(fuck.dof_dict[key]) for key in fuck.dof_dict]"
   ]
  },
  {
   "cell_type": "code",
   "execution_count": null,
   "metadata": {
    "collapsed": true
   },
   "outputs": [],
   "source": [
    "print mu\n",
    "bitch = np.linalg.inv(fuck.hessian)"
   ]
  },
  {
   "cell_type": "code",
   "execution_count": null,
   "metadata": {
    "collapsed": true
   },
   "outputs": [],
   "source": [
    "shit = np.random.multivariate_normal(mu, bitch, size=(2000))"
   ]
  },
  {
   "cell_type": "code",
   "execution_count": null,
   "metadata": {
    "collapsed": true
   },
   "outputs": [],
   "source": [
    "print shit[0,:]"
   ]
  },
  {
   "cell_type": "code",
   "execution_count": null,
   "metadata": {
    "collapsed": true
   },
   "outputs": [],
   "source": [
    "random_struct = np.zeros((fuck.n_dofs, 2000))\n",
    "\n",
    "for j in range(2000):\n",
    "    \n",
    "    random_struct[:,j] = np.random.multivariate_normal(mu, bitch)"
   ]
  },
  {
   "cell_type": "code",
   "execution_count": null,
   "metadata": {
    "collapsed": true
   },
   "outputs": [],
   "source": []
  }
 ],
 "metadata": {
  "kernelspec": {
   "display_name": "Python 2",
   "language": "python",
   "name": "python2"
  },
  "language_info": {
   "codemirror_mode": {
    "name": "ipython",
    "version": 2
   },
   "file_extension": ".py",
   "mimetype": "text/x-python",
   "name": "python",
   "nbconvert_exporter": "python",
   "pygments_lexer": "ipython2",
   "version": "2.7.15+"
  }
 },
 "nbformat": 4,
 "nbformat_minor": 2
}
