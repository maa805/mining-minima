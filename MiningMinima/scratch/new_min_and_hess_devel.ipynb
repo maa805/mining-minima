{
 "cells": [
  {
   "cell_type": "code",
   "execution_count": 2,
   "metadata": {
    "scrolled": true
   },
   "outputs": [
    {
     "name": "stdout",
     "output_type": "stream",
     "text": [
      "PyRosetta-4 2019 [Rosetta PyRosetta4.Release.python27.linux 2019.31+release.9a323bc72ca18d3abdc8b1a730b37e52197e4ceb 2019-07-29T16:16:04] retrieved from: http://www.pyrosetta.org\n",
      "(C) Copyright Rosetta Commons Member Institutions. Created in JHU by Sergey Lyskov and PyRosetta Team.\n",
      "core.init: Checking for fconfig files in pwd and ./rosetta/flags\n",
      "core.init: Rosetta version: PyRosetta4.Release.python27.linux r229 2019.31+release.9a323bc 9a323bc72ca18d3abdc8b1a730b37e52197e4ceb http://www.pyrosetta.org 2019-07-29T16:16:04\n",
      "core.init: command: PyRosetta -ex1 -ex2aro -database /home/users/maa805/.local/lib/python2.7/site-packages/pyrosetta-2019.31_release.9a323bc-py2.7-linux-x86_64.egg/pyrosetta/database\n",
      "basic.random.init_random_generator: 'RNG device' seed mode, using '/dev/urandom', seed=1968146636 seed_offset=0 real_seed=1968146636\n",
      "basic.random.init_random_generator: RandomGenerator:init: Normal mode, seed=1968146636 RG_type=mt19937\n"
     ]
    }
   ],
   "source": [
    "import matplotlib as mpl\n",
    "import matplotlib.pyplot as plt\n",
    "from MiningMinima import *\n",
    "from calc_hessian_at_min import *\n",
    "from minimization import *\n",
    "import numpy as np\n",
    "import scipy\n",
    "import matplotlib as mpl\n",
    "import matplotlib.pyplot as plt\n",
    "import seaborn as sns"
   ]
  },
  {
   "cell_type": "code",
   "execution_count": 3,
   "metadata": {
    "collapsed": true
   },
   "outputs": [],
   "source": [
    "sns.set()\n",
    "palette = 'Set2'\n",
    "sns.palplot(sns.color_palette(palette))\n",
    "sns.set_palette(sns.color_palette(palette))\n",
    "sns.set_style('whitegrid')\n",
    "sns.set_context('talk')"
   ]
  },
  {
   "cell_type": "markdown",
   "metadata": {},
   "source": [
    "### Some useful parameters for later on"
   ]
  },
  {
   "cell_type": "markdown",
   "metadata": {},
   "source": [
    "fa_atr                      0.69\n",
    "fa_rep                      0.11\n",
    "fa_intra_rep                0.0068\n",
    "rna_torsion                 6.13\n",
    "hbond_sc                    2.99\n",
    "fa_sol                      0\n",
    "lk_ball\t\t                0.68\n",
    "stack_elec                  2.29\n",
    "fa_elec_rna_phos_phos       9.53"
   ]
  },
  {
   "cell_type": "code",
   "execution_count": 4,
   "metadata": {
    "collapsed": true
   },
   "outputs": [],
   "source": [
    "limit = np.pi/3\n",
    "dx = 0.005\n",
    "F = np.linspace(-100, 800, 9001)\n",
    "dF = 0.1\n",
    "rna_min_based = [0.69,0.11,0.0068,6.13,2.99,0,0.68,2.29,9.53]"
   ]
  },
  {
   "cell_type": "code",
   "execution_count": 5,
   "metadata": {
    "collapsed": true
   },
   "outputs": [],
   "source": [
    "from recces.data import _get_duplex_seqs\n",
    "from recces.util import DG_CANONICAL, DG_DANGLING"
   ]
  },
  {
   "cell_type": "code",
   "execution_count": 5,
   "metadata": {
    "collapsed": true
   },
   "outputs": [],
   "source": [
    "pos, neg = _get_duplex_seqs('ga', 'uc')"
   ]
  },
  {
   "cell_type": "code",
   "execution_count": 6,
   "metadata": {},
   "outputs": [
    {
     "name": "stdout",
     "output_type": "stream",
     "text": [
      "(('gga_ucc', 'gg', 'cc'), ('gg_cc', 'gga', 'ucc'))\n"
     ]
    }
   ],
   "source": [
    "print(pos,neg)"
   ]
  },
  {
   "cell_type": "code",
   "execution_count": 9,
   "metadata": {
    "collapsed": true
   },
   "outputs": [],
   "source": [
    "def dg_mm(seq1, seq2):\n",
    "    # get relevant simulations\n",
    "    pos, neg = _get_duplex_seqs(seq1, seq2)\n",
    "\n",
    "    dG = 0.\n",
    "\n",
    "    for ii, sim in enumerate(pos):\n",
    "        if ii == 0:\n",
    "            dG += sim_dict[sim].anharmonic_free_energy - 0.5*np.log(2*np.pi/3)*sim_dict[sim].n_dofs\n",
    "        else:\n",
    "            dG += SingleSimulation('/scratch/users/maa805/recces_rosetta/results/rna_min/{}/ST/'.format(sim), rna_min_based).value\n",
    "\n",
    "    for ii, sim in enumerate(neg):\n",
    "        if ii == 0: \n",
    "            dG -= sim_dict[sim].anharmonic_free_energy - 0.5*np.log(2*np.pi/3)*sim_dict[sim].n_dofs\n",
    "        else: \n",
    "            dG -= SingleSimulation('/scratch/users/maa805/recces_rosetta/results/rna_min/{}/ST/'.format(sim), rna_min_based).value\n",
    "\n",
    "    return dG"
   ]
  },
  {
   "cell_type": "code",
   "execution_count": 16,
   "metadata": {
    "collapsed": true
   },
   "outputs": [],
   "source": [
    "del fuck_dict"
   ]
  },
  {
   "cell_type": "code",
   "execution_count": 17,
   "metadata": {},
   "outputs": [
    {
     "name": "stdout",
     "output_type": "stream",
     "text": [
      "Inferring sequence from directory name:  gc\n",
      "Created:  hist_list.txt\n",
      "applying phase space volume for single strand with length  2\n",
      "Inferring sequence from directory name:  gc\n",
      "Created:  hist_list.txt\n",
      "applying phase space volume for single strand with length  2\n",
      "Inferring sequence from directory name:  gcg\n",
      "Created:  hist_list.txt\n",
      "applying phase space volume for single strand with length  3\n",
      "Inferring sequence from directory name:  cgc\n",
      "Created:  hist_list.txt\n",
      "applying phase space volume for single strand with length  3\n",
      "Inferring sequence from directory name:  gc\n",
      "Created:  hist_list.txt\n",
      "applying phase space volume for single strand with length  2\n",
      "Inferring sequence from directory name:  gc\n",
      "Created:  hist_list.txt\n",
      "applying phase space volume for single strand with length  2\n",
      "Inferring sequence from directory name:  gcc\n",
      "Created:  hist_list.txt\n",
      "applying phase space volume for single strand with length  3\n",
      "Inferring sequence from directory name:  ggc\n",
      "Created:  hist_list.txt\n",
      "applying phase space volume for single strand with length  3\n",
      "Inferring sequence from directory name:  ga\n",
      "Created:  hist_list.txt\n",
      "applying phase space volume for single strand with length  2\n",
      "Inferring sequence from directory name:  uc\n",
      "Created:  hist_list.txt\n",
      "applying phase space volume for single strand with length  2\n",
      "Inferring sequence from directory name:  gau\n",
      "Created:  hist_list.txt\n",
      "applying phase space volume for single strand with length  3\n",
      "Inferring sequence from directory name:  auc\n",
      "Created:  hist_list.txt\n",
      "applying phase space volume for single strand with length  3\n",
      "Inferring sequence from directory name:  gu\n",
      "Created:  hist_list.txt\n",
      "applying phase space volume for single strand with length  2\n",
      "Inferring sequence from directory name:  ac\n",
      "Created:  hist_list.txt\n",
      "applying phase space volume for single strand with length  2\n",
      "Inferring sequence from directory name:  gua\n",
      "Created:  hist_list.txt\n",
      "applying phase space volume for single strand with length  3\n",
      "Inferring sequence from directory name:  uac\n",
      "Created:  hist_list.txt\n",
      "applying phase space volume for single strand with length  3\n",
      "Inferring sequence from directory name:  ga\n",
      "Created:  hist_list.txt\n",
      "applying phase space volume for single strand with length  2\n",
      "Inferring sequence from directory name:  uc\n",
      "Created:  hist_list.txt\n",
      "applying phase space volume for single strand with length  2\n",
      "Inferring sequence from directory name:  gac\n",
      "Created:  hist_list.txt\n",
      "applying phase space volume for single strand with length  3\n",
      "Inferring sequence from directory name:  guc\n",
      "Created:  hist_list.txt\n",
      "applying phase space volume for single strand with length  3\n",
      "Inferring sequence from directory name:  gg\n",
      "Created:  hist_list.txt\n",
      "applying phase space volume for single strand with length  2\n",
      "Inferring sequence from directory name:  cc\n",
      "Created:  hist_list.txt\n",
      "applying phase space volume for single strand with length  2\n",
      "Inferring sequence from directory name:  ggc\n",
      "Created:  hist_list.txt\n",
      "applying phase space volume for single strand with length  3\n",
      "Inferring sequence from directory name:  gcc\n",
      "Created:  hist_list.txt\n",
      "applying phase space volume for single strand with length  3\n",
      "Inferring sequence from directory name:  ga\n",
      "Created:  hist_list.txt\n",
      "applying phase space volume for single strand with length  2\n",
      "Inferring sequence from directory name:  uc\n",
      "Created:  hist_list.txt\n",
      "applying phase space volume for single strand with length  2\n",
      "Inferring sequence from directory name:  gaa\n",
      "Created:  hist_list.txt\n",
      "applying phase space volume for single strand with length  3\n",
      "Inferring sequence from directory name:  uuc\n",
      "Created:  hist_list.txt\n",
      "applying phase space volume for single strand with length  3\n",
      "Inferring sequence from directory name:  gu\n",
      "Created:  hist_list.txt\n",
      "applying phase space volume for single strand with length  2\n",
      "Inferring sequence from directory name:  ac\n",
      "Created:  hist_list.txt\n",
      "applying phase space volume for single strand with length  2\n",
      "Inferring sequence from directory name:  guc\n",
      "Created:  hist_list.txt\n",
      "applying phase space volume for single strand with length  3\n",
      "Inferring sequence from directory name:  gac\n",
      "Created:  hist_list.txt\n",
      "applying phase space volume for single strand with length  3\n",
      "Inferring sequence from directory name:  gu\n",
      "Created:  hist_list.txt\n",
      "applying phase space volume for single strand with length  2\n",
      "Inferring sequence from directory name:  ac\n",
      "Created:  hist_list.txt\n",
      "applying phase space volume for single strand with length  2\n",
      "Inferring sequence from directory name:  gug\n",
      "Created:  hist_list.txt\n",
      "applying phase space volume for single strand with length  3\n",
      "Inferring sequence from directory name:  cac\n",
      "Created:  hist_list.txt\n",
      "applying phase space volume for single strand with length  3\n",
      "Inferring sequence from directory name:  ga\n",
      "Created:  hist_list.txt\n",
      "applying phase space volume for single strand with length  2\n",
      "Inferring sequence from directory name:  uc\n",
      "Created:  hist_list.txt\n",
      "applying phase space volume for single strand with length  2\n",
      "Inferring sequence from directory name:  gag\n",
      "Created:  hist_list.txt\n",
      "applying phase space volume for single strand with length  3\n",
      "Inferring sequence from directory name:  cuc\n",
      "Created:  hist_list.txt\n",
      "applying phase space volume for single strand with length  3\n"
     ]
    }
   ],
   "source": [
    "fuck_dict = {}\n",
    "for key in DG_CANONICAL.iterkeys():\n",
    "    seq1, seq2 = key\n",
    "    fuck_dict[key] = dg_mm(seq1, seq2)*KT_IN_KCAL\n"
   ]
  },
  {
   "cell_type": "code",
   "execution_count": 18,
   "metadata": {
    "collapsed": true
   },
   "outputs": [],
   "source": [
    "recces_vals = []\n",
    "mm_vals = []\n",
    "\n",
    "for key in fuck_dict.iterkeys():\n",
    "    mm_vals.append(fuck_dict[key]*KT_IN_KCAL)\n",
    "    recces_vals.append(DG_CANONICAL[key])\n",
    "    \n",
    "recces_vals = np.array(recces_vals)\n",
    "mm_vals = np.array(mm_vals)"
   ]
  },
  {
   "cell_type": "code",
   "execution_count": 21,
   "metadata": {},
   "outputs": [
    {
     "data": {
      "image/png": "[encoded data removed]",
      "text/plain": [
       "<Figure size 432x432 with 2 Axes>"
      ]
     },
     "metadata": {},
     "output_type": "display_data"
    }
   ],
   "source": [
    "norm = plt.Normalize(0,1.5)\n",
    "fig, ax = plt.subplots(nrows=1, ncols=1, figsize=(6,6))\n",
    "sc = ax.scatter(recces_vals, mm_vals, c=np.abs(recces_vals-mm_vals), norm=norm)\n",
    "ax.plot([-5, 1],[-5,1], 'k--')\n",
    "ax.set_xlim((-5,1))\n",
    "ax.set_ylim((-5,1))\n",
    "ax.set_xlabel('Expt $\\Delta$G (kcal/mol)')\n",
    "ax.set_ylabel('MM $\\Delta$G (kcal/mol)')\n",
    "cbaxes = fig.add_axes([0.94, 0.1, 0.03, 0.8]) \n",
    "fig.colorbar(sc, cax=cbaxes)\n",
    "plt.show()"
   ]
  },
  {
   "cell_type": "code",
   "execution_count": 22,
   "metadata": {},
   "outputs": [
    {
     "data": {
      "text/plain": [
       "0.699526822715701"
      ]
     },
     "execution_count": 22,
     "metadata": {},
     "output_type": "execute_result"
    }
   ],
   "source": [
    "np.sqrt(np.mean((recces_vals-mm_vals)**2))"
   ]
  },
  {
   "cell_type": "code",
   "execution_count": null,
   "metadata": {
    "collapsed": true
   },
   "outputs": [],
   "source": [
    "print recces_vals - mm_vals"
   ]
  },
  {
   "cell_type": "code",
   "execution_count": 7,
   "metadata": {
    "collapsed": true,
    "scrolled": true
   },
   "outputs": [],
   "source": [
    "from recces.data import SingleHistSimulation, SingleSimulation\n",
    "\n",
    "def calculate_anharmonicitiy(mm_sim):\n",
    "    w = list([])\n",
    "    h = np.linspace(-limit, limit, int(2*limit/dx)+1)\n",
    "    dh = h[1]-h[0]\n",
    "    \n",
    "    mode_scans = mm_sim.mode_scans\n",
    "    eigenvalues = mm_sim.eigenvalues\n",
    "    for ii in range(mm_sim.n_dofs):\n",
    "        w_anharmonic = np.trapz(h**2*np.exp(-mode_scans[ii]), dx=h[1]-h[0])/np.trapz(np.exp(-mode_scans[ii]), dx=dh)\n",
    "        w_harmonic = np.trapz(np.exp(-0.5*eigenvalues[ii]*h**2)*h**2,dx=h[1]-h[0])/np.trapz(np.exp(-0.5*eigenvalues[ii]*h**2), dx=h[1]-h[0])\n",
    "        w.append(w_anharmonic/w_harmonic)\n",
    "\n",
    "    return w"
   ]
  },
  {
   "cell_type": "code",
   "execution_count": 8,
   "metadata": {
    "scrolled": true
   },
   "outputs": [
    {
     "name": "stdout",
     "output_type": "stream",
     "text": [
      "gaa_uuc\n",
      "core.chemical.GlobalResidueTypeSet: Finished initializing fa_standard residue type set.  Created 980 residue types\n",
      "core.chemical.GlobalResidueTypeSet: Total time to initialize 1.04 seconds.\n",
      "core.scoring.etable: Starting energy table calculation\n",
      "core.scoring.etable: smooth_etable: changing atr/rep split to bottom of energy well\n",
      "core.scoring.etable: smooth_etable: spline smoothing lj etables (maxdis = 6)\n",
      "core.scoring.etable: smooth_etable: spline smoothing solvation etables (max_dis = 6)\n",
      "core.scoring.etable: Finished calculating energy tables.\n",
      "basic.io.database: Database file opened: scoring/score_functions/hbonds/ref2015_params/HBPoly1D.csv\n",
      "basic.io.database: Database file opened: scoring/score_functions/hbonds/ref2015_params/HBFadeIntervals.csv\n",
      "basic.io.database: Database file opened: scoring/score_functions/hbonds/ref2015_params/HBEval.csv\n",
      "basic.io.database: Database file opened: scoring/score_functions/hbonds/ref2015_params/DonStrength.csv\n",
      "basic.io.database: Database file opened: scoring/score_functions/hbonds/ref2015_params/AccStrength.csv\n",
      "-64.12116430897395\n",
      "1e+99\n",
      "-64.12116626933054\n",
      "1.960356598829094e-06\n",
      "-64.12116705332355\n",
      "7.839930020736574e-07\n",
      "-64.12116749599971\n",
      "4.426761677223112e-07\n",
      "-64.12116883424638\n",
      "1.3382466619304978e-06\n",
      "-64.12116884032753\n",
      "6.081151582293387e-09\n",
      "-64.12116884203817\n",
      "1.7106458471971564e-09\n",
      "-64.12116884313755\n",
      "1.0993801424774574e-09\n",
      "Minimization complete\n",
      "Inferring sequence from directory name:  gaa_uuc\n",
      "Created:  hist_list.txt\n",
      "applying phase space volume for two strand with helix length  3  and dangle length  0\n",
      "[3.95034520e+00 1.13856821e+01 2.92472687e+01 3.39251001e+01\n",
      " 3.87307882e+01 4.41854375e+01 4.95248984e+01 7.21305102e+01\n",
      " 1.12136020e+02 1.18719387e+02 1.30159855e+02 1.41744254e+02\n",
      " 1.58828434e+02 1.79289528e+02 3.36450110e+02 3.65593980e+02\n",
      " 4.05552111e+02 4.29457319e+02 6.39834691e+02 9.98867449e+02\n",
      " 1.22594469e+03 1.65213899e+03 3.05484836e+03 4.84285306e+03\n",
      " 1.13455428e+04 1.52769241e+04]\n",
      "gaa_uuc -18.1002160962653 -18.783383090628167 -18.576381921707473\n",
      "gac_guc\n",
      "core.optimization.LineMinimizer: [ ERROR ] Inaccurate G! step= 3.8147e-08 Deriv= -2.46227e-06 Finite Diff= 0.000307709\n",
      "core.optimization.LineMinimizer: [ ERROR ] Inaccurate G! step= 3.8147e-08 Deriv= -2.46227e-06 Finite Diff= 0.000307709\n",
      "core.optimization.LineMinimizer: [ ERROR ] Inaccurate G! step= 3.8147e-08 Deriv= -2.46227e-06 Finite Diff= 0.000307709\n",
      "core.optimization.LineMinimizer: [ ERROR ] Inaccurate G! step= 3.8147e-08 Deriv= -2.46227e-06 Finite Diff= 0.000307709\n",
      "core.optimization.LineMinimizer: [ ERROR ] Inaccurate G! step= 3.8147e-08 Deriv= -2.46227e-06 Finite Diff= 0.000307709\n",
      "core.optimization.LineMinimizer: [ ERROR ] Inaccurate G! step= 3.8147e-08 Deriv= -2.46227e-06 Finite Diff= 0.000307709\n",
      "core.optimization.LineMinimizer: [ ERROR ] Inaccurate G! step= 3.8147e-08 Deriv= -2.46227e-06 Finite Diff= 0.000307709\n",
      "-67.21063726726815\n",
      "1e+99\n",
      "-67.21064357127477\n",
      "6.304006618051972e-06\n",
      "-67.21064442554041\n",
      "8.542656360077672e-07\n",
      "-67.2106449010767\n",
      "4.755362965624954e-07\n",
      "-67.21064492336629\n",
      "2.228958351224719e-08\n",
      "-67.21064492633846\n",
      "2.9721718419750687e-09\n",
      "-67.21064492894448\n",
      "2.606014959383174e-09\n",
      "-67.2106449306589\n",
      "1.7144259345514001e-09\n",
      "-67.21064493247033\n",
      "1.811429228837369e-09\n",
      "-67.2106449340433\n",
      "1.5729710867162794e-09\n",
      "-67.21064493513231\n",
      "1.08900621853536e-09\n",
      "Minimization complete\n",
      "Inferring sequence from directory name:  gac_guc\n",
      "Created:  hist_list.txt\n",
      "applying phase space volume for two strand with helix length  3  and dangle length  0\n",
      "[   21.51328879    31.2165733     34.22772873    37.07782319\n",
      "    55.04290429    66.19184357    71.90659691    83.89189765\n",
      "    95.55765132   101.85471948   128.17504638   150.62852066\n",
      "   163.44782459   256.79218305   342.75922238   402.94885928\n",
      "   411.20368052   501.07739685   718.81547872   908.06568525\n",
      "  1314.90743831  1626.74639681  2526.34663404  7420.18478388\n",
      "  9407.65956792 15610.75410831]\n",
      "gac_guc -20.46438139248692 -19.482570083105276 -22.216482093639016\n",
      "gag_cuc\n",
      "core.optimization.LineMinimizer: [ ERROR ] Inaccurate G! step= 3.8147e-08 Deriv= -8.56295e-07 Finite Diff= 0.00614226\n",
      "core.optimization.LineMinimizer: [ ERROR ] Inaccurate G! step= 3.8147e-08 Deriv= -8.56295e-07 Finite Diff= 0.00614226\n",
      "core.optimization.LineMinimizer: [ ERROR ] Inaccurate G! step= 3.8147e-08 Deriv= -8.56295e-07 Finite Diff= 0.00614226\n",
      "core.optimization.LineMinimizer: [ ERROR ] Inaccurate G! step= 3.8147e-08 Deriv= -8.56295e-07 Finite Diff= 0.00614226\n",
      "core.optimization.LineMinimizer: [ ERROR ] Inaccurate G! step= 3.8147e-08 Deriv= -8.56295e-07 Finite Diff= 0.00614226\n",
      "-68.40290815735688\n",
      "1e+99\n",
      "-68.40291695249039\n",
      "8.795133510375308e-06\n",
      "-68.40291880641469\n",
      "1.8539243029636054e-06\n",
      "-68.40291886119618\n",
      "5.478149489590578e-08\n",
      "-68.40291886616811\n",
      "4.971923317498295e-09\n",
      "-68.40291886919294\n",
      "3.0248372695496073e-09\n",
      "-68.40291886967043\n",
      "4.774847184307873e-10\n",
      "Minimization complete\n",
      "Inferring sequence from directory name:  gag_cuc\n",
      "Created:  hist_list.txt\n",
      "applying phase space volume for two strand with helix length  3  and dangle length  0\n",
      "[   25.29901221    32.25023841    39.04610179    53.20823224\n",
      "    55.30605285    65.37638818    82.00642433    94.3062701\n",
      "   103.06924548   122.34750844   127.84540411   148.25585911\n",
      "   165.87697      199.67906088   367.06441209   435.20972514\n",
      "   457.20118548   575.64665795   617.57372049   912.69953494\n",
      "  1478.45589219  1910.07368366  3142.45278808  7155.84175585\n",
      " 16457.20346073 21287.0904879 ]\n",
      "gag_cuc -20.756170435038506 -19.422723226947173 -20.86454990450597\n",
      "gau_auc\n",
      "-62.672336316105344\n",
      "1e+99\n",
      "-62.67234145006\n",
      "5.133954658731454e-06\n",
      "-62.672341884914715\n",
      "4.3485471223903005e-07\n",
      "-62.67234188934246\n",
      "4.427747057889064e-09\n",
      "-62.67234189390585\n",
      "4.5633896661456674e-09\n",
      "-62.67234189702314\n",
      "3.117285984899354e-09\n",
      "-62.672341901242085\n",
      "4.218946969558601e-09\n",
      "-62.67234190305631\n",
      "1.8142216617889062e-09\n",
      "-62.67234190539969\n",
      "2.3433841533915256e-09\n",
      "-62.67234190782149\n",
      "2.4217996497100103e-09\n",
      "-62.6723419117438\n",
      "3.922309588233475e-09\n",
      "-62.67234191392063\n",
      "2.176832936129358e-09\n",
      "-62.67234191592917\n",
      "2.008533783737221e-09\n",
      "-62.67234191768071\n",
      "1.7515446870675078e-09\n",
      "-62.6723419183918\n",
      "7.110898536666355e-10\n",
      "Minimization complete\n",
      "Inferring sequence from directory name:  gau_auc\n",
      "Created:  hist_list.txt\n",
      "applying phase space volume for two strand with helix length  3  and dangle length  0\n",
      "[   18.44023226    24.05642528    31.04118427    32.69483468\n",
      "    36.29901888    39.70067622    56.10057334    83.92974753\n",
      "   104.68138044   114.29355818   123.77467182   141.11643939\n",
      "   149.71778941   237.10599992   264.43618974   288.26551596\n",
      "   416.84351628   433.58589561   457.69024667   672.89880506\n",
      "   991.80388436  1450.6051363   2075.11588992  5845.05945901\n",
      "  8324.56048739 10519.47605335]\n",
      "gau_auc -17.812484098313526 -17.294597360313862 -18.429728967078148\n",
      "gca_ugc\n",
      "-68.18898143333293\n",
      "1e+99\n",
      "-68.18898912305976\n",
      "7.689726828630228e-06\n",
      "-68.18899276132554\n",
      "3.6382657810918317e-06\n",
      "-68.18899284087644\n",
      "7.955090097766515e-08\n",
      "-68.18899284828974\n",
      "7.413305525005853e-09\n",
      "-68.18899285369955\n",
      "5.409802383837814e-09\n",
      "-68.18899286064274\n",
      "6.943196240172256e-09\n",
      "-68.18899286437784\n",
      "3.7350957882154034e-09\n",
      "-68.18899286863372\n",
      "4.255880980963411e-09\n",
      "-68.18899287300611\n",
      "4.3723957787733525e-09\n",
      "-68.18899287697654\n",
      "3.970427542299149e-09\n",
      "-68.18899288173812\n",
      "4.7615742460038746e-09\n",
      "-68.18899288476021\n",
      "3.0220945745895733e-09\n",
      "-68.18899288914545\n",
      "4.385242391435895e-09\n",
      "-68.18899289267664\n",
      "3.53118423390697e-09\n",
      "-68.18899289638169\n",
      "3.7050540413474664e-09\n",
      "-68.1889928996689\n",
      "3.287212280156382e-09\n",
      "-68.1889929019223\n",
      "2.2534010213348665e-09\n",
      "-68.18899290481212\n",
      "2.889819938900473e-09\n",
      "-68.18899290752816\n",
      "2.7160353965882678e-09\n",
      "-68.18899290859602\n",
      "1.0678604667191394e-09\n",
      "Minimization complete\n",
      "Inferring sequence from directory name:  gca_ugc\n",
      "Created:  hist_list.txt\n",
      "applying phase space volume for two strand with helix length  3  and dangle length  0\n",
      "[5.78350478e+00 9.88280696e+00 1.99029562e+01 2.75978563e+01\n",
      " 3.39513750e+01 5.20471007e+01 7.09775953e+01 7.91085886e+01\n",
      " 1.01441466e+02 1.08847946e+02 1.36036459e+02 1.42252891e+02\n",
      " 1.49588954e+02 1.70601790e+02 2.61898443e+02 3.88685110e+02\n",
      " 4.48373450e+02 5.78315511e+02 6.67172058e+02 8.95165705e+02\n",
      " 1.19969698e+03 1.94801068e+03 2.24266513e+03 5.70436773e+03\n",
      " 1.38101049e+04 1.63665275e+04]\n",
      "gca_ugc -21.552894127066672 -22.707189366121217 -23.26390926666995\n",
      "gcc_ggc\n",
      "-74.08965238932527\n"
     ]
    },
    {
     "name": "stdout",
     "output_type": "stream",
     "text": [
      "1e+99\n",
      "-74.08966483034922\n",
      "1.2441023955034325e-05\n",
      "-74.08966674226434\n",
      "1.9119151204449736e-06\n",
      "-74.08966834712304\n",
      "1.6048586957140287e-06\n",
      "-74.08966845664025\n",
      "1.095172166287739e-07\n",
      "-74.08966846271224\n",
      "6.071985581002082e-09\n",
      "-74.08966846884368\n",
      "6.131443797130487e-09\n",
      "-74.08966847351178\n",
      "4.668095243687276e-09\n",
      "-74.08966847725648\n",
      "3.74470232600288e-09\n",
      "-74.08966848314489\n",
      "5.888409759791102e-09\n",
      "-74.08966848871172\n",
      "5.566832328440796e-09\n",
      "-74.08966849326274\n",
      "4.5510120116887265e-09\n",
      "-74.08966849764391\n",
      "4.381178086987347e-09\n",
      "-74.08966850171308\n",
      "4.069164560860372e-09\n",
      "-74.08966850584869\n",
      "4.135614517508657e-09\n",
      "-74.08966850869177\n",
      "2.8430804377421737e-09\n",
      "-74.08966851098533\n",
      "2.2935608967600274e-09\n",
      "-74.0896685153852\n",
      "4.399865360937838e-09\n",
      "-74.08966851794784\n",
      "2.5626434307923773e-09\n",
      "-74.08966851962613\n",
      "1.6782877310106414e-09\n",
      "-74.08966852050094\n",
      "8.748060054131201e-10\n",
      "Minimization complete\n",
      "Inferring sequence from directory name:  gcc_ggc\n",
      "Created:  hist_list.txt\n",
      "applying phase space volume for two strand with helix length  3  and dangle length  0\n",
      "[1.18430588e+01 2.04976792e+01 2.92605287e+01 3.25405930e+01\n",
      " 4.20719074e+01 5.22595628e+01 5.87194890e+01 7.76556713e+01\n",
      " 7.77413131e+01 1.24947694e+02 1.40120532e+02 1.76456646e+02\n",
      " 2.02172815e+02 3.04862609e+02 3.33428308e+02 4.10560310e+02\n",
      " 4.93249740e+02 5.25943654e+02 8.05319818e+02 1.11294769e+03\n",
      " 1.69349260e+03 2.09489179e+03 3.01071499e+03 7.00645678e+03\n",
      " 1.18612399e+04 1.66303057e+04]\n",
      "gcc_ggc -25.573327135741067 -26.363130025866486 -25.99553955756432\n",
      "gcg_cgc\n",
      "-71.17659450072145\n",
      "1e+99\n",
      "-71.17660206260176\n",
      "7.561880309481239e-06\n",
      "-71.17660461341228\n",
      "2.5508105210292342e-06\n",
      "-71.17660572181472\n",
      "1.1084024436058826e-06\n",
      "-71.17660599665561\n",
      "2.748408860497875e-07\n",
      "-71.17660601755361\n",
      "2.089799977511575e-08\n",
      "-71.17660602378643\n",
      "6.232824034668738e-09\n",
      "-71.17660603041278\n",
      "6.626351023442112e-09\n",
      "-71.17660603867299\n",
      "8.260201411758317e-09\n",
      "-71.17660604535507\n",
      "6.682085995635134e-09\n",
      "-71.17660605149888\n",
      "6.143807240732713e-09\n",
      "-71.17660605779673\n",
      "6.297852905845502e-09\n",
      "-71.17660606453441\n",
      "6.737678859281004e-09\n",
      "-71.17660607214323\n",
      "7.608818464177602e-09\n",
      "-71.17660608018996\n",
      "8.046725952226552e-09\n",
      "-71.17660608605655\n",
      "5.866596097803267e-09\n",
      "-71.17660609309917\n",
      "7.042615379759809e-09\n",
      "-71.17660609970899\n",
      "6.609823799408332e-09\n",
      "-71.17660610656054\n",
      "6.851550438113918e-09\n",
      "-71.17660611233602\n",
      "5.775476097369392e-09\n",
      "-71.176606117809\n",
      "5.472983843901602e-09\n",
      "-71.17660612498133\n",
      "7.172332061600173e-09\n",
      "-71.17660613174314\n",
      "6.761808890587417e-09\n",
      "-71.1766061382392\n",
      "6.496051696558425e-09\n",
      "-71.17660614602087\n",
      "7.78167930093332e-09\n",
      "-71.17660615119567\n",
      "5.1747974794125184e-09\n",
      "-71.1766061568278\n",
      "5.632131205857149e-09\n",
      "-71.1766061632437\n",
      "6.4159024759646854e-09\n",
      "-71.17660616801845\n",
      "4.774747708324867e-09\n",
      "-71.1766061726866\n",
      "4.668152087106137e-09\n",
      "-71.17660617868151\n",
      "5.994905905026826e-09\n",
      "-71.17660618372545\n",
      "5.043943929194938e-09\n",
      "-71.17660618900561\n",
      "5.280156756271026e-09\n",
      "-71.17660619599651\n",
      "6.990902079451189e-09\n",
      "-71.17660620215915\n",
      "6.162636623230355e-09\n",
      "-71.17660620814871\n",
      "5.98956262365391e-09\n",
      "-71.1766062132292\n",
      "5.080494247522438e-09\n",
      "-71.17660621657328\n",
      "3.344069909871905e-09\n",
      "-71.17660622138374\n",
      "4.8104595862241695e-09\n",
      "-71.17660622633312\n",
      "4.949384901919984e-09\n",
      "-71.17660623155122\n",
      "5.218097953729739e-09\n",
      "-71.17660623598076\n",
      "4.42953762558318e-09\n",
      "-71.17660623925065\n",
      "3.2698892482585507e-09\n",
      "-71.17660624350785\n",
      "4.257202590451925e-09\n",
      "-71.17660624751178\n",
      "4.003936737717595e-09\n",
      "-71.17660625299352\n",
      "5.4817377304061665e-09\n",
      "-71.17660625696254\n",
      "3.969020667682344e-09\n",
      "-71.17660626096648\n",
      "4.003936737717595e-09\n",
      "-71.17660626538331\n",
      "4.416833121467789e-09\n",
      "-71.17660626871381\n",
      "3.330498543618887e-09\n",
      "-71.17660627447975\n",
      "5.765940613855491e-09\n",
      "-71.17660627864421\n",
      "4.164462552580517e-09\n",
      "-71.17660628253397\n",
      "3.889752520080947e-09\n",
      "-71.17660628649281\n",
      "3.958845695706259e-09\n",
      "-71.17660628952905\n",
      "3.0362343750311993e-09\n",
      "-71.17660629312883\n",
      "3.59978002961725e-09\n",
      "-71.17660629648478\n",
      "3.355950184413814e-09\n",
      "-71.17660630057398\n",
      "4.089201866008807e-09\n",
      "-71.17660630351912\n",
      "2.9451427963067545e-09\n",
      "-71.1766063075473\n",
      "4.0281804558617296e-09\n",
      "-71.1766063109333\n",
      "3.385991931281751e-09\n",
      "-71.17660631463563\n",
      "3.702339768096863e-09\n",
      "-71.17660631726251\n",
      "2.6268764941050904e-09\n",
      "-71.17660632200653\n",
      "4.7440238404306e-09\n",
      "-71.17660632496718\n",
      "2.96064683880104e-09\n",
      "-71.17660632813059\n",
      "3.163407313877542e-09\n",
      "-71.17660633187589\n",
      "3.7452991819009185e-09\n",
      "-71.17660633505497\n",
      "3.17908188662841e-09\n",
      "-71.17660633915776\n",
      "4.10278744311654e-09\n",
      "-71.17660634184622\n",
      "2.688466338440776e-09\n",
      "-71.17660634446526\n",
      "2.619032102302299e-09\n",
      "-71.1766063481109\n",
      "3.645638457783207e-09\n",
      "-71.17660635077269\n",
      "2.6617925641403417e-09\n",
      "-71.17660635468431\n",
      "3.911623025487643e-09\n",
      "-71.17660635694281\n",
      "2.258502718177624e-09\n",
      "-71.17660635944415\n",
      "2.501337803550996e-09\n",
      "-71.17660636208123\n",
      "2.6370798877906054e-09\n",
      "-71.1766063643028\n",
      "2.221568706772814e-09\n",
      "-71.17660636683433\n",
      "2.5315358698208e-09\n",
      "-71.17660637080729\n",
      "3.9729570744384546e-09\n",
      "-71.1766063741241\n",
      "3.3168134905281477e-09\n",
      "-71.17660637668354\n",
      "2.5594317776267417e-09\n",
      "-71.17660638066263\n",
      "3.979096163675422e-09\n",
      "-71.17660638371939\n",
      "3.056754849239951e-09\n",
      "-71.17660638736422\n",
      "3.6448284390644403e-09\n",
      "-71.17660639082919\n",
      "3.4649758617888438e-09\n",
      "-71.17660639533787\n",
      "4.50867787549214e-09\n",
      "-71.17660639844397\n",
      "3.1060949368111324e-09\n",
      "-71.17660640196921\n",
      "3.5252440966360155e-09\n",
      "-71.17660640495006\n",
      "2.980854674206057e-09\n",
      "-71.17660640841324\n",
      "3.463171083240013e-09\n",
      "-71.17660641083812\n",
      "2.424883405183209e-09\n",
      "-71.1766064136393\n",
      "2.801186838041758e-09\n",
      "-71.17660641809472\n",
      "4.455415592019563e-09\n",
      "-71.17660642035844\n",
      "2.263718101858103e-09\n",
      "-71.17660642292236\n",
      "2.5639224077167455e-09\n",
      "-71.17660642659774\n",
      "3.6753817767021246e-09\n",
      "-71.17660642914686\n",
      "2.549114697103505e-09\n",
      "-71.17660643158328\n",
      "2.436422619211953e-09\n",
      "-71.17660643408416\n",
      "2.5008830562001094e-09\n",
      "Minimization complete\n",
      "Inferring sequence from directory name:  gcg_cgc\n",
      "Created:  hist_list.txt\n",
      "applying phase space volume for two strand with helix length  3  and dangle length  0\n",
      "[1.34494090e+01 2.87565629e+01 3.14036687e+01 3.65707101e+01\n",
      " 5.46200066e+01 5.79754054e+01 7.13327522e+01 9.51982460e+01\n",
      " 1.08388627e+02 1.14652796e+02 1.45715695e+02 2.20300872e+02\n",
      " 2.30997806e+02 3.40574177e+02 3.96660210e+02 4.28145862e+02\n",
      " 4.79003619e+02 6.98839611e+02 7.63957166e+02 9.79624669e+02\n",
      " 1.37505963e+03 2.24835453e+03 2.71791027e+03 7.48540085e+03\n",
      " 1.62374585e+04 2.17730868e+04]\n",
      "gcg_cgc -23.39440515323863 -22.016243002275775 -24.69784581054406\n",
      "gcu_agc\n",
      "-69.90815910019032\n",
      "1e+99\n",
      "-69.90817584849782\n",
      "1.6748307501757154e-05\n",
      "-69.9081786933933\n",
      "2.8448954765281087e-06\n",
      "-69.9081786979495\n",
      "4.556198973659775e-09\n",
      "-69.90817870006711\n",
      "2.1176163045311114e-09\n",
      "-69.90817870146029\n",
      "1.3931753528595436e-09\n",
      "Hessian is not positive-definite; attempting additional minimization.\n",
      "-69.90817870212162\n",
      "1e+99\n",
      "-69.90817870289382\n",
      "7.722036343693617e-10\n",
      "Hessian is not positive-definite; attempting additional minimization.\n",
      "-69.90817870289382\n",
      "1e+99\n",
      "-69.90817870289382\n",
      "0.0\n",
      "Minimization did not converge after three attempts. Proceeding with negative modes.\n"
     ]
    },
    {
     "name": "stderr",
     "output_type": "stream",
     "text": [
      "MiningMinima.py:283: RuntimeWarning: invalid value encountered in sqrt\n",
      "  total_log_harmonic += np.log(np.sqrt(2*np.pi/eigenvalues[ii]) # see Gilson et al. PNAS 2003\n",
      "MiningMinima.py:284: RuntimeWarning: invalid value encountered in sqrt\n",
      "  *erf(2*limit/np.sqrt(2/eigenvalues[ii])))\n"
     ]
    },
    {
     "name": "stdout",
     "output_type": "stream",
     "text": [
      "Inferring sequence from directory name:  gcu_agc\n",
      "Created:  hist_list.txt\n",
      "applying phase space volume for two strand with helix length  3  and dangle length  0\n"
     ]
    },
    {
     "name": "stderr",
     "output_type": "stream",
     "text": [
      "MiningMinima.py:68: RuntimeWarning: invalid value encountered in sqrt\n",
      "  self.dos = lambda E: (2.0*np.pi)**(self.n_dofs/2)*(E-self.min_energy)**(self.n_dofs/2 - 1)/gamma(self.n_dofs/2)/np.sqrt(np.linalg.det(self.hessian))*np.heaviside(E-self.min_energy, 0.5)\n"
     ]
    },
    {
     "name": "stdout",
     "output_type": "stream",
     "text": [
      "[-1.26766246e+02  5.38922854e+00  1.11838606e+01  3.73068319e+01\n",
      "  3.91654555e+01  4.33553422e+01  5.85929061e+01  6.56530852e+01\n",
      "  9.04572974e+01  1.12211904e+02  1.17121133e+02  1.23145307e+02\n",
      "  1.23881678e+02  1.53535960e+02  1.84374207e+02  2.47072054e+02\n",
      "  4.25962871e+02  5.00677155e+02  6.66923955e+02  8.44670785e+02\n",
      "  1.59569559e+03  2.05182467e+03  2.90345247e+03  6.42189934e+03\n",
      "  1.04840900e+04  1.24072504e+04]\n",
      "gcu_agc -22.39225832333429 nan -24.430075087187134\n",
      "gga_ucc\n",
      "core.optimization.LineMinimizer: [ ERROR ] Inaccurate G! step= 3.8147e-08 Deriv= -2.51924e-06 Finite Diff= 0.00212304\n",
      "core.optimization.LineMinimizer: [ ERROR ] Inaccurate G! step= 3.8147e-08 Deriv= -2.51924e-06 Finite Diff= 0.00212304\n",
      "core.optimization.LineMinimizer: [ ERROR ] Inaccurate G! step= 3.8147e-08 Deriv= -2.51924e-06 Finite Diff= 0.00212304\n",
      "-67.55620862691453\n",
      "1e+99\n",
      "-67.55620958652179\n",
      "9.596072629847185e-07\n",
      "-67.55621133897232\n",
      "1.7524505295796189e-06\n",
      "-67.55621159228194\n",
      "2.5330962216685293e-07\n",
      "-67.55621160022733\n",
      "7.945388347252447e-09\n",
      "-67.55621160789724\n",
      "7.669910928598256e-09\n",
      "-67.55621161274706\n",
      "4.849823653785279e-09\n",
      "-67.55621161883171\n",
      "6.084647452553327e-09\n",
      "-67.55621162382005\n",
      "4.988336854694353e-09\n",
      "-67.55621162850981\n",
      "4.689766797127959e-09\n",
      "-67.55621163183439\n",
      "3.324572617202648e-09\n",
      "-67.55621163471835\n",
      "2.88396506675781e-09\n",
      "-67.5562116374835\n",
      "2.765148110484006e-09\n",
      "-67.55621164178709\n",
      "4.303586820242344e-09\n",
      "-67.55621164537061\n",
      "3.583522811823059e-09\n",
      "-67.5562116491435\n",
      "3.772896661757841e-09\n",
      "-67.55621165242175\n",
      "3.2782452308310894e-09\n",
      "-67.55621165624703\n",
      "3.825277872238075e-09\n",
      "-67.55621165968691\n",
      "3.439879492361797e-09\n",
      "-67.5562116628158\n",
      "3.1288891477743164e-09\n",
      "-67.55621166755367\n",
      "4.737870540338918e-09\n",
      "-67.5562116707255\n",
      "3.171834350723657e-09\n",
      "-67.55621167461973\n",
      "3.8942289393162355e-09\n",
      "-67.55621167758406\n",
      "2.964327450172277e-09\n",
      "-67.55621168119214\n",
      "3.608079168770928e-09\n",
      "-67.55621168488392\n",
      "3.6917811030434677e-09\n",
      "-67.55621168836612\n",
      "3.4821994177036686e-09\n",
      "-67.55621169252525\n",
      "4.159133482062316e-09\n",
      "-67.55621169571165\n",
      "3.186400476806739e-09\n",
      "-67.55621169859661\n",
      "2.884959826587874e-09\n",
      "-67.55621170199824\n",
      "3.4016238714684732e-09\n",
      "-67.55621170423473\n",
      "2.236490104223776e-09\n",
      "-67.55621170691403\n",
      "2.6793003371494706e-09\n",
      "-67.55621171092346\n",
      "4.009436338492378e-09\n",
      "-67.5562117151575\n",
      "4.234038897266146e-09\n",
      "-67.55621171840605\n",
      "3.2485445444763172e-09\n",
      "-67.55621172254172\n",
      "4.1356713609275175e-09\n",
      "-67.55621172800298\n",
      "5.4612598887615604e-09\n",
      "-67.5562117321341\n",
      "4.131123887418653e-09\n",
      "-67.55621173617044\n",
      "4.0363374864682555e-09\n",
      "-67.55621174152445\n",
      "5.354010568225931e-09\n",
      "-67.55621174474211\n",
      "3.2176643571801833e-09\n",
      "-67.55621174747932\n",
      "2.7372095701139187e-09\n",
      "-67.55621175086478\n",
      "3.3854519188025733e-09\n",
      "-67.55621175403965\n",
      "3.17487547363271e-09\n",
      "-67.5562117564311\n",
      "2.3914452640383388e-09\n",
      "-67.55621176105605\n",
      "4.6249510887719225e-09\n",
      "-67.55621176469434\n",
      "3.6382914458954474e-09\n",
      "-67.55621176638836\n",
      "1.69401914718037e-09\n",
      "-67.55621176828305\n",
      "1.8946906266137375e-09\n",
      "-67.55621177065913\n",
      "2.3760833300912054e-09\n",
      "-67.55621177354885\n",
      "2.8897204629174666e-09\n",
      "-67.55621177686733\n",
      "3.3184761605298263e-09\n",
      "-67.55621178038754\n",
      "3.520213454066834e-09\n",
      "-67.55621178455343\n",
      "4.165883638052037e-09\n",
      "-67.55621178803966\n",
      "3.486235300442786e-09\n",
      "-67.55621179209383\n",
      "4.054172109135834e-09\n",
      "-67.55621179502262\n",
      "2.928786102529557e-09\n",
      "-67.55621179777378\n",
      "2.751164629444247e-09\n",
      "-67.55621180187407\n",
      "4.1002863326866645e-09\n",
      "-67.55621180535599\n",
      "3.4819152006093645e-09\n",
      "-67.55621180908975\n",
      "3.7337599678721745e-09\n",
      "-67.55621181338032\n",
      "4.290569677323219e-09\n",
      "-67.55621181740452\n",
      "4.024201416541473e-09\n",
      "-67.55621182069332\n",
      "3.2888038958844845e-09\n",
      "-67.55621182389493\n",
      "3.201606091352005e-09\n",
      "-67.55621182588419\n",
      "1.989263864743407e-09\n",
      "-67.55621182916923\n",
      "3.285038019384956e-09\n",
      "-67.55621183359592\n",
      "4.426695454640139e-09\n",
      "-67.55621183774991\n",
      "4.153989152655413e-09\n",
      "-67.55621184104436\n",
      "3.2944456052064197e-09\n",
      "-67.55621184370835\n",
      "2.663995246621198e-09\n",
      "-67.55621184475223\n",
      "1.0438725439598784e-09\n",
      "Minimization complete\n",
      "Inferring sequence from directory name:  gga_ucc\n",
      "Created:  hist_list.txt\n",
      "applying phase space volume for two strand with helix length  3  and dangle length  0\n",
      "[1.37779569e+00 9.36210803e+00 1.81492718e+01 2.23331543e+01\n",
      " 3.68625052e+01 3.99717694e+01 5.10784577e+01 6.39830844e+01\n",
      " 8.17737281e+01 9.50039991e+01 1.15593434e+02 1.27652781e+02\n",
      " 1.52821431e+02 1.89445993e+02 2.89550480e+02 3.65053909e+02\n",
      " 3.99058181e+02 4.51502983e+02 6.09778883e+02 1.22032494e+03\n",
      " 1.50034111e+03 1.73388982e+03 3.38756381e+03 4.73292511e+03\n",
      " 1.21927819e+04 1.80347719e+04]\n",
      "gga_ucc -20.769949663519668 -23.481029259155594 -20.606245443785653\n",
      "ggc_gcc\n",
      "-73.99829153681661\n",
      "1e+99\n",
      "-73.99829392439091\n",
      "2.3875742982681913e-06\n",
      "-73.99829542817393\n",
      "1.5037830252140338e-06\n",
      "-73.9982962533924\n",
      "8.25218464228783e-07\n",
      "-73.9982962574656\n",
      "4.0732004435994895e-09\n",
      "-73.99829626166986\n",
      "4.204267156637798e-09\n",
      "-73.99829626415993\n",
      "2.4900685957618407e-09\n",
      "-73.99829626717789\n",
      "3.0179592158674495e-09\n",
      "-73.99829626742124\n",
      "2.433466761431191e-10\n",
      "Minimization complete\n",
      "Inferring sequence from directory name:  ggc_gcc\n",
      "Created:  hist_list.txt\n",
      "applying phase space volume for two strand with helix length  3  and dangle length  0\n",
      "[8.08828934e+00 1.49584972e+01 3.45584122e+01 3.92671798e+01\n",
      " 4.69411648e+01 6.98311303e+01 7.72508230e+01 9.44551808e+01\n",
      " 1.24516210e+02 1.29919439e+02 1.52930066e+02 1.63242841e+02\n",
      " 1.89326072e+02 2.74243115e+02 3.24557497e+02 3.95915158e+02\n",
      " 4.66832628e+02 5.18182060e+02 8.31909931e+02 1.33105114e+03\n",
      " 1.71537040e+03 1.79181510e+03 2.91053899e+03 7.89511542e+03\n",
      " 1.18822984e+04 1.78816564e+04]\n",
      "ggc_gcc -25.91551315215021 -25.786680822560005 -26.101140758013415\n",
      "ggg_ccc\n",
      "-72.72240741557306\n",
      "1e+99\n",
      "-72.72241506559783\n",
      "7.650024770100572e-06\n",
      "-72.72241599879581\n",
      "9.331979811122437e-07\n",
      "-72.7224164174414\n",
      "4.186455839771952e-07\n",
      "-72.72241642656911\n",
      "9.127717248702538e-09\n",
      "-72.72241643543\n",
      "8.860894240569905e-09\n",
      "-72.72241644362364\n",
      "8.19363776827231e-09\n",
      "-72.72241644997948\n",
      "6.3558331930835266e-09\n",
      "-72.72241645734005\n",
      "7.360569043157739e-09\n",
      "-72.72241646443493\n",
      "7.094882903402322e-09\n",
      "-72.72241646737811\n",
      "2.9431816983560566e-09\n",
      "-72.7224164692636\n",
      "1.885496203613002e-09\n",
      "-72.72241647064533\n",
      "1.3817214039590908e-09\n",
      "Minimization complete\n",
      "Inferring sequence from directory name:  ggg_ccc\n",
      "Created:  hist_list.txt\n",
      "applying phase space volume for two strand with helix length  3  and dangle length  0\n",
      "[2.27970440e+01 2.95008539e+01 3.56687341e+01 5.53527913e+01\n",
      " 6.83238550e+01 7.31014317e+01 8.88144133e+01 1.10542302e+02\n",
      " 1.18690620e+02 1.33088688e+02 1.44044777e+02 1.64912431e+02\n",
      " 2.24805432e+02 3.17167240e+02 3.31161940e+02 3.67206289e+02\n",
      " 4.80685558e+02 6.64242026e+02 7.07193339e+02 1.46019595e+03\n",
      " 1.87291752e+03 2.05996540e+03 3.53358892e+03 7.37325527e+03\n",
      " 1.63847305e+04 2.31623531e+04]\n",
      "ggg_ccc -23.93345413486628 -22.441989811194194 -23.460628034716834\n",
      "ggu_acc\n",
      "-67.61915863779359\n",
      "1e+99\n",
      "-67.61916806973494\n",
      "9.43194135061276e-06\n",
      "-67.6191712138119\n",
      "3.1440769561186244e-06\n",
      "-67.61917137272488\n",
      "1.589129823287294e-07\n",
      "-67.61917137844176\n",
      "5.716884743378614e-09\n",
      "-67.619171383489\n",
      "5.047240847488865e-09\n",
      "-67.61917138744718\n",
      "3.9581777855346445e-09\n",
      "-67.61917139001272\n",
      "2.5655424451542785e-09\n",
      "-67.61917139522875\n",
      "5.2160231689413195e-09\n",
      "-67.61917139858153\n",
      "3.352781163812324e-09\n",
      "-67.6191714008894\n",
      "2.307871227458236e-09\n",
      "-67.61917140405919\n",
      "3.1697879876446677e-09\n",
      "-67.61917140733536\n",
      "3.27617044604267e-09\n",
      "-67.61917140854399\n",
      "1.2086331935279304e-09\n",
      "Minimization complete\n",
      "Inferring sequence from directory name:  ggu_acc\n",
      "Created:  hist_list.txt\n",
      "applying phase space volume for two strand with helix length  3  and dangle length  0\n",
      "[1.91716426e+00 4.80182227e+00 8.89509690e+00 1.93365263e+01\n",
      " 2.91597579e+01 3.58801582e+01 5.98393352e+01 6.75327524e+01\n",
      " 8.24199721e+01 8.93866089e+01 1.22354068e+02 1.48470626e+02\n",
      " 1.96101055e+02 2.44822400e+02 3.14545955e+02 4.27563774e+02\n",
      " 4.60456927e+02 4.74646178e+02 5.49618931e+02 1.13168301e+03\n",
      " 1.40710220e+03 1.57034132e+03 2.28805752e+03 5.88756506e+03\n",
      " 9.33125385e+03 1.30934647e+04]\n",
      "ggu_acc -22.115158212343623 -24.21089335993472 -21.668946853428253\n",
      "gua_uac\n",
      "-63.15462712416537\n",
      "1e+99\n",
      "-63.154658440015\n",
      "3.1315849625457304e-05\n",
      "-63.15465910477869\n",
      "6.647636894285824e-07\n",
      "-63.154659247385055\n",
      "1.4260636760354828e-07\n",
      "-63.154659254191074\n",
      "6.806018859606411e-09\n",
      "-63.15465926027639\n",
      "6.085315362724941e-09\n",
      "-63.15465926565583\n",
      "5.379440892738785e-09\n",
      "-63.154659271582716\n",
      "5.926885648932512e-09\n",
      "-63.15465927629719\n",
      "4.7144723680503375e-09\n"
     ]
    },
    {
     "name": "stdout",
     "output_type": "stream",
     "text": [
      "-63.15465928096386\n",
      "4.666674158215756e-09\n",
      "-63.15465928387991\n",
      "2.9160460712773784e-09\n",
      "-63.15465928817546\n",
      "4.295550581900898e-09\n",
      "-63.154659291246425\n",
      "3.070965703955153e-09\n",
      "-63.154659295449896\n",
      "4.203471348773746e-09\n",
      "-63.15465929859795\n",
      "3.1480524853577663e-09\n",
      "-63.15465930237359\n",
      "3.775639356717875e-09\n",
      "-63.15465930691265\n",
      "4.539060682873242e-09\n",
      "-63.15465931018367\n",
      "3.2710190112084092e-09\n",
      "-63.15465931309078\n",
      "2.907114549088874e-09\n",
      "-63.15465931619626\n",
      "3.105476764631021e-09\n",
      "-63.15465931841882\n",
      "2.222563466602878e-09\n",
      "-63.15465932098744\n",
      "2.5686190952001198e-09\n",
      "-63.15465932374009\n",
      "2.7526496637619857e-09\n",
      "-63.15465932604013\n",
      "2.3000410465101595e-09\n",
      "-63.1546593291262\n",
      "3.086064737090055e-09\n",
      "-63.154659331885654\n",
      "2.7594566631705675e-09\n",
      "-63.1546593344424\n",
      "2.5567459260855685e-09\n",
      "-63.1546593368883\n",
      "2.445901259306993e-09\n",
      "-63.15465933811243\n",
      "1.2241301305948582e-09\n",
      "Minimization complete\n",
      "Inferring sequence from directory name:  gua_uac\n",
      "Created:  hist_list.txt\n",
      "applying phase space volume for two strand with helix length  3  and dangle length  0\n",
      "[1.55376441e+01 2.85498389e+01 3.69173380e+01 4.76064058e+01\n",
      " 6.59832115e+01 7.40199215e+01 8.68606022e+01 9.42888800e+01\n",
      " 1.09693351e+02 1.13496274e+02 1.36979108e+02 1.64552430e+02\n",
      " 1.85219909e+02 2.85970289e+02 3.41763538e+02 3.70053657e+02\n",
      " 4.00305097e+02 5.04057166e+02 6.19247955e+02 9.27800525e+02\n",
      " 9.69436457e+02 1.44049951e+03 1.94193230e+03 5.28762491e+03\n",
      " 1.38179421e+04 1.69917389e+04]\n",
      "gua_uac -17.15932744038863 -15.252512704424868 -18.518878523928002\n",
      "guc_gac\n",
      "-67.24547871917164\n",
      "1e+99\n",
      "-67.24548269948028\n",
      "3.980308633799723e-06\n",
      "-67.24548285277518\n",
      "1.532949056581856e-07\n",
      "-67.2454828713382\n",
      "1.856301423686091e-08\n",
      "-67.24548287780229\n",
      "6.4640914843039354e-09\n",
      "-67.245482882738\n",
      "4.93571405968396e-09\n",
      "-67.24548288743966\n",
      "4.701661282524583e-09\n",
      "-67.24548289252073\n",
      "5.081062681711046e-09\n",
      "-67.24548289755458\n",
      "5.033854222347145e-09\n",
      "-67.24548290083013\n",
      "3.275545168435201e-09\n",
      "-67.24548290489159\n",
      "4.061462277604733e-09\n",
      "-67.24548290947494\n",
      "4.583355917020526e-09\n",
      "-67.2454829134601\n",
      "3.985149987784098e-09\n",
      "-67.24548291853591\n",
      "5.0758188763211365e-09\n",
      "-67.24548292230011\n",
      "3.764199618672137e-09\n",
      "-67.24548292630715\n",
      "4.007034704045509e-09\n",
      "-67.24548293091148\n",
      "4.604331138580164e-09\n",
      "-67.2454829347046\n",
      "3.793118708017573e-09\n",
      "-67.24548293829181\n",
      "3.5872176340490114e-09\n",
      "-67.24548294168004\n",
      "3.3882230354720377e-09\n",
      "-67.24548294497902\n",
      "3.298978867860569e-09\n",
      "-67.24548294759674\n",
      "2.6177247036685003e-09\n",
      "-67.24548294992718\n",
      "2.3304380647459766e-09\n",
      "-67.24548295167651\n",
      "1.7493277937319363e-09\n",
      "-67.24548295404176\n",
      "2.3652546587982215e-09\n",
      "-67.24548295759618\n",
      "3.554418981366325e-09\n",
      "-67.24548296011224\n",
      "2.516060249035945e-09\n",
      "-67.2454829619787\n",
      "1.866453658294631e-09\n",
      "-67.24548296395072\n",
      "1.972026097973867e-09\n",
      "-67.24548296657888\n",
      "2.6281554710294586e-09\n",
      "-67.24548296985247\n",
      "3.2735982813392184e-09\n",
      "-67.24548297329486\n",
      "3.4423806027916726e-09\n",
      "-67.24548297587621\n",
      "2.5813591264522984e-09\n",
      "-67.24548297850842\n",
      "2.632205564623291e-09\n",
      "-67.24548298094277\n",
      "2.4343478344235336e-09\n",
      "-67.24548298423812\n",
      "3.2953550999081926e-09\n",
      "-67.24548298665366\n",
      "2.415532662780606e-09\n",
      "-67.24548298836602\n",
      "1.7123653606176958e-09\n",
      "-67.24548299248391\n",
      "4.1178935816788e-09\n",
      "-67.24548299497125\n",
      "2.487340111656522e-09\n",
      "-67.24548299675303\n",
      "1.7817711750467424e-09\n",
      "-67.24548299877713\n",
      "2.024108880505082e-09\n",
      "-67.2454830008555\n",
      "2.0783659238077234e-09\n",
      "-67.24548300287513\n",
      "2.0196324612697936e-09\n",
      "-67.2454830058062\n",
      "2.9310598392839893e-09\n",
      "-67.24548300794183\n",
      "2.1356356683099875e-09\n",
      "-67.24548301050962\n",
      "2.5677877601992805e-09\n",
      "-67.24548301230507\n",
      "1.795456228137482e-09\n",
      "-67.2454830145308\n",
      "2.2257324872043682e-09\n",
      "-67.2454830162751\n",
      "1.7442971511627547e-09\n",
      "-67.24548301747313\n",
      "1.1980318959103897e-09\n",
      "Minimization complete\n",
      "Inferring sequence from directory name:  guc_gac\n",
      "Created:  hist_list.txt\n",
      "applying phase space volume for two strand with helix length  3  and dangle length  0\n",
      "[   19.6182305     29.37527978    33.43200335    42.22917467\n",
      "    50.72048721    55.94160773    74.55216118    86.82507315\n",
      "   121.37799026   137.47013383   153.83037      213.55813435\n",
      "   270.9906693    332.40535438   382.43685536   458.93961845\n",
      "   480.68760729   491.00224416   752.88184304   997.68580376\n",
      "  1351.37454537  1820.47548985  2759.58238914  7905.47079112\n",
      " 11757.48666311 15132.47687495]\n",
      "guc_gac -20.355742190717095 -18.21377354566535 -20.86101448947756\n",
      "gug_cac\n",
      "-66.70440499548725\n",
      "1e+99\n",
      "-66.7044110661001\n",
      "6.070612855069157e-06\n",
      "-66.70441315969921\n",
      "2.093599107411137e-06\n",
      "-66.70441428076438\n",
      "1.1210651678084105e-06\n",
      "-66.70441430237022\n",
      "2.160584244847996e-08\n",
      "-66.70441430646804\n",
      "4.097813643966219e-09\n",
      "-66.70441430964709\n",
      "3.1790534649189794e-09\n",
      "-66.70441431226385\n",
      "2.6167583655478666e-09\n",
      "-66.70441431549398\n",
      "3.2301272767654154e-09\n",
      "-66.70441431906458\n",
      "3.5706051448869403e-09\n",
      "-66.70441432184163\n",
      "2.77704259588063e-09\n",
      "-66.70441432501708\n",
      "3.1754581186760333e-09\n",
      "-66.70441432877595\n",
      "3.758870548153936e-09\n",
      "-66.70441433326408\n",
      "4.488128979573958e-09\n",
      "-66.70441433598427\n",
      "2.7201849661651067e-09\n",
      "-66.70441433738432\n",
      "1.4000534065417014e-09\n",
      "Minimization complete\n",
      "Inferring sequence from directory name:  gug_cac\n",
      "Created:  hist_list.txt\n",
      "applying phase space volume for two strand with helix length  3  and dangle length  0\n",
      "[9.67424284e+00 2.33892295e+01 2.96511856e+01 3.79174823e+01\n",
      " 4.86465344e+01 6.13761396e+01 7.94763051e+01 1.07032792e+02\n",
      " 1.19927049e+02 1.24443626e+02 1.30450440e+02 1.71876890e+02\n",
      " 2.10242261e+02 2.62981936e+02 2.89671324e+02 3.85107759e+02\n",
      " 4.59662676e+02 5.55795823e+02 6.72151444e+02 8.45910078e+02\n",
      " 1.34439170e+03 1.63189876e+03 2.62207060e+03 7.80296121e+03\n",
      " 1.57262919e+04 2.36850219e+04]\n",
      "gug_cac -19.947159423092856 -18.628251787257174 -19.975017247274337\n",
      "guu_aac\n",
      "core.optimization.LineMinimizer: [ ERROR ] Inaccurate G! step= 3.8147e-06 Deriv= -3.38164e-06 Finite Diff= 2.22959e-05\n",
      "core.optimization.LineMinimizer: [ ERROR ] Inaccurate G! step= 3.8147e-08 Deriv= -3.38151e-06 Finite Diff= 0.00243783\n",
      "core.optimization.LineMinimizer: [ ERROR ] Inaccurate G! step= 3.8147e-08 Deriv= -3.38151e-06 Finite Diff= 0.00243783\n",
      "core.optimization.LineMinimizer: [ ERROR ] Inaccurate G! step= 3.8147e-08 Deriv= -3.38151e-06 Finite Diff= 0.00243783\n",
      "core.optimization.LineMinimizer: [ ERROR ] Inaccurate G! step= 3.8147e-08 Deriv= -3.38151e-06 Finite Diff= 0.00243783\n",
      "core.optimization.LineMinimizer: [ ERROR ] Inaccurate G! step= 3.8147e-08 Deriv= -3.38151e-06 Finite Diff= 0.00243783\n",
      "-64.08827256305558\n",
      "1e+99\n",
      "-64.0882745625897\n",
      "1.999534120500357e-06\n",
      "-64.08827497123234\n",
      "4.086426343974381e-07\n",
      "-64.08827497626558\n",
      "5.033243155594391e-09\n",
      "-64.0882749824663\n",
      "6.200721713867097e-09\n",
      "-64.0882749876578\n",
      "5.191495233702881e-09\n",
      "-64.08827498992767\n",
      "2.2698714019497856e-09\n",
      "-64.08827499283387\n",
      "2.906205054387101e-09\n",
      "-64.0882749947497\n",
      "1.915822167575243e-09\n",
      "-64.08827499663114\n",
      "1.8814461100191693e-09\n",
      "-64.08827499915776\n",
      "2.5266189140893403e-09\n",
      "-64.08827500090447\n",
      "1.746712996464339e-09\n",
      "-64.08827500226288\n",
      "1.3584013913714443e-09\n",
      "Minimization complete\n",
      "Inferring sequence from directory name:  guu_aac\n",
      "Created:  hist_list.txt\n",
      "applying phase space volume for two strand with helix length  3  and dangle length  0\n",
      "[5.51958119e+00 6.82111883e+00 1.44756062e+01 2.32079946e+01\n",
      " 4.29413081e+01 5.67436668e+01 7.02583078e+01 7.18880420e+01\n",
      " 8.27269289e+01 1.00152056e+02 1.14791151e+02 1.21844491e+02\n",
      " 1.43229098e+02 1.48773443e+02 2.11553353e+02 3.26049983e+02\n",
      " 3.34807942e+02 4.43354769e+02 5.45252467e+02 8.05643492e+02\n",
      " 1.14843411e+03 1.71598252e+03 2.89146022e+03 6.71026967e+03\n",
      " 8.90025880e+03 1.15631243e+04]\n",
      "guu_aac -17.85742705689976 -20.246636957097014 -19.000186646005865\n",
      "ga_uc\n",
      "core.optimization.LineMinimizer: [ ERROR ] Inaccurate G! step= 4.76837e-07 Deriv= -8.03706e-05 Finite Diff= -2.83122e-06\n",
      "-36.861282438264105\n",
      "1e+99\n",
      "-36.86128501914039\n",
      "2.58087628424164e-06\n",
      "-36.86128518978386\n",
      "1.706434673565127e-07\n",
      "-36.86128519182011\n",
      "2.0362520558592223e-09\n",
      "-36.86128519439335\n",
      "2.573244728409918e-09\n",
      "-36.861285196907914\n",
      "2.5145610038634914e-09\n",
      "-36.86128519913467\n",
      "2.2267556687438628e-09\n",
      "-36.86128520131591\n",
      "2.1812383010910708e-09\n",
      "-36.861285203086005\n",
      "1.770096957898204e-09\n",
      "-36.86128520515188\n",
      "2.065874582513061e-09\n",
      "-36.86128520754464\n",
      "2.392759768099495e-09\n",
      "-36.86128520952517\n",
      "1.9805312945209153e-09\n",
      "-36.8612852114072\n",
      "1.8820287550624926e-09\n",
      "-36.86128521317343\n",
      "1.766231605415669e-09\n",
      "-36.86128521503493\n",
      "1.8615011754263833e-09\n",
      "-36.86128521697335\n",
      "1.938417426572414e-09\n",
      "-36.86128521904334\n",
      "2.069988624953112e-09\n"
     ]
    },
    {
     "name": "stdout",
     "output_type": "stream",
     "text": [
      "-36.86128522043884\n",
      "1.3954988276054792e-09\n",
      "Minimization complete\n",
      "Inferring sequence from directory name:  ga_uc\n",
      "Created:  hist_list.txt\n",
      "applying phase space volume for two strand with helix length  2  and dangle length  0\n",
      "[   7.45416071   24.86860066   44.90246673   60.86483502   91.24693707\n",
      "   95.04885303  193.05847965  314.48889385  368.90866102  428.37033503\n",
      "  718.99528424 1740.9773152  2557.92585127 4833.14515142]\n",
      "ga_uc -13.772415865392645 -14.249687784512941 -14.683325237295513\n",
      "gc_gc\n",
      "core.optimization.LineMinimizer: [ ERROR ] Inaccurate G! step= 3.8147e-08 Deriv= -2.03367e-05 Finite Diff= 0.00179559\n",
      "core.optimization.LineMinimizer: [ ERROR ] Inaccurate G! step= 3.8147e-08 Deriv= -2.03367e-05 Finite Diff= 0.00179559\n",
      "core.optimization.LineMinimizer: [ ERROR ] Inaccurate G! step= 3.8147e-08 Deriv= -2.03367e-05 Finite Diff= 0.00179559\n",
      "core.optimization.LineMinimizer: [ ERROR ] Inaccurate G! step= 3.8147e-08 Deriv= -2.03367e-05 Finite Diff= 0.00179559\n",
      "-42.64008042885321\n",
      "1e+99\n",
      "-42.64008215587451\n",
      "1.727021299302578e-06\n",
      "-42.64008283189896\n",
      "6.760244488646094e-07\n",
      "-42.640082843082396\n",
      "1.1183438175521587e-08\n",
      "-42.640082844947315\n",
      "1.8649188859853894e-09\n",
      "-42.64008284671239\n",
      "1.76507342075638e-09\n",
      "-42.640082848439285\n",
      "1.7268959595639899e-09\n",
      "-42.640082849052654\n",
      "6.133689112175489e-10\n",
      "Hessian is not positive-definite; attempting additional minimization.\n",
      "-42.64008285045034\n",
      "1e+99\n",
      "-42.64008285128972\n",
      "8.393783446081216e-10\n",
      "Hessian is not positive-definite; attempting additional minimization.\n",
      "-42.64008285199027\n",
      "1e+99\n",
      "-42.64008285199027\n",
      "0.0\n",
      "Minimization did not converge after three attempts. Proceeding with negative modes.\n",
      "Inferring sequence from directory name:  gc_gc\n",
      "Created:  hist_list.txt\n",
      "applying phase space volume for two strand with helix length  2  and dangle length  0\n",
      "[-127.47170638   39.39331702   56.41025675   99.6062141   149.80504887\n",
      "  171.33078031  289.54929284  351.08946613  454.75634869  562.21865384\n",
      "  946.62432958 1716.41646345 4283.84950588 4606.94845538]\n",
      "gc_gc -18.31858021159246 nan -19.84920656810044\n",
      "gg_cc\n",
      "-41.98450691190302\n",
      "1e+99\n",
      "-41.98451463157074\n",
      "7.719667721062251e-06\n",
      "-41.98451494817587\n",
      "3.166051314451579e-07\n",
      "-41.984514949366954\n",
      "1.191082787954656e-09\n",
      "Minimization complete\n",
      "Inferring sequence from directory name:  gg_cc\n",
      "Created:  hist_list.txt\n",
      "applying phase space volume for two strand with helix length  2  and dangle length  0\n",
      "[  11.8474048    30.35424731   45.25766224   98.20317472  112.26186514\n",
      "  125.80881308  134.17885242  182.86907142  270.08253946  376.79775974\n",
      " 1099.81779261 2331.51174477 5250.89995194 7045.54773983]\n",
      "gg_cc -16.96732690529813 -18.321248971285826 -17.52696727388883\n",
      "gu_ac\n",
      "core.optimization.LineMinimizer: [ ERROR ] Inaccurate G! step= 3.8147e-08 Deriv= -4.67948e-06 Finite Diff= 0.000857003\n",
      "core.optimization.LineMinimizer: [ ERROR ] Inaccurate G! step= 3.8147e-08 Deriv= -4.67948e-06 Finite Diff= 0.000857003\n",
      "core.optimization.LineMinimizer: [ ERROR ] Inaccurate G! step= 3.8147e-08 Deriv= -4.67948e-06 Finite Diff= 0.000857003\n",
      "core.optimization.LineMinimizer: [ ERROR ] Inaccurate G! step= 3.8147e-08 Deriv= -4.67948e-06 Finite Diff= 0.000857003\n",
      "core.optimization.LineMinimizer: [ ERROR ] Inaccurate G! step= 3.8147e-08 Deriv= -4.67948e-06 Finite Diff= 0.000857003\n",
      "core.optimization.LineMinimizer: [ ERROR ] Inaccurate G! step= 3.8147e-08 Deriv= -4.67948e-06 Finite Diff= 0.000857003\n",
      "core.optimization.LineMinimizer: [ ERROR ] Inaccurate G! step= 3.8147e-08 Deriv= -4.67948e-06 Finite Diff= 0.000857003\n",
      "core.optimization.LineMinimizer: [ ERROR ] Inaccurate G! step= 3.8147e-08 Deriv= -4.67948e-06 Finite Diff= 0.000857003\n",
      "core.optimization.LineMinimizer: [ ERROR ] Inaccurate G! step= 3.8147e-08 Deriv= -4.67948e-06 Finite Diff= 0.000857003\n",
      "-36.49066029519385\n",
      "1e+99\n",
      "-36.490660660493035\n",
      "3.652991864555588e-07\n",
      "-36.490660662285656\n",
      "1.7926211626217992e-09\n",
      "-36.49066066429347\n",
      "2.007816135574103e-09\n",
      "-36.49066066463403\n",
      "3.405560278224584e-10\n",
      "Minimization complete\n",
      "Inferring sequence from directory name:  gu_ac\n",
      "Created:  hist_list.txt\n",
      "applying phase space volume for two strand with helix length  2  and dangle length  0\n",
      "[  17.22470014   45.53882197   70.92800225   94.79689611  127.14762493\n",
      "  153.86421149  226.68997597  342.27297632  376.25541074  476.25112854\n",
      "  769.29166285 1803.73063611 2567.08200583 4510.24715866]\n",
      "gu_ac -14.051197431484706 -12.096403251347551 -14.846571557022191\n"
     ]
    }
   ],
   "source": [
    "from scipy.special import logsumexp\n",
    "limit = np.pi/3\n",
    "dx = 0.005\n",
    "F = np.linspace(-100,800,9001)\n",
    "dF = 0.1\n",
    "\n",
    "sims = ['gaa_uuc', 'gac_guc', 'gag_cuc', 'gau_auc', \n",
    "        'gca_ugc', 'gcc_ggc', 'gcg_cgc', 'gcu_agc',\n",
    "        'gga_ucc', 'ggc_gcc', 'ggg_ccc', 'ggu_acc',\n",
    "        'gua_uac', 'guc_gac', 'gug_cac', 'guu_aac',\n",
    "        'ga_uc', 'gc_gc', 'gg_cc', 'gu_ac']\n",
    "F = np.linspace(-100,800,9001)\n",
    "dF = 0.1\n",
    "anharmonic_E = []\n",
    "#harmonic_E = []\n",
    "RECCES_E = []\n",
    "DOS_E = []\n",
    "recces_dict = {}\n",
    "sim_dict = {}\n",
    "\n",
    "E = np.linspace(-100,800,9001)\n",
    "\n",
    "for sim in sims:\n",
    "    print sim\n",
    "    seqs = sim.split('_')\n",
    "    seq1 = seqs[0]\n",
    "    seq2 = seqs[1]\n",
    "    \n",
    "    fuck = MiningMinima(seq1, seq2, scorefxn='rna_min_based_turner.wts')\n",
    "    sim_dict[sim] = fuck\n",
    "    hist = SingleSimulation('/scratch/users/maa805/recces_rosetta/results/rna_min//'+sim+'/ST/', rna_min_based)\n",
    "    \n",
    "    anharmonic_E.append(fuck.min_energy - fuck.total_log_partition )#- np.log(2*limit)*0.5*fuck.n_dofs + 0*len(seq1)*np.log(2*np.pi/3))\n",
    "        \n",
    "    RECCES_E.append(hist.value)\n",
    "    DOS_E.append(-logsumexp(-F,b=fuck.dos(F)*dF) + np.log(dF))# - np.log(2*limit)*1.0*fuck.n_dofs + 0*np.log(2*np.pi/3)*len(seq1)) \n",
    "    print fuck.eigenvalues\n",
    "    print sim, anharmonic_E[-1], DOS_E[-1], RECCES_E[-1]\n",
    "    #w_dict[sim] = calculate_anharmonicitiy(fuck)"
   ]
  },
  {
   "cell_type": "code",
   "execution_count": null,
   "metadata": {
    "collapsed": true
   },
   "outputs": [],
   "source": [
    "def recompute_hessian(mm_sim, h):\n",
    "    mm_sim.hessian = hessian_at_min(mm_sim.min_dofs, mm_sim.multifunc)\n",
    "    for ii, node in enumerate(mm_sim.min_map.dof_nodes()):\n",
    "        mm_sim.hessian[ii] *= mm_sim.min_map.torsion_scale_factor(node)\n",
    "    mm_sim.eigenvalues, mm_sim.modes = np.linalg.eigh(mm_sim.hessian)\n",
    "    mm_sim.calc_anharmonic_free_energy()\n",
    "    return mm_sim"
   ]
  },
  {
   "cell_type": "code",
   "execution_count": null,
   "metadata": {
    "collapsed": true
   },
   "outputs": [],
   "source": [
    "mm_sim = sim_dict['gac_guc']\n",
    "recompute_hessian(mm_sim, h=1.5e-7)"
   ]
  },
  {
   "cell_type": "code",
   "execution_count": null,
   "metadata": {
    "collapsed": true
   },
   "outputs": [],
   "source": [
    "mm_sim.anharmonic_free_energy - mm_sim.n_dofs*np.log(2*np.pi/3)*0.5"
   ]
  },
  {
   "cell_type": "code",
   "execution_count": null,
   "metadata": {
    "collapsed": true
   },
   "outputs": [],
   "source": [
    "sim_dict['gaa_uuc'].anharmonic_free_energy- 0.5*np.log(2*np.pi/3)*sim_dict['gaa_uuc'].n_dofs"
   ]
  },
  {
   "cell_type": "code",
   "execution_count": null,
   "metadata": {
    "collapsed": true
   },
   "outputs": [],
   "source": [
    "for key in sim_dict.iterkeys():\n",
    "    seq1, se2 = key.split('_')\n",
    "    sim = SingleSimulation('/scratch/users/maa805/recces_rosetta/results/rna_min/'+key+'/ST/',rna_min_based)\n",
    "    print key, sim_dict[key].anharmonic_free_energy - 0.5*np.log(2*np.pi/3)*sim_dict[key].n_dofs, sim.value\n"
   ]
  },
  {
   "cell_type": "code",
   "execution_count": 1,
   "metadata": {},
   "outputs": [
    {
     "ename": "NameError",
     "evalue": "name 'plt' is not defined",
     "output_type": "error",
     "traceback": [
      "\u001b[0;31m\u001b[0m",
      "\u001b[0;31mNameError\u001b[0mTraceback (most recent call last)",
      "\u001b[0;32m<ipython-input-1-b08fddb738c6>\u001b[0m in \u001b[0;36m<module>\u001b[0;34m()\u001b[0m\n\u001b[0;32m----> 1\u001b[0;31m \u001b[0mfig\u001b[0m\u001b[0;34m,\u001b[0m \u001b[0max\u001b[0m \u001b[0;34m=\u001b[0m \u001b[0mplt\u001b[0m\u001b[0;34m.\u001b[0m\u001b[0msubplots\u001b[0m\u001b[0;34m(\u001b[0m\u001b[0mnrows\u001b[0m\u001b[0;34m=\u001b[0m\u001b[0;36m1\u001b[0m\u001b[0;34m,\u001b[0m \u001b[0mncols\u001b[0m\u001b[0;34m=\u001b[0m\u001b[0;36m2\u001b[0m\u001b[0;34m,\u001b[0m \u001b[0mfigsize\u001b[0m\u001b[0;34m=\u001b[0m\u001b[0;34m(\u001b[0m\u001b[0;36m12\u001b[0m\u001b[0;34m,\u001b[0m\u001b[0;36m6\u001b[0m\u001b[0;34m)\u001b[0m\u001b[0;34m)\u001b[0m\u001b[0;34m\u001b[0m\u001b[0m\n\u001b[0m\u001b[1;32m      2\u001b[0m \u001b[0mnorm\u001b[0m \u001b[0;34m=\u001b[0m \u001b[0mplt\u001b[0m\u001b[0;34m.\u001b[0m\u001b[0mNormalize\u001b[0m\u001b[0;34m(\u001b[0m\u001b[0;36m0\u001b[0m\u001b[0;34m,\u001b[0m\u001b[0;36m3.5\u001b[0m\u001b[0;34m)\u001b[0m\u001b[0;34m\u001b[0m\u001b[0m\n\u001b[1;32m      3\u001b[0m \u001b[0;34m\u001b[0m\u001b[0m\n\u001b[1;32m      4\u001b[0m \u001b[0mharm\u001b[0m \u001b[0;34m=\u001b[0m \u001b[0mnp\u001b[0m\u001b[0;34m.\u001b[0m\u001b[0marray\u001b[0m\u001b[0;34m(\u001b[0m\u001b[0mDOS_E\u001b[0m\u001b[0;34m)\u001b[0m\u001b[0;34m*\u001b[0m\u001b[0mKT_IN_KCAL\u001b[0m\u001b[0;34m\u001b[0m\u001b[0m\n\u001b[1;32m      5\u001b[0m \u001b[0mrecces\u001b[0m \u001b[0;34m=\u001b[0m \u001b[0mnp\u001b[0m\u001b[0;34m.\u001b[0m\u001b[0marray\u001b[0m\u001b[0;34m(\u001b[0m\u001b[0mRECCES_E\u001b[0m\u001b[0;34m)\u001b[0m\u001b[0;34m*\u001b[0m\u001b[0mKT_IN_KCAL\u001b[0m\u001b[0;34m\u001b[0m\u001b[0m\n",
      "\u001b[0;31mNameError\u001b[0m: name 'plt' is not defined"
     ]
    }
   ],
   "source": [
    "fig, ax = plt.subplots(nrows=1, ncols=2, figsize=(12,6))\n",
    "norm = plt.Normalize(0,3.5)\n",
    "\n",
    "harm = np.array(DOS_E)*KT_IN_KCAL\n",
    "recces = np.array(RECCES_E)*KT_IN_KCAL\n",
    "anharm = np.array(anharmonic_E)*KT_IN_KCAL\n",
    "\n",
    "sc = ax[0].scatter(recces, anharm, c=np.abs(recces-anharm), norm=norm)\n",
    "ax[1].scatter(recces, harm, c=np.abs(recces-harm), norm=norm)\n",
    "for axis in ax:\n",
    "    axis.set(xlim=(-30, -5), ylim=(-30, -5))\n",
    "    axis.plot([-30,-5],[-30,-5], 'k--')\n",
    "\n",
    "cbaxes = fig.add_axes([0.94, 0.1, 0.03, 0.8]) \n",
    "fig.colorbar(sc, cax=cbaxes)\n",
    "fig.text(0.5, 0.04, 'RECCES free energy (kcal/mol)', ha='center', va='center')\n",
    "fig.text(0.06, 0.5, 'estimated free energy (kcal/mol)', ha='center', va='center', rotation='vertical')\n",
    "print np.sqrt(np.mean((recces-anharm)**2))\n",
    "print np.sqrt(np.mean((recces-harm)**2))\n",
    "\n",
    "fig.savefig('/mnt/c/Users/maadr/OneDrive/das-lab/flash-slides/20190927/mm_rna_min_e5')\n"
   ]
  },
  {
   "cell_type": "code",
   "execution_count": null,
   "metadata": {
    "collapsed": true
   },
   "outputs": [],
   "source": [
    "dE = []\n",
    "for ii, val in enumerate(harm):\n",
    "    if np.isnan(val):\n",
    "        continue\n",
    "    else:\n",
    "        dE.append(val - recces[ii])\n",
    "print np.sqrt(np.mean(np.array(dE)**2))        "
   ]
  },
  {
   "cell_type": "markdown",
   "metadata": {},
   "source": [
    "### Developing subroutine to extract gradient evaluations"
   ]
  },
  {
   "cell_type": "code",
   "execution_count": null,
   "metadata": {
    "collapsed": true,
    "scrolled": true
   },
   "outputs": [],
   "source": [
    "# use mm object to get stuff \n",
    "seq1, seq2 = 'ggc', 'gcc'\n",
    "mm_sim = MiningMinima(seq1=seq1, seq2=seq2, scorefxn='stepwise/rna/rna_min_based_turner')"
   ]
  },
  {
   "cell_type": "code",
   "execution_count": null,
   "metadata": {
    "collapsed": true
   },
   "outputs": [],
   "source": [
    "print mm_sim.eigenvalues"
   ]
  },
  {
   "cell_type": "code",
   "execution_count": null,
   "metadata": {
    "collapsed": true
   },
   "outputs": [],
   "source": [
    "print mm_sim.min_energy - mm_sim.total_log_partition #- 0.5*np.log(2*np.pi/3)*mm_sim.n_dofs\n",
    "mm_sim.calc_harmonic_free_energy()\n",
    "print mm_sim.harmonic_free_energy"
   ]
  },
  {
   "cell_type": "code",
   "execution_count": null,
   "metadata": {
    "collapsed": true
   },
   "outputs": [],
   "source": [
    "# get pose and scorefxn \n",
    "#pose = protocols.recces.pose_setup_turner(seq1=seq1, seq2=seq2)\n",
    "scorefxn = mm_sim.scorefxn\n",
    "# set up movemap -- for now just get from the MM object -- and min map\n",
    "movemap = MoveMap()\n",
    "movemap.assign(mm_sim.movemap)  \n",
    "min_map = core.optimization.MinimizerMap()\n",
    "min_map.setup(pose, movemap)\n",
    "n = min_map.nangles()\n",
    "\n",
    "# set up min options\n",
    "min_options = core.optimization.MinimizerOptions(\n",
    "    'lbfgs_armijo_nonmonotone_atol', 1.5e-9, True, False, False)\n",
    "min_options.nblist_auto_update(True)\n",
    "min_options.max_iter(10000)\n",
    "# get scorefunction ready for minimization\n",
    "start_score = scorefxn(pose)\n",
    "pose.energies().set_use_nblist(pose,min_map.domain_map(), True)\n",
    "multifunc = core.optimization.AtomTreeMultifunc(pose, min_map, scorefxn)\n",
    "scorefxn.setup_for_minimizing(pose, min_map) # this is the key command\n",
    "scorefxn.setup_for_derivatives(pose)\n",
    "\n",
    "min_dofs = Vector1([0.0]*min_map.nangles())\n",
    "min_map.copy_dofs_from_pose(pose,min_dofs)\n",
    "start_func_val = multifunc(min_dofs)\n",
    "theta = Vector1(list(min_dofs))\n",
    "dE_dtheta = Vector1(list(min_dofs))\n",
    "multifunc.dfunc(theta,dE_dtheta)\n",
    "\n",
    "# set up minimizer and run\n",
    "minimizer = core.optimization.Minimizer(multifunc, min_options)\n",
    "for _ in range(1): minimizer.run(min_dofs)\n",
    "print dE_dtheta"
   ]
  },
  {
   "cell_type": "code",
   "execution_count": null,
   "metadata": {
    "collapsed": true
   },
   "outputs": [],
   "source": [
    "multifunc(min_dofs)"
   ]
  },
  {
   "cell_type": "code",
   "execution_count": null,
   "metadata": {
    "collapsed": true
   },
   "outputs": [],
   "source": [
    "E = multifunc(min_dofs)\n",
    "multifunc.dfunc(min_dofs, dE_dtheta)\n",
    "\n",
    "eps = 1.5e-5\n",
    "numerical_derivs = []\n",
    "for i in range(mm_sim.n_dofs):\n",
    "    x_pert = Vector1(list(min_dofs))\n",
    "    x_pert[i+1] += eps\n",
    "    E_pert = multifunc(x_pert)\n",
    "    numerical_derivs.append((E_pert-E)/eps)\n",
    "    print dE_dtheta[i+1], numerical_derivs[-1]\n"
   ]
  },
  {
   "cell_type": "markdown",
   "metadata": {},
   "source": [
    "# Developing subroutine to calculate hessian from derivative evaluations"
   ]
  },
  {
   "cell_type": "code",
   "execution_count": null,
   "metadata": {
    "collapsed": true
   },
   "outputs": [],
   "source": [
    "min_map.copy_dofs_to_pose(pose, min_dofs)\n",
    "print min_dofs\n",
    "for key in mm_sim.dof_dict.iterkeys():\n",
    "    print mm_sim.dof_dict[key], pose.torsion(mm_sim.dof_dict[key])"
   ]
  },
  {
   "cell_type": "code",
   "execution_count": null,
   "metadata": {
    "collapsed": true
   },
   "outputs": [],
   "source": []
  },
  {
   "cell_type": "markdown",
   "metadata": {},
   "source": [
    "### see https://v8doc.sas.com/sashtml/ormp/chap5/sect28.htm for details on implementation"
   ]
  },
  {
   "cell_type": "code",
   "execution_count": null,
   "metadata": {
    "collapsed": true
   },
   "outputs": [],
   "source": [
    "def hessian_at_min(min_dofs, multifunc, h=1.5e-5):\n",
    "    min_dofs = np.array(min_dofs) # take advantage of numpy array indexing\n",
    "    n_dofs = len(min_dofs)\n",
    "    hessian = np.zeros((n_dofs,n_dofs))\n",
    "    plus = Vector1([0.0]*n_dofs)\n",
    "    plusplus = Vector1(list(plus))\n",
    "    minus = Vector1(list(plus))\n",
    "    minusminus = Vector1(list(minus))\n",
    "    naught = Vector1(list(minus))\n",
    "    \n",
    "    \n",
    "    for ii in range(n_dofs):\n",
    "        new_dofs = np.array(min_dofs)\n",
    "        #multifunc.dfunc(Vector1(list(new_dofs)), naught)\n",
    "        #new_dofs[ii] -= 4*h*180./np.pi\n",
    "        #multifunc.dfunc(Vector1(list(new_dofs)),plusplus)\n",
    "        new_dofs[ii] += h*180./np.pi\n",
    "        multifunc.dfunc(Vector1(list(new_dofs)), plus)\n",
    "        new_dofs[ii] -= 2*h*180./np.pi\n",
    "        multifunc.dfunc(Vector1(list(new_dofs)), minus)\n",
    "        #new_dofs[ii] += h*180./np.pi\n",
    "        #multifunc.dfunc(Vector1(list(new_dofs)), minusminus)\n",
    "        row = (np.array(plus) - np.array(minus))/h/4.\n",
    "        hessian[ii] += row\n",
    "    \n",
    "    for ii in range(n_dofs):\n",
    "        new_dofs = np.array(min_dofs)\n",
    "        #multifunc.dfunc(Vector1(list(new_dofs)), naught)\n",
    "        #new_dofs[ii] -= 4*h*180./np.pi\n",
    "        #multifunc.dfunc(Vector1(list(new_dofs)),plusplus)\n",
    "        new_dofs[ii] += h*180./np.pi\n",
    "        multifunc.dfunc(Vector1(list(new_dofs)), plus)\n",
    "        new_dofs[ii] -= 2*h*180./np.pi\n",
    "        multifunc.dfunc(Vector1(list(new_dofs)), minus)\n",
    "        #new_dofs[ii] += h*180./np.pi\n",
    "        #multifunc.dfunc(Vector1(list(new_dofs)), minusminus)\n",
    "        row = (np.array(plus) - np.array(minus))/h/4.\n",
    "        hessian[:,ii] += row\n",
    "    \n",
    "    \n",
    "    return 0.5*(hessian + hessian.T) # enforce symmetry"
   ]
  },
  {
   "cell_type": "code",
   "execution_count": null,
   "metadata": {
    "collapsed": true
   },
   "outputs": [],
   "source": [
    "def hessian_naive(min_dofs, multifunc, h=1e-7):\n",
    "    \n",
    "    min_dofs = np.array(min_dofs)\n",
    "    new_dofs = np.array(list(min_dofs))\n",
    "    n_dofs = len(min_dofs)\n",
    "    hessian_at_min = np.zeros((n_dofs, n_dofs))\n",
    "    \n",
    "    n_pts = 9\n",
    "    ind = int(n_pts/2)\n",
    "    \n",
    "    tor_ranges = np.zeros((n_pts, n_dofs))\n",
    "    energy = np.zeros((n_pts,n_pts))\n",
    "    \n",
    "    for ii in range(n_dofs):\n",
    "        tor_ranges[:,ii] = min_dofs[ii] + np.linspace(-ind*h, ind*h, n_pts)*180./np.pi\n",
    "\n",
    "    for pair in list(itertools.combinations(range(n_dofs), 2)):\n",
    "        x_torsion = pair[0]\n",
    "        y_torsion = pair[1]\n",
    "        x = tor_ranges[:,x_torsion]\n",
    "        y = tor_ranges[:,y_torsion]\n",
    "\n",
    "        for ii, xx in enumerate(x):\n",
    "            new_dofs[x_torsion] = xx\n",
    "\n",
    "            for jj, yy in enumerate(y):\n",
    "                new_dofs[y_torsion] = yy\n",
    "                energy[ii,jj] = multifunc(Vector1(list(new_dofs)))\n",
    "                new_dofs[y_torsion] = min_dofs[y_torsion]\n",
    "                \n",
    "            new_dofs[x_torsion] = min_dofs[x_torsion]\n",
    "        \n",
    "        hess = numpy_hessian(energy, h)\n",
    "        d2E_dx2 =  hess[0,0,:,:]\n",
    "        d2E_dy2 =  hess[1,1,:,:]\n",
    "        d2E_dxdy = hess[0,1,:,:]\n",
    "        \n",
    "        if hessian_at_min[x_torsion, x_torsion] == 0:\n",
    "            hessian_at_min[x_torsion, x_torsion] = d2E_dx2[ind,ind]\n",
    "        if hessian_at_min[y_torsion, y_torsion] == 0:\n",
    "            hessian_at_min[y_torsion, y_torsion] = d2E_dy2[ind,ind]\n",
    "        \n",
    "        hessian_at_min[x_torsion,y_torsion] = d2E_dxdy[ind,ind]\n",
    "        hessian_at_min[y_torsion,x_torsion] = d2E_dxdy[ind,ind]\n",
    "\n",
    "    return hessian_at_min"
   ]
  },
  {
   "cell_type": "code",
   "execution_count": null,
   "metadata": {
    "collapsed": true
   },
   "outputs": [],
   "source": [
    "min_options = core.optimization.MinimizerOptions(\n",
    "    'lbfgs_armijo_nonmonotone_atol', 1.5e-9, True, False, False)\n",
    "min_options.nblist_auto_update(True)\n",
    "min_options.max_iter(1000000)\n",
    "minimizer = core.optimization.Minimizer(multifunc, min_options)"
   ]
  },
  {
   "cell_type": "code",
   "execution_count": null,
   "metadata": {
    "collapsed": true,
    "scrolled": true
   },
   "outputs": [],
   "source": [
    "min_dofs = Vector1(list(min_dofs))\n",
    "\n",
    "for _ in range(1):\n",
    "    minimizer.run(min_dofs)\n",
    "\n",
    "    print multifunc(min_dofs)\n",
    "    "
   ]
  },
  {
   "cell_type": "code",
   "execution_count": null,
   "metadata": {
    "collapsed": true
   },
   "outputs": [],
   "source": [
    "def min_func(dofs, multifunc):\n",
    "    dofs = Vector1(list(dofs))\n",
    "    dE_dtheta = Vector1(list(dofs))\n",
    "    energy = multifunc(dofs)\n",
    "    return energy\n",
    "\n",
    "def fprime(dofs, multifunc):\n",
    "    dofs = Vector1(list(dofs))\n",
    "    dE_dtheta = Vector1(list(dofs))\n",
    "    multifunc.dfunc(dofs, dE_dtheta)\n",
    "    dE_dtheta = np.array(dE_dtheta)\n",
    "    return dE_dtheta"
   ]
  },
  {
   "cell_type": "code",
   "execution_count": null,
   "metadata": {
    "collapsed": true
   },
   "outputs": [],
   "source": [
    "print min_dofs\n",
    "print dE_dtheta\n",
    "print multifunc.dump(min_dofs, dE_dtheta)\n",
    "print min_dofs, dE_dtheta"
   ]
  },
  {
   "cell_type": "code",
   "execution_count": null,
   "metadata": {
    "collapsed": true
   },
   "outputs": [],
   "source": [
    "print dE_dtheta\n"
   ]
  },
  {
   "cell_type": "code",
   "execution_count": null,
   "metadata": {
    "collapsed": true
   },
   "outputs": [],
   "source": [
    "from scipy.optimize import minimize"
   ]
  },
  {
   "cell_type": "code",
   "execution_count": null,
   "metadata": {
    "collapsed": true
   },
   "outputs": [],
   "source": [
    "result = minimize(min_func, x0=np.array(min_dofs), args=(multifunc,), method='Powell', \n",
    "                  tol=1.5e-10, options={'maxfev': 5000*mm_sim.n_dofs})"
   ]
  },
  {
   "cell_type": "code",
   "execution_count": null,
   "metadata": {
    "collapsed": true
   },
   "outputs": [],
   "source": [
    "print result.fun\n",
    "print result.x\n",
    "print result.message\n",
    "print result.nfev\n",
    "print result.success"
   ]
  },
  {
   "cell_type": "code",
   "execution_count": null,
   "metadata": {
    "collapsed": true
   },
   "outputs": [],
   "source": [
    "min_dofs = Vector1(list(result.x))"
   ]
  },
  {
   "cell_type": "code",
   "execution_count": null,
   "metadata": {
    "collapsed": true,
    "scrolled": true
   },
   "outputs": [],
   "source": [
    "multifunc.dfunc(min_dofs, dE_dtheta)\n",
    "print min_dofs\n",
    "print dE_dtheta"
   ]
  },
  {
   "cell_type": "code",
   "execution_count": null,
   "metadata": {
    "collapsed": true
   },
   "outputs": [],
   "source": [
    "h = np.linspace(-2e-5,2e-5,101)\n",
    "dh = h[1]-h[0]\n",
    "out = np.zeros_like(h)\n",
    "for jj in range(5):\n",
    "    for ii, hh in enumerate(h):\n",
    "        new_dofs = np.array(min_dofs)\n",
    "        new_dofs[jj] += hh*180./np.pi\n",
    "        multifunc.dfunc(Vector1(list(new_dofs)), dE_dtheta)\n",
    "        out[ii] = multifunc(Vector1(list(new_dofs)))\n",
    "    plt.plot(h, out)"
   ]
  },
  {
   "cell_type": "code",
   "execution_count": null,
   "metadata": {
    "collapsed": true
   },
   "outputs": [],
   "source": [
    "min_map.copy_dofs_to_pose(pose, Vector1(list(min_dofs)))"
   ]
  },
  {
   "cell_type": "code",
   "execution_count": null,
   "metadata": {
    "collapsed": true
   },
   "outputs": [],
   "source": [
    "hessian = hessian_at_min(min_dofs, multifunc)\n",
    "#hessian2 = hessian_naive(min_dofs, multifunc)\n",
    "#hessian2 = 0.5*(hessian2 + hessian2.T) # enforce symmetry \n",
    "for ii, do in enumerate(min_map.dof_nodes()):\n",
    "    hessian[ii] *= min_map.torsion_scale_factor(do)"
   ]
  },
  {
   "cell_type": "code",
   "execution_count": null,
   "metadata": {
    "collapsed": true
   },
   "outputs": [],
   "source": [
    "print hessian"
   ]
  },
  {
   "cell_type": "code",
   "execution_count": null,
   "metadata": {
    "collapsed": true
   },
   "outputs": [],
   "source": [
    "from scipy.linalg import eigh"
   ]
  },
  {
   "cell_type": "code",
   "execution_count": null,
   "metadata": {
    "collapsed": true
   },
   "outputs": [],
   "source": [
    "hessian_pert = hessian + np.random.rand(min_map.nangles(), min_map.nangles())\n",
    "eigenvalues, modes = scipy.linalg.eigh(hessian)\n",
    "#eig2, mode2 = eigh(0.5*(hessian2+hessian2.T))"
   ]
  },
  {
   "cell_type": "code",
   "execution_count": null,
   "metadata": {
    "collapsed": true
   },
   "outputs": [],
   "source": [
    "print eigenvalues\n",
    "#print eig2"
   ]
  },
  {
   "cell_type": "code",
   "execution_count": null,
   "metadata": {
    "collapsed": true
   },
   "outputs": [],
   "source": [
    "fuck = np.array(dE_dtheta)\n",
    "min_dofs[1] += 1.5e-5\n",
    "multifunc.dfunc(min_dofs, dE_dtheta)\n",
    "fuck2 = np.array(dE_dtheta)\n",
    "print (fuck2-fuck)/1.5e-5"
   ]
  },
  {
   "cell_type": "code",
   "execution_count": null,
   "metadata": {
    "collapsed": true
   },
   "outputs": [],
   "source": [
    "print min_dofs"
   ]
  },
  {
   "cell_type": "code",
   "execution_count": null,
   "metadata": {
    "collapsed": true
   },
   "outputs": [],
   "source": [
    "print eigenvalues\n",
    "print eig2"
   ]
  },
  {
   "cell_type": "code",
   "execution_count": null,
   "metadata": {
    "collapsed": true
   },
   "outputs": [],
   "source": [
    "fuck, shit, hell = scipy.linalg.svd(hessian)"
   ]
  },
  {
   "cell_type": "code",
   "execution_count": null,
   "metadata": {
    "collapsed": true
   },
   "outputs": [],
   "source": [
    "0.5*np.log(np.product(shit))\n"
   ]
  },
  {
   "cell_type": "code",
   "execution_count": null,
   "metadata": {
    "collapsed": true
   },
   "outputs": [],
   "source": [
    "pseudo_det = 1.\n",
    "n = 0\n",
    "for ii, eigen in enumerate(eigenvalues):\n",
    "    if eigen > 0:\n",
    "        pseudo_det *= eigen\n",
    "        n += 1 "
   ]
  },
  {
   "cell_type": "code",
   "execution_count": null,
   "metadata": {
    "collapsed": true
   },
   "outputs": [],
   "source": [
    "print multifunc(min_dofs) + 0.5*np.log(np.product(pseudo_det)) - 0.5*np.log(2*np.pi)*n - 0.5*n*np.log(2*np.pi/3)"
   ]
  },
  {
   "cell_type": "code",
   "execution_count": null,
   "metadata": {
    "collapsed": true
   },
   "outputs": [],
   "source": [
    "plt.semilogy(range(len(eigenvalues[:])), eigenvalues[:],'.')\n",
    "#plt.xlabel('index')\n",
    "#plt.ylabel('eigenvalue')\n",
    "#plt.legend(('new', 'old'))"
   ]
  },
  {
   "cell_type": "markdown",
   "metadata": {},
   "source": [
    "# Developing subroutine to mode scan using AtomTreeMultifunc"
   ]
  },
  {
   "cell_type": "code",
   "execution_count": null,
   "metadata": {
    "collapsed": true
   },
   "outputs": [],
   "source": [
    "pmm = PyMOLMover()\n",
    "pmm.keep_history(True)"
   ]
  },
  {
   "cell_type": "code",
   "execution_count": null,
   "metadata": {
    "collapsed": true
   },
   "outputs": [],
   "source": [
    "from scipy.special import erf"
   ]
  },
  {
   "cell_type": "code",
   "execution_count": null,
   "metadata": {
    "collapsed": true
   },
   "outputs": [],
   "source": [
    "def mode_scan(min_dofs, multifunc, mode, limit=np.pi/3, dx=0.005):\n",
    "    # convert to np array for useful indexing\n",
    "    min_dofs = np.array(min_dofs)\n",
    "    delta_array = np.linspace(-limit, limit, int(2*limit/dx)+1)\n",
    "    \n",
    "    # initialize result\n",
    "    result = np.zeros_like(delta_array)\n",
    "    \n",
    "    # evaluate using multifunc \n",
    "    for ii, delta in enumerate(delta_array):\n",
    "        result[ii] = pert_eval(delta, min_dofs, mode, multifunc)\n",
    "    \n",
    "    return result    \n",
    "    \n",
    "def pert_eval(pert, min_dofs, mode, multifunc):\n",
    "    new_dofs = min_dofs[:] + mode*pert*180./np.pi\n",
    "    return multifunc(array_to_vector1(new_dofs))"
   ]
  },
  {
   "cell_type": "code",
   "execution_count": null,
   "metadata": {
    "collapsed": true,
    "scrolled": true
   },
   "outputs": [],
   "source": [
    "def compute_total_partition(min_dofs, multifunc, modes, limit=np.pi, dx=0.005):\n",
    "    # initialize output\n",
    "    total_log_partition = 0 \n",
    "    total_log_harmonic = 0\n",
    "    scans = tuple()\n",
    "    xx = np.linspace(-limit, limit, int(2*limit/dx)+1)\n",
    "    \n",
    "    for ii, mode in enumerate(modes.T): # columns of array are eigenvectors\n",
    "        if eigenvalues[ii] < 0: continue\n",
    "        result = mode_scan(min_dofs, multifunc, mode, limit=limit, dx=dx)\n",
    "        result -= multifunc(min_dofs)\n",
    "        scans = scans + (result,)\n",
    "        total_log_partition += np.log(np.trapz(np.exp(-result),dx=dx))\n",
    "        #total_log_harmonic += np.log(np.trapz(np.exp(-eigenvalues[ii]*xx**2),dx=dx))\n",
    "        total_log_harmonic += np.log( np.sqrt(2*np.pi/eigenvalues[ii])*(erf(2*limit/np.sqrt(2/eigenvalues[ii]))))\n",
    "    \n",
    "    return total_log_partition, total_log_harmonic, np.row_stack(scans)"
   ]
  },
  {
   "cell_type": "code",
   "execution_count": null,
   "metadata": {
    "collapsed": true
   },
   "outputs": [],
   "source": [
    "limit = np.pi/3\n",
    "dx = 0.005\n",
    "total_log_partition, total_log_harmonic, mode_scans = compute_total_partition(min_dofs, multifunc, modes, limit=limit, dx=dx)"
   ]
  },
  {
   "cell_type": "code",
   "execution_count": null,
   "metadata": {
    "collapsed": true
   },
   "outputs": [],
   "source": [
    "palette = 'Set2'\n",
    "sns.palplot(sns.color_palette(palette))\n",
    "sns.set_palette(sns.color_palette(palette))\n",
    "sns.set_style('whitegrid')\n",
    "sns.set_context('notebook')"
   ]
  },
  {
   "cell_type": "code",
   "execution_count": null,
   "metadata": {
    "collapsed": true,
    "scrolled": true
   },
   "outputs": [],
   "source": [
    "xx = np.linspace(-limit,limit,int(2*limit/dx)+1)\n",
    "fig, ax = plt.subplots(ncols=6,nrows=5,figsize=(18,9))\n",
    "for ii, scan in enumerate(mode_scans):\n",
    "    curr_ax = ax.flatten()[ii]\n",
    "    curr_ax.fill(xx,np.exp(-scan), alpha=0.6)\n",
    "    curr_ax.fill(xx,np.exp(-eigenvalues[ii]*xx**2), alpha=0.6)\n",
    "\n",
    "# turn off unused subplots\n",
    "for jj in range(ii+1,30):\n",
    "    curr_ax = ax.flatten()[jj]\n",
    "    curr_ax.axis('off')\n",
    "    \n",
    "for axis in ax.flatten():\n",
    "    axis.set_xticks([])\n",
    "    \n",
    "\n",
    "fig.legend(('scan', 'harmonic'))"
   ]
  },
  {
   "cell_type": "code",
   "execution_count": null,
   "metadata": {
    "collapsed": true
   },
   "outputs": [],
   "source": [
    "from numpy.linalg import det\n",
    "from numpy import heaviside\n",
    "from scipy.special import logsumexp, gamma"
   ]
  },
  {
   "cell_type": "code",
   "execution_count": null,
   "metadata": {
    "collapsed": true
   },
   "outputs": [],
   "source": [
    "multifunc(min_dofs) - total_log_harmonic - np.log(2*np.pi/3)*mm_sim.n_dofs*0.5 , multifunc(min_dofs) - total_log_partition - np.log(2*np.pi/3)*mm_sim.n_dofs*0.5 + np.log(2*np.pi/3)*6"
   ]
  },
  {
   "cell_type": "code",
   "execution_count": null,
   "metadata": {
    "collapsed": true
   },
   "outputs": [],
   "source": [
    "pmm = PyMOLMover()\n",
    "pmm.keep_history(True)\n",
    "pmm.apply(pose)\n",
    "h = np.arange(-30,31)\n",
    "h = np.append(h,h[-2:0:-1])\n",
    "\n",
    "new_dofs = np.array(min_dofs)\n",
    "for hh in h:\n",
    "    new_dofs = min_dofs + hh*modes[0]\n",
    "    min_map.copy_dofs_to_pose(pose, array_to_vector1(new_dofs))\n",
    "    pmm.apply(pose)"
   ]
  },
  {
   "cell_type": "code",
   "execution_count": null,
   "metadata": {
    "collapsed": true
   },
   "outputs": [],
   "source": [
    "min_map.copy_dofs_to_pose(pose, array_to_vector1(min_dofs))"
   ]
  },
  {
   "cell_type": "code",
   "execution_count": null,
   "metadata": {
    "collapsed": true
   },
   "outputs": [],
   "source": [
    "min_E = multifunc(min_dofs)\n",
    "dos = lambda E: (2.0*np.pi)**(n/2.)*(E-min_E)**(n/2. - 1)/gamma(n/2.)/np.sqrt(pseudo_det)*heaviside(E-min_E,0.5)"
   ]
  },
  {
   "cell_type": "code",
   "execution_count": null,
   "metadata": {
    "collapsed": true
   },
   "outputs": [],
   "source": [
    "plt.plot(E, dos(E)*np.exp(-E))"
   ]
  },
  {
   "cell_type": "code",
   "execution_count": null,
   "metadata": {
    "collapsed": true
   },
   "outputs": [],
   "source": [
    "E = np.linspace(-100, 800, 90001)\n",
    "dE = E[1]-E[0]\n",
    "F = np.linspace(-100,800,9001) \n",
    "dF = F[1]-F[0]\n",
    "print -logsumexp(-E, b=dos(E)*dE)"
   ]
  },
  {
   "cell_type": "code",
   "execution_count": null,
   "metadata": {
    "collapsed": true
   },
   "outputs": [],
   "source": [
    "h = np.linspace(-limit, limit, int(2*limit/0.005) + 1)"
   ]
  },
  {
   "cell_type": "code",
   "execution_count": null,
   "metadata": {
    "collapsed": true
   },
   "outputs": [],
   "source": [
    "plt.plot(h,mode_scans[0])"
   ]
  },
  {
   "cell_type": "code",
   "execution_count": null,
   "metadata": {
    "collapsed": true
   },
   "outputs": [],
   "source": [
    "mm_sim.mode_scans[0]"
   ]
  },
  {
   "cell_type": "code",
   "execution_count": null,
   "metadata": {
    "collapsed": true
   },
   "outputs": [],
   "source": [
    "w = calculate_anharmonicitiy(mm_sim)"
   ]
  },
  {
   "cell_type": "code",
   "execution_count": null,
   "metadata": {
    "collapsed": true
   },
   "outputs": [],
   "source": [
    "plt.plot(np.log(mm_sim.eigenvalues), w, '.')"
   ]
  },
  {
   "cell_type": "code",
   "execution_count": null,
   "metadata": {
    "collapsed": true
   },
   "outputs": [],
   "source": [
    "from recces.data import *\n",
    "from recces.util import *"
   ]
  },
  {
   "cell_type": "code",
   "execution_count": null,
   "metadata": {
    "collapsed": true
   },
   "outputs": [],
   "source": [
    "-np.log(np.trapz(dos(F)*np.exp(-F), dx=dF)) + np.log(dF)"
   ]
  },
  {
   "cell_type": "code",
   "execution_count": null,
   "metadata": {
    "collapsed": true,
    "scrolled": true
   },
   "outputs": [],
   "source": [
    "#plt.plot(E, (2*np.pi/3)**(mm_sim.n_dofs)*dos(E)*np.exp(-E)*0.01)\n",
    "#plt.plot(F, dos(F)*np.exp(-F))\n",
    "sim = SingleHistSimulation('/mnt/c/Users/maadr/all_canonical_reweight/%s_%s' % (seq1, seq2))\n",
    "                      # [0.1,0.118,0.01,0.299,3.61,3.03,0.639,0.033,3.15,2.97])\n",
    "#plt.plot(sim._dos_scores, sim._dos*np.exp(-sim._dos)*np.exp(-sim._dos_scores))"
   ]
  },
  {
   "cell_type": "code",
   "execution_count": null,
   "metadata": {
    "collapsed": true
   },
   "outputs": [],
   "source": [
    "pmm = PyMOLMover()\n",
    "pmm.keep_history(True)"
   ]
  },
  {
   "cell_type": "code",
   "execution_count": null,
   "metadata": {
    "collapsed": true
   },
   "outputs": [],
   "source": [
    "sim.value "
   ]
  },
  {
   "cell_type": "code",
   "execution_count": null,
   "metadata": {
    "collapsed": true
   },
   "outputs": [],
   "source": [
    "def estimate_dos(min_dofs, modes, eigenvalues, multifunc, n=100000):\n",
    "    # intial parameters\n",
    "    E = np.linspace(-100,800,9001)\n",
    "    dE = E[1]-E[0]\n",
    "    g = np.zeros_like(E)\n",
    "    \n",
    "    min_dofs = np.array(min_dofs)\n",
    "    \n",
    "    for ii in range(n):\n",
    "        mode_idx = np.random.randint(5)\n",
    "        new_dofs = min_dofs + np.random.uniform(-60,60)*modes[mode_idx]\n",
    "        energy = multifunc(array_to_vector1(new_dofs))\n",
    "        min_map.copy_dofs_to_pose(pose, array_to_vector1(new_dofs))\n",
    "        if energy > 800:\n",
    "            g[-1] += 1\n",
    "        else: \n",
    "            bin_idx = int((energy+100)/dE)\n",
    "            g[bin_idx] += 1\n",
    "            \n",
    "        if ii % 1000 == 0:\n",
    "            pmm.apply(pose)\n",
    "    \n",
    "    return g/n"
   ]
  },
  {
   "cell_type": "code",
   "execution_count": null,
   "metadata": {
    "collapsed": true,
    "scrolled": true
   },
   "outputs": [],
   "source": [
    "dos = estimate_dos(min_dofs, modes, eigenvalues, multifunc)"
   ]
  },
  {
   "cell_type": "code",
   "execution_count": null,
   "metadata": {
    "collapsed": true
   },
   "outputs": [],
   "source": [
    "hist = SingleHistSimulation('/mnt/c/Users/maadr/all_canonical_reweight/'+seq1+'_'+seq2+'/ST')"
   ]
  },
  {
   "cell_type": "code",
   "execution_count": null,
   "metadata": {
    "collapsed": true
   },
   "outputs": [],
   "source": [
    "sim.value"
   ]
  },
  {
   "cell_type": "code",
   "execution_count": null,
   "metadata": {
    "collapsed": true
   },
   "outputs": [],
   "source": [
    "print E, dos\n",
    "plt.plot(E[:2000], dos[:2000])\n",
    "plt.plot(E[:2000], hist._dos[:2000]/10000000)\n",
    "-logsumexp(-E,b=dos)"
   ]
  },
  {
   "cell_type": "code",
   "execution_count": null,
   "metadata": {
    "collapsed": true,
    "scrolled": true
   },
   "outputs": [],
   "source": [
    "fig, ax = plt.subplots(nrows=3, ncols=5, figsize=(12,12))\n",
    "for ii, sim in enumerate(sims):\n",
    "    n_mods = len(w_dict[sim])\n",
    "    \n",
    "    curr_ax = ax.flatten()[ii]\n",
    "    curr_ax.plot([0, np.log10(np.max(sim_dict[sim].eigenvalues))], [1, 1], 'k--')\n",
    "    curr_ax.scatter(np.log10(sim_dict[sim].eigenvalues), w_dict[sim])\n",
    "    curr_ax.set(title=sim)    \n",
    "    curr_ax.set(xlim=(0, np.log10(np.max(sim_dict[sim].eigenvalues))), ylim=(0,1.6))\n",
    "    \n",
    "fig.text(0.5, 0.08, 'log10(eigenvalue)', ha='center', va='center',\n",
    "         fontproperties=mpl.font_manager.FontProperties(size=14))\n",
    "fig.text(0.06, 0.5, 'anharmonicity', ha='center', va='center', rotation='vertical', \n",
    "         fontproperties=mpl.font_manager.FontProperties(size=14))"
   ]
  },
  {
   "cell_type": "code",
   "execution_count": null,
   "metadata": {
    "collapsed": true
   },
   "outputs": [],
   "source": [
    "fig, ax = plt.subplots(nrows=3, ncols=5, figsize=(12,12))\n",
    "for ii, sim in enumerate(sims):\n",
    "    eigenvalues = sim_dict[sim].eigenvalues\n",
    "    harmonic_energies = -np.log( np.sqrt(2*np.pi/eigenvalues)*(erf(2*limit/np.sqrt(2/sim_dict[sim].eigenvalues))))\n",
    "    anharmonic_energies = -np.log(np.trapz(np.exp(-sim_dict[sim].mode_scans), dx=dx))\n",
    "    curr_ax = ax.flatten()[ii]\n",
    "    curr_ax.scatter(np.log(eigenvalues), np.abs(harmonic_energies-anharmonic_energies))\n",
    "    curr_ax.plot([0, np.max(np.log(eigenvalues))], [0, 0], 'k--')\n",
    "    curr_ax.set(title=sim, xlim=(0, np.log(max(eigenvalues))), ylim=(-0.1,0.5) )   \n",
    "fig.text(0.5, 0.001, 'log10(eigenvalue)', ha='center', va='center',\n",
    "         fontproperties=mpl.font_manager.FontProperties(size=14))\n",
    "fig.text(0.001, 0.5, '$\\Delta$E (kT)', ha='center', va='center', rotation='vertical', \n",
    "         fontproperties=mpl.font_manager.FontProperties(size=14))\n",
    "fig.tight_layout()"
   ]
  },
  {
   "cell_type": "code",
   "execution_count": null,
   "metadata": {
    "collapsed": true,
    "scrolled": false
   },
   "outputs": [],
   "source": [
    "fig, ax = plt.subplots(nrows=1, ncols=2, figsize=(12,6))\n",
    "norm = plt.Normalize(0,6)\n",
    "\n",
    "harm = np.array(DOS_E)*KT_IN_KCAL\n",
    "recces = np.array(RECCES_E)*KT_IN_KCAL\n",
    "anharm = np.array(anharmonic_E)*KT_IN_KCAL\n",
    "\n",
    "sc = ax[0].scatter(recces, anharm, c=np.abs(recces-anharm), norm=norm)\n",
    "ax[1].scatter(recces, harm, c=np.abs(recces-harm), norm=norm)\n",
    "for axis in ax:\n",
    "    axis.set(xlim=(-30, -5), ylim=(-30, -5))\n",
    "    axis.plot([-30,-5],[-30,-5], 'k--')\n",
    "\n",
    "cbaxes = fig.add_axes([0.94, 0.1, 0.03, 0.8]) \n",
    "fig.colorbar(sc, cax=cbaxes)\n",
    "fig.text(0.5, 0.04, 'RECCES free energy (kcal/mol)', ha='center', va='center')\n",
    "fig.text(0.06, 0.5, 'estimated free energy (kcal/mol)', ha='center', va='center', rotation='vertical')\n",
    "print np.sqrt(np.mean((recces-anharm)**2))\n",
    "print np.sqrt(np.mean((recces-harm)**2))\n",
    "\n",
    "\n"
   ]
  },
  {
   "cell_type": "code",
   "execution_count": null,
   "metadata": {
    "collapsed": true,
    "scrolled": true
   },
   "outputs": [],
   "source": [
    "print anharm"
   ]
  },
  {
   "cell_type": "code",
   "execution_count": null,
   "metadata": {
    "collapsed": true
   },
   "outputs": [],
   "source": [
    "print np.sqrt(np.mean(np.array(dE)**2))"
   ]
  },
  {
   "cell_type": "code",
   "execution_count": null,
   "metadata": {
    "collapsed": true
   },
   "outputs": [],
   "source": [
    "from recces.util import *\n",
    "from recces.data import *"
   ]
  },
  {
   "cell_type": "code",
   "execution_count": null,
   "metadata": {
    "collapsed": true
   },
   "outputs": [],
   "source": [
    "sim = SingleHistSimulation('./../../../recces_rosetta/results/'+seq1+'_'+seq2+'/ST/')"
   ]
  },
  {
   "cell_type": "code",
   "execution_count": null,
   "metadata": {
    "collapsed": true
   },
   "outputs": [],
   "source": [
    "print sim.value\n",
    "-np.log(np.trapz(sim._dos, dx=0.1))\n",
    "'guu_acc'.split('_')"
   ]
  },
  {
   "cell_type": "code",
   "execution_count": null,
   "metadata": {
    "collapsed": true,
    "scrolled": true
   },
   "outputs": [],
   "source": [
    "import matplotlib as mpl\n",
    "import matplotlib.pyplot as plt\n",
    "import scipy\n",
    "\n",
    "E = np.linspace(-100,100,2001)\n",
    "\n",
    "plt.plot(E, fuck.dos(E)*np.exp(-E))\n",
    "plt.plot(sim._dos_scores[:2000], sim._dos[:2000]*np.exp(-sim._dos_scores[:2000]))\n",
    "plt.xlabel('energy (REU)')\n",
    "plt.ylabel('$g(E)e^{-E/kT}$')\n",
    "plt.legend(('MM', 'RECCES'))\n",
    "print -scipy.special.logsumexp(-E, b=fuck.dos(E)), sim.value, fuck.harmonic_free_energy"
   ]
  },
  {
   "cell_type": "code",
   "execution_count": null,
   "metadata": {
    "collapsed": true
   },
   "outputs": [],
   "source": [
    "print fuck.anharmonic_free_energy\n",
    "print fuck.harmonic_free_energy"
   ]
  },
  {
   "cell_type": "code",
   "execution_count": null,
   "metadata": {
    "collapsed": true
   },
   "outputs": [],
   "source": [
    "\n",
    "print fuck.modes[:,0]\n",
    "pmm.apply(fuck.min_pose)"
   ]
  },
  {
   "cell_type": "code",
   "execution_count": null,
   "metadata": {
    "collapsed": true
   },
   "outputs": [],
   "source": [
    "n_struct = 200\n",
    "\n",
    "ensemble = fuck.harmonic_ensemble(n_struct = n_struct)\n",
    "#print ensemble[2,:]-min_dofs\n",
    "#print np.sqrt(H)/np.sqrt((2*np.pi)**fuck.n_dofs)*np.exp(-np.dot(fuck.eigenvalues, ((min_dofs-ensemble[0,:])*np.pi/180)**2)/2)"
   ]
  },
  {
   "cell_type": "code",
   "execution_count": null,
   "metadata": {
    "collapsed": true
   },
   "outputs": [],
   "source": [
    "pose = Pose()\n",
    "pose.assign(fuck.min_pose)\n",
    "\n",
    "hist_min = -100\n",
    "hist_max = 100\n",
    "delE = 0.1\n",
    "\n",
    "hist_scores = np.linspace(hist_min, hist_max, int((hist_max-hist_min)/delE)+1)\n",
    "\n",
    "hist = np.zeros_like(hist_scores)\n",
    "\n",
    "for i in range(n_struct):\n",
    "    \n",
    "    dofs = ensemble[i,:]\n",
    "    \n",
    "    for key in fuck.dof_dict: pose.set_torsion(fuck.dof_dict[key], dofs[key])\n",
    "        \n",
    "    energy = fuck.scorefxn(pose)\n",
    "    \n",
    "    if energy < hist_max+delE:\n",
    "             \n",
    "        hist_idx = math.floor((energy-hist_min)/delE)\n",
    "        hist_idx = int(hist_idx)\n",
    "        hist[hist_idx] += 1\n"
   ]
  },
  {
   "cell_type": "code",
   "execution_count": null,
   "metadata": {
    "collapsed": true
   },
   "outputs": [],
   "source": [
    "shit = hist*np.exp(hist_scores)/np.sum(hist)\n",
    "shit = shit/np.sum(shit)\n",
    "print -scipy.special.logsumexp(-hist_scores, b = shit)\n",
    "plt.plot(hist_scores, shit*np.exp(-hist_scores)/torsion_volume(seq1, seq2))\n",
    "plt.plot(sim._dos_scores[:2000], sim._dos[:2000]*np.exp(-sim._dos_scores[:2000]))"
   ]
  },
  {
   "cell_type": "code",
   "execution_count": null,
   "metadata": {
    "collapsed": true
   },
   "outputs": [],
   "source": [
    "pose = Pose()\n",
    "pose_new = Pose()\n",
    "pose.assign(fuck.min_pose)\n",
    "for key in fuck.dof_dict: pose.set_torsion(fuck.dof_dict[key],ensemble[0,:][key])\n",
    "\n",
    "pose_new.assign(pose)\n",
    "\n",
    "E_0 = fuck.scorefxn(fuck.min_pose)\n",
    "energy = E_0\n",
    "\n",
    "min_dofs = [fuck.min_pose.torsion(fuck.dof_dict[key]) for key in fuck.dof_dict]\n",
    "curr_dofs = min_dofs\n",
    "print min_dofs\n",
    "\n",
    "Z = 0\n",
    "H = np.product(fuck.eigenvalues)\n",
    "\n",
    "for j in range(1,n_struct):\n",
    "    \n",
    "    trial_move = ensemble[j, :]\n",
    "     \n",
    "    for key in fuck.dof_dict: pose_new.set_torsion(fuck.dof_dict[key], trial_move[key]) \n",
    "\n",
    "    energy_new = fuck.scorefxn(pose_new)\n",
    "    \n",
    "    if np.exp(-(energy_new-energy)) > np.random.random():\n",
    "        \n",
    "        energy = energy_new\n",
    "        pose.assign(pose_new)\n",
    "        curr_dofs = trial_move\n",
    "        \n",
    "    \n",
    "\n",
    "        #p = np.sqrt(H/(2*np.pi)**fuck.n_dofs)*np.exp(-np.dot(fuck.eigenvalues, ((trial_move-min_dofs)*(np.pi/180)**2)**2)/2)\n",
    "    if energy < hist_max+delE:\n",
    "             \n",
    "        hist_idx = math.floor((energy-hist_min)/delE)\n",
    "        hist_idx = int(hist_idx)\n",
    "        hist[hist_idx] += 1\n",
    "\n",
    "    "
   ]
  },
  {
   "cell_type": "code",
   "execution_count": null,
   "metadata": {
    "collapsed": true
   },
   "outputs": [],
   "source": [
    "#plt.plot(hist_scores, hist)\n",
    "shit = hist/np.sum(hist)\n",
    "shit = shit*np.exp(hist_scores)\n",
    "shit = shit/np.sum(shit)\n",
    "#plt.plot(hist_scores, shit)\n",
    "plt.plot(hist_scores, hist/np.sum(hist))\n",
    "print -np.log(np.exp(-E_0)*(0.25)**fuck.n_dofs/0.35)\n"
   ]
  },
  {
   "cell_type": "code",
   "execution_count": null,
   "metadata": {
    "collapsed": true,
    "scrolled": true
   },
   "outputs": [],
   "source": [
    "print ensemble\n",
    "pmm = PyMOLMover()\n",
    "pmm.keep_history(True)\n",
    "print ensemble[1,:]"
   ]
  },
  {
   "cell_type": "code",
   "execution_count": null,
   "metadata": {
    "collapsed": true
   },
   "outputs": [],
   "source": [
    "pose = Pose()\n",
    "pose.assign(fuck.min_pose)\n",
    "\n",
    "for i in range(200):\n",
    "    \n",
    "    dofs = ensemble[i,:]\n",
    "    for key in fuck.dof_dict: pose.set_torsion(fuck.dof_dict[key], dofs[key]) \n",
    "    pmm.apply(pose)\n",
    "    "
   ]
  },
  {
   "cell_type": "code",
   "execution_count": null,
   "metadata": {
    "collapsed": true
   },
   "outputs": [],
   "source": [
    "print np.cov(ensemble)"
   ]
  },
  {
   "cell_type": "code",
   "execution_count": null,
   "metadata": {
    "collapsed": true
   },
   "outputs": [],
   "source": [
    "w,v = np.linalg.eigh(np.cov(ensemble.T))\n",
    "print fuck.eigenvalues"
   ]
  },
  {
   "cell_type": "code",
   "execution_count": null,
   "metadata": {
    "collapsed": true
   },
   "outputs": [],
   "source": [
    "print 1/w*180*180/np.pi/np.pi"
   ]
  },
  {
   "cell_type": "code",
   "execution_count": null,
   "metadata": {
    "collapsed": true
   },
   "outputs": [],
   "source": [
    "\n",
    "print fuck.min_energy - 0.5*fuck.n_dofs*np.log(2*np.pi) + 0.5*np.log(np.prod(1/w))"
   ]
  },
  {
   "cell_type": "code",
   "execution_count": null,
   "metadata": {
    "collapsed": true
   },
   "outputs": [],
   "source": [
    "print fuck.anharmonic_free_energy"
   ]
  },
  {
   "cell_type": "code",
   "execution_count": null,
   "metadata": {
    "collapsed": true
   },
   "outputs": [],
   "source": [
    "print fuck.min_pose"
   ]
  },
  {
   "cell_type": "code",
   "execution_count": null,
   "metadata": {
    "collapsed": true
   },
   "outputs": [],
   "source": [
    "mu = np.zeros(fuck.n_dofs)"
   ]
  },
  {
   "cell_type": "code",
   "execution_count": null,
   "metadata": {
    "collapsed": true
   },
   "outputs": [],
   "source": [
    "print mu"
   ]
  },
  {
   "cell_type": "code",
   "execution_count": null,
   "metadata": {
    "collapsed": true
   },
   "outputs": [],
   "source": [
    "mu = [fuck.min_pose.torsion(fuck.dof_dict[key]) for key in fuck.dof_dict]"
   ]
  },
  {
   "cell_type": "code",
   "execution_count": null,
   "metadata": {
    "collapsed": true
   },
   "outputs": [],
   "source": [
    "print mu\n",
    "bitch = np.linalg.inv(fuck.hessian)"
   ]
  },
  {
   "cell_type": "code",
   "execution_count": null,
   "metadata": {
    "collapsed": true
   },
   "outputs": [],
   "source": [
    "shit = np.random.multivariate_normal(mu, bitch, size=(2000))"
   ]
  },
  {
   "cell_type": "code",
   "execution_count": null,
   "metadata": {
    "collapsed": true
   },
   "outputs": [],
   "source": [
    "print shit[0,:]"
   ]
  },
  {
   "cell_type": "code",
   "execution_count": null,
   "metadata": {
    "collapsed": true
   },
   "outputs": [],
   "source": [
    "random_struct = np.zeros((fuck.n_dofs, 2000))\n",
    "\n",
    "for j in range(2000):\n",
    "    \n",
    "    random_struct[:,j] = np.random.multivariate_normal(mu, bitch)"
   ]
  },
  {
   "cell_type": "code",
   "execution_count": null,
   "metadata": {
    "collapsed": true
   },
   "outputs": [],
   "source": []
  }
 ],
 "metadata": {
  "kernelspec": {
   "display_name": "Python 2",
   "language": "python",
   "name": "python2"
  },
  "language_info": {
   "codemirror_mode": {
    "name": "ipython",
    "version": 2
   },
   "file_extension": ".py",
   "mimetype": "text/x-python",
   "name": "python",
   "nbconvert_exporter": "python",
   "pygments_lexer": "ipython2",
   "version": "2.7.13"
  }
 },
 "nbformat": 4,
 "nbformat_minor": 2
}
