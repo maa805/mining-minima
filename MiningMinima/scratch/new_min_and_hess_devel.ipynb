{
 "cells": [
  {
   "cell_type": "code",
   "execution_count": 1,
   "metadata": {
    "scrolled": true
   },
   "outputs": [
    {
     "name": "stdout",
     "output_type": "stream",
     "text": [
      "PyRosetta-4 2019 [Rosetta PyRosetta4.Release.python27.ubuntu 2019.33+release.1e60c63beb532fd475f0f704d68d462b8af2a977 2019-08-09T15:19:57] retrieved from: http://www.pyrosetta.org\n",
      "(C) Copyright Rosetta Commons Member Institutions. Created in JHU by Sergey Lyskov and PyRosetta Team.\n",
      "\u001b[0mcore.init: \u001b[0mChecking for fconfig files in pwd and ./rosetta/flags\n",
      "\u001b[0mcore.init: \u001b[0mRosetta version: PyRosetta4.Release.python27.ubuntu r230 2019.33+release.1e60c63beb5 1e60c63beb532fd475f0f704d68d462b8af2a977 http://www.pyrosetta.org 2019-08-09T15:19:57\n",
      "\u001b[0mcore.init: \u001b[0mcommand: PyRosetta -ex1 -ex2aro -database /usr/local/lib/python2.7/dist-packages/pyrosetta-2019.33+release.1e60c63beb5-py2.7-linux-x86_64.egg/pyrosetta/database\n",
      "\u001b[0mbasic.random.init_random_generator: \u001b[0m'RNG device' seed mode, using '/dev/urandom', seed=-632212754 seed_offset=0 real_seed=-632212754\n",
      "\u001b[0mbasic.random.init_random_generator: \u001b[0mRandomGenerator:init: Normal mode, seed=-632212754 RG_type=mt19937\n"
     ]
    }
   ],
   "source": [
    "import matplotlib as mpl\n",
    "import matplotlib.pyplot as plt\n",
    "from MiningMinima import *"
   ]
  },
  {
   "cell_type": "markdown",
   "metadata": {},
   "source": [
    "# Developing subroutine to extract function derivative evaluations"
   ]
  },
  {
   "cell_type": "code",
   "execution_count": 148,
   "metadata": {
    "scrolled": true
   },
   "outputs": [
    {
     "name": "stdout",
     "output_type": "stream",
     "text": [
      "\u001b[0mcore.scoring.methods.LK_PolarNonPolarEnergy: \u001b[0mlk_nonpolar eval_residue_pair_derivatives() appears off -- set your minimizer to use_nblist and *also* nblist_auto_update to use eval_atom_derivative instead.\n",
      "\u001b[0mcore.scoring.methods.LK_PolarNonPolarEnergy: \u001b[0mlk_nonpolar eval_residue_pair_derivatives() appears off -- set your minimizer to use_nblist and *also* nblist_auto_update to use eval_atom_derivative instead.\n",
      "\u001b[0mcore.scoring.methods.LK_PolarNonPolarEnergy: \u001b[0mlk_nonpolar eval_residue_pair_derivatives() appears off -- set your minimizer to use_nblist and *also* nblist_auto_update to use eval_atom_derivative instead.\n",
      "\u001b[0mcore.scoring.methods.LK_PolarNonPolarEnergy: \u001b[0mlk_nonpolar eval_residue_pair_derivatives() appears off -- set your minimizer to use_nblist and *also* nblist_auto_update to use eval_atom_derivative instead.\n",
      "\u001b[0mcore.scoring.methods.LK_PolarNonPolarEnergy: \u001b[0mlk_nonpolar eval_residue_pair_derivatives() appears off -- set your minimizer to use_nblist and *also* nblist_auto_update to use eval_atom_derivative instead.\n",
      "\u001b[0mcore.scoring.methods.LK_PolarNonPolarEnergy: \u001b[0mlk_nonpolar eval_residue_pair_derivatives() appears off -- set your minimizer to use_nblist and *also* nblist_auto_update to use eval_atom_derivative instead.\n",
      "\u001b[0mcore.scoring.methods.LK_PolarNonPolarEnergy: \u001b[0mlk_nonpolar eval_residue_pair_derivatives() appears off -- set your minimizer to use_nblist and *also* nblist_auto_update to use eval_atom_derivative instead.\n",
      "\u001b[0mcore.scoring.methods.LK_PolarNonPolarEnergy: \u001b[0mlk_nonpolar eval_residue_pair_derivatives() appears off -- set your minimizer to use_nblist and *also* nblist_auto_update to use eval_atom_derivative instead.\n",
      "\u001b[0mcore.scoring.methods.LK_PolarNonPolarEnergy: \u001b[0mlk_nonpolar eval_residue_pair_derivatives() appears off -- set your minimizer to use_nblist and *also* nblist_auto_update to use eval_atom_derivative instead.\n",
      "\u001b[0mcore.scoring.methods.LK_PolarNonPolarEnergy: \u001b[0mlk_nonpolar eval_residue_pair_derivatives() appears off -- set your minimizer to use_nblist and *also* nblist_auto_update to use eval_atom_derivative instead.\n",
      "\u001b[0mcore.scoring.methods.LK_PolarNonPolarEnergy: \u001b[0mlk_nonpolar eval_residue_pair_derivatives() appears off -- set your minimizer to use_nblist and *also* nblist_auto_update to use eval_atom_derivative instead.\n",
      "\u001b[0mcore.scoring.methods.LK_PolarNonPolarEnergy: \u001b[0mlk_nonpolar eval_residue_pair_derivatives() appears off -- set your minimizer to use_nblist and *also* nblist_auto_update to use eval_atom_derivative instead.\n",
      "\u001b[0mcore.scoring.methods.LK_PolarNonPolarEnergy: \u001b[0mlk_nonpolar eval_residue_pair_derivatives() appears off -- set your minimizer to use_nblist and *also* nblist_auto_update to use eval_atom_derivative instead.\n",
      "\u001b[0mcore.scoring.methods.LK_PolarNonPolarEnergy: \u001b[0mlk_nonpolar eval_residue_pair_derivatives() appears off -- set your minimizer to use_nblist and *also* nblist_auto_update to use eval_atom_derivative instead.\n",
      "\u001b[0mcore.scoring.methods.LK_PolarNonPolarEnergy: \u001b[0mlk_nonpolar eval_residue_pair_derivatives() appears off -- set your minimizer to use_nblist and *also* nblist_auto_update to use eval_atom_derivative instead.\n",
      "\u001b[0mcore.scoring.methods.LK_PolarNonPolarEnergy: \u001b[0mlk_nonpolar eval_residue_pair_derivatives() appears off -- set your minimizer to use_nblist and *also* nblist_auto_update to use eval_atom_derivative instead.\n",
      "\u001b[0mcore.scoring.methods.LK_PolarNonPolarEnergy: \u001b[0mlk_nonpolar eval_residue_pair_derivatives() appears off -- set your minimizer to use_nblist and *also* nblist_auto_update to use eval_atom_derivative instead.\n",
      "\u001b[0mcore.scoring.methods.LK_PolarNonPolarEnergy: \u001b[0mlk_nonpolar eval_residue_pair_derivatives() appears off -- set your minimizer to use_nblist and *also* nblist_auto_update to use eval_atom_derivative instead.\n",
      "\u001b[0mcore.scoring.methods.LK_PolarNonPolarEnergy: \u001b[0mlk_nonpolar eval_residue_pair_derivatives() appears off -- set your minimizer to use_nblist and *also* nblist_auto_update to use eval_atom_derivative instead.\n",
      "\u001b[0mcore.scoring.methods.LK_PolarNonPolarEnergy: \u001b[0mlk_nonpolar eval_residue_pair_derivatives() appears off -- set your minimizer to use_nblist and *also* nblist_auto_update to use eval_atom_derivative instead.\n",
      "\u001b[0mcore.scoring.methods.LK_PolarNonPolarEnergy: \u001b[0mlk_nonpolar eval_residue_pair_derivatives() appears off -- set your minimizer to use_nblist and *also* nblist_auto_update to use eval_atom_derivative instead.\n",
      "\u001b[0mcore.scoring.methods.LK_PolarNonPolarEnergy: \u001b[0mlk_nonpolar eval_residue_pair_derivatives() appears off -- set your minimizer to use_nblist and *also* nblist_auto_update to use eval_atom_derivative instead.\n",
      "\u001b[0mcore.scoring.methods.LK_PolarNonPolarEnergy: \u001b[0mlk_nonpolar eval_residue_pair_derivatives() appears off -- set your minimizer to use_nblist and *also* nblist_auto_update to use eval_atom_derivative instead.\n",
      "\u001b[0mcore.scoring.methods.LK_PolarNonPolarEnergy: \u001b[0mlk_nonpolar eval_residue_pair_derivatives() appears off -- set your minimizer to use_nblist and *also* nblist_auto_update to use eval_atom_derivative instead.\n",
      "\u001b[0mcore.scoring.methods.LK_PolarNonPolarEnergy: \u001b[0mlk_nonpolar eval_residue_pair_derivatives() appears off -- set your minimizer to use_nblist and *also* nblist_auto_update to use eval_atom_derivative instead.\n",
      "\u001b[0mcore.scoring.methods.LK_PolarNonPolarEnergy: \u001b[0mlk_nonpolar eval_residue_pair_derivatives() appears off -- set your minimizer to use_nblist and *also* nblist_auto_update to use eval_atom_derivative instead.\n",
      "\u001b[0mcore.scoring.methods.LK_PolarNonPolarEnergy: \u001b[0mlk_nonpolar eval_residue_pair_derivatives() appears off -- set your minimizer to use_nblist and *also* nblist_auto_update to use eval_atom_derivative instead.\n",
      "\u001b[0mcore.scoring.methods.LK_PolarNonPolarEnergy: \u001b[0mlk_nonpolar eval_residue_pair_derivatives() appears off -- set your minimizer to use_nblist and *also* nblist_auto_update to use eval_atom_derivative instead.\n",
      "\u001b[0mcore.scoring.methods.LK_PolarNonPolarEnergy: \u001b[0mlk_nonpolar eval_residue_pair_derivatives() appears off -- set your minimizer to use_nblist and *also* nblist_auto_update to use eval_atom_derivative instead.\n",
      "\u001b[0mcore.scoring.methods.LK_PolarNonPolarEnergy: \u001b[0mlk_nonpolar eval_residue_pair_derivatives() appears off -- set your minimizer to use_nblist and *also* nblist_auto_update to use eval_atom_derivative instead.\n",
      "\u001b[0mcore.scoring.methods.LK_PolarNonPolarEnergy: \u001b[0mlk_nonpolar eval_residue_pair_derivatives() appears off -- set your minimizer to use_nblist and *also* nblist_auto_update to use eval_atom_derivative instead.\n",
      "\u001b[0mcore.scoring.methods.LK_PolarNonPolarEnergy: \u001b[0mlk_nonpolar eval_residue_pair_derivatives() appears off -- set your minimizer to use_nblist and *also* nblist_auto_update to use eval_atom_derivative instead.\n",
      "\u001b[0mcore.scoring.methods.LK_PolarNonPolarEnergy: \u001b[0mlk_nonpolar eval_residue_pair_derivatives() appears off -- set your minimizer to use_nblist and *also* nblist_auto_update to use eval_atom_derivative instead.\n",
      "\u001b[0mcore.scoring.methods.LK_PolarNonPolarEnergy: \u001b[0mlk_nonpolar eval_residue_pair_derivatives() appears off -- set your minimizer to use_nblist and *also* nblist_auto_update to use eval_atom_derivative instead.\n",
      "\u001b[0mcore.scoring.methods.LK_PolarNonPolarEnergy: \u001b[0mlk_nonpolar eval_residue_pair_derivatives() appears off -- set your minimizer to use_nblist and *also* nblist_auto_update to use eval_atom_derivative instead.\n",
      "\u001b[0mcore.scoring.methods.LK_PolarNonPolarEnergy: \u001b[0mlk_nonpolar eval_residue_pair_derivatives() appears off -- set your minimizer to use_nblist and *also* nblist_auto_update to use eval_atom_derivative instead.\n",
      "\u001b[0mcore.scoring.methods.LK_PolarNonPolarEnergy: \u001b[0mlk_nonpolar eval_residue_pair_derivatives() appears off -- set your minimizer to use_nblist and *also* nblist_auto_update to use eval_atom_derivative instead.\n",
      "\u001b[0mcore.scoring.methods.LK_PolarNonPolarEnergy: \u001b[0mlk_nonpolar eval_residue_pair_derivatives() appears off -- set your minimizer to use_nblist and *also* nblist_auto_update to use eval_atom_derivative instead.\n",
      "\u001b[0mcore.scoring.methods.LK_PolarNonPolarEnergy: \u001b[0mlk_nonpolar eval_residue_pair_derivatives() appears off -- set your minimizer to use_nblist and *also* nblist_auto_update to use eval_atom_derivative instead.\n"
     ]
    },
    {
     "name": "stdout",
     "output_type": "stream",
     "text": [
      "\u001b[0mcore.scoring.methods.LK_PolarNonPolarEnergy: \u001b[0mlk_nonpolar eval_residue_pair_derivatives() appears off -- set your minimizer to use_nblist and *also* nblist_auto_update to use eval_atom_derivative instead.\n",
      "\u001b[0mcore.scoring.methods.LK_PolarNonPolarEnergy: \u001b[0mlk_nonpolar eval_residue_pair_derivatives() appears off -- set your minimizer to use_nblist and *also* nblist_auto_update to use eval_atom_derivative instead.\n",
      "\u001b[0mcore.scoring.methods.LK_PolarNonPolarEnergy: \u001b[0mlk_nonpolar eval_residue_pair_derivatives() appears off -- set your minimizer to use_nblist and *also* nblist_auto_update to use eval_atom_derivative instead.\n",
      "\u001b[0mcore.scoring.methods.LK_PolarNonPolarEnergy: \u001b[0mlk_nonpolar eval_residue_pair_derivatives() appears off -- set your minimizer to use_nblist and *also* nblist_auto_update to use eval_atom_derivative instead.\n",
      "\u001b[0mcore.scoring.methods.LK_PolarNonPolarEnergy: \u001b[0mlk_nonpolar eval_residue_pair_derivatives() appears off -- set your minimizer to use_nblist and *also* nblist_auto_update to use eval_atom_derivative instead.\n",
      "\u001b[0mcore.scoring.methods.LK_PolarNonPolarEnergy: \u001b[0mlk_nonpolar eval_residue_pair_derivatives() appears off -- set your minimizer to use_nblist and *also* nblist_auto_update to use eval_atom_derivative instead.\n",
      "\u001b[0mcore.scoring.methods.LK_PolarNonPolarEnergy: \u001b[0mlk_nonpolar eval_residue_pair_derivatives() appears off -- set your minimizer to use_nblist and *also* nblist_auto_update to use eval_atom_derivative instead.\n",
      "\u001b[0mcore.scoring.methods.LK_PolarNonPolarEnergy: \u001b[0mlk_nonpolar eval_residue_pair_derivatives() appears off -- set your minimizer to use_nblist and *also* nblist_auto_update to use eval_atom_derivative instead.\n",
      "\u001b[0mcore.scoring.methods.LK_PolarNonPolarEnergy: \u001b[0mlk_nonpolar eval_residue_pair_derivatives() appears off -- set your minimizer to use_nblist and *also* nblist_auto_update to use eval_atom_derivative instead.\n",
      "\u001b[0mcore.scoring.methods.LK_PolarNonPolarEnergy: \u001b[0mlk_nonpolar eval_residue_pair_derivatives() appears off -- set your minimizer to use_nblist and *also* nblist_auto_update to use eval_atom_derivative instead.\n",
      "\u001b[0mcore.scoring.methods.LK_PolarNonPolarEnergy: \u001b[0mlk_nonpolar eval_residue_pair_derivatives() appears off -- set your minimizer to use_nblist and *also* nblist_auto_update to use eval_atom_derivative instead.\n",
      "\u001b[0mcore.scoring.methods.LK_PolarNonPolarEnergy: \u001b[0mlk_nonpolar eval_residue_pair_derivatives() appears off -- set your minimizer to use_nblist and *also* nblist_auto_update to use eval_atom_derivative instead.\n",
      "\u001b[0mcore.scoring.methods.LK_PolarNonPolarEnergy: \u001b[0mlk_nonpolar eval_residue_pair_derivatives() appears off -- set your minimizer to use_nblist and *also* nblist_auto_update to use eval_atom_derivative instead.\n",
      "\u001b[0mcore.scoring.methods.LK_PolarNonPolarEnergy: \u001b[0mlk_nonpolar eval_residue_pair_derivatives() appears off -- set your minimizer to use_nblist and *also* nblist_auto_update to use eval_atom_derivative instead.\n",
      "\u001b[0mcore.scoring.methods.LK_PolarNonPolarEnergy: \u001b[0mlk_nonpolar eval_residue_pair_derivatives() appears off -- set your minimizer to use_nblist and *also* nblist_auto_update to use eval_atom_derivative instead.\n",
      "\u001b[0mcore.scoring.methods.LK_PolarNonPolarEnergy: \u001b[0mlk_nonpolar eval_residue_pair_derivatives() appears off -- set your minimizer to use_nblist and *also* nblist_auto_update to use eval_atom_derivative instead.\n",
      "\u001b[0mcore.scoring.methods.LK_PolarNonPolarEnergy: \u001b[0mlk_nonpolar eval_residue_pair_derivatives() appears off -- set your minimizer to use_nblist and *also* nblist_auto_update to use eval_atom_derivative instead.\n",
      "\u001b[0mcore.scoring.methods.LK_PolarNonPolarEnergy: \u001b[0mlk_nonpolar eval_residue_pair_derivatives() appears off -- set your minimizer to use_nblist and *also* nblist_auto_update to use eval_atom_derivative instead.\n",
      "\u001b[0mcore.scoring.methods.LK_PolarNonPolarEnergy: \u001b[0mlk_nonpolar eval_residue_pair_derivatives() appears off -- set your minimizer to use_nblist and *also* nblist_auto_update to use eval_atom_derivative instead.\n",
      "\u001b[0mcore.scoring.methods.LK_PolarNonPolarEnergy: \u001b[0mlk_nonpolar eval_residue_pair_derivatives() appears off -- set your minimizer to use_nblist and *also* nblist_auto_update to use eval_atom_derivative instead.\n",
      "\u001b[0mcore.scoring.methods.LK_PolarNonPolarEnergy: \u001b[0mlk_nonpolar eval_residue_pair_derivatives() appears off -- set your minimizer to use_nblist and *also* nblist_auto_update to use eval_atom_derivative instead.\n",
      "\u001b[0mcore.scoring.methods.LK_PolarNonPolarEnergy: \u001b[0mlk_nonpolar eval_residue_pair_derivatives() appears off -- set your minimizer to use_nblist and *also* nblist_auto_update to use eval_atom_derivative instead.\n",
      "\u001b[0mcore.scoring.methods.LK_PolarNonPolarEnergy: \u001b[0mlk_nonpolar eval_residue_pair_derivatives() appears off -- set your minimizer to use_nblist and *also* nblist_auto_update to use eval_atom_derivative instead.\n",
      "\u001b[0mcore.scoring.methods.LK_PolarNonPolarEnergy: \u001b[0mlk_nonpolar eval_residue_pair_derivatives() appears off -- set your minimizer to use_nblist and *also* nblist_auto_update to use eval_atom_derivative instead.\n",
      "\u001b[0mcore.scoring.methods.LK_PolarNonPolarEnergy: \u001b[0mlk_nonpolar eval_residue_pair_derivatives() appears off -- set your minimizer to use_nblist and *also* nblist_auto_update to use eval_atom_derivative instead.\n",
      "\u001b[0mcore.scoring.methods.LK_PolarNonPolarEnergy: \u001b[0mlk_nonpolar eval_residue_pair_derivatives() appears off -- set your minimizer to use_nblist and *also* nblist_auto_update to use eval_atom_derivative instead.\n",
      "\u001b[0mcore.scoring.methods.LK_PolarNonPolarEnergy: \u001b[0mlk_nonpolar eval_residue_pair_derivatives() appears off -- set your minimizer to use_nblist and *also* nblist_auto_update to use eval_atom_derivative instead.\n",
      "\u001b[0mcore.scoring.methods.LK_PolarNonPolarEnergy: \u001b[0mlk_nonpolar eval_residue_pair_derivatives() appears off -- set your minimizer to use_nblist and *also* nblist_auto_update to use eval_atom_derivative instead.\n",
      "\u001b[0mcore.scoring.methods.LK_PolarNonPolarEnergy: \u001b[0mlk_nonpolar eval_residue_pair_derivatives() appears off -- set your minimizer to use_nblist and *also* nblist_auto_update to use eval_atom_derivative instead.\n",
      "\u001b[0mcore.scoring.methods.LK_PolarNonPolarEnergy: \u001b[0mlk_nonpolar eval_residue_pair_derivatives() appears off -- set your minimizer to use_nblist and *also* nblist_auto_update to use eval_atom_derivative instead.\n",
      "\u001b[0mcore.scoring.methods.LK_PolarNonPolarEnergy: \u001b[0mlk_nonpolar eval_residue_pair_derivatives() appears off -- set your minimizer to use_nblist and *also* nblist_auto_update to use eval_atom_derivative instead.\n",
      "\u001b[0mcore.scoring.methods.LK_PolarNonPolarEnergy: \u001b[0mlk_nonpolar eval_residue_pair_derivatives() appears off -- set your minimizer to use_nblist and *also* nblist_auto_update to use eval_atom_derivative instead.\n",
      "\u001b[0mcore.scoring.methods.LK_PolarNonPolarEnergy: \u001b[0mlk_nonpolar eval_residue_pair_derivatives() appears off -- set your minimizer to use_nblist and *also* nblist_auto_update to use eval_atom_derivative instead.\n",
      "\u001b[0mcore.scoring.methods.LK_PolarNonPolarEnergy: \u001b[0mlk_nonpolar eval_residue_pair_derivatives() appears off -- set your minimizer to use_nblist and *also* nblist_auto_update to use eval_atom_derivative instead.\n",
      "\u001b[0mcore.scoring.methods.LK_PolarNonPolarEnergy: \u001b[0mlk_nonpolar eval_residue_pair_derivatives() appears off -- set your minimizer to use_nblist and *also* nblist_auto_update to use eval_atom_derivative instead.\n",
      "\u001b[0mcore.scoring.methods.LK_PolarNonPolarEnergy: \u001b[0mlk_nonpolar eval_residue_pair_derivatives() appears off -- set your minimizer to use_nblist and *also* nblist_auto_update to use eval_atom_derivative instead.\n",
      "\u001b[0mcore.scoring.methods.LK_PolarNonPolarEnergy: \u001b[0mlk_nonpolar eval_residue_pair_derivatives() appears off -- set your minimizer to use_nblist and *also* nblist_auto_update to use eval_atom_derivative instead.\n",
      "\u001b[0mcore.scoring.methods.LK_PolarNonPolarEnergy: \u001b[0mlk_nonpolar eval_residue_pair_derivatives() appears off -- set your minimizer to use_nblist and *also* nblist_auto_update to use eval_atom_derivative instead.\n",
      "\u001b[0mcore.scoring.methods.LK_PolarNonPolarEnergy: \u001b[0mlk_nonpolar eval_residue_pair_derivatives() appears off -- set your minimizer to use_nblist and *also* nblist_auto_update to use eval_atom_derivative instead.\n"
     ]
    },
    {
     "name": "stdout",
     "output_type": "stream",
     "text": [
      "\u001b[0mcore.scoring.methods.LK_PolarNonPolarEnergy: \u001b[0mlk_nonpolar eval_residue_pair_derivatives() appears off -- set your minimizer to use_nblist and *also* nblist_auto_update to use eval_atom_derivative instead.\n",
      "\u001b[0mcore.scoring.methods.LK_PolarNonPolarEnergy: \u001b[0mlk_nonpolar eval_residue_pair_derivatives() appears off -- set your minimizer to use_nblist and *also* nblist_auto_update to use eval_atom_derivative instead.\n",
      "\u001b[0mcore.scoring.methods.LK_PolarNonPolarEnergy: \u001b[0mlk_nonpolar eval_residue_pair_derivatives() appears off -- set your minimizer to use_nblist and *also* nblist_auto_update to use eval_atom_derivative instead.\n",
      "\u001b[0mcore.scoring.methods.LK_PolarNonPolarEnergy: \u001b[0mlk_nonpolar eval_residue_pair_derivatives() appears off -- set your minimizer to use_nblist and *also* nblist_auto_update to use eval_atom_derivative instead.\n",
      "\u001b[0mcore.scoring.methods.LK_PolarNonPolarEnergy: \u001b[0mlk_nonpolar eval_residue_pair_derivatives() appears off -- set your minimizer to use_nblist and *also* nblist_auto_update to use eval_atom_derivative instead.\n",
      "\u001b[0mcore.scoring.methods.LK_PolarNonPolarEnergy: \u001b[0mlk_nonpolar eval_residue_pair_derivatives() appears off -- set your minimizer to use_nblist and *also* nblist_auto_update to use eval_atom_derivative instead.\n",
      "\u001b[0mcore.scoring.methods.LK_PolarNonPolarEnergy: \u001b[0mlk_nonpolar eval_residue_pair_derivatives() appears off -- set your minimizer to use_nblist and *also* nblist_auto_update to use eval_atom_derivative instead.\n",
      "\u001b[0mcore.scoring.methods.LK_PolarNonPolarEnergy: \u001b[0mlk_nonpolar eval_residue_pair_derivatives() appears off -- set your minimizer to use_nblist and *also* nblist_auto_update to use eval_atom_derivative instead.\n",
      "\u001b[0mcore.scoring.methods.LK_PolarNonPolarEnergy: \u001b[0mlk_nonpolar eval_residue_pair_derivatives() appears off -- set your minimizer to use_nblist and *also* nblist_auto_update to use eval_atom_derivative instead.\n",
      "\u001b[0mcore.scoring.methods.LK_PolarNonPolarEnergy: \u001b[0mlk_nonpolar eval_residue_pair_derivatives() appears off -- set your minimizer to use_nblist and *also* nblist_auto_update to use eval_atom_derivative instead.\n",
      "\u001b[0mcore.scoring.methods.LK_PolarNonPolarEnergy: \u001b[0mlk_nonpolar eval_residue_pair_derivatives() appears off -- set your minimizer to use_nblist and *also* nblist_auto_update to use eval_atom_derivative instead.\n",
      "\u001b[0mcore.scoring.methods.LK_PolarNonPolarEnergy: \u001b[0mlk_nonpolar eval_residue_pair_derivatives() appears off -- set your minimizer to use_nblist and *also* nblist_auto_update to use eval_atom_derivative instead.\n",
      "\u001b[0mcore.scoring.methods.LK_PolarNonPolarEnergy: \u001b[0mlk_nonpolar eval_residue_pair_derivatives() appears off -- set your minimizer to use_nblist and *also* nblist_auto_update to use eval_atom_derivative instead.\n",
      "\u001b[0mcore.scoring.methods.LK_PolarNonPolarEnergy: \u001b[0mlk_nonpolar eval_residue_pair_derivatives() appears off -- set your minimizer to use_nblist and *also* nblist_auto_update to use eval_atom_derivative instead.\n",
      "\u001b[0mcore.scoring.methods.LK_PolarNonPolarEnergy: \u001b[0mlk_nonpolar eval_residue_pair_derivatives() appears off -- set your minimizer to use_nblist and *also* nblist_auto_update to use eval_atom_derivative instead.\n",
      "\u001b[0mcore.scoring.methods.LK_PolarNonPolarEnergy: \u001b[0mlk_nonpolar eval_residue_pair_derivatives() appears off -- set your minimizer to use_nblist and *also* nblist_auto_update to use eval_atom_derivative instead.\n",
      "\u001b[0mcore.scoring.methods.LK_PolarNonPolarEnergy: \u001b[0mlk_nonpolar eval_residue_pair_derivatives() appears off -- set your minimizer to use_nblist and *also* nblist_auto_update to use eval_atom_derivative instead.\n",
      "\u001b[0mcore.scoring.methods.LK_PolarNonPolarEnergy: \u001b[0mlk_nonpolar eval_residue_pair_derivatives() appears off -- set your minimizer to use_nblist and *also* nblist_auto_update to use eval_atom_derivative instead.\n",
      "\u001b[0mcore.scoring.methods.LK_PolarNonPolarEnergy: \u001b[0mlk_nonpolar eval_residue_pair_derivatives() appears off -- set your minimizer to use_nblist and *also* nblist_auto_update to use eval_atom_derivative instead.\n",
      "\u001b[0mcore.scoring.methods.LK_PolarNonPolarEnergy: \u001b[0mlk_nonpolar eval_residue_pair_derivatives() appears off -- set your minimizer to use_nblist and *also* nblist_auto_update to use eval_atom_derivative instead.\n",
      "\u001b[0mcore.scoring.methods.LK_PolarNonPolarEnergy: \u001b[0mlk_nonpolar eval_residue_pair_derivatives() appears off -- set your minimizer to use_nblist and *also* nblist_auto_update to use eval_atom_derivative instead.\n",
      "\u001b[0mcore.scoring.methods.LK_PolarNonPolarEnergy: \u001b[0mlk_nonpolar eval_residue_pair_derivatives() appears off -- set your minimizer to use_nblist and *also* nblist_auto_update to use eval_atom_derivative instead.\n",
      "\u001b[0mcore.scoring.methods.LK_PolarNonPolarEnergy: \u001b[0mlk_nonpolar eval_residue_pair_derivatives() appears off -- set your minimizer to use_nblist and *also* nblist_auto_update to use eval_atom_derivative instead.\n",
      "\u001b[0mcore.scoring.methods.LK_PolarNonPolarEnergy: \u001b[0mlk_nonpolar eval_residue_pair_derivatives() appears off -- set your minimizer to use_nblist and *also* nblist_auto_update to use eval_atom_derivative instead.\n",
      "\u001b[0mcore.scoring.methods.LK_PolarNonPolarEnergy: \u001b[0mlk_nonpolar eval_residue_pair_derivatives() appears off -- set your minimizer to use_nblist and *also* nblist_auto_update to use eval_atom_derivative instead.\n",
      "\u001b[0mcore.scoring.methods.LK_PolarNonPolarEnergy: \u001b[0mlk_nonpolar eval_residue_pair_derivatives() appears off -- set your minimizer to use_nblist and *also* nblist_auto_update to use eval_atom_derivative instead.\n",
      "\u001b[0mcore.scoring.methods.LK_PolarNonPolarEnergy: \u001b[0mlk_nonpolar eval_residue_pair_derivatives() appears off -- set your minimizer to use_nblist and *also* nblist_auto_update to use eval_atom_derivative instead.\n",
      "\u001b[0mcore.scoring.methods.LK_PolarNonPolarEnergy: \u001b[0mlk_nonpolar eval_residue_pair_derivatives() appears off -- set your minimizer to use_nblist and *also* nblist_auto_update to use eval_atom_derivative instead.\n",
      "\u001b[0mcore.scoring.methods.LK_PolarNonPolarEnergy: \u001b[0mlk_nonpolar eval_residue_pair_derivatives() appears off -- set your minimizer to use_nblist and *also* nblist_auto_update to use eval_atom_derivative instead.\n",
      "\u001b[0mcore.scoring.methods.LK_PolarNonPolarEnergy: \u001b[0mlk_nonpolar eval_residue_pair_derivatives() appears off -- set your minimizer to use_nblist and *also* nblist_auto_update to use eval_atom_derivative instead.\n",
      "\u001b[0mcore.scoring.methods.LK_PolarNonPolarEnergy: \u001b[0mlk_nonpolar eval_residue_pair_derivatives() appears off -- set your minimizer to use_nblist and *also* nblist_auto_update to use eval_atom_derivative instead.\n",
      "\u001b[0mcore.scoring.methods.LK_PolarNonPolarEnergy: \u001b[0mlk_nonpolar eval_residue_pair_derivatives() appears off -- set your minimizer to use_nblist and *also* nblist_auto_update to use eval_atom_derivative instead.\n",
      "\u001b[0mcore.scoring.methods.LK_PolarNonPolarEnergy: \u001b[0mlk_nonpolar eval_residue_pair_derivatives() appears off -- set your minimizer to use_nblist and *also* nblist_auto_update to use eval_atom_derivative instead.\n",
      "\u001b[0mcore.scoring.methods.LK_PolarNonPolarEnergy: \u001b[0mlk_nonpolar eval_residue_pair_derivatives() appears off -- set your minimizer to use_nblist and *also* nblist_auto_update to use eval_atom_derivative instead.\n",
      "\u001b[0mcore.scoring.methods.LK_PolarNonPolarEnergy: \u001b[0mlk_nonpolar eval_residue_pair_derivatives() appears off -- set your minimizer to use_nblist and *also* nblist_auto_update to use eval_atom_derivative instead.\n",
      "\u001b[0mcore.scoring.methods.LK_PolarNonPolarEnergy: \u001b[0mlk_nonpolar eval_residue_pair_derivatives() appears off -- set your minimizer to use_nblist and *also* nblist_auto_update to use eval_atom_derivative instead.\n",
      "\u001b[0mcore.scoring.methods.LK_PolarNonPolarEnergy: \u001b[0mlk_nonpolar eval_residue_pair_derivatives() appears off -- set your minimizer to use_nblist and *also* nblist_auto_update to use eval_atom_derivative instead.\n",
      "\u001b[0mcore.scoring.methods.LK_PolarNonPolarEnergy: \u001b[0mlk_nonpolar eval_residue_pair_derivatives() appears off -- set your minimizer to use_nblist and *also* nblist_auto_update to use eval_atom_derivative instead.\n",
      "\u001b[0mcore.scoring.methods.LK_PolarNonPolarEnergy: \u001b[0mlk_nonpolar eval_residue_pair_derivatives() appears off -- set your minimizer to use_nblist and *also* nblist_auto_update to use eval_atom_derivative instead.\n"
     ]
    },
    {
     "name": "stdout",
     "output_type": "stream",
     "text": [
      "\u001b[0mcore.scoring.methods.LK_PolarNonPolarEnergy: \u001b[0mlk_nonpolar eval_residue_pair_derivatives() appears off -- set your minimizer to use_nblist and *also* nblist_auto_update to use eval_atom_derivative instead.\n",
      "\u001b[0mcore.scoring.methods.LK_PolarNonPolarEnergy: \u001b[0mlk_nonpolar eval_residue_pair_derivatives() appears off -- set your minimizer to use_nblist and *also* nblist_auto_update to use eval_atom_derivative instead.\n",
      "\u001b[0mcore.scoring.methods.LK_PolarNonPolarEnergy: \u001b[0mlk_nonpolar eval_residue_pair_derivatives() appears off -- set your minimizer to use_nblist and *also* nblist_auto_update to use eval_atom_derivative instead.\n",
      "\u001b[0mcore.scoring.methods.LK_PolarNonPolarEnergy: \u001b[0mlk_nonpolar eval_residue_pair_derivatives() appears off -- set your minimizer to use_nblist and *also* nblist_auto_update to use eval_atom_derivative instead.\n",
      "\u001b[0mcore.scoring.methods.LK_PolarNonPolarEnergy: \u001b[0mlk_nonpolar eval_residue_pair_derivatives() appears off -- set your minimizer to use_nblist and *also* nblist_auto_update to use eval_atom_derivative instead.\n",
      "\u001b[0mcore.scoring.methods.LK_PolarNonPolarEnergy: \u001b[0mlk_nonpolar eval_residue_pair_derivatives() appears off -- set your minimizer to use_nblist and *also* nblist_auto_update to use eval_atom_derivative instead.\n",
      "\u001b[0mcore.scoring.methods.LK_PolarNonPolarEnergy: \u001b[0mlk_nonpolar eval_residue_pair_derivatives() appears off -- set your minimizer to use_nblist and *also* nblist_auto_update to use eval_atom_derivative instead.\n",
      "\u001b[0mcore.scoring.methods.LK_PolarNonPolarEnergy: \u001b[0mlk_nonpolar eval_residue_pair_derivatives() appears off -- set your minimizer to use_nblist and *also* nblist_auto_update to use eval_atom_derivative instead.\n",
      "\u001b[0mcore.scoring.methods.LK_PolarNonPolarEnergy: \u001b[0mlk_nonpolar eval_residue_pair_derivatives() appears off -- set your minimizer to use_nblist and *also* nblist_auto_update to use eval_atom_derivative instead.\n",
      "\u001b[0mcore.scoring.methods.LK_PolarNonPolarEnergy: \u001b[0mlk_nonpolar eval_residue_pair_derivatives() appears off -- set your minimizer to use_nblist and *also* nblist_auto_update to use eval_atom_derivative instead.\n",
      "\u001b[0mcore.scoring.methods.LK_PolarNonPolarEnergy: \u001b[0mlk_nonpolar eval_residue_pair_derivatives() appears off -- set your minimizer to use_nblist and *also* nblist_auto_update to use eval_atom_derivative instead.\n",
      "\u001b[0mcore.scoring.methods.LK_PolarNonPolarEnergy: \u001b[0mlk_nonpolar eval_residue_pair_derivatives() appears off -- set your minimizer to use_nblist and *also* nblist_auto_update to use eval_atom_derivative instead.\n",
      "\u001b[0mcore.scoring.methods.LK_PolarNonPolarEnergy: \u001b[0mlk_nonpolar eval_residue_pair_derivatives() appears off -- set your minimizer to use_nblist and *also* nblist_auto_update to use eval_atom_derivative instead.\n",
      "\u001b[0mcore.scoring.methods.LK_PolarNonPolarEnergy: \u001b[0mlk_nonpolar eval_residue_pair_derivatives() appears off -- set your minimizer to use_nblist and *also* nblist_auto_update to use eval_atom_derivative instead.\n",
      "\u001b[0mcore.scoring.methods.LK_PolarNonPolarEnergy: \u001b[0mlk_nonpolar eval_residue_pair_derivatives() appears off -- set your minimizer to use_nblist and *also* nblist_auto_update to use eval_atom_derivative instead.\n",
      "\u001b[0mcore.scoring.methods.LK_PolarNonPolarEnergy: \u001b[0mlk_nonpolar eval_residue_pair_derivatives() appears off -- set your minimizer to use_nblist and *also* nblist_auto_update to use eval_atom_derivative instead.\n",
      "\u001b[0mcore.scoring.methods.LK_PolarNonPolarEnergy: \u001b[0mlk_nonpolar eval_residue_pair_derivatives() appears off -- set your minimizer to use_nblist and *also* nblist_auto_update to use eval_atom_derivative instead.\n",
      "\u001b[0mcore.scoring.methods.LK_PolarNonPolarEnergy: \u001b[0mlk_nonpolar eval_residue_pair_derivatives() appears off -- set your minimizer to use_nblist and *also* nblist_auto_update to use eval_atom_derivative instead.\n",
      "\u001b[0mcore.scoring.methods.LK_PolarNonPolarEnergy: \u001b[0mlk_nonpolar eval_residue_pair_derivatives() appears off -- set your minimizer to use_nblist and *also* nblist_auto_update to use eval_atom_derivative instead.\n",
      "\u001b[0mcore.scoring.methods.LK_PolarNonPolarEnergy: \u001b[0mlk_nonpolar eval_residue_pair_derivatives() appears off -- set your minimizer to use_nblist and *also* nblist_auto_update to use eval_atom_derivative instead.\n",
      "\u001b[0mcore.scoring.methods.LK_PolarNonPolarEnergy: \u001b[0mlk_nonpolar eval_residue_pair_derivatives() appears off -- set your minimizer to use_nblist and *also* nblist_auto_update to use eval_atom_derivative instead.\n",
      "\u001b[0mcore.scoring.methods.LK_PolarNonPolarEnergy: \u001b[0mlk_nonpolar eval_residue_pair_derivatives() appears off -- set your minimizer to use_nblist and *also* nblist_auto_update to use eval_atom_derivative instead.\n",
      "\u001b[0mcore.scoring.methods.LK_PolarNonPolarEnergy: \u001b[0mlk_nonpolar eval_residue_pair_derivatives() appears off -- set your minimizer to use_nblist and *also* nblist_auto_update to use eval_atom_derivative instead.\n",
      "\u001b[0mcore.scoring.methods.LK_PolarNonPolarEnergy: \u001b[0mlk_nonpolar eval_residue_pair_derivatives() appears off -- set your minimizer to use_nblist and *also* nblist_auto_update to use eval_atom_derivative instead.\n",
      "\u001b[0mcore.scoring.methods.LK_PolarNonPolarEnergy: \u001b[0mlk_nonpolar eval_residue_pair_derivatives() appears off -- set your minimizer to use_nblist and *also* nblist_auto_update to use eval_atom_derivative instead.\n",
      "\u001b[0mcore.scoring.methods.LK_PolarNonPolarEnergy: \u001b[0mlk_nonpolar eval_residue_pair_derivatives() appears off -- set your minimizer to use_nblist and *also* nblist_auto_update to use eval_atom_derivative instead.\n",
      "\u001b[0mcore.scoring.methods.LK_PolarNonPolarEnergy: \u001b[0mlk_nonpolar eval_residue_pair_derivatives() appears off -- set your minimizer to use_nblist and *also* nblist_auto_update to use eval_atom_derivative instead.\n",
      "\u001b[0mcore.scoring.methods.LK_PolarNonPolarEnergy: \u001b[0mlk_nonpolar eval_residue_pair_derivatives() appears off -- set your minimizer to use_nblist and *also* nblist_auto_update to use eval_atom_derivative instead.\n",
      "\u001b[0mcore.scoring.methods.LK_PolarNonPolarEnergy: \u001b[0mlk_nonpolar eval_residue_pair_derivatives() appears off -- set your minimizer to use_nblist and *also* nblist_auto_update to use eval_atom_derivative instead.\n",
      "\u001b[0mcore.scoring.methods.LK_PolarNonPolarEnergy: \u001b[0mlk_nonpolar eval_residue_pair_derivatives() appears off -- set your minimizer to use_nblist and *also* nblist_auto_update to use eval_atom_derivative instead.\n",
      "\u001b[0mcore.scoring.methods.LK_PolarNonPolarEnergy: \u001b[0mlk_nonpolar eval_residue_pair_derivatives() appears off -- set your minimizer to use_nblist and *also* nblist_auto_update to use eval_atom_derivative instead.\n",
      "\u001b[0mcore.scoring.methods.LK_PolarNonPolarEnergy: \u001b[0mlk_nonpolar eval_residue_pair_derivatives() appears off -- set your minimizer to use_nblist and *also* nblist_auto_update to use eval_atom_derivative instead.\n",
      "\u001b[0mcore.scoring.methods.LK_PolarNonPolarEnergy: \u001b[0mlk_nonpolar eval_residue_pair_derivatives() appears off -- set your minimizer to use_nblist and *also* nblist_auto_update to use eval_atom_derivative instead.\n",
      "\u001b[0mcore.scoring.methods.LK_PolarNonPolarEnergy: \u001b[0mlk_nonpolar eval_residue_pair_derivatives() appears off -- set your minimizer to use_nblist and *also* nblist_auto_update to use eval_atom_derivative instead.\n",
      "\u001b[0mcore.scoring.methods.LK_PolarNonPolarEnergy: \u001b[0mlk_nonpolar eval_residue_pair_derivatives() appears off -- set your minimizer to use_nblist and *also* nblist_auto_update to use eval_atom_derivative instead.\n",
      "\u001b[0mcore.scoring.methods.LK_PolarNonPolarEnergy: \u001b[0mlk_nonpolar eval_residue_pair_derivatives() appears off -- set your minimizer to use_nblist and *also* nblist_auto_update to use eval_atom_derivative instead.\n",
      "\u001b[0mcore.scoring.methods.LK_PolarNonPolarEnergy: \u001b[0mlk_nonpolar eval_residue_pair_derivatives() appears off -- set your minimizer to use_nblist and *also* nblist_auto_update to use eval_atom_derivative instead.\n",
      "\u001b[0mcore.scoring.methods.LK_PolarNonPolarEnergy: \u001b[0mlk_nonpolar eval_residue_pair_derivatives() appears off -- set your minimizer to use_nblist and *also* nblist_auto_update to use eval_atom_derivative instead.\n",
      "\u001b[0mcore.scoring.methods.LK_PolarNonPolarEnergy: \u001b[0mlk_nonpolar eval_residue_pair_derivatives() appears off -- set your minimizer to use_nblist and *also* nblist_auto_update to use eval_atom_derivative instead.\n"
     ]
    },
    {
     "name": "stdout",
     "output_type": "stream",
     "text": [
      "\u001b[0mcore.scoring.methods.LK_PolarNonPolarEnergy: \u001b[0mlk_nonpolar eval_residue_pair_derivatives() appears off -- set your minimizer to use_nblist and *also* nblist_auto_update to use eval_atom_derivative instead.\n",
      "\u001b[0mcore.scoring.methods.LK_PolarNonPolarEnergy: \u001b[0mlk_nonpolar eval_residue_pair_derivatives() appears off -- set your minimizer to use_nblist and *also* nblist_auto_update to use eval_atom_derivative instead.\n",
      "\u001b[0mcore.scoring.methods.LK_PolarNonPolarEnergy: \u001b[0mlk_nonpolar eval_residue_pair_derivatives() appears off -- set your minimizer to use_nblist and *also* nblist_auto_update to use eval_atom_derivative instead.\n",
      "\u001b[0mcore.scoring.methods.LK_PolarNonPolarEnergy: \u001b[0mlk_nonpolar eval_residue_pair_derivatives() appears off -- set your minimizer to use_nblist and *also* nblist_auto_update to use eval_atom_derivative instead.\n",
      "\u001b[0mcore.scoring.methods.LK_PolarNonPolarEnergy: \u001b[0mlk_nonpolar eval_residue_pair_derivatives() appears off -- set your minimizer to use_nblist and *also* nblist_auto_update to use eval_atom_derivative instead.\n",
      "\u001b[0mcore.scoring.methods.LK_PolarNonPolarEnergy: \u001b[0mlk_nonpolar eval_residue_pair_derivatives() appears off -- set your minimizer to use_nblist and *also* nblist_auto_update to use eval_atom_derivative instead.\n",
      "\u001b[0mcore.scoring.methods.LK_PolarNonPolarEnergy: \u001b[0mlk_nonpolar eval_residue_pair_derivatives() appears off -- set your minimizer to use_nblist and *also* nblist_auto_update to use eval_atom_derivative instead.\n",
      "\u001b[0mcore.scoring.methods.LK_PolarNonPolarEnergy: \u001b[0mlk_nonpolar eval_residue_pair_derivatives() appears off -- set your minimizer to use_nblist and *also* nblist_auto_update to use eval_atom_derivative instead.\n",
      "\u001b[0mcore.scoring.methods.LK_PolarNonPolarEnergy: \u001b[0mlk_nonpolar eval_residue_pair_derivatives() appears off -- set your minimizer to use_nblist and *also* nblist_auto_update to use eval_atom_derivative instead.\n",
      "\u001b[0mcore.scoring.methods.LK_PolarNonPolarEnergy: \u001b[0mlk_nonpolar eval_residue_pair_derivatives() appears off -- set your minimizer to use_nblist and *also* nblist_auto_update to use eval_atom_derivative instead.\n",
      "\u001b[0mcore.scoring.methods.LK_PolarNonPolarEnergy: \u001b[0mlk_nonpolar eval_residue_pair_derivatives() appears off -- set your minimizer to use_nblist and *also* nblist_auto_update to use eval_atom_derivative instead.\n",
      "\u001b[0mcore.scoring.methods.LK_PolarNonPolarEnergy: \u001b[0mlk_nonpolar eval_residue_pair_derivatives() appears off -- set your minimizer to use_nblist and *also* nblist_auto_update to use eval_atom_derivative instead.\n",
      "\u001b[0mcore.scoring.methods.LK_PolarNonPolarEnergy: \u001b[0mlk_nonpolar eval_residue_pair_derivatives() appears off -- set your minimizer to use_nblist and *also* nblist_auto_update to use eval_atom_derivative instead.\n",
      "\u001b[0mcore.scoring.methods.LK_PolarNonPolarEnergy: \u001b[0mlk_nonpolar eval_residue_pair_derivatives() appears off -- set your minimizer to use_nblist and *also* nblist_auto_update to use eval_atom_derivative instead.\n",
      "\u001b[0mcore.scoring.methods.LK_PolarNonPolarEnergy: \u001b[0mlk_nonpolar eval_residue_pair_derivatives() appears off -- set your minimizer to use_nblist and *also* nblist_auto_update to use eval_atom_derivative instead.\n",
      "\u001b[0mcore.scoring.methods.LK_PolarNonPolarEnergy: \u001b[0mlk_nonpolar eval_residue_pair_derivatives() appears off -- set your minimizer to use_nblist and *also* nblist_auto_update to use eval_atom_derivative instead.\n",
      "\u001b[0mcore.scoring.methods.LK_PolarNonPolarEnergy: \u001b[0mlk_nonpolar eval_residue_pair_derivatives() appears off -- set your minimizer to use_nblist and *also* nblist_auto_update to use eval_atom_derivative instead.\n",
      "\u001b[0mcore.scoring.methods.LK_PolarNonPolarEnergy: \u001b[0mlk_nonpolar eval_residue_pair_derivatives() appears off -- set your minimizer to use_nblist and *also* nblist_auto_update to use eval_atom_derivative instead.\n",
      "\u001b[0mcore.scoring.methods.LK_PolarNonPolarEnergy: \u001b[0mlk_nonpolar eval_residue_pair_derivatives() appears off -- set your minimizer to use_nblist and *also* nblist_auto_update to use eval_atom_derivative instead.\n",
      "\u001b[0mcore.scoring.methods.LK_PolarNonPolarEnergy: \u001b[0mlk_nonpolar eval_residue_pair_derivatives() appears off -- set your minimizer to use_nblist and *also* nblist_auto_update to use eval_atom_derivative instead.\n",
      "\u001b[0mcore.scoring.methods.LK_PolarNonPolarEnergy: \u001b[0mlk_nonpolar eval_residue_pair_derivatives() appears off -- set your minimizer to use_nblist and *also* nblist_auto_update to use eval_atom_derivative instead.\n",
      "\u001b[0mcore.scoring.methods.LK_PolarNonPolarEnergy: \u001b[0mlk_nonpolar eval_residue_pair_derivatives() appears off -- set your minimizer to use_nblist and *also* nblist_auto_update to use eval_atom_derivative instead.\n",
      "\u001b[0mcore.scoring.methods.LK_PolarNonPolarEnergy: \u001b[0mlk_nonpolar eval_residue_pair_derivatives() appears off -- set your minimizer to use_nblist and *also* nblist_auto_update to use eval_atom_derivative instead.\n",
      "\u001b[0mcore.scoring.methods.LK_PolarNonPolarEnergy: \u001b[0mlk_nonpolar eval_residue_pair_derivatives() appears off -- set your minimizer to use_nblist and *also* nblist_auto_update to use eval_atom_derivative instead.\n",
      "\u001b[0mcore.optimization.LineMinimizer: \u001b[0m\u001b[31m\u001b[1m[ ERROR ]\u001b[0m \u001b[31mInaccurate G! step= 1.90735e-06 Deriv= -0.0424667 Finite Diff= 0.0130859\u001b[0m\n",
      "\u001b[0mcore.scoring.methods.LK_PolarNonPolarEnergy: \u001b[0mlk_nonpolar eval_residue_pair_derivatives() appears off -- set your minimizer to use_nblist and *also* nblist_auto_update to use eval_atom_derivative instead.\n",
      "\u001b[0mcore.scoring.methods.LK_PolarNonPolarEnergy: \u001b[0mlk_nonpolar eval_residue_pair_derivatives() appears off -- set your minimizer to use_nblist and *also* nblist_auto_update to use eval_atom_derivative instead.\n",
      "\u001b[0mcore.scoring.methods.LK_PolarNonPolarEnergy: \u001b[0mlk_nonpolar eval_residue_pair_derivatives() appears off -- set your minimizer to use_nblist and *also* nblist_auto_update to use eval_atom_derivative instead.\n",
      "\u001b[0mcore.scoring.methods.LK_PolarNonPolarEnergy: \u001b[0mlk_nonpolar eval_residue_pair_derivatives() appears off -- set your minimizer to use_nblist and *also* nblist_auto_update to use eval_atom_derivative instead.\n",
      "\u001b[0mcore.scoring.methods.LK_PolarNonPolarEnergy: \u001b[0mlk_nonpolar eval_residue_pair_derivatives() appears off -- set your minimizer to use_nblist and *also* nblist_auto_update to use eval_atom_derivative instead.\n",
      "\u001b[0mcore.scoring.methods.LK_PolarNonPolarEnergy: \u001b[0mlk_nonpolar eval_residue_pair_derivatives() appears off -- set your minimizer to use_nblist and *also* nblist_auto_update to use eval_atom_derivative instead.\n",
      "\u001b[0mcore.scoring.methods.LK_PolarNonPolarEnergy: \u001b[0mlk_nonpolar eval_residue_pair_derivatives() appears off -- set your minimizer to use_nblist and *also* nblist_auto_update to use eval_atom_derivative instead.\n",
      "\u001b[0mcore.scoring.methods.LK_PolarNonPolarEnergy: \u001b[0mlk_nonpolar eval_residue_pair_derivatives() appears off -- set your minimizer to use_nblist and *also* nblist_auto_update to use eval_atom_derivative instead.\n",
      "\u001b[0mcore.scoring.methods.LK_PolarNonPolarEnergy: \u001b[0mlk_nonpolar eval_residue_pair_derivatives() appears off -- set your minimizer to use_nblist and *also* nblist_auto_update to use eval_atom_derivative instead.\n",
      "\u001b[0mcore.scoring.methods.LK_PolarNonPolarEnergy: \u001b[0mlk_nonpolar eval_residue_pair_derivatives() appears off -- set your minimizer to use_nblist and *also* nblist_auto_update to use eval_atom_derivative instead.\n",
      "\u001b[0mcore.scoring.methods.LK_PolarNonPolarEnergy: \u001b[0mlk_nonpolar eval_residue_pair_derivatives() appears off -- set your minimizer to use_nblist and *also* nblist_auto_update to use eval_atom_derivative instead.\n",
      "\u001b[0mcore.scoring.methods.LK_PolarNonPolarEnergy: \u001b[0mlk_nonpolar eval_residue_pair_derivatives() appears off -- set your minimizer to use_nblist and *also* nblist_auto_update to use eval_atom_derivative instead.\n",
      "\u001b[0mcore.scoring.methods.LK_PolarNonPolarEnergy: \u001b[0mlk_nonpolar eval_residue_pair_derivatives() appears off -- set your minimizer to use_nblist and *also* nblist_auto_update to use eval_atom_derivative instead.\n",
      "\u001b[0mcore.scoring.methods.LK_PolarNonPolarEnergy: \u001b[0mlk_nonpolar eval_residue_pair_derivatives() appears off -- set your minimizer to use_nblist and *also* nblist_auto_update to use eval_atom_derivative instead.\n"
     ]
    },
    {
     "name": "stdout",
     "output_type": "stream",
     "text": [
      "\u001b[0mcore.scoring.methods.LK_PolarNonPolarEnergy: \u001b[0mlk_nonpolar eval_residue_pair_derivatives() appears off -- set your minimizer to use_nblist and *also* nblist_auto_update to use eval_atom_derivative instead.\n",
      "\u001b[0mcore.scoring.methods.LK_PolarNonPolarEnergy: \u001b[0mlk_nonpolar eval_residue_pair_derivatives() appears off -- set your minimizer to use_nblist and *also* nblist_auto_update to use eval_atom_derivative instead.\n",
      "\u001b[0mcore.scoring.methods.LK_PolarNonPolarEnergy: \u001b[0mlk_nonpolar eval_residue_pair_derivatives() appears off -- set your minimizer to use_nblist and *also* nblist_auto_update to use eval_atom_derivative instead.\n",
      "\u001b[0mcore.scoring.methods.LK_PolarNonPolarEnergy: \u001b[0mlk_nonpolar eval_residue_pair_derivatives() appears off -- set your minimizer to use_nblist and *also* nblist_auto_update to use eval_atom_derivative instead.\n",
      "\u001b[0mcore.scoring.methods.LK_PolarNonPolarEnergy: \u001b[0mlk_nonpolar eval_residue_pair_derivatives() appears off -- set your minimizer to use_nblist and *also* nblist_auto_update to use eval_atom_derivative instead.\n",
      "\u001b[0mcore.scoring.methods.LK_PolarNonPolarEnergy: \u001b[0mlk_nonpolar eval_residue_pair_derivatives() appears off -- set your minimizer to use_nblist and *also* nblist_auto_update to use eval_atom_derivative instead.\n",
      "\u001b[0mcore.scoring.methods.LK_PolarNonPolarEnergy: \u001b[0mlk_nonpolar eval_residue_pair_derivatives() appears off -- set your minimizer to use_nblist and *also* nblist_auto_update to use eval_atom_derivative instead.\n",
      "\u001b[0mcore.scoring.methods.LK_PolarNonPolarEnergy: \u001b[0mlk_nonpolar eval_residue_pair_derivatives() appears off -- set your minimizer to use_nblist and *also* nblist_auto_update to use eval_atom_derivative instead.\n",
      "\u001b[0mcore.scoring.methods.LK_PolarNonPolarEnergy: \u001b[0mlk_nonpolar eval_residue_pair_derivatives() appears off -- set your minimizer to use_nblist and *also* nblist_auto_update to use eval_atom_derivative instead.\n",
      "\u001b[0mcore.scoring.methods.LK_PolarNonPolarEnergy: \u001b[0mlk_nonpolar eval_residue_pair_derivatives() appears off -- set your minimizer to use_nblist and *also* nblist_auto_update to use eval_atom_derivative instead.\n",
      "\u001b[0mcore.scoring.methods.LK_PolarNonPolarEnergy: \u001b[0mlk_nonpolar eval_residue_pair_derivatives() appears off -- set your minimizer to use_nblist and *also* nblist_auto_update to use eval_atom_derivative instead.\n",
      "\u001b[0mcore.scoring.methods.LK_PolarNonPolarEnergy: \u001b[0mlk_nonpolar eval_residue_pair_derivatives() appears off -- set your minimizer to use_nblist and *also* nblist_auto_update to use eval_atom_derivative instead.\n",
      "\u001b[0mcore.scoring.methods.LK_PolarNonPolarEnergy: \u001b[0mlk_nonpolar eval_residue_pair_derivatives() appears off -- set your minimizer to use_nblist and *also* nblist_auto_update to use eval_atom_derivative instead.\n",
      "\u001b[0mcore.scoring.methods.LK_PolarNonPolarEnergy: \u001b[0mlk_nonpolar eval_residue_pair_derivatives() appears off -- set your minimizer to use_nblist and *also* nblist_auto_update to use eval_atom_derivative instead.\n",
      "\u001b[0mcore.scoring.methods.LK_PolarNonPolarEnergy: \u001b[0mlk_nonpolar eval_residue_pair_derivatives() appears off -- set your minimizer to use_nblist and *also* nblist_auto_update to use eval_atom_derivative instead.\n",
      "\u001b[0mcore.scoring.methods.LK_PolarNonPolarEnergy: \u001b[0mlk_nonpolar eval_residue_pair_derivatives() appears off -- set your minimizer to use_nblist and *also* nblist_auto_update to use eval_atom_derivative instead.\n",
      "\u001b[0mcore.scoring.methods.LK_PolarNonPolarEnergy: \u001b[0mlk_nonpolar eval_residue_pair_derivatives() appears off -- set your minimizer to use_nblist and *also* nblist_auto_update to use eval_atom_derivative instead.\n",
      "\u001b[0mcore.scoring.methods.LK_PolarNonPolarEnergy: \u001b[0mlk_nonpolar eval_residue_pair_derivatives() appears off -- set your minimizer to use_nblist and *also* nblist_auto_update to use eval_atom_derivative instead.\n",
      "\u001b[0mcore.scoring.methods.LK_PolarNonPolarEnergy: \u001b[0mlk_nonpolar eval_residue_pair_derivatives() appears off -- set your minimizer to use_nblist and *also* nblist_auto_update to use eval_atom_derivative instead.\n",
      "\u001b[0mcore.scoring.methods.LK_PolarNonPolarEnergy: \u001b[0mlk_nonpolar eval_residue_pair_derivatives() appears off -- set your minimizer to use_nblist and *also* nblist_auto_update to use eval_atom_derivative instead.\n",
      "\u001b[0mcore.scoring.methods.LK_PolarNonPolarEnergy: \u001b[0mlk_nonpolar eval_residue_pair_derivatives() appears off -- set your minimizer to use_nblist and *also* nblist_auto_update to use eval_atom_derivative instead.\n",
      "\u001b[0mcore.scoring.methods.LK_PolarNonPolarEnergy: \u001b[0mlk_nonpolar eval_residue_pair_derivatives() appears off -- set your minimizer to use_nblist and *also* nblist_auto_update to use eval_atom_derivative instead.\n",
      "\u001b[0mcore.scoring.methods.LK_PolarNonPolarEnergy: \u001b[0mlk_nonpolar eval_residue_pair_derivatives() appears off -- set your minimizer to use_nblist and *also* nblist_auto_update to use eval_atom_derivative instead.\n",
      "\u001b[0mcore.scoring.methods.LK_PolarNonPolarEnergy: \u001b[0mlk_nonpolar eval_residue_pair_derivatives() appears off -- set your minimizer to use_nblist and *also* nblist_auto_update to use eval_atom_derivative instead.\n",
      "\u001b[0mcore.scoring.methods.LK_PolarNonPolarEnergy: \u001b[0mlk_nonpolar eval_residue_pair_derivatives() appears off -- set your minimizer to use_nblist and *also* nblist_auto_update to use eval_atom_derivative instead.\n",
      "\u001b[0mcore.scoring.methods.LK_PolarNonPolarEnergy: \u001b[0mlk_nonpolar eval_residue_pair_derivatives() appears off -- set your minimizer to use_nblist and *also* nblist_auto_update to use eval_atom_derivative instead.\n",
      "\u001b[0mcore.scoring.methods.LK_PolarNonPolarEnergy: \u001b[0mlk_nonpolar eval_residue_pair_derivatives() appears off -- set your minimizer to use_nblist and *also* nblist_auto_update to use eval_atom_derivative instead.\n",
      "\u001b[0mcore.scoring.methods.LK_PolarNonPolarEnergy: \u001b[0mlk_nonpolar eval_residue_pair_derivatives() appears off -- set your minimizer to use_nblist and *also* nblist_auto_update to use eval_atom_derivative instead.\n",
      "\u001b[0mcore.scoring.methods.LK_PolarNonPolarEnergy: \u001b[0mlk_nonpolar eval_residue_pair_derivatives() appears off -- set your minimizer to use_nblist and *also* nblist_auto_update to use eval_atom_derivative instead.\n",
      "\u001b[0mcore.scoring.methods.LK_PolarNonPolarEnergy: \u001b[0mlk_nonpolar eval_residue_pair_derivatives() appears off -- set your minimizer to use_nblist and *also* nblist_auto_update to use eval_atom_derivative instead.\n",
      "\u001b[0mcore.scoring.methods.LK_PolarNonPolarEnergy: \u001b[0mlk_nonpolar eval_residue_pair_derivatives() appears off -- set your minimizer to use_nblist and *also* nblist_auto_update to use eval_atom_derivative instead.\n",
      "\u001b[0mcore.scoring.methods.LK_PolarNonPolarEnergy: \u001b[0mlk_nonpolar eval_residue_pair_derivatives() appears off -- set your minimizer to use_nblist and *also* nblist_auto_update to use eval_atom_derivative instead.\n",
      "\u001b[0mcore.scoring.methods.LK_PolarNonPolarEnergy: \u001b[0mlk_nonpolar eval_residue_pair_derivatives() appears off -- set your minimizer to use_nblist and *also* nblist_auto_update to use eval_atom_derivative instead.\n",
      "\u001b[0mcore.scoring.methods.LK_PolarNonPolarEnergy: \u001b[0mlk_nonpolar eval_residue_pair_derivatives() appears off -- set your minimizer to use_nblist and *also* nblist_auto_update to use eval_atom_derivative instead.\n",
      "\u001b[0mcore.scoring.methods.LK_PolarNonPolarEnergy: \u001b[0mlk_nonpolar eval_residue_pair_derivatives() appears off -- set your minimizer to use_nblist and *also* nblist_auto_update to use eval_atom_derivative instead.\n",
      "\u001b[0mcore.scoring.methods.LK_PolarNonPolarEnergy: \u001b[0mlk_nonpolar eval_residue_pair_derivatives() appears off -- set your minimizer to use_nblist and *also* nblist_auto_update to use eval_atom_derivative instead.\n",
      "\u001b[0mcore.scoring.methods.LK_PolarNonPolarEnergy: \u001b[0mlk_nonpolar eval_residue_pair_derivatives() appears off -- set your minimizer to use_nblist and *also* nblist_auto_update to use eval_atom_derivative instead.\n",
      "\u001b[0mcore.scoring.methods.LK_PolarNonPolarEnergy: \u001b[0mlk_nonpolar eval_residue_pair_derivatives() appears off -- set your minimizer to use_nblist and *also* nblist_auto_update to use eval_atom_derivative instead.\n",
      "\u001b[0mcore.scoring.methods.LK_PolarNonPolarEnergy: \u001b[0mlk_nonpolar eval_residue_pair_derivatives() appears off -- set your minimizer to use_nblist and *also* nblist_auto_update to use eval_atom_derivative instead.\n"
     ]
    },
    {
     "name": "stdout",
     "output_type": "stream",
     "text": [
      "\u001b[0mcore.scoring.methods.LK_PolarNonPolarEnergy: \u001b[0mlk_nonpolar eval_residue_pair_derivatives() appears off -- set your minimizer to use_nblist and *also* nblist_auto_update to use eval_atom_derivative instead.\n",
      "\u001b[0mcore.scoring.methods.LK_PolarNonPolarEnergy: \u001b[0mlk_nonpolar eval_residue_pair_derivatives() appears off -- set your minimizer to use_nblist and *also* nblist_auto_update to use eval_atom_derivative instead.\n",
      "\u001b[0mcore.scoring.methods.LK_PolarNonPolarEnergy: \u001b[0mlk_nonpolar eval_residue_pair_derivatives() appears off -- set your minimizer to use_nblist and *also* nblist_auto_update to use eval_atom_derivative instead.\n",
      "\u001b[0mcore.scoring.methods.LK_PolarNonPolarEnergy: \u001b[0mlk_nonpolar eval_residue_pair_derivatives() appears off -- set your minimizer to use_nblist and *also* nblist_auto_update to use eval_atom_derivative instead.\n",
      "\u001b[0mcore.scoring.methods.LK_PolarNonPolarEnergy: \u001b[0mlk_nonpolar eval_residue_pair_derivatives() appears off -- set your minimizer to use_nblist and *also* nblist_auto_update to use eval_atom_derivative instead.\n",
      "\u001b[0mcore.scoring.methods.LK_PolarNonPolarEnergy: \u001b[0mlk_nonpolar eval_residue_pair_derivatives() appears off -- set your minimizer to use_nblist and *also* nblist_auto_update to use eval_atom_derivative instead.\n",
      "\u001b[0mcore.scoring.methods.LK_PolarNonPolarEnergy: \u001b[0mlk_nonpolar eval_residue_pair_derivatives() appears off -- set your minimizer to use_nblist and *also* nblist_auto_update to use eval_atom_derivative instead.\n",
      "\u001b[0mcore.scoring.methods.LK_PolarNonPolarEnergy: \u001b[0mlk_nonpolar eval_residue_pair_derivatives() appears off -- set your minimizer to use_nblist and *also* nblist_auto_update to use eval_atom_derivative instead.\n",
      "\u001b[0mcore.scoring.methods.LK_PolarNonPolarEnergy: \u001b[0mlk_nonpolar eval_residue_pair_derivatives() appears off -- set your minimizer to use_nblist and *also* nblist_auto_update to use eval_atom_derivative instead.\n",
      "\u001b[0mcore.scoring.methods.LK_PolarNonPolarEnergy: \u001b[0mlk_nonpolar eval_residue_pair_derivatives() appears off -- set your minimizer to use_nblist and *also* nblist_auto_update to use eval_atom_derivative instead.\n",
      "\u001b[0mcore.scoring.methods.LK_PolarNonPolarEnergy: \u001b[0mlk_nonpolar eval_residue_pair_derivatives() appears off -- set your minimizer to use_nblist and *also* nblist_auto_update to use eval_atom_derivative instead.\n",
      "\u001b[0mcore.scoring.methods.LK_PolarNonPolarEnergy: \u001b[0mlk_nonpolar eval_residue_pair_derivatives() appears off -- set your minimizer to use_nblist and *also* nblist_auto_update to use eval_atom_derivative instead.\n",
      "\u001b[0mcore.scoring.methods.LK_PolarNonPolarEnergy: \u001b[0mlk_nonpolar eval_residue_pair_derivatives() appears off -- set your minimizer to use_nblist and *also* nblist_auto_update to use eval_atom_derivative instead.\n",
      "\u001b[0mcore.scoring.methods.LK_PolarNonPolarEnergy: \u001b[0mlk_nonpolar eval_residue_pair_derivatives() appears off -- set your minimizer to use_nblist and *also* nblist_auto_update to use eval_atom_derivative instead.\n",
      "\u001b[0mcore.scoring.methods.LK_PolarNonPolarEnergy: \u001b[0mlk_nonpolar eval_residue_pair_derivatives() appears off -- set your minimizer to use_nblist and *also* nblist_auto_update to use eval_atom_derivative instead.\n",
      "\u001b[0mcore.scoring.methods.LK_PolarNonPolarEnergy: \u001b[0mlk_nonpolar eval_residue_pair_derivatives() appears off -- set your minimizer to use_nblist and *also* nblist_auto_update to use eval_atom_derivative instead.\n",
      "\u001b[0mcore.scoring.methods.LK_PolarNonPolarEnergy: \u001b[0mlk_nonpolar eval_residue_pair_derivatives() appears off -- set your minimizer to use_nblist and *also* nblist_auto_update to use eval_atom_derivative instead.\n",
      "\u001b[0mcore.scoring.methods.LK_PolarNonPolarEnergy: \u001b[0mlk_nonpolar eval_residue_pair_derivatives() appears off -- set your minimizer to use_nblist and *also* nblist_auto_update to use eval_atom_derivative instead.\n",
      "\u001b[0mcore.scoring.methods.LK_PolarNonPolarEnergy: \u001b[0mlk_nonpolar eval_residue_pair_derivatives() appears off -- set your minimizer to use_nblist and *also* nblist_auto_update to use eval_atom_derivative instead.\n",
      "\u001b[0mcore.scoring.methods.LK_PolarNonPolarEnergy: \u001b[0mlk_nonpolar eval_residue_pair_derivatives() appears off -- set your minimizer to use_nblist and *also* nblist_auto_update to use eval_atom_derivative instead.\n",
      "\u001b[0mcore.scoring.methods.LK_PolarNonPolarEnergy: \u001b[0mlk_nonpolar eval_residue_pair_derivatives() appears off -- set your minimizer to use_nblist and *also* nblist_auto_update to use eval_atom_derivative instead.\n",
      "\u001b[0mcore.scoring.methods.LK_PolarNonPolarEnergy: \u001b[0mlk_nonpolar eval_residue_pair_derivatives() appears off -- set your minimizer to use_nblist and *also* nblist_auto_update to use eval_atom_derivative instead.\n",
      "\u001b[0mcore.scoring.methods.LK_PolarNonPolarEnergy: \u001b[0mlk_nonpolar eval_residue_pair_derivatives() appears off -- set your minimizer to use_nblist and *also* nblist_auto_update to use eval_atom_derivative instead.\n",
      "\u001b[0mcore.scoring.methods.LK_PolarNonPolarEnergy: \u001b[0mlk_nonpolar eval_residue_pair_derivatives() appears off -- set your minimizer to use_nblist and *also* nblist_auto_update to use eval_atom_derivative instead.\n",
      "\u001b[0mcore.scoring.methods.LK_PolarNonPolarEnergy: \u001b[0mlk_nonpolar eval_residue_pair_derivatives() appears off -- set your minimizer to use_nblist and *also* nblist_auto_update to use eval_atom_derivative instead.\n",
      "\u001b[0mcore.scoring.methods.LK_PolarNonPolarEnergy: \u001b[0mlk_nonpolar eval_residue_pair_derivatives() appears off -- set your minimizer to use_nblist and *also* nblist_auto_update to use eval_atom_derivative instead.\n",
      "\u001b[0mcore.scoring.methods.LK_PolarNonPolarEnergy: \u001b[0mlk_nonpolar eval_residue_pair_derivatives() appears off -- set your minimizer to use_nblist and *also* nblist_auto_update to use eval_atom_derivative instead.\n",
      "\u001b[0mcore.scoring.methods.LK_PolarNonPolarEnergy: \u001b[0mlk_nonpolar eval_residue_pair_derivatives() appears off -- set your minimizer to use_nblist and *also* nblist_auto_update to use eval_atom_derivative instead.\n",
      "\u001b[0mcore.scoring.methods.LK_PolarNonPolarEnergy: \u001b[0mlk_nonpolar eval_residue_pair_derivatives() appears off -- set your minimizer to use_nblist and *also* nblist_auto_update to use eval_atom_derivative instead.\n",
      "\u001b[0mcore.scoring.methods.LK_PolarNonPolarEnergy: \u001b[0mlk_nonpolar eval_residue_pair_derivatives() appears off -- set your minimizer to use_nblist and *also* nblist_auto_update to use eval_atom_derivative instead.\n",
      "\u001b[0mcore.scoring.methods.LK_PolarNonPolarEnergy: \u001b[0mlk_nonpolar eval_residue_pair_derivatives() appears off -- set your minimizer to use_nblist and *also* nblist_auto_update to use eval_atom_derivative instead.\n",
      "\u001b[0mcore.scoring.methods.LK_PolarNonPolarEnergy: \u001b[0mlk_nonpolar eval_residue_pair_derivatives() appears off -- set your minimizer to use_nblist and *also* nblist_auto_update to use eval_atom_derivative instead.\n",
      "\u001b[0mcore.scoring.methods.LK_PolarNonPolarEnergy: \u001b[0mlk_nonpolar eval_residue_pair_derivatives() appears off -- set your minimizer to use_nblist and *also* nblist_auto_update to use eval_atom_derivative instead.\n",
      "\u001b[0mcore.scoring.methods.LK_PolarNonPolarEnergy: \u001b[0mlk_nonpolar eval_residue_pair_derivatives() appears off -- set your minimizer to use_nblist and *also* nblist_auto_update to use eval_atom_derivative instead.\n",
      "\u001b[0mcore.scoring.methods.LK_PolarNonPolarEnergy: \u001b[0mlk_nonpolar eval_residue_pair_derivatives() appears off -- set your minimizer to use_nblist and *also* nblist_auto_update to use eval_atom_derivative instead.\n",
      "\u001b[0mcore.scoring.methods.LK_PolarNonPolarEnergy: \u001b[0mlk_nonpolar eval_residue_pair_derivatives() appears off -- set your minimizer to use_nblist and *also* nblist_auto_update to use eval_atom_derivative instead.\n",
      "\u001b[0mcore.scoring.methods.LK_PolarNonPolarEnergy: \u001b[0mlk_nonpolar eval_residue_pair_derivatives() appears off -- set your minimizer to use_nblist and *also* nblist_auto_update to use eval_atom_derivative instead.\n",
      "\u001b[0mcore.scoring.methods.LK_PolarNonPolarEnergy: \u001b[0mlk_nonpolar eval_residue_pair_derivatives() appears off -- set your minimizer to use_nblist and *also* nblist_auto_update to use eval_atom_derivative instead.\n",
      "\u001b[0mcore.scoring.methods.LK_PolarNonPolarEnergy: \u001b[0mlk_nonpolar eval_residue_pair_derivatives() appears off -- set your minimizer to use_nblist and *also* nblist_auto_update to use eval_atom_derivative instead.\n"
     ]
    },
    {
     "name": "stdout",
     "output_type": "stream",
     "text": [
      "\u001b[0mcore.scoring.methods.LK_PolarNonPolarEnergy: \u001b[0mlk_nonpolar eval_residue_pair_derivatives() appears off -- set your minimizer to use_nblist and *also* nblist_auto_update to use eval_atom_derivative instead.\n",
      "\u001b[0mcore.scoring.methods.LK_PolarNonPolarEnergy: \u001b[0mlk_nonpolar eval_residue_pair_derivatives() appears off -- set your minimizer to use_nblist and *also* nblist_auto_update to use eval_atom_derivative instead.\n",
      "\u001b[0mcore.scoring.methods.LK_PolarNonPolarEnergy: \u001b[0mlk_nonpolar eval_residue_pair_derivatives() appears off -- set your minimizer to use_nblist and *also* nblist_auto_update to use eval_atom_derivative instead.\n",
      "\u001b[0mcore.scoring.methods.LK_PolarNonPolarEnergy: \u001b[0mlk_nonpolar eval_residue_pair_derivatives() appears off -- set your minimizer to use_nblist and *also* nblist_auto_update to use eval_atom_derivative instead.\n",
      "\u001b[0mcore.scoring.methods.LK_PolarNonPolarEnergy: \u001b[0mlk_nonpolar eval_residue_pair_derivatives() appears off -- set your minimizer to use_nblist and *also* nblist_auto_update to use eval_atom_derivative instead.\n",
      "\u001b[0mcore.scoring.methods.LK_PolarNonPolarEnergy: \u001b[0mlk_nonpolar eval_residue_pair_derivatives() appears off -- set your minimizer to use_nblist and *also* nblist_auto_update to use eval_atom_derivative instead.\n",
      "\u001b[0mcore.scoring.methods.LK_PolarNonPolarEnergy: \u001b[0mlk_nonpolar eval_residue_pair_derivatives() appears off -- set your minimizer to use_nblist and *also* nblist_auto_update to use eval_atom_derivative instead.\n",
      "\u001b[0mcore.scoring.methods.LK_PolarNonPolarEnergy: \u001b[0mlk_nonpolar eval_residue_pair_derivatives() appears off -- set your minimizer to use_nblist and *also* nblist_auto_update to use eval_atom_derivative instead.\n",
      "\u001b[0mcore.scoring.methods.LK_PolarNonPolarEnergy: \u001b[0mlk_nonpolar eval_residue_pair_derivatives() appears off -- set your minimizer to use_nblist and *also* nblist_auto_update to use eval_atom_derivative instead.\n",
      "\u001b[0mcore.scoring.methods.LK_PolarNonPolarEnergy: \u001b[0mlk_nonpolar eval_residue_pair_derivatives() appears off -- set your minimizer to use_nblist and *also* nblist_auto_update to use eval_atom_derivative instead.\n",
      "\u001b[0mcore.scoring.methods.LK_PolarNonPolarEnergy: \u001b[0mlk_nonpolar eval_residue_pair_derivatives() appears off -- set your minimizer to use_nblist and *also* nblist_auto_update to use eval_atom_derivative instead.\n",
      "\u001b[0mcore.scoring.methods.LK_PolarNonPolarEnergy: \u001b[0mlk_nonpolar eval_residue_pair_derivatives() appears off -- set your minimizer to use_nblist and *also* nblist_auto_update to use eval_atom_derivative instead.\n",
      "\u001b[0mcore.scoring.methods.LK_PolarNonPolarEnergy: \u001b[0mlk_nonpolar eval_residue_pair_derivatives() appears off -- set your minimizer to use_nblist and *also* nblist_auto_update to use eval_atom_derivative instead.\n",
      "\u001b[0mcore.scoring.methods.LK_PolarNonPolarEnergy: \u001b[0mlk_nonpolar eval_residue_pair_derivatives() appears off -- set your minimizer to use_nblist and *also* nblist_auto_update to use eval_atom_derivative instead.\n",
      "\u001b[0mcore.scoring.methods.LK_PolarNonPolarEnergy: \u001b[0mlk_nonpolar eval_residue_pair_derivatives() appears off -- set your minimizer to use_nblist and *also* nblist_auto_update to use eval_atom_derivative instead.\n",
      "\u001b[0mcore.scoring.methods.LK_PolarNonPolarEnergy: \u001b[0mlk_nonpolar eval_residue_pair_derivatives() appears off -- set your minimizer to use_nblist and *also* nblist_auto_update to use eval_atom_derivative instead.\n",
      "\u001b[0mcore.scoring.methods.LK_PolarNonPolarEnergy: \u001b[0mlk_nonpolar eval_residue_pair_derivatives() appears off -- set your minimizer to use_nblist and *also* nblist_auto_update to use eval_atom_derivative instead.\n",
      "\u001b[0mcore.scoring.methods.LK_PolarNonPolarEnergy: \u001b[0mlk_nonpolar eval_residue_pair_derivatives() appears off -- set your minimizer to use_nblist and *also* nblist_auto_update to use eval_atom_derivative instead.\n",
      "\u001b[0mcore.scoring.methods.LK_PolarNonPolarEnergy: \u001b[0mlk_nonpolar eval_residue_pair_derivatives() appears off -- set your minimizer to use_nblist and *also* nblist_auto_update to use eval_atom_derivative instead.\n",
      "\u001b[0mcore.scoring.methods.LK_PolarNonPolarEnergy: \u001b[0mlk_nonpolar eval_residue_pair_derivatives() appears off -- set your minimizer to use_nblist and *also* nblist_auto_update to use eval_atom_derivative instead.\n",
      "\u001b[0mcore.scoring.methods.LK_PolarNonPolarEnergy: \u001b[0mlk_nonpolar eval_residue_pair_derivatives() appears off -- set your minimizer to use_nblist and *also* nblist_auto_update to use eval_atom_derivative instead.\n",
      "\u001b[0mcore.scoring.methods.LK_PolarNonPolarEnergy: \u001b[0mlk_nonpolar eval_residue_pair_derivatives() appears off -- set your minimizer to use_nblist and *also* nblist_auto_update to use eval_atom_derivative instead.\n",
      "\u001b[0mcore.scoring.methods.LK_PolarNonPolarEnergy: \u001b[0mlk_nonpolar eval_residue_pair_derivatives() appears off -- set your minimizer to use_nblist and *also* nblist_auto_update to use eval_atom_derivative instead.\n",
      "\u001b[0mcore.scoring.methods.LK_PolarNonPolarEnergy: \u001b[0mlk_nonpolar eval_residue_pair_derivatives() appears off -- set your minimizer to use_nblist and *also* nblist_auto_update to use eval_atom_derivative instead.\n",
      "\u001b[0mcore.scoring.methods.LK_PolarNonPolarEnergy: \u001b[0mlk_nonpolar eval_residue_pair_derivatives() appears off -- set your minimizer to use_nblist and *also* nblist_auto_update to use eval_atom_derivative instead.\n",
      "\u001b[0mcore.scoring.methods.LK_PolarNonPolarEnergy: \u001b[0mlk_nonpolar eval_residue_pair_derivatives() appears off -- set your minimizer to use_nblist and *also* nblist_auto_update to use eval_atom_derivative instead.\n",
      "\u001b[0mcore.scoring.methods.LK_PolarNonPolarEnergy: \u001b[0mlk_nonpolar eval_residue_pair_derivatives() appears off -- set your minimizer to use_nblist and *also* nblist_auto_update to use eval_atom_derivative instead.\n",
      "\u001b[0mcore.scoring.methods.LK_PolarNonPolarEnergy: \u001b[0mlk_nonpolar eval_residue_pair_derivatives() appears off -- set your minimizer to use_nblist and *also* nblist_auto_update to use eval_atom_derivative instead.\n",
      "\u001b[0mcore.scoring.methods.LK_PolarNonPolarEnergy: \u001b[0mlk_nonpolar eval_residue_pair_derivatives() appears off -- set your minimizer to use_nblist and *also* nblist_auto_update to use eval_atom_derivative instead.\n",
      "\u001b[0mcore.scoring.methods.LK_PolarNonPolarEnergy: \u001b[0mlk_nonpolar eval_residue_pair_derivatives() appears off -- set your minimizer to use_nblist and *also* nblist_auto_update to use eval_atom_derivative instead.\n",
      "\u001b[0mcore.scoring.methods.LK_PolarNonPolarEnergy: \u001b[0mlk_nonpolar eval_residue_pair_derivatives() appears off -- set your minimizer to use_nblist and *also* nblist_auto_update to use eval_atom_derivative instead.\n",
      "\u001b[0mcore.scoring.methods.LK_PolarNonPolarEnergy: \u001b[0mlk_nonpolar eval_residue_pair_derivatives() appears off -- set your minimizer to use_nblist and *also* nblist_auto_update to use eval_atom_derivative instead.\n",
      "\u001b[0mcore.scoring.methods.LK_PolarNonPolarEnergy: \u001b[0mlk_nonpolar eval_residue_pair_derivatives() appears off -- set your minimizer to use_nblist and *also* nblist_auto_update to use eval_atom_derivative instead.\n",
      "\u001b[0mcore.scoring.methods.LK_PolarNonPolarEnergy: \u001b[0mlk_nonpolar eval_residue_pair_derivatives() appears off -- set your minimizer to use_nblist and *also* nblist_auto_update to use eval_atom_derivative instead.\n",
      "\u001b[0mcore.scoring.methods.LK_PolarNonPolarEnergy: \u001b[0mlk_nonpolar eval_residue_pair_derivatives() appears off -- set your minimizer to use_nblist and *also* nblist_auto_update to use eval_atom_derivative instead.\n",
      "\u001b[0mcore.scoring.methods.LK_PolarNonPolarEnergy: \u001b[0mlk_nonpolar eval_residue_pair_derivatives() appears off -- set your minimizer to use_nblist and *also* nblist_auto_update to use eval_atom_derivative instead.\n",
      "\u001b[0mcore.scoring.methods.LK_PolarNonPolarEnergy: \u001b[0mlk_nonpolar eval_residue_pair_derivatives() appears off -- set your minimizer to use_nblist and *also* nblist_auto_update to use eval_atom_derivative instead.\n",
      "\u001b[0mcore.scoring.methods.LK_PolarNonPolarEnergy: \u001b[0mlk_nonpolar eval_residue_pair_derivatives() appears off -- set your minimizer to use_nblist and *also* nblist_auto_update to use eval_atom_derivative instead.\n",
      "\u001b[0mcore.scoring.methods.LK_PolarNonPolarEnergy: \u001b[0mlk_nonpolar eval_residue_pair_derivatives() appears off -- set your minimizer to use_nblist and *also* nblist_auto_update to use eval_atom_derivative instead.\n"
     ]
    },
    {
     "name": "stdout",
     "output_type": "stream",
     "text": [
      "\u001b[0mcore.scoring.methods.LK_PolarNonPolarEnergy: \u001b[0mlk_nonpolar eval_residue_pair_derivatives() appears off -- set your minimizer to use_nblist and *also* nblist_auto_update to use eval_atom_derivative instead.\n",
      "\u001b[0mcore.scoring.methods.LK_PolarNonPolarEnergy: \u001b[0mlk_nonpolar eval_residue_pair_derivatives() appears off -- set your minimizer to use_nblist and *also* nblist_auto_update to use eval_atom_derivative instead.\n",
      "\u001b[0mcore.scoring.methods.LK_PolarNonPolarEnergy: \u001b[0mlk_nonpolar eval_residue_pair_derivatives() appears off -- set your minimizer to use_nblist and *also* nblist_auto_update to use eval_atom_derivative instead.\n",
      "\u001b[0mcore.scoring.methods.LK_PolarNonPolarEnergy: \u001b[0mlk_nonpolar eval_residue_pair_derivatives() appears off -- set your minimizer to use_nblist and *also* nblist_auto_update to use eval_atom_derivative instead.\n",
      "\u001b[0mcore.scoring.methods.LK_PolarNonPolarEnergy: \u001b[0mlk_nonpolar eval_residue_pair_derivatives() appears off -- set your minimizer to use_nblist and *also* nblist_auto_update to use eval_atom_derivative instead.\n",
      "\u001b[0mcore.scoring.methods.LK_PolarNonPolarEnergy: \u001b[0mlk_nonpolar eval_residue_pair_derivatives() appears off -- set your minimizer to use_nblist and *also* nblist_auto_update to use eval_atom_derivative instead.\n",
      "\u001b[0mcore.scoring.methods.LK_PolarNonPolarEnergy: \u001b[0mlk_nonpolar eval_residue_pair_derivatives() appears off -- set your minimizer to use_nblist and *also* nblist_auto_update to use eval_atom_derivative instead.\n",
      "\u001b[0mcore.scoring.methods.LK_PolarNonPolarEnergy: \u001b[0mlk_nonpolar eval_residue_pair_derivatives() appears off -- set your minimizer to use_nblist and *also* nblist_auto_update to use eval_atom_derivative instead.\n",
      "\u001b[0mcore.scoring.methods.LK_PolarNonPolarEnergy: \u001b[0mlk_nonpolar eval_residue_pair_derivatives() appears off -- set your minimizer to use_nblist and *also* nblist_auto_update to use eval_atom_derivative instead.\n",
      "\u001b[0mcore.scoring.methods.LK_PolarNonPolarEnergy: \u001b[0mlk_nonpolar eval_residue_pair_derivatives() appears off -- set your minimizer to use_nblist and *also* nblist_auto_update to use eval_atom_derivative instead.\n",
      "\u001b[0mcore.scoring.methods.LK_PolarNonPolarEnergy: \u001b[0mlk_nonpolar eval_residue_pair_derivatives() appears off -- set your minimizer to use_nblist and *also* nblist_auto_update to use eval_atom_derivative instead.\n",
      "\u001b[0mcore.scoring.methods.LK_PolarNonPolarEnergy: \u001b[0mlk_nonpolar eval_residue_pair_derivatives() appears off -- set your minimizer to use_nblist and *also* nblist_auto_update to use eval_atom_derivative instead.\n",
      "\u001b[0mcore.scoring.methods.LK_PolarNonPolarEnergy: \u001b[0mlk_nonpolar eval_residue_pair_derivatives() appears off -- set your minimizer to use_nblist and *also* nblist_auto_update to use eval_atom_derivative instead.\n",
      "\u001b[0mcore.scoring.methods.LK_PolarNonPolarEnergy: \u001b[0mlk_nonpolar eval_residue_pair_derivatives() appears off -- set your minimizer to use_nblist and *also* nblist_auto_update to use eval_atom_derivative instead.\n",
      "\u001b[0mcore.scoring.methods.LK_PolarNonPolarEnergy: \u001b[0mlk_nonpolar eval_residue_pair_derivatives() appears off -- set your minimizer to use_nblist and *also* nblist_auto_update to use eval_atom_derivative instead.\n",
      "\u001b[0mcore.scoring.methods.LK_PolarNonPolarEnergy: \u001b[0mlk_nonpolar eval_residue_pair_derivatives() appears off -- set your minimizer to use_nblist and *also* nblist_auto_update to use eval_atom_derivative instead.\n",
      "\u001b[0mcore.scoring.methods.LK_PolarNonPolarEnergy: \u001b[0mlk_nonpolar eval_residue_pair_derivatives() appears off -- set your minimizer to use_nblist and *also* nblist_auto_update to use eval_atom_derivative instead.\n",
      "\u001b[0mcore.scoring.methods.LK_PolarNonPolarEnergy: \u001b[0mlk_nonpolar eval_residue_pair_derivatives() appears off -- set your minimizer to use_nblist and *also* nblist_auto_update to use eval_atom_derivative instead.\n",
      "\u001b[0mcore.scoring.methods.LK_PolarNonPolarEnergy: \u001b[0mlk_nonpolar eval_residue_pair_derivatives() appears off -- set your minimizer to use_nblist and *also* nblist_auto_update to use eval_atom_derivative instead.\n",
      "\u001b[0mcore.scoring.methods.LK_PolarNonPolarEnergy: \u001b[0mlk_nonpolar eval_residue_pair_derivatives() appears off -- set your minimizer to use_nblist and *also* nblist_auto_update to use eval_atom_derivative instead.\n",
      "\u001b[0mcore.scoring.methods.LK_PolarNonPolarEnergy: \u001b[0mlk_nonpolar eval_residue_pair_derivatives() appears off -- set your minimizer to use_nblist and *also* nblist_auto_update to use eval_atom_derivative instead.\n",
      "\u001b[0mcore.scoring.methods.LK_PolarNonPolarEnergy: \u001b[0mlk_nonpolar eval_residue_pair_derivatives() appears off -- set your minimizer to use_nblist and *also* nblist_auto_update to use eval_atom_derivative instead.\n",
      "\u001b[0mcore.scoring.methods.LK_PolarNonPolarEnergy: \u001b[0mlk_nonpolar eval_residue_pair_derivatives() appears off -- set your minimizer to use_nblist and *also* nblist_auto_update to use eval_atom_derivative instead.\n",
      "\u001b[0mcore.scoring.methods.LK_PolarNonPolarEnergy: \u001b[0mlk_nonpolar eval_residue_pair_derivatives() appears off -- set your minimizer to use_nblist and *also* nblist_auto_update to use eval_atom_derivative instead.\n",
      "\u001b[0mcore.scoring.methods.LK_PolarNonPolarEnergy: \u001b[0mlk_nonpolar eval_residue_pair_derivatives() appears off -- set your minimizer to use_nblist and *also* nblist_auto_update to use eval_atom_derivative instead.\n",
      "\u001b[0mcore.scoring.methods.LK_PolarNonPolarEnergy: \u001b[0mlk_nonpolar eval_residue_pair_derivatives() appears off -- set your minimizer to use_nblist and *also* nblist_auto_update to use eval_atom_derivative instead.\n",
      "\u001b[0mcore.scoring.methods.LK_PolarNonPolarEnergy: \u001b[0mlk_nonpolar eval_residue_pair_derivatives() appears off -- set your minimizer to use_nblist and *also* nblist_auto_update to use eval_atom_derivative instead.\n",
      "\u001b[0mcore.scoring.methods.LK_PolarNonPolarEnergy: \u001b[0mlk_nonpolar eval_residue_pair_derivatives() appears off -- set your minimizer to use_nblist and *also* nblist_auto_update to use eval_atom_derivative instead.\n",
      "\u001b[0mcore.scoring.methods.LK_PolarNonPolarEnergy: \u001b[0mlk_nonpolar eval_residue_pair_derivatives() appears off -- set your minimizer to use_nblist and *also* nblist_auto_update to use eval_atom_derivative instead.\n",
      "\u001b[0mcore.scoring.methods.LK_PolarNonPolarEnergy: \u001b[0mlk_nonpolar eval_residue_pair_derivatives() appears off -- set your minimizer to use_nblist and *also* nblist_auto_update to use eval_atom_derivative instead.\n",
      "\u001b[0mcore.scoring.methods.LK_PolarNonPolarEnergy: \u001b[0mlk_nonpolar eval_residue_pair_derivatives() appears off -- set your minimizer to use_nblist and *also* nblist_auto_update to use eval_atom_derivative instead.\n",
      "\u001b[0mcore.scoring.methods.LK_PolarNonPolarEnergy: \u001b[0mlk_nonpolar eval_residue_pair_derivatives() appears off -- set your minimizer to use_nblist and *also* nblist_auto_update to use eval_atom_derivative instead.\n",
      "\u001b[0mcore.scoring.methods.LK_PolarNonPolarEnergy: \u001b[0mlk_nonpolar eval_residue_pair_derivatives() appears off -- set your minimizer to use_nblist and *also* nblist_auto_update to use eval_atom_derivative instead.\n",
      "\u001b[0mcore.scoring.methods.LK_PolarNonPolarEnergy: \u001b[0mlk_nonpolar eval_residue_pair_derivatives() appears off -- set your minimizer to use_nblist and *also* nblist_auto_update to use eval_atom_derivative instead.\n",
      "\u001b[0mcore.scoring.methods.LK_PolarNonPolarEnergy: \u001b[0mlk_nonpolar eval_residue_pair_derivatives() appears off -- set your minimizer to use_nblist and *also* nblist_auto_update to use eval_atom_derivative instead.\n",
      "\u001b[0mcore.scoring.methods.LK_PolarNonPolarEnergy: \u001b[0mlk_nonpolar eval_residue_pair_derivatives() appears off -- set your minimizer to use_nblist and *also* nblist_auto_update to use eval_atom_derivative instead.\n",
      "\u001b[0mcore.scoring.methods.LK_PolarNonPolarEnergy: \u001b[0mlk_nonpolar eval_residue_pair_derivatives() appears off -- set your minimizer to use_nblist and *also* nblist_auto_update to use eval_atom_derivative instead.\n"
     ]
    }
   ],
   "source": [
    "# use mm object to get stuff \n",
    "seq1, seq2 = 'gu', 'ac'\n",
    "mm_sim = MiningMinima(seq1,seq2, scorefxn='stepwise/rna/turner_new')"
   ]
  },
  {
   "cell_type": "code",
   "execution_count": 149,
   "metadata": {},
   "outputs": [
    {
     "name": "stdout",
     "output_type": "stream",
     "text": [
      "[[  271.03730828   152.75422333   220.48632882  -382.44370279\n",
      "   -230.70344668  -474.86201769   452.29543946  -372.7092082    717.83279048\n",
      "    -74.09200207   454.12586076  -274.26136196  -297.76024898\n",
      "   -158.20608163]\n",
      " [  152.75422333   190.32490229   148.25677896  -320.23861679\n",
      "   -123.86840389  -396.70920366   308.13271514  -310.20986909\n",
      "    464.02539916   -54.69027674   305.62185859  -230.5808824   -201.77059001\n",
      "   -151.75206668]\n",
      " [  220.48632882   148.25677896   612.33941234  -351.6215804    551.00400445\n",
      "   -527.39564166   748.0436637   -316.29030361   538.57414631   397.4592708\n",
      "    774.18565683    84.79929739  -123.66441317   -20.28943034]\n",
      " [ -382.44370279  -320.23861679  -351.6215804   1203.61788451\n",
      "    404.90582504  1344.95819205  -853.66728695  1098.62902654\n",
      "  -1328.30461733    70.072697    -819.92011082   648.24491569\n",
      "    618.63808962   394.87833317]\n",
      " [ -230.70344668  -123.86840389   551.00400445   404.90582504\n",
      "   1810.90272389   343.50890843    63.65579215   447.77626239\n",
      "  -1161.51427754   882.69888526    98.15960595   833.34050257\n",
      "    611.85695417   317.07582514]\n",
      " [ -474.86201769  -396.70920366  -527.39564166  1344.95819205\n",
      "    343.50890843  1648.10118989 -1190.36574169  1263.18319574 -1682.9935858\n",
      "   -136.76491573 -1145.91105774   610.09635843   778.39684248\n",
      "    399.86581118]\n",
      " [  452.29543946   308.13271514   748.0436637   -853.66728695\n",
      "     63.65579215 -1190.36574169  1430.89698391  -817.09628685\n",
      "   1636.58862495   505.36456822  1410.79391089   -49.36474058\n",
      "   -613.31087876   -58.3168854 ]\n",
      " [ -372.7092082   -310.20986909  -316.29030361  1098.62902654\n",
      "    447.77626239  1263.18319574  -817.09628685  1048.66375253\n",
      "  -1309.61659549    98.6718416   -783.82327819   621.73763213   611.7976792\n",
      "    370.05049207]\n",
      " [  717.83279048   464.02539916   538.57414631 -1328.30461733\n",
      "  -1161.51427754 -1682.9935858   1636.58862495 -1309.61659549\n",
      "   2768.38383725   -47.08594005  1599.35560414  -685.4499728  -1177.79164087\n",
      "   -314.45972122]\n",
      " [  -74.09200207   -54.69027674   397.4592708     70.072697     882.69888526\n",
      "   -136.76491573   505.36456822    98.6718416    -47.08594005\n",
      "   1060.79814192   477.71968779   863.08555468    30.37970102\n",
      "    410.91958725]\n",
      " [  454.12586076   305.62185859   774.18565683  -819.92011082\n",
      "     98.15960595 -1145.91105774  1410.79391089  -783.82327819\n",
      "   1599.35560414   477.71968779  1439.21844573   -67.0817491   -546.8226858\n",
      "    -78.24191893]\n",
      " [ -274.26136196  -230.5808824     84.79929739   648.24491569\n",
      "    833.34050257   610.09635843   -49.36474058   621.73763213  -685.4499728\n",
      "    863.08555468   -67.0817491   1092.68402805   307.39995939\n",
      "    609.21631532]\n",
      " [ -297.76024898  -201.77059001  -123.66441317   618.63808962\n",
      "    611.85695417   778.39684248  -613.31087876   611.7976792  -1177.79164087\n",
      "     30.37970102  -546.8226858    307.39995939   669.90907179\n",
      "    118.24785037]\n",
      " [ -158.20608163  -151.75206668   -20.28943034   394.87833317\n",
      "    317.07582514   399.86581118   -58.3168854    370.05049207\n",
      "   -314.45972122   410.91958725   -78.24191893   609.21631532\n",
      "    118.24785037   426.13012615]]\n"
     ]
    }
   ],
   "source": [
    "print mm_sim.hessian"
   ]
  },
  {
   "cell_type": "code",
   "execution_count": 150,
   "metadata": {},
   "outputs": [
    {
     "name": "stdout",
     "output_type": "stream",
     "text": [
      "\u001b[0mcore.optimization.LineMinimizer: \u001b[0m\u001b[31m\u001b[1m[ ERROR ]\u001b[0m \u001b[31mInaccurate G! step= 3.8147e-06 Deriv= -1.28811e-06 Finite Diff= 2.36407e-05\u001b[0m\n",
      "vector1_double[0.00900049, -0.0108511, 0.508341, 0.127194, 1.44677, 0.0875665, 0.0751857, 0.234903, -1.0523, 0.715689, 0.184871, 0.507325, 0.683579, 0.021142]\n"
     ]
    }
   ],
   "source": [
    "# get pose and scorefxn \n",
    "pose = protocols.recces.pose_setup_turner(seq1=seq1,seq2=seq2)\n",
    "scorefxn = core.scoring.ScoreFunctionFactory.create_score_function('stepwise/rna/turner_new')\n",
    "\n",
    "# set up movemap -- for now just get from the MM object -- and min map\n",
    "movemap = MoveMap()\n",
    "movemap.assign(mm_sim.movemap)  \n",
    "min_map = core.optimization.MinimizerMap()\n",
    "min_map.setup(pose,movemap)\n",
    "\n",
    "# set up min options\n",
    "min_options = core.optimization.MinimizerOptions(\n",
    "    'lbfgs_armijo_nonmonotone',1e-15,True,False,False)\n",
    "min_options.nblist_auto_update(True)\n",
    "# get scorefunction ready for minimization\n",
    "start_score = scorefxn(pose)\n",
    "pose.energies().set_use_nblist(pose,min_map.domain_map(),True)\n",
    "multifunc = core.optimization.AtomTreeMultifunc(pose,min_map,scorefxn)\n",
    "scorefxn.setup_for_minimizing(pose,min_map) # this is the key command\n",
    "scorefxn.setup_for_derivatives(pose)\n",
    "\n",
    "min_dofs = Vector1([0.0]*min_map.nangles())\n",
    "min_map.copy_dofs_from_pose(pose,min_dofs)\n",
    "start_func_val = multifunc(min_dofs)\n",
    "theta = Vector1(list(min_dofs))\n",
    "dE_dtheta = Vector1(list(min_dofs))\n",
    "multifunc.dfunc(theta,dE_dtheta)\n",
    "\n",
    "# set up minimizer and run\n",
    "minimizer = core.optimization.Minimizer(multifunc,min_options)\n",
    "for _ in range(1): minimizer.run(min_dofs)\n",
    "print dE_dtheta"
   ]
  },
  {
   "cell_type": "code",
   "execution_count": 177,
   "metadata": {},
   "outputs": [],
   "source": [
    "multifunc.dfunc(min_dofs, dE_dtheta)"
   ]
  },
  {
   "cell_type": "code",
   "execution_count": 178,
   "metadata": {},
   "outputs": [
    {
     "data": {
      "text/plain": [
       "-36.155681430021986"
      ]
     },
     "execution_count": 178,
     "metadata": {},
     "output_type": "execute_result"
    }
   ],
   "source": [
    "multifunc(min_dofs)"
   ]
  },
  {
   "cell_type": "markdown",
   "metadata": {},
   "source": [
    "# Developing subroutine to calculate hessian from derivative evaluations"
   ]
  },
  {
   "cell_type": "code",
   "execution_count": 153,
   "metadata": {},
   "outputs": [],
   "source": [
    "def hessian_at_min(min_dofs,multifunc,h=1e-3):\n",
    "    min_dofs = np.array(min_dofs) # take advantage of numpy array indexing\n",
    "    n_dofs = len(min_dofs)\n",
    "    hessian = np.zeros((n_dofs,n_dofs))\n",
    "    plus = Vector1([0.0]*n_dofs)\n",
    "    minus = Vector1(list(plus))\n",
    "    \n",
    "    for ii in range(n_dofs):\n",
    "        new_dofs = min_dofs[:]\n",
    "        new_dofs[ii] += h*180./np.pi\n",
    "        multifunc.dfunc(Vector1(list(new_dofs)),plus)\n",
    "        new_dofs[ii] -= 2.*h*180/np.pi\n",
    "        multifunc.dfunc(Vector1(list(new_dofs)),minus)\n",
    "        row = (np.array(plus) - np.array(minus))/2./h\n",
    "        hessian[ii] = row*(180./np.pi) # need to figure out conversion\n",
    "    \n",
    "    return 0.5*(hessian + hessian.T) # enforce symmetry"
   ]
  },
  {
   "cell_type": "code",
   "execution_count": 154,
   "metadata": {
    "scrolled": true
   },
   "outputs": [
    {
     "name": "stdout",
     "output_type": "stream",
     "text": [
      "\u001b[0mcore.optimization.LineMinimizer: \u001b[0m\u001b[31m\u001b[1m[ ERROR ]\u001b[0m \u001b[31mInaccurate G! step= 3.8147e-08 Deriv= -1.28811e-06 Finite Diff= 0.00214837\u001b[0m\n",
      "-36.15568143\n",
      "\u001b[0mcore.optimization.LineMinimizer: \u001b[0m\u001b[31m\u001b[1m[ ERROR ]\u001b[0m \u001b[31mInaccurate G! step= 3.8147e-08 Deriv= -1.28811e-06 Finite Diff= 0.00214837\u001b[0m\n",
      "-36.15568143\n",
      "\u001b[0mcore.optimization.LineMinimizer: \u001b[0m\u001b[31m\u001b[1m[ ERROR ]\u001b[0m \u001b[31mInaccurate G! step= 3.8147e-08 Deriv= -1.28811e-06 Finite Diff= 0.00214837\u001b[0m\n",
      "-36.15568143\n",
      "\u001b[0mcore.optimization.LineMinimizer: \u001b[0m\u001b[31m\u001b[1m[ ERROR ]\u001b[0m \u001b[31mInaccurate G! step= 3.8147e-08 Deriv= -1.28811e-06 Finite Diff= 0.00214837\u001b[0m\n",
      "-36.15568143\n",
      "\u001b[0mcore.optimization.LineMinimizer: \u001b[0m\u001b[31m\u001b[1m[ ERROR ]\u001b[0m \u001b[31mInaccurate G! step= 3.8147e-08 Deriv= -1.28811e-06 Finite Diff= 0.00214837\u001b[0m\n",
      "-36.15568143\n",
      "\u001b[0mcore.optimization.LineMinimizer: \u001b[0m\u001b[31m\u001b[1m[ ERROR ]\u001b[0m \u001b[31mInaccurate G! step= 3.8147e-08 Deriv= -1.28811e-06 Finite Diff= 0.00214837\u001b[0m\n",
      "-36.15568143\n",
      "\u001b[0mcore.optimization.LineMinimizer: \u001b[0m\u001b[31m\u001b[1m[ ERROR ]\u001b[0m \u001b[31mInaccurate G! step= 3.8147e-08 Deriv= -1.28811e-06 Finite Diff= 0.00214837\u001b[0m\n",
      "-36.15568143\n",
      "\u001b[0mcore.optimization.LineMinimizer: \u001b[0m\u001b[31m\u001b[1m[ ERROR ]\u001b[0m \u001b[31mInaccurate G! step= 3.8147e-08 Deriv= -1.28811e-06 Finite Diff= 0.00214837\u001b[0m\n",
      "-36.15568143\n",
      "\u001b[0mcore.optimization.LineMinimizer: \u001b[0m\u001b[31m\u001b[1m[ ERROR ]\u001b[0m \u001b[31mInaccurate G! step= 3.8147e-08 Deriv= -1.28811e-06 Finite Diff= 0.00214837\u001b[0m\n",
      "-36.15568143\n",
      "\u001b[0mcore.optimization.LineMinimizer: \u001b[0m\u001b[31m\u001b[1m[ ERROR ]\u001b[0m \u001b[31mInaccurate G! step= 3.8147e-08 Deriv= -1.28811e-06 Finite Diff= 0.00214837\u001b[0m\n",
      "-36.15568143\n"
     ]
    }
   ],
   "source": [
    "for _ in range(10):\n",
    "    minimizer.run(min_dofs)\n",
    "    print multifunc(min_dofs)"
   ]
  },
  {
   "cell_type": "code",
   "execution_count": 155,
   "metadata": {},
   "outputs": [],
   "source": [
    "hessian = hessian_at_min(min_dofs,multifunc)"
   ]
  },
  {
   "cell_type": "code",
   "execution_count": 156,
   "metadata": {},
   "outputs": [
    {
     "name": "stdout",
     "output_type": "stream",
     "text": [
      "[[  280.84561878   141.45278405   236.43882209  -387.67982109\n",
      "   -261.10294935  -475.16588639   490.74651555  -377.61758113\n",
      "    771.42099189   -67.96877135   496.09158765  -266.69141209\n",
      "   -330.31423237  -150.56319148]\n",
      " [  141.45278405   166.49298057   129.95397646  -281.41552912\n",
      "   -146.61542519  -357.70564675   274.15573672  -276.00423172\n",
      "    441.13656363   -55.79971785   275.03932736  -218.63481332\n",
      "   -201.77800531  -148.38007293]\n",
      " [  236.43882209   129.95397646   622.52738462  -317.64503888\n",
      "    503.82908376  -502.76130365   760.02728149  -289.48647666\n",
      "    570.14950886   424.93459295   760.46922312   123.80568224\n",
      "   -158.37563029     5.97703709]\n",
      " [ -387.67982109  -281.41552912  -317.64503888  1250.86071913\n",
      "    538.81691757  1399.8392569   -875.62000033  1159.27403882\n",
      "  -1429.74128818    43.10417562  -855.37483538   647.74760414\n",
      "    695.70981695   386.57468579]\n",
      " [ -261.10294935  -146.61542519   503.82908376   538.81691757\n",
      "   1814.65905493   444.07219587   -54.28283783   563.40950701\n",
      "  -1287.49950237   940.15144747   -89.08485004   932.29651923\n",
      "    666.00049511   380.16956421]\n",
      " [ -475.16588639  -357.70564675  -502.76130365  1399.8392569    444.07219587\n",
      "   1673.77936211 -1190.44831665  1315.50652889 -1729.36421724\n",
      "   -131.59712774 -1165.76395096   619.03190743   824.16123522\n",
      "    391.62003761]\n",
      " [  490.74651555   274.15573672   760.02728149  -875.62000033\n",
      "    -54.28283783 -1190.44831665  1507.26116097  -841.03354218\n",
      "   1760.77321587   509.83618809  1485.38315879   -29.95996314\n",
      "   -710.72670918   -38.37010508]\n",
      " [ -377.61758113  -276.00423172  -289.48647666  1159.27403882\n",
      "    563.40950701  1315.50652889  -841.03354218  1106.07609435 -1400.5229047\n",
      "     71.03333774  -823.85130608   621.81505239   680.82807902\n",
      "    366.41088375]\n",
      " [  771.42099189   441.13656363   570.14950886 -1429.74128818\n",
      "  -1287.49950237 -1729.36421724  1760.77321587 -1400.5229047   2936.05420402\n",
      "   -101.75150161  1772.02275823  -746.23631825 -1296.38444911\n",
      "   -349.23749242]\n",
      " [  -67.96877135   -55.79971785   424.93459295    43.10417562\n",
      "    940.15144747  -131.59712774   509.83618809    71.03333774\n",
      "   -101.75150161  1009.26103335   470.22873888   838.08203867\n",
      "     75.28011347   413.0286618 ]\n",
      " [  496.09158765   275.03932736   760.46922312  -855.37483538\n",
      "    -89.08485004 -1165.76395096  1485.38315879  -823.85130608\n",
      "   1772.02275823   470.22873888  1500.0333034    -60.72584807\n",
      "   -686.62475223   -56.89576392]\n",
      " [ -266.69141209  -218.63481332   123.80568224   647.74760414\n",
      "    932.29651923   619.03190743   -29.95996314   621.81505239\n",
      "   -746.23631825   838.08203867   -60.72584807  1081.33392355\n",
      "    365.97973738   601.45608128]\n",
      " [ -330.31423237  -201.77800531  -158.37563029   695.70981695\n",
      "    666.00049511   824.16123522  -710.72670918   680.82807902\n",
      "  -1296.38444911    75.28011347  -686.62475223   365.97973738\n",
      "    712.66711954   156.87452343]\n",
      " [ -150.56319148  -148.38007293     5.97703709   386.57468579\n",
      "    380.16956421   391.62003761   -38.37010508   366.41088375\n",
      "   -349.23749242   413.0286618    -56.89576392   601.45608128\n",
      "    156.87452343   407.92138   ]]\n"
     ]
    }
   ],
   "source": [
    "print hessian"
   ]
  },
  {
   "cell_type": "code",
   "execution_count": 157,
   "metadata": {},
   "outputs": [],
   "source": [
    "from scipy.linalg import eigh"
   ]
  },
  {
   "cell_type": "code",
   "execution_count": 158,
   "metadata": {},
   "outputs": [],
   "source": [
    "[eigenvalues, modes] = eigh(hessian)"
   ]
  },
  {
   "cell_type": "code",
   "execution_count": 159,
   "metadata": {},
   "outputs": [
    {
     "name": "stdout",
     "output_type": "stream",
     "text": [
      "[  7.41847979e+00   9.40997214e+00   1.23424359e+01   1.55790192e+01\n",
      "   2.20258194e+01   2.78326010e+01   4.20659149e+01   4.54729082e+01\n",
      "   8.91905767e+01   1.24391572e+02   6.33739658e+02   1.30142334e+03\n",
      "   3.86424980e+03   9.87463124e+03]\n"
     ]
    }
   ],
   "source": [
    "print eigenvalues"
   ]
  },
  {
   "cell_type": "code",
   "execution_count": 160,
   "metadata": {},
   "outputs": [
    {
     "name": "stdout",
     "output_type": "stream",
     "text": [
      "57.2957795131\n",
      "57.2957795131\n",
      "57.2957795131\n",
      "57.2957795131\n",
      "57.2957795131\n",
      "57.2957795131\n",
      "57.2957795131\n",
      "57.2957795131\n",
      "57.2957795131\n",
      "57.2957795131\n",
      "57.2957795131\n",
      "57.2957795131\n",
      "57.2957795131\n",
      "57.2957795131\n"
     ]
    }
   ],
   "source": [
    "for do in min_map.dof_nodes():\n",
    "    print min_map.torsion_scale_factor(do)"
   ]
  },
  {
   "cell_type": "code",
   "execution_count": 161,
   "metadata": {},
   "outputs": [],
   "source": [
    "pseudo_det = 1.\n",
    "for eigen in eigenvalues:\n",
    "    if eigen > 0:\n",
    "        pseudo_det *= eigen\n",
    "    "
   ]
  },
  {
   "cell_type": "code",
   "execution_count": null,
   "metadata": {},
   "outputs": [],
   "source": []
  },
  {
   "cell_type": "code",
   "execution_count": 176,
   "metadata": {},
   "outputs": [
    {
     "name": "stdout",
     "output_type": "stream",
     "text": [
      "-17.0839211357\n"
     ]
    }
   ],
   "source": [
    "print multifunc(min_dofs) + 0.5*np.log(pseudo_det) - 0.5*min_map.nangles()*np.log(2*np.pi)"
   ]
  },
  {
   "cell_type": "markdown",
   "metadata": {},
   "source": [
    "# Developing subroutine to mode scan using AtomTreeMultifunc"
   ]
  },
  {
   "cell_type": "code",
   "execution_count": 34,
   "metadata": {},
   "outputs": [],
   "source": [
    "pmm = PyMOLMover()\n",
    "pmm.keep_history(True)"
   ]
  },
  {
   "cell_type": "code",
   "execution_count": 35,
   "metadata": {},
   "outputs": [],
   "source": [
    "from scipy.special import erf"
   ]
  },
  {
   "cell_type": "code",
   "execution_count": 163,
   "metadata": {},
   "outputs": [],
   "source": [
    "def mode_scan(min_dofs, multifunc, mode, limit=np.pi/3, dx=0.005):\n",
    "    # convert to np array for useful indexing\n",
    "    min_dofs = np.array(min_dofs)\n",
    "    delta_array = np.linspace(-limit, limit, int(2*limit/dx)+1)\n",
    "    \n",
    "    # intialize result\n",
    "    result = np.zeros_like(delta_array)\n",
    "    \n",
    "    # evaluate using multifunc \n",
    "    for ii, delta in enumerate(delta_array):\n",
    "        new_dofs = min_dofs[:] + delta*mode*180/np.pi\n",
    "        result[ii] = multifunc(Vector1(list(new_dofs)))\n",
    "    \n",
    "    return result    \n",
    "    \n",
    "    "
   ]
  },
  {
   "cell_type": "code",
   "execution_count": 164,
   "metadata": {
    "scrolled": true
   },
   "outputs": [],
   "source": [
    "def compute_total_partition(min_dofs, multifunc, modes, limit=np.pi/3, dx=0.005):\n",
    "    # initialize output\n",
    "    total_log_partition = 0 \n",
    "    total_log_harmonic = 0\n",
    "    scans = tuple()\n",
    "    xx = np.linspace(-limit, limit, int(2*limit/dx)+1)\n",
    "    \n",
    "    for ii, mode in enumerate(modes.T): # columns of array are eigenvectors\n",
    "        if eigenvalues[ii] < 0: continue\n",
    "        result = mode_scan(min_dofs, multifunc, mode, limit=limit, dx=dx)\n",
    "        result -= multifunc(min_dofs)\n",
    "        scans = scans + (result,)\n",
    "        total_log_partition += np.log(np.trapz(np.exp(-result),dx=dx))\n",
    "        #total_log_harmonic += np.log(np.trapz(np.exp(-eigenvalues[ii]*xx**2),dx=dx))\n",
    "        total_log_harmonic += np.log( np.sqrt(2*np.pi/eigenvalues[ii])*(erf(2*limit/np.sqrt(2/eigenvalues[ii]))))\n",
    "    scans = np.row_stack(scans)\n",
    "    return total_log_partition, total_log_harmonic, scans"
   ]
  },
  {
   "cell_type": "code",
   "execution_count": 165,
   "metadata": {},
   "outputs": [],
   "source": [
    "total_log_partition, total_log_harmonic, mode_scans = compute_total_partition(min_dofs, multifunc, modes)"
   ]
  },
  {
   "cell_type": "code",
   "execution_count": 166,
   "metadata": {
    "scrolled": true
   },
   "outputs": [
    {
     "data": {
      "text/plain": [
       "<matplotlib.legend.Legend at 0x7f027925b410>"
      ]
     },
     "execution_count": 166,
     "metadata": {},
     "output_type": "execute_result"
    },
    {
     "data": {
      "image/png": "[encoded data removed]",
      "text/plain": [
       "<matplotlib.figure.Figure at 0x7f027976b9d0>"
      ]
     },
     "metadata": {
      "needs_background": "light"
     },
     "output_type": "display_data"
    }
   ],
   "source": [
    "xx = np.linspace(-np.pi/3,np.pi/3,int(2*np.pi/3/0.005)+1)\n",
    "fig, ax = plt.subplots(ncols=5,nrows=6,figsize=(12,12))\n",
    "for ii, scan in enumerate(mode_scans):\n",
    "    if eigenvalues[ii] < 0: continue\n",
    "    curr_ax = ax.flatten()[ii]\n",
    "    curr_ax.plot(xx,np.exp(-scan))\n",
    "    curr_ax.plot(xx,np.exp(-eigenvalues[ii]*xx**2))\n",
    "fig.legend(('scan', 'harmonic'))"
   ]
  },
  {
   "cell_type": "code",
   "execution_count": 167,
   "metadata": {},
   "outputs": [],
   "source": [
    "from numpy.linalg import det\n",
    "from numpy import heaviside\n",
    "from scipy.special import logsumexp\n",
    "from scipy.special import gamma"
   ]
  },
  {
   "cell_type": "code",
   "execution_count": 168,
   "metadata": {},
   "outputs": [],
   "source": [
    "n = min_map.nangles()\n",
    "min_E = multifunc(min_dofs)\n",
    "dos = lambda E: (2.0*np.pi)**(n/2.)*(E-min_E)**(n/2. - 1)/gamma(n/2.)/np.sqrt(pseudo_det)*heaviside(E-min_E,0.5)"
   ]
  },
  {
   "cell_type": "code",
   "execution_count": 169,
   "metadata": {},
   "outputs": [
    {
     "name": "stdout",
     "output_type": "stream",
     "text": [
      "-17.0839211357\n",
      "-17.0839211357\n"
     ]
    }
   ],
   "source": [
    "E = np.linspace(-100, 800, 90001)\n",
    "F = np.linspace(-100,800,9001)\n",
    "print -logsumexp(-(E), b=dos(E)*0.01) \n",
    "print -logsumexp(-F,b=dos(F)*0.1)\n"
   ]
  },
  {
   "cell_type": "code",
   "execution_count": 170,
   "metadata": {},
   "outputs": [
    {
     "data": {
      "text/plain": [
       "[<matplotlib.lines.Line2D at 0x7f0270ecdb10>]"
      ]
     },
     "execution_count": 170,
     "metadata": {},
     "output_type": "execute_result"
    },
    {
     "data": {
      "image/png": "[encoded data removed]",
      "text/plain": [
       "<matplotlib.figure.Figure at 0x7f02799a5d90>"
      ]
     },
     "metadata": {
      "needs_background": "light"
     },
     "output_type": "display_data"
    }
   ],
   "source": [
    "plt.plot(E, dos(E)*np.exp(-E)*0.01)\n",
    "plt.plot(F, dos(F)*np.exp(-F)*0.1)\n"
   ]
  },
  {
   "cell_type": "code",
   "execution_count": 171,
   "metadata": {},
   "outputs": [
    {
     "name": "stdout",
     "output_type": "stream",
     "text": [
      "14\n"
     ]
    }
   ],
   "source": [
    "print n"
   ]
  },
  {
   "cell_type": "code",
   "execution_count": 174,
   "metadata": {},
   "outputs": [
    {
     "data": {
      "text/plain": [
       "-15.514615685562152"
      ]
     },
     "execution_count": 174,
     "metadata": {},
     "output_type": "execute_result"
    }
   ],
   "source": [
    "multifunc(min_dofs) - total_log_partition"
   ]
  },
  {
   "cell_type": "code",
   "execution_count": 175,
   "metadata": {},
   "outputs": [
    {
     "data": {
      "text/plain": [
       "(-20.641065744459834, -19.071760306112115)"
      ]
     },
     "execution_count": 175,
     "metadata": {},
     "output_type": "execute_result"
    }
   ],
   "source": [
    "total_log_partition, total_log_harmonic"
   ]
  },
  {
   "cell_type": "code",
   "execution_count": null,
   "metadata": {
    "scrolled": true
   },
   "outputs": [],
   "source": [
    "sims = ['aaa_uuu', 'aa_uu', 'cc_gg', 'ccc_ggg', 'cc_gg', 'gaa_uuc', 'gac_guc', 'gag_cuc', 'gau_auc', 'ga_uc', 'gcc_ggc', 'gcg_cgc', 'gga_ucc', 'gg_cc', 'ggc_gcc', 'ggg_ccc', 'ggu_acc', 'gu_ac', 'guc_gac', 'guu_aac']\n",
    "\n",
    "harmonic_E = []\n",
    "RECCES_E = []\n",
    "DOS_E = []\n",
    "\n",
    "E = np.linspace(-100,800,9001)\n",
    "\n",
    "for sim in sims:\n",
    "    \n",
    "    seqs = sim.split('_')\n",
    "    seq1 = seqs[0]\n",
    "    seq2 = seqs[1]\n",
    "    \n",
    "    fuck = MiningMinima(seq1, seq2)\n",
    "    \n",
    "    hist = SingleHistSimulation('./../../../recces_rosetta/results/'+sim+'/ST/')\n",
    "    \n",
    "    harmonic_E.append(fuck.harmonic_free_energy)\n",
    "    RECCES_E.append(hist.value)\n",
    "    DOS_E.append(-scipy.special.logsumexp(-E, b=fuck.dos(E)))"
   ]
  },
  {
   "cell_type": "code",
   "execution_count": null,
   "metadata": {},
   "outputs": [],
   "source": [
    "print RECCES_E\n",
    "print harmonic_E\n",
    "print DOS_E\n",
    "plt.scatter(RECCES_E, DOS_E)\n",
    "plt.plot([-45,-15],[-45,-15])"
   ]
  },
  {
   "cell_type": "code",
   "execution_count": null,
   "metadata": {},
   "outputs": [],
   "source": [
    "from recces.util import *\n",
    "from recces.data import *"
   ]
  },
  {
   "cell_type": "code",
   "execution_count": null,
   "metadata": {},
   "outputs": [],
   "source": [
    "sim = SingleHistSimulation('./../../../recces_rosetta/results/'+seq1+'_'+seq2+'/ST/')"
   ]
  },
  {
   "cell_type": "code",
   "execution_count": null,
   "metadata": {},
   "outputs": [],
   "source": [
    "print sim.value\n",
    "-np.log(np.trapz(sim._dos, dx=0.1))\n",
    "'guu_acc'.split('_')"
   ]
  },
  {
   "cell_type": "code",
   "execution_count": null,
   "metadata": {
    "scrolled": true
   },
   "outputs": [],
   "source": [
    "import matplotlib as mpl\n",
    "import matplotlib.pyplot as plt\n",
    "import scipy\n",
    "\n",
    "E = np.linspace(-100,100,2001)\n",
    "\n",
    "plt.plot(E, fuck.dos(E)*np.exp(-E))\n",
    "plt.plot(sim._dos_scores[:2000], sim._dos[:2000]*np.exp(-sim._dos_scores[:2000]))\n",
    "plt.xlabel('energy (REU)')\n",
    "plt.ylabel('$g(E)e^{-E/kT}$')\n",
    "plt.legend(('MM', 'RECCES'))\n",
    "print -scipy.special.logsumexp(-E, b=fuck.dos(E)), sim.value, fuck.harmonic_free_energy"
   ]
  },
  {
   "cell_type": "code",
   "execution_count": null,
   "metadata": {},
   "outputs": [],
   "source": [
    "print fuck.anharmonic_free_energy\n",
    "print fuck.harmonic_free_energy"
   ]
  },
  {
   "cell_type": "code",
   "execution_count": null,
   "metadata": {},
   "outputs": [],
   "source": [
    "\n",
    "print fuck.modes[:,0]\n",
    "pmm.apply(fuck.min_pose)"
   ]
  },
  {
   "cell_type": "code",
   "execution_count": null,
   "metadata": {},
   "outputs": [],
   "source": [
    "n_struct = 200\n",
    "\n",
    "ensemble = fuck.harmonic_ensemble(n_struct = n_struct)\n",
    "#print ensemble[2,:]-min_dofs\n",
    "#print np.sqrt(H)/np.sqrt((2*np.pi)**fuck.n_dofs)*np.exp(-np.dot(fuck.eigenvalues, ((min_dofs-ensemble[0,:])*np.pi/180)**2)/2)"
   ]
  },
  {
   "cell_type": "code",
   "execution_count": null,
   "metadata": {},
   "outputs": [],
   "source": [
    "pose = Pose()\n",
    "pose.assign(fuck.min_pose)\n",
    "\n",
    "hist_min = -100\n",
    "hist_max = 100\n",
    "delE = 0.1\n",
    "\n",
    "hist_scores = np.linspace(hist_min, hist_max, int((hist_max-hist_min)/delE)+1)\n",
    "\n",
    "hist = np.zeros_like(hist_scores)\n",
    "\n",
    "for i in range(n_struct):\n",
    "    \n",
    "    dofs = ensemble[i,:]\n",
    "    \n",
    "    for key in fuck.dof_dict: pose.set_torsion(fuck.dof_dict[key], dofs[key])\n",
    "        \n",
    "    energy = fuck.scorefxn(pose)\n",
    "    \n",
    "    if energy < hist_max+delE:\n",
    "             \n",
    "        hist_idx = math.floor((energy-hist_min)/delE)\n",
    "        hist_idx = int(hist_idx)\n",
    "        hist[hist_idx] += 1\n"
   ]
  },
  {
   "cell_type": "code",
   "execution_count": null,
   "metadata": {},
   "outputs": [],
   "source": [
    "shit = hist*np.exp(hist_scores)/np.sum(hist)\n",
    "shit = shit/np.sum(shit)\n",
    "print -scipy.special.logsumexp(-hist_scores, b = shit)\n",
    "plt.plot(hist_scores, shit*np.exp(-hist_scores)/torsion_volume(seq1, seq2))\n",
    "plt.plot(sim._dos_scores[:2000], sim._dos[:2000]*np.exp(-sim._dos_scores[:2000]))"
   ]
  },
  {
   "cell_type": "code",
   "execution_count": null,
   "metadata": {},
   "outputs": [],
   "source": [
    "pose = Pose()\n",
    "pose_new = Pose()\n",
    "pose.assign(fuck.min_pose)\n",
    "for key in fuck.dof_dict: pose.set_torsion(fuck.dof_dict[key],ensemble[0,:][key])\n",
    "\n",
    "pose_new.assign(pose)\n",
    "\n",
    "E_0 = fuck.scorefxn(fuck.min_pose)\n",
    "energy = E_0\n",
    "\n",
    "min_dofs = [fuck.min_pose.torsion(fuck.dof_dict[key]) for key in fuck.dof_dict]\n",
    "curr_dofs = min_dofs\n",
    "print min_dofs\n",
    "\n",
    "Z = 0\n",
    "H = np.product(fuck.eigenvalues)\n",
    "\n",
    "for j in range(1,n_struct):\n",
    "    \n",
    "    trial_move = ensemble[j, :]\n",
    "     \n",
    "    for key in fuck.dof_dict: pose_new.set_torsion(fuck.dof_dict[key], trial_move[key]) \n",
    "\n",
    "    energy_new = fuck.scorefxn(pose_new)\n",
    "    \n",
    "    if np.exp(-(energy_new-energy)) > np.random.random():\n",
    "        \n",
    "        energy = energy_new\n",
    "        pose.assign(pose_new)\n",
    "        curr_dofs = trial_move\n",
    "        \n",
    "    \n",
    "\n",
    "        #p = np.sqrt(H/(2*np.pi)**fuck.n_dofs)*np.exp(-np.dot(fuck.eigenvalues, ((trial_move-min_dofs)*(np.pi/180)**2)**2)/2)\n",
    "    if energy < hist_max+delE:\n",
    "             \n",
    "        hist_idx = math.floor((energy-hist_min)/delE)\n",
    "        hist_idx = int(hist_idx)\n",
    "        hist[hist_idx] += 1\n",
    "\n",
    "    "
   ]
  },
  {
   "cell_type": "code",
   "execution_count": null,
   "metadata": {},
   "outputs": [],
   "source": [
    "#plt.plot(hist_scores, hist)\n",
    "shit = hist/np.sum(hist)\n",
    "shit = shit*np.exp(hist_scores)\n",
    "shit = shit/np.sum(shit)\n",
    "#plt.plot(hist_scores, shit)\n",
    "plt.plot(hist_scores, hist/np.sum(hist))\n",
    "print -np.log(np.exp(-E_0)*(0.25)**fuck.n_dofs/0.35)\n"
   ]
  },
  {
   "cell_type": "code",
   "execution_count": null,
   "metadata": {
    "scrolled": true
   },
   "outputs": [],
   "source": [
    "print ensemble\n",
    "pmm = PyMOLMover()\n",
    "pmm.keep_history(True)\n",
    "print ensemble[1,:]"
   ]
  },
  {
   "cell_type": "code",
   "execution_count": null,
   "metadata": {},
   "outputs": [],
   "source": [
    "pose = Pose()\n",
    "pose.assign(fuck.min_pose)\n",
    "\n",
    "for i in range(200):\n",
    "    \n",
    "    dofs = ensemble[i,:]\n",
    "    for key in fuck.dof_dict: pose.set_torsion(fuck.dof_dict[key], dofs[key]) \n",
    "    pmm.apply(pose)\n",
    "    "
   ]
  },
  {
   "cell_type": "code",
   "execution_count": null,
   "metadata": {},
   "outputs": [],
   "source": [
    "print np.cov(ensemble)"
   ]
  },
  {
   "cell_type": "code",
   "execution_count": null,
   "metadata": {},
   "outputs": [],
   "source": [
    "w,v = np.linalg.eigh(np.cov(ensemble.T))\n",
    "print fuck.eigenvalues"
   ]
  },
  {
   "cell_type": "code",
   "execution_count": null,
   "metadata": {},
   "outputs": [],
   "source": [
    "print 1/w*180*180/np.pi/np.pi"
   ]
  },
  {
   "cell_type": "code",
   "execution_count": null,
   "metadata": {},
   "outputs": [],
   "source": [
    "\n",
    "print fuck.min_energy - 0.5*fuck.n_dofs*np.log(2*np.pi) + 0.5*np.log(np.prod(1/w))"
   ]
  },
  {
   "cell_type": "code",
   "execution_count": null,
   "metadata": {},
   "outputs": [],
   "source": [
    "print fuck.anharmonic_free_energy"
   ]
  },
  {
   "cell_type": "code",
   "execution_count": null,
   "metadata": {},
   "outputs": [],
   "source": [
    "print fuck.min_pose"
   ]
  },
  {
   "cell_type": "code",
   "execution_count": null,
   "metadata": {},
   "outputs": [],
   "source": [
    "mu = np.zeros(fuck.n_dofs)"
   ]
  },
  {
   "cell_type": "code",
   "execution_count": null,
   "metadata": {},
   "outputs": [],
   "source": [
    "print mu"
   ]
  },
  {
   "cell_type": "code",
   "execution_count": null,
   "metadata": {},
   "outputs": [],
   "source": [
    "mu = [fuck.min_pose.torsion(fuck.dof_dict[key]) for key in fuck.dof_dict]"
   ]
  },
  {
   "cell_type": "code",
   "execution_count": null,
   "metadata": {},
   "outputs": [],
   "source": [
    "print mu\n",
    "bitch = np.linalg.inv(fuck.hessian)"
   ]
  },
  {
   "cell_type": "code",
   "execution_count": null,
   "metadata": {},
   "outputs": [],
   "source": [
    "shit = np.random.multivariate_normal(mu, bitch, size=(2000))"
   ]
  },
  {
   "cell_type": "code",
   "execution_count": null,
   "metadata": {},
   "outputs": [],
   "source": [
    "print shit[0,:]"
   ]
  },
  {
   "cell_type": "code",
   "execution_count": null,
   "metadata": {},
   "outputs": [],
   "source": [
    "random_struct = np.zeros((fuck.n_dofs, 2000))\n",
    "\n",
    "for j in range(2000):\n",
    "    \n",
    "    random_struct[:,j] = np.random.multivariate_normal(mu, bitch)"
   ]
  },
  {
   "cell_type": "code",
   "execution_count": null,
   "metadata": {},
   "outputs": [],
   "source": [
    "print random_struct"
   ]
  },
  {
   "cell_type": "code",
   "execution_count": null,
   "metadata": {},
   "outputs": [],
   "source": [
    "print np.cov(random_struct)"
   ]
  },
  {
   "cell_type": "code",
   "execution_count": null,
   "metadata": {},
   "outputs": [],
   "source": [
    "w,v = np.linalg.eigh(np.cov(random_struct))"
   ]
  },
  {
   "cell_type": "code",
   "execution_count": null,
   "metadata": {},
   "outputs": [],
   "source": [
    "print 1/w\n"
   ]
  },
  {
   "cell_type": "code",
   "execution_count": null,
   "metadata": {},
   "outputs": [],
   "source": [
    "cu_ag = MiningMinima('cuc', 'gag')"
   ]
  },
  {
   "cell_type": "code",
   "execution_count": null,
   "metadata": {},
   "outputs": [],
   "source": [
    "cu_ag.harmonic_free_energy"
   ]
  },
  {
   "cell_type": "code",
   "execution_count": null,
   "metadata": {},
   "outputs": [],
   "source": [
    "ensemble = cu_ag.harmonic_ensemble()"
   ]
  },
  {
   "cell_type": "code",
   "execution_count": null,
   "metadata": {},
   "outputs": [],
   "source": [
    "cu_ag.eigenvalues"
   ]
  },
  {
   "cell_type": "code",
   "execution_count": null,
   "metadata": {},
   "outputs": [],
   "source": [
    "np.diag(1/cu_ag.eigenvalues)"
   ]
  },
  {
   "cell_type": "code",
   "execution_count": null,
   "metadata": {},
   "outputs": [],
   "source": [
    "np.matmul( np.matmul( cu_ag.modes, np.diag(1/cu_ag.eigenvalues)), cu_ag.modes.T)"
   ]
  },
  {
   "cell_type": "code",
   "execution_count": null,
   "metadata": {},
   "outputs": [],
   "source": [
    "np.linalg.inv(cu_ag.hessian)"
   ]
  },
  {
   "cell_type": "code",
   "execution_count": null,
   "metadata": {},
   "outputs": [],
   "source": []
  }
 ],
 "metadata": {
  "kernelspec": {
   "display_name": "Python 2",
   "language": "python",
   "name": "python2"
  },
  "language_info": {
   "codemirror_mode": {
    "name": "ipython",
    "version": 2
   },
   "file_extension": ".py",
   "mimetype": "text/x-python",
   "name": "python",
   "nbconvert_exporter": "python",
   "pygments_lexer": "ipython2",
   "version": "2.7.15+"
  }
 },
 "nbformat": 4,
 "nbformat_minor": 2
}
