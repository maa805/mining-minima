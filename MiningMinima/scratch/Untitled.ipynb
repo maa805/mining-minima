{
 "cells": [
  {
   "cell_type": "code",
   "execution_count": 1,
   "metadata": {},
   "outputs": [
    {
     "name": "stdout",
     "output_type": "stream",
     "text": [
      "Found rosetta database at: /usr/local/lib/python2.7/dist-packages/pyrosetta-2018.11+release.7c7790f-py2.7-linux-x86_64.egg/pyrosetta/database; using it....\n",
      "PyRosetta-4 2017 [Rosetta PyRosetta4.Release.python27.ubuntu 2018.11+release.7c7790f7c7790fbb898f8210b54513b9f9c8a927c3e8d7f 2018-03-14T13:19:04] retrieved from: http://www.pyrosetta.org\n",
      "(C) Copyright Rosetta Commons Member Institutions.\n",
      "Created in JHU by Sergey Lyskov and PyRosetta Team.\n",
      "\n",
      "\u001b[0mcore.init: \u001b[0mChecking for fconfig files in pwd and ./rosetta/flags\n",
      "\n",
      "\u001b[0mcore.init: \u001b[0mRosetta version: PyRosetta4.Release.python27.ubuntu r173 2018.11+release.7c7790f 7c7790fbb898f8210b54513b9f9c8a927c3e8d7f http://www.pyrosetta.org 2018-03-14T13:19:04\n",
      "\u001b[0mcore.init: \u001b[0mcommand: PyRosetta -ex1 -ex2aro -database /usr/local/lib/python2.7/dist-packages/pyrosetta-2018.11+release.7c7790f-py2.7-linux-x86_64.egg/pyrosetta/database\n",
      "\u001b[0mcore.init: \u001b[0m'RNG device' seed mode, using '/dev/urandom', seed=59753045 seed_offset=0 real_seed=59753045\n",
      "\u001b[0mcore.init.random: \u001b[0mRandomGenerator:init: Normal mode, seed=59753045 RG_type=mt19937\n",
      "Found rosetta database at: /usr/local/lib/python2.7/dist-packages/pyrosetta-2018.11+release.7c7790f-py2.7-linux-x86_64.egg/pyrosetta/database; using it....\n",
      "PyRosetta-4 2017 [Rosetta PyRosetta4.Release.python27.ubuntu 2018.11+release.7c7790f7c7790fbb898f8210b54513b9f9c8a927c3e8d7f 2018-03-14T13:19:04] retrieved from: http://www.pyrosetta.org\n",
      "(C) Copyright Rosetta Commons Member Institutions.\n",
      "Created in JHU by Sergey Lyskov and PyRosetta Team.\n",
      "\n",
      "\u001b[0mcore.init: \u001b[0mChecking for fconfig files in pwd and ./rosetta/flags\n",
      "\n",
      "\u001b[0mcore.init: \u001b[0mRosetta version: PyRosetta4.Release.python27.ubuntu r173 2018.11+release.7c7790f 7c7790fbb898f8210b54513b9f9c8a927c3e8d7f http://www.pyrosetta.org 2018-03-14T13:19:04\n",
      "\u001b[0mcore.init: \u001b[0mcommand: PyRosetta -ex1 -ex2aro -database /usr/local/lib/python2.7/dist-packages/pyrosetta-2018.11+release.7c7790f-py2.7-linux-x86_64.egg/pyrosetta/database\n",
      "\u001b[0mcore.init: \u001b[0m'RNG device' seed mode, using '/dev/urandom', seed=-2144016264 seed_offset=0 real_seed=-2144016264\n",
      "\u001b[0mcore.init.random: \u001b[0mRandomGenerator:init: Normal mode, seed=-2144016264 RG_type=mt19937\n",
      "Found rosetta database at: /usr/local/lib/python2.7/dist-packages/pyrosetta-2018.11+release.7c7790f-py2.7-linux-x86_64.egg/pyrosetta/database; using it....\n",
      "PyRosetta-4 2017 [Rosetta PyRosetta4.Release.python27.ubuntu 2018.11+release.7c7790f7c7790fbb898f8210b54513b9f9c8a927c3e8d7f 2018-03-14T13:19:04] retrieved from: http://www.pyrosetta.org\n",
      "(C) Copyright Rosetta Commons Member Institutions.\n",
      "Created in JHU by Sergey Lyskov and PyRosetta Team.\n",
      "\n",
      "\u001b[0mcore.init: \u001b[0mChecking for fconfig files in pwd and ./rosetta/flags\n",
      "\n",
      "\u001b[0mcore.init: \u001b[0mRosetta version: PyRosetta4.Release.python27.ubuntu r173 2018.11+release.7c7790f 7c7790fbb898f8210b54513b9f9c8a927c3e8d7f http://www.pyrosetta.org 2018-03-14T13:19:04\n",
      "\u001b[0mcore.init: \u001b[0mcommand: PyRosetta -ex1 -ex2aro -database /usr/local/lib/python2.7/dist-packages/pyrosetta-2018.11+release.7c7790f-py2.7-linux-x86_64.egg/pyrosetta/database\n",
      "\u001b[0mcore.init: \u001b[0m'RNG device' seed mode, using '/dev/urandom', seed=928955190 seed_offset=0 real_seed=928955190\n",
      "\u001b[0mcore.init.random: \u001b[0mRandomGenerator:init: Normal mode, seed=928955190 RG_type=mt19937\n",
      "Found rosetta database at: /usr/local/lib/python2.7/dist-packages/pyrosetta-2018.11+release.7c7790f-py2.7-linux-x86_64.egg/pyrosetta/database; using it....\n",
      "PyRosetta-4 2017 [Rosetta PyRosetta4.Release.python27.ubuntu 2018.11+release.7c7790f7c7790fbb898f8210b54513b9f9c8a927c3e8d7f 2018-03-14T13:19:04] retrieved from: http://www.pyrosetta.org\n",
      "(C) Copyright Rosetta Commons Member Institutions.\n",
      "Created in JHU by Sergey Lyskov and PyRosetta Team.\n",
      "\n",
      "\u001b[0mcore.init: \u001b[0mChecking for fconfig files in pwd and ./rosetta/flags\n",
      "\n",
      "\u001b[0mcore.init: \u001b[0mRosetta version: PyRosetta4.Release.python27.ubuntu r173 2018.11+release.7c7790f 7c7790fbb898f8210b54513b9f9c8a927c3e8d7f http://www.pyrosetta.org 2018-03-14T13:19:04\n",
      "\u001b[0mcore.init: \u001b[0mcommand: PyRosetta -ex1 -ex2aro -database /usr/local/lib/python2.7/dist-packages/pyrosetta-2018.11+release.7c7790f-py2.7-linux-x86_64.egg/pyrosetta/database\n",
      "\u001b[0mcore.init: \u001b[0m'RNG device' seed mode, using '/dev/urandom', seed=183949104 seed_offset=0 real_seed=183949104\n",
      "\u001b[0mcore.init.random: \u001b[0mRandomGenerator:init: Normal mode, seed=183949104 RG_type=mt19937\n"
     ]
    }
   ],
   "source": [
    "import matplotlib as mpl\n",
    "import matplotlib.pyplot as plt\n",
    "from MiningMinima import *\n",
    "from recces.data import *"
   ]
  },
  {
   "cell_type": "code",
   "execution_count": 6,
   "metadata": {
    "scrolled": true
   },
   "outputs": [
    {
     "name": "stdout",
     "output_type": "stream",
     "text": [
      "{0: <pyrosetta.rosetta.core.id.TorsionID object at 0x7fa7b467a3e8>, 1: <pyrosetta.rosetta.core.id.TorsionID object at 0x7fa7b467a420>, 2: <pyrosetta.rosetta.core.id.TorsionID object at 0x7fa7b467a458>, 3: <pyrosetta.rosetta.core.id.TorsionID object at 0x7fa7b467a490>, 4: <pyrosetta.rosetta.core.id.TorsionID object at 0x7fa7b467a4c8>, 5: <pyrosetta.rosetta.core.id.TorsionID object at 0x7fa7b467a500>, 6: <pyrosetta.rosetta.core.id.TorsionID object at 0x7fa7b467a538>, 7: <pyrosetta.rosetta.core.id.TorsionID object at 0x7fa7b467a570>, 8: <pyrosetta.rosetta.core.id.TorsionID object at 0x7fa7b467a5a8>, 9: <pyrosetta.rosetta.core.id.TorsionID object at 0x7fa7b467a5e0>, 10: <pyrosetta.rosetta.core.id.TorsionID object at 0x7fa7b467a618>, 11: <pyrosetta.rosetta.core.id.TorsionID object at 0x7fa7b467a650>, 12: <pyrosetta.rosetta.core.id.TorsionID object at 0x7fa7b467a688>, 13: <pyrosetta.rosetta.core.id.TorsionID object at 0x7fa7b467a6c0>, 14: <pyrosetta.rosetta.core.id.TorsionID object at 0x7fa7b467a6f8>, 15: <pyrosetta.rosetta.core.id.TorsionID object at 0x7fa7b467a730>, 16: <pyrosetta.rosetta.core.id.TorsionID object at 0x7fa7b467a768>, 17: <pyrosetta.rosetta.core.id.TorsionID object at 0x7fa7b467a7a0>, 18: <pyrosetta.rosetta.core.id.TorsionID object at 0x7fa7b467a7d8>, 19: <pyrosetta.rosetta.core.id.TorsionID object at 0x7fa7b467a810>, 20: <pyrosetta.rosetta.core.id.TorsionID object at 0x7fa7b467a848>, 21: <pyrosetta.rosetta.core.id.TorsionID object at 0x7fa7b467a880>, 22: <pyrosetta.rosetta.core.id.TorsionID object at 0x7fa7b467a8b8>, 23: <pyrosetta.rosetta.core.id.TorsionID object at 0x7fa7b467a8f0>, 24: <pyrosetta.rosetta.core.id.TorsionID object at 0x7fa7b467a928>, 25: <pyrosetta.rosetta.core.id.TorsionID object at 0x7fa7b467a960>}\n",
      "Inferring sequence from directory name:  aaa_uuu\n",
      "applying phase space volume for two strand with helix length  3  and dangle length  0\n",
      "{0: <pyrosetta.rosetta.core.id.TorsionID object at 0x7fa7b467aab0>, 1: <pyrosetta.rosetta.core.id.TorsionID object at 0x7fa7b467ab58>, 2: <pyrosetta.rosetta.core.id.TorsionID object at 0x7fa7b467ae30>, 3: <pyrosetta.rosetta.core.id.TorsionID object at 0x7fa7b467aa40>, 4: <pyrosetta.rosetta.core.id.TorsionID object at 0x7fa7b467ad18>, 5: <pyrosetta.rosetta.core.id.TorsionID object at 0x7fa7b467ad88>, 6: <pyrosetta.rosetta.core.id.TorsionID object at 0x7fa7b467ac00>, 7: <pyrosetta.rosetta.core.id.TorsionID object at 0x7fa7b467aa08>, 8: <pyrosetta.rosetta.core.id.TorsionID object at 0x7fa7b467ab20>, 9: <pyrosetta.rosetta.core.id.TorsionID object at 0x7fa7b467ab90>, 10: <pyrosetta.rosetta.core.id.TorsionID object at 0x7fa7b467adf8>, 11: <pyrosetta.rosetta.core.id.TorsionID object at 0x7fa7b467aae8>, 12: <pyrosetta.rosetta.core.id.TorsionID object at 0x7fa7b467abc8>, 13: <pyrosetta.rosetta.core.id.TorsionID object at 0x7fa7b467aa78>}\n",
      "Inferring sequence from directory name:  aa_uu\n",
      "applying phase space volume for two strand with helix length  2  and dangle length  0\n",
      "{0: <pyrosetta.rosetta.core.id.TorsionID object at 0x7fa7b467ae68>, 1: <pyrosetta.rosetta.core.id.TorsionID object at 0x7fa7b467af48>, 2: <pyrosetta.rosetta.core.id.TorsionID object at 0x7fa7b467aed8>, 3: <pyrosetta.rosetta.core.id.TorsionID object at 0x7fa7b467aea0>, 4: <pyrosetta.rosetta.core.id.TorsionID object at 0x7fa7b467ad50>, 5: <pyrosetta.rosetta.core.id.TorsionID object at 0x7fa7b467aca8>, 6: <pyrosetta.rosetta.core.id.TorsionID object at 0x7fa7b467ac70>, 7: <pyrosetta.rosetta.core.id.TorsionID object at 0x7fa7b3f8f030>, 8: <pyrosetta.rosetta.core.id.TorsionID object at 0x7fa7b3f8f068>, 9: <pyrosetta.rosetta.core.id.TorsionID object at 0x7fa7b3f8f0a0>, 10: <pyrosetta.rosetta.core.id.TorsionID object at 0x7fa7b3f8f0d8>, 11: <pyrosetta.rosetta.core.id.TorsionID object at 0x7fa7b3f8f110>, 12: <pyrosetta.rosetta.core.id.TorsionID object at 0x7fa7b3f8f148>, 13: <pyrosetta.rosetta.core.id.TorsionID object at 0x7fa7b3f8f180>}\n",
      "Inferring sequence from directory name:  cc_gg\n",
      "applying phase space volume for two strand with helix length  2  and dangle length  0\n",
      "{0: <pyrosetta.rosetta.core.id.TorsionID object at 0x7fa7b3f8f768>, 1: <pyrosetta.rosetta.core.id.TorsionID object at 0x7fa7b3f8f4c8>, 2: <pyrosetta.rosetta.core.id.TorsionID object at 0x7fa7b3f8f340>, 3: <pyrosetta.rosetta.core.id.TorsionID object at 0x7fa7b3f8f2d0>, 4: <pyrosetta.rosetta.core.id.TorsionID object at 0x7fa7b3f8f1f0>, 5: <pyrosetta.rosetta.core.id.TorsionID object at 0x7fa7b3f8f260>, 6: <pyrosetta.rosetta.core.id.TorsionID object at 0x7fa7b3f8f298>, 7: <pyrosetta.rosetta.core.id.TorsionID object at 0x7fa7b3f8f378>, 8: <pyrosetta.rosetta.core.id.TorsionID object at 0x7fa7b3f8f458>, 9: <pyrosetta.rosetta.core.id.TorsionID object at 0x7fa7b3f8f688>, 10: <pyrosetta.rosetta.core.id.TorsionID object at 0x7fa7b3f8f6f8>, 11: <pyrosetta.rosetta.core.id.TorsionID object at 0x7fa7b3f8f810>, 12: <pyrosetta.rosetta.core.id.TorsionID object at 0x7fa7b3f8f228>, 13: <pyrosetta.rosetta.core.id.TorsionID object at 0x7fa7b3f8f3b0>, 14: <pyrosetta.rosetta.core.id.TorsionID object at 0x7fa7b3f8f3e8>, 15: <pyrosetta.rosetta.core.id.TorsionID object at 0x7fa7b3f8f420>, 16: <pyrosetta.rosetta.core.id.TorsionID object at 0x7fa7b3f8f490>, 17: <pyrosetta.rosetta.core.id.TorsionID object at 0x7fa7b3f8f500>, 18: <pyrosetta.rosetta.core.id.TorsionID object at 0x7fa7b3f8f570>, 19: <pyrosetta.rosetta.core.id.TorsionID object at 0x7fa7b3f8f5e0>, 20: <pyrosetta.rosetta.core.id.TorsionID object at 0x7fa7b3f8f650>, 21: <pyrosetta.rosetta.core.id.TorsionID object at 0x7fa7b3f8f6c0>, 22: <pyrosetta.rosetta.core.id.TorsionID object at 0x7fa7b3f8f730>, 23: <pyrosetta.rosetta.core.id.TorsionID object at 0x7fa7b3f8f7a0>, 24: <pyrosetta.rosetta.core.id.TorsionID object at 0x7fa7b3f8f7d8>, 25: <pyrosetta.rosetta.core.id.TorsionID object at 0x7fa7b3f8f848>}\n",
      "Inferring sequence from directory name:  ccc_ggg\n",
      "applying phase space volume for two strand with helix length  3  and dangle length  0\n",
      "{0: <pyrosetta.rosetta.core.id.TorsionID object at 0x7fa7b3f8f928>, 1: <pyrosetta.rosetta.core.id.TorsionID object at 0x7fa7b3f8f308>, 2: <pyrosetta.rosetta.core.id.TorsionID object at 0x7fa7b3f8fb58>, 3: <pyrosetta.rosetta.core.id.TorsionID object at 0x7fa7b3f8fae8>, 4: <pyrosetta.rosetta.core.id.TorsionID object at 0x7fa7b3f8fce0>, 5: <pyrosetta.rosetta.core.id.TorsionID object at 0x7fa7b3f8fa08>, 6: <pyrosetta.rosetta.core.id.TorsionID object at 0x7fa7b3f8fa78>, 7: <pyrosetta.rosetta.core.id.TorsionID object at 0x7fa7b3f8f998>, 8: <pyrosetta.rosetta.core.id.TorsionID object at 0x7fa7b3f8f9d0>, 9: <pyrosetta.rosetta.core.id.TorsionID object at 0x7fa7b3f8f8b8>, 10: <pyrosetta.rosetta.core.id.TorsionID object at 0x7fa7b3f8fab0>, 11: <pyrosetta.rosetta.core.id.TorsionID object at 0x7fa7b3f8fb20>, 12: <pyrosetta.rosetta.core.id.TorsionID object at 0x7fa7b3f8fb90>, 13: <pyrosetta.rosetta.core.id.TorsionID object at 0x7fa7b3f8fc00>}\n",
      "Inferring sequence from directory name:  cc_gg\n",
      "applying phase space volume for two strand with helix length  2  and dangle length  0\n",
      "{0: <pyrosetta.rosetta.core.id.TorsionID object at 0x7fa7b3f8fdc0>, 1: <pyrosetta.rosetta.core.id.TorsionID object at 0x7fa7b3f8fe68>, 2: <pyrosetta.rosetta.core.id.TorsionID object at 0x7fa7b3f8ff80>, 3: <pyrosetta.rosetta.core.id.TorsionID object at 0x7fa7b3f8fe30>, 4: <pyrosetta.rosetta.core.id.TorsionID object at 0x7fa7b3f8ffb8>, 5: <pyrosetta.rosetta.core.id.TorsionID object at 0x7fa7b3f8fca8>, 6: <pyrosetta.rosetta.core.id.TorsionID object at 0x7fa7b3f8fed8>, 7: <pyrosetta.rosetta.core.id.TorsionID object at 0x7fa7b3f8ff48>, 8: <pyrosetta.rosetta.core.id.TorsionID object at 0x7fa7b3f8fea0>, 9: <pyrosetta.rosetta.core.id.TorsionID object at 0x7fa7b3f8fd88>, 10: <pyrosetta.rosetta.core.id.TorsionID object at 0x7fa7b3f93110>, 11: <pyrosetta.rosetta.core.id.TorsionID object at 0x7fa7b3f93030>, 12: <pyrosetta.rosetta.core.id.TorsionID object at 0x7fa7b3f930a0>, 13: <pyrosetta.rosetta.core.id.TorsionID object at 0x7fa7b3f931b8>, 14: <pyrosetta.rosetta.core.id.TorsionID object at 0x7fa7b3f93068>, 15: <pyrosetta.rosetta.core.id.TorsionID object at 0x7fa7b3f930d8>, 16: <pyrosetta.rosetta.core.id.TorsionID object at 0x7fa7b3f93148>, 17: <pyrosetta.rosetta.core.id.TorsionID object at 0x7fa7b3f93180>, 18: <pyrosetta.rosetta.core.id.TorsionID object at 0x7fa7b3f931f0>, 19: <pyrosetta.rosetta.core.id.TorsionID object at 0x7fa7b3f93228>, 20: <pyrosetta.rosetta.core.id.TorsionID object at 0x7fa7b3f93260>, 21: <pyrosetta.rosetta.core.id.TorsionID object at 0x7fa7b3f93298>, 22: <pyrosetta.rosetta.core.id.TorsionID object at 0x7fa7b3f932d0>, 23: <pyrosetta.rosetta.core.id.TorsionID object at 0x7fa7b3f93308>, 24: <pyrosetta.rosetta.core.id.TorsionID object at 0x7fa7b3f93340>, 25: <pyrosetta.rosetta.core.id.TorsionID object at 0x7fa7b3f93378>}\n"
     ]
    },
    {
     "name": "stdout",
     "output_type": "stream",
     "text": [
      "Inferring sequence from directory name:  gaa_uuc\n",
      "applying phase space volume for two strand with helix length  3  and dangle length  0\n",
      "{0: <pyrosetta.rosetta.core.id.TorsionID object at 0x7fa7b3f93500>, 1: <pyrosetta.rosetta.core.id.TorsionID object at 0x7fa7b3f934c8>, 2: <pyrosetta.rosetta.core.id.TorsionID object at 0x7fa7b3f93848>, 3: <pyrosetta.rosetta.core.id.TorsionID object at 0x7fa7b3f933e8>, 4: <pyrosetta.rosetta.core.id.TorsionID object at 0x7fa7b3f936c0>, 5: <pyrosetta.rosetta.core.id.TorsionID object at 0x7fa7b3f93730>, 6: <pyrosetta.rosetta.core.id.TorsionID object at 0x7fa7b3f935e0>, 7: <pyrosetta.rosetta.core.id.TorsionID object at 0x7fa7b3f93650>, 8: <pyrosetta.rosetta.core.id.TorsionID object at 0x7fa7b3f93570>, 9: <pyrosetta.rosetta.core.id.TorsionID object at 0x7fa7b3f93538>, 10: <pyrosetta.rosetta.core.id.TorsionID object at 0x7fa7b3f93458>, 11: <pyrosetta.rosetta.core.id.TorsionID object at 0x7fa7b3f937a0>, 12: <pyrosetta.rosetta.core.id.TorsionID object at 0x7fa7b3f93688>, 13: <pyrosetta.rosetta.core.id.TorsionID object at 0x7fa7b3f936f8>, 14: <pyrosetta.rosetta.core.id.TorsionID object at 0x7fa7b3f93768>, 15: <pyrosetta.rosetta.core.id.TorsionID object at 0x7fa7b3f937d8>, 16: <pyrosetta.rosetta.core.id.TorsionID object at 0x7fa7b3f93810>, 17: <pyrosetta.rosetta.core.id.TorsionID object at 0x7fa7b3f93880>, 18: <pyrosetta.rosetta.core.id.TorsionID object at 0x7fa7b3f938b8>, 19: <pyrosetta.rosetta.core.id.TorsionID object at 0x7fa7b3f938f0>, 20: <pyrosetta.rosetta.core.id.TorsionID object at 0x7fa7b3f93928>, 21: <pyrosetta.rosetta.core.id.TorsionID object at 0x7fa7b3f93960>, 22: <pyrosetta.rosetta.core.id.TorsionID object at 0x7fa7b3f93998>, 23: <pyrosetta.rosetta.core.id.TorsionID object at 0x7fa7b3f939d0>, 24: <pyrosetta.rosetta.core.id.TorsionID object at 0x7fa7b3f93a08>, 25: <pyrosetta.rosetta.core.id.TorsionID object at 0x7fa7b3f93a40>}\n",
      "Inferring sequence from directory name:  gac_guc\n",
      "applying phase space volume for two strand with helix length  3  and dangle length  0\n",
      "{0: <pyrosetta.rosetta.core.id.TorsionID object at 0x7fa7b3f93b90>, 1: <pyrosetta.rosetta.core.id.TorsionID object at 0x7fa7b3f93d50>, 2: <pyrosetta.rosetta.core.id.TorsionID object at 0x7fa7b3f93ce0>, 3: <pyrosetta.rosetta.core.id.TorsionID object at 0x7fa7b3f93e30>, 4: <pyrosetta.rosetta.core.id.TorsionID object at 0x7fa7b3f93dc0>, 5: <pyrosetta.rosetta.core.id.TorsionID object at 0x7fa7b3f93ed8>, 6: <pyrosetta.rosetta.core.id.TorsionID object at 0x7fa7b3f93ae8>, 7: <pyrosetta.rosetta.core.id.TorsionID object at 0x7fa7b3f93b20>, 8: <pyrosetta.rosetta.core.id.TorsionID object at 0x7fa7b3f93b58>, 9: <pyrosetta.rosetta.core.id.TorsionID object at 0x7fa7b3f93c38>, 10: <pyrosetta.rosetta.core.id.TorsionID object at 0x7fa7b3f93ca8>, 11: <pyrosetta.rosetta.core.id.TorsionID object at 0x7fa7b3f93d18>, 12: <pyrosetta.rosetta.core.id.TorsionID object at 0x7fa7b3f93d88>, 13: <pyrosetta.rosetta.core.id.TorsionID object at 0x7fa7b3f93df8>, 14: <pyrosetta.rosetta.core.id.TorsionID object at 0x7fa7b3f93e68>, 15: <pyrosetta.rosetta.core.id.TorsionID object at 0x7fa7b3f93ea0>, 16: <pyrosetta.rosetta.core.id.TorsionID object at 0x7fa7b3f93f10>, 17: <pyrosetta.rosetta.core.id.TorsionID object at 0x7fa7b3f93f48>, 18: <pyrosetta.rosetta.core.id.TorsionID object at 0x7fa7b3f93f80>, 19: <pyrosetta.rosetta.core.id.TorsionID object at 0x7fa7b3f93fb8>, 20: <pyrosetta.rosetta.core.id.TorsionID object at 0x7fa7b3f94030>, 21: <pyrosetta.rosetta.core.id.TorsionID object at 0x7fa7b3f94068>, 22: <pyrosetta.rosetta.core.id.TorsionID object at 0x7fa7b3f940a0>, 23: <pyrosetta.rosetta.core.id.TorsionID object at 0x7fa7b3f940d8>, 24: <pyrosetta.rosetta.core.id.TorsionID object at 0x7fa7b3f94110>, 25: <pyrosetta.rosetta.core.id.TorsionID object at 0x7fa7b3f94148>}\n",
      "Inferring sequence from directory name:  gag_cuc\n",
      "applying phase space volume for two strand with helix length  3  and dangle length  0\n",
      "{0: <pyrosetta.rosetta.core.id.TorsionID object at 0x7fa7b3f941f0>, 1: <pyrosetta.rosetta.core.id.TorsionID object at 0x7fa7b3f94260>, 2: <pyrosetta.rosetta.core.id.TorsionID object at 0x7fa7b3f94618>, 3: <pyrosetta.rosetta.core.id.TorsionID object at 0x7fa7b3f94570>, 4: <pyrosetta.rosetta.core.id.TorsionID object at 0x7fa7b3f94490>, 5: <pyrosetta.rosetta.core.id.TorsionID object at 0x7fa7b3f941b8>, 6: <pyrosetta.rosetta.core.id.TorsionID object at 0x7fa7b3f94340>, 7: <pyrosetta.rosetta.core.id.TorsionID object at 0x7fa7b3f94298>, 8: <pyrosetta.rosetta.core.id.TorsionID object at 0x7fa7b3f94228>, 9: <pyrosetta.rosetta.core.id.TorsionID object at 0x7fa7b3f94308>, 10: <pyrosetta.rosetta.core.id.TorsionID object at 0x7fa7b3f94378>, 11: <pyrosetta.rosetta.core.id.TorsionID object at 0x7fa7b3f943e8>, 12: <pyrosetta.rosetta.core.id.TorsionID object at 0x7fa7b3f94458>, 13: <pyrosetta.rosetta.core.id.TorsionID object at 0x7fa7b3f944c8>, 14: <pyrosetta.rosetta.core.id.TorsionID object at 0x7fa7b3f94538>, 15: <pyrosetta.rosetta.core.id.TorsionID object at 0x7fa7b3f945a8>, 16: <pyrosetta.rosetta.core.id.TorsionID object at 0x7fa7b3f945e0>, 17: <pyrosetta.rosetta.core.id.TorsionID object at 0x7fa7b3f94650>, 18: <pyrosetta.rosetta.core.id.TorsionID object at 0x7fa7b3f94688>, 19: <pyrosetta.rosetta.core.id.TorsionID object at 0x7fa7b3f946c0>, 20: <pyrosetta.rosetta.core.id.TorsionID object at 0x7fa7b3f946f8>, 21: <pyrosetta.rosetta.core.id.TorsionID object at 0x7fa7b3f94730>, 22: <pyrosetta.rosetta.core.id.TorsionID object at 0x7fa7b3f94768>, 23: <pyrosetta.rosetta.core.id.TorsionID object at 0x7fa7b3f947a0>, 24: <pyrosetta.rosetta.core.id.TorsionID object at 0x7fa7b3f947d8>, 25: <pyrosetta.rosetta.core.id.TorsionID object at 0x7fa7b3f94810>}\n",
      "Inferring sequence from directory name:  gau_auc\n",
      "applying phase space volume for two strand with helix length  3  and dangle length  0\n",
      "{0: <pyrosetta.rosetta.core.id.TorsionID object at 0x7fa7b3f948f0>, 1: <pyrosetta.rosetta.core.id.TorsionID object at 0x7fa7b3f94a08>, 2: <pyrosetta.rosetta.core.id.TorsionID object at 0x7fa7b3f94d50>, 3: <pyrosetta.rosetta.core.id.TorsionID object at 0x7fa7b3f94880>, 4: <pyrosetta.rosetta.core.id.TorsionID object at 0x7fa7b3f94bc8>, 5: <pyrosetta.rosetta.core.id.TorsionID object at 0x7fa7b3f94c38>, 6: <pyrosetta.rosetta.core.id.TorsionID object at 0x7fa7b3f94ae8>, 7: <pyrosetta.rosetta.core.id.TorsionID object at 0x7fa7b3f94b58>, 8: <pyrosetta.rosetta.core.id.TorsionID object at 0x7fa7b3f94998>, 9: <pyrosetta.rosetta.core.id.TorsionID object at 0x7fa7b3f94a78>, 10: <pyrosetta.rosetta.core.id.TorsionID object at 0x7fa7b3f949d0>, 11: <pyrosetta.rosetta.core.id.TorsionID object at 0x7fa7b3f94ca8>, 12: <pyrosetta.rosetta.core.id.TorsionID object at 0x7fa7b3f94ab0>, 13: <pyrosetta.rosetta.core.id.TorsionID object at 0x7fa7b3f94b20>}\n",
      "Inferring sequence from directory name:  ga_uc\n",
      "applying phase space volume for two strand with helix length  2  and dangle length  0\n",
      "{0: <pyrosetta.rosetta.core.id.TorsionID object at 0x7fa7b3f94df8>, 1: <pyrosetta.rosetta.core.id.TorsionID object at 0x7fa7b3f94c00>, 2: <pyrosetta.rosetta.core.id.TorsionID object at 0x7fa7b3f94ed8>, 3: <pyrosetta.rosetta.core.id.TorsionID object at 0x7fa7b3f94ea0>, 4: <pyrosetta.rosetta.core.id.TorsionID object at 0x7fa7b3f94d88>, 5: <pyrosetta.rosetta.core.id.TorsionID object at 0x7fa7b3f94ce0>, 6: <pyrosetta.rosetta.core.id.TorsionID object at 0x7fa7b3f94e30>, 7: <pyrosetta.rosetta.core.id.TorsionID object at 0x7fa7b3f94f10>, 8: <pyrosetta.rosetta.core.id.TorsionID object at 0x7fa7b3f94f80>, 9: <pyrosetta.rosetta.core.id.TorsionID object at 0x7fa7b3f94f48>, 10: <pyrosetta.rosetta.core.id.TorsionID object at 0x7fa7b3f94fb8>, 11: <pyrosetta.rosetta.core.id.TorsionID object at 0x7fa7b3f95030>, 12: <pyrosetta.rosetta.core.id.TorsionID object at 0x7fa7b3f95068>, 13: <pyrosetta.rosetta.core.id.TorsionID object at 0x7fa7b3f950a0>, 14: <pyrosetta.rosetta.core.id.TorsionID object at 0x7fa7b3f950d8>, 15: <pyrosetta.rosetta.core.id.TorsionID object at 0x7fa7b3f95110>, 16: <pyrosetta.rosetta.core.id.TorsionID object at 0x7fa7b3f95148>, 17: <pyrosetta.rosetta.core.id.TorsionID object at 0x7fa7b3f95180>, 18: <pyrosetta.rosetta.core.id.TorsionID object at 0x7fa7b3f951b8>, 19: <pyrosetta.rosetta.core.id.TorsionID object at 0x7fa7b3f951f0>, 20: <pyrosetta.rosetta.core.id.TorsionID object at 0x7fa7b3f95228>, 21: <pyrosetta.rosetta.core.id.TorsionID object at 0x7fa7b3f95260>, 22: <pyrosetta.rosetta.core.id.TorsionID object at 0x7fa7b3f95298>, 23: <pyrosetta.rosetta.core.id.TorsionID object at 0x7fa7b3f952d0>, 24: <pyrosetta.rosetta.core.id.TorsionID object at 0x7fa7b3f95308>, 25: <pyrosetta.rosetta.core.id.TorsionID object at 0x7fa7b3f95340>}\n"
     ]
    },
    {
     "name": "stdout",
     "output_type": "stream",
     "text": [
      "Inferring sequence from directory name:  gcc_ggc\n",
      "applying phase space volume for two strand with helix length  3  and dangle length  0\n",
      "{0: <pyrosetta.rosetta.core.id.TorsionID object at 0x7fa7b3f953b0>, 1: <pyrosetta.rosetta.core.id.TorsionID object at 0x7fa7b3f95538>, 2: <pyrosetta.rosetta.core.id.TorsionID object at 0x7fa7b3f95848>, 3: <pyrosetta.rosetta.core.id.TorsionID object at 0x7fa7b3f95490>, 4: <pyrosetta.rosetta.core.id.TorsionID object at 0x7fa7b3f956c0>, 5: <pyrosetta.rosetta.core.id.TorsionID object at 0x7fa7b3f95730>, 6: <pyrosetta.rosetta.core.id.TorsionID object at 0x7fa7b3f955e0>, 7: <pyrosetta.rosetta.core.id.TorsionID object at 0x7fa7b3f95650>, 8: <pyrosetta.rosetta.core.id.TorsionID object at 0x7fa7b3f95458>, 9: <pyrosetta.rosetta.core.id.TorsionID object at 0x7fa7b3f953e8>, 10: <pyrosetta.rosetta.core.id.TorsionID object at 0x7fa7b3f954c8>, 11: <pyrosetta.rosetta.core.id.TorsionID object at 0x7fa7b3f957a0>, 12: <pyrosetta.rosetta.core.id.TorsionID object at 0x7fa7b3f95618>, 13: <pyrosetta.rosetta.core.id.TorsionID object at 0x7fa7b3f95688>, 14: <pyrosetta.rosetta.core.id.TorsionID object at 0x7fa7b3f956f8>, 15: <pyrosetta.rosetta.core.id.TorsionID object at 0x7fa7b3f95768>, 16: <pyrosetta.rosetta.core.id.TorsionID object at 0x7fa7b3f957d8>, 17: <pyrosetta.rosetta.core.id.TorsionID object at 0x7fa7b3f95810>, 18: <pyrosetta.rosetta.core.id.TorsionID object at 0x7fa7b3f95880>, 19: <pyrosetta.rosetta.core.id.TorsionID object at 0x7fa7b3f958b8>, 20: <pyrosetta.rosetta.core.id.TorsionID object at 0x7fa7b3f958f0>, 21: <pyrosetta.rosetta.core.id.TorsionID object at 0x7fa7b3f95928>, 22: <pyrosetta.rosetta.core.id.TorsionID object at 0x7fa7b3f95960>, 23: <pyrosetta.rosetta.core.id.TorsionID object at 0x7fa7b3f95998>, 24: <pyrosetta.rosetta.core.id.TorsionID object at 0x7fa7b3f959d0>, 25: <pyrosetta.rosetta.core.id.TorsionID object at 0x7fa7b3f95a08>}\n",
      "Inferring sequence from directory name:  gcg_cgc\n",
      "applying phase space volume for two strand with helix length  3  and dangle length  0\n",
      "{0: <pyrosetta.rosetta.core.id.TorsionID object at 0x7fa7b3f95b58>, 1: <pyrosetta.rosetta.core.id.TorsionID object at 0x7fa7b3f95a78>, 2: <pyrosetta.rosetta.core.id.TorsionID object at 0x7fa7b3f95d50>, 3: <pyrosetta.rosetta.core.id.TorsionID object at 0x7fa7b3f95dc0>, 4: <pyrosetta.rosetta.core.id.TorsionID object at 0x7fa7b3f95c70>, 5: <pyrosetta.rosetta.core.id.TorsionID object at 0x7fa7b3f95ce0>, 6: <pyrosetta.rosetta.core.id.TorsionID object at 0x7fa7b3f95ae8>, 7: <pyrosetta.rosetta.core.id.TorsionID object at 0x7fa7b3f95bc8>, 8: <pyrosetta.rosetta.core.id.TorsionID object at 0x7fa7b3f95e30>, 9: <pyrosetta.rosetta.core.id.TorsionID object at 0x7fa7b3f95c00>, 10: <pyrosetta.rosetta.core.id.TorsionID object at 0x7fa7b3f95b90>, 11: <pyrosetta.rosetta.core.id.TorsionID object at 0x7fa7b3f95ca8>, 12: <pyrosetta.rosetta.core.id.TorsionID object at 0x7fa7b3f95d18>, 13: <pyrosetta.rosetta.core.id.TorsionID object at 0x7fa7b3f95d88>, 14: <pyrosetta.rosetta.core.id.TorsionID object at 0x7fa7b3f95df8>, 15: <pyrosetta.rosetta.core.id.TorsionID object at 0x7fa7b3f95e68>, 16: <pyrosetta.rosetta.core.id.TorsionID object at 0x7fa7b3f95ea0>, 17: <pyrosetta.rosetta.core.id.TorsionID object at 0x7fa7b3f95f10>, 18: <pyrosetta.rosetta.core.id.TorsionID object at 0x7fa7b3f95f48>, 19: <pyrosetta.rosetta.core.id.TorsionID object at 0x7fa7b3f95f80>, 20: <pyrosetta.rosetta.core.id.TorsionID object at 0x7fa7b3f95fb8>, 21: <pyrosetta.rosetta.core.id.TorsionID object at 0x7fa7b3f96030>, 22: <pyrosetta.rosetta.core.id.TorsionID object at 0x7fa7b3f96068>, 23: <pyrosetta.rosetta.core.id.TorsionID object at 0x7fa7b3f960a0>, 24: <pyrosetta.rosetta.core.id.TorsionID object at 0x7fa7b3f960d8>, 25: <pyrosetta.rosetta.core.id.TorsionID object at 0x7fa7b3f96110>}\n",
      "Inferring sequence from directory name:  gga_ucc\n",
      "applying phase space volume for two strand with helix length  3  and dangle length  0\n",
      "{0: <pyrosetta.rosetta.core.id.TorsionID object at 0x7fa7b3f961b8>, 1: <pyrosetta.rosetta.core.id.TorsionID object at 0x7fa7b3f963b0>, 2: <pyrosetta.rosetta.core.id.TorsionID object at 0x7fa7b3f961f0>, 3: <pyrosetta.rosetta.core.id.TorsionID object at 0x7fa7b3f96228>, 4: <pyrosetta.rosetta.core.id.TorsionID object at 0x7fa7b3f966c0>, 5: <pyrosetta.rosetta.core.id.TorsionID object at 0x7fa7b3f964c8>, 6: <pyrosetta.rosetta.core.id.TorsionID object at 0x7fa7b3f96538>, 7: <pyrosetta.rosetta.core.id.TorsionID object at 0x7fa7b3f963e8>, 8: <pyrosetta.rosetta.core.id.TorsionID object at 0x7fa7b3f96458>, 9: <pyrosetta.rosetta.core.id.TorsionID object at 0x7fa7b3f96618>, 10: <pyrosetta.rosetta.core.id.TorsionID object at 0x7fa7b3f96378>, 11: <pyrosetta.rosetta.core.id.TorsionID object at 0x7fa7b3f96420>, 12: <pyrosetta.rosetta.core.id.TorsionID object at 0x7fa7b3f96490>, 13: <pyrosetta.rosetta.core.id.TorsionID object at 0x7fa7b3f96500>}\n",
      "Inferring sequence from directory name:  gg_cc\n",
      "applying phase space volume for two strand with helix length  2  and dangle length  0\n",
      "{0: <pyrosetta.rosetta.core.id.TorsionID object at 0x7fa7b3f96570>, 1: <pyrosetta.rosetta.core.id.TorsionID object at 0x7fa7b3f96730>, 2: <pyrosetta.rosetta.core.id.TorsionID object at 0x7fa7b3f965a8>, 3: <pyrosetta.rosetta.core.id.TorsionID object at 0x7fa7b3f962d0>, 4: <pyrosetta.rosetta.core.id.TorsionID object at 0x7fa7b3f96a08>, 5: <pyrosetta.rosetta.core.id.TorsionID object at 0x7fa7b3f968f0>, 6: <pyrosetta.rosetta.core.id.TorsionID object at 0x7fa7b3f967a0>, 7: <pyrosetta.rosetta.core.id.TorsionID object at 0x7fa7b3f96880>, 8: <pyrosetta.rosetta.core.id.TorsionID object at 0x7fa7b3f96688>, 9: <pyrosetta.rosetta.core.id.TorsionID object at 0x7fa7b3f965e0>, 10: <pyrosetta.rosetta.core.id.TorsionID object at 0x7fa7b3f96650>, 11: <pyrosetta.rosetta.core.id.TorsionID object at 0x7fa7b3f967d8>, 12: <pyrosetta.rosetta.core.id.TorsionID object at 0x7fa7b3f96848>, 13: <pyrosetta.rosetta.core.id.TorsionID object at 0x7fa7b3f968b8>, 14: <pyrosetta.rosetta.core.id.TorsionID object at 0x7fa7b3f96928>, 15: <pyrosetta.rosetta.core.id.TorsionID object at 0x7fa7b3f96998>, 16: <pyrosetta.rosetta.core.id.TorsionID object at 0x7fa7b3f969d0>, 17: <pyrosetta.rosetta.core.id.TorsionID object at 0x7fa7b3f96a40>, 18: <pyrosetta.rosetta.core.id.TorsionID object at 0x7fa7b3f96a78>, 19: <pyrosetta.rosetta.core.id.TorsionID object at 0x7fa7b3f96ab0>, 20: <pyrosetta.rosetta.core.id.TorsionID object at 0x7fa7b3f96ae8>, 21: <pyrosetta.rosetta.core.id.TorsionID object at 0x7fa7b3f96b20>, 22: <pyrosetta.rosetta.core.id.TorsionID object at 0x7fa7b3f96b58>, 23: <pyrosetta.rosetta.core.id.TorsionID object at 0x7fa7b3f96b90>, 24: <pyrosetta.rosetta.core.id.TorsionID object at 0x7fa7b3f96bc8>, 25: <pyrosetta.rosetta.core.id.TorsionID object at 0x7fa7b3f96c00>}\n",
      "Inferring sequence from directory name:  ggc_gcc\n",
      "applying phase space volume for two strand with helix length  3  and dangle length  0\n",
      "{0: <pyrosetta.rosetta.core.id.TorsionID object at 0x7fa7b3f96d18>, 1: <pyrosetta.rosetta.core.id.TorsionID object at 0x7fa7b3f96dc0>, 2: <pyrosetta.rosetta.core.id.TorsionID object at 0x7fa7b3f96d88>, 3: <pyrosetta.rosetta.core.id.TorsionID object at 0x7fa7b3f96ce0>, 4: <pyrosetta.rosetta.core.id.TorsionID object at 0x7fa7b3f96c70>, 5: <pyrosetta.rosetta.core.id.TorsionID object at 0x7fa7b3f96768>, 6: <pyrosetta.rosetta.core.id.TorsionID object at 0x7fa7b3f96f10>, 7: <pyrosetta.rosetta.core.id.TorsionID object at 0x7fa7b3f96f80>, 8: <pyrosetta.rosetta.core.id.TorsionID object at 0x7fa7b3f96ca8>, 9: <pyrosetta.rosetta.core.id.TorsionID object at 0x7fa7b3f96ea0>, 10: <pyrosetta.rosetta.core.id.TorsionID object at 0x7fa7b3f96d50>, 11: <pyrosetta.rosetta.core.id.TorsionID object at 0x7fa7b3f96df8>, 12: <pyrosetta.rosetta.core.id.TorsionID object at 0x7fa7b3f99030>, 13: <pyrosetta.rosetta.core.id.TorsionID object at 0x7fa7b3f99068>, 14: <pyrosetta.rosetta.core.id.TorsionID object at 0x7fa7b3f990a0>, 15: <pyrosetta.rosetta.core.id.TorsionID object at 0x7fa7b3f990d8>, 16: <pyrosetta.rosetta.core.id.TorsionID object at 0x7fa7b3f99110>, 17: <pyrosetta.rosetta.core.id.TorsionID object at 0x7fa7b3f99148>, 18: <pyrosetta.rosetta.core.id.TorsionID object at 0x7fa7b3f99180>, 19: <pyrosetta.rosetta.core.id.TorsionID object at 0x7fa7b3f991b8>, 20: <pyrosetta.rosetta.core.id.TorsionID object at 0x7fa7b3f991f0>, 21: <pyrosetta.rosetta.core.id.TorsionID object at 0x7fa7b3f99228>, 22: <pyrosetta.rosetta.core.id.TorsionID object at 0x7fa7b3f99260>, 23: <pyrosetta.rosetta.core.id.TorsionID object at 0x7fa7b3f99298>, 24: <pyrosetta.rosetta.core.id.TorsionID object at 0x7fa7b3f992d0>, 25: <pyrosetta.rosetta.core.id.TorsionID object at 0x7fa7b3f99308>}\n"
     ]
    },
    {
     "name": "stdout",
     "output_type": "stream",
     "text": [
      "Inferring sequence from directory name:  ggg_ccc\n",
      "applying phase space volume for two strand with helix length  3  and dangle length  0\n",
      "{0: <pyrosetta.rosetta.core.id.TorsionID object at 0x7fa7b3f99500>, 1: <pyrosetta.rosetta.core.id.TorsionID object at 0x7fa7b3f994c8>, 2: <pyrosetta.rosetta.core.id.TorsionID object at 0x7fa7b3f997d8>, 3: <pyrosetta.rosetta.core.id.TorsionID object at 0x7fa7b3f99378>, 4: <pyrosetta.rosetta.core.id.TorsionID object at 0x7fa7b3f99650>, 5: <pyrosetta.rosetta.core.id.TorsionID object at 0x7fa7b3f996c0>, 6: <pyrosetta.rosetta.core.id.TorsionID object at 0x7fa7b3f99570>, 7: <pyrosetta.rosetta.core.id.TorsionID object at 0x7fa7b3f995e0>, 8: <pyrosetta.rosetta.core.id.TorsionID object at 0x7fa7b3f99458>, 9: <pyrosetta.rosetta.core.id.TorsionID object at 0x7fa7b3f99538>, 10: <pyrosetta.rosetta.core.id.TorsionID object at 0x7fa7b3f99420>, 11: <pyrosetta.rosetta.core.id.TorsionID object at 0x7fa7b3f99730>, 12: <pyrosetta.rosetta.core.id.TorsionID object at 0x7fa7b3f99618>, 13: <pyrosetta.rosetta.core.id.TorsionID object at 0x7fa7b3f99688>, 14: <pyrosetta.rosetta.core.id.TorsionID object at 0x7fa7b3f996f8>, 15: <pyrosetta.rosetta.core.id.TorsionID object at 0x7fa7b3f99768>, 16: <pyrosetta.rosetta.core.id.TorsionID object at 0x7fa7b3f997a0>, 17: <pyrosetta.rosetta.core.id.TorsionID object at 0x7fa7b3f99810>, 18: <pyrosetta.rosetta.core.id.TorsionID object at 0x7fa7b3f99848>, 19: <pyrosetta.rosetta.core.id.TorsionID object at 0x7fa7b3f99880>, 20: <pyrosetta.rosetta.core.id.TorsionID object at 0x7fa7b3f998b8>, 21: <pyrosetta.rosetta.core.id.TorsionID object at 0x7fa7b3f998f0>, 22: <pyrosetta.rosetta.core.id.TorsionID object at 0x7fa7b3f99928>, 23: <pyrosetta.rosetta.core.id.TorsionID object at 0x7fa7b3f99960>, 24: <pyrosetta.rosetta.core.id.TorsionID object at 0x7fa7b3f99998>, 25: <pyrosetta.rosetta.core.id.TorsionID object at 0x7fa7b3f999d0>}\n",
      "Inferring sequence from directory name:  ggu_acc\n",
      "applying phase space volume for two strand with helix length  3  and dangle length  0\n",
      "\u001b[0mcore.optimization.LineMinimizer: \u001b[0m\u001b[31m\u001b[1m[ ERROR ]\u001b[0m \u001b[31mInaccurate G! step= 3.8147e-06 Deriv= -4.29211e-05 Finite Diff= 0.000131927\u001b[0m\n",
      "{0: <pyrosetta.rosetta.core.id.TorsionID object at 0x7fa7b3f99d18>, 1: <pyrosetta.rosetta.core.id.TorsionID object at 0x7fa7b3f99b20>, 2: <pyrosetta.rosetta.core.id.TorsionID object at 0x7fa7b3f99ae8>, 3: <pyrosetta.rosetta.core.id.TorsionID object at 0x7fa7b3f99bc8>, 4: <pyrosetta.rosetta.core.id.TorsionID object at 0x7fa7b3f99c38>, 5: <pyrosetta.rosetta.core.id.TorsionID object at 0x7fa7b3f99b58>, 6: <pyrosetta.rosetta.core.id.TorsionID object at 0x7fa7b3f99b90>, 7: <pyrosetta.rosetta.core.id.TorsionID object at 0x7fa7b3f99a78>, 8: <pyrosetta.rosetta.core.id.TorsionID object at 0x7fa7b3f99a40>, 9: <pyrosetta.rosetta.core.id.TorsionID object at 0x7fa7b3f99ab0>, 10: <pyrosetta.rosetta.core.id.TorsionID object at 0x7fa7b3f99c00>, 11: <pyrosetta.rosetta.core.id.TorsionID object at 0x7fa7b3f99c70>, 12: <pyrosetta.rosetta.core.id.TorsionID object at 0x7fa7b3f99ce0>, 13: <pyrosetta.rosetta.core.id.TorsionID object at 0x7fa7b3f99d50>}\n",
      "Inferring sequence from directory name:  gu_ac\n",
      "applying phase space volume for two strand with helix length  2  and dangle length  0\n",
      "{0: <pyrosetta.rosetta.core.id.TorsionID object at 0x7fa7b3f99e30>, 1: <pyrosetta.rosetta.core.id.TorsionID object at 0x7fa7b3f99e68>, 2: <pyrosetta.rosetta.core.id.TorsionID object at 0x7fa7b3f96e30>, 3: <pyrosetta.rosetta.core.id.TorsionID object at 0x7fa7b3f9b030>, 4: <pyrosetta.rosetta.core.id.TorsionID object at 0x7fa7b3f9b068>, 5: <pyrosetta.rosetta.core.id.TorsionID object at 0x7fa7b3f9b0a0>, 6: <pyrosetta.rosetta.core.id.TorsionID object at 0x7fa7b3f9b0d8>, 7: <pyrosetta.rosetta.core.id.TorsionID object at 0x7fa7b3f9b110>, 8: <pyrosetta.rosetta.core.id.TorsionID object at 0x7fa7b3f9b148>, 9: <pyrosetta.rosetta.core.id.TorsionID object at 0x7fa7b3f9b180>, 10: <pyrosetta.rosetta.core.id.TorsionID object at 0x7fa7b3f9b1b8>, 11: <pyrosetta.rosetta.core.id.TorsionID object at 0x7fa7b3f9b1f0>, 12: <pyrosetta.rosetta.core.id.TorsionID object at 0x7fa7b3f9b228>, 13: <pyrosetta.rosetta.core.id.TorsionID object at 0x7fa7b3f9b260>, 14: <pyrosetta.rosetta.core.id.TorsionID object at 0x7fa7b3f9b298>, 15: <pyrosetta.rosetta.core.id.TorsionID object at 0x7fa7b3f9b2d0>, 16: <pyrosetta.rosetta.core.id.TorsionID object at 0x7fa7b3f9b308>, 17: <pyrosetta.rosetta.core.id.TorsionID object at 0x7fa7b3f9b340>, 18: <pyrosetta.rosetta.core.id.TorsionID object at 0x7fa7b3f9b378>, 19: <pyrosetta.rosetta.core.id.TorsionID object at 0x7fa7b3f9b3b0>, 20: <pyrosetta.rosetta.core.id.TorsionID object at 0x7fa7b3f9b3e8>, 21: <pyrosetta.rosetta.core.id.TorsionID object at 0x7fa7b3f9b420>, 22: <pyrosetta.rosetta.core.id.TorsionID object at 0x7fa7b3f9b458>, 23: <pyrosetta.rosetta.core.id.TorsionID object at 0x7fa7b3f9b490>, 24: <pyrosetta.rosetta.core.id.TorsionID object at 0x7fa7b3f9b4c8>, 25: <pyrosetta.rosetta.core.id.TorsionID object at 0x7fa7b3f9b500>}\n",
      "Inferring sequence from directory name:  guc_gac\n",
      "applying phase space volume for two strand with helix length  3  and dangle length  0\n",
      "{0: <pyrosetta.rosetta.core.id.TorsionID object at 0x7fa7b3f9b6f8>, 1: <pyrosetta.rosetta.core.id.TorsionID object at 0x7fa7b3f9b688>, 2: <pyrosetta.rosetta.core.id.TorsionID object at 0x7fa7b3f9ba08>, 3: <pyrosetta.rosetta.core.id.TorsionID object at 0x7fa7b3f9b570>, 4: <pyrosetta.rosetta.core.id.TorsionID object at 0x7fa7b3f9b880>, 5: <pyrosetta.rosetta.core.id.TorsionID object at 0x7fa7b3f9b8f0>, 6: <pyrosetta.rosetta.core.id.TorsionID object at 0x7fa7b3f9b7a0>, 7: <pyrosetta.rosetta.core.id.TorsionID object at 0x7fa7b3f9b810>, 8: <pyrosetta.rosetta.core.id.TorsionID object at 0x7fa7b3f9b650>, 9: <pyrosetta.rosetta.core.id.TorsionID object at 0x7fa7b3f9b5a8>, 10: <pyrosetta.rosetta.core.id.TorsionID object at 0x7fa7b3f9b730>, 11: <pyrosetta.rosetta.core.id.TorsionID object at 0x7fa7b3f9b960>, 12: <pyrosetta.rosetta.core.id.TorsionID object at 0x7fa7b3f9b7d8>, 13: <pyrosetta.rosetta.core.id.TorsionID object at 0x7fa7b3f9b848>, 14: <pyrosetta.rosetta.core.id.TorsionID object at 0x7fa7b3f9b8b8>, 15: <pyrosetta.rosetta.core.id.TorsionID object at 0x7fa7b3f9b928>, 16: <pyrosetta.rosetta.core.id.TorsionID object at 0x7fa7b3f9b998>, 17: <pyrosetta.rosetta.core.id.TorsionID object at 0x7fa7b3f9b9d0>, 18: <pyrosetta.rosetta.core.id.TorsionID object at 0x7fa7b3f9ba40>, 19: <pyrosetta.rosetta.core.id.TorsionID object at 0x7fa7b3f9ba78>, 20: <pyrosetta.rosetta.core.id.TorsionID object at 0x7fa7b3f9bab0>, 21: <pyrosetta.rosetta.core.id.TorsionID object at 0x7fa7b3f9bae8>, 22: <pyrosetta.rosetta.core.id.TorsionID object at 0x7fa7b3f9bb20>, 23: <pyrosetta.rosetta.core.id.TorsionID object at 0x7fa7b3f9bb58>, 24: <pyrosetta.rosetta.core.id.TorsionID object at 0x7fa7b3f9bb90>, 25: <pyrosetta.rosetta.core.id.TorsionID object at 0x7fa7b3f9bbc8>}\n",
      "Inferring sequence from directory name:  guu_aac\n",
      "applying phase space volume for two strand with helix length  3  and dangle length  0\n"
     ]
    }
   ],
   "source": [
    "sims = ['aaa_uuu', 'aa_uu', 'cc_gg', 'ccc_ggg', 'cc_gg', 'gaa_uuc', 'gac_guc', 'gag_cuc', 'gau_auc', 'ga_uc', 'gcc_ggc', 'gcg_cgc', 'gga_ucc', 'gg_cc', 'ggc_gcc', 'ggg_ccc', 'ggu_acc', 'gu_ac', 'guc_gac', 'guu_aac']\n",
    "\n",
    "harmonic_E = []\n",
    "RECCES_E = []\n",
    "DOS_E = []\n",
    "\n",
    "E = np.linspace(-100,800,9001)\n",
    "\n",
    "for sim in sims:\n",
    "    \n",
    "    seqs = sim.split('_')\n",
    "    seq1 = seqs[0]\n",
    "    seq2 = seqs[1]\n",
    "    \n",
    "    fuck = MiningMinima(seq1, seq2)\n",
    "    \n",
    "    hist = SingleHistSimulation('./../../../recces_rosetta/results/'+sim+'/ST/')\n",
    "    \n",
    "    harmonic_E.append(fuck.harmonic_free_energy)\n",
    "    RECCES_E.append(hist.value)\n",
    "    DOS_E.append(-scipy.special.logsumexp(-E, b=fuck.dos(E)))"
   ]
  },
  {
   "cell_type": "code",
   "execution_count": 10,
   "metadata": {},
   "outputs": [
    {
     "name": "stdout",
     "output_type": "stream",
     "text": [
      "[-22.013248608064146, -14.346713753170445, -14.83363370821115, -26.21704767875186, -14.83363370821115, -26.433248301537837, -29.04056988369406, -29.726004831873404, -37.85472039825261, -24.494923174063576, -43.29995684235159, -33.3916524313496, -30.54819795033147, -27.596761587148652, -34.213157992836905, -43.285648377745424, -30.032723213000104, -18.23849977346779, -28.672210745211018, -25.526690290511517]\n",
      "[-31.450480207155337, -19.52413189554006, -12.209545552487675, -33.176828681250726, -12.209545552487675, -35.819623631367364, -38.74417465129976, -38.55766644250117, -34.99099104871327, -23.843214655490215, -42.71801701355598, -38.40665533462649, -38.81414816895705, -26.67825208024459, -43.38011862431668, -41.61816206673632, -38.626908917791354, -22.86346139941424, -38.12347473190161, -36.77122156741494]\n",
      "[-33.753065300149494, -21.826716988533654, -14.512130645481403, -35.47941377424477, -14.512130645481403, -38.12220872436132, -41.046759744293716, -40.86025153549516, -37.293576141707426, -26.145799748484414, -45.02060210654985, -40.70924042762034, -41.116733261951076, -28.980837173238157, -45.68270371731064, -43.92074715973029, -40.92949401078531, -25.166046492407844, -40.426059824895766, -39.07380666040911]\n"
     ]
    },
    {
     "data": {
      "text/plain": [
       "[<matplotlib.lines.Line2D at 0x7fa7b3f8da50>]"
      ]
     },
     "execution_count": 10,
     "metadata": {},
     "output_type": "execute_result"
    },
    {
     "data": {
      "image/png": "[encoded data removed]",
      "text/plain": [
       "<Figure size 432x288 with 1 Axes>"
      ]
     },
     "metadata": {},
     "output_type": "display_data"
    }
   ],
   "source": [
    "print RECCES_E\n",
    "print harmonic_E\n",
    "print DOS_E\n",
    "plt.scatter(RECCES_E, DOS_E)\n",
    "plt.plot([-45,-15],[-45,-15])"
   ]
  },
  {
   "cell_type": "code",
   "execution_count": null,
   "metadata": {},
   "outputs": [],
   "source": [
    "from recces.util import *\n",
    "from recces.data import *"
   ]
  },
  {
   "cell_type": "code",
   "execution_count": null,
   "metadata": {},
   "outputs": [],
   "source": [
    "sim = SingleHistSimulation('./../../../recces_rosetta/results/'+seq1+'_'+seq2+'/ST/')"
   ]
  },
  {
   "cell_type": "code",
   "execution_count": null,
   "metadata": {},
   "outputs": [],
   "source": [
    "print sim.value\n",
    "-np.log(np.trapz(sim._dos, dx=0.1))\n",
    "'guu_acc'.split('_')"
   ]
  },
  {
   "cell_type": "code",
   "execution_count": null,
   "metadata": {
    "scrolled": true
   },
   "outputs": [],
   "source": [
    "import matplotlib as mpl\n",
    "import matplotlib.pyplot as plt\n",
    "import scipy\n",
    "\n",
    "E = np.linspace(-100,100,2001)\n",
    "\n",
    "plt.plot(E, fuck.dos(E)*np.exp(-E))\n",
    "plt.plot(sim._dos_scores[:2000], sim._dos[:2000]*np.exp(-sim._dos_scores[:2000]))\n",
    "plt.xlabel('energy (REU)')\n",
    "plt.ylabel('$g(E)e^{-E/kT}$')\n",
    "plt.legend(('MM', 'RECCES'))\n",
    "print -scipy.special.logsumexp(-E, b=fuck.dos(E)), sim.value, fuck.harmonic_free_energy"
   ]
  },
  {
   "cell_type": "code",
   "execution_count": null,
   "metadata": {},
   "outputs": [],
   "source": [
    "print fuck.anharmonic_free_energy\n",
    "print fuck.harmonic_free_energy"
   ]
  },
  {
   "cell_type": "code",
   "execution_count": null,
   "metadata": {},
   "outputs": [],
   "source": [
    "\n",
    "print fuck.modes[:,0]\n",
    "pmm.apply(fuck.min_pose)"
   ]
  },
  {
   "cell_type": "code",
   "execution_count": null,
   "metadata": {},
   "outputs": [],
   "source": [
    "n_struct = 200\n",
    "\n",
    "ensemble = fuck.harmonic_ensemble(n_struct = n_struct)\n",
    "#print ensemble[2,:]-min_dofs\n",
    "#print np.sqrt(H)/np.sqrt((2*np.pi)**fuck.n_dofs)*np.exp(-np.dot(fuck.eigenvalues, ((min_dofs-ensemble[0,:])*np.pi/180)**2)/2)"
   ]
  },
  {
   "cell_type": "code",
   "execution_count": null,
   "metadata": {},
   "outputs": [],
   "source": [
    "pose = Pose()\n",
    "pose.assign(fuck.min_pose)\n",
    "\n",
    "hist_min = -100\n",
    "hist_max = 100\n",
    "delE = 0.1\n",
    "\n",
    "hist_scores = np.linspace(hist_min, hist_max, int((hist_max-hist_min)/delE)+1)\n",
    "\n",
    "hist = np.zeros_like(hist_scores)\n",
    "\n",
    "for i in range(n_struct):\n",
    "    \n",
    "    dofs = ensemble[i,:]\n",
    "    \n",
    "    for key in fuck.dof_dict: pose.set_torsion(fuck.dof_dict[key], dofs[key])\n",
    "        \n",
    "    energy = fuck.scorefxn(pose)\n",
    "    \n",
    "    if energy < hist_max+delE:\n",
    "             \n",
    "        hist_idx = math.floor((energy-hist_min)/delE)\n",
    "        hist_idx = int(hist_idx)\n",
    "        hist[hist_idx] += 1\n"
   ]
  },
  {
   "cell_type": "code",
   "execution_count": null,
   "metadata": {},
   "outputs": [],
   "source": [
    "shit = hist*np.exp(hist_scores)/np.sum(hist)\n",
    "shit = shit/np.sum(shit)\n",
    "print -scipy.special.logsumexp(-hist_scores, b = shit)\n",
    "plt.plot(hist_scores, shit*np.exp(-hist_scores)/torsion_volume(seq1, seq2))\n",
    "plt.plot(sim._dos_scores[:2000], sim._dos[:2000]*np.exp(-sim._dos_scores[:2000]))"
   ]
  },
  {
   "cell_type": "code",
   "execution_count": null,
   "metadata": {},
   "outputs": [],
   "source": [
    "pose = Pose()\n",
    "pose_new = Pose()\n",
    "pose.assign(fuck.min_pose)\n",
    "for key in fuck.dof_dict: pose.set_torsion(fuck.dof_dict[key],ensemble[0,:][key])\n",
    "\n",
    "pose_new.assign(pose)\n",
    "\n",
    "E_0 = fuck.scorefxn(fuck.min_pose)\n",
    "energy = E_0\n",
    "\n",
    "min_dofs = [fuck.min_pose.torsion(fuck.dof_dict[key]) for key in fuck.dof_dict]\n",
    "curr_dofs = min_dofs\n",
    "print min_dofs\n",
    "\n",
    "Z = 0\n",
    "H = np.product(fuck.eigenvalues)\n",
    "\n",
    "for j in range(1,n_struct):\n",
    "    \n",
    "    trial_move = ensemble[j, :]\n",
    "     \n",
    "    for key in fuck.dof_dict: pose_new.set_torsion(fuck.dof_dict[key], trial_move[key]) \n",
    "\n",
    "    energy_new = fuck.scorefxn(pose_new)\n",
    "    \n",
    "    if np.exp(-(energy_new-energy)) > np.random.random():\n",
    "        \n",
    "        energy = energy_new\n",
    "        pose.assign(pose_new)\n",
    "        curr_dofs = trial_move\n",
    "        \n",
    "    \n",
    "\n",
    "        #p = np.sqrt(H/(2*np.pi)**fuck.n_dofs)*np.exp(-np.dot(fuck.eigenvalues, ((trial_move-min_dofs)*(np.pi/180)**2)**2)/2)\n",
    "    if energy < hist_max+delE:\n",
    "             \n",
    "        hist_idx = math.floor((energy-hist_min)/delE)\n",
    "        hist_idx = int(hist_idx)\n",
    "        hist[hist_idx] += 1\n",
    "\n",
    "    "
   ]
  },
  {
   "cell_type": "code",
   "execution_count": null,
   "metadata": {},
   "outputs": [],
   "source": [
    "#plt.plot(hist_scores, hist)\n",
    "shit = hist/np.sum(hist)\n",
    "shit = shit*np.exp(hist_scores)\n",
    "shit = shit/np.sum(shit)\n",
    "#plt.plot(hist_scores, shit)\n",
    "plt.plot(hist_scores, hist/np.sum(hist))\n",
    "print -np.log(np.exp(-E_0)*(0.25)**fuck.n_dofs/0.35)\n"
   ]
  },
  {
   "cell_type": "code",
   "execution_count": null,
   "metadata": {
    "scrolled": true
   },
   "outputs": [],
   "source": [
    "print ensemble\n",
    "pmm = PyMOLMover()\n",
    "pmm.keep_history(True)\n",
    "print ensemble[1,:]"
   ]
  },
  {
   "cell_type": "code",
   "execution_count": null,
   "metadata": {},
   "outputs": [],
   "source": [
    "pose = Pose()\n",
    "pose.assign(fuck.min_pose)\n",
    "\n",
    "for i in range(200):\n",
    "    \n",
    "    dofs = ensemble[i,:]\n",
    "    for key in fuck.dof_dict: pose.set_torsion(fuck.dof_dict[key], dofs[key]) \n",
    "    pmm.apply(pose)\n",
    "    "
   ]
  },
  {
   "cell_type": "code",
   "execution_count": null,
   "metadata": {},
   "outputs": [],
   "source": [
    "print np.cov(ensemble)"
   ]
  },
  {
   "cell_type": "code",
   "execution_count": null,
   "metadata": {},
   "outputs": [],
   "source": [
    "w,v = np.linalg.eigh(np.cov(ensemble.T))\n",
    "print fuck.eigenvalues"
   ]
  },
  {
   "cell_type": "code",
   "execution_count": null,
   "metadata": {},
   "outputs": [],
   "source": [
    "print 1/w*180*180/np.pi/np.pi"
   ]
  },
  {
   "cell_type": "code",
   "execution_count": null,
   "metadata": {},
   "outputs": [],
   "source": [
    "\n",
    "print fuck.min_energy - 0.5*fuck.n_dofs*np.log(2*np.pi) + 0.5*np.log(np.prod(1/w))"
   ]
  },
  {
   "cell_type": "code",
   "execution_count": null,
   "metadata": {},
   "outputs": [],
   "source": [
    "print fuck.anharmonic_free_energy"
   ]
  },
  {
   "cell_type": "code",
   "execution_count": null,
   "metadata": {},
   "outputs": [],
   "source": [
    "print fuck.min_pose"
   ]
  },
  {
   "cell_type": "code",
   "execution_count": null,
   "metadata": {},
   "outputs": [],
   "source": [
    "mu = np.zeros(fuck.n_dofs)"
   ]
  },
  {
   "cell_type": "code",
   "execution_count": null,
   "metadata": {},
   "outputs": [],
   "source": [
    "print mu"
   ]
  },
  {
   "cell_type": "code",
   "execution_count": null,
   "metadata": {},
   "outputs": [],
   "source": [
    "mu = [fuck.min_pose.torsion(fuck.dof_dict[key]) for key in fuck.dof_dict]"
   ]
  },
  {
   "cell_type": "code",
   "execution_count": null,
   "metadata": {},
   "outputs": [],
   "source": [
    "print mu\n",
    "bitch = np.linalg.inv(fuck.hessian)"
   ]
  },
  {
   "cell_type": "code",
   "execution_count": null,
   "metadata": {},
   "outputs": [],
   "source": [
    "shit = np.random.multivariate_normal(mu, bitch, size=(2000))"
   ]
  },
  {
   "cell_type": "code",
   "execution_count": null,
   "metadata": {},
   "outputs": [],
   "source": [
    "print shit[0,:]"
   ]
  },
  {
   "cell_type": "code",
   "execution_count": null,
   "metadata": {},
   "outputs": [],
   "source": [
    "random_struct = np.zeros((fuck.n_dofs, 2000))\n",
    "\n",
    "for j in range(2000):\n",
    "    \n",
    "    random_struct[:,j] = np.random.multivariate_normal(mu, bitch)"
   ]
  },
  {
   "cell_type": "code",
   "execution_count": null,
   "metadata": {},
   "outputs": [],
   "source": [
    "print random_struct"
   ]
  },
  {
   "cell_type": "code",
   "execution_count": null,
   "metadata": {},
   "outputs": [],
   "source": [
    "print np.cov(random_struct)"
   ]
  },
  {
   "cell_type": "code",
   "execution_count": null,
   "metadata": {},
   "outputs": [],
   "source": [
    "w,v = np.linalg.eigh(np.cov(random_struct))"
   ]
  },
  {
   "cell_type": "code",
   "execution_count": null,
   "metadata": {},
   "outputs": [],
   "source": [
    "print 1/w\n"
   ]
  },
  {
   "cell_type": "code",
   "execution_count": null,
   "metadata": {},
   "outputs": [],
   "source": [
    "cu_ag = MiningMinima('cuc', 'gag')"
   ]
  },
  {
   "cell_type": "code",
   "execution_count": null,
   "metadata": {},
   "outputs": [],
   "source": [
    "cu_ag.harmonic_free_energy"
   ]
  },
  {
   "cell_type": "code",
   "execution_count": null,
   "metadata": {},
   "outputs": [],
   "source": [
    "ensemble = cu_ag.harmonic_ensemble()"
   ]
  },
  {
   "cell_type": "code",
   "execution_count": null,
   "metadata": {},
   "outputs": [],
   "source": [
    "cu_ag.eigenvalues"
   ]
  },
  {
   "cell_type": "code",
   "execution_count": null,
   "metadata": {},
   "outputs": [],
   "source": [
    "np.diag(1/cu_ag.eigenvalues)"
   ]
  },
  {
   "cell_type": "code",
   "execution_count": null,
   "metadata": {},
   "outputs": [],
   "source": [
    "np.matmul( np.matmul( cu_ag.modes, np.diag(1/cu_ag.eigenvalues)), cu_ag.modes.T)"
   ]
  },
  {
   "cell_type": "code",
   "execution_count": null,
   "metadata": {},
   "outputs": [],
   "source": [
    "np.linalg.inv(cu_ag.hessian)"
   ]
  },
  {
   "cell_type": "code",
   "execution_count": null,
   "metadata": {},
   "outputs": [],
   "source": [
    "np."
   ]
  }
 ],
 "metadata": {
  "kernelspec": {
   "display_name": "Python 2",
   "language": "python",
   "name": "python2"
  },
  "language_info": {
   "codemirror_mode": {
    "name": "ipython",
    "version": 2
   },
   "file_extension": ".py",
   "mimetype": "text/x-python",
   "name": "python",
   "nbconvert_exporter": "python",
   "pygments_lexer": "ipython2",
   "version": "2.7.12"
  }
 },
 "nbformat": 4,
 "nbformat_minor": 2
}
