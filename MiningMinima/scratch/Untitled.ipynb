{
 "cells": [
  {
   "cell_type": "code",
   "execution_count": 1,
   "metadata": {},
   "outputs": [
    {
     "name": "stdout",
     "output_type": "stream",
     "text": [
      "Found rosetta database at: /usr/local/lib/python2.7/dist-packages/pyrosetta-2018.11+release.7c7790f-py2.7-linux-x86_64.egg/pyrosetta/database; using it....\n",
      "PyRosetta-4 2017 [Rosetta PyRosetta4.Release.python27.ubuntu 2018.11+release.7c7790f7c7790fbb898f8210b54513b9f9c8a927c3e8d7f 2018-03-14T13:19:04] retrieved from: http://www.pyrosetta.org\n",
      "(C) Copyright Rosetta Commons Member Institutions.\n",
      "Created in JHU by Sergey Lyskov and PyRosetta Team.\n",
      "\n",
      "\u001b[0mcore.init: \u001b[0mChecking for fconfig files in pwd and ./rosetta/flags\n",
      "\n",
      "\u001b[0mcore.init: \u001b[0mRosetta version: PyRosetta4.Release.python27.ubuntu r173 2018.11+release.7c7790f 7c7790fbb898f8210b54513b9f9c8a927c3e8d7f http://www.pyrosetta.org 2018-03-14T13:19:04\n",
      "\u001b[0mcore.init: \u001b[0mcommand: PyRosetta -ex1 -ex2aro -database /usr/local/lib/python2.7/dist-packages/pyrosetta-2018.11+release.7c7790f-py2.7-linux-x86_64.egg/pyrosetta/database\n",
      "\u001b[0mcore.init: \u001b[0m'RNG device' seed mode, using '/dev/urandom', seed=-1825150535 seed_offset=0 real_seed=-1825150535\n",
      "\u001b[0mcore.init.random: \u001b[0mRandomGenerator:init: Normal mode, seed=-1825150535 RG_type=mt19937\n",
      "Found rosetta database at: /usr/local/lib/python2.7/dist-packages/pyrosetta-2018.11+release.7c7790f-py2.7-linux-x86_64.egg/pyrosetta/database; using it....\n",
      "PyRosetta-4 2017 [Rosetta PyRosetta4.Release.python27.ubuntu 2018.11+release.7c7790f7c7790fbb898f8210b54513b9f9c8a927c3e8d7f 2018-03-14T13:19:04] retrieved from: http://www.pyrosetta.org\n",
      "(C) Copyright Rosetta Commons Member Institutions.\n",
      "Created in JHU by Sergey Lyskov and PyRosetta Team.\n",
      "\n",
      "\u001b[0mcore.init: \u001b[0mChecking for fconfig files in pwd and ./rosetta/flags\n",
      "\n",
      "\u001b[0mcore.init: \u001b[0mRosetta version: PyRosetta4.Release.python27.ubuntu r173 2018.11+release.7c7790f 7c7790fbb898f8210b54513b9f9c8a927c3e8d7f http://www.pyrosetta.org 2018-03-14T13:19:04\n",
      "\u001b[0mcore.init: \u001b[0mcommand: PyRosetta -ex1 -ex2aro -database /usr/local/lib/python2.7/dist-packages/pyrosetta-2018.11+release.7c7790f-py2.7-linux-x86_64.egg/pyrosetta/database\n",
      "\u001b[0mcore.init: \u001b[0m'RNG device' seed mode, using '/dev/urandom', seed=65380209 seed_offset=0 real_seed=65380209\n",
      "\u001b[0mcore.init.random: \u001b[0mRandomGenerator:init: Normal mode, seed=65380209 RG_type=mt19937\n",
      "Found rosetta database at: /usr/local/lib/python2.7/dist-packages/pyrosetta-2018.11+release.7c7790f-py2.7-linux-x86_64.egg/pyrosetta/database; using it....\n",
      "PyRosetta-4 2017 [Rosetta PyRosetta4.Release.python27.ubuntu 2018.11+release.7c7790f7c7790fbb898f8210b54513b9f9c8a927c3e8d7f 2018-03-14T13:19:04] retrieved from: http://www.pyrosetta.org\n",
      "(C) Copyright Rosetta Commons Member Institutions.\n",
      "Created in JHU by Sergey Lyskov and PyRosetta Team.\n",
      "\n",
      "\u001b[0mcore.init: \u001b[0mChecking for fconfig files in pwd and ./rosetta/flags\n",
      "\n",
      "\u001b[0mcore.init: \u001b[0mRosetta version: PyRosetta4.Release.python27.ubuntu r173 2018.11+release.7c7790f 7c7790fbb898f8210b54513b9f9c8a927c3e8d7f http://www.pyrosetta.org 2018-03-14T13:19:04\n",
      "\u001b[0mcore.init: \u001b[0mcommand: PyRosetta -ex1 -ex2aro -database /usr/local/lib/python2.7/dist-packages/pyrosetta-2018.11+release.7c7790f-py2.7-linux-x86_64.egg/pyrosetta/database\n",
      "\u001b[0mcore.init: \u001b[0m'RNG device' seed mode, using '/dev/urandom', seed=-891567744 seed_offset=0 real_seed=-891567744\n",
      "\u001b[0mcore.init.random: \u001b[0mRandomGenerator:init: Normal mode, seed=-891567744 RG_type=mt19937\n",
      "Found rosetta database at: /usr/local/lib/python2.7/dist-packages/pyrosetta-2018.11+release.7c7790f-py2.7-linux-x86_64.egg/pyrosetta/database; using it....\n",
      "PyRosetta-4 2017 [Rosetta PyRosetta4.Release.python27.ubuntu 2018.11+release.7c7790f7c7790fbb898f8210b54513b9f9c8a927c3e8d7f 2018-03-14T13:19:04] retrieved from: http://www.pyrosetta.org\n",
      "(C) Copyright Rosetta Commons Member Institutions.\n",
      "Created in JHU by Sergey Lyskov and PyRosetta Team.\n",
      "\n",
      "\u001b[0mcore.init: \u001b[0mChecking for fconfig files in pwd and ./rosetta/flags\n",
      "\n",
      "\u001b[0mcore.init: \u001b[0mRosetta version: PyRosetta4.Release.python27.ubuntu r173 2018.11+release.7c7790f 7c7790fbb898f8210b54513b9f9c8a927c3e8d7f http://www.pyrosetta.org 2018-03-14T13:19:04\n",
      "\u001b[0mcore.init: \u001b[0mcommand: PyRosetta -ex1 -ex2aro -database /usr/local/lib/python2.7/dist-packages/pyrosetta-2018.11+release.7c7790f-py2.7-linux-x86_64.egg/pyrosetta/database\n",
      "\u001b[0mcore.init: \u001b[0m'RNG device' seed mode, using '/dev/urandom', seed=-804007234 seed_offset=0 real_seed=-804007234\n",
      "\u001b[0mcore.init.random: \u001b[0mRandomGenerator:init: Normal mode, seed=-804007234 RG_type=mt19937\n"
     ]
    }
   ],
   "source": [
    "from MiningMinima import *"
   ]
  },
  {
   "cell_type": "code",
   "execution_count": 2,
   "metadata": {
    "scrolled": true
   },
   "outputs": [
    {
     "name": "stdout",
     "output_type": "stream",
     "text": [
      "\u001b[0mcore.chemical.GlobalResidueTypeSet: \u001b[0mFinished initializing fa_standard residue type set.  Created 603 residue types\n",
      "\u001b[0mcore.chemical.GlobalResidueTypeSet: \u001b[0mTotal time to initialize 0.84375 seconds.\n",
      "\u001b[0mcore.scoring.etable: \u001b[0mStarting energy table calculation\n",
      "\u001b[0mcore.scoring.etable: \u001b[0msmooth_etable: changing atr/rep split to bottom of energy well\n",
      "\u001b[0mcore.scoring.etable: \u001b[0msmooth_etable: spline smoothing lj etables (maxdis = 6)\n",
      "\u001b[0mcore.scoring.etable: \u001b[0msmooth_etable: spline smoothing solvation etables (max_dis = 6)\n",
      "\u001b[0mcore.scoring.etable: \u001b[0mFinished calculating energy tables.\n",
      "\u001b[0mbasic.io.database: \u001b[0mDatabase file opened: scoring/score_functions/hbonds/ref2015_params/HBPoly1D.csv\n",
      "\u001b[0mbasic.io.database: \u001b[0mDatabase file opened: scoring/score_functions/hbonds/ref2015_params/HBFadeIntervals.csv\n",
      "\u001b[0mbasic.io.database: \u001b[0mDatabase file opened: scoring/score_functions/hbonds/ref2015_params/HBEval.csv\n",
      "\u001b[0mbasic.io.database: \u001b[0mDatabase file opened: scoring/score_functions/hbonds/ref2015_params/DonStrength.csv\n",
      "\u001b[0mbasic.io.database: \u001b[0mDatabase file opened: scoring/score_functions/hbonds/ref2015_params/AccStrength.csv\n",
      "{0: <pyrosetta.rosetta.core.id.TorsionID object at 0x7f3d0d556df8>, 1: <pyrosetta.rosetta.core.id.TorsionID object at 0x7f3d0d5295a8>, 2: <pyrosetta.rosetta.core.id.TorsionID object at 0x7f3d0d529650>, 3: <pyrosetta.rosetta.core.id.TorsionID object at 0x7f3d0d529f10>, 4: <pyrosetta.rosetta.core.id.TorsionID object at 0x7f3d0d5294c8>, 5: <pyrosetta.rosetta.core.id.TorsionID object at 0x7f3d0d529df8>, 6: <pyrosetta.rosetta.core.id.TorsionID object at 0x7f3d0d529f48>, 7: <pyrosetta.rosetta.core.id.TorsionID object at 0x7f3d0d5292d0>, 8: <pyrosetta.rosetta.core.id.TorsionID object at 0x7f3d0d529068>, 9: <pyrosetta.rosetta.core.id.TorsionID object at 0x7f3d0d529768>}\n"
     ]
    }
   ],
   "source": [
    "fuck = MiningMinima(seq1='gc', seq2='gc') "
   ]
  },
  {
   "cell_type": "code",
   "execution_count": 3,
   "metadata": {},
   "outputs": [
    {
     "name": "stdout",
     "output_type": "stream",
     "text": [
      "[  12.4040944    22.28025333   39.07298266   74.02697188  123.83621334\n",
      "  217.40526708  494.35392063  722.35809244 1785.44208878 3022.10889218]\n"
     ]
    }
   ],
   "source": [
    "print fuck.eigenvalues"
   ]
  },
  {
   "cell_type": "code",
   "execution_count": 4,
   "metadata": {},
   "outputs": [
    {
     "name": "stdout",
     "output_type": "stream",
     "text": [
      "-32.390963408622795\n",
      "-32.71870250611706\n"
     ]
    }
   ],
   "source": [
    "print fuck.anharmonic_free_energy\n",
    "print fuck.harmonic_free_energy"
   ]
  },
  {
   "cell_type": "code",
   "execution_count": 5,
   "metadata": {},
   "outputs": [
    {
     "name": "stdout",
     "output_type": "stream",
     "text": [
      "[ 0.47019837 -0.47942333  0.4944428  -0.51109357 -0.13732883 -0.11618219\n",
      " -0.05037601  0.0473372   0.07171298 -0.03313064]\n"
     ]
    }
   ],
   "source": [
    "print fuck.modes[:,0]"
   ]
  },
  {
   "cell_type": "code",
   "execution_count": 6,
   "metadata": {},
   "outputs": [],
   "source": [
    "import numpy.random"
   ]
  },
  {
   "cell_type": "code",
   "execution_count": 7,
   "metadata": {},
   "outputs": [],
   "source": [
    "random_struct = np.zeros((fuck.n_dofs, 2000))\n",
    "\n",
    "hmmm = np.random.randint(fuck.n_dofs, size = (fuck.n_dofs, 2000))\n",
    "\n",
    "for j in range(2000):\n",
    "    \n",
    "    dphi = np.zeros_like(fuck.modes[:,0])\n",
    "    \n",
    "    for mode_idx in hmmm[:,j]:\n",
    "    \n",
    "        dphi += np.random.normal(0, 1/np.sqrt(fuck.eigenvalues[mode_idx]))*180./np.pi*fuck.modes[:,mode_idx]\n",
    "\n",
    "    struct = [fuck.min_pose.torsion(fuck.dof_dict[key]) + dphi[key] for key in fuck.dof_dict]\n",
    "\n",
    "    random_struct[:, j] = struct"
   ]
  },
  {
   "cell_type": "code",
   "execution_count": 8,
   "metadata": {},
   "outputs": [
    {
     "name": "stdout",
     "output_type": "stream",
     "text": [
      "[[ 204.57072086  213.39981288  223.73431297 ...  207.19249284\n",
      "   175.21384841  208.83710475]\n",
      " [ -64.47464687  -73.48909042  -85.18574782 ...  -73.9544626\n",
      "   -38.67545236  -72.80286642]\n",
      " [ -64.02886683  -64.49457763  -55.78164158 ...  -66.2990063\n",
      "  -106.29601662  -65.12180903]\n",
      " ...\n",
      " [  65.85249208   62.69408051   66.74908638 ...   61.33406915\n",
      "    58.66922589   64.7480634 ]\n",
      " [  75.71246914   73.67552304   82.72366611 ...   80.71974186\n",
      "    78.87896354   79.58268047]\n",
      " [  51.45471824   53.19438682   49.71899917 ...   52.23394409\n",
      "    51.87517779   53.39715585]]\n"
     ]
    }
   ],
   "source": [
    "print random_struct"
   ]
  },
  {
   "cell_type": "code",
   "execution_count": 9,
   "metadata": {},
   "outputs": [
    {
     "name": "stdout",
     "output_type": "stream",
     "text": [
      "[[ 80.25750836 -67.7567972   33.49036186 -59.47905062  -4.37864328\n",
      "  -27.05757333  -8.10549852   5.75863539   5.77993625  -4.13556106]\n",
      " [-67.7567972   68.54308891 -42.54158049  67.55882473   3.29775455\n",
      "   13.19288398   5.15448221  -6.78306672 -12.90218213   4.87387956]\n",
      " [ 33.49036186 -42.54158049 118.25821449 -43.27097181 -68.61472173\n",
      "  -12.27601923   3.01037097  -0.18992601  -2.8950727    0.62605074]\n",
      " [-59.47905062  67.55882473 -43.27097181 101.08670324 -27.36543093\n",
      "    3.53448633  12.68486055 -13.2939181  -23.23695583  10.90987713]\n",
      " [ -4.37864328   3.29775455 -68.61472173 -27.36543093  86.11497272\n",
      "    3.55197126 -18.65961039   3.84865612  11.46132427  -3.91056864]\n",
      " [-27.05757333  13.19288398 -12.27601923   3.53448633   3.55197126\n",
      "   40.85075118  16.75565638  12.91783866  16.29163435  -8.17210939]\n",
      " [ -8.10549852   5.15448221   3.01037097  12.68486055 -18.65961039\n",
      "   16.75565638  38.6525035    3.48011783   8.26031031  -3.98562099]\n",
      " [  5.75863539  -6.78306672  -0.18992601 -13.2939181    3.84865612\n",
      "   12.91783866   3.48011783  30.72136043   8.76828482 -11.84010751]\n",
      " [  5.77993625 -12.90218213  -2.8950727  -23.23695583  11.46132427\n",
      "   16.29163435   8.26031031   8.76828482  21.79457714  -6.2127436 ]\n",
      " [ -4.13556106   4.87387956   0.62605074  10.90987713  -3.91056864\n",
      "   -8.17210939  -3.98562099 -11.84010751  -6.2127436    9.69592152]]\n"
     ]
    }
   ],
   "source": [
    "cov = np.cov(random_struct)\n",
    "print cov\n",
    "w,v = numpy.linalg.eigh(cov)"
   ]
  },
  {
   "cell_type": "code",
   "execution_count": 10,
   "metadata": {},
   "outputs": [
    {
     "name": "stdout",
     "output_type": "stream",
     "text": [
      "[3103.87490087 1671.73254484  769.64923195  536.10814975  234.76146512\n",
      "  122.54037128   73.44941719   41.89090951   20.54781212   12.67651064]\n"
     ]
    }
   ],
   "source": [
    "print 1/w*(180./np.pi)**2"
   ]
  },
  {
   "cell_type": "code",
   "execution_count": 11,
   "metadata": {},
   "outputs": [
    {
     "name": "stdout",
     "output_type": "stream",
     "text": [
      "[  12.4040944    22.28025333   39.07298266   74.02697188  123.83621334\n",
      "  217.40526708  494.35392063  722.35809244 1785.44208878 3022.10889218]\n"
     ]
    }
   ],
   "source": [
    "print fuck.eigenvalues"
   ]
  },
  {
   "cell_type": "code",
   "execution_count": 12,
   "metadata": {},
   "outputs": [
    {
     "name": "stdout",
     "output_type": "stream",
     "text": [
      "-73.11384250938639\n"
     ]
    }
   ],
   "source": [
    "print fuck.min_energy - 0.5*fuck.n_dofs*np.log(2*np.pi) + 0.5*np.log(np.prod(1/w))"
   ]
  },
  {
   "cell_type": "code",
   "execution_count": 13,
   "metadata": {},
   "outputs": [
    {
     "name": "stdout",
     "output_type": "stream",
     "text": [
      "-32.390963408622795\n"
     ]
    }
   ],
   "source": [
    "print fuck.anharmonic_free_energy"
   ]
  },
  {
   "cell_type": "code",
   "execution_count": 15,
   "metadata": {},
   "outputs": [
    {
     "name": "stdout",
     "output_type": "stream",
     "text": [
      "Total residues:4\n",
      "Sequence: gcgc\n",
      "Fold tree:\n",
      "FOLD_TREE  EDGE 1 2 -1  JEDGE 1 4 1  C4   C2   END  EDGE 4 3 -1 \n"
     ]
    }
   ],
   "source": [
    "print fuck.min_pose"
   ]
  },
  {
   "cell_type": "code",
   "execution_count": 16,
   "metadata": {},
   "outputs": [],
   "source": [
    "mu = np.zeros(fuck.n_dofs)"
   ]
  },
  {
   "cell_type": "code",
   "execution_count": 17,
   "metadata": {},
   "outputs": [
    {
     "name": "stdout",
     "output_type": "stream",
     "text": [
      "[0. 0. 0. 0. 0. 0. 0. 0. 0. 0.]\n"
     ]
    }
   ],
   "source": [
    "print mu"
   ]
  },
  {
   "cell_type": "code",
   "execution_count": 24,
   "metadata": {},
   "outputs": [],
   "source": [
    "mu = [fuck.min_pose.torsion(fuck.dof_dict[key]) for key in fuck.dof_dict]"
   ]
  },
  {
   "cell_type": "code",
   "execution_count": 64,
   "metadata": {},
   "outputs": [
    {
     "name": "stdout",
     "output_type": "stream",
     "text": [
      "[208.63151365796085, -71.10046997820247, -63.78871283335102, 171.4605777892035, 55.49629297550145, 68.49509477208998, 81.46288838304915, 65.49914545786397, 78.90608373725952, 51.01918559027821]\n"
     ]
    }
   ],
   "source": [
    "print mu\n",
    "bitch = np.linalg.inv(fuck.hessian)"
   ]
  },
  {
   "cell_type": "code",
   "execution_count": 79,
   "metadata": {},
   "outputs": [],
   "source": [
    "shit = np.random.multivariate_normal(mu, bitch, size=(2000))"
   ]
  },
  {
   "cell_type": "code",
   "execution_count": 80,
   "metadata": {},
   "outputs": [
    {
     "name": "stdout",
     "output_type": "stream",
     "text": [
      "[208.55648142 -71.1125315  -63.54428667 171.44688156  55.34684841\n",
      "  68.42269508  81.40732175  65.50207711  78.94110069  51.07039067]\n"
     ]
    }
   ],
   "source": [
    "print shit[0,:]"
   ]
  },
  {
   "cell_type": "code",
   "execution_count": 67,
   "metadata": {},
   "outputs": [],
   "source": [
    "random_struct = np.zeros((fuck.n_dofs, 2000))\n",
    "\n",
    "for j in range(2000):\n",
    "    \n",
    "    random_struct[:,j] = np.random.multivariate_normal(mu, bitch)"
   ]
  },
  {
   "cell_type": "code",
   "execution_count": 68,
   "metadata": {},
   "outputs": [
    {
     "name": "stdout",
     "output_type": "stream",
     "text": [
      "[[208.63041684 208.5645179  208.26277893 ... 208.81365043 208.77448425\n",
      "  208.35259123]\n",
      " [-71.08005778 -71.03333477 -70.69583928 ... -71.26091618 -71.10942925\n",
      "  -70.77238715]\n",
      " [-63.67677186 -63.39359581 -63.96959459 ... -63.78921748 -64.00703884\n",
      "  -63.94680816]\n",
      " ...\n",
      " [ 65.42599129  65.66196259  65.51059528 ...  65.2799145   65.4338652\n",
      "   65.53773071]\n",
      " [ 78.94624292  78.92392452  78.80629446 ...  78.82673763  78.85127848\n",
      "   78.79363676]\n",
      " [ 51.03834236  50.90872268  51.02474233 ...  51.06500377  51.01516952\n",
      "   51.01057172]]\n"
     ]
    }
   ],
   "source": [
    "print random_struct"
   ]
  },
  {
   "cell_type": "code",
   "execution_count": 69,
   "metadata": {},
   "outputs": [
    {
     "name": "stdout",
     "output_type": "stream",
     "text": [
      "[[ 2.54263168e-02 -2.11792751e-02  1.08390607e-02 -1.80439783e-02\n",
      "  -2.00771427e-03 -9.31267656e-03 -3.13298388e-03  1.74477339e-03\n",
      "   1.48402882e-03 -1.04571114e-03]\n",
      " [-2.11792751e-02  2.13598318e-02 -1.39167138e-02  2.07389022e-02\n",
      "   1.72803989e-03  4.66028925e-03  2.34218481e-03 -1.86808706e-03\n",
      "  -3.97298230e-03  1.16542291e-03]\n",
      " [ 1.08390607e-02 -1.39167138e-02  3.53244323e-02 -1.51136406e-02\n",
      "  -1.91164342e-02 -3.41308858e-03 -1.06938215e-04 -9.26412133e-06\n",
      "   3.25274006e-04 -2.45133756e-05]\n",
      " [-1.80439783e-02  2.07389022e-02 -1.51136406e-02  3.07290029e-02\n",
      "  -6.51715008e-03  1.05789846e-03  4.21753583e-03 -3.94866422e-03\n",
      "  -7.50605882e-03  3.05436776e-03]\n",
      " [-2.00771427e-03  1.72803989e-03 -1.91164342e-02 -6.51715008e-03\n",
      "   2.33239336e-02  1.40226273e-03 -4.41055606e-03  1.20953042e-03\n",
      "   3.02025606e-03 -7.94311163e-04]\n",
      " [-9.31267656e-03  4.66028925e-03 -3.41308858e-03  1.05789846e-03\n",
      "   1.40226273e-03  1.27066542e-02  4.78575367e-03  3.42578625e-03\n",
      "   4.83771196e-03 -2.41459844e-03]\n",
      " [-3.13298388e-03  2.34218481e-03 -1.06938215e-04  4.21753583e-03\n",
      "  -4.41055606e-03  4.78575367e-03  1.16904799e-02  9.20294298e-04\n",
      "   2.09029644e-03 -1.32362196e-03]\n",
      " [ 1.74477339e-03 -1.86808706e-03 -9.26412133e-06 -3.94866422e-03\n",
      "   1.20953042e-03  3.42578625e-03  9.20294298e-04  8.86893286e-03\n",
      "   2.53289910e-03 -3.45797458e-03]\n",
      " [ 1.48402882e-03 -3.97298230e-03  3.25274006e-04 -7.50605882e-03\n",
      "   3.02025606e-03  4.83771196e-03  2.09029644e-03  2.53289910e-03\n",
      "   6.86490826e-03 -1.78236229e-03]\n",
      " [-1.04571114e-03  1.16542291e-03 -2.45133756e-05  3.05436776e-03\n",
      "  -7.94311163e-04 -2.41459844e-03 -1.32362196e-03 -3.45797458e-03\n",
      "  -1.78236229e-03  3.01060253e-03]]\n"
     ]
    }
   ],
   "source": [
    "print np.cov(random_struct)"
   ]
  },
  {
   "cell_type": "code",
   "execution_count": 70,
   "metadata": {},
   "outputs": [],
   "source": [
    "w,v = np.linalg.eigh(np.cov(random_struct))"
   ]
  },
  {
   "cell_type": "code",
   "execution_count": 71,
   "metadata": {},
   "outputs": [
    {
     "name": "stdout",
     "output_type": "stream",
     "text": [
      "[2910.27421706 1759.64618784  696.64984288  475.90225908  218.52530578\n",
      "  125.95905927   73.65231691   41.28501765   23.28841469   12.25455866]\n"
     ]
    }
   ],
   "source": [
    "print 1/w\n"
   ]
  },
  {
   "cell_type": "code",
   "execution_count": null,
   "metadata": {},
   "outputs": [],
   "source": []
  }
 ],
 "metadata": {
  "kernelspec": {
   "display_name": "Python 2",
   "language": "python",
   "name": "python2"
  },
  "language_info": {
   "codemirror_mode": {
    "name": "ipython",
    "version": 2
   },
   "file_extension": ".py",
   "mimetype": "text/x-python",
   "name": "python",
   "nbconvert_exporter": "python",
   "pygments_lexer": "ipython2",
   "version": "2.7.12"
  }
 },
 "nbformat": 4,
 "nbformat_minor": 2
}
