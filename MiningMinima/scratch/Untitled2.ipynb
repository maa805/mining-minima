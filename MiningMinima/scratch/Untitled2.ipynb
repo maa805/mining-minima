{
 "cells": [
  {
   "cell_type": "code",
   "execution_count": 1,
   "metadata": {},
   "outputs": [
    {
     "name": "stdout",
     "output_type": "stream",
     "text": [
      "PyRosetta-4 2019 [Rosetta PyRosetta4.Release.python27.linux 2019.31+release.9a323bc72ca18d3abdc8b1a730b37e52197e4ceb 2019-07-29T16:16:04] retrieved from: http://www.pyrosetta.org\n",
      "(C) Copyright Rosetta Commons Member Institutions. Created in JHU by Sergey Lyskov and PyRosetta Team.\n",
      "core.init: Checking for fconfig files in pwd and ./rosetta/flags\n",
      "core.init: Rosetta version: PyRosetta4.Release.python27.linux r229 2019.31+release.9a323bc 9a323bc72ca18d3abdc8b1a730b37e52197e4ceb http://www.pyrosetta.org 2019-07-29T16:16:04\n",
      "core.init: command: PyRosetta -ex1 -ex2aro -database /home/users/maa805/.local/lib/python2.7/site-packages/pyrosetta-2019.31_release.9a323bc-py2.7-linux-x86_64.egg/pyrosetta/database\n",
      "basic.random.init_random_generator: 'RNG device' seed mode, using '/dev/urandom', seed=1242470194 seed_offset=0 real_seed=1242470194\n",
      "basic.random.init_random_generator: RandomGenerator:init: Normal mode, seed=1242470194 RG_type=mt19937\n"
     ]
    }
   ],
   "source": [
    "from pyrosetta import *\n",
    "from pyrosetta.rosetta import *\n",
    "\n",
    "from MiningMinima import *\n",
    "import numpy as np\n",
    "import matplotlib as mpl\n",
    "import matplotlib.pyplot as plt"
   ]
  },
  {
   "cell_type": "code",
   "execution_count": 2,
   "metadata": {
    "collapsed": true
   },
   "outputs": [],
   "source": [
    "RECCES = []\n",
    "MM = []"
   ]
  },
  {
   "cell_type": "code",
   "execution_count": 3,
   "metadata": {
    "collapsed": true
   },
   "outputs": [],
   "source": [
    "from recces.util import *\n",
    "from recces.data import *"
   ]
  },
  {
   "cell_type": "code",
   "execution_count": 48,
   "metadata": {},
   "outputs": [
    {
     "name": "stdout",
     "output_type": "stream",
     "text": [
      "Inferring sequence from directory name:  ga_uc\n",
      "applying phase space volume for two strand with helix length  2  and dangle length  0\n",
      "Inferring sequence from directory name:  gaa_uuc\n",
      "applying phase space volume for two strand with helix length  3  and dangle length  0\n",
      "Inferring sequence from directory name:  gu_ac\n",
      "applying phase space volume for two strand with helix length  2  and dangle length  0\n",
      "Inferring sequence from directory name:  guu_aac\n",
      "applying phase space volume for two strand with helix length  3  and dangle length  0\n",
      "Inferring sequence from directory name:  gac_guc\n",
      "applying phase space volume for two strand with helix length  3  and dangle length  0\n",
      "Inferring sequence from directory name:  gg_cc\n",
      "applying phase space volume for two strand with helix length  2  and dangle length  0\n",
      "Inferring sequence from directory name:  ggu_acc\n",
      "applying phase space volume for two strand with helix length  3  and dangle length  0\n",
      "Inferring sequence from directory name:  gag_cuc\n",
      "applying phase space volume for two strand with helix length  3  and dangle length  0\n",
      "Inferring sequence from directory name:  gcu_agc\n",
      "applying phase space volume for two strand with helix length  3  and dangle length  0\n",
      "Inferring sequence from directory name:  gc_gc\n",
      "applying phase space volume for two strand with helix length  2  and dangle length  0\n",
      "Inferring sequence from directory name:  gau_auc\n",
      "applying phase space volume for two strand with helix length  3  and dangle length  0\n",
      "Inferring sequence from directory name:  gcc_ggc\n",
      "applying phase space volume for two strand with helix length  3  and dangle length  0\n",
      "Inferring sequence from directory name:  ggg_ccc\n",
      "applying phase space volume for two strand with helix length  3  and dangle length  0\n",
      "Inferring sequence from directory name:  gcg_cgc\n",
      "applying phase space volume for two strand with helix length  3  and dangle length  0\n",
      "Inferring sequence from directory name:  gua_uac\n",
      "applying phase space volume for two strand with helix length  3  and dangle length  0\n",
      "\u001b[0mcore.optimization.LineMinimizer: \u001b[0m\u001b[31m\u001b[1m[ ERROR ]\u001b[0m \u001b[31mInaccurate G! step= 3.8147e-06 Deriv= -4.29211e-05 Finite Diff= 0.000131927\u001b[0m\n"
     ]
    }
   ],
   "source": [
    "RECCES.append(SingleHistSimulation('./results/aa_uu_all/ga_uc/ST').value)\n",
    "RECCES.append(SingleHistSimulation('./results/aa_uu_all/gaa_uuc/ST').value)\n",
    "RECCES.append(SingleHistSimulation('./results/aa_uu_all/gu_ac/ST').value)\n",
    "RECCES.append(SingleHistSimulation('./results/aa_uu_all/guu_aac/ST').value)\n",
    "RECCES.append(SingleHistSimulation('./results/ac_gu_all/gac_guc/ST').value)\n",
    "RECCES.append(SingleHistSimulation('./results/ac_gu_all/gg_cc/ST').value)\n",
    "RECCES.append(SingleHistSimulation('./results/ac_gu_all/ggu_acc/ST').value)\n",
    "RECCES.append(SingleHistSimulation('./results/ag_cu_all/gag_cuc/ST').value)\n",
    "RECCES.append(SingleHistSimulation('./results/ag_cu_all/gcu_agc/ST').value)\n",
    "RECCES.append(SingleHistSimulation('./results/cc_gg_all/gc_gc/ST').value)\n",
    "RECCES.append(SingleHistSimulation('./results/au_au_all/gau_auc/ST').value)\n",
    "RECCES.append(SingleHistSimulation('./results/cc_gg_all/gcc_ggc/ST').value)\n",
    "RECCES.append(SingleHistSimulation('./results/cc_gg_all/ggg_ccc/ST').value)\n",
    "RECCES.append(SingleHistSimulation('./results/cg_cg_all/gcg_cgc/ST').value)\n",
    "#RECCES.append(SingleHistSimulation('./results/gc_gc_all/ggc_gcc/ST').value)\n",
    "RECCES.append(SingleHistSimulation('./results/ua_ua_all/gua_uac/ST').value)\n",
    "\n",
    "sim = MiningMinima(seq1 = 'ga', seq2 = 'uc')\n",
    "MM.append(sim.anharmonic_free_energy)\n",
    "sim = MiningMinima(seq1 = 'gaa', seq2 = 'uuc')\n",
    "MM.append(sim.anharmonic_free_energy)\n",
    "MM.append(MiningMinima(seq1 = 'gu', seq2 = 'ac').anharmonic_free_energy)\n",
    "MM.append(MiningMinima(seq1 = 'guu', seq2 = 'aac').anharmonic_free_energy)\n",
    "MM.append(MiningMinima(seq1 = 'gac', seq2 = 'guc').anharmonic_free_energy)\n",
    "MM.append(MiningMinima(seq1 = 'gg', seq2 = 'cc').anharmonic_free_energy)\n",
    "MM.append(MiningMinima(seq1 = 'ggu', seq2 = 'acc').anharmonic_free_energy)\n",
    "MM.append(MiningMinima(seq1 = 'gag', seq2 = 'cuc').anharmonic_free_energy)\n",
    "MM.append(MiningMinima(seq1 = 'gcu', seq2 = 'agc').anharmonic_free_energy)\n",
    "MM.append(MiningMinima(seq1 = 'gc', seq2 = 'gc').anharmonic_free_energy)\n",
    "MM.append(MiningMinima(seq1 = 'gau', seq2 = 'auc').anharmonic_free_energy)\n",
    "MM.append(MiningMinima(seq1 = 'gcc', seq2 = 'ggc').anharmonic_free_energy)\n",
    "MM.append(MiningMinima(seq1 = 'ggg', seq2 = 'ccc').anharmonic_free_energy)\n",
    "MM.append(MiningMinima(seq1 = 'gcg', seq2 = 'cgc').anharmonic_free_energy)\n",
    "#MM.append(MiningMinima(seq1 = 'ggc', seq2 = 'gcc').anharmonic_free_energy)\n",
    "MM.append(MiningMinima(seq1 = 'gua', seq2 = 'uac').anharmonic_free_energy)"
   ]
  },
  {
   "cell_type": "code",
   "execution_count": 49,
   "metadata": {},
   "outputs": [
    {
     "name": "stdout",
     "output_type": "stream",
     "text": [
      "[-24.397401257159657, -37.11884824869749, -24.666191438162492, -37.46799708747643, -40.27189863432721, -27.58255035043779, -40.9029369177507, -40.362501630834046, -41.98668394282815, -28.544354524086724, -44.80934646763381, -44.7476150478205, -43.40504107649879, -43.37444230069979, -36.35948483607425]\n",
      "[-23.19168895277514, -34.06574572726111, -22.66376887690056, -34.34919705575263, -37.3737026775883, -26.035996350803142, -37.765942519871814, -37.436007601496826, -38.8276777380097, -26.99859402965839, -33.675925037445026, -41.65155772746035, -40.62909302190229, -37.947389713826524, -32.525393433228885]\n"
     ]
    }
   ],
   "source": [
    "print RECCES\n",
    "print MM"
   ]
  },
  {
   "cell_type": "code",
   "execution_count": 67,
   "metadata": {},
   "outputs": [
    {
     "name": "stdout",
     "output_type": "stream",
     "text": [
      "0.29844512853790595\n"
     ]
    },
    {
     "data": {
      "image/png": "[encoded data removed]",
      "text/plain": [
       "<Figure size 432x288 with 1 Axes>"
      ]
     },
     "metadata": {},
     "output_type": "display_data"
    }
   ],
   "source": [
    "plt.scatter(RECCES, MM)\n",
    "MM = np.array(MM)\n",
    "RECCES = np.array(RECCES)\n",
    "x = np.array([-46.5, -22.5])\n",
    "plt.plot(x, m*x+b)\n",
    "plt.xlabel('RECCES')\n",
    "plt.ylabel('MM')\n",
    "plt.xticks([])\n",
    "plt.yticks([])\n",
    "RMSE = np.sqrt(np.sum((MM - (m*RECCES+b))**2))\n",
    "print RMSE/len(MM)*0.6163\n",
    "plt.savefig('./../../../../OneDrive/das-lab/flash-slides/rmse mm.png', transparent=True)"
   ]
  },
  {
   "cell_type": "code",
   "execution_count": 51,
   "metadata": {},
   "outputs": [
    {
     "data": {
      "text/plain": [
       "4.094505593286595"
      ]
     },
     "execution_count": 51,
     "metadata": {},
     "output_type": "execute_result"
    }
   ],
   "source": [
    "np.sqrt(np.sum((MM-RECCES)**2)/len(MM))"
   ]
  },
  {
   "cell_type": "code",
   "execution_count": 52,
   "metadata": {
    "collapsed": true
   },
   "outputs": [],
   "source": [
    "from scipy import stats"
   ]
  },
  {
   "cell_type": "code",
   "execution_count": 53,
   "metadata": {
    "collapsed": true
   },
   "outputs": [],
   "source": [
    "m, b, r, p, err = scipy.stats.linregress(RECCES, MM)"
   ]
  },
  {
   "cell_type": "code",
   "execution_count": 54,
   "metadata": {},
   "outputs": [
    {
     "name": "stdout",
     "output_type": "stream",
     "text": [
      "0.8111546125414806 -3.609194071305364\n"
     ]
    }
   ],
   "source": [
    "print m , b"
   ]
  },
  {
   "cell_type": "code",
   "execution_count": 55,
   "metadata": {},
   "outputs": [
    {
     "name": "stdout",
     "output_type": "stream",
     "text": [
      "0.9496368679315162\n"
     ]
    }
   ],
   "source": [
    "print r"
   ]
  },
  {
   "cell_type": "code",
   "execution_count": null,
   "metadata": {
    "collapsed": true
   },
   "outputs": [],
   "source": []
  }
 ],
 "metadata": {
  "kernelspec": {
   "display_name": "Python 2",
   "language": "python",
   "name": "python2"
  },
  "language_info": {
   "codemirror_mode": {
    "name": "ipython",
    "version": 2
   },
   "file_extension": ".py",
   "mimetype": "text/x-python",
   "name": "python",
   "nbconvert_exporter": "python",
   "pygments_lexer": "ipython2",
   "version": "2.7.13"
  }
 },
 "nbformat": 4,
 "nbformat_minor": 2
}
