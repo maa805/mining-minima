{
 "cells": [
  {
   "cell_type": "code",
   "execution_count": 80,
   "metadata": {},
   "outputs": [
    {
     "name": "stdout",
     "output_type": "stream",
     "text": [
      "Found rosetta database at: /usr/local/lib/python2.7/dist-packages/pyrosetta-2018.11+release.7c7790f-py2.7-linux-x86_64.egg/pyrosetta/database; using it....\n",
      "PyRosetta-4 2017 [Rosetta PyRosetta4.Release.python27.ubuntu 2018.11+release.7c7790f7c7790fbb898f8210b54513b9f9c8a927c3e8d7f 2018-03-14T13:19:04] retrieved from: http://www.pyrosetta.org\n",
      "(C) Copyright Rosetta Commons Member Institutions.\n",
      "Created in JHU by Sergey Lyskov and PyRosetta Team.\n",
      "\n",
      "\u001b[0mcore.init: \u001b[0mChecking for fconfig files in pwd and ./rosetta/flags\n",
      "\n",
      "\u001b[0mcore.init: \u001b[0mRosetta version: PyRosetta4.Release.python27.ubuntu r173 2018.11+release.7c7790f 7c7790fbb898f8210b54513b9f9c8a927c3e8d7f http://www.pyrosetta.org 2018-03-14T13:19:04\n",
      "\u001b[0mcore.init: \u001b[0mcommand: PyRosetta -ex1 -ex2aro -database /usr/local/lib/python2.7/dist-packages/pyrosetta-2018.11+release.7c7790f-py2.7-linux-x86_64.egg/pyrosetta/database\n",
      "\u001b[0mcore.init: \u001b[0m'RNG device' seed mode, using '/dev/urandom', seed=83244801 seed_offset=0 real_seed=83244801\n",
      "\u001b[0mcore.init.random: \u001b[0mRandomGenerator:init: Normal mode, seed=83244801 RG_type=mt19937\n"
     ]
    }
   ],
   "source": [
    "from pyrosetta import *\n",
    "from pyrosetta.rosetta import *\n",
    "init()"
   ]
  },
  {
   "cell_type": "code",
   "execution_count": 81,
   "metadata": {},
   "outputs": [],
   "source": [
    "import math\n",
    "import random\n",
    "import numpy as np\n",
    "import scipy\n",
    "import matplotlib\n",
    "import matplotlib.pyplot as plt\n",
    "from pyrosetta.rosetta.protocols.moves import *\n",
    "from pyrosetta.rosetta.core.id import *"
   ]
  },
  {
   "cell_type": "code",
   "execution_count": 82,
   "metadata": {},
   "outputs": [],
   "source": [
    "def within_360(ang):\n",
    "    \n",
    "    return ang - 360.0*int(ang/360.0)"
   ]
  },
  {
   "cell_type": "code",
   "execution_count": 83,
   "metadata": {},
   "outputs": [],
   "source": [
    "def numpy_hessian(x, h):\n",
    "        \n",
    "    x_grad = np.gradient(x, h)\n",
    "    hessian = np.empty((x.ndim, x.ndim) + x.shape, dtype = x.dtype)\n",
    "    \n",
    "    for k, grad_k in enumerate(x_grad):\n",
    "        tmp_grad = np.gradient(grad_k, h)\n",
    "        for l, grad_kl in enumerate(tmp_grad):\n",
    "            hessian[k, l, :, :] = grad_kl\n",
    "            \n",
    "    return hessian"
   ]
  },
  {
   "cell_type": "code",
   "execution_count": 98,
   "metadata": {},
   "outputs": [],
   "source": [
    "def initialize_pose(seq1, seq2):\n",
    "    \n",
    "    n_residues = len(seq1) + len(seq2)\n",
    "    \n",
    "    dof_dict = {}\n",
    "    \n",
    "    pose = pyrosetta.rosetta.protocols.recces.pose_setup_turner(seq1, seq2)\n",
    "    movemap = MoveMap()\n",
    "    \n",
    "    for ii in range(n_residues-1):\n",
    "    \n",
    "        dof_dict.update({6*ii:TorsionID(ii+2, BB, 1), 6*ii+1:TorsionID(ii+2, BB, 2), 6*ii+2:TorsionID(ii+2, BB, 3),\n",
    "                 6*ii+3:TorsionID(ii+1, BB, 5), 6*ii+4:TorsionID(ii+1, BB, 6)})\n",
    "        \n",
    "        if seq2 and ii == (n_residues/2) - 1:\n",
    "            \n",
    "            continue\n",
    "        \n",
    "        movemap.set(TorsionID(ii+2, BB, 1), True)\n",
    "        movemap.set(TorsionID(ii+2, BB, 2), True)\n",
    "        movemap.set(TorsionID(ii+2, BB, 3), True)\n",
    "        movemap.set(TorsionID(ii+1, BB, 5), True)\n",
    "        movemap.set(TorsionID(ii+1, BB, 6), True)\n",
    "        \n",
    "    for ii in range(n_residues-1):\n",
    "        \n",
    "        dof_dict.update({6*ii+5:TorsionID(ii+1, CHI, 1)})\n",
    "        \n",
    "    dof_dict.update({6*(n_residues-1):TorsionID(n_residues, CHI, 1)})\n",
    "    \n",
    "    movemap.set_chi(True)\n",
    "        \n",
    "        \n",
    "        \n",
    "    return pose, movemap, dof_dict"
   ]
  },
  {
   "cell_type": "code",
   "execution_count": 99,
   "metadata": {},
   "outputs": [],
   "source": [
    "def find_minimum(pose, sf, movemap):\n",
    "    \n",
    "    \n",
    "    minimum = Pose()\n",
    "    minimum.assign(pose)\n",
    "    #observer = AddPyMOLObserver(minimum, True)\n",
    "    sf(minimum)\n",
    "    n_residues = pose.total_residue()\n",
    "    \n",
    "    movemap = MoveMap()\n",
    "    for ii in range(n_residues-1):\n",
    "        \n",
    "        minimum.set_alpha(  ii+2, random.uniform(0, 360))\n",
    "        minimum.set_beta(   ii+2, random.uniform(0, 360))\n",
    "        minimum.set_gamma(  ii+2, random.uniform(0, 360))\n",
    "        minimum.set_epsilon(ii+1, random.uniform(0, 360))\n",
    "        minimum.set_zeta(   ii+1, random.uniform(0, 360))\n",
    "             \n",
    "    for ii in range(n_residues):\n",
    "        \n",
    "        pose.set_chi(ii+1, random.uniform(0, 360))\n",
    "    '''\n",
    "    minmap = rosetta.core.optimization.MinimizerMap()\n",
    "    minmap.setup(pose, movemap)\n",
    "    sf.setup_for_minimizing(pose, minmap)\n",
    "    multifunc = rosetta.core.optimization.AtomTreeMultifunc(pose, minmap, sf)\n",
    "    num_dofs = minmap.nangles()\n",
    "    print num_dofs\n",
    "    '''\n",
    "    minmover = rosetta.protocols.minimization_packing.MinMover(movemap, sf, 'dfpmin', 1e-5, True)\n",
    "    \n",
    "    minmover.apply(minimum)\n",
    "    \n",
    "    return minimum   "
   ]
  },
  {
   "cell_type": "code",
   "execution_count": 100,
   "metadata": {},
   "outputs": [
    {
     "name": "stdout",
     "output_type": "stream",
     "text": [
      "\n",
      "-------------------------------\n",
      "  resnum     Type  TRUE/FALSE \n",
      "-------------------------------\n",
      " DEFAULT      BB     FALSE\n",
      " DEFAULT      SC      TRUE\n",
      " DEFAULT      NU     FALSE\n",
      " DEFAULT  BRANCH     FALSE\n",
      "-------------------------------\n",
      " jumpnum     Type  TRUE/FALSE \n",
      "-------------------------------\n",
      " DEFAULT     JUMP    FALSE\n",
      "-------------------------------\n",
      "  resnum  atomnum     Type  TRUE/FALSE \n",
      "-------------------------------\n",
      " DEFAULT               PHI    FALSE\n",
      " DEFAULT             THETA    FALSE\n",
      " DEFAULT                 D    FALSE\n",
      " DEFAULT               RB1    FALSE\n",
      " DEFAULT               RB2    FALSE\n",
      " DEFAULT               RB3    FALSE\n",
      " DEFAULT               RB4    FALSE\n",
      " DEFAULT               RB5    FALSE\n",
      " DEFAULT               RB6    FALSE\n",
      "-------------------------------\n",
      "  resnum   torsion#     Type  TRUE/FALSE \n",
      "-------------------------------\n",
      "     001        005       BB     TRUE\n",
      "     001        006       BB     TRUE\n",
      "     002        001       BB     TRUE\n",
      "     002        002       BB     TRUE\n",
      "     002        003       BB     TRUE\n",
      "     003        005       BB     TRUE\n",
      "     003        006       BB     TRUE\n",
      "     004        001       BB     TRUE\n",
      "     004        002       BB     TRUE\n",
      "     004        003       BB     TRUE\n",
      "-------------------------------\n",
      "\n",
      "\n"
     ]
    }
   ],
   "source": [
    "seq1 = 'aa'\n",
    "seq2 = 'uu'\n",
    "\n",
    "pose, movemap, dof_dict = initialize_pose(seq1, seq2)\n",
    "\n",
    "print movemap\n",
    "\n",
    "n_residues = len(seq1) + len(seq2)\n",
    "\n",
    "scorefxn = core.scoring.ScoreFunctionFactory.create_score_function('rna/denovo/rna_hires')"
   ]
  },
  {
   "cell_type": "code",
   "execution_count": 88,
   "metadata": {},
   "outputs": [
    {
     "name": "stdout",
     "output_type": "stream",
     "text": [
      "{0: <pyrosetta.rosetta.core.id.TorsionID object at 0x7f46e62bf340>, 1: <pyrosetta.rosetta.core.id.TorsionID object at 0x7f46e62bf500>, 2: <pyrosetta.rosetta.core.id.TorsionID object at 0x7f46e62bf688>, 3: <pyrosetta.rosetta.core.id.TorsionID object at 0x7f46e62bf0a0>, 4: <pyrosetta.rosetta.core.id.TorsionID object at 0x7f46e62bf618>, 5: <pyrosetta.rosetta.core.id.TorsionID object at 0x7f46e62bf880>, 6: <pyrosetta.rosetta.core.id.TorsionID object at 0x7f46e62bf1b8>, 7: <pyrosetta.rosetta.core.id.TorsionID object at 0x7f46e62bf490>, 8: <pyrosetta.rosetta.core.id.TorsionID object at 0x7f46e62bf6c0>, 9: <pyrosetta.rosetta.core.id.TorsionID object at 0x7f46e62bf3e8>, 10: <pyrosetta.rosetta.core.id.TorsionID object at 0x7f46e62bf7a0>, 11: <pyrosetta.rosetta.core.id.TorsionID object at 0x7f46e62bf8b8>, 12: <pyrosetta.rosetta.core.id.TorsionID object at 0x7f46e62bf6f8>, 13: <pyrosetta.rosetta.core.id.TorsionID object at 0x7f46e62bf768>, 14: <pyrosetta.rosetta.core.id.TorsionID object at 0x7f46e62bf7d8>, 15: <pyrosetta.rosetta.core.id.TorsionID object at 0x7f46e62bf810>, 16: <pyrosetta.rosetta.core.id.TorsionID object at 0x7f46e62bf848>, 17: <pyrosetta.rosetta.core.id.TorsionID object at 0x7f46e62bf8f0>, 18: <pyrosetta.rosetta.core.id.TorsionID object at 0x7f46e62bf928>}\n"
     ]
    }
   ],
   "source": [
    "#pose.assign(find_minimum(pose, scorefxn, movemap))\n",
    "minmover = rosetta.protocols.minimization_packing.MinMover(movemap, scorefxn, 'dfpmin', 1e-5, True)\n",
    "pmm = PyMOLMover()\n",
    "pmm.apply(pose)\n",
    "print dof_dict\n",
    "#minmover.apply(pose)\n",
    "pmm.apply(pose)"
   ]
  },
  {
   "cell_type": "code",
   "execution_count": 101,
   "metadata": {},
   "outputs": [
    {
     "name": "stdout",
     "output_type": "stream",
     "text": [
      "[-64.60614614476631, 184.8865148430521, 49.550825116584186, -151.00178147053, -68.92387653888413, 63.331603202251756, 0.0, 176.33, 53.080000000000034, 0.0, 0.0, 80.05660303726081, -63.322777792193484, 184.9942979761767, 47.701523158252, -151.10359141718152, -67.87874065211157, 65.54467007571083, 79.0]\n",
      "[-64.60614614476631, 184.8865148430521, 49.550825116584186, -151.00178147053, -68.92387653888413, 63.331603202251756, 0.0, 176.33, 53.080000000000034, 0.0, 0.0, 80.05660303726081, -63.322777792193484, 184.9942979761767, 47.701523158252, -151.10359141718152, -67.87874065211157, 65.54467007571083, 79.0]\n"
     ]
    }
   ],
   "source": [
    "import itertools\n",
    "\n",
    "trial = Pose()\n",
    "trial.assign(pose)\n",
    "\n",
    "pose.set_alpha(2, -64)\n",
    "pose.set_beta(2, 176)\n",
    "pose.set_gamma(2, 53)\n",
    "pose.set_epsilon(1, -150)\n",
    "pose.set_zeta(1, -79)\n",
    "pose.set_chi(1, 79)\n",
    "pose.set_chi(2, 79)\n",
    "\n",
    "pose.set_alpha(4, -64)\n",
    "pose.set_beta(4, 176)\n",
    "pose.set_gamma(4, 53)\n",
    "pose.set_epsilon(3, -150)\n",
    "pose.set_zeta(3, -79)\n",
    "pose.set_chi(3, 79)\n",
    "'''\n",
    "movemap.set(TorsionID(3, BB, 1), False)\n",
    "movemap.set(TorsionID(3, BB, 2), False)\n",
    "movemap.set(TorsionID(3, BB, 3), False)\n",
    "movemap.set(TorsionID(2, BB, 5), False)\n",
    "movemap.set(TorsionID(2, BB, 6), False)\n",
    "'''\n",
    "\n",
    "minmover.apply(pose)\n",
    "pose.set_chi(4, 79)\n",
    "pmm.apply(pose)\n",
    "h = 0.5\n",
    "h_rad = h*np.pi/180\n",
    "E_0 = scorefxn(pose)\n",
    "dofs = []\n",
    "dofs.append(pose.alpha(2))\n",
    "dofs.append(pose.beta(2))\n",
    "dofs.append(pose.gamma(2))\n",
    "dofs.append(pose.epsilon(1))\n",
    "dofs.append(pose.zeta(1))\n",
    "dofs.append(pose.chi(1))\n",
    "\n",
    "dofs.append(pose.alpha(3))\n",
    "dofs.append(pose.beta(3))\n",
    "dofs.append(pose.gamma(3))\n",
    "dofs.append(pose.epsilon(2))\n",
    "dofs.append(pose.zeta(2))\n",
    "dofs.append(pose.chi(2))\n",
    "\n",
    "dofs.append(pose.alpha(4))\n",
    "dofs.append(pose.beta(4))\n",
    "dofs.append(pose.gamma(4))\n",
    "dofs.append(pose.epsilon(3))\n",
    "dofs.append(pose.zeta(3))\n",
    "dofs.append(pose.chi(3))\n",
    "dofs.append(pose.chi(4))\n",
    "\n",
    "print dofs\n",
    "hessian = np.zeros((len(dofs), len(dofs)))\n",
    "\n",
    "n_pts = int(4/h + 1)\n",
    "ind = int(n_pts/2)\n",
    "\n",
    "tor_ranges = np.zeros((n_pts, len(dofs)))\n",
    "energy = np.zeros((n_pts, n_pts))\n",
    "\n",
    "for ii, dof in enumerate(dofs):\n",
    "            \n",
    "    tor_ranges[:, ii] = dof + np.arange(-2, 2+h, h)\n",
    "    \n",
    "for pair in list(itertools.combinations(range(len(dofs)), 2)):\n",
    "    \n",
    "    x = tor_ranges[:, pair[0]]\n",
    "    y = tor_ranges[:, pair[1]]\n",
    "\n",
    "    for ii, xx in enumerate(x):\n",
    "        \n",
    "        if ii in [6,7,8,9,10,11]:\n",
    "        \n",
    "            continue\n",
    "            \n",
    "        pose.set_torsion(dof_dict[pair[0]], xx)\n",
    "        \n",
    "        for jj, yy in enumerate(y):\n",
    "       \n",
    "            if ii in [6,7,8,9,10,11]:\n",
    "        \n",
    "                continue\n",
    "            \n",
    "            pose.set_torsion(dof_dict[pair[1]], yy)\n",
    "            \n",
    "            energy[ii, jj] = scorefxn(pose)\n",
    "\n",
    "            pose.set_torsion(dof_dict[pair[1]], dofs[pair[1]])\n",
    "            \n",
    "        pose.set_torsion(dof_dict[pair[0]], dofs[pair[0]])\n",
    "        \n",
    "    hess = numpy_hessian(energy, h)\n",
    "    \n",
    "    d2E_dx2 =  hess[0,0,:,:]\n",
    "    d2E_dy2 =  hess[1,1,:,:]\n",
    "    d2E_dxdy = hess[0,1,:,:]\n",
    "    \n",
    "    if hessian[pair[0], pair[0]] == 0:\n",
    "        \n",
    "        hessian[pair[0], pair[0]] = d2E_dx2[5,5]\n",
    "        \n",
    "    if hessian[pair[1], pair[1]] == 0:\n",
    "        \n",
    "        hessian[pair[1], [pair[1]]] = d2E_dy2[ind, ind]\n",
    "        \n",
    "    hessian[pair[0],pair[1]] = d2E_dxdy[ind, ind]\n",
    "    hessian[pair[1],pair[0]] = d2E_dxdy[ind, ind]\n",
    "    \n",
    "               \n",
    "print dofs                    \n",
    "pmm.apply(pose)\n",
    "    "
   ]
  },
  {
   "cell_type": "code",
   "execution_count": 102,
   "metadata": {},
   "outputs": [],
   "source": [
    "import scipy\n",
    "import scipy.linalg\n",
    "\n",
    "w,v = scipy.linalg.eigh(hessian)"
   ]
  },
  {
   "cell_type": "code",
   "execution_count": 103,
   "metadata": {
    "scrolled": true
   },
   "outputs": [
    {
     "name": "stdout",
     "output_type": "stream",
     "text": [
      "[ -6.07364619e-03   1.69635931e-03   3.92713797e-03   8.61175787e-03\n",
      "   1.52474732e-02   1.92180418e-02   3.11527352e-02   3.93866370e-02\n",
      "   6.17231615e-02   1.52318069e-01   8.65633045e-01   1.43736040e+00\n",
      "   1.95060738e+00   2.09950749e+01   2.13917481e+01   2.13974781e+01\n",
      "   2.13974781e+01   2.13974781e+01   2.13974781e+01] [[  3.51914052e-04  -3.95049690e-05  -8.56373002e-05   1.41856364e-04\n",
      "   -4.98950765e-04   3.43363074e-05   5.33488398e-04   6.11571852e-04\n",
      "    7.52201792e-04  -3.75776511e-04  -7.29567534e-03   3.08876013e-02\n",
      "   -1.89817559e-02   9.99315092e-01   0.00000000e+00   0.00000000e+00\n",
      "    9.71030815e-30   0.00000000e+00  -2.63643926e-30]\n",
      " [ -3.45680428e-01   1.03224563e-01  -1.25142877e-01   7.43675681e-02\n",
      "   -2.66030526e-01   8.60706732e-02   4.18145909e-01  -3.71959290e-01\n",
      "   -2.65285726e-02   3.16084149e-01   1.96902811e-01  -5.52464383e-01\n",
      "    1.10671309e-01   2.07276764e-02   3.18877981e-17   2.74791107e-17\n",
      "    1.20601921e-16   1.06335868e-16   7.22321479e-18]\n",
      " [  8.25356529e-02   2.40245061e-02   8.21702185e-02  -2.40844185e-01\n",
      "    4.38259620e-01   3.35936296e-01  -5.23167939e-01  -9.55171121e-02\n",
      "   -2.42847472e-01   6.18862016e-02   2.49855055e-01  -4.07687271e-01\n",
      "    2.19735591e-01   1.93632589e-02   5.32805614e-17   2.86080334e-17\n",
      "   -3.91421667e-17  -1.91440454e-16  -2.37825551e-16]\n",
      " [  4.74190529e-01  -2.79922815e-02  -2.73534362e-01   2.24052356e-01\n",
      "   -3.12880923e-01   1.96860246e-01  -6.98551590e-02   4.96957832e-02\n",
      "    4.05962535e-01  -1.51995393e-01   2.30826721e-01  -3.58774977e-02\n",
      "    5.12568161e-01   1.17880567e-02   4.26898634e-17   7.75433175e-17\n",
      "   -1.62313168e-17   2.76287404e-17  -1.63521742e-16]\n",
      " [ -4.62046279e-01   6.96171496e-02   1.13008626e-01  -5.80716270e-02\n",
      "    1.12078691e-01  -1.49251277e-01   2.33447281e-02  -3.24722670e-01\n",
      "    1.46662411e-02  -5.89974422e-01   5.27007498e-02   2.04849544e-01\n",
      "    4.81309593e-01   3.39332130e-03  -2.61873702e-17   8.52614579e-18\n",
      "    3.34766463e-17   1.13178223e-16   1.31430022e-16]\n",
      " [ -1.58466338e-01  -1.28443907e-01   4.91613483e-01  -6.31880190e-02\n",
      "   -1.60418586e-01  -2.65755153e-01   6.00228570e-02   5.90758501e-01\n",
      "   -1.97261727e-02   1.24582406e-01   4.28170150e-01  -8.83065883e-02\n",
      "    2.37942535e-01   1.00740169e-02  -9.68472943e-17  -9.82737530e-17\n",
      "   -1.02887703e-16   7.64645599e-17   2.33245767e-16]\n",
      " [  0.00000000e+00  -1.45716772e-16  -9.71445147e-17  -2.91433544e-16\n",
      "   -2.77555756e-17  -9.02056208e-17   0.00000000e+00   0.00000000e+00\n",
      "   -5.55111512e-17   1.11022302e-16  -4.33680869e-19   0.00000000e+00\n",
      "   -1.35525272e-20   2.01948392e-28   8.20640197e-13   9.99999996e-01\n",
      "   -1.92721395e-05   6.85035085e-05   4.64173069e-05]\n",
      " [  1.11022302e-16  -1.14491749e-16   6.93889390e-17  -4.85722573e-17\n",
      "   -1.11022302e-16  -1.07552856e-16  -5.55111512e-17  -5.55111512e-17\n",
      "    1.11022302e-16   0.00000000e+00   0.00000000e+00  -8.47032947e-22\n",
      "    0.00000000e+00   0.00000000e+00  -1.84243552e-13   3.60208659e-05\n",
      "    9.54005200e-01  -5.81585222e-02  -2.94094649e-01]\n",
      " [ -5.55111512e-17   2.08166817e-17   1.38777878e-17  -5.55111512e-17\n",
      "   -1.11022302e-16  -4.85722573e-17   0.00000000e+00   1.11022302e-16\n",
      "    5.55111512e-17   0.00000000e+00   0.00000000e+00   0.00000000e+00\n",
      "    0.00000000e+00   0.00000000e+00  -9.00337257e-16   7.42916806e-05\n",
      "   -1.30280053e-01  -9.63955361e-01  -2.31985268e-01]\n",
      " [  0.00000000e+00  -2.77555756e-17  -1.11022302e-16   5.55111512e-17\n",
      "    0.00000000e+00   2.77555756e-16  -1.11022302e-16   2.22044605e-16\n",
      "   -6.93889390e-18  -2.16840434e-19   3.30872245e-24   1.03397577e-25\n",
      "    1.29246971e-26   0.00000000e+00   3.45472971e-15  -2.00488364e-05\n",
      "    2.70002195e-01  -2.59629821e-01   9.27195325e-01]\n",
      " [ -6.93889390e-18   1.66533454e-16  -1.11022302e-16   0.00000000e+00\n",
      "    0.00000000e+00   4.85722573e-17   5.55111512e-17   0.00000000e+00\n",
      "    1.73472348e-18   1.35525272e-20  -2.58493941e-26  -4.03896783e-28\n",
      "   -5.04870979e-29   0.00000000e+00  -1.00000000e+00   8.20752862e-13\n",
      "   -1.74746098e-13   1.07136522e-14   5.77147192e-14]\n",
      " [ -2.74564879e-01   3.02229284e-02   2.81747823e-01  -1.06135896e-01\n",
      "   -5.09643852e-01   6.87302386e-01  -1.90229727e-01   5.39981387e-02\n",
      "   -5.10112309e-03  -4.66824625e-02  -1.46976680e-01   1.75312370e-01\n",
      "   -8.49735855e-02  -8.19196007e-03   7.15500444e-17   9.41183537e-17\n",
      "    9.69871364e-18   4.98054407e-17  -3.23876600e-16]\n",
      " [ -3.43976074e-01  -4.80337746e-01  -3.26330297e-01   1.63135458e-02\n",
      "    3.51304071e-01   2.95443294e-01   1.25625552e-01   9.96637000e-02\n",
      "    2.13126798e-01   2.81589967e-01   2.37507585e-01   3.52018370e-01\n",
      "    5.17116787e-02  -8.10971848e-03   1.25767300e-16  -9.78096296e-17\n",
      "    3.62576969e-17  -6.55875030e-17  -1.44792248e-16]\n",
      " [  2.79307935e-01  -1.65089199e-01   1.03406209e-01  -3.47703304e-01\n",
      "   -2.09703727e-01  -6.83234839e-02   5.72980814e-02  -4.38205654e-01\n",
      "   -1.06046957e-01  -5.03717112e-02   5.86754509e-01   2.80428397e-01\n",
      "   -2.87042060e-01  -9.68684120e-03  -1.55431560e-17  -1.37584448e-16\n",
      "   -5.09658059e-17   1.37185828e-16   2.15732123e-16]\n",
      " [ -8.10174002e-03   7.07747928e-01   1.55999203e-01  -3.27532027e-02\n",
      "    1.63079865e-01  -4.74884076e-03  -3.92320710e-02  -9.68458393e-02\n",
      "    3.02465532e-01   4.37954986e-01   1.21538510e-01   3.54852293e-01\n",
      "    1.09724708e-01  -7.84887448e-03  -4.46936072e-17   1.45981488e-16\n",
      "    3.97358874e-17  -1.38214661e-16  -1.09546586e-16]\n",
      " [ -1.76527730e-01  -4.79244989e-02  -3.25455341e-01   1.70763724e-01\n",
      "   -3.44997447e-01  -3.12784356e-01  -5.03043049e-01  -7.70417644e-02\n",
      "   -4.08703757e-01   3.16026170e-01   8.56036853e-04   2.26185130e-01\n",
      "    1.93741109e-01  -2.71597999e-03  -5.26920638e-17  -8.07960339e-17\n",
      "   -2.83050100e-17   2.33478752e-16   2.31613691e-17]\n",
      " [  3.12978876e-01  -9.29033582e-02   1.26177443e-01  -1.97117673e-01\n",
      "    4.53958484e-02   1.53838403e-01   4.30634527e-01  -3.42958531e-02\n",
      "   -4.70930371e-01   2.18721069e-01  -2.88905217e-01   2.22375417e-01\n",
      "    4.73028885e-01   1.72620056e-04   3.37996776e-17  -2.17647859e-17\n",
      "    4.51098224e-17  -1.68606428e-16   3.76291982e-17]\n",
      " [  9.66068548e-02  -2.59263789e-01   5.17455396e-01   7.07988654e-01\n",
      "    1.28995727e-01   4.19465417e-02  -7.67551952e-02  -3.35303680e-01\n",
      "    3.97207879e-03   1.23190082e-01  -1.42785959e-03   4.80447347e-02\n",
      "   -1.47588605e-02  -1.52371858e-03  -9.29256023e-18   2.70312938e-16\n",
      "   -8.41753911e-17   1.99442614e-16   1.69370936e-16]\n",
      " [  1.76324879e-03  -3.58740443e-01   1.94441734e-01  -4.19683387e-01\n",
      "   -9.75692920e-02  -2.45888513e-01  -2.03077426e-01  -2.48636567e-01\n",
      "    4.87750564e-01   2.66207234e-01  -3.72594993e-01  -1.20171275e-01\n",
      "    1.49228350e-01   3.84341930e-03  -4.93734266e-17  -2.83469983e-16\n",
      "   -1.68832304e-16   2.88823491e-16   3.39352903e-16]]\n"
     ]
    }
   ],
   "source": [
    "print w, v\n",
    "pmm.apply(pose)"
   ]
  },
  {
   "cell_type": "code",
   "execution_count": 104,
   "metadata": {
    "scrolled": false
   },
   "outputs": [
    {
     "data": {
      "image/png": "[encoded data removed]",
      "text/plain": [
       "<Figure size 432x288 with 1 Axes>"
      ]
     },
     "metadata": {},
     "output_type": "display_data"
    },
    {
     "data": {
      "image/png": "[encoded data removed]",
      "text/plain": [
       "<Figure size 432x288 with 1 Axes>"
      ]
     },
     "metadata": {},
     "output_type": "display_data"
    },
    {
     "data": {
      "image/png": "[encoded data removed]",
      "text/plain": [
       "<Figure size 432x288 with 1 Axes>"
      ]
     },
     "metadata": {},
     "output_type": "display_data"
    },
    {
     "data": {
      "image/png": "[encoded data removed]",
      "text/plain": [
       "<Figure size 432x288 with 1 Axes>"
      ]
     },
     "metadata": {},
     "output_type": "display_data"
    },
    {
     "data": {
      "image/png": "[encoded data removed]",
      "text/plain": [
       "<Figure size 432x288 with 1 Axes>"
      ]
     },
     "metadata": {},
     "output_type": "display_data"
    }
   ],
   "source": [
    "for kk in range(1,6):\n",
    "    \n",
    "    K = w[kk]\n",
    "    mode = v[:,kk]\n",
    "    observer = AddPyMOLObserver(pose, True)\n",
    "    h = np.arange(-30,30,1)\n",
    "    h_plot = h*np.pi/180\n",
    "    #h = np.concatenate((np.append(h, 15), h[: :-1]))\n",
    "\n",
    "    bar = []\n",
    "\n",
    "\n",
    "    for hh in h:\n",
    "\n",
    "        dofs_new = dofs+hh*mode\n",
    "\n",
    "        for jj, dof in enumerate(dofs_new):\n",
    "\n",
    "            pose.set_torsion(dof_dict[jj], dof)\n",
    "\n",
    "        bar.append(scorefxn(pose)-E_0)\n",
    "        #print E_0, scorefxn(pose)\n",
    "\n",
    "    np.array(bar) \n",
    "    \n",
    "    plt.figure()\n",
    "    plt.plot(h, bar)\n",
    "    plt.plot(h, 0.5*K*h**2)\n",
    "    plt.xlabel('displacement from min (degrees)')\n",
    "    plt.ylabel('$E-E_0$')"
   ]
  },
  {
   "cell_type": "code",
   "execution_count": 68,
   "metadata": {},
   "outputs": [
    {
     "data": {
      "text/plain": [
       "[<matplotlib.lines.Line2D at 0x7f46ec595750>]"
      ]
     },
     "execution_count": 68,
     "metadata": {},
     "output_type": "execute_result"
    },
    {
     "data": {
      "image/png": "[encoded data removed]",
      "text/plain": [
       "<Figure size 432x288 with 1 Axes>"
      ]
     },
     "metadata": {},
     "output_type": "display_data"
    }
   ],
   "source": [
    "\n",
    "plt.plot(h, bar)\n",
    "plt.plot(h, K*(h)**2)"
   ]
  },
  {
   "cell_type": "code",
   "execution_count": 77,
   "metadata": {},
   "outputs": [
    {
     "name": "stdout",
     "output_type": "stream",
     "text": [
      "2.09407046999\n",
      "4.38423745437\n",
      "9.17510419285\n",
      "19.1895509669\n",
      "40.1200286185\n",
      "83.7885861362\n",
      "174.856807163\n",
      "364.163994188\n",
      "752.218433788\n",
      "1459.20932066\n",
      "2698.04832523\n",
      "4786.48000314\n",
      "3700.51380572\n",
      "2834.5005941\n",
      "2170.86775994\n",
      "1662.60922328\n",
      "1273.34768167\n",
      "975.222737679\n"
     ]
    }
   ],
   "source": [
    "from scipy.special import *\n",
    "\n",
    "Z = 1\n",
    "\n",
    "for kk in w:\n",
    "    \n",
    "    if kk < 0: \n",
    "        \n",
    "        continue \n",
    "        \n",
    "    Z *= np.sqrt(2.0*2.0*np.pi/kk)*erf(np.pi/3.0/np.sqrt(2.0*2.0/kk))\n",
    "    print Z"
   ]
  },
  {
   "cell_type": "code",
   "execution_count": 78,
   "metadata": {},
   "outputs": [
    {
     "name": "stdout",
     "output_type": "stream",
     "text": [
      "-6.88266589381\n"
     ]
    }
   ],
   "source": [
    "print -np.log(Z)\n"
   ]
  },
  {
   "cell_type": "code",
   "execution_count": null,
   "metadata": {},
   "outputs": [],
   "source": []
  }
 ],
 "metadata": {
  "kernelspec": {
   "display_name": "Python 2",
   "language": "python",
   "name": "python2"
  },
  "language_info": {
   "codemirror_mode": {
    "name": "ipython",
    "version": 2
   },
   "file_extension": ".py",
   "mimetype": "text/x-python",
   "name": "python",
   "nbconvert_exporter": "python",
   "pygments_lexer": "ipython2",
   "version": "2.7.12"
  }
 },
 "nbformat": 4,
 "nbformat_minor": 2
}
