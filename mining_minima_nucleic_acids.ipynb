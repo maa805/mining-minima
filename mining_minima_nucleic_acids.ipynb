{
 "cells": [
  {
   "cell_type": "code",
   "execution_count": 1,
   "metadata": {
    "scrolled": false
   },
   "outputs": [
    {
     "name": "stdout",
     "output_type": "stream",
     "text": [
      "Found rosetta database at: /usr/local/lib/python2.7/dist-packages/pyrosetta-2018.11+release.7c7790f-py2.7-linux-x86_64.egg/pyrosetta/database; using it....\n",
      "PyRosetta-4 2017 [Rosetta PyRosetta4.Release.python27.ubuntu 2018.11+release.7c7790f7c7790fbb898f8210b54513b9f9c8a927c3e8d7f 2018-03-14T13:19:04] retrieved from: http://www.pyrosetta.org\n",
      "(C) Copyright Rosetta Commons Member Institutions.\n",
      "Created in JHU by Sergey Lyskov and PyRosetta Team.\n",
      "\n",
      "\u001b[0mcore.init: \u001b[0mChecking for fconfig files in pwd and ./rosetta/flags\n",
      "\n",
      "\u001b[0mcore.init: \u001b[0mRosetta version: PyRosetta4.Release.python27.ubuntu r173 2018.11+release.7c7790f 7c7790fbb898f8210b54513b9f9c8a927c3e8d7f http://www.pyrosetta.org 2018-03-14T13:19:04\n",
      "\u001b[0mcore.init: \u001b[0mcommand: PyRosetta -corrections::restore_talaris_behavior -database /usr/local/lib/python2.7/dist-packages/pyrosetta-2018.11+release.7c7790f-py2.7-linux-x86_64.egg/pyrosetta/database\n",
      "\u001b[0mcore.init: \u001b[0m'RNG device' seed mode, using '/dev/urandom', seed=1184383915 seed_offset=0 real_seed=1184383915\n",
      "\u001b[0mcore.init.random: \u001b[0mRandomGenerator:init: Normal mode, seed=1184383915 RG_type=mt19937\n"
     ]
    }
   ],
   "source": [
    "from pyrosetta import *\n",
    "from pyrosetta.rosetta import *\n",
    "init('-corrections::restore_talaris_behavior')\n"
   ]
  },
  {
   "cell_type": "code",
   "execution_count": null,
   "metadata": {},
   "outputs": [],
   "source": [
    "import math\n",
    "import random\n",
    "import numpy as np\n",
    "import scipy\n",
    "import matplotlib\n",
    "import matplotlib.pyplot as plt\n",
    "from pyrosetta.rosetta.protocols.moves import *\n",
    "from pyrosetta.rosetta.core.id import *\n",
    "from recces.data import *\n",
    "from recces.util import *\n",
    "from rosetta.protocols.rna import *"
   ]
  },
  {
   "cell_type": "code",
   "execution_count": null,
   "metadata": {},
   "outputs": [],
   "source": [
    "def numpy_hessian(x, h):\n",
    "        \n",
    "    x_grad = np.gradient(x, h)\n",
    "    hessian = np.empty((x.ndim, x.ndim) + x.shape, dtype = x.dtype)\n",
    "    \n",
    "    for k, grad_k in enumerate(x_grad):\n",
    "        tmp_grad = np.gradient(grad_k, h)\n",
    "        for l, grad_kl in enumerate(tmp_grad):\n",
    "            hessian[k, l, :, :] = grad_kl\n",
    "            \n",
    "    return hessian"
   ]
  },
  {
   "cell_type": "code",
   "execution_count": null,
   "metadata": {},
   "outputs": [],
   "source": [
    "def initialize_pose(seq1, seq2):\n",
    "    \n",
    "    n_residues = len(seq1) + len(seq2)\n",
    "    \n",
    "    dof_dict = {}\n",
    "    \n",
    "    pose = pyrosetta.rosetta.protocols.recces.pose_setup_turner(seq1, seq2)\n",
    "    movemap = MoveMap()\n",
    "    \n",
    "    for ii in range(n_residues-1):\n",
    "    \n",
    "        if seq2 and ii == (n_residues/2) - 1: continue\n",
    "            \n",
    "        dof_dict.update({6*ii:TorsionID(ii+2, BB, 1), 6*ii+1:TorsionID(ii+2, BB, 2), 6*ii+2:TorsionID(ii+2, BB, 3),\n",
    "                 6*ii+3:TorsionID(ii+1, BB, 5), 6*ii+4:TorsionID(ii+1, BB, 6)})\n",
    "\n",
    "        movemap.set(TorsionID(ii+2, BB, 1), True)\n",
    "        movemap.set(TorsionID(ii+2, BB, 2), True)\n",
    "        movemap.set(TorsionID(ii+2, BB, 3), True)\n",
    "        movemap.set(TorsionID(ii+1, BB, 5), True)\n",
    "        movemap.set(TorsionID(ii+1, BB, 6), True)\n",
    "        \n",
    "    for ii in range(n_residues-1):\n",
    "        \n",
    "        dof_dict.update({6*ii+5:TorsionID(ii+1, CHI, 1)})\n",
    "        movemap.set(TorsionID(ii+1, CHI, 1), True)\n",
    "        \n",
    "    dof_dict.update({6*(n_residues-1):TorsionID(n_residues, CHI, 1)})\n",
    "    movemap.set(TorsionID(n_residues, CHI, 1), True)\n",
    "    \n",
    "        \n",
    "        \n",
    "        \n",
    "    return pose, movemap, dof_dict"
   ]
  },
  {
   "cell_type": "code",
   "execution_count": null,
   "metadata": {},
   "outputs": [],
   "source": [
    "def find_minimum(pose, sf, movemap):\n",
    "    \n",
    "    \n",
    "    minimum = Pose()\n",
    "    minimum.assign(pose)\n",
    "    \n",
    "    n_residues = pose.total_residue()\n",
    "    \n",
    "    movemap = MoveMap()\n",
    "    for ii in range(n_residues-1):\n",
    "        \n",
    "        minimum.set_alpha(  ii+2, random.uniform(0, 360))\n",
    "        minimum.set_beta(   ii+2, random.uniform(0, 360))\n",
    "        minimum.set_gamma(  ii+2, random.uniform(0, 360))\n",
    "        minimum.set_epsilon(ii+1, random.uniform(0, 360))\n",
    "        minimum.set_zeta(   ii+1, random.uniform(0, 360))\n",
    "             \n",
    "    for ii in range(n_residues):\n",
    "        \n",
    "        pose.set_chi(ii+1, random.uniform(0, 360))\n",
    "\n",
    "    \n",
    "    minmover = rosetta.protocols.minimization_packing.MinMover(movemap, sf, 'linmin_iterated', 1e-6, True)\n",
    "    minmover.max_iter(100000)\n",
    "    minmover.apply(minimum)\n",
    "    \n",
    "    return minimum   "
   ]
  },
  {
   "cell_type": "code",
   "execution_count": null,
   "metadata": {},
   "outputs": [],
   "source": [
    "def helix_state(pose, dof_dict):\n",
    "    \n",
    "    n_residues = pose.total_residue()\n",
    "    \n",
    "    # Definition of helix state backbone torsions\n",
    "    for ii in range(n_residues - 1):\n",
    "        \n",
    "        if ii == n_residues/2 - 1: continue\n",
    "        \n",
    "        pose.set_torsion(dof_dict[6*ii], -64.11)\n",
    "        pose.set_torsion(dof_dict[6*ii+1], 176.33)\n",
    "        pose.set_torsion(dof_dict[6*ii+2], 53.08)\n",
    "        pose.set_torsion(dof_dict[6*ii+3], -150.17)\n",
    "        pose.set_torsion(dof_dict[6*ii+4], -71.45)   \n",
    "       \n",
    "    # Definition of helix state chi torsions\n",
    "    for ii in range(n_residues-1): pose.set_torsion(dof_dict[6*ii+5], 79.43)\n",
    "    \n",
    "    return pose"
   ]
  },
  {
   "cell_type": "code",
   "execution_count": null,
   "metadata": {},
   "outputs": [],
   "source": [
    "def mode_scan(pose, dofs, dof_dict, scorefxn, mode, kT = 1.0, h = 0.5):\n",
    "    \n",
    "    temp = Pose()\n",
    "    temp.assign(pose)\n",
    "    \n",
    "    E_0 = scorefxn(pose)\n",
    "    E = E_0\n",
    "    inc = 0\n",
    "    result = 0.0\n",
    "    \n",
    "    max_inc = int(60/h)\n",
    "\n",
    "    while inc < max_inc:\n",
    "        \n",
    "        inc += 1\n",
    "        result += 0.5*np.exp(-(E-E_0)/kT)\n",
    "        dofs_new = dofs + (60.0)*inc/float(max_inc)*mode\n",
    "        \n",
    "        for key, val in enumerate(dofs_new):\n",
    "\n",
    "            if key > len(dofs)/2 -2: key += 5\n",
    "            temp.set_torsion(dof_dict[key], val)\n",
    "        \n",
    "        E = scorefxn(temp)\n",
    "        result += 0.5*np.exp(-(E-E_0)/kT)\n",
    "\n",
    "    # Reinitialize pose\n",
    "    temp.assign(pose)\n",
    "    inc = 0\n",
    "    E = E_0\n",
    "    \n",
    "    while inc < max_inc:\n",
    "        \n",
    "        inc += 1\n",
    "        \n",
    "        result += 0.5*np.exp(-(E-E_0)/kT)\n",
    "        dofs_new = dofs + 60.0*inc/float(max_inc)*mode\n",
    "        \n",
    "        for key, val in enumerate(dofs_new):\n",
    "            \n",
    "            if key > len(dofs)/2 - 2: key += 5 \n",
    "            temp.set_torsion(dof_dict[key], val)\n",
    "        E  = scorefxn(temp)\n",
    "        result += 0.5*np.exp(-(E-E_0)/kT)\n",
    "        \n",
    "    result *= h*np.pi/180.0\n",
    "    return result"
   ]
  },
  {
   "cell_type": "code",
   "execution_count": null,
   "metadata": {
    "scrolled": true
   },
   "outputs": [],
   "source": [
    "scorefxn = core.scoring.ScoreFunctionFactory.create_score_function('stepwise/rna/turner')\n",
    "print scorefxn"
   ]
  },
  {
   "cell_type": "markdown",
   "metadata": {
    "scrolled": true
   },
   "source": [
    "rna_hires = protocols.rna.denovo.get_rna_hires_scorefxn()\n",
    "#rna_hires = core.scoring.ScoreFunctionFactory.create_score_function('rna/denovo/rna_hires_recces')\n",
    "#rna_hires.set_weight(core.scoring.geom_sol, 0)\n",
    "#rna_hires.set_weight(core.scoring.ch_bond, 0)\n",
    "#rna_hires.set_weight(core.scoring.rna_sugar_close, 0)\n",
    "rna_hires.set_weight(core.scoring.ch_bond, 0.)\n",
    "rna_hires.set_weight(core.scoring.rna_sugar_close, 0.)\n",
    "rna_hires.set_weight(core.scoring.hbond_lr_bb_sc, 0.)\n",
    "rna_hires.set_weight(core.scoring.hbond_sr_bb_sc, 0.)\n",
    "rna_hires.set_weight(core.scoring.hbond_sc, 0.)\n",
    "rna_hires.set_weight(core.scoring.geom_sol, 0.)\n",
    "rna_hires.set_weight(core.scoring.atom_pair_constraint, 0.)\n",
    "rna_hires.set_weight(core.scoring.fa_atr,0.73)\n",
    "rna_hires.set_weight(core.scoring.fa_rep, 0.10)\n",
    "rna_hires.set_weight(core.scoring.fa_intra_rep, 0.0071) \n",
    "rna_hires.set_weight(core.scoring.lk_nonpolar, 0.25) \n",
    "rna_hires.set_weight(core.scoring.fa_elec_rna_phos_phos, 4.54) \n",
    "rna_hires.set_weight(core.scoring.rna_torsion, 4.26) \n",
    "rna_hires.set_weight(core.scoring.stack_elec, 1.54) \n",
    "rna_hires.set_weight(core.scoring.hbond_sc, 2.46)\n",
    "#rna_hires.energy_method_options().rna_options().torsion_potential('RNA11_based_new')\n",
    "print rna_hires"
   ]
  },
  {
   "cell_type": "code",
   "execution_count": null,
   "metadata": {},
   "outputs": [],
   "source": [
    "CURR_WT = [0.73, 0.1, 0.0071, 0, 4.26, 2.46, 0.25, 0, 1.54, 4.54]"
   ]
  },
  {
   "cell_type": "code",
   "execution_count": null,
   "metadata": {
    "scrolled": true
   },
   "outputs": [],
   "source": [
    "seq1 = 'gcc'\n",
    "seq2 = 'ggc'\n",
    "\n",
    "# Specify local path to where RECCES results are stored\n",
    "try: \n",
    "    hist = SingleHistSimulation('./../recces_rosetta/results/'+seq1+'_'+seq2+'/ST/')\n",
    "    print hist.value\n",
    "    \n",
    "except ValueError: pass\n",
    "except IndexError: pass\n",
    "\n",
    "n_residues = len(seq1) + len(seq2)\n",
    "\n",
    "pose, movemap, dof_dict = initialize_pose(seq1, seq2)\n",
    "pyrosetta.rosetta.protocols.rna.denovo.setup_coarse_chainbreak_constraints(pose, 2)\n",
    "#pose = pose_from_pdb('aaa_uuu_chainbreak.pdb')\n",
    "scorefxn = core.scoring.ScoreFunctionFactory.create_score_function('/stepwise/rna/turner')\n",
    "#scorefxn.set_weight(core.scoring.lk_nonpolar, 0)\n",
    "#scorefxn.set_weight(core.scoring.stack_elec, 0)"
   ]
  },
  {
   "cell_type": "code",
   "execution_count": null,
   "metadata": {},
   "outputs": [],
   "source": [
    "minmover = rosetta.protocols.minimization_packing.MinMover(movemap, scorefxn, 'linmin_iterated', 1.0e-7, True)\n",
    "minmover.max_iter(1000000)\n",
    "minmover.min_options().use_nblist(True)\n",
    "minmover.min_options().nblist_auto_update(True)\n",
    "print scorefxn\n",
    "pyrosetta.rosetta.protocols.rna.denovo.setup_coarse_chainbreak_constraints(pose, 2)"
   ]
  },
  {
   "cell_type": "code",
   "execution_count": null,
   "metadata": {
    "scrolled": true
   },
   "outputs": [],
   "source": [
    "\n",
    "import itertools\n",
    "\n",
    "minimum = Pose()\n",
    "\n",
    "pose.assign(helix_state(pose, dof_dict))\n",
    "minmover.apply(pose)\n",
    "minimum.assign(pose)\n",
    "print scorefxn.show(pose)\n",
    "h = 0.1\n",
    "h_rad = h*np.pi/180\n",
    "E_0 = scorefxn(pose)\n",
    "\n",
    "dofs = []\n",
    "\n",
    "for val in dof_dict.itervalues(): dofs.append(pose.torsion(val))\n",
    "dofs = np.array(dofs)\n",
    "\n",
    "hessian = np.zeros((len(dofs), len(dofs)))\n",
    "\n",
    "n_pts = int(1/h + 1)\n",
    "ind = int(n_pts/2)\n",
    "\n",
    "tor_ranges = np.zeros((n_pts, len(dofs)))\n",
    "energy = np.zeros((n_pts, n_pts))\n",
    "\n",
    "for ii, dof in enumerate(dofs):\n",
    "            \n",
    "    tor_ranges[:, ii] = dof + np.arange(-0.5, 0.5+h, h)\n",
    "    \n",
    "for pair in list(itertools.combinations(dof_dict.keys(), 2)):\n",
    "    \n",
    "    foo = pair[0]\n",
    "    bar = pair[1]\n",
    "    if foo > len(dofs)/2 - 2: foo -= 5\n",
    "    if bar > len(dofs)/2 - 2: bar -= 5\n",
    "    \n",
    "    x = tor_ranges[:, foo]\n",
    "    y = tor_ranges[:, bar]\n",
    "\n",
    "    for ii, xx in enumerate(x):\n",
    "            \n",
    "        pose.set_torsion(dof_dict[pair[0]], xx)\n",
    "        \n",
    "        for jj, yy in enumerate(y):\n",
    "            \n",
    "            pose.set_torsion(dof_dict[pair[1]], yy)\n",
    "            \n",
    "            energy[ii, jj] = scorefxn(pose)\n",
    "\n",
    "            pose.set_torsion(dof_dict[pair[1]], dofs[bar])\n",
    "            \n",
    "        pose.set_torsion(dof_dict[pair[0]], dofs[foo])\n",
    "        \n",
    "    hess = numpy_hessian(energy, h_rad)\n",
    "    \n",
    "    d2E_dx2 =  hess[0,0,:,:]\n",
    "    d2E_dy2 =  hess[1,1,:,:]\n",
    "    d2E_dxdy = hess[0,1,:,:]\n",
    "    \n",
    "    if hessian[foo, foo] == 0:\n",
    "        \n",
    "        hessian[foo, foo] = d2E_dx2[ind, ind]\n",
    "        \n",
    "    if hessian[bar, bar] == 0:\n",
    "        \n",
    "        hessian[bar, bar] = d2E_dy2[ind, ind]\n",
    "        \n",
    "    hessian[foo, bar] = d2E_dxdy[ind, ind]\n",
    "    hessian[bar, foo] = d2E_dxdy[ind, ind]\n",
    "    \n",
    "pose.assign(minimum)\n",
    "try: scorefxn.show(ST_min)\n",
    "except NameError: pass\n"
   ]
  },
  {
   "cell_type": "code",
   "execution_count": null,
   "metadata": {},
   "outputs": [],
   "source": [
    "import scipy\n",
    "import scipy.linalg\n",
    "\n",
    "w,v = scipy.linalg.eigh(hessian)\n",
    "print w"
   ]
  },
  {
   "cell_type": "code",
   "execution_count": null,
   "metadata": {
    "scrolled": false
   },
   "outputs": [],
   "source": [
    "'''this code will assay the normal modes, plotting the corresponding boltzmann weights for both the harmonic approximation\n",
    "and scanned modes'''\n",
    "\n",
    "import scipy.integrate\n",
    "\n",
    "pose.assign(minimum)\n",
    "E_min = scorefxn(minimum)\n",
    "kT = 1.0\n",
    "fig = plt.figure()\n",
    "for kk, K in enumerate(w):\n",
    " \n",
    "    mode = v[:,kk]\n",
    "    h = np.arange(-60,61,1)\n",
    "    h_plot = h*np.pi/180\n",
    "\n",
    "    bar = []\n",
    "\n",
    "\n",
    "    for hh in h:\n",
    "\n",
    "        dofs_new = dofs+hh*mode\n",
    "\n",
    "        for jj, dof in enumerate(dofs_new):\n",
    "\n",
    "            if jj > len(dofs)/2 - 2: jj += 5\n",
    "            pose.set_torsion(dof_dict[jj], dof)\n",
    "\n",
    "        bar.append((scorefxn(pose)-E_0)/kT)\n",
    "\n",
    "    np.array(bar) \n",
    "    pose.assign(minimum)\n",
    "    #plt.subplot(10,5, kk+1)\n",
    "    plt.figure()\n",
    "    plt.plot(h, np.exp(-np.array(bar)))\n",
    "    plt.plot(h, np.exp(-0.5*K*h_plot**2/kT))\n",
    "    plt.xticks([])\n",
    "    plt.yticks([])\n",
    "    #plt.xlabel('Displacement along normal coordinate (degrees)')\n",
    "    #plt.ylabel('exp(-(E-E0)/kT)')\n"
   ]
  },
  {
   "cell_type": "code",
   "execution_count": null,
   "metadata": {},
   "outputs": [],
   "source": [
    "'''this code will calculate the configuration integral using both harmonic approximation and mode scanning'''\n",
    "\n",
    "from scipy.special import *\n",
    "pose.assign(minimum)\n",
    "V = 1\n",
    "kT = 1.0\n",
    "Z_harm = 1.00\n",
    "Z_scan = 1.00\n",
    "Z = 1.00\n",
    "for ii, K in enumerate(w):\n",
    "\n",
    "    # Mode scanning\n",
    "    Z_j = mode_scan(pose, dofs, dof_dict, scorefxn, v[:,ii], kT, h = 1)\n",
    "    \n",
    "    sig = min(6*np.sqrt(kT/K), 2*np.pi/3)\n",
    "    V*=sig\n",
    "    # Harmonic approximation\n",
    "    Z_i = np.sqrt(2.0*np.pi*kT/K)*erf(np.sqrt(2.0*K/kT)*sig/4.0)\n",
    "    \n",
    "    Z_harm *= Z_i\n",
    "    Z_scan *= Z_j\n",
    "    \n",
    "    if abs(np.log(Z_i/Z_j))<0.5: Z *= Z_i\n",
    "    else: Z*=Z_j\n",
    "    pose.assign(minimum)\n",
    "    \n",
    "    print Z_i, Z_j"
   ]
  },
  {
   "cell_type": "code",
   "execution_count": 16,
   "metadata": {
    "scrolled": true
   },
   "outputs": [
    {
     "name": "stdout",
     "output_type": "stream",
     "text": [
      "-32.81826604881288 -31.468888898037413 -32.888555673035256\n",
      "-60.9036590332\n",
      "applying phase space volume for two strand with helix length  3  and dangle length  0\n",
      "-50.68977311930954\n",
      "-13.66767145176313\n",
      "Inferring sequence from directory name:  gcc_ggc\n",
      "Created:  hist_list.txt\n",
      "applying phase space volume for two strand with helix length  3  and dangle length  0\n",
      "-34.24182851545683\n",
      "-21.103238914076044 -21.60172389394942\n"
     ]
    }
   ],
   "source": [
    "print scorefxn(minimum) - np.log(Z_harm), scorefxn(minimum) - np.log(Z_scan), scorefxn(minimum) - 0.5*len(v)*np.log(2*np.pi) + 0.5*np.log(np.linalg.det(hessian))\n",
    "\n",
    "# Equipartition theorem average internal energy\n",
    "E_avg = scorefxn(minimum) + 0.5*len(v)\n",
    "print E_avg\n",
    "F = scorefxn(minimum) - np.log(Z_scan)\n",
    "print F - np.log(torsion_volume(seq1, seq2))\n",
    "# Harmonic approximation free energy\n",
    "fuck = E_min - 0.5*len(w)*np.log(2*np.pi) + 0.5*np.log(np.linalg.det(hessian))\n",
    "print fuck + len(w)*np.log(2*np.pi/3)\n",
    "\n",
    "# Entropy from definition of free energy\n",
    "#print E_avg - F\n",
    "\n",
    "sim = SingleSimulation('./../recces_rosetta/results/'+seq1+'_'+seq2+'/ST/', CURR_WT)\n",
    "\n",
    "#print sim.value, sim.avg_energy, sim.entropy\n",
    "print sim.value\n",
    "\n",
    "#print sim.entropy, -np.log(np.sum(matt_guess(E)))\n",
    "print 0.6163*sim.value, 0.6163*F - 0.616*2*np.log(6)"
   ]
  },
  {
   "cell_type": "code",
   "execution_count": 17,
   "metadata": {},
   "outputs": [
    {
     "data": {
      "text/plain": [
       "True"
      ]
     },
     "execution_count": 17,
     "metadata": {},
     "output_type": "execute_result"
    }
   ],
   "source": [
    "minimum.dump_pdb('./../fuck_you.pdb')"
   ]
  },
  {
   "cell_type": "code",
   "execution_count": null,
   "metadata": {},
   "outputs": [],
   "source": [
    "def partition_function(beta):\n",
    "    \n",
    "    Z = 1.0\n",
    "    \n",
    "    for K in w:\n",
    "        \n",
    "        sig = min(2*np.pi/3.0, 6*np.sqrt(1/kT))\n",
    "        Z *= np.sqrt(2.0*np.pi/K/beta)*erf(np.sqrt(2.0*K*beta)*sig/4.0)\n",
    "        \n",
    "    return Z"
   ]
  },
  {
   "cell_type": "code",
   "execution_count": null,
   "metadata": {},
   "outputs": [],
   "source": [
    "'this code defines an implementation of the Stehfest method for numerically calculating the inverse laplace transform'\n",
    "import scipy.misc\n",
    "\n",
    "fact = scipy.misc.factorial\n",
    "\n",
    "def csteh(n, i):\n",
    "    acc = 0.0\n",
    "    for k in xrange(int(np.floor((i+1)/2.0)), int(min(i, n/2.0))+1):\n",
    "        num = k**(n/2.0) * fact(2 * k)\n",
    "        den = fact(i - k) * fact(k -1) * fact(k) * fact(2*k - i) * fact(n/2.0 - k)\n",
    "        acc += (num /den)\n",
    "    expo = i+n/2.0\n",
    "    term = np.power(-1+0.0j,expo)\n",
    "    res = term * acc\n",
    "    return res.real\n",
    "\n",
    "def nlinvsteh(t, F=partition_function, n = 18):\n",
    "    acc = 0.0\n",
    "    lton2 = np.log(2) / t\n",
    "    for i in xrange(1, n+1):\n",
    "        a = csteh(n, i)\n",
    "        b = F(i * lton2)\n",
    "        acc += (a * b)\n",
    "        \n",
    "    if lton2 * acc > 0.: return lton2 * acc\n",
    "    else: return 0."
   ]
  },
  {
   "cell_type": "code",
   "execution_count": null,
   "metadata": {},
   "outputs": [],
   "source": [
    "t = np.linspace(0,800,8001)\n",
    "A = []\n",
    "for tt in t: A.append(nlinvsteh(tt))\n",
    "t = np.array(t)\n",
    "A = np.array(A)\n",
    "A[A<0.]=0.0\n"
   ]
  },
  {
   "cell_type": "code",
   "execution_count": null,
   "metadata": {
    "scrolled": false
   },
   "outputs": [],
   "source": [
    "hist = SingleHistSimulation('./../recces_rosetta/results/'+seq1+'_'+seq2+'/ST/')\n",
    "#plt.plot(t[:1000]+rna_hires(minimum), A[:1000]*np.exp(-t[:1000]/1.0)*np.exp(-scorefxn(minimum)))\n",
    "print np.sum(hist._dos)/torsion_volume(seq1, seq2)\n",
    "plt.plot(hist._dos_scores[201:800], hist._dos[201:800]*np.exp(-hist._dos_scores[201:800]/1.0))\n",
    "plt.plot(E[:2000], matt_guess(E[:2000])*np.exp(-(E[:2000])/1.0)/100)\n",
    "plt.xlabel('Energy (RU)')\n",
    "plt.ylabel('g(E)')\n",
    "plt.legend(('Mining Minima', 'RECCES', 'Analytical'))"
   ]
  },
  {
   "cell_type": "code",
   "execution_count": null,
   "metadata": {},
   "outputs": [],
   "source": [
    "bar = scipy.special.logsumexp(-(t+rna_hires(minimum)), b = A)\n",
    "print bar\n",
    "print scipy.special.logsumexp(-hist._dos_scores, b = hist._dos)"
   ]
  },
  {
   "cell_type": "code",
   "execution_count": null,
   "metadata": {},
   "outputs": [],
   "source": [
    "plt.plot(t[:1000]+rna_hires(minimum),np.exp(-(t[:1000]+scorefxn(minimum))/1.0)*A[:1000])\n",
    "plt.plot(hist._dos_scores[260:1200],hist._dos[260:1200]*np.exp(-(hist._dos_scores[260:1200]/1.0)))"
   ]
  },
  {
   "cell_type": "code",
   "execution_count": null,
   "metadata": {},
   "outputs": [],
   "source": [
    "\n",
    "print t[100:] + scorefxn(minimum)"
   ]
  },
  {
   "cell_type": "code",
   "execution_count": null,
   "metadata": {},
   "outputs": [],
   "source": [
    "from recces.util import *\n",
    "from recces.data import *\n",
    "curr_wt = [0.73, 0.1, 0.0071, 0, 4.26, 2.46, 0.25, 0, 1.54, 4.54]"
   ]
  },
  {
   "cell_type": "code",
   "execution_count": 18,
   "metadata": {},
   "outputs": [],
   "source": [
    "E = np.linspace(-100,800,9001)"
   ]
  },
  {
   "cell_type": "code",
   "execution_count": 19,
   "metadata": {},
   "outputs": [
    {
     "name": "stdout",
     "output_type": "stream",
     "text": [
      "-60.9036590332\n"
     ]
    }
   ],
   "source": [
    "E_min = scorefxn(minimum)\n",
    "print E_avg\n",
    "gamma = scipy.special.gamma"
   ]
  },
  {
   "cell_type": "code",
   "execution_count": 20,
   "metadata": {},
   "outputs": [],
   "source": [
    "matt_guess = lambda E: (2.0*np.pi)**(len(w)/2)*(E-E_min)**(len(w)/2)/gamma(len(w)/2)/np.sqrt(np.linalg.det(hessian))*np.heaviside(E-E_min, 0.5)#2*(2*np.pi)**((len(w)-1)/2)*(2*(E-E_min))**(len(w)/2-1)/scipy.misc.factorial2(len(w)-2)/np.sqrt(np.linalg.det(hessian))*np.heaviside(E-E_min,0.5)"
   ]
  },
  {
   "cell_type": "code",
   "execution_count": 23,
   "metadata": {
    "scrolled": false
   },
   "outputs": [
    {
     "data": {
      "text/plain": [
       "Text(0,0.5,'$g(E)e^{-E/kT}$')"
      ]
     },
     "execution_count": 23,
     "metadata": {},
     "output_type": "execute_result"
    },
    {
     "data": {
      "image/png": "[encoded data removed]",
      "text/plain": [
       "<Figure size 432x288 with 1 Axes>"
      ]
     },
     "metadata": {},
     "output_type": "display_data"
    }
   ],
   "source": [
    "#plt.plot(t[:1000]+rna_hires(minimum),np.exp(-(t[:1000])/1.0)*A[:1000]*1e12)# numerical \n",
    "#plt.plot(t[:1000]+E_avg, harmonic_dos(t[:1000])*np.exp(-((t[:1000])/1.00))/torsion_volume(seq1,seq2)*5e17)# harmonic#\n",
    "\n",
    "fig = plt.figure()\n",
    "plt.plot(hist._dos_scores[:2000], hist._dos[:2000]*np.exp(-hist._dos_scores[:2000]/1.0)) # RECCES\n",
    "\n",
    "y = np.zeros_like(E)\n",
    "y = matt_guess(E)\n",
    "\n",
    "plt.plot(E[:2000], y[:2000]*np.exp(-(E[:2000])/1.0)/40)# Matt's guess for analytical\n",
    "plt.legend(('RECCES','Harmonic Approximation'))\n",
    "plt.xlabel('Energy (RU)')\n",
    "plt.ylabel('$g(E)e^{-E/kT}$')\n"
   ]
  },
  {
   "cell_type": "code",
   "execution_count": 25,
   "metadata": {},
   "outputs": [
    {
     "name": "stdout",
     "output_type": "stream",
     "text": [
      "[-100.   -99.9  -99.8 ...  799.8  799.9  800. ]\n",
      "-34.241410709660165\n",
      "-34.241410709660165\n",
      "-37.75609012349085\n"
     ]
    },
    {
     "name": "stderr",
     "output_type": "stream",
     "text": [
      "/home/maa/.local/lib/python2.7/site-packages/ipykernel_launcher.py:4: DeprecationWarning: `logsumexp` is deprecated!\n",
      "Importing `logsumexp` from scipy.misc is deprecated in scipy 1.0.0. Use `scipy.special.logsumexp` instead.\n",
      "  after removing the cwd from sys.path.\n",
      "/home/maa/.local/lib/python2.7/site-packages/ipykernel_launcher.py:6: DeprecationWarning: `logsumexp` is deprecated!\n",
      "Importing `logsumexp` from scipy.misc is deprecated in scipy 1.0.0. Use `scipy.special.logsumexp` instead.\n",
      "  \n"
     ]
    }
   ],
   "source": [
    "print hist._dos_scores\n",
    "dos_scores = np.array(hist._dos_scores)\n",
    "dos = np.array(hist._dos)\n",
    "print -scipy.misc.logsumexp(-dos_scores,b=dos)\n",
    "print hist.value\n",
    "print -scipy.misc.logsumexp(-E, b=y)"
   ]
  },
  {
   "cell_type": "code",
   "execution_count": 38,
   "metadata": {},
   "outputs": [
    {
     "ename": "NameError",
     "evalue": "name 't' is not defined",
     "output_type": "error",
     "traceback": [
      "\u001b[0;31m---------------------------------------------------------------------------\u001b[0m",
      "\u001b[0;31mNameError\u001b[0m                                 Traceback (most recent call last)",
      "\u001b[0;32m<ipython-input-38-e16e33e35083>\u001b[0m in \u001b[0;36m<module>\u001b[0;34m()\u001b[0m\n\u001b[0;32m----> 1\u001b[0;31m \u001b[0mplt\u001b[0m\u001b[0;34m.\u001b[0m\u001b[0mplot\u001b[0m\u001b[0;34m(\u001b[0m\u001b[0mt\u001b[0m\u001b[0;34m[\u001b[0m\u001b[0;34m:\u001b[0m\u001b[0;36m1000\u001b[0m\u001b[0;34m]\u001b[0m\u001b[0;34m+\u001b[0m\u001b[0mE_avg\u001b[0m\u001b[0;34m,\u001b[0m \u001b[0mmatt_guess\u001b[0m\u001b[0;34m(\u001b[0m\u001b[0mt\u001b[0m\u001b[0;34m[\u001b[0m\u001b[0;34m:\u001b[0m\u001b[0;36m1000\u001b[0m\u001b[0;34m]\u001b[0m\u001b[0;34m)\u001b[0m\u001b[0;34m*\u001b[0m\u001b[0mnp\u001b[0m\u001b[0;34m.\u001b[0m\u001b[0mexp\u001b[0m\u001b[0;34m(\u001b[0m\u001b[0;34m-\u001b[0m\u001b[0;34m(\u001b[0m\u001b[0mt\u001b[0m\u001b[0;34m[\u001b[0m\u001b[0;34m:\u001b[0m\u001b[0;36m1000\u001b[0m\u001b[0;34m]\u001b[0m\u001b[0;34m)\u001b[0m\u001b[0;34m/\u001b[0m\u001b[0;36m1.0\u001b[0m\u001b[0;34m)\u001b[0m\u001b[0;34m)\u001b[0m\u001b[0;34m\u001b[0m\u001b[0m\n\u001b[0m",
      "\u001b[0;31mNameError\u001b[0m: name 't' is not defined"
     ]
    }
   ],
   "source": [
    "plt.plot(t[:1000]+E_avg, matt_guess(t[:1000])*np.exp(-(t[:1000])/1.0))"
   ]
  },
  {
   "cell_type": "code",
   "execution_count": null,
   "metadata": {},
   "outputs": [],
   "source": [
    "bar = -scipy.special.logsumexp(-(E), b=y)\n",
    "print bar\n",
    "print sim.value"
   ]
  },
  {
   "cell_type": "code",
   "execution_count": null,
   "metadata": {},
   "outputs": [],
   "source": [
    "plt.plot(t[:1000]+scorefxn(minimum), harmonic_dos(t[:1000]-E_avg)*np.exp(-(t[:1000]+scorefxn(minimum))))"
   ]
  },
  {
   "cell_type": "code",
   "execution_count": null,
   "metadata": {},
   "outputs": [],
   "source": [
    "print bar - np.log(torsion_volume(seq1, seq2))\n",
    "print hist.value - np.log(torsion_volume(seq1, seq2))"
   ]
  },
  {
   "cell_type": "code",
   "execution_count": null,
   "metadata": {},
   "outputs": [],
   "source": [
    "print pose.annotated_sequence()"
   ]
  },
  {
   "cell_type": "code",
   "execution_count": null,
   "metadata": {},
   "outputs": [],
   "source": [
    "pyrosetta.rosetta.protocols.rna.denovo.setup_coarse_chainbreak_constraints(pose, 2)"
   ]
  },
  {
   "cell_type": "code",
   "execution_count": null,
   "metadata": {},
   "outputs": [],
   "source": [
    "print pose.annotated_sequence()\n",
    "print minimum.fold_tree()"
   ]
  },
  {
   "cell_type": "code",
   "execution_count": null,
   "metadata": {},
   "outputs": [],
   "source": [
    "def wang_landau(K):\n",
    "    '''Computes the density of states using the Wang-Landau algorithm (see, e.g., )'''\n",
    "    \n",
    "    #E = lambda x: 0.5*np.dot(K, x**2)\n",
    "    \n",
    "    E = mm_energy(pose, )\n",
    "    dr = 0.005\n",
    "    f = np.exp(1)\n",
    "    r = np.arange(0,50,dr)\n",
    "    g = np.zeros_like(r)\n",
    "    H = np.zeros_like(r)\n",
    "    x_0 = 0.05*np.ones_like(K)\n",
    "    print E(x_0)\n",
    "    \n",
    "    while f > np.exp(1e-8):\n",
    "    \n",
    "        ii = 0\n",
    "        print f\n",
    "        while ii < 100000:\n",
    "\n",
    "            x = np.random.uniform(0, 0.08, (len(K)))\n",
    "            x_ind = int(E(x)/dr)\n",
    "            x_0_ind = int(E(x_0)/dr)\n",
    "            if x_ind > H.shape[0]-1: continue\n",
    "\n",
    "            if np.log(g[x_ind]) < np.log(g[x_0_ind]) or np.exp(np.log(g[x_ind])-np.log(g[x_0_ind])) < np.random.uniform():\n",
    "\n",
    "\n",
    "                H[x_ind] += 1\n",
    "                g[x_ind] += f\n",
    "                x_0 = x\n",
    "\n",
    "            else: \n",
    "\n",
    "                H[x_0_ind] += 1\n",
    "                g[x_0_ind] += f\n",
    "                \n",
    "            ii += 1\n",
    "\n",
    "        if H.any < 0.95*np.average(H): continue \n",
    "\n",
    "        f = f**0.5\n",
    "        H = np.zeros_like(r)\n",
    "\n",
    "    return g, r"
   ]
  },
  {
   "cell_type": "code",
   "execution_count": null,
   "metadata": {
    "scrolled": true
   },
   "outputs": [],
   "source": [
    "g, r = wang_landau(w)\n",
    "g = g/max(g)"
   ]
  },
  {
   "cell_type": "code",
   "execution_count": null,
   "metadata": {},
   "outputs": [],
   "source": [
    "plt.plot(r, np.exp(g)*np.exp(-r))\n",
    "print -np.log(scipy.special.logsumexp(-(r+scorefxn(minimum)), b=g)) - np.log(torsion_volume(seq1, seq2))"
   ]
  },
  {
   "cell_type": "code",
   "execution_count": null,
   "metadata": {
    "scrolled": true
   },
   "outputs": [],
   "source": [
    "plt.plot(r, np.exp(g))"
   ]
  },
  {
   "cell_type": "code",
   "execution_count": null,
   "metadata": {},
   "outputs": [],
   "source": [
    "def mm_energy(pose, delta, dof_dict, sf):\n",
    "    \n",
    "    temp = Pose()\n",
    "    temp.assign(pose)\n",
    "            \n",
    "    for key, val in enumerate(delta):\n",
    "\n",
    "        if key > len(delta)/2 -2: key += 5\n",
    "        temp.set_torsion(dof_dict[key], temp.torsion(dof_dict[key]) + val)\n",
    "        \n",
    "    return sf(temp)"
   ]
  },
  {
   "cell_type": "code",
   "execution_count": null,
   "metadata": {},
   "outputs": [],
   "source": [
    "norm = np.sum(hist._dos)"
   ]
  },
  {
   "cell_type": "code",
   "execution_count": null,
   "metadata": {},
   "outputs": [],
   "source": [
    "print np.log(norm*torsion_volume(seq1, seq2))"
   ]
  },
  {
   "cell_type": "code",
   "execution_count": null,
   "metadata": {},
   "outputs": [],
   "source": [
    "max(matt_guess(E[1000:2000])*np.exp(-E[1000:2000]))"
   ]
  },
  {
   "cell_type": "code",
   "execution_count": null,
   "metadata": {
    "scrolled": true
   },
   "outputs": [],
   "source": [
    "dr = 0.1\n",
    "r = np.arange(-100,800+dr,dr)\n",
    "g = np.zeros_like(r)\n",
    "H = np.zeros_like(r)\n",
    "\n",
    "f = np.exp(1)\n",
    "sig = 1/np.sqrt(w)\n",
    "\n",
    "delta_0 = np.zeros_like(w)\n",
    "E_min = scorefxn(minimum)\n",
    "E_0 = E_min\n",
    "\n",
    "while np.log(f) > 1e-8:\n",
    "\n",
    "    print f\n",
    "    ii = 0\n",
    "    H[:] = 0\n",
    "    \n",
    "    while ii < 10000:\n",
    "\n",
    "        y = np.random.randint(10,len(w))\n",
    "        delta = np.random.uniform(-180,180)*v[:,y]\n",
    "\n",
    "        #delta = np.random.uniform(-np.pi/3, np.pi/3, len(w))\n",
    "        #y = np.random.randint(0,len(w))\n",
    "        #delta = v[:,y]*np.random.uniform(-np.pi/3,np.pi/3)\n",
    "        \n",
    "        #E = E_min + 0.5*np.dot(w,delta**2)\n",
    "        E = mm_energy(minimum, delta, dof_dict, scorefxn)\n",
    "        #E = mm_energy(minimum, delta, dof_dict, scorefxn)\n",
    "\n",
    "    \n",
    "        ind = int((E+100)/dr)\n",
    "        ind_0 = int((E_0+100)/dr)\n",
    "\n",
    "        if ind > len(r) -1: ind = -1\n",
    "        if ind_0 > len(r) - 1: ind_0 = -1\n",
    "        #H[ind] += 1\n",
    "        #ii += 1\n",
    "        if np.random.uniform() < np.exp(g[ind_0]-g[ind]):\n",
    "            \n",
    "            g[ind] += np.log(f)\n",
    "            H[ind] += 1\n",
    "            delta_0 = delta\n",
    "            E_0 = E\n",
    "        \n",
    "            \n",
    "        else:\n",
    "\n",
    "            g[ind_0] += np.log(f)\n",
    "            H[ind_0] += 1\n",
    "            \n",
    "        ii += 1\n",
    "            \n",
    "    #if H.any() < 1: continue   \n",
    "    f = np.sqrt(f)\n",
    "\n",
    "\n"
   ]
  },
  {
   "cell_type": "code",
   "execution_count": null,
   "metadata": {},
   "outputs": [],
   "source": [
    "plt.plot(r[:2000], H[:2000]*np.exp(-r[:2000]))\n",
    "#print -scipy.special.logsumexp(-r, b=H/2e17) - np.log(torsion_volume(seq1, seq2))\n",
    "#plt.plot(t[:600]+E_min, 0.15*A[:600]*torsion_volume(seq1, seq2)*np.exp(-t[:600]/1.0)*(np.pi/6)**len(w)*2e14)\n",
    "plt.plot(hist._dos_scores[260:1400], hist._dos[260:1400]*np.exp(-hist._dos_scores[260:1400])/1e7)\n",
    "plt.xlabel('Energy (RU)')\n",
    "plt.ylabel('g(E)')\n",
    "plt.legend(('MM', 'RECCES'))"
   ]
  },
  {
   "cell_type": "code",
   "execution_count": null,
   "metadata": {},
   "outputs": [],
   "source": [
    "print scorefxn(minimum) / 0.1"
   ]
  },
  {
   "cell_type": "code",
   "execution_count": null,
   "metadata": {},
   "outputs": [],
   "source": [
    "np.set_printoptions(threshold='nan')"
   ]
  },
  {
   "cell_type": "code",
   "execution_count": null,
   "metadata": {},
   "outputs": [],
   "source": [
    "print h"
   ]
  },
  {
   "cell_type": "code",
   "execution_count": null,
   "metadata": {},
   "outputs": [],
   "source": [
    "print g"
   ]
  },
  {
   "cell_type": "code",
   "execution_count": null,
   "metadata": {},
   "outputs": [],
   "source": [
    "print g"
   ]
  },
  {
   "cell_type": "code",
   "execution_count": null,
   "metadata": {},
   "outputs": [],
   "source": [
    "plt.plot(t[:600]+rna_hires(minimum), 0.15*A[:600]*torsion_volume(seq1, seq2)*np.exp(-t[:600]/1.0)*(np.pi/6)**len(w)*2e14)\n",
    "plt.plot(r[:-1], g[:-1]*np.exp(-r[:-1])/2e21)"
   ]
  },
  {
   "cell_type": "code",
   "execution_count": null,
   "metadata": {},
   "outputs": [],
   "source": [
    "print H"
   ]
  },
  {
   "cell_type": "code",
   "execution_count": null,
   "metadata": {},
   "outputs": [],
   "source": [
    "g1 = g"
   ]
  },
  {
   "cell_type": "code",
   "execution_count": null,
   "metadata": {},
   "outputs": [],
   "source": [
    "g2 = g\n",
    "fuck = np.convolve(g1, g2)\n",
    "print fuck"
   ]
  },
  {
   "cell_type": "code",
   "execution_count": null,
   "metadata": {},
   "outputs": [],
   "source": [
    "hist.value"
   ]
  },
  {
   "cell_type": "code",
   "execution_count": null,
   "metadata": {},
   "outputs": [],
   "source": [
    "1/np.sqrt(scipy.linalg.det(hessian))"
   ]
  },
  {
   "cell_type": "code",
   "execution_count": null,
   "metadata": {},
   "outputs": [],
   "source": [
    "sim = SingleSimulation('./../recces_rosetta/results/ggg_ccc/ST/', curr_wt)"
   ]
  },
  {
   "cell_type": "code",
   "execution_count": null,
   "metadata": {},
   "outputs": [],
   "source": [
    "print sim.entropy"
   ]
  },
  {
   "cell_type": "code",
   "execution_count": null,
   "metadata": {},
   "outputs": [],
   "source": [
    "print -scipy.special.logsumexp(-(hist._dos_scores + hist.value), b=hist._dos*hist._dos_scores)"
   ]
  },
  {
   "cell_type": "code",
   "execution_count": null,
   "metadata": {},
   "outputs": [],
   "source": [
    "print hist.value"
   ]
  },
  {
   "cell_type": "code",
   "execution_count": null,
   "metadata": {},
   "outputs": [],
   "source": [
    "print hist._avg_energy"
   ]
  },
  {
   "cell_type": "code",
   "execution_count": null,
   "metadata": {},
   "outputs": [],
   "source": [
    "\n",
    "print sim.value - sim._avg_energy\n"
   ]
  },
  {
   "cell_type": "code",
   "execution_count": null,
   "metadata": {},
   "outputs": [],
   "source": [
    "clear sim"
   ]
  },
  {
   "cell_type": "code",
   "execution_count": null,
   "metadata": {},
   "outputs": [],
   "source": [
    "hist = SingleHistSimulation('./../recces_rosetta/results/gg_cc/ST')"
   ]
  },
  {
   "cell_type": "code",
   "execution_count": null,
   "metadata": {},
   "outputs": [],
   "source": [
    "plt.plot(hist._dos_scores[:-1], hist._dos[:-1]*np.exp(-hist._dos_scores[:-1]))"
   ]
  },
  {
   "cell_type": "code",
   "execution_count": null,
   "metadata": {},
   "outputs": [],
   "source": [
    "recces_options = protocols.recces.options.RECCES_Options()\n"
   ]
  },
  {
   "cell_type": "code",
   "execution_count": null,
   "metadata": {},
   "outputs": [],
   "source": [
    "recces_options.set_seq1('gg')\n",
    "recces_options.set_seq2('cc')"
   ]
  },
  {
   "cell_type": "code",
   "execution_count": null,
   "metadata": {},
   "outputs": [],
   "source": [
    "pose = protocols.recces.recces_pose_setup(recces_options)"
   ]
  },
  {
   "cell_type": "code",
   "execution_count": null,
   "metadata": {},
   "outputs": [],
   "source": [
    "print (1/3.)**len(w)"
   ]
  },
  {
   "cell_type": "code",
   "execution_count": null,
   "metadata": {},
   "outputs": [],
   "source": [
    "print E[260]"
   ]
  },
  {
   "cell_type": "code",
   "execution_count": null,
   "metadata": {},
   "outputs": [],
   "source": [
    "fuck = protocols.recces.pose_setup_turner('gg','cc')\n",
    "pmm = PyMOLMover()\n",
    "pmm.apply(fuck)"
   ]
  },
  {
   "cell_type": "code",
   "execution_count": null,
   "metadata": {},
   "outputs": [],
   "source": [
    "print pose.residue(1)"
   ]
  },
  {
   "cell_type": "code",
   "execution_count": null,
   "metadata": {},
   "outputs": [],
   "source": [
    "print pose.secstruct()\n",
    "pose = protocols.recces.pose_setup_turner('gg', '')\n",
    "print pose.secstruct()"
   ]
  },
  {
   "cell_type": "code",
   "execution_count": null,
   "metadata": {},
   "outputs": [],
   "source": []
  }
 ],
 "metadata": {
  "kernelspec": {
   "display_name": "Python 2",
   "language": "python",
   "name": "python2"
  },
  "language_info": {
   "codemirror_mode": {
    "name": "ipython",
    "version": 2
   },
   "file_extension": ".py",
   "mimetype": "text/x-python",
   "name": "python",
   "nbconvert_exporter": "python",
   "pygments_lexer": "ipython2",
   "version": "2.7.12"
  }
 },
 "nbformat": 4,
 "nbformat_minor": 2
}
