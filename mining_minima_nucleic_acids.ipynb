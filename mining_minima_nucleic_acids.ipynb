{
 "cells": [
  {
   "cell_type": "code",
   "execution_count": 27,
   "metadata": {},
   "outputs": [
    {
     "name": "stdout",
     "output_type": "stream",
     "text": [
      "Found rosetta database at: /usr/local/lib/python2.7/dist-packages/pyrosetta-2018.11+release.7c7790f-py2.7-linux-x86_64.egg/pyrosetta/database; using it....\n",
      "PyRosetta-4 2017 [Rosetta PyRosetta4.Release.python27.ubuntu 2018.11+release.7c7790f7c7790fbb898f8210b54513b9f9c8a927c3e8d7f 2018-03-14T13:19:04] retrieved from: http://www.pyrosetta.org\n",
      "(C) Copyright Rosetta Commons Member Institutions.\n",
      "Created in JHU by Sergey Lyskov and PyRosetta Team.\n",
      "\n",
      "\u001b[0mcore.init: \u001b[0mChecking for fconfig files in pwd and ./rosetta/flags\n",
      "\n",
      "\u001b[0mcore.init: \u001b[0mRosetta version: PyRosetta4.Release.python27.ubuntu r173 2018.11+release.7c7790f 7c7790fbb898f8210b54513b9f9c8a927c3e8d7f http://www.pyrosetta.org 2018-03-14T13:19:04\n",
      "\u001b[0mcore.init: \u001b[0mcommand: PyRosetta -ex1 -ex2aro -database /usr/local/lib/python2.7/dist-packages/pyrosetta-2018.11+release.7c7790f-py2.7-linux-x86_64.egg/pyrosetta/database\n",
      "\u001b[0mcore.init: \u001b[0m'RNG device' seed mode, using '/dev/urandom', seed=-128573177 seed_offset=0 real_seed=-128573177\n",
      "\u001b[0mcore.init.random: \u001b[0mRandomGenerator:init: Normal mode, seed=-128573177 RG_type=mt19937\n"
     ]
    }
   ],
   "source": [
    "from pyrosetta import *\n",
    "from pyrosetta.rosetta import *\n",
    "init()"
   ]
  },
  {
   "cell_type": "code",
   "execution_count": 28,
   "metadata": {},
   "outputs": [],
   "source": [
    "import math\n",
    "import random\n",
    "import numpy as np\n",
    "import scipy\n",
    "import matplotlib\n",
    "import matplotlib.pyplot as plt\n",
    "from pyrosetta.rosetta.protocols.moves import *\n",
    "from pyrosetta.rosetta.core.id import *"
   ]
  },
  {
   "cell_type": "code",
   "execution_count": 29,
   "metadata": {},
   "outputs": [],
   "source": [
    "def within_360(ang):\n",
    "    \n",
    "    return ang - 360.0*int(ang/360.0)"
   ]
  },
  {
   "cell_type": "code",
   "execution_count": 30,
   "metadata": {},
   "outputs": [],
   "source": [
    "def hessian(x, h):\n",
    "        \n",
    "    x_grad = np.gradient(x, h)\n",
    "    hessian = np.empty((x.ndim, x.ndim) + x.shape, dtype = x.dtype)\n",
    "    \n",
    "    for k, grad_k in enumerate(x_grad):\n",
    "        tmp_grad = np.gradient(grad_k, h)\n",
    "        for l, grad_kl in enumerate(tmp_grad):\n",
    "            hessian[k, l, :, :] = grad_kl\n",
    "            \n",
    "    return hessian"
   ]
  },
  {
   "cell_type": "code",
   "execution_count": 70,
   "metadata": {},
   "outputs": [],
   "source": [
    "def initialize_pose(seq1, seq2):\n",
    "    \n",
    "    n_residues = len(seq1) + len(seq2)\n",
    "    \n",
    "    dof_dict = {}\n",
    "    \n",
    "    pose = pyrosetta.rosetta.protocols.recces.pose_setup_turner(seq1, seq2)\n",
    "    movemap = MoveMap()\n",
    "    \n",
    "    for ii in range(n_residues-1):\n",
    "    \n",
    "        dof_dict.update({6*ii:TorsionID(ii+2, BB, 1), 6*ii+1:TorsionID(ii+2, BB, 2), 6*ii+2:TorsionID(ii+2, BB, 3),\n",
    "                 6*ii+3:TorsionID(ii+1, BB, 5), 6*ii+4:TorsionID(ii+1, BB, 6)})\n",
    "        \n",
    "        movemap.set(TorsionID(ii+2, BB, 1), True)\n",
    "        movemap.set(TorsionID(ii+2, BB, 2), True)\n",
    "        movemap.set(TorsionID(ii+2, BB, 3), True)\n",
    "        movemap.set(TorsionID(ii+1, BB, 5), True)\n",
    "        movemap.set(TorsionID(ii+1, BB, 6), True)\n",
    "        \n",
    "    for ii in range(n_residues):\n",
    "        \n",
    "        dof_dict.update({6*ii+5:TorsionID(ii+1, CHI, 1)})\n",
    "        movemap.set(TorsionID(ii+1, CHI, 1), True)\n",
    "    \n",
    "    return pose, movemap, dof_dict"
   ]
  },
  {
   "cell_type": "code",
   "execution_count": 74,
   "metadata": {},
   "outputs": [],
   "source": [
    "def find_minimum(pose, sf, movemap):\n",
    "    \n",
    "    \n",
    "    minimum = Pose()\n",
    "    minimum.assign(pose)\n",
    "    #observer = AddPyMOLObserver(minimum, True)\n",
    "    sf(minimum)\n",
    "    n_residues = pose.total_residue()\n",
    "    \n",
    "    movemap = MoveMap()\n",
    "    for ii in range(n_residues-1):\n",
    "        \n",
    "        minimum.set_alpha(  ii+2, random.uniform(0, 360))\n",
    "        minimum.set_beta(   ii+2, random.uniform(0, 360))\n",
    "        minimum.set_gamma(  ii+2, random.uniform(0, 360))\n",
    "        minimum.set_epsilon(ii+1, random.uniform(0, 360))\n",
    "        minimum.set_zeta(   ii+1, random.uniform(0, 360))\n",
    "             \n",
    "    for ii in range(n_residues):\n",
    "        \n",
    "        pose.set_chi(ii+1, random.uniform(0, 360))\n",
    "    '''\n",
    "    minmap = rosetta.core.optimization.MinimizerMap()\n",
    "    minmap.setup(pose, movemap)\n",
    "    sf.setup_for_minimizing(pose, minmap)\n",
    "    multifunc = rosetta.core.optimization.AtomTreeMultifunc(pose, minmap, sf)\n",
    "    num_dofs = minmap.nangles()\n",
    "    print num_dofs\n",
    "    '''\n",
    "    minmover = rosetta.protocols.minimization_packing.MinMover(movemap, sf, 'dfpmin', 1e-5, True)\n",
    "    \n",
    "    minmover.apply(minimum)\n",
    "    \n",
    "    return minimum   "
   ]
  },
  {
   "cell_type": "code",
   "execution_count": 78,
   "metadata": {},
   "outputs": [],
   "source": [
    "pose = initialize_pose('aa', '')\n",
    "scorefxn = core.scoring.ScoreFunctionFactory.create_score_function('rna/denovo/rna_hires')"
   ]
  },
  {
   "cell_type": "code",
   "execution_count": 77,
   "metadata": {},
   "outputs": [],
   "source": [
    "pmm = PyMOLMover()\n",
    "pmm.apply(pose)"
   ]
  },
  {
   "cell_type": "code",
   "execution_count": 24,
   "metadata": {},
   "outputs": [
    {
     "ename": "SyntaxError",
     "evalue": "invalid syntax (<ipython-input-24-4be99ef78eed>, line 23)",
     "output_type": "error",
     "traceback": [
      "\u001b[0;36m  File \u001b[0;32m\"<ipython-input-24-4be99ef78eed>\"\u001b[0;36m, line \u001b[0;32m23\u001b[0m\n\u001b[0;31m    for pair in lsit()\u001b[0m\n\u001b[0m                      ^\u001b[0m\n\u001b[0;31mSyntaxError\u001b[0m\u001b[0;31m:\u001b[0m invalid syntax\n"
     ]
    }
   ],
   "source": [
    "import itertools\n",
    "\n",
    "trial = Pose()\n",
    "trial.assign(pose)\n",
    "\n",
    "h = 0.5\n",
    "h_rad = h*np.pi/180\n",
    "\n",
    "dofs = []\n",
    "dofs.append(pose.alpha(2))\n",
    "dofs.append(pose.beta(2))\n",
    "dofs.append(pose.gamma(2))\n",
    "dofs.append(pose.epsilon(1))\n",
    "dofs.append(pose.zeta(1))\n",
    "dofs.append(pose.chi(1))\n",
    "dofs.append(pose.chi(2))\n",
    "\n",
    "tor_ranges = np.zeros((int(4/h + 1), len(dofs)))\n",
    "print tor_ranges.shape\n",
    "print np.arange(-2, 2+h, h) \n",
    "\n",
    "for ii, dof in enumerate(dofs):\n",
    "    \n",
    "    tor_ranges[:, ii] = dof + np.arange(-2, 2+h, h)\n",
    "    \n",
    "for pair in list(itertools.combinations(range(len(dofs)), 2)):\n",
    "    \n",
    "    x = tor_ranges[pair[0],:]\n",
    "    y = tor_ranges[pair[1],:]\n",
    "    \n",
    "    for ii, xx in x:\n",
    "        \n",
    "        pose.set\n",
    "        for jj, yy in y:\n",
    "            \n",
    "            pose.\n",
    "            energy[ii, jj] = scorefxn\n",
    "    \n",
    "    \n",
    "               \n",
    "                      \n",
    "    \n",
    "    "
   ]
  },
  {
   "cell_type": "code",
   "execution_count": 23,
   "metadata": {},
   "outputs": [
    {
     "name": "stdout",
     "output_type": "stream",
     "text": [
      "[[  -4.39436853  178.73155028  321.92391229   53.32846747  244.47231346\n",
      "    74.79481502   92.35013594]\n",
      " [  -3.89436853  179.23155028  322.42391229   53.82846747  244.97231346\n",
      "    75.29481502   92.85013594]\n",
      " [  -3.39436853  179.73155028  322.92391229   54.32846747  245.47231346\n",
      "    75.79481502   93.35013594]\n",
      " [  -2.89436853  180.23155028  323.42391229   54.82846747  245.97231346\n",
      "    76.29481502   93.85013594]\n",
      " [  -2.39436853  180.73155028  323.92391229   55.32846747  246.47231346\n",
      "    76.79481502   94.35013594]\n",
      " [  -1.89436853  181.23155028  324.42391229   55.82846747  246.97231346\n",
      "    77.29481502   94.85013594]\n",
      " [  -1.39436853  181.73155028  324.92391229   56.32846747  247.47231346\n",
      "    77.79481502   95.35013594]\n",
      " [  -0.89436853  182.23155028  325.42391229   56.82846747  247.97231346\n",
      "    78.29481502   95.85013594]\n",
      " [  -0.39436853  182.73155028  325.92391229   57.32846747  248.47231346\n",
      "    78.79481502   96.35013594]]\n"
     ]
    }
   ],
   "source": [
    "print tor_ranges"
   ]
  },
  {
   "cell_type": "code",
   "execution_count": null,
   "metadata": {},
   "outputs": [],
   "source": []
  }
 ],
 "metadata": {
  "kernelspec": {
   "display_name": "Python 2",
   "language": "python",
   "name": "python2"
  },
  "language_info": {
   "codemirror_mode": {
    "name": "ipython",
    "version": 2
   },
   "file_extension": ".py",
   "mimetype": "text/x-python",
   "name": "python",
   "nbconvert_exporter": "python",
   "pygments_lexer": "ipython2",
   "version": "2.7.12"
  }
 },
 "nbformat": 4,
 "nbformat_minor": 2
}
