{
 "cells": [
  {
   "cell_type": "code",
   "execution_count": 113,
   "metadata": {
    "scrolled": false
   },
   "outputs": [
    {
     "name": "stdout",
     "output_type": "stream",
     "text": [
      "Found rosetta database at: /usr/local/lib/python2.7/dist-packages/pyrosetta-2018.11+release.7c7790f-py2.7-linux-x86_64.egg/pyrosetta/database; using it....\n",
      "PyRosetta-4 2017 [Rosetta PyRosetta4.Release.python27.ubuntu 2018.11+release.7c7790f7c7790fbb898f8210b54513b9f9c8a927c3e8d7f 2018-03-14T13:19:04] retrieved from: http://www.pyrosetta.org\n",
      "(C) Copyright Rosetta Commons Member Institutions.\n",
      "Created in JHU by Sergey Lyskov and PyRosetta Team.\n",
      "\n",
      "\n",
      "\n",
      "\n",
      "\n",
      "\n",
      "\n"
     ]
    }
   ],
   "source": [
    "from pyrosetta import *\n",
    "from pyrosetta.rosetta import *\n",
    "#init('-corrections::restore_talaris_behavior')\n",
    "init()\n",
    "pmm = PyMOLMover()"
   ]
  },
  {
   "cell_type": "code",
   "execution_count": 2,
   "metadata": {},
   "outputs": [
    {
     "name": "stderr",
     "output_type": "stream",
     "text": [
      "/home/maa/.local/lib/python2.7/site-packages/ipykernel_launcher.py:11: UserWarning: Import of 'rosetta' as a top-level module is deprecated and may be removed in 2018, import via 'pyrosetta.rosetta'.\n",
      "  # This is added back by InteractiveShellApp.init_path()\n"
     ]
    }
   ],
   "source": [
    "import math\n",
    "import random\n",
    "import numpy as np\n",
    "import scipy\n",
    "import matplotlib\n",
    "import matplotlib.pyplot as plt\n",
    "from pyrosetta.rosetta.protocols.moves import *\n",
    "from pyrosetta.rosetta.core.id import *\n",
    "from recces.data import *\n",
    "from recces.util import *\n",
    "from rosetta.protocols.rna import *"
   ]
  },
  {
   "cell_type": "code",
   "execution_count": 3,
   "metadata": {},
   "outputs": [],
   "source": [
    "def numpy_hessian(x, h):\n",
    "        \n",
    "    x_grad = np.gradient(x, h)\n",
    "    hessian = np.empty((x.ndim, x.ndim) + x.shape, dtype = x.dtype)\n",
    "    \n",
    "    for k, grad_k in enumerate(x_grad):\n",
    "        tmp_grad = np.gradient(grad_k, h)\n",
    "        for l, grad_kl in enumerate(tmp_grad):\n",
    "            hessian[k, l, :, :] = grad_kl\n",
    "            \n",
    "    return hessian"
   ]
  },
  {
   "cell_type": "code",
   "execution_count": 4,
   "metadata": {},
   "outputs": [],
   "source": [
    "def initialize_pose(seq1, seq2):\n",
    "    \n",
    "    n_residues = len(seq1) + len(seq2)\n",
    "    \n",
    "    dof_dict = {}\n",
    "    \n",
    "    pose = pyrosetta.rosetta.protocols.recces.pose_setup_turner(seq1, seq2)\n",
    "    movemap = MoveMap()\n",
    "    \n",
    "    for ii in range(n_residues-1):\n",
    "    \n",
    "        if seq2 and ii == (n_residues/2) - 1: continue\n",
    "            \n",
    "        dof_dict.update({6*ii:TorsionID(ii+2, BB, 1), 6*ii+1:TorsionID(ii+2, BB, 2), 6*ii+2:TorsionID(ii+2, BB, 3),\n",
    "                 6*ii+3:TorsionID(ii+1, BB, 5), 6*ii+4:TorsionID(ii+1, BB, 6)})\n",
    "\n",
    "        movemap.set(TorsionID(ii+2, BB, 1), True)\n",
    "        movemap.set(TorsionID(ii+2, BB, 2), True)\n",
    "        movemap.set(TorsionID(ii+2, BB, 3), True)\n",
    "        movemap.set(TorsionID(ii+1, BB, 5), True)\n",
    "        movemap.set(TorsionID(ii+1, BB, 6), True)\n",
    "        \n",
    "    for ii in range(n_residues-1):\n",
    "        \n",
    "        dof_dict.update({6*ii+5:TorsionID(ii+1, CHI, 1)})\n",
    "        movemap.set(TorsionID(ii+1, CHI, 1), True)\n",
    "        \n",
    "    dof_dict.update({6*(n_residues-1):TorsionID(n_residues, CHI, 1)})\n",
    "    movemap.set(TorsionID(n_residues, CHI, 1), True)\n",
    "    \n",
    "        \n",
    "        \n",
    "        \n",
    "    return pose, movemap, dof_dict"
   ]
  },
  {
   "cell_type": "code",
   "execution_count": 5,
   "metadata": {},
   "outputs": [],
   "source": [
    "def find_minimum(pose, sf, movemap):\n",
    "    \n",
    "    \n",
    "    minimum = Pose()\n",
    "    minimum.assign(pose)\n",
    "    \n",
    "    n_residues = pose.total_residue()\n",
    "    \n",
    "    movemap = MoveMap()\n",
    "    for ii in range(n_residues-1):\n",
    "        \n",
    "        minimum.set_alpha(  ii+2, random.uniform(0, 360))\n",
    "        minimum.set_beta(   ii+2, random.uniform(0, 360))\n",
    "        minimum.set_gamma(  ii+2, random.uniform(0, 360))\n",
    "        minimum.set_epsilon(ii+1, random.uniform(0, 360))\n",
    "        minimum.set_zeta(   ii+1, random.uniform(0, 360))\n",
    "             \n",
    "    for ii in range(n_residues):\n",
    "        \n",
    "        pose.set_chi(ii+1, random.uniform(0, 360))\n",
    "\n",
    "    \n",
    "    minmover = rosetta.protocols.minimization_packing.MinMover(movemap, sf, 'linmin_iterated', 1e-6, True)\n",
    "    minmover.max_iter(100000)\n",
    "    minmover.apply(minimum)\n",
    "    \n",
    "    return minimum   "
   ]
  },
  {
   "cell_type": "code",
   "execution_count": 6,
   "metadata": {},
   "outputs": [],
   "source": [
    "def helix_state(pose, dof_dict):\n",
    "    \n",
    "    n_residues = pose.total_residue()\n",
    "    \n",
    "    # Definition of helix state backbone torsions\n",
    "    for ii in range(n_residues - 1):\n",
    "        \n",
    "        if ii == n_residues/2 - 1: continue\n",
    "        \n",
    "        pose.set_torsion(dof_dict[6*ii], -64.11)\n",
    "        pose.set_torsion(dof_dict[6*ii+1], 176.33)\n",
    "        pose.set_torsion(dof_dict[6*ii+2], 53.08)\n",
    "        pose.set_torsion(dof_dict[6*ii+3], -150.17)\n",
    "        pose.set_torsion(dof_dict[6*ii+4], -71.45)   \n",
    "       \n",
    "    # Definition of helix state chi torsions\n",
    "    for ii in range(n_residues-1): pose.set_torsion(dof_dict[6*ii+5], 79.43)\n",
    "    \n",
    "    return pose"
   ]
  },
  {
   "cell_type": "code",
   "execution_count": 7,
   "metadata": {},
   "outputs": [],
   "source": [
    "def mode_scan(pose, dofs, dof_dict, scorefxn, mode, kT = 1.0, h = 0.5):\n",
    "    \n",
    "    temp = Pose()\n",
    "    temp.assign(pose)\n",
    "    \n",
    "    E_0 = scorefxn(pose)\n",
    "    E = E_0\n",
    "    inc = 0\n",
    "    result = 0.0\n",
    "    \n",
    "    max_inc = int(60/h)\n",
    "\n",
    "    while inc < max_inc:\n",
    "        \n",
    "        inc += 1\n",
    "        result += 0.5*np.exp(-(E-E_0)/kT)\n",
    "        dofs_new = dofs + (60.0)*inc/float(max_inc)*mode\n",
    "        \n",
    "        for key, val in enumerate(dofs_new):\n",
    "\n",
    "            if key > len(dofs)/2 -2: key += 5\n",
    "            temp.set_torsion(dof_dict[key], val)\n",
    "        \n",
    "        E = scorefxn(temp)\n",
    "        result += 0.5*np.exp(-(E-E_0)/kT)\n",
    "\n",
    "    # Reinitialize pose\n",
    "    temp.assign(pose)\n",
    "    inc = 0\n",
    "    E = E_0\n",
    "    \n",
    "    while inc < max_inc:\n",
    "        \n",
    "        inc += 1\n",
    "        \n",
    "        result += 0.5*np.exp(-(E-E_0)/kT)\n",
    "        dofs_new = dofs + 60.0*inc/float(max_inc)*mode\n",
    "        \n",
    "        for key, val in enumerate(dofs_new):\n",
    "            \n",
    "            if key > len(dofs)/2 - 2: key += 5 \n",
    "            temp.set_torsion(dof_dict[key], val)\n",
    "        E  = scorefxn(temp)\n",
    "        result += 0.5*np.exp(-(E-E_0)/kT)\n",
    "        \n",
    "    result *= h*np.pi/180.0\n",
    "    return result"
   ]
  },
  {
   "cell_type": "code",
   "execution_count": 8,
   "metadata": {
    "scrolled": true
   },
   "outputs": [
    {
     "name": "stdout",
     "output_type": "stream",
     "text": [
      "\u001b[0mcore.scoring.etable: \u001b[0mStarting energy table calculation\n",
      "\u001b[0mcore.scoring.etable: \u001b[0msmooth_etable: changing atr/rep split to bottom of energy well\n",
      "\u001b[0mcore.scoring.etable: \u001b[0msmooth_etable: spline smoothing lj etables (maxdis = 6)\n",
      "\u001b[0mcore.scoring.etable: \u001b[0msmooth_etable: spline smoothing solvation etables (max_dis = 6)\n",
      "\u001b[0mcore.scoring.etable: \u001b[0mFinished calculating energy tables.\n",
      "\u001b[0mbasic.io.database: \u001b[0mDatabase file opened: scoring/score_functions/hbonds/ref2015_params/HBPoly1D.csv\n",
      "\u001b[0mbasic.io.database: \u001b[0mDatabase file opened: scoring/score_functions/hbonds/ref2015_params/HBFadeIntervals.csv\n",
      "\u001b[0mbasic.io.database: \u001b[0mDatabase file opened: scoring/score_functions/hbonds/ref2015_params/HBEval.csv\n",
      "\u001b[0mbasic.io.database: \u001b[0mDatabase file opened: scoring/score_functions/hbonds/ref2015_params/DonStrength.csv\n",
      "\u001b[0mbasic.io.database: \u001b[0mDatabase file opened: scoring/score_functions/hbonds/ref2015_params/AccStrength.csv\n",
      "ScoreFunction::show():\n",
      "weights: (fa_atr 0.73) (fa_rep 0.1) (fa_intra_rep 0.0071) (lk_nonpolar 0.25) (fa_elec_rna_phos_phos 4.54) (rna_torsion 4.26) (stack_elec 1.54) (hbond_sc 2.46)\n",
      "energy_method_options: EnergyMethodOptions::show: aa_composition_setup_files: \n",
      "EnergyMethodOptions::show: netcharge_setup_files: \n",
      "EnergyMethodOptions::show: aspartimide_penalty_value: 25\n",
      "EnergyMethodOptions::show: etable_type: FA_STANDARD_DEFAULT\n",
      "analytic_etable_evaluation: 1\n",
      "EnergyMethodOptions::show: method_weights: free_res\n",
      "EnergyMethodOptions::show: unfolded_energies_type: UNFOLDED_SCORE12\n",
      "EnergyMethodOptions::show: split_unfolded_label_type: SPLIT_UNFOLDED_MM\n",
      "EnergyMethodOptions::show: split_unfolded_value_type: SPLIT_UNFOLDED_BOLTZ\n",
      "EnergyMethodOptions::show: atom_vdw_atom_type_set_name: centroid\n",
      "EnergyMethodOptions::show: exclude_protein_protein_fa_elec: false\n",
      "EnergyMethodOptions::show: exclude_RNA_RNA_fa_elec: false\n",
      "EnergyMethodOptions::show: exclude_monomer_fa_elec: false\n",
      "EnergyMethodOptions::show: elec_max_dis: 5.5\n",
      "EnergyMethodOptions::show: elec_min_dis: 1.6\n",
      "EnergyMethodOptions::show: elec_die: 10\n",
      "EnergyMethodOptions::show: elec_no_dis_dep_die: false\n",
      "EnergyMethodOptions::show: elec_sigmoidal_die: true\n",
      "EnergyMethodOptions::show: elec_sigmoidal_D: 80\n",
      "EnergyMethodOptions::show: elec_sigmoidal_D0: 6\n",
      "EnergyMethodOptions::show: elec_sigmoidal_S: 0.4\n",
      "EnergyMethodOptions::show: smooth_fa_elec: true\n",
      "EnergyMethodOptions::show: grpelec_fade_type: false\n",
      "EnergyMethodOptions::show: grpelec_fade_param1: 1\n",
      "EnergyMethodOptions::show: grpelec_fade_param2: 1\n",
      "EnergyMethodOptions::show: grpelec_fade_hbond: 0\n",
      "EnergyMethodOptions::show: grp_cpfxn: 1\n",
      "EnergyMethodOptions::show: elec_group_file: /scoring/score_functions/elec_group_def.dat\n",
      "EnergyMethodOptions::show: grpelec_context_dependent: 0\n",
      "EnergyMethodOptions::show: use_polarization: true\n",
      "EnergyMethodOptions::show: use_gen_kirkwood: true\n",
      "EnergyMethodOptions::show: protein_dielectric: 1\n",
      "EnergyMethodOptions::show: water_dielectric: 78.3\n",
      "EnergyMethodOptions::show: exclude_DNA_DNA: true\n",
      "EnergyMethodOptions::show: exclude_intra_res_protein: true\n",
      "EnergyMethodOptions::show: put_intra_into_total: false\n",
      "EnergyMethodOptions::show: geom_sol_interres_path_distance_cutoff: false\n",
      "EnergyMethodOptions::show: geom_sol_intrares_path_distance_cutoff: true\n",
      "EnergyMethodOptions::show: eval_intrares_elec_ST_only: false\n",
      "EnergyMethodOptions::show: envsmooth_zero_negatives: false\n",
      "EnergyMethodOptions::show: cst_max_seq_sep: 18446744073709551615\n",
      "EnergyMethodOptions::show: pb_bound_tag: bound\n",
      "EnergyMethodOptions::show: pb_unbound_tag: unbound\n",
      "EnergyMethodOptions::show: ordered_wat_penalty: 1.7\n",
      "EnergyMethodOptions::show: ordered_pt_wat_penalty: 2.15037\n",
      "EnergyMethodOptions::show: voids_penalty_energy_containing_cones_cutoff_:6\n",
      "EnergyMethodOptions::show: voids_penalty_energy_cone_distance_cutoff_: 8\n",
      "EnergyMethodOptions::show: voids_penalty_energy_cone_dotproduct_cutoff_: 0.1\n",
      "EnergyMethodOptions::show: voids_penalty_energy_voxel_grid_padding_: 1\n",
      "EnergyMethodOptions::show: voids_penalty_energy_voxel_size_: 0.5\n",
      "EnergyMethodOptions::show: voids_penalty_energy_disabled_except_during_packing_: TRUE\n",
      "EnergyMethodOptions::show: hbnet_bonus_ramping_function_: \"quadratic\"\n",
      "EnergyMethodOptions::show: hbnet_max_network_size_: 0\n",
      "EnergyMethodOptions::show: bond_angle_central_atoms_to_score:\n",
      "EnergyMethodOptions::show: bond_angle_residue_type_param_set: none\n",
      "HBondOptions::show: exclude_DNA_DNA: true\n",
      "HBondOptions::show: exclude_intra_res_protein_: true\n",
      "HBondOptions::show: exclude_intra_res_RNA_: false\n",
      "HBondOptions::show: put_intra_into_total_: false\n",
      "HBondOptions::show: exclude_self_hbonds: true\n",
      "HBondOptions::show: use_hb_env_dep: false\n",
      "HBondOptions::show: use_hb_env_dep_DNA: true\n",
      "HBondOptions::show: smooth_hb_env_dep: true\n",
      "HBondOptions::show: bb_donor_acceptor_check: true\n",
      "HBondOptions::show: decompose_bb_hb_into_pair_energies: false\n",
      "HBondOptions::show: params_database_tag_: ref2015_params\n",
      "HBondOptions::show: use_sp2_chi_penalty_: true\n",
      "HBondOptions::show: sp2_BAH180_rise_: 0.75\n",
      "HBondOptions::show: sp2_outer_width_: 0.357\n",
      "HBondOptions::show: measure_sp3acc_BAH_from_hvy_: true\n",
      "HBondOptions::show: fade_energy_: 1\n",
      "HBondOptions::show: exclude_ether_oxygens_: 0\n",
      "HBondOptions::show: Mbhbond: false \n",
      "HbondOptions::show: mphbond: false\n",
      "HBondOptions::show: hbond_energy_shift: 0\n",
      "HBondOptions::show: water_hybrid_sf: false\n",
      "RNA_EnergyMethodOptions::show: syn_G_potential_bonus: 0\n",
      "RNA_EnergyMethodOptions::show: torsion_potential: RNA11_based_new\n",
      "RNA_EnergyMethodOptions::show: suiteness_bonus: Richardson\n",
      "FreeDOF_Options::show: free_suite_bonus: -1\n",
      "FreeDOF_Options::show: free_2HOprime_bonus: -0.5\n",
      "FreeDOF_Options::show: free_sugar_bonus: -1\n",
      "FreeDOF_Options::show: pack_phosphate_penalty: 0.25\n",
      "FreeDOF_Options::show: free_side_chain_bonus: -0.5\n",
      "\n",
      "\n"
     ]
    }
   ],
   "source": [
    "scorefxn = core.scoring.ScoreFunctionFactory.create_score_function('stepwise/rna/turner')\n",
    "print scorefxn"
   ]
  },
  {
   "cell_type": "markdown",
   "metadata": {
    "scrolled": true
   },
   "source": [
    "rna_hires = protocols.rna.denovo.get_rna_hires_scorefxn()\n",
    "#rna_hires = core.scoring.ScoreFunctionFactory.create_score_function('rna/denovo/rna_hires_recces')\n",
    "#rna_hires.set_weight(core.scoring.geom_sol, 0)\n",
    "#rna_hires.set_weight(core.scoring.ch_bond, 0)\n",
    "#rna_hires.set_weight(core.scoring.rna_sugar_close, 0)\n",
    "rna_hires.set_weight(core.scoring.ch_bond, 0.)\n",
    "rna_hires.set_weight(core.scoring.rna_sugar_close, 0.)\n",
    "rna_hires.set_weight(core.scoring.hbond_lr_bb_sc, 0.)\n",
    "rna_hires.set_weight(core.scoring.hbond_sr_bb_sc, 0.)\n",
    "rna_hires.set_weight(core.scoring.hbond_sc, 0.)\n",
    "rna_hires.set_weight(core.scoring.geom_sol, 0.)\n",
    "rna_hires.set_weight(core.scoring.atom_pair_constraint, 0.)\n",
    "rna_hires.set_weight(core.scoring.fa_atr,0.73)\n",
    "rna_hires.set_weight(core.scoring.fa_rep, 0.10)\n",
    "rna_hires.set_weight(core.scoring.fa_intra_rep, 0.0071) \n",
    "rna_hires.set_weight(core.scoring.lk_nonpolar, 0.25) \n",
    "rna_hires.set_weight(core.scoring.fa_elec_rna_phos_phos, 4.54) \n",
    "rna_hires.set_weight(core.scoring.rna_torsion, 4.26) \n",
    "rna_hires.set_weight(core.scoring.stack_elec, 1.54) \n",
    "rna_hires.set_weight(core.scoring.hbond_sc, 2.46)\n",
    "#rna_hires.energy_method_options().rna_options().torsion_potential('RNA11_based_new')\n",
    "print rna_hires"
   ]
  },
  {
   "cell_type": "code",
   "execution_count": 62,
   "metadata": {},
   "outputs": [],
   "source": [
    "CURR_WT = [0.73, 0.1, 0.0071, 0, 4.26, 2.46, 0.25, 0, 1.54, 4.54]"
   ]
  },
  {
   "cell_type": "code",
   "execution_count": 134,
   "metadata": {
    "scrolled": true
   },
   "outputs": [
    {
     "name": "stdout",
     "output_type": "stream",
     "text": [
      "Inferring sequence from directory name:  gcc_ggc\n",
      "applying phase space volume for two strand with helix length  3  and dangle length  0\n",
      "-43.29995684235159\n"
     ]
    }
   ],
   "source": [
    "seq1 = 'gcc'\n",
    "seq2 = 'ggc'\n",
    "\n",
    "# Specify local path to where RECCES results are stored\n",
    "try: \n",
    "    hist = SingleHistSimulation('./../recces_rosetta/results/'+seq1+'_'+seq2+'/ST/')\n",
    "    print hist.value\n",
    "    \n",
    "except ValueError: pass\n",
    "except IndexError: pass\n",
    "\n",
    "n_residues = len(seq1) + len(seq2)\n",
    "\n",
    "pose, movemap, dof_dict = initialize_pose(seq1, seq2)\n",
    "pyrosetta.rosetta.protocols.rna.denovo.setup_coarse_chainbreak_constraints(pose, 2)\n",
    "#pose = pose_from_pdb('aaa_uuu_chainbreak.pdb')\n",
    "scorefxn = core.scoring.ScoreFunctionFactory.create_score_function('/stepwise/rna/turner')\n",
    "#scorefxn.set_weight(core.scoring.lk_nonpolar, 0)\n",
    "#scorefxn.set_weight(core.scoring.stack_elec, 0)"
   ]
  },
  {
   "cell_type": "code",
   "execution_count": 135,
   "metadata": {},
   "outputs": [],
   "source": [
    "minmover = rosetta.protocols.minimization_packing.MinMover(movemap, scorefxn, 'lbfgs_armijo_nonmonotone', 1.0e-7, True)\n",
    "minmover.max_iter(1000000)\n",
    "minmover.min_options().use_nblist(True)\n",
    "minmover.min_options().nblist_auto_update(True)"
   ]
  },
  {
   "cell_type": "code",
   "execution_count": 136,
   "metadata": {
    "scrolled": true
   },
   "outputs": [
    {
     "name": "stdout",
     "output_type": "stream",
     "text": [
      "\n",
      "None\n"
     ]
    }
   ],
   "source": [
    "\n",
    "import itertools\n",
    "\n",
    "minimum = Pose()\n",
    "\n",
    "pose.assign(helix_state(pose, dof_dict))\n",
    "minmover.apply(pose)\n",
    "minimum.assign(pose)\n",
    "print scorefxn.show(pose)\n",
    "h = 0.1\n",
    "h_rad = h*np.pi/180\n",
    "E_0 = scorefxn(pose)\n",
    "\n",
    "dofs = []\n",
    "\n",
    "for val in dof_dict.itervalues(): dofs.append(pose.torsion(val))\n",
    "dofs = np.array(dofs)\n",
    "\n",
    "hessian = np.zeros((len(dofs), len(dofs)))\n",
    "\n",
    "n_pts = int(1/h + 1)\n",
    "ind = int(n_pts/2)\n",
    "\n",
    "tor_ranges = np.zeros((n_pts, len(dofs)))\n",
    "energy = np.zeros((n_pts, n_pts))\n",
    "\n",
    "for ii, dof in enumerate(dofs):\n",
    "            \n",
    "    tor_ranges[:, ii] = dof + np.arange(-0.5, 0.5+h, h)\n",
    "    \n",
    "for pair in list(itertools.combinations(dof_dict.keys(), 2)):\n",
    "    \n",
    "    foo = pair[0]\n",
    "    bar = pair[1]\n",
    "    if foo > len(dofs)/2 - 2: foo -= 5\n",
    "    if bar > len(dofs)/2 - 2: bar -= 5\n",
    "    \n",
    "    x = tor_ranges[:, foo]\n",
    "    y = tor_ranges[:, bar]\n",
    "\n",
    "    for ii, xx in enumerate(x):\n",
    "            \n",
    "        pose.set_torsion(dof_dict[pair[0]], xx)\n",
    "        \n",
    "        for jj, yy in enumerate(y):\n",
    "            \n",
    "            pose.set_torsion(dof_dict[pair[1]], yy)\n",
    "            \n",
    "            energy[ii, jj] = scorefxn(pose)\n",
    "\n",
    "            pose.set_torsion(dof_dict[pair[1]], dofs[bar])\n",
    "            \n",
    "        pose.set_torsion(dof_dict[pair[0]], dofs[foo])\n",
    "        \n",
    "    hess = numpy_hessian(energy, h_rad)\n",
    "    \n",
    "    d2E_dx2 =  hess[0,0,:,:]\n",
    "    d2E_dy2 =  hess[1,1,:,:]\n",
    "    d2E_dxdy = hess[0,1,:,:]\n",
    "    \n",
    "    if hessian[foo, foo] == 0:\n",
    "        \n",
    "        hessian[foo, foo] = d2E_dx2[ind, ind]\n",
    "        \n",
    "    if hessian[bar, bar] == 0:\n",
    "        \n",
    "        hessian[bar, bar] = d2E_dy2[ind, ind]\n",
    "        \n",
    "    hessian[foo, bar] = d2E_dxdy[ind, ind]\n",
    "    hessian[bar, foo] = d2E_dxdy[ind, ind]\n",
    "    \n",
    "pose.assign(minimum)\n",
    "try: scorefxn.show(ST_min)\n",
    "except NameError: pass\n"
   ]
  },
  {
   "cell_type": "code",
   "execution_count": 137,
   "metadata": {},
   "outputs": [
    {
     "name": "stdout",
     "output_type": "stream",
     "text": [
      "[1.16933803e+01 1.28868870e+01 1.43359442e+01 1.48909274e+01\n",
      " 1.59602842e+01 2.11228173e+01 2.47070432e+01 2.76456973e+01\n",
      " 3.89107924e+01 5.10067823e+01 6.17237183e+01 6.45029840e+01\n",
      " 1.09075440e+02 1.30106084e+02 1.79741007e+02 2.39079118e+02\n",
      " 3.27803809e+02 3.77634348e+02 7.35416272e+02 9.22665850e+02\n",
      " 1.51694706e+03 1.74901056e+03 2.58295632e+03 5.58292679e+03\n",
      " 1.01773583e+04 1.42513668e+04]\n"
     ]
    }
   ],
   "source": [
    "import scipy\n",
    "import scipy.linalg\n",
    "\n",
    "w,v = scipy.linalg.eigh(hessian)\n",
    "print w"
   ]
  },
  {
   "cell_type": "code",
   "execution_count": 138,
   "metadata": {
    "scrolled": true
   },
   "outputs": [
    {
     "data": {
      "text/plain": [
       "<Figure size 432x288 with 0 Axes>"
      ]
     },
     "metadata": {},
     "output_type": "display_data"
    },
    {
     "data": {
      "image/png": "[encoded data removed]",
      "text/plain": [
       "<Figure size 432x288 with 1 Axes>"
      ]
     },
     "metadata": {},
     "output_type": "display_data"
    },
    {
     "data": {
      "image/png": "[encoded data removed]",
      "text/plain": [
       "<Figure size 432x288 with 1 Axes>"
      ]
     },
     "metadata": {},
     "output_type": "display_data"
    },
    {
     "data": {
      "image/png": "[encoded data removed]",
      "text/plain": [
       "<Figure size 432x288 with 1 Axes>"
      ]
     },
     "metadata": {},
     "output_type": "display_data"
    },
    {
     "data": {
      "image/png": "[encoded data removed]",
      "text/plain": [
       "<Figure size 432x288 with 1 Axes>"
      ]
     },
     "metadata": {},
     "output_type": "display_data"
    },
    {
     "data": {
      "image/png": "[encoded data removed]",
      "text/plain": [
       "<Figure size 432x288 with 1 Axes>"
      ]
     },
     "metadata": {},
     "output_type": "display_data"
    },
    {
     "data": {
      "image/png": "[encoded data removed]",
      "text/plain": [
       "<Figure size 432x288 with 1 Axes>"
      ]
     },
     "metadata": {},
     "output_type": "display_data"
    },
    {
     "data": {
      "image/png": "[encoded data removed]",
      "text/plain": [
       "<Figure size 432x288 with 1 Axes>"
      ]
     },
     "metadata": {},
     "output_type": "display_data"
    },
    {
     "data": {
      "image/png": "[encoded data removed]",
      "text/plain": [
       "<Figure size 432x288 with 1 Axes>"
      ]
     },
     "metadata": {},
     "output_type": "display_data"
    },
    {
     "data": {
      "image/png": "[encoded data removed]",
      "text/plain": [
       "<Figure size 432x288 with 1 Axes>"
      ]
     },
     "metadata": {},
     "output_type": "display_data"
    },
    {
     "data": {
      "image/png": "[encoded data removed]",
      "text/plain": [
       "<Figure size 432x288 with 1 Axes>"
      ]
     },
     "metadata": {},
     "output_type": "display_data"
    },
    {
     "data": {
      "image/png": "[encoded data removed]",
      "text/plain": [
       "<Figure size 432x288 with 1 Axes>"
      ]
     },
     "metadata": {},
     "output_type": "display_data"
    },
    {
     "data": {
      "image/png": "[encoded data removed]",
      "text/plain": [
       "<Figure size 432x288 with 1 Axes>"
      ]
     },
     "metadata": {},
     "output_type": "display_data"
    },
    {
     "data": {
      "image/png": "[encoded data removed]",
      "text/plain": [
       "<Figure size 432x288 with 1 Axes>"
      ]
     },
     "metadata": {},
     "output_type": "display_data"
    },
    {
     "data": {
      "image/png": "[encoded data removed]",
      "text/plain": [
       "<Figure size 432x288 with 1 Axes>"
      ]
     },
     "metadata": {},
     "output_type": "display_data"
    },
    {
     "data": {
      "image/png": "[encoded data removed]",
      "text/plain": [
       "<Figure size 432x288 with 1 Axes>"
      ]
     },
     "metadata": {},
     "output_type": "display_data"
    },
    {
     "data": {
      "image/png": "[encoded data removed]",
      "text/plain": [
       "<Figure size 432x288 with 1 Axes>"
      ]
     },
     "metadata": {},
     "output_type": "display_data"
    },
    {
     "data": {
      "image/png": "[encoded data removed]",
      "text/plain": [
       "<Figure size 432x288 with 1 Axes>"
      ]
     },
     "metadata": {},
     "output_type": "display_data"
    },
    {
     "data": {
      "image/png": "[encoded data removed]",
      "text/plain": [
       "<Figure size 432x288 with 1 Axes>"
      ]
     },
     "metadata": {},
     "output_type": "display_data"
    },
    {
     "data": {
      "image/png": "[encoded data removed]",
      "text/plain": [
       "<Figure size 432x288 with 1 Axes>"
      ]
     },
     "metadata": {},
     "output_type": "display_data"
    },
    {
     "data": {
      "image/png": "[encoded data removed]",
      "text/plain": [
       "<Figure size 432x288 with 1 Axes>"
      ]
     },
     "metadata": {},
     "output_type": "display_data"
    },
    {
     "data": {
      "image/png": "[encoded data removed]",
      "text/plain": [
       "<Figure size 432x288 with 1 Axes>"
      ]
     },
     "metadata": {},
     "output_type": "display_data"
    },
    {
     "data": {
      "image/png": "[encoded data removed]",
      "text/plain": [
       "<Figure size 432x288 with 1 Axes>"
      ]
     },
     "metadata": {},
     "output_type": "display_data"
    },
    {
     "data": {
      "image/png": "[encoded data removed]",
      "text/plain": [
       "<Figure size 432x288 with 1 Axes>"
      ]
     },
     "metadata": {},
     "output_type": "display_data"
    },
    {
     "data": {
      "image/png": "[encoded data removed]",
      "text/plain": [
       "<Figure size 432x288 with 1 Axes>"
      ]
     },
     "metadata": {},
     "output_type": "display_data"
    },
    {
     "data": {
      "image/png": "[encoded data removed]",
      "text/plain": [
       "<Figure size 432x288 with 1 Axes>"
      ]
     },
     "metadata": {},
     "output_type": "display_data"
    },
    {
     "data": {
      "image/png": "[encoded data removed]",
      "text/plain": [
       "<Figure size 432x288 with 1 Axes>"
      ]
     },
     "metadata": {},
     "output_type": "display_data"
    }
   ],
   "source": [
    "'''this code will assay the normal modes, plotting the corresponding boltzmann weights for both the harmonic approximation\n",
    "and scanned modes'''\n",
    "\n",
    "import scipy.integrate\n",
    "\n",
    "pose.assign(minimum)\n",
    "E_min = scorefxn(minimum)\n",
    "kT = 1.0\n",
    "fig = plt.figure()\n",
    "for kk, K in enumerate(w):\n",
    " \n",
    "    mode = v[:,kk]\n",
    "    h = np.arange(-60,61,1)\n",
    "    h_plot = h*np.pi/180\n",
    "\n",
    "    bar = []\n",
    "\n",
    "\n",
    "    for hh in h:\n",
    "\n",
    "        dofs_new = dofs+hh*mode\n",
    "\n",
    "        for jj, dof in enumerate(dofs_new):\n",
    "\n",
    "            if jj > len(dofs)/2 - 2: jj += 5\n",
    "            pose.set_torsion(dof_dict[jj], dof)\n",
    "\n",
    "        bar.append((scorefxn(pose)-E_0)/kT)\n",
    "\n",
    "    np.array(bar) \n",
    "    pose.assign(minimum)\n",
    "    #plt.subplot(10,5, kk+1)\n",
    "    plt.figure()\n",
    "    plt.plot(h, np.exp(-np.array(bar)))\n",
    "    plt.plot(h, np.exp(-0.5*K*h_plot**2/kT))\n",
    "    plt.xticks([])\n",
    "    plt.yticks([])\n",
    "    #plt.xlabel('Displacement along normal coordinate (degrees)')\n",
    "    #plt.ylabel('exp(-(E-E0)/kT)')\n"
   ]
  },
  {
   "cell_type": "code",
   "execution_count": 139,
   "metadata": {},
   "outputs": [
    {
     "name": "stdout",
     "output_type": "stream",
     "text": [
      "0.731047850117735 0.7247960238709866\n",
      "0.696372851555049 0.6443352153709258\n",
      "0.6602413069116283 0.6303094220785913\n",
      "0.6478209204613254 0.6206455098431187\n",
      "0.6257423252814991 0.6210671882131736\n",
      "0.5439261278391445 0.42314187374189777\n",
      "0.5029275821813531 0.47753356325977075\n",
      "0.4754469523892157 0.4461402697751264\n",
      "0.400756711934772 0.34436773710484875\n",
      "0.35002726812501045 0.36563662528746393\n",
      "0.31819239954758427 0.2907622843150624\n",
      "0.31126188188009396 0.3121949756929946\n",
      "0.23936042961705337 0.23363246098305152\n",
      "0.21916290059475507 0.2143594219274096\n",
      "0.1864628236866996 0.1894895887044517\n",
      "0.1616758001874508 0.1554330038486745\n",
      "0.13807302639127836 0.1371480099342527\n",
      "0.12864120448876376 0.12140635670457675\n",
      "0.09218265759184066 0.08488493406982073\n",
      "0.08229882194025431 0.08074124313578367\n",
      "0.06418456899139104 0.056699490805133486\n",
      "0.05977500574742058 0.05778285182054267\n",
      "0.04918779007231266 0.051512423688030384\n",
      "0.03345683662750797 0.03210987746000482\n",
      "0.024779829293628822 0.02447886803066414\n",
      "0.02094052583274881 0.021053715412125654\n"
     ]
    }
   ],
   "source": [
    "'''this code will calculate the configuration integral using both harmonic approximation and mode scanning'''\n",
    "\n",
    "from scipy.special import *\n",
    "pose.assign(minimum)\n",
    "V = 1\n",
    "kT = 1.0\n",
    "Z_harm = 1.00\n",
    "Z_scan = 1.00\n",
    "Z = 1.00\n",
    "for ii, K in enumerate(w):\n",
    "\n",
    "    # Mode scanning\n",
    "    Z_j = mode_scan(pose, dofs, dof_dict, scorefxn, v[:,ii], kT, h = 1)\n",
    "    \n",
    "    sig = min(6*np.sqrt(kT/K), 2*np.pi/3)\n",
    "    V*=sig\n",
    "    # Harmonic approximation\n",
    "    Z_i = np.sqrt(2.0*np.pi*kT/K)*erf(np.sqrt(2.0*K/kT)*sig/4.0)\n",
    "    \n",
    "    Z_harm *= Z_i\n",
    "    Z_scan *= Z_j\n",
    "    \n",
    "    if abs(np.log(Z_i/Z_j))<0.5: Z *= Z_i\n",
    "    else: Z*=Z_j\n",
    "    pose.assign(minimum)\n",
    "    \n",
    "    print Z_i, Z_j"
   ]
  },
  {
   "cell_type": "code",
   "execution_count": 140,
   "metadata": {
    "scrolled": true
   },
   "outputs": [
    {
     "name": "stdout",
     "output_type": "stream",
     "text": [
      "-42.64677373959433 -41.506574653066124 -42.71706336381676\n",
      "-72.854199335\n",
      "-26.862061780821932\n",
      "-26.32652615112027\n",
      "Inferring sequence from directory name:  gcc_ggc\n",
      "applying phase space volume for two strand with helix length  3  and dangle length  0\n",
      "-43.29995684235159\n",
      "-26.685763401941283 -26.862061780821932\n"
     ]
    }
   ],
   "source": [
    "print scorefxn(minimum) - np.log(Z_harm), scorefxn(minimum) - np.log(Z_scan), scorefxn(minimum) - 0.5*len(v)*np.log(2*np.pi) + 0.5*np.log(np.linalg.det(hessian))\n",
    "\n",
    "# Equipartition theorem average internal energy\n",
    "E_avg = scorefxn(minimum) + 0.5*len(v)\n",
    "print E_avg\n",
    "F = scorefxn(minimum) - np.log(Z_scan)\n",
    "print 0.6163*F - 0.6163*3*np.log(2)\n",
    "# Harmonic approximation free energy\n",
    "fuck = E_min - 0.5*len(w)*np.log(2*np.pi) + 0.5*np.log(np.linalg.det(hessian))\n",
    "print fuck*0.6163\n",
    "\n",
    "# Entropy from definition of free energy\n",
    "#print E_avg - F\n",
    "\n",
    "sim = SingleHistSimulation('./../recces_rosetta/results/'+seq1+'_'+seq2+'/ST/')\n",
    "\n",
    "#print sim.value, sim.avg_energy, sim.entropy\n",
    "print sim.value\n",
    "\n",
    "#print sim.entropy, -np.log(np.sum(matt_guess(E)))\n",
    "print 0.6163*sim.value, 0.6163*F - 0.6163*len(seq1)*np.log(2)"
   ]
  },
  {
   "cell_type": "code",
   "execution_count": 126,
   "metadata": {},
   "outputs": [],
   "source": [
    "pmm.apply(minimum)"
   ]
  },
  {
   "cell_type": "code",
   "execution_count": 19,
   "metadata": {},
   "outputs": [],
   "source": [
    "def partition_function(beta):\n",
    "    \n",
    "    Z = 1.0\n",
    "    \n",
    "    for K in w:\n",
    "        \n",
    "        sig = min(2*np.pi/3.0, 6*np.sqrt(1/kT))\n",
    "        Z *= np.sqrt(2.0*np.pi/K/beta)*erf(np.sqrt(2.0*K*beta)*sig/4.0)\n",
    "        \n",
    "    return Z"
   ]
  },
  {
   "cell_type": "code",
   "execution_count": 127,
   "metadata": {},
   "outputs": [],
   "source": [
    "'this code defines an implementation of the Stehfest method for numerically calculating the inverse laplace transform'\n",
    "import scipy.misc\n",
    "\n",
    "fact = scipy.misc.factorial\n",
    "\n",
    "def csteh(n, i):\n",
    "    acc = 0.0\n",
    "    for k in xrange(int(np.floor((i+1)/2.0)), int(min(i, n/2.0))+1):\n",
    "        num = k**(n/2.0) * fact(2 * k)\n",
    "        den = fact(i - k) * fact(k -1) * fact(k) * fact(2*k - i) * fact(n/2.0 - k)\n",
    "        acc += (num /den)\n",
    "    expo = i+n/2.0\n",
    "    term = np.power(-1+0.0j,expo)\n",
    "    res = term * acc\n",
    "    return res.real\n",
    "\n",
    "def nlinvsteh(t, F=partition_function, n = 18):\n",
    "    acc = 0.0\n",
    "    lton2 = np.log(2) / t\n",
    "    for i in xrange(1, n+1):\n",
    "        a = csteh(n, i)\n",
    "        b = F(i * lton2)\n",
    "        acc += (a * b)\n",
    "        \n",
    "    if lton2 * acc > 0.: return lton2 * acc\n",
    "    else: return 0."
   ]
  },
  {
   "cell_type": "code",
   "execution_count": 44,
   "metadata": {},
   "outputs": [
    {
     "name": "stderr",
     "output_type": "stream",
     "text": [
      "/home/maa/.local/lib/python2.7/site-packages/ipykernel_launcher.py:1: DeprecationWarning: object of type <type 'float'> cannot be safely interpreted as an integer.\n",
      "  \"\"\"Entry point for launching an IPython kernel.\n"
     ]
    },
    {
     "ename": "NameError",
     "evalue": "name 'nlinvsteh' is not defined",
     "output_type": "error",
     "traceback": [
      "\u001b[0;31m---------------------------------------------------------------------------\u001b[0m",
      "\u001b[0;31mNameError\u001b[0m                                 Traceback (most recent call last)",
      "\u001b[0;32m<ipython-input-44-05fa075547aa>\u001b[0m in \u001b[0;36m<module>\u001b[0;34m()\u001b[0m\n\u001b[1;32m      2\u001b[0m \u001b[0mt\u001b[0m \u001b[0;34m=\u001b[0m \u001b[0mnp\u001b[0m\u001b[0;34m.\u001b[0m\u001b[0mlinspace\u001b[0m\u001b[0;34m(\u001b[0m\u001b[0;36m0\u001b[0m\u001b[0;34m,\u001b[0m\u001b[0;36m800\u001b[0m\u001b[0;34m,\u001b[0m\u001b[0;36m8001\u001b[0m\u001b[0;34m)\u001b[0m\u001b[0;34m\u001b[0m\u001b[0m\n\u001b[1;32m      3\u001b[0m \u001b[0mA\u001b[0m \u001b[0;34m=\u001b[0m \u001b[0;34m[\u001b[0m\u001b[0;34m]\u001b[0m\u001b[0;34m\u001b[0m\u001b[0m\n\u001b[0;32m----> 4\u001b[0;31m \u001b[0;32mfor\u001b[0m \u001b[0mtt\u001b[0m \u001b[0;32min\u001b[0m \u001b[0mt\u001b[0m\u001b[0;34m:\u001b[0m \u001b[0mA\u001b[0m\u001b[0;34m.\u001b[0m\u001b[0mappend\u001b[0m\u001b[0;34m(\u001b[0m\u001b[0mnlinvsteh\u001b[0m\u001b[0;34m(\u001b[0m\u001b[0mtt\u001b[0m\u001b[0;34m)\u001b[0m\u001b[0;34m)\u001b[0m\u001b[0;34m\u001b[0m\u001b[0m\n\u001b[0m\u001b[1;32m      5\u001b[0m \u001b[0mt\u001b[0m \u001b[0;34m=\u001b[0m \u001b[0mnp\u001b[0m\u001b[0;34m.\u001b[0m\u001b[0marray\u001b[0m\u001b[0;34m(\u001b[0m\u001b[0mt\u001b[0m\u001b[0;34m)\u001b[0m\u001b[0;34m\u001b[0m\u001b[0m\n\u001b[1;32m      6\u001b[0m \u001b[0mA\u001b[0m \u001b[0;34m=\u001b[0m \u001b[0mnp\u001b[0m\u001b[0;34m.\u001b[0m\u001b[0marray\u001b[0m\u001b[0;34m(\u001b[0m\u001b[0mA\u001b[0m\u001b[0;34m)\u001b[0m\u001b[0;34m\u001b[0m\u001b[0m\n",
      "\u001b[0;31mNameError\u001b[0m: name 'nlinvsteh' is not defined"
     ]
    }
   ],
   "source": [
    "E = np.linspace(-100,800,0.1)\n",
    "t = np.linspace(0,800,8001)\n",
    "A = []\n",
    "for tt in t: A.append(nlinvsteh(tt))\n",
    "t = np.array(t)\n",
    "A = np.array(A)\n",
    "A[A<0.]=0.0\n",
    "E = np.linspace(-100,800,0.1)"
   ]
  },
  {
   "cell_type": "code",
   "execution_count": 45,
   "metadata": {
    "scrolled": false
   },
   "outputs": [
    {
     "name": "stdout",
     "output_type": "stream",
     "text": [
      "Inferring sequence from directory name:  gg_cc\n",
      "applying phase space volume for two strand with helix length  2  and dangle length  0\n",
      "applying phase space volume for two strand with helix length  2  and dangle length  0\n",
      "1.000000000000001\n"
     ]
    },
    {
     "ename": "NameError",
     "evalue": "name 'matt_guess' is not defined",
     "output_type": "error",
     "traceback": [
      "\u001b[0;31m---------------------------------------------------------------------------\u001b[0m",
      "\u001b[0;31mNameError\u001b[0m                                 Traceback (most recent call last)",
      "\u001b[0;32m<ipython-input-45-a11cfbed3537>\u001b[0m in \u001b[0;36m<module>\u001b[0;34m()\u001b[0m\n\u001b[1;32m      3\u001b[0m \u001b[0;32mprint\u001b[0m \u001b[0mnp\u001b[0m\u001b[0;34m.\u001b[0m\u001b[0msum\u001b[0m\u001b[0;34m(\u001b[0m\u001b[0mhist\u001b[0m\u001b[0;34m.\u001b[0m\u001b[0m_dos\u001b[0m\u001b[0;34m)\u001b[0m\u001b[0;34m/\u001b[0m\u001b[0mtorsion_volume\u001b[0m\u001b[0;34m(\u001b[0m\u001b[0mseq1\u001b[0m\u001b[0;34m,\u001b[0m \u001b[0mseq2\u001b[0m\u001b[0;34m)\u001b[0m\u001b[0;34m\u001b[0m\u001b[0m\n\u001b[1;32m      4\u001b[0m \u001b[0mplt\u001b[0m\u001b[0;34m.\u001b[0m\u001b[0mplot\u001b[0m\u001b[0;34m(\u001b[0m\u001b[0mhist\u001b[0m\u001b[0;34m.\u001b[0m\u001b[0m_dos_scores\u001b[0m\u001b[0;34m[\u001b[0m\u001b[0;36m201\u001b[0m\u001b[0;34m:\u001b[0m\u001b[0;36m800\u001b[0m\u001b[0;34m]\u001b[0m\u001b[0;34m,\u001b[0m \u001b[0mhist\u001b[0m\u001b[0;34m.\u001b[0m\u001b[0m_dos\u001b[0m\u001b[0;34m[\u001b[0m\u001b[0;36m201\u001b[0m\u001b[0;34m:\u001b[0m\u001b[0;36m800\u001b[0m\u001b[0;34m]\u001b[0m\u001b[0;34m*\u001b[0m\u001b[0mnp\u001b[0m\u001b[0;34m.\u001b[0m\u001b[0mexp\u001b[0m\u001b[0;34m(\u001b[0m\u001b[0;34m-\u001b[0m\u001b[0mhist\u001b[0m\u001b[0;34m.\u001b[0m\u001b[0m_dos_scores\u001b[0m\u001b[0;34m[\u001b[0m\u001b[0;36m201\u001b[0m\u001b[0;34m:\u001b[0m\u001b[0;36m800\u001b[0m\u001b[0;34m]\u001b[0m\u001b[0;34m/\u001b[0m\u001b[0;36m1.0\u001b[0m\u001b[0;34m)\u001b[0m\u001b[0;34m)\u001b[0m\u001b[0;34m\u001b[0m\u001b[0m\n\u001b[0;32m----> 5\u001b[0;31m \u001b[0mplt\u001b[0m\u001b[0;34m.\u001b[0m\u001b[0mplot\u001b[0m\u001b[0;34m(\u001b[0m\u001b[0mE\u001b[0m\u001b[0;34m[\u001b[0m\u001b[0;34m:\u001b[0m\u001b[0;36m2000\u001b[0m\u001b[0;34m]\u001b[0m\u001b[0;34m,\u001b[0m \u001b[0mmatt_guess\u001b[0m\u001b[0;34m(\u001b[0m\u001b[0mE\u001b[0m\u001b[0;34m[\u001b[0m\u001b[0;34m:\u001b[0m\u001b[0;36m2000\u001b[0m\u001b[0;34m]\u001b[0m\u001b[0;34m)\u001b[0m\u001b[0;34m*\u001b[0m\u001b[0mnp\u001b[0m\u001b[0;34m.\u001b[0m\u001b[0mexp\u001b[0m\u001b[0;34m(\u001b[0m\u001b[0;34m-\u001b[0m\u001b[0;34m(\u001b[0m\u001b[0mE\u001b[0m\u001b[0;34m[\u001b[0m\u001b[0;34m:\u001b[0m\u001b[0;36m2000\u001b[0m\u001b[0;34m]\u001b[0m\u001b[0;34m)\u001b[0m\u001b[0;34m/\u001b[0m\u001b[0;36m1.0\u001b[0m\u001b[0;34m)\u001b[0m\u001b[0;34m/\u001b[0m\u001b[0;36m100\u001b[0m\u001b[0;34m)\u001b[0m\u001b[0;34m\u001b[0m\u001b[0m\n\u001b[0m\u001b[1;32m      6\u001b[0m \u001b[0mplt\u001b[0m\u001b[0;34m.\u001b[0m\u001b[0mxlabel\u001b[0m\u001b[0;34m(\u001b[0m\u001b[0;34m'Energy (RU)'\u001b[0m\u001b[0;34m)\u001b[0m\u001b[0;34m\u001b[0m\u001b[0m\n\u001b[1;32m      7\u001b[0m \u001b[0mplt\u001b[0m\u001b[0;34m.\u001b[0m\u001b[0mylabel\u001b[0m\u001b[0;34m(\u001b[0m\u001b[0;34m'g(E)'\u001b[0m\u001b[0;34m)\u001b[0m\u001b[0;34m\u001b[0m\u001b[0m\n",
      "\u001b[0;31mNameError\u001b[0m: name 'matt_guess' is not defined"
     ]
    },
    {
     "data": {
      "image/png": "[encoded data removed]",
      "text/plain": [
       "<Figure size 432x288 with 1 Axes>"
      ]
     },
     "metadata": {},
     "output_type": "display_data"
    }
   ],
   "source": [
    "hist = SingleHistSimulation('./../recces_rosetta/results/'+seq1+'_'+seq2+'/ST/')\n",
    "#plt.plot(t[:1000]+rna_hires(minimum), A[:1000]*np.exp(-t[:1000]/1.0)*np.exp(-scorefxn(minimum)))\n",
    "print np.sum(hist._dos)/torsion_volume(seq1, seq2)\n",
    "plt.plot(hist._dos_scores[201:800], hist._dos[201:800]*np.exp(-hist._dos_scores[201:800]/1.0))\n",
    "plt.plot(E[:2000], matt_guess(E[:2000])*np.exp(-(E[:2000])/1.0)/100)\n",
    "plt.xlabel('Energy (RU)')\n",
    "plt.ylabel('g(E)')\n",
    "plt.legend(('Mining Minima', 'RECCES', 'Analytical'))"
   ]
  },
  {
   "cell_type": "code",
   "execution_count": null,
   "metadata": {},
   "outputs": [],
   "source": [
    "bar = scipy.special.logsumexp(-(t+rna_hires(minimum)), b = A)\n",
    "print bar\n",
    "print scipy.special.logsumexp(-hist._dos_scores, b = hist._dos)"
   ]
  },
  {
   "cell_type": "code",
   "execution_count": null,
   "metadata": {},
   "outputs": [],
   "source": [
    "plt.plot(t[:1000]+rna_hires(minimum),np.exp(-(t[:1000]+scorefxn(minimum))/1.0)*A[:1000])\n",
    "plt.plot(hist._dos_scores[260:1200],hist._dos[260:1200]*np.exp(-(hist._dos_scores[260:1200]/1.0)))"
   ]
  },
  {
   "cell_type": "code",
   "execution_count": null,
   "metadata": {},
   "outputs": [],
   "source": [
    "\n",
    "print t[100:] + scorefxn(minimum)"
   ]
  },
  {
   "cell_type": "code",
   "execution_count": null,
   "metadata": {},
   "outputs": [],
   "source": [
    "from recces.util import *\n",
    "from recces.data import *\n",
    "curr_wt = [0.73, 0.1, 0.0071, 0, 4.26, 2.46, 0.25, 0, 1.54, 4.54]"
   ]
  },
  {
   "cell_type": "code",
   "execution_count": 141,
   "metadata": {},
   "outputs": [],
   "source": [
    "E = np.linspace(-100,800,9001)"
   ]
  },
  {
   "cell_type": "code",
   "execution_count": 142,
   "metadata": {},
   "outputs": [
    {
     "name": "stdout",
     "output_type": "stream",
     "text": [
      "-72.854199335\n"
     ]
    }
   ],
   "source": [
    "E_min = scorefxn(minimum)\n",
    "print E_avg\n",
    "gamma = scipy.special.gamma"
   ]
  },
  {
   "cell_type": "code",
   "execution_count": 143,
   "metadata": {},
   "outputs": [],
   "source": [
    "matt_guess = lambda E: (2.0*np.pi)**(len(w)/2)*(E-E_min)**(len(w)/2 -1 )/gamma(len(w)/2)/np.sqrt(np.linalg.det(hessian))*np.heaviside(E-E_min, 0.5)#2*(2*np.pi)**((len(w)-1)/2)*(2*(E-E_min))**(len(w)/2-1)/scipy.misc.factorial2(len(w)-2)/np.sqrt(np.linalg.det(hessian))*np.heaviside(E-E_min,0.5)"
   ]
  },
  {
   "cell_type": "code",
   "execution_count": 144,
   "metadata": {
    "scrolled": false
   },
   "outputs": [
    {
     "data": {
      "text/plain": [
       "Text(0,0.5,'$g(E)e^{-E/kT}$')"
      ]
     },
     "execution_count": 144,
     "metadata": {},
     "output_type": "execute_result"
    },
    {
     "data": {
      "image/png": "[encoded data removed]",
      "text/plain": [
       "<Figure size 432x288 with 1 Axes>"
      ]
     },
     "metadata": {},
     "output_type": "display_data"
    }
   ],
   "source": [
    "#plt.plot(t[:1000]+rna_hires(minimum),np.exp(-(t[:1000])/1.0)*A[:1000]*1e12)# numerical \n",
    "fig = plt.figure()\n",
    "plt.plot(hist._dos_scores[:2000], hist._dos[:2000]*np.exp(-hist._dos_scores[:2000]/1.0)) # RECCES\n",
    "plt.plot(E[:2000], matt_guess(E[:2000])*np.exp(-((E[:2000])/1.00)))# harmonic#\n",
    "\n",
    "plt.legend(('RECCES','Harmonic Approximation'))\n",
    "plt.xlabel('Energy (RU)')\n",
    "plt.ylabel('$g(E)e^{-E/kT}$')\n"
   ]
  },
  {
   "cell_type": "code",
   "execution_count": 145,
   "metadata": {},
   "outputs": [
    {
     "name": "stdout",
     "output_type": "stream",
     "text": [
      "[-100.   -99.9  -99.8 ...  799.8  799.9  800. ]\n",
      "-26.685763401941283\n",
      "-27.745609343932497\n"
     ]
    },
    {
     "name": "stderr",
     "output_type": "stream",
     "text": [
      "/home/maa/.local/lib/python2.7/site-packages/ipykernel_launcher.py:4: DeprecationWarning: `logsumexp` is deprecated!\n",
      "Importing `logsumexp` from scipy.misc is deprecated in scipy 1.0.0. Use `scipy.special.logsumexp` instead.\n",
      "  after removing the cwd from sys.path.\n",
      "/home/maa/.local/lib/python2.7/site-packages/ipykernel_launcher.py:5: DeprecationWarning: `logsumexp` is deprecated!\n",
      "Importing `logsumexp` from scipy.misc is deprecated in scipy 1.0.0. Use `scipy.special.logsumexp` instead.\n",
      "  \"\"\"\n"
     ]
    }
   ],
   "source": [
    "print hist._dos_scores\n",
    "dos_scores = np.array(hist._dos_scores)\n",
    "dos = np.array(hist._dos)\n",
    "print -0.6163*scipy.misc.logsumexp(-dos_scores/1.0,b=dos)\n",
    "print -0.6163*scipy.misc.logsumexp(-E/1.0, b=matt_guess(E))"
   ]
  },
  {
   "cell_type": "code",
   "execution_count": 88,
   "metadata": {},
   "outputs": [
    {
     "data": {
      "text/plain": [
       "[<matplotlib.lines.Line2D at 0x7fb5234cd090>]"
      ]
     },
     "execution_count": 88,
     "metadata": {},
     "output_type": "execute_result"
    },
    {
     "data": {
      "image/png": "[encoded data removed]",
      "text/plain": [
       "<Figure size 432x288 with 1 Axes>"
      ]
     },
     "metadata": {},
     "output_type": "display_data"
    }
   ],
   "source": [
    "plt.plot(t[:1000]+E_avg, matt_guess(t[:1000])*np.exp(-(t[:1000])/1.0))"
   ]
  },
  {
   "cell_type": "code",
   "execution_count": null,
   "metadata": {},
   "outputs": [],
   "source": [
    "bar = -scipy.special.logsumexp(-(E), b=y)\n",
    "print bar\n",
    "print sim.value"
   ]
  },
  {
   "cell_type": "code",
   "execution_count": null,
   "metadata": {},
   "outputs": [],
   "source": [
    "plt.plot(t[:1000]+scorefxn(minimum), harmonic_dos(t[:1000]-E_avg)*np.exp(-(t[:1000]+scorefxn(minimum))))"
   ]
  },
  {
   "cell_type": "code",
   "execution_count": null,
   "metadata": {},
   "outputs": [],
   "source": [
    "print bar - np.log(torsion_volume(seq1, seq2))\n",
    "print hist.value - np.log(torsion_volume(seq1, seq2))"
   ]
  },
  {
   "cell_type": "code",
   "execution_count": null,
   "metadata": {},
   "outputs": [],
   "source": [
    "print pose.annotated_sequence()"
   ]
  },
  {
   "cell_type": "code",
   "execution_count": null,
   "metadata": {},
   "outputs": [],
   "source": [
    "pyrosetta.rosetta.protocols.rna.denovo.setup_coarse_chainbreak_constraints(pose, 2)"
   ]
  },
  {
   "cell_type": "code",
   "execution_count": null,
   "metadata": {},
   "outputs": [],
   "source": [
    "print pose.annotated_sequence()\n",
    "print minimum.fold_tree()"
   ]
  },
  {
   "cell_type": "code",
   "execution_count": null,
   "metadata": {},
   "outputs": [],
   "source": [
    "def wang_landau(K):\n",
    "    '''Computes the density of states using the Wang-Landau algorithm (see, e.g., )'''\n",
    "    \n",
    "    #E = lambda x: 0.5*np.dot(K, x**2)\n",
    "    \n",
    "    E = mm_energy(pose, )\n",
    "    dr = 0.005\n",
    "    f = np.exp(1)\n",
    "    r = np.arange(0,50,dr)\n",
    "    g = np.zeros_like(r)\n",
    "    H = np.zeros_like(r)\n",
    "    x_0 = 0.05*np.ones_like(K)\n",
    "    print E(x_0)\n",
    "    \n",
    "    while f > np.exp(1e-8):\n",
    "    \n",
    "        ii = 0\n",
    "        print f\n",
    "        while ii < 100000:\n",
    "\n",
    "            x = np.random.uniform(0, 0.08, (len(K)))\n",
    "            x_ind = int(E(x)/dr)\n",
    "            x_0_ind = int(E(x_0)/dr)\n",
    "            if x_ind > H.shape[0]-1: continue\n",
    "\n",
    "            if np.log(g[x_ind]) < np.log(g[x_0_ind]) or np.exp(np.log(g[x_ind])-np.log(g[x_0_ind])) < np.random.uniform():\n",
    "\n",
    "\n",
    "                H[x_ind] += 1\n",
    "                g[x_ind] += f\n",
    "                x_0 = x\n",
    "\n",
    "            else: \n",
    "\n",
    "                H[x_0_ind] += 1\n",
    "                g[x_0_ind] += f\n",
    "                \n",
    "            ii += 1\n",
    "\n",
    "        if H.any < 0.95*np.average(H): continue \n",
    "\n",
    "        f = f**0.5\n",
    "        H = np.zeros_like(r)\n",
    "\n",
    "    return g, r"
   ]
  },
  {
   "cell_type": "code",
   "execution_count": null,
   "metadata": {
    "scrolled": true
   },
   "outputs": [],
   "source": [
    "g, r = wang_landau(w)\n",
    "g = g/max(g)"
   ]
  },
  {
   "cell_type": "code",
   "execution_count": null,
   "metadata": {},
   "outputs": [],
   "source": [
    "plt.plot(r, np.exp(g)*np.exp(-r))\n",
    "print -np.log(scipy.special.logsumexp(-(r+scorefxn(minimum)), b=g)) - np.log(torsion_volume(seq1, seq2))"
   ]
  },
  {
   "cell_type": "code",
   "execution_count": null,
   "metadata": {
    "scrolled": true
   },
   "outputs": [],
   "source": [
    "plt.plot(r, np.exp(g))"
   ]
  },
  {
   "cell_type": "code",
   "execution_count": null,
   "metadata": {},
   "outputs": [],
   "source": [
    "def mm_energy(pose, delta, dof_dict, sf):\n",
    "    \n",
    "    temp = Pose()\n",
    "    temp.assign(pose)\n",
    "            \n",
    "    for key, val in enumerate(delta):\n",
    "\n",
    "        if key > len(delta)/2 -2: key += 5\n",
    "        temp.set_torsion(dof_dict[key], temp.torsion(dof_dict[key]) + val)\n",
    "        \n",
    "    return sf(temp)"
   ]
  },
  {
   "cell_type": "code",
   "execution_count": null,
   "metadata": {},
   "outputs": [],
   "source": [
    "norm = np.sum(hist._dos)"
   ]
  },
  {
   "cell_type": "code",
   "execution_count": null,
   "metadata": {},
   "outputs": [],
   "source": [
    "print np.log(norm*torsion_volume(seq1, seq2))"
   ]
  },
  {
   "cell_type": "code",
   "execution_count": null,
   "metadata": {},
   "outputs": [],
   "source": [
    "max(matt_guess(E[1000:2000])*np.exp(-E[1000:2000]))"
   ]
  },
  {
   "cell_type": "code",
   "execution_count": null,
   "metadata": {
    "scrolled": true
   },
   "outputs": [],
   "source": [
    "dr = 0.1\n",
    "r = np.arange(-100,800+dr,dr)\n",
    "g = np.zeros_like(r)\n",
    "H = np.zeros_like(r)\n",
    "\n",
    "f = np.exp(1)\n",
    "sig = 1/np.sqrt(w)\n",
    "\n",
    "delta_0 = np.zeros_like(w)\n",
    "E_min = scorefxn(minimum)\n",
    "E_0 = E_min\n",
    "\n",
    "while np.log(f) > 1e-8:\n",
    "\n",
    "    print f\n",
    "    ii = 0\n",
    "    H[:] = 0\n",
    "    \n",
    "    while ii < 10000:\n",
    "\n",
    "        y = np.random.randint(10,len(w))\n",
    "        delta = np.random.uniform(-180,180)*v[:,y]\n",
    "\n",
    "        #delta = np.random.uniform(-np.pi/3, np.pi/3, len(w))\n",
    "        #y = np.random.randint(0,len(w))\n",
    "        #delta = v[:,y]*np.random.uniform(-np.pi/3,np.pi/3)\n",
    "        \n",
    "        #E = E_min + 0.5*np.dot(w,delta**2)\n",
    "        E = mm_energy(minimum, delta, dof_dict, scorefxn)\n",
    "        #E = mm_energy(minimum, delta, dof_dict, scorefxn)\n",
    "\n",
    "    \n",
    "        ind = int((E+100)/dr)\n",
    "        ind_0 = int((E_0+100)/dr)\n",
    "\n",
    "        if ind > len(r) -1: ind = -1\n",
    "        if ind_0 > len(r) - 1: ind_0 = -1\n",
    "        #H[ind] += 1\n",
    "        #ii += 1\n",
    "        if np.random.uniform() < np.exp(g[ind_0]-g[ind]):\n",
    "            \n",
    "            g[ind] += np.log(f)\n",
    "            H[ind] += 1\n",
    "            delta_0 = delta\n",
    "            E_0 = E\n",
    "        \n",
    "            \n",
    "        else:\n",
    "\n",
    "            g[ind_0] += np.log(f)\n",
    "            H[ind_0] += 1\n",
    "            \n",
    "        ii += 1\n",
    "            \n",
    "    #if H.any() < 1: continue   \n",
    "    f = np.sqrt(f)\n",
    "\n",
    "\n"
   ]
  },
  {
   "cell_type": "code",
   "execution_count": null,
   "metadata": {},
   "outputs": [],
   "source": [
    "plt.plot(r[:2000], H[:2000]*np.exp(-r[:2000]))\n",
    "#print -scipy.special.logsumexp(-r, b=H/2e17) - np.log(torsion_volume(seq1, seq2))\n",
    "#plt.plot(t[:600]+E_min, 0.15*A[:600]*torsion_volume(seq1, seq2)*np.exp(-t[:600]/1.0)*(np.pi/6)**len(w)*2e14)\n",
    "plt.plot(hist._dos_scores[260:1400], hist._dos[260:1400]*np.exp(-hist._dos_scores[260:1400])/1e7)\n",
    "plt.xlabel('Energy (RU)')\n",
    "plt.ylabel('g(E)')\n",
    "plt.legend(('MM', 'RECCES'))"
   ]
  },
  {
   "cell_type": "code",
   "execution_count": null,
   "metadata": {},
   "outputs": [],
   "source": [
    "print scorefxn(minimum) / 0.1"
   ]
  },
  {
   "cell_type": "code",
   "execution_count": null,
   "metadata": {},
   "outputs": [],
   "source": [
    "np.set_printoptions(threshold='nan')"
   ]
  },
  {
   "cell_type": "code",
   "execution_count": null,
   "metadata": {},
   "outputs": [],
   "source": [
    "print h"
   ]
  },
  {
   "cell_type": "code",
   "execution_count": null,
   "metadata": {},
   "outputs": [],
   "source": [
    "print g"
   ]
  },
  {
   "cell_type": "code",
   "execution_count": null,
   "metadata": {},
   "outputs": [],
   "source": [
    "print g"
   ]
  },
  {
   "cell_type": "code",
   "execution_count": null,
   "metadata": {},
   "outputs": [],
   "source": [
    "plt.plot(t[:600]+rna_hires(minimum), 0.15*A[:600]*torsion_volume(seq1, seq2)*np.exp(-t[:600]/1.0)*(np.pi/6)**len(w)*2e14)\n",
    "plt.plot(r[:-1], g[:-1]*np.exp(-r[:-1])/2e21)"
   ]
  },
  {
   "cell_type": "code",
   "execution_count": null,
   "metadata": {},
   "outputs": [],
   "source": [
    "print H"
   ]
  },
  {
   "cell_type": "code",
   "execution_count": null,
   "metadata": {},
   "outputs": [],
   "source": [
    "g1 = g"
   ]
  },
  {
   "cell_type": "code",
   "execution_count": null,
   "metadata": {},
   "outputs": [],
   "source": [
    "g2 = g\n",
    "fuck = np.convolve(g1, g2)\n",
    "print fuck"
   ]
  },
  {
   "cell_type": "code",
   "execution_count": null,
   "metadata": {},
   "outputs": [],
   "source": [
    "hist.value"
   ]
  },
  {
   "cell_type": "code",
   "execution_count": null,
   "metadata": {},
   "outputs": [],
   "source": [
    "1/np.sqrt(scipy.linalg.det(hessian))"
   ]
  },
  {
   "cell_type": "code",
   "execution_count": null,
   "metadata": {},
   "outputs": [],
   "source": [
    "sim = SingleSimulation('./../recces_rosetta/results/ggg_ccc/ST/', curr_wt)"
   ]
  },
  {
   "cell_type": "code",
   "execution_count": null,
   "metadata": {},
   "outputs": [],
   "source": [
    "print sim.entropy"
   ]
  },
  {
   "cell_type": "code",
   "execution_count": null,
   "metadata": {},
   "outputs": [],
   "source": [
    "print -scipy.special.logsumexp(-(hist._dos_scores + hist.value), b=hist._dos*hist._dos_scores)"
   ]
  },
  {
   "cell_type": "code",
   "execution_count": null,
   "metadata": {},
   "outputs": [],
   "source": [
    "print hist.value"
   ]
  },
  {
   "cell_type": "code",
   "execution_count": null,
   "metadata": {},
   "outputs": [],
   "source": [
    "print hist._avg_energy"
   ]
  },
  {
   "cell_type": "code",
   "execution_count": null,
   "metadata": {},
   "outputs": [],
   "source": [
    "\n",
    "print sim.value - sim._avg_energy\n"
   ]
  },
  {
   "cell_type": "code",
   "execution_count": null,
   "metadata": {},
   "outputs": [],
   "source": [
    "clear sim"
   ]
  },
  {
   "cell_type": "code",
   "execution_count": null,
   "metadata": {},
   "outputs": [],
   "source": [
    "hist = SingleHistSimulation('./../recces_rosetta/results/gg_cc/ST')"
   ]
  },
  {
   "cell_type": "code",
   "execution_count": null,
   "metadata": {},
   "outputs": [],
   "source": [
    "plt.plot(hist._dos_scores[:-1], hist._dos[:-1]*np.exp(-hist._dos_scores[:-1]))"
   ]
  },
  {
   "cell_type": "code",
   "execution_count": null,
   "metadata": {},
   "outputs": [],
   "source": [
    "recces_options = protocols.recces.options.RECCES_Options()\n"
   ]
  },
  {
   "cell_type": "code",
   "execution_count": null,
   "metadata": {},
   "outputs": [],
   "source": [
    "recces_options.set_seq1('gg')\n",
    "recces_options.set_seq2('cc')"
   ]
  },
  {
   "cell_type": "code",
   "execution_count": null,
   "metadata": {},
   "outputs": [],
   "source": [
    "pose = protocols.recces.recces_pose_setup(recces_options)"
   ]
  },
  {
   "cell_type": "code",
   "execution_count": null,
   "metadata": {},
   "outputs": [],
   "source": [
    "print (1/3.)**len(w)"
   ]
  },
  {
   "cell_type": "code",
   "execution_count": null,
   "metadata": {},
   "outputs": [],
   "source": [
    "print E[260]"
   ]
  },
  {
   "cell_type": "code",
   "execution_count": null,
   "metadata": {},
   "outputs": [],
   "source": [
    "fuck = protocols.recces.pose_setup_turner('gg','cc')\n",
    "pmm = PyMOLMover()\n",
    "pmm.apply(fuck)"
   ]
  },
  {
   "cell_type": "code",
   "execution_count": null,
   "metadata": {},
   "outputs": [],
   "source": [
    "print pose.residue(1)"
   ]
  },
  {
   "cell_type": "code",
   "execution_count": null,
   "metadata": {},
   "outputs": [],
   "source": [
    "print pose.secstruct()\n",
    "pose = protocols.recces.pose_setup_turner('gg', '')\n",
    "print pose.secstruct()"
   ]
  },
  {
   "cell_type": "code",
   "execution_count": 2,
   "metadata": {},
   "outputs": [
    {
     "ename": "NameError",
     "evalue": "name 'fuck' is not defined",
     "output_type": "error",
     "traceback": [
      "\u001b[0;31m---------------------------------------------------------------------------\u001b[0m",
      "\u001b[0;31mNameError\u001b[0m                                 Traceback (most recent call last)",
      "\u001b[0;32m<ipython-input-2-e787510214f5>\u001b[0m in \u001b[0;36m<module>\u001b[0;34m()\u001b[0m\n\u001b[0;32m----> 1\u001b[0;31m \u001b[0;32mprint\u001b[0m \u001b[0mfuck\u001b[0m\u001b[0;34m\u001b[0m\u001b[0m\n\u001b[0m",
      "\u001b[0;31mNameError\u001b[0m: name 'fuck' is not defined"
     ]
    }
   ],
   "source": [
    "print fuck"
   ]
  },
  {
   "cell_type": "code",
   "execution_count": null,
   "metadata": {},
   "outputs": [],
   "source": []
  }
 ],
 "metadata": {
  "kernelspec": {
   "display_name": "Python 2",
   "language": "python",
   "name": "python2"
  },
  "language_info": {
   "codemirror_mode": {
    "name": "ipython",
    "version": 2
   },
   "file_extension": ".py",
   "mimetype": "text/x-python",
   "name": "python",
   "nbconvert_exporter": "python",
   "pygments_lexer": "ipython2",
   "version": "2.7.12"
  }
 },
 "nbformat": 4,
 "nbformat_minor": 2
}
