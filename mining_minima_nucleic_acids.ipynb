{
 "cells": [
  {
   "cell_type": "code",
   "execution_count": 28,
   "metadata": {},
   "outputs": [
    {
     "name": "stdout",
     "output_type": "stream",
     "text": [
      "Found rosetta database at: /usr/local/lib/python2.7/dist-packages/pyrosetta-2018.11+release.7c7790f-py2.7-linux-x86_64.egg/pyrosetta/database; using it....\n",
      "PyRosetta-4 2017 [Rosetta PyRosetta4.Release.python27.ubuntu 2018.11+release.7c7790f7c7790fbb898f8210b54513b9f9c8a927c3e8d7f 2018-03-14T13:19:04] retrieved from: http://www.pyrosetta.org\n",
      "(C) Copyright Rosetta Commons Member Institutions.\n",
      "Created in JHU by Sergey Lyskov and PyRosetta Team.\n",
      "\n",
      "\u001b[0mcore.init: \u001b[0mChecking for fconfig files in pwd and ./rosetta/flags\n",
      "\n",
      "\u001b[0mcore.init: \u001b[0mRosetta version: PyRosetta4.Release.python27.ubuntu r173 2018.11+release.7c7790f 7c7790fbb898f8210b54513b9f9c8a927c3e8d7f http://www.pyrosetta.org 2018-03-14T13:19:04\n",
      "\u001b[0mcore.init: \u001b[0mcommand: PyRosetta -ex1 -ex2aro -database /usr/local/lib/python2.7/dist-packages/pyrosetta-2018.11+release.7c7790f-py2.7-linux-x86_64.egg/pyrosetta/database\n",
      "\u001b[0mcore.init: \u001b[0m'RNG device' seed mode, using '/dev/urandom', seed=1785756406 seed_offset=0 real_seed=1785756406\n",
      "\u001b[0mcore.init.random: \u001b[0mRandomGenerator:init: Normal mode, seed=1785756406 RG_type=mt19937\n"
     ]
    }
   ],
   "source": [
    "from pyrosetta import *\n",
    "from pyrosetta.rosetta import *\n",
    "init()"
   ]
  },
  {
   "cell_type": "code",
   "execution_count": 29,
   "metadata": {},
   "outputs": [],
   "source": [
    "import math\n",
    "import random\n",
    "import numpy as np\n",
    "import scipy\n",
    "import matplotlib\n",
    "import matplotlib.pyplot as plt\n",
    "from pyrosetta.rosetta.protocols.moves import *\n",
    "from pyrosetta.rosetta.core.id import *"
   ]
  },
  {
   "cell_type": "code",
   "execution_count": 30,
   "metadata": {},
   "outputs": [],
   "source": [
    "def within_360(ang):\n",
    "    \n",
    "    return ang - 360.0*int(ang/360.0)"
   ]
  },
  {
   "cell_type": "code",
   "execution_count": 31,
   "metadata": {},
   "outputs": [],
   "source": [
    "def numpy_hessian(x, h):\n",
    "        \n",
    "    x_grad = np.gradient(x, h)\n",
    "    hessian = np.empty((x.ndim, x.ndim) + x.shape, dtype = x.dtype)\n",
    "    \n",
    "    for k, grad_k in enumerate(x_grad):\n",
    "        tmp_grad = np.gradient(grad_k, h)\n",
    "        for l, grad_kl in enumerate(tmp_grad):\n",
    "            hessian[k, l, :, :] = grad_kl\n",
    "            \n",
    "    return hessian"
   ]
  },
  {
   "cell_type": "code",
   "execution_count": 32,
   "metadata": {},
   "outputs": [],
   "source": [
    "def initialize_pose(seq1, seq2):\n",
    "    \n",
    "    n_residues = len(seq1) + len(seq2)\n",
    "    \n",
    "    dof_dict = {}\n",
    "    \n",
    "    pose = pyrosetta.rosetta.protocols.recces.pose_setup_turner(seq1, seq2)\n",
    "    movemap = MoveMap()\n",
    "    \n",
    "    for ii in range(n_residues-1):\n",
    "    \n",
    "        dof_dict.update({6*ii:TorsionID(ii+2, BB, 1), 6*ii+1:TorsionID(ii+2, BB, 2), 6*ii+2:TorsionID(ii+2, BB, 3),\n",
    "                 6*ii+3:TorsionID(ii+1, BB, 5), 6*ii+4:TorsionID(ii+1, BB, 6)})\n",
    "        \n",
    "        if seq2 and ii == (n_residues/2) - 1:\n",
    "            \n",
    "            continue\n",
    "        \n",
    "        movemap.set(TorsionID(ii+2, BB, 1), True)\n",
    "        movemap.set(TorsionID(ii+2, BB, 2), True)\n",
    "        movemap.set(TorsionID(ii+2, BB, 3), True)\n",
    "        movemap.set(TorsionID(ii+1, BB, 5), True)\n",
    "        movemap.set(TorsionID(ii+1, BB, 6), True)\n",
    "        \n",
    "    for ii in range(n_residues-1):\n",
    "        \n",
    "        dof_dict.update({6*ii+5:TorsionID(ii+1, CHI, 1)})\n",
    "        \n",
    "    dof_dict.update({6*(n_residues-1):TorsionID(n_residues, CHI, 1)})\n",
    "    \n",
    "    movemap.set_chi(True)\n",
    "        \n",
    "        \n",
    "        \n",
    "    return pose, movemap, dof_dict"
   ]
  },
  {
   "cell_type": "code",
   "execution_count": 33,
   "metadata": {},
   "outputs": [],
   "source": [
    "def find_minimum(pose, sf, movemap):\n",
    "    \n",
    "    \n",
    "    minimum = Pose()\n",
    "    minimum.assign(pose)\n",
    "    \n",
    "    n_residues = pose.total_residue()\n",
    "    \n",
    "    movemap = MoveMap()\n",
    "    for ii in range(n_residues-1):\n",
    "        \n",
    "        minimum.set_alpha(  ii+2, random.uniform(0, 360))\n",
    "        minimum.set_beta(   ii+2, random.uniform(0, 360))\n",
    "        minimum.set_gamma(  ii+2, random.uniform(0, 360))\n",
    "        minimum.set_epsilon(ii+1, random.uniform(0, 360))\n",
    "        minimum.set_zeta(   ii+1, random.uniform(0, 360))\n",
    "             \n",
    "    for ii in range(n_residues):\n",
    "        \n",
    "        pose.set_chi(ii+1, random.uniform(0, 360))\n",
    "\n",
    "    \n",
    "    minmover = rosetta.protocols.minimization_packing.MinMover(movemap, sf, 'dfpmin', 1e-5, True)\n",
    "    minmover.max_iter(100000)\n",
    "    minmover.apply(minimum)\n",
    "    \n",
    "    return minimum   "
   ]
  },
  {
   "cell_type": "code",
   "execution_count": 48,
   "metadata": {},
   "outputs": [],
   "source": [
    "def helix_state(pose, dof_dict):\n",
    "    \n",
    "    n_residues = pose.total_residue()\n",
    "    \n",
    "    # Definition of helix state backbone torsions\n",
    "    for ii in range(n_residues - 1):\n",
    "        \n",
    "        if ii == n_residues/2 - 1: continue\n",
    "        \n",
    "        pose.set_torsion(dof_dict[6*ii], -64)\n",
    "        pose.set_torsion(dof_dict[6*ii+1], 176)\n",
    "        pose.set_torsion(dof_dict[6*ii+2], 53)\n",
    "        pose.set_torsion(dof_dict[6*ii+3], -150)\n",
    "        pose.set_torsion(dof_dict[6*ii+4], -79)   \n",
    "       \n",
    "    # Definition of helix state chi torsions\n",
    "    for ii in range(n_residues-1): pose.set_torsion(dof_dict[6*ii+5], 79)\n",
    "    \n",
    "    return pose"
   ]
  },
  {
   "cell_type": "code",
   "execution_count": 35,
   "metadata": {},
   "outputs": [],
   "source": [
    "def mode_scan(pose, dofs, dof_dict, scorefxn, K, mode, kT = 1.0, h = 0.5):\n",
    "    \n",
    "    def botlzmann(x): return np.exp(-(scorefxn(x)-E_0)/kT)\n",
    "    \n",
    "    temp = Pose()\n",
    "    temp.assign(pose)\n",
    "    \n",
    "    E_0 = scorefxn(pose)\n",
    "    \n",
    "    inc = 0\n",
    "    result = 0\n",
    "    \n",
    "    max_inc = int(60/h)\n",
    "    \n",
    "    while inc < max_inc:\n",
    "        \n",
    "        inc += 1\n",
    "        result += 0.5*np.exp(-(scorefxn(temp)-E_0)/kT)\n",
    "        \n",
    "        dofs_new = dofs + (30.0)*(inc/max_inc)*h*mode\n",
    "        \n",
    "        for key, val in enumerate(dofs_new):\n",
    "\n",
    "            temp.set_torsion(dof_dict[key], val)\n",
    "           \n",
    "        result += 0.5*np.exp(-(scorefxn(temp)-E_0)/kT)\n",
    "    \n",
    "    # Reinitialize pose\n",
    "    temp.assign(pose)\n",
    "    inc = 0\n",
    "    \n",
    "    while inc < max_inc:\n",
    "        \n",
    "        inc += 1\n",
    "        \n",
    "        result += 0.5*np.exp(-(scorefxn(temp)-E_0)/kT)\n",
    "        for key, val in dof_dict.iteritems():\n",
    "            \n",
    "            temp.set_torsion(val, dofs[key] - 30.0*(inc/max_inc)*h*mode[key])\n",
    "            \n",
    "        result += 0.5*np.exp(-(scorefxn(temp)-E_0)/kT)\n",
    "        \n",
    "    result *= h\n",
    "    return result"
   ]
  },
  {
   "cell_type": "code",
   "execution_count": 36,
   "metadata": {},
   "outputs": [],
   "source": [
    "seq1 = 'agc'\n",
    "seq2 = 'gcu'\n",
    "\n",
    "n_residues = len(seq1) + len(seq2)\n",
    "\n",
    "pose, movemap, dof_dict = initialize_pose(seq1, seq2)\n",
    "\n",
    "scorefxn = core.scoring.ScoreFunctionFactory.create_score_function('rna/denovo/rna_hires')"
   ]
  },
  {
   "cell_type": "code",
   "execution_count": 37,
   "metadata": {},
   "outputs": [
    {
     "name": "stdout",
     "output_type": "stream",
     "text": [
      "{0: <pyrosetta.rosetta.core.id.TorsionID object at 0x7f9ad4b34810>, 1: <pyrosetta.rosetta.core.id.TorsionID object at 0x7f9ad4b340a0>, 2: <pyrosetta.rosetta.core.id.TorsionID object at 0x7f9ad4b348b8>, 3: <pyrosetta.rosetta.core.id.TorsionID object at 0x7f9ad4b34df8>, 4: <pyrosetta.rosetta.core.id.TorsionID object at 0x7f9ad4b34148>, 5: <pyrosetta.rosetta.core.id.TorsionID object at 0x7f9ad4b34f80>, 6: <pyrosetta.rosetta.core.id.TorsionID object at 0x7f9ad4b34110>, 7: <pyrosetta.rosetta.core.id.TorsionID object at 0x7f9ad4b347a0>, 8: <pyrosetta.rosetta.core.id.TorsionID object at 0x7f9ad4b34c38>, 9: <pyrosetta.rosetta.core.id.TorsionID object at 0x7f9ad4b34180>, 10: <pyrosetta.rosetta.core.id.TorsionID object at 0x7f9ad4b34d50>, 11: <pyrosetta.rosetta.core.id.TorsionID object at 0x7f9ad4b34fb8>, 12: <pyrosetta.rosetta.core.id.TorsionID object at 0x7f9ad4b347d8>, 13: <pyrosetta.rosetta.core.id.TorsionID object at 0x7f9ad4b345e0>, 14: <pyrosetta.rosetta.core.id.TorsionID object at 0x7f9ad4b34ea0>, 15: <pyrosetta.rosetta.core.id.TorsionID object at 0x7f9ad4b34bc8>, 16: <pyrosetta.rosetta.core.id.TorsionID object at 0x7f9ad4b34538>, 17: <pyrosetta.rosetta.core.id.TorsionID object at 0x7f9ad47e4030>, 18: <pyrosetta.rosetta.core.id.TorsionID object at 0x7f9ad4b34d88>, 19: <pyrosetta.rosetta.core.id.TorsionID object at 0x7f9ad4b34b58>, 20: <pyrosetta.rosetta.core.id.TorsionID object at 0x7f9ad4b34ca8>, 21: <pyrosetta.rosetta.core.id.TorsionID object at 0x7f9ad4b34dc0>, 22: <pyrosetta.rosetta.core.id.TorsionID object at 0x7f9ad4b34928>, 23: <pyrosetta.rosetta.core.id.TorsionID object at 0x7f9ad47e4068>, 24: <pyrosetta.rosetta.core.id.TorsionID object at 0x7f9ad4b34e68>, 25: <pyrosetta.rosetta.core.id.TorsionID object at 0x7f9ad4b34c00>, 26: <pyrosetta.rosetta.core.id.TorsionID object at 0x7f9ad4b34ed8>, 27: <pyrosetta.rosetta.core.id.TorsionID object at 0x7f9ad4b34f10>, 28: <pyrosetta.rosetta.core.id.TorsionID object at 0x7f9ad4b34f48>, 29: <pyrosetta.rosetta.core.id.TorsionID object at 0x7f9ad47e40a0>, 30: <pyrosetta.rosetta.core.id.TorsionID object at 0x7f9ad47e40d8>}\n"
     ]
    },
    {
     "data": {
      "text/plain": [
       "<pyrosetta.rosetta.core.pose.Pose at 0x7f9ae7766420>"
      ]
     },
     "execution_count": 37,
     "metadata": {},
     "output_type": "execute_result"
    }
   ],
   "source": [
    "#pose.assign(find_minimum(pose, scorefxn, movemap))\n",
    "minmover = rosetta.protocols.minimization_packing.MinMover(movemap, scorefxn, 'dfpmin', 1e-5, True)\n",
    "minmover.max_iter(10000)\n",
    "pmm = PyMOLMover()\n",
    "#pmm.apply(pose)\n",
    "print dof_dict\n",
    "#minmover.apply(pose)\n",
    "#pmm.apply(pose)\n",
    "minimum = Pose()\n",
    "minimum.assign(pose)"
   ]
  },
  {
   "cell_type": "code",
   "execution_count": 49,
   "metadata": {},
   "outputs": [
    {
     "name": "stdout",
     "output_type": "stream",
     "text": [
      "[-62.17765181668321, 173.75453316840472, 52.18250666833081, -141.46765563824405, -79.1571546064871, 64.8835892653793, -74.78340033864187, 189.14577539312117, 54.66392961089986, -157.07315212295256, -62.683659813213545, 73.32580349143218, 0.0, 176.33000000000004, 53.07999999999999, 0.0, 0.0, 83.51762549118695, -63.60240031274109, 171.2624623782231, 53.90989889798969, -138.80936543771946, -81.00366292864878, 63.473440050381036, -75.32151215224064, 189.71159166735376, 54.44737935160767, -157.57937221674547, -62.461290836224144, 74.49609685586155, 80.37156633224608]\n"
     ]
    },
    {
     "data": {
      "text/plain": [
       "<pyrosetta.rosetta.core.pose.Pose at 0x7f9ae73ab0d8>"
      ]
     },
     "execution_count": 49,
     "metadata": {},
     "output_type": "execute_result"
    }
   ],
   "source": [
    "import itertools\n",
    "\n",
    "trial = Pose()\n",
    "trial.assign(pose)\n",
    "\n",
    "pose = helix_state(pose, dof_dict)\n",
    "\n",
    "minmover.apply(pose)\n",
    "minimum.assign(pose)\n",
    "#pmm.apply(pose)\n",
    "h = 0.5\n",
    "h_rad = h*np.pi/180\n",
    "E_0 = scorefxn(pose)\n",
    "\n",
    "dofs = []\n",
    "\n",
    "for val in dof_dict.itervalues(): dofs.append(pose.torsion(val))\n",
    "print dofs\n",
    "\n",
    "hessian = np.zeros((len(dofs), len(dofs)))\n",
    "\n",
    "n_pts = int(4/h + 1)\n",
    "ind = int(n_pts/2)\n",
    "\n",
    "tor_ranges = np.zeros((n_pts, len(dofs)))\n",
    "energy = np.zeros((n_pts, n_pts))\n",
    "\n",
    "for ii, dof in enumerate(dofs):\n",
    "            \n",
    "    tor_ranges[:, ii] = dof + np.arange(-2, 2+h, h)\n",
    "    \n",
    "for pair in list(itertools.combinations(range(len(dofs)), 2)):\n",
    "    \n",
    "    x = tor_ranges[:, pair[0]]\n",
    "    y = tor_ranges[:, pair[1]]\n",
    "\n",
    "    for ii, xx in enumerate(x):\n",
    "        \n",
    "        if ii in range(6*(len(seq1)-1), 6*len(seq1)) and seq2:\n",
    "        \n",
    "            continue\n",
    "            \n",
    "        pose.set_torsion(dof_dict[pair[0]], xx)\n",
    "        \n",
    "        for jj, yy in enumerate(y):\n",
    "       \n",
    "            if ii in [6,7,8,9,10,11]:\n",
    "        \n",
    "                continue\n",
    "            \n",
    "            pose.set_torsion(dof_dict[pair[1]], yy)\n",
    "            \n",
    "            energy[ii, jj] = scorefxn(pose)\n",
    "\n",
    "            pose.set_torsion(dof_dict[pair[1]], dofs[pair[1]])\n",
    "            \n",
    "        pose.set_torsion(dof_dict[pair[0]], dofs[pair[0]])\n",
    "        \n",
    "    hess = numpy_hessian(energy, h)\n",
    "    \n",
    "    d2E_dx2 =  hess[0,0,:,:]\n",
    "    d2E_dy2 =  hess[1,1,:,:]\n",
    "    d2E_dxdy = hess[0,1,:,:]\n",
    "    \n",
    "    if hessian[pair[0], pair[0]] == 0:\n",
    "        \n",
    "        hessian[pair[0], pair[0]] = d2E_dx2[5,5]\n",
    "        \n",
    "    if hessian[pair[1], pair[1]] == 0:\n",
    "        \n",
    "        hessian[pair[1], [pair[1]]] = d2E_dy2[ind, ind]\n",
    "        \n",
    "    hessian[pair[0],pair[1]] = d2E_dxdy[ind, ind]\n",
    "    hessian[pair[1],pair[0]] = d2E_dxdy[ind, ind]\n",
    "    \n",
    "               \n",
    "               \n",
    "pmm.apply(pose)\n",
    "pose.assign(minimum)"
   ]
  },
  {
   "cell_type": "code",
   "execution_count": 50,
   "metadata": {},
   "outputs": [
    {
     "data": {
      "text/plain": [
       "<pyrosetta.rosetta.core.pose.Pose at 0x7f9ae7766420>"
      ]
     },
     "execution_count": 50,
     "metadata": {},
     "output_type": "execute_result"
    }
   ],
   "source": [
    "minimum.assign(pose)"
   ]
  },
  {
   "cell_type": "code",
   "execution_count": 51,
   "metadata": {},
   "outputs": [
    {
     "name": "stdout",
     "output_type": "stream",
     "text": [
      "-62.1776518167 -62.1776518167\n"
     ]
    }
   ],
   "source": [
    "import scipy\n",
    "import scipy.linalg\n",
    "print pose.torsion(TorsionID(2,BB,1)), pose.torsion(dof_dict[0])\n",
    "w,v = scipy.linalg.eigh(hessian)"
   ]
  },
  {
   "cell_type": "code",
   "execution_count": 52,
   "metadata": {
    "scrolled": true
   },
   "outputs": [
    {
     "name": "stdout",
     "output_type": "stream",
     "text": [
      "[ -4.55287038e-02  -1.57883668e-02  -4.38950002e-04   3.71065658e-04\n",
      "   1.74946531e-03   4.53938138e-03   5.59583717e-03   8.41223235e-03\n",
      "   1.37083866e-02   1.81940769e-02   1.89692540e-02   2.51587500e-02\n",
      "   3.38102723e-02   5.33945031e-02   6.17239747e-02   9.55422211e-02\n",
      "   1.30631428e-01   1.81046219e-01   3.20886528e-01   3.83945332e-01\n",
      "   7.61641031e-01   7.88984029e-01   2.14441105e+00   3.63303504e+00\n",
      "   6.95018721e+00   4.10814910e+01   4.18423996e+01   4.18440585e+01\n",
      "   4.18440585e+01   4.18440585e+01   4.18440585e+01] [[  2.30588969e-04   3.45288204e-04  -3.31171753e-05   1.24384978e-04\n",
      "    5.45304098e-05  -3.97527378e-04   2.30320764e-04  -5.38197550e-05\n",
      "    1.32949479e-04  -8.02550943e-06   3.82002393e-04  -1.02968025e-05\n",
      "   -7.31000072e-05  -4.74662462e-04   3.38446422e-04  -4.98919264e-04\n",
      "    1.18577664e-03   1.04963804e-03  -6.39865302e-04   2.29107303e-03\n",
      "    5.26983434e-03   1.43483534e-03   2.43540578e-02   1.72581544e-02\n",
      "   -1.99847496e-02   9.99335022e-01   0.00000000e+00   0.00000000e+00\n",
      "    0.00000000e+00   0.00000000e+00  -2.09278471e-40]\n",
      " [ -3.07064471e-01  -4.74427460e-01   1.36295453e-02  -5.49942637e-02\n",
      "   -6.40236525e-02   7.89616645e-02  -1.09061131e-01  -1.97195731e-02\n",
      "    1.28620778e-03   3.15241512e-02  -7.46224437e-03   7.99333738e-02\n",
      "    3.82026648e-02  -2.87375388e-01   1.13350500e-01  -1.36577579e-01\n",
      "    1.40777894e-01  -1.82694348e-01  -1.66965429e-01  -2.89254701e-01\n",
      "   -4.31162567e-02  -2.91943475e-01  -4.72467530e-01  -1.84703096e-01\n",
      "    1.49278068e-01   1.89813373e-02   1.32645581e-17   4.64809336e-17\n",
      "    3.51018627e-17   7.70112029e-17   6.59889959e-17]\n",
      " [  2.38009774e-01   3.13139956e-01  -1.45707039e-02   1.83401129e-03\n",
      "   -1.43215785e-02  -2.98839373e-02   3.47921019e-02  -1.17641089e-02\n",
      "   -6.46053407e-03   5.90088953e-02  -2.22669218e-02  -3.97912617e-02\n",
      "    2.37204975e-02   2.13989884e-01  -2.20373137e-01   2.58469455e-01\n",
      "   -4.36571202e-01  -2.73967243e-01   8.21143761e-02  -2.65024592e-01\n",
      "   -2.80314241e-01  -7.37900933e-02  -4.41421012e-01  -1.80792945e-01\n",
      "    1.43921451e-01   1.99409151e-02  -3.42522937e-18   7.73497573e-19\n",
      "   -7.58504313e-18  -6.40375471e-18  -1.60558861e-17]\n",
      " [  1.43562852e-01   4.01351887e-01  -3.78748334e-02   5.13022102e-02\n",
      "   -4.75048229e-02  -2.27314740e-01   4.22015422e-02  -7.73913397e-02\n",
      "    6.24656774e-02   1.20220872e-01   1.07577737e-01   7.06271208e-02\n",
      "    4.00871858e-02  -4.50557333e-01   9.12496184e-02  -1.02514183e-01\n",
      "    2.78795804e-01   2.43302373e-02  -1.36486720e-01   2.13360871e-01\n",
      "   -2.49473769e-01   8.66708042e-02  -2.91767520e-01  -1.79289450e-01\n",
      "   -4.05813536e-01   1.72738654e-03   1.33143990e-17   6.40920271e-17\n",
      "   -3.17028911e-17   1.32257656e-17   4.60761529e-17]\n",
      " [ -3.03062284e-01  -4.10984311e-01   7.38813053e-03  -4.44248290e-02\n",
      "   -8.66580565e-02   4.72722902e-02  -1.32449019e-01  -3.88831648e-02\n",
      "    3.44633943e-02  -8.18810538e-02   7.87058230e-03   2.90544388e-02\n",
      "   -3.74151444e-02   5.26013735e-02  -2.15378395e-01   2.09063503e-01\n",
      "   -2.57705768e-01  -4.42875252e-02   1.56189372e-01   3.07801559e-01\n",
      "   -3.66636720e-01   2.63071246e-01  -1.16012060e-02  -1.11725317e-01\n",
      "   -4.48971976e-01  -5.00276936e-03  -7.71632933e-18   4.48400589e-18\n",
      "    4.04745540e-17   1.07854615e-16   3.62033843e-17]\n",
      " [ -2.41417712e-01   5.01471203e-02   3.82352574e-02   9.98096179e-02\n",
      "    2.70460555e-01   1.96274302e-01   2.32486060e-01   1.07286265e-01\n",
      "   -1.04613284e-02   1.10630120e-01   2.16974308e-02  -3.87588458e-01\n",
      "   -4.12649451e-03   4.88781952e-01   3.65382940e-02  -5.67302675e-02\n",
      "    2.15934946e-01   3.14398239e-01  -1.63960511e-01   1.92181398e-02\n",
      "   -1.43934715e-02   9.30445202e-03  -3.61668284e-01  -3.33939659e-02\n",
      "   -1.97635282e-01   4.98928005e-03  -7.13691477e-17  -1.27353633e-16\n",
      "    5.56247882e-17  -1.60364340e-16  -1.62603293e-16]\n",
      " [ -2.36113173e-03   1.97284625e-02   7.23880099e-01   3.21586836e-02\n",
      "   -1.37405360e-01  -9.80841796e-02  -4.90695486e-02   6.23702643e-02\n",
      "    3.76171717e-02  -1.15228071e-01  -3.62662871e-02  -1.49011451e-01\n",
      "    2.35091403e-01  -1.95522349e-02   1.77610608e-01   2.19877492e-01\n",
      "    1.83889926e-01  -6.00658620e-02   3.66942535e-01  -5.59521575e-02\n",
      "    1.88886531e-01   1.69108615e-01  -1.04223663e-01  -1.25043013e-01\n",
      "   -5.26545863e-03   3.62415020e-03  -1.75253929e-16  -5.92580061e-17\n",
      "    1.62199070e-16   7.76212093e-17   6.07323325e-17]\n",
      " [ -7.14154227e-03  -3.91435586e-03  -2.60383795e-01   9.46630552e-02\n",
      "   -3.79770612e-01   1.54858109e-01   3.08388437e-01   2.86651551e-01\n",
      "    8.51549652e-02  -1.07419732e-02   9.10391138e-02   2.94992802e-01\n",
      "   -1.91143163e-01   1.01241424e-01  -2.75074446e-01  -3.27373799e-02\n",
      "    3.31550104e-01  -6.08362509e-02   3.08062610e-01  -1.08972261e-01\n",
      "    1.91729273e-01   2.28781740e-01  -1.07523728e-01  -1.73819949e-01\n",
      "    1.38614669e-02   4.75444772e-03   1.89890555e-16   9.51200897e-17\n",
      "   -6.76737204e-17   2.37381153e-16  -9.78948466e-17]\n",
      " [  1.48893598e-03  -1.49474596e-02  -4.64343536e-01  -9.77763662e-02\n",
      "    4.02907898e-01  -5.95682631e-02  -1.86991462e-01  -3.55467474e-01\n",
      "   -1.34917573e-01  -7.84165545e-02  -4.29795641e-02  -2.51235292e-02\n",
      "    1.44810188e-01   4.45339699e-02   1.92886566e-01   1.30067887e-01\n",
      "    1.65108247e-01  -1.19815966e-01   4.23964891e-01  -1.30664519e-04\n",
      "    2.38037969e-01   1.70849245e-01  -1.56035638e-01  -1.07324447e-01\n",
      "   -1.97623530e-02   4.00673345e-03   3.17291098e-17   2.08167479e-17\n",
      "   -3.38607373e-17  -1.72298782e-16   4.35124584e-17]\n",
      " [  6.11833047e-02   2.37564816e-02   3.22764374e-01  -5.26839798e-02\n",
      "    1.50672928e-01  -1.23936292e-02  -1.22456794e-01  -1.72785867e-01\n",
      "   -8.15597850e-02   1.54813425e-01   4.69226965e-02   3.27171104e-01\n",
      "   -3.98934886e-01   2.15130389e-01  -6.06279457e-02  -4.09590282e-01\n",
      "   -1.54322838e-01  -2.05182813e-01   6.75743868e-02   2.45200531e-01\n",
      "    3.17964643e-01  -7.55478318e-02  -2.08859614e-01   2.16306795e-02\n",
      "   -1.50986575e-01  -1.04278629e-04  -8.47650625e-17  -2.43956204e-17\n",
      "    5.34766755e-17  -4.23833779e-17  -5.64133529e-17]\n",
      " [  8.20474289e-02  -3.43601065e-02  -2.02388693e-01   3.10865920e-02\n",
      "   -2.02534932e-01   1.28757644e-01   2.62139359e-01   2.95277290e-01\n",
      "    4.78418682e-02  -1.52922650e-01  -9.61655089e-02  -1.38013670e-01\n",
      "    1.68820100e-01  -5.64283929e-02   4.33575628e-01  -2.96245375e-02\n",
      "   -3.55175459e-01  -2.25117156e-01   3.07774490e-02   3.30476156e-01\n",
      "    2.77466658e-01  -1.79585302e-01  -1.59088280e-01   7.78710661e-02\n",
      "   -1.85817817e-01  -2.61737730e-03   1.26410088e-16  -1.97642575e-17\n",
      "   -1.33574555e-16  -5.81555067e-17   2.93064671e-17]\n",
      " [ -6.12927893e-02  -3.46654999e-02   6.33816003e-03   7.55888686e-03\n",
      "    9.77273728e-02   8.98978522e-02   1.01365194e-01   1.00366705e-01\n",
      "   -2.45451798e-01   4.27897908e-01   1.98134333e-01  -4.80217839e-01\n",
      "    7.90831099e-02  -3.73355201e-01  -3.31414109e-01  -2.30190641e-01\n",
      "   -1.51798867e-01  -1.60483127e-01   2.15129913e-01  -4.22986788e-02\n",
      "    1.33273797e-01   1.12219391e-01   8.36011852e-02   3.24309605e-02\n",
      "   -3.02131228e-03  -3.11936339e-03  -9.27329419e-17  -1.81673016e-17\n",
      "    5.75280415e-17  -5.71142866e-17   3.92171773e-17]\n",
      " [ -5.55111512e-17   0.00000000e+00  -1.38777878e-17  -1.11022302e-16\n",
      "    1.45716772e-16   0.00000000e+00   8.32667268e-17  -1.90819582e-17\n",
      "    1.73472348e-18   4.33680869e-19  -2.77555756e-17   7.80625564e-18\n",
      "    9.71445147e-17  -5.55111512e-17   0.00000000e+00  -5.55111512e-17\n",
      "    1.11022302e-16  -5.55111512e-17  -2.77555756e-17   0.00000000e+00\n",
      "    0.00000000e+00   0.00000000e+00  -3.87740912e-22   6.78546596e-26\n",
      "    0.00000000e+00   0.00000000e+00   1.72372975e-12  -1.85505414e-02\n",
      "    2.11859044e-03  -1.58911435e-03  -9.99824416e-01]\n",
      " [  2.77555756e-17  -1.11022302e-16   2.16406754e-16   1.99493200e-16\n",
      "    3.98986399e-17  -2.77555756e-17   5.55111512e-17   9.02056208e-17\n",
      "    0.00000000e+00   3.64291930e-17   1.66533454e-16   8.67361738e-18\n",
      "    3.46944695e-17   1.38777878e-17  -2.77555756e-17   1.11022302e-16\n",
      "    0.00000000e+00  -2.77555756e-17  -6.93889390e-18  -4.33680869e-19\n",
      "    0.00000000e+00   0.00000000e+00  -1.08890573e-24   1.51461294e-28\n",
      "    0.00000000e+00   0.00000000e+00   1.25744807e-12  -2.04411761e-01\n",
      "   -7.53626215e-01  -6.24702484e-01   3.18860708e-03]\n",
      " [  0.00000000e+00   5.55111512e-17  -1.83880688e-16  -2.77555756e-17\n",
      "    0.00000000e+00   5.55111512e-17  -2.77555756e-17   7.63278329e-17\n",
      "    0.00000000e+00  -6.50521303e-19   2.77555756e-17   2.03830008e-17\n",
      "   -4.16333634e-17   0.00000000e+00  -2.77555756e-17   0.00000000e+00\n",
      "    0.00000000e+00   6.93889390e-18   0.00000000e+00   5.42101086e-20\n",
      "   -4.23516474e-22   0.00000000e+00   6.05845175e-28   0.00000000e+00\n",
      "    0.00000000e+00   0.00000000e+00   2.02144788e-11  -8.72316736e-01\n",
      "   -1.49116032e-01   4.65402010e-01   1.51291113e-02]\n",
      " [  3.46944695e-18   0.00000000e+00   9.02056208e-17   2.77555756e-17\n",
      "   -1.11022302e-16  -1.11022302e-16   1.11022302e-16   9.36750677e-17\n",
      "   -2.77555756e-17   2.60208521e-17   0.00000000e+00  -3.12250226e-17\n",
      "    0.00000000e+00  -2.77555756e-17  -5.55111512e-17   2.77555756e-17\n",
      "    0.00000000e+00   0.00000000e+00  -5.42101086e-20   0.00000000e+00\n",
      "   -5.95570041e-23   1.05879118e-22   0.00000000e+00   0.00000000e+00\n",
      "    0.00000000e+00   0.00000000e+00   1.31142169e-11  -4.43773840e-01\n",
      "    6.40162049e-01  -6.27012959e-01   1.05867403e-02]\n",
      " [  0.00000000e+00  -1.38777878e-17   1.24900090e-16   8.32667268e-17\n",
      "   -6.93889390e-17   2.77555756e-17  -1.90819582e-17   0.00000000e+00\n",
      "   -1.11022302e-16  -6.24500451e-17   5.55111512e-17   1.02348685e-16\n",
      "    5.55111512e-17  -1.11022302e-16  -1.11022302e-16   0.00000000e+00\n",
      "   -8.67361738e-19  -1.08420217e-19   6.77626358e-21   2.85873620e-21\n",
      "   -1.25111068e-22   2.57253171e-22   0.00000000e+00   0.00000000e+00\n",
      "    0.00000000e+00   0.00000000e+00   1.00000000e+00   2.37423613e-11\n",
      "   -4.43695081e-12  -3.96745817e-13   1.27478946e-12]\n",
      " [  7.27108895e-04  -2.40637520e-02   9.40159912e-02   3.25865545e-02\n",
      "   -2.83047617e-01   2.89481587e-01   4.73835254e-01  -6.90214045e-01\n",
      "   -2.71710008e-01   1.21398385e-02   1.39702832e-01   3.95059296e-02\n",
      "    6.52018276e-02   1.02623525e-02   8.24735672e-02   8.81418056e-02\n",
      "    1.74177283e-03  -3.50071003e-03  -2.81302551e-02   1.00062521e-02\n",
      "   -5.10915871e-02  -5.20939396e-02   5.36472450e-02   3.99751989e-02\n",
      "    4.49049947e-04  -1.68350357e-03  -1.48101745e-16  -3.32607453e-17\n",
      "    9.09081201e-17  -1.88915073e-17   3.72519239e-16]\n",
      " [  7.16185427e-02  -5.29925639e-02  -4.99665612e-02   6.96530903e-01\n",
      "   -8.80950166e-02  -4.24282709e-02  -2.45871087e-01  -4.72304687e-02\n",
      "   -9.39697800e-02  -7.36566604e-02   5.24537188e-02   2.60323438e-02\n",
      "    3.09617879e-01   1.33725882e-01  -2.14843674e-01  -1.22900204e-01\n",
      "    1.51121177e-01  -8.73480487e-02   1.50682925e-01   1.13113639e-01\n",
      "   -9.51866177e-02  -3.05450649e-01  -4.85898380e-02   2.57786541e-01\n",
      "   -4.81518242e-02  -3.49539308e-03   2.33988350e-17   8.66179110e-17\n",
      "    1.24790198e-16   7.68293704e-17  -2.41915616e-16]\n",
      " [ -1.21360581e-01   1.75828233e-01   9.12375974e-02  -2.19472477e-02\n",
      "    2.39959867e-01   2.78214381e-01   1.23982590e-01   1.18363900e-01\n",
      "   -9.59468538e-02  -3.48602886e-01  -1.17208360e-01  -6.79818425e-02\n",
      "   -3.76887502e-01  -2.00491840e-01   8.19066919e-02  -6.03793823e-02\n",
      "    1.61851604e-01  -1.85125836e-01   3.09704195e-01   8.23628610e-02\n",
      "   -4.05407099e-01  -1.01253722e-01  -2.34644735e-02   2.84547449e-01\n",
      "    1.42148924e-01   7.17376686e-04  -1.14168540e-16  -1.60871210e-16\n",
      "   -1.06809913e-16  -1.91080515e-16  -9.30239959e-17]\n",
      " [  5.87342100e-02  -3.92426405e-02  -3.58899354e-03  -6.20280317e-01\n",
      "   -6.88893786e-02  -1.76775666e-01   1.20019367e-01  -3.50874540e-03\n",
      "    1.75991491e-01   1.22279958e-03   1.23245171e-01  -3.41243658e-02\n",
      "    3.31516412e-01   2.05841646e-01  -2.39862170e-01  -1.15355707e-01\n",
      "    2.47069122e-01  -1.45028654e-01   1.28959428e-01   1.35867148e-01\n",
      "   -1.18737378e-01  -3.11143068e-01  -1.00589547e-02   2.42931363e-01\n",
      "   -4.67446436e-02  -4.12439412e-03   3.54286827e-17   5.17013708e-17\n",
      "    2.02180704e-17   3.20863598e-17   2.82998154e-16]\n",
      " [ -3.33834696e-02  -8.02564561e-02  -8.05144424e-02   4.19937274e-02\n",
      "   -2.20034193e-01  -3.07586697e-01   1.58331745e-02  -8.46814296e-02\n",
      "    7.01580388e-02   4.29981865e-01  -2.70675531e-01  -1.68706421e-01\n",
      "   -4.25202638e-01  -1.76287078e-02   1.12652875e-01   3.10042116e-01\n",
      "    6.61243892e-02   1.49606901e-01   2.61540960e-01  -2.93523148e-02\n",
      "    2.00952069e-02  -3.37716705e-01  -1.53885864e-02   1.76843897e-01\n",
      "   -1.01433491e-01  -4.24741145e-03   4.64695509e-18  -7.53831978e-17\n",
      "   -4.92295156e-17   2.11057101e-16  -8.79202966e-17]\n",
      " [ -1.57854141e-01   1.87773429e-01   2.96627982e-02  -7.44637147e-02\n",
      "    1.16035218e-01   1.42118576e-01  -3.67084138e-02  -6.11615333e-03\n",
      "    4.47294438e-03  -3.09242172e-01   1.60626436e-01   1.06411952e-01\n",
      "   -8.69949471e-03  -2.75362663e-01  -3.47128435e-01   2.95369825e-01\n",
      "   -1.37159298e-01   3.36379799e-01   2.98951708e-02  -1.05446933e-01\n",
      "    3.66300649e-01  -3.55853158e-01  -1.00918816e-01   6.17284958e-02\n",
      "   -2.51260148e-01  -4.87135057e-03  -5.67770125e-17   1.82840433e-17\n",
      "   -1.68364499e-17  -5.66289530e-17   9.27755895e-17]\n",
      " [  1.29912744e-02  -1.09470802e-02   5.77091553e-02   3.37990672e-02\n",
      "    2.51992765e-01   3.17017578e-01  -2.76837228e-02   2.05236201e-01\n",
      "    1.05214041e-01   4.66023671e-01   4.22356392e-01   3.64839817e-01\n",
      "    1.25031736e-01   1.11539759e-02   2.67777920e-01   3.26746403e-01\n",
      "    2.68388410e-02  -5.17124773e-02   9.29349670e-02   4.17182435e-02\n",
      "   -1.16067345e-01  -1.10828969e-01   9.69328624e-02   7.38085345e-02\n",
      "    2.29797541e-03  -2.78622974e-03   1.46108326e-16   2.39344735e-16\n",
      "    1.93623069e-16   1.29327411e-16  -6.58959634e-17]\n",
      " [ -1.26772346e-02   2.24092512e-01  -4.22823975e-02  -1.72869939e-01\n",
      "   -2.93412167e-01   4.26260707e-01  -4.46216733e-01  -5.08944194e-03\n",
      "   -1.20316762e-01   1.11129753e-01  -2.04464305e-01  -9.37656062e-02\n",
      "   -1.54760814e-03   6.79843966e-02   9.17301597e-03   9.91919268e-02\n",
      "    1.73502461e-01  -2.64371537e-01  -2.17257270e-01  -1.86270577e-01\n",
      "    9.13748770e-02   1.35496250e-01   1.40449992e-03   2.72701233e-01\n",
      "   -2.75648428e-01  -1.01663252e-02   5.04153620e-17   1.50095750e-17\n",
      "   -7.56151494e-17   3.07127156e-17  -1.39236763e-16]\n",
      " [ -2.96647436e-02  -8.38908660e-02  -4.55243231e-02   4.93322504e-02\n",
      "   -8.42145545e-02  -2.57487837e-01  -1.16150635e-02  -6.72175847e-02\n",
      "    1.80269319e-01  -1.51622726e-01   5.24433535e-01  -9.86345237e-02\n",
      "   -1.67932000e-01  -3.09235835e-03   1.35792945e-01   2.27100446e-02\n",
      "   -9.90527426e-02  -2.85040027e-02  -6.71901635e-02  -2.06510493e-01\n",
      "    4.50353570e-02   3.27072144e-01  -2.34863989e-01   5.47723033e-01\n",
      "    1.23414459e-02  -3.96335608e-03   2.29561239e-17  -4.06008336e-17\n",
      "    5.58907088e-17   1.27132329e-16  -8.82945179e-17]\n",
      " [ -9.09151484e-02  -8.16636084e-02   7.26910858e-02   1.21957013e-01\n",
      "    3.23246954e-01  -2.57243197e-01   4.04477646e-01   7.75765491e-02\n",
      "   -9.75694276e-02   1.95358168e-02  -3.01717879e-01   2.32353005e-01\n",
      "    1.09418772e-01  -1.35685130e-02  -8.31615854e-02   1.22338451e-01\n",
      "    4.68756820e-02  -3.52194328e-01  -1.78438471e-01  -3.14966278e-01\n",
      "    6.37229720e-02   7.45173860e-02   1.21130930e-01   2.00971039e-01\n",
      "   -3.36965206e-01  -1.26331424e-02  -4.19744893e-17   4.05778541e-17\n",
      "    3.82728686e-17  -3.76921843e-17   8.55057628e-17]\n",
      " [ -3.57063052e-01   2.40397681e-01  -3.02951515e-02  -5.80721697e-02\n",
      "   -1.35755982e-01  -3.47994206e-02  -2.09237393e-02   9.58171997e-03\n",
      "   -3.02794222e-02   9.34859325e-02  -1.10746058e-01   2.32437467e-01\n",
      "    2.33242623e-01   4.77602369e-02   2.20266378e-01  -4.08746728e-01\n",
      "   -2.72424624e-01   2.93917321e-01   3.35410826e-01  -3.39963005e-01\n",
      "   -1.58718589e-01   2.68209756e-02   3.55249370e-02   9.57307189e-02\n",
      "   -1.30400702e-01  -3.50453807e-03   1.03055292e-16   8.85425364e-17\n",
      "   -1.24391782e-16  -1.62199572e-16   9.90923512e-17]\n",
      " [  5.23802261e-01  -2.53780224e-01   1.44311205e-02  -2.00675711e-02\n",
      "    5.64801599e-02   1.18210252e-01  -2.96885271e-02   2.77709761e-02\n",
      "    1.21889514e-02  -1.61605575e-01   1.74091948e-01  -1.50225065e-01\n",
      "   -1.50002450e-01   5.60387453e-02   1.37588623e-01  -1.81685330e-01\n",
      "    1.91882097e-02   5.71839002e-02   1.36423135e-01  -4.11259921e-01\n",
      "   -1.20938126e-01  -1.69038929e-01   1.77184178e-01  -1.90644816e-01\n",
      "   -4.27423713e-01  -7.91606888e-03  -2.89227762e-17  -8.75094771e-17\n",
      "    3.86424922e-17  -2.95441756e-18  -2.42522151e-17]\n",
      " [  2.65870690e-03   2.03332646e-02   2.06170868e-02   1.43630893e-01\n",
      "    1.19602086e-01   2.65735298e-01   5.87120708e-02  -2.91085254e-01\n",
      "    8.30656009e-01   7.29849049e-02  -2.02551294e-01  -8.90400501e-02\n",
      "    4.71154425e-02  -1.07055425e-01  -1.01458397e-01  -1.17279270e-01\n",
      "   -5.33170248e-02  -8.31700977e-02   5.35191614e-02  -4.64182387e-02\n",
      "    6.01017684e-02   5.39104248e-02   3.91952233e-02   2.42401491e-02\n",
      "   -1.68340070e-03  -1.57038261e-03  -1.31225704e-16  -6.69812206e-17\n",
      "    4.17916116e-17  -1.43338874e-16   1.34714436e-16]\n",
      " [ -4.50940351e-01   2.76740714e-01  -5.47233841e-02   8.69301632e-02\n",
      "   -6.99145819e-02  -1.70134426e-01  -4.82789149e-02  -5.28495472e-02\n",
      "    1.10930148e-01  -1.06964248e-01   3.24143866e-01  -1.77387998e-01\n",
      "   -1.42865115e-01   1.64191586e-01   1.06511598e-01   4.66044246e-03\n",
      "    3.58557305e-02  -3.96852320e-01  -5.35986607e-02  -6.36490102e-02\n",
      "    4.09255846e-02  -2.29577532e-01   3.35907595e-01  -3.35838162e-01\n",
      "   -7.63175544e-02  -3.48020150e-03   1.17625113e-17  -7.05259739e-17\n",
      "   -1.12595703e-17   1.76769879e-17  -2.40365504e-16]]\n"
     ]
    }
   ],
   "source": [
    "print w, v\n",
    "pmm.apply(pose)"
   ]
  },
  {
   "cell_type": "code",
   "execution_count": 53,
   "metadata": {
    "scrolled": false
   },
   "outputs": [
    {
     "data": {
      "image/png": "[encoded data removed]",
      "text/plain": [
       "<Figure size 432x288 with 1 Axes>"
      ]
     },
     "metadata": {},
     "output_type": "display_data"
    },
    {
     "data": {
      "image/png": "[encoded data removed]",
      "text/plain": [
       "<Figure size 432x288 with 1 Axes>"
      ]
     },
     "metadata": {},
     "output_type": "display_data"
    },
    {
     "data": {
      "image/png": "[encoded data removed]",
      "text/plain": [
       "<Figure size 432x288 with 1 Axes>"
      ]
     },
     "metadata": {},
     "output_type": "display_data"
    },
    {
     "data": {
      "image/png": "[encoded data removed]",
      "text/plain": [
       "<Figure size 432x288 with 1 Axes>"
      ]
     },
     "metadata": {},
     "output_type": "display_data"
    },
    {
     "data": {
      "image/png": "[encoded data removed]",
      "text/plain": [
       "<Figure size 432x288 with 1 Axes>"
      ]
     },
     "metadata": {},
     "output_type": "display_data"
    },
    {
     "data": {
      "image/png": "[encoded data removed]",
      "text/plain": [
       "<Figure size 432x288 with 1 Axes>"
      ]
     },
     "metadata": {},
     "output_type": "display_data"
    },
    {
     "data": {
      "image/png": "[encoded data removed]",
      "text/plain": [
       "<Figure size 432x288 with 1 Axes>"
      ]
     },
     "metadata": {},
     "output_type": "display_data"
    },
    {
     "data": {
      "image/png": "[encoded data removed]",
      "text/plain": [
       "<Figure size 432x288 with 1 Axes>"
      ]
     },
     "metadata": {},
     "output_type": "display_data"
    },
    {
     "data": {
      "image/png": "[encoded data removed]",
      "text/plain": [
       "<Figure size 432x288 with 1 Axes>"
      ]
     },
     "metadata": {},
     "output_type": "display_data"
    },
    {
     "data": {
      "image/png": "[encoded data removed]",
      "text/plain": [
       "<Figure size 432x288 with 1 Axes>"
      ]
     },
     "metadata": {},
     "output_type": "display_data"
    }
   ],
   "source": [
    "pose.assign(minimum)\n",
    "\n",
    "for kk in range(20, 30):\n",
    "    \n",
    "        \n",
    "    K = w[kk]\n",
    "    \n",
    "    if K < 0: continue \n",
    "    mode = v[:,kk]\n",
    "    observer = AddPyMOLObserver(pose, True)\n",
    "    h = np.arange(-60,60,1)\n",
    "    h_plot = h*np.pi/180\n",
    "    #h = np.concatenate((np.append(h, 15), h[: :-1]))\n",
    "\n",
    "    bar = []\n",
    "\n",
    "\n",
    "    for hh in h:\n",
    "\n",
    "        dofs_new = dofs+hh*mode\n",
    "\n",
    "        for jj, dof in enumerate(dofs_new):\n",
    "\n",
    "            pose.set_torsion(dof_dict[jj], dof)\n",
    "\n",
    "        bar.append(np.exp(-(scorefxn(pose)-E_0)))\n",
    "        #print E_0, scorefxn(pose)\n",
    "\n",
    "    np.array(bar) \n",
    "    pose.assign(trial)\n",
    "    plt.figure()\n",
    "    plt.plot(h, bar)\n",
    "    plt.plot(h, np.exp(-0.5*K*h**2))\n",
    "    plt.xlabel('displacement from min (degrees)')\n",
    "    plt.ylabel('$E-E_0$')"
   ]
  },
  {
   "cell_type": "code",
   "execution_count": 54,
   "metadata": {
    "scrolled": true
   },
   "outputs": [
    {
     "name": "stdout",
     "output_type": "stream",
     "text": [
      "2.09425306953 2.08690776507\n",
      "2.09372561105 2.0784593222\n",
      "2.09265875326 2.07789550943\n",
      "2.09225502235 2.07819535571\n",
      "2.09117940521 2.07705161502\n",
      "2.08915943219 2.07695648366\n",
      "2.0874513215 2.07697820246\n",
      "2.08715639611 2.07712250711\n",
      "2.08480422066 2.07694909426\n",
      "2.0815244118 2.07696157187\n",
      "2.07413430457 2.07694237337\n",
      "2.07100553803 2.07694180972\n",
      "2.05838984334 2.07694180972\n",
      "2.04544666852 2.07694180972\n",
      "2.02710783991 2.07694180972\n",
      "1.97778283173 2.07694180972\n",
      "1.95625867479 2.07694180972\n",
      "1.83601474871 2.07694180972\n",
      "1.82785343647 2.07694180972\n",
      "1.49750290802 2.07694180972\n",
      "1.2546836823 2.07694180972\n",
      "0.945322290664 2.07694180972\n",
      "0.390025267519 2.07694180972\n",
      "0.386462670446 2.09439510224\n",
      "0.386455010114 2.09439510224\n",
      "0.386455010114 2.09439510224\n",
      "0.386455010114 2.09439510224\n",
      "0.386455010114 2.09439510224\n"
     ]
    }
   ],
   "source": [
    "from scipy.special import *\n",
    "\n",
    "pose.assign(minimum)\n",
    "Z_harm = 1\n",
    "Z_scan = 1\n",
    "for ii, kk in enumerate(w):\n",
    "    \n",
    "    K = kk\n",
    "    \n",
    "    if kk < 0: \n",
    "        \n",
    "        continue \n",
    "    \n",
    "    sig = min(2*np.pi/3, 6*np.sqrt(1.0/K))\n",
    "    Z_i = np.sqrt(2.0*np.pi/K)*erf(np.sqrt(2.0*K)*sig/4.0)\n",
    "    Z_j = mode_scan(pose, dofs, dof_dict, scorefxn, 1, v[:,ii], h = 1)\n",
    "    Z_j *= np.pi/180\n",
    "    Z_harm *= Z_i\n",
    "    Z_scan *= Z_j\n",
    "    pose.assign(minimum)\n",
    "    print Z_i, Z_j"
   ]
  },
  {
   "cell_type": "code",
   "execution_count": 55,
   "metadata": {},
   "outputs": [
    {
     "name": "stdout",
     "output_type": "stream",
     "text": [
      "-5.18551719266 -12.6432096543\n"
     ]
    }
   ],
   "source": [
    "print -np.log(Z_harm)*0.61633, -np.log(Z_scan)*0.61633\n"
   ]
  },
  {
   "cell_type": "code",
   "execution_count": 56,
   "metadata": {},
   "outputs": [],
   "source": [
    "def test_mode(x): return np.exp(-0.5*w[8]*180/np.pi*x**2)"
   ]
  },
  {
   "cell_type": "code",
   "execution_count": null,
   "metadata": {},
   "outputs": [],
   "source": [
    "scipy.integrate.quad(test_mode, -np.pi/6, np.pi/6)"
   ]
  },
  {
   "cell_type": "code",
   "execution_count": null,
   "metadata": {},
   "outputs": [],
   "source": []
  }
 ],
 "metadata": {
  "kernelspec": {
   "display_name": "Python 2",
   "language": "python",
   "name": "python2"
  },
  "language_info": {
   "codemirror_mode": {
    "name": "ipython",
    "version": 2
   },
   "file_extension": ".py",
   "mimetype": "text/x-python",
   "name": "python",
   "nbconvert_exporter": "python",
   "pygments_lexer": "ipython2",
   "version": "2.7.12"
  }
 },
 "nbformat": 4,
 "nbformat_minor": 2
}
